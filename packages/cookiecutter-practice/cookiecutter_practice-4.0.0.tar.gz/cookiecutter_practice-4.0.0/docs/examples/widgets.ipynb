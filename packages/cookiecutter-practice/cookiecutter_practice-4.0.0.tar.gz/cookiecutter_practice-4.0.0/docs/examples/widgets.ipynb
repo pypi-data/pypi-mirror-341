{
 "cells": [
  {
   "cell_type": "markdown",
   "id": "8ca91e30",
   "metadata": {},
   "source": [
    "# Adding Widgets to Your Map\n",
    "\n",
    "This guide will be showing you examples on how to add a dropdown GUI to your map for selecting the basemap.\n",
    "\n",
    "[![Open In Colab](https://colab.research.google.com/assets/colab-badge.svg)](https://colab.research.google.com/github/marts-dev/cookiecutter-practice/blob/main/docs/examples/widgets.ipynb)"
   ]
  },
  {
   "cell_type": "markdown",
   "id": "11683df2",
   "metadata": {},
   "source": [
    "## Using the LeafMap Module"
   ]
  },
  {
   "cell_type": "markdown",
   "id": "d23472c8",
   "metadata": {},
   "source": [
    "We first create an instance of our LeafMap Map."
   ]
  },
  {
   "cell_type": "code",
   "execution_count": 2,
   "id": "4c93cc50",
   "metadata": {},
   "outputs": [],
   "source": [
    "from cookiecutter_practice import LeafMap\n",
    "m = LeafMap.Map()"
   ]
  },
  {
   "cell_type": "markdown",
   "id": "ddf735b1",
   "metadata": {},
   "source": [
    "Let us first view the default appearance of our map."
   ]
  },
  {
   "cell_type": "code",
   "execution_count": 3,
   "id": "88e1dc8e",
   "metadata": {},
   "outputs": [
    {
     "data": {
      "application/vnd.jupyter.widget-view+json": {
       "model_id": "41f81d0c348b4376ac75050f51a46f5f",
       "version_major": 2,
       "version_minor": 0
      },
      "text/plain": [
       "Map(center=[20, 0], controls=(ZoomControl(options=['position', 'zoom_in_text', 'zoom_in_title', 'zoom_out_text…"
      ]
     },
     "execution_count": 3,
     "metadata": {},
     "output_type": "execute_result"
    }
   ],
   "source": [
    "m"
   ]
  },
  {
   "cell_type": "markdown",
   "id": "cbd7a290",
   "metadata": {},
   "source": [
    "## Adding the Basemap GUI\n",
    "We will now add the GUI for selecting the basemap to use in our map."
   ]
  },
  {
   "cell_type": "code",
   "execution_count": null,
   "id": "a7613892",
   "metadata": {},
   "outputs": [
    {
     "data": {
      "application/vnd.jupyter.widget-view+json": {
       "model_id": "41f81d0c348b4376ac75050f51a46f5f",
       "version_major": 2,
       "version_minor": 0
      },
      "text/plain": [
       "Map(bottom=754.0, center=[20, 0], controls=(ZoomControl(options=['position', 'zoom_in_text', 'zoom_in_title', …"
      ]
     },
     "execution_count": 4,
     "metadata": {},
     "output_type": "execute_result"
    }
   ],
   "source": [
    "m.add_basemap_gui()\n",
    "# The rendered map should now show a dropdown menu with a list of basemaps to choose from. Beside it is a button to toggle its display.\n",
    "m"
   ]
  },
  {
   "cell_type": "markdown",
   "id": "2829ce30",
   "metadata": {},
   "source": [
    "## Using the FoliumMap Module\n",
    "We first create an instance of FoliumMap Map."
   ]
  },
  {
   "cell_type": "code",
   "execution_count": 1,
   "id": "5a98864c",
   "metadata": {},
   "outputs": [],
   "source": [
    "from cookiecutter_practice import FoliumMap\n",
    "f = FoliumMap.Map()"
   ]
  },
  {
   "cell_type": "markdown",
   "id": "12ccdde0",
   "metadata": {},
   "source": [
    "We then need to add the basemaps to choose from. By default, the map instance we created has OpenStreetMap included as basemap."
   ]
  },
  {
   "cell_type": "code",
   "execution_count": 2,
   "id": "15a08280",
   "metadata": {},
   "outputs": [
    {
     "data": {
      "text/plain": [
       "'CartoDB.Positron'"
      ]
     },
     "metadata": {},
     "output_type": "display_data"
    },
    {
     "data": {
      "text/plain": [
       "'Esri.WorldImagery'"
      ]
     },
     "metadata": {},
     "output_type": "display_data"
    },
    {
     "data": {
      "text/plain": [
       "'OpenTopoMap'"
      ]
     },
     "metadata": {},
     "output_type": "display_data"
    }
   ],
   "source": [
    "f.add_basemap('CartoDB.Positron')\n",
    "f.add_basemap('Esri.WorldImagery')\n",
    "f.add_basemap('OpenTopoMap')"
   ]
  },
  {
   "cell_type": "markdown",
   "id": "e2ece789",
   "metadata": {},
   "source": [
    "## Adding the Basemap GUI\n",
    "Since FoliumMap does not natively support dynamic updates programmatically after rendering its map, the `add_basemap_gui` function will be rendering the map containing the GUI.\n",
    ">Note: You may also use `add_layer_control` which has the same functionality"
   ]
  },
  {
   "cell_type": "code",
   "execution_count": null,
   "id": "d2195f80",
   "metadata": {},
   "outputs": [
    {
     "data": {
      "application/vnd.jupyter.widget-view+json": {
       "model_id": "1f349a946afd4c99b06c80fc00b18e48",
       "version_major": 2,
       "version_minor": 0
      },
      "text/plain": [
       "HBox(children=(Dropdown(description='Basemaps:', index=3, layout=Layout(display='block', width='auto'), option…"
      ]
     },
     "metadata": {},
     "output_type": "display_data"
    },
    {
     "data": {
      "application/vnd.jupyter.widget-view+json": {
       "model_id": "871a3e0623a748baa52e529ac4317569",
       "version_major": 2,
       "version_minor": 0
      },
      "text/plain": [
       "Output()"
      ]
     },
     "metadata": {},
     "output_type": "display_data"
    }
   ],
   "source": [
    "f.add_basemap_gui()"
   ]
  }
 ],
 "metadata": {
  "kernelspec": {
   "display_name": "geo",
   "language": "python",
   "name": "python3"
  },
  "language_info": {
   "codemirror_mode": {
    "name": "ipython",
    "version": 3
   },
   "file_extension": ".py",
   "mimetype": "text/x-python",
   "name": "python",
   "nbconvert_exporter": "python",
   "pygments_lexer": "ipython3",
   "version": "3.12.9"
  }
 },
 "nbformat": 4,
 "nbformat_minor": 5
}
