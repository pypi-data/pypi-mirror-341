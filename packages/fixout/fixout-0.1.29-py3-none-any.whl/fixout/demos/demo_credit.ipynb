{
 "cells": [
  {
   "cell_type": "code",
   "execution_count": null,
   "metadata": {},
   "outputs": [],
   "source": [
    "from demo_data import importGermanData\n",
    "\n",
    "from fixout import FixOutArtifact\n",
    "from fixout import FixOutRunner\n",
    "\n",
    "model, X_train, X_test, y_train, y_test, features_name, dic = importGermanData()\n"
   ]
  },
  {
   "cell_type": "code",
   "execution_count": 2,
   "metadata": {},
   "outputs": [],
   "source": [
    "fxo = FixOutRunner(\"Credit Risk Assessment (German bank)\") \n",
    "\n",
    "sensitive_features = [(19,0,\"foreignworker\"), \n",
    "                        (8,2,\"statussex\")] # (no), (yes), (male single) \n",
    "\n",
    "fxa = FixOutArtifact(model=model,\n",
    "                    training_data=(X_train,y_train), \n",
    "                    testing_data=[(X_test,y_test,\"Testing\")],\n",
    "                    features_name=features_name,\n",
    "                    sensitive_features=sensitive_features,\n",
    "                    dictionary=dic)\n",
    "\n",
    "fxo.runJ(fxa, show=False) "
   ]
  },
  {
   "cell_type": "code",
   "execution_count": 3,
   "metadata": {},
   "outputs": [
    {
     "data": {
      "text/html": [
       "\n",
       "        <iframe\n",
       "            width=\"1200\"\n",
       "            height=\"800\"\n",
       "            src=\"http://localhost:5000/\"\n",
       "            frameborder=\"0\"\n",
       "            allowfullscreen\n",
       "            \n",
       "        ></iframe>\n",
       "        "
      ],
      "text/plain": [
       "<IPython.lib.display.IFrame at 0x210048a1100>"
      ]
     },
     "execution_count": 3,
     "metadata": {},
     "output_type": "execute_result"
    }
   ],
   "source": [
    "fxo.show()"
   ]
  },
  {
   "cell_type": "code",
   "execution_count": null,
   "metadata": {},
   "outputs": [],
   "source": [
    "fxo.data_distribution()"
   ]
  },
  {
   "cell_type": "code",
   "execution_count": null,
   "metadata": {},
   "outputs": [],
   "source": [
    "fxo.data_distribution(\"Testing\")"
   ]
  },
  {
   "cell_type": "code",
   "execution_count": null,
   "metadata": {},
   "outputs": [],
   "source": [
    "fxo.fairness()"
   ]
  }
 ],
 "metadata": {
  "kernelspec": {
   "display_name": "Python 3",
   "language": "python",
   "name": "python3"
  },
  "language_info": {
   "codemirror_mode": {
    "name": "ipython",
    "version": 3
   },
   "file_extension": ".py",
   "mimetype": "text/x-python",
   "name": "python",
   "nbconvert_exporter": "python",
   "pygments_lexer": "ipython3",
   "version": "3.12.9"
  }
 },
 "nbformat": 4,
 "nbformat_minor": 2
}
