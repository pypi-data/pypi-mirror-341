{
 "cells": [
  {
   "cell_type": "code",
   "execution_count": null,
   "id": "142adfce-1c93-475a-a465-0f344cbc6b93",
   "metadata": {},
   "outputs": [],
   "source": [
    "import numpy as np\n",
    "import pandas as pd\n",
    "import matplotlib.pyplot as plt\n",
    "from sklearn.metrics import mean_squared_error\n",
    "from pandas.plotting import autocorrelation_plot\n",
    "from statsmodels.graphics.tsaplots import plot_acf, plot_pacf\n",
    "import statsmodels.api as sm\n",
    "from statsmodels.tsa.arima_model import ARIMA\n",
    "import warnings\n",
    "warnings.filterwarnings('ignore')"
   ]
  },
  {
   "cell_type": "code",
   "execution_count": null,
   "id": "b10b8b58-6c78-442e-b712-67b16f228f15",
   "metadata": {},
   "outputs": [],
   "source": [
    "df = pd.read_csv('monthly-sunspots.csv', parse_dates=[0])\n",
    "df.head(10)"
   ]
  },
  {
   "cell_type": "code",
   "execution_count": null,
   "id": "3b123997-e868-4998-bbb6-9031ea8ab39f",
   "metadata": {},
   "outputs": [],
   "source": [
    "plt.figure(figsize=(10,8))\n",
    "plt.plot(df['Month'], df['Sunspots'], color = 'green', label = 'Sunspot Numbers')\n",
    "plt.xlabel('Date')\n",
    "plt.ylabel('Sunspot Numbers')\n",
    "plt.grid()\n",
    "plt.title('Monthly Mean Sunspot Numbers')\n",
    "plt.show()"
   ]
  },
  {
   "cell_type": "code",
   "execution_count": null,
   "id": "9c56e5d1-a019-457b-8313-c5f71b378a5a",
   "metadata": {},
   "outputs": [],
   "source": [
    "df.describe().T"
   ]
  },
  {
   "cell_type": "code",
   "execution_count": null,
   "id": "94752ac3-fb85-41c1-94dc-f1a05b0baf75",
   "metadata": {},
   "outputs": [],
   "source": [
    "df['Month'] = pd.to_datetime(df['Month'])\n",
    "data_new = df.set_index(df['Month'])\n",
    "data_new = data_new.drop(labels = ['Month'], axis = 1)\n",
    "data_new.head()"
   ]
  },
  {
   "cell_type": "code",
   "execution_count": null,
   "id": "b02c91b4-f7ee-4ce5-b707-6bf2604bed55",
   "metadata": {},
   "outputs": [],
   "source": [
    "fig = plt.figure(figsize=(10,8))\n",
    "data_new['Sunspots'].plot(style = 'k.')"
   ]
  },
  {
   "cell_type": "code",
   "execution_count": null,
   "id": "dca190cd-41b8-44d5-8ed2-190c87b04fb9",
   "metadata": {},
   "outputs": [],
   "source": [
    "data_q = data_new.resample('q').mean()\n",
    "data_q.head()"
   ]
  },
  {
   "cell_type": "code",
   "execution_count": null,
   "id": "1f944805-6b99-4854-a7c2-53bf2a6de1c2",
   "metadata": {},
   "outputs": [],
   "source": [
    "def adfuller_test(data):\n",
    "    result = adfuller(data)\n",
    "    labels = ['ADF Test Statistic' 'P-value', 'Lags Used', 'Number of Observation Used']\n",
    "    for value, label in zip(result, labels):\n",
    "        print(label+\": \"+str(value))\n",
    "    if result[1] <= 0.05:\n",
    "        print(\"Strong evidencew against the null hypothesis(h0), reject the null hypothesis. Data has no unit root and is stationary\")\n",
    "    else:\n",
    "        print(\"Weak evidence against null hypothesis, time series has a unit root, indicating it is non-stationary\")"
   ]
  },
  {
   "cell_type": "code",
   "execution_count": null,
   "id": "1e2740f4-ba2b-4fc4-a310-131b15ae20cb",
   "metadata": {},
   "outputs": [],
   "source": [
    "data_q.plot(figsize=(10,8))"
   ]
  },
  {
   "cell_type": "code",
   "execution_count": null,
   "id": "8062e59f-4149-45fc-b2ca-3f586c6ed078",
   "metadata": {},
   "outputs": [],
   "source": [
    "base_data = data_q.copy()\n",
    "base_data['Monthly Mean Total Sunspot Number'] = base_data['Sunspots']\n",
    "base_data['Shifter Monthly Mean Total Sunspot Number'] = base_data['Monthly Mean Total Sunspot Number'].shift(1)"
   ]
  },
  {
   "cell_type": "code",
   "execution_count": null,
   "id": "8232f405-2560-4b9a-870e-8af209ef0f87",
   "metadata": {},
   "outputs": [],
   "source": [
    "base_data.head()"
   ]
  },
  {
   "cell_type": "code",
   "execution_count": null,
   "id": "9cb81777-9f8d-4c64-ad4f-7c245454085e",
   "metadata": {},
   "outputs": [],
   "source": [
    "base_data[['Monthly Mean Total Sunspot Number', 'Shifter Monthly Mean Total Sunspot Number']].plot()"
   ]
  },
  {
   "cell_type": "code",
   "execution_count": null,
   "id": "1e27fde3-cef9-4366-a972-52a974226d91",
   "metadata": {},
   "outputs": [],
   "source": [
    "base_data = base_data.dropna()\n",
    "print(\"Mean Squared Error:\", mean_squared_error(base_data['Monthly Mean Total Sunspot Number'], \n",
    "                                                base_data['Shifter Monthly Mean Total Sunspot Number']))"
   ]
  },
  {
   "cell_type": "code",
   "execution_count": null,
   "id": "cd01e7eb-5e88-41e8-9ddd-1ea35f054b4b",
   "metadata": {},
   "outputs": [],
   "source": [
    "fig = plt.figure(figsize=(10,8))\n",
    "autocorrelation_plot(data_q)\n",
    "plt.show()"
   ]
  },
  {
   "cell_type": "code",
   "execution_count": null,
   "id": "2d127256-a9cc-431d-95ae-6f8323aa21b7",
   "metadata": {},
   "outputs": [],
   "source": [
    "fig = plt.figure(figsize=(10,8))\n",
    "ax1 = fig.add_subplot(211)\n",
    "fig = sm.graphics.tsa.plot_acf(data_q, lags = 40, ax = ax1)\n",
    "ax2 = fig.add_subplot(212)\n",
    "fig = sm.graphics.tsa.plot_pacf(data_q, lags = 40, ax = ax2)"
   ]
  },
  {
   "cell_type": "code",
   "execution_count": null,
   "id": "03258c9e-a3b6-465b-98ca-d5cc6a481626",
   "metadata": {},
   "outputs": [],
   "source": [
    "model = sm.tsa.statespace.SARIMAX(data_q['Sunspots'], order=(2,0,2), seasonal_order=(2,0,2,6))\n",
    "results = model.fit()"
   ]
  },
  {
   "cell_type": "code",
   "execution_count": null,
   "id": "4eb643eb-59ae-475c-9096-87e536da8e62",
   "metadata": {},
   "outputs": [],
   "source": [
    "results.summary()"
   ]
  },
  {
   "cell_type": "code",
   "execution_count": null,
   "id": "c2350c09-4c80-4c24-88d8-3b645981ce21",
   "metadata": {},
   "outputs": [],
   "source": [
    "data_q['forecast'] = results.predict(start = 1000, end = 1084, dynamic = True)\n",
    "data_q[['Sunspots', 'forecast']].plot(figsize = (10,8))"
   ]
  }
 ],
 "metadata": {
  "kernelspec": {
   "display_name": "Python 3 (ipykernel)",
   "language": "python",
   "name": "python3"
  },
  "language_info": {
   "codemirror_mode": {
    "name": "ipython",
    "version": 3
   },
   "file_extension": ".py",
   "mimetype": "text/x-python",
   "name": "python",
   "nbconvert_exporter": "python",
   "pygments_lexer": "ipython3",
   "version": "3.12.4"
  }
 },
 "nbformat": 4,
 "nbformat_minor": 5
}
