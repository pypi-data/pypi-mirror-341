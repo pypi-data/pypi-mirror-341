{
 "cells": [
  {
   "cell_type": "code",
   "execution_count": null,
   "id": "cb446765-5f1b-4827-8eb8-465f275c1821",
   "metadata": {},
   "outputs": [],
   "source": [
    "import pandas as pd\n",
    "import numpy as np\n",
    "import matplotlib.pyplot as plt\n",
    "from scipy import stats\n",
    "from statsmodels.graphics.tsaplots import plot_acf, plot_pacf\n",
    "from statsmodels.graphics.api import qqplot\n",
    "from statsmodels.tsa.arima.model import ARIMA\n",
    "from statsmodels.api import tsa\n",
    "import warnings\n",
    "warnings.filterwarnings('ignore')"
   ]
  },
  {
   "cell_type": "code",
   "execution_count": null,
   "id": "8166c848-99fb-4883-9534-372e66da163f",
   "metadata": {},
   "outputs": [],
   "source": [
    "df = pd.read_csv('monthly-sunspots.csv', index_col = 'YEAR')\n",
    "df"
   ]
  },
  {
   "cell_type": "code",
   "execution_count": null,
   "id": "5db24ed8-03ae-4136-9d39-b7315daa85a2",
   "metadata": {},
   "outputs": [],
   "source": [
    "df.plot(figsize=(15,8), color = 'purple')"
   ]
  },
  {
   "cell_type": "code",
   "execution_count": null,
   "id": "a9288a36-b6b8-4492-9dc7-276d9a185f63",
   "metadata": {},
   "outputs": [],
   "source": [
    "fig = plt.figure(figsize=(15,8))\n",
    "ax1 = fig.add_subplot(211)\n",
    "fig = plot_acf(df.values.squeeze(), lags=40, ax=ax1, color = 'r', title='Original Autocorrelation')\n",
    "ax2 = fig.add_subplot(212)\n",
    "fig = plot_pacf(df, lags=40, ax=ax2, color = 'g', title='Original Partial Autocorrelation')"
   ]
  },
  {
   "cell_type": "code",
   "execution_count": null,
   "id": "c4044bdd-d852-49af-882a-7cf238abd1b3",
   "metadata": {},
   "outputs": [],
   "source": [
    "arma20 = ARIMA(df, order=(2,0,0)).fit()\n",
    "display(arma20.params)\n",
    "display(arma20.aic, arma20.bic, arma20.hqic)"
   ]
  },
  {
   "cell_type": "code",
   "execution_count": null,
   "id": "653f3938-1703-4cac-969a-1d991aed2081",
   "metadata": {},
   "outputs": [],
   "source": [
    "arma30 = ARIMA(df, order=(3,0,0)).fit()\n",
    "display(arma30.params)\n",
    "display(arma30.aic, arma30.bic, arma30.hqic)"
   ]
  },
  {
   "cell_type": "code",
   "execution_count": null,
   "id": "d5f9d78e-9638-4c1f-bded-1d9a9a377543",
   "metadata": {},
   "outputs": [],
   "source": [
    "fig = plt.figure(figsize=(15,8))\n",
    "ax = fig.add_subplot(111)\n",
    "ax = arma30.resid.plot(ax=ax)"
   ]
  },
  {
   "cell_type": "code",
   "execution_count": null,
   "id": "790a3e2d-486d-4406-aa1b-58c1c50d904f",
   "metadata": {},
   "outputs": [],
   "source": [
    "resid = arma30.resid\n",
    "stats.normaltest(resid)"
   ]
  },
  {
   "cell_type": "code",
   "execution_count": null,
   "id": "20212ba9-efa8-4bb9-88b8-5bd8c1a99a3d",
   "metadata": {},
   "outputs": [],
   "source": [
    "fig = plt.figure(figsize=(15,8))\n",
    "ax = fig.add_subplot(111)\n",
    "fig = qqplot(resid, line='q', ax=ax, fit=True)"
   ]
  },
  {
   "cell_type": "code",
   "execution_count": null,
   "id": "e50e8ade-7027-4ed9-91f4-c4bd9119ad4a",
   "metadata": {},
   "outputs": [],
   "source": [
    "fig = plt.figure(figsize=(15,8))\n",
    "ax1 = fig.add_subplot(211)\n",
    "fig = plot_acf(resid.values.squeeze(), lags=40, ax=ax1, color='g', title='Residual Autocorrelation')\n",
    "ax2 = fig.add_subplot(212)\n",
    "fig = plot_pacf(resid, lags=40, ax=ax2, color='r', title='Residual Partial Autocorrelation')"
   ]
  },
  {
   "cell_type": "code",
   "execution_count": null,
   "id": "f6b5a13b-3ce6-4be3-9e6b-436435d79141",
   "metadata": {},
   "outputs": [],
   "source": [
    "r, q, p = tsa.acf(resid.values.squeeze(), fft=True, qstat=True)\n",
    "data = np.c_[np.arange(1, 25), r[1:], q, p]"
   ]
  },
  {
   "cell_type": "code",
   "execution_count": null,
   "id": "87267a9d-ebfa-4324-b5ae-45c5680af95a",
   "metadata": {},
   "outputs": [],
   "source": [
    "df2 = pd.DataFrame(data, columns = ['Lag', 'AC', 'Q', 'Prob(>Q)'])\n",
    "df2.set_index('Lag')"
   ]
  },
  {
   "cell_type": "code",
   "execution_count": null,
   "id": "6cccb84e-4a8e-4278-b8a5-ed592936d84b",
   "metadata": {},
   "outputs": [],
   "source": [
    "predict_sunspots = arma30.predict('1990', '2012', dynamic=True)\n",
    "predict_sunspots = predict_sunspots['1990-12-31':'2008-12-31']\n",
    "predict_sunspots = pd.DataFrame(predict_sunspots)\n",
    "predict_sunspots.head()"
   ]
  },
  {
   "cell_type": "code",
   "execution_count": null,
   "id": "74f236dc-3062-4395-a444-bbeb411e8460",
   "metadata": {},
   "outputs": [],
   "source": [
    "np.mean((df['1990-12-31':'2008-12-31':1]['SUNACTIVITY'].values  - predict_sunspots['predicted_mean'].values))"
   ]
  }
 ],
 "metadata": {
  "kernelspec": {
   "display_name": "Python 3 (ipykernel)",
   "language": "python",
   "name": "python3"
  },
  "language_info": {
   "codemirror_mode": {
    "name": "ipython",
    "version": 3
   },
   "file_extension": ".py",
   "mimetype": "text/x-python",
   "name": "python",
   "nbconvert_exporter": "python",
   "pygments_lexer": "ipython3",
   "version": "3.12.4"
  }
 },
 "nbformat": 4,
 "nbformat_minor": 5
}
