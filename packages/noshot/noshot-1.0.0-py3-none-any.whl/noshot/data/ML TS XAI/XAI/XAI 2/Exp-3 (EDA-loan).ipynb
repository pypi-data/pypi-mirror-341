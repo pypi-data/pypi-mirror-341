{
 "cells": [
  {
   "cell_type": "code",
   "execution_count": null,
   "id": "ccf7df96",
   "metadata": {},
   "outputs": [],
   "source": [
    "import pandas as pd \n",
    "import numpy as np\n",
    "import matplotlib.pyplot as plt\n",
    "import seaborn as sns"
   ]
  },
  {
   "cell_type": "code",
   "execution_count": null,
   "id": "05fcafeb",
   "metadata": {},
   "outputs": [],
   "source": [
    "auto=pd.read_csv(\"loan_data.csv\")\n",
    "auto.reset_index(inplace=True)\n",
    "auto"
   ]
  },
  {
   "cell_type": "code",
   "execution_count": null,
   "id": "774d8ecf",
   "metadata": {},
   "outputs": [],
   "source": [
    "auto.head()"
   ]
  },
  {
   "cell_type": "code",
   "execution_count": null,
   "id": "66bef117",
   "metadata": {},
   "outputs": [],
   "source": [
    "auto.tail()"
   ]
  },
  {
   "cell_type": "code",
   "execution_count": null,
   "id": "d12303ac",
   "metadata": {},
   "outputs": [],
   "source": [
    "auto.info()"
   ]
  },
  {
   "cell_type": "code",
   "execution_count": null,
   "id": "13ca9a52",
   "metadata": {},
   "outputs": [],
   "source": [
    "auto.nunique()"
   ]
  },
  {
   "cell_type": "code",
   "execution_count": null,
   "id": "406b67f4",
   "metadata": {},
   "outputs": [],
   "source": [
    "auto.isnull()"
   ]
  },
  {
   "cell_type": "code",
   "execution_count": null,
   "id": "eaa5f031",
   "metadata": {},
   "outputs": [],
   "source": [
    "auto.describe()"
   ]
  },
  {
   "cell_type": "code",
   "execution_count": null,
   "id": "214537c9",
   "metadata": {},
   "outputs": [],
   "source": [
    "data = auto.drop(['index'], axis = 1)\n",
    "data"
   ]
  },
  {
   "cell_type": "code",
   "execution_count": null,
   "id": "9e22f6d6",
   "metadata": {},
   "outputs": [],
   "source": [
    "print(auto.purpose.unique())"
   ]
  },
  {
   "cell_type": "code",
   "execution_count": null,
   "id": "95a9706b",
   "metadata": {},
   "outputs": [],
   "source": [
    "print(auto.purpose.nunique())"
   ]
  },
  {
   "cell_type": "code",
   "execution_count": null,
   "id": "0c895e16",
   "metadata": {},
   "outputs": [],
   "source": [
    "au=auto.head(50)\n",
    "au"
   ]
  },
  {
   "cell_type": "code",
   "execution_count": null,
   "id": "ff300c7a",
   "metadata": {},
   "outputs": [],
   "source": [
    "plt.title(\"INSTALLMENT BASED ON ANNUAL INCOME\")\n",
    "plt.xlabel(\"log.annual.inc\")\n",
    "plt.ylabel(\"installment\")\n",
    "plt.plot(au['log.annual.inc'],au['installment'],color=\"blue\")\n",
    "plt.show(10,20)"
   ]
  },
  {
   "cell_type": "code",
   "execution_count": null,
   "id": "f53a7f1d",
   "metadata": {},
   "outputs": [],
   "source": [
    "plt.title(\"INSTALLMENT BASED ON ANNUAL INCOME\")\n",
    "plt.xlabel(\"log.annual.inc\")\n",
    "plt.ylabel(\"installment\")\n",
    "plt.bar(au['log.annual.inc'],au['installment'],color=\"green\")\n",
    "plt.show()\n"
   ]
  },
  {
   "cell_type": "code",
   "execution_count": null,
   "id": "f0625d78",
   "metadata": {},
   "outputs": [],
   "source": [
    "sns.pairplot(au)"
   ]
  },
  {
   "cell_type": "code",
   "execution_count": null,
   "id": "88d11bbd",
   "metadata": {},
   "outputs": [],
   "source": [
    "plt.hist(au['installment'],bins=10,color='cyan')\n",
    "plt.show()"
   ]
  },
  {
   "cell_type": "code",
   "execution_count": null,
   "id": "bfc6edb5",
   "metadata": {},
   "outputs": [],
   "source": [
    "plt.figure(figsize=(12, 7))\n",
    "sns.heatmap(au.corr(), annot = True, vmin = -1, vmax = 1)\n",
    "plt.show()"
   ]
  },
  {
   "cell_type": "code",
   "execution_count": null,
   "id": "adc44fdc-323a-4b9f-9ec2-1227ef925241",
   "metadata": {},
   "outputs": [],
   "source": []
  }
 ],
 "metadata": {
  "kernelspec": {
   "display_name": "Python 3 (ipykernel)",
   "language": "python",
   "name": "python3"
  },
  "language_info": {
   "codemirror_mode": {
    "name": "ipython",
    "version": 3
   },
   "file_extension": ".py",
   "mimetype": "text/x-python",
   "name": "python",
   "nbconvert_exporter": "python",
   "pygments_lexer": "ipython3",
   "version": "3.12.4"
  }
 },
 "nbformat": 4,
 "nbformat_minor": 5
}
