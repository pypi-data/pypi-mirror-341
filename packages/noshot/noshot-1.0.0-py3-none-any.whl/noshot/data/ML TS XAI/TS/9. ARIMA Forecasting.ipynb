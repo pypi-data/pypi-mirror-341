{
 "cells": [
  {
   "cell_type": "code",
   "execution_count": null,
   "id": "6e3f5839-6844-42c3-a57c-5e6324c7ee43",
   "metadata": {},
   "outputs": [],
   "source": [
    "import pandas as pd\n",
    "import numpy as np\n",
    "import matplotlib.pyplot as plt\n",
    "from scipy import stats\n",
    "from statsmodels.graphics.tsaplots import plot_acf, plot_pacf\n",
    "from statsmodels.graphics.api import qqplot\n",
    "from statsmodels.tsa.arima.model import ARIMA\n",
    "from statsmodels.tsa.stattools import adfuller\n",
    "from statsmodels.api import tsa\n",
    "from sklearn.metrics import r2_score\n",
    "from sklearn.model_selection import TimeSeriesSplit\n",
    "import warnings\n",
    "warnings.filterwarnings('ignore')"
   ]
  },
  {
   "cell_type": "code",
   "execution_count": null,
   "id": "f32d68f1-db8f-4b74-b23e-2f3ad3b56eed",
   "metadata": {},
   "outputs": [],
   "source": [
    "df = pd.read_csv('monthly-sunspots.csv', index_col = 'YEAR')\n",
    "df"
   ]
  },
  {
   "cell_type": "code",
   "execution_count": null,
   "id": "500a40bd-7d8f-4d52-923a-ad76d590216f",
   "metadata": {
    "scrolled": true
   },
   "outputs": [],
   "source": [
    "df.plot(figsize=(15,8), color = 'purple')"
   ]
  },
  {
   "cell_type": "code",
   "execution_count": null,
   "id": "6dc6f56f-93bd-4506-b32a-e0f7361829b7",
   "metadata": {},
   "outputs": [],
   "source": [
    "result = adfuller(df['SUNACTIVITY'])\n",
    "display(result)"
   ]
  },
  {
   "cell_type": "code",
   "execution_count": null,
   "id": "13ece976-8c18-4a2e-b44a-49fa6bc6ff85",
   "metadata": {},
   "outputs": [],
   "source": [
    "pvalue =  result[1]\n",
    "if pvalue < 0.05:\n",
    "    print(\"Stationary\")\n",
    "else:\n",
    "    print(\"Non Stationary\")"
   ]
  },
  {
   "cell_type": "code",
   "execution_count": null,
   "id": "d83cf3f0-244b-4961-8ff4-dedf97e5a766",
   "metadata": {},
   "outputs": [],
   "source": [
    "plot_acf(df['SUNACTIVITY'], lags = 40)\n",
    "plot_pacf(df['SUNACTIVITY'], lags = 40)\n",
    "plt.show()"
   ]
  },
  {
   "cell_type": "code",
   "execution_count": null,
   "id": "5dacfe47-b35b-46e4-a06f-6001040a6405",
   "metadata": {},
   "outputs": [],
   "source": [
    "model = ARIMA(list(df['SUNACTIVITY']), order = (1,0,1))\n",
    "result = model.fit()\n",
    "pred = result.predict()\n",
    "print(r2_score(df, pred))"
   ]
  },
  {
   "cell_type": "code",
   "execution_count": null,
   "id": "171168aa-f0a2-43f1-a195-72b9f3791a53",
   "metadata": {},
   "outputs": [],
   "source": [
    "plt.plot(list(df['SUNACTIVITY']))\n",
    "plt.plot(pred, linestyle = '--')\n",
    "plt.legend(['Actual Sunspots'], ['Predicted SUnspots'])\n",
    "plt.xlabel('Timesteps')\n",
    "plt.show()"
   ]
  },
  {
   "cell_type": "code",
   "execution_count": null,
   "id": "62e74f51-e0b4-4b22-856b-5a28838375b7",
   "metadata": {},
   "outputs": [],
   "source": [
    "ax = pd.Series(result.resid).hist()\n",
    "ax.set_xlabel('Residual')\n",
    "ax.set_ylabel('Number of Occurences')\n",
    "plt.show()"
   ]
  },
  {
   "cell_type": "code",
   "execution_count": null,
   "id": "1cac3ae4-d8f2-49c4-a04d-fabf5290977a",
   "metadata": {},
   "outputs": [],
   "source": [
    "result.summary()"
   ]
  },
  {
   "cell_type": "code",
   "execution_count": null,
   "id": "e3ae6db1-4b9c-4a9b-8286-b6484fabb348",
   "metadata": {},
   "outputs": [],
   "source": [
    "data_array = df.values\n",
    "avg_errors = []\n",
    "for p in range(1):\n",
    "    for q in range(13):\n",
    "        errors = []\n",
    "        tscv = TimeSeriesSplit(test_size = 10)\n",
    "        for train_index, test_index in tscv.split(data_array):\n",
    "            x_train, x_test = data_array[train_index], data_array[test_index]\n",
    "            x_test_orig = x_test\n",
    "\n",
    "            fcst = []\n",
    "            for stop in range(10):\n",
    "                try:\n",
    "                    mod = ARIMA(x_train, order = (p,0,q))\n",
    "                    res = mod.fit()\n",
    "                    fcst.append(res.forecast(steps = 1))\n",
    "                except:\n",
    "                    print(\"Error\")\n",
    "                    fcst.append(-9999999.)\n",
    "                x_train = np.concatenate((x_train, x_test[0:1,]))\n",
    "                x_test = x_test[1:]\n",
    "            errors.append(r2_score(x_test_orig, fcst))\n",
    "        pq_result = [p, q, np.mean(errors)]\n",
    "        print(pq_result)\n",
    "        avg_errors.append(pq_result)\n",
    "avg_errors = pd.DataFrame(avg_errors)\n",
    "avg_errors.columns = ['p', 'q', 'error']\n",
    "result = avg_errors.pivot(index = 'p', columns = 'q')"
   ]
  },
  {
   "cell_type": "code",
   "execution_count": null,
   "id": "f0882bbd-e5de-4249-b74c-9f96c6777205",
   "metadata": {},
   "outputs": [],
   "source": [
    "dta_array = df.values\n",
    "X_train, X_test = dta_array[:10], dta_array[-10:]\n",
    "X_test_orig = X_test\n",
    "\n",
    "fcst = []\n",
    "for step in range(10):\n",
    "    mod = ARIMA(X_train, order = (10,0,9))\n",
    "    res = mod.fit()\n",
    "    fcst.append(res.forecast(steps = 1))\n",
    "    X_train = np.concatenate((X_train, X_test[0:1,:]))\n",
    "    X_test = X_test[1:]\n",
    "\n",
    "plt.plot(X_test_orig)\n",
    "plt.plot(fcst)\n",
    "plt.legend(['Actual Sunspots', 'Predicted Sunspots'])\n",
    "plt.xlabel('Time Steps of Test Data')\n",
    "plt.show()"
   ]
  }
 ],
 "metadata": {
  "kernelspec": {
   "display_name": "Python 3 (ipykernel)",
   "language": "python",
   "name": "python3"
  },
  "language_info": {
   "codemirror_mode": {
    "name": "ipython",
    "version": 3
   },
   "file_extension": ".py",
   "mimetype": "text/x-python",
   "name": "python",
   "nbconvert_exporter": "python",
   "pygments_lexer": "ipython3",
   "version": "3.12.4"
  }
 },
 "nbformat": 4,
 "nbformat_minor": 5
}
