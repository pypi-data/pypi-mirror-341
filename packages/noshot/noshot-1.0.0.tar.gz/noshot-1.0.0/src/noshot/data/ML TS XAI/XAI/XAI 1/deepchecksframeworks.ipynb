{
 "cells": [
  {
   "cell_type": "code",
   "execution_count": null,
   "metadata": {
    "colab": {
     "base_uri": "https://localhost:8080/",
     "height": 1000,
     "resources": {
      "http://localhost:8080/jupyterlab-plotly.js": {
       "data": "",
       "headers": [
        [
         "content-length",
         "0"
        ]
       ],
       "ok": false,
       "status": 404,
       "status_text": ""
      }
     }
    },
    "id": "mJC5pjBETXIW",
    "outputId": "2d1d08a1-9acb-4a24-bb57-83c35a4f62d6"
   },
   "outputs": [],
   "source": [
    "import pandas as pd\n",
    "from sklearn.model_selection import train_test_split\n",
    "!pip install deepchecks\n",
    "from deepchecks.tabular import Dataset\n",
    "from deepchecks.suites import data_integrity, train_test_validation\n",
    "\n",
    "# Load the dataset manually (replace with the actual path)\n",
    "file_path = \"adult.csv\"  # Update this with your dataset file path\n",
    "column_names = [\n",
    "    'age', 'workclass', 'fnlwgt', 'education', 'education-num', 'marital-status',\n",
    "    'occupation', 'relationship', 'race', 'sex', 'capital-gain', 'capital-loss',\n",
    "    'hours-per-week', 'native-country', 'income'\n",
    "]\n",
    "\n",
    "# Read CSV file\n",
    "df = pd.read_csv(file_path, names=column_names, skipinitialspace=True)\n",
    "\n",
    "# Convert categorical features to string (if needed)\n",
    "cat_features = ['workclass', 'education', 'marital-status', 'occupation',\n",
    "                'relationship', 'race', 'sex', 'native-country']\n",
    "\n",
    "df[cat_features] = df[cat_features].astype(str)\n",
    "\n",
    "# Separate features and labels\n",
    "X = df.drop(columns=['income'])\n",
    "y = df['income']\n",
    "\n",
    "# Split into train and test sets\n",
    "X_train, X_test, y_train, y_test = train_test_split(X, y, test_size=0.2, random_state=42)\n",
    "\n",
    "# Create Deepchecks Dataset objects\n",
    "train_ds = Dataset(X_train, label=y_train, cat_features=cat_features)\n",
    "test_ds = Dataset(X_test, label=y_test, cat_features=cat_features)\n",
    "\n",
    "# Run Data Integrity Suite\n",
    "integrity_suite = data_integrity()\n",
    "integrity_result = integrity_suite.run(train_ds)\n",
    "integrity_result.show()\n",
    "\n",
    "# Run Train-Test Validation Suite\n",
    "validation_suite = train_test_validation()\n",
    "validation_result = validation_suite.run(train_ds, test_ds)\n",
    "validation_result.show()\n"
   ]
  }
 ],
 "metadata": {
  "colab": {
   "provenance": []
  },
  "kernelspec": {
   "display_name": "Python 3 (ipykernel)",
   "language": "python",
   "name": "python3"
  },
  "language_info": {
   "codemirror_mode": {
    "name": "ipython",
    "version": 3
   },
   "file_extension": ".py",
   "mimetype": "text/x-python",
   "name": "python",
   "nbconvert_exporter": "python",
   "pygments_lexer": "ipython3",
   "version": "3.12.4"
  }
 },
 "nbformat": 4,
 "nbformat_minor": 4
}
