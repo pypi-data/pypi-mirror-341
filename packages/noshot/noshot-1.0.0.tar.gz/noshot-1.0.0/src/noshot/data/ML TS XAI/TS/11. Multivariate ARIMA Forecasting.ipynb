{
 "cells": [
  {
   "cell_type": "code",
   "execution_count": null,
   "id": "8f9faf6e",
   "metadata": {},
   "outputs": [],
   "source": [
    "import numpy as np\n",
    "import pandas as pd\n",
    "import matplotlib.pyplot as plt\n",
    "from statsmodels.tsa.stattools import adfuller\n",
    "from statsmodels.tsa.stattools import grangercausalitytests\n",
    "from statsmodels.tsa.statespace.varmax import VARMAX\n",
    "from statsmodels.tsa.api import VAR\n",
    "import warnings\n",
    "warnings.filterwarnings('ignore')"
   ]
  },
  {
   "cell_type": "code",
   "execution_count": null,
   "id": "da824655",
   "metadata": {},
   "outputs": [],
   "source": [
    "custom_column_names = ['WSR0','WSR1']\n",
    "df = pd.read_csv('eighthr.csv', parse_dates=[0], na_values=['?'],\n",
    "                 index_col=0, names = (['WSR0', 'WSR1']+list(range(3, 74))))\n",
    "df = df.dropna()\n",
    "df.head()"
   ]
  },
  {
   "cell_type": "code",
   "execution_count": null,
   "id": "92bf562d",
   "metadata": {},
   "outputs": [],
   "source": [
    "df['WSR0'] = df['WSR0'].astype(float)\n",
    "df['WSR1'] = df['WSR1'].astype(float)"
   ]
  },
  {
   "cell_type": "code",
   "execution_count": null,
   "id": "f578482e",
   "metadata": {},
   "outputs": [],
   "source": [
    "fig,axes = plt.subplots(2,1,figsize=(14,8))\n",
    "df['WSR1'].plot(ax=axes[0],title='WSR0')\n",
    "df['WSR0'].plot(ax=axes[1],title='WSR1')\n",
    "plt.show()"
   ]
  },
  {
   "cell_type": "code",
   "execution_count": null,
   "id": "daac380f",
   "metadata": {},
   "outputs": [],
   "source": [
    "result = adfuller(df['WSR0'])\n",
    "print(result)\n",
    "if result[1]<0.05:\n",
    "    print(\"It is Stationary\")\n",
    "else:\n",
    "    print(\"It is not stationary\")"
   ]
  },
  {
   "cell_type": "code",
   "execution_count": null,
   "id": "e18f51f2",
   "metadata": {},
   "outputs": [],
   "source": [
    "result = adfuller(df['WSR1'])\n",
    "print(result)\n",
    "if result[1]<0.05:\n",
    "    print(\"It is Stationary\")\n",
    "else:\n",
    "    print(\"It is not stationary\")"
   ]
  },
  {
   "cell_type": "code",
   "execution_count": null,
   "id": "0b6419c1",
   "metadata": {},
   "outputs": [],
   "source": [
    "print('WSR0 causes WSR1')\n",
    "print('---------------------')\n",
    "granger1=grangercausalitytests(df[['WSR0','WSR1']],2)\n",
    "print('WSR1 causes WSR0')\n",
    "print('---------------------')\n",
    "granger1=grangercausalitytests(df[['WSR1','WSR0']],2)"
   ]
  },
  {
   "cell_type": "code",
   "execution_count": null,
   "id": "b37f4f93",
   "metadata": {},
   "outputs": [],
   "source": [
    "train = df[['WSR0','WSR1']]\n",
    "model = VAR(train)\n",
    "sortedmodel = model.select_order(maxlags=20)\n",
    "sortedmodel.summary()"
   ]
  },
  {
   "cell_type": "code",
   "execution_count": null,
   "id": "3da00920",
   "metadata": {},
   "outputs": [],
   "source": [
    "model = VARMAX(df[['WSR0', 'WSR1']], order=(10,0),enforce_stationarity=True)\n",
    "model_fit = model.fit()\n",
    "model_fit.summary()"
   ]
  },
  {
   "cell_type": "code",
   "execution_count": null,
   "id": "0b0cf16d",
   "metadata": {},
   "outputs": [],
   "source": [
    "n_forecast = 12\n",
    "pred = model_fit.get_prediction()\n",
    "preds = pred.predicted_mean"
   ]
  },
  {
   "cell_type": "code",
   "execution_count": null,
   "id": "56954749",
   "metadata": {},
   "outputs": [],
   "source": [
    "preds.columns = ['WSR0 Predictions','WSR1 Predictions']\n",
    "preds"
   ]
  },
  {
   "cell_type": "code",
   "execution_count": null,
   "id": "704c6372",
   "metadata": {},
   "outputs": [],
   "source": [
    "train = df[['WSR0','WSR1']]\n",
    "testvspread = pd.concat([train,preds],axis=1)\n",
    "testvspread"
   ]
  },
  {
   "cell_type": "code",
   "execution_count": null,
   "id": "d60e3508",
   "metadata": {},
   "outputs": [],
   "source": [
    "testvspread[['WSR0','WSR0 Predictions']].plot()"
   ]
  },
  {
   "cell_type": "code",
   "execution_count": null,
   "id": "28fb2660",
   "metadata": {},
   "outputs": [],
   "source": [
    "testvspread[['WSR1','WSR1 Predictions']].plot()"
   ]
  },
  {
   "cell_type": "code",
   "execution_count": null,
   "id": "35888acd",
   "metadata": {},
   "outputs": [],
   "source": [
    "from sklearn.metrics import mean_squared_error\n",
    "mean_squared_error(testvspread['WSR1'],testvspread['WSR1 Predictions'])"
   ]
  },
  {
   "cell_type": "code",
   "execution_count": null,
   "id": "41748e7e",
   "metadata": {},
   "outputs": [],
   "source": [
    "from sklearn.metrics import mean_squared_error\n",
    "mean_squared_error(testvspread['WSR0'],testvspread['WSR0 Predictions'])"
   ]
  }
 ],
 "metadata": {
  "kernelspec": {
   "display_name": "Python 3 (ipykernel)",
   "language": "python",
   "name": "python3"
  },
  "language_info": {
   "codemirror_mode": {
    "name": "ipython",
    "version": 3
   },
   "file_extension": ".py",
   "mimetype": "text/x-python",
   "name": "python",
   "nbconvert_exporter": "python",
   "pygments_lexer": "ipython3",
   "version": "3.12.4"
  }
 },
 "nbformat": 4,
 "nbformat_minor": 5
}
