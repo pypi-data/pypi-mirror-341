{
 "cells": [
  {
   "cell_type": "code",
   "execution_count": null,
   "metadata": {
    "colab": {
     "base_uri": "https://localhost:8080/",
     "height": 1000
    },
    "id": "hGTdvcVMiIrP",
    "outputId": "4581c094-26c9-4b7c-d4e3-7c69d8a81713"
   },
   "outputs": [],
   "source": [
    "import shap\n",
    "import tensorflow as tf\n",
    "import numpy as np\n",
    "import matplotlib.pyplot as plt\n",
    "\n",
    "# Load a sample dataset (for demonstration, using MNIST)\n",
    "from tensorflow.keras.datasets import mnist\n",
    "from tensorflow.keras.models import Sequential\n",
    "from tensorflow.keras.layers import Dense, Flatten\n",
    "\n",
    "# Load MNIST dataset\n",
    "(x_train, y_train), (x_test, y_test) = mnist.load_data()\n",
    "\n",
    "# Normalize pixel values to 0-1\n",
    "x_train, x_test = x_train / 255.0, x_test / 255.0\n",
    "\n",
    "# Build a simple neural network\n",
    "model = Sequential([\n",
    "    Flatten(input_shape=(28, 28)),\n",
    "    Dense(128, activation='relu'),\n",
    "    Dense(10, activation='softmax')\n",
    "])\n",
    "\n",
    "# Compile the model\n",
    "model.compile(optimizer='adam', loss='sparse_categorical_crossentropy', metrics=['accuracy'])\n",
    "\n",
    "# Train the model (using fewer epochs for quick results)\n",
    "model.fit(x_train, y_train, epochs=3, batch_size=128, validation_data=(x_test, y_test))\n",
    "\n",
    "# Select background data for SHAP explanations\n",
    "background = x_train[np.random.choice(x_train.shape[0], 100, replace=False)]\n",
    "\n",
    "# ✅ Initialize SHAP DeepExplainer\n",
    "explainer = shap.DeepExplainer(model, background)\n",
    "\n",
    "# Select a few test samples\n",
    "X_test_sample = x_test[:10]\n",
    "\n",
    "# ✅ Compute SHAP values\n",
    "shap_values = explainer.shap_values(X_test_sample)\n",
    "\n",
    "# ✅ Visualize SHAP values for an image\n",
    "# Plot the SHAP values for class 0 (change index to see for other classes)\n",
    "index = 0  # Change this to visualize different images\n",
    "\n",
    "plt.figure(figsize=(8, 4))\n",
    "shap.image_plot(shap_values, X_test_sample)\n"
   ]
  }
 ],
 "metadata": {
  "colab": {
   "provenance": []
  },
  "kernelspec": {
   "display_name": "Python 3 (ipykernel)",
   "language": "python",
   "name": "python3"
  },
  "language_info": {
   "codemirror_mode": {
    "name": "ipython",
    "version": 3
   },
   "file_extension": ".py",
   "mimetype": "text/x-python",
   "name": "python",
   "nbconvert_exporter": "python",
   "pygments_lexer": "ipython3",
   "version": "3.12.4"
  }
 },
 "nbformat": 4,
 "nbformat_minor": 4
}
