{
 "cells": [
  {
   "cell_type": "code",
   "execution_count": null,
   "metadata": {
    "id": "KLkDQCnJdSwP"
   },
   "outputs": [],
   "source": [
    "#EDA contd\n",
    "import pandas as pd\n",
    "chips = pd.read_csv('http://bit.ly/chiporders',sep='\\t')"
   ]
  },
  {
   "cell_type": "markdown",
   "metadata": {
    "id": "tqEc5RzBkTNc"
   },
   "source": [
    "Order ID: A unique identifier for each order. Quantity: The number of items ordered. Item Name: The name of the menu item. Choice Description: Additional details or customization options for the ordered item. Item Price: The price of the individual item. Order Date: The date and time when the order was placed. Total: The total cost of the order."
   ]
  },
  {
   "cell_type": "code",
   "execution_count": null,
   "metadata": {
    "id": "CpNMX3vamGxB"
   },
   "outputs": [],
   "source": []
  },
  {
   "cell_type": "code",
   "execution_count": null,
   "metadata": {
    "colab": {
     "base_uri": "https://localhost:8080/",
     "height": 484
    },
    "id": "VdVdAHnMe2Wq",
    "outputId": "484615aa-1583-47ee-93c4-b8e0457cb734"
   },
   "outputs": [],
   "source": [
    "chips.head(10)"
   ]
  },
  {
   "cell_type": "code",
   "execution_count": null,
   "metadata": {
    "colab": {
     "base_uri": "https://localhost:8080/"
    },
    "id": "cVA1ReI4hKAb",
    "outputId": "05b9d9c8-8ea7-47e1-87ae-77d10ccd6d69"
   },
   "outputs": [],
   "source": [
    "chips.shape[0]"
   ]
  },
  {
   "cell_type": "code",
   "execution_count": null,
   "metadata": {
    "colab": {
     "base_uri": "https://localhost:8080/"
    },
    "id": "Qlnk_G60hYtg",
    "outputId": "a43698cb-8c31-4791-c559-1b8e53446669"
   },
   "outputs": [],
   "source": [
    "chips['order_id'].value_counts().head(15) #each order id ordered how many different times\n"
   ]
  },
  {
   "cell_type": "code",
   "execution_count": null,
   "metadata": {
    "colab": {
     "base_uri": "https://localhost:8080/",
     "height": 137
    },
    "id": "54oqEUsM2ok1",
    "outputId": "7c7cc510-bd5e-4885-b100-fea12102301f"
   },
   "outputs": [],
   "source": [
    "#Extract the information of all oredered items containing chicken as one of the ingredint\n",
    "chips[chips['item_name'] == 'Chicken']"
   ]
  },
  {
   "cell_type": "code",
   "execution_count": null,
   "metadata": {
    "id": "hfgJ8K8x2wr1"
   },
   "outputs": [],
   "source": [
    "chk = chips[chips['item_name'].str.contains('Chicken')]"
   ]
  },
  {
   "cell_type": "code",
   "execution_count": null,
   "metadata": {
    "colab": {
     "base_uri": "https://localhost:8080/",
     "height": 363
    },
    "id": "DjbRKWy92zJ2",
    "outputId": "dcee2668-b95b-4bc4-caef-5de24985a126"
   },
   "outputs": [],
   "source": [
    "chk.head(10)"
   ]
  },
  {
   "cell_type": "code",
   "execution_count": null,
   "metadata": {
    "colab": {
     "base_uri": "https://localhost:8080/"
    },
    "id": "r7d8Fyvy25__",
    "outputId": "ed07c163-98db-40b4-d68c-4101da97e754"
   },
   "outputs": [],
   "source": [
    "chips['item_price'].str.replace('$','').astype(float).max()"
   ]
  },
  {
   "cell_type": "code",
   "execution_count": null,
   "metadata": {
    "colab": {
     "base_uri": "https://localhost:8080/"
    },
    "id": "dCELCgWXj_l_",
    "outputId": "84c811f1-12d4-473b-8c0a-8cd3088a523a"
   },
   "outputs": [],
   "source": [
    "c1=chips['item_price'].str.replace('$','')\n",
    "c1.head(5)\n"
   ]
  },
  {
   "cell_type": "code",
   "execution_count": null,
   "metadata": {
    "colab": {
     "base_uri": "https://localhost:8080/",
     "height": 35
    },
    "id": "bUSoL50c3A7X",
    "outputId": "d99c9d2f-9bea-4906-80d8-a2eb91b770e5"
   },
   "outputs": [],
   "source": [
    "chips.loc[3598]['item_name']"
   ]
  },
  {
   "cell_type": "code",
   "execution_count": null,
   "metadata": {
    "colab": {
     "base_uri": "https://localhost:8080/"
    },
    "id": "jAH6N9vEjoRB",
    "outputId": "ca0bf772-6c0a-4100-b930-5003d390c3f3"
   },
   "outputs": [],
   "source": [
    "#Explore oreder id as : - Each order id ordered how many items\n",
    "chips.groupby('order_id')['quantity'].sum().head(20)"
   ]
  },
  {
   "cell_type": "markdown",
   "metadata": {
    "id": "_0MD-W-R40AO"
   },
   "source": [
    "https://datascience.fm/pandas-for-simple-data-analysys/"
   ]
  },
  {
   "cell_type": "markdown",
   "metadata": {
    "id": "qJlmbndSyfW0"
   },
   "source": [
    "Order ID: A unique identifier for each order.\n",
    "Quantity: The number of items ordered.\n",
    "Item Name: The name of the menu item.\n",
    "Choice Description: Additional details or customization options for the ordered item.\n",
    "Item Price: The price of the individual item.\n",
    "Order Date: The date and time when the order was placed.\n",
    "Total: The total cost of the order."
   ]
  },
  {
   "cell_type": "code",
   "execution_count": null,
   "metadata": {
    "colab": {
     "base_uri": "https://localhost:8080/"
    },
    "id": "GBinyLCCygzd",
    "outputId": "9f3fa4d1-9bf4-4673-e37e-c4136d81e7ea"
   },
   "outputs": [],
   "source": [
    "# finding is there any columns present in our data\n",
    "chips.isnull().sum()"
   ]
  },
  {
   "cell_type": "code",
   "execution_count": null,
   "metadata": {
    "colab": {
     "base_uri": "https://localhost:8080/"
    },
    "id": "dM82Vf8ly2jL",
    "outputId": "e91b122b-1b3e-401f-c4f8-9a9b1aa0d54b"
   },
   "outputs": [],
   "source": [
    "chips.index"
   ]
  },
  {
   "cell_type": "code",
   "execution_count": null,
   "metadata": {
    "colab": {
     "base_uri": "https://localhost:8080/",
     "height": 449
    },
    "id": "1_kxS-uNy5jS",
    "outputId": "6932e070-cfef-4c06-ed06-38896291c0f6"
   },
   "outputs": [],
   "source": [
    "#Which was the most ordered item? and How many items were ordered?\n",
    "c = chips.groupby('item_name')\n",
    "c = c.sum()\n",
    "c = c.sort_values(['quantity'], ascending=False)\n",
    "c.head(10)"
   ]
  },
  {
   "cell_type": "code",
   "execution_count": null,
   "metadata": {
    "colab": {
     "base_uri": "https://localhost:8080/",
     "height": 363
    },
    "id": "nBP7cVNa0Dif",
    "outputId": "ee795041-c866-49a2-8583-e3aa66dee4fa"
   },
   "outputs": [],
   "source": [
    "import pandas as pd\n",
    "dt = pd.DataFrame({'id' : [1,2,2,2,3,3,3,4,5,6] ,\n",
    "                       'order count' : [1,2,1,3,1,1,2,1,2,1]})\n",
    "dt"
   ]
  },
  {
   "cell_type": "code",
   "execution_count": null,
   "metadata": {
    "colab": {
     "base_uri": "https://localhost:8080/"
    },
    "id": "GzwktX2e2QW3",
    "outputId": "96a044ff-6e27-41a4-9ef6-af3013117041"
   },
   "outputs": [],
   "source": [
    "dt['id'].value_counts()"
   ]
  },
  {
   "cell_type": "code",
   "execution_count": null,
   "metadata": {
    "colab": {
     "base_uri": "https://localhost:8080/"
    },
    "id": "1QDYXTOa2Ysh",
    "outputId": "0e7c485a-b822-4dbc-a557-452b998a9bb5"
   },
   "outputs": [],
   "source": [
    "dt.groupby('id')['order count'].sum()"
   ]
  },
  {
   "cell_type": "code",
   "execution_count": null,
   "metadata": {
    "id": "GCKreTOi_oFA"
   },
   "outputs": [],
   "source": [
    "https://builtin.com/software-engineering-perspectives/pandas-iloc\n",
    "\n",
    "https://www.geeksforgeeks.org/difference-between-loc-and-iloc-in-pandas-dataframe/"
   ]
  },
  {
   "cell_type": "code",
   "execution_count": null,
   "metadata": {
    "id": "2UTru4cnmJFi"
   },
   "outputs": [],
   "source": [
    "TI=pd.read_csv('TRAIN1.csv')"
   ]
  },
  {
   "cell_type": "code",
   "execution_count": null,
   "metadata": {
    "colab": {
     "base_uri": "https://localhost:8080/",
     "height": 503
    },
    "id": "Dlm6gTAEnKGO",
    "outputId": "0efc16b3-96eb-4729-c4b3-9e19baee8e04"
   },
   "outputs": [],
   "source": [
    "TI.head(5)"
   ]
  },
  {
   "cell_type": "code",
   "execution_count": null,
   "metadata": {
    "id": "q7XM07H2ned5"
   },
   "outputs": [],
   "source": []
  },
  {
   "cell_type": "code",
   "execution_count": null,
   "metadata": {
    "colab": {
     "base_uri": "https://localhost:8080/"
    },
    "id": "tMWfUl4uoeuA",
    "outputId": "3252dae9-17c8-44d0-ccdf-1075cebc2097"
   },
   "outputs": [],
   "source": [
    "TI.info()"
   ]
  },
  {
   "cell_type": "code",
   "execution_count": null,
   "metadata": {
    "colab": {
     "base_uri": "https://localhost:8080/",
     "height": 825
    },
    "id": "PFovvtAyojjo",
    "outputId": "e984ce14-e828-45ec-e01c-b2f21b4cd7a4"
   },
   "outputs": [],
   "source": [
    "TI.loc[TI['Sex']=='male'] #to get list of male passengers"
   ]
  },
  {
   "cell_type": "code",
   "execution_count": null,
   "metadata": {
    "colab": {
     "base_uri": "https://localhost:8080/",
     "height": 382
    },
    "id": "5fJ239izo6ib",
    "outputId": "4128a4d6-f941-433a-d3cd-c40948043eb8"
   },
   "outputs": [],
   "source": [
    "titanic=TI\n",
    "titanic.loc[(titanic['Sex']=='male') & (titanic['Embarked']=='S')].head()"
   ]
  },
  {
   "cell_type": "code",
   "execution_count": null,
   "metadata": {
    "colab": {
     "base_uri": "https://localhost:8080/",
     "height": 237
    },
    "id": "DjAfl0z8qLt1",
    "outputId": "dc93282a-9baf-4d9e-e5df-7877da0e16f7"
   },
   "outputs": [],
   "source": [
    "titanic.loc[0:5,['Sex','Age']]"
   ]
  },
  {
   "cell_type": "code",
   "execution_count": null,
   "metadata": {
    "colab": {
     "base_uri": "https://localhost:8080/",
     "height": 174
    },
    "id": "CqicL_wcqc2M",
    "outputId": "e2a2747a-b1f6-441e-c851-b501fa2d3859"
   },
   "outputs": [],
   "source": [
    "titanic.iloc[0:4,2:5]"
   ]
  },
  {
   "cell_type": "code",
   "execution_count": null,
   "metadata": {
    "colab": {
     "base_uri": "https://localhost:8080/",
     "height": 331
    },
    "id": "He6iEhi2qhYm",
    "outputId": "75b67880-3620-4a93-c36b-396f341ca199"
   },
   "outputs": [],
   "source": [
    "# importing the module\n",
    "import pandas as pd\n",
    "\n",
    "# creating a sample dataframe\n",
    "data = pd.DataFrame({'Brand': ['Maruti', 'Hyundai', 'Tata',\n",
    "\t\t\t\t\t\t\t'Mahindra', 'Maruti', 'Hyundai',\n",
    "\t\t\t\t\t\t\t'Renault', 'Tata', 'Maruti'],\n",
    "\t\t\t\t\t'Year': [2012, 2014, 2011, 2015, 2012,\n",
    "\t\t\t\t\t\t\t2016, 2014, 2018, 2019],\n",
    "\t\t\t\t\t'Kms Driven': [50000, 30000, 60000,\n",
    "\t\t\t\t\t\t\t\t\t25000, 10000, 46000,\n",
    "\t\t\t\t\t\t\t\t\t31000, 15000, 12000],\n",
    "\t\t\t\t\t'City': ['Gurgaon', 'Delhi', 'Mumbai',\n",
    "\t\t\t\t\t\t\t'Delhi', 'Mumbai', 'Delhi',\n",
    "\t\t\t\t\t\t\t'Mumbai', 'Chennai', 'Ghaziabad'],\n",
    "\t\t\t\t\t'Mileage': [28, 27, 25, 26, 28,\n",
    "\t\t\t\t\t\t\t\t29, 24, 21, 24]})\n",
    "\n",
    "# displaying the DataFrame\n",
    "display(data)\n"
   ]
  },
  {
   "cell_type": "code",
   "execution_count": null,
   "metadata": {
    "colab": {
     "base_uri": "https://localhost:8080/",
     "height": 112
    },
    "id": "M3Kx0Fc9q61W",
    "outputId": "3693ebf1-957a-4604-f337-4d81f2808f1f"
   },
   "outputs": [],
   "source": [
    "# selecting cars with brand 'Maruti' and Mileage > 25\n",
    "display(data.loc[(data.Brand == 'Maruti') & (data.Mileage > 25)])"
   ]
  },
  {
   "cell_type": "code",
   "execution_count": null,
   "metadata": {
    "colab": {
     "base_uri": "https://localhost:8080/",
     "height": 174
    },
    "id": "tO82gnyMrI58",
    "outputId": "10c47a2e-bf5a-4d8c-9017-a59b9c9da8cf"
   },
   "outputs": [],
   "source": [
    "# selecting range of rows from 2 to 5\n",
    "display(data.loc[2: 5])"
   ]
  },
  {
   "cell_type": "code",
   "execution_count": null,
   "metadata": {
    "colab": {
     "base_uri": "https://localhost:8080/",
     "height": 331
    },
    "id": "vOazh8vUrRTR",
    "outputId": "ca85cb51-427a-4398-f0af-d12d40aa3a35"
   },
   "outputs": [],
   "source": [
    "# updating values of Mileage if Year < 2015\n",
    "data.loc[(data.Year < 2015), ['Mileage']] = 22\n",
    "display(data)"
   ]
  },
  {
   "cell_type": "code",
   "execution_count": null,
   "metadata": {
    "colab": {
     "base_uri": "https://localhost:8080/",
     "height": 174
    },
    "id": "QMZcapyCrWWU",
    "outputId": "32bd940a-938b-41fd-f4c5-4bed9ddfd9cc"
   },
   "outputs": [],
   "source": [
    "\n",
    "# selecting 0th, 2nd, 4th, and 7th index rows\n",
    "display(data.iloc[[0, 2, 4, 7]])"
   ]
  },
  {
   "cell_type": "code",
   "execution_count": null,
   "metadata": {
    "colab": {
     "base_uri": "https://localhost:8080/",
     "height": 174
    },
    "id": "AnwKkMkvrZrt",
    "outputId": "c183117f-5a13-4484-945f-cba21854d475"
   },
   "outputs": [],
   "source": [
    "# selecting rows from 1 to 4 and columns from 2 to 4\n",
    "display(data.iloc[1: 5, 2: 5])"
   ]
  },
  {
   "cell_type": "code",
   "execution_count": null,
   "metadata": {
    "colab": {
     "base_uri": "https://localhost:8080/",
     "height": 1000
    },
    "id": "YBHhMDsgsC4d",
    "outputId": "8599d99a-9522-47a8-8adf-1f107303e673"
   },
   "outputs": [],
   "source": [
    "# Bar plot\n",
    "import seaborn as sns\n",
    "import matplotlib.pyplot as plt\n",
    "\n",
    "df=titanic\n",
    "sns.countplot(x='Survived', data=df)\n",
    "plt.xlabel('Survival Status')\n",
    "plt.ylabel('Count')\n",
    "plt.title('Survival Count')\n",
    "plt.show()\n",
    "\n",
    "# Histogram\n",
    "plt.hist(df['Age'], bins=10)\n",
    "plt.xlabel('Age')\n",
    "plt.ylabel('Frequency')\n",
    "plt.title('Distribution of Age')\n",
    "plt.show()\n",
    "\n",
    "# Scatter plot\n",
    "plt.scatter(df['Age'], df['Fare'])\n",
    "plt.xlabel('Age')\n",
    "plt.ylabel('Fare')\n",
    "plt.title('Age vs. Fare')\n",
    "plt.show()\n",
    "\n",
    "# Box plot\n",
    "sns.boxplot(x=df['Survived'], y=df['Fare'])\n",
    "plt.xlabel('Survival Status')\n",
    "plt.ylabel('Fare')\n",
    "plt.title('Survival Status vs. Fare')\n",
    "plt.show()"
   ]
  }
 ],
 "metadata": {
  "colab": {
   "provenance": []
  },
  "kernelspec": {
   "display_name": "Python 3 (ipykernel)",
   "language": "python",
   "name": "python3"
  },
  "language_info": {
   "codemirror_mode": {
    "name": "ipython",
    "version": 3
   },
   "file_extension": ".py",
   "mimetype": "text/x-python",
   "name": "python",
   "nbconvert_exporter": "python",
   "pygments_lexer": "ipython3",
   "version": "3.12.4"
  }
 },
 "nbformat": 4,
 "nbformat_minor": 4
}
