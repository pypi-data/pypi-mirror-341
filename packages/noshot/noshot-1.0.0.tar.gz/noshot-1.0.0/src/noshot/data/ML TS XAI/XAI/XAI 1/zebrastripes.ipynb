{
 "cells": [
  {
   "cell_type": "markdown",
   "metadata": {
    "id": "4PnCCPc1p3y0"
   },
   "source": []
  },
  {
   "cell_type": "code",
   "execution_count": null,
   "metadata": {
    "colab": {
     "base_uri": "https://localhost:8080/",
     "height": 998
    },
    "id": "Vto3GO8wjdwW",
    "outputId": "e5434ca5-a006-4466-8494-64b63fd274ed"
   },
   "outputs": [],
   "source": [
    "import numpy as np\n",
    "import tensorflow as tf\n",
    "from tensorflow.keras.applications.inception_v3 import InceptionV3, preprocess_input, decode_predictions\n",
    "from tensorflow.keras.preprocessing.image import load_img, img_to_array\n",
    "from sklearn.linear_model import SGDClassifier\n",
    "import matplotlib.pyplot as plt\n",
    "import os\n",
    "\n",
    "# Step 1: Load Pretrained Model\n",
    "model = InceptionV3(weights='imagenet')\n",
    "layer_name = 'mixed10'  # Layer to get activations from\n",
    "\n",
    "intermediate_model = tf.keras.Model(\n",
    "    inputs=model.input,\n",
    "    outputs=model.get_layer(layer_name).output\n",
    ")\n",
    "\n",
    "# Step 2: Load a local zebra image\n",
    "img_path = 'zebra.jpg'  # Ensure this image exists in your working directory\n",
    "img = load_img(img_path, target_size=(299, 299))\n",
    "x = img_to_array(img)\n",
    "x = np.expand_dims(x, axis=0)\n",
    "x = preprocess_input(x)\n",
    "\n",
    "preds = model.predict(x)\n",
    "print(\"Prediction:\", decode_predictions(preds, top=3)[0])\n",
    "\n",
    "# Step 3: Generate synthetic \"striped\" concept images\n",
    "def generate_striped_images(num=20):\n",
    "    images = []\n",
    "    for _ in range(num):\n",
    "        img = np.zeros((299, 299, 3), dtype=np.uint8)\n",
    "        for i in range(0, 299, 10):\n",
    "            img[:, i:i+5, :] = 255  # white vertical stripes\n",
    "        images.append(preprocess_input(np.expand_dims(img, axis=0)))\n",
    "    return np.vstack(images)\n",
    "\n",
    "striped_images = generate_striped_images(20)\n",
    "\n",
    "# Step 4: Extract activations\n",
    "concept_activations = intermediate_model.predict(striped_images)\n",
    "image_activations = intermediate_model.predict(x)\n",
    "\n",
    "# Step 5: Train CAV (Concept Activation Vector)\n",
    "X = np.concatenate([concept_activations, np.random.normal(size=concept_activations.shape)])\n",
    "y = np.array([1] * len(concept_activations) + [0] * len(concept_activations))\n",
    "\n",
    "X_flat = X.reshape(X.shape[0], -1)\n",
    "clf = SGDClassifier().fit(X_flat, y)\n",
    "cav = clf.coef_.reshape(concept_activations.shape[1:])\n",
    "\n",
    "# Step 6: Compute directional derivative\n",
    "image_activ_flat = image_activations.reshape(-1)\n",
    "cav_flat = cav.reshape(-1)\n",
    "directional_derivative = np.dot(image_activ_flat, cav_flat)\n",
    "print(f\"Directional derivative: {directional_derivative:.4f}\")\n",
    "\n",
    "# Step 7: TCAV Score: high means concept strongly influences the prediction\n",
    "tcav_score = np.mean([np.dot(act.reshape(-1), cav_flat) > 0 for act in concept_activations])\n",
    "print(f\"TCAV Score for 'striped' concept influencing 'zebra': {tcav_score:.2f}\")\n",
    "\n",
    "# Step 8: Visualize\n",
    "plt.imshow(img)\n",
    "plt.title(\"Target Image: Zebra\")\n",
    "plt.axis('off')\n",
    "plt.show()\n",
    "\n",
    "# Visualize a striped concept\n",
    "plt.imshow(generate_striped_images(1)[0].astype(np.uint8))\n",
    "plt.title(\"Concept Image: Striped\")\n",
    "plt.axis('off')\n",
    "plt.show()\n"
   ]
  },
  {
   "cell_type": "code",
   "execution_count": null,
   "metadata": {
    "colab": {
     "base_uri": "https://localhost:8080/",
     "height": 391
    },
    "id": "hAoVI8lvrxMK",
    "outputId": "40547026-5028-4e9d-faa2-a42f40db32f2"
   },
   "outputs": [],
   "source": [
    "import seaborn as sns\n",
    "\n",
    "# Plotting TCAV Score\n",
    "plt.figure(figsize=(6, 4))\n",
    "sns.barplot(x=['Striped'], y=[tcav_score])\n",
    "plt.ylim(0, 1)\n",
    "plt.ylabel(\"TCAV Score\")\n",
    "plt.title(\"Concept Influence on 'Zebra' Prediction\")\n",
    "plt.show()\n"
   ]
  },
  {
   "cell_type": "code",
   "execution_count": null,
   "metadata": {
    "id": "uHPJjGGarxO0"
   },
   "outputs": [],
   "source": []
  },
  {
   "cell_type": "code",
   "execution_count": null,
   "metadata": {
    "colab": {
     "base_uri": "https://localhost:8080/",
     "height": 471
    },
    "id": "zdSI-SG7rxUv",
    "outputId": "c02c478d-9e85-4714-92ed-7371f97b9301"
   },
   "outputs": [],
   "source": [
    "# Visualizing a few feature maps\n",
    "activ_map = image_activations[0]  # shape: (H, W, C)\n",
    "\n",
    "plt.figure(figsize=(12, 6))\n",
    "for i in range(6):\n",
    "    plt.subplot(2, 3, i+1)\n",
    "    plt.imshow(activ_map[:, :, i], cmap='viridis')\n",
    "    plt.axis('off')\n",
    "    plt.title(f\"Activation {i}\")\n",
    "plt.suptitle(\"Sample Activations from 'mixed10'\")\n",
    "plt.tight_layout()\n",
    "plt.show()\n"
   ]
  },
  {
   "cell_type": "code",
   "execution_count": null,
   "metadata": {
    "colab": {
     "base_uri": "https://localhost:8080/",
     "height": 1000
    },
    "id": "1_Wt1uCxjdzm",
    "outputId": "6ba618a0-dadb-49ac-9d7f-6ae4d0def622"
   },
   "outputs": [],
   "source": [
    "import os\n",
    "import numpy as np\n",
    "import tensorflow as tf\n",
    "from tensorflow.keras.applications.inception_v3 import InceptionV3, preprocess_input, decode_predictions\n",
    "from tensorflow.keras.preprocessing.image import load_img, img_to_array\n",
    "from sklearn.linear_model import SGDClassifier\n",
    "import matplotlib.pyplot as plt\n",
    "\n",
    "# Load pretrained model and intermediate layer\n",
    "model = InceptionV3(weights='imagenet')\n",
    "layer_name = 'mixed10'\n",
    "intermediate_model = tf.keras.Model(inputs=model.input, outputs=model.get_layer(layer_name).output)\n",
    "\n",
    "# Load and preprocess a target image (e.g., zebra)\n",
    "img_path = '/home/zebra.jpg'  # Put your own target image here\n",
    "img = load_img(img_path, target_size=(299, 299))\n",
    "x = img_to_array(img)\n",
    "x = np.expand_dims(x, axis=0)\n",
    "x = preprocess_input(x)\n",
    "\n",
    "preds = model.predict(x)\n",
    "print(\"Prediction:\", decode_predictions(preds, top=3)[0])\n",
    "\n",
    "# Helper function to load images from a folder\n",
    "def load_images_from_folder(folder, target_size=(299, 299)):\n",
    "    images = []\n",
    "    for filename in os.listdir(folder):\n",
    "        if filename.lower().endswith(('.jpg', '.png', '.jpeg')):\n",
    "            path = os.path.join(folder, filename)\n",
    "            img = load_img(path, target_size=target_size)\n",
    "            img_array = preprocess_input(np.expand_dims(img_to_array(img), axis=0))\n",
    "            images.append(img_array)\n",
    "    return np.vstack(images)\n",
    "\n",
    "# Load concept and random images from folders\n",
    "concept_folder = '/home/striped'\n",
    "random_folder = '/home/sky'\n",
    "\n",
    "concept_images = load_images_from_folder(concept_folder)\n",
    "random_images = load_images_from_folder(random_folder)\n",
    "\n",
    "# Extract activations\n",
    "concept_activations = intermediate_model.predict(concept_images)\n",
    "random_activations = intermediate_model.predict(random_images)\n",
    "image_activations = intermediate_model.predict(x)\n",
    "\n",
    "# Train CAV\n",
    "X = np.concatenate([concept_activations, random_activations])\n",
    "y = np.array([1] * len(concept_activations) + [0] * len(random_activations))\n",
    "\n",
    "X_flat = X.reshape(X.shape[0], -1)\n",
    "clf = SGDClassifier().fit(X_flat, y)\n",
    "cav = clf.coef_.reshape(concept_activations.shape[1:])\n",
    "\n",
    "# Compute directional derivative\n",
    "image_activ_flat = image_activations.reshape(-1)\n",
    "cav_flat = cav.reshape(-1)\n",
    "directional_derivative = np.dot(image_activ_flat, cav_flat)\n",
    "print(f\"Directional derivative: {directional_derivative:.4f}\")\n",
    "\n",
    "# TCAV Score\n",
    "tcav_score = np.mean([np.dot(act.reshape(-1), cav_flat) > 0 for act in concept_activations])\n",
    "print(f\"TCAV Score for concept: {tcav_score:.2f}\")\n",
    "\n",
    "# Visualization\n",
    "plt.imshow(img)\n",
    "plt.title(\"Target Image\")\n",
    "plt.axis('off')\n",
    "plt.show()\n",
    "\n",
    "plt.imshow(load_img(os.path.join(concept_folder, os.listdir(concept_folder)[0])))\n",
    "plt.title(\"Concept Image Sample\")\n",
    "plt.axis('off')\n",
    "plt.show()\n"
   ]
  }
 ],
 "metadata": {
  "colab": {
   "provenance": []
  },
  "kernelspec": {
   "display_name": "Python 3 (ipykernel)",
   "language": "python",
   "name": "python3"
  },
  "language_info": {
   "codemirror_mode": {
    "name": "ipython",
    "version": 3
   },
   "file_extension": ".py",
   "mimetype": "text/x-python",
   "name": "python",
   "nbconvert_exporter": "python",
   "pygments_lexer": "ipython3",
   "version": "3.12.4"
  }
 },
 "nbformat": 4,
 "nbformat_minor": 4
}
