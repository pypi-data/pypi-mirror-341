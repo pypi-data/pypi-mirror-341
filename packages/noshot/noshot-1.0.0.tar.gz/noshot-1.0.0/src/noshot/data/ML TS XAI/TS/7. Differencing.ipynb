{
 "cells": [
  {
   "cell_type": "code",
   "execution_count": null,
   "id": "0ac778c2-495b-4613-80ca-d6be2b71e598",
   "metadata": {},
   "outputs": [],
   "source": [
    "import pandas as pd\n",
    "import numpy as np\n",
    "import matplotlib.pyplot as plt"
   ]
  },
  {
   "cell_type": "code",
   "execution_count": null,
   "id": "a843538d-035e-4a90-b67b-1fa647c22f70",
   "metadata": {},
   "outputs": [],
   "source": [
    "df = pd.read_csv('daily-min-temperatures.csv', parse_dates = ['Date'], index_col = 'Date')\n",
    "df.head()"
   ]
  },
  {
   "cell_type": "code",
   "execution_count": null,
   "id": "c3aff0e1-9c54-474f-83ea-2b6bb632bd3f",
   "metadata": {},
   "outputs": [],
   "source": [
    "df.plot(title = 'Daily Minimum Temperatures', figsize = (14, 8), legend = None)\n",
    "plt.xlabel('Date')\n",
    "plt.ylabel('Temperature (°C)')\n",
    "plt.show()"
   ]
  },
  {
   "cell_type": "code",
   "execution_count": null,
   "id": "5d08b196-75c8-473d-b77e-85008048d590",
   "metadata": {},
   "outputs": [],
   "source": [
    "differenced_series = df.diff(periods=1) #lag-1 difference\n",
    "plt.subplot(2, 1, 1)\n",
    "plt.plot(df, label = \"Original Series\")\n",
    "plt.title(\"Original Daily Minimum Temperatures\")\n",
    "plt.grid()\n",
    "\n",
    "plt.subplot(2, 1, 2)\n",
    "plt.plot(differenced_series, label = \"Differneced Series\", color=\"green\")\n",
    "plt.title(\"Differneced Daily Minimum Temperatures\")\n",
    "plt.grid()\n",
    "\n",
    "plt.tight_layout()\n",
    "plt.show()"
   ]
  },
  {
   "cell_type": "code",
   "execution_count": null,
   "id": "800dd56a-1b3f-4cdd-8fac-802048d1160b",
   "metadata": {},
   "outputs": [],
   "source": [
    "X = df.values\n",
    "diff = []\n",
    "days_in_year =  365\n",
    "for i in range(days_in_year, len(X)):\n",
    "    value = X[i] - X[i - days_in_year]\n",
    "    diff.append(value)\n",
    "plt.plot(diff)\n",
    "plt.show()"
   ]
  },
  {
   "cell_type": "code",
   "execution_count": null,
   "id": "1dc499f8-4c1d-4d65-9e16-3439fe22ef13",
   "metadata": {},
   "outputs": [],
   "source": [
    "df['diff'] = df['Temp'].diff(periods=1)\n",
    "\n",
    "plt.plot(df.index, df['Temp'], label = 'Original')\n",
    "plt.plot(df.index, df['diff'], label = 'Differenced (lag-1)')\n",
    "plt.xlabel('Date')\n",
    "plt.ylabel('Temperature (°C)')\n",
    "plt.title(\"Temperature Time Series with Differencing\")\n",
    "plt.legend()\n",
    "plt.show()"
   ]
  },
  {
   "cell_type": "code",
   "execution_count": null,
   "id": "7f720228-762a-48e3-aa61-733846cca105",
   "metadata": {},
   "outputs": [],
   "source": [
    "df = pd.read_csv('daily-min-temperatures.csv', header=0, index_col = 0)\n",
    "X = [i%365 for i in range(0, len(df))]\n",
    "y = df.values"
   ]
  },
  {
   "cell_type": "code",
   "execution_count": null,
   "id": "87262e57-a216-422d-a768-2d2459df23ff",
   "metadata": {},
   "outputs": [],
   "source": [
    "degree = 4\n",
    "coef = np.polyfit(X, y, degree)\n",
    "print(\"Coefficients:\\n\", coef)"
   ]
  },
  {
   "cell_type": "code",
   "execution_count": null,
   "id": "daec417d-061a-4953-9d2b-206dbc0ba8e7",
   "metadata": {},
   "outputs": [],
   "source": [
    "curve = []\n",
    "for i in range(len(X)):\n",
    "    value = coef[-1]\n",
    "    for d in range(degree):\n",
    "        value += (X[i]**(degree - d)) * coef[d]\n",
    "        curve.append(value)\n",
    "\n",
    "values = df.values\n",
    "\n",
    "diff = []\n",
    "for i in range(len(values)):\n",
    "    value = values[i] - curve[i]\n",
    "    diff.append(value)\n",
    "\n",
    "plt.plot(diff)\n",
    "plt.show()"
   ]
  }
 ],
 "metadata": {
  "kernelspec": {
   "display_name": "Python 3 (ipykernel)",
   "language": "python",
   "name": "python3"
  },
  "language_info": {
   "codemirror_mode": {
    "name": "ipython",
    "version": 3
   },
   "file_extension": ".py",
   "mimetype": "text/x-python",
   "name": "python",
   "nbconvert_exporter": "python",
   "pygments_lexer": "ipython3",
   "version": "3.12.4"
  }
 },
 "nbformat": 4,
 "nbformat_minor": 5
}
