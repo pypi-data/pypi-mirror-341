{
 "cells": [
  {
   "cell_type": "code",
   "execution_count": null,
   "metadata": {
    "id": "dGFvje0Qt50J"
   },
   "outputs": [],
   "source": [
    "import pandas as pd\n",
    "D1=pd.read_csv(\"IRIS1.csv\")\n",
    "#the csv file is read in to D1 dataframe\n",
    "#pandas package deals with reading csv files"
   ]
  },
  {
   "cell_type": "code",
   "execution_count": null,
   "metadata": {
    "id": "_duANehevpqe"
   },
   "outputs": [],
   "source": []
  },
  {
   "cell_type": "markdown",
   "metadata": {
    "id": "TX8AY1zlubhL"
   },
   "source": [
    "Exploratory Data analytics-ipynb file-EDA_IRISH_8thjan"
   ]
  },
  {
   "cell_type": "code",
   "execution_count": null,
   "metadata": {
    "colab": {
     "base_uri": "https://localhost:8080/",
     "height": 206
    },
    "id": "ZvaWBKnIuj1Q",
    "outputId": "696f6903-d0d9-49b2-90f5-923430b5a5c2"
   },
   "outputs": [],
   "source": [
    "D1.head(5) # by deafult D1(the dataframe) head gives me 5 rows, here the rows are observations and the columns are attributes"
   ]
  },
  {
   "cell_type": "markdown",
   "metadata": {
    "id": "AxaJqvgTvXxo"
   },
   "source": [
    "by deafult D1(the dataframe) head gives me 5 rows, here the rows are observations and the columns are attributes"
   ]
  },
  {
   "cell_type": "code",
   "execution_count": null,
   "metadata": {
    "colab": {
     "base_uri": "https://localhost:8080/",
     "height": 206
    },
    "id": "3Qw4Ty6xvZCn",
    "outputId": "570b0b6e-b81a-434a-d014-fbbcf7a78800"
   },
   "outputs": [],
   "source": [
    "D1.tail()"
   ]
  },
  {
   "cell_type": "markdown",
   "metadata": {
    "id": "hHARmuAZwDrB"
   },
   "source": [
    "CSV -comma seperated value"
   ]
  },
  {
   "cell_type": "code",
   "execution_count": null,
   "metadata": {
    "colab": {
     "base_uri": "https://localhost:8080/"
    },
    "id": "7FVrFLqTwPuI",
    "outputId": "f1f08824-bc21-452d-f56c-01f50c9eb7c7"
   },
   "outputs": [],
   "source": [
    "D1.shape"
   ]
  },
  {
   "cell_type": "code",
   "execution_count": null,
   "metadata": {
    "colab": {
     "base_uri": "https://localhost:8080/"
    },
    "id": "N7RyCNqtwkRv",
    "outputId": "c2412510-4382-4657-ac57-851bd765b3cf"
   },
   "outputs": [],
   "source": [
    "D1.info()"
   ]
  },
  {
   "cell_type": "code",
   "execution_count": null,
   "metadata": {
    "colab": {
     "base_uri": "https://localhost:8080/",
     "height": 300
    },
    "id": "tXpl-p-Jwz1I",
    "outputId": "40c3c71b-88c9-4c07-8d2e-0bea70efa741"
   },
   "outputs": [],
   "source": [
    "D1.describe()"
   ]
  },
  {
   "cell_type": "code",
   "execution_count": null,
   "metadata": {
    "colab": {
     "base_uri": "https://localhost:8080/"
    },
    "id": "oWMPra54xcDi",
    "outputId": "aa646590-d72e-4fd3-c54f-1fd5655793ef"
   },
   "outputs": [],
   "source": [
    "D1.columns"
   ]
  },
  {
   "cell_type": "code",
   "execution_count": null,
   "metadata": {
    "colab": {
     "base_uri": "https://localhost:8080/"
    },
    "id": "cnc85x6ExjKx",
    "outputId": "5f71dc96-7a27-41f7-e912-0bafaa520a96"
   },
   "outputs": [],
   "source": [
    "D1['Species'].value_counts()"
   ]
  },
  {
   "cell_type": "code",
   "execution_count": null,
   "metadata": {
    "colab": {
     "base_uri": "https://localhost:8080/",
     "height": 424
    },
    "id": "GU54vUy0yBog",
    "outputId": "0d670a11-5d79-41a7-8f60-f3dc68706d3d"
   },
   "outputs": [],
   "source": [
    "import seaborn as sns\n",
    "import matplotlib.pyplot as plt\n",
    "sns.set_style('whitegrid')\n",
    "sns.FacetGrid(D1,hue='Species',height=4).map(plt.scatter,'SepalLengthCm','SepalWidthCm').add_legend()"
   ]
  },
  {
   "cell_type": "code",
   "execution_count": null,
   "metadata": {
    "colab": {
     "base_uri": "https://localhost:8080/",
     "height": 261
    },
    "id": "2ealmeYm1BV_",
    "outputId": "292a8c1d-bee9-4005-b1e1-f478459f245b"
   },
   "outputs": [],
   "source": [
    "D1.corr()"
   ]
  },
  {
   "cell_type": "markdown",
   "metadata": {
    "id": "WLTiQEH71Zg_"
   },
   "source": [
    "correlation matrix gives the correlation between each column and other columns"
   ]
  },
  {
   "cell_type": "code",
   "execution_count": null,
   "metadata": {
    "colab": {
     "base_uri": "https://localhost:8080/",
     "height": 206
    },
    "id": "wOUhW4Ee1ksw",
    "outputId": "18ab735e-1cd3-45a0-a852-ee8181c1b9d4"
   },
   "outputs": [],
   "source": [
    "D1=D1.drop(['Id'],axis=1)\n",
    "D1.head()"
   ]
  },
  {
   "cell_type": "code",
   "execution_count": null,
   "metadata": {
    "colab": {
     "base_uri": "https://localhost:8080/",
     "height": 229
    },
    "id": "MVnmVZcg2F1_",
    "outputId": "de271d34-3ad1-4b0d-949f-dcce336f8b0d"
   },
   "outputs": [],
   "source": [
    "D1.corr()"
   ]
  },
  {
   "cell_type": "code",
   "execution_count": null,
   "metadata": {
    "colab": {
     "base_uri": "https://localhost:8080/",
     "height": 821
    },
    "id": "NQ3tMO9U27DP",
    "outputId": "5a2b45e6-adc8-4451-9e00-7f3490f659c8"
   },
   "outputs": [],
   "source": [
    "#pairplot to be drawn\n",
    "sns.pairplot(D1)"
   ]
  },
  {
   "cell_type": "code",
   "execution_count": null,
   "metadata": {
    "colab": {
     "base_uri": "https://localhost:8080/",
     "height": 603
    },
    "id": "evijQMEh3bZG",
    "outputId": "b6615629-f159-49f5-c378-817ddc2383f0"
   },
   "outputs": [],
   "source": [
    "H=D1.corr()\n",
    "sns.heatmap(H)"
   ]
  },
  {
   "cell_type": "code",
   "execution_count": null,
   "metadata": {
    "id": "d_w0Ofuu0U2k"
   },
   "outputs": [],
   "source": [
    "D1['Species'].replace(0, 'Iris-setosa',inplace=True)\n",
    "D1['Species'].replace(1, 'Iris-versicolor',inplace=True)\n",
    "D1['Species'].replace(2, 'Iris-virginica',inplace=True)"
   ]
  },
  {
   "cell_type": "code",
   "execution_count": null,
   "metadata": {
    "colab": {
     "base_uri": "https://localhost:8080/",
     "height": 158
    },
    "id": "2iJiG_Xt0coi",
    "outputId": "c317f036-d1d5-449d-c6c4-738d4c7da57b"
   },
   "outputs": [],
   "source": [
    "D1.head(1)"
   ]
  }
 ],
 "metadata": {
  "colab": {
   "provenance": []
  },
  "kernelspec": {
   "display_name": "Python 3 (ipykernel)",
   "language": "python",
   "name": "python3"
  },
  "language_info": {
   "codemirror_mode": {
    "name": "ipython",
    "version": 3
   },
   "file_extension": ".py",
   "mimetype": "text/x-python",
   "name": "python",
   "nbconvert_exporter": "python",
   "pygments_lexer": "ipython3",
   "version": "3.12.4"
  }
 },
 "nbformat": 4,
 "nbformat_minor": 4
}
