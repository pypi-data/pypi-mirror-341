{
 "cells": [
  {
   "cell_type": "code",
   "execution_count": 12,
   "id": "67e9df94",
   "metadata": {},
   "outputs": [
    {
     "name": "stdout",
     "output_type": "stream",
     "text": [
      "Requirement already satisfied: tibetan-wer in /home/j/Documents/tibetan-wer/.venv/lib/python3.12/site-packages (0.0.0)\n",
      "Collecting tibetan-wer\n",
      "  Downloading tibetan_wer-0.0.1-py3-none-any.whl.metadata (1.2 kB)\n",
      "Requirement already satisfied: botok in /home/j/Documents/tibetan-wer/.venv/lib/python3.12/site-packages (from tibetan-wer) (0.9.0)\n",
      "Requirement already satisfied: numpy in /home/j/Documents/tibetan-wer/.venv/lib/python3.12/site-packages (from tibetan-wer) (2.2.4)\n",
      "Requirement already satisfied: pyyaml in /home/j/Documents/tibetan-wer/.venv/lib/python3.12/site-packages (from botok->tibetan-wer) (6.0.2)\n",
      "Requirement already satisfied: requests in /home/j/Documents/tibetan-wer/.venv/lib/python3.12/site-packages (from botok->tibetan-wer) (2.32.3)\n",
      "Requirement already satisfied: charset-normalizer<4,>=2 in /home/j/Documents/tibetan-wer/.venv/lib/python3.12/site-packages (from requests->botok->tibetan-wer) (3.4.1)\n",
      "Requirement already satisfied: idna<4,>=2.5 in /home/j/Documents/tibetan-wer/.venv/lib/python3.12/site-packages (from requests->botok->tibetan-wer) (3.10)\n",
      "Requirement already satisfied: urllib3<3,>=1.21.1 in /home/j/Documents/tibetan-wer/.venv/lib/python3.12/site-packages (from requests->botok->tibetan-wer) (2.4.0)\n",
      "Requirement already satisfied: certifi>=2017.4.17 in /home/j/Documents/tibetan-wer/.venv/lib/python3.12/site-packages (from requests->botok->tibetan-wer) (2025.1.31)\n",
      "Downloading tibetan_wer-0.0.1-py3-none-any.whl (6.5 kB)\n",
      "Installing collected packages: tibetan-wer\n",
      "  Attempting uninstall: tibetan-wer\n",
      "    Found existing installation: tibetan-wer 0.0.0\n",
      "    Uninstalling tibetan-wer-0.0.0:\n",
      "      Successfully uninstalled tibetan-wer-0.0.0\n",
      "Successfully installed tibetan-wer-0.0.1\n"
     ]
    }
   ],
   "source": [
    "! pip install --upgrade tibetan-wer"
   ]
  },
  {
   "cell_type": "code",
   "execution_count": 13,
   "id": "f2bddc48",
   "metadata": {},
   "outputs": [
    {
     "name": "stdout",
     "output_type": "stream",
     "text": [
      "Name: tibetan-wer\n",
      "Version: 0.0.1\n",
      "Summary: Compute Word Error Rate for Tibetan language text.\n",
      "Home-page: https://github.com/billingsmoore/tibetan-wer\n",
      "Author: \n",
      "Author-email: billingsmoore <billingsmoore@gmail.com>\n",
      "License: \n",
      "Location: /home/j/Documents/tibetan-wer/.venv/lib/python3.12/site-packages\n",
      "Requires: botok, numpy\n",
      "Required-by: \n"
     ]
    }
   ],
   "source": [
    "! pip show tibetan_wer"
   ]
  },
  {
   "cell_type": "code",
   "execution_count": 14,
   "id": "96f1cb0d",
   "metadata": {},
   "outputs": [
    {
     "name": "stdout",
     "output_type": "stream",
     "text": [
      "WER Score: 0.125\n"
     ]
    }
   ],
   "source": [
    "from tibetan_wer.wer import wer\n",
    "\n",
    "prediction = 'འཇམ་དཔལ་གཞོན་ནུར་གྱུར་པ་ལ་ཕྱག་འཚལ་ལོ༔'\n",
    "reference = 'གཞོན་ནུར་གྱུར་པ་ལ་ཕྱག་འཚལ་ལོ༔'\n",
    "\n",
    "wer_score = wer(prediction, reference)\n",
    "\n",
    "print(f'WER Score: {wer_score}')"
   ]
  },
  {
   "cell_type": "code",
   "execution_count": 15,
   "id": "7c229990",
   "metadata": {},
   "outputs": [
    {
     "name": "stdout",
     "output_type": "stream",
     "text": [
      "Collecting jiwer\n",
      "  Using cached jiwer-3.1.0-py3-none-any.whl.metadata (2.6 kB)\n",
      "Collecting click>=8.1.8 (from jiwer)\n",
      "  Using cached click-8.1.8-py3-none-any.whl.metadata (2.3 kB)\n",
      "Collecting rapidfuzz>=3.9.7 (from jiwer)\n",
      "  Using cached rapidfuzz-3.13.0-cp312-cp312-manylinux_2_17_x86_64.manylinux2014_x86_64.whl.metadata (12 kB)\n",
      "Using cached jiwer-3.1.0-py3-none-any.whl (22 kB)\n",
      "Using cached click-8.1.8-py3-none-any.whl (98 kB)\n",
      "Using cached rapidfuzz-3.13.0-cp312-cp312-manylinux_2_17_x86_64.manylinux2014_x86_64.whl (3.1 MB)\n",
      "Installing collected packages: rapidfuzz, click, jiwer\n",
      "Successfully installed click-8.1.8 jiwer-3.1.0 rapidfuzz-3.13.0\n"
     ]
    }
   ],
   "source": [
    "! pip install jiwer"
   ]
  },
  {
   "cell_type": "code",
   "execution_count": 16,
   "id": "5068a340",
   "metadata": {},
   "outputs": [
    {
     "name": "stdout",
     "output_type": "stream",
     "text": [
      "WER Score: 1.0\n"
     ]
    }
   ],
   "source": [
    "from jiwer import wer as jiwer\n",
    "\n",
    "prediction = 'འཇམ་དཔལ་གཞོན་ནུར་གྱུར་པ་ལ་ཕྱག་འཚལ་ལོ༔'\n",
    "reference = 'གཞོན་ནུར་གྱུར་པ་ལ་ཕྱག་འཚལ་ལོ༔'\n",
    "\n",
    "wer_score = jiwer(prediction, reference)\n",
    "\n",
    "print(f'WER Score: {wer_score}')"
   ]
  },
  {
   "cell_type": "code",
   "execution_count": null,
   "id": "04289c54",
   "metadata": {},
   "outputs": [
    {
     "name": "stdout",
     "output_type": "stream",
     "text": [
      "Micro-Average WER Score: 0.1111111111111111\n",
      "Macro-Average WER Score: 0.1111111111111111\n",
      "Substitutions: 0\n",
      "Insertions: 0\n",
      "Deltions: 1\n"
     ]
    }
   ],
   "source": [
    "from wer import wer\n",
    "\n",
    "prediction = ['གཞོན་ནུར་གྱུར་པ་ལ་ཕྱག་འཚལ་ལོ༔']\n",
    "reference = ['འཇམ་དཔལ་གཞོན་ནུར་གྱུར་པ་ལ་ཕྱག་འཚལ་ལོ༔']\n",
    "\n",
    "result = wer(prediction, reference)\n",
    "\n",
    "print(f'Micro-Average WER Score: {result['micro_wer']}')\n",
    "print(f'Macro-Average WER Score: {result['macro_wer']}')\n",
    "print(f'Substitutions: {result['substitutions']}')\n",
    "print(f'Insertions: {result['insertions']}')\n",
    "print(f'Deletions: {result['deletions']}')"
   ]
  },
  {
   "cell_type": "code",
   "execution_count": null,
   "id": "318a70a6",
   "metadata": {},
   "outputs": [],
   "source": []
  }
 ],
 "metadata": {
  "kernelspec": {
   "display_name": ".venv",
   "language": "python",
   "name": "python3"
  },
  "language_info": {
   "codemirror_mode": {
    "name": "ipython",
    "version": 3
   },
   "file_extension": ".py",
   "mimetype": "text/x-python",
   "name": "python",
   "nbconvert_exporter": "python",
   "pygments_lexer": "ipython3",
   "version": "3.12.3"
  }
 },
 "nbformat": 4,
 "nbformat_minor": 5
}
