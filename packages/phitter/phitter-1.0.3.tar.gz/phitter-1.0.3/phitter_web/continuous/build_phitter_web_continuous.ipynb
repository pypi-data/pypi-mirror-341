{
 "cells": [
  {
   "cell_type": "code",
   "execution_count": 12,
   "metadata": {},
   "outputs": [],
   "source": [
    "import os\n",
    "import re\n",
    "\n",
    "import black"
   ]
  },
  {
   "cell_type": "code",
   "execution_count": 13,
   "metadata": {},
   "outputs": [],
   "source": [
    "def process_py_file(file_path):\n",
    "    with open(file_path, \"r\", encoding=\"utf8\") as f:\n",
    "        file_content = f.read()\n",
    "\n",
    "    # Remove import statements\n",
    "    file_content = re.sub(r\"^import.*$|^from .* import.*$\", \"\", file_content, flags=re.MULTILINE)\n",
    "    file_content = re.sub(r\"from\\s+\\.\\w+\\s+import\\s+[\\w+,?\\s?]+\", \"\", file_content, flags=re.MULTILINE)\n",
    "    file_content = re.sub(r\"^sys.path.append.*\\n\", \"\", file_content, flags=re.MULTILINE)\n",
    "\n",
    "    # Remove comments\n",
    "    file_content = re.sub(r\"#.*\", \"\", file_content)\n",
    "\n",
    "    # # Remove function descriptions and docstrings\n",
    "    patron_docstrings_triple_comillas = r\"(\\\"\\\"\\\")(.*?)(\\\"\\\"\\\")\"\n",
    "    patron_docstrings_comillas_simples = r\"(\\'\\'\\')(.*?)(\\'\\'\\')\"\n",
    "    patron_total = f\"{patron_docstrings_triple_comillas}|{patron_docstrings_comillas_simples}\"\n",
    "\n",
    "    file_content = re.sub(patron_total, \"\", file_content, flags=re.DOTALL)\n",
    "\n",
    "    # Remove the code inside if __name__ == \"__main__\": block\n",
    "    file_content = re.sub(r'if __name__ == \"__main__\":[\\s\\S]*', \"\", file_content)\n",
    "\n",
    "    # Remove any empty lines and extra whitespaces\n",
    "    file_content = re.sub(r\"^\\s*\\n\", \"\", file_content, flags=re.MULTILINE)\n",
    "    file_content = re.sub(r\"\\n\\s*\\n\", \"\\n\", file_content)\n",
    "    file_content = file_content.strip()\n",
    "\n",
    "    return file_content"
   ]
  },
  {
   "cell_type": "code",
   "execution_count": 14,
   "metadata": {},
   "outputs": [],
   "source": [
    "def get_import_lines(file_path):\n",
    "    with open(file_path, \"r\", encoding=\"utf8\") as f:\n",
    "        file_content = f.read()\n",
    "\n",
    "    # Find all import lines using regular expression\n",
    "    import_lines = re.findall(r\"^import.*$|^from .* import.*$\", file_content, re.MULTILINE)\n",
    "\n",
    "    return import_lines"
   ]
  },
  {
   "cell_type": "code",
   "execution_count": 15,
   "metadata": {},
   "outputs": [
    {
     "name": "stdout",
     "output_type": "stream",
     "text": [
      "class FatigueLife:\n",
      "    def __init__(\n",
      "        self,\n",
      "        parameters: dict[str, int | float] = None,\n",
      "        continuous_measures=None,\n",
      "        init_parameters_examples=False,\n",
      "    ):\n",
      "        if continuous_measures is None and parameters is None and init_parameters_examples == False:\n",
      "            raise ValueError(\n",
      "                \"You must initialize the distribution by providing one of the following: distribution parameters, a Continuous Measures [ContinuousMeasures] instance, or by setting init_parameters_examples to True.\"\n",
      "            )\n",
      "        if continuous_measures != None:\n",
      "            self.parameters = self.get_parameters(continuous_measures=continuous_measures)\n",
      "        if parameters != None:\n",
      "            self.parameters = parameters\n",
      "        if init_parameters_examples:\n",
      "            self.parameters = self.parameters_example\n",
      "        self.gamma = self.parameters[\"gamma\"]\n",
      "        self.loc = self.parameters[\"loc\"]\n",
      "        self.scale = self.parameters[\"scale\"]\n",
      "    @property\n",
      "    def name(self):\n",
      "        return \"fatigue_life\"\n",
      "    @property\n",
      "    def parameters_example(self) -> dict[str, int | float]:\n",
      "        return {\"gamma\": 5, \"loc\": 3, \"scale\": 9}\n",
      "    def cdf(self, x: float | numpy.ndarray) -> float | numpy.ndarray:\n",
      "        result = scipy.stats.fatiguelife.cdf(x, self.gamma, loc=self.loc, scale=self.scale)\n",
      "        return result\n",
      "    def pdf(self, x: float | numpy.ndarray) -> float | numpy.ndarray:\n",
      "        result = scipy.stats.fatiguelife.pdf(x, self.gamma, loc=self.loc, scale=self.scale)\n",
      "        return result\n",
      "    def ppf(self, u: float | numpy.ndarray) -> float | numpy.ndarray:\n",
      "        result = scipy.stats.fatiguelife.ppf(u, self.gamma, loc=self.loc, scale=self.scale)\n",
      "        return result\n",
      "    def sample(self, n: int, seed: int | None = None) -> numpy.ndarray:\n",
      "        if seed:\n",
      "            numpy.random.seed(seed)\n",
      "        return self.ppf(numpy.random.rand(n))\n",
      "    def non_central_moments(self, k: int) -> float | None:\n",
      "        return None\n",
      "    def central_moments(self, k: int) -> float | None:\n",
      "        return None\n",
      "    @property\n",
      "    def mean(self) -> float:\n",
      "        return self.loc + self.scale * (1 + self.gamma**2 / 2)\n",
      "    @property\n",
      "    def variance(self) -> float:\n",
      "        return self.scale**2 * self.gamma**2 * (1 + (5 * self.gamma**2) / 4)\n",
      "    @property\n",
      "    def standard_deviation(self) -> float:\n",
      "        return numpy.sqrt(self.variance)\n",
      "    @property\n",
      "    def skewness(self) -> float:\n",
      "        return (4 * self.gamma**2 * (11 * self.gamma**2 + 6)) / ((5 * self.gamma**2 + 4) * numpy.sqrt(self.gamma**2 * (5 * self.gamma**2 + 4)))\n",
      "    @property\n",
      "    def kurtosis(self) -> float:\n",
      "        return 3 + (6 * self.gamma * self.gamma * (93 * self.gamma * self.gamma + 40)) / (5 * self.gamma**2 + 4) ** 2\n",
      "    @property\n",
      "    def median(self) -> float:\n",
      "        return self.ppf(0.5)\n",
      "    @property\n",
      "    def mode(self) -> float:\n",
      "        return None\n",
      "    @property\n",
      "    def num_parameters(self) -> int:\n",
      "        return len(self.parameters)\n",
      "    def parameter_restrictions(self) -> bool:\n",
      "        v1 = self.scale > 0\n",
      "        v2 = self.gamma > 0\n",
      "        return v1 and v2\n",
      "    def get_parameters(self, continuous_measures) -> dict[str, float | int]:\n",
      "        def equations(initial_solution: tuple[float], continuous_measures) -> tuple[float]:\n",
      "            gamma, loc, scale = initial_solution\n",
      "            parametric_mean = loc + scale * (1 + gamma**2 / 2)\n",
      "            parametric_variance = scale**2 * gamma**2 * (1 + 5 * gamma**2 / 4)\n",
      "            parametric_kurtosis = 3 + (6 * gamma * gamma * (93 * gamma * gamma + 40)) / (5 * gamma**2 + 4) ** 2\n",
      "            parametric_median = loc + (scale * (gamma * scipy.stats.norm.ppf(0.5) + numpy.sqrt((gamma * scipy.stats.norm.ppf(0.5)) ** 2 + 4)) ** 2) / 4\n",
      "            eq1 = parametric_mean - continuous_measures.mean\n",
      "            eq2 = parametric_variance - continuous_measures.variance\n",
      "            eq3 = parametric_kurtosis - continuous_measures.kurtosis\n",
      "            return (eq1, eq2, eq3)\n",
      "        scipy_parameters = scipy.stats.fatiguelife.fit(continuous_measures.data_to_fit)\n",
      "        parameters = {\"gamma\": scipy_parameters[0], \"loc\": scipy_parameters[1], \"scale\": scipy_parameters[2]}\n",
      "        return parameters\n"
     ]
    }
   ],
   "source": [
    "input_file_path = \"../../phitter/continuous/continuous_distributions/fatigue_life.py\"\n",
    "processed_content = process_py_file(input_file_path)\n",
    "print(processed_content)"
   ]
  },
  {
   "cell_type": "code",
   "execution_count": 16,
   "metadata": {},
   "outputs": [],
   "source": [
    "input_file_path = \"../../phitter/continuous/continuous_distributions/fatigue_life.py\"\n",
    "import_lines = get_import_lines(input_file_path)"
   ]
  },
  {
   "cell_type": "code",
   "execution_count": 17,
   "metadata": {},
   "outputs": [],
   "source": [
    "IMPORTS = []\n",
    "for file in os.listdir(\"../../phitter/continuous/continuous_distributions\"):\n",
    "    if \".py\" in file and file != \"__init__.py\":\n",
    "        import_lines = get_import_lines(f\"../../phitter/continuous/continuous_distributions/{file}\")\n",
    "        IMPORTS.extend(import_lines)\n",
    "\n",
    "input_file_path = \"../../phitter/continuous/continuous_measures/CONTINUOUS_MEASURES.py\"\n",
    "import_lines = get_import_lines(input_file_path)\n",
    "IMPORTS.extend(import_lines)\n",
    "IMPORTS.append(\"import concurrent.futures\")\n",
    "IMPORTS.append(\"import typing\")"
   ]
  },
  {
   "cell_type": "code",
   "execution_count": 18,
   "metadata": {},
   "outputs": [],
   "source": [
    "CODE = \"\\n\".join(sorted(list(set(IMPORTS)))) + \"\\n\\n\"\n",
    "for file in os.listdir(\"../../phitter/continuous/continuous_distributions\"):\n",
    "    if \".py\" in file:\n",
    "        processed_content = process_py_file(f\"../../phitter/continuous/continuous_distributions/{file}\")\n",
    "        CODE += processed_content + \"\\n\\n\""
   ]
  },
  {
   "cell_type": "code",
   "execution_count": 19,
   "metadata": {},
   "outputs": [],
   "source": [
    "input_file_path = \"../../phitter/continuous/continuous_measures/CONTINUOUS_MEASURES.py\"\n",
    "measuerements_code = process_py_file(input_file_path)\n",
    "CODE += measuerements_code + \"\\n\\n\"\n",
    "\n",
    "input_file_path = \"../../phitter/continuous/continuous_statistical_tests/continuous_test_chi_square.py\"\n",
    "evaluate_continuous_test_chi_square_code = process_py_file(input_file_path)\n",
    "CODE += evaluate_continuous_test_chi_square_code + \"\\n\\n\"\n",
    "\n",
    "input_file_path = \"../../phitter/continuous/continuous_statistical_tests/continuous_test_kolmogorov_smirnov.py\"\n",
    "evaluate_continuous_test_kolmogorov_smirnov_code = process_py_file(input_file_path)\n",
    "CODE += evaluate_continuous_test_kolmogorov_smirnov_code + \"\\n\\n\"\n",
    "\n",
    "input_file_path = \"../../phitter/continuous/continuous_statistical_tests/continuous_test_anderson_darling.py\"\n",
    "evaluate_continuous_test_anderson_darling_code = process_py_file(input_file_path)\n",
    "evaluate_continuous_test_anderson_darling_code = evaluate_continuous_test_anderson_darling_code.replace(\"ad.\", \"\")\n",
    "CODE += evaluate_continuous_test_anderson_darling_code + \"\\n\\n\""
   ]
  },
  {
   "cell_type": "code",
   "execution_count": 20,
   "metadata": {},
   "outputs": [],
   "source": [
    "class_phitter_continuous_code = process_py_file(\"../../phitter/continuous/phitter_continuous.py\")\n",
    "CODE += class_phitter_continuous_code + \"\\n\\n\""
   ]
  },
  {
   "cell_type": "code",
   "execution_count": 21,
   "metadata": {},
   "outputs": [],
   "source": [
    "CODE = black.format_str(CODE, mode=black.FileMode(line_length=300))"
   ]
  },
  {
   "cell_type": "code",
   "execution_count": 22,
   "metadata": {},
   "outputs": [],
   "source": [
    "code_file = open(\"./phitter_web_continuous.py\", \"+w\", encoding=\"utf8\")\n",
    "code_file.write(CODE)\n",
    "code_file.close()"
   ]
  }
 ],
 "metadata": {
  "kernelspec": {
   "display_name": "Python 3",
   "language": "python",
   "name": "python3"
  },
  "language_info": {
   "codemirror_mode": {
    "name": "ipython",
    "version": 3
   },
   "file_extension": ".py",
   "mimetype": "text/x-python",
   "name": "python",
   "nbconvert_exporter": "python",
   "pygments_lexer": "ipython3",
   "version": "3.12.7"
  },
  "orig_nbformat": 4
 },
 "nbformat": 4,
 "nbformat_minor": 2
}
