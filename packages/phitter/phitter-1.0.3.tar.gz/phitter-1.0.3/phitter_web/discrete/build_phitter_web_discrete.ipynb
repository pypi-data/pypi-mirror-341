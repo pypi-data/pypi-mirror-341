{
 "cells": [
  {
   "cell_type": "code",
   "execution_count": 12,
   "metadata": {},
   "outputs": [],
   "source": [
    "import os\n",
    "import re\n",
    "\n",
    "import black"
   ]
  },
  {
   "cell_type": "code",
   "execution_count": 13,
   "metadata": {},
   "outputs": [],
   "source": [
    "def process_py_file(file_path):\n",
    "    with open(file_path, \"r\", encoding=\"utf8\") as f:\n",
    "        file_content = f.read()\n",
    "\n",
    "    # Remove import statements\n",
    "    file_content = re.sub(r\"^import.*$|^from .* import.*$\", \"\", file_content, flags=re.MULTILINE)\n",
    "\n",
    "    file_content = re.sub(r\"^sys.path.append.*\\n\", \"\", file_content, flags=re.MULTILINE)\n",
    "\n",
    "    # Remove comments\n",
    "    file_content = re.sub(r\"#.*\", \"\", file_content)\n",
    "\n",
    "    # # Remove function descriptions and docstrings\n",
    "    patron_docstrings_triple_comillas = r\"(\\\"\\\"\\\")(.*?)(\\\"\\\"\\\")\"\n",
    "    patron_docstrings_comillas_simples = r\"(\\'\\'\\')(.*?)(\\'\\'\\')\"\n",
    "    patron_total = f\"{patron_docstrings_triple_comillas}|{patron_docstrings_comillas_simples}\"\n",
    "\n",
    "    file_content = re.sub(patron_total, \"\", file_content, flags=re.DOTALL)\n",
    "\n",
    "    # Remove the code inside if __name__ == \"__main__\": block\n",
    "    file_content = re.sub(r'if __name__ == \"__main__\":[\\s\\S]*', \"\", file_content)\n",
    "\n",
    "    # Remove any empty lines and extra whitespaces\n",
    "    file_content = re.sub(r\"^\\s*\\n\", \"\", file_content, flags=re.MULTILINE)\n",
    "    file_content = re.sub(r\"\\n\\s*\\n\", \"\\n\", file_content)\n",
    "    file_content = file_content.strip()\n",
    "\n",
    "    return file_content"
   ]
  },
  {
   "cell_type": "code",
   "execution_count": 14,
   "metadata": {},
   "outputs": [],
   "source": [
    "def get_import_lines(file_path):\n",
    "    with open(file_path, \"r\", encoding=\"utf8\") as f:\n",
    "        file_content = f.read()\n",
    "\n",
    "    # Find all import lines using regular expression\n",
    "    import_lines = re.findall(r\"^import.*$|^from .* import.*$\", file_content, re.MULTILINE)\n",
    "\n",
    "    return import_lines"
   ]
  },
  {
   "cell_type": "code",
   "execution_count": 15,
   "metadata": {},
   "outputs": [
    {
     "name": "stdout",
     "output_type": "stream",
     "text": [
      "class Bernoulli:\n",
      "    def __init__(\n",
      "        self,\n",
      "        parameters: dict[str, int | float] = None,\n",
      "        discrete_measures=None,\n",
      "        init_parameters_examples=False,\n",
      "    ):\n",
      "        if discrete_measures is None and parameters is None and init_parameters_examples == False:\n",
      "            raise Exception(\"You must initialize the distribution by either providing the Discrete Measures [DiscreteMeasures] instance or a dictionary of the distribution's parameters.\")\n",
      "        if discrete_measures != None:\n",
      "            self.parameters = self.get_parameters(discrete_measures=discrete_measures)\n",
      "        if parameters != None:\n",
      "            self.parameters = parameters\n",
      "        if init_parameters_examples:\n",
      "            self.parameters = self.parameters_example\n",
      "        self.p = self.parameters[\"p\"]\n",
      "    @property\n",
      "    def name(self):\n",
      "        return \"bernoulli\"\n",
      "    @property\n",
      "    def parameters_example(self) -> dict[str, int | float]:\n",
      "        return {\"p\": 0.7006}\n",
      "    def cdf(self, x: int | numpy.ndarray) -> float | numpy.ndarray:\n",
      "        result = scipy.stats.bernoulli.cdf(x, self.p)\n",
      "        return result\n",
      "    def pmf(self, x: int | numpy.ndarray) -> float | numpy.ndarray:\n",
      "        result = (self.p**x) * (1 - self.p) ** (1 - x)\n",
      "        return result\n",
      "    def ppf(self, u: float | numpy.ndarray) -> float | numpy.ndarray:\n",
      "        result = scipy.stats.bernoulli.ppf(u, self.p)\n",
      "        return result\n",
      "    def sample(self, n: int, seed: int | None = None) -> numpy.ndarray:\n",
      "        if seed:\n",
      "            numpy.random.seed(seed)\n",
      "        return self.ppf(numpy.random.rand(n))\n",
      "    def non_central_moments(self, k: int) -> float | None:\n",
      "        return None\n",
      "    def central_moments(self, k: int) -> float | None:\n",
      "        return None\n",
      "    @property\n",
      "    def mean(self) -> float:\n",
      "        return self.p\n",
      "    @property\n",
      "    def variance(self) -> float:\n",
      "        return self.p * (1 - self.p)\n",
      "    @property\n",
      "    def standard_deviation(self) -> float:\n",
      "        return numpy.sqrt(self.variance)\n",
      "    @property\n",
      "    def skewness(self) -> float:\n",
      "        return (1 - 2 * self.p) / numpy.sqrt(self.p * (1 - self.p))\n",
      "    @property\n",
      "    def kurtosis(self) -> float:\n",
      "        return (6 * self.p * self.p - 6 * self.p + 1) / (self.p * (1 - self.p)) + 3\n",
      "    @property\n",
      "    def median(self) -> float:\n",
      "        return self.ppf(0.5)\n",
      "    @property\n",
      "    def mode(self) -> float:\n",
      "        return 0 if self.p < 0.5 else 1\n",
      "    @property\n",
      "    def num_parameters(self) -> int:\n",
      "        return len(self.parameters)\n",
      "    def parameter_restrictions(self) -> bool:\n",
      "        v1 = 0 < self.p < 1\n",
      "        return v1\n",
      "    def get_parameters(self, discrete_measures) -> dict[str, float | int]:\n",
      "        p = discrete_measures.mean\n",
      "        parameters = {\"p\": p}\n",
      "        return parameters\n"
     ]
    }
   ],
   "source": [
    "input_file_path = \"../../phitter/discrete/discrete_distributions/bernoulli.py\"\n",
    "processed_content = process_py_file(input_file_path)\n",
    "print(processed_content)"
   ]
  },
  {
   "cell_type": "code",
   "execution_count": 16,
   "metadata": {},
   "outputs": [],
   "source": [
    "input_file_path = \"../../phitter/discrete/discrete_distributions/bernoulli.py\"\n",
    "import_lines = get_import_lines(input_file_path)"
   ]
  },
  {
   "cell_type": "code",
   "execution_count": 17,
   "metadata": {},
   "outputs": [],
   "source": [
    "IMPORTS = []\n",
    "for file in os.listdir(\"../../phitter/discrete/discrete_distributions\"):\n",
    "    if \".py\" in file and file != \"__init__.py\":\n",
    "        import_lines = get_import_lines(f\"../../phitter/discrete/discrete_distributions/{file}\")\n",
    "        IMPORTS.extend(import_lines)\n",
    "\n",
    "input_file_path = \"../../phitter/discrete/discrete_measures/DISCRETE_MEASURES.py\"\n",
    "import_lines = get_import_lines(input_file_path)\n",
    "IMPORTS.extend(import_lines)\n",
    "IMPORTS.append(\"import concurrent.futures\")\n",
    "IMPORTS.append(\"import typing\")"
   ]
  },
  {
   "cell_type": "code",
   "execution_count": 18,
   "metadata": {},
   "outputs": [],
   "source": [
    "CODE = \"\\n\".join(sorted(list(set(IMPORTS)))) + \"\\n\\n\"\n",
    "for file in os.listdir(\"../../phitter/discrete/discrete_distributions\"):\n",
    "    if \".py\" in file:\n",
    "        processed_content = process_py_file(f\"../../phitter/discrete/discrete_distributions/{file}\")\n",
    "        CODE += processed_content + \"\\n\\n\""
   ]
  },
  {
   "cell_type": "code",
   "execution_count": 19,
   "metadata": {},
   "outputs": [],
   "source": [
    "input_file_path = \"../../phitter/discrete/discrete_measures/DISCRETE_MEASURES.py\"\n",
    "measuerements_code = process_py_file(input_file_path)\n",
    "CODE += measuerements_code + \"\\n\\n\"\n",
    "\n",
    "input_file_path = \"../../phitter/discrete/discrete_statistical_tests/discrete_test_chi_square.py\"\n",
    "test_chi_square_discrete_code = process_py_file(input_file_path)\n",
    "CODE += test_chi_square_discrete_code + \"\\n\\n\"\n",
    "\n",
    "input_file_path = \"../../phitter/discrete/discrete_statistical_tests/discrete_test_kolmogorov_smirnov.py\"\n",
    "test_kolmogorov_smirnov_discrete_code = process_py_file(input_file_path)\n",
    "CODE += test_kolmogorov_smirnov_discrete_code + \"\\n\\n\""
   ]
  },
  {
   "cell_type": "code",
   "execution_count": 20,
   "metadata": {},
   "outputs": [],
   "source": [
    "class_phitter_discrete_code = process_py_file(\"../../phitter/discrete/phitter_discrete.py\")\n",
    "CODE += class_phitter_discrete_code + \"\\n\\n\""
   ]
  },
  {
   "cell_type": "code",
   "execution_count": 21,
   "metadata": {},
   "outputs": [],
   "source": [
    "CODE = black.format_str(CODE, mode=black.FileMode(line_length=300))"
   ]
  },
  {
   "cell_type": "code",
   "execution_count": 22,
   "metadata": {},
   "outputs": [],
   "source": [
    "code_file = open(\"./phitter_web_discrete.py\", \"+w\", encoding=\"utf8\")\n",
    "code_file.write(CODE)\n",
    "code_file.close()"
   ]
  }
 ],
 "metadata": {
  "kernelspec": {
   "display_name": "Python 3",
   "language": "python",
   "name": "python3"
  },
  "language_info": {
   "codemirror_mode": {
    "name": "ipython",
    "version": 3
   },
   "file_extension": ".py",
   "mimetype": "text/x-python",
   "name": "python",
   "nbconvert_exporter": "python",
   "pygments_lexer": "ipython3",
   "version": "3.12.7"
  },
  "orig_nbformat": 4
 },
 "nbformat": 4,
 "nbformat_minor": 2
}
