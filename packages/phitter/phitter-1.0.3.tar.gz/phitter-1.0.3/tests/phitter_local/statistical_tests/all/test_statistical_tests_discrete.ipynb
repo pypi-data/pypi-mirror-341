{
 "cells": [
  {
   "cell_type": "code",
   "execution_count": 1,
   "metadata": {},
   "outputs": [],
   "source": [
    "import sys\n",
    "import pandas\n",
    "\n",
    "sys.path.append(\"../../../../\")\n",
    "import phitter"
   ]
  },
  {
   "cell_type": "code",
   "execution_count": 2,
   "metadata": {},
   "outputs": [],
   "source": [
    "def get_data(path: str) -> list[float | int]:\n",
    "    sample_distribution_file = open(path, \"r\")\n",
    "    data = [float(x.replace(\",\", \".\")) for x in sample_distribution_file.read().splitlines()]\n",
    "    sample_distribution_file.close()\n",
    "    return data"
   ]
  },
  {
   "cell_type": "code",
   "execution_count": 3,
   "metadata": {},
   "outputs": [],
   "source": [
    "df_tests = pandas.DataFrame()\n",
    "for id_distribution, distribution_class in phitter.discrete.DISCRETE_DISTRIBUTIONS.items():\n",
    "    data = get_data(f\"../../../../phitter/discrete/discrete_distributions_sample/sample_{id_distribution}.txt\")\n",
    "    discrete_measures = phitter.discrete.DiscreteMeasures(data)\n",
    "    distribution = distribution_class(discrete_measures=discrete_measures)\n",
    "\n",
    "\n",
    "    test_chi2 = phitter.discrete.evaluate_discrete_test_chi_square(distribution, discrete_measures)\n",
    "    test_ks = phitter.discrete.evaluate_discrete_test_kolmogorov_smirnov(distribution, discrete_measures)\n",
    "\n",
    "    df_tests.loc[id_distribution, \"Chi Square\"] = \"✅\" if test_chi2[\"rejected\"] == False else \"✖️\"\n",
    "    df_tests.loc[id_distribution, \"Kolmogorov Smirnov\"] = \"✅\" if test_ks[\"rejected\"] == False else \"✖️\"\n",
    "    df_tests.loc[id_distribution, \"Passed\"] = 2 - int(test_chi2[\"rejected\"]) - int(test_ks[\"rejected\"])"
   ]
  },
  {
   "cell_type": "code",
   "execution_count": 4,
   "metadata": {},
   "outputs": [
    {
     "data": {
      "text/html": [
       "<div>\n",
       "<style scoped>\n",
       "    .dataframe tbody tr th:only-of-type {\n",
       "        vertical-align: middle;\n",
       "    }\n",
       "\n",
       "    .dataframe tbody tr th {\n",
       "        vertical-align: top;\n",
       "    }\n",
       "\n",
       "    .dataframe thead th {\n",
       "        text-align: right;\n",
       "    }\n",
       "</style>\n",
       "<table border=\"1\" class=\"dataframe\">\n",
       "  <thead>\n",
       "    <tr style=\"text-align: right;\">\n",
       "      <th></th>\n",
       "      <th>Chi Square</th>\n",
       "      <th>Kolmogorov Smirnov</th>\n",
       "      <th>Passed</th>\n",
       "    </tr>\n",
       "  </thead>\n",
       "  <tbody>\n",
       "    <tr>\n",
       "      <th>bernoulli</th>\n",
       "      <td>✅</td>\n",
       "      <td>✅</td>\n",
       "      <td>2.0</td>\n",
       "    </tr>\n",
       "    <tr>\n",
       "      <th>binomial</th>\n",
       "      <td>✅</td>\n",
       "      <td>✅</td>\n",
       "      <td>2.0</td>\n",
       "    </tr>\n",
       "    <tr>\n",
       "      <th>geometric</th>\n",
       "      <td>✅</td>\n",
       "      <td>✅</td>\n",
       "      <td>2.0</td>\n",
       "    </tr>\n",
       "    <tr>\n",
       "      <th>hypergeometric</th>\n",
       "      <td>✅</td>\n",
       "      <td>✅</td>\n",
       "      <td>2.0</td>\n",
       "    </tr>\n",
       "    <tr>\n",
       "      <th>logarithmic</th>\n",
       "      <td>✅</td>\n",
       "      <td>✅</td>\n",
       "      <td>2.0</td>\n",
       "    </tr>\n",
       "    <tr>\n",
       "      <th>negative_binomial</th>\n",
       "      <td>✅</td>\n",
       "      <td>✅</td>\n",
       "      <td>2.0</td>\n",
       "    </tr>\n",
       "    <tr>\n",
       "      <th>poisson</th>\n",
       "      <td>✅</td>\n",
       "      <td>✅</td>\n",
       "      <td>2.0</td>\n",
       "    </tr>\n",
       "    <tr>\n",
       "      <th>uniform</th>\n",
       "      <td>✅</td>\n",
       "      <td>✅</td>\n",
       "      <td>2.0</td>\n",
       "    </tr>\n",
       "  </tbody>\n",
       "</table>\n",
       "</div>"
      ],
      "text/plain": [
       "                  Chi Square Kolmogorov Smirnov  Passed\n",
       "bernoulli                  ✅                  ✅     2.0\n",
       "binomial                   ✅                  ✅     2.0\n",
       "geometric                  ✅                  ✅     2.0\n",
       "hypergeometric             ✅                  ✅     2.0\n",
       "logarithmic                ✅                  ✅     2.0\n",
       "negative_binomial          ✅                  ✅     2.0\n",
       "poisson                    ✅                  ✅     2.0\n",
       "uniform                    ✅                  ✅     2.0"
      ]
     },
     "execution_count": 4,
     "metadata": {},
     "output_type": "execute_result"
    }
   ],
   "source": [
    "df_tests"
   ]
  },
  {
   "cell_type": "code",
   "execution_count": 5,
   "metadata": {},
   "outputs": [
    {
     "data": {
      "text/html": [
       "<div>\n",
       "<style scoped>\n",
       "    .dataframe tbody tr th:only-of-type {\n",
       "        vertical-align: middle;\n",
       "    }\n",
       "\n",
       "    .dataframe tbody tr th {\n",
       "        vertical-align: top;\n",
       "    }\n",
       "\n",
       "    .dataframe thead th {\n",
       "        text-align: right;\n",
       "    }\n",
       "</style>\n",
       "<table border=\"1\" class=\"dataframe\">\n",
       "  <thead>\n",
       "    <tr style=\"text-align: right;\">\n",
       "      <th></th>\n",
       "      <th>Chi Square</th>\n",
       "      <th>Kolmogorov Smirnov</th>\n",
       "      <th>Passed</th>\n",
       "    </tr>\n",
       "  </thead>\n",
       "  <tbody>\n",
       "  </tbody>\n",
       "</table>\n",
       "</div>"
      ],
      "text/plain": [
       "Empty DataFrame\n",
       "Columns: [Chi Square, Kolmogorov Smirnov, Passed]\n",
       "Index: []"
      ]
     },
     "execution_count": 5,
     "metadata": {},
     "output_type": "execute_result"
    }
   ],
   "source": [
    "df_tests[df_tests[\"Passed\"] == 0]"
   ]
  },
  {
   "cell_type": "code",
   "execution_count": 6,
   "metadata": {},
   "outputs": [
    {
     "data": {
      "text/html": [
       "<div>\n",
       "<style scoped>\n",
       "    .dataframe tbody tr th:only-of-type {\n",
       "        vertical-align: middle;\n",
       "    }\n",
       "\n",
       "    .dataframe tbody tr th {\n",
       "        vertical-align: top;\n",
       "    }\n",
       "\n",
       "    .dataframe thead th {\n",
       "        text-align: right;\n",
       "    }\n",
       "</style>\n",
       "<table border=\"1\" class=\"dataframe\">\n",
       "  <thead>\n",
       "    <tr style=\"text-align: right;\">\n",
       "      <th></th>\n",
       "      <th>Chi Square</th>\n",
       "      <th>Kolmogorov Smirnov</th>\n",
       "      <th>Passed</th>\n",
       "    </tr>\n",
       "  </thead>\n",
       "  <tbody>\n",
       "  </tbody>\n",
       "</table>\n",
       "</div>"
      ],
      "text/plain": [
       "Empty DataFrame\n",
       "Columns: [Chi Square, Kolmogorov Smirnov, Passed]\n",
       "Index: []"
      ]
     },
     "execution_count": 6,
     "metadata": {},
     "output_type": "execute_result"
    }
   ],
   "source": [
    "df_tests[df_tests[\"Passed\"] == 1]"
   ]
  },
  {
   "cell_type": "code",
   "execution_count": 7,
   "metadata": {},
   "outputs": [
    {
     "data": {
      "text/html": [
       "<div>\n",
       "<style scoped>\n",
       "    .dataframe tbody tr th:only-of-type {\n",
       "        vertical-align: middle;\n",
       "    }\n",
       "\n",
       "    .dataframe tbody tr th {\n",
       "        vertical-align: top;\n",
       "    }\n",
       "\n",
       "    .dataframe thead th {\n",
       "        text-align: right;\n",
       "    }\n",
       "</style>\n",
       "<table border=\"1\" class=\"dataframe\">\n",
       "  <thead>\n",
       "    <tr style=\"text-align: right;\">\n",
       "      <th></th>\n",
       "      <th>Chi Square</th>\n",
       "      <th>Kolmogorov Smirnov</th>\n",
       "      <th>Passed</th>\n",
       "    </tr>\n",
       "  </thead>\n",
       "  <tbody>\n",
       "    <tr>\n",
       "      <th>bernoulli</th>\n",
       "      <td>✅</td>\n",
       "      <td>✅</td>\n",
       "      <td>2.0</td>\n",
       "    </tr>\n",
       "    <tr>\n",
       "      <th>binomial</th>\n",
       "      <td>✅</td>\n",
       "      <td>✅</td>\n",
       "      <td>2.0</td>\n",
       "    </tr>\n",
       "    <tr>\n",
       "      <th>geometric</th>\n",
       "      <td>✅</td>\n",
       "      <td>✅</td>\n",
       "      <td>2.0</td>\n",
       "    </tr>\n",
       "    <tr>\n",
       "      <th>hypergeometric</th>\n",
       "      <td>✅</td>\n",
       "      <td>✅</td>\n",
       "      <td>2.0</td>\n",
       "    </tr>\n",
       "    <tr>\n",
       "      <th>logarithmic</th>\n",
       "      <td>✅</td>\n",
       "      <td>✅</td>\n",
       "      <td>2.0</td>\n",
       "    </tr>\n",
       "    <tr>\n",
       "      <th>negative_binomial</th>\n",
       "      <td>✅</td>\n",
       "      <td>✅</td>\n",
       "      <td>2.0</td>\n",
       "    </tr>\n",
       "    <tr>\n",
       "      <th>poisson</th>\n",
       "      <td>✅</td>\n",
       "      <td>✅</td>\n",
       "      <td>2.0</td>\n",
       "    </tr>\n",
       "    <tr>\n",
       "      <th>uniform</th>\n",
       "      <td>✅</td>\n",
       "      <td>✅</td>\n",
       "      <td>2.0</td>\n",
       "    </tr>\n",
       "  </tbody>\n",
       "</table>\n",
       "</div>"
      ],
      "text/plain": [
       "                  Chi Square Kolmogorov Smirnov  Passed\n",
       "bernoulli                  ✅                  ✅     2.0\n",
       "binomial                   ✅                  ✅     2.0\n",
       "geometric                  ✅                  ✅     2.0\n",
       "hypergeometric             ✅                  ✅     2.0\n",
       "logarithmic                ✅                  ✅     2.0\n",
       "negative_binomial          ✅                  ✅     2.0\n",
       "poisson                    ✅                  ✅     2.0\n",
       "uniform                    ✅                  ✅     2.0"
      ]
     },
     "execution_count": 7,
     "metadata": {},
     "output_type": "execute_result"
    }
   ],
   "source": [
    "df_tests[df_tests[\"Passed\"] == 2]"
   ]
  }
 ],
 "metadata": {
  "kernelspec": {
   "display_name": "Python 3",
   "language": "python",
   "name": "python3"
  },
  "language_info": {
   "codemirror_mode": {
    "name": "ipython",
    "version": 3
   },
   "file_extension": ".py",
   "mimetype": "text/x-python",
   "name": "python",
   "nbconvert_exporter": "python",
   "pygments_lexer": "ipython3",
   "version": "3.12.7"
  }
 },
 "nbformat": 4,
 "nbformat_minor": 2
}
