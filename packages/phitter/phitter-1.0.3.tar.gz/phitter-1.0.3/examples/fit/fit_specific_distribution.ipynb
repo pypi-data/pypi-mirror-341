{
 "cells": [
  {
   "cell_type": "markdown",
   "metadata": {},
   "source": [
    "<a target=\"_blank\" href=\"https://colab.research.google.com/github/phitter-core/phitter-kernel/blob/main/examples/fit_specific_distribution.ipynb\"><img src=\"https://colab.research.google.com/assets/colab-badge.svg\" alt=\"Open In Colab\"/></a>\n"
   ]
  },
  {
   "cell_type": "markdown",
   "metadata": {},
   "source": [
    "# **TUTORIAL: FIT SPECIFIC DISTRIBUTIONS**"
   ]
  },
  {
   "cell_type": "code",
   "execution_count": 1,
   "metadata": {},
   "outputs": [],
   "source": [
    "import os\n",
    "import sys"
   ]
  },
  {
   "cell_type": "code",
   "execution_count": 2,
   "metadata": {},
   "outputs": [],
   "source": [
    "if os.getenv(\"COLAB_RELEASE_TAG\"):\n",
    "   !pip install phitter --quiet\n",
    "else:\n",
    "   sys.path.append(\"../\")"
   ]
  },
  {
   "cell_type": "code",
   "execution_count": 3,
   "metadata": {},
   "outputs": [],
   "source": [
    "import phitter"
   ]
  },
  {
   "cell_type": "markdown",
   "metadata": {},
   "source": [
    "**Initializes distribution providing a dict with patameters specified in documentation**"
   ]
  },
  {
   "cell_type": "code",
   "execution_count": 4,
   "metadata": {},
   "outputs": [],
   "source": [
    "distribution = phitter.continuous.Beta({\"alpha\": 5, \"beta\": 2, \"A\": 100, \"B\": 1000})\n",
    "data = distribution.sample(10000)"
   ]
  },
  {
   "cell_type": "markdown",
   "metadata": {},
   "source": [
    "**Initialize the PHITTER model**"
   ]
  },
  {
   "cell_type": "code",
   "execution_count": 5,
   "metadata": {},
   "outputs": [],
   "source": [
    "phi = phitter.Phitter(data=data=data, distributions_to_fit=[\"beta\"])\n",
    "phi.fit()"
   ]
  },
  {
   "cell_type": "markdown",
   "metadata": {},
   "source": [
    "**Summarize**"
   ]
  },
  {
   "cell_type": "code",
   "execution_count": 6,
   "metadata": {},
   "outputs": [
    {
     "data": {
      "text/html": [
       "<div>\n",
       "<style scoped>\n",
       "    .dataframe tbody tr th:only-of-type {\n",
       "        vertical-align: middle;\n",
       "    }\n",
       "\n",
       "    .dataframe tbody tr th {\n",
       "        vertical-align: top;\n",
       "    }\n",
       "\n",
       "    .dataframe thead th {\n",
       "        text-align: right;\n",
       "    }\n",
       "</style>\n",
       "<table border=\"1\" class=\"dataframe\">\n",
       "  <thead>\n",
       "    <tr style=\"text-align: right;\">\n",
       "      <th></th>\n",
       "      <th>distribution</th>\n",
       "      <th>sse</th>\n",
       "      <th>parameters</th>\n",
       "      <th>chi_square</th>\n",
       "      <th>kolmogorov_smirnov</th>\n",
       "      <th>anderson_darling</th>\n",
       "    </tr>\n",
       "  </thead>\n",
       "  <tbody>\n",
       "    <tr>\n",
       "      <th>0</th>\n",
       "      <td>beta</td>\n",
       "      <td>3.162280e-08</td>\n",
       "      <td>alpha: 4.447, beta: 1.874, A: 143.5, B: 993.3</td>\n",
       "      <td>✅</td>\n",
       "      <td>✅</td>\n",
       "      <td>✖️</td>\n",
       "    </tr>\n",
       "  </tbody>\n",
       "</table>\n",
       "</div>"
      ],
      "text/plain": [
       "  distribution           sse                                     parameters  \\\n",
       "0         beta  3.162280e-08  alpha: 4.447, beta: 1.874, A: 143.5, B: 993.3   \n",
       "\n",
       "  chi_square kolmogorov_smirnov anderson_darling  \n",
       "0          ✅                  ✅               ✖️  "
      ]
     },
     "execution_count": 6,
     "metadata": {},
     "output_type": "execute_result"
    }
   ],
   "source": [
    "phi.summarize()"
   ]
  },
  {
   "cell_type": "markdown",
   "metadata": {},
   "source": [
    "**Get distrbutions sorted by sse**"
   ]
  },
  {
   "cell_type": "code",
   "execution_count": 7,
   "metadata": {},
   "outputs": [
    {
     "data": {
      "text/html": [
       "<div>\n",
       "<style scoped>\n",
       "    .dataframe tbody tr th:only-of-type {\n",
       "        vertical-align: middle;\n",
       "    }\n",
       "\n",
       "    .dataframe tbody tr th {\n",
       "        vertical-align: top;\n",
       "    }\n",
       "\n",
       "    .dataframe thead tr th {\n",
       "        text-align: left;\n",
       "    }\n",
       "</style>\n",
       "<table border=\"1\" class=\"dataframe\">\n",
       "  <thead>\n",
       "    <tr>\n",
       "      <th></th>\n",
       "      <th>distribution</th>\n",
       "      <th>passed</th>\n",
       "      <th>sse</th>\n",
       "      <th>parameters</th>\n",
       "      <th colspan=\"4\" halign=\"left\">chi_square</th>\n",
       "      <th colspan=\"4\" halign=\"left\">kolmogorov_smirnov</th>\n",
       "      <th colspan=\"4\" halign=\"left\">anderson_darling</th>\n",
       "    </tr>\n",
       "    <tr>\n",
       "      <th></th>\n",
       "      <th></th>\n",
       "      <th></th>\n",
       "      <th></th>\n",
       "      <th></th>\n",
       "      <th>test_statistic</th>\n",
       "      <th>critical_value</th>\n",
       "      <th>p_value</th>\n",
       "      <th>rejected</th>\n",
       "      <th>test_statistic</th>\n",
       "      <th>critical_value</th>\n",
       "      <th>p_value</th>\n",
       "      <th>rejected</th>\n",
       "      <th>test_statistic</th>\n",
       "      <th>critical_value</th>\n",
       "      <th>p_value</th>\n",
       "      <th>rejected</th>\n",
       "    </tr>\n",
       "  </thead>\n",
       "  <tbody>\n",
       "    <tr>\n",
       "      <th>0</th>\n",
       "      <td>beta</td>\n",
       "      <td>✅</td>\n",
       "      <td>2.269252e-07</td>\n",
       "      <td>alpha: 4.247, beta: 1.68, A: 139.5, B: 981.5</td>\n",
       "      <td>60.491676</td>\n",
       "      <td>24.99579</td>\n",
       "      <td>2.075613e-07</td>\n",
       "      <td>True</td>\n",
       "      <td>0.009262</td>\n",
       "      <td>0.013564</td>\n",
       "      <td>0.35549</td>\n",
       "      <td>False</td>\n",
       "      <td>None</td>\n",
       "      <td>None</td>\n",
       "      <td>None</td>\n",
       "      <td>None</td>\n",
       "    </tr>\n",
       "  </tbody>\n",
       "</table>\n",
       "</div>"
      ],
      "text/plain": [
       "  distribution passed           sse  \\\n",
       "                                      \n",
       "0         beta      ✅  2.269252e-07   \n",
       "\n",
       "                                     parameters     chi_square                 \\\n",
       "                                                test_statistic critical_value   \n",
       "0  alpha: 4.247, beta: 1.68, A: 139.5, B: 981.5      60.491676       24.99579   \n",
       "\n",
       "                         kolmogorov_smirnov                                   \\\n",
       "        p_value rejected     test_statistic critical_value  p_value rejected   \n",
       "0  2.075613e-07     True           0.009262       0.013564  0.35549    False   \n",
       "\n",
       "  anderson_darling                                  \n",
       "    test_statistic critical_value p_value rejected  \n",
       "0             None           None    None     None  "
      ]
     },
     "execution_count": 7,
     "metadata": {},
     "output_type": "execute_result"
    }
   ],
   "source": [
    "phi.df_sorted_distributions_sse"
   ]
  },
  {
   "cell_type": "markdown",
   "metadata": {},
   "source": [
    "**Plot a histogram of the dataset values to visualize the distribution**"
   ]
  },
  {
   "cell_type": "code",
   "execution_count": null,
   "metadata": {},
   "outputs": [
    {
     "data": {
      "image/png": "[encoded data removed]"
     },
     "metadata": {},
     "output_type": "display_data"
    }
   ],
   "source": [
    "phi.plot_histogram_distributions()"
   ]
  }
 ],
 "metadata": {
  "kernelspec": {
   "display_name": "Python 3",
   "language": "python",
   "name": "python3"
  },
  "language_info": {
   "codemirror_mode": {
    "name": "ipython",
    "version": 3
   },
   "file_extension": ".py",
   "mimetype": "text/x-python",
   "name": "python",
   "nbconvert_exporter": "python",
   "pygments_lexer": "ipython3",
   "version": "3.12.7"
  }
 },
 "nbformat": 4,
 "nbformat_minor": 2
}
