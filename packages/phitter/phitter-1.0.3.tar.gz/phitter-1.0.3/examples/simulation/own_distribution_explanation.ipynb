{
  "nbformat": 4,
  "nbformat_minor": 0,
  "metadata": {
    "colab": {
      "provenance": []
    },
    "kernelspec": {
      "name": "python3",
      "display_name": "Python 3"
    },
    "language_info": {
      "name": "python"
    }
  },
  "cells": [
    {
      "cell_type": "markdown",
      "source": [
        "# **TUTORIUAL: OWN DISTRIBUTION**"
      ],
      "metadata": {
        "id": "roPI2dSh2gMQ"
      }
    },
    {
      "cell_type": "code",
      "execution_count": 2,
      "metadata": {
        "id": "i0wMeFwk2Lxi"
      },
      "outputs": [],
      "source": [
        "# This part of the code only applies for Colab\n",
        "import sys\n",
        "import os\n",
        "\n",
        "if os.getenv(\"COLAB_RELEASE_TAG\"):\n",
        "   !pip install phitter --quiet\n",
        "else:\n",
        "   sys.path.append(\"../\")"
      ]
    },
    {
      "cell_type": "markdown",
      "source": [
        "## ***Create Own Distribution***\n",
        "\n",
        "You just need to know the paramters to enter into the code.\n",
        "\n",
        "**Own Distribution** receieve the following logic:\n",
        "\n",
        "`key`: Category and importance of itself. Key always must start in `zero`.\n",
        "\n",
        "`value`: Probability to happen that.\n",
        "\n",
        "***Note: All the values must add up to 100% or 1.***\n",
        "\n",
        "Let's see and example:\n",
        "\n",
        "`{0: 0.1, 1: 0.2, 3: 0.7}`\n",
        "\n",
        "The previos dictionary shows three different categories. The first category has a probability to happen of 10%, the second category has a probability of 20% and the last one a likelihood of 70%.\n",
        "\n",
        "Now let's see how to use this in the code."
      ],
      "metadata": {
        "id": "IJFdmyk122la"
      }
    },
    {
      "cell_type": "code",
      "source": [
        "from phitter import simulation\n",
        "\n",
        "# Parameters\n",
        "parameters = {0: 0.1, 1: 0.2, 3: 0.7}\n",
        "# Create an instance \"Own simulation\"\n",
        "simulation_own_distribution = simulation.OwnDistributions(parameters=parameters)"
      ],
      "metadata": {
        "id": "jGLRfDRf4M6M"
      },
      "execution_count": 5,
      "outputs": []
    },
    {
      "cell_type": "markdown",
      "source": [
        "## ***Run Own Distribution***"
      ],
      "metadata": {
        "id": "8xMfOmto5koZ"
      }
    },
    {
      "cell_type": "markdown",
      "source": [
        "You add the probability and it returns the category"
      ],
      "metadata": {
        "id": "CAA7fGgf5yDe"
      }
    },
    {
      "cell_type": "code",
      "source": [
        "simulation_own_distribution.ppf(0.5)"
      ],
      "metadata": {
        "colab": {
          "base_uri": "https://localhost:8080/"
        },
        "id": "9X82L8MH5onW",
        "outputId": "2b1c8771-b8f1-4dc0-ffb1-4ad14b2a6bab"
      },
      "execution_count": 7,
      "outputs": [
        {
          "output_type": "execute_result",
          "data": {
            "text/plain": [
              "3"
            ]
          },
          "metadata": {},
          "execution_count": 7
        }
      ]
    },
    {
      "cell_type": "markdown",
      "source": [
        "`Own Distribution` can be used in \"PBS Queue Simulation\". According to the probability that is simulated it returns the needed category"
      ],
      "metadata": {
        "id": "WJ-inTX-51Zs"
      }
    }
  ]
}