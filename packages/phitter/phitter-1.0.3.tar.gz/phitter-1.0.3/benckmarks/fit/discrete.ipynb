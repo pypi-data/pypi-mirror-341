{
 "cells": [
  {
   "cell_type": "markdown",
   "metadata": {},
   "source": [
    "<a target=\"_blank\" href=\"https://colab.research.google.com/github/phitter-core/phitter-kernel/blob/main/tests/distributions/discrete_distributions.ipynb\">\n",
    "  <img src=\"https://colab.research.google.com/assets/colab-badge.svg\" alt=\"Open In Colab\"/>\n",
    "</a>"
   ]
  },
  {
   "cell_type": "code",
   "execution_count": 10,
   "metadata": {},
   "outputs": [],
   "source": [
    "import pandas\n",
    "import time\n",
    "import os\n",
    "import sys"
   ]
  },
  {
   "cell_type": "code",
   "execution_count": 11,
   "metadata": {},
   "outputs": [],
   "source": [
    "if os.getenv(\"COLAB_RELEASE_TAG\"):\n",
    "   !pip install phitter --quiet\n",
    "else:\n",
    "   sys.path.append(\"../../../\")"
   ]
  },
  {
   "cell_type": "code",
   "execution_count": 12,
   "metadata": {},
   "outputs": [],
   "source": [
    "import phitter"
   ]
  },
  {
   "cell_type": "code",
   "execution_count": 13,
   "metadata": {},
   "outputs": [],
   "source": [
    "df_fit_time = pandas.DataFrame()"
   ]
  },
  {
   "cell_type": "code",
   "execution_count": 14,
   "metadata": {},
   "outputs": [],
   "source": [
    "SAMPLE_SIZES = [1000, 10000, 100000, 500000, 1000000]\n",
    "WORKERS = [1, 2, 4]"
   ]
  },
  {
   "cell_type": "code",
   "execution_count": 15,
   "metadata": {},
   "outputs": [],
   "source": [
    "for sample_size in SAMPLE_SIZES:\n",
    "    for n_workers in WORKERS:\n",
    "        for id_distribution, distribution_class in phitter.discrete.DISCRETE_DISTRIBUTIONS.items():\n",
    "            data = distribution_class(init_parameters_examples=True).sample(sample_size)\n",
    "            ti = time.time()\n",
    "            phi = phitter.Phitter(data=data=data, fit_type=\"discrete\")\n",
    "            phi.fit(n_workers=n_workers)\n",
    "            tf = time.time() - ti\n",
    "            df_fit_time = df_fit_time.fillna(0)\n",
    "            if n_workers in df_fit_time.columns and sample_size in df_fit_time.index:\n",
    "                df_fit_time.loc[sample_size, n_workers] += tf\n",
    "            else:\n",
    "                df_fit_time.loc[sample_size, n_workers] = tf"
   ]
  },
  {
   "cell_type": "code",
   "execution_count": 16,
   "metadata": {},
   "outputs": [
    {
     "data": {
      "text/html": [
       "<div>\n",
       "<style scoped>\n",
       "    .dataframe tbody tr th:only-of-type {\n",
       "        vertical-align: middle;\n",
       "    }\n",
       "\n",
       "    .dataframe tbody tr th {\n",
       "        vertical-align: top;\n",
       "    }\n",
       "\n",
       "    .dataframe thead th {\n",
       "        text-align: right;\n",
       "    }\n",
       "</style>\n",
       "<table border=\"1\" class=\"dataframe\">\n",
       "  <thead>\n",
       "    <tr style=\"text-align: right;\">\n",
       "      <th></th>\n",
       "      <th>1</th>\n",
       "      <th>2</th>\n",
       "      <th>4</th>\n",
       "    </tr>\n",
       "  </thead>\n",
       "  <tbody>\n",
       "    <tr>\n",
       "      <th>1000</th>\n",
       "      <td>1.350026</td>\n",
       "      <td>21.121234</td>\n",
       "      <td>22.974854</td>\n",
       "    </tr>\n",
       "    <tr>\n",
       "      <th>10000</th>\n",
       "      <td>3.569263</td>\n",
       "      <td>19.561502</td>\n",
       "      <td>24.376934</td>\n",
       "    </tr>\n",
       "    <tr>\n",
       "      <th>100000</th>\n",
       "      <td>36.478474</td>\n",
       "      <td>50.596933</td>\n",
       "      <td>60.695164</td>\n",
       "    </tr>\n",
       "    <tr>\n",
       "      <th>500000</th>\n",
       "      <td>152.137522</td>\n",
       "      <td>174.437908</td>\n",
       "      <td>158.736141</td>\n",
       "    </tr>\n",
       "    <tr>\n",
       "      <th>1000000</th>\n",
       "      <td>318.451845</td>\n",
       "      <td>238.688297</td>\n",
       "      <td>241.867275</td>\n",
       "    </tr>\n",
       "  </tbody>\n",
       "</table>\n",
       "</div>"
      ],
      "text/plain": [
       "                  1           2           4\n",
       "1000       1.350026   21.121234   22.974854\n",
       "10000      3.569263   19.561502   24.376934\n",
       "100000    36.478474   50.596933   60.695164\n",
       "500000   152.137522  174.437908  158.736141\n",
       "1000000  318.451845  238.688297  241.867275"
      ]
     },
     "execution_count": 16,
     "metadata": {},
     "output_type": "execute_result"
    }
   ],
   "source": [
    "df_fit_time"
   ]
  },
  {
   "cell_type": "code",
   "execution_count": 17,
   "metadata": {},
   "outputs": [
    {
     "data": {
      "text/html": [
       "<div>\n",
       "<style scoped>\n",
       "    .dataframe tbody tr th:only-of-type {\n",
       "        vertical-align: middle;\n",
       "    }\n",
       "\n",
       "    .dataframe tbody tr th {\n",
       "        vertical-align: top;\n",
       "    }\n",
       "\n",
       "    .dataframe thead th {\n",
       "        text-align: right;\n",
       "    }\n",
       "</style>\n",
       "<table border=\"1\" class=\"dataframe\">\n",
       "  <thead>\n",
       "    <tr style=\"text-align: right;\">\n",
       "      <th></th>\n",
       "      <th>1</th>\n",
       "      <th>2</th>\n",
       "      <th>4</th>\n",
       "    </tr>\n",
       "  </thead>\n",
       "  <tbody>\n",
       "    <tr>\n",
       "      <th>1000</th>\n",
       "      <td>0.168753</td>\n",
       "      <td>2.640154</td>\n",
       "      <td>2.871857</td>\n",
       "    </tr>\n",
       "    <tr>\n",
       "      <th>10000</th>\n",
       "      <td>0.446158</td>\n",
       "      <td>2.445188</td>\n",
       "      <td>3.047117</td>\n",
       "    </tr>\n",
       "    <tr>\n",
       "      <th>100000</th>\n",
       "      <td>4.559809</td>\n",
       "      <td>6.324617</td>\n",
       "      <td>7.586895</td>\n",
       "    </tr>\n",
       "    <tr>\n",
       "      <th>500000</th>\n",
       "      <td>19.017190</td>\n",
       "      <td>21.804738</td>\n",
       "      <td>19.842018</td>\n",
       "    </tr>\n",
       "    <tr>\n",
       "      <th>1000000</th>\n",
       "      <td>39.806481</td>\n",
       "      <td>29.836037</td>\n",
       "      <td>30.233409</td>\n",
       "    </tr>\n",
       "  </tbody>\n",
       "</table>\n",
       "</div>"
      ],
      "text/plain": [
       "                 1          2          4\n",
       "1000      0.168753   2.640154   2.871857\n",
       "10000     0.446158   2.445188   3.047117\n",
       "100000    4.559809   6.324617   7.586895\n",
       "500000   19.017190  21.804738  19.842018\n",
       "1000000  39.806481  29.836037  30.233409"
      ]
     },
     "execution_count": 17,
     "metadata": {},
     "output_type": "execute_result"
    }
   ],
   "source": [
    "df_fit_time = df_fit_time / len(phitter.discrete.DISCRETE_DISTRIBUTIONS.items())\n",
    "df_fit_time"
   ]
  },
  {
   "cell_type": "code",
   "execution_count": 18,
   "metadata": {},
   "outputs": [
    {
     "name": "stdout",
     "output_type": "stream",
     "text": [
      "|         |       1 |       2 |       4 |\n",
      "|--------:|--------:|--------:|--------:|\n",
      "|    1000 |  0.1688 |  2.6402 |  2.8719 |\n",
      "|   10000 |  0.4462 |  2.4452 |  3.0471 |\n",
      "|  100000 |  4.5598 |  6.3246 |  7.5869 |\n",
      "|  500000 | 19.0172 | 21.8047 | 19.8420 |\n",
      "| 1000000 | 39.8065 | 29.8360 | 30.2334 |\n"
     ]
    }
   ],
   "source": [
    "print(df_fit_time.to_markdown(floatfmt=\".4f\"))"
   ]
  }
 ],
 "metadata": {
  "kernelspec": {
   "display_name": "Python 3",
   "language": "python",
   "name": "python3"
  },
  "language_info": {
   "codemirror_mode": {
    "name": "ipython",
    "version": 3
   },
   "file_extension": ".py",
   "mimetype": "text/x-python",
   "name": "python",
   "nbconvert_exporter": "python",
   "pygments_lexer": "ipython3",
   "version": "3.10.10"
  }
 },
 "nbformat": 4,
 "nbformat_minor": 2
}
