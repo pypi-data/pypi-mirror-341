{
 "cells": [
  {
   "cell_type": "code",
   "execution_count": null,
   "metadata": {},
   "outputs": [],
   "source": [
    "import os\n",
    "import sys\n",
    "import time\n",
    "\n",
    "import pandas"
   ]
  },
  {
   "cell_type": "code",
   "execution_count": 8,
   "metadata": {},
   "outputs": [],
   "source": [
    "if os.getenv(\"COLAB_RELEASE_TAG\"):\n",
    "   !pip install phitter --quiet\n",
    "else:\n",
    "   sys.path.append(\"../../../\")"
   ]
  },
  {
   "cell_type": "code",
   "execution_count": 9,
   "metadata": {},
   "outputs": [],
   "source": [
    "import phitter"
   ]
  },
  {
   "cell_type": "code",
   "execution_count": 10,
   "metadata": {},
   "outputs": [],
   "source": [
    "df_fit_time = pandas.DataFrame()"
   ]
  },
  {
   "cell_type": "code",
   "execution_count": 11,
   "metadata": {},
   "outputs": [],
   "source": [
    "IDS_DISTRIBUTION_FIT = [\"beta\", \"fatigue_life\", \"triangular\", \"exponential_2p\", \"power_function\", \"normal\", \"f_4p\", \"johnson_sb\"]\n",
    "SAMPLE_SIZES = [1000, 10000, 100000, 500000, 1000000]\n",
    "WORKERS = [1, 2, 6, 10, 20]"
   ]
  },
  {
   "cell_type": "code",
   "execution_count": null,
   "metadata": {},
   "outputs": [],
   "source": [
    "for sample_size in SAMPLE_SIZES:\n",
    "    for n_workers in WORKERS:\n",
    "        for id_distribution in IDS_DISTRIBUTION_FIT:\n",
    "            distribution_class = phitter.continuous.CONTINUOUS_DISTRIBUTIONS[id_distribution]\n",
    "            data = distribution_class(init_parameters_examples=True).sample(sample_size)\n",
    "            ti = time.time()\n",
    "            phi = phitter.Phitter(data=data=data)\n",
    "            phi.fit(n_workers=n_workers)\n",
    "            tf = time.time() - ti\n",
    "            df_fit_time = df_fit_time.fillna(0)\n",
    "            if n_workers in df_fit_time.columns and sample_size in df_fit_time.index:\n",
    "                df_fit_time.loc[sample_size, n_workers] += tf\n",
    "            else:\n",
    "                df_fit_time.loc[sample_size, n_workers] = tf"
   ]
  },
  {
   "cell_type": "code",
   "execution_count": 13,
   "metadata": {},
   "outputs": [
    {
     "data": {
      "text/html": [
       "<div>\n",
       "<style scoped>\n",
       "    .dataframe tbody tr th:only-of-type {\n",
       "        vertical-align: middle;\n",
       "    }\n",
       "\n",
       "    .dataframe tbody tr th {\n",
       "        vertical-align: top;\n",
       "    }\n",
       "\n",
       "    .dataframe thead th {\n",
       "        text-align: right;\n",
       "    }\n",
       "</style>\n",
       "<table border=\"1\" class=\"dataframe\">\n",
       "  <thead>\n",
       "    <tr style=\"text-align: right;\">\n",
       "      <th></th>\n",
       "      <th>1</th>\n",
       "      <th>2</th>\n",
       "      <th>6</th>\n",
       "      <th>10</th>\n",
       "      <th>20</th>\n",
       "    </tr>\n",
       "  </thead>\n",
       "  <tbody>\n",
       "    <tr>\n",
       "      <th>1000</th>\n",
       "      <td>66.385011</td>\n",
       "      <td>56.993431</td>\n",
       "      <td>71.733937</td>\n",
       "      <td>79.429709</td>\n",
       "      <td>129.796835</td>\n",
       "    </tr>\n",
       "    <tr>\n",
       "      <th>10000</th>\n",
       "      <td>166.968503</td>\n",
       "      <td>114.117879</td>\n",
       "      <td>84.489277</td>\n",
       "      <td>92.802805</td>\n",
       "      <td>142.849921</td>\n",
       "    </tr>\n",
       "    <tr>\n",
       "      <th>100000</th>\n",
       "      <td>1221.036816</td>\n",
       "      <td>777.887108</td>\n",
       "      <td>461.847912</td>\n",
       "      <td>412.945416</td>\n",
       "      <td>425.850307</td>\n",
       "    </tr>\n",
       "    <tr>\n",
       "      <th>500000</th>\n",
       "      <td>7319.432771</td>\n",
       "      <td>5126.522601</td>\n",
       "      <td>2960.258715</td>\n",
       "      <td>2139.677649</td>\n",
       "      <td>2062.027165</td>\n",
       "    </tr>\n",
       "    <tr>\n",
       "      <th>1000000</th>\n",
       "      <td>12646.801178</td>\n",
       "      <td>7779.188330</td>\n",
       "      <td>4588.343440</td>\n",
       "      <td>3972.455426</td>\n",
       "      <td>3406.246946</td>\n",
       "    </tr>\n",
       "  </tbody>\n",
       "</table>\n",
       "</div>"
      ],
      "text/plain": [
       "                   1            2            6            10           20\n",
       "1000        66.385011    56.993431    71.733937    79.429709   129.796835\n",
       "10000      166.968503   114.117879    84.489277    92.802805   142.849921\n",
       "100000    1221.036816   777.887108   461.847912   412.945416   425.850307\n",
       "500000    7319.432771  5126.522601  2960.258715  2139.677649  2062.027165\n",
       "1000000  12646.801178  7779.188330  4588.343440  3972.455426  3406.246946"
      ]
     },
     "execution_count": 13,
     "metadata": {},
     "output_type": "execute_result"
    }
   ],
   "source": [
    "df_fit_time"
   ]
  },
  {
   "cell_type": "code",
   "execution_count": 14,
   "metadata": {},
   "outputs": [
    {
     "data": {
      "text/html": [
       "<div>\n",
       "<style scoped>\n",
       "    .dataframe tbody tr th:only-of-type {\n",
       "        vertical-align: middle;\n",
       "    }\n",
       "\n",
       "    .dataframe tbody tr th {\n",
       "        vertical-align: top;\n",
       "    }\n",
       "\n",
       "    .dataframe thead th {\n",
       "        text-align: right;\n",
       "    }\n",
       "</style>\n",
       "<table border=\"1\" class=\"dataframe\">\n",
       "  <thead>\n",
       "    <tr style=\"text-align: right;\">\n",
       "      <th></th>\n",
       "      <th>1</th>\n",
       "      <th>2</th>\n",
       "      <th>6</th>\n",
       "      <th>10</th>\n",
       "      <th>20</th>\n",
       "    </tr>\n",
       "  </thead>\n",
       "  <tbody>\n",
       "    <tr>\n",
       "      <th>1000</th>\n",
       "      <td>8.298126</td>\n",
       "      <td>7.124179</td>\n",
       "      <td>8.966742</td>\n",
       "      <td>9.928714</td>\n",
       "      <td>16.224604</td>\n",
       "    </tr>\n",
       "    <tr>\n",
       "      <th>10000</th>\n",
       "      <td>20.871063</td>\n",
       "      <td>14.264735</td>\n",
       "      <td>10.561160</td>\n",
       "      <td>11.600351</td>\n",
       "      <td>17.856240</td>\n",
       "    </tr>\n",
       "    <tr>\n",
       "      <th>100000</th>\n",
       "      <td>152.629602</td>\n",
       "      <td>97.235889</td>\n",
       "      <td>57.730989</td>\n",
       "      <td>51.618177</td>\n",
       "      <td>53.231288</td>\n",
       "    </tr>\n",
       "    <tr>\n",
       "      <th>500000</th>\n",
       "      <td>914.929096</td>\n",
       "      <td>640.815325</td>\n",
       "      <td>370.032339</td>\n",
       "      <td>267.459706</td>\n",
       "      <td>257.753396</td>\n",
       "    </tr>\n",
       "    <tr>\n",
       "      <th>1000000</th>\n",
       "      <td>1580.850147</td>\n",
       "      <td>972.398541</td>\n",
       "      <td>573.542930</td>\n",
       "      <td>496.556928</td>\n",
       "      <td>425.780868</td>\n",
       "    </tr>\n",
       "  </tbody>\n",
       "</table>\n",
       "</div>"
      ],
      "text/plain": [
       "                  1           2           6           10          20\n",
       "1000        8.298126    7.124179    8.966742    9.928714   16.224604\n",
       "10000      20.871063   14.264735   10.561160   11.600351   17.856240\n",
       "100000    152.629602   97.235889   57.730989   51.618177   53.231288\n",
       "500000    914.929096  640.815325  370.032339  267.459706  257.753396\n",
       "1000000  1580.850147  972.398541  573.542930  496.556928  425.780868"
      ]
     },
     "execution_count": 14,
     "metadata": {},
     "output_type": "execute_result"
    }
   ],
   "source": [
    "df_fit_time = df_fit_time / len(IDS_DISTRIBUTION_FIT)\n",
    "df_fit_time"
   ]
  },
  {
   "cell_type": "code",
   "execution_count": 15,
   "metadata": {},
   "outputs": [
    {
     "name": "stdout",
     "output_type": "stream",
     "text": [
      "|         |         1 |        2 |        6 |       10 |       20 |\n",
      "|--------:|----------:|---------:|---------:|---------:|---------:|\n",
      "|    1000 |    8.2981 |   7.1242 |   8.9667 |   9.9287 |  16.2246 |\n",
      "|   10000 |   20.8711 |  14.2647 |  10.5612 |  11.6004 |  17.8562 |\n",
      "|  100000 |  152.6296 |  97.2359 |  57.7310 |  51.6182 |  53.2313 |\n",
      "|  500000 |  914.9291 | 640.8153 | 370.0323 | 267.4597 | 257.7534 |\n",
      "| 1000000 | 1580.8501 | 972.3985 | 573.5429 | 496.5569 | 425.7809 |\n"
     ]
    }
   ],
   "source": [
    "print(df_fit_time.to_markdown(floatfmt=\".4f\"))"
   ]
  }
 ],
 "metadata": {
  "kernelspec": {
   "display_name": "Python 3",
   "language": "python",
   "name": "python3"
  },
  "language_info": {
   "codemirror_mode": {
    "name": "ipython",
    "version": 3
   },
   "file_extension": ".py",
   "mimetype": "text/x-python",
   "name": "python",
   "nbconvert_exporter": "python",
   "pygments_lexer": "ipython3",
   "version": "3.10.10"
  }
 },
 "nbformat": 4,
 "nbformat_minor": 2
}
