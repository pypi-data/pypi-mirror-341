{
 "cells": [
  {
   "cell_type": "markdown",
   "metadata": {},
   "source": [
    "<a target=\"_blank\" href=\"https://colab.research.google.com/github/phitter-core/phitter-kernel/blob/main/utilities/benchmarks/parameter_estimation/discrete.ipynb\">\n",
    "  <img src=\"https://colab.research.google.com/assets/colab-badge.svg\" alt=\"Open In Colab\"/>\n",
    "</a>\n",
    "\n"
   ]
  },
  {
   "cell_type": "code",
   "execution_count": 9,
   "metadata": {},
   "outputs": [],
   "source": [
    "import pandas\n",
    "import time\n",
    "import os\n",
    "import sys"
   ]
  },
  {
   "cell_type": "code",
   "execution_count": 10,
   "metadata": {},
   "outputs": [],
   "source": [
    "if os.getenv(\"COLAB_RELEASE_TAG\"):\n",
    "   !pip install phitter --quiet\n",
    "else:\n",
    "   sys.path.append(\"../../../\")"
   ]
  },
  {
   "cell_type": "code",
   "execution_count": 11,
   "metadata": {},
   "outputs": [],
   "source": [
    "import phitter"
   ]
  },
  {
   "cell_type": "code",
   "execution_count": 12,
   "metadata": {},
   "outputs": [],
   "source": [
    "df_estimation_time = pandas.DataFrame()"
   ]
  },
  {
   "cell_type": "code",
   "execution_count": 13,
   "metadata": {},
   "outputs": [],
   "source": [
    "SAMPLE_SIZES = [1000, 10000, 100000, 500000, 1000000, 10000000]"
   ]
  },
  {
   "cell_type": "code",
   "execution_count": 14,
   "metadata": {},
   "outputs": [],
   "source": [
    "for id_distribution, distribution_class in phitter.discrete.DISCRETE_DISTRIBUTIONS.items():\n",
    "    for size in SAMPLE_SIZES:\n",
    "        sample = distribution_class(init_parameters_examples=True).sample(size)\n",
    "        discrete_measures = phitter.discrete.DiscreteMeasures(sample)\n",
    "        ti = time.time()\n",
    "        distribution = distribution_class(discrete_measures=discrete_measures)\n",
    "        tf = time.time() - ti\n",
    "        df_estimation_time.loc[id_distribution, size] = tf"
   ]
  },
  {
   "cell_type": "code",
   "execution_count": 15,
   "metadata": {},
   "outputs": [
    {
     "data": {
      "text/html": [
       "<div>\n",
       "<style scoped>\n",
       "    .dataframe tbody tr th:only-of-type {\n",
       "        vertical-align: middle;\n",
       "    }\n",
       "\n",
       "    .dataframe tbody tr th {\n",
       "        vertical-align: top;\n",
       "    }\n",
       "\n",
       "    .dataframe thead th {\n",
       "        text-align: right;\n",
       "    }\n",
       "</style>\n",
       "<table border=\"1\" class=\"dataframe\">\n",
       "  <thead>\n",
       "    <tr style=\"text-align: right;\">\n",
       "      <th></th>\n",
       "      <th>1000</th>\n",
       "      <th>10000</th>\n",
       "      <th>100000</th>\n",
       "      <th>500000</th>\n",
       "      <th>1000000</th>\n",
       "      <th>10000000</th>\n",
       "    </tr>\n",
       "  </thead>\n",
       "  <tbody>\n",
       "    <tr>\n",
       "      <th>bernoulli</th>\n",
       "      <td>0.000000</td>\n",
       "      <td>0.000000</td>\n",
       "      <td>0.000000</td>\n",
       "      <td>0.000000</td>\n",
       "      <td>0.000000</td>\n",
       "      <td>0.000000</td>\n",
       "    </tr>\n",
       "    <tr>\n",
       "      <th>binomial</th>\n",
       "      <td>0.000000</td>\n",
       "      <td>0.000000</td>\n",
       "      <td>0.000000</td>\n",
       "      <td>0.000000</td>\n",
       "      <td>0.000000</td>\n",
       "      <td>0.000000</td>\n",
       "    </tr>\n",
       "    <tr>\n",
       "      <th>geometric</th>\n",
       "      <td>0.000000</td>\n",
       "      <td>0.000000</td>\n",
       "      <td>0.000000</td>\n",
       "      <td>0.000000</td>\n",
       "      <td>0.000000</td>\n",
       "      <td>0.000000</td>\n",
       "    </tr>\n",
       "    <tr>\n",
       "      <th>hypergeometric</th>\n",
       "      <td>0.077291</td>\n",
       "      <td>0.006068</td>\n",
       "      <td>0.002997</td>\n",
       "      <td>0.002028</td>\n",
       "      <td>0.003041</td>\n",
       "      <td>0.005063</td>\n",
       "    </tr>\n",
       "    <tr>\n",
       "      <th>logarithmic</th>\n",
       "      <td>0.021010</td>\n",
       "      <td>0.003526</td>\n",
       "      <td>0.017053</td>\n",
       "      <td>0.005016</td>\n",
       "      <td>0.002999</td>\n",
       "      <td>0.075603</td>\n",
       "    </tr>\n",
       "    <tr>\n",
       "      <th>negative_binomial</th>\n",
       "      <td>0.029326</td>\n",
       "      <td>0.000000</td>\n",
       "      <td>0.000000</td>\n",
       "      <td>0.000000</td>\n",
       "      <td>0.000000</td>\n",
       "      <td>0.000000</td>\n",
       "    </tr>\n",
       "    <tr>\n",
       "      <th>poisson</th>\n",
       "      <td>0.000000</td>\n",
       "      <td>0.000000</td>\n",
       "      <td>0.000000</td>\n",
       "      <td>0.000000</td>\n",
       "      <td>0.000000</td>\n",
       "      <td>0.000000</td>\n",
       "    </tr>\n",
       "    <tr>\n",
       "      <th>uniform</th>\n",
       "      <td>0.000000</td>\n",
       "      <td>0.000000</td>\n",
       "      <td>0.000000</td>\n",
       "      <td>0.000000</td>\n",
       "      <td>0.000000</td>\n",
       "      <td>0.000000</td>\n",
       "    </tr>\n",
       "  </tbody>\n",
       "</table>\n",
       "</div>"
      ],
      "text/plain": [
       "                   1000      10000     100000    500000    1000000   10000000\n",
       "bernoulli          0.000000  0.000000  0.000000  0.000000  0.000000  0.000000\n",
       "binomial           0.000000  0.000000  0.000000  0.000000  0.000000  0.000000\n",
       "geometric          0.000000  0.000000  0.000000  0.000000  0.000000  0.000000\n",
       "hypergeometric     0.077291  0.006068  0.002997  0.002028  0.003041  0.005063\n",
       "logarithmic        0.021010  0.003526  0.017053  0.005016  0.002999  0.075603\n",
       "negative_binomial  0.029326  0.000000  0.000000  0.000000  0.000000  0.000000\n",
       "poisson            0.000000  0.000000  0.000000  0.000000  0.000000  0.000000\n",
       "uniform            0.000000  0.000000  0.000000  0.000000  0.000000  0.000000"
      ]
     },
     "execution_count": 15,
     "metadata": {},
     "output_type": "execute_result"
    }
   ],
   "source": [
    "df_estimation_time"
   ]
  },
  {
   "cell_type": "code",
   "execution_count": 16,
   "metadata": {},
   "outputs": [
    {
     "name": "stdout",
     "output_type": "stream",
     "text": [
      "|                   |   1000 |   10000 |   100000 |   500000 |   1000000 |   10000000 |\n",
      "|:------------------|-------:|--------:|---------:|---------:|----------:|-----------:|\n",
      "| bernoulli         | 0.0000 |  0.0000 |   0.0000 |   0.0000 |    0.0000 |     0.0000 |\n",
      "| binomial          | 0.0000 |  0.0000 |   0.0000 |   0.0000 |    0.0000 |     0.0000 |\n",
      "| geometric         | 0.0000 |  0.0000 |   0.0000 |   0.0000 |    0.0000 |     0.0000 |\n",
      "| hypergeometric    | 0.0773 |  0.0061 |   0.0030 |   0.0020 |    0.0030 |     0.0051 |\n",
      "| logarithmic       | 0.0210 |  0.0035 |   0.0171 |   0.0050 |    0.0030 |     0.0756 |\n",
      "| negative_binomial | 0.0293 |  0.0000 |   0.0000 |   0.0000 |    0.0000 |     0.0000 |\n",
      "| poisson           | 0.0000 |  0.0000 |   0.0000 |   0.0000 |    0.0000 |     0.0000 |\n",
      "| uniform           | 0.0000 |  0.0000 |   0.0000 |   0.0000 |    0.0000 |     0.0000 |\n"
     ]
    }
   ],
   "source": [
    "print(df_estimation_time.to_markdown(floatfmt=\".4f\"))"
   ]
  }
 ],
 "metadata": {
  "kernelspec": {
   "display_name": "Python 3",
   "language": "python",
   "name": "python3"
  },
  "language_info": {
   "codemirror_mode": {
    "name": "ipython",
    "version": 3
   },
   "file_extension": ".py",
   "mimetype": "text/x-python",
   "name": "python",
   "nbconvert_exporter": "python",
   "pygments_lexer": "ipython3",
   "version": "3.10.10"
  }
 },
 "nbformat": 4,
 "nbformat_minor": 2
}
