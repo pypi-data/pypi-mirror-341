{
 "cells": [
  {
   "cell_type": "code",
   "execution_count": 1,
   "id": "76681f47-6727-4def-af0f-d71705b53970",
   "metadata": {},
   "outputs": [],
   "source": [
    "%load_ext rich"
   ]
  },
  {
   "cell_type": "markdown",
   "id": "2771c65c-09a7-4e71-aa24-151c7cfde2a4",
   "metadata": {},
   "source": [
    "# Pre-built modules"
   ]
  },
  {
   "cell_type": "code",
   "execution_count": 2,
   "id": "60cf0f14-9cf4-4fd6-a123-8e8ecd809876",
   "metadata": {},
   "outputs": [],
   "source": [
    "import promptimus as pm"
   ]
  },
  {
   "cell_type": "code",
   "execution_count": 3,
   "id": "e7f54c43-478c-4795-a764-8c378b7b6e47",
   "metadata": {},
   "outputs": [],
   "source": [
    "provider = pm.llms.OpenAILike(\n",
    "    model_name=\"qwen/qwen-2-7b-instruct:free\", base_url=\"https://openrouter.ai/api/v1\"\n",
    ")"
   ]
  },
  {
   "cell_type": "markdown",
   "id": "5397b4b3-e6f1-4d9c-a841-62b29695814e",
   "metadata": {},
   "source": [
    "## Memory Module"
   ]
  },
  {
   "cell_type": "code",
   "execution_count": 4,
   "id": "ebc24c68-2596-4bed-8c52-8952ae91e59b",
   "metadata": {},
   "outputs": [],
   "source": [
    "assistant = pm.modules.MemoryModule(\n",
    "    memory_size=3, system_prompt=\"You are an assistant.\"\n",
    ").with_provider(provider)"
   ]
  },
  {
   "cell_type": "code",
   "execution_count": 5,
   "id": "1844c713-99fc-46f5-973f-a2a8173c9792",
   "metadata": {},
   "outputs": [
    {
     "data": {
      "text/html": [
       "<pre style=\"white-space:pre;overflow-x:auto;line-height:normal;font-family:Menlo,'DejaVu Sans Mono',consolas,'Courier New',monospace\"></pre>\n"
      ],
      "text/plain": []
     },
     "metadata": {},
     "output_type": "display_data"
    },
    {
     "data": {
      "text/plain": [
       "\n",
       "\u001b[1;35mMessage\u001b[0m\u001b[1m(\u001b[0m\n",
       "    \u001b[33mrole\u001b[0m=\u001b[1m<\u001b[0m\u001b[1;95mMessageRole.ASSISTANT:\u001b[0m\u001b[39m \u001b[0m\u001b[32m'assistant'\u001b[0m\u001b[1m>\u001b[0m,\n",
       "    \u001b[33mcontent\u001b[0m=\u001b[32m'Hello Ailadin, nice to meet you! How can I assist you today?'\u001b[0m\n",
       "\u001b[1m)\u001b[0m"
      ]
     },
     "execution_count": 5,
     "metadata": {},
     "output_type": "execute_result"
    }
   ],
   "source": [
    "await assistant.forward(\"Hi my name is Ailadin!\")"
   ]
  },
  {
   "cell_type": "code",
   "execution_count": 6,
   "id": "cb27a715-483b-40ec-9ced-8c0e04bd60f5",
   "metadata": {},
   "outputs": [
    {
     "data": {
      "text/html": [
       "<pre style=\"white-space:pre;overflow-x:auto;line-height:normal;font-family:Menlo,'DejaVu Sans Mono',consolas,'Courier New',monospace\"></pre>\n"
      ],
      "text/plain": []
     },
     "metadata": {},
     "output_type": "display_data"
    },
    {
     "data": {
      "text/plain": [
       "\u001b[1;35mMessage\u001b[0m\u001b[1m(\u001b[0m\u001b[33mrole\u001b[0m=\u001b[1m<\u001b[0m\u001b[1;95mMessageRole.ASSISTANT:\u001b[0m\u001b[39m \u001b[0m\u001b[32m'assistant'\u001b[0m\u001b[1m>\u001b[0m, \u001b[33mcontent\u001b[0m=\u001b[32m'Your name is Ailadin.'\u001b[0m\u001b[1m)\u001b[0m"
      ]
     },
     "execution_count": 6,
     "metadata": {},
     "output_type": "execute_result"
    }
   ],
   "source": [
    "# remembering name from context\n",
    "await assistant.forward(\"What is my name?\")"
   ]
  },
  {
   "cell_type": "code",
   "execution_count": 7,
   "id": "6b5125ad-7c0f-46aa-9904-05f186c342c0",
   "metadata": {},
   "outputs": [
    {
     "data": {
      "text/html": [
       "<pre style=\"white-space:pre;overflow-x:auto;line-height:normal;font-family:Menlo,'DejaVu Sans Mono',consolas,'Courier New',monospace\"></pre>\n"
      ],
      "text/plain": []
     },
     "metadata": {},
     "output_type": "display_data"
    },
    {
     "data": {
      "text/plain": [
       "\n",
       "\u001b[1;35mMessage\u001b[0m\u001b[1m(\u001b[0m\n",
       "    \u001b[33mrole\u001b[0m=\u001b[1m<\u001b[0m\u001b[1;95mMessageRole.ASSISTANT:\u001b[0m\u001b[39m \u001b[0m\u001b[32m'assistant'\u001b[0m\u001b[1m>\u001b[0m,\n",
       "    \u001b[33mcontent\u001b[0m=\u001b[32m\"As\u001b[0m\u001b[32m an artificial intelligence, I don't have a personal name, but you can call me Assistant. How can I assist you today?\"\u001b[0m\n",
       "\u001b[1m)\u001b[0m"
      ]
     },
     "execution_count": 7,
     "metadata": {},
     "output_type": "execute_result"
    }
   ],
   "source": [
    "await assistant.forward(\"What is your name?\")"
   ]
  },
  {
   "cell_type": "code",
   "execution_count": 8,
   "id": "ea04a2aa-a909-4bbf-8378-9a04d4c953ec",
   "metadata": {},
   "outputs": [
    {
     "data": {
      "text/html": [
       "<pre style=\"white-space:pre;overflow-x:auto;line-height:normal;font-family:Menlo,'DejaVu Sans Mono',consolas,'Courier New',monospace\"></pre>\n"
      ],
      "text/plain": []
     },
     "metadata": {},
     "output_type": "display_data"
    },
    {
     "data": {
      "text/plain": [
       "\n",
       "\u001b[1;35mMessage\u001b[0m\u001b[1m(\u001b[0m\n",
       "    \u001b[33mrole\u001b[0m=\u001b[1m<\u001b[0m\u001b[1;95mMessageRole.ASSISTANT:\u001b[0m\u001b[39m \u001b[0m\u001b[32m'assistant'\u001b[0m\u001b[1m>\u001b[0m,\n",
       "    \u001b[33mcontent\u001b[0m=\u001b[32m\"I\u001b[0m\u001b[32m'm sorry for the confusion, but as an AI text-based model running on a computer, I do not have the capability to access real-time data, gather information or browse the internet. I suggest using a weather-app or visiting a relevant website to find your current weather conditions.\"\u001b[0m\n",
       "\u001b[1m)\u001b[0m"
      ]
     },
     "execution_count": 8,
     "metadata": {},
     "output_type": "execute_result"
    }
   ],
   "source": [
    "await assistant.forward(\"What is my the weather today?\")"
   ]
  },
  {
   "cell_type": "code",
   "execution_count": 9,
   "id": "467c4ac6-cb6d-4470-b11f-0e4a33e9e4fc",
   "metadata": {},
   "outputs": [
    {
     "data": {
      "text/html": [
       "<pre style=\"white-space:pre;overflow-x:auto;line-height:normal;font-family:Menlo,'DejaVu Sans Mono',consolas,'Courier New',monospace\"></pre>\n"
      ],
      "text/plain": []
     },
     "metadata": {},
     "output_type": "display_data"
    },
    {
     "data": {
      "text/plain": [
       "Memory\u001b[1m[\u001b[0m\u001b[1;35mdeque\u001b[0m\u001b[1m(\u001b[0m\u001b[1m[\u001b[0m\u001b[1;35mMessage\u001b[0m\u001b[1m(\u001b[0m\u001b[33mrole\u001b[0m=\u001b[1m<\u001b[0m\u001b[1;95mMessageRole.ASSISTANT:\u001b[0m\u001b[39m \u001b[0m\u001b[32m'assistant'\u001b[0m\u001b[39m>, \u001b[0m\u001b[33mcontent\u001b[0m\u001b[39m=\u001b[0m\u001b[32m\"As\u001b[0m\u001b[32m an artificial intelligence, I don't have a personal name, but you can call me Assistant. How can I assist you today?\"\u001b[0m\u001b[1;39m)\u001b[0m\u001b[39m, \u001b[0m\u001b[1;35mMessage\u001b[0m\u001b[1;39m(\u001b[0m\u001b[33mrole\u001b[0m\u001b[39m=<MessageRole.USER: \u001b[0m\u001b[32m'user'\u001b[0m\u001b[39m>, \u001b[0m\u001b[33mcontent\u001b[0m\u001b[39m=\u001b[0m\u001b[32m'What is my the weather today?'\u001b[0m\u001b[1;39m)\u001b[0m\u001b[39m, \u001b[0m\u001b[1;35mMessage\u001b[0m\u001b[1;39m(\u001b[0m\u001b[33mrole\u001b[0m\u001b[39m=<MessageRole.ASSISTANT: \u001b[0m\u001b[32m'assistant'\u001b[0m\u001b[1m>\u001b[0m, \u001b[33mcontent\u001b[0m=\u001b[32m\"I\u001b[0m\u001b[32m'm sorry for the confusion, but as an AI text-based model running on a computer, I do not have the capability to access real-time data, gather information or browse the internet. I suggest using a weather-app or visiting a relevant website to find your current weather conditions.\"\u001b[0m\u001b[1m)\u001b[0m\u001b[1m]\u001b[0m, \u001b[33mmaxlen\u001b[0m=\u001b[1;36m3\u001b[0m\u001b[1m)\u001b[0m\u001b[1m]\u001b[0m"
      ]
     },
     "execution_count": 9,
     "metadata": {},
     "output_type": "execute_result"
    }
   ],
   "source": [
    "# memory maxlen exhausted\n",
    "assistant.memory"
   ]
  },
  {
   "cell_type": "code",
   "execution_count": 10,
   "id": "a66435a8-72bd-47a7-81c0-dda203aaa12e",
   "metadata": {},
   "outputs": [
    {
     "data": {
      "text/html": [
       "<pre style=\"white-space:pre;overflow-x:auto;line-height:normal;font-family:Menlo,'DejaVu Sans Mono',consolas,'Courier New',monospace\"></pre>\n"
      ],
      "text/plain": []
     },
     "metadata": {},
     "output_type": "display_data"
    },
    {
     "data": {
      "text/plain": [
       "\n",
       "\u001b[1;35mMessage\u001b[0m\u001b[1m(\u001b[0m\n",
       "    \u001b[33mrole\u001b[0m=\u001b[1m<\u001b[0m\u001b[1;95mMessageRole.ASSISTANT:\u001b[0m\u001b[39m \u001b[0m\u001b[32m'assistant'\u001b[0m\u001b[1m>\u001b[0m,\n",
       "    \u001b[33mcontent\u001b[0m=\u001b[32m'As an AI, I don\\'t retain information between sessions and don\\'t have the capability to remember personal data unless you specifically tell me something like \"My name is \u001b[0m\u001b[32m[\u001b[0m\u001b[32mYour Name\u001b[0m\u001b[32m]\u001b[0m\u001b[32m\". If you\\'d like to remind me, just say, \"My name is \u001b[0m\u001b[32m[\u001b[0m\u001b[32mYour Name\u001b[0m\u001b[32m]\u001b[0m\u001b[32m.\"'\u001b[0m\n",
       "\u001b[1m)\u001b[0m"
      ]
     },
     "execution_count": 10,
     "metadata": {},
     "output_type": "execute_result"
    }
   ],
   "source": [
    "# now it doesn't have memory in context\n",
    "await assistant.forward(\"Can you recall my name?\")"
   ]
  },
  {
   "cell_type": "code",
   "execution_count": 11,
   "id": "987571d3-37b0-4ddf-9d6f-8cc1a2dc7a6b",
   "metadata": {},
   "outputs": [
    {
     "data": {
      "text/html": [
       "<pre style=\"white-space:pre;overflow-x:auto;line-height:normal;font-family:Menlo,'DejaVu Sans Mono',consolas,'Courier New',monospace\"></pre>\n"
      ],
      "text/plain": []
     },
     "metadata": {},
     "output_type": "display_data"
    },
    {
     "data": {
      "text/plain": [
       "Memory\u001b[1m[\u001b[0m\u001b[1;35mdeque\u001b[0m\u001b[1m(\u001b[0m\u001b[1m[\u001b[0m\u001b[1m]\u001b[0m, \u001b[33mmaxlen\u001b[0m=\u001b[1;36m3\u001b[0m\u001b[1m)\u001b[0m\u001b[1m]\u001b[0m"
      ]
     },
     "execution_count": 11,
     "metadata": {},
     "output_type": "execute_result"
    }
   ],
   "source": [
    "# memory can be cleaned manually\n",
    "assistant.memory.reset()\n",
    "assistant.memory"
   ]
  },
  {
   "cell_type": "code",
   "execution_count": 12,
   "id": "cb4ebd6d-2e6b-420a-bf9f-de6e5194afc7",
   "metadata": {},
   "outputs": [
    {
     "name": "stdout",
     "output_type": "stream",
     "text": [
      "Inside context Memory[deque([Message(role=<MessageRole.ASSISTANT: 'assistant'>, content=\"Hello Ailadin, it's nice to meet you! How can I assist you today?\"), Message(role=<MessageRole.USER: 'user'>, content='What is my name'), Message(role=<MessageRole.ASSISTANT: 'assistant'>, content='Your name is Ailadin.')], maxlen=3)]\n",
      "----\n",
      "Outside context Memory[deque([], maxlen=3)]\n"
     ]
    }
   ],
   "source": [
    "# or can be cleared on context enter and exit\n",
    "\n",
    "with assistant.memory:\n",
    "    await assistant.forward(\"Hi my name is Ailadin\")\n",
    "    await assistant.forward(\"What is my name\")\n",
    "    print(\"Inside context\", assistant.memory)\n",
    "print(\"----\")\n",
    "print(\"Outside context\", assistant.memory)"
   ]
  },
  {
   "cell_type": "code",
   "execution_count": 13,
   "id": "9c4a8a51-3e00-4bb0-ba66-031383279f7f",
   "metadata": {},
   "outputs": [
    {
     "name": "stdout",
     "output_type": "stream",
     "text": [
      "prompt = \"\"\"\n",
      "You are an assistant.\n",
      "\"\"\"\n",
      "\n"
     ]
    }
   ],
   "source": [
    "assistant.save(\"assets/step_3_memory.toml\")\n",
    "!cat assets/step_3_memory.toml"
   ]
  },
  {
   "cell_type": "markdown",
   "id": "3bd0e803-19ff-4a4c-a3db-c7a218b3a123",
   "metadata": {},
   "source": [
    "## Structural Output"
   ]
  },
  {
   "cell_type": "code",
   "execution_count": 14,
   "id": "465742d6-d6d4-480f-aea4-bcd4d883102e",
   "metadata": {},
   "outputs": [],
   "source": [
    "from enum import StrEnum, auto\n",
    "\n",
    "from pydantic import BaseModel, Field"
   ]
  },
  {
   "cell_type": "code",
   "execution_count": 15,
   "id": "650b3788-f145-4a56-a3db-1ad33e88241f",
   "metadata": {},
   "outputs": [],
   "source": [
    "class Operation(StrEnum):\n",
    "    SUM = auto()\n",
    "    SUB = auto()\n",
    "    DIV = auto()\n",
    "    MUL = auto()\n",
    "\n",
    "\n",
    "class CalculatorSchema(BaseModel):\n",
    "    reasoning: str\n",
    "    a: float = Field(description=\"The left operand.\")\n",
    "    b: float = Field(description=\"The right operand.\")\n",
    "    op: Operation = Field(description=\"The operation to execute.\")\n",
    "\n",
    "\n",
    "module = pm.modules.StructuralOutput(CalculatorSchema).with_provider(provider)"
   ]
  },
  {
   "cell_type": "code",
   "execution_count": null,
   "id": "3ee62387-37b8-44cf-b153-37526911f31f",
   "metadata": {},
   "outputs": [],
   "source": []
  },
  {
   "cell_type": "code",
   "execution_count": 17,
   "id": "ad94aad1-3c22-4eee-9904-d0c14e1985aa",
   "metadata": {},
   "outputs": [
    {
     "data": {
      "text/html": [
       "<pre style=\"white-space:pre;overflow-x:auto;line-height:normal;font-family:Menlo,'DejaVu Sans Mono',consolas,'Courier New',monospace\"></pre>\n"
      ],
      "text/plain": []
     },
     "metadata": {},
     "output_type": "display_data"
    },
    {
     "data": {
      "text/plain": [
       "\n",
       "\u001b[1;35mCalculatorSchema\u001b[0m\u001b[1m(\u001b[0m\n",
       "    \u001b[33mreasoning\u001b[0m=\u001b[32m'To acquire twice the amount of current cows \u001b[0m\u001b[32m(\u001b[0m\u001b[32m10 cows\u001b[0m\u001b[32m)\u001b[0m\u001b[32m, you need to purchase an additional 10 cows.'\u001b[0m,\n",
       "    \u001b[33ma\u001b[0m=\u001b[1;36m10\u001b[0m\u001b[1;36m.0\u001b[0m,\n",
       "    \u001b[33mb\u001b[0m=\u001b[1;36m2\u001b[0m\u001b[1;36m.0\u001b[0m,\n",
       "    \u001b[33mop\u001b[0m=\u001b[1m<\u001b[0m\u001b[1;95mOperation.MUL:\u001b[0m\u001b[39m \u001b[0m\u001b[32m'mul'\u001b[0m\u001b[1m>\u001b[0m\n",
       "\u001b[1m)\u001b[0m"
      ]
     },
     "execution_count": 17,
     "metadata": {},
     "output_type": "execute_result"
    }
   ],
   "source": [
    "await module.forward(\"I have 10 cows, I need twice the amount\")"
   ]
  },
  {
   "cell_type": "code",
   "execution_count": 22,
   "id": "3c62462f-5f43-481a-b4f9-ce415015d3cf",
   "metadata": {},
   "outputs": [
    {
     "data": {
      "text/html": [
       "<pre style=\"white-space:pre;overflow-x:auto;line-height:normal;font-family:Menlo,'DejaVu Sans Mono',consolas,'Courier New',monospace\"></pre>\n"
      ],
      "text/plain": []
     },
     "metadata": {},
     "output_type": "display_data"
    },
    {
     "data": {
      "text/plain": [
       "\n",
       "\u001b[1;35mCalculatorSchema\u001b[0m\u001b[1m(\u001b[0m\n",
       "    \u001b[33mreasoning\u001b[0m=\u001b[32m'Calculating half of the number of cows to understand the quantity needed.'\u001b[0m,\n",
       "    \u001b[33ma\u001b[0m=\u001b[1;36m10\u001b[0m\u001b[1;36m.0\u001b[0m,\n",
       "    \u001b[33mb\u001b[0m=\u001b[1;36m2\u001b[0m\u001b[1;36m.0\u001b[0m,\n",
       "    \u001b[33mop\u001b[0m=\u001b[1m<\u001b[0m\u001b[1;95mOperation.DIV:\u001b[0m\u001b[39m \u001b[0m\u001b[32m'div'\u001b[0m\u001b[1m>\u001b[0m\n",
       "\u001b[1m)\u001b[0m"
      ]
     },
     "execution_count": 22,
     "metadata": {},
     "output_type": "execute_result"
    }
   ],
   "source": [
    "await module.forward(\"I have 10 cows, i need half of them\")"
   ]
  },
  {
   "cell_type": "code",
   "execution_count": 19,
   "id": "c8ea835a-70e6-4a82-b6e2-cf7042dc1d6e",
   "metadata": {},
   "outputs": [
    {
     "data": {
      "text/html": [
       "<pre style=\"white-space:pre;overflow-x:auto;line-height:normal;font-family:Menlo,'DejaVu Sans Mono',consolas,'Courier New',monospace\"></pre>\n"
      ],
      "text/plain": []
     },
     "metadata": {},
     "output_type": "display_data"
    },
    {
     "data": {
      "text/plain": [
       "\n",
       "\u001b[1;35mCalculatorSchema\u001b[0m\u001b[1m(\u001b[0m\n",
       "    \u001b[33mreasoning\u001b[0m=\u001b[32m'To find out how many cows are left after 11 left the herd'\u001b[0m,\n",
       "    \u001b[33ma\u001b[0m=\u001b[1;36m11\u001b[0m\u001b[1;36m.11\u001b[0m,\n",
       "    \u001b[33mb\u001b[0m=\u001b[1;36m11\u001b[0m\u001b[1;36m.0\u001b[0m,\n",
       "    \u001b[33mop\u001b[0m=\u001b[1m<\u001b[0m\u001b[1;95mOperation.SUB:\u001b[0m\u001b[39m \u001b[0m\u001b[32m'sub'\u001b[0m\u001b[1m>\u001b[0m\n",
       "\u001b[1m)\u001b[0m"
      ]
     },
     "execution_count": 19,
     "metadata": {},
     "output_type": "execute_result"
    }
   ],
   "source": [
    "await module.forward(\"I have 11.11 cows. and 11 left the herd\")"
   ]
  },
  {
   "cell_type": "code",
   "execution_count": 20,
   "id": "a0433498-ba52-4a98-9464-a05a93ae316b",
   "metadata": {},
   "outputs": [
    {
     "data": {
      "text/html": [
       "<pre style=\"white-space:pre;overflow-x:auto;line-height:normal;font-family:Menlo,'DejaVu Sans Mono',consolas,'Courier New',monospace\"></pre>\n"
      ],
      "text/plain": []
     },
     "metadata": {},
     "output_type": "display_data"
    },
    {
     "data": {
      "text/plain": [
       "\u001b[1;35mCalculatorSchema\u001b[0m\u001b[1m(\u001b[0m\u001b[33mreasoning\u001b[0m=\u001b[32m'Calculating total number of cows'\u001b[0m, \u001b[33ma\u001b[0m=\u001b[1;36m5\u001b[0m\u001b[1;36m.0\u001b[0m, \u001b[33mb\u001b[0m=\u001b[1;36m7\u001b[0m\u001b[1;36m.0\u001b[0m, \u001b[33mop\u001b[0m=\u001b[1m<\u001b[0m\u001b[1;95mOperation.SUM:\u001b[0m\u001b[39m \u001b[0m\u001b[32m'sum'\u001b[0m\u001b[1m>\u001b[0m\u001b[1m)\u001b[0m"
      ]
     },
     "execution_count": 20,
     "metadata": {},
     "output_type": "execute_result"
    }
   ],
   "source": [
    "await module.forward(\"I have 5 cows. and my friend have 7\")"
   ]
  },
  {
   "cell_type": "code",
   "execution_count": 21,
   "id": "c149f600-e187-4168-a115-51f54a584131",
   "metadata": {},
   "outputs": [
    {
     "name": "stdout",
     "output_type": "stream",
     "text": [
      "retry_template = \"\"\"\n",
      "Your response does not conform to the required schema. Please correct your output by ensuring it matches the expected format and constraints. \n",
      "\n",
      "**Schema Validation Error:**  \n",
      "`{error_message}`  \n",
      "  \n",
      "Please reattempt the response, ensuring strict adherence to the schema.    \n",
      "\"\"\"\n",
      "\n",
      "\n",
      "[predictor]\n",
      "prompt = \"\"\"\n",
      "You are designed to generate structured JSON outputs adhering to a predefined schema without any embellishments or formatting.\n",
      "\n",
      "Schema Description: {{\n",
      "    \"$defs\": {{\n",
      "        \"Operation\": {{\n",
      "            \"enum\": [\n",
      "                \"sum\",\n",
      "                \"sub\",\n",
      "                \"div\",\n",
      "                \"mul\"\n",
      "            ],\n",
      "            \"title\": \"Operation\",\n",
      "            \"type\": \"string\"\n",
      "        }}\n",
      "    }},\n",
      "    \"properties\": {{\n",
      "        \"reasoning\": {{\n",
      "            \"title\": \"Reasoning\",\n",
      "            \"type\": \"string\"\n",
      "        }},\n",
      "        \"a\": {{\n",
      "            \"description\": \"The left operand.\",\n",
      "            \"title\": \"A\",\n",
      "            \"type\": \"number\"\n",
      "        }},\n",
      "        \"b\": {{\n",
      "            \"description\": \"The right operand.\",\n",
      "            \"title\": \"B\",\n",
      "            \"type\": \"number\"\n",
      "        }},\n",
      "        \"op\": {{\n",
      "            \"$ref\": \"#/$defs/Operation\",\n",
      "            \"description\": \"The operation to execute.\"\n",
      "        }}\n",
      "    }},\n",
      "    \"required\": [\n",
      "        \"reasoning\",\n",
      "        \"a\",\n",
      "        \"b\",\n",
      "        \"op\"\n",
      "    ],\n",
      "    \"title\": \"CalculatorSchema\",\n",
      "    \"type\": \"object\"\n",
      "}}\n",
      "\n",
      "Response Guidelines:\n",
      "- Ensure all required fields are present and correctly formatted. \n",
      "- Enforce any constraints on fields (e.g., length limits, specific formats) strictly.\n",
      "- Exclude optional fields if they aren't applicable; do not return null for them.\n",
      "- Provide valid JSON output without additional commentary, formatting markers like ```json, or unnecessary line breaks.\n",
      "\"\"\"\n",
      "\n"
     ]
    }
   ],
   "source": [
    "module.save(\"assets/step_3_structural.toml\")\n",
    "!cat assets/step_3_structural.toml"
   ]
  }
 ],
 "metadata": {
  "kernelspec": {
   "display_name": "promptimus",
   "language": "python",
   "name": "promptimus"
  },
  "language_info": {
   "codemirror_mode": {
    "name": "ipython",
    "version": 3
   },
   "file_extension": ".py",
   "mimetype": "text/x-python",
   "name": "python",
   "nbconvert_exporter": "python",
   "pygments_lexer": "ipython3",
   "version": "3.12.8"
  }
 },
 "nbformat": 4,
 "nbformat_minor": 5
}
