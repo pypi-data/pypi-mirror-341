{
 "cells": [
  {
   "cell_type": "code",
   "execution_count": 1,
   "id": "f623ca20-31bb-4341-a6c6-dd06d755e78e",
   "metadata": {},
   "outputs": [],
   "source": [
    "%load_ext rich"
   ]
  },
  {
   "cell_type": "markdown",
   "id": "703e9812-1a98-41f8-8e3d-d7c3d26a1daa",
   "metadata": {},
   "source": [
    "# LLM Provider\n",
    "A provider is a class that implements `ProviderProtocol`, serving as an interface to interact with a large language model (LLM). It processes user queries and returns model-generated responses.\n",
    "\n",
    "```python\n",
    "class ProviderProtocol(Protocol):\n",
    "    async def achat(self, history: list[Message]) -> Message: ...\n",
    "```\n",
    "\n",
    "Expected Behavior\n",
    "\n",
    "-  Implements `achat(self, history: list[Message]) -> Message`\n",
    "-  Accepts a conversation history (list of `Message` objects)\n",
    "-  Returns a single assistant-generated response (`Message`)\n",
    "\n",
    "A provider facilitates structured communication with an LLM, ensuring consistency in message handling and response generation."
   ]
  },
  {
   "cell_type": "code",
   "execution_count": 2,
   "id": "d2395675-787f-40f4-a5e5-c2abf9321c73",
   "metadata": {},
   "outputs": [],
   "source": [
    "from promptimus import Message, MessageRole\n",
    "from promptimus.llms import OpenAILike"
   ]
  },
  {
   "cell_type": "code",
   "execution_count": 3,
   "id": "e895c88d-e905-430f-9709-34296a7bd3be",
   "metadata": {},
   "outputs": [],
   "source": [
    "# creating a provider\n",
    "#\n",
    "# do not forgent to export OPENAI_API_KEY with your token or pass it as api-key argument\n",
    "provider = OpenAILike(\n",
    "    model_name=\"meta-llama/llama-3.2-1b-instruct:free\",\n",
    "    base_url=\"https://openrouter.ai/api/v1\",\n",
    ")"
   ]
  },
  {
   "cell_type": "code",
   "execution_count": 4,
   "id": "ca13ac1b-e5d9-4f02-a587-87ac6ccf3141",
   "metadata": {},
   "outputs": [
    {
     "data": {
      "text/html": [
       "<pre style=\"white-space:pre;overflow-x:auto;line-height:normal;font-family:Menlo,'DejaVu Sans Mono',consolas,'Courier New',monospace\"></pre>\n"
      ],
      "text/plain": []
     },
     "metadata": {},
     "output_type": "display_data"
    },
    {
     "data": {
      "text/plain": [
       "\n",
       "\u001b[1;35mMessage\u001b[0m\u001b[1m(\u001b[0m\n",
       "    \u001b[33mrole\u001b[0m=\u001b[1m<\u001b[0m\u001b[1;95mMessageRole.ASSISTANT:\u001b[0m\u001b[39m \u001b[0m\u001b[32m'assistant'\u001b[0m\u001b[1m>\u001b[0m,\n",
       "    \u001b[33mcontent\u001b[0m=\u001b[32m'Nice to meet you! I\\'m an AI assistant, which means I\\'m a computer program designed to understand and respond to human language. I\\'m here to help with any questions, provide information, or just engage in conversation. I\\'m a large language model, so I can understand a wide range of topics and can respond with knowledge based on my training data. I\\'m constantly learning and improving, so please bear with me if I make any mistakes or don\\'t quite \"get\" what you\\'re asking. How can I help you today?'\u001b[0m\n",
       "\u001b[1m)\u001b[0m"
      ]
     },
     "execution_count": 4,
     "metadata": {},
     "output_type": "execute_result"
    }
   ],
   "source": [
    "# using a provider with single message\n",
    "await provider.achat(\n",
    "    [\n",
    "        Message(role=MessageRole.USER, content=\"Hi, who are you?\"),\n",
    "    ]\n",
    ")"
   ]
  },
  {
   "cell_type": "code",
   "execution_count": 5,
   "id": "c374c7c6-a4a7-4372-bc1b-50e5f727b6d8",
   "metadata": {},
   "outputs": [
    {
     "data": {
      "text/html": [
       "<pre style=\"white-space:pre;overflow-x:auto;line-height:normal;font-family:Menlo,'DejaVu Sans Mono',consolas,'Courier New',monospace\"></pre>\n"
      ],
      "text/plain": []
     },
     "metadata": {},
     "output_type": "display_data"
    },
    {
     "data": {
      "text/plain": [
       "\n",
       "\u001b[1;35mMessage\u001b[0m\u001b[1m(\u001b[0m\n",
       "    \u001b[33mrole\u001b[0m=\u001b[1m<\u001b[0m\u001b[1;95mMessageRole.ASSISTANT:\u001b[0m\u001b[39m \u001b[0m\u001b[32m'assistant'\u001b[0m\u001b[1m>\u001b[0m,\n",
       "    \u001b[33mcontent\u001b[0m=\u001b[32m\"But\u001b[0m\u001b[32m nice to meet you! My name is Mark. I'm an AI designed to assist with questions and information. I don't have a personal name, but I'm happy to chat with you! What would you like to talk about?\"\u001b[0m\n",
       "\u001b[1m)\u001b[0m"
      ]
     },
     "execution_count": 5,
     "metadata": {},
     "output_type": "execute_result"
    }
   ],
   "source": [
    "# using provider with multiple messages\n",
    "await provider.achat(\n",
    "    [\n",
    "        Message(role=MessageRole.SYSTEM, content=\"Your name is Mark.\"),\n",
    "        Message(role=MessageRole.USER, content=\"Hi, what is your name?\"),\n",
    "    ]\n",
    ")"
   ]
  }
 ],
 "metadata": {
  "kernelspec": {
   "display_name": "promptimus",
   "language": "python",
   "name": "promptimus"
  },
  "language_info": {
   "codemirror_mode": {
    "name": "ipython",
    "version": 3
   },
   "file_extension": ".py",
   "mimetype": "text/x-python",
   "name": "python",
   "nbconvert_exporter": "python",
   "pygments_lexer": "ipython3",
   "version": "3.12.8"
  }
 },
 "nbformat": 4,
 "nbformat_minor": 5
}
