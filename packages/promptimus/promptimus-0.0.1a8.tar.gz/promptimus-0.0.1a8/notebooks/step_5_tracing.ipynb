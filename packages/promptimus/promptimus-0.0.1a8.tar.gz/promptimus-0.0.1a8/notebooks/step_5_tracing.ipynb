{
 "cells": [
  {
   "cell_type": "code",
   "execution_count": 1,
   "id": "37a8e010-db27-45d8-a758-272b4c44a56a",
   "metadata": {},
   "outputs": [],
   "source": [
    "%load_ext rich"
   ]
  },
  {
   "cell_type": "code",
   "execution_count": 2,
   "id": "8461c74f-5be6-468b-9e9e-83b2100efb6e",
   "metadata": {},
   "outputs": [],
   "source": [
    "import math\n",
    "\n",
    "import phoenix as px\n",
    "\n",
    "import promptimus as pm"
   ]
  },
  {
   "cell_type": "code",
   "execution_count": 3,
   "id": "c8055d02-f6b9-4078-938d-ec55ade7a665",
   "metadata": {},
   "outputs": [],
   "source": [
    "provider = pm.llms.OpenAILike(\n",
    "    model_name=\"phi4\", base_url=\"http://lilan:11434/v1\", api_key=\"DUMMY\",\n",
    ")"
   ]
  },
  {
   "cell_type": "code",
   "execution_count": 4,
   "id": "b87e9c6a-7ac1-4839-a1ec-0ebf443d462b",
   "metadata": {},
   "outputs": [],
   "source": [
    "def power(a: float, b: float) -> float:\n",
    "    \"\"\"Calcuates the `a` in the pover of `b`\"\"\"\n",
    "    return a**b\n",
    "\n",
    "\n",
    "def factorial(a: int) -> int:\n",
    "    \"\"\"Calcuates the factorial (!) of `a`\"\"\"\n",
    "    return math.factorial(a)\n",
    "\n",
    "\n",
    "def multiply(a: float, b: float) -> float:\n",
    "    \"\"\"Multiplies `a` and `b`\"\"\"\n",
    "    return a * b"
   ]
  },
  {
   "cell_type": "code",
   "execution_count": 5,
   "id": "b406c9b2-e818-4518-a0a5-56f5ab0c78e8",
   "metadata": {},
   "outputs": [
    {
     "name": "stdout",
     "output_type": "stream",
     "text": [
      "🌍 To view the Phoenix app in your browser, visit http://localhost:6006/\n",
      "📖 For more information on how to use Phoenix, check out https://docs.arize.com/phoenix\n"
     ]
    },
    {
     "data": {
      "text/html": [
       "<pre style=\"white-space:pre;overflow-x:auto;line-height:normal;font-family:Menlo,'DejaVu Sans Mono',consolas,'Courier New',monospace\"></pre>\n"
      ],
      "text/plain": []
     },
     "metadata": {},
     "output_type": "display_data"
    },
    {
     "data": {
      "text/plain": [
       "\u001b[1m<\u001b[0m\u001b[1;95mphoenix.session.session.ThreadSession\u001b[0m\u001b[39m object at \u001b[0m\u001b[1;36m0x7fb466923ce0\u001b[0m\u001b[1m>\u001b[0m"
      ]
     },
     "execution_count": 5,
     "metadata": {},
     "output_type": "execute_result"
    }
   ],
   "source": [
    "px.launch_app()"
   ]
  },
  {
   "cell_type": "code",
   "execution_count": 6,
   "id": "c3ac7c2c-662a-4b47-b5a2-77e6066949be",
   "metadata": {},
   "outputs": [
    {
     "name": "stderr",
     "output_type": "stream",
     "text": [
      "\u001b[32m2025-04-01 12:12:28.749\u001b[0m | \u001b[34m\u001b[1mDEBUG   \u001b[0m | \u001b[36mpromptimus.tracing.phoenix\u001b[0m:\u001b[36m_trace_module\u001b[0m:\u001b[36m125\u001b[0m - \u001b[34m\u001b[1mWrapping `agent.tools`\u001b[0m\n",
      "\u001b[32m2025-04-01 12:12:28.750\u001b[0m | \u001b[34m\u001b[1mDEBUG   \u001b[0m | \u001b[36mpromptimus.tracing.phoenix\u001b[0m:\u001b[36m_trace_module\u001b[0m:\u001b[36m120\u001b[0m - \u001b[34m\u001b[1mWrapping `agent.tools.power`\u001b[0m\n",
      "\u001b[32m2025-04-01 12:12:28.751\u001b[0m | \u001b[34m\u001b[1mDEBUG   \u001b[0m | \u001b[36mpromptimus.tracing.phoenix\u001b[0m:\u001b[36m_trace_module\u001b[0m:\u001b[36m120\u001b[0m - \u001b[34m\u001b[1mWrapping `agent.tools.multiply`\u001b[0m\n",
      "\u001b[32m2025-04-01 12:12:28.751\u001b[0m | \u001b[34m\u001b[1mDEBUG   \u001b[0m | \u001b[36mpromptimus.tracing.phoenix\u001b[0m:\u001b[36m_trace_module\u001b[0m:\u001b[36m120\u001b[0m - \u001b[34m\u001b[1mWrapping `agent.tools.factorial`\u001b[0m\n",
      "\u001b[32m2025-04-01 12:12:28.751\u001b[0m | \u001b[34m\u001b[1mDEBUG   \u001b[0m | \u001b[36mpromptimus.tracing.phoenix\u001b[0m:\u001b[36m_trace_module\u001b[0m:\u001b[36m125\u001b[0m - \u001b[34m\u001b[1mWrapping `agent.predictor`\u001b[0m\n",
      "\u001b[32m2025-04-01 12:12:28.753\u001b[0m | \u001b[34m\u001b[1mDEBUG   \u001b[0m | \u001b[36mpromptimus.tracing.phoenix\u001b[0m:\u001b[36m_trace_module\u001b[0m:\u001b[36m115\u001b[0m - \u001b[34m\u001b[1mWrapping `agent.predictor.prompt`\u001b[0m\n"
     ]
    },
    {
     "name": "stdout",
     "output_type": "stream",
     "text": [
      "🔭 OpenTelemetry Tracing Details 🔭\n",
      "|  Phoenix Project: tool_calling_test\n",
      "|  Span Processor: SimpleSpanProcessor\n",
      "|  Collector Endpoint: localhost:4317\n",
      "|  Transport: gRPC\n",
      "|  Transport Headers: {'user-agent': '****'}\n",
      "|  \n",
      "|  Using a default SpanProcessor. `add_span_processor` will overwrite this default.\n",
      "\n"
     ]
    }
   ],
   "source": [
    "tool_calling = pm.modules.ToolCallingAgent([power, multiply, factorial], observation_role=pm.MessageRole.USER).with_provider(\n",
    "    provider\n",
    ")\n",
    "pm.tracing.trace_phoenix(\n",
    "    tool_calling,\n",
    "    \"agent\",\n",
    "    project_name=\"tool_calling_test\",\n",
    "    endpoint=\"http://localhost:4317\",\n",
    ")"
   ]
  },
  {
   "cell_type": "code",
   "execution_count": 7,
   "id": "ed82fe26-6cc3-440a-aacc-5a5d2382be2b",
   "metadata": {},
   "outputs": [
    {
     "data": {
      "text/html": [
       "<pre style=\"white-space:pre;overflow-x:auto;line-height:normal;font-family:Menlo,'DejaVu Sans Mono',consolas,'Courier New',monospace\"></pre>\n"
      ],
      "text/plain": []
     },
     "metadata": {},
     "output_type": "display_data"
    },
    {
     "data": {
      "text/plain": [
       "\u001b[1;35mMessage\u001b[0m\u001b[1m(\u001b[0m\u001b[33mrole\u001b[0m=\u001b[1m<\u001b[0m\u001b[1;95mMessageRole.ASSISTANT:\u001b[0m\u001b[39m \u001b[0m\u001b[32m'assistant'\u001b[0m\u001b[1m>\u001b[0m, \u001b[33mcontent\u001b[0m=\u001b[32m'The twice factorial of 3 is 12.'\u001b[0m\u001b[1m)\u001b[0m"
      ]
     },
     "execution_count": 7,
     "metadata": {},
     "output_type": "execute_result"
    }
   ],
   "source": [
    "await tool_calling.forward(\"What is twice the factorial of 3?\")"
   ]
  },
  {
   "cell_type": "markdown",
   "id": "1f12f8e9-1dd1-4ad0-bab2-b344b7a86fbf",
   "metadata": {},
   "source": [
    "![](assets/phoenix_example.jpg)"
   ]
  },
  {
   "cell_type": "code",
   "execution_count": null,
   "id": "716cea94-d168-4ae9-99d8-3b3fde39b6fa",
   "metadata": {},
   "outputs": [],
   "source": []
  }
 ],
 "metadata": {
  "kernelspec": {
   "display_name": "promptimus",
   "language": "python",
   "name": "promptimus"
  },
  "language_info": {
   "codemirror_mode": {
    "name": "ipython",
    "version": 3
   },
   "file_extension": ".py",
   "mimetype": "text/x-python",
   "name": "python",
   "nbconvert_exporter": "python",
   "pygments_lexer": "ipython3",
   "version": "3.12.8"
  }
 },
 "nbformat": 4,
 "nbformat_minor": 5
}
