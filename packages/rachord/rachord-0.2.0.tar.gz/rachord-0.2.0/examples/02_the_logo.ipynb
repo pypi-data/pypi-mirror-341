{
  "cells": [
    {
      "cell_type": "markdown",
      "id": "735934c6",
      "metadata": {},
      "source": [
        "# 02 The Logo\n",
        "\n",
        "This notebook demonstartes how to use the RaChord library to draw the RaChord logo. The RaChord repository is available at https://github.com/pke1029/open-chord.\n",
        "\n",
        "## Table of Contents\n",
        "\n",
        "- [Rotation](#rotation)\n",
        "- [Custom plot area](#custom_plot_area)\n",
        "- [Gradient style](#gradient_style)\n",
        "- [Arc thickness](#arc_thickness)\n",
        "- [Text position](#text_position)\n",
        "- [Gap size](#gap_size)\n",
        "- [Ribbon gap](#ribbon_gap)\n",
        "- [Ribbon stiffness](#ribbon_stiffness)\n",
        "- [Save as SVG](#save_as_svg)\n"
      ]
    },
    {
      "cell_type": "code",
      "execution_count": null,
      "id": "bbc3f49b",
      "metadata": {},
      "outputs": [],
      "source": [
        "# import rachord and check version number\n",
        "import rachord\n",
        "\n",
        "print(\"RaChord version:\", rachord.__version__)"
      ]
    },
    {
      "cell_type": "code",
      "execution_count": null,
      "id": "e3f5d579",
      "metadata": {},
      "outputs": [],
      "source": [
        "# We start by creating a 20:80 split chord diagram\n",
        "adjacency_matrix = [[0, 1], [4, 0]]\n",
        "labels = [\"RaChord\"]\n",
        "\n",
        "fig = rachord.Chord(adjacency_matrix, labels)\n",
        "fig.show()"
      ]
    },
    {
      "cell_type": "code",
      "execution_count": null,
      "id": "08f8a7ab",
      "metadata": {},
      "outputs": [],
      "source": [
        "# set the size of the logo\n",
        "fig.radius = 60\n",
        "fig.padding = 40\n",
        "fig.font_size = 100\n",
        "fig.show()"
      ]
    },
    {
      "cell_type": "markdown",
      "id": "eb436554",
      "metadata": {},
      "source": [
        "#### Rotation <a class=\"anchor\" id=\"rotation\"></a>\n",
        "\n",
        "We can rotate the diagram by changing the `rotate` attribute in radiant unit.\n"
      ]
    },
    {
      "cell_type": "code",
      "execution_count": null,
      "id": "b6e3417e",
      "metadata": {},
      "outputs": [],
      "source": [
        "fig.rotation = -0.5 * fig.conversion_rate  # conversion_rate converts the weights to arc length\n",
        "fig.show()"
      ]
    },
    {
      "cell_type": "markdown",
      "id": "76e63a33",
      "metadata": {},
      "source": [
        "#### Custom plot area <a class=\"anchor\" id=\"custom_plot_area\"></a>\n",
        "\n",
        "We can specify a custom plot area by passing in a dictionary of the (x,y)-coordinates, width, and hight, notting that the center of the chord diagram is located at coordinate (0,0). Also note that changing the `radius` and `padding` will reset the plot area.\n"
      ]
    },
    {
      "cell_type": "code",
      "execution_count": null,
      "id": "6c2e68f9",
      "metadata": {},
      "outputs": [],
      "source": [
        "fig.plot_area = {\"x\": -100, \"y\": -100, \"w\": 600, \"h\": 200}\n",
        "fig.show()"
      ]
    },
    {
      "cell_type": "markdown",
      "id": "9d2c3b02",
      "metadata": {},
      "source": [
        "#### Gradient style <a class=\"anchor\" id=\"gradient_style\"></a>\n",
        "\n",
        "The `\"default\"` gradient style generate gradients based on the edges of the ribbons and works well in most cases. But it doesn't look really good with this particular chord diagram, so we will use the `\"midpoint\"` gradient style instead where the gradient is computed based on the mid point of the arc.\n"
      ]
    },
    {
      "cell_type": "code",
      "execution_count": null,
      "id": "803e0b5a",
      "metadata": {},
      "outputs": [],
      "source": [
        "fig.gradient_style = \"midpoint\"\n",
        "fig.show()"
      ]
    },
    {
      "cell_type": "markdown",
      "id": "e1d07e49",
      "metadata": {},
      "source": [
        "#### Arc thickness <a class=\"anchor\" id=\"arc_thickness\"></a>\n",
        "\n",
        "Arc thickness is specified as a proportion of the radius. Default thickness is 0.07.\n"
      ]
    },
    {
      "cell_type": "code",
      "execution_count": null,
      "id": "bad79535",
      "metadata": {},
      "outputs": [],
      "source": [
        "fig.arc_thickness = 0.3\n",
        "fig.show()"
      ]
    },
    {
      "cell_type": "markdown",
      "id": "586811c7",
      "metadata": {},
      "source": [
        "#### Text position <a class=\"anchor\" id=\"text_position\"></a>\n",
        "\n",
        "Similar to the `arc_thickness` attribute, the text position is specified as a proportion of the radius. Default value is 0.1.\n"
      ]
    },
    {
      "cell_type": "code",
      "execution_count": null,
      "id": "38ae9103",
      "metadata": {},
      "outputs": [],
      "source": [
        "fig.text_position = 0.4\n",
        "fig.show()"
      ]
    },
    {
      "cell_type": "markdown",
      "id": "81028d8c",
      "metadata": {},
      "source": [
        "#### Gap size <a class=\"anchor\" id=\"gap_size\"></a>\n",
        "\n",
        "The `gap_size` attribute controls the gaps between the arcs. The default value is 0.01 radian.\n"
      ]
    },
    {
      "cell_type": "code",
      "execution_count": null,
      "id": "6cf089a4",
      "metadata": {},
      "outputs": [],
      "source": [
        "fig.gap_size = 0.1\n",
        "fig.show()"
      ]
    },
    {
      "cell_type": "markdown",
      "id": "2e3fb91f",
      "metadata": {},
      "source": [
        "#### Ribbon gap <a class=\"anchor\" id=\"ribbon_gap\"></a>\n",
        "\n",
        "The ribbon gap is also specified as a proportion of the radius. Default thickness is 0.01.\n"
      ]
    },
    {
      "cell_type": "code",
      "execution_count": null,
      "id": "e3ecef68",
      "metadata": {},
      "outputs": [],
      "source": [
        "fig.ribbon_gap = 0.04\n",
        "fig.show()"
      ]
    },
    {
      "cell_type": "markdown",
      "id": "20c2efab",
      "metadata": {},
      "source": [
        "#### Ribbon stiffness <a class=\"anchor\" id=\"ribbon_stiffness\"></a>\n",
        "\n",
        "The default value for the ribbon stiffness is 0.6.\n"
      ]
    },
    {
      "cell_type": "code",
      "execution_count": null,
      "id": "05832dea",
      "metadata": {},
      "outputs": [],
      "source": [
        "fig.ribbon_stiffness = 0.3\n",
        "fig.show()"
      ]
    },
    {
      "cell_type": "markdown",
      "id": "0e6cf66e",
      "metadata": {},
      "source": [
        "#### Save as SVG <a class=\"anchor\" id=\"save_as_svg\"></a>\n",
        "\n",
        "Finally, we can save the generated drawing as an SVG file.\n"
      ]
    },
    {
      "cell_type": "code",
      "execution_count": null,
      "id": "ffa61da3",
      "metadata": {},
      "outputs": [],
      "source": [
        "# fig.save_svg(\"logo.svg\")"
      ]
    },
    {
      "cell_type": "code",
      "execution_count": null,
      "id": "a4b180ab",
      "metadata": {},
      "outputs": [],
      "source": []
    }
  ],
  "metadata": {
    "kernelspec": {
      "display_name": ".venv",
      "language": "python",
      "name": "python3"
    },
    "language_info": {
      "codemirror_mode": {
        "name": "ipython",
        "version": 3
      },
      "file_extension": ".py",
      "mimetype": "text/x-python",
      "name": "python",
      "nbconvert_exporter": "python",
      "pygments_lexer": "ipython3",
      "version": "3.13.3"
    }
  },
  "nbformat": 4,
  "nbformat_minor": 5
}
