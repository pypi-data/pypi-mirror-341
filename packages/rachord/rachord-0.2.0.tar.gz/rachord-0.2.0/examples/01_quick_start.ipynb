{
 "cells": [
  {
   "cell_type": "markdown",
   "id": "b93b1444",
   "metadata": {},
   "source": [
    "# 01 Quick Start\n",
    "This notebook discusses the basic idea to use the OpenChord library to create chord diagrams. The OpenChord repository is available at https://github.com/pke1029/open-chord\n",
    "\n",
    "## Table of Contents\n",
    "* [First chord diagram](#first)\n",
    "* [Radius](#radius)\n",
    "* [Padding](#padding)\n",
    "* [Font size and font family](#font)\n",
    "* [Colormap](#colormap)\n",
    "* [Background](#background)"
   ]
  },
  {
   "cell_type": "markdown",
   "id": "4f05fa8a",
   "metadata": {},
   "source": [
    "#### First chord diagram <a class=\"anchor\" id=\"first\"></a>"
   ]
  },
  {
   "cell_type": "code",
   "execution_count": null,
   "id": "65a9a821",
   "metadata": {},
   "outputs": [],
   "source": [
    "# import rachord and check version number\n",
    "import rachord\n",
    "print(\"RaChord version:\", rachord.__version__)"
   ]
  },
  {
   "cell_type": "markdown",
   "id": "130fc28c",
   "metadata": {},
   "source": [
    "At it's core, a chord diagram is defined by an **adjacency matrix** and a **list of labels** of the same length"
   ]
  },
  {
   "cell_type": "code",
   "execution_count": null,
   "id": "a852e782",
   "metadata": {},
   "outputs": [],
   "source": [
    "adjacency_matrix = [\n",
    "    [0, 1, 1, 1, 4],\n",
    "    [1, 0, 1, 7, 2],\n",
    "    [1, 1, 0, 5, 10],\n",
    "    [1, 7, 5, 0, 2],\n",
    "    [4, 2, 10, 2, 0],\n",
    "]\n",
    "labels = [\"Laplus\", \"Lui\", \"Koyori\", \"Chloe\", \"Iroha\"]\n",
    "\n",
    "fig = rachord.Chord(adjacency_matrix, labels)\n",
    "fig.show()"
   ]
  },
  {
   "cell_type": "markdown",
   "id": "7515f3b5",
   "metadata": {},
   "source": [
    "#### Radius <a class=\"anchor\" id=\"radius\"></a>\n",
    "OpenChord draws using the Scalable Vector Graphics (SVG) format, so the plots have infinite resolution. But we have to specify how large we want the plot to appear on screen. The default radius is 200 pixels."
   ]
  },
  {
   "cell_type": "code",
   "execution_count": null,
   "id": "efb1d6e4",
   "metadata": {
    "scrolled": true
   },
   "outputs": [],
   "source": [
    "fig.radius = 100\n",
    "fig.show()"
   ]
  },
  {
   "cell_type": "markdown",
   "id": "b3e7a660",
   "metadata": {},
   "source": [
    "#### Padding <a class=\"anchor\" id=\"padding\"></a>\n",
    "The radius is actually the inner radius of the chord diagram. If there is no padding, the image gets cut off. The default padding value is 50 pixels. "
   ]
  },
  {
   "cell_type": "code",
   "execution_count": null,
   "id": "6b414607",
   "metadata": {},
   "outputs": [],
   "source": [
    "fig.padding = 0\n",
    "fig.show()"
   ]
  },
  {
   "cell_type": "code",
   "execution_count": null,
   "id": "956e0c9e",
   "metadata": {},
   "outputs": [],
   "source": [
    "fig.padding = 50\n",
    "fig.show()"
   ]
  },
  {
   "cell_type": "markdown",
   "id": "128f4749",
   "metadata": {},
   "source": [
    "#### Font <a class=\"anchor\" id=\"font\"></a>\n",
    "You may also change the font size and font family. The default font is size 10 Arial. "
   ]
  },
  {
   "cell_type": "code",
   "execution_count": null,
   "id": "be652e38",
   "metadata": {},
   "outputs": [],
   "source": [
    "fig.font_size = 14\n",
    "fig.font_family = \"Times New Roman\"\n",
    "fig.show()"
   ]
  },
  {
   "cell_type": "markdown",
   "id": "61c727a8",
   "metadata": {},
   "source": [
    "#### Colormap <a class=\"anchor\" id=\"colormap\"></a>\n",
    "The `colormap` attribute is just a list of Hex values. You can also specity colors with one of these format `['red', '#9f9', '#9999ff', 'rgb(255,128,64)', 'rgb(60%,20%,60%)']`."
   ]
  },
  {
   "cell_type": "code",
   "execution_count": null,
   "id": "b959d4cc",
   "metadata": {},
   "outputs": [],
   "source": [
    "# visualize the current colormap using this method\n",
    "fig.show_colormap()"
   ]
  },
  {
   "cell_type": "code",
   "execution_count": null,
   "id": "7cf896bb",
   "metadata": {},
   "outputs": [],
   "source": [
    "# change the colormap\n",
    "fig.colormap = [\n",
    "    \"#FF6B6B\",\n",
    "    \"#F9844A\",\n",
    "    \"#F9C74F\",\n",
    "    \"#90BE6D\",\n",
    "    \"#43AA8B\",\n",
    "    \"#4D908E\",\n",
    "    \"#577590\",\n",
    "    \"#277DA1\",\n",
    "]\n",
    "fig.show_colormap()"
   ]
  },
  {
   "cell_type": "code",
   "execution_count": null,
   "id": "340bb678",
   "metadata": {},
   "outputs": [],
   "source": [
    "fig.show()"
   ]
  },
  {
   "cell_type": "markdown",
   "id": "003b9715",
   "metadata": {},
   "source": [
    "#### Background <a class=\"anchor\" id=\"background\"></a>\n",
    "You can change the background color with `bg_color` and background transparancy with `bg_transparancy`. The defult background is is white and fully opaque. "
   ]
  },
  {
   "cell_type": "code",
   "execution_count": null,
   "id": "e5813318",
   "metadata": {},
   "outputs": [],
   "source": [
    "fig.bg_color = \"#000000\"\n",
    "fig.show()"
   ]
  },
  {
   "cell_type": "code",
   "execution_count": null,
   "id": "6ecc7a02",
   "metadata": {},
   "outputs": [],
   "source": [
    "fig.bg_transparancy = 0.05\n",
    "fig.show()"
   ]
  }
 ],
 "metadata": {
  "kernelspec": {
   "display_name": ".venv",
   "language": "python",
   "name": "python3"
  },
  "language_info": {
   "codemirror_mode": {
    "name": "ipython",
    "version": 3
   },
   "file_extension": ".py",
   "mimetype": "text/x-python",
   "name": "python",
   "nbconvert_exporter": "python",
   "pygments_lexer": "ipython3",
   "version": "3.13.3"
  }
 },
 "nbformat": 4,
 "nbformat_minor": 5
}
