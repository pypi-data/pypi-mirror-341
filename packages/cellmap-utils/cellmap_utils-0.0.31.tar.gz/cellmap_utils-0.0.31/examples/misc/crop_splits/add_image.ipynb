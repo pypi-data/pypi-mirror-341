{
 "cells": [
  {
   "cell_type": "code",
   "execution_count": 2,
   "metadata": {},
   "outputs": [],
   "source": [
    "import os\n",
    "from pyairtable import Api\n",
    "from pyairtable import api\n",
    "from dotenv import load_dotenv\n",
    "from fibsem_tools import read\n",
    "from pyairtable.formulas import match\n",
    "from cellmap_utils import upsert_image\n",
    "\n",
    "load_dotenv()\n",
    "\n",
    "at_api = Api(os.environ['AIRTABLE_API_KEY'])\n",
    "# (switch between prod and test bases in .env)\n"
   ]
  },
  {
   "cell_type": "code",
   "execution_count": null,
   "metadata": {},
   "outputs": [
    {
     "ename": "NameError",
     "evalue": "name 'upsert_image' is not defined",
     "output_type": "error",
     "traceback": [
      "\u001b[0;31m---------------------------------------------------------------------------\u001b[0m",
      "\u001b[0;31mNameError\u001b[0m                                 Traceback (most recent call last)",
      "Cell \u001b[0;32mIn[2], line 6\u001b[0m\n\u001b[1;32m      3\u001b[0m image_path \u001b[38;5;241m=\u001b[39m \u001b[38;5;124m'\u001b[39m\u001b[38;5;124m'\u001b[39m\n\u001b[1;32m      4\u001b[0m image_title \u001b[38;5;241m=\u001b[39m \u001b[38;5;124m'\u001b[39m\u001b[38;5;124m'\u001b[39m\n\u001b[0;32m----> 6\u001b[0m \u001b[43mupsert_image\u001b[49m(at_api,\n\u001b[1;32m      7\u001b[0m                 ds_name,\n\u001b[1;32m      8\u001b[0m                 image_name,\n\u001b[1;32m      9\u001b[0m                 image_path,\n\u001b[1;32m     10\u001b[0m                 image_title,\n\u001b[1;32m     11\u001b[0m                 \u001b[38;5;124m\"\u001b[39m\u001b[38;5;124mem\u001b[39m\u001b[38;5;124m\"\u001b[39m)\n",
      "\u001b[0;31mNameError\u001b[0m: name 'upsert_image' is not defined"
     ]
    }
   ],
   "source": [
    "# ds_name = ''\n",
    "# image_name = ''\n",
    "# image_path = ''\n",
    "# image_title = ''\n",
    "\n",
    "# upsert_image(at_api,\n",
    "#                 ds_name,\n",
    "#                 image_name,\n",
    "#                 image_path,\n",
    "#                 image_title,\n",
    "#                 \"em\")"
   ]
  },
  {
   "cell_type": "code",
   "execution_count": 1,
   "metadata": {},
   "outputs": [],
   "source": [
    "paths_to_segm = ['/groups/cellmap/cellmap/annotations/amira/jrc_mus-pancreas-4/crop1013/crop1013.zarr/crop1013_DZRv1']"
   ]
  },
  {
   "cell_type": "code",
   "execution_count": 4,
   "metadata": {},
   "outputs": [],
   "source": [
    "titles = {'er' : 'Endoplasmic Reticulum',\n",
    "'er-sheets'  : 'Endoplasmic Reticulum Sheets',\n",
    "'er-tubules' : 'Endoplasmic Reticulum Tubules',\n",
    "'ld' : 'Lipid Droplets',\n",
    "'mito' : 'Mitochondria',\n",
    "'nuc_mem' : 'Nuclear Membrane',\n",
    "'cell' : 'Cell Segmentation' }"
   ]
  },
  {
   "cell_type": "code",
   "execution_count": 10,
   "metadata": {},
   "outputs": [
    {
     "name": "stdout",
     "output_type": "stream",
     "text": [
      "crop1013\n"
     ]
    }
   ],
   "source": [
    "s3_paths = []\n",
    "for nrs_path in paths_to_segm:\n",
    "    #s3_path = nrs_path.replace('/nrs/cellmap/data/', 's3://janelia-cosem-datasets/')\n",
    "        \n",
    "    ds_name = nrs_path.split('/')[6]\n",
    "    image_name = nrs_path.split('/')[7]\n",
    "    image_path = nrs_path\n",
    "    image_title = 'Ground truth'\n",
    "    #s3_paths.append(s3_path)\n",
    "    \n",
    "    print(image_name)\n",
    "\n",
    "\n",
    "    upsert_image(at_api,\n",
    "                    ds_name,\n",
    "                    image_name,\n",
    "                    image_path,\n",
    "                    image_title,\n",
    "                    \"human_segmentation\")"
   ]
  },
  {
   "cell_type": "code",
   "execution_count": null,
   "metadata": {},
   "outputs": [],
   "source": []
  }
 ],
 "metadata": {
  "kernelspec": {
   "display_name": "env1",
   "language": "python",
   "name": "python3"
  },
  "language_info": {
   "codemirror_mode": {
    "name": "ipython",
    "version": 3
   },
   "file_extension": ".py",
   "mimetype": "text/x-python",
   "name": "python",
   "nbconvert_exporter": "python",
   "pygments_lexer": "ipython3",
   "version": "3.11.11"
  }
 },
 "nbformat": 4,
 "nbformat_minor": 2
}
