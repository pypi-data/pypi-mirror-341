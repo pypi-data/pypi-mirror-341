{
 "cells": [
  {
   "cell_type": "code",
   "execution_count": 1,
   "metadata": {},
   "outputs": [],
   "source": [
    "import os\n",
    "from pyairtable import Api\n",
    "from pyairtable import api\n",
    "from dotenv import load_dotenv\n",
    "from fibsem_tools import read\n",
    "from pyairtable.formulas import match\n",
    "from cellmap_utils import upsert_image\n",
    "\n",
    "load_dotenv()\n",
    "\n",
    "at_api = Api(os.environ['AIRTABLE_API_KEY'])\n",
    "# (switch between prod and test bases in .env)\n"
   ]
  },
  {
   "cell_type": "code",
   "execution_count": 2,
   "metadata": {},
   "outputs": [],
   "source": [
    "paths_to_segm = [['crop1021',\n",
    "  'jrc_atla24-b9-2',\n",
    "  '/groups/cellmap/cellmap/annotations/amira/jrc_atla24-b9-2/crop1021/jrc_atla24-b9-2_crop1021.zarr/jrc_atla24_b9-2_nuclei/s0']]"
   ]
  },
  {
   "cell_type": "code",
   "execution_count": 3,
   "metadata": {},
   "outputs": [],
   "source": [
    "s3_paths = []\n",
    "for crop_info in paths_to_segm:\n",
    "            \n",
    "    ds_name = crop_info[1]\n",
    "    image_name = crop_info[0]\n",
    "    image_path = crop_info[2]\n",
    "    image_title = 'Groundtruth'\n",
    "    \n",
    "    upsert_image(at_api,\n",
    "                    ds_name,\n",
    "                    image_name,\n",
    "                    image_path,\n",
    "                    image_title,\n",
    "                    \"human_segmentation\")"
   ]
  },
  {
   "cell_type": "code",
   "execution_count": 6,
   "metadata": {},
   "outputs": [
    {
     "data": {
      "text/plain": [
       "['s3://janelia-cosem-datasets/jrc_mus-liver-4/jrc_mus-liver-4.zarr/recon-1/labels/inference/segmentations/er',\n",
       " 's3://janelia-cosem-datasets/jrc_mus-liver-4/jrc_mus-liver-4.zarr/recon-1/labels/inference/segmentations/er-sheets',\n",
       " 's3://janelia-cosem-datasets/jrc_mus-liver-4/jrc_mus-liver-4.zarr/recon-1/labels/inference/segmentations/er-tubules',\n",
       " 's3://janelia-cosem-datasets/jrc_mus-liver-4/jrc_mus-liver-4.zarr/recon-1/labels/inference/segmentations/ld',\n",
       " 's3://janelia-cosem-datasets/jrc_mus-liver-4/jrc_mus-liver-4.zarr/recon-1/labels/inference/segmentations/mito',\n",
       " 's3://janelia-cosem-datasets/jrc_mus-liver-4/jrc_mus-liver-4.zarr/recon-1/labels/inference/segmentations/nuc_mem',\n",
       " 's3://janelia-cosem-datasets/jrc_mus-liver-5/jrc_mus-liver-5.zarr/recon-1/labels/inference/segmentations/er',\n",
       " 's3://janelia-cosem-datasets/jrc_mus-liver-5/jrc_mus-liver-5.zarr/recon-1/labels/inference/segmentations/er-sheets',\n",
       " 's3://janelia-cosem-datasets/jrc_mus-liver-5/jrc_mus-liver-5.zarr/recon-1/labels/inference/segmentations/er-tubules',\n",
       " 's3://janelia-cosem-datasets/jrc_mus-liver-5/jrc_mus-liver-5.zarr/recon-1/labels/inference/segmentations/ld',\n",
       " 's3://janelia-cosem-datasets/jrc_mus-liver-5/jrc_mus-liver-5.zarr/recon-1/labels/inference/segmentations/mito',\n",
       " 's3://janelia-cosem-datasets/jrc_mus-liver-5/jrc_mus-liver-5.zarr/recon-1/labels/inference/segmentations/nuc_mem',\n",
       " 's3://janelia-cosem-datasets/jrc_mus-liver-6/jrc_mus-liver-6.zarr/recon-1/labels/inference/segmentations/er',\n",
       " 's3://janelia-cosem-datasets/jrc_mus-liver-6/jrc_mus-liver-6.zarr/recon-1/labels/inference/segmentations/er-sheets',\n",
       " 's3://janelia-cosem-datasets/jrc_mus-liver-6/jrc_mus-liver-6.zarr/recon-1/labels/inference/segmentations/er-tubules',\n",
       " 's3://janelia-cosem-datasets/jrc_mus-liver-6/jrc_mus-liver-6.zarr/recon-1/labels/inference/segmentations/ld',\n",
       " 's3://janelia-cosem-datasets/jrc_mus-liver-6/jrc_mus-liver-6.zarr/recon-1/labels/inference/segmentations/mito',\n",
       " 's3://janelia-cosem-datasets/jrc_mus-liver-6/jrc_mus-liver-6.zarr/recon-1/labels/inference/segmentations/cell',\n",
       " 's3://janelia-cosem-datasets/jrc_mus-liver-6/jrc_mus-liver-6.zarr/recon-1/labels/inference/segmentations/nuc_mem',\n",
       " 's3://janelia-cosem-datasets/jrc_mus-liver-7/jrc_mus-liver-7.zarr/recon-1/labels/inference/segmentations/er',\n",
       " 's3://janelia-cosem-datasets/jrc_mus-liver-7/jrc_mus-liver-7.zarr/recon-1/labels/inference/segmentations/er-sheets',\n",
       " 's3://janelia-cosem-datasets/jrc_mus-liver-7/jrc_mus-liver-7.zarr/recon-1/labels/inference/segmentations/er-tubules',\n",
       " 's3://janelia-cosem-datasets/jrc_mus-liver-7/jrc_mus-liver-7.zarr/recon-1/labels/inference/segmentations/ld',\n",
       " 's3://janelia-cosem-datasets/jrc_mus-liver-7/jrc_mus-liver-7.zarr/recon-1/labels/inference/segmentations/mito',\n",
       " 's3://janelia-cosem-datasets/jrc_mus-liver-7/jrc_mus-liver-7.zarr/recon-1/labels/inference/segmentations/cell']"
      ]
     },
     "execution_count": 6,
     "metadata": {},
     "output_type": "execute_result"
    }
   ],
   "source": [
    "s3_paths"
   ]
  },
  {
   "cell_type": "code",
   "execution_count": null,
   "metadata": {},
   "outputs": [],
   "source": []
  }
 ],
 "metadata": {
  "kernelspec": {
   "display_name": "env1",
   "language": "python",
   "name": "python3"
  },
  "language_info": {
   "codemirror_mode": {
    "name": "ipython",
    "version": 3
   },
   "file_extension": ".py",
   "mimetype": "text/x-python",
   "name": "python",
   "nbconvert_exporter": "python",
   "pygments_lexer": "ipython3",
   "version": "3.11.11"
  }
 },
 "nbformat": 4,
 "nbformat_minor": 2
}
