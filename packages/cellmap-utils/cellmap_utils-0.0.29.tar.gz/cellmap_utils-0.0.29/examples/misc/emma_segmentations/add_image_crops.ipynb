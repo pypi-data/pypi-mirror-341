{
 "cells": [
  {
   "cell_type": "code",
   "execution_count": 4,
   "metadata": {},
   "outputs": [],
   "source": [
    "import os\n",
    "from pyairtable import Api\n",
    "from pyairtable import api\n",
    "from dotenv import load_dotenv\n",
    "from fibsem_tools import read\n",
    "from pyairtable.formulas import match\n",
    "from cellmap_utils import upsert_image\n",
    "\n",
    "load_dotenv()\n",
    "\n",
    "at_api = Api(os.environ['AIRTABLE_API_KEY'])\n",
    "# (switch between prod and test bases in .env)\n"
   ]
  },
  {
   "cell_type": "code",
   "execution_count": null,
   "metadata": {},
   "outputs": [
    {
     "ename": "NameError",
     "evalue": "name 'upsert_image' is not defined",
     "output_type": "error",
     "traceback": [
      "\u001b[0;31m---------------------------------------------------------------------------\u001b[0m",
      "\u001b[0;31mNameError\u001b[0m                                 Traceback (most recent call last)",
      "Cell \u001b[0;32mIn[2], line 6\u001b[0m\n\u001b[1;32m      3\u001b[0m image_path \u001b[38;5;241m=\u001b[39m \u001b[38;5;124m'\u001b[39m\u001b[38;5;124m'\u001b[39m\n\u001b[1;32m      4\u001b[0m image_title \u001b[38;5;241m=\u001b[39m \u001b[38;5;124m'\u001b[39m\u001b[38;5;124m'\u001b[39m\n\u001b[0;32m----> 6\u001b[0m \u001b[43mupsert_image\u001b[49m(at_api,\n\u001b[1;32m      7\u001b[0m                 ds_name,\n\u001b[1;32m      8\u001b[0m                 image_name,\n\u001b[1;32m      9\u001b[0m                 image_path,\n\u001b[1;32m     10\u001b[0m                 image_title,\n\u001b[1;32m     11\u001b[0m                 \u001b[38;5;124m\"\u001b[39m\u001b[38;5;124mem\u001b[39m\u001b[38;5;124m\"\u001b[39m)\n",
      "\u001b[0;31mNameError\u001b[0m: name 'upsert_image' is not defined"
     ]
    }
   ],
   "source": [
    "ds_name = ''\n",
    "image_name = ''\n",
    "image_path = ''\n",
    "image_title = ''\n",
    "\n",
    "upsert_image(at_api,\n",
    "                ds_name,\n",
    "                image_name,\n",
    "                image_path,\n",
    "                image_title,\n",
    "                \"em\")"
   ]
  },
  {
   "cell_type": "code",
   "execution_count": 7,
   "metadata": {},
   "outputs": [],
   "source": [
    "paths_to_segm = [['crop388',\n",
    "  'jrc_mus-cerebellum-1',\n",
    "  '/groups/cellmap/cellmap/annotations/amira/jrc_mus-cerebellum-1/crop388/crop388.zarr/s0'],\n",
    " ['crop522',\n",
    "  'jrc_mus-cerebellum-1',\n",
    "  '/groups/cellmap/cellmap/annotations/amira/jrc_mus-cerebellum-1/crop522/crop522.zarr/crop522_AIPv5'],\n",
    " ['crop523',\n",
    "  'jrc_mus-cerebellum-1',\n",
    "  '/groups/cellmap/cellmap/annotations/amira/jrc_mus-cerebellum-1/crop523/crop523.zarr/crop523_AVWv5'],\n",
    " ['crop524',\n",
    "  'jrc_mus-cerebellum-1',\n",
    "  '/groups/cellmap/cellmap/annotations/amira/jrc_mus-cerebellum-1/crop524/crop524.zarr/crop524_JPv7'],\n",
    " ['crop994',\n",
    "  'jrc_mus-cerebellum-1',\n",
    "  '/groups/cellmap/cellmap/annotations/amira/jrc_mus-cerebellum-1/crop994/crop994.zarr/crop994_AVWv5'],\n",
    " ['crop995',\n",
    "  'jrc_mus-cerebellum-1',\n",
    "  '/groups/cellmap/cellmap/annotations/amira/jrc_mus-cerebellum-1/crop995/crop995.zarr/crop995_GPv5'],\n",
    " ['crop996',\n",
    "  'jrc_mus-cerebellum-1',\n",
    "  '/groups/cellmap/cellmap/annotations/amira/jrc_mus-cerebellum-1/crop996/crop996.zarr/crop996_GPv3'],\n",
    " ['crop997',\n",
    "  'jrc_mus-cerebellum-1',\n",
    "  '/groups/cellmap/cellmap/annotations/amira/jrc_mus-cerebellum-1/crop997/crop997.zarr/crop997_GPv6'],\n",
    " ['crop998',\n",
    "  'jrc_mus-cerebellum-1',\n",
    "  '/groups/cellmap/cellmap/annotations/amira/jrc_mus-cerebellum-1/crop998/crop998.zarr/crop998_JPv3']]"
   ]
  },
  {
   "cell_type": "code",
   "execution_count": 11,
   "metadata": {},
   "outputs": [],
   "source": [
    "s3_paths = []\n",
    "for crop_info in paths_to_segm:\n",
    "            \n",
    "    ds_name = crop_info[1]\n",
    "    image_name = crop_info[0]\n",
    "    image_path = crop_info[2]\n",
    "    image_title = 'Groundtruth'\n",
    "    \n",
    "    upsert_image(at_api,\n",
    "                    ds_name,\n",
    "                    image_name,\n",
    "                    image_path,\n",
    "                    image_title,\n",
    "                    \"human_segmentation\")"
   ]
  },
  {
   "cell_type": "code",
   "execution_count": 6,
   "metadata": {},
   "outputs": [
    {
     "data": {
      "text/plain": [
       "['s3://janelia-cosem-datasets/jrc_mus-liver-4/jrc_mus-liver-4.zarr/recon-1/labels/inference/segmentations/er',\n",
       " 's3://janelia-cosem-datasets/jrc_mus-liver-4/jrc_mus-liver-4.zarr/recon-1/labels/inference/segmentations/er-sheets',\n",
       " 's3://janelia-cosem-datasets/jrc_mus-liver-4/jrc_mus-liver-4.zarr/recon-1/labels/inference/segmentations/er-tubules',\n",
       " 's3://janelia-cosem-datasets/jrc_mus-liver-4/jrc_mus-liver-4.zarr/recon-1/labels/inference/segmentations/ld',\n",
       " 's3://janelia-cosem-datasets/jrc_mus-liver-4/jrc_mus-liver-4.zarr/recon-1/labels/inference/segmentations/mito',\n",
       " 's3://janelia-cosem-datasets/jrc_mus-liver-4/jrc_mus-liver-4.zarr/recon-1/labels/inference/segmentations/nuc_mem',\n",
       " 's3://janelia-cosem-datasets/jrc_mus-liver-5/jrc_mus-liver-5.zarr/recon-1/labels/inference/segmentations/er',\n",
       " 's3://janelia-cosem-datasets/jrc_mus-liver-5/jrc_mus-liver-5.zarr/recon-1/labels/inference/segmentations/er-sheets',\n",
       " 's3://janelia-cosem-datasets/jrc_mus-liver-5/jrc_mus-liver-5.zarr/recon-1/labels/inference/segmentations/er-tubules',\n",
       " 's3://janelia-cosem-datasets/jrc_mus-liver-5/jrc_mus-liver-5.zarr/recon-1/labels/inference/segmentations/ld',\n",
       " 's3://janelia-cosem-datasets/jrc_mus-liver-5/jrc_mus-liver-5.zarr/recon-1/labels/inference/segmentations/mito',\n",
       " 's3://janelia-cosem-datasets/jrc_mus-liver-5/jrc_mus-liver-5.zarr/recon-1/labels/inference/segmentations/nuc_mem',\n",
       " 's3://janelia-cosem-datasets/jrc_mus-liver-6/jrc_mus-liver-6.zarr/recon-1/labels/inference/segmentations/er',\n",
       " 's3://janelia-cosem-datasets/jrc_mus-liver-6/jrc_mus-liver-6.zarr/recon-1/labels/inference/segmentations/er-sheets',\n",
       " 's3://janelia-cosem-datasets/jrc_mus-liver-6/jrc_mus-liver-6.zarr/recon-1/labels/inference/segmentations/er-tubules',\n",
       " 's3://janelia-cosem-datasets/jrc_mus-liver-6/jrc_mus-liver-6.zarr/recon-1/labels/inference/segmentations/ld',\n",
       " 's3://janelia-cosem-datasets/jrc_mus-liver-6/jrc_mus-liver-6.zarr/recon-1/labels/inference/segmentations/mito',\n",
       " 's3://janelia-cosem-datasets/jrc_mus-liver-6/jrc_mus-liver-6.zarr/recon-1/labels/inference/segmentations/cell',\n",
       " 's3://janelia-cosem-datasets/jrc_mus-liver-6/jrc_mus-liver-6.zarr/recon-1/labels/inference/segmentations/nuc_mem',\n",
       " 's3://janelia-cosem-datasets/jrc_mus-liver-7/jrc_mus-liver-7.zarr/recon-1/labels/inference/segmentations/er',\n",
       " 's3://janelia-cosem-datasets/jrc_mus-liver-7/jrc_mus-liver-7.zarr/recon-1/labels/inference/segmentations/er-sheets',\n",
       " 's3://janelia-cosem-datasets/jrc_mus-liver-7/jrc_mus-liver-7.zarr/recon-1/labels/inference/segmentations/er-tubules',\n",
       " 's3://janelia-cosem-datasets/jrc_mus-liver-7/jrc_mus-liver-7.zarr/recon-1/labels/inference/segmentations/ld',\n",
       " 's3://janelia-cosem-datasets/jrc_mus-liver-7/jrc_mus-liver-7.zarr/recon-1/labels/inference/segmentations/mito',\n",
       " 's3://janelia-cosem-datasets/jrc_mus-liver-7/jrc_mus-liver-7.zarr/recon-1/labels/inference/segmentations/cell']"
      ]
     },
     "execution_count": 6,
     "metadata": {},
     "output_type": "execute_result"
    }
   ],
   "source": [
    "s3_paths"
   ]
  },
  {
   "cell_type": "code",
   "execution_count": null,
   "metadata": {},
   "outputs": [],
   "source": []
  }
 ],
 "metadata": {
  "kernelspec": {
   "display_name": "env1",
   "language": "python",
   "name": "python3"
  },
  "language_info": {
   "codemirror_mode": {
    "name": "ipython",
    "version": 3
   },
   "file_extension": ".py",
   "mimetype": "text/x-python",
   "name": "python",
   "nbconvert_exporter": "python",
   "pygments_lexer": "ipython3",
   "version": "3.11.11"
  }
 },
 "nbformat": 4,
 "nbformat_minor": 2
}
