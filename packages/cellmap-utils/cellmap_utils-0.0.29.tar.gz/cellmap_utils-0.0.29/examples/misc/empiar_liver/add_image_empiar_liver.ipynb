{
 "cells": [
  {
   "cell_type": "code",
   "execution_count": 10,
   "metadata": {},
   "outputs": [],
   "source": [
    "import os\n",
    "from pyairtable import Api\n",
    "from pyairtable import api\n",
    "from dotenv import load_dotenv\n",
    "from fibsem_tools import read\n",
    "from pyairtable.formulas import match\n",
    "from cellmap_utils import upsert_image\n",
    "\n",
    "load_dotenv()\n",
    "\n",
    "at_api = Api(os.environ['AIRTABLE_API_KEY'])\n",
    "# (switch between prod and test bases in .env)\n"
   ]
  },
  {
   "cell_type": "code",
   "execution_count": 2,
   "metadata": {},
   "outputs": [
    {
     "ename": "NameError",
     "evalue": "name 'upsert_image' is not defined",
     "output_type": "error",
     "traceback": [
      "\u001b[0;31m---------------------------------------------------------------------------\u001b[0m",
      "\u001b[0;31mNameError\u001b[0m                                 Traceback (most recent call last)",
      "Cell \u001b[0;32mIn[2], line 6\u001b[0m\n\u001b[1;32m      3\u001b[0m image_path \u001b[38;5;241m=\u001b[39m \u001b[38;5;124m'\u001b[39m\u001b[38;5;124m'\u001b[39m\n\u001b[1;32m      4\u001b[0m image_title \u001b[38;5;241m=\u001b[39m \u001b[38;5;124m'\u001b[39m\u001b[38;5;124m'\u001b[39m\n\u001b[0;32m----> 6\u001b[0m \u001b[43mupsert_image\u001b[49m(at_api,\n\u001b[1;32m      7\u001b[0m                 ds_name,\n\u001b[1;32m      8\u001b[0m                 image_name,\n\u001b[1;32m      9\u001b[0m                 image_path,\n\u001b[1;32m     10\u001b[0m                 image_title,\n\u001b[1;32m     11\u001b[0m                 \u001b[38;5;124m\"\u001b[39m\u001b[38;5;124mem\u001b[39m\u001b[38;5;124m\"\u001b[39m)\n",
      "\u001b[0;31mNameError\u001b[0m: name 'upsert_image' is not defined"
     ]
    }
   ],
   "source": [
    "ds_name = ''\n",
    "image_name = ''\n",
    "image_path = ''\n",
    "image_title = ''\n",
    "\n",
    "upsert_image(at_api,\n",
    "                ds_name,\n",
    "                image_name,\n",
    "                image_path,\n",
    "                image_title,\n",
    "                \"em\")"
   ]
  },
  {
   "cell_type": "code",
   "execution_count": null,
   "metadata": {},
   "outputs": [],
   "source": [
    "paths_to_segm = ['/nrs/cellmap/data/jrc_mus-liver-4/jrc_mus-liver-4.zarr/recon-1/labels/inference/segmentations/er',\n",
    " '/nrs/cellmap/data/jrc_mus-liver-4/jrc_mus-liver-4.zarr/recon-1/labels/inference/segmentations/er-sheets',\n",
    " '/nrs/cellmap/data/jrc_mus-liver-4/jrc_mus-liver-4.zarr/recon-1/labels/inference/segmentations/er-tubules',\n",
    " '/nrs/cellmap/data/jrc_mus-liver-4/jrc_mus-liver-4.zarr/recon-1/labels/inference/segmentations/ld',\n",
    " '/nrs/cellmap/data/jrc_mus-liver-4/jrc_mus-liver-4.zarr/recon-1/labels/inference/segmentations/mito',\n",
    " '/nrs/cellmap/data/jrc_mus-liver-4/jrc_mus-liver-4.zarr/recon-1/labels/inference/segmentations/nuc_mem',\n",
    " '/nrs/cellmap/data/jrc_mus-liver-5/jrc_mus-liver-5.zarr/recon-1/labels/inference/segmentations/er',\n",
    " '/nrs/cellmap/data/jrc_mus-liver-5/jrc_mus-liver-5.zarr/recon-1/labels/inference/segmentations/er-sheets',\n",
    " '/nrs/cellmap/data/jrc_mus-liver-5/jrc_mus-liver-5.zarr/recon-1/labels/inference/segmentations/er-tubules',\n",
    " '/nrs/cellmap/data/jrc_mus-liver-5/jrc_mus-liver-5.zarr/recon-1/labels/inference/segmentations/ld',\n",
    " '/nrs/cellmap/data/jrc_mus-liver-5/jrc_mus-liver-5.zarr/recon-1/labels/inference/segmentations/mito',\n",
    " '/nrs/cellmap/data/jrc_mus-liver-5/jrc_mus-liver-5.zarr/recon-1/labels/inference/segmentations/nuc_mem',\n",
    " '/nrs/cellmap/data/jrc_mus-liver-6/jrc_mus-liver-6.zarr/recon-1/labels/inference/segmentations/er',\n",
    " '/nrs/cellmap/data/jrc_mus-liver-6/jrc_mus-liver-6.zarr/recon-1/labels/inference/segmentations/er-sheets',\n",
    " '/nrs/cellmap/data/jrc_mus-liver-6/jrc_mus-liver-6.zarr/recon-1/labels/inference/segmentations/er-tubules',\n",
    " '/nrs/cellmap/data/jrc_mus-liver-6/jrc_mus-liver-6.zarr/recon-1/labels/inference/segmentations/ld',\n",
    " '/nrs/cellmap/data/jrc_mus-liver-6/jrc_mus-liver-6.zarr/recon-1/labels/inference/segmentations/mito',\n",
    " '/nrs/cellmap/data/jrc_mus-liver-6/jrc_mus-liver-6.zarr/recon-1/labels/inference/segmentations/cell',\n",
    " '/nrs/cellmap/data/jrc_mus-liver-6/jrc_mus-liver-6.zarr/recon-1/labels/inference/segmentations/nuc_mem',\n",
    " '/nrs/cellmap/data/jrc_mus-liver-7/jrc_mus-liver-7.zarr/recon-1/labels/inference/segmentations/er',\n",
    " '/nrs/cellmap/data/jrc_mus-liver-7/jrc_mus-liver-7.zarr/recon-1/labels/inference/segmentations/er-sheets',\n",
    " '/nrs/cellmap/data/jrc_mus-liver-7/jrc_mus-liver-7.zarr/recon-1/labels/inference/segmentations/er-tubules',\n",
    " '/nrs/cellmap/data/jrc_mus-liver-7/jrc_mus-liver-7.zarr/recon-1/labels/inference/segmentations/ld',\n",
    " '/nrs/cellmap/data/jrc_mus-liver-7/jrc_mus-liver-7.zarr/recon-1/labels/inference/segmentations/mito',\n",
    " '/nrs/cellmap/data/jrc_mus-liver-7/jrc_mus-liver-7.zarr/recon-1/labels/inference/segmentations/cell']"
   ]
  },
  {
   "cell_type": "code",
   "execution_count": 4,
   "metadata": {},
   "outputs": [],
   "source": [
    "titles = {'er' : 'Endoplasmic Reticulum',\n",
    "'er-sheets'  : 'Endoplasmic Reticulum Sheets',\n",
    "'er-tubules' : 'Endoplasmic Reticulum Tubules',\n",
    "'ld' : 'Lipid Droplets',\n",
    "'mito' : 'Mitochondria',\n",
    "'nuc_mem' : 'Nuclear Membrane',\n",
    "'cell' : 'Cell Segmentation' }"
   ]
  },
  {
   "cell_type": "code",
   "execution_count": 5,
   "metadata": {},
   "outputs": [
    {
     "name": "stdout",
     "output_type": "stream",
     "text": [
      "Endoplasmic Reticulum\n",
      "Endoplasmic Reticulum Sheets\n",
      "Endoplasmic Reticulum Tubules\n",
      "Lipid Droplets\n",
      "Mitochondria\n",
      "Nuclear Membrane\n",
      "Endoplasmic Reticulum\n",
      "Endoplasmic Reticulum Sheets\n",
      "Endoplasmic Reticulum Tubules\n",
      "Lipid Droplets\n",
      "Mitochondria\n",
      "Nuclear Membrane\n",
      "Endoplasmic Reticulum\n",
      "Endoplasmic Reticulum Sheets\n",
      "Endoplasmic Reticulum Tubules\n",
      "Lipid Droplets\n",
      "Mitochondria\n",
      "Cell Segmentation\n",
      "Nuclear Membrane\n",
      "Endoplasmic Reticulum\n",
      "Endoplasmic Reticulum Sheets\n",
      "Endoplasmic Reticulum Tubules\n",
      "Lipid Droplets\n",
      "Mitochondria\n",
      "Cell Segmentation\n"
     ]
    }
   ],
   "source": [
    "s3_paths = []\n",
    "for nrs_path in paths_to_segm:\n",
    "    s3_path = nrs_path.replace('/nrs/cellmap/data/', 's3://janelia-cosem-datasets/')\n",
    "        \n",
    "    ds_name = nrs_path.split('/')[4]\n",
    "    image_name = nrs_path.split('/')[-1]\n",
    "    image_path = s3_path\n",
    "    image_title = titles[image_name]\n",
    "    s3_paths.append(s3_path)\n",
    "    \n",
    "    print(image_title)\n",
    "\n",
    "\n",
    "    # upsert_image(at_api,\n",
    "    #                 ds_name,\n",
    "    #                 image_name,\n",
    "    #                 image_path,\n",
    "    #                 image_title,\n",
    "    #                 \"ml_segmentation\")"
   ]
  },
  {
   "cell_type": "code",
   "execution_count": 6,
   "metadata": {},
   "outputs": [
    {
     "data": {
      "text/plain": [
       "['s3://janelia-cosem-datasets/jrc_mus-liver-4/jrc_mus-liver-4.zarr/recon-1/labels/inference/segmentations/er',\n",
       " 's3://janelia-cosem-datasets/jrc_mus-liver-4/jrc_mus-liver-4.zarr/recon-1/labels/inference/segmentations/er-sheets',\n",
       " 's3://janelia-cosem-datasets/jrc_mus-liver-4/jrc_mus-liver-4.zarr/recon-1/labels/inference/segmentations/er-tubules',\n",
       " 's3://janelia-cosem-datasets/jrc_mus-liver-4/jrc_mus-liver-4.zarr/recon-1/labels/inference/segmentations/ld',\n",
       " 's3://janelia-cosem-datasets/jrc_mus-liver-4/jrc_mus-liver-4.zarr/recon-1/labels/inference/segmentations/mito',\n",
       " 's3://janelia-cosem-datasets/jrc_mus-liver-4/jrc_mus-liver-4.zarr/recon-1/labels/inference/segmentations/nuc_mem',\n",
       " 's3://janelia-cosem-datasets/jrc_mus-liver-5/jrc_mus-liver-5.zarr/recon-1/labels/inference/segmentations/er',\n",
       " 's3://janelia-cosem-datasets/jrc_mus-liver-5/jrc_mus-liver-5.zarr/recon-1/labels/inference/segmentations/er-sheets',\n",
       " 's3://janelia-cosem-datasets/jrc_mus-liver-5/jrc_mus-liver-5.zarr/recon-1/labels/inference/segmentations/er-tubules',\n",
       " 's3://janelia-cosem-datasets/jrc_mus-liver-5/jrc_mus-liver-5.zarr/recon-1/labels/inference/segmentations/ld',\n",
       " 's3://janelia-cosem-datasets/jrc_mus-liver-5/jrc_mus-liver-5.zarr/recon-1/labels/inference/segmentations/mito',\n",
       " 's3://janelia-cosem-datasets/jrc_mus-liver-5/jrc_mus-liver-5.zarr/recon-1/labels/inference/segmentations/nuc_mem',\n",
       " 's3://janelia-cosem-datasets/jrc_mus-liver-6/jrc_mus-liver-6.zarr/recon-1/labels/inference/segmentations/er',\n",
       " 's3://janelia-cosem-datasets/jrc_mus-liver-6/jrc_mus-liver-6.zarr/recon-1/labels/inference/segmentations/er-sheets',\n",
       " 's3://janelia-cosem-datasets/jrc_mus-liver-6/jrc_mus-liver-6.zarr/recon-1/labels/inference/segmentations/er-tubules',\n",
       " 's3://janelia-cosem-datasets/jrc_mus-liver-6/jrc_mus-liver-6.zarr/recon-1/labels/inference/segmentations/ld',\n",
       " 's3://janelia-cosem-datasets/jrc_mus-liver-6/jrc_mus-liver-6.zarr/recon-1/labels/inference/segmentations/mito',\n",
       " 's3://janelia-cosem-datasets/jrc_mus-liver-6/jrc_mus-liver-6.zarr/recon-1/labels/inference/segmentations/cell',\n",
       " 's3://janelia-cosem-datasets/jrc_mus-liver-6/jrc_mus-liver-6.zarr/recon-1/labels/inference/segmentations/nuc_mem',\n",
       " 's3://janelia-cosem-datasets/jrc_mus-liver-7/jrc_mus-liver-7.zarr/recon-1/labels/inference/segmentations/er',\n",
       " 's3://janelia-cosem-datasets/jrc_mus-liver-7/jrc_mus-liver-7.zarr/recon-1/labels/inference/segmentations/er-sheets',\n",
       " 's3://janelia-cosem-datasets/jrc_mus-liver-7/jrc_mus-liver-7.zarr/recon-1/labels/inference/segmentations/er-tubules',\n",
       " 's3://janelia-cosem-datasets/jrc_mus-liver-7/jrc_mus-liver-7.zarr/recon-1/labels/inference/segmentations/ld',\n",
       " 's3://janelia-cosem-datasets/jrc_mus-liver-7/jrc_mus-liver-7.zarr/recon-1/labels/inference/segmentations/mito',\n",
       " 's3://janelia-cosem-datasets/jrc_mus-liver-7/jrc_mus-liver-7.zarr/recon-1/labels/inference/segmentations/cell']"
      ]
     },
     "execution_count": 6,
     "metadata": {},
     "output_type": "execute_result"
    }
   ],
   "source": [
    "s3_paths"
   ]
  },
  {
   "cell_type": "code",
   "execution_count": null,
   "metadata": {},
   "outputs": [],
   "source": []
  }
 ],
 "metadata": {
  "kernelspec": {
   "display_name": "env1",
   "language": "python",
   "name": "python3"
  },
  "language_info": {
   "codemirror_mode": {
    "name": "ipython",
    "version": 3
   },
   "file_extension": ".py",
   "mimetype": "text/x-python",
   "name": "python",
   "nbconvert_exporter": "python",
   "pygments_lexer": "ipython3",
   "version": "3.11.11"
  }
 },
 "nbformat": 4,
 "nbformat_minor": 2
}
