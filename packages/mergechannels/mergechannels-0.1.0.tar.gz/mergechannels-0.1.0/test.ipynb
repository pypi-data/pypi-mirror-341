{
 "cells": [
  {
   "cell_type": "code",
   "execution_count": 1,
   "metadata": {},
   "outputs": [],
   "source": [
    "%load_ext autoreload\n",
    "%autoreload 2"
   ]
  },
  {
   "cell_type": "code",
   "execution_count": 2,
   "metadata": {},
   "outputs": [],
   "source": [
    "import numpy as np\n",
    "import tifffile\n",
    "from skimage import data\n",
    "from matplotlib import pyplot as plt\n",
    "\n",
    "def to_uint8(arr):\n",
    "    return (arr * 255).astype('uint8')"
   ]
  },
  {
   "cell_type": "code",
   "execution_count": null,
   "metadata": {},
   "outputs": [],
   "source": [
    "cells, nuclei = data.cells3d().max(axis=0)\n",
    "cells = to_uint8(cells / cells.max())\n",
    "nuclei = to_uint8(nuclei / nuclei.max())\n",
    "fig, (a, b, c) = plt.subplots(1, 3)\n",
    "a.imshow(cells, cmap='gray')\n",
    "b.imshow(nuclei, cmap='gray')\n",
    "\n",
    "import mergechannels as mc\n",
    "c.imshow(mc.merge([cells, nuclei], ['Orange Hot', 'Cyan Hot']))"
   ]
  },
  {
   "cell_type": "code",
   "execution_count": null,
   "metadata": {},
   "outputs": [],
   "source": [
    "skin = data.skin()\n",
    "ch1, ch2, ch3 = skin[:, :, 0], skin[:, :, 1], skin[:, :, 2]\n",
    "ch1 = to_uint8(ch1 / ch1.max())\n",
    "ch2 = to_uint8(ch2 / ch2.max())\n",
    "ch3 = to_uint8(ch3 / ch3.max())\n",
    "\n",
    "fig, ((a,b), (c,d)) = plt.subplots(2,2)\n",
    "# a.imshow(mc.apply_color_map(ch1, 'OPF orange'))\n",
    "# b.imshow(mc.apply_color_map(ch2, 'OPF purple'))\n",
    "# c.imshow(mc.apply_color_map(ch3, 'OPF fresh'))\n",
    "a.imshow(ch1, cmap='gray')\n",
    "b.imshow(ch2, cmap='gray')\n",
    "c.imshow(ch3, cmap='gray')\n",
    "\n",
    "import mergechannels as mc\n",
    "d.imshow(mc.merge([ch1, ch2, ch3], ['OPF orange', 'OPF purple', 'OPF fresh'], blending='mean'))"
   ]
  },
  {
   "cell_type": "code",
   "execution_count": null,
   "metadata": {},
   "outputs": [],
   "source": [
    "neuron, _, ganglia, dapi, brightfield = tifffile.imread('assets/samples/Rat_Hippocampal_Neuron.tif')\n",
    "fig, axes = plt.subplots(1, 5, dpi=200)\n",
    "a, b, c, d, e = axes\n",
    "for ax in axes:\n",
    "    ax.axis('off')\n",
    "a.imshow(neuron, cmap='gray')\n",
    "b.imshow(ganglia, cmap='gray')\n",
    "c.imshow(dapi, cmap='gray')\n",
    "d.imshow(brightfield, cmap='gray')\n",
    "\n",
    "neuron = to_uint8(neuron / neuron.max())\n",
    "ganglia = to_uint8(ganglia / ganglia.max())\n",
    "dapi = to_uint8(dapi / dapi.max())\n",
    "brightfield = to_uint8(brightfield / brightfield.max())\n",
    "\n",
    "import mergechannels as mc\n",
    "e.imshow(\n",
    "    mc.merge(\n",
    "        [neuron, ganglia, dapi],\n",
    "        ['OPF orange', 'OPF purple', 'OPF fresh'],\n",
    "        blending='max',\n",
    "    ),\n",
    ")"
   ]
  },
  {
   "cell_type": "code",
   "execution_count": null,
   "metadata": {},
   "outputs": [],
   "source": [
    "def normalize(img: np.ndarray, max: int | None = None, min: int | None = None) -> np.ndarray:\n",
    "    if max is None:\n",
    "        max = img.max()\n",
    "    if min is None:\n",
    "        min = img.min()\n",
    "    # Handle division by zero case\n",
    "    if max == min:\n",
    "        return np.full_like(img, 0, dtype=np.uint8)\n",
    "    # Clip input values to max/min bounds before normalizing\n",
    "    img_clipped = np.clip(img, min, max)\n",
    "    return np.clip((img_clipped - min) / (max - min) * 255, 0, 255).astype(np.uint8)\n",
    "\n",
    "neuron, _, ganglia, dapi, brightfield = tifffile.imread('assets/samples/Rat_Hippocampal_Neuron.tif')\n",
    "dapi = to_uint8(dapi / dapi.max())\n",
    "ganglia = normalize(ganglia, min=ganglia.min(), max=0.3 * ganglia.max())\n",
    "brightfield = to_uint8(brightfield / brightfield.max())\n",
    "\n",
    "fig, axes = plt.subplots(2, 2, figsize=(10, 10), dpi=200)\n",
    "(a, b), (c, d) = axes\n",
    "for ax in axes.ravel():\n",
    "    ax.axis('off')\n",
    "a.imshow(ganglia, cmap='gray')\n",
    "b.imshow(brightfield, cmap='gray')\n",
    "c.imshow(dapi, cmap='gray')\n",
    "import mergechannels as mc\n",
    "d.imshow(\n",
    "    normalize(\n",
    "        mc.merge(\n",
    "            [\n",
    "                brightfield,\n",
    "                normalize(ganglia, min=10, max=0.9 * ganglia.max()),\n",
    "                normalize(dapi, min=25, max=0.9 * dapi.max()),\n",
    "            ],\n",
    "            [\n",
    "                'Grays',\n",
    "                'betterOrange',\n",
    "                'betterBlue'\n",
    "            ],\n",
    "            blending='mean',\n",
    "        ),\n",
    "        min=15,\n",
    "        max=125,\n",
    "    ),\n",
    ")\n",
    "fig.tight_layout()"
   ]
  },
  {
   "cell_type": "code",
   "execution_count": null,
   "metadata": {},
   "outputs": [],
   "source": [
    "ganglia.max()"
   ]
  },
  {
   "cell_type": "code",
   "execution_count": null,
   "metadata": {},
   "outputs": [],
   "source": []
  },
  {
   "cell_type": "code",
   "execution_count": null,
   "metadata": {},
   "outputs": [],
   "source": [
    "golgi, mitochondria, nuclei = to_uint8(np.moveaxis(tifffile.imread('assets/samples/hela-cells.tif'), -1, 0) / 4096)\n",
    "\n",
    "fig, axes = plt.subplots(1, 4, dpi=200)\n",
    "a, b, c, d = axes\n",
    "for ax in axes:\n",
    "    ax.axis('off')\n",
    "a.imshow(golgi, cmap='gray')\n",
    "b.imshow(mitochondria, cmap='gray')\n",
    "c.imshow(nuclei, cmap='gray')\n",
    "\n",
    "import mergechannels as mc\n",
    "d.imshow(\n",
    "    mc.merge(\n",
    "        [golgi, mitochondria, nuclei],\n",
    "        ['OPF fresh', 'OPF orange', 'OPF purple'],\n",
    "        blending='max',\n",
    "    )\n",
    ")\n"
   ]
  },
  {
   "cell_type": "code",
   "execution_count": null,
   "metadata": {},
   "outputs": [],
   "source": [
    "def normalize(img: np.ndarray, max: int | None = None, min: int | None = None) -> np.ndarray:\n",
    "    if max is None:\n",
    "        max = img.max()\n",
    "    if min is None:\n",
    "        min = img.min()\n",
    "    return np.clip((img - min) / (max - min) * 255, 0, 255).astype(np.uint8)\n",
    "\n",
    "golgi, mitochondria, nuclei = normalize(np.moveaxis(tifffile.imread('assets/samples/hela-cells.tif'), -1, 0), min=0, max=3000)\n",
    "\n",
    "fig, axes = plt.subplots(1, 2, dpi=200)\n",
    "a, b = axes\n",
    "for ax in axes:\n",
    "    ax.axis('off')\n",
    "fig.tight_layout()\n",
    "\n",
    "import mergechannels as mc\n",
    "a.imshow(\n",
    "    mc.merge(\n",
    "        [golgi, mitochondria, nuclei],\n",
    "        ['OPF fresh', 'OPF orange', 'OPF purple'],\n",
    "        blending='max',\n",
    "    )\n",
    ")\n",
    "b.imshow(\n",
    "    mc.merge(\n",
    "        [golgi, mitochondria, nuclei],\n",
    "        ['I Forest', 'I Red', 'I Bordeaux'],\n",
    "        blending='min',\n",
    "    )\n",
    ")\n"
   ]
  },
  {
   "cell_type": "code",
   "execution_count": null,
   "metadata": {},
   "outputs": [],
   "source": []
  }
 ],
 "metadata": {
  "kernelspec": {
   "display_name": ".venv",
   "language": "python",
   "name": "python3"
  },
  "language_info": {
   "codemirror_mode": {
    "name": "ipython",
    "version": 3
   },
   "file_extension": ".py",
   "mimetype": "text/x-python",
   "name": "python",
   "nbconvert_exporter": "python",
   "pygments_lexer": "ipython3",
   "version": "3.11.9"
  }
 },
 "nbformat": 4,
 "nbformat_minor": 2
}
