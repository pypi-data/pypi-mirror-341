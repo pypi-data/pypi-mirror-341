{
 "cells": [
  {
   "cell_type": "markdown",
   "metadata": {},
   "source": [
    "# GADMA with custom model (momi)\n",
    "\n",
    "GADMA could be run with a detailed specified demographic model. Model should be provided as a file with a function ``model_func`` that describes demographic history by engine itself. In case of ``momi`` engine function should take values of parameters and return ``momi``'s demographic model.\n",
    "\n",
    "In this example we will take data and custom demographic model and infer parameters with usage of GADMA and ``momi`` engine."
   ]
  },
  {
   "cell_type": "markdown",
   "metadata": {},
   "source": [
    "## Data\n",
    "\n",
    "We will infer the demographic history of three classical modern human populations:\n",
    "\n",
    "* YRI - African population (Yorubans),\n",
    "* CEU - European population (Utah Residents (CEPH) with Northern and Western European Ancestry),\n",
    "* CHB - Asian population (Han Chinese in Beijing, China).\n",
    "\n",
    "Data will be taken from VCF file. ``momi`` engine can read any type of SFS data including data for ``dadi`` and ``fastsimcoal2``. However, opposite to ``dadi`` and ``moments`` ``momi`` engine requires full SFS data without any downsizing. That is why it is better to read the SFS data directly from VCF.\n",
    "\n",
    "Our data includes SNP's on 22 chromosome and was simulated with ``stdpopsim`` using ``msprime`` engine under the demographic history from Gutenkunst et al. 2009. Two individuals for each population are observed.\n",
    "\n",
    "- `out_of_africa_chr22_sim.vcf` - VCF file with chr22.\n",
    "- `out_of_africa_chr22_sim.popmap` - file with (sample-population) correspondence."
   ]
  },
  {
   "cell_type": "markdown",
   "metadata": {},
   "source": [
    "## Demographic model\n",
    "\n",
    "Demographic model is located in ``demographic_model.py`` and is written according to [``momi`` manual](https://momi2.readthedocs.io/en/latest/).\n",
    "\n",
    "It is important to note that units of parameters for ``momi`` engine are `physical` by default. Time for one generation should be equal to 1 and time should be in generations. If we want to mark that one parameter is in `genetic` units then we add `_gen` at the end of its name (e.g. `nu_2F_gen`).\n",
    "\n",
    "Time parameters should be used (like usually in ``dadi``) as time of epochs. This means that past events should occur in sum of several time parameters (as time of ancestral population split happened at moment T2+T3)."
   ]
  },
  {
   "cell_type": "code",
   "execution_count": 1,
   "metadata": {},
   "outputs": [
    {
     "name": "stdout",
     "output_type": "stream",
     "text": [
      "import momi\n",
      "import numpy as np\n",
      "\n",
      "def model_func(params):\n",
      "    \"\"\"\n",
      "    N_anc: Ancestral population size\n",
      "    N_1F: Size of ancestral population after growth and YRI population\n",
      "    N_2B: Bottleneck size of Eurasian population\n",
      "    nu_2F_gen: Final size of CEU population (in genetic units)\n",
      "    r2: Growth rate for CEU population\n",
      "    N_3F: Final size of CHB population\n",
      "    r3: Growth rate for CHB population\n",
      "    T1: Time of epoch between ancestral size growth and first split\n",
      "    T2: Time of second epoch between two splits\n",
      "    T3: Time of last epoch, time of last split \n",
      "    \"\"\"\n",
      "    N_Anc, N_1F, N_2B, nu_2F_gen, r2, N_3F, r3, T1, T2, T3 = params\n",
      "\n",
      "    model = momi.DemographicModel(N_e=1e5)\n",
      "\n",
      "    # momi2 uses backward in time models\n",
      "    # 1. Set leafs at time = 0\n",
      "    model.add_leaf(\"YRI\", N=N_1F)\n",
      "    # we have nu_2F_gen is in genetic units so we translate it\n",
      "    model.add_leaf(\"CEU\", N=nu_2F_gen * N_Anc, g=r2)\n",
      "    model.add_leaf(\"CHB\", N=N_3F, g=r3)\n",
      "\n",
      "    # 2. Merge CHB to CEU (T3 time ago) and set size to bottleneck with g=0\n",
      "    model.move_lineages(\"CHB\", \"CEU\", t=T3, N=N_1F, g=0)\n",
      "\n",
      "    # 3. Merge CEU to YRI (T3+T2 time ago)\n",
      "    model.move_lineages(\"CEU\", \"YRI\", t=T3+T2)\n",
      "\n",
      "    # 4. Change size of ancestral (YRI) population to N_anc (T3+T2+T1 time ago)\n",
      "    model.set_size(\"YRI\", N=N_Anc, g=0, t=T3+T2+T1)\n",
      "\n",
      "    return model\n"
     ]
    }
   ],
   "source": [
    "%%bash\n",
    "cat demographic_model.py"
   ]
  },
  {
   "cell_type": "markdown",
   "metadata": {},
   "source": [
    "We could use some random parameters to plot this demographic model with ``momi``:"
   ]
  },
  {
   "cell_type": "code",
   "execution_count": 2,
   "metadata": {},
   "outputs": [
    {
     "data": {
      "image/png": "[encoded data removed]",
      "text/plain": [
       "<Figure size 432x576 with 2 Axes>"
      ]
     },
     "metadata": {
      "needs_background": "light"
     },
     "output_type": "display_data"
    }
   ],
   "source": [
    "from demographic_model import model_func\n",
    "import momi\n",
    "rand_pars = [7300, 12300, 2100, 4, 0.004, 54090, 0.0055, 8800, 5600, 848]\n",
    "model = model_func(rand_pars)\n",
    "fig = momi.DemographyPlot(\n",
    "    model, [\"YRI\", \"CEU\", \"CHB\"],\n",
    "    figsize=(6,8)\n",
    ")"
   ]
  },
  {
   "cell_type": "markdown",
   "metadata": {},
   "source": [
    "## Inference with GADMA\n",
    "\n",
    "To run GADMA with custom model one should set parameters file:"
   ]
  },
  {
   "cell_type": "code",
   "execution_count": 3,
   "metadata": {},
   "outputs": [
    {
     "name": "stdout",
     "output_type": "stream",
     "text": [
      "# Set data first\n",
      "Input file: out_of_africa_chr22_sim.vcf, out_of_africa_chr22_sim.popmap\n",
      "\n",
      "# Output folder. It should be empty.\n",
      "Output directory: gadma_result\n",
      "\n",
      "\n",
      "# Set engine for simulations. We use momi.\n",
      "Engine: momi\n",
      "\n",
      "# For engine momi mutation rate and sequence length are required\n",
      "Mutation rate: 1.29e-8\n",
      "Sequence length: 51304566\n",
      "\n",
      "# Now set our custom demographic model from file.\n",
      "# There should be a function model_func in the file with a model.\n",
      "Custom filename: demographic_model.py\n",
      "\n",
      "# for short example\n",
      "global_maxiter: 30\n",
      "local_maxiter: 2\n",
      "\n",
      "# How many repeats to run and how many processes to use.\n",
      "Number of repeats: 2\n",
      "Number of processes: 2\n"
     ]
    }
   ],
   "source": [
    "%%bash\n",
    "cat params_file"
   ]
  },
  {
   "cell_type": "code",
   "execution_count": 4,
   "metadata": {},
   "outputs": [],
   "source": [
    "%%bash\n",
    "# As output directory should be empty we remove it if it exists\n",
    "rm -rf gadma_result"
   ]
  },
  {
   "cell_type": "markdown",
   "metadata": {},
   "source": [
    "Now we can run GADMA:"
   ]
  },
  {
   "cell_type": "code",
   "execution_count": 5,
   "metadata": {
    "scrolled": true
   },
   "outputs": [
    {
     "name": "stdout",
     "output_type": "stream",
     "text": [
      "Data reading\n",
      "Number of populations: 3\n",
      "Projections: [4, 4, 4]\n",
      "Population labels: ('YRI', 'CEU', 'CHB')\n",
      "Outgroup: True\n",
      "\u001b[92m--Successful data reading--\u001b[0m\n",
      "\n",
      "\u001b[92m--Successful arguments parsing--\u001b[0m\n",
      "\n",
      "Parameters of launch are saved in output directory: /home/katenos/Workspace/popgen/temp/GADMA/examples/custom_model_momi/gadma_result/params_file\n",
      "All output is saved in output directory: /home/katenos/Workspace/popgen/temp/GADMA/examples/custom_model_momi/gadma_result/GADMA.log\n",
      "\n",
      "\u001b[94m--Start pipeline--\u001b[0m\n",
      "Run launch number 1\n",
      "Run launch number 2\n",
      "\n",
      "[000:01:00]\n",
      "All best by log-likelihood models\n",
      "Number\tlog-likelihood\tModel\n",
      "Run 2\t-244949.17\t(N_Anc=192820.74841,\tN_1F=7223.22565,\tN_2B=346.23931,\tnu_2F_gen=0.23018,\tr2=6e-05,\tN_3F=2552.33854,\tr3=-3.98e-04,\tT1=495272.96232,\tT2=2424.316,\tT3=114.44749)\tmmmmmmm\t\n",
      "Run 1\t-247290.30\t(N_Anc=8599.06242,\tN_1F=14879.82964,\tN_2B=17816.44499,\tnu_2F_gen=2.78733,\tr2=0.001,\tN_3F=2011.56609,\tr3=-1.56e-04,\tT1=805.41691,\tT2=5827.67398,\tT3=64.43284)\tmmmmmm\t\n",
      "\u001b[93mRun 2 warning: failed to draw model due to the following exception: Model <class 'gadma.models.custom_demographic_model.CustomDemographicModel'> is not supported by demes engine.\n",
      "The supported models are: [<class 'gadma.models.demographic_model.EpochDemographicModel'>, <class 'gadma.models.structure_demographic_model.StructureDemographicModel'>].\u001b[0m.\n",
      "\n",
      "You can find the Python code of the best model in the output directory.\n",
      "\n",
      "\n",
      "[000:02:00]\n",
      "All best by log-likelihood models\n",
      "Number\tlog-likelihood\tModel\n",
      "Run 2\t-244910.58\t(N_Anc=192820.74841,\tN_1F=7223.22565,\tN_2B=664.04023,\tnu_2F_gen=0.24092,\tr2=0.00011,\tN_3F=1587.17085,\tr3=-3.98e-04,\tT1=753712.78309,\tT2=2424.316,\tT3=84.81883)\tmmmmmm\t\n",
      "Run 1\t-244974.98\t(N_Anc=8096.63797,\tN_1F=5371.01532,\tN_2B=3719.21832,\tnu_2F_gen=0.48689,\tr2=0.00084,\tN_3F=440.22857,\tr3=-3.39e-05,\tT1=167.17264,\tT2=1748.29924,\tT3=10.3562)\tmmmmmmm\t\n",
      "\u001b[93mRun 2 warning: failed to draw model due to the following exception: Model <class 'gadma.models.custom_demographic_model.CustomDemographicModel'> is not supported by demes engine.\n",
      "The supported models are: [<class 'gadma.models.demographic_model.EpochDemographicModel'>, <class 'gadma.models.structure_demographic_model.StructureDemographicModel'>].\u001b[0m.\n",
      "\n",
      "You can find the Python code of the best model in the output directory.\n",
      "\n",
      "\n",
      "[000:03:00]\n",
      "All best by log-likelihood models\n",
      "Number\tlog-likelihood\tModel\n",
      "Run 2\t-244897.75\t(N_Anc=308684.05537,\tN_1F=7223.22565,\tN_2B=270.24291,\tnu_2F_gen=0.42549,\tr2=0.00011,\tN_3F=2351.44351,\tr3=-6.54e-04,\tT1=1117566.07943,\tT2=2004.24654,\tT3=56.36652)\tmmmmmmmm\t\n",
      "Run 1\t-244974.98\t(N_Anc=8096.63797,\tN_1F=5371.01532,\tN_2B=3719.21832,\tnu_2F_gen=0.48689,\tr2=0.00084,\tN_3F=440.22857,\tr3=-3.39e-05,\tT1=167.17264,\tT2=1748.29924,\tT3=10.3562)\tmmmmmmm\t\n",
      "\u001b[93mRun 2 warning: failed to draw model due to the following exception: Model <class 'gadma.models.custom_demographic_model.CustomDemographicModel'> is not supported by demes engine.\n",
      "The supported models are: [<class 'gadma.models.demographic_model.EpochDemographicModel'>, <class 'gadma.models.structure_demographic_model.StructureDemographicModel'>].\u001b[0m.\n",
      "\n",
      "You can find the Python code of the best model in the output directory.\n",
      "\n",
      "\n",
      "[000:04:00]\n",
      "All best by log-likelihood models\n",
      "Number\tlog-likelihood\tModel\n",
      "Run 2\t-244763.99\t(N_Anc=49608.92298,\tN_1F=7223.22565,\tN_2B=270.24291,\tnu_2F_gen=0.07268,\tr2=0.00011,\tN_3F=2787.10375,\tr3=-7.05e-04,\tT1=360037.9623,\tT2=2424.316,\tT3=58.65638)\tc\t\n",
      "Run 1\t-244974.98\t(N_Anc=8096.63797,\tN_1F=5371.01532,\tN_2B=3719.21832,\tnu_2F_gen=0.48689,\tr2=0.00084,\tN_3F=440.22857,\tr3=-3.39e-05,\tT1=167.17264,\tT2=1748.29924,\tT3=10.3562)\tmmmmmmm\t\n",
      "\u001b[93mRun 2 warning: failed to draw model due to the following exception: Model <class 'gadma.models.custom_demographic_model.CustomDemographicModel'> is not supported by demes engine.\n",
      "The supported models are: [<class 'gadma.models.demographic_model.EpochDemographicModel'>, <class 'gadma.models.structure_demographic_model.StructureDemographicModel'>].\u001b[0m.\n",
      "\n",
      "You can find the Python code of the best model in the output directory.\n",
      "\n",
      "\n",
      "[000:05:00]\n",
      "All best by log-likelihood models\n",
      "Number\tlog-likelihood\tModel\n",
      "Run 2\t-244627.21\t(N_Anc=15004.59662,\tN_1F=7223.22565,\tN_2B=270.24291,\tnu_2F_gen=0.06908,\tr2=0.0009,\tN_3F=1820.32828,\tr3=-8.74e-04,\tT1=360037.9623,\tT2=2424.316,\tT3=36.21938)\t\n",
      "Run 1\t-244902.38\t(N_Anc=7320.66763,\tN_1F=8819.88308,\tN_2B=7340.6777,\tnu_2F_gen=0.1009,\tr2=0.001,\tN_3F=3287.38175,\tr3=-6.63e-05,\tT1=4398.86362,\tT2=2490.0807,\tT3=8.88059)\t\n",
      "\u001b[93mRun 2 warning: failed to draw model due to the following exception: Model <class 'gadma.models.custom_demographic_model.CustomDemographicModel'> is not supported by demes engine.\n",
      "The supported models are: [<class 'gadma.models.demographic_model.EpochDemographicModel'>, <class 'gadma.models.structure_demographic_model.StructureDemographicModel'>].\u001b[0m.\n",
      "\n",
      "You can find the Python code of the best model in the output directory.\n",
      "\n",
      "\n",
      "[000:06:00]\n",
      "All best by log-likelihood models\n",
      "Number\tlog-likelihood\tModel\n",
      "Run 2\t-244627.21\t(N_Anc=15004.59662,\tN_1F=7223.22565,\tN_2B=270.24291,\tnu_2F_gen=0.06908,\tr2=0.0009,\tN_3F=1820.32828,\tr3=-8.74e-04,\tT1=360037.9623,\tT2=2424.316,\tT3=36.21938)\t\n",
      "Run 1\t-244902.38\t(N_Anc=7320.66763,\tN_1F=8819.88308,\tN_2B=7340.6777,\tnu_2F_gen=0.1009,\tr2=0.001,\tN_3F=3287.38175,\tr3=-6.63e-05,\tT1=4398.86362,\tT2=2490.0807,\tT3=8.88059)\t\n",
      "\u001b[93mRun 2 warning: failed to draw model due to the following exception: Model <class 'gadma.models.custom_demographic_model.CustomDemographicModel'> is not supported by demes engine.\n",
      "The supported models are: [<class 'gadma.models.demographic_model.EpochDemographicModel'>, <class 'gadma.models.structure_demographic_model.StructureDemographicModel'>].\u001b[0m.\n",
      "\n",
      "You can find the Python code of the best model in the output directory.\n",
      "\n",
      "\n",
      "[000:07:00]\n",
      "All best by log-likelihood models\n",
      "Number\tlog-likelihood\tModel\n",
      "Run 2\t-244627.21\t(N_Anc=15004.59662,\tN_1F=7223.22565,\tN_2B=270.24291,\tnu_2F_gen=0.06908,\tr2=0.0009,\tN_3F=1820.32828,\tr3=-8.74e-04,\tT1=360037.9623,\tT2=2424.316,\tT3=36.21938)\t\n",
      "Run 1\t-244902.38\t(N_Anc=7320.66763,\tN_1F=8819.88308,\tN_2B=7340.6777,\tnu_2F_gen=0.1009,\tr2=0.001,\tN_3F=3287.38175,\tr3=-6.63e-05,\tT1=4398.86362,\tT2=2490.0807,\tT3=8.88059)\t\n",
      "\u001b[93mRun 2 warning: failed to draw model due to the following exception: Model <class 'gadma.models.custom_demographic_model.CustomDemographicModel'> is not supported by demes engine.\n",
      "The supported models are: [<class 'gadma.models.demographic_model.EpochDemographicModel'>, <class 'gadma.models.structure_demographic_model.StructureDemographicModel'>].\u001b[0m.\n",
      "\n",
      "You can find the Python code of the best model in the output directory.\n",
      "\n",
      "\n",
      "[000:08:00]\n",
      "All best by log-likelihood models\n",
      "Number\tlog-likelihood\tModel\n",
      "Run 2\t-244627.21\t(N_Anc=15004.59662,\tN_1F=7223.22565,\tN_2B=270.24291,\tnu_2F_gen=0.06908,\tr2=0.0009,\tN_3F=1820.32828,\tr3=-8.74e-04,\tT1=360037.9623,\tT2=2424.316,\tT3=36.21938)\t\n",
      "Run 1\t-244902.38\t(N_Anc=7320.66763,\tN_1F=8819.88308,\tN_2B=7340.6777,\tnu_2F_gen=0.1009,\tr2=0.001,\tN_3F=3287.38175,\tr3=-6.63e-05,\tT1=4398.86362,\tT2=2490.0807,\tT3=8.88059)\t\n",
      "\u001b[93mRun 2 warning: failed to draw model due to the following exception: Model <class 'gadma.models.custom_demographic_model.CustomDemographicModel'> is not supported by demes engine.\n",
      "The supported models are: [<class 'gadma.models.demographic_model.EpochDemographicModel'>, <class 'gadma.models.structure_demographic_model.StructureDemographicModel'>].\u001b[0m.\n",
      "\n",
      "You can find the Python code of the best model in the output directory.\n",
      "\n",
      "\n",
      "[000:09:00]\n",
      "All best by log-likelihood models\n",
      "Number\tlog-likelihood\tModel\n",
      "Run 2\t-244627.21\t(N_Anc=15004.59662,\tN_1F=7223.22565,\tN_2B=270.24291,\tnu_2F_gen=0.06908,\tr2=0.0009,\tN_3F=1820.32828,\tr3=-8.74e-04,\tT1=360037.9623,\tT2=2424.316,\tT3=36.21938)\t\n",
      "Run 1\t-244902.38\t(N_Anc=7320.66763,\tN_1F=8819.88308,\tN_2B=7340.6777,\tnu_2F_gen=0.1009,\tr2=0.001,\tN_3F=3287.38175,\tr3=-6.63e-05,\tT1=4398.86362,\tT2=2490.0807,\tT3=8.88059)\t\n",
      "\u001b[93mRun 2 warning: failed to draw model due to the following exception: Model <class 'gadma.models.custom_demographic_model.CustomDemographicModel'> is not supported by demes engine.\n",
      "The supported models are: [<class 'gadma.models.demographic_model.EpochDemographicModel'>, <class 'gadma.models.structure_demographic_model.StructureDemographicModel'>].\u001b[0m.\n",
      "\n",
      "You can find the Python code of the best model in the output directory.\n",
      "\n",
      "Finish genetic algorithm number 1\n",
      "\n",
      "[000:10:00]\n",
      "All best by log-likelihood models\n",
      "Number\tlog-likelihood\tModel\n",
      "Run 2\t-244627.21\t(N_Anc=15004.59662,\tN_1F=7223.22565,\tN_2B=270.24291,\tnu_2F_gen=0.06908,\tr2=0.0009,\tN_3F=1820.32828,\tr3=-8.74e-04,\tT1=360037.9623,\tT2=2424.316,\tT3=36.21938)\t\n",
      "Run 1\t-244902.38\t(N_Anc=7320.66763,\tN_1F=8819.88308,\tN_2B=7340.6777,\tnu_2F_gen=0.1009,\tr2=0.001,\tN_3F=3287.38175,\tr3=-6.63e-05,\tT1=4398.86362,\tT2=2490.0807,\tT3=8.88059)\tf\t\n",
      "\u001b[93mRun 2 warning: failed to draw model due to the following exception: Model <class 'gadma.models.custom_demographic_model.CustomDemographicModel'> is not supported by demes engine.\n",
      "The supported models are: [<class 'gadma.models.demographic_model.EpochDemographicModel'>, <class 'gadma.models.structure_demographic_model.StructureDemographicModel'>].\u001b[0m.\n",
      "\n",
      "You can find the Python code of the best model in the output directory.\n",
      "\n",
      "Finish genetic algorithm number 2\n",
      "\n",
      "[000:10:10]\n",
      "All best by log-likelihood models\n",
      "Number\tlog-likelihood\tModel\n",
      "Run 2\t-244627.21\t(N_Anc=15004.59662,\tN_1F=7223.22565,\tN_2B=270.24291,\tnu_2F_gen=0.06908,\tr2=0.0009,\tN_3F=1820.32828,\tr3=-8.74e-04,\tT1=360037.9623,\tT2=2424.316,\tT3=36.21938)\tf\t\n",
      "Run 1\t-244902.38\t(N_Anc=7320.66763,\tN_1F=8819.88308,\tN_2B=7340.6777,\tnu_2F_gen=0.1009,\tr2=0.001,\tN_3F=3287.38175,\tr3=-6.63e-05,\tT1=4398.86362,\tT2=2490.0807,\tT3=8.88059)\tf\t\n",
      "\u001b[93mRun 2 warning: failed to draw model due to the following exception: Model <class 'gadma.models.custom_demographic_model.CustomDemographicModel'> is not supported by demes engine.\n",
      "The supported models are: [<class 'gadma.models.demographic_model.EpochDemographicModel'>, <class 'gadma.models.structure_demographic_model.StructureDemographicModel'>].\u001b[0m.\n",
      "\n",
      "You can find the Python code of the best model in the output directory.\n",
      "\n",
      "\n",
      "--Finish pipeline--\n",
      "\n",
      "\n",
      "You didn't specify theta at the beginning. If you want to change it and rescale parameters, please see the tutorial:\n",
      "https://gadma.readthedocs.io/en/latest/user_manual/theta.html\n",
      "\n",
      "Thank you for using GADMA!\n",
      "\n",
      "In case of any questions or problems, please contact: ekaterina.e.noskova@gmail.com\n",
      "\n"
     ]
    },
    {
     "name": "stderr",
     "output_type": "stream",
     "text": [
      "\u001b[93mUserWarning: Setting `Input file` is renamed in 2 version of GADMA to `Input data`. It is successfully read.\u001b[0m (/home/katenos/.local/lib/python3.6/site-packages/gadma/cli/settings_storage.py:902)\n",
      "\u001b[93mUserWarning: Momi engine does not support Linear size function. It is removed from possible dynamics\u001b[0m (/home/katenos/.local/lib/python3.6/site-packages/gadma/cli/settings_storage.py:1260)\n",
      "\u001b[93mUserWarning: Domain of DynamicVariable changed to ['Sud', 'Exp']\u001b[0m (/home/katenos/.local/lib/python3.6/site-packages/gadma/cli/settings_storage.py:617)\n",
      "\u001b[93mUserWarning: Momi engine need ancestral size as parameter. The option `Ancestral size as parameter` is set to `True`\u001b[0m (/home/katenos/.local/lib/python3.6/site-packages/gadma/cli/settings_storage.py:1265)\n",
      "\u001b[93mUserWarning: Momi engine does not support continous migrations. The option `No migrations` is set to `True`\u001b[0m (/home/katenos/.local/lib/python3.6/site-packages/gadma/cli/settings_storage.py:1271)\n",
      "WARNING:momi.data.snps:No BED provided, will need to specify length manually with mutation rate\n",
      "[W::vcf_parse] INFO 'AA' is not defined in the header, assuming Type=String\n",
      "[W::vcf_parse] FILTER 'NOTPASS' is not defined in the header\n",
      "\u001b[93mUserWarning: Setting no_migrations (True) will be ignored as custom model from file is chosen.\u001b[0m (/home/katenos/.local/lib/python3.6/site-packages/gadma/cli/arg_parser.py:293)\n",
      "\u001b[93mUserWarning: Setting split_fractions (True) will be ignored as custom model from file is chosen.\u001b[0m (/home/katenos/.local/lib/python3.6/site-packages/gadma/cli/arg_parser.py:293)\n"
     ]
    }
   ],
   "source": [
    "%%bash\n",
    "gadma -p params_file"
   ]
  },
  {
   "cell_type": "markdown",
   "metadata": {},
   "source": [
    "It is just a start of optimization as numer of iterations is limited to 30 but we can see that size of ancestral population is similar to 7300 that was used for simulation. We can evaluate value of log-likelihood on simulated values:"
   ]
  },
  {
   "cell_type": "code",
   "execution_count": 6,
   "metadata": {},
   "outputs": [
    {
     "name": "stderr",
     "output_type": "stream",
     "text": [
      "No BED provided, will need to specify length manually with mutation rate\n"
     ]
    },
    {
     "name": "stdout",
     "output_type": "stream",
     "text": [
      "Value of log-likelihood on values used in simulation: -249931.26661084342\n"
     ]
    }
   ],
   "source": [
    "# load data\n",
    "ind2pop = {'tsk_0': 'YRI', 'tsk_1': 'YRI', 'tsk_2': 'CEU', 'tsk_3': 'CEU', 'tsk_4': 'CHB', 'tsk_5': 'CHB'}\n",
    "data = momi.SnpAlleleCounts.read_vcf('out_of_africa_chr22_sim.vcf', ind2pop=ind2pop).extract_sfs(n_blocks=100)\n",
    "data = data.subset_populations(['YRI', 'CEU', 'CHB'])\n",
    "\n",
    "# evaluate log likelihood\n",
    "model.set_data(data, length=51304566)\n",
    "ll_model = model.log_likelihood()\n",
    "print(f'Value of log-likelihood on values used in simulation: {ll_model}')"
   ]
  },
  {
   "cell_type": "code",
   "execution_count": null,
   "metadata": {},
   "outputs": [],
   "source": []
  }
 ],
 "metadata": {
  "kernelspec": {
   "display_name": "Python 3",
   "language": "python",
   "name": "python3"
  },
  "language_info": {
   "codemirror_mode": {
    "name": "ipython",
    "version": 3
   },
   "file_extension": ".py",
   "mimetype": "text/x-python",
   "name": "python",
   "nbconvert_exporter": "python",
   "pygments_lexer": "ipython3",
   "version": "3.6.9"
  }
 },
 "nbformat": 4,
 "nbformat_minor": 4
}
