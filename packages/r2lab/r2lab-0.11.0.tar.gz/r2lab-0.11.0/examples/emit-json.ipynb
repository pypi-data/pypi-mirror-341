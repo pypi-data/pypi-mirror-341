{
 "cells": [
  {
   "cell_type": "markdown",
   "metadata": {},
   "source": [
    "# Note on synchonous / asynchronous"
   ]
  },
  {
   "cell_type": "markdown",
   "metadata": {},
   "source": [
    "The R2lab library exposes 2 flavours for the sidecar client, that are\n",
    "\n",
    "* `SidecarAsyncClient`\n",
    "* `SidecarSyncClient`\n",
    "\n",
    "The core of the code lies with the former; the latter is just a convenience layer for apps that do not want to write any asynchronous code."
   ]
  },
  {
   "cell_type": "markdown",
   "metadata": {},
   "source": [
    "In this notebook we go for the asynchronous version, taking advantage of **IPython7**'s ability to do `await` at the toplevel, which is so cool :) \n",
    "\n",
    "The synchronous version would not work btw in this notebook, because of conflicts with the event loop..."
   ]
  },
  {
   "cell_type": "markdown",
   "metadata": {},
   "source": [
    "### Import sidecar class from r2lab"
   ]
  },
  {
   "cell_type": "code",
   "execution_count": null,
   "metadata": {},
   "outputs": [],
   "source": [
    "from r2lab import SidecarAsyncClient as Sidecar"
   ]
  },
  {
   "cell_type": "markdown",
   "metadata": {},
   "source": [
    "### Servers"
   ]
  },
  {
   "cell_type": "markdown",
   "metadata": {},
   "source": [
    "By default these classes join wss://r2lab-sidecar.inria.fr:443/. To reach a local sidecar devel server, use"
   ]
  },
  {
   "cell_type": "code",
   "execution_count": null,
   "metadata": {},
   "outputs": [],
   "source": [
    "devel_url = \"ws://localhost:10000/\""
   ]
  },
  {
   "cell_type": "markdown",
   "metadata": {},
   "source": [
    "### Probing for the complete nodes status"
   ]
  },
  {
   "cell_type": "code",
   "execution_count": null,
   "metadata": {},
   "outputs": [],
   "source": [
    "async with Sidecar(devel_url) as sidecar:\n",
    "    status = await sidecar.nodes_status()"
   ]
  },
  {
   "cell_type": "code",
   "execution_count": null,
   "metadata": {},
   "outputs": [],
   "source": [
    "from itertools import islice\n",
    "for id, info in islice(status.items(), 2):\n",
    "    print(f\"node {id} -> {info}\")"
   ]
  },
  {
   "cell_type": "markdown",
   "metadata": {},
   "source": [
    "### How to emit a message"
   ]
  },
  {
   "cell_type": "markdown",
   "metadata": {},
   "source": [
    "Make sure your devel sidecar server is up and running, and:"
   ]
  },
  {
   "cell_type": "code",
   "execution_count": null,
   "metadata": {},
   "outputs": [],
   "source": [
    "async with Sidecar(devel_url) as sidecar:\n",
    "    await sidecar.set_node_attribute(1, 'available', 'ok')\n",
    "    await sidecar.set_nodes_triples(\n",
    "        (2, 'available', 'ko'),\n",
    "        (2, 'cmc_on_off', 'off'),\n",
    "        (1, 'available', 'ko'),\n",
    "    )"
   ]
  }
 ],
 "metadata": {
  "kernelspec": {
   "display_name": "Python 3",
   "language": "python",
   "name": "python3"
  },
  "language_info": {
   "codemirror_mode": {
    "name": "ipython",
    "version": 3
   },
   "file_extension": ".py",
   "mimetype": "text/x-python",
   "name": "python",
   "nbconvert_exporter": "python",
   "pygments_lexer": "ipython3",
   "version": "3.7.0"
  }
 },
 "nbformat": 4,
 "nbformat_minor": 2
}
