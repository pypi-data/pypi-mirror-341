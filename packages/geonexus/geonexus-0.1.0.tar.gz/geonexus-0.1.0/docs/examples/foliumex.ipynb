{
 "cells": [
  {
   "cell_type": "markdown",
   "metadata": {},
   "source": [
    "# Folium Demo\n",
    "\n",
    "[![Open In Colab](https://colab.research.google.com/assets/colab-badge.svg)](https://colab.research.google.com/github/halieute/geonexus/blob/main/docs/examples/foliumap.ipynb) \n",
    "\n",
    "**Introducing the geonexus Python package for interactive mapping**\n",
    "\n",
    "Uncomment the following line to install geonexus if needed."
   ]
  },
  {
   "cell_type": "code",
   "execution_count": null,
   "metadata": {},
   "outputs": [],
   "source": [
    "# !pip install geonexus"
   ]
  },
  {
   "cell_type": "markdown",
   "metadata": {},
   "source": [
    "`geonexus` has two plotting backends: [folium](https://github.com/python-visualization/folium), and [ipyleaflet](https://github.com/jupyter-widgets/ipyleaflet). Note that the backends do not offer equal functionality. Some interactive functionality in `geonexus` might not be available in other plotting backends. To use a specific plotting backend, use one of the following:\n",
    "\n",
    "- `import geonexus.geonexus as geonexus`\n",
    "- `import geonexus.foliumap as geonexus`"
   ]
  },
  {
   "cell_type": "code",
   "execution_count": null,
   "metadata": {},
   "outputs": [],
   "source": [
    "import geonexus.foliumap as geonexus"
   ]
  },
  {
   "cell_type": "markdown",
   "metadata": {},
   "source": [
    "Create an interactive map."
   ]
  },
  {
   "cell_type": "code",
   "execution_count": null,
   "metadata": {},
   "outputs": [],
   "source": [
    "self = geonexus.Map()\n",
    "self"
   ]
  },
  {
   "cell_type": "markdown",
   "metadata": {},
   "source": [
    "Importing a geojson file and specify the default map center **(Niger)** and zoom level."
   ]
  },
  {
   "cell_type": "code",
   "execution_count": null,
   "metadata": {},
   "outputs": [],
   "source": [
    "self = geonexus.Map(center=[17.6078, 8.0817], zoom=6)\n",
    "url = \"https://github.com/opengeos/datasets/releases/download/world/continents.geojson\"\n",
    "self.add_geojson(url, name=\"countries\")\n",
    "self.add_layer_control()\n",
    "self"
   ]
  },
  {
   "cell_type": "markdown",
   "metadata": {},
   "source": [
    "Importing a geojson file and specify the default map center **(World)** and zoom level."
   ]
  },
  {
   "cell_type": "code",
   "execution_count": null,
   "metadata": {},
   "outputs": [],
   "source": [
    "self = geonexus.Map(center=[20, 0], zoom=2)\n",
    "url = \"https://github.com/opengeos/datasets/releases/download/world/continents.geojson\"\n",
    "self.add_geojson(url, name=\"countries\")\n",
    "self.add_layer_control()\n",
    "self"
   ]
  },
  {
   "cell_type": "markdown",
   "metadata": {},
   "source": [
    "Adding Split Map to the map. "
   ]
  },
  {
   "cell_type": "code",
   "execution_count": null,
   "metadata": {},
   "outputs": [],
   "source": [
    "m = geonexus.Map()\n",
    "m.add_split_map()\n",
    "m.add_layer_control()\n",
    "m"
   ]
  }
 ],
 "metadata": {
  "kernelspec": {
   "display_name": "geo2",
   "language": "python",
   "name": "python3"
  },
  "language_info": {
   "codemirror_mode": {
    "name": "ipython",
    "version": 3
   },
   "file_extension": ".py",
   "mimetype": "text/x-python",
   "name": "python",
   "nbconvert_exporter": "python",
   "pygments_lexer": "ipython3",
   "version": "3.12.8"
  }
 },
 "nbformat": 4,
 "nbformat_minor": 2
}
