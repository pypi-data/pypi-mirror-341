{
 "cells": [
  {
   "cell_type": "markdown",
   "metadata": {},
   "source": [
    "## Create interactive map\n",
    "\n",
    "[![Open In Colab](https://colab.research.google.com/assets/colab-badge.svg)](https://colab.research.google.com/github/halieute/geonexus/blob/main/docs/examples/map.ipynb)"
   ]
  },
  {
   "cell_type": "code",
   "execution_count": null,
   "metadata": {},
   "outputs": [],
   "source": [
    "import geonexus"
   ]
  },
  {
   "cell_type": "code",
   "execution_count": null,
   "metadata": {},
   "outputs": [],
   "source": [
    "m = geonexus.Map()\n",
    "url = \"https://github.com/opengeos/datasets/releases/download/world/continents.geojson\"\n",
    "m.add_geojson(url)\n",
    "m"
   ]
  },
  {
   "cell_type": "code",
   "execution_count": null,
   "metadata": {},
   "outputs": [],
   "source": [
    "import ipyleaflet\n",
    "from ipyleaflet import TileLayer\n",
    "from ipyleaflet import GeoJSON\n",
    "import json\n",
    "import geopandas as gpd"
   ]
  },
  {
   "cell_type": "code",
   "execution_count": null,
   "metadata": {},
   "outputs": [],
   "source": [
    "m = ipyleaflet.Map(center=(20, 0), zoom=2)\n",
    "url = \"https://github.com/opengeos/datasets/releases/download/world/continents.geojson\"\n",
    "gdf = gpd.read_file(url)\n",
    "data = gdf.__geo_interface__\n",
    "gj = GeoJSON(data=data)\n",
    "m.add_layer(gj)\n",
    "\n",
    "bounds = gdf.total_bounds\n",
    "m.fit_bounds([[bounds[1], bounds[0]], [bounds[3], bounds[2]]])\n",
    "m"
   ]
  },
  {
   "cell_type": "code",
   "execution_count": null,
   "metadata": {},
   "outputs": [],
   "source": [
    "gdf.total_bounds"
   ]
  },
  {
   "cell_type": "code",
   "execution_count": null,
   "metadata": {},
   "outputs": [],
   "source": [
    "m.fit_bounds(\n",
    "    [\n",
    "        [gdf.total_bounds[1], gdf.total_bounds[0]],\n",
    "        [gdf.total_bounds[3], gdf.total_bounds[2]],\n",
    "    ]\n",
    ")"
   ]
  }
 ],
 "metadata": {
  "kernelspec": {
   "display_name": "geo2",
   "language": "python",
   "name": "python3"
  },
  "language_info": {
   "codemirror_mode": {
    "name": "ipython",
    "version": 3
   },
   "file_extension": ".py",
   "mimetype": "text/x-python",
   "name": "python",
   "nbconvert_exporter": "python",
   "pygments_lexer": "ipython3",
   "version": "3.12.8"
  }
 },
 "nbformat": 4,
 "nbformat_minor": 2
}
