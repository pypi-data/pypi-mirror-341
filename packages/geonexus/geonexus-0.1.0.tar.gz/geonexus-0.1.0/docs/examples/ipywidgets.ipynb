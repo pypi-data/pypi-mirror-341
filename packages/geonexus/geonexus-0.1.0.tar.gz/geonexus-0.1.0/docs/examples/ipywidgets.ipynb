{
 "cells": [
  {
   "cell_type": "code",
   "execution_count": null,
   "id": "0",
   "metadata": {},
   "outputs": [],
   "source": [
    "import geonexus"
   ]
  },
  {
   "cell_type": "code",
   "execution_count": null,
   "id": "1",
   "metadata": {},
   "outputs": [],
   "source": [
    "import ipywidgets as widgets"
   ]
  },
  {
   "cell_type": "code",
   "execution_count": null,
   "id": "2",
   "metadata": {},
   "outputs": [],
   "source": [
    "m = geonexus.Map()\n",
    "m.add_basemap_gui()\n",
    "zoom_slider = widgets.IntSlider(\n",
    "    value=2,\n",
    "    min=1,\n",
    "    max=24,\n",
    "    step=1,\n",
    "    description=\"Zoom: \",\n",
    "    style={\"description_width\": \"initial\"},\n",
    ")\n",
    "zoom_slider.layout = widgets.Layout(\n",
    "    width=\"250px\",\n",
    "    height=\"38px\",\n",
    ")\n",
    "widgets.link((zoom_slider, \"value\"), (m, \"zoom\"))\n",
    "m.add_widget(zoom_slider, position=\"topright\")\n",
    "m"
   ]
  }
 ],
 "metadata": {
  "kernelspec": {
   "display_name": "geo2",
   "language": "python",
   "name": "python3"
  },
  "language_info": {
   "codemirror_mode": {
    "name": "ipython",
    "version": 3
   },
   "file_extension": ".py",
   "mimetype": "text/x-python",
   "name": "python",
   "nbconvert_exporter": "python",
   "pygments_lexer": "ipython3",
   "version": "3.12.8"
  }
 },
 "nbformat": 4,
 "nbformat_minor": 5
}
