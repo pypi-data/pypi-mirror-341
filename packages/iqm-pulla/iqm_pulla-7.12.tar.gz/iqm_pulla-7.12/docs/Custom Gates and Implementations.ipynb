{
 "cells": [
  {
   "cell_type": "markdown",
   "id": "c369ec22",
   "metadata": {},
   "source": [
    "# Custom Gates and Gate Implementations\n",
    "\n",
    "This notebook demonstrates how to work with user-defined quantum operations and gate implementations that go beyond the standard gate set.\n",
    "\n",
    "Each quantum operation is associated with one or more `GateImplementation`s which translate the high-level concepts to lower-level instructions accepted by the IQM server. This example shows how the user can\n",
    "\n",
    "- Selecting a non-default implementation for a gate\n",
    "- Add a custom implementation for an existing gate\n",
    "- Add a custom gate and a custom implementation for it\n",
    "  - by using existing gates as building blocks (composite gates)\n",
    "- Defining new pulse waveforms for implementations\n"
   ]
  },
  {
   "cell_type": "markdown",
   "id": "e6dceded",
   "metadata": {},
   "source": [
    "## Environment setup\n",
    "\n",
    "Please refer to the `User Guide.ipynb` for basic usage, termninology, and environment setup."
   ]
  },
  {
   "cell_type": "code",
   "execution_count": 15,
   "id": "3ecd000a",
   "metadata": {
    "ExecuteTime": {
     "end_time": "2024-07-15T09:37:29.282407Z",
     "start_time": "2024-07-15T09:37:17.932145Z"
    }
   },
   "outputs": [],
   "source": [
    "import os\n",
    "from pprint import pprint\n",
    "from iqm.qiskit_iqm import IQMProvider\n",
    "from iqm.qiskit_iqm.iqm_transpilation import optimize_single_qubit_gates\n",
    "from iqm.pulla.pulla import Pulla\n",
    "from iqm.pulla.utils_qiskit import qiskit_to_pulla\n",
    "from iqm.pulse.playlist.visualisation.base import inspect_playlist\n",
    "from IPython.core.display import HTML\n",
    "import logging"
   ]
  },
  {
   "cell_type": "code",
   "execution_count": null,
   "id": "154a0d17",
   "metadata": {},
   "outputs": [
    {
     "name": "stderr",
     "output_type": "stream",
     "text": [
      "[10-31 21:33:24;W] station-control-client version '1.18' is newer minor version than '1.13' used by the station control server, some new client features might not be supported.\n"
     ]
    }
   ],
   "source": [
    "cocos_url = os.environ['PULLA_COCOS_URL']  # or set the URL directly here\n",
    "station_control_url = os.environ['PULLA_STATION_CONTROL_URL']  # or set the URL directly here\n",
    "\n",
    "p = Pulla(station_control_url)\n",
    "\n",
    "provider = IQMProvider(cocos_url)\n",
    "backend = provider.get_backend()"
   ]
  },
  {
   "cell_type": "code",
   "execution_count": 17,
   "id": "175ac7bb",
   "metadata": {},
   "outputs": [
    {
     "data": {
      "image/png": "[encoded data removed]",
      "text/plain": [
       "<Figure size 663.998x284.278 with 1 Axes>"
      ]
     },
     "execution_count": 17,
     "metadata": {},
     "output_type": "execute_result"
    }
   ],
   "source": [
    "from qiskit import QuantumCircuit\n",
    "from qiskit.compiler import transpile\n",
    "\n",
    "\n",
    "def example_qiskit_circuit():\n",
    "    qc = QuantumCircuit(2, 2)\n",
    "    qc.x(0)\n",
    "    qc.cx(0, 1)\n",
    "    qc.h(0)\n",
    "    qc.measure_all()\n",
    "\n",
    "    transpiled_qc = transpile(qc, backend=backend, layout_method='sabre', optimization_level=3)\n",
    "    transpiled_qc = optimize_single_qubit_gates(transpiled_qc)\n",
    "    return transpiled_qc\n",
    "\n",
    "\n",
    "example_qiskit_circuit().draw(output='mpl', style='clifford', idle_wires=False)"
   ]
  },
  {
   "cell_type": "markdown",
   "id": "edada5c7",
   "metadata": {},
   "source": [
    "## Changing implementations at the circuit level\n",
    "\n",
    "Circuits are usually defined without specifying implementations for any of the gates.\n",
    "The implementations available in a given calibration set are listed in the corresponding dynamic quantum architecture, through Cocos.\n",
    "\n",
    "Let's see a list of available implementations, with their parameters:"
   ]
  },
  {
   "cell_type": "code",
   "execution_count": 18,
   "id": "c4922e63",
   "metadata": {
    "ExecuteTime": {
     "end_time": "2024-07-13T16:44:36.645999Z",
     "start_time": "2024-07-13T16:44:36.546972Z"
    }
   },
   "outputs": [
    {
     "name": "stdout",
     "output_type": "stream",
     "text": [
      "Operation: barrier\n",
      "\n",
      " \"Operation: barrier, implementation: \"\n",
      "-----------------------------------\n",
      "\n",
      "Operation: measure\n",
      "\n",
      " \"Operation: measure, implementation: constant\"\n",
      " ╠─ duration: Readout pulse duration = None (automatic/unspecified)\n",
      " ╠─ frequency: Readout pulse frequency = None (automatic/unspecified)\n",
      " ╠─ phase: Readout pulse phase = None (automatic/unspecified)\n",
      " ╠─ amplitude_i: Readout channel I amplitude = None (automatic/unspecified)\n",
      " ╠─ amplitude_q: Readout channel Q amplitude = 0.0 \n",
      " ╠─ integration_length: Integration length = None (automatic/unspecified)\n",
      " ╠─ integration_weights_I: Integration weights for channel I = [] \n",
      " ╠─ integration_weights_Q: Integration weights for channel Q = [] \n",
      " ╠─ integration_threshold: Integration threshold = None (automatic/unspecified)\n",
      " ╠─ acquisition_type: Acquisition type = threshold \n",
      " ╚─ acquisition_delay: Acquisition delay = None (automatic/unspecified)\n",
      "\n",
      " \"Operation: measure, implementation: constant_qnd\"\n",
      " ╠─ duration: Readout pulse duration = None (automatic/unspecified)\n",
      " ╠─ frequency: Readout pulse frequency = None (automatic/unspecified)\n",
      " ╠─ phase: Readout pulse phase = None (automatic/unspecified)\n",
      " ╠─ amplitude_i: Readout channel I amplitude = None (automatic/unspecified)\n",
      " ╠─ amplitude_q: Readout channel Q amplitude = 0.0 \n",
      " ╠─ integration_length: Integration length = None (automatic/unspecified)\n",
      " ╠─ integration_weights_I: Integration weights for channel I = [] \n",
      " ╠─ integration_weights_Q: Integration weights for channel Q = [] \n",
      " ╠─ integration_threshold: Integration threshold = None (automatic/unspecified)\n",
      " ╠─ acquisition_type: Acquisition type = threshold \n",
      " ╚─ acquisition_delay: Acquisition delay = None (automatic/unspecified)\n",
      "-----------------------------------\n",
      "\n",
      "Operation: prx\n",
      "\n",
      " \"Operation: prx, implementation: drag_gaussian\"\n",
      " ╠─ duration: pi pulse duration = None (automatic/unspecified)\n",
      " ╠─ amplitude_i: pi pulse I channel amplitude = None (automatic/unspecified)\n",
      " ╠─ amplitude_q: pi pulse Q channel amplitude = None (automatic/unspecified)\n",
      " ╠─ full_width: full_width of tg = None (automatic/unspecified)\n",
      " ╚─ center_offset: center_offset of tg = 0.0 s\n",
      "\n",
      " \"Operation: prx, implementation: drag_crf\"\n",
      " ╠─ duration: pi pulse duration = None (automatic/unspecified)\n",
      " ╠─ amplitude_i: pi pulse I channel amplitude = None (automatic/unspecified)\n",
      " ╠─ amplitude_q: pi pulse Q channel amplitude = None (automatic/unspecified)\n",
      " ╠─ full_width: full_width of crf = None (automatic/unspecified)\n",
      " ╚─ center_offset: center_offset of crf = 0.0 s\n",
      "\n",
      " \"Operation: prx, implementation: drag_crf_sx\"\n",
      " ╠─ duration: pi pulse duration = None (automatic/unspecified)\n",
      " ╠─ amplitude_i: pi pulse I channel amplitude = None (automatic/unspecified)\n",
      " ╠─ amplitude_q: pi pulse Q channel amplitude = None (automatic/unspecified)\n",
      " ╠─ rz_before: RZ before IQ pulse = None (automatic/unspecified)\n",
      " ╠─ rz_after: RZ after IQ pulse = None (automatic/unspecified)\n",
      " ╠─ full_width: full_width of crf = None (automatic/unspecified)\n",
      " ╚─ center_offset: center_offset of crf = 0.0 s\n",
      "\n",
      " \"Operation: prx, implementation: drag_gaussian_sx\"\n",
      " ╠─ duration: pi pulse duration = None (automatic/unspecified)\n",
      " ╠─ amplitude_i: pi pulse I channel amplitude = None (automatic/unspecified)\n",
      " ╠─ amplitude_q: pi pulse Q channel amplitude = None (automatic/unspecified)\n",
      " ╠─ rz_before: RZ before IQ pulse = None (automatic/unspecified)\n",
      " ╠─ rz_after: RZ after IQ pulse = None (automatic/unspecified)\n",
      " ╠─ full_width: full_width of tg = None (automatic/unspecified)\n",
      " ╚─ center_offset: center_offset of tg = 0.0 s\n",
      "-----------------------------------\n",
      "\n",
      "Operation: u\n",
      "\n",
      " \"Operation: u, implementation: prx_u\"\n",
      "-----------------------------------\n",
      "\n",
      "Operation: sx\n",
      "\n",
      " \"Operation: sx, implementation: prx_sx\"\n",
      "-----------------------------------\n",
      "\n",
      "Operation: rz\n",
      "\n",
      " \"Operation: rz, implementation: virtual\"\n",
      "-----------------------------------\n",
      "\n",
      "Operation: rz_physical\n",
      "\n",
      " \"Operation: rz_physical, implementation: ac_stark_crf\"\n",
      " ╠─ duration: Gate duration = None (automatic/unspecified)\n",
      " ╠─ full_width: full_width of mcrf = None (automatic/unspecified)\n",
      " ╠─ rise_time: rise_time of mcrf = None (automatic/unspecified)\n",
      " ╠─ modulation_frequency: modulation_frequency of mcrf = 0.0 Hz\n",
      " ╠─ phase: phase of mcrf = 0 rad\n",
      " ╠─ center_offset: center_offset of mcrf = 0.0 s\n",
      " ╠─ amplitude: amplitude = None (automatic/unspecified)\n",
      " ╚─ phase_increment: phase increment = None (automatic/unspecified)\n",
      "-----------------------------------\n",
      "\n",
      "Operation: cz\n",
      "\n",
      " \"Operation: cz, implementation: tgss\"\n",
      " ╠─ duration: Gate duration = None (automatic/unspecified)\n",
      " ║ \n",
      " ╚═ rz: \"Operation: cz, implementation: tgss.rz\"\n",
      " ╚═ coupler: \"Operation: cz, implementation: tgss.coupler\"\n",
      "     ╠─ full_width: Coupler flux pulse full_width of tgss = None (automatic/unspecified)\n",
      "     ╠─ rise_time: Coupler flux pulse rise_time of tgss = None (automatic/unspecified)\n",
      "     ╠─ center_offset: Coupler flux pulse center_offset of tgss = 0.0 s\n",
      "     ╚─ amplitude: Coupler flux pulse amplitude = None (automatic/unspecified)\n",
      "\n",
      " \"Operation: cz, implementation: tgss_crf\"\n",
      " ╠─ duration: Gate duration = None (automatic/unspecified)\n",
      " ║ \n",
      " ╚═ rz: \"Operation: cz, implementation: tgss_crf.rz\"\n",
      " ╠═ coupler: \"Operation: cz, implementation: tgss_crf.coupler\"\n",
      " ║   ╠─ full_width: Coupler flux pulse full_width of tgss = None (automatic/unspecified)\n",
      " ║   ╠─ rise_time: Coupler flux pulse rise_time of tgss = None (automatic/unspecified)\n",
      " ║   ╠─ center_offset: Coupler flux pulse center_offset of tgss = 0.0 s\n",
      " ║   ╚─ amplitude: Coupler flux pulse amplitude = None (automatic/unspecified)\n",
      " ╚═ qubit: \"Operation: cz, implementation: tgss_crf.qubit\"\n",
      "     ╠─ full_width: Qubit flux pulse full_width of crf = None (automatic/unspecified)\n",
      "     ╠─ rise_time: Qubit flux pulse rise_time of crf = None (automatic/unspecified)\n",
      "     ╠─ center_offset: Qubit flux pulse center_offset of crf = 0.0 s\n",
      "     ╚─ amplitude: Qubit flux pulse amplitude = None (automatic/unspecified)\n",
      "\n",
      " \"Operation: cz, implementation: crf_crf\"\n",
      " ╠─ duration: Gate duration = None (automatic/unspecified)\n",
      " ║ \n",
      " ╚═ rz: \"Operation: cz, implementation: crf_crf.rz\"\n",
      " ╠═ coupler: \"Operation: cz, implementation: crf_crf.coupler\"\n",
      " ║   ╠─ full_width: Coupler flux pulse full_width of crf = None (automatic/unspecified)\n",
      " ║   ╠─ rise_time: Coupler flux pulse rise_time of crf = None (automatic/unspecified)\n",
      " ║   ╠─ center_offset: Coupler flux pulse center_offset of crf = 0.0 s\n",
      " ║   ╚─ amplitude: Coupler flux pulse amplitude = None (automatic/unspecified)\n",
      " ╚═ qubit: \"Operation: cz, implementation: crf_crf.qubit\"\n",
      "     ╠─ full_width: Qubit flux pulse full_width of crf = None (automatic/unspecified)\n",
      "     ╠─ rise_time: Qubit flux pulse rise_time of crf = None (automatic/unspecified)\n",
      "     ╠─ center_offset: Qubit flux pulse center_offset of crf = 0.0 s\n",
      "     ╚─ amplitude: Qubit flux pulse amplitude = None (automatic/unspecified)\n",
      "\n",
      " \"Operation: cz, implementation: crf\"\n",
      " ╠─ duration: Gate duration = None (automatic/unspecified)\n",
      " ║ \n",
      " ╚═ rz: \"Operation: cz, implementation: crf.rz\"\n",
      " ╚═ coupler: \"Operation: cz, implementation: crf.coupler\"\n",
      "     ╠─ full_width: Coupler flux pulse full_width of crf = None (automatic/unspecified)\n",
      "     ╠─ rise_time: Coupler flux pulse rise_time of crf = None (automatic/unspecified)\n",
      "     ╠─ center_offset: Coupler flux pulse center_offset of crf = 0.0 s\n",
      "     ╚─ amplitude: Coupler flux pulse amplitude = None (automatic/unspecified)\n",
      "\n",
      " \"Operation: cz, implementation: gaussian_smoothed_square\"\n",
      " ╠─ duration: Gate duration = None (automatic/unspecified)\n",
      " ║ \n",
      " ╚═ rz: \"Operation: cz, implementation: gaussian_smoothed_square.rz\"\n",
      " ╚═ coupler: \"Operation: cz, implementation: gaussian_smoothed_square.coupler\"\n",
      "     ╠─ square_width: Coupler flux pulse square_width of gss = None (automatic/unspecified)\n",
      "     ╠─ gaussian_sigma: Coupler flux pulse gaussian_sigma of gss = None (automatic/unspecified)\n",
      "     ╠─ center_offset: Coupler flux pulse center_offset of gss = 0.0 s\n",
      "     ╚─ amplitude: Coupler flux pulse amplitude = None (automatic/unspecified)\n",
      "\n",
      " \"Operation: cz, implementation: slepian\"\n",
      " ╠─ duration: Gate duration = None (automatic/unspecified)\n",
      " ║ \n",
      " ╚═ rz: \"Operation: cz, implementation: slepian.rz\"\n",
      " ╚═ coupler: \"Operation: cz, implementation: slepian.coupler\"\n",
      "     ╠─ full_width: Coupler flux pulse full_width of Slepian = None (automatic/unspecified)\n",
      "     ╠─ lambda_1: Coupler flux pulse lambda_1 of Slepian = None (automatic/unspecified)\n",
      "     ╠─ lambda_2: Coupler flux pulse lambda_2 of Slepian = None (automatic/unspecified)\n",
      "     ╠─ frequency_initial_normalized: Coupler flux pulse frequency_initial_normalized of Slepian = None (automatic/unspecified)\n",
      "     ╠─ frequency_to_minimize_normalized: Coupler flux pulse frequency_to_minimize_normalized of Slepian = None (automatic/unspecified)\n",
      "     ╠─ coupling_strength_normalized: Coupler flux pulse coupling_strength_normalized of Slepian = None (automatic/unspecified)\n",
      "     ╠─ center_offset: Coupler flux pulse center_offset of Slepian = 0 s\n",
      "     ╠─ squid_asymmetry: Coupler flux pulse squid_asymmetry of Slepian = 0 \n",
      "     ╚─ amplitude: Coupler flux pulse amplitude = None (automatic/unspecified)\n",
      "\n",
      " \"Operation: cz, implementation: slepian_crf\"\n",
      " ╠─ duration: Gate duration = None (automatic/unspecified)\n",
      " ║ \n",
      " ╚═ rz: \"Operation: cz, implementation: slepian_crf.rz\"\n",
      " ╠═ coupler: \"Operation: cz, implementation: slepian_crf.coupler\"\n",
      " ║   ╠─ full_width: Coupler flux pulse full_width of Slepian = None (automatic/unspecified)\n",
      " ║   ╠─ lambda_1: Coupler flux pulse lambda_1 of Slepian = None (automatic/unspecified)\n",
      " ║   ╠─ lambda_2: Coupler flux pulse lambda_2 of Slepian = None (automatic/unspecified)\n",
      " ║   ╠─ frequency_initial_normalized: Coupler flux pulse frequency_initial_normalized of Slepian = None (automatic/unspecified)\n",
      " ║   ╠─ frequency_to_minimize_normalized: Coupler flux pulse frequency_to_minimize_normalized of Slepian = None (automatic/unspecified)\n",
      " ║   ╠─ coupling_strength_normalized: Coupler flux pulse coupling_strength_normalized of Slepian = None (automatic/unspecified)\n",
      " ║   ╠─ center_offset: Coupler flux pulse center_offset of Slepian = 0 s\n",
      " ║   ╠─ squid_asymmetry: Coupler flux pulse squid_asymmetry of Slepian = 0 \n",
      " ║   ╚─ amplitude: Coupler flux pulse amplitude = None (automatic/unspecified)\n",
      " ╚═ qubit: \"Operation: cz, implementation: slepian_crf.qubit\"\n",
      "     ╠─ full_width: Qubit flux pulse full_width of crf = None (automatic/unspecified)\n",
      "     ╠─ rise_time: Qubit flux pulse rise_time of crf = None (automatic/unspecified)\n",
      "     ╠─ center_offset: Qubit flux pulse center_offset of crf = 0.0 s\n",
      "     ╚─ amplitude: Qubit flux pulse amplitude = None (automatic/unspecified)\n",
      "-----------------------------------\n",
      "\n",
      "Operation: move\n",
      "\n",
      " \"Operation: move, implementation: tgss_crf\"\n",
      " ╠─ duration: Gate duration = None (automatic/unspecified)\n",
      " ║ \n",
      " ╚═ rz: \"Operation: move, implementation: tgss_crf.rz\"\n",
      " ╠═ coupler: \"Operation: move, implementation: tgss_crf.coupler\"\n",
      " ║   ╠─ full_width: Coupler flux pulse full_width of tgss = None (automatic/unspecified)\n",
      " ║   ╠─ rise_time: Coupler flux pulse rise_time of tgss = None (automatic/unspecified)\n",
      " ║   ╠─ center_offset: Coupler flux pulse center_offset of tgss = 0.0 s\n",
      " ║   ╚─ amplitude: Coupler flux pulse amplitude = None (automatic/unspecified)\n",
      " ╚═ qubit: \"Operation: move, implementation: tgss_crf.qubit\"\n",
      "     ╠─ full_width: Qubit flux pulse full_width of crf = None (automatic/unspecified)\n",
      "     ╠─ rise_time: Qubit flux pulse rise_time of crf = None (automatic/unspecified)\n",
      "     ╠─ center_offset: Qubit flux pulse center_offset of crf = 0.0 s\n",
      "     ╚─ amplitude: Qubit flux pulse amplitude = None (automatic/unspecified)\n",
      "\n",
      " \"Operation: move, implementation: crf_crf\"\n",
      " ╠─ duration: Gate duration = None (automatic/unspecified)\n",
      " ║ \n",
      " ╚═ rz: \"Operation: move, implementation: crf_crf.rz\"\n",
      " ╠═ coupler: \"Operation: move, implementation: crf_crf.coupler\"\n",
      " ║   ╠─ full_width: Coupler flux pulse full_width of crf = None (automatic/unspecified)\n",
      " ║   ╠─ rise_time: Coupler flux pulse rise_time of crf = None (automatic/unspecified)\n",
      " ║   ╠─ center_offset: Coupler flux pulse center_offset of crf = 0.0 s\n",
      " ║   ╚─ amplitude: Coupler flux pulse amplitude = None (automatic/unspecified)\n",
      " ╚═ qubit: \"Operation: move, implementation: crf_crf.qubit\"\n",
      "     ╠─ full_width: Qubit flux pulse full_width of crf = None (automatic/unspecified)\n",
      "     ╠─ rise_time: Qubit flux pulse rise_time of crf = None (automatic/unspecified)\n",
      "     ╠─ center_offset: Qubit flux pulse center_offset of crf = 0.0 s\n",
      "     ╚─ amplitude: Qubit flux pulse amplitude = None (automatic/unspecified)\n",
      "-----------------------------------\n",
      "\n",
      "Operation: cc_prx\n",
      "\n",
      " \"Operation: cc_prx, implementation: prx_composite\"\n",
      " ╚─ control_delays: Control delays = None (automatic/unspecified)\n",
      "-----------------------------------\n",
      "\n",
      "Operation: reset\n",
      "\n",
      " \"Operation: reset, implementation: reset_conditional\"\n",
      "-----------------------------------\n",
      "\n"
     ]
    }
   ],
   "source": [
    "circuits, compiler = qiskit_to_pulla(p, backend, example_qiskit_circuit())\n",
    "\n",
    "compiler.print_all_implementations_trees()"
   ]
  },
  {
   "cell_type": "markdown",
   "id": "843dacd5",
   "metadata": {},
   "source": [
    "You can specify a default implementation for each native operation type in the circuit, and then override it for specific loci.\n",
    "Let's change all `cz` gates to use the `slepian` implementation, and make an execption for the qubit pair `(QB1, QB2)`."
   ]
  },
  {
   "cell_type": "code",
   "execution_count": 19,
   "id": "d139ff4a",
   "metadata": {},
   "outputs": [],
   "source": [
    "compiler.set_default_implementation('cz', 'slepian')\n",
    "compiler.set_default_implementation_for_loci('cz', 'tgss', [('QB1', 'QB2')])"
   ]
  },
  {
   "cell_type": "markdown",
   "id": "01a8084b",
   "metadata": {},
   "source": [
    "Note that the default implementations are merely suggestions to the compiler. If the compiler does not have calibration data for a default implementation, it will ignore it and use what it can.\n",
    "\n",
    "If you executed the cell below, you would get an error \n",
    "```\n",
    "Error in stage \"circuit\" pass \"map_implementations_for_loci\": Circuit 0: No calibration data for 'prx.drag_gaussian' at ('QB1',).\n",
    "```\n",
    "if the requested implementation `'drag_gaussian'` does not have calibration data."
   ]
  },
  {
   "cell_type": "code",
   "execution_count": null,
   "id": "64bcf8aa",
   "metadata": {},
   "outputs": [],
   "source": [
    "circuits[0].instructions[0].implementation = 'drag_gaussian'\n",
    "# _, context = compiler.compile(circuits) # Fails"
   ]
  },
  {
   "cell_type": "markdown",
   "id": "dee04759",
   "metadata": {},
   "source": [
    "You can also force the compiler to use a specific implementation for each circuit instruction separately in the IQM Pulse native format, which describes a circuit as a list of `CircuitOperation` instances."
   ]
  },
  {
   "cell_type": "markdown",
   "id": "3d97f889",
   "metadata": {},
   "source": [
    "## Custom gates: Composite gates\n",
    "\n",
    "IQM Pulse allows the user to define composite gates: gates consisting of other registered gates.\n",
    "Composite gates are particularly useful because they allow reusing the calibrated of data of the other gates.\n",
    "Furthermore, it is possible to use different calibration data for the registered gates inside a composite gate than outside it.\n",
    "\n",
    "Let's define a `prx` implementation that acts like a normal `prx`, except it implements `x` with 2 pulses with a 100 ns wait between them.\n",
    "The `__call__` method produces a TimeBox using IQM Pulse's ScheduleBuilder.\n",
    "It's worth mentioning that the composite gate is not restricted to using only registered gates; it could equally well return a TimeBox with lower level instructions."
   ]
  },
  {
   "cell_type": "code",
   "execution_count": 20,
   "id": "3febc30c",
   "metadata": {
    "ExecuteTime": {
     "end_time": "2024-07-13T16:49:19.825980Z",
     "start_time": "2024-07-13T16:49:19.778503Z"
    }
   },
   "outputs": [],
   "source": [
    "from iqm.pulse.gate_implementation import CompositeGate\n",
    "import numpy as np\n",
    "\n",
    "\n",
    "class StretchedX(CompositeGate):\n",
    "    registered_gates = ['prx']  # use the standard prx as a building block\n",
    "\n",
    "    def __call__(self, angle_t: float, phase_t: float):\n",
    "        normal_prx = self.build(\"prx\", self.locus)\n",
    "        # convert args to radians, which is what prx uses on the schedule level\n",
    "        phase = phase_t * 2 * np.pi\n",
    "        angle = angle_t * 2 * np.pi\n",
    "        if angle_t != 0.5:\n",
    "            return normal_prx(angle, phase)\n",
    "\n",
    "        half = normal_prx(np.pi / 2, phase)\n",
    "        return half + self.builder.wait(self.locus, 100e-9, rounding=True) + half"
   ]
  },
  {
   "cell_type": "markdown",
   "id": "d2d3e6fd",
   "metadata": {},
   "source": [
    "Now we register a new gate `custom_x`, which `StretchedX` implements. We want to make it compatible with the circuit-level `prx`, so we declare that it has the same parameters.\n",
    "Then we change the fist `prx` in the IQM Pulse circuit to use our new implementation."
   ]
  },
  {
   "cell_type": "code",
   "execution_count": 21,
   "id": "1d0d2b93",
   "metadata": {},
   "outputs": [],
   "source": [
    "circuits, compiler = qiskit_to_pulla(p, backend, example_qiskit_circuit())\n",
    "compiler.add_implementation('custom_x', 'StretchedX', StretchedX, quantum_op_specs={'params': ('angle_t', 'phase_t')})\n",
    "\n",
    "c = circuits[0]\n",
    "for inst in c.instructions:\n",
    "    if inst.name == 'prx':\n",
    "        inst.name = 'custom_x'\n",
    "\n",
    "playlist, _ = compiler.compile(circuits)"
   ]
  },
  {
   "cell_type": "markdown",
   "id": "d2cfcc8c",
   "metadata": {},
   "source": [
    "Inspecting the schedule, we can see that the `X` gate in the circuit is indeed split into two pulses with a wait in between:"
   ]
  },
  {
   "cell_type": "code",
   "execution_count": null,
   "id": "5ba152b3",
   "metadata": {
    "scrolled": true
   },
   "outputs": [],
   "source": [
    "HTML(inspect_playlist(playlist, [0]))"
   ]
  },
  {
   "cell_type": "markdown",
   "id": "e80eff08",
   "metadata": {},
   "source": [
    "## Custom gates: Custom waveforms\n",
    "\n",
    "Finally, let's change the pulse waveforms of an existing gate. The tricky part of this is that we need to provide the calibration data by hand.\n",
    "IQM Pulse provides several \"gate with custom waveforms\" base classes so that users need only write the waveforms. \n",
    "\n",
    "Let's define a new implementation of PRX using a raised cosine pulse:"
   ]
  },
  {
   "cell_type": "code",
   "execution_count": 23,
   "id": "c59f9a22",
   "metadata": {
    "ExecuteTime": {
     "end_time": "2024-07-13T16:44:58.606606Z",
     "start_time": "2024-07-13T16:44:58.520598Z"
    }
   },
   "outputs": [],
   "source": [
    "from iqm.pulse.gates.prx import PRX_CustomWaveforms\n",
    "from dataclasses import dataclass\n",
    "from iqm.pulse.playlist.waveforms import Gaussian, GaussianDerivative, Waveform\n",
    "import numpy as np\n",
    "\n",
    "\n",
    "@dataclass(frozen=True)\n",
    "class RaisedCosine(Waveform):\n",
    "    r\"\"\"Raised cosine pulse.\n",
    "\n",
    "    .. math::\n",
    "        f(t) = \\frac{1}{2} (1 + \\cos((t - c) \\pi / w)) \\quad \\text{when} \\: |t - c| \\le w, 0 \\: \\text{otherwise}\n",
    "\n",
    "    where :math:`c` is :attr:`center_offset`, and :math:`w` is :attr:`width`.\n",
    "    The raised cosine has a finite support.\n",
    "\n",
    "    Args:\n",
    "        width: half-width of the support\n",
    "        center_offset: center offset\n",
    "    \"\"\"\n",
    "\n",
    "    width: float\n",
    "    center_offset: float = 0.0\n",
    "\n",
    "    def _sample(self, sample_coords: np.ndarray) -> np.ndarray:\n",
    "        offset_coords = sample_coords - self.center_offset\n",
    "        return np.where(\n",
    "            np.abs(offset_coords) <= self.width,\n",
    "            0.5 * (1 + np.cos(offset_coords * np.pi / self.width)),\n",
    "            0.0,\n",
    "        )\n",
    "\n",
    "\n",
    "@dataclass(frozen=True)\n",
    "class RaisedCosineDerivative(Waveform):\n",
    "    r\"\"\"Scaled derivative of the RaisedCosine pulse.\n",
    "\n",
    "    .. math::\n",
    "        f(t) = -\\sin((t - c) \\pi / w) \\quad \\text{when} \\: |t - c| \\le w, 0 \\: \\text{otherwise}\n",
    "\n",
    "    where :math:`c` is :attr:`center_offset`, and :math:`w` is :attr:`width`.\n",
    "\n",
    "    Args:\n",
    "        width: half-width of the support\n",
    "        center_offset: center offset\n",
    "    \"\"\"\n",
    "\n",
    "    width: float\n",
    "    center_offset: float = 0.0\n",
    "\n",
    "    def _sample(self, sample_coords: np.ndarray) -> np.ndarray:\n",
    "        offset_coords = sample_coords - self.center_offset\n",
    "        return np.where(\n",
    "            np.abs(offset_coords) <= self.width,\n",
    "            -0.5 * np.sin(offset_coords * np.pi / self.width),\n",
    "            0.0,\n",
    "        )\n",
    "\n",
    "\n",
    "class PRX_RaisedCosine(PRX_CustomWaveforms, wave_i=RaisedCosine, wave_q=RaisedCosineDerivative):\n",
    "    \"\"\"Implementation of PRX using a raised cosine pulse.\"\"\"\n",
    "\n",
    "    center_offset: float = 0.0"
   ]
  },
  {
   "cell_type": "markdown",
   "id": "729c36e8",
   "metadata": {},
   "source": [
    "The class attributes of the waveforms define the calibration data they require. The `PRX_CustomWaveforms` class adds some more. We can add the new `prx` implementation to the compiler, and check what calibration data it needs:"
   ]
  },
  {
   "cell_type": "code",
   "execution_count": 24,
   "id": "9ac706c2",
   "metadata": {
    "ExecuteTime": {
     "end_time": "2024-07-13T16:45:12.878876Z",
     "start_time": "2024-07-13T16:45:12.825376Z"
    }
   },
   "outputs": [
    {
     "name": "stdout",
     "output_type": "stream",
     "text": [
      "\n",
      " \"Operation: prx, implementation: drag_gaussian\"\n",
      " ╠─ duration: pi pulse duration = None (automatic/unspecified)\n",
      " ╠─ amplitude_i: pi pulse I channel amplitude = None (automatic/unspecified)\n",
      " ╠─ amplitude_q: pi pulse Q channel amplitude = None (automatic/unspecified)\n",
      " ╠─ full_width: full_width of tg = None (automatic/unspecified)\n",
      " ╚─ center_offset: center_offset of tg = 0.0 s\n",
      "\n",
      " \"Operation: prx, implementation: drag_crf\"\n",
      " ╠─ duration: pi pulse duration = None (automatic/unspecified)\n",
      " ╠─ amplitude_i: pi pulse I channel amplitude = None (automatic/unspecified)\n",
      " ╠─ amplitude_q: pi pulse Q channel amplitude = None (automatic/unspecified)\n",
      " ╠─ full_width: full_width of crf = None (automatic/unspecified)\n",
      " ╚─ center_offset: center_offset of crf = 0.0 s\n",
      "\n",
      " \"Operation: prx, implementation: drag_crf_sx\"\n",
      " ╠─ duration: pi pulse duration = None (automatic/unspecified)\n",
      " ╠─ amplitude_i: pi pulse I channel amplitude = None (automatic/unspecified)\n",
      " ╠─ amplitude_q: pi pulse Q channel amplitude = None (automatic/unspecified)\n",
      " ╠─ rz_before: RZ before IQ pulse = None (automatic/unspecified)\n",
      " ╠─ rz_after: RZ after IQ pulse = None (automatic/unspecified)\n",
      " ╠─ full_width: full_width of crf = None (automatic/unspecified)\n",
      " ╚─ center_offset: center_offset of crf = 0.0 s\n",
      "\n",
      " \"Operation: prx, implementation: drag_gaussian_sx\"\n",
      " ╠─ duration: pi pulse duration = None (automatic/unspecified)\n",
      " ╠─ amplitude_i: pi pulse I channel amplitude = None (automatic/unspecified)\n",
      " ╠─ amplitude_q: pi pulse Q channel amplitude = None (automatic/unspecified)\n",
      " ╠─ rz_before: RZ before IQ pulse = None (automatic/unspecified)\n",
      " ╠─ rz_after: RZ after IQ pulse = None (automatic/unspecified)\n",
      " ╠─ full_width: full_width of tg = None (automatic/unspecified)\n",
      " ╚─ center_offset: center_offset of tg = 0.0 s\n",
      "\n",
      " \"Operation: prx, implementation: raised_cosine\"\n",
      " ╠─ duration: pi pulse duration = None (automatic/unspecified)\n",
      " ╠─ amplitude_i: pi pulse I channel amplitude = None (automatic/unspecified)\n",
      " ╠─ amplitude_q: pi pulse Q channel amplitude = None (automatic/unspecified)\n",
      " ╠─ width: width of rc = None (automatic/unspecified)\n",
      " ╚─ center_offset: center_offset of rc = 0.0 s\n"
     ]
    }
   ],
   "source": [
    "circuits, compiler = qiskit_to_pulla(p, backend, example_qiskit_circuit())\n",
    "\n",
    "compiler.add_implementation('prx', 'raised_cosine', PRX_RaisedCosine)\n",
    "compiler.print_implementations_trees(compiler.builder.op_table['prx'])"
   ]
  },
  {
   "cell_type": "markdown",
   "id": "a613a6ff",
   "metadata": {},
   "source": [
    "Let us then make one of the `prx` gates in the circuit use our new implementation:"
   ]
  },
  {
   "cell_type": "code",
   "execution_count": 25,
   "id": "5eb5f99b",
   "metadata": {
    "ExecuteTime": {
     "end_time": "2024-07-13T16:45:23.082558Z",
     "start_time": "2024-07-13T16:45:23.023589Z"
    }
   },
   "outputs": [],
   "source": [
    "circuits[0].instructions[0].implementation = \"raised_cosine\""
   ]
  },
  {
   "cell_type": "markdown",
   "id": "7d773df7",
   "metadata": {},
   "source": [
    "Compiling this circuit right now would fail with an error:\n",
    "\n",
    "```\n",
    "Error in stage \"circuit\" pass \"map_implementations_for_loci\": Circuit 0: No calibration data for 'prx.raised_cosine' at ('QB1',).\n",
    "```\n",
    "\n",
    "(The locus ('QB1',) may differ in your output due to the stochastic nature of routing.)\n",
    "\n",
    "The point is that the compiler does not have necessary calibration data for this new implementation. One way to fix this is to amend the current calibration. The numbers here are arbitrary, in reality you would need to calibrate the gate parameters somehow."
   ]
  },
  {
   "cell_type": "code",
   "execution_count": 26,
   "id": "2925f28b",
   "metadata": {
    "ExecuteTime": {
     "end_time": "2024-07-13T16:45:50.272476Z",
     "start_time": "2024-07-13T16:45:50.127510Z"
    }
   },
   "outputs": [],
   "source": [
    "custom_cal_data = {\n",
    "    \"duration\": 40e-09,\n",
    "    \"amplitude_i\": 0.1662,\n",
    "    \"amplitude_q\": -0.00802,\n",
    "    \"width\": 20e-9,\n",
    "    \"center_offset\": 3e-9,\n",
    "}\n",
    "\n",
    "for qubit in compiler.builder.chip_topology.qubits:\n",
    "    compiler.amend_calibration_for_gate_implementation('prx', 'raised_cosine', (qubit,), custom_cal_data)"
   ]
  },
  {
   "cell_type": "markdown",
   "id": "831f56e5",
   "metadata": {},
   "source": [
    "Data with `gates.prx.raised_cosine.*` is now visible in `compiler.get_calibration()`. Note that we added the same calibration data to all qubits. In practice, this rarely makes sense, because each qubit\n",
    "is usually calibrated differently.\n",
    "\n",
    "Now the compilation succeeds and we see that `raised_cosine` was used once. Using the schedule visualization you could also verify that the pulse shape is indeed different on the first `prx` instance."
   ]
  },
  {
   "cell_type": "code",
   "execution_count": 27,
   "id": "0ca8874e",
   "metadata": {
    "ExecuteTime": {
     "end_time": "2024-07-13T16:46:26.196525Z",
     "start_time": "2024-07-13T16:46:26.004077Z"
    }
   },
   "outputs": [
    {
     "name": "stdout",
     "output_type": "stream",
     "text": [
      "{'drag_crf': Counter({('QB3',): 2, ('QB1',): 1}),\n",
      " 'raised_cosine': Counter({('QB1',): 1})}\n"
     ]
    }
   ],
   "source": [
    "playlist, context = compiler.compile(circuits)\n",
    "pprint(context['circuit_metrics'][0].gate_loci[\"prx\"])"
   ]
  }
 ],
 "metadata": {
  "kernelspec": {
   "display_name": "Python 3 (ipykernel)",
   "language": "python",
   "name": "python3"
  },
  "language_info": {
   "codemirror_mode": {
    "name": "ipython",
    "version": 3
   },
   "file_extension": ".py",
   "mimetype": "text/x-python",
   "name": "python",
   "nbconvert_exporter": "python",
   "pygments_lexer": "ipython3",
   "version": "3.11.9"
  }
 },
 "nbformat": 4,
 "nbformat_minor": 5
}
