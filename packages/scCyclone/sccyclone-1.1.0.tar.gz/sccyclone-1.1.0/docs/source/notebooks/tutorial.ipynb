{
 "cells": [
  {
   "cell_type": "code",
   "execution_count": 1,
   "id": "4892204c-9368-4004-be91-bcc86b41ed55",
   "metadata": {},
   "outputs": [
    {
     "name": "stdout",
     "output_type": "stream",
     "text": [
      "\n",
      "     _______.  ______   ______ ____    ____  ______  __        ______   .__   __.  _______ \n",
      "    /       | /      | /      |\\   \\  /   / /      ||  |      /  __  \\  |  \\ |  | |   ____|\n",
      "   |   (----`|  ,----'|  ,----' \\   \\/   / |  ,----'|  |     |  |  |  | |   \\|  | |  |__   \n",
      "    \\   \\    |  |     |  |       \\_    _/  |  |     |  |     |  |  |  | |  . `  | |   __|  \n",
      ".----)   |   |  `----.|  `----.    |  |    |  `----.|  `----.|  `--'  | |  |\\   | |  |____ \n",
      "|_______/     \\______| \\______|    |__|     \\______||_______| \\______/  |__| \\__| |_______|\n",
      "                                                                                           \n",
      "                                                                                                                                                       \n",
      "\n",
      "Version: 1.0.3, Author: Dawn\n"
     ]
    }
   ],
   "source": [
    "import scanpy as sc\n",
    "import sys\n",
    "import pickle\n",
    "\n",
    "sys.path.append(\"/data/work/tools\")\n",
    "import scCyclone as scc\n",
    "import pandas as pd\n",
    "import numpy as np\n",
    "import scanpy as sc"
   ]
  },
  {
   "cell_type": "markdown",
   "id": "89ae7566-61ee-4133-8708-88f5e0e546a4",
   "metadata": {},
   "source": [
    "## Generate adata"
   ]
  },
  {
   "cell_type": "markdown",
   "id": "c1629a52-f0cd-40c7-9c33-a7d6f12365e4",
   "metadata": {
    "tags": []
   },
   "source": [
    "### Generate iso-level adata"
   ]
  },
  {
   "cell_type": "code",
   "execution_count": 2,
   "id": "8ea1979c-f970-4f54-8fa5-14cdf27a556d",
   "metadata": {},
   "outputs": [],
   "source": [
    "isoquant_path=\"../test/input/test.transcript_model_grouped_counts.tsv\""
   ]
  },
  {
   "cell_type": "code",
   "execution_count": 3,
   "id": "62020d8c-76d9-42ef-af75-61cd7337008e",
   "metadata": {},
   "outputs": [
    {
     "data": {
      "text/plain": [
       "AnnData object with n_obs × n_vars = 2999 × 36848\n",
       "    obs: 'batch'\n",
       "    var: 'isoform'"
      ]
     },
     "execution_count": 3,
     "metadata": {},
     "output_type": "execute_result"
    }
   ],
   "source": [
    "adata_iso=scc.generate_Iso_adata(isoquant_path)\n",
    "adata_iso"
   ]
  },
  {
   "cell_type": "markdown",
   "id": "fdbde3a1-2b16-4f38-ad28-200ac950f746",
   "metadata": {
    "tags": []
   },
   "source": [
    "#### Add sqanti3 result"
   ]
  },
  {
   "cell_type": "code",
   "execution_count": 4,
   "id": "42c3d2d6-44a4-4e73-97d7-a3316b106e0c",
   "metadata": {},
   "outputs": [],
   "source": [
    "sqanti_path=\"../test/input/test.extended_annotation_classification.txt\""
   ]
  },
  {
   "cell_type": "code",
   "execution_count": 5,
   "id": "1855d456-1873-4e8a-80a6-258cb8d65417",
   "metadata": {},
   "outputs": [
    {
     "data": {
      "text/plain": [
       "AnnData object with n_obs × n_vars = 2999 × 36848\n",
       "    obs: 'batch'\n",
       "    var: 'isoform', 'chrom', 'strand', 'length', 'exons', 'structural_category', 'associated_gene', 'CDS_length', 'CDS_start', 'CDS_end', 'CDS_genomic_start', 'CDS_genomic_end', 'predicted_NMD'"
      ]
     },
     "execution_count": 5,
     "metadata": {},
     "output_type": "execute_result"
    }
   ],
   "source": [
    "scc.tl.add_sqanti3(adata_iso,sqanti_path)\n",
    "adata_iso"
   ]
  },
  {
   "cell_type": "markdown",
   "id": "c8bf4d6b-1cdf-42fa-a32c-7178780a1f0a",
   "metadata": {},
   "source": [
    "#### gene_id translate gene symbol"
   ]
  },
  {
   "cell_type": "code",
   "execution_count": 6,
   "id": "2fedf819-8cdc-4d31-9877-62f38e5c37db",
   "metadata": {},
   "outputs": [],
   "source": [
    "gene_id_path=\"../test/input/gene_id_translate.txt\""
   ]
  },
  {
   "cell_type": "code",
   "execution_count": 7,
   "id": "69875ea3-ce84-48ae-a553-9c2f528ded11",
   "metadata": {},
   "outputs": [
    {
     "data": {
      "text/html": [
       "<div>\n",
       "<style scoped>\n",
       "    .dataframe tbody tr th:only-of-type {\n",
       "        vertical-align: middle;\n",
       "    }\n",
       "\n",
       "    .dataframe tbody tr th {\n",
       "        vertical-align: top;\n",
       "    }\n",
       "\n",
       "    .dataframe thead th {\n",
       "        text-align: right;\n",
       "    }\n",
       "</style>\n",
       "<table border=\"1\" class=\"dataframe\">\n",
       "  <thead>\n",
       "    <tr style=\"text-align: right;\">\n",
       "      <th></th>\n",
       "      <th>associated_gene</th>\n",
       "      <th>gene_name</th>\n",
       "    </tr>\n",
       "  </thead>\n",
       "  <tbody>\n",
       "    <tr>\n",
       "      <th>0</th>\n",
       "      <td>ENSDARG00000000001</td>\n",
       "      <td>slc35a5</td>\n",
       "    </tr>\n",
       "    <tr>\n",
       "      <th>1</th>\n",
       "      <td>ENSDARG00000000002</td>\n",
       "      <td>ccdc80</td>\n",
       "    </tr>\n",
       "    <tr>\n",
       "      <th>2</th>\n",
       "      <td>ENSDARG00000000018</td>\n",
       "      <td>nrf1</td>\n",
       "    </tr>\n",
       "    <tr>\n",
       "      <th>3</th>\n",
       "      <td>ENSDARG00000000019</td>\n",
       "      <td>ube2h</td>\n",
       "    </tr>\n",
       "    <tr>\n",
       "      <th>4</th>\n",
       "      <td>ENSDARG00000000068</td>\n",
       "      <td>slc9a3r1a</td>\n",
       "    </tr>\n",
       "    <tr>\n",
       "      <th>...</th>\n",
       "      <td>...</td>\n",
       "      <td>...</td>\n",
       "    </tr>\n",
       "    <tr>\n",
       "      <th>32009</th>\n",
       "      <td>ENSDARG00000117823</td>\n",
       "      <td>BX537296.5</td>\n",
       "    </tr>\n",
       "    <tr>\n",
       "      <th>32010</th>\n",
       "      <td>ENSDARG00000117824</td>\n",
       "      <td>CABZ01064670.1</td>\n",
       "    </tr>\n",
       "    <tr>\n",
       "      <th>32011</th>\n",
       "      <td>ENSDARG00000117825</td>\n",
       "      <td>CU207269.4</td>\n",
       "    </tr>\n",
       "    <tr>\n",
       "      <th>32012</th>\n",
       "      <td>ENSDARG00000117826</td>\n",
       "      <td>CR385041.2</td>\n",
       "    </tr>\n",
       "    <tr>\n",
       "      <th>32013</th>\n",
       "      <td>ENSDARG00000117827</td>\n",
       "      <td>CR388164.3</td>\n",
       "    </tr>\n",
       "  </tbody>\n",
       "</table>\n",
       "<p>32014 rows × 2 columns</p>\n",
       "</div>"
      ],
      "text/plain": [
       "          associated_gene       gene_name\n",
       "0      ENSDARG00000000001         slc35a5\n",
       "1      ENSDARG00000000002          ccdc80\n",
       "2      ENSDARG00000000018            nrf1\n",
       "3      ENSDARG00000000019           ube2h\n",
       "4      ENSDARG00000000068       slc9a3r1a\n",
       "...                   ...             ...\n",
       "32009  ENSDARG00000117823      BX537296.5\n",
       "32010  ENSDARG00000117824  CABZ01064670.1\n",
       "32011  ENSDARG00000117825      CU207269.4\n",
       "32012  ENSDARG00000117826      CR385041.2\n",
       "32013  ENSDARG00000117827      CR388164.3\n",
       "\n",
       "[32014 rows x 2 columns]"
      ]
     },
     "execution_count": 7,
     "metadata": {},
     "output_type": "execute_result"
    }
   ],
   "source": [
    "gene_info=pd.read_csv(gene_id_path,sep=\" \",header=None)\n",
    "gene_info=gene_info.rename(columns={0:\"associated_gene\",1:\"gene_name\"})\n",
    "gene_info"
   ]
  },
  {
   "cell_type": "code",
   "execution_count": 8,
   "id": "b4856d9a-c8b5-4f0a-8725-fce301d97766",
   "metadata": {},
   "outputs": [],
   "source": [
    "adata_iso.var['gene_name']=list(pd.merge(adata_iso.var,gene_info,on=\"associated_gene\",how=\"left\")['gene_name'])"
   ]
  },
  {
   "cell_type": "code",
   "execution_count": 9,
   "id": "064dd305-59e3-4d91-8db2-d98a1a2dcef3",
   "metadata": {},
   "outputs": [
    {
     "data": {
      "text/plain": [
       "AnnData object with n_obs × n_vars = 2999 × 36848\n",
       "    obs: 'batch'\n",
       "    var: 'isoform', 'chrom', 'strand', 'length', 'exons', 'structural_category', 'associated_gene', 'CDS_length', 'CDS_start', 'CDS_end', 'CDS_genomic_start', 'CDS_genomic_end', 'predicted_NMD', 'gene_name'"
      ]
     },
     "execution_count": 9,
     "metadata": {},
     "output_type": "execute_result"
    }
   ],
   "source": [
    "adata_iso"
   ]
  },
  {
   "cell_type": "code",
   "execution_count": 10,
   "id": "49b3a51b-b2e6-43ce-b581-7d8b5d373ae1",
   "metadata": {},
   "outputs": [],
   "source": [
    "adata_iso=adata_iso[:,adata_iso.var.dropna().index]"
   ]
  },
  {
   "cell_type": "code",
   "execution_count": 11,
   "id": "63d1de80-5449-4b4d-9bc8-959948fb08c6",
   "metadata": {},
   "outputs": [
    {
     "data": {
      "text/plain": [
       "full-splice_match          18958\n",
       "novel_not_in_catalog        4665\n",
       "incomplete-splice_match     2214\n",
       "novel_in_catalog             887\n",
       "genic                        315\n",
       "Name: structural_category, dtype: int64"
      ]
     },
     "execution_count": 11,
     "metadata": {},
     "output_type": "execute_result"
    }
   ],
   "source": [
    "adata_iso.var['structural_category'].value_counts()"
   ]
  },
  {
   "cell_type": "code",
   "execution_count": 12,
   "id": "bee2a1e1-152e-48b9-b71b-f1797059d82c",
   "metadata": {},
   "outputs": [],
   "source": [
    "adata_iso=adata_iso[:,adata_iso.var['structural_category'].isin([\"full-splice_match\",\"novel_not_in_catalog\",\"incomplete-splice_match\",\"novel_in_catalog\"])]"
   ]
  },
  {
   "cell_type": "code",
   "execution_count": 13,
   "id": "1f0b7bde-2b58-4bc6-97b4-2e485941251a",
   "metadata": {},
   "outputs": [
    {
     "data": {
      "text/plain": [
       "View of AnnData object with n_obs × n_vars = 2999 × 26724\n",
       "    obs: 'batch'\n",
       "    var: 'isoform', 'chrom', 'strand', 'length', 'exons', 'structural_category', 'associated_gene', 'CDS_length', 'CDS_start', 'CDS_end', 'CDS_genomic_start', 'CDS_genomic_end', 'predicted_NMD', 'gene_name'"
      ]
     },
     "execution_count": 13,
     "metadata": {},
     "output_type": "execute_result"
    }
   ],
   "source": [
    "adata_iso"
   ]
  },
  {
   "cell_type": "code",
   "execution_count": 14,
   "id": "481af2f0-3d27-4c68-a500-7727299fc73f",
   "metadata": {},
   "outputs": [
    {
     "name": "stderr",
     "output_type": "stream",
     "text": [
      "/usr/local/lib/python3.8/site-packages/scanpy/preprocessing/_simple.py:251: ImplicitModificationWarning: Trying to modify attribute `.var` of view, initializing view as actual.\n",
      "  adata.var['n_cells'] = number\n"
     ]
    }
   ],
   "source": [
    "sc.pp.filter_genes(adata_iso,min_cells=3)"
   ]
  },
  {
   "cell_type": "code",
   "execution_count": 15,
   "id": "1e4708bd-afca-4366-9857-6ea4ce01a165",
   "metadata": {},
   "outputs": [],
   "source": [
    "sc.pp.filter_cells(adata_iso,min_genes=10)"
   ]
  },
  {
   "cell_type": "code",
   "execution_count": 16,
   "id": "5c709367-dd20-4540-9e46-bdea8804fa7c",
   "metadata": {},
   "outputs": [
    {
     "data": {
      "text/plain": [
       "AnnData object with n_obs × n_vars = 2999 × 15247\n",
       "    obs: 'batch', 'n_genes'\n",
       "    var: 'isoform', 'chrom', 'strand', 'length', 'exons', 'structural_category', 'associated_gene', 'CDS_length', 'CDS_start', 'CDS_end', 'CDS_genomic_start', 'CDS_genomic_end', 'predicted_NMD', 'gene_name', 'n_cells'"
      ]
     },
     "execution_count": 16,
     "metadata": {},
     "output_type": "execute_result"
    }
   ],
   "source": [
    "adata_iso"
   ]
  },
  {
   "cell_type": "markdown",
   "id": "834cd442-d90f-49a5-8fec-83a1aef061c5",
   "metadata": {
    "tags": []
   },
   "source": [
    "### Generate gene-level adata"
   ]
  },
  {
   "cell_type": "code",
   "execution_count": 17,
   "id": "03196e31-532c-407e-bf5e-6ec3b612e9e6",
   "metadata": {},
   "outputs": [],
   "source": [
    "adata_gene=scc.generate_Gene_adata(adata_iso,var_name=\"gene_name\")"
   ]
  },
  {
   "cell_type": "code",
   "execution_count": 18,
   "id": "c05ec861-1577-4c37-b540-321a096e1236",
   "metadata": {},
   "outputs": [
    {
     "data": {
      "text/plain": [
       "AnnData object with n_obs × n_vars = 2999 × 9697\n",
       "    obs: 'batch', 'n_genes'"
      ]
     },
     "execution_count": 18,
     "metadata": {},
     "output_type": "execute_result"
    }
   ],
   "source": [
    "adata_gene"
   ]
  },
  {
   "cell_type": "code",
   "execution_count": 19,
   "id": "951b92ec-b664-4638-bac3-b12de816e6ed",
   "metadata": {},
   "outputs": [
    {
     "data": {
      "text/html": [
       "<div>\n",
       "<style scoped>\n",
       "    .dataframe tbody tr th:only-of-type {\n",
       "        vertical-align: middle;\n",
       "    }\n",
       "\n",
       "    .dataframe tbody tr th {\n",
       "        vertical-align: top;\n",
       "    }\n",
       "\n",
       "    .dataframe thead th {\n",
       "        text-align: right;\n",
       "    }\n",
       "</style>\n",
       "<table border=\"1\" class=\"dataframe\">\n",
       "  <thead>\n",
       "    <tr style=\"text-align: right;\">\n",
       "      <th></th>\n",
       "    </tr>\n",
       "    <tr>\n",
       "      <th>gene_name</th>\n",
       "    </tr>\n",
       "  </thead>\n",
       "  <tbody>\n",
       "    <tr>\n",
       "      <th>ACBD3</th>\n",
       "    </tr>\n",
       "    <tr>\n",
       "      <th>ADGRL2</th>\n",
       "    </tr>\n",
       "    <tr>\n",
       "      <th>AK6</th>\n",
       "    </tr>\n",
       "    <tr>\n",
       "      <th>AL732488.2</th>\n",
       "    </tr>\n",
       "    <tr>\n",
       "      <th>AL844518.1</th>\n",
       "    </tr>\n",
       "    <tr>\n",
       "      <th>...</th>\n",
       "    </tr>\n",
       "    <tr>\n",
       "      <th>zwilch</th>\n",
       "    </tr>\n",
       "    <tr>\n",
       "      <th>zyg11</th>\n",
       "    </tr>\n",
       "    <tr>\n",
       "      <th>zyx</th>\n",
       "    </tr>\n",
       "    <tr>\n",
       "      <th>zzef1</th>\n",
       "    </tr>\n",
       "    <tr>\n",
       "      <th>zzz3</th>\n",
       "    </tr>\n",
       "  </tbody>\n",
       "</table>\n",
       "<p>9697 rows × 0 columns</p>\n",
       "</div>"
      ],
      "text/plain": [
       "Empty DataFrame\n",
       "Columns: []\n",
       "Index: [ACBD3, ADGRL2, AK6, AL732488.2, AL844518.1, AL929017.1, AL929192.1, AL929217.1, AL929457.1, AL929536.5, AL935174.3, AL935174.6, AL954696.1, AL954741.2, AP1S2, APBA3, AREL1, ARF5, ARMC6, ASTE1, ATG14, ATG2A, BX005085.3, BX005085.4, BX005124.1, BX005228.2, BX005254.1, BX072577.1, BX085193.1, BX248324.1, BX248501.1, BX322530.1, BX323590.1, BX324007.2, BX465227.1, BX465228.1, BX465228.2, BX465862.3, BX470259.1, BX510940.1, BX511129.3, BX537263.2, BX537342.1, BX539307.3, BX546453.2, BX546499.1, BX548000.1, BX548044.2, BX569789.1, BX571960.2, BX572619.1, BX649250.2, BX649416.2, BX855614.1, BX908782.2, BX927327.1, BX936382.1, BX957276.1, C10H21orf91, C11H1orf50, C11H3orf14, C11H6orf120, C13H9orf72, C16H1orf43, C17H14orf28, C18H11orf58, C18H19orf12, C18H19orf47, C19H6orf62, C1H4orf33, C1H7orf26, C20H12orf57, C20H1orf112, C20H1orf198, C21H18orf25, C23H1orf52, C24H8orf44, C25H12orf29, C2H14orf119, C2H1orf35, C2H5orf22, C2H7orf25, C3H16orf72, C5H12orf65, C5H9orf78, C5H9orf85, C5HXorf56, C7H11orf68, C7H16orf87, C7H20orf27, C8H5orf51, C9H2orf49, C9H2orf76, CABP7, CABZ01005379.1, CABZ01020840.1, CABZ01021433.1, CABZ01034698.2, CABZ01044053.1, CABZ01044746.1, ...]\n",
       "\n",
       "[9697 rows x 0 columns]"
      ]
     },
     "execution_count": 19,
     "metadata": {},
     "output_type": "execute_result"
    }
   ],
   "source": [
    "adata_gene.var"
   ]
  },
  {
   "cell_type": "markdown",
   "id": "039fb546-b17b-44a9-9bf1-7a1129830ef2",
   "metadata": {},
   "source": [
    "### Generate IF-level adata"
   ]
  },
  {
   "cell_type": "code",
   "execution_count": 20,
   "id": "218c53a5-1b01-4540-9b52-57db5570a053",
   "metadata": {
    "tags": []
   },
   "outputs": [
    {
     "name": "stdout",
     "output_type": "stream",
     "text": [
      "Process successful for 0\n",
      "Process successful for 1000\n",
      "Process successful for 2000\n",
      "Process successful for 3000\n",
      "Process successful for 4000\n",
      "Process successful for 5000\n",
      "Process successful for 6000\n",
      "Process successful for 7000\n",
      "Process successful for 8000\n",
      "Process successful for 9000\n",
      "Process successful for 10000\n",
      "Process successful for 11000\n",
      "Process successful for 12000\n",
      "Process successful for 13000\n",
      "Process successful for 14000\n",
      "Process successful for 15000\n"
     ]
    }
   ],
   "source": [
    "adata_IF=scc.generate_IF_adata(adata_iso,var_name=\"gene_name\")"
   ]
  },
  {
   "cell_type": "code",
   "execution_count": 21,
   "id": "ad159c1b-28d4-4fd0-a41f-fd8164aa8b4d",
   "metadata": {},
   "outputs": [
    {
     "data": {
      "text/plain": [
       "AnnData object with n_obs × n_vars = 2999 × 15247\n",
       "    obs: 'batch', 'n_genes'\n",
       "    var: 'isoform', 'chrom', 'strand', 'length', 'exons', 'structural_category', 'associated_gene', 'CDS_length', 'CDS_start', 'CDS_end', 'CDS_genomic_start', 'CDS_genomic_end', 'predicted_NMD', 'gene_name', 'n_cells'"
      ]
     },
     "execution_count": 21,
     "metadata": {},
     "output_type": "execute_result"
    }
   ],
   "source": [
    "adata_IF"
   ]
  },
  {
   "cell_type": "markdown",
   "id": "b5977b67-97c6-4ed0-b3eb-fd832f9ab463",
   "metadata": {},
   "source": [
    "### Generate PSI-level adata"
   ]
  },
  {
   "cell_type": "code",
   "execution_count": 22,
   "id": "5e4035d3-c829-4c4e-9a1b-60cf5dee9aa2",
   "metadata": {},
   "outputs": [],
   "source": [
    "event_path=\"../test/input/event.ioe\""
   ]
  },
  {
   "cell_type": "code",
   "execution_count": 23,
   "id": "278b53e4-8f18-4267-b5bb-0cf9e55b5ac5",
   "metadata": {
    "collapsed": true,
    "jupyter": {
     "outputs_hidden": true
    },
    "tags": []
   },
   "outputs": [
    {
     "name": "stderr",
     "output_type": "stream",
     "text": [
      "/data/work/tools/scCyclone/read.py:113: SettingWithCopyWarning: \n",
      "A value is trying to be set on a copy of a slice from a DataFrame.\n",
      "Try using .loc[row_indexer,col_indexer] = value instead\n",
      "\n",
      "See the caveats in the documentation: https://pandas.pydata.org/pandas-docs/stable/user_guide/indexing.html#returning-a-view-versus-a-copy\n",
      "  df_subset[column] = alternative_transcripts_number / total_transcripts_number\n",
      "/usr/local/lib/python3.8/site-packages/anndata/_core/anndata.py:1840: UserWarning: Variable names are not unique. To make them unique, call `.var_names_make_unique`.\n",
      "  utils.warn_names_duplicates(\"var\")\n"
     ]
    }
   ],
   "source": [
    "adata_psi=scc.generate_PSI_adata(adata_iso,event_path)"
   ]
  },
  {
   "cell_type": "code",
   "execution_count": 24,
   "id": "75be0a03-e241-4902-92e0-de236ac9e07a",
   "metadata": {},
   "outputs": [
    {
     "data": {
      "text/plain": [
       "AnnData object with n_obs × n_vars = 2999 × 20963\n",
       "    obs: 'batch', 'n_genes'\n",
       "    var: 'gene_id', 'type', 'alternative_transcripts', 'total_transcripts'"
      ]
     },
     "execution_count": 24,
     "metadata": {},
     "output_type": "execute_result"
    }
   ],
   "source": [
    "adata_psi"
   ]
  },
  {
   "cell_type": "code",
   "execution_count": 26,
   "id": "4e80c832-471d-492d-9925-6ec04c1f2897",
   "metadata": {},
   "outputs": [
    {
     "data": {
      "text/html": [
       "<div>\n",
       "<style scoped>\n",
       "    .dataframe tbody tr th:only-of-type {\n",
       "        vertical-align: middle;\n",
       "    }\n",
       "\n",
       "    .dataframe tbody tr th {\n",
       "        vertical-align: top;\n",
       "    }\n",
       "\n",
       "    .dataframe thead th {\n",
       "        text-align: right;\n",
       "    }\n",
       "</style>\n",
       "<table border=\"1\" class=\"dataframe\">\n",
       "  <thead>\n",
       "    <tr style=\"text-align: right;\">\n",
       "      <th></th>\n",
       "      <th>gene_id</th>\n",
       "      <th>type</th>\n",
       "      <th>alternative_transcripts</th>\n",
       "      <th>total_transcripts</th>\n",
       "    </tr>\n",
       "  </thead>\n",
       "  <tbody>\n",
       "    <tr>\n",
       "      <th>ENSDARG00000103929;A3:1:45550-45788:45524-45788:-</th>\n",
       "      <td>ENSDARG00000103929</td>\n",
       "      <td>A3</td>\n",
       "      <td>ENSDART00000168428</td>\n",
       "      <td>ENSDART00000168428,transcript2315.1.nnic</td>\n",
       "    </tr>\n",
       "    <tr>\n",
       "      <th>ENSDARG00000103929;A3:1:48584-48890:48576-48890:-</th>\n",
       "      <td>ENSDARG00000103929</td>\n",
       "      <td>A3</td>\n",
       "      <td>ENSDART00000168428,transcript1465.1.nnic,trans...</td>\n",
       "      <td>ENSDART00000168428,transcript1465.1.nnic,ENSDA...</td>\n",
       "    </tr>\n",
       "    <tr>\n",
       "      <th>ENSDARG00000103929;A3:1:48584-48890:48564-48890:-</th>\n",
       "      <td>ENSDARG00000103929</td>\n",
       "      <td>A3</td>\n",
       "      <td>ENSDART00000168428,transcript1465.1.nnic,trans...</td>\n",
       "      <td>ENSDART00000168428,ENSDART00000161565,transcri...</td>\n",
       "    </tr>\n",
       "    <tr>\n",
       "      <th>ENSDARG00000103929;A3:1:46371-47421:45550-47421:-</th>\n",
       "      <td>ENSDARG00000103929</td>\n",
       "      <td>A3</td>\n",
       "      <td>transcript1471.1.nic</td>\n",
       "      <td>transcript1465.1.nnic,transcript1471.1.nic</td>\n",
       "    </tr>\n",
       "    <tr>\n",
       "      <th>ENSDARG00000103929;A3:1:48576-48890:48564-48890:-</th>\n",
       "      <td>ENSDARG00000103929</td>\n",
       "      <td>A3</td>\n",
       "      <td>ENSDART00000171162</td>\n",
       "      <td>ENSDART00000161565,ENSDART00000171162</td>\n",
       "    </tr>\n",
       "    <tr>\n",
       "      <th>...</th>\n",
       "      <td>...</td>\n",
       "      <td>...</td>\n",
       "      <td>...</td>\n",
       "      <td>...</td>\n",
       "    </tr>\n",
       "    <tr>\n",
       "      <th>ENSDARG00000097236;SE:25:35351925-35355335:35355372-35358145:-</th>\n",
       "      <td>ENSDARG00000097236</td>\n",
       "      <td>SE</td>\n",
       "      <td>ENSDART00000171917</td>\n",
       "      <td>transcript42417.25.nnic,ENSDART00000154053,ENS...</td>\n",
       "    </tr>\n",
       "    <tr>\n",
       "      <th>ENSDARG00000045554;SE:25:35960453-35961063:35961134-35963130:-</th>\n",
       "      <td>ENSDARG00000045554</td>\n",
       "      <td>SE</td>\n",
       "      <td>ENSDART00000153612,ENSDART00000157334</td>\n",
       "      <td>ENSDART00000153919,ENSDART00000153612,ENSDART0...</td>\n",
       "    </tr>\n",
       "    <tr>\n",
       "      <th>ENSDARG00000045636;SE:25:36031526-36031618:36031746-36040206:-</th>\n",
       "      <td>ENSDARG00000045636</td>\n",
       "      <td>SE</td>\n",
       "      <td>ENSDART00000073432</td>\n",
       "      <td>ENSDART00000073432,ENSDART00000182207</td>\n",
       "    </tr>\n",
       "    <tr>\n",
       "      <th>ENSDARG00000061282;SE:25:37223601-37223741:37223842-37224165:-</th>\n",
       "      <td>ENSDARG00000061282</td>\n",
       "      <td>SE</td>\n",
       "      <td>ENSDART00000087247,ENSDART00000156647</td>\n",
       "      <td>ENSDART00000087247,ENSDART00000154045,ENSDART0...</td>\n",
       "    </tr>\n",
       "    <tr>\n",
       "      <th>ENSDARG00000061282;SE:25:37229695-37230573:37230611-37230697:-</th>\n",
       "      <td>ENSDARG00000061282</td>\n",
       "      <td>SE</td>\n",
       "      <td>ENSDART00000154045</td>\n",
       "      <td>ENSDART00000087247,ENSDART00000154045</td>\n",
       "    </tr>\n",
       "  </tbody>\n",
       "</table>\n",
       "<p>20963 rows × 4 columns</p>\n",
       "</div>"
      ],
      "text/plain": [
       "                                                               gene_id type  \\\n",
       "ENSDARG00000103929;A3:1:45550-45788:45524-45788:-   ENSDARG00000103929   A3   \n",
       "ENSDARG00000103929;A3:1:48584-48890:48576-48890:-   ENSDARG00000103929   A3   \n",
       "ENSDARG00000103929;A3:1:48584-48890:48564-48890:-   ENSDARG00000103929   A3   \n",
       "ENSDARG00000103929;A3:1:46371-47421:45550-47421:-   ENSDARG00000103929   A3   \n",
       "ENSDARG00000103929;A3:1:48576-48890:48564-48890:-   ENSDARG00000103929   A3   \n",
       "...                                                                ...  ...   \n",
       "ENSDARG00000097236;SE:25:35351925-35355335:3535...  ENSDARG00000097236   SE   \n",
       "ENSDARG00000045554;SE:25:35960453-35961063:3596...  ENSDARG00000045554   SE   \n",
       "ENSDARG00000045636;SE:25:36031526-36031618:3603...  ENSDARG00000045636   SE   \n",
       "ENSDARG00000061282;SE:25:37223601-37223741:3722...  ENSDARG00000061282   SE   \n",
       "ENSDARG00000061282;SE:25:37229695-37230573:3723...  ENSDARG00000061282   SE   \n",
       "\n",
       "                                                                              alternative_transcripts  \\\n",
       "ENSDARG00000103929;A3:1:45550-45788:45524-45788:-                                  ENSDART00000168428   \n",
       "ENSDARG00000103929;A3:1:48584-48890:48576-48890:-   ENSDART00000168428,transcript1465.1.nnic,trans...   \n",
       "ENSDARG00000103929;A3:1:48584-48890:48564-48890:-   ENSDART00000168428,transcript1465.1.nnic,trans...   \n",
       "ENSDARG00000103929;A3:1:46371-47421:45550-47421:-                                transcript1471.1.nic   \n",
       "ENSDARG00000103929;A3:1:48576-48890:48564-48890:-                                  ENSDART00000171162   \n",
       "...                                                                                               ...   \n",
       "ENSDARG00000097236;SE:25:35351925-35355335:3535...                                 ENSDART00000171917   \n",
       "ENSDARG00000045554;SE:25:35960453-35961063:3596...              ENSDART00000153612,ENSDART00000157334   \n",
       "ENSDARG00000045636;SE:25:36031526-36031618:3603...                                 ENSDART00000073432   \n",
       "ENSDARG00000061282;SE:25:37223601-37223741:3722...              ENSDART00000087247,ENSDART00000156647   \n",
       "ENSDARG00000061282;SE:25:37229695-37230573:3723...                                 ENSDART00000154045   \n",
       "\n",
       "                                                                                    total_transcripts  \n",
       "ENSDARG00000103929;A3:1:45550-45788:45524-45788:-            ENSDART00000168428,transcript2315.1.nnic  \n",
       "ENSDARG00000103929;A3:1:48584-48890:48576-48890:-   ENSDART00000168428,transcript1465.1.nnic,ENSDA...  \n",
       "ENSDARG00000103929;A3:1:48584-48890:48564-48890:-   ENSDART00000168428,ENSDART00000161565,transcri...  \n",
       "ENSDARG00000103929;A3:1:46371-47421:45550-47421:-          transcript1465.1.nnic,transcript1471.1.nic  \n",
       "ENSDARG00000103929;A3:1:48576-48890:48564-48890:-               ENSDART00000161565,ENSDART00000171162  \n",
       "...                                                                                               ...  \n",
       "ENSDARG00000097236;SE:25:35351925-35355335:3535...  transcript42417.25.nnic,ENSDART00000154053,ENS...  \n",
       "ENSDARG00000045554;SE:25:35960453-35961063:3596...  ENSDART00000153919,ENSDART00000153612,ENSDART0...  \n",
       "ENSDARG00000045636;SE:25:36031526-36031618:3603...              ENSDART00000073432,ENSDART00000182207  \n",
       "ENSDARG00000061282;SE:25:37223601-37223741:3722...  ENSDART00000087247,ENSDART00000154045,ENSDART0...  \n",
       "ENSDARG00000061282;SE:25:37229695-37230573:3723...              ENSDART00000087247,ENSDART00000154045  \n",
       "\n",
       "[20963 rows x 4 columns]"
      ]
     },
     "execution_count": 26,
     "metadata": {},
     "output_type": "execute_result"
    }
   ],
   "source": [
    "adata_psi.var"
   ]
  },
  {
   "cell_type": "markdown",
   "id": "160fab80-eed1-4f65-ad0e-dfaf29d7d952",
   "metadata": {
    "tags": []
   },
   "source": [
    "## DTU analysis"
   ]
  },
  {
   "cell_type": "code",
   "execution_count": 27,
   "id": "4f883f0e-c09a-4cce-85cb-c90e356ac9e5",
   "metadata": {},
   "outputs": [
    {
     "data": {
      "text/plain": [
       "AnnData object with n_obs × n_vars = 2999 × 15247\n",
       "    obs: 'batch', 'n_genes'\n",
       "    var: 'isoform', 'chrom', 'strand', 'length', 'exons', 'structural_category', 'associated_gene', 'CDS_length', 'CDS_start', 'CDS_end', 'CDS_genomic_start', 'CDS_genomic_end', 'predicted_NMD', 'gene_name', 'n_cells'"
      ]
     },
     "execution_count": 27,
     "metadata": {},
     "output_type": "execute_result"
    }
   ],
   "source": [
    "adata_iso"
   ]
  },
  {
   "cell_type": "code",
   "execution_count": 28,
   "id": "513e3802-45c3-4922-87a0-9401d66c3ac5",
   "metadata": {},
   "outputs": [],
   "source": [
    "import random\n",
    "\n",
    "categories = ['A', 'B']\n",
    "\n",
    "num_samples = adata_iso.shape[0]\n",
    "random_categories = [random.choice(categories) for _ in range(num_samples)]"
   ]
  },
  {
   "cell_type": "code",
   "execution_count": 29,
   "id": "9e14ac11-56e6-41c4-9628-e9c964ee79dc",
   "metadata": {},
   "outputs": [],
   "source": [
    "adata_iso.obs['label'] = random_categories\n",
    "adata_iso.obs['label'] = adata_iso.obs['label'].astype(\"category\")"
   ]
  },
  {
   "cell_type": "code",
   "execution_count": 30,
   "id": "a0db6bb5-5774-484d-9efd-08d3c95d2609",
   "metadata": {
    "collapsed": true,
    "jupyter": {
     "outputs_hidden": true
    },
    "tags": []
   },
   "outputs": [
    {
     "name": "stderr",
     "output_type": "stream",
     "text": [
      "/usr/local/lib/python3.8/site-packages/scanpy/preprocessing/_simple.py:251: ImplicitModificationWarning: Trying to modify attribute `.var` of view, initializing view as actual.\n",
      "  adata.var['n_cells'] = number\n"
     ]
    },
    {
     "name": "stdout",
     "output_type": "stream",
     "text": [
      "Group A start!\n",
      "Generate IF matrix...\n",
      "Generate rank matrix...\n"
     ]
    },
    {
     "name": "stderr",
     "output_type": "stream",
     "text": [
      "/data/work/tools/scCyclone/tools/_rank_ifs_groups.py:251: FutureWarning: In a future version of pandas all arguments of concat except for the argument 'objs' will be keyword-only.\n",
      "  data_rank = pd.concat(data_rank_list, 0)\n",
      "/data/work/tools/scCyclone/tools/_rank_ifs_groups.py:251: FutureWarning: In a future version of pandas all arguments of concat except for the argument 'objs' will be keyword-only.\n",
      "  data_rank = pd.concat(data_rank_list, 0)\n"
     ]
    },
    {
     "name": "stdout",
     "output_type": "stream",
     "text": [
      "Generate IF adata...\n",
      "Process successful for 0\n"
     ]
    },
    {
     "name": "stderr",
     "output_type": "stream",
     "text": [
      "/data/work/tools/scCyclone/tools/_rank_ifs_groups.py:198: PerformanceWarning: DataFrame is highly fragmented.  This is usually the result of calling `frame.insert` many times, which has poor performance.  Consider joining all columns at once using pd.concat(axis=1) instead. To get a de-fragmented frame, use `newframe = frame.copy()`\n",
      "  data_IF[j] = list(sub_data / sub_gene)\n",
      "/data/work/tools/scCyclone/tools/_rank_ifs_groups.py:198: PerformanceWarning: DataFrame is highly fragmented.  This is usually the result of calling `frame.insert` many times, which has poor performance.  Consider joining all columns at once using pd.concat(axis=1) instead. To get a de-fragmented frame, use `newframe = frame.copy()`\n",
      "  data_IF[j] = list(sub_data / sub_gene)\n",
      "/data/work/tools/scCyclone/tools/_rank_ifs_groups.py:198: PerformanceWarning: DataFrame is highly fragmented.  This is usually the result of calling `frame.insert` many times, which has poor performance.  Consider joining all columns at once using pd.concat(axis=1) instead. To get a de-fragmented frame, use `newframe = frame.copy()`\n",
      "  data_IF[j] = list(sub_data / sub_gene)\n",
      "/data/work/tools/scCyclone/tools/_rank_ifs_groups.py:198: PerformanceWarning: DataFrame is highly fragmented.  This is usually the result of calling `frame.insert` many times, which has poor performance.  Consider joining all columns at once using pd.concat(axis=1) instead. To get a de-fragmented frame, use `newframe = frame.copy()`\n",
      "  data_IF[j] = list(sub_data / sub_gene)\n",
      "/data/work/tools/scCyclone/tools/_rank_ifs_groups.py:198: PerformanceWarning: DataFrame is highly fragmented.  This is usually the result of calling `frame.insert` many times, which has poor performance.  Consider joining all columns at once using pd.concat(axis=1) instead. To get a de-fragmented frame, use `newframe = frame.copy()`\n",
      "  data_IF[j] = list(sub_data / sub_gene)\n",
      "/data/work/tools/scCyclone/tools/_rank_ifs_groups.py:198: PerformanceWarning: DataFrame is highly fragmented.  This is usually the result of calling `frame.insert` many times, which has poor performance.  Consider joining all columns at once using pd.concat(axis=1) instead. To get a de-fragmented frame, use `newframe = frame.copy()`\n",
      "  data_IF[j] = list(sub_data / sub_gene)\n",
      "/data/work/tools/scCyclone/tools/_rank_ifs_groups.py:198: PerformanceWarning: DataFrame is highly fragmented.  This is usually the result of calling `frame.insert` many times, which has poor performance.  Consider joining all columns at once using pd.concat(axis=1) instead. To get a de-fragmented frame, use `newframe = frame.copy()`\n",
      "  data_IF[j] = list(sub_data / sub_gene)\n",
      "/data/work/tools/scCyclone/tools/_rank_ifs_groups.py:198: PerformanceWarning: DataFrame is highly fragmented.  This is usually the result of calling `frame.insert` many times, which has poor performance.  Consider joining all columns at once using pd.concat(axis=1) instead. To get a de-fragmented frame, use `newframe = frame.copy()`\n",
      "  data_IF[j] = list(sub_data / sub_gene)\n",
      "/data/work/tools/scCyclone/tools/_rank_ifs_groups.py:198: PerformanceWarning: DataFrame is highly fragmented.  This is usually the result of calling `frame.insert` many times, which has poor performance.  Consider joining all columns at once using pd.concat(axis=1) instead. To get a de-fragmented frame, use `newframe = frame.copy()`\n",
      "  data_IF[j] = list(sub_data / sub_gene)\n",
      "/data/work/tools/scCyclone/tools/_rank_ifs_groups.py:198: PerformanceWarning: DataFrame is highly fragmented.  This is usually the result of calling `frame.insert` many times, which has poor performance.  Consider joining all columns at once using pd.concat(axis=1) instead. To get a de-fragmented frame, use `newframe = frame.copy()`\n",
      "  data_IF[j] = list(sub_data / sub_gene)\n",
      "/data/work/tools/scCyclone/tools/_rank_ifs_groups.py:198: PerformanceWarning: DataFrame is highly fragmented.  This is usually the result of calling `frame.insert` many times, which has poor performance.  Consider joining all columns at once using pd.concat(axis=1) instead. To get a de-fragmented frame, use `newframe = frame.copy()`\n",
      "  data_IF[j] = list(sub_data / sub_gene)\n",
      "/data/work/tools/scCyclone/tools/_rank_ifs_groups.py:198: PerformanceWarning: DataFrame is highly fragmented.  This is usually the result of calling `frame.insert` many times, which has poor performance.  Consider joining all columns at once using pd.concat(axis=1) instead. To get a de-fragmented frame, use `newframe = frame.copy()`\n",
      "  data_IF[j] = list(sub_data / sub_gene)\n",
      "/data/work/tools/scCyclone/tools/_rank_ifs_groups.py:198: PerformanceWarning: DataFrame is highly fragmented.  This is usually the result of calling `frame.insert` many times, which has poor performance.  Consider joining all columns at once using pd.concat(axis=1) instead. To get a de-fragmented frame, use `newframe = frame.copy()`\n",
      "  data_IF[j] = list(sub_data / sub_gene)\n",
      "/data/work/tools/scCyclone/tools/_rank_ifs_groups.py:198: PerformanceWarning: DataFrame is highly fragmented.  This is usually the result of calling `frame.insert` many times, which has poor performance.  Consider joining all columns at once using pd.concat(axis=1) instead. To get a de-fragmented frame, use `newframe = frame.copy()`\n",
      "  data_IF[j] = list(sub_data / sub_gene)\n",
      "/data/work/tools/scCyclone/tools/_rank_ifs_groups.py:198: PerformanceWarning: DataFrame is highly fragmented.  This is usually the result of calling `frame.insert` many times, which has poor performance.  Consider joining all columns at once using pd.concat(axis=1) instead. To get a de-fragmented frame, use `newframe = frame.copy()`\n",
      "  data_IF[j] = list(sub_data / sub_gene)\n",
      "/data/work/tools/scCyclone/tools/_rank_ifs_groups.py:198: PerformanceWarning: DataFrame is highly fragmented.  This is usually the result of calling `frame.insert` many times, which has poor performance.  Consider joining all columns at once using pd.concat(axis=1) instead. To get a de-fragmented frame, use `newframe = frame.copy()`\n",
      "  data_IF[j] = list(sub_data / sub_gene)\n",
      "/data/work/tools/scCyclone/tools/_rank_ifs_groups.py:198: PerformanceWarning: DataFrame is highly fragmented.  This is usually the result of calling `frame.insert` many times, which has poor performance.  Consider joining all columns at once using pd.concat(axis=1) instead. To get a de-fragmented frame, use `newframe = frame.copy()`\n",
      "  data_IF[j] = list(sub_data / sub_gene)\n",
      "/data/work/tools/scCyclone/tools/_rank_ifs_groups.py:198: PerformanceWarning: DataFrame is highly fragmented.  This is usually the result of calling `frame.insert` many times, which has poor performance.  Consider joining all columns at once using pd.concat(axis=1) instead. To get a de-fragmented frame, use `newframe = frame.copy()`\n",
      "  data_IF[j] = list(sub_data / sub_gene)\n",
      "/data/work/tools/scCyclone/tools/_rank_ifs_groups.py:198: PerformanceWarning: DataFrame is highly fragmented.  This is usually the result of calling `frame.insert` many times, which has poor performance.  Consider joining all columns at once using pd.concat(axis=1) instead. To get a de-fragmented frame, use `newframe = frame.copy()`\n",
      "  data_IF[j] = list(sub_data / sub_gene)\n",
      "/data/work/tools/scCyclone/tools/_rank_ifs_groups.py:198: PerformanceWarning: DataFrame is highly fragmented.  This is usually the result of calling `frame.insert` many times, which has poor performance.  Consider joining all columns at once using pd.concat(axis=1) instead. To get a de-fragmented frame, use `newframe = frame.copy()`\n",
      "  data_IF[j] = list(sub_data / sub_gene)\n",
      "/data/work/tools/scCyclone/tools/_rank_ifs_groups.py:198: PerformanceWarning: DataFrame is highly fragmented.  This is usually the result of calling `frame.insert` many times, which has poor performance.  Consider joining all columns at once using pd.concat(axis=1) instead. To get a de-fragmented frame, use `newframe = frame.copy()`\n",
      "  data_IF[j] = list(sub_data / sub_gene)\n",
      "/data/work/tools/scCyclone/tools/_rank_ifs_groups.py:198: PerformanceWarning: DataFrame is highly fragmented.  This is usually the result of calling `frame.insert` many times, which has poor performance.  Consider joining all columns at once using pd.concat(axis=1) instead. To get a de-fragmented frame, use `newframe = frame.copy()`\n",
      "  data_IF[j] = list(sub_data / sub_gene)\n",
      "/data/work/tools/scCyclone/tools/_rank_ifs_groups.py:198: PerformanceWarning: DataFrame is highly fragmented.  This is usually the result of calling `frame.insert` many times, which has poor performance.  Consider joining all columns at once using pd.concat(axis=1) instead. To get a de-fragmented frame, use `newframe = frame.copy()`\n",
      "  data_IF[j] = list(sub_data / sub_gene)\n",
      "/data/work/tools/scCyclone/tools/_rank_ifs_groups.py:198: PerformanceWarning: DataFrame is highly fragmented.  This is usually the result of calling `frame.insert` many times, which has poor performance.  Consider joining all columns at once using pd.concat(axis=1) instead. To get a de-fragmented frame, use `newframe = frame.copy()`\n",
      "  data_IF[j] = list(sub_data / sub_gene)\n",
      "/data/work/tools/scCyclone/tools/_rank_ifs_groups.py:198: PerformanceWarning: DataFrame is highly fragmented.  This is usually the result of calling `frame.insert` many times, which has poor performance.  Consider joining all columns at once using pd.concat(axis=1) instead. To get a de-fragmented frame, use `newframe = frame.copy()`\n",
      "  data_IF[j] = list(sub_data / sub_gene)\n",
      "/data/work/tools/scCyclone/tools/_rank_ifs_groups.py:198: PerformanceWarning: DataFrame is highly fragmented.  This is usually the result of calling `frame.insert` many times, which has poor performance.  Consider joining all columns at once using pd.concat(axis=1) instead. To get a de-fragmented frame, use `newframe = frame.copy()`\n",
      "  data_IF[j] = list(sub_data / sub_gene)\n",
      "/data/work/tools/scCyclone/tools/_rank_ifs_groups.py:198: PerformanceWarning: DataFrame is highly fragmented.  This is usually the result of calling `frame.insert` many times, which has poor performance.  Consider joining all columns at once using pd.concat(axis=1) instead. To get a de-fragmented frame, use `newframe = frame.copy()`\n",
      "  data_IF[j] = list(sub_data / sub_gene)\n",
      "/data/work/tools/scCyclone/tools/_rank_ifs_groups.py:198: PerformanceWarning: DataFrame is highly fragmented.  This is usually the result of calling `frame.insert` many times, which has poor performance.  Consider joining all columns at once using pd.concat(axis=1) instead. To get a de-fragmented frame, use `newframe = frame.copy()`\n",
      "  data_IF[j] = list(sub_data / sub_gene)\n",
      "/data/work/tools/scCyclone/tools/_rank_ifs_groups.py:198: PerformanceWarning: DataFrame is highly fragmented.  This is usually the result of calling `frame.insert` many times, which has poor performance.  Consider joining all columns at once using pd.concat(axis=1) instead. To get a de-fragmented frame, use `newframe = frame.copy()`\n",
      "  data_IF[j] = list(sub_data / sub_gene)\n",
      "/data/work/tools/scCyclone/tools/_rank_ifs_groups.py:198: PerformanceWarning: DataFrame is highly fragmented.  This is usually the result of calling `frame.insert` many times, which has poor performance.  Consider joining all columns at once using pd.concat(axis=1) instead. To get a de-fragmented frame, use `newframe = frame.copy()`\n",
      "  data_IF[j] = list(sub_data / sub_gene)\n",
      "/data/work/tools/scCyclone/tools/_rank_ifs_groups.py:198: PerformanceWarning: DataFrame is highly fragmented.  This is usually the result of calling `frame.insert` many times, which has poor performance.  Consider joining all columns at once using pd.concat(axis=1) instead. To get a de-fragmented frame, use `newframe = frame.copy()`\n",
      "  data_IF[j] = list(sub_data / sub_gene)\n",
      "/data/work/tools/scCyclone/tools/_rank_ifs_groups.py:198: PerformanceWarning: DataFrame is highly fragmented.  This is usually the result of calling `frame.insert` many times, which has poor performance.  Consider joining all columns at once using pd.concat(axis=1) instead. To get a de-fragmented frame, use `newframe = frame.copy()`\n",
      "  data_IF[j] = list(sub_data / sub_gene)\n",
      "/data/work/tools/scCyclone/tools/_rank_ifs_groups.py:198: PerformanceWarning: DataFrame is highly fragmented.  This is usually the result of calling `frame.insert` many times, which has poor performance.  Consider joining all columns at once using pd.concat(axis=1) instead. To get a de-fragmented frame, use `newframe = frame.copy()`\n",
      "  data_IF[j] = list(sub_data / sub_gene)\n",
      "/data/work/tools/scCyclone/tools/_rank_ifs_groups.py:198: PerformanceWarning: DataFrame is highly fragmented.  This is usually the result of calling `frame.insert` many times, which has poor performance.  Consider joining all columns at once using pd.concat(axis=1) instead. To get a de-fragmented frame, use `newframe = frame.copy()`\n",
      "  data_IF[j] = list(sub_data / sub_gene)\n",
      "/data/work/tools/scCyclone/tools/_rank_ifs_groups.py:198: PerformanceWarning: DataFrame is highly fragmented.  This is usually the result of calling `frame.insert` many times, which has poor performance.  Consider joining all columns at once using pd.concat(axis=1) instead. To get a de-fragmented frame, use `newframe = frame.copy()`\n",
      "  data_IF[j] = list(sub_data / sub_gene)\n",
      "/data/work/tools/scCyclone/tools/_rank_ifs_groups.py:198: PerformanceWarning: DataFrame is highly fragmented.  This is usually the result of calling `frame.insert` many times, which has poor performance.  Consider joining all columns at once using pd.concat(axis=1) instead. To get a de-fragmented frame, use `newframe = frame.copy()`\n",
      "  data_IF[j] = list(sub_data / sub_gene)\n",
      "/data/work/tools/scCyclone/tools/_rank_ifs_groups.py:198: PerformanceWarning: DataFrame is highly fragmented.  This is usually the result of calling `frame.insert` many times, which has poor performance.  Consider joining all columns at once using pd.concat(axis=1) instead. To get a de-fragmented frame, use `newframe = frame.copy()`\n",
      "  data_IF[j] = list(sub_data / sub_gene)\n",
      "/data/work/tools/scCyclone/tools/_rank_ifs_groups.py:198: PerformanceWarning: DataFrame is highly fragmented.  This is usually the result of calling `frame.insert` many times, which has poor performance.  Consider joining all columns at once using pd.concat(axis=1) instead. To get a de-fragmented frame, use `newframe = frame.copy()`\n",
      "  data_IF[j] = list(sub_data / sub_gene)\n",
      "/data/work/tools/scCyclone/tools/_rank_ifs_groups.py:198: PerformanceWarning: DataFrame is highly fragmented.  This is usually the result of calling `frame.insert` many times, which has poor performance.  Consider joining all columns at once using pd.concat(axis=1) instead. To get a de-fragmented frame, use `newframe = frame.copy()`\n",
      "  data_IF[j] = list(sub_data / sub_gene)\n",
      "/data/work/tools/scCyclone/tools/_rank_ifs_groups.py:198: PerformanceWarning: DataFrame is highly fragmented.  This is usually the result of calling `frame.insert` many times, which has poor performance.  Consider joining all columns at once using pd.concat(axis=1) instead. To get a de-fragmented frame, use `newframe = frame.copy()`\n",
      "  data_IF[j] = list(sub_data / sub_gene)\n",
      "/data/work/tools/scCyclone/tools/_rank_ifs_groups.py:198: PerformanceWarning: DataFrame is highly fragmented.  This is usually the result of calling `frame.insert` many times, which has poor performance.  Consider joining all columns at once using pd.concat(axis=1) instead. To get a de-fragmented frame, use `newframe = frame.copy()`\n",
      "  data_IF[j] = list(sub_data / sub_gene)\n",
      "/data/work/tools/scCyclone/tools/_rank_ifs_groups.py:198: PerformanceWarning: DataFrame is highly fragmented.  This is usually the result of calling `frame.insert` many times, which has poor performance.  Consider joining all columns at once using pd.concat(axis=1) instead. To get a de-fragmented frame, use `newframe = frame.copy()`\n",
      "  data_IF[j] = list(sub_data / sub_gene)\n",
      "/data/work/tools/scCyclone/tools/_rank_ifs_groups.py:198: PerformanceWarning: DataFrame is highly fragmented.  This is usually the result of calling `frame.insert` many times, which has poor performance.  Consider joining all columns at once using pd.concat(axis=1) instead. To get a de-fragmented frame, use `newframe = frame.copy()`\n",
      "  data_IF[j] = list(sub_data / sub_gene)\n",
      "/data/work/tools/scCyclone/tools/_rank_ifs_groups.py:198: PerformanceWarning: DataFrame is highly fragmented.  This is usually the result of calling `frame.insert` many times, which has poor performance.  Consider joining all columns at once using pd.concat(axis=1) instead. To get a de-fragmented frame, use `newframe = frame.copy()`\n",
      "  data_IF[j] = list(sub_data / sub_gene)\n",
      "/data/work/tools/scCyclone/tools/_rank_ifs_groups.py:198: PerformanceWarning: DataFrame is highly fragmented.  This is usually the result of calling `frame.insert` many times, which has poor performance.  Consider joining all columns at once using pd.concat(axis=1) instead. To get a de-fragmented frame, use `newframe = frame.copy()`\n",
      "  data_IF[j] = list(sub_data / sub_gene)\n",
      "/data/work/tools/scCyclone/tools/_rank_ifs_groups.py:198: PerformanceWarning: DataFrame is highly fragmented.  This is usually the result of calling `frame.insert` many times, which has poor performance.  Consider joining all columns at once using pd.concat(axis=1) instead. To get a de-fragmented frame, use `newframe = frame.copy()`\n",
      "  data_IF[j] = list(sub_data / sub_gene)\n",
      "/data/work/tools/scCyclone/tools/_rank_ifs_groups.py:198: PerformanceWarning: DataFrame is highly fragmented.  This is usually the result of calling `frame.insert` many times, which has poor performance.  Consider joining all columns at once using pd.concat(axis=1) instead. To get a de-fragmented frame, use `newframe = frame.copy()`\n",
      "  data_IF[j] = list(sub_data / sub_gene)\n",
      "/data/work/tools/scCyclone/tools/_rank_ifs_groups.py:198: PerformanceWarning: DataFrame is highly fragmented.  This is usually the result of calling `frame.insert` many times, which has poor performance.  Consider joining all columns at once using pd.concat(axis=1) instead. To get a de-fragmented frame, use `newframe = frame.copy()`\n",
      "  data_IF[j] = list(sub_data / sub_gene)\n",
      "/data/work/tools/scCyclone/tools/_rank_ifs_groups.py:198: PerformanceWarning: DataFrame is highly fragmented.  This is usually the result of calling `frame.insert` many times, which has poor performance.  Consider joining all columns at once using pd.concat(axis=1) instead. To get a de-fragmented frame, use `newframe = frame.copy()`\n",
      "  data_IF[j] = list(sub_data / sub_gene)\n",
      "/data/work/tools/scCyclone/tools/_rank_ifs_groups.py:198: PerformanceWarning: DataFrame is highly fragmented.  This is usually the result of calling `frame.insert` many times, which has poor performance.  Consider joining all columns at once using pd.concat(axis=1) instead. To get a de-fragmented frame, use `newframe = frame.copy()`\n",
      "  data_IF[j] = list(sub_data / sub_gene)\n",
      "/data/work/tools/scCyclone/tools/_rank_ifs_groups.py:198: PerformanceWarning: DataFrame is highly fragmented.  This is usually the result of calling `frame.insert` many times, which has poor performance.  Consider joining all columns at once using pd.concat(axis=1) instead. To get a de-fragmented frame, use `newframe = frame.copy()`\n",
      "  data_IF[j] = list(sub_data / sub_gene)\n",
      "/data/work/tools/scCyclone/tools/_rank_ifs_groups.py:198: PerformanceWarning: DataFrame is highly fragmented.  This is usually the result of calling `frame.insert` many times, which has poor performance.  Consider joining all columns at once using pd.concat(axis=1) instead. To get a de-fragmented frame, use `newframe = frame.copy()`\n",
      "  data_IF[j] = list(sub_data / sub_gene)\n",
      "/data/work/tools/scCyclone/tools/_rank_ifs_groups.py:198: PerformanceWarning: DataFrame is highly fragmented.  This is usually the result of calling `frame.insert` many times, which has poor performance.  Consider joining all columns at once using pd.concat(axis=1) instead. To get a de-fragmented frame, use `newframe = frame.copy()`\n",
      "  data_IF[j] = list(sub_data / sub_gene)\n",
      "/data/work/tools/scCyclone/tools/_rank_ifs_groups.py:198: PerformanceWarning: DataFrame is highly fragmented.  This is usually the result of calling `frame.insert` many times, which has poor performance.  Consider joining all columns at once using pd.concat(axis=1) instead. To get a de-fragmented frame, use `newframe = frame.copy()`\n",
      "  data_IF[j] = list(sub_data / sub_gene)\n",
      "/data/work/tools/scCyclone/tools/_rank_ifs_groups.py:198: PerformanceWarning: DataFrame is highly fragmented.  This is usually the result of calling `frame.insert` many times, which has poor performance.  Consider joining all columns at once using pd.concat(axis=1) instead. To get a de-fragmented frame, use `newframe = frame.copy()`\n",
      "  data_IF[j] = list(sub_data / sub_gene)\n",
      "/data/work/tools/scCyclone/tools/_rank_ifs_groups.py:198: PerformanceWarning: DataFrame is highly fragmented.  This is usually the result of calling `frame.insert` many times, which has poor performance.  Consider joining all columns at once using pd.concat(axis=1) instead. To get a de-fragmented frame, use `newframe = frame.copy()`\n",
      "  data_IF[j] = list(sub_data / sub_gene)\n",
      "/data/work/tools/scCyclone/tools/_rank_ifs_groups.py:198: PerformanceWarning: DataFrame is highly fragmented.  This is usually the result of calling `frame.insert` many times, which has poor performance.  Consider joining all columns at once using pd.concat(axis=1) instead. To get a de-fragmented frame, use `newframe = frame.copy()`\n",
      "  data_IF[j] = list(sub_data / sub_gene)\n",
      "/data/work/tools/scCyclone/tools/_rank_ifs_groups.py:198: PerformanceWarning: DataFrame is highly fragmented.  This is usually the result of calling `frame.insert` many times, which has poor performance.  Consider joining all columns at once using pd.concat(axis=1) instead. To get a de-fragmented frame, use `newframe = frame.copy()`\n",
      "  data_IF[j] = list(sub_data / sub_gene)\n",
      "/data/work/tools/scCyclone/tools/_rank_ifs_groups.py:198: PerformanceWarning: DataFrame is highly fragmented.  This is usually the result of calling `frame.insert` many times, which has poor performance.  Consider joining all columns at once using pd.concat(axis=1) instead. To get a de-fragmented frame, use `newframe = frame.copy()`\n",
      "  data_IF[j] = list(sub_data / sub_gene)\n",
      "/data/work/tools/scCyclone/tools/_rank_ifs_groups.py:198: PerformanceWarning: DataFrame is highly fragmented.  This is usually the result of calling `frame.insert` many times, which has poor performance.  Consider joining all columns at once using pd.concat(axis=1) instead. To get a de-fragmented frame, use `newframe = frame.copy()`\n",
      "  data_IF[j] = list(sub_data / sub_gene)\n",
      "/data/work/tools/scCyclone/tools/_rank_ifs_groups.py:198: PerformanceWarning: DataFrame is highly fragmented.  This is usually the result of calling `frame.insert` many times, which has poor performance.  Consider joining all columns at once using pd.concat(axis=1) instead. To get a de-fragmented frame, use `newframe = frame.copy()`\n",
      "  data_IF[j] = list(sub_data / sub_gene)\n",
      "/data/work/tools/scCyclone/tools/_rank_ifs_groups.py:198: PerformanceWarning: DataFrame is highly fragmented.  This is usually the result of calling `frame.insert` many times, which has poor performance.  Consider joining all columns at once using pd.concat(axis=1) instead. To get a de-fragmented frame, use `newframe = frame.copy()`\n",
      "  data_IF[j] = list(sub_data / sub_gene)\n",
      "/data/work/tools/scCyclone/tools/_rank_ifs_groups.py:198: PerformanceWarning: DataFrame is highly fragmented.  This is usually the result of calling `frame.insert` many times, which has poor performance.  Consider joining all columns at once using pd.concat(axis=1) instead. To get a de-fragmented frame, use `newframe = frame.copy()`\n",
      "  data_IF[j] = list(sub_data / sub_gene)\n",
      "/data/work/tools/scCyclone/tools/_rank_ifs_groups.py:198: PerformanceWarning: DataFrame is highly fragmented.  This is usually the result of calling `frame.insert` many times, which has poor performance.  Consider joining all columns at once using pd.concat(axis=1) instead. To get a de-fragmented frame, use `newframe = frame.copy()`\n",
      "  data_IF[j] = list(sub_data / sub_gene)\n",
      "/data/work/tools/scCyclone/tools/_rank_ifs_groups.py:198: PerformanceWarning: DataFrame is highly fragmented.  This is usually the result of calling `frame.insert` many times, which has poor performance.  Consider joining all columns at once using pd.concat(axis=1) instead. To get a de-fragmented frame, use `newframe = frame.copy()`\n",
      "  data_IF[j] = list(sub_data / sub_gene)\n",
      "/data/work/tools/scCyclone/tools/_rank_ifs_groups.py:198: PerformanceWarning: DataFrame is highly fragmented.  This is usually the result of calling `frame.insert` many times, which has poor performance.  Consider joining all columns at once using pd.concat(axis=1) instead. To get a de-fragmented frame, use `newframe = frame.copy()`\n",
      "  data_IF[j] = list(sub_data / sub_gene)\n",
      "/data/work/tools/scCyclone/tools/_rank_ifs_groups.py:198: PerformanceWarning: DataFrame is highly fragmented.  This is usually the result of calling `frame.insert` many times, which has poor performance.  Consider joining all columns at once using pd.concat(axis=1) instead. To get a de-fragmented frame, use `newframe = frame.copy()`\n",
      "  data_IF[j] = list(sub_data / sub_gene)\n",
      "/data/work/tools/scCyclone/tools/_rank_ifs_groups.py:198: PerformanceWarning: DataFrame is highly fragmented.  This is usually the result of calling `frame.insert` many times, which has poor performance.  Consider joining all columns at once using pd.concat(axis=1) instead. To get a de-fragmented frame, use `newframe = frame.copy()`\n",
      "  data_IF[j] = list(sub_data / sub_gene)\n",
      "/data/work/tools/scCyclone/tools/_rank_ifs_groups.py:198: PerformanceWarning: DataFrame is highly fragmented.  This is usually the result of calling `frame.insert` many times, which has poor performance.  Consider joining all columns at once using pd.concat(axis=1) instead. To get a de-fragmented frame, use `newframe = frame.copy()`\n",
      "  data_IF[j] = list(sub_data / sub_gene)\n",
      "/data/work/tools/scCyclone/tools/_rank_ifs_groups.py:198: PerformanceWarning: DataFrame is highly fragmented.  This is usually the result of calling `frame.insert` many times, which has poor performance.  Consider joining all columns at once using pd.concat(axis=1) instead. To get a de-fragmented frame, use `newframe = frame.copy()`\n",
      "  data_IF[j] = list(sub_data / sub_gene)\n",
      "/data/work/tools/scCyclone/tools/_rank_ifs_groups.py:198: PerformanceWarning: DataFrame is highly fragmented.  This is usually the result of calling `frame.insert` many times, which has poor performance.  Consider joining all columns at once using pd.concat(axis=1) instead. To get a de-fragmented frame, use `newframe = frame.copy()`\n",
      "  data_IF[j] = list(sub_data / sub_gene)\n",
      "/data/work/tools/scCyclone/tools/_rank_ifs_groups.py:198: PerformanceWarning: DataFrame is highly fragmented.  This is usually the result of calling `frame.insert` many times, which has poor performance.  Consider joining all columns at once using pd.concat(axis=1) instead. To get a de-fragmented frame, use `newframe = frame.copy()`\n",
      "  data_IF[j] = list(sub_data / sub_gene)\n",
      "/data/work/tools/scCyclone/tools/_rank_ifs_groups.py:198: PerformanceWarning: DataFrame is highly fragmented.  This is usually the result of calling `frame.insert` many times, which has poor performance.  Consider joining all columns at once using pd.concat(axis=1) instead. To get a de-fragmented frame, use `newframe = frame.copy()`\n",
      "  data_IF[j] = list(sub_data / sub_gene)\n",
      "/data/work/tools/scCyclone/tools/_rank_ifs_groups.py:198: PerformanceWarning: DataFrame is highly fragmented.  This is usually the result of calling `frame.insert` many times, which has poor performance.  Consider joining all columns at once using pd.concat(axis=1) instead. To get a de-fragmented frame, use `newframe = frame.copy()`\n",
      "  data_IF[j] = list(sub_data / sub_gene)\n",
      "/data/work/tools/scCyclone/tools/_rank_ifs_groups.py:198: PerformanceWarning: DataFrame is highly fragmented.  This is usually the result of calling `frame.insert` many times, which has poor performance.  Consider joining all columns at once using pd.concat(axis=1) instead. To get a de-fragmented frame, use `newframe = frame.copy()`\n",
      "  data_IF[j] = list(sub_data / sub_gene)\n",
      "/data/work/tools/scCyclone/tools/_rank_ifs_groups.py:198: PerformanceWarning: DataFrame is highly fragmented.  This is usually the result of calling `frame.insert` many times, which has poor performance.  Consider joining all columns at once using pd.concat(axis=1) instead. To get a de-fragmented frame, use `newframe = frame.copy()`\n",
      "  data_IF[j] = list(sub_data / sub_gene)\n",
      "/data/work/tools/scCyclone/tools/_rank_ifs_groups.py:198: PerformanceWarning: DataFrame is highly fragmented.  This is usually the result of calling `frame.insert` many times, which has poor performance.  Consider joining all columns at once using pd.concat(axis=1) instead. To get a de-fragmented frame, use `newframe = frame.copy()`\n",
      "  data_IF[j] = list(sub_data / sub_gene)\n",
      "/data/work/tools/scCyclone/tools/_rank_ifs_groups.py:198: PerformanceWarning: DataFrame is highly fragmented.  This is usually the result of calling `frame.insert` many times, which has poor performance.  Consider joining all columns at once using pd.concat(axis=1) instead. To get a de-fragmented frame, use `newframe = frame.copy()`\n",
      "  data_IF[j] = list(sub_data / sub_gene)\n",
      "/data/work/tools/scCyclone/tools/_rank_ifs_groups.py:198: PerformanceWarning: DataFrame is highly fragmented.  This is usually the result of calling `frame.insert` many times, which has poor performance.  Consider joining all columns at once using pd.concat(axis=1) instead. To get a de-fragmented frame, use `newframe = frame.copy()`\n",
      "  data_IF[j] = list(sub_data / sub_gene)\n",
      "/data/work/tools/scCyclone/tools/_rank_ifs_groups.py:198: PerformanceWarning: DataFrame is highly fragmented.  This is usually the result of calling `frame.insert` many times, which has poor performance.  Consider joining all columns at once using pd.concat(axis=1) instead. To get a de-fragmented frame, use `newframe = frame.copy()`\n",
      "  data_IF[j] = list(sub_data / sub_gene)\n",
      "/data/work/tools/scCyclone/tools/_rank_ifs_groups.py:198: PerformanceWarning: DataFrame is highly fragmented.  This is usually the result of calling `frame.insert` many times, which has poor performance.  Consider joining all columns at once using pd.concat(axis=1) instead. To get a de-fragmented frame, use `newframe = frame.copy()`\n",
      "  data_IF[j] = list(sub_data / sub_gene)\n",
      "/data/work/tools/scCyclone/tools/_rank_ifs_groups.py:198: PerformanceWarning: DataFrame is highly fragmented.  This is usually the result of calling `frame.insert` many times, which has poor performance.  Consider joining all columns at once using pd.concat(axis=1) instead. To get a de-fragmented frame, use `newframe = frame.copy()`\n",
      "  data_IF[j] = list(sub_data / sub_gene)\n",
      "/data/work/tools/scCyclone/tools/_rank_ifs_groups.py:198: PerformanceWarning: DataFrame is highly fragmented.  This is usually the result of calling `frame.insert` many times, which has poor performance.  Consider joining all columns at once using pd.concat(axis=1) instead. To get a de-fragmented frame, use `newframe = frame.copy()`\n",
      "  data_IF[j] = list(sub_data / sub_gene)\n",
      "/data/work/tools/scCyclone/tools/_rank_ifs_groups.py:198: PerformanceWarning: DataFrame is highly fragmented.  This is usually the result of calling `frame.insert` many times, which has poor performance.  Consider joining all columns at once using pd.concat(axis=1) instead. To get a de-fragmented frame, use `newframe = frame.copy()`\n",
      "  data_IF[j] = list(sub_data / sub_gene)\n",
      "/data/work/tools/scCyclone/tools/_rank_ifs_groups.py:198: PerformanceWarning: DataFrame is highly fragmented.  This is usually the result of calling `frame.insert` many times, which has poor performance.  Consider joining all columns at once using pd.concat(axis=1) instead. To get a de-fragmented frame, use `newframe = frame.copy()`\n",
      "  data_IF[j] = list(sub_data / sub_gene)\n",
      "/data/work/tools/scCyclone/tools/_rank_ifs_groups.py:198: PerformanceWarning: DataFrame is highly fragmented.  This is usually the result of calling `frame.insert` many times, which has poor performance.  Consider joining all columns at once using pd.concat(axis=1) instead. To get a de-fragmented frame, use `newframe = frame.copy()`\n",
      "  data_IF[j] = list(sub_data / sub_gene)\n",
      "/data/work/tools/scCyclone/tools/_rank_ifs_groups.py:198: PerformanceWarning: DataFrame is highly fragmented.  This is usually the result of calling `frame.insert` many times, which has poor performance.  Consider joining all columns at once using pd.concat(axis=1) instead. To get a de-fragmented frame, use `newframe = frame.copy()`\n",
      "  data_IF[j] = list(sub_data / sub_gene)\n",
      "/data/work/tools/scCyclone/tools/_rank_ifs_groups.py:198: PerformanceWarning: DataFrame is highly fragmented.  This is usually the result of calling `frame.insert` many times, which has poor performance.  Consider joining all columns at once using pd.concat(axis=1) instead. To get a de-fragmented frame, use `newframe = frame.copy()`\n",
      "  data_IF[j] = list(sub_data / sub_gene)\n",
      "/data/work/tools/scCyclone/tools/_rank_ifs_groups.py:198: PerformanceWarning: DataFrame is highly fragmented.  This is usually the result of calling `frame.insert` many times, which has poor performance.  Consider joining all columns at once using pd.concat(axis=1) instead. To get a de-fragmented frame, use `newframe = frame.copy()`\n",
      "  data_IF[j] = list(sub_data / sub_gene)\n",
      "/data/work/tools/scCyclone/tools/_rank_ifs_groups.py:198: PerformanceWarning: DataFrame is highly fragmented.  This is usually the result of calling `frame.insert` many times, which has poor performance.  Consider joining all columns at once using pd.concat(axis=1) instead. To get a de-fragmented frame, use `newframe = frame.copy()`\n",
      "  data_IF[j] = list(sub_data / sub_gene)\n",
      "/data/work/tools/scCyclone/tools/_rank_ifs_groups.py:198: PerformanceWarning: DataFrame is highly fragmented.  This is usually the result of calling `frame.insert` many times, which has poor performance.  Consider joining all columns at once using pd.concat(axis=1) instead. To get a de-fragmented frame, use `newframe = frame.copy()`\n",
      "  data_IF[j] = list(sub_data / sub_gene)\n",
      "/data/work/tools/scCyclone/tools/_rank_ifs_groups.py:198: PerformanceWarning: DataFrame is highly fragmented.  This is usually the result of calling `frame.insert` many times, which has poor performance.  Consider joining all columns at once using pd.concat(axis=1) instead. To get a de-fragmented frame, use `newframe = frame.copy()`\n",
      "  data_IF[j] = list(sub_data / sub_gene)\n",
      "/data/work/tools/scCyclone/tools/_rank_ifs_groups.py:198: PerformanceWarning: DataFrame is highly fragmented.  This is usually the result of calling `frame.insert` many times, which has poor performance.  Consider joining all columns at once using pd.concat(axis=1) instead. To get a de-fragmented frame, use `newframe = frame.copy()`\n",
      "  data_IF[j] = list(sub_data / sub_gene)\n",
      "/data/work/tools/scCyclone/tools/_rank_ifs_groups.py:198: PerformanceWarning: DataFrame is highly fragmented.  This is usually the result of calling `frame.insert` many times, which has poor performance.  Consider joining all columns at once using pd.concat(axis=1) instead. To get a de-fragmented frame, use `newframe = frame.copy()`\n",
      "  data_IF[j] = list(sub_data / sub_gene)\n",
      "/data/work/tools/scCyclone/tools/_rank_ifs_groups.py:198: PerformanceWarning: DataFrame is highly fragmented.  This is usually the result of calling `frame.insert` many times, which has poor performance.  Consider joining all columns at once using pd.concat(axis=1) instead. To get a de-fragmented frame, use `newframe = frame.copy()`\n",
      "  data_IF[j] = list(sub_data / sub_gene)\n",
      "/data/work/tools/scCyclone/tools/_rank_ifs_groups.py:198: PerformanceWarning: DataFrame is highly fragmented.  This is usually the result of calling `frame.insert` many times, which has poor performance.  Consider joining all columns at once using pd.concat(axis=1) instead. To get a de-fragmented frame, use `newframe = frame.copy()`\n",
      "  data_IF[j] = list(sub_data / sub_gene)\n",
      "/data/work/tools/scCyclone/tools/_rank_ifs_groups.py:198: PerformanceWarning: DataFrame is highly fragmented.  This is usually the result of calling `frame.insert` many times, which has poor performance.  Consider joining all columns at once using pd.concat(axis=1) instead. To get a de-fragmented frame, use `newframe = frame.copy()`\n",
      "  data_IF[j] = list(sub_data / sub_gene)\n",
      "/data/work/tools/scCyclone/tools/_rank_ifs_groups.py:198: PerformanceWarning: DataFrame is highly fragmented.  This is usually the result of calling `frame.insert` many times, which has poor performance.  Consider joining all columns at once using pd.concat(axis=1) instead. To get a de-fragmented frame, use `newframe = frame.copy()`\n",
      "  data_IF[j] = list(sub_data / sub_gene)\n",
      "/data/work/tools/scCyclone/tools/_rank_ifs_groups.py:198: PerformanceWarning: DataFrame is highly fragmented.  This is usually the result of calling `frame.insert` many times, which has poor performance.  Consider joining all columns at once using pd.concat(axis=1) instead. To get a de-fragmented frame, use `newframe = frame.copy()`\n",
      "  data_IF[j] = list(sub_data / sub_gene)\n",
      "/data/work/tools/scCyclone/tools/_rank_ifs_groups.py:198: PerformanceWarning: DataFrame is highly fragmented.  This is usually the result of calling `frame.insert` many times, which has poor performance.  Consider joining all columns at once using pd.concat(axis=1) instead. To get a de-fragmented frame, use `newframe = frame.copy()`\n",
      "  data_IF[j] = list(sub_data / sub_gene)\n"
     ]
    },
    {
     "name": "stdout",
     "output_type": "stream",
     "text": [
      "Process successful for 0\n",
      "Compute dIF...\n",
      "Compute pvalue...\n",
      "Compute proportion...\n",
      "Group A complete!\n",
      "-----------------------------------------\n",
      "Group B start!\n",
      "Generate IF matrix...\n",
      "Generate rank matrix...\n"
     ]
    },
    {
     "name": "stderr",
     "output_type": "stream",
     "text": [
      "/data/work/tools/scCyclone/tools/_rank_ifs_groups.py:251: FutureWarning: In a future version of pandas all arguments of concat except for the argument 'objs' will be keyword-only.\n",
      "  data_rank = pd.concat(data_rank_list, 0)\n",
      "/data/work/tools/scCyclone/tools/_rank_ifs_groups.py:251: FutureWarning: In a future version of pandas all arguments of concat except for the argument 'objs' will be keyword-only.\n",
      "  data_rank = pd.concat(data_rank_list, 0)\n"
     ]
    },
    {
     "name": "stdout",
     "output_type": "stream",
     "text": [
      "Generate IF adata...\n",
      "Process successful for 0\n"
     ]
    },
    {
     "name": "stderr",
     "output_type": "stream",
     "text": [
      "/data/work/tools/scCyclone/tools/_rank_ifs_groups.py:198: PerformanceWarning: DataFrame is highly fragmented.  This is usually the result of calling `frame.insert` many times, which has poor performance.  Consider joining all columns at once using pd.concat(axis=1) instead. To get a de-fragmented frame, use `newframe = frame.copy()`\n",
      "  data_IF[j] = list(sub_data / sub_gene)\n",
      "/data/work/tools/scCyclone/tools/_rank_ifs_groups.py:198: PerformanceWarning: DataFrame is highly fragmented.  This is usually the result of calling `frame.insert` many times, which has poor performance.  Consider joining all columns at once using pd.concat(axis=1) instead. To get a de-fragmented frame, use `newframe = frame.copy()`\n",
      "  data_IF[j] = list(sub_data / sub_gene)\n",
      "/data/work/tools/scCyclone/tools/_rank_ifs_groups.py:198: PerformanceWarning: DataFrame is highly fragmented.  This is usually the result of calling `frame.insert` many times, which has poor performance.  Consider joining all columns at once using pd.concat(axis=1) instead. To get a de-fragmented frame, use `newframe = frame.copy()`\n",
      "  data_IF[j] = list(sub_data / sub_gene)\n",
      "/data/work/tools/scCyclone/tools/_rank_ifs_groups.py:198: PerformanceWarning: DataFrame is highly fragmented.  This is usually the result of calling `frame.insert` many times, which has poor performance.  Consider joining all columns at once using pd.concat(axis=1) instead. To get a de-fragmented frame, use `newframe = frame.copy()`\n",
      "  data_IF[j] = list(sub_data / sub_gene)\n",
      "/data/work/tools/scCyclone/tools/_rank_ifs_groups.py:198: PerformanceWarning: DataFrame is highly fragmented.  This is usually the result of calling `frame.insert` many times, which has poor performance.  Consider joining all columns at once using pd.concat(axis=1) instead. To get a de-fragmented frame, use `newframe = frame.copy()`\n",
      "  data_IF[j] = list(sub_data / sub_gene)\n",
      "/data/work/tools/scCyclone/tools/_rank_ifs_groups.py:198: PerformanceWarning: DataFrame is highly fragmented.  This is usually the result of calling `frame.insert` many times, which has poor performance.  Consider joining all columns at once using pd.concat(axis=1) instead. To get a de-fragmented frame, use `newframe = frame.copy()`\n",
      "  data_IF[j] = list(sub_data / sub_gene)\n",
      "/data/work/tools/scCyclone/tools/_rank_ifs_groups.py:198: PerformanceWarning: DataFrame is highly fragmented.  This is usually the result of calling `frame.insert` many times, which has poor performance.  Consider joining all columns at once using pd.concat(axis=1) instead. To get a de-fragmented frame, use `newframe = frame.copy()`\n",
      "  data_IF[j] = list(sub_data / sub_gene)\n",
      "/data/work/tools/scCyclone/tools/_rank_ifs_groups.py:198: PerformanceWarning: DataFrame is highly fragmented.  This is usually the result of calling `frame.insert` many times, which has poor performance.  Consider joining all columns at once using pd.concat(axis=1) instead. To get a de-fragmented frame, use `newframe = frame.copy()`\n",
      "  data_IF[j] = list(sub_data / sub_gene)\n",
      "/data/work/tools/scCyclone/tools/_rank_ifs_groups.py:198: PerformanceWarning: DataFrame is highly fragmented.  This is usually the result of calling `frame.insert` many times, which has poor performance.  Consider joining all columns at once using pd.concat(axis=1) instead. To get a de-fragmented frame, use `newframe = frame.copy()`\n",
      "  data_IF[j] = list(sub_data / sub_gene)\n",
      "/data/work/tools/scCyclone/tools/_rank_ifs_groups.py:198: PerformanceWarning: DataFrame is highly fragmented.  This is usually the result of calling `frame.insert` many times, which has poor performance.  Consider joining all columns at once using pd.concat(axis=1) instead. To get a de-fragmented frame, use `newframe = frame.copy()`\n",
      "  data_IF[j] = list(sub_data / sub_gene)\n",
      "/data/work/tools/scCyclone/tools/_rank_ifs_groups.py:198: PerformanceWarning: DataFrame is highly fragmented.  This is usually the result of calling `frame.insert` many times, which has poor performance.  Consider joining all columns at once using pd.concat(axis=1) instead. To get a de-fragmented frame, use `newframe = frame.copy()`\n",
      "  data_IF[j] = list(sub_data / sub_gene)\n",
      "/data/work/tools/scCyclone/tools/_rank_ifs_groups.py:198: PerformanceWarning: DataFrame is highly fragmented.  This is usually the result of calling `frame.insert` many times, which has poor performance.  Consider joining all columns at once using pd.concat(axis=1) instead. To get a de-fragmented frame, use `newframe = frame.copy()`\n",
      "  data_IF[j] = list(sub_data / sub_gene)\n",
      "/data/work/tools/scCyclone/tools/_rank_ifs_groups.py:198: PerformanceWarning: DataFrame is highly fragmented.  This is usually the result of calling `frame.insert` many times, which has poor performance.  Consider joining all columns at once using pd.concat(axis=1) instead. To get a de-fragmented frame, use `newframe = frame.copy()`\n",
      "  data_IF[j] = list(sub_data / sub_gene)\n",
      "/data/work/tools/scCyclone/tools/_rank_ifs_groups.py:198: PerformanceWarning: DataFrame is highly fragmented.  This is usually the result of calling `frame.insert` many times, which has poor performance.  Consider joining all columns at once using pd.concat(axis=1) instead. To get a de-fragmented frame, use `newframe = frame.copy()`\n",
      "  data_IF[j] = list(sub_data / sub_gene)\n",
      "/data/work/tools/scCyclone/tools/_rank_ifs_groups.py:198: PerformanceWarning: DataFrame is highly fragmented.  This is usually the result of calling `frame.insert` many times, which has poor performance.  Consider joining all columns at once using pd.concat(axis=1) instead. To get a de-fragmented frame, use `newframe = frame.copy()`\n",
      "  data_IF[j] = list(sub_data / sub_gene)\n",
      "/data/work/tools/scCyclone/tools/_rank_ifs_groups.py:198: PerformanceWarning: DataFrame is highly fragmented.  This is usually the result of calling `frame.insert` many times, which has poor performance.  Consider joining all columns at once using pd.concat(axis=1) instead. To get a de-fragmented frame, use `newframe = frame.copy()`\n",
      "  data_IF[j] = list(sub_data / sub_gene)\n",
      "/data/work/tools/scCyclone/tools/_rank_ifs_groups.py:198: PerformanceWarning: DataFrame is highly fragmented.  This is usually the result of calling `frame.insert` many times, which has poor performance.  Consider joining all columns at once using pd.concat(axis=1) instead. To get a de-fragmented frame, use `newframe = frame.copy()`\n",
      "  data_IF[j] = list(sub_data / sub_gene)\n",
      "/data/work/tools/scCyclone/tools/_rank_ifs_groups.py:198: PerformanceWarning: DataFrame is highly fragmented.  This is usually the result of calling `frame.insert` many times, which has poor performance.  Consider joining all columns at once using pd.concat(axis=1) instead. To get a de-fragmented frame, use `newframe = frame.copy()`\n",
      "  data_IF[j] = list(sub_data / sub_gene)\n",
      "/data/work/tools/scCyclone/tools/_rank_ifs_groups.py:198: PerformanceWarning: DataFrame is highly fragmented.  This is usually the result of calling `frame.insert` many times, which has poor performance.  Consider joining all columns at once using pd.concat(axis=1) instead. To get a de-fragmented frame, use `newframe = frame.copy()`\n",
      "  data_IF[j] = list(sub_data / sub_gene)\n",
      "/data/work/tools/scCyclone/tools/_rank_ifs_groups.py:198: PerformanceWarning: DataFrame is highly fragmented.  This is usually the result of calling `frame.insert` many times, which has poor performance.  Consider joining all columns at once using pd.concat(axis=1) instead. To get a de-fragmented frame, use `newframe = frame.copy()`\n",
      "  data_IF[j] = list(sub_data / sub_gene)\n",
      "/data/work/tools/scCyclone/tools/_rank_ifs_groups.py:198: PerformanceWarning: DataFrame is highly fragmented.  This is usually the result of calling `frame.insert` many times, which has poor performance.  Consider joining all columns at once using pd.concat(axis=1) instead. To get a de-fragmented frame, use `newframe = frame.copy()`\n",
      "  data_IF[j] = list(sub_data / sub_gene)\n",
      "/data/work/tools/scCyclone/tools/_rank_ifs_groups.py:198: PerformanceWarning: DataFrame is highly fragmented.  This is usually the result of calling `frame.insert` many times, which has poor performance.  Consider joining all columns at once using pd.concat(axis=1) instead. To get a de-fragmented frame, use `newframe = frame.copy()`\n",
      "  data_IF[j] = list(sub_data / sub_gene)\n",
      "/data/work/tools/scCyclone/tools/_rank_ifs_groups.py:198: PerformanceWarning: DataFrame is highly fragmented.  This is usually the result of calling `frame.insert` many times, which has poor performance.  Consider joining all columns at once using pd.concat(axis=1) instead. To get a de-fragmented frame, use `newframe = frame.copy()`\n",
      "  data_IF[j] = list(sub_data / sub_gene)\n",
      "/data/work/tools/scCyclone/tools/_rank_ifs_groups.py:198: PerformanceWarning: DataFrame is highly fragmented.  This is usually the result of calling `frame.insert` many times, which has poor performance.  Consider joining all columns at once using pd.concat(axis=1) instead. To get a de-fragmented frame, use `newframe = frame.copy()`\n",
      "  data_IF[j] = list(sub_data / sub_gene)\n",
      "/data/work/tools/scCyclone/tools/_rank_ifs_groups.py:198: PerformanceWarning: DataFrame is highly fragmented.  This is usually the result of calling `frame.insert` many times, which has poor performance.  Consider joining all columns at once using pd.concat(axis=1) instead. To get a de-fragmented frame, use `newframe = frame.copy()`\n",
      "  data_IF[j] = list(sub_data / sub_gene)\n",
      "/data/work/tools/scCyclone/tools/_rank_ifs_groups.py:198: PerformanceWarning: DataFrame is highly fragmented.  This is usually the result of calling `frame.insert` many times, which has poor performance.  Consider joining all columns at once using pd.concat(axis=1) instead. To get a de-fragmented frame, use `newframe = frame.copy()`\n",
      "  data_IF[j] = list(sub_data / sub_gene)\n",
      "/data/work/tools/scCyclone/tools/_rank_ifs_groups.py:198: PerformanceWarning: DataFrame is highly fragmented.  This is usually the result of calling `frame.insert` many times, which has poor performance.  Consider joining all columns at once using pd.concat(axis=1) instead. To get a de-fragmented frame, use `newframe = frame.copy()`\n",
      "  data_IF[j] = list(sub_data / sub_gene)\n",
      "/data/work/tools/scCyclone/tools/_rank_ifs_groups.py:198: PerformanceWarning: DataFrame is highly fragmented.  This is usually the result of calling `frame.insert` many times, which has poor performance.  Consider joining all columns at once using pd.concat(axis=1) instead. To get a de-fragmented frame, use `newframe = frame.copy()`\n",
      "  data_IF[j] = list(sub_data / sub_gene)\n",
      "/data/work/tools/scCyclone/tools/_rank_ifs_groups.py:198: PerformanceWarning: DataFrame is highly fragmented.  This is usually the result of calling `frame.insert` many times, which has poor performance.  Consider joining all columns at once using pd.concat(axis=1) instead. To get a de-fragmented frame, use `newframe = frame.copy()`\n",
      "  data_IF[j] = list(sub_data / sub_gene)\n",
      "/data/work/tools/scCyclone/tools/_rank_ifs_groups.py:198: PerformanceWarning: DataFrame is highly fragmented.  This is usually the result of calling `frame.insert` many times, which has poor performance.  Consider joining all columns at once using pd.concat(axis=1) instead. To get a de-fragmented frame, use `newframe = frame.copy()`\n",
      "  data_IF[j] = list(sub_data / sub_gene)\n",
      "/data/work/tools/scCyclone/tools/_rank_ifs_groups.py:198: PerformanceWarning: DataFrame is highly fragmented.  This is usually the result of calling `frame.insert` many times, which has poor performance.  Consider joining all columns at once using pd.concat(axis=1) instead. To get a de-fragmented frame, use `newframe = frame.copy()`\n",
      "  data_IF[j] = list(sub_data / sub_gene)\n",
      "/data/work/tools/scCyclone/tools/_rank_ifs_groups.py:198: PerformanceWarning: DataFrame is highly fragmented.  This is usually the result of calling `frame.insert` many times, which has poor performance.  Consider joining all columns at once using pd.concat(axis=1) instead. To get a de-fragmented frame, use `newframe = frame.copy()`\n",
      "  data_IF[j] = list(sub_data / sub_gene)\n",
      "/data/work/tools/scCyclone/tools/_rank_ifs_groups.py:198: PerformanceWarning: DataFrame is highly fragmented.  This is usually the result of calling `frame.insert` many times, which has poor performance.  Consider joining all columns at once using pd.concat(axis=1) instead. To get a de-fragmented frame, use `newframe = frame.copy()`\n",
      "  data_IF[j] = list(sub_data / sub_gene)\n",
      "/data/work/tools/scCyclone/tools/_rank_ifs_groups.py:198: PerformanceWarning: DataFrame is highly fragmented.  This is usually the result of calling `frame.insert` many times, which has poor performance.  Consider joining all columns at once using pd.concat(axis=1) instead. To get a de-fragmented frame, use `newframe = frame.copy()`\n",
      "  data_IF[j] = list(sub_data / sub_gene)\n",
      "/data/work/tools/scCyclone/tools/_rank_ifs_groups.py:198: PerformanceWarning: DataFrame is highly fragmented.  This is usually the result of calling `frame.insert` many times, which has poor performance.  Consider joining all columns at once using pd.concat(axis=1) instead. To get a de-fragmented frame, use `newframe = frame.copy()`\n",
      "  data_IF[j] = list(sub_data / sub_gene)\n",
      "/data/work/tools/scCyclone/tools/_rank_ifs_groups.py:198: PerformanceWarning: DataFrame is highly fragmented.  This is usually the result of calling `frame.insert` many times, which has poor performance.  Consider joining all columns at once using pd.concat(axis=1) instead. To get a de-fragmented frame, use `newframe = frame.copy()`\n",
      "  data_IF[j] = list(sub_data / sub_gene)\n",
      "/data/work/tools/scCyclone/tools/_rank_ifs_groups.py:198: PerformanceWarning: DataFrame is highly fragmented.  This is usually the result of calling `frame.insert` many times, which has poor performance.  Consider joining all columns at once using pd.concat(axis=1) instead. To get a de-fragmented frame, use `newframe = frame.copy()`\n",
      "  data_IF[j] = list(sub_data / sub_gene)\n",
      "/data/work/tools/scCyclone/tools/_rank_ifs_groups.py:198: PerformanceWarning: DataFrame is highly fragmented.  This is usually the result of calling `frame.insert` many times, which has poor performance.  Consider joining all columns at once using pd.concat(axis=1) instead. To get a de-fragmented frame, use `newframe = frame.copy()`\n",
      "  data_IF[j] = list(sub_data / sub_gene)\n",
      "/data/work/tools/scCyclone/tools/_rank_ifs_groups.py:198: PerformanceWarning: DataFrame is highly fragmented.  This is usually the result of calling `frame.insert` many times, which has poor performance.  Consider joining all columns at once using pd.concat(axis=1) instead. To get a de-fragmented frame, use `newframe = frame.copy()`\n",
      "  data_IF[j] = list(sub_data / sub_gene)\n",
      "/data/work/tools/scCyclone/tools/_rank_ifs_groups.py:198: PerformanceWarning: DataFrame is highly fragmented.  This is usually the result of calling `frame.insert` many times, which has poor performance.  Consider joining all columns at once using pd.concat(axis=1) instead. To get a de-fragmented frame, use `newframe = frame.copy()`\n",
      "  data_IF[j] = list(sub_data / sub_gene)\n",
      "/data/work/tools/scCyclone/tools/_rank_ifs_groups.py:198: PerformanceWarning: DataFrame is highly fragmented.  This is usually the result of calling `frame.insert` many times, which has poor performance.  Consider joining all columns at once using pd.concat(axis=1) instead. To get a de-fragmented frame, use `newframe = frame.copy()`\n",
      "  data_IF[j] = list(sub_data / sub_gene)\n",
      "/data/work/tools/scCyclone/tools/_rank_ifs_groups.py:198: PerformanceWarning: DataFrame is highly fragmented.  This is usually the result of calling `frame.insert` many times, which has poor performance.  Consider joining all columns at once using pd.concat(axis=1) instead. To get a de-fragmented frame, use `newframe = frame.copy()`\n",
      "  data_IF[j] = list(sub_data / sub_gene)\n",
      "/data/work/tools/scCyclone/tools/_rank_ifs_groups.py:198: PerformanceWarning: DataFrame is highly fragmented.  This is usually the result of calling `frame.insert` many times, which has poor performance.  Consider joining all columns at once using pd.concat(axis=1) instead. To get a de-fragmented frame, use `newframe = frame.copy()`\n",
      "  data_IF[j] = list(sub_data / sub_gene)\n",
      "/data/work/tools/scCyclone/tools/_rank_ifs_groups.py:198: PerformanceWarning: DataFrame is highly fragmented.  This is usually the result of calling `frame.insert` many times, which has poor performance.  Consider joining all columns at once using pd.concat(axis=1) instead. To get a de-fragmented frame, use `newframe = frame.copy()`\n",
      "  data_IF[j] = list(sub_data / sub_gene)\n",
      "/data/work/tools/scCyclone/tools/_rank_ifs_groups.py:198: PerformanceWarning: DataFrame is highly fragmented.  This is usually the result of calling `frame.insert` many times, which has poor performance.  Consider joining all columns at once using pd.concat(axis=1) instead. To get a de-fragmented frame, use `newframe = frame.copy()`\n",
      "  data_IF[j] = list(sub_data / sub_gene)\n",
      "/data/work/tools/scCyclone/tools/_rank_ifs_groups.py:198: PerformanceWarning: DataFrame is highly fragmented.  This is usually the result of calling `frame.insert` many times, which has poor performance.  Consider joining all columns at once using pd.concat(axis=1) instead. To get a de-fragmented frame, use `newframe = frame.copy()`\n",
      "  data_IF[j] = list(sub_data / sub_gene)\n",
      "/data/work/tools/scCyclone/tools/_rank_ifs_groups.py:198: PerformanceWarning: DataFrame is highly fragmented.  This is usually the result of calling `frame.insert` many times, which has poor performance.  Consider joining all columns at once using pd.concat(axis=1) instead. To get a de-fragmented frame, use `newframe = frame.copy()`\n",
      "  data_IF[j] = list(sub_data / sub_gene)\n",
      "/data/work/tools/scCyclone/tools/_rank_ifs_groups.py:198: PerformanceWarning: DataFrame is highly fragmented.  This is usually the result of calling `frame.insert` many times, which has poor performance.  Consider joining all columns at once using pd.concat(axis=1) instead. To get a de-fragmented frame, use `newframe = frame.copy()`\n",
      "  data_IF[j] = list(sub_data / sub_gene)\n",
      "/data/work/tools/scCyclone/tools/_rank_ifs_groups.py:198: PerformanceWarning: DataFrame is highly fragmented.  This is usually the result of calling `frame.insert` many times, which has poor performance.  Consider joining all columns at once using pd.concat(axis=1) instead. To get a de-fragmented frame, use `newframe = frame.copy()`\n",
      "  data_IF[j] = list(sub_data / sub_gene)\n",
      "/data/work/tools/scCyclone/tools/_rank_ifs_groups.py:198: PerformanceWarning: DataFrame is highly fragmented.  This is usually the result of calling `frame.insert` many times, which has poor performance.  Consider joining all columns at once using pd.concat(axis=1) instead. To get a de-fragmented frame, use `newframe = frame.copy()`\n",
      "  data_IF[j] = list(sub_data / sub_gene)\n",
      "/data/work/tools/scCyclone/tools/_rank_ifs_groups.py:198: PerformanceWarning: DataFrame is highly fragmented.  This is usually the result of calling `frame.insert` many times, which has poor performance.  Consider joining all columns at once using pd.concat(axis=1) instead. To get a de-fragmented frame, use `newframe = frame.copy()`\n",
      "  data_IF[j] = list(sub_data / sub_gene)\n",
      "/data/work/tools/scCyclone/tools/_rank_ifs_groups.py:198: PerformanceWarning: DataFrame is highly fragmented.  This is usually the result of calling `frame.insert` many times, which has poor performance.  Consider joining all columns at once using pd.concat(axis=1) instead. To get a de-fragmented frame, use `newframe = frame.copy()`\n",
      "  data_IF[j] = list(sub_data / sub_gene)\n",
      "/data/work/tools/scCyclone/tools/_rank_ifs_groups.py:198: PerformanceWarning: DataFrame is highly fragmented.  This is usually the result of calling `frame.insert` many times, which has poor performance.  Consider joining all columns at once using pd.concat(axis=1) instead. To get a de-fragmented frame, use `newframe = frame.copy()`\n",
      "  data_IF[j] = list(sub_data / sub_gene)\n",
      "/data/work/tools/scCyclone/tools/_rank_ifs_groups.py:198: PerformanceWarning: DataFrame is highly fragmented.  This is usually the result of calling `frame.insert` many times, which has poor performance.  Consider joining all columns at once using pd.concat(axis=1) instead. To get a de-fragmented frame, use `newframe = frame.copy()`\n",
      "  data_IF[j] = list(sub_data / sub_gene)\n",
      "/data/work/tools/scCyclone/tools/_rank_ifs_groups.py:198: PerformanceWarning: DataFrame is highly fragmented.  This is usually the result of calling `frame.insert` many times, which has poor performance.  Consider joining all columns at once using pd.concat(axis=1) instead. To get a de-fragmented frame, use `newframe = frame.copy()`\n",
      "  data_IF[j] = list(sub_data / sub_gene)\n",
      "/data/work/tools/scCyclone/tools/_rank_ifs_groups.py:198: PerformanceWarning: DataFrame is highly fragmented.  This is usually the result of calling `frame.insert` many times, which has poor performance.  Consider joining all columns at once using pd.concat(axis=1) instead. To get a de-fragmented frame, use `newframe = frame.copy()`\n",
      "  data_IF[j] = list(sub_data / sub_gene)\n",
      "/data/work/tools/scCyclone/tools/_rank_ifs_groups.py:198: PerformanceWarning: DataFrame is highly fragmented.  This is usually the result of calling `frame.insert` many times, which has poor performance.  Consider joining all columns at once using pd.concat(axis=1) instead. To get a de-fragmented frame, use `newframe = frame.copy()`\n",
      "  data_IF[j] = list(sub_data / sub_gene)\n",
      "/data/work/tools/scCyclone/tools/_rank_ifs_groups.py:198: PerformanceWarning: DataFrame is highly fragmented.  This is usually the result of calling `frame.insert` many times, which has poor performance.  Consider joining all columns at once using pd.concat(axis=1) instead. To get a de-fragmented frame, use `newframe = frame.copy()`\n",
      "  data_IF[j] = list(sub_data / sub_gene)\n",
      "/data/work/tools/scCyclone/tools/_rank_ifs_groups.py:198: PerformanceWarning: DataFrame is highly fragmented.  This is usually the result of calling `frame.insert` many times, which has poor performance.  Consider joining all columns at once using pd.concat(axis=1) instead. To get a de-fragmented frame, use `newframe = frame.copy()`\n",
      "  data_IF[j] = list(sub_data / sub_gene)\n",
      "/data/work/tools/scCyclone/tools/_rank_ifs_groups.py:198: PerformanceWarning: DataFrame is highly fragmented.  This is usually the result of calling `frame.insert` many times, which has poor performance.  Consider joining all columns at once using pd.concat(axis=1) instead. To get a de-fragmented frame, use `newframe = frame.copy()`\n",
      "  data_IF[j] = list(sub_data / sub_gene)\n",
      "/data/work/tools/scCyclone/tools/_rank_ifs_groups.py:198: PerformanceWarning: DataFrame is highly fragmented.  This is usually the result of calling `frame.insert` many times, which has poor performance.  Consider joining all columns at once using pd.concat(axis=1) instead. To get a de-fragmented frame, use `newframe = frame.copy()`\n",
      "  data_IF[j] = list(sub_data / sub_gene)\n",
      "/data/work/tools/scCyclone/tools/_rank_ifs_groups.py:198: PerformanceWarning: DataFrame is highly fragmented.  This is usually the result of calling `frame.insert` many times, which has poor performance.  Consider joining all columns at once using pd.concat(axis=1) instead. To get a de-fragmented frame, use `newframe = frame.copy()`\n",
      "  data_IF[j] = list(sub_data / sub_gene)\n",
      "/data/work/tools/scCyclone/tools/_rank_ifs_groups.py:198: PerformanceWarning: DataFrame is highly fragmented.  This is usually the result of calling `frame.insert` many times, which has poor performance.  Consider joining all columns at once using pd.concat(axis=1) instead. To get a de-fragmented frame, use `newframe = frame.copy()`\n",
      "  data_IF[j] = list(sub_data / sub_gene)\n",
      "/data/work/tools/scCyclone/tools/_rank_ifs_groups.py:198: PerformanceWarning: DataFrame is highly fragmented.  This is usually the result of calling `frame.insert` many times, which has poor performance.  Consider joining all columns at once using pd.concat(axis=1) instead. To get a de-fragmented frame, use `newframe = frame.copy()`\n",
      "  data_IF[j] = list(sub_data / sub_gene)\n",
      "/data/work/tools/scCyclone/tools/_rank_ifs_groups.py:198: PerformanceWarning: DataFrame is highly fragmented.  This is usually the result of calling `frame.insert` many times, which has poor performance.  Consider joining all columns at once using pd.concat(axis=1) instead. To get a de-fragmented frame, use `newframe = frame.copy()`\n",
      "  data_IF[j] = list(sub_data / sub_gene)\n",
      "/data/work/tools/scCyclone/tools/_rank_ifs_groups.py:198: PerformanceWarning: DataFrame is highly fragmented.  This is usually the result of calling `frame.insert` many times, which has poor performance.  Consider joining all columns at once using pd.concat(axis=1) instead. To get a de-fragmented frame, use `newframe = frame.copy()`\n",
      "  data_IF[j] = list(sub_data / sub_gene)\n",
      "/data/work/tools/scCyclone/tools/_rank_ifs_groups.py:198: PerformanceWarning: DataFrame is highly fragmented.  This is usually the result of calling `frame.insert` many times, which has poor performance.  Consider joining all columns at once using pd.concat(axis=1) instead. To get a de-fragmented frame, use `newframe = frame.copy()`\n",
      "  data_IF[j] = list(sub_data / sub_gene)\n",
      "/data/work/tools/scCyclone/tools/_rank_ifs_groups.py:198: PerformanceWarning: DataFrame is highly fragmented.  This is usually the result of calling `frame.insert` many times, which has poor performance.  Consider joining all columns at once using pd.concat(axis=1) instead. To get a de-fragmented frame, use `newframe = frame.copy()`\n",
      "  data_IF[j] = list(sub_data / sub_gene)\n",
      "/data/work/tools/scCyclone/tools/_rank_ifs_groups.py:198: PerformanceWarning: DataFrame is highly fragmented.  This is usually the result of calling `frame.insert` many times, which has poor performance.  Consider joining all columns at once using pd.concat(axis=1) instead. To get a de-fragmented frame, use `newframe = frame.copy()`\n",
      "  data_IF[j] = list(sub_data / sub_gene)\n",
      "/data/work/tools/scCyclone/tools/_rank_ifs_groups.py:198: PerformanceWarning: DataFrame is highly fragmented.  This is usually the result of calling `frame.insert` many times, which has poor performance.  Consider joining all columns at once using pd.concat(axis=1) instead. To get a de-fragmented frame, use `newframe = frame.copy()`\n",
      "  data_IF[j] = list(sub_data / sub_gene)\n",
      "/data/work/tools/scCyclone/tools/_rank_ifs_groups.py:198: PerformanceWarning: DataFrame is highly fragmented.  This is usually the result of calling `frame.insert` many times, which has poor performance.  Consider joining all columns at once using pd.concat(axis=1) instead. To get a de-fragmented frame, use `newframe = frame.copy()`\n",
      "  data_IF[j] = list(sub_data / sub_gene)\n",
      "/data/work/tools/scCyclone/tools/_rank_ifs_groups.py:198: PerformanceWarning: DataFrame is highly fragmented.  This is usually the result of calling `frame.insert` many times, which has poor performance.  Consider joining all columns at once using pd.concat(axis=1) instead. To get a de-fragmented frame, use `newframe = frame.copy()`\n",
      "  data_IF[j] = list(sub_data / sub_gene)\n",
      "/data/work/tools/scCyclone/tools/_rank_ifs_groups.py:198: PerformanceWarning: DataFrame is highly fragmented.  This is usually the result of calling `frame.insert` many times, which has poor performance.  Consider joining all columns at once using pd.concat(axis=1) instead. To get a de-fragmented frame, use `newframe = frame.copy()`\n",
      "  data_IF[j] = list(sub_data / sub_gene)\n",
      "/data/work/tools/scCyclone/tools/_rank_ifs_groups.py:198: PerformanceWarning: DataFrame is highly fragmented.  This is usually the result of calling `frame.insert` many times, which has poor performance.  Consider joining all columns at once using pd.concat(axis=1) instead. To get a de-fragmented frame, use `newframe = frame.copy()`\n",
      "  data_IF[j] = list(sub_data / sub_gene)\n",
      "/data/work/tools/scCyclone/tools/_rank_ifs_groups.py:198: PerformanceWarning: DataFrame is highly fragmented.  This is usually the result of calling `frame.insert` many times, which has poor performance.  Consider joining all columns at once using pd.concat(axis=1) instead. To get a de-fragmented frame, use `newframe = frame.copy()`\n",
      "  data_IF[j] = list(sub_data / sub_gene)\n",
      "/data/work/tools/scCyclone/tools/_rank_ifs_groups.py:198: PerformanceWarning: DataFrame is highly fragmented.  This is usually the result of calling `frame.insert` many times, which has poor performance.  Consider joining all columns at once using pd.concat(axis=1) instead. To get a de-fragmented frame, use `newframe = frame.copy()`\n",
      "  data_IF[j] = list(sub_data / sub_gene)\n",
      "/data/work/tools/scCyclone/tools/_rank_ifs_groups.py:198: PerformanceWarning: DataFrame is highly fragmented.  This is usually the result of calling `frame.insert` many times, which has poor performance.  Consider joining all columns at once using pd.concat(axis=1) instead. To get a de-fragmented frame, use `newframe = frame.copy()`\n",
      "  data_IF[j] = list(sub_data / sub_gene)\n",
      "/data/work/tools/scCyclone/tools/_rank_ifs_groups.py:198: PerformanceWarning: DataFrame is highly fragmented.  This is usually the result of calling `frame.insert` many times, which has poor performance.  Consider joining all columns at once using pd.concat(axis=1) instead. To get a de-fragmented frame, use `newframe = frame.copy()`\n",
      "  data_IF[j] = list(sub_data / sub_gene)\n",
      "/data/work/tools/scCyclone/tools/_rank_ifs_groups.py:198: PerformanceWarning: DataFrame is highly fragmented.  This is usually the result of calling `frame.insert` many times, which has poor performance.  Consider joining all columns at once using pd.concat(axis=1) instead. To get a de-fragmented frame, use `newframe = frame.copy()`\n",
      "  data_IF[j] = list(sub_data / sub_gene)\n",
      "/data/work/tools/scCyclone/tools/_rank_ifs_groups.py:198: PerformanceWarning: DataFrame is highly fragmented.  This is usually the result of calling `frame.insert` many times, which has poor performance.  Consider joining all columns at once using pd.concat(axis=1) instead. To get a de-fragmented frame, use `newframe = frame.copy()`\n",
      "  data_IF[j] = list(sub_data / sub_gene)\n",
      "/data/work/tools/scCyclone/tools/_rank_ifs_groups.py:198: PerformanceWarning: DataFrame is highly fragmented.  This is usually the result of calling `frame.insert` many times, which has poor performance.  Consider joining all columns at once using pd.concat(axis=1) instead. To get a de-fragmented frame, use `newframe = frame.copy()`\n",
      "  data_IF[j] = list(sub_data / sub_gene)\n",
      "/data/work/tools/scCyclone/tools/_rank_ifs_groups.py:198: PerformanceWarning: DataFrame is highly fragmented.  This is usually the result of calling `frame.insert` many times, which has poor performance.  Consider joining all columns at once using pd.concat(axis=1) instead. To get a de-fragmented frame, use `newframe = frame.copy()`\n",
      "  data_IF[j] = list(sub_data / sub_gene)\n",
      "/data/work/tools/scCyclone/tools/_rank_ifs_groups.py:198: PerformanceWarning: DataFrame is highly fragmented.  This is usually the result of calling `frame.insert` many times, which has poor performance.  Consider joining all columns at once using pd.concat(axis=1) instead. To get a de-fragmented frame, use `newframe = frame.copy()`\n",
      "  data_IF[j] = list(sub_data / sub_gene)\n",
      "/data/work/tools/scCyclone/tools/_rank_ifs_groups.py:198: PerformanceWarning: DataFrame is highly fragmented.  This is usually the result of calling `frame.insert` many times, which has poor performance.  Consider joining all columns at once using pd.concat(axis=1) instead. To get a de-fragmented frame, use `newframe = frame.copy()`\n",
      "  data_IF[j] = list(sub_data / sub_gene)\n",
      "/data/work/tools/scCyclone/tools/_rank_ifs_groups.py:198: PerformanceWarning: DataFrame is highly fragmented.  This is usually the result of calling `frame.insert` many times, which has poor performance.  Consider joining all columns at once using pd.concat(axis=1) instead. To get a de-fragmented frame, use `newframe = frame.copy()`\n",
      "  data_IF[j] = list(sub_data / sub_gene)\n",
      "/data/work/tools/scCyclone/tools/_rank_ifs_groups.py:198: PerformanceWarning: DataFrame is highly fragmented.  This is usually the result of calling `frame.insert` many times, which has poor performance.  Consider joining all columns at once using pd.concat(axis=1) instead. To get a de-fragmented frame, use `newframe = frame.copy()`\n",
      "  data_IF[j] = list(sub_data / sub_gene)\n",
      "/data/work/tools/scCyclone/tools/_rank_ifs_groups.py:198: PerformanceWarning: DataFrame is highly fragmented.  This is usually the result of calling `frame.insert` many times, which has poor performance.  Consider joining all columns at once using pd.concat(axis=1) instead. To get a de-fragmented frame, use `newframe = frame.copy()`\n",
      "  data_IF[j] = list(sub_data / sub_gene)\n",
      "/data/work/tools/scCyclone/tools/_rank_ifs_groups.py:198: PerformanceWarning: DataFrame is highly fragmented.  This is usually the result of calling `frame.insert` many times, which has poor performance.  Consider joining all columns at once using pd.concat(axis=1) instead. To get a de-fragmented frame, use `newframe = frame.copy()`\n",
      "  data_IF[j] = list(sub_data / sub_gene)\n",
      "/data/work/tools/scCyclone/tools/_rank_ifs_groups.py:198: PerformanceWarning: DataFrame is highly fragmented.  This is usually the result of calling `frame.insert` many times, which has poor performance.  Consider joining all columns at once using pd.concat(axis=1) instead. To get a de-fragmented frame, use `newframe = frame.copy()`\n",
      "  data_IF[j] = list(sub_data / sub_gene)\n",
      "/data/work/tools/scCyclone/tools/_rank_ifs_groups.py:198: PerformanceWarning: DataFrame is highly fragmented.  This is usually the result of calling `frame.insert` many times, which has poor performance.  Consider joining all columns at once using pd.concat(axis=1) instead. To get a de-fragmented frame, use `newframe = frame.copy()`\n",
      "  data_IF[j] = list(sub_data / sub_gene)\n",
      "/data/work/tools/scCyclone/tools/_rank_ifs_groups.py:198: PerformanceWarning: DataFrame is highly fragmented.  This is usually the result of calling `frame.insert` many times, which has poor performance.  Consider joining all columns at once using pd.concat(axis=1) instead. To get a de-fragmented frame, use `newframe = frame.copy()`\n",
      "  data_IF[j] = list(sub_data / sub_gene)\n",
      "/data/work/tools/scCyclone/tools/_rank_ifs_groups.py:198: PerformanceWarning: DataFrame is highly fragmented.  This is usually the result of calling `frame.insert` many times, which has poor performance.  Consider joining all columns at once using pd.concat(axis=1) instead. To get a de-fragmented frame, use `newframe = frame.copy()`\n",
      "  data_IF[j] = list(sub_data / sub_gene)\n",
      "/data/work/tools/scCyclone/tools/_rank_ifs_groups.py:198: PerformanceWarning: DataFrame is highly fragmented.  This is usually the result of calling `frame.insert` many times, which has poor performance.  Consider joining all columns at once using pd.concat(axis=1) instead. To get a de-fragmented frame, use `newframe = frame.copy()`\n",
      "  data_IF[j] = list(sub_data / sub_gene)\n",
      "/data/work/tools/scCyclone/tools/_rank_ifs_groups.py:198: PerformanceWarning: DataFrame is highly fragmented.  This is usually the result of calling `frame.insert` many times, which has poor performance.  Consider joining all columns at once using pd.concat(axis=1) instead. To get a de-fragmented frame, use `newframe = frame.copy()`\n",
      "  data_IF[j] = list(sub_data / sub_gene)\n",
      "/data/work/tools/scCyclone/tools/_rank_ifs_groups.py:198: PerformanceWarning: DataFrame is highly fragmented.  This is usually the result of calling `frame.insert` many times, which has poor performance.  Consider joining all columns at once using pd.concat(axis=1) instead. To get a de-fragmented frame, use `newframe = frame.copy()`\n",
      "  data_IF[j] = list(sub_data / sub_gene)\n",
      "/data/work/tools/scCyclone/tools/_rank_ifs_groups.py:198: PerformanceWarning: DataFrame is highly fragmented.  This is usually the result of calling `frame.insert` many times, which has poor performance.  Consider joining all columns at once using pd.concat(axis=1) instead. To get a de-fragmented frame, use `newframe = frame.copy()`\n",
      "  data_IF[j] = list(sub_data / sub_gene)\n",
      "/data/work/tools/scCyclone/tools/_rank_ifs_groups.py:198: PerformanceWarning: DataFrame is highly fragmented.  This is usually the result of calling `frame.insert` many times, which has poor performance.  Consider joining all columns at once using pd.concat(axis=1) instead. To get a de-fragmented frame, use `newframe = frame.copy()`\n",
      "  data_IF[j] = list(sub_data / sub_gene)\n",
      "/data/work/tools/scCyclone/tools/_rank_ifs_groups.py:198: PerformanceWarning: DataFrame is highly fragmented.  This is usually the result of calling `frame.insert` many times, which has poor performance.  Consider joining all columns at once using pd.concat(axis=1) instead. To get a de-fragmented frame, use `newframe = frame.copy()`\n",
      "  data_IF[j] = list(sub_data / sub_gene)\n",
      "/data/work/tools/scCyclone/tools/_rank_ifs_groups.py:198: PerformanceWarning: DataFrame is highly fragmented.  This is usually the result of calling `frame.insert` many times, which has poor performance.  Consider joining all columns at once using pd.concat(axis=1) instead. To get a de-fragmented frame, use `newframe = frame.copy()`\n",
      "  data_IF[j] = list(sub_data / sub_gene)\n",
      "/data/work/tools/scCyclone/tools/_rank_ifs_groups.py:198: PerformanceWarning: DataFrame is highly fragmented.  This is usually the result of calling `frame.insert` many times, which has poor performance.  Consider joining all columns at once using pd.concat(axis=1) instead. To get a de-fragmented frame, use `newframe = frame.copy()`\n",
      "  data_IF[j] = list(sub_data / sub_gene)\n"
     ]
    },
    {
     "name": "stdout",
     "output_type": "stream",
     "text": [
      "Process successful for 0\n",
      "Compute dIF...\n",
      "Compute pvalue...\n",
      "Compute proportion...\n",
      "Group B complete!\n",
      "-----------------------------------------\n"
     ]
    },
    {
     "data": {
      "text/plain": [
       "AnnData object with n_obs × n_vars = 2999 × 15247\n",
       "    obs: 'batch', 'n_genes', 'label'\n",
       "    var: 'isoform', 'chrom', 'strand', 'length', 'exons', 'structural_category', 'associated_gene', 'CDS_length', 'CDS_start', 'CDS_end', 'CDS_genomic_start', 'CDS_genomic_end', 'predicted_NMD', 'gene_name', 'n_cells'\n",
       "    uns: 'rank_ifs_groups'"
      ]
     },
     "execution_count": 30,
     "metadata": {},
     "output_type": "execute_result"
    }
   ],
   "source": [
    "scc.tl.rank_ifs_groups(adata_iso,groupby=\"label\")"
   ]
  },
  {
   "cell_type": "code",
   "execution_count": 32,
   "id": "94761e15-d1f1-4f37-adab-ca0cb7d56555",
   "metadata": {},
   "outputs": [
    {
     "data": {
      "text/html": [
       "<div>\n",
       "<style scoped>\n",
       "    .dataframe tbody tr th:only-of-type {\n",
       "        vertical-align: middle;\n",
       "    }\n",
       "\n",
       "    .dataframe tbody tr th {\n",
       "        vertical-align: top;\n",
       "    }\n",
       "\n",
       "    .dataframe thead th {\n",
       "        text-align: right;\n",
       "    }\n",
       "</style>\n",
       "<table border=\"1\" class=\"dataframe\">\n",
       "  <thead>\n",
       "    <tr style=\"text-align: right;\">\n",
       "      <th></th>\n",
       "      <th>group</th>\n",
       "      <th>names</th>\n",
       "      <th>dif</th>\n",
       "      <th>dr</th>\n",
       "      <th>dr_state</th>\n",
       "      <th>dr_first</th>\n",
       "      <th>pvals</th>\n",
       "      <th>pvals_adj</th>\n",
       "      <th>dpr</th>\n",
       "      <th>gene_name</th>\n",
       "    </tr>\n",
       "  </thead>\n",
       "  <tbody>\n",
       "    <tr>\n",
       "      <th>0</th>\n",
       "      <td>A</td>\n",
       "      <td>transcript39801.1.nnic</td>\n",
       "      <td>0.001003</td>\n",
       "      <td>(1, 1)</td>\n",
       "      <td>normal</td>\n",
       "      <td>True</td>\n",
       "      <td>0.181273</td>\n",
       "      <td>1.0</td>\n",
       "      <td>-0.014146</td>\n",
       "      <td>cldng</td>\n",
       "    </tr>\n",
       "    <tr>\n",
       "      <th>1</th>\n",
       "      <td>A</td>\n",
       "      <td>ENSDART00000047159</td>\n",
       "      <td>0.009441</td>\n",
       "      <td>(1, 1)</td>\n",
       "      <td>normal</td>\n",
       "      <td>True</td>\n",
       "      <td>0.047584</td>\n",
       "      <td>1.0</td>\n",
       "      <td>-0.022071</td>\n",
       "      <td>hmgb2a</td>\n",
       "    </tr>\n",
       "    <tr>\n",
       "      <th>2</th>\n",
       "      <td>A</td>\n",
       "      <td>ENSDART00000074689</td>\n",
       "      <td>0.032053</td>\n",
       "      <td>(1, 1)</td>\n",
       "      <td>normal</td>\n",
       "      <td>True</td>\n",
       "      <td>0.457061</td>\n",
       "      <td>1.0</td>\n",
       "      <td>0.009537</td>\n",
       "      <td>eif5b</td>\n",
       "    </tr>\n",
       "    <tr>\n",
       "      <th>3</th>\n",
       "      <td>A</td>\n",
       "      <td>ENSDART00000084174</td>\n",
       "      <td>0.007793</td>\n",
       "      <td>(1, 1)</td>\n",
       "      <td>normal</td>\n",
       "      <td>True</td>\n",
       "      <td>0.417753</td>\n",
       "      <td>1.0</td>\n",
       "      <td>0.010475</td>\n",
       "      <td>lig1</td>\n",
       "    </tr>\n",
       "    <tr>\n",
       "      <th>4</th>\n",
       "      <td>A</td>\n",
       "      <td>transcript69965.2.nnic</td>\n",
       "      <td>0.029608</td>\n",
       "      <td>(2, 3)</td>\n",
       "      <td>up</td>\n",
       "      <td>False</td>\n",
       "      <td>0.167541</td>\n",
       "      <td>1.0</td>\n",
       "      <td>0.011663</td>\n",
       "      <td>lig1</td>\n",
       "    </tr>\n",
       "    <tr>\n",
       "      <th>...</th>\n",
       "      <td>...</td>\n",
       "      <td>...</td>\n",
       "      <td>...</td>\n",
       "      <td>...</td>\n",
       "      <td>...</td>\n",
       "      <td>...</td>\n",
       "      <td>...</td>\n",
       "      <td>...</td>\n",
       "      <td>...</td>\n",
       "      <td>...</td>\n",
       "    </tr>\n",
       "    <tr>\n",
       "      <th>145</th>\n",
       "      <td>B</td>\n",
       "      <td>ENSDART00000138350</td>\n",
       "      <td>0.018797</td>\n",
       "      <td>(1, 1)</td>\n",
       "      <td>normal</td>\n",
       "      <td>True</td>\n",
       "      <td>0.265724</td>\n",
       "      <td>1.0</td>\n",
       "      <td>0.012588</td>\n",
       "      <td>rps12</td>\n",
       "    </tr>\n",
       "    <tr>\n",
       "      <th>146</th>\n",
       "      <td>B</td>\n",
       "      <td>ENSDART00000188105</td>\n",
       "      <td>0.002582</td>\n",
       "      <td>(1, 1)</td>\n",
       "      <td>normal</td>\n",
       "      <td>True</td>\n",
       "      <td>0.973672</td>\n",
       "      <td>1.0</td>\n",
       "      <td>-0.000002</td>\n",
       "      <td>hmgb2b</td>\n",
       "    </tr>\n",
       "    <tr>\n",
       "      <th>147</th>\n",
       "      <td>B</td>\n",
       "      <td>transcript64375.23.nnic</td>\n",
       "      <td>0.055941</td>\n",
       "      <td>(1, 1)</td>\n",
       "      <td>normal</td>\n",
       "      <td>True</td>\n",
       "      <td>0.061627</td>\n",
       "      <td>1.0</td>\n",
       "      <td>0.024923</td>\n",
       "      <td>psip1b</td>\n",
       "    </tr>\n",
       "    <tr>\n",
       "      <th>148</th>\n",
       "      <td>B</td>\n",
       "      <td>transcript35335.25.nic</td>\n",
       "      <td>0.034969</td>\n",
       "      <td>(2, 2)</td>\n",
       "      <td>normal</td>\n",
       "      <td>False</td>\n",
       "      <td>0.644348</td>\n",
       "      <td>1.0</td>\n",
       "      <td>-0.004831</td>\n",
       "      <td>eif3ja</td>\n",
       "    </tr>\n",
       "    <tr>\n",
       "      <th>149</th>\n",
       "      <td>B</td>\n",
       "      <td>transcript6181.25.nnic</td>\n",
       "      <td>0.000262</td>\n",
       "      <td>(2, 2)</td>\n",
       "      <td>normal</td>\n",
       "      <td>False</td>\n",
       "      <td>0.622758</td>\n",
       "      <td>1.0</td>\n",
       "      <td>-0.002099</td>\n",
       "      <td>CABZ01058261.1</td>\n",
       "    </tr>\n",
       "  </tbody>\n",
       "</table>\n",
       "<p>150 rows × 10 columns</p>\n",
       "</div>"
      ],
      "text/plain": [
       "    group                    names       dif      dr dr_state  dr_first  \\\n",
       "0       A   transcript39801.1.nnic  0.001003  (1, 1)   normal      True   \n",
       "1       A       ENSDART00000047159  0.009441  (1, 1)   normal      True   \n",
       "2       A       ENSDART00000074689  0.032053  (1, 1)   normal      True   \n",
       "3       A       ENSDART00000084174  0.007793  (1, 1)   normal      True   \n",
       "4       A   transcript69965.2.nnic  0.029608  (2, 3)       up     False   \n",
       "..    ...                      ...       ...     ...      ...       ...   \n",
       "145     B       ENSDART00000138350  0.018797  (1, 1)   normal      True   \n",
       "146     B       ENSDART00000188105  0.002582  (1, 1)   normal      True   \n",
       "147     B  transcript64375.23.nnic  0.055941  (1, 1)   normal      True   \n",
       "148     B   transcript35335.25.nic  0.034969  (2, 2)   normal     False   \n",
       "149     B   transcript6181.25.nnic  0.000262  (2, 2)   normal     False   \n",
       "\n",
       "        pvals  pvals_adj       dpr       gene_name  \n",
       "0    0.181273        1.0 -0.014146           cldng  \n",
       "1    0.047584        1.0 -0.022071          hmgb2a  \n",
       "2    0.457061        1.0  0.009537           eif5b  \n",
       "3    0.417753        1.0  0.010475            lig1  \n",
       "4    0.167541        1.0  0.011663            lig1  \n",
       "..        ...        ...       ...             ...  \n",
       "145  0.265724        1.0  0.012588           rps12  \n",
       "146  0.973672        1.0 -0.000002          hmgb2b  \n",
       "147  0.061627        1.0  0.024923          psip1b  \n",
       "148  0.644348        1.0 -0.004831          eif3ja  \n",
       "149  0.622758        1.0 -0.002099  CABZ01058261.1  \n",
       "\n",
       "[150 rows x 10 columns]"
      ]
     },
     "execution_count": 32,
     "metadata": {},
     "output_type": "execute_result"
    }
   ],
   "source": [
    "scc.get.rank_ifs_groups_df(adata_iso)"
   ]
  },
  {
   "cell_type": "code",
   "execution_count": null,
   "id": "702c0c21-fd6f-417f-a192-572662053c84",
   "metadata": {},
   "outputs": [],
   "source": [
    "switch_data=scc.tl.rank_switchs_groups(adata_iso)"
   ]
  },
  {
   "cell_type": "code",
   "execution_count": null,
   "id": "416b633e-05a8-45bc-9b47-25d14a24ce40",
   "metadata": {},
   "outputs": [],
   "source": [
    "switch_data_info,switch_data_summary=scc.tl.rank_switch_consequences_groups(adata,switch_data,var_name_list=['exons','polyA_motif_found'])"
   ]
  },
  {
   "cell_type": "markdown",
   "id": "a142464b-835f-4d6d-a7ef-1468d64ba1a3",
   "metadata": {
    "tags": []
   },
   "source": [
    "## DPSI analysis"
   ]
  },
  {
   "cell_type": "code",
   "execution_count": 36,
   "id": "5488d393-1819-4e54-b274-f4e2abde5e49",
   "metadata": {
    "collapsed": true,
    "jupyter": {
     "outputs_hidden": true
    },
    "tags": []
   },
   "outputs": [
    {
     "name": "stdout",
     "output_type": "stream",
     "text": [
      "['A', 'B']\n"
     ]
    },
    {
     "name": "stderr",
     "output_type": "stream",
     "text": [
      "/usr/local/lib/python3.8/site-packages/scanpy/preprocessing/_simple.py:251: ImplicitModificationWarning: Trying to modify attribute `.var` of view, initializing view as actual.\n",
      "  adata.var['n_cells'] = number\n",
      "/usr/local/lib/python3.8/site-packages/anndata/_core/anndata.py:1840: UserWarning: Variable names are not unique. To make them unique, call `.var_names_make_unique`.\n",
      "  utils.warn_names_duplicates(\"var\")\n",
      "/usr/local/lib/python3.8/site-packages/anndata/_core/anndata.py:1840: UserWarning: Variable names are not unique. To make them unique, call `.var_names_make_unique`.\n",
      "  utils.warn_names_duplicates(\"var\")\n",
      "/usr/local/lib/python3.8/site-packages/scanpy/preprocessing/_simple.py:251: ImplicitModificationWarning: Trying to modify attribute `.var` of view, initializing view as actual.\n",
      "  adata.var['n_cells'] = number\n",
      "/usr/local/lib/python3.8/site-packages/anndata/_core/anndata.py:1840: UserWarning: Variable names are not unique. To make them unique, call `.var_names_make_unique`.\n",
      "  utils.warn_names_duplicates(\"var\")\n"
     ]
    },
    {
     "name": "stdout",
     "output_type": "stream",
     "text": [
      "Filter event: 20895\n",
      "Group A start!\n",
      "Compute dpsi...\n",
      "Compute pvalue...\n",
      "Group A complete!\n",
      "-----------------------------------------\n",
      "Group B start!\n",
      "Compute dpsi...\n",
      "Compute pvalue...\n",
      "Group B complete!\n",
      "-----------------------------------------\n"
     ]
    },
    {
     "data": {
      "text/plain": [
       "AnnData object with n_obs × n_vars = 2999 × 20963\n",
       "    obs: 'batch', 'n_genes', 'label'\n",
       "    var: 'gene_id', 'type', 'alternative_transcripts', 'total_transcripts'\n",
       "    uns: 'rank_psis_groups'"
      ]
     },
     "execution_count": 36,
     "metadata": {},
     "output_type": "execute_result"
    }
   ],
   "source": [
    "scc.tl.rank_psis_groups(adata_psi,groupby=\"label\")"
   ]
  },
  {
   "cell_type": "code",
   "execution_count": 38,
   "id": "c30cf84f-9abb-426e-9f0d-84400552b4df",
   "metadata": {},
   "outputs": [
    {
     "data": {
      "text/plain": [
       "AnnData object with n_obs × n_vars = 2999 × 20963\n",
       "    obs: 'batch', 'n_genes', 'label'\n",
       "    var: 'gene_id', 'type', 'alternative_transcripts', 'total_transcripts'\n",
       "    uns: 'rank_psis_groups'"
      ]
     },
     "execution_count": 38,
     "metadata": {},
     "output_type": "execute_result"
    }
   ],
   "source": [
    "adata_psi"
   ]
  },
  {
   "cell_type": "code",
   "execution_count": 39,
   "id": "d6c98158-4017-4476-99a4-68e9dba3c5f3",
   "metadata": {
    "tags": []
   },
   "outputs": [
    {
     "data": {
      "text/html": [
       "<div>\n",
       "<style scoped>\n",
       "    .dataframe tbody tr th:only-of-type {\n",
       "        vertical-align: middle;\n",
       "    }\n",
       "\n",
       "    .dataframe tbody tr th {\n",
       "        vertical-align: top;\n",
       "    }\n",
       "\n",
       "    .dataframe thead th {\n",
       "        text-align: right;\n",
       "    }\n",
       "</style>\n",
       "<table border=\"1\" class=\"dataframe\">\n",
       "  <thead>\n",
       "    <tr style=\"text-align: right;\">\n",
       "      <th></th>\n",
       "      <th>group</th>\n",
       "      <th>names</th>\n",
       "      <th>dpsi</th>\n",
       "      <th>pvals</th>\n",
       "      <th>pvals_adj</th>\n",
       "      <th>gene_id</th>\n",
       "    </tr>\n",
       "  </thead>\n",
       "  <tbody>\n",
       "    <tr>\n",
       "      <th>0</th>\n",
       "      <td>A</td>\n",
       "      <td>ENSDARG00000037713;A3:1:7557049-7559800:755704...</td>\n",
       "      <td>1.000</td>\n",
       "      <td>1.00</td>\n",
       "      <td>1.0</td>\n",
       "      <td>ENSDARG00000037713</td>\n",
       "    </tr>\n",
       "    <tr>\n",
       "      <th>1</th>\n",
       "      <td>A</td>\n",
       "      <td>ENSDARG00000061901;A3:5:19940575-19943507:1994...</td>\n",
       "      <td>1.000</td>\n",
       "      <td>1.00</td>\n",
       "      <td>1.0</td>\n",
       "      <td>ENSDARG00000061901</td>\n",
       "    </tr>\n",
       "    <tr>\n",
       "      <th>2</th>\n",
       "      <td>A</td>\n",
       "      <td>ENSDARG00000086150;A3:7:20918172-20919896:2091...</td>\n",
       "      <td>1.000</td>\n",
       "      <td>1.00</td>\n",
       "      <td>1.0</td>\n",
       "      <td>ENSDARG00000086150</td>\n",
       "    </tr>\n",
       "    <tr>\n",
       "      <th>3</th>\n",
       "      <td>A</td>\n",
       "      <td>ENSDARG00000062423;A3:9:24209707-24209910:2420...</td>\n",
       "      <td>1.000</td>\n",
       "      <td>1.00</td>\n",
       "      <td>1.0</td>\n",
       "      <td>ENSDARG00000062423</td>\n",
       "    </tr>\n",
       "    <tr>\n",
       "      <th>4</th>\n",
       "      <td>A</td>\n",
       "      <td>ENSDARG00000098983;A3:12:49000563-49003489:490...</td>\n",
       "      <td>1.000</td>\n",
       "      <td>1.00</td>\n",
       "      <td>1.0</td>\n",
       "      <td>ENSDARG00000098983</td>\n",
       "    </tr>\n",
       "    <tr>\n",
       "      <th>...</th>\n",
       "      <td>...</td>\n",
       "      <td>...</td>\n",
       "      <td>...</td>\n",
       "      <td>...</td>\n",
       "      <td>...</td>\n",
       "      <td>...</td>\n",
       "    </tr>\n",
       "    <tr>\n",
       "      <th>679</th>\n",
       "      <td>B</td>\n",
       "      <td>ENSDARG00000003058;SE:20:30589472-30594119:305...</td>\n",
       "      <td>0.111</td>\n",
       "      <td>1.00</td>\n",
       "      <td>1.0</td>\n",
       "      <td>ENSDARG00000003058</td>\n",
       "    </tr>\n",
       "    <tr>\n",
       "      <th>680</th>\n",
       "      <td>B</td>\n",
       "      <td>ENSDARG00000017439;SE:23:10434848-10435175:104...</td>\n",
       "      <td>0.109</td>\n",
       "      <td>1.00</td>\n",
       "      <td>1.0</td>\n",
       "      <td>ENSDARG00000017439</td>\n",
       "    </tr>\n",
       "    <tr>\n",
       "      <th>681</th>\n",
       "      <td>B</td>\n",
       "      <td>ENSDARG00000028335;AF:23:3758463-3759278:37593...</td>\n",
       "      <td>0.107</td>\n",
       "      <td>0.03</td>\n",
       "      <td>1.0</td>\n",
       "      <td>ENSDARG00000028335</td>\n",
       "    </tr>\n",
       "    <tr>\n",
       "      <th>682</th>\n",
       "      <td>B</td>\n",
       "      <td>ENSDARG00000057556;AF:21:19061766:19061998-190...</td>\n",
       "      <td>0.100</td>\n",
       "      <td>0.00</td>\n",
       "      <td>0.0</td>\n",
       "      <td>ENSDARG00000057556</td>\n",
       "    </tr>\n",
       "    <tr>\n",
       "      <th>683</th>\n",
       "      <td>B</td>\n",
       "      <td>ENSDARG00000027249;SE:4:16539431-16541194:1654...</td>\n",
       "      <td>0.100</td>\n",
       "      <td>1.00</td>\n",
       "      <td>1.0</td>\n",
       "      <td>ENSDARG00000027249</td>\n",
       "    </tr>\n",
       "  </tbody>\n",
       "</table>\n",
       "<p>684 rows × 6 columns</p>\n",
       "</div>"
      ],
      "text/plain": [
       "    group                                              names   dpsi  pvals  \\\n",
       "0       A  ENSDARG00000037713;A3:1:7557049-7559800:755704...  1.000   1.00   \n",
       "1       A  ENSDARG00000061901;A3:5:19940575-19943507:1994...  1.000   1.00   \n",
       "2       A  ENSDARG00000086150;A3:7:20918172-20919896:2091...  1.000   1.00   \n",
       "3       A  ENSDARG00000062423;A3:9:24209707-24209910:2420...  1.000   1.00   \n",
       "4       A  ENSDARG00000098983;A3:12:49000563-49003489:490...  1.000   1.00   \n",
       "..    ...                                                ...    ...    ...   \n",
       "679     B  ENSDARG00000003058;SE:20:30589472-30594119:305...  0.111   1.00   \n",
       "680     B  ENSDARG00000017439;SE:23:10434848-10435175:104...  0.109   1.00   \n",
       "681     B  ENSDARG00000028335;AF:23:3758463-3759278:37593...  0.107   0.03   \n",
       "682     B  ENSDARG00000057556;AF:21:19061766:19061998-190...  0.100   0.00   \n",
       "683     B  ENSDARG00000027249;SE:4:16539431-16541194:1654...  0.100   1.00   \n",
       "\n",
       "     pvals_adj             gene_id  \n",
       "0          1.0  ENSDARG00000037713  \n",
       "1          1.0  ENSDARG00000061901  \n",
       "2          1.0  ENSDARG00000086150  \n",
       "3          1.0  ENSDARG00000062423  \n",
       "4          1.0  ENSDARG00000098983  \n",
       "..         ...                 ...  \n",
       "679        1.0  ENSDARG00000003058  \n",
       "680        1.0  ENSDARG00000017439  \n",
       "681        1.0  ENSDARG00000028335  \n",
       "682        0.0  ENSDARG00000057556  \n",
       "683        1.0  ENSDARG00000027249  \n",
       "\n",
       "[684 rows x 6 columns]"
      ]
     },
     "execution_count": 39,
     "metadata": {},
     "output_type": "execute_result"
    }
   ],
   "source": [
    "scc.get.rank_psis_groups_df(adata_psi,gene_symbols=\"gene_id\",min_dpsi=0.1)"
   ]
  },
  {
   "cell_type": "code",
   "execution_count": 40,
   "id": "72e1d13b-d213-4fe5-9f8f-5a7fec4b9188",
   "metadata": {},
   "outputs": [],
   "source": [
    "event_list=list(adata_psi.var.index[:100])"
   ]
  },
  {
   "cell_type": "code",
   "execution_count": null,
   "id": "d58f45bc-bffe-4d43-a53d-3c5983d095ad",
   "metadata": {},
   "outputs": [],
   "source": [
    "event_modal_data,event_best_modal_data=scc.get.psis_modal_df(adata_psi,groupby=\"label\",groups=[\"A\"],event_list=event_list,valid_cells=10)"
   ]
  },
  {
   "cell_type": "code",
   "execution_count": 44,
   "id": "956f059e-d596-45e8-8442-f6ad8c0e8384",
   "metadata": {},
   "outputs": [
    {
     "data": {
      "text/html": [
       "<div>\n",
       "<style scoped>\n",
       "    .dataframe tbody tr th:only-of-type {\n",
       "        vertical-align: middle;\n",
       "    }\n",
       "\n",
       "    .dataframe tbody tr th {\n",
       "        vertical-align: top;\n",
       "    }\n",
       "\n",
       "    .dataframe thead th {\n",
       "        text-align: right;\n",
       "    }\n",
       "</style>\n",
       "<table border=\"1\" class=\"dataframe\">\n",
       "  <thead>\n",
       "    <tr style=\"text-align: right;\">\n",
       "      <th></th>\n",
       "      <th>ENSDARG00000103929;A3:1:45550-45788:45524-45788:-</th>\n",
       "      <th>ENSDARG00000103929;A3:1:48584-48890:48576-48890:-</th>\n",
       "      <th>ENSDARG00000103929;A3:1:48584-48890:48564-48890:-</th>\n",
       "      <th>ENSDARG00000014313;A3:1:613192-614504:613189-614504:-</th>\n",
       "      <th>ENSDARG00000037746;A3:1:8651631-8652579:8651610-8652579:-</th>\n",
       "      <th>ENSDARG00000063169;A3:1:9276450-9277168:9276437-9277168:-</th>\n",
       "      <th>ENSDARG00000089930;A3:1:11877213-11877367:11877210-11877367:-</th>\n",
       "      <th>ENSDARG00000056504;A3:1:16676019-16676110:16676015-16676110:-</th>\n",
       "      <th>ENSDARG00000006434;A3:1:19637622-19639781:19637599-19639781:-</th>\n",
       "      <th>ENSDARG00000037276;A3:1:25749687-25749769:25749657-25749769:-</th>\n",
       "      <th>...</th>\n",
       "      <th>ENSDARG00000093003;A3:1:52501962-52503591:52501948-52503591:-</th>\n",
       "      <th>ENSDARG00000024681;A3:1:55161475-55162440:55161424-55162440:-</th>\n",
       "      <th>ENSDARG00000099635;A3:1:59228465-59228550:59228459-59228550:-</th>\n",
       "      <th>ENSDARG00000101291;A3:1:59310440-59310594:59310437-59310594:-</th>\n",
       "      <th>ENSDARG00000101291;A3:1:59311097-59312061:59311091-59312061:-</th>\n",
       "      <th>ENSDARG00000102407;A3:1:12953-13034:12953-13070:+</th>\n",
       "      <th>ENSDARG00000102407;A3:1:15137-15352:15137-15365:+</th>\n",
       "      <th>ENSDARG00000063385;A3:1:278432-278719:278432-278728:+</th>\n",
       "      <th>ENSDARG00000074031;A3:1:6238776-6240431:6238776-6240437:+</th>\n",
       "      <th>ENSDARG00000058471;A3:1:9155305-9155420:9155305-9155440:+</th>\n",
       "    </tr>\n",
       "  </thead>\n",
       "  <tbody>\n",
       "    <tr>\n",
       "      <th>bimodal</th>\n",
       "      <td>0.87</td>\n",
       "      <td>0.0</td>\n",
       "      <td>0.0</td>\n",
       "      <td>0.58</td>\n",
       "      <td>0.0</td>\n",
       "      <td>0.55</td>\n",
       "      <td>0.12</td>\n",
       "      <td>0.03</td>\n",
       "      <td>0.43</td>\n",
       "      <td>0.0</td>\n",
       "      <td>...</td>\n",
       "      <td>0.0</td>\n",
       "      <td>0.0</td>\n",
       "      <td>0.39</td>\n",
       "      <td>0.01</td>\n",
       "      <td>0.0</td>\n",
       "      <td>0.0</td>\n",
       "      <td>0.0</td>\n",
       "      <td>0.0</td>\n",
       "      <td>0.0</td>\n",
       "      <td>0.0</td>\n",
       "    </tr>\n",
       "    <tr>\n",
       "      <th>excluded</th>\n",
       "      <td>0.12</td>\n",
       "      <td>0.0</td>\n",
       "      <td>0.0</td>\n",
       "      <td>0.01</td>\n",
       "      <td>1.0</td>\n",
       "      <td>0.39</td>\n",
       "      <td>0.59</td>\n",
       "      <td>0.01</td>\n",
       "      <td>0.56</td>\n",
       "      <td>1.0</td>\n",
       "      <td>...</td>\n",
       "      <td>0.0</td>\n",
       "      <td>0.0</td>\n",
       "      <td>0.01</td>\n",
       "      <td>0.24</td>\n",
       "      <td>0.0</td>\n",
       "      <td>0.0</td>\n",
       "      <td>0.0</td>\n",
       "      <td>0.0</td>\n",
       "      <td>1.0</td>\n",
       "      <td>1.0</td>\n",
       "    </tr>\n",
       "    <tr>\n",
       "      <th>included</th>\n",
       "      <td>0.01</td>\n",
       "      <td>1.0</td>\n",
       "      <td>1.0</td>\n",
       "      <td>0.32</td>\n",
       "      <td>0.0</td>\n",
       "      <td>0.01</td>\n",
       "      <td>0.11</td>\n",
       "      <td>0.89</td>\n",
       "      <td>0.01</td>\n",
       "      <td>0.0</td>\n",
       "      <td>...</td>\n",
       "      <td>1.0</td>\n",
       "      <td>1.0</td>\n",
       "      <td>0.57</td>\n",
       "      <td>0.22</td>\n",
       "      <td>1.0</td>\n",
       "      <td>1.0</td>\n",
       "      <td>1.0</td>\n",
       "      <td>1.0</td>\n",
       "      <td>0.0</td>\n",
       "      <td>0.0</td>\n",
       "    </tr>\n",
       "    <tr>\n",
       "      <th>middle</th>\n",
       "      <td>0.00</td>\n",
       "      <td>0.0</td>\n",
       "      <td>0.0</td>\n",
       "      <td>0.09</td>\n",
       "      <td>0.0</td>\n",
       "      <td>0.05</td>\n",
       "      <td>0.18</td>\n",
       "      <td>0.07</td>\n",
       "      <td>0.00</td>\n",
       "      <td>0.0</td>\n",
       "      <td>...</td>\n",
       "      <td>0.0</td>\n",
       "      <td>0.0</td>\n",
       "      <td>0.03</td>\n",
       "      <td>0.53</td>\n",
       "      <td>0.0</td>\n",
       "      <td>0.0</td>\n",
       "      <td>0.0</td>\n",
       "      <td>0.0</td>\n",
       "      <td>0.0</td>\n",
       "      <td>0.0</td>\n",
       "    </tr>\n",
       "  </tbody>\n",
       "</table>\n",
       "<p>4 rows × 31 columns</p>\n",
       "</div>"
      ],
      "text/plain": [
       "          ENSDARG00000103929;A3:1:45550-45788:45524-45788:-  \\\n",
       "bimodal                                                0.87   \n",
       "excluded                                               0.12   \n",
       "included                                               0.01   \n",
       "middle                                                 0.00   \n",
       "\n",
       "          ENSDARG00000103929;A3:1:48584-48890:48576-48890:-  \\\n",
       "bimodal                                                 0.0   \n",
       "excluded                                                0.0   \n",
       "included                                                1.0   \n",
       "middle                                                  0.0   \n",
       "\n",
       "          ENSDARG00000103929;A3:1:48584-48890:48564-48890:-  \\\n",
       "bimodal                                                 0.0   \n",
       "excluded                                                0.0   \n",
       "included                                                1.0   \n",
       "middle                                                  0.0   \n",
       "\n",
       "          ENSDARG00000014313;A3:1:613192-614504:613189-614504:-  \\\n",
       "bimodal                                                0.58       \n",
       "excluded                                               0.01       \n",
       "included                                               0.32       \n",
       "middle                                                 0.09       \n",
       "\n",
       "          ENSDARG00000037746;A3:1:8651631-8652579:8651610-8652579:-  \\\n",
       "bimodal                                                 0.0           \n",
       "excluded                                                1.0           \n",
       "included                                                0.0           \n",
       "middle                                                  0.0           \n",
       "\n",
       "          ENSDARG00000063169;A3:1:9276450-9277168:9276437-9277168:-  \\\n",
       "bimodal                                                0.55           \n",
       "excluded                                               0.39           \n",
       "included                                               0.01           \n",
       "middle                                                 0.05           \n",
       "\n",
       "          ENSDARG00000089930;A3:1:11877213-11877367:11877210-11877367:-  \\\n",
       "bimodal                                                0.12               \n",
       "excluded                                               0.59               \n",
       "included                                               0.11               \n",
       "middle                                                 0.18               \n",
       "\n",
       "          ENSDARG00000056504;A3:1:16676019-16676110:16676015-16676110:-  \\\n",
       "bimodal                                                0.03               \n",
       "excluded                                               0.01               \n",
       "included                                               0.89               \n",
       "middle                                                 0.07               \n",
       "\n",
       "          ENSDARG00000006434;A3:1:19637622-19639781:19637599-19639781:-  \\\n",
       "bimodal                                                0.43               \n",
       "excluded                                               0.56               \n",
       "included                                               0.01               \n",
       "middle                                                 0.00               \n",
       "\n",
       "          ENSDARG00000037276;A3:1:25749687-25749769:25749657-25749769:-  ...  \\\n",
       "bimodal                                                 0.0              ...   \n",
       "excluded                                                1.0              ...   \n",
       "included                                                0.0              ...   \n",
       "middle                                                  0.0              ...   \n",
       "\n",
       "          ENSDARG00000093003;A3:1:52501962-52503591:52501948-52503591:-  \\\n",
       "bimodal                                                 0.0               \n",
       "excluded                                                0.0               \n",
       "included                                                1.0               \n",
       "middle                                                  0.0               \n",
       "\n",
       "          ENSDARG00000024681;A3:1:55161475-55162440:55161424-55162440:-  \\\n",
       "bimodal                                                 0.0               \n",
       "excluded                                                0.0               \n",
       "included                                                1.0               \n",
       "middle                                                  0.0               \n",
       "\n",
       "          ENSDARG00000099635;A3:1:59228465-59228550:59228459-59228550:-  \\\n",
       "bimodal                                                0.39               \n",
       "excluded                                               0.01               \n",
       "included                                               0.57               \n",
       "middle                                                 0.03               \n",
       "\n",
       "          ENSDARG00000101291;A3:1:59310440-59310594:59310437-59310594:-  \\\n",
       "bimodal                                                0.01               \n",
       "excluded                                               0.24               \n",
       "included                                               0.22               \n",
       "middle                                                 0.53               \n",
       "\n",
       "          ENSDARG00000101291;A3:1:59311097-59312061:59311091-59312061:-  \\\n",
       "bimodal                                                 0.0               \n",
       "excluded                                                0.0               \n",
       "included                                                1.0               \n",
       "middle                                                  0.0               \n",
       "\n",
       "          ENSDARG00000102407;A3:1:12953-13034:12953-13070:+  \\\n",
       "bimodal                                                 0.0   \n",
       "excluded                                                0.0   \n",
       "included                                                1.0   \n",
       "middle                                                  0.0   \n",
       "\n",
       "          ENSDARG00000102407;A3:1:15137-15352:15137-15365:+  \\\n",
       "bimodal                                                 0.0   \n",
       "excluded                                                0.0   \n",
       "included                                                1.0   \n",
       "middle                                                  0.0   \n",
       "\n",
       "          ENSDARG00000063385;A3:1:278432-278719:278432-278728:+  \\\n",
       "bimodal                                                 0.0       \n",
       "excluded                                                0.0       \n",
       "included                                                1.0       \n",
       "middle                                                  0.0       \n",
       "\n",
       "          ENSDARG00000074031;A3:1:6238776-6240431:6238776-6240437:+  \\\n",
       "bimodal                                                 0.0           \n",
       "excluded                                                1.0           \n",
       "included                                                0.0           \n",
       "middle                                                  0.0           \n",
       "\n",
       "          ENSDARG00000058471;A3:1:9155305-9155420:9155305-9155440:+  \n",
       "bimodal                                                 0.0          \n",
       "excluded                                                1.0          \n",
       "included                                                0.0          \n",
       "middle                                                  0.0          \n",
       "\n",
       "[4 rows x 31 columns]"
      ]
     },
     "execution_count": 44,
     "metadata": {},
     "output_type": "execute_result"
    }
   ],
   "source": [
    "event_modal_data"
   ]
  }
 ],
 "metadata": {
  "kernelspec": {
   "display_name": "Python 3 (ipykernel)",
   "language": "python",
   "name": "python3"
  },
  "language_info": {
   "codemirror_mode": {
    "name": "ipython",
    "version": 3
   },
   "file_extension": ".py",
   "mimetype": "text/x-python",
   "name": "python",
   "nbconvert_exporter": "python",
   "pygments_lexer": "ipython3",
   "version": "3.8.15"
  }
 },
 "nbformat": 4,
 "nbformat_minor": 5
}
