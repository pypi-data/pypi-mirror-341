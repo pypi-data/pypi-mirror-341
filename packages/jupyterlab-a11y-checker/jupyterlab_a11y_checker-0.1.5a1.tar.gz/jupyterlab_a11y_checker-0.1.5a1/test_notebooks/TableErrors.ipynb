{
 "cells": [
  {
   "cell_type": "markdown",
   "id": "2ba3ef20-a5b2-4357-823b-7393b0dd855c",
   "metadata": {
    "execution": {
     "iopub.execute_input": "2025-04-10T07:36:17.992900Z",
     "iopub.status.busy": "2025-04-10T07:36:17.992583Z",
     "iopub.status.idle": "2025-04-10T07:36:18.000374Z",
     "shell.execute_reply": "2025-04-10T07:36:17.999057Z",
     "shell.execute_reply.started": "2025-04-10T07:36:17.992874Z"
    }
   },
   "source": [
    "<table>\n",
    "  <tbody><tr>\n",
    "    <th>Quarter</th>\n",
    "    <th>Revenue</th>\n",
    "  </tr>\n",
    "  <tr>\n",
    "    <td>Q1</td>\n",
    "    <td>10000</td>\n",
    "  </tr>\n",
    "  <tr>\n",
    "    <td>Q2</td>\n",
    "    <td>$12,000</td>\n",
    "  </tr>\n",
    "</tbody></table>"
   ]
  },
  {
   "cell_type": "markdown",
   "id": "fc0462ff-7b5c-46d0-9978-a46ed74dea14",
   "metadata": {},
   "source": [
    "<table>\n",
    "  <thead>\n",
    "    <tr>\n",
    "      <th>Item</th>\n",
    "      <th>Price</th>\n",
    "    </tr>\n",
    "  </thead>\n",
    "  <tbody>\n",
    "    <tr>\n",
    "      <td>Apple</td>\n",
    "      <td>1</td>\n",
    "    </tr>\n",
    "    <tr>\n",
    "      <td>Banana</td>\n",
    "      <td>0.50</td>\n",
    "    </tr>\n",
    "  </tbody>\n",
    "</table>"
   ]
  },
  {
   "cell_type": "markdown",
   "id": "3efe671c-7c8f-45fe-ba66-d7356c15f6ec",
   "metadata": {},
   "source": [
    "\n",
    "<table>\n",
    "  <tbody><tr>\n",
    "  </tr>\n",
    "  <tr>\n",
    "    <th>Alfreds Futterkiste</th>\n",
    "    <th>Maria Anders</th>\n",
    "    <th>Germany</th>\n",
    "  </tr>\n",
    "  <tr>\n",
    "    <td>Centro comercial Moctezuma</td>\n",
    "    <td>Francisco Chang</td>\n",
    "    <td>Mexico</td>\n",
    "  </tr>\n",
    "</tbody></table>"
   ]
  },
  {
   "cell_type": "markdown",
   "id": "2122692a-cae2-41ca-804d-623b7c996f2c",
   "metadata": {
    "execution": {
     "iopub.execute_input": "2025-04-11T13:39:18.725107Z",
     "iopub.status.busy": "2025-04-11T13:39:18.724774Z",
     "iopub.status.idle": "2025-04-11T13:39:18.733151Z",
     "shell.execute_reply": "2025-04-11T13:39:18.731629Z",
     "shell.execute_reply.started": "2025-04-11T13:39:18.725077Z"
    }
   },
   "source": [
    "<table class=\"data\">\n",
    "<caption>\n",
    "Greensprings Running Club Personal Bests\n",
    "</caption>\n",
    "    <tbody><tr>\n",
    "     <th>Name</th>\n",
    "      <td scope=\"col\">1 mile</td>\n",
    "      <td scope=\"col\">5 km</td>\n",
    "      <td scope=\"col\">10 km</td>\n",
    "    </tr>\n",
    "  </tbody><tbody>\n",
    "    <tr>\n",
    "      <th>Mary</th>\n",
    "      <td>8:32</td>\n",
    "      <td>28:04</td>\n",
    "      <td>1:01:16</td>\n",
    "    </tr>\n",
    "    <tr>\n",
    "      <th>Betsy</th>\n",
    "      <td>7:43</td>\n",
    "      <td>26:47</td>\n",
    "      <td>55:38</td>\n",
    "    </tr>\n",
    "    <tr>\n",
    "      <th>Matt</th>\n",
    "      <td>7:55</td>\n",
    "      <td>27:29</td>\n",
    "      <td>57:04</td>\n",
    "    </tr>\n",
    "    <tr>\n",
    "      <th>Todd</th>\n",
    "      <td>7:01</td>\n",
    "      <td>24:21</td>\n",
    "      <td>50:35</td>\n",
    "    </tr>\n",
    "  </tbody>\n",
    "</table>"
   ]
  },
  {
   "cell_type": "markdown",
   "id": "9fca9b74-c502-4a2a-897d-03d372ddd9f9",
   "metadata": {},
   "source": [
    "Captions fail for cells with more than one table like below:"
   ]
  },
  {
   "cell_type": "markdown",
   "id": "9b21a725-0e6c-4c08-97c1-0959666edbb9",
   "metadata": {
    "execution": {
     "iopub.execute_input": "2025-04-11T13:43:10.620781Z",
     "iopub.status.busy": "2025-04-11T13:43:10.620476Z",
     "iopub.status.idle": "2025-04-11T13:43:10.627341Z",
     "shell.execute_reply": "2025-04-11T13:43:10.626163Z",
     "shell.execute_reply.started": "2025-04-11T13:43:10.620758Z"
    }
   },
   "source": [
    "\n",
    "<!-- Table 1 -->\n",
    "<table>\n",
    "  <thead>\n",
    "    <tr>\n",
    "      <th id=\"outside-header\">External Header</th>\n",
    "    </tr>\n",
    "  </thead>\n",
    "</table>\n",
    "\n",
    "<!-- Table 2 -->\n",
    "<table>\n",
    "  <thead>\n",
    "    <tr>\n",
    "      <th id=\"name-header\">Name</th>\n",
    "      <th id=\"age-header\">Age</th>\n",
    "    </tr>\n",
    "  </thead>\n",
    "  <tbody>\n",
    "    <tr>\n",
    "      <!-- Incorrectly referencing a header from Table 1 -->\n",
    "      <td headers=\"outside-header\">John Doe</td>\n",
    "      <td headers=\"age-header\">30</td>\n",
    "    </tr>\n",
    "  </tbody>\n",
    "</table>"
   ]
  },
  {
   "cell_type": "markdown",
   "id": "e64d75bb-165d-4117-9438-9f9183894873",
   "metadata": {},
   "source": [
    "## Hello"
   ]
  },
  {
   "cell_type": "code",
   "execution_count": null,
   "id": "1be6f999-4258-4990-a25d-cf5b9591afaa",
   "metadata": {},
   "outputs": [],
   "source": []
  }
 ],
 "metadata": {
  "kernelspec": {
   "display_name": "Python 3 (ipykernel)",
   "language": "python",
   "name": "python3"
  },
  "language_info": {
   "codemirror_mode": {
    "name": "ipython",
    "version": 3
   },
   "file_extension": ".py",
   "mimetype": "text/x-python",
   "name": "python",
   "nbconvert_exporter": "python",
   "pygments_lexer": "ipython3",
   "version": "3.13.2"
  }
 },
 "nbformat": 4,
 "nbformat_minor": 5
}
