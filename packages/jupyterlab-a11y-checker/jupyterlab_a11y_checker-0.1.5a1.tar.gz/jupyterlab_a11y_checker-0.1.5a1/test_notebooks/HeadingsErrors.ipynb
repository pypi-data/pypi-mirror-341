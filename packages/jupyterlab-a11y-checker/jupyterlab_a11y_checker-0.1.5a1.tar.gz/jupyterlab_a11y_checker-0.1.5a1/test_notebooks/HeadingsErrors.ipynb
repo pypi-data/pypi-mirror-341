{
 "cells": [
  {
   "cell_type": "markdown",
   "id": "e417318c-cd19-4504-82fd-5159cab52fc0",
   "metadata": {
    "execution": {
     "iopub.execute_input": "2025-04-13T01:54:16.753045Z",
     "iopub.status.busy": "2025-04-13T01:54:16.752710Z",
     "iopub.status.idle": "2025-04-13T01:54:16.757434Z",
     "shell.execute_reply": "2025-04-13T01:54:16.756472Z",
     "shell.execute_reply.started": "2025-04-13T01:54:16.753016Z"
    }
   },
   "source": [
    "## Headings Errors"
   ]
  },
  {
   "cell_type": "markdown",
   "id": "b16f4610-b2a5-4e6d-af5a-6f6d654c8bbf",
   "metadata": {},
   "source": [
    "## heading 2"
   ]
  },
  {
   "cell_type": "markdown",
   "id": "76d62abc-31d9-48aa-afe8-695492755db4",
   "metadata": {
    "execution": {
     "iopub.execute_input": "2025-04-13T01:54:35.987431Z",
     "iopub.status.busy": "2025-04-13T01:54:35.987111Z",
     "iopub.status.idle": "2025-04-13T01:54:35.992376Z",
     "shell.execute_reply": "2025-04-13T01:54:35.991246Z",
     "shell.execute_reply.started": "2025-04-13T01:54:35.987406Z"
    }
   },
   "source": [
    "Issue: Notebook missing h1 header at the top axe core rule ID heading-order\t"
   ]
  },
  {
   "cell_type": "markdown",
   "id": "3e477f0c-632c-414f-9a07-69d04b8da6ee",
   "metadata": {},
   "source": [
    "#### heading 4"
   ]
  },
  {
   "cell_type": "markdown",
   "id": "4f0caef5-60d9-402b-8302-d6e629d73b46",
   "metadata": {},
   "source": [
    "Issue: decrease by more than one level axe core rule ID heading-order\t"
   ]
  },
  {
   "cell_type": "markdown",
   "id": "49cfc05c-d4b4-401d-a9d5-3723d9cb8f8e",
   "metadata": {},
   "source": [
    "## heading 2"
   ]
  },
  {
   "cell_type": "markdown",
   "id": "1980dc9e-bb34-4e7d-81d6-aca3364318fb",
   "metadata": {},
   "source": [
    "### heading 3"
   ]
  },
  {
   "cell_type": "markdown",
   "id": "cf65db43-8bbf-4900-8bcc-bc965f16c7fb",
   "metadata": {},
   "source": []
  },
  {
   "cell_type": "markdown",
   "id": "9a391eec-d9e5-46d3-b6fd-d714d2d7e99a",
   "metadata": {},
   "source": [
    "Issue: heading can't be higher level than first heading axe core rule ID heading-order\t"
   ]
  },
  {
   "cell_type": "markdown",
   "id": "40c64b4b-ec32-421c-b17a-df7ee1b51909",
   "metadata": {},
   "source": [
    "#### heading 4"
   ]
  },
  {
   "cell_type": "markdown",
   "id": "1415e6a6-9c6d-4eb4-b309-237611569048",
   "metadata": {},
   "source": [
    "Issue: heading can't jump more than one level axe core rule ID heading-order\t"
   ]
  },
  {
   "cell_type": "markdown",
   "id": "c70962a7-cbd8-45cb-b3ca-8dceb3849998",
   "metadata": {},
   "source": [
    "###"
   ]
  },
  {
   "cell_type": "markdown",
   "id": "161203ce-8c24-42f3-b3aa-5a6a5daeddf1",
   "metadata": {},
   "source": [
    "Issue: empty header above should error with axe core rule ID empty-heading\t"
   ]
  },
  {
   "cell_type": "markdown",
   "id": "d488d4d8-b989-44a8-bd36-c976f69b716e",
   "metadata": {},
   "source": [
    "#### "
   ]
  },
  {
   "cell_type": "markdown",
   "id": "3ed2ff70-ca37-4467-9ff3-b9efe797c8f2",
   "metadata": {},
   "source": [
    "Issue: another empty header"
   ]
  },
  {
   "cell_type": "code",
   "execution_count": null,
   "id": "97de77ac-43c9-4044-9636-5791290bf129",
   "metadata": {},
   "outputs": [],
   "source": []
  }
 ],
 "metadata": {
  "kernelspec": {
   "display_name": "Python 3 (ipykernel)",
   "language": "python",
   "name": "python3"
  },
  "language_info": {
   "codemirror_mode": {
    "name": "ipython",
    "version": 3
   },
   "file_extension": ".py",
   "mimetype": "text/x-python",
   "name": "python",
   "nbconvert_exporter": "python",
   "pygments_lexer": "ipython3",
   "version": "3.13.2"
  }
 },
 "nbformat": 4,
 "nbformat_minor": 5
}
