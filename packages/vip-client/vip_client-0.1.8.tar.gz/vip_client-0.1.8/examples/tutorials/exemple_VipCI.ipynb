{
 "cells": [
  {
   "attachments": {},
   "cell_type": "markdown",
   "metadata": {},
   "source": [
    "Main Parameters\n",
    "---"
   ]
  },
  {
   "cell_type": "code",
   "execution_count": 1,
   "metadata": {},
   "outputs": [],
   "source": [
    "# Import the class\n",
    "from vip_client.classes import VipCI\n",
    "import time\n",
    "\n",
    "# Pipeline identifier\n",
    "my_pipeline=\"CQUEST/0.1.1\"\n",
    "\n",
    "# Input Settings\n",
    "my_settings = {\n",
    "    \"zipped_folder\": \"/collection/ReproVIPSpectro/data/quest/basis.zip\",\n",
    "    \"data_file\": \"/collection/ReproVIPSpectro/data/quest/signals\",\n",
    "    \"parameter_file\": \"/collection/ReproVIPSpectro/data/quest/parameters/quest_param_117T_B.txt\",\n",
    "}\n",
    "# N.B.: Here \"data_file\" leads to a folder, the other arguments lead to single files.\n",
    "\n",
    "# Random output folder\n",
    "my_output_dir = \"/collection/ReproVIPSpectro/results/test_%s\" \\\n",
    "    % time.strftime('%Y%m%d-%H%M%S', time.localtime())"
   ]
  },
  {
   "attachments": {},
   "cell_type": "markdown",
   "metadata": {},
   "source": [
    "__N.B.__: In `my_settings`, the input files are pointed by Girder paths, usually in format: \"/collection/[collection_name]/[path_to_folder]\". \n",
    "- if the path leads to a file, the same file be passed to VIP;\n",
    "- If the path leads to a Girder item, all files in this item will be passed to VIP;\n",
    "- If the path leads to a Girder folder, all files in this folder will be passed to VIP."
   ]
  },
  {
   "attachments": {},
   "cell_type": "markdown",
   "metadata": {},
   "source": [
    "---\n",
    "Connect to VIP & Girder and run two VIP executions for CQUEST\n",
    "---"
   ]
  },
  {
   "attachments": {},
   "cell_type": "markdown",
   "metadata": {},
   "source": [
    "__N.B.__: You may kill the jobs after 3-4 minutes to shorten the test."
   ]
  },
  {
   "cell_type": "code",
   "execution_count": 2,
   "metadata": {},
   "outputs": [
    {
     "name": "stdout",
     "output_type": "stream",
     "text": [
      "\n",
      "---------------------------------------------\n",
      "| You are communicating with VIP and Girder |\n",
      "---------------------------------------------\n",
      "\n",
      "\n",
      "=== SESSION 'Test_Girder' ===\n",
      "\n",
      "=== LAUNCH PIPELINE ===\n",
      "\n",
      "Pipeline ID: 'CQUEST/0.1.1' --> checked\n",
      "Input Settings --> parsed\n",
      "\n",
      "Parameter checks\n",
      "----------------\n",
      "Pipeline identifier: OK\n",
      "Output directory: Created on GIRDER\n",
      "Input settings: OK\n",
      "----------------\n",
      "\n",
      "Launching 2 new execution(s) on VIP\n",
      "-------------------------------------\n",
      "Execution Name: Test_Girder\n",
      "Started Workflows:\n",
      "\tworkflow-rbvvKU, workflow-VjczE7, \n",
      "-------------------------------------\n",
      "Done.\n",
      "\n",
      ">> Session backed up\n",
      "\n",
      "=== MONITOR WORKFLOWS ===\n",
      "\n",
      "Updating worflow inventory ... Done.\n",
      "All executions are currently running on VIP.\n",
      "\n",
      "-------------------------------------------------------------\n",
      "The current proccess will wait until all executions are over.\n",
      "Their progress can be monitored on VIP portal:\n",
      "\thttps://vip.creatis.insa-lyon.fr/\n",
      "-------------------------------------------------------------\n"
     ]
    },
    {
     "ename": "KeyboardInterrupt",
     "evalue": "",
     "output_type": "error",
     "traceback": [
      "\u001b[0;31m---------------------------------------------------------------------------\u001b[0m",
      "\u001b[0;31mKeyboardInterrupt\u001b[0m                         Traceback (most recent call last)",
      "\u001b[1;32m/home/vila/code/projects/VIP-python-client/examples/old/VipCI/exemple_VipCI.ipynb Cellule 6\u001b[0m line \u001b[0;36m<cell line: 21>\u001b[0;34m()\u001b[0m\n\u001b[1;32m     <a href='vscode-notebook-cell://wsl%2Bfedoraremix/home/vila/code/projects/VIP-python-client/examples/old/VipCI/exemple_VipCI.ipynb#W5sdnNjb2RlLXJlbW90ZQ%3D%3D?line=12'>13</a>\u001b[0m session\u001b[39m.\u001b[39mlaunch_pipeline(\n\u001b[1;32m     <a href='vscode-notebook-cell://wsl%2Bfedoraremix/home/vila/code/projects/VIP-python-client/examples/old/VipCI/exemple_VipCI.ipynb#W5sdnNjb2RlLXJlbW90ZQ%3D%3D?line=13'>14</a>\u001b[0m   pipeline_id\u001b[39m=\u001b[39mmy_pipeline, \u001b[39m# Pipeline identifier\u001b[39;00m\n\u001b[1;32m     <a href='vscode-notebook-cell://wsl%2Bfedoraremix/home/vila/code/projects/VIP-python-client/examples/old/VipCI/exemple_VipCI.ipynb#W5sdnNjb2RlLXJlbW90ZQ%3D%3D?line=14'>15</a>\u001b[0m   input_settings\u001b[39m=\u001b[39mmy_settings, \u001b[39m# Input Settings\u001b[39;00m\n\u001b[1;32m     <a href='vscode-notebook-cell://wsl%2Bfedoraremix/home/vila/code/projects/VIP-python-client/examples/old/VipCI/exemple_VipCI.ipynb#W5sdnNjb2RlLXJlbW90ZQ%3D%3D?line=15'>16</a>\u001b[0m   output_dir\u001b[39m=\u001b[39mmy_output_dir, \u001b[39m# Output directory\u001b[39;00m\n\u001b[1;32m     <a href='vscode-notebook-cell://wsl%2Bfedoraremix/home/vila/code/projects/VIP-python-client/examples/old/VipCI/exemple_VipCI.ipynb#W5sdnNjb2RlLXJlbW90ZQ%3D%3D?line=16'>17</a>\u001b[0m   nb_runs\u001b[39m=\u001b[39m\u001b[39m2\u001b[39m \u001b[39m# Run 2 workflows at the same time\u001b[39;00m\n\u001b[1;32m     <a href='vscode-notebook-cell://wsl%2Bfedoraremix/home/vila/code/projects/VIP-python-client/examples/old/VipCI/exemple_VipCI.ipynb#W5sdnNjb2RlLXJlbW90ZQ%3D%3D?line=17'>18</a>\u001b[0m )\n\u001b[1;32m     <a href='vscode-notebook-cell://wsl%2Bfedoraremix/home/vila/code/projects/VIP-python-client/examples/old/VipCI/exemple_VipCI.ipynb#W5sdnNjb2RlLXJlbW90ZQ%3D%3D?line=19'>20</a>\u001b[0m \u001b[39m# Monitor VIP Executions\u001b[39;00m\n\u001b[0;32m---> <a href='vscode-notebook-cell://wsl%2Bfedoraremix/home/vila/code/projects/VIP-python-client/examples/old/VipCI/exemple_VipCI.ipynb#W5sdnNjb2RlLXJlbW90ZQ%3D%3D?line=20'>21</a>\u001b[0m session\u001b[39m.\u001b[39;49mmonitor_workflows()\n",
      "File \u001b[0;32m~/.local/lib/python3.10/site-packages/vip_client/classes/VipCI.py:198\u001b[0m, in \u001b[0;36mVipCI.monitor_workflows\u001b[0;34m(self, refresh_time)\u001b[0m\n\u001b[1;32m    192\u001b[0m \u001b[39mdef\u001b[39;00m \u001b[39mmonitor_workflows\u001b[39m(\u001b[39mself\u001b[39m, refresh_time\u001b[39m=\u001b[39m\u001b[39m30\u001b[39m) \u001b[39m-\u001b[39m\u001b[39m>\u001b[39m VipCI:\n\u001b[1;32m    193\u001b[0m \u001b[39m    \u001b[39m\u001b[39m\"\"\"\u001b[39;00m\n\u001b[1;32m    194\u001b[0m \u001b[39m    Updates and displays the status of each execution launched in the current session.\u001b[39;00m\n\u001b[1;32m    195\u001b[0m \u001b[39m    - If an execution is still runnig, updates status every `refresh_time` (seconds) until all runs are done.\u001b[39;00m\n\u001b[1;32m    196\u001b[0m \u001b[39m    - Displays a full report when all executions are done.\u001b[39;00m\n\u001b[1;32m    197\u001b[0m \u001b[39m    \"\"\"\u001b[39;00m\n\u001b[0;32m--> 198\u001b[0m     \u001b[39mreturn\u001b[39;00m \u001b[39msuper\u001b[39;49m()\u001b[39m.\u001b[39;49mmonitor_workflows(refresh_time\u001b[39m=\u001b[39;49mrefresh_time)\n",
      "File \u001b[0;32m~/.local/lib/python3.10/site-packages/vip_client/classes/VipLauncher.py:587\u001b[0m, in \u001b[0;36mVipLauncher.monitor_workflows\u001b[0;34m(self, refresh_time)\u001b[0m\n\u001b[1;32m    585\u001b[0m     \u001b[39m# Sleep until next itertation\u001b[39;00m\n\u001b[1;32m    586\u001b[0m     elapsed_time \u001b[39m=\u001b[39m time\u001b[39m.\u001b[39mtime() \u001b[39m-\u001b[39m start\n\u001b[0;32m--> 587\u001b[0m     time\u001b[39m.\u001b[39;49msleep(\u001b[39mmax\u001b[39;49m(refresh_time \u001b[39m-\u001b[39;49m elapsed_time, \u001b[39m0\u001b[39;49m))\n\u001b[1;32m    588\u001b[0m \u001b[39m# Display the end of executions\u001b[39;00m\n\u001b[1;32m    589\u001b[0m \u001b[39mself\u001b[39m\u001b[39m.\u001b[39m_print(\u001b[39m\"\u001b[39m\u001b[39mAll executions are over.\u001b[39m\u001b[39m\"\u001b[39m)\n",
      "\u001b[0;31mKeyboardInterrupt\u001b[0m: "
     ]
    }
   ],
   "source": [
    "# Connect with Vip & Girder\n",
    "VipCI.init(\n",
    "  vip_key=\"VIP_API_KEY\", # My environment variable for the VIP API key (also works with litteral string or file name)\n",
    "  girder_key=\"GIRDER_API_KEY\" # My environment variable for the Girder API key (also works with litteral string or file name)\n",
    ")\n",
    "\n",
    "# Create a Session\n",
    "session = VipCI(\n",
    "  session_name=\"Test_Girder\", # Session Name\n",
    ")\n",
    "\n",
    "# Launch the Pipeline\n",
    "session.launch_pipeline(\n",
    "  pipeline_id=my_pipeline, # Pipeline identifier\n",
    "  input_settings=my_settings, # Input Settings\n",
    "  output_dir=my_output_dir, # Output directory\n",
    "  nb_runs=2 # Run 2 workflows at the same time\n",
    ")\n",
    "\n",
    "# Monitor VIP Executions\n",
    "session.monitor_workflows()\n"
   ]
  },
  {
   "attachments": {},
   "cell_type": "markdown",
   "metadata": {},
   "source": [
    "---\n",
    "**Session metadata are now attached to the output folder on Girder.**\n",
    "- Check the results on the Girder portal: https://pilot-warehouse.creatis.insa-lyon.fr/#collection/63b6e0b14d15dd536f0484bc/folder/63b6e29b4d15dd536f0484c2"
   ]
  },
  {
   "attachments": {},
   "cell_type": "markdown",
   "metadata": {},
   "source": [
    "__N.B.__: The last cell could also be written with a single line of code:\n",
    "```python\n",
    "VipCI.init(\n",
    "    vip_key=\"VIP_API_KEY\", # My environment variable for the VIP API key \n",
    "    girder_key=\"GIRDER_API_KEY\", # My environment variable for the Girder API key\n",
    "    session_name = \"Test_Girder\", # Session Name\n",
    "    pipeline_id=my_pipeline, # Pipeline identifier\n",
    "    input_settings=my_settings, # Input Settings\n",
    "    output_dir=my_output_dir # Output directory\n",
    ").run_session(nb_runs=2) # Run 2 workflows at the same time\n",
    "```"
   ]
  },
  {
   "attachments": {},
   "cell_type": "markdown",
   "metadata": {},
   "source": [
    "---\n",
    "Resume a previous Session and run 2 additional executions\n",
    "---\n",
    "*A session can be loaded from its output directory on Girder*"
   ]
  },
  {
   "cell_type": "code",
   "execution_count": 4,
   "metadata": {},
   "outputs": [
    {
     "name": "stdout",
     "output_type": "stream",
     "text": [
      "\n",
      "<<< SESSION 'session_230315_212006' >>>\n",
      "\n",
      "An existing session was found.\n",
      "Session properties were loaded from:\n",
      "\t /collection/ReproVIPSpectro/results/test_20230315-211556\n",
      "\n",
      "<<< LAUNCH PIPELINE >>>\n",
      "\n",
      "Checking parameters and data ... Done.\n",
      "\n",
      "Launching 2 new execution(s) on VIP\n",
      "-------------------------------------\n",
      "\tSession Name: Test_Girder\n",
      "\tPipeline Identifier: CQUEST/0.1-logs\n",
      "\tStarted workflows:\n",
      "\t\tworkflow-gBUbeh, workflow-6fVQTt, \n",
      "-------------------------------------\n",
      "Done.\n",
      "\n",
      "Session properties were saved as metadata under folder:\n",
      "\t/collection/ReproVIPSpectro/results/test_20230315-211556\n",
      "\t(Girder ID: 641228810386da27476979c8)\n",
      "\n",
      "\n",
      "<<< MONITOR WORKFLOW >>>\n",
      "\n",
      "Updating worflow inventory ... Done.\n",
      "2 execution(s) ended with status: Killed\n",
      "\t workflow-I9eSOJ , started on: 2023/03/15 21:16:25\n",
      "\t workflow-Oxf6GA , started on: 2023/03/15 21:16:17\n",
      "2 execution(s) is/are currently running on VIP:\n",
      "\t workflow-gBUbeh , started on: 2023/03/15 21:20:17\n",
      "\t workflow-6fVQTt , started on: 2023/03/15 21:20:25\n",
      "\n",
      "-------------------------------------------------------------\n",
      "The current proccess will wait until all executions are over.\n",
      "Their progress can be monitored on the VIP portal:\n",
      "\thttps://vip.creatis.insa-lyon.fr/\n",
      "-------------------------------------------------------------\n",
      "All executions are over.\n",
      "All executions (4) ended with status: Killed\n",
      "\n",
      "Session properties were saved.\n",
      "\n"
     ]
    },
    {
     "data": {
      "text/plain": [
       "<VipCI.VipCI at 0x7f882442a290>"
      ]
     },
     "execution_count": 4,
     "metadata": {},
     "output_type": "execute_result"
    }
   ],
   "source": [
    "VipCI(my_output_dir).run_session(nb_runs=2)"
   ]
  },
  {
   "attachments": {},
   "cell_type": "markdown",
   "metadata": {},
   "source": [
    "---\n",
    "Check the results on the Girder portal: https://pilot-warehouse.creatis.insa-lyon.fr/#collection/63b6e0b14d15dd536f0484bc/folder/63b6e29b4d15dd536f0484c2\n"
   ]
  }
 ],
 "metadata": {
  "kernelspec": {
   "display_name": "Python 3",
   "language": "python",
   "name": "python3"
  },
  "language_info": {
   "codemirror_mode": {
    "name": "ipython",
    "version": 3
   },
   "file_extension": ".py",
   "mimetype": "text/x-python",
   "name": "python",
   "nbconvert_exporter": "python",
   "pygments_lexer": "ipython3",
   "version": "3.10.8"
  },
  "orig_nbformat": 4,
  "vscode": {
   "interpreter": {
    "hash": "e7370f93d1d0cde622a1f8e1c04877d8463912d04d973331ad4851f04de6915a"
   }
  }
 },
 "nbformat": 4,
 "nbformat_minor": 2
}
