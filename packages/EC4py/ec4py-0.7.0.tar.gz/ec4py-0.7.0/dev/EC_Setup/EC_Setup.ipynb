{
 "cells": [
  {
   "cell_type": "code",
   "execution_count": 1,
   "metadata": {},
   "outputs": [],
   "source": [
    "#import copy\n",
    "from ec4py.ec_setup import EC_Setup\n",
    "from ec4py.util import Quantity_Value_Unit as QVU\n",
    "#\"import inc_dec    # \"The code to test\n",
    "#import unittest   # The test framework\n",
    "import numpy as np\n",
    "from pathlib import Path"
   ]
  },
  {
   "cell_type": "code",
   "execution_count": 2,
   "metadata": {},
   "outputs": [
    {
     "name": "stdout",
     "output_type": "stream",
     "text": [
      "3.000e+00 m\n"
     ]
    }
   ],
   "source": [
    "setup2= EC_Setup()\n",
    "setup2.area = \"3.0 m\"\n",
    "print(setup2.area)\n"
   ]
  },
  {
   "cell_type": "code",
   "execution_count": 3,
   "metadata": {},
   "outputs": [
    {
     "name": "stdout",
     "output_type": "stream",
     "text": [
      "0.000e+00 min^-1\n"
     ]
    }
   ],
   "source": [
    "setup3= EC_Setup()\n",
    "setup3.rotation = \"3.0 rpm\"\n",
    "print(setup2.rotation)"
   ]
  },
  {
   "cell_type": "code",
   "execution_count": 4,
   "metadata": {},
   "outputs": [
    {
     "name": "stdout",
     "output_type": "stream",
     "text": [
      "7.000e+00 m^2\n",
      "7.000e+04 cm^2\n",
      "1.600e+01 f^2\n",
      "4.000e+00 f\n"
     ]
    }
   ],
   "source": [
    "setup = EC_Setup()\n",
    "setup.area = \"7 m^2\"\n",
    "nf = setup.get_norm_factor(\"area\")\n",
    "print(nf)\n",
    "setup.area = \"7 m^2\"\n",
    "nf = setup.get_norm_factor(\"area_cm\")\n",
    "print(nf)\n",
    "setup.rotation = \"16.0 f^2\"\n",
    "nf = setup.get_norm_factor(\"rotation\")\n",
    "print(nf)\n",
    "setup.area = \"7 m^2\"\n",
    "nf = setup.get_norm_factor(\"sqrt_rot\")\n",
    "print(nf)\n"
   ]
  },
  {
   "cell_type": "code",
   "execution_count": 8,
   "metadata": {},
   "outputs": [
    {
     "name": "stdout",
     "output_type": "stream",
     "text": [
      "1.000e+00 m^2\n",
      "7.000e+00 m^2\n"
     ]
    }
   ],
   "source": [
    "setup2 = EC_Setup()\n",
    "print(setup2.area)\n",
    "setup2.copy_from(setup)\n",
    "print(setup2.area)"
   ]
  }
 ],
 "metadata": {
  "kernelspec": {
   "display_name": "base",
   "language": "python",
   "name": "python3"
  },
  "language_info": {
   "codemirror_mode": {
    "name": "ipython",
    "version": 3
   },
   "file_extension": ".py",
   "mimetype": "text/x-python",
   "name": "python",
   "nbconvert_exporter": "python",
   "pygments_lexer": "ipython3",
   "version": "3.11.5"
  }
 },
 "nbformat": 4,
 "nbformat_minor": 2
}
