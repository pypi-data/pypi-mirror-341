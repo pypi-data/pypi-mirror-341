{
 "cells": [
  {
   "cell_type": "markdown",
   "metadata": {},
   "source": [
    "### This is a minimal example for sanitizing sentences. "
   ]
  },
  {
   "cell_type": "code",
   "execution_count": null,
   "metadata": {},
   "outputs": [
    {
     "ename": "",
     "evalue": "",
     "output_type": "error",
     "traceback": [
      "\u001b[1;31mFailed to start the Kernel 'preempt (Python 3.11.4)'. \n",
      "\u001b[1;31mView Jupyter <a href='command:jupyter.viewOutput'>log</a> for further details. Unknown system error -122: Unknown system error -122, mkdir '/u/a/n/anshumaan/.vscode-server/data/User/globalStorage/ms-toolsai.jupyter/version-2024.11.0/jupyter/runtime'"
     ]
    }
   ],
   "source": [
    "from preempt.utils import *"
   ]
  },
  {
   "cell_type": "code",
   "execution_count": 3,
   "metadata": {},
   "outputs": [
    {
     "name": "stderr",
     "output_type": "stream",
     "text": [
      "Loading checkpoint shards: 100%|██████████| 6/6 [00:02<00:00,  2.46it/s]\n"
     ]
    }
   ],
   "source": [
    "# Load NER model.\n",
    "# We use a Universal NER model here: https://universal-ner.github.io/\n",
    "ner_model = NER(\"/nobackup3/divyam/models/uniner-7b-pii-v3\", device=\"cuda:1\")\n",
    "# ner_model = NER(\"/path/to/Meta-Llama-3-8B-Instruct/\", device=\"cuda:1\")\n",
    "\n",
    "# Load Sanitizer object\n",
    "sanitizer = Sanitizer(ner_model, key = \"EF4359D8D580AA4F7F036D6F04FC6A94\", tweak = \"D8E7920AFA330A73\")"
   ]
  },
  {
   "cell_type": "markdown",
   "metadata": {},
   "source": [
    "### Example for sanitizing names of people:"
   ]
  },
  {
   "cell_type": "code",
   "execution_count": 4,
   "metadata": {},
   "outputs": [
    {
     "name": "stderr",
     "output_type": "stream",
     "text": [
      "100%|██████████| 2/2 [00:00<00:00,  2.74it/s]"
     ]
    },
    {
     "name": "stdout",
     "output_type": "stream",
     "text": [
      "NER extraction:\n",
      "{'Name': [['Ben Parker', 'John Doe'], ['Adam']]}\n"
     ]
    },
    {
     "name": "stderr",
     "output_type": "stream",
     "text": [
      "\n"
     ]
    }
   ],
   "source": [
    "sentences = [\"Ben Parker and John Doe went to the bank.\", \"Who was late today? Adam.\"]\n",
    "extracted = ner_model.extract(sentences, entity_type='Name')\n",
    "print(\"NER extraction:\")\n",
    "print(extracted)"
   ]
  },
  {
   "cell_type": "code",
   "execution_count": 5,
   "metadata": {},
   "outputs": [
    {
     "name": "stderr",
     "output_type": "stream",
     "text": [
      "100%|██████████| 2/2 [00:00<00:00,  6.20it/s]"
     ]
    },
    {
     "name": "stdout",
     "output_type": "stream",
     "text": [
      "Sanitized sentences:\n",
      "['Jay Francois and Lamine Franklin went to the bank.', 'Who was late today? Elie Vinod.']\n"
     ]
    },
    {
     "name": "stderr",
     "output_type": "stream",
     "text": [
      "\n"
     ]
    }
   ],
   "source": [
    "sanitized_sentences, _ = sanitizer.encrypt(sentences, entity='Name', epsilon=1)\n",
    "print(\"Sanitized sentences:\")\n",
    "print(sanitized_sentences)"
   ]
  },
  {
   "cell_type": "code",
   "execution_count": 6,
   "metadata": {},
   "outputs": [
    {
     "name": "stderr",
     "output_type": "stream",
     "text": [
      "100%|██████████| 2/2 [00:00<00:00,  4.40it/s]"
     ]
    },
    {
     "name": "stdout",
     "output_type": "stream",
     "text": [
      "NER extraction:\n",
      "{'Name': [['Jay Francois', 'Lamine Franklin'], ['Elie Vinod']]}\n"
     ]
    },
    {
     "name": "stderr",
     "output_type": "stream",
     "text": [
      "\n"
     ]
    }
   ],
   "source": [
    "extracted = ner_model.extract(sanitized_sentences, entity_type='Name')\n",
    "print(\"NER extraction:\")\n",
    "print(extracted)"
   ]
  },
  {
   "cell_type": "code",
   "execution_count": 8,
   "metadata": {},
   "outputs": [
    {
     "data": {
      "text/plain": [
       "{'Jay Francois': 'Ben Parker',\n",
       " 'Lamine Franklin': 'John Doe',\n",
       " 'Teddy Phil': 'Ben',\n",
       " 'Surinder Rodriguez': 'John',\n",
       " 'Ever Gonzalez': 'Parker',\n",
       " 'Maxime Christophe': 'Doe',\n",
       " 'Elie Vinod': 'Adam'}"
      ]
     },
     "execution_count": 8,
     "metadata": {},
     "output_type": "execute_result"
    }
   ],
   "source": [
    "sanitizer.entity_mapping"
   ]
  },
  {
   "cell_type": "code",
   "execution_count": null,
   "metadata": {},
   "outputs": [],
   "source": [
    "desanitized_sentences = sanitizer.decrypt(sanitized_sentences, entity='Name', use_cache=False)\n",
    "print(\"Desanitized sentences:\")\n",
    "print(desanitized_sentences)"
   ]
  },
  {
   "cell_type": "code",
   "execution_count": 7,
   "metadata": {},
   "outputs": [
    {
     "name": "stderr",
     "output_type": "stream",
     "text": [
      "100%|██████████| 2/2 [00:00<00:00,  4.48it/s]\n"
     ]
    },
    {
     "ename": "KeyError",
     "evalue": "0",
     "output_type": "error",
     "traceback": [
      "\u001b[0;31m---------------------------------------------------------------------------\u001b[0m",
      "\u001b[0;31mKeyError\u001b[0m                                  Traceback (most recent call last)",
      "Cell \u001b[0;32mIn[7], line 1\u001b[0m\n\u001b[0;32m----> 1\u001b[0m desanitized_sentences \u001b[38;5;241m=\u001b[39m \u001b[43msanitizer\u001b[49m\u001b[38;5;241;43m.\u001b[39;49m\u001b[43mdecrypt\u001b[49m\u001b[43m(\u001b[49m\u001b[43msanitized_sentences\u001b[49m\u001b[43m,\u001b[49m\u001b[43m \u001b[49m\u001b[43mentity\u001b[49m\u001b[38;5;241;43m=\u001b[39;49m\u001b[38;5;124;43m'\u001b[39;49m\u001b[38;5;124;43mName\u001b[39;49m\u001b[38;5;124;43m'\u001b[39;49m\u001b[43m,\u001b[49m\u001b[43m \u001b[49m\u001b[43muse_cache\u001b[49m\u001b[38;5;241;43m=\u001b[39;49m\u001b[38;5;28;43;01mTrue\u001b[39;49;00m\u001b[43m)\u001b[49m\n\u001b[1;32m      2\u001b[0m \u001b[38;5;28mprint\u001b[39m(\u001b[38;5;124m\"\u001b[39m\u001b[38;5;124mDesanitized sentences:\u001b[39m\u001b[38;5;124m\"\u001b[39m)\n\u001b[1;32m      3\u001b[0m \u001b[38;5;28mprint\u001b[39m(desanitized_sentences)\n",
      "File \u001b[0;32m/nobackup3/divyam/preempt/preempt/utils.py:899\u001b[0m, in \u001b[0;36mSanitizer.decrypt\u001b[0;34m(self, inputs, entity, extracted, use_mdp, use_fpe, use_cache)\u001b[0m\n\u001b[1;32m    897\u001b[0m data_decrypted \u001b[38;5;241m=\u001b[39m []\n\u001b[1;32m    898\u001b[0m \u001b[38;5;28;01mif\u001b[39;00m extracted \u001b[38;5;129;01mis\u001b[39;00m \u001b[38;5;28;01mNone\u001b[39;00m: extracted \u001b[38;5;241m=\u001b[39m \u001b[38;5;28mself\u001b[39m\u001b[38;5;241m.\u001b[39mner\u001b[38;5;241m.\u001b[39mextract(inputs, entity_type\u001b[38;5;241m=\u001b[39mentity)[entity]\n\u001b[0;32m--> 899\u001b[0m data_decrypted \u001b[38;5;241m=\u001b[39m \u001b[43mdec_fn_mapping\u001b[49m\u001b[43m[\u001b[49m\u001b[43mentity\u001b[49m\u001b[43m]\u001b[49m\u001b[43m(\u001b[49m\u001b[43minputs\u001b[49m\u001b[43m,\u001b[49m\u001b[43m \u001b[49m\u001b[43mextraction\u001b[49m\u001b[38;5;241;43m=\u001b[39;49m\u001b[43mextracted\u001b[49m\u001b[43m,\u001b[49m\u001b[43m \u001b[49m\n\u001b[1;32m    900\u001b[0m \u001b[43m                                        \u001b[49m\u001b[43muse_fpe\u001b[49m\u001b[38;5;241;43m=\u001b[39;49m\u001b[43muse_fpe\u001b[49m\u001b[43m,\u001b[49m\u001b[43m \u001b[49m\u001b[43muse_mdp\u001b[49m\u001b[38;5;241;43m=\u001b[39;49m\u001b[43muse_mdp\u001b[49m\u001b[43m,\u001b[49m\u001b[43m \u001b[49m\u001b[43muse_cache\u001b[49m\u001b[38;5;241;43m=\u001b[39;49m\u001b[43muse_cache\u001b[49m\u001b[43m)\u001b[49m\n\u001b[1;32m    902\u001b[0m \u001b[38;5;28;01mreturn\u001b[39;00m data_decrypted\n",
      "File \u001b[0;32m/nobackup3/divyam/preempt/preempt/utils.py:622\u001b[0m, in \u001b[0;36mSanitizer.decrypt_names\u001b[0;34m(self, inputs, **kwargs)\u001b[0m\n\u001b[1;32m    618\u001b[0m     decrypt_target \u001b[38;5;241m=\u001b[39m extraction\n\u001b[1;32m    620\u001b[0m \u001b[38;5;66;03m# print(decrypt_target)\u001b[39;00m\n\u001b[1;32m    621\u001b[0m \u001b[38;5;66;03m# print(\"FIRST NAMES\", first_names)\u001b[39;00m\n\u001b[0;32m--> 622\u001b[0m \u001b[38;5;28;01mfor\u001b[39;00m i, name \u001b[38;5;129;01min\u001b[39;00m \u001b[38;5;28menumerate\u001b[39m(\u001b[43mdecrypt_target\u001b[49m\u001b[43m[\u001b[49m\u001b[43mline_idx\u001b[49m\u001b[43m]\u001b[49m):\n\u001b[1;32m    623\u001b[0m     \u001b[38;5;28;01mtry\u001b[39;00m:\n\u001b[1;32m    624\u001b[0m         \u001b[38;5;28;01mif\u001b[39;00m \u001b[38;5;124m\"\u001b[39m\u001b[38;5;124m \u001b[39m\u001b[38;5;124m\"\u001b[39m \u001b[38;5;129;01min\u001b[39;00m name \u001b[38;5;129;01mand\u001b[39;00m name \u001b[38;5;129;01mnot\u001b[39;00m \u001b[38;5;129;01min\u001b[39;00m first_names:\n\u001b[1;32m    625\u001b[0m             \u001b[38;5;66;03m# print(\"HERE\")\u001b[39;00m\n",
      "\u001b[0;31mKeyError\u001b[0m: 0"
     ]
    }
   ],
   "source": [
    "desanitized_sentences = sanitizer.decrypt(sanitized_sentences, entity='Name', use_cache=True)\n",
    "print(\"Desanitized sentences:\")\n",
    "print(desanitized_sentences)"
   ]
  },
  {
   "cell_type": "markdown",
   "metadata": {},
   "source": [
    "### Example for sanitizing currency values with FPE:"
   ]
  },
  {
   "cell_type": "code",
   "execution_count": 9,
   "metadata": {},
   "outputs": [
    {
     "name": "stderr",
     "output_type": "stream",
     "text": [
      "100%|██████████| 2/2 [00:00<00:00,  4.33it/s]"
     ]
    },
    {
     "name": "stdout",
     "output_type": "stream",
     "text": [
      "NER extraction:\n",
      "{'Money': [['10,000', '5,550'], ['25']]}\n"
     ]
    },
    {
     "name": "stderr",
     "output_type": "stream",
     "text": [
      "\n"
     ]
    }
   ],
   "source": [
    "sentences = [\"Ben withdrew $10,000 from the bank. Adam got $5,550 in a loan.\", \"I won $25 in the lottery.\"]\n",
    "extracted = ner_model.extract(sentences, entity_type='Money')\n",
    "print(\"NER extraction:\")\n",
    "print(extracted)"
   ]
  },
  {
   "cell_type": "code",
   "execution_count": 10,
   "metadata": {},
   "outputs": [
    {
     "name": "stderr",
     "output_type": "stream",
     "text": [
      "100%|██████████| 2/2 [00:00<00:00,  4.36it/s]"
     ]
    },
    {
     "name": "stdout",
     "output_type": "stream",
     "text": [
      "Sanitized sentences:\n",
      "['Ben withdrew $54829534,343 from the bank. Adam got $0400114,733 in a loan.', 'I won $70096546 in the lottery.']\n"
     ]
    },
    {
     "name": "stderr",
     "output_type": "stream",
     "text": [
      "\n"
     ]
    }
   ],
   "source": [
    "sanitized_sentences, _ = sanitizer.encrypt(sentences, entity='Money', epsilon=1)\n",
    "print(\"Sanitized sentences:\")\n",
    "print(sanitized_sentences)"
   ]
  },
  {
   "cell_type": "code",
   "execution_count": 11,
   "metadata": {},
   "outputs": [
    {
     "name": "stderr",
     "output_type": "stream",
     "text": [
      "100%|██████████| 2/2 [00:00<00:00,  2.37it/s]"
     ]
    },
    {
     "name": "stdout",
     "output_type": "stream",
     "text": [
      "NER extraction:\n",
      "{'Money': [['54829534,343', '0400114,733'], ['70096546']]}\n"
     ]
    },
    {
     "name": "stderr",
     "output_type": "stream",
     "text": [
      "\n"
     ]
    }
   ],
   "source": [
    "extracted = ner_model.extract(sanitized_sentences, entity_type='Money')\n",
    "print(\"NER extraction:\")\n",
    "print(extracted)"
   ]
  },
  {
   "cell_type": "code",
   "execution_count": 12,
   "metadata": {},
   "outputs": [
    {
     "name": "stderr",
     "output_type": "stream",
     "text": [
      "100%|██████████| 2/2 [00:00<00:00,  2.36it/s]"
     ]
    },
    {
     "name": "stdout",
     "output_type": "stream",
     "text": [
      "Desanitized sentences:\n",
      "['Ben withdrew $10,000 from the bank. Adam got $5,550 in a loan.', 'I won $25 in the lottery.']\n"
     ]
    },
    {
     "name": "stderr",
     "output_type": "stream",
     "text": [
      "\n"
     ]
    }
   ],
   "source": [
    "desanitized_sentences = sanitizer.decrypt(sanitized_sentences, entity='Money')\n",
    "print(\"Desanitized sentences:\")\n",
    "print(desanitized_sentences)"
   ]
  },
  {
   "cell_type": "markdown",
   "metadata": {},
   "source": [
    "### Example for sanitizing currency values with m-LDP:"
   ]
  },
  {
   "cell_type": "code",
   "execution_count": 13,
   "metadata": {},
   "outputs": [
    {
     "name": "stderr",
     "output_type": "stream",
     "text": [
      "100%|██████████| 2/2 [00:00<00:00,  5.36it/s]"
     ]
    },
    {
     "name": "stdout",
     "output_type": "stream",
     "text": [
      "NER extraction:\n",
      "{'Money': [['1000', '555'], ['25']]}\n"
     ]
    },
    {
     "name": "stderr",
     "output_type": "stream",
     "text": [
      "\n"
     ]
    }
   ],
   "source": [
    "sentences = [\"Ben withdrew $1000 from the bank. Adam got $555 in a loan.\", \"I won $25 in the lottery.\"]\n",
    "extracted = ner_model.extract(sentences, entity_type='Money')\n",
    "print(\"NER extraction:\")\n",
    "print(extracted)"
   ]
  },
  {
   "cell_type": "code",
   "execution_count": 14,
   "metadata": {},
   "outputs": [
    {
     "name": "stderr",
     "output_type": "stream",
     "text": [
      "100%|██████████| 2/2 [00:00<00:00,  5.40it/s]"
     ]
    },
    {
     "name": "stdout",
     "output_type": "stream",
     "text": [
      "Sanitized sentences:\n",
      "['Ben withdrew $1180 from the bank. Adam got $397 in a loan.', 'I won $11 in the lottery.']\n"
     ]
    },
    {
     "name": "stderr",
     "output_type": "stream",
     "text": [
      "\n"
     ]
    }
   ],
   "source": [
    "sanitized_sentences, _ = sanitizer.encrypt(sentences, entity='Money', \n",
    "                                           epsilon=1, use_fpe=False, use_mdp=True)\n",
    "print(\"Sanitized sentences:\")\n",
    "print(sanitized_sentences)"
   ]
  },
  {
   "cell_type": "code",
   "execution_count": 15,
   "metadata": {},
   "outputs": [
    {
     "data": {
      "text/plain": [
       "[{'1180': '1000', '397': '555'}, {'11': '25'}]"
      ]
     },
     "execution_count": 15,
     "metadata": {},
     "output_type": "execute_result"
    }
   ],
   "source": [
    "sanitizer.entity_mapping"
   ]
  },
  {
   "cell_type": "code",
   "execution_count": 16,
   "metadata": {},
   "outputs": [
    {
     "name": "stderr",
     "output_type": "stream",
     "text": [
      "100%|██████████| 2/2 [00:00<00:00,  5.44it/s]"
     ]
    },
    {
     "name": "stdout",
     "output_type": "stream",
     "text": [
      "NER extraction:\n",
      "{'Money': [['1180', '397'], ['11']]}\n"
     ]
    },
    {
     "name": "stderr",
     "output_type": "stream",
     "text": [
      "\n"
     ]
    }
   ],
   "source": [
    "extracted = ner_model.extract(sanitized_sentences, entity_type='Money')\n",
    "print(\"NER extraction:\")\n",
    "print(extracted)"
   ]
  },
  {
   "cell_type": "code",
   "execution_count": 17,
   "metadata": {},
   "outputs": [
    {
     "name": "stderr",
     "output_type": "stream",
     "text": [
      "100%|██████████| 2/2 [00:00<00:00,  5.41it/s]"
     ]
    },
    {
     "name": "stdout",
     "output_type": "stream",
     "text": [
      "Desanitized sentences:\n",
      "['Ben withdrew $1000 from the bank. Adam got $555 in a loan.', 'I won $25 in the lottery.']\n"
     ]
    },
    {
     "name": "stderr",
     "output_type": "stream",
     "text": [
      "\n"
     ]
    }
   ],
   "source": [
    "desanitized_sentences = sanitizer.decrypt(sanitized_sentences, entity='Money', \n",
    "                                          use_fpe=False, use_mdp=True)\n",
    "print(\"Desanitized sentences:\")\n",
    "print(desanitized_sentences)"
   ]
  },
  {
   "cell_type": "markdown",
   "metadata": {},
   "source": [
    "### Example for sanitizing age values with m-LDP:"
   ]
  },
  {
   "cell_type": "code",
   "execution_count": 18,
   "metadata": {},
   "outputs": [
    {
     "name": "stderr",
     "output_type": "stream",
     "text": [
      "100%|██████████| 2/2 [00:00<00:00,  6.50it/s]"
     ]
    },
    {
     "name": "stdout",
     "output_type": "stream",
     "text": [
      "NER extraction:\n",
      "{'Age': [['15'], ['25']]}\n"
     ]
    },
    {
     "name": "stderr",
     "output_type": "stream",
     "text": [
      "\n"
     ]
    }
   ],
   "source": [
    "sentences = [\"Ben turned 15 years old today.\", \"I am 25 years old.\"]\n",
    "extracted = ner_model.extract(sentences, entity_type='Age')\n",
    "print(\"NER extraction:\")\n",
    "print(extracted)"
   ]
  },
  {
   "cell_type": "code",
   "execution_count": 19,
   "metadata": {},
   "outputs": [
    {
     "name": "stderr",
     "output_type": "stream",
     "text": [
      "100%|██████████| 2/2 [00:00<00:00,  6.46it/s]"
     ]
    },
    {
     "name": "stdout",
     "output_type": "stream",
     "text": [
      "Sanitized sentences:\n",
      "['Ben turned 16 years old today.', 'I am 22 years old.']\n"
     ]
    },
    {
     "name": "stderr",
     "output_type": "stream",
     "text": [
      "\n"
     ]
    }
   ],
   "source": [
    "sanitized_sentences, _ = sanitizer.encrypt(sentences, entity='Age', epsilon=1, use_mdp=True, use_fpe=False)\n",
    "print(\"Sanitized sentences:\")\n",
    "print(sanitized_sentences)"
   ]
  },
  {
   "cell_type": "code",
   "execution_count": 20,
   "metadata": {},
   "outputs": [
    {
     "name": "stderr",
     "output_type": "stream",
     "text": [
      "100%|██████████| 2/2 [00:00<00:00,  6.59it/s]"
     ]
    },
    {
     "name": "stdout",
     "output_type": "stream",
     "text": [
      "Desanitized sentences:\n",
      "['Ben turned 15 years old today.', 'I am 25 years old.']\n"
     ]
    },
    {
     "name": "stderr",
     "output_type": "stream",
     "text": [
      "\n"
     ]
    }
   ],
   "source": [
    "desanitized_sentences = sanitizer.decrypt(sanitized_sentences, entity='Age')\n",
    "print(\"Desanitized sentences:\")\n",
    "print(desanitized_sentences)"
   ]
  }
 ],
 "metadata": {
  "kernelspec": {
   "display_name": "preempt",
   "language": "python",
   "name": "preempt"
  },
  "language_info": {
   "codemirror_mode": {
    "name": "ipython",
    "version": 3
   },
   "file_extension": ".py",
   "mimetype": "text/x-python",
   "name": "python",
   "nbconvert_exporter": "python",
   "pygments_lexer": "ipython3",
   "version": "3.11.4"
  }
 },
 "nbformat": 4,
 "nbformat_minor": 2
}
