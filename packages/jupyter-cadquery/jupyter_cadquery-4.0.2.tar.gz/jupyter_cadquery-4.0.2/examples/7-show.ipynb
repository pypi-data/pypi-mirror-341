{
 "cells": [
  {
   "cell_type": "code",
   "execution_count": null,
   "id": "80d997a0-aa5f-454d-87a8-04691c35a389",
   "metadata": {},
   "outputs": [],
   "source": [
    "from jupyter_cadquery import *"
   ]
  },
  {
   "cell_type": "code",
   "execution_count": null,
   "id": "e6332b7b-36c8-4019-9c64-070da13d56eb",
   "metadata": {},
   "outputs": [],
   "source": [
    "cv = open_viewer(\"Tests\")"
   ]
  },
  {
   "cell_type": "code",
   "execution_count": null,
   "id": "96201866-0dc4-4c3c-8bd7-83789f218147",
   "metadata": {},
   "outputs": [],
   "source": [
    "from build123d import Box, Pos, fillet, Location, Text\n",
    "import cadquery as cq\n",
    "\n",
    "b = Pos(0,0,-2) * Box(1,1,3)\n",
    "c = cq.Workplane().cylinder(1, 1.5)"
   ]
  },
  {
   "cell_type": "code",
   "execution_count": null,
   "id": "8b5eb1b0-61c1-4dee-b2c4-b56eeffd924f",
   "metadata": {},
   "outputs": [],
   "source": [
    "show(b, c, \n",
    "     names=[\"b\", \"c\"],\n",
    "     colors=[\"red\", \"green\"],\n",
    "     alphas=[1.0, 0.5],\n",
    ")"
   ]
  },
  {
   "cell_type": "code",
   "execution_count": null,
   "id": "70dbe876-d748-4f7e-9eae-446acaf1cd21",
   "metadata": {},
   "outputs": [],
   "source": [
    "show(b,c, theme=\"dark\", viewer=\"Dark\")"
   ]
  },
  {
   "cell_type": "code",
   "execution_count": null,
   "id": "9247ed74-20d1-46db-a1e3-a2c72dc07dd0",
   "metadata": {},
   "outputs": [],
   "source": [
    "close_viewers()"
   ]
  },
  {
   "cell_type": "code",
   "execution_count": null,
   "id": "0aa2db4a-1250-4895-8137-3a60701ee4dc",
   "metadata": {},
   "outputs": [],
   "source": [
    "t = Text(\"sidecar\", 20)\n",
    "cv_s = show(t, viewer=\"SideCar\", anchor=\"right\")"
   ]
  },
  {
   "cell_type": "code",
   "execution_count": null,
   "id": "2a617179-a18d-431e-9c45-279fb358bbd9",
   "metadata": {},
   "outputs": [],
   "source": [
    "t = Text(\"right\", 20)\n",
    "cv_r = show(t, viewer=\"Right\", anchor=\"split-right\")"
   ]
  },
  {
   "cell_type": "code",
   "execution_count": null,
   "id": "a4f05825-287e-4711-b20e-86a7ae6f7116",
   "metadata": {},
   "outputs": [],
   "source": [
    "t = Text(\"left\", 20)\n",
    "cv_l = show(t, viewer=\"Left\", anchor=\"split-left\")"
   ]
  },
  {
   "cell_type": "code",
   "execution_count": null,
   "id": "3996d85e-df96-4c8e-83e3-0d4b92ffd9bc",
   "metadata": {},
   "outputs": [],
   "source": [
    "t = Text(\"top\", 20)\n",
    "show(t, viewer=\"Top\", anchor=\"split-top\")"
   ]
  },
  {
   "cell_type": "code",
   "execution_count": null,
   "id": "3f98f603-15c9-49b9-bf7f-feec8c34dc50",
   "metadata": {},
   "outputs": [],
   "source": [
    "cv_b = open_viewer(\"Bottom\", anchor=\"split-bottom\", aspect_ratio=0.75)\n",
    "t = Text(\"bottom\", 20)\n",
    "show(t, viewer=\"Bottom\", anchor=\"split-bottom\")"
   ]
  },
  {
   "cell_type": "code",
   "execution_count": null,
   "id": "8189f824-060c-4799-a2de-a63bc50dfac7",
   "metadata": {},
   "outputs": [],
   "source": [
    "close_viewers()"
   ]
  },
  {
   "cell_type": "code",
   "execution_count": null,
   "id": "37c5829b-f67a-45d4-93e9-b675176a2a6b",
   "metadata": {},
   "outputs": [],
   "source": [
    "cv_s = open_viewer(\"SideCar\", anchor=\"right\", aspect_ratio=0)\n",
    "t = Text(\"sidecar\", 20)\n",
    "show(t)"
   ]
  },
  {
   "cell_type": "code",
   "execution_count": null,
   "id": "e6d49844-e96f-4e0a-8dc9-d5dc6f53b0d1",
   "metadata": {},
   "outputs": [],
   "source": [
    "cv_r = open_viewer(\"Right\", anchor=\"split-right\", aspect_ratio=0)\n",
    "t = Text(\"right\", 20)\n",
    "show(t)"
   ]
  },
  {
   "cell_type": "code",
   "execution_count": null,
   "id": "cb3aa983-de15-47c0-98b7-59db6189101a",
   "metadata": {},
   "outputs": [],
   "source": [
    "cv_l = open_viewer(\"Left\", anchor=\"split-left\", aspect_ratio=0)\n",
    "t = Text(\"left\", 20)\n",
    "show(t)"
   ]
  },
  {
   "cell_type": "code",
   "execution_count": null,
   "id": "ff4ce638-c47e-452a-adc8-8e77d9d2b2eb",
   "metadata": {},
   "outputs": [],
   "source": [
    "cv_t = open_viewer(\"Top\", anchor=\"split-top\", aspect_ratio=0)\n",
    "t = Text(\"top\", 20)\n",
    "show(t)"
   ]
  },
  {
   "cell_type": "code",
   "execution_count": null,
   "id": "42388717-4214-4039-b2fa-195bf50277a7",
   "metadata": {},
   "outputs": [],
   "source": [
    "cv_b = open_viewer(\"Bottom\", anchor=\"split-bottom\", aspect_ratio=0)\n",
    "t = Text(\"bottom\", 20)\n",
    "show(t)"
   ]
  },
  {
   "cell_type": "code",
   "execution_count": null,
   "id": "eb73b80d-5e78-43cf-9d3d-4a48c49a8a90",
   "metadata": {},
   "outputs": [],
   "source": [
    "close_viewers()"
   ]
  },
  {
   "cell_type": "code",
   "execution_count": null,
   "id": "382e415f-df8f-4245-a2bb-9404b0e8cbab",
   "metadata": {},
   "outputs": [],
   "source": [
    "cv = open_viewer(\"Tests\")"
   ]
  },
  {
   "cell_type": "code",
   "execution_count": null,
   "id": "51f04a85-5a2c-4c05-aba0-fc083e03c709",
   "metadata": {},
   "outputs": [],
   "source": [
    "show(\n",
    "    b, c,\n",
    "    cad_width=780,\n",
    "    tree_width=300,\n",
    "    height=600, \n",
    "    viewer=\"\"\n",
    ")"
   ]
  },
  {
   "cell_type": "code",
   "execution_count": null,
   "id": "9250feb9-9aff-4200-87da-6c03d2e0900d",
   "metadata": {},
   "outputs": [],
   "source": [
    " show(\n",
    "    b, c,\n",
    "    cad_width=980,\n",
    "    tree_width=250,\n",
    "    height=750, \n",
    "    viewer=\"\",\n",
    "    pinning=True,\n",
    " )"
   ]
  },
  {
   "cell_type": "code",
   "execution_count": null,
   "id": "fa2b9c08-ecfb-4d16-92e8-872752709ee4",
   "metadata": {},
   "outputs": [],
   "source": [
    "show(b,c, Box(0.1,0.1,4), progress='+')"
   ]
  },
  {
   "cell_type": "code",
   "execution_count": null,
   "id": "c752a01b-3627-4c2a-9f3e-e4b6dcc86045",
   "metadata": {},
   "outputs": [],
   "source": [
    "show(b,c, Box(0.1,0.1,4), progress='+')"
   ]
  },
  {
   "cell_type": "code",
   "execution_count": null,
   "id": "b781d3eb-d105-4bbf-b90e-218b1b081a97",
   "metadata": {},
   "outputs": [],
   "source": [
    "show(\n",
    "    b, c,\n",
    "    glass=False,\n",
    "    tools=True,\n",
    "    viewer=\"\"\n",
    ")\n"
   ]
  },
  {
   "cell_type": "code",
   "execution_count": null,
   "id": "3c51039a-2dd6-4cb8-9b32-12b1ca44aafb",
   "metadata": {},
   "outputs": [],
   "source": [
    "show(\n",
    "    b, c,\n",
    "    glass=True,\n",
    "    tools=True,\n",
    "    viewer=\"\"\n",
    ")"
   ]
  },
  {
   "cell_type": "code",
   "execution_count": null,
   "id": "ef71947d-83f5-4060-b9c7-c25faf368389",
   "metadata": {},
   "outputs": [],
   "source": [
    "show(\n",
    "    b, c,\n",
    "    glass=False,\n",
    "    tools=False,\n",
    "    viewer=\"\"\n",
    ")"
   ]
  },
  {
   "cell_type": "code",
   "execution_count": null,
   "id": "b28ee12b-7035-47b0-b0a1-6b8b02b78723",
   "metadata": {},
   "outputs": [],
   "source": [
    "show(\n",
    "    b,c,\n",
    "    axes=True,\n",
    "    axes0=True,\n",
    "    grid=(True, False, False),\n",
    "    center_grid=True,\n",
    "    ortho=False,\n",
    "    transparent=True,\n",
    "    default_opacity=0.1,\n",
    "    black_edges=True,\n",
    "    ticks=20\n",
    ")"
   ]
  },
  {
   "cell_type": "code",
   "execution_count": null,
   "id": "6cc9bf0b-7b80-413f-8b85-a33505fc54fb",
   "metadata": {},
   "outputs": [],
   "source": [
    "show(\n",
    "    b,c,\n",
    "    axes=True,\n",
    "    axes0=False,\n",
    "    grid=(False, True, False),\n",
    "    center_grid=False,\n",
    "    ortho=True,\n",
    "    transparent=True,\n",
    "    default_opacity=0.9,\n",
    "    black_edges=False,\n",
    "    ticks=5\n",
    ")"
   ]
  },
  {
   "cell_type": "code",
   "execution_count": null,
   "id": "de178837-0b5f-4019-ade4-0863ed0948e8",
   "metadata": {},
   "outputs": [],
   "source": [
    "show(\n",
    "    b,c,\n",
    "    axes=False,\n",
    "    axes0=False,\n",
    "    grid=(False, False, False),\n",
    "    center_grid=True,\n",
    "    ortho=True,\n",
    "    transparent=False,\n",
    ")"
   ]
  },
  {
   "cell_type": "code",
   "execution_count": null,
   "id": "160594d8-d7ba-4ffc-87b0-4725fd92000d",
   "metadata": {},
   "outputs": [],
   "source": [
    "show(b,c, orbit_control=True)\n"
   ]
  },
  {
   "cell_type": "code",
   "execution_count": null,
   "id": "7250deb9-77a5-4035-b9b9-de244d9eee3e",
   "metadata": {},
   "outputs": [],
   "source": [
    "d = {\"all\":{\"build123d\": b, \"cadquery\": c}}\n",
    "show(d, collapse=Collapse.NONE)"
   ]
  },
  {
   "cell_type": "code",
   "execution_count": null,
   "id": "57e3d6a2-d5c4-4684-8f82-cf47a97d3844",
   "metadata": {},
   "outputs": [],
   "source": [
    "show(d, collapse=Collapse.ALL)"
   ]
  },
  {
   "cell_type": "code",
   "execution_count": null,
   "id": "a1afaf16-b639-4c81-a03a-d04cb869ac82",
   "metadata": {},
   "outputs": [],
   "source": [
    "show(b, c, explode=True)"
   ]
  },
  {
   "cell_type": "code",
   "execution_count": null,
   "id": "dea8bf6c-ceed-4176-acef-18b933f7ae1f",
   "metadata": {},
   "outputs": [],
   "source": [
    "show(b, c, up=\"Y\", explode=False)"
   ]
  },
  {
   "cell_type": "code",
   "execution_count": null,
   "id": "b4818671-1119-479e-9855-58613371b8ad",
   "metadata": {},
   "outputs": [],
   "source": [
    "show(b, c, up=\"Z\")"
   ]
  },
  {
   "cell_type": "code",
   "execution_count": null,
   "id": "98240569-5a5c-4366-9262-2ba538880b6a",
   "metadata": {},
   "outputs": [],
   "source": [
    "show(\n",
    "    b, c,\n",
    "    zoom=0.44,\n",
    "    position=(12.038999164172496, -3.7452566849011526, 7.469118132008944),\n",
    "    quaternion=(0.16354503619754296, 0.410881077276798, 0.4308790756356319, 0.7866212453591542),\n",
    "    target=(0.5614724429914363, -5.1561155175547375, -1.406458340474302)\n",
    ")"
   ]
  },
  {
   "cell_type": "code",
   "execution_count": null,
   "id": "7a83a002-c6fd-4c06-bde6-3608f1997cef",
   "metadata": {},
   "outputs": [],
   "source": [
    "show(\n",
    "    b, c, reset_camera=Camera.KEEP,\n",
    ")"
   ]
  },
  {
   "cell_type": "code",
   "execution_count": null,
   "id": "d99166a6-0f3f-41ac-917a-6f9e883b82ab",
   "metadata": {},
   "outputs": [],
   "source": [
    "show(\n",
    "    b, c, reset_camera=Camera.CENTER,\n",
    ")"
   ]
  },
  {
   "cell_type": "code",
   "execution_count": null,
   "id": "dc6b66ec-a2e2-4520-a8af-0d3a8e839c61",
   "metadata": {},
   "outputs": [],
   "source": [
    "show(\n",
    "    b, c, reset_camera=Camera.RESET,\n",
    ")"
   ]
  },
  {
   "cell_type": "code",
   "execution_count": null,
   "id": "044283c7-f2ae-4b37-b97a-8d9a08b88e4e",
   "metadata": {},
   "outputs": [],
   "source": [
    "show(\n",
    "    b, c,\n",
    "    position=(13.781132164127966, 2.9053781147768625, 2.260209340583971),\n",
    "    quaternion=(0.29852536103313115, 0.5309505555794043, 0.5229306160107792, 0.5962530395633631),\n",
    "    target=(0.0, 0.0, -1.5),\n",
    "\n",
    "    clip_slider_0=-0.21,\n",
    "    clip_slider_1=-0.14,\n",
    "    clip_slider_2=0.33,\n",
    "    clip_intersection=True,\n",
    "    clip_planes=True,\n",
    "    clip_object_colors=True,\n",
    ")"
   ]
  },
  {
   "cell_type": "code",
   "execution_count": null,
   "id": "6e7b5ce2-1527-4827-b295-a6850e4680b7",
   "metadata": {},
   "outputs": [],
   "source": [
    "cv.tab = \"clip\""
   ]
  },
  {
   "cell_type": "code",
   "execution_count": null,
   "id": "5b8b1434-931b-491a-8454-cb20b1eced76",
   "metadata": {},
   "outputs": [],
   "source": [
    "show(\n",
    "    b, c,\n",
    "    position=(2.86931361687369, 11.762871678108427, 6.617997859840651),\n",
    "    quaternion=(0.15019060411404805, 0.4460916419362074, 0.8790721456277766, -0.07534714468306618),\n",
    "    target=(0.0, 0.0, -1.5),\n",
    "\n",
    "    clip_slider_0=1.28,\n",
    "    clip_slider_1=1.42,\n",
    "    clip_slider_2=1.66,\n",
    "    clip_normal_0=(-0.94, 0.04, -0.33),\n",
    "    clip_normal_1=(-0.20, -0.42, -0.88),\n",
    "    clip_normal_2=(0.48, -0.17, -0.86),\n",
    "    \n",
    "    clip_intersection=False,\n",
    "    clip_planes=True,\n",
    "    clip_object_colors=False,\n",
    ")"
   ]
  },
  {
   "cell_type": "code",
   "execution_count": null,
   "id": "19ad99ad-75dc-41a8-98b5-a6ef17a794ed",
   "metadata": {},
   "outputs": [],
   "source": [
    "cv.tab = \"clip\""
   ]
  },
  {
   "cell_type": "code",
   "execution_count": null,
   "id": "06b6d4be-9fe9-49e1-879e-82926c239eab",
   "metadata": {},
   "outputs": [],
   "source": [
    "show(\n",
    "    b, c,\n",
    "    pan_speed=0.1,\n",
    "    rotate_speed=0.1,\n",
    "    zoom_speed=0.1\n",
    ")"
   ]
  },
  {
   "cell_type": "code",
   "execution_count": null,
   "id": "e61bd3b9-5183-486b-a9f7-d2144125f507",
   "metadata": {},
   "outputs": [],
   "source": [
    "show(\n",
    "    b, c,\n",
    "    pan_speed=1,\n",
    "    rotate_speed=1,\n",
    "    zoom_speed=1\n",
    ")"
   ]
  },
  {
   "cell_type": "code",
   "execution_count": null,
   "id": "b408cdc9-e6d0-4212-8873-e3bcbce5f681",
   "metadata": {},
   "outputs": [],
   "source": [
    "show(\n",
    "    c.edges(),\n",
    "    edge_accuracy=0.1,\n",
    ")"
   ]
  },
  {
   "cell_type": "code",
   "execution_count": null,
   "id": "2f537e87-07d7-49f6-9f28-a97294eae302",
   "metadata": {},
   "outputs": [],
   "source": [
    "b2 = fillet(b.edges(), 0.2)\n",
    "show(\n",
    "    b2,\n",
    "    deviation=1,\n",
    "    angular_tolerance=3,\n",
    ")"
   ]
  },
  {
   "cell_type": "code",
   "execution_count": null,
   "id": "456b7c98-3f5c-4419-970b-6ca232a67ed7",
   "metadata": {},
   "outputs": [],
   "source": [
    "show(\n",
    "    b, b.edges(), c.faces(), b.vertices(),\n",
    "    default_color=\"red\",\n",
    "    default_edgecolor=\"yellow\",\n",
    "    default_facecolor=\"green\",\n",
    "    default_thickedgecolor=\"blue\",\n",
    "    default_vertexcolor=\"magenta\",\n",
    ")"
   ]
  },
  {
   "cell_type": "code",
   "execution_count": null,
   "id": "6836990b-7f9d-4db7-be94-60c8a5e2a4b0",
   "metadata": {},
   "outputs": [],
   "source": [
    "show(\n",
    "    b, c,\n",
    "    ambient_intensity=1.50,\n",
    "    direct_intensity=2.70,\n",
    "    metalness=0.75,\n",
    "    roughness=0.70,\n",
    ")"
   ]
  },
  {
   "cell_type": "code",
   "execution_count": null,
   "id": "0fdf83c2-ec9b-4f32-aeb3-e9124e958fa3",
   "metadata": {},
   "outputs": [],
   "source": [
    "show(b, render_edges=False)"
   ]
  },
  {
   "cell_type": "code",
   "execution_count": null,
   "id": "fd1fc4a9-917d-4902-9ab7-c30e9f121c86",
   "metadata": {},
   "outputs": [],
   "source": [
    "show(b, c, render_normals=True)\n"
   ]
  },
  {
   "cell_type": "code",
   "execution_count": null,
   "id": "f9307d91-f36c-471f-92ec-f65243bbcbc9",
   "metadata": {},
   "outputs": [],
   "source": [
    "show(b, b.faces().sort_by()[-1].center_location, helper_scale=2)    "
   ]
  },
  {
   "cell_type": "code",
   "execution_count": null,
   "id": "932b1d5e-4b3b-43b2-bd01-889caa8152cf",
   "metadata": {},
   "outputs": [],
   "source": [
    "show(b.edges().group_by()[-1], show_parent=True)"
   ]
  },
  {
   "cell_type": "code",
   "execution_count": null,
   "id": "cb131d2a-2bd5-47c2-bec3-97e83b6ee033",
   "metadata": {},
   "outputs": [],
   "source": [
    "show(b, c, timeit=True)"
   ]
  },
  {
   "cell_type": "code",
   "execution_count": null,
   "id": "9a25f797-65b0-4d45-8023-01fc406fa812",
   "metadata": {},
   "outputs": [],
   "source": []
  }
 ],
 "metadata": {
  "language_info": {
   "name": "python",
   "pygments_lexer": "ipython3"
  },
  "kernelspec": {
   "display_name": "Python 3",
   "language": "python",
   "name": "python3"
  }
 },
 "nbformat": 4,
 "nbformat_minor": 5
}
