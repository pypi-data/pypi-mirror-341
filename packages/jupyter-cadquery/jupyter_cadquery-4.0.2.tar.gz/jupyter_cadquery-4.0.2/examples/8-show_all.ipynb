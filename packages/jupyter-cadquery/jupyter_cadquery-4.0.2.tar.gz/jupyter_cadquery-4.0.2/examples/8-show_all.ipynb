{
 "cells": [
  {
   "cell_type": "code",
   "execution_count": null,
   "id": "697aac00-b737-45ae-96b7-d388af5054fc",
   "metadata": {},
   "outputs": [],
   "source": [
    "from jupyter_cadquery import *"
   ]
  },
  {
   "cell_type": "code",
   "execution_count": null,
   "id": "3bb51319-6c8d-47d9-871a-69d4a98fe6de",
   "metadata": {},
   "outputs": [],
   "source": [
    "cv = open_viewer(\"Tests\")"
   ]
  },
  {
   "cell_type": "code",
   "execution_count": null,
   "id": "3ffb3861-f7dd-49f8-afb6-e314f864b255",
   "metadata": {},
   "outputs": [],
   "source": [
    "from build123d import Box, Pos, fillet, Location\n",
    "import cadquery as cq\n",
    "\n",
    "b = Pos(0,0,-2) * Box(1,1,3)\n",
    "c = cq.Workplane().cylinder(1, 1.5)"
   ]
  },
  {
   "cell_type": "code",
   "execution_count": null,
   "id": "c2d1ae03-98f6-44fd-818e-8c272b4206e2",
   "metadata": {},
   "outputs": [],
   "source": [
    "show_all()"
   ]
  },
  {
   "cell_type": "code",
   "execution_count": null,
   "id": "ca4dc658-b3b4-4696-952c-14466cee44d6",
   "metadata": {},
   "outputs": [],
   "source": [
    "set_defaults(\n",
    "    axes=True,\n",
    "    grid=(True, False, False),\n",
    "    transparent=True\n",
    ")"
   ]
  },
  {
   "cell_type": "code",
   "execution_count": null,
   "id": "aadc3849-c3fb-46c3-ba54-ddae7166b779",
   "metadata": {},
   "outputs": [],
   "source": [
    "show(Box(1,1,1))"
   ]
  },
  {
   "cell_type": "code",
   "execution_count": null,
   "id": "a293ae6f-b875-4565-b820-2a483c292f1d",
   "metadata": {},
   "outputs": [],
   "source": [
    "show_all()"
   ]
  },
  {
   "cell_type": "code",
   "execution_count": null,
   "id": "bbced2b7-6675-4b6f-ab3d-fb47676fd547",
   "metadata": {},
   "outputs": [],
   "source": [
    "cv2 = open_viewer(\"Tests2\", anchor=\"split-bottom\")"
   ]
  },
  {
   "cell_type": "code",
   "execution_count": null,
   "id": "9317e5ab-eee4-4ee2-b992-ff3aa2ad6974",
   "metadata": {},
   "outputs": [],
   "source": [
    "show(Box(1,1,1))"
   ]
  },
  {
   "cell_type": "code",
   "execution_count": null,
   "id": "1c595f34-f3d2-44f9-ad54-76b8ee60112d",
   "metadata": {},
   "outputs": [],
   "source": [
    "show_all()"
   ]
  },
  {
   "cell_type": "code",
   "execution_count": null,
   "id": "4e2c6f23-0464-4d1a-bb6f-4a12fabd325d",
   "metadata": {},
   "outputs": [],
   "source": [
    "show(Box(1,1,1), viewer=\"Tests\")"
   ]
  },
  {
   "cell_type": "code",
   "execution_count": null,
   "id": "501f4c11-0214-4896-bdee-aaa10e033785",
   "metadata": {},
   "outputs": [],
   "source": [
    "show(Box(1,1,1), viewer=\"Tests2\")"
   ]
  },
  {
   "cell_type": "code",
   "execution_count": null,
   "id": "30d194bb-1082-43f8-a1fc-66378531b250",
   "metadata": {},
   "outputs": [],
   "source": [
    "close_viewer(\"Tests2\")"
   ]
  }
 ],
 "metadata": {
  "language_info": {
   "name": "python",
   "pygments_lexer": "ipython3"
  },
  "kernelspec": {
   "display_name": "Python 3",
   "language": "python",
   "name": "python3"
  }
 },
 "nbformat": 4,
 "nbformat_minor": 5
}
