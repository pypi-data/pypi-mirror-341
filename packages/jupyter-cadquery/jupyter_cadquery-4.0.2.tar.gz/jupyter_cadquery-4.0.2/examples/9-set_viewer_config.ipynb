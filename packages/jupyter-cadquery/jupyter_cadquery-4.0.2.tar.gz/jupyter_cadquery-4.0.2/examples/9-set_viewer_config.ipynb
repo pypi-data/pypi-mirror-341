{
 "cells": [
  {
   "cell_type": "code",
   "execution_count": null,
   "id": "c1dc9a17-540b-4c78-9619-8b2aa71a0fd7",
   "metadata": {},
   "outputs": [],
   "source": [
    "import cadquery as cq\n",
    "\n",
    "from jupyter_cadquery import *\n",
    "\n",
    "cv = open_viewer(\"Test\")"
   ]
  },
  {
   "cell_type": "code",
   "execution_count": null,
   "id": "42c3489a-6ac6-42ee-87e5-06fc61acafcb",
   "metadata": {},
   "outputs": [],
   "source": [
    "box1 = cq.Workplane('XY').box(10, 20, 30).edges(\">X or <X\").chamfer(2)\n",
    "box1.name = \"box1\"\n",
    "\n",
    "box2 = cq.Workplane('XY').box(8, 18, 28).edges(\">X or <X\").chamfer(2)\n",
    "box2.name = \"box2\"\n",
    "\n",
    "box3 = cq.Workplane('XY').transformed(offset=(0, 15, 7))\\\n",
    "    .box(30, 20, 6).edges(\">Z\").fillet(3)\n",
    "box3.name = \"box3\"\n",
    "\n",
    "box4 = box3.mirror(\"XY\").translate((0, -5, 0))\n",
    "box4.name = \"box4\"\n",
    "\n",
    "box1 = box1\\\n",
    "    .cut(box2)\\\n",
    "    .cut(box3)\\\n",
    "    .cut(box4)\n",
    "a1 = (\n",
    "    cq.Assembly(name=\"ensemble\")\n",
    "    .add(box1, name=\"red box\", color=\"#d7191c80\") # transparent alpha = 0x80/0xFF\n",
    "    .add(box3, name=\"green box\", color=\"#abdda4\")\n",
    "    .add(box4, name=\"blue box\", color=(43, 131, 186, 0.3)) # transparent, alpha = 0.3\n",
    ")\n",
    "\n",
    "show(a1)"
   ]
  },
  {
   "cell_type": "code",
   "execution_count": null,
   "id": "bdd97674-9916-4480-9f7a-0274632c4d01",
   "metadata": {},
   "outputs": [],
   "source": [
    "(cv.axes, cv.axes0, cv.grid, cv.center_grid)"
   ]
  },
  {
   "cell_type": "code",
   "execution_count": null,
   "id": "f3339884-d055-44e9-bb9b-a638ec90224d",
   "metadata": {},
   "outputs": [],
   "source": [
    "set_viewer_config(\n",
    "    axes=True,\n",
    "    axes0=True,\n",
    "    grid=(True, False, False),\n",
    "    center_grid=True,\n",
    ")"
   ]
  },
  {
   "cell_type": "code",
   "execution_count": null,
   "id": "faf29277-4775-4526-8d8b-168e590ee39c",
   "metadata": {},
   "outputs": [],
   "source": [
    "(cv.axes, cv.axes0, cv.grid, cv.center_grid)"
   ]
  },
  {
   "cell_type": "code",
   "execution_count": null,
   "id": "bac69d93-468e-4575-b206-730d24adc097",
   "metadata": {},
   "outputs": [],
   "source": [
    "reset_defaults()"
   ]
  },
  {
   "cell_type": "code",
   "execution_count": null,
   "id": "2be2c182-787c-4ec3-bc26-612ace4e0ff3",
   "metadata": {},
   "outputs": [],
   "source": [
    "(cv.axes, cv.axes0, cv.grid, cv.center_grid)"
   ]
  },
  {
   "cell_type": "code",
   "execution_count": null,
   "id": "0452ca5d-94ee-4ac6-a47d-f57a5cf3066b",
   "metadata": {},
   "outputs": [],
   "source": [
    "set_viewer_config(\n",
    "    grid=(True, False, False),\n",
    ")"
   ]
  },
  {
   "cell_type": "code",
   "execution_count": null,
   "id": "b6fe98a0-b54e-46bd-aa1c-641b55a5b865",
   "metadata": {},
   "outputs": [],
   "source": [
    "(cv.grid, cv.center_grid)"
   ]
  },
  {
   "cell_type": "code",
   "execution_count": null,
   "id": "2151ec16-8ff1-4c53-9244-c13d7a9fc4e0",
   "metadata": {},
   "outputs": [],
   "source": [
    "(cv.transparent, cv.black_edges)"
   ]
  },
  {
   "cell_type": "code",
   "execution_count": null,
   "id": "5fde43c4-4c18-465c-a331-080f4a9c7791",
   "metadata": {},
   "outputs": [],
   "source": [
    "set_viewer_config(\n",
    "    transparent=True,\n",
    "    black_edges=True,)\n"
   ]
  },
  {
   "cell_type": "code",
   "execution_count": null,
   "id": "56bc81c5-0a86-49f8-9ffa-7d4eebc02220",
   "metadata": {},
   "outputs": [],
   "source": [
    "(cv.transparent, cv.black_edges)"
   ]
  },
  {
   "cell_type": "code",
   "execution_count": null,
   "id": "e7c41b0a-f565-4ecc-915d-663277624a8a",
   "metadata": {},
   "outputs": [],
   "source": [
    "cv.default_opacity"
   ]
  },
  {
   "cell_type": "code",
   "execution_count": null,
   "id": "41f30c07-905a-42e8-9d34-6eee35ec9b25",
   "metadata": {},
   "outputs": [],
   "source": [
    "set_viewer_config(default_opacity=0.1)"
   ]
  },
  {
   "cell_type": "code",
   "execution_count": null,
   "id": "41af6f54-5e7f-46f4-93cf-1b1c00218c98",
   "metadata": {},
   "outputs": [],
   "source": [
    "set_viewer_config(default_opacity=0.9)"
   ]
  },
  {
   "cell_type": "code",
   "execution_count": null,
   "id": "a72b388f-7445-4a0d-9850-c0863efedc46",
   "metadata": {},
   "outputs": [],
   "source": [
    "cv.default_opacity"
   ]
  },
  {
   "cell_type": "code",
   "execution_count": null,
   "id": "2ac088fd-377e-4a04-a198-1256a70a86fc",
   "metadata": {},
   "outputs": [],
   "source": [
    "cv.ortho"
   ]
  },
  {
   "cell_type": "code",
   "execution_count": null,
   "id": "cc3a9962-e59a-4c60-8156-4c266eb8352b",
   "metadata": {},
   "outputs": [],
   "source": [
    "set_viewer_config(ortho=False,)\n"
   ]
  },
  {
   "cell_type": "code",
   "execution_count": null,
   "id": "7655c834-1bba-4347-832a-8195f25a06e3",
   "metadata": {},
   "outputs": [],
   "source": [
    "cv.ortho"
   ]
  },
  {
   "cell_type": "code",
   "execution_count": null,
   "id": "d6b6f881-f2d5-4bbe-8b6c-0cd44425bd25",
   "metadata": {},
   "outputs": [],
   "source": [
    "set_viewer_config(ortho=True,)"
   ]
  },
  {
   "cell_type": "code",
   "execution_count": null,
   "id": "9a2f6343-cdf2-481f-a54d-ebb49111e99d",
   "metadata": {},
   "outputs": [],
   "source": [
    "cv.ortho"
   ]
  },
  {
   "cell_type": "code",
   "execution_count": null,
   "id": "887dd882-4096-4f3b-8de8-3c50afb7e70c",
   "metadata": {},
   "outputs": [],
   "source": [
    "cv.explode"
   ]
  },
  {
   "cell_type": "code",
   "execution_count": null,
   "id": "24014564-5086-4287-a774-91b9a1ab36eb",
   "metadata": {},
   "outputs": [],
   "source": [
    "set_viewer_config(explode=True,)"
   ]
  },
  {
   "cell_type": "code",
   "execution_count": null,
   "id": "68167f3a-dfe4-497b-a94e-d34342b83f9c",
   "metadata": {},
   "outputs": [],
   "source": [
    "cv.explode"
   ]
  },
  {
   "cell_type": "code",
   "execution_count": null,
   "id": "96ea85da-3b81-45dc-ae30-749f8d2a94ef",
   "metadata": {},
   "outputs": [],
   "source": [
    "set_viewer_config(explode=False,)"
   ]
  },
  {
   "cell_type": "code",
   "execution_count": null,
   "id": "40c81c09-2914-4a04-96a4-efc548ea4228",
   "metadata": {},
   "outputs": [],
   "source": [
    "cv.explode"
   ]
  },
  {
   "cell_type": "code",
   "execution_count": null,
   "id": "1989cda8-26ff-41e7-b602-93ae8c0bf789",
   "metadata": {},
   "outputs": [],
   "source": [
    "(cv.position, cv.quaternion, cv.target, cv.zoom)"
   ]
  },
  {
   "cell_type": "code",
   "execution_count": null,
   "id": "95d08db2-6d5c-4e9e-aa7f-de940ee6c24a",
   "metadata": {},
   "outputs": [],
   "source": [
    "set_viewer_config(\n",
    "    zoom=0.5,\n",
    "    position=(456.87878223107526, 32.17981290732659, 400.4847862406569),\n",
    "    quaternion=(0.2584919049480696, 0.28997325656997747, 0.6878415673715882, 0.6131650868618639),\n",
    "    target=(24.052623278028737, -17.672008259096188, -24.42311937102144),\n",
    ")"
   ]
  },
  {
   "cell_type": "code",
   "execution_count": null,
   "id": "b77bb013-712d-4f4a-ad10-3e5a27326b4d",
   "metadata": {},
   "outputs": [],
   "source": [
    "(cv.position, cv.quaternion, cv.target, cv.zoom)"
   ]
  },
  {
   "cell_type": "code",
   "execution_count": null,
   "id": "01cca6e4-1053-4f83-bafe-74020816860c",
   "metadata": {},
   "outputs": [],
   "source": [
    "reset_defaults()"
   ]
  },
  {
   "cell_type": "code",
   "execution_count": null,
   "id": "1c78d0d9-2acb-467f-9484-b7bfee313f9f",
   "metadata": {},
   "outputs": [],
   "source": [
    "show(a1)"
   ]
  },
  {
   "cell_type": "code",
   "execution_count": null,
   "id": "18913d17-71bb-423c-895e-ba0c5516d2fb",
   "metadata": {},
   "outputs": [],
   "source": [
    "(cv.default_edgecolor, cv.default_opacity, cv.transparent)"
   ]
  },
  {
   "cell_type": "code",
   "execution_count": null,
   "id": "3a299feb-3091-47b8-bd0b-750f64849e2b",
   "metadata": {},
   "outputs": [],
   "source": [
    "set_viewer_config(\n",
    "    default_edgecolor=\"green\",\n",
    "    default_opacity=0.1,\n",
    "    transparent=True\n",
    ")\n"
   ]
  },
  {
   "cell_type": "code",
   "execution_count": null,
   "id": "22e8d63e-a092-4910-b79f-b05a97d5e12f",
   "metadata": {},
   "outputs": [],
   "source": [
    "(cv.default_edgecolor, cv.default_opacity, cv.transparent)"
   ]
  },
  {
   "cell_type": "code",
   "execution_count": null,
   "id": "d0cd782a-805f-498a-b983-7a0d7560ea4d",
   "metadata": {},
   "outputs": [],
   "source": [
    "reset_defaults()"
   ]
  },
  {
   "cell_type": "code",
   "execution_count": null,
   "id": "8c37248b-80e9-4459-9311-7db3992c15f7",
   "metadata": {},
   "outputs": [],
   "source": [
    "(cv.default_edgecolor, cv.default_opacity, cv.transparent)"
   ]
  },
  {
   "cell_type": "code",
   "execution_count": null,
   "id": "95296f98-e4c5-4df4-9c3b-53b45c2dce47",
   "metadata": {},
   "outputs": [],
   "source": [
    "set_viewer_config(tab=\"material\")"
   ]
  },
  {
   "cell_type": "code",
   "execution_count": null,
   "id": "8ffbd738-e7f7-46f3-ba66-9efe659752ea",
   "metadata": {},
   "outputs": [],
   "source": [
    "(cv.ambient_intensity, cv.direct_intensity, cv.metalness, cv.roughness)"
   ]
  },
  {
   "cell_type": "code",
   "execution_count": null,
   "id": "ea3961b7-f801-4bcd-af25-46ee930958d4",
   "metadata": {},
   "outputs": [],
   "source": [
    "set_viewer_config(\n",
    "    ambient_intensity=1.85,\n",
    "    direct_intensity=1.67,\n",
    "    metalness=0.9,\n",
    "    roughness=0.6,\n",
    ")"
   ]
  },
  {
   "cell_type": "code",
   "execution_count": null,
   "id": "abe4a587-f404-4009-956b-96691a278724",
   "metadata": {},
   "outputs": [],
   "source": [
    "(cv.ambient_intensity, cv.direct_intensity, cv.metalness, cv.roughness)"
   ]
  },
  {
   "cell_type": "code",
   "execution_count": null,
   "id": "a89a8e19-ee3b-4bd7-bc66-8b56f5c3163b",
   "metadata": {},
   "outputs": [],
   "source": [
    "(cv.zoom_speed, cv.pan_speed, cv.rotate_speed)"
   ]
  },
  {
   "cell_type": "code",
   "execution_count": null,
   "id": "7953bb1b-c141-4253-ac8f-1c95c20f5d66",
   "metadata": {},
   "outputs": [],
   "source": [
    "set_viewer_config(\n",
    "    zoom_speed=0.1,\n",
    "    pan_speed=0.1,\n",
    "    rotate_speed=0.1,\n",
    ")"
   ]
  },
  {
   "cell_type": "code",
   "execution_count": null,
   "id": "f67982e0-e39c-4344-9fea-fdafcad511f3",
   "metadata": {},
   "outputs": [],
   "source": [
    "cv.zoom_speed, cv.pan_speed, cv.rotate_speed"
   ]
  },
  {
   "cell_type": "code",
   "execution_count": null,
   "id": "af96557e-71d1-4185-8b2d-49f3b250ad00",
   "metadata": {},
   "outputs": [],
   "source": [
    "(cv.glass, cv.tools)"
   ]
  },
  {
   "cell_type": "code",
   "execution_count": null,
   "id": "9be21745-a68b-42fa-ba1d-040705e54663",
   "metadata": {},
   "outputs": [],
   "source": [
    "set_viewer_config(\n",
    "    glass=False,\n",
    "    tools=True\n",
    ")\n"
   ]
  },
  {
   "cell_type": "code",
   "execution_count": null,
   "id": "e4d165dc-2830-4322-9ee4-85ad9346bff0",
   "metadata": {},
   "outputs": [],
   "source": [
    "(cv.glass, cv.tools)"
   ]
  },
  {
   "cell_type": "code",
   "execution_count": null,
   "id": "e7af5044-6d5f-4a8d-9137-2079012a7cf6",
   "metadata": {},
   "outputs": [],
   "source": [
    "set_viewer_config(\n",
    "    glass=True,\n",
    "    tools=True\n",
    ")\n"
   ]
  },
  {
   "cell_type": "code",
   "execution_count": null,
   "id": "f84e7784-d14d-47aa-b581-8d8fc07c6874",
   "metadata": {},
   "outputs": [],
   "source": [
    "(cv.glass, cv.tools)"
   ]
  },
  {
   "cell_type": "code",
   "execution_count": null,
   "id": "005960ab-7743-4306-8c30-b0c3ecd14982",
   "metadata": {},
   "outputs": [],
   "source": [
    "set_viewer_config(\n",
    "    tools=False\n",
    ")\n"
   ]
  },
  {
   "cell_type": "code",
   "execution_count": null,
   "id": "66869b85-dcbd-4960-b478-82f25100e4bb",
   "metadata": {},
   "outputs": [],
   "source": [
    "(cv.glass, cv.tools)"
   ]
  },
  {
   "cell_type": "code",
   "execution_count": null,
   "id": "4c531a9b-f259-4731-a3da-195947c6351e",
   "metadata": {},
   "outputs": [],
   "source": [
    "set_viewer_config(\n",
    "    tools=True,\n",
    "    glass=True\n",
    ")\n"
   ]
  },
  {
   "cell_type": "code",
   "execution_count": null,
   "id": "8c0b2d2b-4cad-49c4-b8b5-bf155d42e36e",
   "metadata": {},
   "outputs": [],
   "source": [
    "(cv.glass, cv.tools)"
   ]
  },
  {
   "cell_type": "code",
   "execution_count": null,
   "id": "586db907-4c1b-40f7-a139-545b179d60cc",
   "metadata": {},
   "outputs": [],
   "source": [
    "set_viewer_config(tab=\"tree\")"
   ]
  },
  {
   "cell_type": "code",
   "execution_count": null,
   "id": "89217e16-66a0-4f54-a3bb-5e2fca602071",
   "metadata": {},
   "outputs": [],
   "source": [
    "cv.collapse"
   ]
  },
  {
   "cell_type": "code",
   "execution_count": null,
   "id": "ef6ad3b6-b00a-4738-9a72-c71de4096d2c",
   "metadata": {},
   "outputs": [],
   "source": [
    "set_viewer_config(\n",
    "    collapse=Collapse.ALL,\n",
    ")\n"
   ]
  },
  {
   "cell_type": "code",
   "execution_count": null,
   "id": "f5ea2618-e82b-48ae-aa68-e42fd0f5d3b0",
   "metadata": {},
   "outputs": [],
   "source": [
    "cv.collapse"
   ]
  },
  {
   "cell_type": "code",
   "execution_count": null,
   "id": "1fe05a64-c3e2-4bf3-bc61-039610e4c3c8",
   "metadata": {},
   "outputs": [],
   "source": [
    "set_viewer_config(\n",
    "    collapse=Collapse.NONE,\n",
    ")"
   ]
  },
  {
   "cell_type": "code",
   "execution_count": null,
   "id": "663ab366-3db3-4cb9-a496-0f09800f6be2",
   "metadata": {},
   "outputs": [],
   "source": [
    "cv.collapse"
   ]
  },
  {
   "cell_type": "code",
   "execution_count": null,
   "id": "9e65cd40-4cf0-4940-a0c5-376695e97ac3",
   "metadata": {},
   "outputs": [],
   "source": [
    "show(a1, debug=True)"
   ]
  },
  {
   "cell_type": "code",
   "execution_count": null,
   "id": "ca3a5e18-9769-452f-98d3-0dee028ef575",
   "metadata": {},
   "outputs": [],
   "source": [
    "set_viewer_config(tab=\"clip\")"
   ]
  },
  {
   "cell_type": "code",
   "execution_count": null,
   "id": "32272a04-6e7a-441a-a287-aa558e00f4b1",
   "metadata": {},
   "outputs": [],
   "source": [
    "(cv.clip_slider_0, cv.clip_slider_1, cv.clip_slider_2, cv.clip_intersection, cv.clip_planes, cv.clip_object_colors)"
   ]
  },
  {
   "cell_type": "code",
   "execution_count": null,
   "id": "ab803f8e-77f8-4c3f-b47e-5cc8474fc673",
   "metadata": {},
   "outputs": [],
   "source": [
    "set_viewer_config(\n",
    "    clip_slider_0=2,\n",
    "    clip_slider_1=-7,\n",
    "    clip_slider_2=7,\n",
    "    clip_intersection=True,\n",
    "    clip_planes=True,\n",
    "    clip_object_colors=True,)"
   ]
  },
  {
   "cell_type": "code",
   "execution_count": null,
   "id": "230c6571-75e5-4a23-8031-8d03e11ae161",
   "metadata": {},
   "outputs": [],
   "source": [
    "(cv.clip_slider_0, cv.clip_slider_1, cv.clip_slider_2, cv.clip_intersection, cv.clip_planes, cv.clip_object_colors)"
   ]
  },
  {
   "cell_type": "code",
   "execution_count": null,
   "id": "b3219f1f-4e37-401f-a33f-d389a6cb08bf",
   "metadata": {},
   "outputs": [],
   "source": [
    "show(a1, debug=True)"
   ]
  },
  {
   "cell_type": "code",
   "execution_count": null,
   "id": "4f3daa72-676b-406b-b0c7-e9932e513cae",
   "metadata": {},
   "outputs": [],
   "source": [
    "set_viewer_config(tab=\"clip\")"
   ]
  },
  {
   "cell_type": "code",
   "execution_count": null,
   "id": "3f26eafb-09ea-4a58-b965-430328b11898",
   "metadata": {},
   "outputs": [],
   "source": [
    "(cv.clip_slider_0, cv.clip_slider_1, cv.clip_slider_2, cv.clip_intersection, cv.clip_planes, cv.clip_object_colors), (cv.clip_normal_0, cv.clip_normal_1, cv.clip_normal_2)"
   ]
  },
  {
   "cell_type": "code",
   "execution_count": null,
   "id": "b6c33d11-7aa4-4bb5-ba40-c50b1da197be",
   "metadata": {},
   "outputs": [],
   "source": [
    "set_viewer_config(\n",
    "    clip_slider_0=9.7,\n",
    "    clip_slider_1=11.3,\n",
    "    clip_slider_2=5.3,\n",
    "    clip_normal_0=(-0.58, 0.58, -0.58),\n",
    "    clip_normal_1=(0.16,-0.48, -0.87),\n",
    "    clip_normal_2=(-0.56, 0.47, 0.68),\n",
    "    clip_intersection=False,\n",
    "    clip_planes=True,\n",
    "    clip_object_colors=False,)"
   ]
  },
  {
   "cell_type": "code",
   "execution_count": null,
   "id": "650efef5-3173-48a9-a30e-4e5f978a9466",
   "metadata": {},
   "outputs": [],
   "source": [
    "(cv.clip_slider_0, cv.clip_slider_1, cv.clip_slider_2, cv.clip_intersection, cv.clip_planes, cv.clip_object_colors), (cv.clip_normal_0, cv.clip_normal_1, cv.clip_normal_2)"
   ]
  },
  {
   "cell_type": "code",
   "execution_count": null,
   "id": "e3e2943d-dda3-400c-839d-bb98bfb3f329",
   "metadata": {},
   "outputs": [],
   "source": []
  }
 ],
 "metadata": {
  "language_info": {
   "name": "python",
   "pygments_lexer": "ipython3"
  },
  "kernelspec": {
   "display_name": "Python 3",
   "language": "python",
   "name": "python3"
  }
 },
 "nbformat": 4,
 "nbformat_minor": 5
}
