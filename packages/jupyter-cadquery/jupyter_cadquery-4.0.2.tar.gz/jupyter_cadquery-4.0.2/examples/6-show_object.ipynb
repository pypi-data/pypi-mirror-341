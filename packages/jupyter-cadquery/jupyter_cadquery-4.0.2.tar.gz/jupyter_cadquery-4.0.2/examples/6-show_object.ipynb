{
 "cells": [
  {
   "cell_type": "code",
   "execution_count": null,
   "id": "d14a2665-5d01-4537-bbd4-a7f623ebaa8d",
   "metadata": {},
   "outputs": [],
   "source": [
    "import cadquery as cq\n",
    "from jupyter_cadquery import show, show_object, open_viewer, set_defaults\n",
    "from build123d import *\n",
    "\n",
    "cv = open_viewer(\"Test\")\n",
    "\n",
    "set_defaults(show_parent=False)\n",
    "cv = open_viewer(\"Test\", cad_width=1000, aspect_ratio=1)"
   ]
  },
  {
   "cell_type": "code",
   "execution_count": null,
   "id": "5f11600f-2e57-481c-97ee-410a495e6f4f",
   "metadata": {},
   "outputs": [],
   "source": [
    "box = cq.Workplane().box(1,2,3).edges().chamfer(0.1)"
   ]
  },
  {
   "cell_type": "code",
   "execution_count": null,
   "id": "56699f81-a851-432a-9322-cce4ab739ef6",
   "metadata": {},
   "outputs": [],
   "source": [
    "show_object(box.faces(\">X\"), name=\"green\", options={\"color\":\"green\", \"alpha\":0.2}, clear=True)\n",
    "show_object(box.faces(\"<Y\"), name=\"red\", options={\"color\":\"red\", \"alpha\":0.6})\n",
    "show_object(box.faces(\">Z\"), name=\"blue\", options={\"color\":\"blue\"})\n",
    "show_object(box.faces(\">>Z[-2]\"), name=\"default\", options={\"alpha\":0.5}, axes=True)"
   ]
  },
  {
   "cell_type": "code",
   "execution_count": null,
   "id": "da1b7214-d1f7-4065-b5eb-83e233cb3a66",
   "metadata": {},
   "outputs": [],
   "source": [
    "show_object(box.wires(\">X\"), name=\"green\", options={\"color\":\"green\"}, clear=True)\n",
    "show_object(box.wires(\"<Y\"), name=\"red\", options={\"color\":\"red\"})\n",
    "show_object(box.wires(\">Z\"), name=\"blue\", options={\"color\":\"blue\"}, grid=(True, False, False))"
   ]
  },
  {
   "cell_type": "code",
   "execution_count": null,
   "id": "d01a2a71-9b0d-4c9a-834d-2cacdfcaa535",
   "metadata": {},
   "outputs": [],
   "source": [
    "show_object(box.edges(\"<X\"), name=\"green\", options={\"color\":\"green\"}, clear=True)\n",
    "show_object(box.edges(\">Y\"), name=\"red\", options={\"color\":\"red\"})\n",
    "show_object(box.edges(\"<Z\"), name=\"blue\", options={\"color\":\"blue\"}, center_grid=True)"
   ]
  },
  {
   "cell_type": "code",
   "execution_count": null,
   "id": "5169f033-4b38-49d9-8c7f-fa4b50697808",
   "metadata": {},
   "outputs": [],
   "source": [
    "show_object(box.vertices(\"<X\"), name=\"green\", options={\"color\":\"green\"}, clear=True)\n",
    "show_object(box.vertices(\">Y\"), name=\"red\", options={\"color\":\"red\"})\n",
    "show_object(box.vertices(\"<Z\"), name=\"blue\", options={\"color\":\"blue\"})"
   ]
  },
  {
   "cell_type": "code",
   "execution_count": null,
   "id": "44e6c947-a299-4827-b69b-2daa67f97799",
   "metadata": {},
   "outputs": [],
   "source": [
    "show_object(box, name=\"green\", options={\"color\":\"green\", \"alpha\":0.2}, clear=True)\n",
    "show_object(box.translate((0,-4,0)), name=\"red\", options={\"color\":(255,0,0,0.6)})\n",
    "show_object(box.translate((0,4,0)), name=\"blue\", options={\"color\":\"blue\"})\n",
    "show_object(box.translate((4,0,0)), name=\"default\", options={\"alpha\":0.5})"
   ]
  },
  {
   "cell_type": "code",
   "execution_count": null,
   "id": "0b96a3e9-d345-40f2-9ec4-3d2bf2681687",
   "metadata": {},
   "outputs": [],
   "source": [
    "with BuildSketch() as s:\n",
    "    Circle(2)\n",
    "    \n",
    "show_object(s, name=\"sketch1\", options={\"color\":\"green\", \"alpha\":0.2}, clear=True)\n",
    "show_object(s.sketch.moved(Location(Vector(0,0,-1))), name=\"sketch2\", options={\"color\":\"red\", \"alpha\":0.6})\n",
    "show_object(s.sketch.moved(Location(Vector(0,0,-2))).wrapped, name=\"sketch3\", options={\"color\":\"blue\"})"
   ]
  },
  {
   "cell_type": "code",
   "execution_count": null,
   "id": "9079bae6-22f1-4450-8be5-a49940b1308a",
   "metadata": {},
   "outputs": [],
   "source": [
    "show_object(box.val(), name=\"green\", options={\"color\":\"green\", \"alpha\":0.2}, clear=True)\n",
    "show_object(box.translate((0,-4,0)).val().wrapped, name=\"red\", options={\"color\":(255,0,0,0.6)})"
   ]
  },
  {
   "cell_type": "code",
   "execution_count": null,
   "id": "b58eaaad-c730-4129-a4ec-ab8baa30f593",
   "metadata": {},
   "outputs": [],
   "source": [
    "with BuildPart() as b:\n",
    "    Box(1,1,2)\n",
    "    with Locations((0,2,0)):\n",
    "        Box(2,2,1)\n",
    "\n",
    "show_object(b.solids()[0], name=\"green\", options={\"color\":\"green\", \"alpha\":0.7}, clear=True)\n",
    "show_object(b.solids()[1], name=\"default\", options={\"alpha\":0.3})"
   ]
  },
  {
   "cell_type": "code",
   "execution_count": null,
   "id": "c36dd563-29a0-420f-8832-f6b7fc17821b",
   "metadata": {},
   "outputs": [],
   "source": []
  }
 ],
 "metadata": {
  "language_info": {
   "name": "python",
   "pygments_lexer": "ipython3"
  },
  "kernelspec": {
   "display_name": "Python 3",
   "language": "python",
   "name": "python3"
  }
 },
 "nbformat": 4,
 "nbformat_minor": 5
}
