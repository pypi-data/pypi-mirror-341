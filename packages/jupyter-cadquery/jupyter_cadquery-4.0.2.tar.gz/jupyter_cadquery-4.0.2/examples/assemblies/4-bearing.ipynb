{
 "cells": [
  {
   "cell_type": "code",
   "execution_count": null,
   "metadata": {},
   "outputs": [],
   "source": [
    "import cadquery as cq\n",
    "from jupyter_cadquery import show, set_defaults, open_viewer\n",
    "from cadquery_massembly import Mate, MAssembly\n",
    "from jupyter_cadquery import AnimationTrack\n",
    "\n",
    "# Avoid clean error\n",
    "cq.occ_impl.shapes.Shape.clean = lambda x: x\n",
    "\n",
    "open_viewer(\"Bearing\")\n",
    "set_defaults(axes=False, axes0=True, edge_accuracy=0.01, mate_scale=1)"
   ]
  },
  {
   "cell_type": "markdown",
   "metadata": {},
   "source": [
    "# Bearing"
   ]
  },
  {
   "cell_type": "markdown",
   "metadata": {},
   "source": [
    "## Parts"
   ]
  },
  {
   "cell_type": "code",
   "execution_count": null,
   "metadata": {},
   "outputs": [],
   "source": [
    "def ring(inner_radius, outer_radius, width):\n",
    "    ring = (cq.Workplane(origin=(0, 0, -width / 2))\n",
    "        .circle(outer_radius).circle(inner_radius)\n",
    "        .extrude(width)\n",
    "    )\n",
    "    return ring\n",
    "\n",
    "tol = 0.05\n",
    "ball_diam = 5\n",
    "\n",
    "r1, r2, r3, r4 = 4, 6, 8, 10\n",
    "r5 = (r3 + r2) / 2\n",
    "inner_ring = ring(r1, r2, ball_diam)\n",
    "outer_ring = ring(r3, r4, ball_diam)\n",
    "\n",
    "torus = cq.CQ(cq.Solid.makeTorus(r5, ball_diam / 2 + tol))\n",
    "ball = cq.Workplane().sphere(ball_diam / 2)\n",
    "\n",
    "inner = inner_ring.cut(torus)\n",
    "outer = outer_ring.cut(torus)\n",
    "\n",
    "show(ball, inner, outer, names=[\"ball\", \"inner\", \"outer\"])\n"
   ]
  },
  {
   "cell_type": "markdown",
   "metadata": {},
   "source": [
    "## Assembly"
   ]
  },
  {
   "cell_type": "code",
   "execution_count": null,
   "metadata": {},
   "outputs": [],
   "source": [
    "number_balls = 6\n",
    "balls = [\"ball_%d\" % i for i in range(number_balls)]\n",
    "\n",
    "def create_bearing():\n",
    "    L = lambda *args: cq.Location(cq.Vector(*args))\n",
    "    C = lambda name: web_color(name)\n",
    "    \n",
    "    assy = MAssembly(outer, loc=L(0, 0, ball_diam/2), name=\"outer\", color=\"orange\")\n",
    "    assy.add(inner, loc=L(20, 0, 0), name=\"inner\", color=\"orange\")\n",
    "    for i in range(number_balls):\n",
    "        assy.add(ball, loc=L(6*i, 20, 0), name=balls[i], color=\"black\")\n",
    "\n",
    "    return assy"
   ]
  },
  {
   "cell_type": "code",
   "execution_count": null,
   "metadata": {},
   "outputs": [],
   "source": [
    "bearing = create_bearing()\n",
    "show(bearing)"
   ]
  },
  {
   "cell_type": "markdown",
   "metadata": {},
   "source": [
    "### Mates"
   ]
  },
  {
   "cell_type": "code",
   "execution_count": null,
   "metadata": {},
   "outputs": [],
   "source": [
    "from collections import OrderedDict as odict\n",
    "\n",
    "bearing.mate(\"outer@faces@<Z\", name=\"outer\", origin=True)\n",
    "bearing.mate(\"inner@faces@<Z\", name=\"inner\", origin=True)\n",
    "\n",
    "for i in range(number_balls):\n",
    "    bearing.mate(balls[i], Mate(), name=balls[i], origin=True)  # the default Mate is sufficient\n",
    "    bearing.mate(\"inner@faces@<Z\", name=\"inner_%d\" %i, transforms=odict(rz=i*60, tx=r5, tz=-ball_diam/2))\n",
    "    \n",
    "show(bearing, render_mates=True)"
   ]
  },
  {
   "cell_type": "code",
   "execution_count": null,
   "metadata": {},
   "outputs": [],
   "source": [
    "bearing.assemble(\"inner\", \"outer\")\n",
    "\n",
    "for i in range(number_balls):\n",
    "    bearing.assemble(balls[i], \"inner_%d\"%i)\n",
    "\n",
    "show(bearing, render_mates=True)"
   ]
  },
  {
   "cell_type": "code",
   "execution_count": null,
   "metadata": {},
   "outputs": [],
   "source": []
  },
  {
   "cell_type": "code",
   "execution_count": null,
   "metadata": {},
   "outputs": [],
   "source": []
  }
 ],
 "metadata": {
  "language_info": {
   "name": "python",
   "pygments_lexer": "ipython3"
  },
  "kernelspec": {
   "display_name": "Python 3",
   "language": "python",
   "name": "python3"
  }
 },
 "nbformat": 4,
 "nbformat_minor": 4
}
