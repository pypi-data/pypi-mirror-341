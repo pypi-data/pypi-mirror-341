{
 "cells": [
  {
   "cell_type": "markdown",
   "metadata": {},
   "source": [
    "# Class definitions"
   ]
  },
  {
   "cell_type": "code",
   "execution_count": 124,
   "metadata": {},
   "outputs": [],
   "source": [
    "%%sh \n",
    "mkdir -p icons/dark\n",
    "mkdir -p icons/light"
   ]
  },
  {
   "cell_type": "code",
   "execution_count": 125,
   "metadata": {
    "ExecuteTime": {
     "end_time": "2019-03-09T15:55:37.317928Z",
     "start_time": "2019-03-09T15:55:37.267340Z"
    },
    "tags": []
   },
   "outputs": [],
   "source": [
    "from PIL import Image, ImageDraw\n",
    "\n",
    "class Point(object):\n",
    "    def __init__(self, x, y):\n",
    "        self.p = (x, y)\n",
    "        self.x = x\n",
    "        self.y = y\n",
    "    \n",
    "    def shift(self, dx, dy):\n",
    "        return Point(self.p[0] + dx, self.p[1] + dy)\n",
    "\n",
    "    def __repr__(self):\n",
    "        return \"(%f, %f)\" % (self.p)\n",
    "    \n",
    "    def coord(self, height, scale=9):\n",
    "        return (scale * self.p[0], scale *(height - self.p[1]))\n",
    "\n",
    "\n",
    "class Base():\n",
    "    def __init__(self, width, height, scale=9, stroke=9, color=None, fill_color=None, background_color=None):\n",
    "        self.width = width\n",
    "        self.height = height\n",
    "        self.stroke = stroke\n",
    "        self.scale = scale\n",
    "\n",
    "        if color is None:\n",
    "            self.color = (0,0,0)\n",
    "        else:\n",
    "            self.color = color\n",
    "        if fill_color is None:\n",
    "            self.fill_color = (1,1,0)\n",
    "        else:\n",
    "            self.fill_color = fill_color\n",
    "\n",
    "        self.im = Image.new(\"RGBA\", (self.width*self.scale, self.height*self.scale), color=background_color)\n",
    "        self.draw = ImageDraw.Draw(self.im)\n",
    "        \n",
    "    def boundingBox(self, p, r=None):\n",
    "        if r is not None:\n",
    "            return (p[0] - r, p[1] - r, p[0] + r, p[1] + r)\n",
    "        \n",
    "    def line(self, p1, p2, joint=None):\n",
    "        coords = [p1.coord(self.height, self.scale), p2.coord(self.height, self.scale)]\n",
    "        self.draw.line(coords, fill=self.color, width=self.stroke, joint=joint)\n",
    "\n",
    "    def lines(self, *points, closed=False):\n",
    "        coords = [p.coord(self.height, self.scale) for p in points]\n",
    "        if closed:\n",
    "            coords = coords + coords[:2]\n",
    "        self.draw.line(coords, fill=self.color, width=self.stroke, joint=\"curve\")\n",
    "        \n",
    "    def rectangle(self, p1, p2, outline=None):\n",
    "        if outline is None:\n",
    "            fill = self.color\n",
    "        else:\n",
    "            fill = outline\n",
    "        points = [Point(p1.x, p1.y), Point(p1.x, p2.y), Point(p2.x, p2.y), Point(p2.x, p1.y)]\n",
    "        self.lines(*points, closed=True)\n",
    "        \n",
    "    def face(self, *points, color=None):\n",
    "        if color is None:\n",
    "            color = self.fill_color\n",
    "        coord_points = [p.coord(self.height, self.scale) for p in points]\n",
    "        self.draw.polygon(coord_points, fill=self.fill_color, outline=color)\n",
    "\n",
    "    def arc(self, p1, p2, start, end, color=None):\n",
    "        if color == None:\n",
    "            color = self.color\n",
    "        coord_p1 = p1.coord(self.height, self.scale)\n",
    "        coord_p2 = p2.coord(self.height, self.scale)\n",
    "        self.draw.arc((coord_p1, coord_p2), start, end, width=self.stroke, fill=self.color)\n",
    "        # shift one pixel to work around a fill bug of pillow\n",
    "        self.draw.arc(((coord_p1[0]+1, coord_p1[1]), (coord_p2[0]+1, coord_p2[1])), start, end, width=self.stroke, fill=color)\n",
    "\n",
    "    def ellipse(self, p1, p2, fill_color, color=None):\n",
    "        if color == None:\n",
    "            color = self.color\n",
    "        coord_p1 = p1.coord(self.height, self.scale)\n",
    "        coord_p2 = p2.coord(self.height, self.scale)\n",
    "        self.draw.ellipse((coord_p1, coord_p2), fill=fill_color, outline=color, width = self.stroke)\n",
    "        # shift one pixel to work around a fill bug of pillow\n",
    "        self.draw.ellipse(((coord_p1[0]+1, coord_p1[1]), (coord_p2[0]+1, coord_p2[1])), fill=None, outline=color, width = self.stroke)\n",
    "        \n",
    "    def save(self, filename):\n",
    "        self.im.save(filename)\n",
    "        \n",
    "    def y(self, x):\n",
    "        return Point(x, int(self.height / self.width * x))\n"
   ]
  },
  {
   "cell_type": "markdown",
   "metadata": {},
   "source": [
    "## Common definitions"
   ]
  },
  {
   "cell_type": "code",
   "execution_count": 126,
   "metadata": {
    "ExecuteTime": {
     "end_time": "2019-03-09T15:55:40.069031Z",
     "start_time": "2019-03-09T15:55:40.063012Z"
    }
   },
   "outputs": [],
   "source": [
    "mode = \"dark\"\n",
    "#mode = \"light\"\n",
    "width = 28\n",
    "height = 22\n",
    "scale = 10\n",
    "if mode == \"dark\":\n",
    "    c1 = 224\n",
    "    c2 = 64\n",
    "else: \n",
    "    c1 = 64\n",
    "    c2 = 224\n",
    "color = (c1, c1, c1, 255)\n",
    "mask_color=(c2, c2, c2, 255)\n",
    "  \n",
    "#fill_color = (255, 204, 64)\n",
    "#fill_color = (243, 156, 18)\n",
    "#fill_color = (52, 152, 219)\n",
    "#fill_color = (93, 173, 226)\n",
    "#fill_color = (67, 127, 180) # cadquery logo blue - too dark for icons\n",
    "#fill_color = (76, 144, 204) # slightly brighter\n",
    "fill_color = (83, 160, 227)\n",
    "background_color = (255,100,0,50)"
   ]
  },
  {
   "cell_type": "markdown",
   "metadata": {},
   "source": [
    "## Cube view icons"
   ]
  },
  {
   "cell_type": "code",
   "execution_count": 127,
   "metadata": {
    "ExecuteTime": {
     "end_time": "2019-01-20T22:02:40.896684Z",
     "start_time": "2019-01-20T22:02:40.711533Z"
    }
   },
   "outputs": [
    {
     "data": {
      "image/png": "[encoded data removed]",
      "text/plain": [
       "<PIL.Image.Image image mode=RGBA size=1960x220 at 0x7F11681441F0>"
      ]
     },
     "execution_count": 127,
     "metadata": {},
     "output_type": "execute_result"
    }
   ],
   "source": [
    "class Cube(Base):\n",
    "    \n",
    "    def __init__(self, width, height, scale=9, stroke=9, color=None, fill_color=None, background_color=None):\n",
    "        super().__init__(width, height, scale, stroke, color, fill_color, background_color)\n",
    "        \n",
    "    def create(self, face):\n",
    "        r = 13\n",
    "        dx = 7\n",
    "        dy = 5\n",
    "        f00 = Point(4,2)\n",
    "        f01 = f00.shift(0,r)\n",
    "        f10 = f00.shift(r,0)\n",
    "        f11 = f00.shift(r,r)\n",
    "        b00 = f00.shift(dx, dy)\n",
    "        b01 = b00.shift(0,r)\n",
    "        b10 = b00.shift(r,0)\n",
    "        b11 = b00.shift(r,r)\n",
    "\n",
    "        if face == \"rear\":\n",
    "            self.face(b00, b10, b11, b01)\n",
    "        self.lines(b00, b10, b11, b01, closed=True) # rear\n",
    "        \n",
    "        if face == \"bottom\":\n",
    "            self.face(f00, f10, b10, b00)\n",
    "        if face == \"right\":\n",
    "            self.face(f00, b00, b01, f01)\n",
    "\n",
    "        self.lines(f00, f10, b10, b00, closed = True) # bottom\n",
    "        self.lines(f00, b00, b01, f01, closed=True)   # right\n",
    "\n",
    "        if face == \"left\":\n",
    "            self.face(f10, b10, b11, f11)\n",
    "        if face == \"top\":\n",
    "            self.face(f01, f11, b11, b01)\n",
    "        if face == \"front\":\n",
    "            self.face(f00, f10, f11, f01)\n",
    "\n",
    "        self.lines(f10, b10, b11, f11, closed=True) # left\n",
    "        self.lines(f01, f11, b11, b01, closed=True) # top\n",
    "        self.lines(f00, f10, f11, f01, closed=True) # front\n",
    "        \n",
    "        return self.im\n",
    "\n",
    "\n",
    "new_im = Image.new('RGBA', (7 * width*scale, height*scale))\n",
    "x_offset = 0\n",
    "\n",
    "for face in [\"edges\", \"front\", \"rear\", \"bottom\", \"top\", \"right\", \"left\"]:\n",
    "    c = Cube(width, height, scale, stroke=scale, fill_color=fill_color, color=color, background_color=None)\n",
    "    c.create(face)\n",
    "    new_im.paste(c.im, (x_offset,0))\n",
    "    x_offset += c.im.size[0]\n",
    "    c.save(f\"./icons/{mode}/{face}.png\")\n",
    "\n",
    "new_im\n"
   ]
  },
  {
   "cell_type": "markdown",
   "metadata": {},
   "source": [
    "## Isometric view icon"
   ]
  },
  {
   "cell_type": "code",
   "execution_count": 128,
   "metadata": {
    "ExecuteTime": {
     "end_time": "2019-01-20T22:02:41.690226Z",
     "start_time": "2019-01-20T22:02:41.648046Z"
    }
   },
   "outputs": [
    {
     "data": {
      "image/png": "[encoded data removed]",
      "text/plain": [
       "<PIL.Image.Image image mode=RGBA size=280x220 at 0x7F115375DFA0>"
      ]
     },
     "execution_count": 128,
     "metadata": {},
     "output_type": "execute_result"
    }
   ],
   "source": [
    "import math\n",
    "\n",
    "class Isom(Base):\n",
    "    def __init__(self, width, height, scale=9, stroke=9, color=None, fill_color=None, background_color=None):\n",
    "        super().__init__(width, height, scale, stroke, color, fill_color, background_color)\n",
    "        \n",
    "    def create(self):\n",
    "        x0 = 6\n",
    "        r = 10\n",
    "        dy = r/2\n",
    "        dx = int(r*math.cos(math.pi/6))\n",
    "\n",
    "        f00 = Point(x0, 1 + dy)\n",
    "        f01 = f00.shift(0,r)\n",
    "        f10 = Point(x0 + dx, 1)\n",
    "        f11 = f10.shift(0,r)\n",
    "        f12 = f11.shift(0,r)\n",
    "        f20 = f00.shift(2*dx,0)\n",
    "        f21 = f20.shift(0,r)\n",
    "        \n",
    "        self.line(f10, f12)\n",
    "        self.lines(f00, f01, f12, f11)\n",
    "        self.face(f00, f01, f11, f10)\n",
    "        self.face(f10, f11, f21, f20)\n",
    "        self.face(f01, f11, f21, f12)\n",
    "        self.lines(f00, f01, f11, f10, closed=True)\n",
    "        self.lines(f10, f11, f21, f20, closed=True)\n",
    "        self.lines(f01, f11, f21, f12, closed=True)\n",
    "\n",
    "        return self.im\n",
    "\n",
    "\n",
    "c = Isom(width, height, scale, stroke=scale, fill_color=fill_color, color=color, background_color=None)\n",
    "c.create()\n",
    "c.save(f\"./icons/{mode}/isometric.png\")\n",
    "c.im\n"
   ]
  },
  {
   "cell_type": "markdown",
   "metadata": {},
   "source": [
    "# Reset Icon"
   ]
  },
  {
   "cell_type": "code",
   "execution_count": 129,
   "metadata": {},
   "outputs": [
    {
     "data": {
      "image/png": "[encoded data removed]",
      "text/plain": [
       "<PIL.Image.Image image mode=RGBA size=280x220 at 0x7F115375D5E0>"
      ]
     },
     "execution_count": 129,
     "metadata": {},
     "output_type": "execute_result"
    }
   ],
   "source": [
    "class Reset(Base):\n",
    "    def __init__(self, width, height, scale=9, stroke=9, color=None, fill_color=None, background_color=None):\n",
    "        super().__init__(width, height, scale, stroke, color, fill_color, background_color)\n",
    "        \n",
    "    def create(self):\n",
    "        R = 7\n",
    "        c00 = Point(self.width // 2 - (R - 1), self.height // 2 + (R - 1))\n",
    "        c01 = Point(self.width // 2 + (R - 1), self.height // 2 - (R - 1))\n",
    "        c20 = Point(self.width // 2 - (R + 1), self.height // 2 + (R + 1))\n",
    "        c21 = Point(self.width // 2 + (R + 1), self.height // 2 - (R + 1))\n",
    "        \n",
    "        a1 = 6\n",
    "        a2 = -45\n",
    "\n",
    "\n",
    "        self.arc(c00, c01, a1, a2)\n",
    "        self.arc(c20, c21, a1, a2)\n",
    "        \n",
    "        x1 = Point(self.width/2 + R - 3, self.height/2 - 1)\n",
    "        x2 = Point(self.width/2 + R - 1, self.height/2 + 2)\n",
    "        x3 = Point(self.width/2 + R + 2, self.height/2 - 1)\n",
    "        self.lines(x1, x2, x3, closed=True)\n",
    "\n",
    "        return self.im\n",
    "\n",
    "      \n",
    "c = Reset(width, height, scale, stroke=scale, fill_color=fill_color, color=color, background_color=None)\n",
    "c.create()\n",
    "\n",
    "c.save(f\"./icons/{mode}/reset.png\")\n",
    "c.im\n"
   ]
  },
  {
   "cell_type": "markdown",
   "metadata": {},
   "source": [
    "## Fit icon"
   ]
  },
  {
   "cell_type": "code",
   "execution_count": 130,
   "metadata": {
    "ExecuteTime": {
     "end_time": "2019-01-20T22:02:42.108271Z",
     "start_time": "2019-01-20T22:02:42.021829Z"
    }
   },
   "outputs": [
    {
     "data": {
      "image/png": "[encoded data removed]",
      "text/plain": [
       "<PIL.Image.Image image mode=RGBA size=280x220 at 0x7F1153764C10>"
      ]
     },
     "execution_count": 130,
     "metadata": {},
     "output_type": "execute_result"
    }
   ],
   "source": [
    "class Fit(Base):\n",
    "    def __init__(self, width, height, scale=9, stroke=9, color=None, fill_color=None, background_color=None):\n",
    "        super().__init__(width, height, scale, stroke, color, fill_color, background_color)\n",
    "        \n",
    "    def create(self):\n",
    "        S2 = 4\n",
    "        P = 2\n",
    "        l = 4\n",
    "        x0 = 8\n",
    "        y0 = 5\n",
    "\n",
    "        b00 = Point(x0 - 3, y0 - 3)\n",
    "        b01 = Point(x0 - 3, self.height - 3)\n",
    "        b10 = Point(self.width - 6, y0 - 3)\n",
    "        b11 = Point(self.width - 6, self.height - 3)\n",
    "        f00 = Point(x0, y0)\n",
    "        g00 = f00.shift(l, l)\n",
    "\n",
    "        f01 = Point(x0, self.height - y0 - 1)\n",
    "        g01 = f01.shift(l, -l)\n",
    "\n",
    "        f10 = Point(self.width - x0 - 1, y0)\n",
    "        g10 = f10.shift(-l, l)\n",
    "\n",
    "        f11 = Point(self.width - x0 - 1, self.height - y0 - 1)\n",
    "        g11 = f11.shift(-l, -l)\n",
    "        \n",
    "        #self.face(b00, b01, b11, b10)\n",
    "        self.rectangle(b00, b11)\n",
    "\n",
    "        self.line(f00, g00)\n",
    "        self.line(f01, g01)\n",
    "        self.line(f10, g10)\n",
    "        self.line(f11, g11)\n",
    "\n",
    "        self.lines(f00.shift(0,  P), f00, f00.shift( P, 0))\n",
    "        self.lines(g00.shift(0, -P), g00, g00.shift(-P, 0))\n",
    "\n",
    "        self.lines(f01.shift(0,-P), f01, f01.shift( P, 0))\n",
    "        self.lines(g01.shift(0, P), g01, g01.shift(-P, 0))\n",
    "\n",
    "        self.lines(f10.shift(0,  P), f10, f10.shift(-P, 0))\n",
    "        self.lines(g10.shift(0, -P), g10, g10.shift( P, 0))\n",
    "\n",
    "        self.lines(f11.shift(0, -P), f11, f11.shift(-P, 0))\n",
    "        self.lines(g11.shift(0,  P), g11, g11.shift( P, 0))\n",
    "\n",
    "        return self.im\n",
    "\n",
    "\n",
    "c = Fit(width, height, scale, stroke=scale, fill_color=fill_color, color=color, background_color=None)\n",
    "c.create()\n",
    "c.save(f\"./icons/{mode}/fit.png\")\n",
    "c.im\n"
   ]
  },
  {
   "cell_type": "markdown",
   "metadata": {},
   "source": [
    "# Plane icon"
   ]
  },
  {
   "cell_type": "code",
   "execution_count": 131,
   "metadata": {},
   "outputs": [
    {
     "data": {
      "image/png": "[encoded data removed]",
      "text/plain": [
       "<PIL.Image.Image image mode=RGBA size=280x220 at 0x7F115359F0D0>"
      ]
     },
     "execution_count": 131,
     "metadata": {},
     "output_type": "execute_result"
    }
   ],
   "source": [
    "class Plane(Base):\n",
    "    def __init__(self, width, height, scale=9, stroke=9, color=None, fill_color=None, background_color=None):\n",
    "        super().__init__(width, height, scale, stroke, color, fill_color, background_color)\n",
    "        \n",
    "    def create(self):\n",
    "        R = 7\n",
    "        p0 = Point(self.width // 2 - (R - 1), self.height // 2 + (R - 4))\n",
    "        p1 = Point(self.width // 2 + (R - 1), self.height // 2 - (R - 4))\n",
    "        self.ellipse(p0, p1, self.fill_color)\n",
    "        \n",
    "        d1 = 4\n",
    "        d2 = 9\n",
    "        p00 = Point(d1, d1+1)\n",
    "        p01 = Point(d2,self.height-d1 - 1)\n",
    "        p11 = Point(self.width-d1,self.height-d1 - 1)\n",
    "        p10 = Point(self.width-d2, d1+1)\n",
    "        self.lines(p00, p01, p11, p10, closed=True)\n",
    "        return self.im\n",
    "\n",
    "      \n",
    "c = Plane(width, height, scale, stroke=scale, fill_color=fill_color, color=color, background_color=None)\n",
    "c.create()\n",
    "\n",
    "c.save(f\"./icons/{mode}/plane.png\")\n",
    "c.im\n"
   ]
  },
  {
   "cell_type": "markdown",
   "metadata": {},
   "source": [
    "## Visiblity icon"
   ]
  },
  {
   "cell_type": "code",
   "execution_count": 132,
   "metadata": {
    "ExecuteTime": {
     "end_time": "2019-01-20T22:03:27.839313Z",
     "start_time": "2019-01-20T22:03:27.817190Z"
    }
   },
   "outputs": [],
   "source": [
    "class Triangle(Base):\n",
    "    def __init__(self, width, height, scale=9, stroke=9, color=None, fill_color=None, background_color=None):\n",
    "        super().__init__(width, height, scale, stroke, color, fill_color, background_color)\n",
    "        \n",
    "    def create(self, upper=True):\n",
    "        f00 = Point(0,0)\n",
    "        f01 = Point(0, height)\n",
    "        f11 = Point(width, height)\n",
    "        f10 = Point(width, 0)\n",
    "        if upper:\n",
    "            self.face(f00.shift(0,1), f01, f11.shift(-1,0))\n",
    "        else:\n",
    "            self.face(f00.shift(3,0), f10, f11.shift(3,0))\n",
    "\n",
    "class Mask(Base):\n",
    "    def __init__(self, width, height, scale=9, stroke=9, color=None, fill_color=None, background_color=None):\n",
    "        super().__init__(width, height, scale, stroke, color, fill_color, background_color)\n",
    "        \n",
    "    def create(self, left=True):\n",
    "        f00 = Point(0,0)\n",
    "        f01 = Point(0, height)\n",
    "        f10 = Point(width//2, 0)\n",
    "        f11 = Point(width//2, height)\n",
    "        f20 = Point(width, 0)\n",
    "        f21 = Point(width, height)\n",
    "        if left:\n",
    "            self.face(f00, f01, f11.shift(0,0), f10.shift(0,0))\n",
    "        else:\n",
    "            self.face(f10.shift(2,0), f11.shift(2,0), f21, f20)\n",
    "\n",
    "mask1 = Mask(width, height, scale, stroke=scale, fill_color=(255,255,255), color=(255,255,255), background_color=None)\n",
    "mask1.create(True)\n",
    "new_im.paste(mask1.im, (x_offset,0))\n",
    "x_offset += mask1.im.size[0]\n",
    "\n",
    "mask2 = Mask(width, height, scale, stroke=scale, fill_color=(255,255,255), color=(255,255,255), background_color=None)\n",
    "mask2.create(False)\n",
    "new_im.paste(mask2.im, (x_offset,0))\n",
    "x_offset += mask2.im.size[0]"
   ]
  },
  {
   "cell_type": "code",
   "execution_count": 133,
   "metadata": {
    "ExecuteTime": {
     "end_time": "2019-01-20T22:03:28.689968Z",
     "start_time": "2019-01-20T22:03:28.612598Z"
    }
   },
   "outputs": [
    {
     "data": {
      "image/png": "[encoded data removed]",
      "text/plain": [
       "<PIL.Image.Image image mode=RGBA size=1120x220 at 0x7F1169F09580>"
      ]
     },
     "execution_count": 133,
     "metadata": {},
     "output_type": "execute_result"
    }
   ],
   "source": [
    "class Visible(Base):\n",
    "\n",
    "    def __init__(self, width, height, scale=9, stroke=9, color=None, fill_color=None, background_color=None):\n",
    "        super().__init__(width, height, scale, stroke, color, fill_color, background_color)\n",
    "        self.color = color\n",
    "        self.fill_color = fill_color\n",
    "        \n",
    "    def create(self, visible=True):\n",
    "        P = 1\n",
    "        R = 5\n",
    "        b00 = Point(3, self.height - 5)\n",
    "        b11 = Point(self.width - 3, 5)\n",
    "        c00 = Point(self.width // 2 - R, self.height // 2 + R)\n",
    "        c11 = Point(self.width // 2 + R, self.height // 2 - R)\n",
    "        p00 = Point(self.width // 2 - 2, self.height // 2 + 2)\n",
    "        p11 = Point(self.width // 2 + 2, self.height // 2 - 2)\n",
    "\n",
    "        self.arc(b00.shift(0,-P), b11.shift(0,-P), -170, -10)\n",
    "        self.arc(b00.shift(0, P), b11.shift(0, P), 10, 170)\n",
    "\n",
    "        if visible:\n",
    "            self.ellipse(c00, c11, color=self.color, fill_color=self.fill_color)\n",
    "            self.ellipse(p00, p11, color=self.color, fill_color=self.color)\n",
    "            self.ellipse(p00, p11, color=self.color, fill_color=self.color)\n",
    "        return self.im\n",
    "\n",
    "\n",
    "new_im = Image.new('RGBA', (4 * width*scale, height*scale))\n",
    "x_offset = 0\n",
    "c = {}\n",
    "for visible in [\"shape\", \"no_shape\"]:\n",
    "    c[visible] = Visible(width, height, scale, stroke=scale, fill_color=fill_color, color=color, background_color=None)\n",
    "    c[visible].create(visible == \"shape\")\n",
    "    new_im.paste(c[visible].im, (x_offset,0))\n",
    "    x_offset += c[visible].im.size[0]\n",
    "    c[visible].save(f\"./icons/{mode}/%s.png\" % visible)\n",
    "\n",
    "e = Visible(width, height, scale, stroke=scale, fill_color=mask_color, color=mask_color, background_color=None)\n",
    "e.create(True)\n",
    "new_im.paste(e.im, (x_offset,0))\n",
    "x_offset += e.im.size[0]\n",
    "e.save(f\"./icons/{mode}/empty_shape.png\")\n",
    "\n",
    "mixed = Image.new('RGBA', (width*scale, height*scale))\n",
    "mixed.paste(c[\"shape\"].im, (0,0), mask=mask1.im)\n",
    "mixed.paste(c[\"no_shape\"].im, (0,0), mask=mask2.im)\n",
    "mixed.save(f\"./icons/{mode}/mix_shape.png\")\n",
    "\n",
    "new_im.paste(mixed, (x_offset,0))\n",
    "new_im\n"
   ]
  },
  {
   "cell_type": "markdown",
   "metadata": {},
   "source": [
    "## Mesh icon"
   ]
  },
  {
   "cell_type": "code",
   "execution_count": 134,
   "metadata": {
    "ExecuteTime": {
     "end_time": "2019-01-20T22:03:30.164623Z",
     "start_time": "2019-01-20T22:03:30.083350Z"
    }
   },
   "outputs": [
    {
     "data": {
      "image/png": "[encoded data removed]",
      "text/plain": [
       "<PIL.Image.Image image mode=RGBA size=1120x220 at 0x7F1153704E50>"
      ]
     },
     "execution_count": 134,
     "metadata": {},
     "output_type": "execute_result"
    }
   ],
   "source": [
    "class Mesh(Base):\n",
    "    def __init__(self, width, height, scale=9, stroke=9, color=None, fill_color=None, background_color=None):\n",
    "        super().__init__(width, height, scale, stroke, color, fill_color, background_color)\n",
    "        \n",
    "    def create(self, mesh=True):\n",
    "\n",
    "        f00 = Point(5, 5)\n",
    "        f01 = Point(3, 9)\n",
    "        f02 = Point(3, 13)\n",
    "        f03 = Point(5, 17)\n",
    "        f10 = f00.shift(10, 0)\n",
    "        f11 = f01.shift(10, 0)\n",
    "        f12 = f02.shift(10, 0)\n",
    "        f13 = f03.shift(10, 0)\n",
    "        f20 = f10.shift(10, 0)\n",
    "        f21 = f11.shift(10, 0)\n",
    "        f22 = f12.shift(10, 0)\n",
    "        f23 = f13.shift(10, 0)\n",
    "        \n",
    "        self.face(f00, f01, f11, f10)\n",
    "        self.face(f01, f02, f12, f11)\n",
    "        self.face(f02, f03, f13, f12)\n",
    "        self.face(f10, f11, f21, f20)\n",
    "        self.face(f11, f12, f22, f21)\n",
    "        self.face(f12, f13, f23, f22)\n",
    "\n",
    "        if mesh:\n",
    "            self.lines(f00, f01, f11, f10, closed=True)\n",
    "            self.lines(f01, f02, f12, f11, closed=True)\n",
    "            self.lines(f02, f03, f13, f12, closed=True)\n",
    "            self.lines(f10, f11, f21, f20, closed=True)\n",
    "            self.lines(f11, f12, f22, f21, closed=True)\n",
    "            self.lines(f12, f13, f23, f22, closed=True)\n",
    "\n",
    "        return self.im\n",
    "\n",
    "new_im = Image.new('RGBA', (4 * width*scale, height*scale))\n",
    "x_offset = 0\n",
    "c = {}\n",
    "for visible in [\"mesh\", \"no_mesh\"]:\n",
    "    c[visible] = Mesh(width, height, scale, stroke=scale, fill_color=fill_color, color=color, background_color=None)\n",
    "    c[visible].create(visible == \"mesh\")\n",
    "    new_im.paste(c[visible].im, (x_offset,0))\n",
    "    x_offset += c[visible].im.size[0]\n",
    "    c[visible].save(f\"./icons/{mode}/%s.png\" % visible)\n",
    "\n",
    "e = Mesh(width, height, scale, stroke=scale, fill_color=mask_color, color=color, background_color=None)\n",
    "e.create(False)\n",
    "new_im.paste(e.im, (x_offset,0))\n",
    "x_offset += e.im.size[0]\n",
    "e.save(f\"./icons/{mode}/empty_mesh.png\")\n",
    "\n",
    "mixed = Image.new('RGBA', (width*scale, height*scale))\n",
    "mixed.paste(c[\"mesh\"].im, (0,0), mask=mask1.im)\n",
    "mixed.paste(c[\"no_mesh\"].im, (0,0), mask=mask2.im)\n",
    "mixed.save(f\"./icons/{mode}/mix_mesh.png\")\n",
    "\n",
    "new_im.paste(mixed, (x_offset,0))\n",
    "new_im"
   ]
  },
  {
   "cell_type": "markdown",
   "metadata": {},
   "source": [
    "## Empty icon"
   ]
  },
  {
   "cell_type": "code",
   "execution_count": 135,
   "metadata": {
    "ExecuteTime": {
     "end_time": "2019-03-09T15:55:45.017540Z",
     "start_time": "2019-03-09T15:55:44.979607Z"
    }
   },
   "outputs": [
    {
     "data": {
      "image/png": "[encoded data removed]",
      "text/plain": [
       "<PIL.Image.Image image mode=RGBA size=840x220 at 0x7F1153736CD0>"
      ]
     },
     "execution_count": 135,
     "metadata": {},
     "output_type": "execute_result"
    }
   ],
   "source": [
    "class Empty(Base):\n",
    "\n",
    "    def __init__(self, width, height, scale=9, stroke=9, color=None, fill_color=None, background_color=None):\n",
    "        super().__init__(width, height, scale, stroke, color, fill_color, background_color)\n",
    "        \n",
    "    def create(self):\n",
    "        return self.im\n",
    "\n",
    "\n",
    "new_im = Image.new('RGBA', (3 * width*scale, height*scale))\n",
    "x_offset = 0\n",
    "c = Empty(width, height, scale, stroke=scale, fill_color=fill_color, color=color, background_color=None)\n",
    "c.create()\n",
    "c.save(f\"./icons/{mode}/empty.png\")\n",
    "\n",
    "new_im\n"
   ]
  },
  {
   "cell_type": "markdown",
   "metadata": {},
   "source": [
    "# Install icons"
   ]
  },
  {
   "cell_type": "code",
   "execution_count": 136,
   "metadata": {
    "ExecuteTime": {
     "end_time": "2019-01-20T22:03:31.385991Z",
     "start_time": "2019-01-20T22:03:31.259318Z"
    }
   },
   "outputs": [],
   "source": [
    "!rm -fr ../jupyter_cadquery/icons/*"
   ]
  },
  {
   "cell_type": "code",
   "execution_count": 137,
   "metadata": {
    "ExecuteTime": {
     "end_time": "2019-01-20T22:03:32.246235Z",
     "start_time": "2019-01-20T22:03:32.118394Z"
    }
   },
   "outputs": [],
   "source": [
    "!cp -r icons/* ../jupyter_cadquery/icons/"
   ]
  },
  {
   "cell_type": "code",
   "execution_count": null,
   "metadata": {},
   "outputs": [],
   "source": []
  }
 ],
 "metadata": {
  "kernelspec": {
   "display_name": "jvc",
   "language": "python",
   "name": "jvc"
  },
  "language_info": {
   "codemirror_mode": {
    "name": "ipython",
    "version": 3
   },
   "file_extension": ".py",
   "mimetype": "text/x-python",
   "name": "python",
   "nbconvert_exporter": "python",
   "pygments_lexer": "ipython3",
   "version": "3.8.8"
  },
  "toc": {
   "base_numbering": 1,
   "nav_menu": {},
   "number_sections": true,
   "sideBar": true,
   "skip_h1_title": false,
   "title_cell": "Table of Contents",
   "title_sidebar": "Contents",
   "toc_cell": false,
   "toc_position": {},
   "toc_section_display": true,
   "toc_window_display": false
  }
 },
 "nbformat": 4,
 "nbformat_minor": 4
}
