{
 "cells": [
  {
   "cell_type": "code",
   "id": "initial_id",
   "metadata": {
    "collapsed": true
   },
   "source": [
    "import numpy as np\n",
    "import pandas as pd\n",
    "import seaborn as sns\n",
    "\n",
    "import causal_assistant as ca"
   ],
   "outputs": [],
   "execution_count": null
  },
  {
   "metadata": {},
   "cell_type": "markdown",
   "source": [
    "Suppose we are a patient, and we want to pick the best hospital we can.\n",
    "\n",
    "We have access to data from two nearby hospitals: Hospital 0 and Hospital 1"
   ],
   "id": "d5adfae9623f54e6"
  },
  {
   "metadata": {},
   "cell_type": "code",
   "source": [
    "patients = [\n",
    "    # hospital 1, condition 0: 50% positive outcomes\n",
    "    [0, 0, 0, 1],\n",
    "    [0, 0, 1, 1],\n",
    "    [0, 0, 0, 1],\n",
    "    [0, 0, 1, 1],\n",
    "    [0, 0, 0, 1],\n",
    "    [0, 0, 1, 0],\n",
    "    [0, 0, 0, 0],\n",
    "    [0, 0, 1, 0],\n",
    "    [0, 0, 0, 0],\n",
    "    [0, 0, 1, 0],\n",
    "\n",
    "    # hospital 2, condition 0: 33% positive outcomes\n",
    "    [1, 0, 0, 0],\n",
    "    [1, 0, 1, 0],\n",
    "    [1, 0, 0, 1],\n",
    "\n",
    "    # hospital 1, condition 1: 100% positive outcomes\n",
    "    [0, 1, 1, 1],\n",
    "    [0, 1, 0, 1],\n",
    "\n",
    "    # hospital 2, condition 1: 90% positive outcomes\n",
    "    [1, 1, 1, 1],\n",
    "    [1, 1, 0, 1],\n",
    "    [1, 1, 1, 1],\n",
    "    [1, 1, 0, 1],\n",
    "    [1, 1, 1, 1],\n",
    "    [1, 1, 0, 1],\n",
    "    [1, 1, 1, 1],\n",
    "    [1, 1, 0, 1],\n",
    "    [1, 1, 1, 1],\n",
    "    [1, 1, 0, 0]\n",
    "]\n",
    "\n",
    "df = pd.DataFrame(patients, columns=[\"hospital\", \"condition\", \"group\", \"outcome\"])\n",
    "df.head()"
   ],
   "id": "2fc45b674e482b25",
   "outputs": [],
   "execution_count": null
  },
  {
   "metadata": {},
   "cell_type": "markdown",
   "source": [
    "So, which hospital is better?\n",
    "\n",
    "We could run a basic statistical test to try and answer this question - which hospital has a higher percentage of positive outcomes?"
   ],
   "id": "52f135dc698bb60f"
  },
  {
   "metadata": {},
   "cell_type": "code",
   "source": [
    "# totals:\n",
    "df.groupby(\"hospital\").outcome.mean()"
   ],
   "id": "9ad7d95049b83bbf",
   "outputs": [],
   "execution_count": null
  },
  {
   "metadata": {},
   "cell_type": "markdown",
   "source": [
    "Great! Hospital 1 is better. Let's go there then :)\n",
    "\n",
    "However, **this isn't actually the case** - look what happens when we split our analysis by condition:"
   ],
   "id": "ac7cee6b8ed1ce04"
  },
  {
   "metadata": {},
   "cell_type": "code",
   "source": [
    "# totals:\n",
    "df.groupby([\"hospital\", \"condition\"]).outcome.mean().unstack()"
   ],
   "id": "55884fb4e559ede2",
   "outputs": [],
   "execution_count": null
  },
  {
   "metadata": {},
   "cell_type": "markdown",
   "source": "In this subgroup analysis, we can see that Hospital 0 is actually better than Hospital 1 for both types of condition we have data for!",
   "id": "9cfe3e7699cbdf7b"
  },
  {
   "metadata": {},
   "cell_type": "code",
   "source": "df.groupby([\"hospital\", \"condition\"]).outcome.mean().unstack().mean(axis=\"columns\")",
   "id": "f20a6fcc2799c46b",
   "outputs": [],
   "execution_count": null
  },
  {
   "metadata": {},
   "cell_type": "markdown",
   "source": [
    "\n",
    "One potential cause of this imbalance is that the condition is a **confounder** for both the choice of hospital and the patient outcome - patients with the more serious 'Condition 0' may elect to pick Hospital 0 (i.e. it may be better suited to serious conditions), but they are also naturally less likely to have a positive outcome regardless of which hospital they went to.\n",
    "\n",
    "So despite the obvious causal link from cause (hospital choice) to effect (outcome), there is also a pair of indirect links: condition effects both hospital choice and outcome!\n",
    "\n",
    "We can use **causal inference** to analyse this problem:"
   ],
   "id": "b9127c1740cb024"
  },
  {
   "metadata": {},
   "cell_type": "code",
   "source": [
    "# [h]ospital choice affects [o]utcome\n",
    "# [c]ondition affects [h]ospital choice\n",
    "# [c]ondition affects [o]utcome\n",
    "causal_graph = \"\"\"\n",
    "    o;h;c;\n",
    "    h->o;\n",
    "    c->h;\n",
    "    c->o;\n",
    "\"\"\""
   ],
   "id": "e015fc52265deed0",
   "outputs": [],
   "execution_count": null
  },
  {
   "metadata": {},
   "cell_type": "markdown",
   "source": "Causal Inference attempts to solve this problem by allowing us to ask a more nuanced question: What is the average outcome independent of condition? This is solved with an *interventional equation*, which we can compute below (using the package):",
   "id": "ffe4c01919a929d0"
  },
  {
   "metadata": {},
   "cell_type": "code",
   "source": "ca.analyse_graph(causal_graph, cause_var=\"h\", effect_var=\"o\")",
   "id": "52e5313620f1fb16",
   "outputs": [],
   "execution_count": null
  },
  {
   "metadata": {},
   "cell_type": "code",
   "source": [
    "# simulate hospital trips in an RCT, using the above interventional equation (do-calculus)\n",
    "cb_df, _ = ca.bootstrap(\n",
    "    causal_graph, cause_var=\"h\", effect_var=\"o\",\n",
    "    h=df, o=df[\"outcome\"], c=df[\"condition\"]\n",
    ")"
   ],
   "id": "8339ac6c6df744c1",
   "outputs": [],
   "execution_count": null
  },
  {
   "metadata": {},
   "cell_type": "code",
   "source": "cb_df.value_counts()",
   "id": "3c386e2e3a4f9a2b",
   "outputs": [],
   "execution_count": null
  },
  {
   "metadata": {},
   "cell_type": "code",
   "source": [
    "# totals:\n",
    "cb_df.groupby(\"hospital\").outcome.mean()"
   ],
   "id": "e6a46cb09b59d9b9",
   "outputs": [],
   "execution_count": null
  },
  {
   "metadata": {},
   "cell_type": "code",
   "source": "cb_df.groupby([\"hospital\", \"condition\"]).outcome.mean().unstack()",
   "id": "84d6540de51b0e56",
   "outputs": [],
   "execution_count": null
  },
  {
   "metadata": {},
   "cell_type": "markdown",
   "source": "By resampling, causal bootstrapping has preserved the underlying distribution (subgroup analysis) while correcting the causal issues by breaking the condition->hospital link",
   "id": "cd6bf63146482102"
  },
  {
   "metadata": {},
   "cell_type": "code",
   "source": "",
   "id": "9c6b109d98eb7c25",
   "outputs": [],
   "execution_count": null
  }
 ],
 "metadata": {
  "kernelspec": {
   "display_name": "Python 3",
   "language": "python",
   "name": "python3"
  },
  "language_info": {
   "codemirror_mode": {
    "name": "ipython",
    "version": 2
   },
   "file_extension": ".py",
   "mimetype": "text/x-python",
   "name": "python",
   "nbconvert_exporter": "python",
   "pygments_lexer": "ipython2",
   "version": "2.7.6"
  }
 },
 "nbformat": 4,
 "nbformat_minor": 5
}
