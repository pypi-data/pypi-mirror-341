{
 "cells": [
  {
   "cell_type": "code",
   "id": "initial_id",
   "metadata": {
    "collapsed": true,
    "ExecuteTime": {
     "end_time": "2025-04-14T12:32:20.984689Z",
     "start_time": "2025-04-14T12:32:18.663880Z"
    }
   },
   "source": "from causal_assistant import validate_causal_graph",
   "outputs": [],
   "execution_count": 1
  },
  {
   "metadata": {
    "ExecuteTime": {
     "end_time": "2025-04-14T12:32:20.994325Z",
     "start_time": "2025-04-14T12:32:20.987767Z"
    }
   },
   "cell_type": "code",
   "source": [
    "# base case\n",
    "graph = \"\"\"\n",
    "    X;y;z;\n",
    "    y->X;\n",
    "    z->y;\n",
    "    z->X;\n",
    "\"\"\"\n",
    "validate_causal_graph(graph)"
   ],
   "id": "3d5977b695f37d76",
   "outputs": [
    {
     "data": {
      "text/plain": [
       "'X;y;z;y->X;z->y;z->X;'"
      ]
     },
     "execution_count": 2,
     "metadata": {},
     "output_type": "execute_result"
    }
   ],
   "execution_count": 2
  },
  {
   "metadata": {
    "ExecuteTime": {
     "end_time": "2025-04-14T12:32:21.165298Z",
     "start_time": "2025-04-14T12:32:21.160224Z"
    }
   },
   "cell_type": "code",
   "source": [
    "# check commenting support\n",
    "graph = \"\"\"\n",
    "    X;y;z;\n",
    "    y->X;\n",
    "    z->y;\n",
    "    # z->X;\n",
    "\"\"\"\n",
    "validate_causal_graph(graph)"
   ],
   "id": "cd652f335b592c19",
   "outputs": [
    {
     "data": {
      "text/plain": [
       "'X;y;z;y->X;z->y;'"
      ]
     },
     "execution_count": 3,
     "metadata": {},
     "output_type": "execute_result"
    }
   ],
   "execution_count": 3
  },
  {
   "metadata": {
    "ExecuteTime": {
     "end_time": "2025-04-14T12:32:21.176271Z",
     "start_time": "2025-04-14T12:32:21.172204Z"
    }
   },
   "cell_type": "code",
   "source": [
    "# line delimiting support\n",
    "graph = \"\"\"\n",
    "    X;y;z\n",
    "    y->X\n",
    "    z->y\n",
    "    z->X\n",
    "\"\"\"\n",
    "validate_causal_graph(graph)"
   ],
   "id": "a7beb30ab89ef23e",
   "outputs": [
    {
     "data": {
      "text/plain": [
       "'X;y;z;y->X;z->y;z->X;'"
      ]
     },
     "execution_count": 4,
     "metadata": {},
     "output_type": "execute_result"
    }
   ],
   "execution_count": 4
  },
  {
   "metadata": {
    "ExecuteTime": {
     "end_time": "2025-04-14T12:32:21.851558Z",
     "start_time": "2025-04-14T12:32:21.182718Z"
    }
   },
   "cell_type": "code",
   "source": [
    "# check variable checking\n",
    "graph = \"\"\"\n",
    "    X;z;\n",
    "    y->X;\n",
    "    z->y;\n",
    "    z->X;\n",
    "\"\"\"\n",
    "validate_causal_graph(graph)"
   ],
   "id": "a00ee98a7867a8fb",
   "outputs": [
    {
     "ename": "ValueError",
     "evalue": "graph variable(s) 'y' not defined at top of graph!",
     "output_type": "error",
     "traceback": [
      "\u001B[31m---------------------------------------------------------------------------\u001B[39m",
      "\u001B[31mValueError\u001B[39m                                Traceback (most recent call last)",
      "\u001B[36mCell\u001B[39m\u001B[36m \u001B[39m\u001B[32mIn[5]\u001B[39m\u001B[32m, line 8\u001B[39m\n\u001B[32m      1\u001B[39m \u001B[38;5;66;03m# check variable checking\u001B[39;00m\n\u001B[32m      2\u001B[39m graph = \u001B[33m\"\"\"\u001B[39m\n\u001B[32m      3\u001B[39m \u001B[33m    X;z;\u001B[39m\n\u001B[32m      4\u001B[39m \u001B[33m    y->X;\u001B[39m\n\u001B[32m      5\u001B[39m \u001B[33m    z->y;\u001B[39m\n\u001B[32m      6\u001B[39m \u001B[33m    z->X;\u001B[39m\n\u001B[32m      7\u001B[39m \u001B[33m\"\"\"\u001B[39m\n\u001B[32m----> \u001B[39m\u001B[32m8\u001B[39m \u001B[43mvalidate_causal_graph\u001B[49m\u001B[43m(\u001B[49m\u001B[43mgraph\u001B[49m\u001B[43m)\u001B[49m\n",
      "\u001B[36mFile \u001B[39m\u001B[32m~\\Development\\University\\Project\\voicing\\causal_assistant\\causal_assistant\\helper.py:40\u001B[39m, in \u001B[36mvalidate_causal_graph\u001B[39m\u001B[34m(causal_graph, cause_var, effect_var)\u001B[39m\n\u001B[32m     38\u001B[39m missing_vars = [v \u001B[38;5;28;01mfor\u001B[39;00m v \u001B[38;5;129;01min\u001B[39;00m variables \u001B[38;5;28;01mif\u001B[39;00m v \u001B[38;5;129;01mnot\u001B[39;00m \u001B[38;5;129;01min\u001B[39;00m clauses]\n\u001B[32m     39\u001B[39m \u001B[38;5;28;01mif\u001B[39;00m missing_vars:\n\u001B[32m---> \u001B[39m\u001B[32m40\u001B[39m     \u001B[38;5;28;01mraise\u001B[39;00m \u001B[38;5;167;01mValueError\u001B[39;00m(\u001B[33mf\u001B[39m\u001B[33m\"\u001B[39m\u001B[33mgraph variable(s) \u001B[39m\u001B[33m'\u001B[39m\u001B[38;5;132;01m{\u001B[39;00m\u001B[33m'\u001B[39m\u001B[33m,\u001B[39m\u001B[33m'\u001B[39m.join(missing_vars)\u001B[38;5;132;01m}\u001B[39;00m\u001B[33m'\u001B[39m\u001B[33m not defined at top of graph!\u001B[39m\u001B[33m\"\u001B[39m)\n\u001B[32m     42\u001B[39m \u001B[38;5;28;01mreturn\u001B[39;00m causal_graph\n",
      "\u001B[31mValueError\u001B[39m: graph variable(s) 'y' not defined at top of graph!"
     ]
    }
   ],
   "execution_count": 5
  },
  {
   "metadata": {
    "ExecuteTime": {
     "end_time": "2025-04-14T12:32:22.989972Z",
     "start_time": "2025-04-14T12:32:22.957131Z"
    }
   },
   "cell_type": "code",
   "source": [
    "# re-check with long names\n",
    "graph = \"\"\"\n",
    "    Xavier;zavier;\n",
    "    yavier->Xavier;\n",
    "    zavier->yavier;\n",
    "    zavier->Xavier;\n",
    "\"\"\"\n",
    "validate_causal_graph(graph)"
   ],
   "id": "568598d45df7068e",
   "outputs": [
    {
     "ename": "ValueError",
     "evalue": "graph variable(s) 'yavier' not defined at top of graph!",
     "output_type": "error",
     "traceback": [
      "\u001B[31m---------------------------------------------------------------------------\u001B[39m",
      "\u001B[31mValueError\u001B[39m                                Traceback (most recent call last)",
      "\u001B[36mCell\u001B[39m\u001B[36m \u001B[39m\u001B[32mIn[6]\u001B[39m\u001B[32m, line 8\u001B[39m\n\u001B[32m      1\u001B[39m \u001B[38;5;66;03m# re-check with long names\u001B[39;00m\n\u001B[32m      2\u001B[39m graph = \u001B[33m\"\"\"\u001B[39m\n\u001B[32m      3\u001B[39m \u001B[33m    Xavier;zavier;\u001B[39m\n\u001B[32m      4\u001B[39m \u001B[33m    yavier->Xavier;\u001B[39m\n\u001B[32m      5\u001B[39m \u001B[33m    zavier->yavier;\u001B[39m\n\u001B[32m      6\u001B[39m \u001B[33m    zavier->Xavier;\u001B[39m\n\u001B[32m      7\u001B[39m \u001B[33m\"\"\"\u001B[39m\n\u001B[32m----> \u001B[39m\u001B[32m8\u001B[39m \u001B[43mvalidate_causal_graph\u001B[49m\u001B[43m(\u001B[49m\u001B[43mgraph\u001B[49m\u001B[43m)\u001B[49m\n",
      "\u001B[36mFile \u001B[39m\u001B[32m~\\Development\\University\\Project\\voicing\\causal_assistant\\causal_assistant\\helper.py:40\u001B[39m, in \u001B[36mvalidate_causal_graph\u001B[39m\u001B[34m(causal_graph, cause_var, effect_var)\u001B[39m\n\u001B[32m     38\u001B[39m missing_vars = [v \u001B[38;5;28;01mfor\u001B[39;00m v \u001B[38;5;129;01min\u001B[39;00m variables \u001B[38;5;28;01mif\u001B[39;00m v \u001B[38;5;129;01mnot\u001B[39;00m \u001B[38;5;129;01min\u001B[39;00m clauses]\n\u001B[32m     39\u001B[39m \u001B[38;5;28;01mif\u001B[39;00m missing_vars:\n\u001B[32m---> \u001B[39m\u001B[32m40\u001B[39m     \u001B[38;5;28;01mraise\u001B[39;00m \u001B[38;5;167;01mValueError\u001B[39;00m(\u001B[33mf\u001B[39m\u001B[33m\"\u001B[39m\u001B[33mgraph variable(s) \u001B[39m\u001B[33m'\u001B[39m\u001B[38;5;132;01m{\u001B[39;00m\u001B[33m'\u001B[39m\u001B[33m,\u001B[39m\u001B[33m'\u001B[39m.join(missing_vars)\u001B[38;5;132;01m}\u001B[39;00m\u001B[33m'\u001B[39m\u001B[33m not defined at top of graph!\u001B[39m\u001B[33m\"\u001B[39m)\n\u001B[32m     42\u001B[39m \u001B[38;5;28;01mreturn\u001B[39;00m causal_graph\n",
      "\u001B[31mValueError\u001B[39m: graph variable(s) 'yavier' not defined at top of graph!"
     ]
    }
   ],
   "execution_count": 6
  },
  {
   "metadata": {},
   "cell_type": "code",
   "outputs": [],
   "execution_count": null,
   "source": "",
   "id": "f90f87a2c4e8cef2"
  }
 ],
 "metadata": {
  "kernelspec": {
   "display_name": "Python 3",
   "language": "python",
   "name": "python3"
  },
  "language_info": {
   "codemirror_mode": {
    "name": "ipython",
    "version": 2
   },
   "file_extension": ".py",
   "mimetype": "text/x-python",
   "name": "python",
   "nbconvert_exporter": "python",
   "pygments_lexer": "ipython2",
   "version": "2.7.6"
  }
 },
 "nbformat": 4,
 "nbformat_minor": 5
}
