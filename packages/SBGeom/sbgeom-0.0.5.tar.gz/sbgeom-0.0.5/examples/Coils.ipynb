{
 "cells": [
  {
   "cell_type": "code",
   "execution_count": 1,
   "metadata": {},
   "outputs": [],
   "source": [
    "try:\n",
    "    import SBGeom\n",
    "    import SBGeom.VMEC  as VMEC\n",
    "    import SBGeom.Mesh as Mesh\n",
    "    import SBGeom.Coils as Coils\n",
    "except:\n",
    "    import StellBlanket.SBGeom as SBGeom\n",
    "    import StellBlanket.SBGeom.VMEC as VMEC\n",
    "    import StellBlanket.SBGeom.Mesh as Mesh\n",
    "    import StellBlanket.SBGeom.Coils as Coils\n",
    "\n",
    "import numpy as np\n",
    "import plotly.graph_objects as go"
   ]
  },
  {
   "cell_type": "markdown",
   "metadata": {},
   "source": [
    "### Coils\n",
    "\n",
    "Coils are created from filaments.\n",
    "\n",
    "These filaments can be described by a single array:"
   ]
  },
  {
   "cell_type": "code",
   "execution_count": 2,
   "metadata": {},
   "outputs": [],
   "source": [
    "R = 1.0\n",
    "w = 0.2\n",
    "t = np.linspace(0,2 * np.pi,10, endpoint=False)\n",
    "coil = SBGeom.Discrete_Coil(np.stack([R * np.cos(t),w * np.cos(t),  R * np.sin(t) ], axis=-1))\n"
   ]
  },
  {
   "cell_type": "markdown",
   "metadata": {},
   "source": [
    "This Coil can be plotted (note that it linearly interpolates between the discrete points)"
   ]
  },
  {
   "cell_type": "code",
   "execution_count": null,
   "metadata": {},
   "outputs": [],
   "source": [
    "def create_figure():\n",
    "    fig = go.Figure()\n",
    "    fig.update_layout(autosize=False, width=600, height=600,margin=dict(l=0, r=0, b=0, t=0), scene=dict(aspectmode='data'))\n",
    "    return fig\n",
    "\n",
    "fig = create_figure()\n",
    "SBGeom.Coils.Plot(fig, coil, line=dict(color='red'), marker=dict(color='red', size=2.4), mode='lines+markers')\n",
    "fig.show()"
   ]
  },
  {
   "cell_type": "markdown",
   "metadata": {},
   "source": [
    "Coil sets can be created by collecting a list of coils:"
   ]
  },
  {
   "cell_type": "code",
   "execution_count": null,
   "metadata": {},
   "outputs": [],
   "source": [
    "n_coils = 20\n",
    "coils = []\n",
    "Rmaj  = 5\n",
    "Rmin  = 1\n",
    "for i in range(n_coils):\n",
    "    centre = np.array([Rmaj, 0.0, i / n_coils * 2 * np.pi ])\n",
    "    Ri     = centre[0] + Rmin * np.cos(t)\n",
    "    Zi     = centre[1] + Rmin * np.sin(t)\n",
    "    coils.append(SBGeom.Discrete_Coil(np.stack([ Ri * np.cos(centre[2]) ,  Ri * np.sin(centre[2]), Zi ], axis=-1)))\n",
    "coilset = SBGeom.Coil_Set(coils)\n",
    "\n",
    "fig = create_figure()\n",
    "SBGeom.Coils.Plot_Set(fig,coilset, line=dict(width=5))\n",
    "fig.show()\n"
   ]
  },
  {
   "cell_type": "markdown",
   "metadata": {},
   "source": [
    "Now, we can use an actual stellarator coilset:"
   ]
  },
  {
   "cell_type": "code",
   "execution_count": null,
   "metadata": {},
   "outputs": [],
   "source": [
    "helias5_coils = Coils.Discrete_Coil_Set_From_HDF5(\"HELIAS5_coils_all_corr.h5\")\n",
    "SYMM = 5\n",
    "fig = create_figure()\n",
    "SBGeom.Coils.Plot_Set(fig,helias5_coils, line=dict(width=5))\n",
    "fig.show()\n"
   ]
  },
  {
   "cell_type": "markdown",
   "metadata": {},
   "source": [
    "Of course,  there are just thin lines, unsuitable for transport simulations or further analysis. Rectangular finite sizes are supported in multiple ways.\n",
    "\n",
    "Easiest is the Centroid method, where you take the radial unit vector as the vector from the point to the centre of the coil. The tangent vector is just to the next point. Together with the cross product between these two vectors, this defines an orthonormal frame, which can be used to create a finite size.\n"
   ]
  },
  {
   "cell_type": "code",
   "execution_count": 6,
   "metadata": {},
   "outputs": [],
   "source": [
    "width_phi = 0.2\n",
    "width_R   = 0.2"
   ]
  },
  {
   "cell_type": "code",
   "execution_count": null,
   "metadata": {},
   "outputs": [],
   "source": [
    "fig = create_figure()\n",
    "colors = ['red','green', 'blue','purple','olive']\n",
    "for i in range(int(helias5_coils.Number_of_Coils() / SYMM / 2)):\n",
    "    centroid_lines = helias5_coils[i].Finite_Size_Lines_Centroid(width_phi = width_phi, width_R = width_R, number_of_points = 200)\n",
    "    central_line = helias5_coils[i].Position(np.linspace(0,1,200))\n",
    "    fig.add_trace(go.Scatter3d(x =centroid_lines[:,0], y = centroid_lines[:,1], z= centroid_lines[:,2], line=dict(color= colors[i]), mode=\"lines\", showlegend=False))\n",
    "    fig.add_trace(go.Scatter3d(x =central_line[:,0], y = central_line[:,1], z= central_line[:,2] , line=dict(color= colors[i], dash='dash'), mode=\"lines\", name=\"Coil \"+str(i)))\n",
    "fig.show()"
   ]
  },
  {
   "cell_type": "markdown",
   "metadata": {},
   "source": [
    "These finite lines can be meshed as well:"
   ]
  },
  {
   "cell_type": "code",
   "execution_count": null,
   "metadata": {},
   "outputs": [],
   "source": [
    "\n",
    "fig = create_figure()\n",
    "colors = ['red','green', 'blue','purple','olive']\n",
    "for i in range(int(helias5_coils.Number_of_Coils() / SYMM / 2)):    \n",
    "    centroid = helias5_coils[i].Mesh_Triangles_Centroid(width_phi = width_phi, width_R = width_R, number_of_vertices = 200 )\n",
    "    SBGeom.Mesh.Plot(fig,  centroid, wireframe=True, color=colors[i], opacity=1.0, name=\"Coil\" +str(i))\n",
    "fig.show()"
   ]
  },
  {
   "cell_type": "markdown",
   "metadata": {},
   "source": [
    "Although these coils can be used in transport simulations, they are not ideal because of the twisting that happens in some coils, especially 3 and 4 in this example."
   ]
  },
  {
   "cell_type": "code",
   "execution_count": null,
   "metadata": {},
   "outputs": [],
   "source": [
    "fig.update_layout(scene_camera= dict(up = dict(x=0, y=0, z=1),eye=dict(x=-0.5, y=0.5, z= 0.5), center =dict(x = -0.2,y = 0.1, z=0.25)))                                      \n",
    "fig.show()"
   ]
  },
  {
   "cell_type": "markdown",
   "metadata": {},
   "source": [
    "Another option is to use a rotation minimized frame, in which the rotation of these unit vectors along the curve are minimized. This eliminates this twisting:"
   ]
  },
  {
   "cell_type": "code",
   "execution_count": null,
   "metadata": {},
   "outputs": [],
   "source": [
    "fig = create_figure()\n",
    "colors = ['red','green', 'blue','purple','olive']\n",
    "\n",
    "for i in range(int(helias5_coils.Number_of_Coils() / SYMM / 2)):    \n",
    "    centroid = helias5_coils[i].Mesh_Triangles_RMF(width_phi = width_phi, width_R = width_R, number_of_vertices = 200 )\n",
    "    SBGeom.Mesh.Plot(fig,  centroid, wireframe=True, color=colors[i%5], opacity=1.0, name=\"Coil\" +str(i))\n",
    "fig.update_layout(scene_camera= dict(up = dict(x=0, y=0, z=1),eye=dict(x=-0.5, y=0.5, z= 0.5), center =dict(x = -0.2,y = 0.1, z=0.25)))                                      \n",
    "fig.show()"
   ]
  },
  {
   "cell_type": "markdown",
   "metadata": {},
   "source": [
    "The same meshing function works for an entire coilset if desired:\n",
    "\n",
    "(this takes a while because of Plotly)"
   ]
  },
  {
   "cell_type": "code",
   "execution_count": null,
   "metadata": {},
   "outputs": [],
   "source": [
    "coilmesh = helias5_coils.Mesh_Triangles_RMF(width_phi = width_phi, width_R = width_R, number_of_vertices = 100 )\n",
    "\n",
    "fig = create_figure()\n",
    "SBGeom.Mesh.Plot(fig, coilmesh, wireframe=True)\n",
    "fig.show()"
   ]
  },
  {
   "cell_type": "markdown",
   "metadata": {},
   "source": [
    "### Fourier Coils\n",
    "\n",
    "Since the output from stellarator coil optimization codes can be Fourier coils as well, the same functions work for Fourier coefficients:\n",
    "\n",
    "$$ x = \\sum_{n=1}^N x^c \\cos(n 2\\pi t) + x^s \\sin(n 2\\pi t)$$\n",
    "$$ y = \\sum_{n=1}^N y^c \\cos(n 2\\pi t) + y^s \\sin(n 2\\pi t)$$\n",
    "$$ z = \\sum_{n=1}^N z^c \\cos(n 2\\pi t) + z^s \\sin(n 2\\pi t)$$"
   ]
  },
  {
   "cell_type": "code",
   "execution_count": 12,
   "metadata": {},
   "outputs": [],
   "source": [
    "fourier_coil = SBGeom.Fourier_Coil( xyz_cos = np.array([[2.0,0.5,0.3], [0.2,0.0,0.1]]), xyz_sin = np.array([[0.0,0.0,1.3], [0.5,0.0,0.0]]), centre = np.array([0.0,0.0,0.0]))"
   ]
  },
  {
   "cell_type": "code",
   "execution_count": null,
   "metadata": {},
   "outputs": [],
   "source": [
    "fig = create_figure()\n",
    "SBGeom.Coils.Plot(fig, fourier_coil, line=dict(color='red'), marker=dict(color='red', size=2.4), mode='lines+markers')\n",
    "centroid = fourier_coil.Mesh_Triangles_RMF(width_phi = width_phi, width_R = width_R, number_of_vertices = 200 )\n",
    "SBGeom.Mesh.Plot(fig, centroid, opacity=0.5)\n",
    "fig.show()"
   ]
  },
  {
   "cell_type": "markdown",
   "metadata": {},
   "source": [
    "Discrete coil sets can be converted to Fourier coilsets as well:"
   ]
  },
  {
   "cell_type": "code",
   "execution_count": null,
   "metadata": {},
   "outputs": [],
   "source": [
    "fourier_coilset = Coils.Convert_to_Fourier_Coils(helias5_coils)\n",
    "print(fourier_coilset[0])"
   ]
  },
  {
   "cell_type": "code",
   "execution_count": null,
   "metadata": {},
   "outputs": [],
   "source": [
    "fig = create_figure()\n",
    "coilmesh         = helias5_coils.Mesh_Triangles_RMF(  width_phi = width_phi, width_R = width_R, number_of_vertices = 100 )\n",
    "coilmesh_fourier = fourier_coilset.Mesh_Triangles_RMF(width_phi = width_phi, width_R = width_R, number_of_vertices = 100 )\n",
    "SBGeom.Mesh.Plot(fig, coilmesh_fourier, wireframe=True,              name=\"Fourier\")\n",
    "SBGeom.Mesh.Plot(fig, coilmesh        , wireframe=True, color='red', name='Original', opacity=0.8)\n",
    "fig.show()"
   ]
  }
 ],
 "metadata": {
  "kernelspec": {
   "display_name": "sb_env",
   "language": "python",
   "name": "python3"
  },
  "language_info": {
   "codemirror_mode": {
    "name": "ipython",
    "version": 3
   },
   "file_extension": ".py",
   "mimetype": "text/x-python",
   "name": "python",
   "nbconvert_exporter": "python",
   "pygments_lexer": "ipython3",
   "version": "3.12.4"
  }
 },
 "nbformat": 4,
 "nbformat_minor": 2
}
