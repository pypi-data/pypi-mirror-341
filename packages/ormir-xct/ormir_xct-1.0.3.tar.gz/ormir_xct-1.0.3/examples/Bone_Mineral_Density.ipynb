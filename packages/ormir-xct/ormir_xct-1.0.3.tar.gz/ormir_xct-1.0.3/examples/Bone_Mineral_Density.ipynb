{
 "cells": [
  {
   "cell_type": "markdown",
   "id": "efbca20e",
   "metadata": {},
   "source": [
    "# Bone Mineral Density Example\n",
    "\n",
    "- **By:** [Michael T. Kuczynski](https://www.linkedin.com/in/mkuczyns/), 2024  \n",
    "- **License:** CC-BY \n",
    "- **How to cite:** Cite the ORMIR_XCT publication: *Kuczynski et al., (2024). ORMIR_XCT: A Python package for high resolution peripheral quantitative computed tomography image processing. Journal of Open Source Software, 9(97), 6084, https://doi.org/10.21105/joss.06084*"
   ]
  },
  {
   "cell_type": "markdown",
   "id": "133c761a",
   "metadata": {},
   "source": [
    "---\n",
    "# Aims\n",
    "\n",
    "- This Jupyter Notebook provides an example of computing volumetric bone mineral density (vBMD) in an HR-pQCT joint image. \n",
    "- vBMD is computed in the distal and proximal segments. The ORMIR_XCT autocontour script is used to generate the bone masks.\n",
    "\n",
    "  **Table of contents**  \n",
    "  [Step 1: Imports](#imports)   \n",
    "  [Step 2: Automatic Contour](#contour)  \n",
    "  [Step 3: Compute vBMD](#bmd)  \n",
    "  [Step 4: Compare IPL to ORMIR_XCT](#compare)"
   ]
  },
  {
   "cell_type": "markdown",
   "id": "2415563c",
   "metadata": {},
   "source": [
    "---"
   ]
  },
  {
   "cell_type": "markdown",
   "id": "bcdc9bff",
   "metadata": {},
   "source": [
    "<a name=\"imports\"></a>\n",
    "## *Step 1: Imports:*\n",
    "\n",
    "Import modules/packages and set the input image path. "
   ]
  },
  {
   "cell_type": "code",
   "execution_count": 32,
   "id": "455536d4",
   "metadata": {},
   "outputs": [],
   "source": [
    "import os\n",
    "import numpy as np\n",
    "import SimpleITK as sitk\n",
    "\n",
    "from matplotlib import pyplot as plt\n",
    "\n",
    "from ormir_xct.bone_mineral_density.bmd import bmd\n",
    "from ormir_xct.bone_mineral_density.bmd_masked import bmd_masked\n",
    "from ormir_xct.autocontour.autocontour import autocontour"
   ]
  },
  {
   "cell_type": "code",
   "execution_count": 33,
   "id": "ed021614",
   "metadata": {},
   "outputs": [],
   "source": [
    "joint_seg_path = os.path.join(\"images\", \"GRAY_JOINT.nii\")\n",
    "\n",
    "gray_img = sitk.ReadImage(joint_seg_path, sitk.sitkFloat32)"
   ]
  },
  {
   "cell_type": "markdown",
   "id": "0b10f2a5",
   "metadata": {},
   "source": [
    "---"
   ]
  },
  {
   "cell_type": "markdown",
   "id": "fbdc7d4f",
   "metadata": {},
   "source": [
    "<a name=\"contour\"></a>\n",
    "## *Step 2: Run the ORMIR_XCT Automatic Contour:*\n",
    "\n",
    "Run the ORMIR_XCT automatic periosteal contour script on the input grayscale joint image. This script will return the distal, proximal, and full joint mask.\n",
    "\n",
    "When running the ORMIR_XCT automatic contour script, we need to provide the image units and parameters for unit conversion to get an accurate segmentation. Since we are using an AIM/ISQ image that has been converted to another file type using the ITKIOScanco module from ITK, the image units are Hounsfield Units (HU). For the sample image provided, the follow parameters taken from the AIM header are used:\n",
    "\n",
    "- mu_water = 0.24090\n",
    "- mu_scaling = 8192\n",
    "- resale_slope = 1603.51904 \n",
    "- rescale_intercept = -391.209015\n",
    "\n",
    "These values may vary depending on your scanner."
   ]
  },
  {
   "cell_type": "code",
   "execution_count": 34,
   "id": "ffc8695d",
   "metadata": {},
   "outputs": [],
   "source": [
    "mu_water = 0.24090\n",
    "mu_scaling = 8192\n",
    "rescale_slope = 1603.51904\n",
    "rescale_intercept = -391.209015\n",
    "\n",
    "dst_mask, prx_mask, ormir_mask = autocontour(\n",
    "    gray_img, mu_water, rescale_slope, rescale_intercept\n",
    ")"
   ]
  },
  {
   "cell_type": "markdown",
   "id": "64cda5b5",
   "metadata": {},
   "source": [
    "---"
   ]
  },
  {
   "cell_type": "markdown",
   "id": "b81b793e",
   "metadata": {},
   "source": [
    "<a name=\"bmd\"></a>\n",
    "## *Step 3: Compute vBMD:*\n",
    "\n",
    "Now computed vBMD. We will calculate the vBMD for each bone segment."
   ]
  },
  {
   "cell_type": "code",
   "execution_count": 35,
   "id": "a14d4d74",
   "metadata": {},
   "outputs": [
    {
     "name": "stdout",
     "output_type": "stream",
     "text": [
      "Distal vBMD: 193.18 +/- 205.73 mg HA/cm^3\n",
      "Proximal vBMD: 227.12 +/- 240.44 mg HA/cm^3\n"
     ]
    }
   ],
   "source": [
    "# First mask the image with the distal and proximal joint masks\n",
    "\n",
    "# Distal vBMD\n",
    "masked_gray_img = sitk.Mask(gray_img, dst_mask)\n",
    "dst_bmd = bmd_masked(\n",
    "    masked_gray_img,\n",
    "    dst_mask,\n",
    "    \"hu\",\n",
    "    mu_scaling,\n",
    "    mu_water,\n",
    "    rescale_slope,\n",
    "    rescale_intercept,\n",
    ")\n",
    "\n",
    "print(\"Distal vBMD: {:.2f} +/- {:.2f} mg HA/cm^3\".format(dst_bmd[0], dst_bmd[1]))\n",
    "\n",
    "\n",
    "# Proximal vBMD\n",
    "prx_gray_img = sitk.Mask(gray_img, prx_mask)\n",
    "prx_bmd = bmd_masked(\n",
    "    masked_gray_img,\n",
    "    prx_mask,\n",
    "    \"hu\",\n",
    "    mu_scaling,\n",
    "    mu_water,\n",
    "    rescale_slope,\n",
    "    rescale_intercept,\n",
    ")\n",
    "\n",
    "print(\"Proximal vBMD: {:.2f} +/- {:.2f} mg HA/cm^3\".format(prx_bmd[0], prx_bmd[1]))"
   ]
  },
  {
   "cell_type": "markdown",
   "id": "6d8e7543",
   "metadata": {},
   "source": [
    "---"
   ]
  },
  {
   "cell_type": "markdown",
   "id": "747bf6db",
   "metadata": {},
   "source": [
    "<a name=\"compare\"></a>\n",
    "## *Step 4: Compare Between IPL and ORMIR_XCT:*\n",
    "\n",
    "Now compare vBMD results between IPL and ORMIR_XCT.\n",
    "\n",
    "The vBMD results from IPL have been pre-generated and are provided as:\n",
    "- **Distal vBMD:** 203.84 +/- 212.96 mg HA/cm^3\n",
    "- **Proximal vBMD:** 224.20 +/- 240.37 mg HA/cm^3"
   ]
  },
  {
   "cell_type": "markdown",
   "id": "4755148b",
   "metadata": {},
   "source": [
    "---\n",
    "<a name=\"attribution\"></a>\n",
    "\n",
    "Notebook created using the [template](https://github.com/ORMIRcommunity/templates/blob/main/ORMIR_nb_template.ipynb) of the [ORMIR community](https://ormircommunity.github.io/) (version 1.0, 2023)"
   ]
  },
  {
   "cell_type": "code",
   "execution_count": null,
   "id": "41b94b23",
   "metadata": {},
   "outputs": [],
   "source": []
  }
 ],
 "metadata": {
  "kernelspec": {
   "display_name": "Python 3 (ipykernel)",
   "language": "python",
   "name": "python3"
  },
  "language_info": {
   "codemirror_mode": {
    "name": "ipython",
    "version": 3
   },
   "file_extension": ".py",
   "mimetype": "text/x-python",
   "name": "python",
   "nbconvert_exporter": "python",
   "pygments_lexer": "ipython3",
   "version": "3.11.11"
  },
  "toc": {
   "base_numbering": 1,
   "nav_menu": {},
   "number_sections": true,
   "sideBar": true,
   "skip_h1_title": false,
   "title_cell": "Table of Contents",
   "title_sidebar": "Contents",
   "toc_cell": false,
   "toc_position": {},
   "toc_section_display": true,
   "toc_window_display": false
  }
 },
 "nbformat": 4,
 "nbformat_minor": 5
}
