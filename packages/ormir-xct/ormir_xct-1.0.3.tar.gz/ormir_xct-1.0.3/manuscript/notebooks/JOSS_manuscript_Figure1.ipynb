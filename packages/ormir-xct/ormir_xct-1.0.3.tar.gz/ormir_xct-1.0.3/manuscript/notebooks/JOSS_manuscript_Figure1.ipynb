{
 "cells": [
  {
   "cell_type": "markdown",
   "id": "a1e340c6",
   "metadata": {},
   "source": [
    "# Joint Space Analysis With and Without Oversampling\n",
    "\n",
    "This Jupyter Notebook demonstrates the effect of the oversampling distance transform function on joint space thickness calculations. An exampe is provided using a 1-voxel thick plate and a sample finger joint."
   ]
  },
  {
   "cell_type": "markdown",
   "id": "f1866dfc",
   "metadata": {},
   "source": [
    "## Step 1: Imports\n",
    "\n",
    "Import libraries and load test image."
   ]
  },
  {
   "cell_type": "code",
   "execution_count": 67,
   "id": "816a3861",
   "metadata": {},
   "outputs": [],
   "source": [
    "import os\n",
    "import numpy as np\n",
    "import pandas as pd\n",
    "import SimpleITK as sitk\n",
    "\n",
    "from matplotlib import pyplot as plt\n",
    "from matplotlib import colors\n",
    "from mpl_toolkits.axes_grid1 import make_axes_locatable\n",
    "\n",
    "from ormir_xct.util.hildebrand_thickness import calc_structure_thickness_statistics\n",
    "\n",
    "from scipy.ndimage import (\n",
    "    binary_erosion,\n",
    "    binary_dilation,\n",
    "    distance_transform_edt,\n",
    ")"
   ]
  },
  {
   "cell_type": "code",
   "execution_count": 2,
   "id": "8a813c5c",
   "metadata": {},
   "outputs": [],
   "source": [
    "# Load the image as a NumPy array\n",
    "img = sitk.ReadImage(os.path.join(\"images\", \"TEST_JOINT.nii\"))\n",
    "arr = sitk.GetArrayFromImage(img)\n",
    "\n",
    "# Some default parameters used in the IPL JSW workflow\n",
    "MISC2 = 27\n",
    "CALC = MISC2 + 8"
   ]
  },
  {
   "cell_type": "markdown",
   "id": "b023b6dd",
   "metadata": {},
   "source": [
    "## Step 2: Plate\n",
    "\n",
    "Generate the test plate (1-voxel thick) and compute the thickness using the oversampling distance transform function. Then, compute the thickness without oversampling. Print the results to the screen."
   ]
  },
  {
   "cell_type": "code",
   "execution_count": 58,
   "id": "fba274ed",
   "metadata": {},
   "outputs": [],
   "source": [
    "# Generate a plate for testing\n",
    "# Voxel size: 1x1x1, thickness = 1\n",
    "voxel_widths = (1,1,1)\n",
    "thickness = 1\n",
    "shape = (5,5,5)\n",
    "\n",
    "center = (voxel_widths[0] * (shape[0] // 2), voxel_widths[1] * (shape[1] // 2), voxel_widths[2] * (shape[2] // 2))\n",
    "x, y, z = np.meshgrid(*[voxel_widths[i] * np.arange(0, shape[i]) for i in range(3)], indexing=\"ij\")\n",
    "\n",
    "mask = (np.abs(x - center[0]) < thickness / 2).astype(int)"
   ]
  },
  {
   "cell_type": "code",
   "execution_count": 59,
   "id": "3a8b7b8f",
   "metadata": {},
   "outputs": [],
   "source": [
    "# Run thickness calculation (PY)\n",
    "plate_oversample = calc_structure_thickness_statistics(mask, 1, 0, mask, oversample=True, skeletonize=False)\n",
    "plate_oversample_mask = plate_oversample[4]"
   ]
  },
  {
   "cell_type": "code",
   "execution_count": 60,
   "id": "82ca70dd",
   "metadata": {},
   "outputs": [],
   "source": [
    "# Run thickness calculation (IPL)\n",
    "plate_no_oversample = calc_structure_thickness_statistics(mask, 1, 0, mask, oversample=False, skeletonize=False)\n",
    "plate_no_oversample_mask = plate_no_oversample[4]"
   ]
  },
  {
   "cell_type": "code",
   "execution_count": 61,
   "id": "4c73a47e",
   "metadata": {},
   "outputs": [
    {
     "name": "stdout",
     "output_type": "stream",
     "text": [
      "                    JSW.mean (mm)  JSW.std (mm)  JSW.min (mm)  JSW.max (mm)\n",
      "Oversampling=True             1.0           0.0           1.0           1.0\n",
      "Oversampling=False            2.0           0.0           2.0           2.0\n"
     ]
    }
   ],
   "source": [
    "# Print the results\n",
    "overample_data = [plate_oversample[0:4], plate_no_oversample[0:4]]\n",
    "df = pd.DataFrame(overample_data, columns=[\"JSW.mean (mm)\", \"JSW.std (mm)\", \"JSW.min (mm)\", \"JSW.max (mm)\"])\n",
    "df.index= [\"Oversampling=True\", \"Oversampling=False\"]\n",
    "print(df)"
   ]
  },
  {
   "cell_type": "code",
   "execution_count": 62,
   "id": "6124fcc3",
   "metadata": {},
   "outputs": [],
   "source": [
    "# Create the oversampled image\n",
    "shape = [2 * s - 1 for s in mask.shape]\n",
    "upsampled_mask = np.zeros(shape, dtype=mask.dtype)\n",
    "upsampled_mask[tuple([slice(None, None, 2)] * len(mask.shape))] = mask\n",
    "upsampled_mask = binary_dilation(upsampled_mask, structure=np.ones(tuple([3] * len(mask.shape)))).astype(int)\n",
    "upsampled_mask = binary_erosion(\n",
    "    np.pad(upsampled_mask, 1, mode=\"edge\"),\n",
    "    structure=np.ones(tuple([3] * len(mask.shape))),\n",
    ").astype(int)[tuple([slice(1, -1)] * len(mask.shape))]\n",
    "\n",
    "# Run the distance transform on oversampled mask\n",
    "oversampled_mask = upsampled_mask * distance_transform_edt(upsampled_mask, 1 / 2)"
   ]
  },
  {
   "cell_type": "markdown",
   "id": "5be0a79c",
   "metadata": {},
   "source": [
    "## Step 3: JSW Analysis\n",
    "\n",
    "Next, compute the joint space thickness of the sample finger joint. Compute thickness with and without using the oversampling distance transform function."
   ]
  },
  {
   "cell_type": "code",
   "execution_count": 46,
   "id": "60e3f6f0",
   "metadata": {},
   "outputs": [],
   "source": [
    "# JSW Analysis Step 1: Image Padding\n",
    "pad_image = sitk.ConstantPad(img, [MISC2, MISC2, 0], [MISC2, MISC2, 0], 0)\n",
    "pad_image = sitk.BinaryThreshold(pad_image, 1, 127, 60, 0)"
   ]
  },
  {
   "cell_type": "code",
   "execution_count": 47,
   "id": "2d88418b",
   "metadata": {},
   "outputs": [],
   "source": [
    "# JSW Analysis Step 2: Image Dilation\n",
    "image = sitk.BinaryThreshold(pad_image, 1, 127, 60, 0)\n",
    "dilated_image = sitk.BinaryDilate(image, [MISC2, MISC2, MISC2], sitk.sitkBall, 0, 60)\n",
    "\n",
    "# Run connected components, sort the components by size, then take only the largest component\n",
    "connected_image = sitk.ConnectedComponent(dilated_image, True)\n",
    "\n",
    "# Sort the components by size\n",
    "relabel_image = sitk.RelabelComponent(connected_image)\n",
    "\n",
    "# Take only the largest component, set it's value to 127\n",
    "first_component = sitk.BinaryThreshold(relabel_image, 1, 1, 127, 0)\n",
    "filled_holes = sitk.BinaryFillhole(first_component, True, 127)"
   ]
  },
  {
   "cell_type": "code",
   "execution_count": 48,
   "id": "f89b546e",
   "metadata": {},
   "outputs": [],
   "source": [
    "# JSW Analysis Step 3: Image Erosion\n",
    "eroded_image = sitk.BinaryErode(filled_holes, [CALC, CALC, CALC], sitk.sitkBall, 0, 127)\n",
    "eroded_image = sitk.BinaryThreshold(eroded_image, 127, 127, 30, 0)"
   ]
  },
  {
   "cell_type": "code",
   "execution_count": 49,
   "id": "6c368597",
   "metadata": {},
   "outputs": [],
   "source": [
    "# JSW Analysis Step 4: Extract Joint Space Mask\n",
    "\n",
    "# Add the eroded image (value = 30) and joint image (value = 60) together.\n",
    "# Then threshold out JS image (value = 30)\n",
    "add_image = sitk.Add(eroded_image, pad_image)\n",
    "add_image = sitk.BinaryThreshold(add_image, 30, 30, 127, 0)\n",
    "\n",
    "connected_image = sitk.ConnectedComponent(add_image, False)\n",
    "relabel_image = sitk.RelabelComponent(connected_image)\n",
    "js_mask = sitk.BinaryThreshold(relabel_image, 1, 1, 1, 0)\n",
    "\n",
    "dilated_js_mask = sitk.BinaryDilate(js_mask, [CALC, CALC, CALC], sitk.sitkBall, 0, 1)\n",
    "dilated_js_mask = sitk.Add(dilated_js_mask, pad_image)\n",
    "dilated_js_mask = sitk.BinaryThreshold(dilated_js_mask, 1, 1, 1, 0)\n",
    "\n",
    "mask_np = sitk.GetArrayFromImage(dilated_js_mask)"
   ]
  },
  {
   "cell_type": "code",
   "execution_count": 50,
   "id": "389e9a37",
   "metadata": {},
   "outputs": [],
   "source": [
    "# JSW Analysis Step 5: Get Statistics\n",
    "\n",
    "# Oversampling = True\n",
    "stats_oversample = calc_structure_thickness_statistics(\n",
    "    mask_np, dilated_js_mask.GetSpacing()[0], 0, \n",
    "    sitk.GetArrayFromImage(dilated_js_mask), oversample=True, skeletonize=False\n",
    ")\n",
    "dt_oversample = stats_oversample[4]\n",
    "dt_oversample_masked = dt_oversample * (sitk.GetArrayFromImage(js_mask) != 0)\n",
    "\n",
    "\n",
    "# Oversampling = False\n",
    "stats_no_oversample = calc_structure_thickness_statistics(\n",
    "    mask_np, dilated_js_mask.GetSpacing()[0], 0, \n",
    "    sitk.GetArrayFromImage(dilated_js_mask), oversample=False, skeletonize=False\n",
    ")\n",
    "dt_no_oversample = stats_no_oversample[4]\n",
    "dt_no_oversample_masked = dt_no_oversample * (sitk.GetArrayFromImage(js_mask) != 0)"
   ]
  },
  {
   "cell_type": "code",
   "execution_count": 51,
   "id": "a849f4e3",
   "metadata": {},
   "outputs": [
    {
     "name": "stdout",
     "output_type": "stream",
     "text": [
      "                    JSW.mean (mm)  JSW.std (mm)  JSW.min (mm)  JSW.max (mm)\n",
      "Oversampling=True        2.023954      0.350331      0.060700      2.350131\n",
      "Oversampling=False       1.944500      0.448652      0.121401      2.443142\n"
     ]
    }
   ],
   "source": [
    "# Print the results\n",
    "overample_data = [stats_oversample[0:4], stats_no_oversample[0:4]]\n",
    "df = pd.DataFrame(overample_data, columns=[\"JSW.mean (mm)\", \"JSW.std (mm)\", \"JSW.min (mm)\", \"JSW.max (mm)\"])\n",
    "df.index= [\"Oversampling=True\", \"Oversampling=False\"]\n",
    "print(df)"
   ]
  },
  {
   "cell_type": "markdown",
   "id": "3fd522d8",
   "metadata": {},
   "source": [
    "## Step 4: Plotting\n",
    "\n",
    "Now plot the results. On the top row, we will plot a cross-section of the 1-voxel thick plate, the oversampled plate, and the results of the thickness computation with and without oversampling. On the bottom row, we will plot a cross-section of the sample finger joint, the dilated and oversampled joint space mask that is generated, and the results of the thickness computation with and without oversampling."
   ]
  },
  {
   "cell_type": "code",
   "execution_count": 66,
   "id": "811475e9",
   "metadata": {
    "scrolled": true
   },
   "outputs": [
    {
     "data": {
      "image/png": "[encoded data removed]",
      "text/plain": [
       "<Figure size 1440x720 with 13 Axes>"
      ]
     },
     "metadata": {
      "needs_background": "light"
     },
     "output_type": "display_data"
    }
   ],
   "source": [
    "fig, axs = plt.subplots(figsize=(20,10), nrows=2, ncols=4)\n",
    "fig.tight_layout(pad=4.0, rect=[0, 0.03, 1, 0.95])\n",
    "\n",
    "fig.suptitle(\n",
    "    \"Distance Transform With and Without Oversampling\",\n",
    "    fontsize=\"xx-large\")\n",
    "\n",
    "# Create a custom colormap for the plate\n",
    "# Thicknesses of 1 voxel = gray, thicknesses of 2 voxels = white\n",
    "cmap = colors.ListedColormap([\"black\", \"gray\", \"white\"])\n",
    "bounds=[0,1,2,3]\n",
    "norm = colors.BoundaryNorm(bounds, cmap.N)\n",
    "\n",
    "ax1 = axs[0][0]\n",
    "ax2 = axs[0][1]\n",
    "ax3 = axs[0][2]\n",
    "ax4 = axs[0][3]\n",
    "ax5 = axs[1][0]\n",
    "ax6 = axs[1][1]\n",
    "ax7 = axs[1][2]\n",
    "ax8 = axs[1][3]\n",
    "\n",
    "# Plot the top row (plate images)\n",
    "view_slice = (slice(None), mask.shape[1]//2, slice(None))\n",
    "im1 = ax1.imshow(mask[view_slice], extent=[0, 5, 0, 5], cmap=\"gray\", vmin=0, vmax=1, aspect=\"auto\")\n",
    "ax1.grid()\n",
    "ax1.set_ylabel(\"Thickness (voxels)\")\n",
    "ax1.set_title(\"Cross-section of Plate (Thickness = 1 voxel)\", wrap=True)\n",
    "ax1.set_yticks(np.arange(0, 5, step=1))\n",
    "ax1.set_xticks(np.arange(0, 5, step=1))\n",
    "\n",
    "im2 = ax2.imshow(oversampled_mask[view_slice], extent=[0, 10, 0, 10], cmap=\"gray\", vmin=0, vmax=0.5, aspect=\"auto\")\n",
    "ax2.grid()\n",
    "ax2.set_title(\"Oversampled Plate (Thickness = 1 voxel)\", wrap=True)\n",
    "ax2.set_yticks(np.arange(0, 10, step=1))\n",
    "ax2.set_xticks(np.arange(0, 10, step=1))\n",
    "\n",
    "im3 = ax3.imshow(plate_oversample_mask[view_slice], extent=[0, 5, 0, 5], cmap=cmap, norm=norm, aspect=\"equal\")\n",
    "ax3.grid()\n",
    "ax3.set_title(\"Plate Thickness Mask (Oversampling = True)\", wrap=True)\n",
    "ax3.set_yticks(np.arange(0, 5, step=1))\n",
    "ax3.set_xticks(np.arange(0, 5, step=1))\n",
    "divider3 = make_axes_locatable(ax3)\n",
    "cax3 = divider3.append_axes(\"right\", size=\"5%\", pad=0.05)\n",
    "cbar3 = plt.colorbar(im3, cax=cax3, label=\"Thickness (voxels)\")\n",
    "\n",
    "im4 = ax4.imshow(plate_no_oversample_mask[view_slice], extent=[0, 5, 0, 5], cmap=cmap, norm=norm, aspect=\"equal\")\n",
    "ax4.grid()\n",
    "ax4.set_title(\"Plate Thickness Mask (Oversampling = False)\", wrap=True)\n",
    "ax4.set_yticks(np.arange(0, 5, step=1))\n",
    "ax4.set_xticks(np.arange(0, 5, step=1))\n",
    "divider4 = make_axes_locatable(ax4)\n",
    "cax4 = divider4.append_axes(\"right\", size=\"5%\", pad=0.05)\n",
    "cbar4 = plt.colorbar(im4, cax=cax4, label=\"Thickness (voxels)\")\n",
    "\n",
    "# Plot the bottom row (joint images)\n",
    "view_slice = (slice(None), local_thickness.shape[1]//2, slice(None))\n",
    "im5 = ax5.imshow(arr[view_slice], cmap=\"gray\", vmin=0, vmax=1, aspect=\"equal\")\n",
    "ax5.set_title(\"Example Joint Mask\")\n",
    "ax5.get_xaxis().set_visible(False)\n",
    "ax5.get_yaxis().set_visible(False)\n",
    "\n",
    "im6 = ax6.imshow(dt_oversample[view_slice], cmap=\"inferno\", vmin=0, vmax=2.5, aspect=\"equal\")\n",
    "ax6.set_title(\"Dilated Joint Space Mask (Oversampling = True)\", wrap=True)\n",
    "divider6 = make_axes_locatable(ax6)\n",
    "cax6 = divider6.append_axes(\"right\", size=\"5%\", pad=0.05)\n",
    "cbar6 = plt.colorbar(im6, cax=cax6, label=\"Thickness (mm)\")\n",
    "ax6.get_xaxis().set_visible(False)\n",
    "ax6.get_yaxis().set_visible(False)\n",
    "\n",
    "im7 = ax7.imshow(dt_oversample_masked[view_slice], cmap=\"inferno\", vmin=0, vmax=2.5, aspect=\"equal\")\n",
    "ax7.set_title(\"Joint Thickness Map (Oversampling = True)\", wrap=True)\n",
    "divider7 = make_axes_locatable(ax7)\n",
    "cax7 = divider7.append_axes(\"right\", size=\"5%\", pad=0.05)\n",
    "cbar7 = plt.colorbar(im7, cax=cax7, label=\"Thickness (mm)\")\n",
    "ax7.get_xaxis().set_visible(False)\n",
    "ax7.get_yaxis().set_visible(False)\n",
    "\n",
    "im8 = ax8.imshow(dt_no_oversample_masked[view_slice], cmap=\"inferno\", vmin=0, vmax=2.5, aspect=\"equal\")\n",
    "ax8.set_title(\"Joint Thickness Map (Oversampling = False)\", wrap=True)\n",
    "divider8 = make_axes_locatable(ax8)\n",
    "cax8 = divider8.append_axes(\"right\", size=\"5%\", pad=0.05)\n",
    "cbar8 = plt.colorbar(im8, cax=cax8, label=\"Thickness (mm)\")\n",
    "ax8.get_xaxis().set_visible(False)\n",
    "ax8.get_yaxis().set_visible(False)\n",
    "\n",
    "plt.show()"
   ]
  },
  {
   "cell_type": "code",
   "execution_count": null,
   "id": "503126da",
   "metadata": {},
   "outputs": [],
   "source": []
  }
 ],
 "metadata": {
  "kernelspec": {
   "display_name": "Python 3 (ipykernel)",
   "language": "python",
   "name": "python3"
  },
  "language_info": {
   "codemirror_mode": {
    "name": "ipython",
    "version": 3
   },
   "file_extension": ".py",
   "mimetype": "text/x-python",
   "name": "python",
   "nbconvert_exporter": "python",
   "pygments_lexer": "ipython3",
   "version": "3.8.5"
  }
 },
 "nbformat": 4,
 "nbformat_minor": 5
}
