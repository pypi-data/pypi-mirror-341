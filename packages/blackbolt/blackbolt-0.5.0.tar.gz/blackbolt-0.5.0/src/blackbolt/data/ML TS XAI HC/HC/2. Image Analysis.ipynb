{
 "cells": [
  {
   "cell_type": "markdown",
   "metadata": {
    "jp-MarkdownHeadingCollapsed": true
   },
   "source": [
    "Original code by ***__Raghavender Ganesh__***.   \n",
    "Updated with better documentation and code readability."
   ]
  },
  {
   "cell_type": "markdown",
   "metadata": {},
   "source": [
    "## ***__2. Image analysis on biomedical image and perform segmentation and feature extraction__***"
   ]
  },
  {
   "cell_type": "markdown",
   "metadata": {},
   "source": [
    "### ***__Libraries__***"
   ]
  },
  {
   "cell_type": "code",
   "execution_count": null,
   "metadata": {},
   "outputs": [],
   "source": [
    "from skimage import color\n",
    "from skimage.filters import threshold_otsu\n",
    "from skimage.morphology import closing,square\n",
    "from skimage.segmentation import clear_border\n",
    "from skimage.feature import canny\n",
    "from skimage.measure import label, regionprops"
   ]
  },
  {
   "cell_type": "code",
   "execution_count": null,
   "metadata": {},
   "outputs": [],
   "source": [
    "import numpy as np\n",
    "import cv2\n",
    "import matplotlib.pyplot as plt"
   ]
  },
  {
   "cell_type": "markdown",
   "metadata": {},
   "source": [
    "### ***__Original Image__***"
   ]
  },
  {
   "cell_type": "code",
   "execution_count": null,
   "metadata": {},
   "outputs": [],
   "source": [
    "img = cv2.imread(\"data/lung.jpeg\")\n",
    "#gray_img=color.rgb2gray(img) If they give a color image\n",
    "\n",
    "plt.figure(figsize=(3,3))\n",
    "plt.imshow(img)\n",
    "plt.title(\"Original Image\")\n",
    "plt.show()"
   ]
  },
  {
   "cell_type": "markdown",
   "metadata": {},
   "source": [
    "### ***__PreProcessing__***\n",
    "##### ***__1. Resize__***\n",
    "##### ***__2. Gaussian Blur__***"
   ]
  },
  {
   "cell_type": "code",
   "execution_count": null,
   "metadata": {},
   "outputs": [],
   "source": [
    "#Resize the image\n",
    "resized_img=cv2.resize(img,(256,256))\n",
    "\n",
    "#Gaussian Blurring\n",
    "blurred_img=cv2.GaussianBlur(resized_img, (5,5) ,0)\n",
    "\n",
    "plt.figure(figsize=(3,3))\n",
    "plt.imshow(blurred_img)\n",
    "plt.title(\"Processed Image\")\n",
    "plt.show()"
   ]
  },
  {
   "cell_type": "markdown",
   "metadata": {},
   "source": [
    "### ***__Image Segmentation__***"
   ]
  },
  {
   "cell_type": "markdown",
   "metadata": {},
   "source": [
    "### ***__LABEL__: Label connected regions of an integer array.***\n",
    "##### ***__Two pixels are connected when they are neighbors and have the same value.__***\n",
    "##### ***__In 2D, they can be neighbors either in a 1- or 2-connected sense.__***"
   ]
  },
  {
   "cell_type": "code",
   "execution_count": null,
   "metadata": {},
   "outputs": [],
   "source": [
    "# Grey Image\n",
    "gray_img = color.rgb2gray(blurred_img)\n",
    "\n",
    "# Otsu Thresholding\n",
    "thresh = threshold_otsu(gray_img)\n",
    "\n",
    "# This tends to \"close\" up (dark) gaps between (bright) features.\n",
    "binary_img = closing(gray_img > thresh, square(3)) \n",
    "\n",
    "# Segmentation\n",
    "cleared_img = clear_border(binary_img)\n",
    "\n",
    "# Label\n",
    "label_img = label(cleared_img)\n",
    "\n",
    "plt.figure(figsize=(3,3))\n",
    "plt.imshow(label_img)\n",
    "plt.title(\"Segmented Image\")\n",
    "plt.show()"
   ]
  },
  {
   "cell_type": "markdown",
   "metadata": {},
   "source": [
    "### ***__Bounding Box__***"
   ]
  },
  {
   "cell_type": "code",
   "execution_count": null,
   "metadata": {},
   "outputs": [],
   "source": [
    "plt.figure(figsize=(3,3))\n",
    "plt.imshow(label_img)\n",
    "\n",
    "regions = regionprops(label_img)\n",
    "\n",
    "for region in regions:\n",
    "    if region.area > 100:\n",
    "        # Bounding box coordinates \n",
    "        min_row, min_col, max_row, max_col = region.bbox\n",
    "        # Draw rectangle around segmented regions\n",
    "        rect = plt.Rectangle((min_col, min_row), max_col - min_col, max_row - min_row, fill=False, edgecolor=\"red\", linewidth=2)\n",
    "        # Get current axes (GCA) and draw rectangle on top of it.\n",
    "        plt.gca().add_patch(rect)\n",
    "\n",
    "plt.title(\"Bounding box\")\n",
    "plt.show()"
   ]
  },
  {
   "cell_type": "markdown",
   "metadata": {},
   "source": [
    "### ***__Synthetic Images__***\n",
    "#### ***__Generation of synthetic images for medical image__***"
   ]
  },
  {
   "cell_type": "code",
   "execution_count": null,
   "metadata": {},
   "outputs": [],
   "source": [
    "# Generate pixelated images\n",
    "image = np.random.rand(100, 100)"
   ]
  },
  {
   "cell_type": "code",
   "execution_count": null,
   "metadata": {},
   "outputs": [],
   "source": [
    "# 1. Display original synthetic image\n",
    "plt.figure(figsize=(3,3))\n",
    "plt.imshow(image, cmap='gray')\n",
    "plt.title(\"Original Image\")\n",
    "plt.show()"
   ]
  },
  {
   "cell_type": "markdown",
   "metadata": {},
   "source": [
    "### ***__Edge detection using Canny__***"
   ]
  },
  {
   "cell_type": "code",
   "execution_count": null,
   "metadata": {},
   "outputs": [],
   "source": [
    "# Denoise images using Gaussian Blur\n",
    "image = cv2.GaussianBlur(image, (5, 5), 0)\n",
    "\n",
    "# Perform edge detection using Canny\n",
    "edge = canny(image) \n",
    "\n",
    "# 2. Display edge detection result\n",
    "plt.figure(figsize=(3,3))\n",
    "plt.imshow(edge, cmap='gray')\n",
    "plt.title(\"Edge Detection\")\n",
    "plt.show()"
   ]
  },
  {
   "cell_type": "markdown",
   "metadata": {},
   "source": [
    "### ***__Feature detection with bounding boxes__***"
   ]
  },
  {
   "cell_type": "code",
   "execution_count": null,
   "metadata": {},
   "outputs": [],
   "source": [
    "# Extract features (region properties)\n",
    "features = regionprops(label(edge))\n",
    "\n",
    "# 3. Display feature detection with bounding boxes\n",
    "plt.figure(figsize=(3,3))\n",
    "plt.imshow(image, cmap='gray')\n",
    "for region in features:\n",
    "    minr, minc, maxr, maxc = region.bbox\n",
    "    rect = plt.Rectangle((minc, minr), maxc - minc, maxr - minr, \n",
    "                        edgecolor='red', facecolor='none')\n",
    "    plt.gca().add_patch(rect)\n",
    "\n",
    "plt.title(\"Feature Detection\")\n",
    "plt.show()"
   ]
  }
 ],
 "metadata": {
  "kernelspec": {
   "display_name": "Python 3 (ipykernel)",
   "language": "python",
   "name": "python3"
  },
  "language_info": {
   "codemirror_mode": {
    "name": "ipython",
    "version": 3
   },
   "file_extension": ".py",
   "mimetype": "text/x-python",
   "name": "python",
   "nbconvert_exporter": "python",
   "pygments_lexer": "ipython3",
   "version": "3.12.4"
  }
 },
 "nbformat": 4,
 "nbformat_minor": 4
}
