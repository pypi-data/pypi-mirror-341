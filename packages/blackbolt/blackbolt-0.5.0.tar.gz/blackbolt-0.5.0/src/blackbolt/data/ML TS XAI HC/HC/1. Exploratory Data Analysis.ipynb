{
 "cells": [
  {
   "cell_type": "markdown",
   "id": "ff077b4b-2949-4289-9c29-17729e678a9d",
   "metadata": {},
   "source": [
    "Original code by ***__Raghavender Ganesh__***.   \n",
    "Updated with better documentation and code readability."
   ]
  },
  {
   "cell_type": "markdown",
   "id": "890092af-1d5d-4e60-8d3c-8ef6e67f9a76",
   "metadata": {},
   "source": [
    "## ***__1. Exploratory Data Analysis__***"
   ]
  },
  {
   "cell_type": "markdown",
   "id": "011cb497-d738-47cc-af36-d1e94ef827c8",
   "metadata": {},
   "source": [
    "### ***__Libraries__***"
   ]
  },
  {
   "cell_type": "code",
   "execution_count": null,
   "id": "75811b7e-def6-4fb4-80ca-6556f1019bde",
   "metadata": {},
   "outputs": [],
   "source": [
    "import pandas as pd\n",
    "import seaborn as sns\n",
    "import matplotlib.pyplot as plt"
   ]
  },
  {
   "cell_type": "markdown",
   "id": "1e2f9ce9-954d-4ba1-aca7-ab128c11f6ce",
   "metadata": {},
   "source": [
    "### ***__Loading dataset into pandas dataframe__***"
   ]
  },
  {
   "cell_type": "code",
   "execution_count": null,
   "id": "33c91acf-4d9e-4a45-991a-1622f57c1faa",
   "metadata": {},
   "outputs": [],
   "source": [
    "df = pd.read_csv(\"data/diabetes.csv\")\n",
    "print(\"Shape:\", df.shape)\n",
    "display(df.head())\n",
    "display(df.tail())"
   ]
  },
  {
   "cell_type": "markdown",
   "id": "570452d4-04e4-46d2-8780-1e6ab174bbc1",
   "metadata": {},
   "source": [
    "### ***__Frequency Distribution__***"
   ]
  },
  {
   "cell_type": "code",
   "execution_count": null,
   "id": "ad77174d-15e4-487f-b49d-78df00bcac15",
   "metadata": {},
   "outputs": [],
   "source": [
    "count = df['Outcome'].value_counts()\n",
    "count.plot(kind = 'bar',\n",
    "           color = ['orange', 'blue'],\n",
    "           figsize = (2,2),\n",
    "           xlabel = \"Outcome\",\n",
    "           ylabel = \"Count\",\n",
    "           title = \"Diabetes outcome chart\")\n",
    "plt.show()"
   ]
  },
  {
   "cell_type": "markdown",
   "id": "ea5ada99-d7d5-400d-8841-2f15dc780647",
   "metadata": {},
   "source": [
    "### ***__Info & Summary statistics__***"
   ]
  },
  {
   "cell_type": "code",
   "execution_count": null,
   "id": "0745b9c8-9ad3-46e9-a98e-ce479512631c",
   "metadata": {},
   "outputs": [],
   "source": [
    "display(df.info())\n",
    "display(df.describe())"
   ]
  },
  {
   "cell_type": "markdown",
   "id": "fcbfed12-0308-49ee-8f7a-683c5ea09d58",
   "metadata": {},
   "source": [
    "### ***__Boxplot (Outlier Detection)__***"
   ]
  },
  {
   "cell_type": "code",
   "execution_count": null,
   "id": "def65477-4cb4-4189-9eb4-b064fd9ad5cf",
   "metadata": {},
   "outputs": [],
   "source": [
    "plt.figure(figsize=(7,7))\n",
    "sns.boxplot(data = df[['Pregnancies', 'Glucose', 'BloodPressure', 'SkinThickness', 'Age']])\n",
    "plt.show()"
   ]
  },
  {
   "cell_type": "markdown",
   "id": "f5bf9034-bf5c-488c-b46e-12274dc1ddd7",
   "metadata": {},
   "source": [
    "### ***__Null values__***"
   ]
  },
  {
   "cell_type": "code",
   "execution_count": null,
   "id": "b5720a5d-060b-4bad-9a6c-3d5954919d4a",
   "metadata": {},
   "outputs": [],
   "source": [
    "df.isnull().sum()"
   ]
  },
  {
   "cell_type": "markdown",
   "id": "413289d2-1f90-41df-83ab-81b5a40e7a77",
   "metadata": {},
   "source": [
    "### ***__Correlation Matrix__***"
   ]
  },
  {
   "cell_type": "code",
   "execution_count": null,
   "id": "89964175-af3f-4747-9e32-bb6a92f9d288",
   "metadata": {},
   "outputs": [],
   "source": [
    "plt.figure(figsize=(8,8))\n",
    "sns.heatmap(df.corr(), annot = True, cmap = 'Greens')\n",
    "plt.title(\"Heatmap of the dataset\")\n",
    "plt.show()"
   ]
  },
  {
   "cell_type": "markdown",
   "id": "cbb4226f-5ef2-4e99-93a8-45bd84580987",
   "metadata": {},
   "source": [
    "### ***__Pair plot__***"
   ]
  },
  {
   "cell_type": "code",
   "execution_count": null,
   "id": "4d8aaddb-ea7f-4867-b900-4508e0a73407",
   "metadata": {},
   "outputs": [],
   "source": [
    "sns.pairplot(df, hue = \"Outcome\" , palette = \"deep\")\n",
    "plt.title(\"Pairplot generation of dataset\")\n",
    "plt.show()"
   ]
  }
 ],
 "metadata": {
  "kernelspec": {
   "display_name": "Python 3 (ipykernel)",
   "language": "python",
   "name": "python3"
  },
  "language_info": {
   "codemirror_mode": {
    "name": "ipython",
    "version": 3
   },
   "file_extension": ".py",
   "mimetype": "text/x-python",
   "name": "python",
   "nbconvert_exporter": "python",
   "pygments_lexer": "ipython3",
   "version": "3.12.4"
  }
 },
 "nbformat": 4,
 "nbformat_minor": 5
}
