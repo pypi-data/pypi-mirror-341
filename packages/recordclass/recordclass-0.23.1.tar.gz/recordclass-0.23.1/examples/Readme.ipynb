{
 "cells": [
  {
   "cell_type": "markdown",
   "id": "11a8d20e-b249-44e1-bb02-7beff2ec6c2b",
   "metadata": {},
   "source": [
    "# Recordclass library"
   ]
  },
  {
   "cell_type": "markdown",
   "id": "90806055-352f-4c4c-bc87-a251445bec31",
   "metadata": {},
   "source": [
    "**Recordclass** is [MIT Licensed](http://opensource.org/licenses/MIT) python library.\n",
    "It was started as a \"proof of concept\" for the problem of fast \"mutable\"\n",
    "alternative of `namedtuple` (see [question](https://stackoverflow.com/questions/29290359/existence-of-mutable-named-tuple-in-python) on stackoverflow).\n",
    "It implements a factory function `recordclass` (a variant of `collection.namedtuple`) in order to create record-like classes with the same API as  `collection.namedtuple`. It was evolved further in order to provide more memory saving, fast and flexible type."
   ]
  },
  {
   "cell_type": "markdown",
   "id": "1c6a703a-c3d4-42c4-a8d0-bfbc5566afc9",
   "metadata": {},
   "source": [
    "Later **recordclass** library started to provide record-like classes that do not participate in *cyclic garbage collection* (CGC) mechanism, but support only *reference counting* mechanizm for garbage collection.\n",
    "The instances of such classes have not `PyGC_Head` prefix in the memory, which decrease their size.\n",
    "This may make sense in cases where it is necessary to limit the size of objects as much as possible, provided that they will never be part of circular references in the application.\n",
    "For example, when an object represents a record with fields that represent simple values by convention (`int`, `float`, `str`, `date`/`time`/`datetime`, `timedelta`, etc.).\n",
    "Another examples are non-recursive data structures in which all leaf elements represent simple values.\n",
    "Of course, in python, nothing prevents you from “shooting yourself in the foot\" by creating the reference cycle in the script or application code.\n",
    "But in some cases, this can still be avoided provided that the developer understands\n",
    "what he is doing and uses such classes in the code with care. Another option is a use of static analyzers together with type annotations."
   ]
  },
  {
   "cell_type": "markdown",
   "id": "44fe91f9-0f65-4bae-95b5-a036a7516bcb",
   "metadata": {},
   "source": [
    "**First** `recodeclass` library provide the base class `dataobject`. The type of `dataobject` is special metaclass `datatype`. It control creation of subclasses of `dataobject`, which  doesn't participate in CGC by default. As the result the instance of such class need less memory. It's memory footprint is similar to memory footprint of instances of the classes with `__slots__` . The difference is equal to the size of `PyGC_Head`. It also tunes `basicsize` of the instances, creates descriptors for the fields and etc. All subclasses of `dataobject` created with class statement support `attrs`/`dataclasses`-like API."
   ]
  },
  {
   "cell_type": "markdown",
   "id": "952df9af-57fb-4f67-8d0e-40bb841e486a",
   "metadata": {},
   "source": [
    "**Second** it provide a factory function `make_dataclass` for creation of subclasses of `dataobject` with the specified field names. These subclasses support `attrs`/`dataclasses`-like API."
   ]
  },
  {
   "cell_type": "markdown",
   "id": "ac0e498c-1610-41da-91d8-39333bfb0d52",
   "metadata": {},
   "source": [
    "**Three** it provide the class `lightlist`, which considers as list-like *light* container in order to save memory."
   ]
  },
  {
   "cell_type": "markdown",
   "id": "f5e76655-107b-4453-b6b3-795762cf4e26",
   "metadata": {},
   "source": [
    "Main repository for `recordclass`is on [bitbucket](https://bitbucket.org/intellimath/recordclass)."
   ]
  },
  {
   "cell_type": "markdown",
   "id": "e1fa1429-e4e6-4da4-a117-b5b04a820b88",
   "metadata": {},
   "source": [
    "Here is also a simple [example](http://nbviewer.ipython.org/urls/bitbucket.org/intellimath/recordclass/raw/master/examples/what_is_recordclass.ipynb)."
   ]
  },
  {
   "cell_type": "markdown",
   "id": "be133e99-79a3-4e41-80ff-7e531a9a57fc",
   "metadata": {},
   "source": [
    "## Quick start"
   ]
  },
  {
   "cell_type": "markdown",
   "id": "a58d770f-058d-490e-b419-9d5b97ba8916",
   "metadata": {},
   "source": [
    "### Installation"
   ]
  },
  {
   "cell_type": "markdown",
   "id": "8a3c90b8-00dd-4160-a5cc-079b5bf3c638",
   "metadata": {},
   "source": [
    "#### Installation from directory with sources\n",
    "\n",
    "Install:\n",
    "\n",
    "    >>> python setup.py install\n",
    "\n",
    "Run tests:\n",
    "\n",
    "    >>> python test_all.py\n",
    "\n",
    "#### Installation from PyPI\n",
    "\n",
    "Install:\n",
    "\n",
    "    >>> pip install recordclass\n",
    "\n",
    "Run tests:\n",
    "\n",
    "    >>> python -c \"from recordclass.test import *; test_all()\"\n"
   ]
  },
  {
   "cell_type": "markdown",
   "id": "e4505950-a5e8-473c-9fa5-2ef30f7ae879",
   "metadata": {},
   "source": [
    "### Quick start with recordclass\n",
    "\n",
    "First load inventory:\n",
    "\n",
    "    >>> from recordclass import recordclass\n",
    "\n",
    "Example with `recordclass`:\n",
    "\n",
    "    >>> Point = recordclass('Point', 'x y')\n",
    "    >>> p = Point(1,2)\n",
    "    >>> print(p)\n",
    "    Point(1, 2)\n",
    "    >>> print(p.x, p.y)\n",
    "    1 2             \n",
    "    >>> p.x, p.y = 10, 20\n",
    "    >>> print(p)\n",
    "    Point(10, 20)\n",
    "    >>> sys.getsizeof(p) # the output below is for 64bit cpython3.9\n",
    "    40\n",
    "\n",
    "Example with `RecordClass` and typehints::\n",
    "\n",
    "    >>> from recordclass import RecordClass\n",
    "\n",
    "    class Point(RecordClass):\n",
    "       x: int\n",
    "       y: int\n",
    "\n",
    "    >>> print(Point.__annotations__)\n",
    "    {'x': <class 'int'>, 'y': <class 'int'>}\n",
    "    >>> p = Point(1, 2)\n",
    "    >>> print(p)\n",
    "    Point(1, 2)\n",
    "    >>> print(p.x, p.y)\n",
    "    1 2\n",
    "    >>> p.x, p.y = 10, 20\n",
    "    >>> print(p)\n",
    "    Point(10, 20)\n",
    "    \n",
    "\n",
    "Now by default `recordclass`-based class instances doesn't participate in CGC and therefore  they are smaller than `namedtuple`-based ones. If one want to use it in scenarios with reference cycles then one have to use option `gc=True` (`gc=False` by default):\n",
    "\n",
    "    >>> Node = recordclass('Node', 'root, children', gc=True)\n",
    "    \n",
    "or decorator `@enable_gc` for `RecordClass`-based classes:\n",
    "\n",
    "    @recordclass.enable_gc\n",
    "    class Node(RecordClass):\n",
    "         root: 'Node'\n",
    "         chilren: list\n"
   ]
  },
  {
   "cell_type": "markdown",
   "id": "4f1d2f3d-132a-4404-b22c-f5edc2332894",
   "metadata": {},
   "source": [
    "### Quick start with dataobject\n",
    "\n",
    "First load inventory::\n",
    "\n",
    "    >>> from recordclass import dataobject, asdict\n",
    "\n",
    "    class Point(dataobject):\n",
    "        x: int\n",
    "        y: int\n",
    "\n",
    "    >>> print(Point.__annotations__)\n",
    "    {'x': <class 'int'>, 'y': <class 'int'>}\n",
    "\n",
    "    >>> p = Point(1,2)\n",
    "    >>> print(p)\n",
    "    Point(x=1, y=2)\n",
    "\n",
    "    >>> sys.getsizeof() # the output below is for 64bit python\n",
    "    32\n",
    "    >>> p.__sizeof__() == sys.getsizeof(p) # no additional space for CGC support\n",
    "    True    \n",
    "\n",
    "    >>> p.x, p.y = 10, 20\n",
    "    >>> print(p)\n",
    "    Point(x=10, y=20)\n",
    "    >>> for x in p: print(x)\n",
    "    1\n",
    "    2\n",
    "    >>> asdict(p)\n",
    "    {'x':1, 'y':2}\n",
    "    >>> tuple(p)\n",
    "    (1, 2)\n",
    "\n",
    "Another way &ndash; factory function `make_dataclass`:\n",
    "\n",
    "    >>> from recordclass import make_dataclass\n",
    "\n",
    "    >>> Point = make_dataclass(\"Point\", [(\"x\",int), (\"y\",int)])\n",
    "\n",
    "Default values are also supported::\n",
    "\n",
    "    class CPoint(dataobject):\n",
    "        x: int\n",
    "        y: int\n",
    "        color: str = 'white'\n",
    "\n",
    "or\n",
    "\n",
    "    >>> Point = make_dataclass(\"Point\", [(\"x\",int), (\"y\",int), (\"color\",str)], defaults=(\"white\",))\n",
    "\n",
    "    >>> p = CPoint(1,2)\n",
    "    >>> print(p)\n",
    "    Point(x=1, y=2, color='white')\n"
   ]
  },
  {
   "cell_type": "markdown",
   "id": "97174771-4b28-4dc0-8d03-62778759f038",
   "metadata": {},
   "source": [
    "## Memory footprint\n",
    "\n",
    "The following table explain memory footprints of `recordclass`-base and `dataobject`-base objects:\n",
    "\n",
    "| namedtuple    |  class with \\_\\_slots\\_\\_  |  recordclass   | dataobject |\n",
    "| ------------- | ----------------- | -------------- | ------------- |\n",
    "|   $g+b+s+n*p$     |     $g+b+n*p$         |  $b+s+n*p$       |     $b+n*p$     |\n",
    "\n",
    "where:\n",
    "\n",
    " * b = sizeof(`PyObject`)\n",
    " * s = sizeof(`Py_ssize_t`)\n",
    " * n = number of items\n",
    " * p = sizeof(`PyObject*`)\n",
    " * g = sizeof(PyGC_Head)\n",
    "\n",
    "This is useful in that case when you absolutely sure that reference cycle isn't supposed.\n",
    "For example, when all field values are instances of atomic types.\n",
    "As a result the size of the instance is decreased by 24-32 bytes (for cpython 3.4-3.7) and by 16 bytes for cpython 3.8::\n",
    "\n",
    "    class S:\n",
    "        __slots__ = ('a','b','c')\n",
    "        def __init__(self, a, b, c):\n",
    "            self.a = a\n",
    "            self.b = b\n",
    "            self.c = c\n",
    "\n",
    "    R_gc = recordclass('R_gc', 'a b c', gc=True)\n",
    "    R_nogc = recordclass('R_nogc', 'a b c')\n",
    "    DO = make_dataclass('R_do', 'a b c')\n",
    "\n",
    "    s = S(1,2,3)\n",
    "    r_gc = R_gc(1,2,3)\n",
    "    r_nogc = R_nogc(1,2,3)\n",
    "    do = DO(1,2,3)\n",
    "    for o in (s, r_gc, r_nogc, do):\n",
    "        print(sys.getsizeof(o), end=' ')\n",
    "    print\n",
    "    56 64 48 32\n",
    "\n",
    "Here are also table with some performance counters:\n",
    "\n",
    "|         | namedtuple    |  class with \\_\\_slots\\_\\_  |  recordclass   | dataobject  |\n",
    "| ------- | ------------- | ----------------- | -------------- | ------------- |\n",
    "|   `new`   |    320±6 ns  |     411±8 ns    |   406±8 ns   |    113±1 ns  |\n",
    "| `getattr` |   35.6±0.7 ns |    20.8±0.4 ns   |   26.8±1.8 ns |   27.7±2.3 ns |\n",
    "| `setattr` |               |     24.2±0.3 ns  |   30.9±1.1 ns |   31.5±1.8 ns |\n"
   ]
  },
  {
   "cell_type": "code",
   "execution_count": null,
   "id": "f076cd82-4dae-4e8d-bc1e-019b69bf8928",
   "metadata": {},
   "outputs": [],
   "source": []
  }
 ],
 "metadata": {
  "kernelspec": {
   "display_name": "Python 3",
   "language": "python",
   "name": "python3"
  },
  "language_info": {
   "codemirror_mode": {
    "name": "ipython",
    "version": 3
   },
   "file_extension": ".py",
   "mimetype": "text/x-python",
   "name": "python",
   "nbconvert_exporter": "python",
   "pygments_lexer": "ipython3",
   "version": "3.9.2"
  }
 },
 "nbformat": 4,
 "nbformat_minor": 5
}
