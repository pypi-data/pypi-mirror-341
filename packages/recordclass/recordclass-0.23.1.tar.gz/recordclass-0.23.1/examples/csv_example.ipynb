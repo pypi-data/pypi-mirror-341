{
 "cells": [
  {
   "cell_type": "code",
   "execution_count": 1,
   "metadata": {},
   "outputs": [],
   "source": [
    "from recordclass import make_dataclass"
   ]
  },
  {
   "cell_type": "code",
   "execution_count": 2,
   "metadata": {},
   "outputs": [],
   "source": [
    "TableRow = make_dataclass(\n",
    "            'TableRow', \n",
    "            \"id name password hostip description source admin_name\",\n",
    "            defaults=5*(None,),\n",
    "            iterable=True,\n",
    "            fast_new=True)"
   ]
  },
  {
   "cell_type": "code",
   "execution_count": 3,
   "metadata": {},
   "outputs": [],
   "source": [
    "import csv\n",
    "class OutputTable():\n",
    "    def __init__(self):\n",
    "        self.header = TableRow(*TableRow.__fields__)\n",
    "        self.rows = list()\n",
    "\n",
    "    def add(self, new_row):\n",
    "        # Example assumes new_row is an instance of TableRow\n",
    "        self.rows.append(new_row)\n",
    "\n",
    "    def to_csv(self, file_name):\n",
    "        with open(file_name, 'w') as csv_file:\n",
    "            # creating a csv writer object\n",
    "            csv_writer = csv.writer(csv_file)\n",
    "\n",
    "            # writing the fields\n",
    "            csv_writer.writerow(self.header)\n",
    "\n",
    "            for row in sorted(self.rows):\n",
    "                csv_writer.writerow(row)"
   ]
  },
  {
   "cell_type": "code",
   "execution_count": 4,
   "metadata": {},
   "outputs": [],
   "source": [
    "outtable = OutputTable()\n",
    "outtable.add(TableRow(1, 'Matt', 'obvious', '10.0.0.1'))\n",
    "outtable.add(TableRow(2, 'Maria', 'obvious as usual', '10.1.0.1', 'some description', 'localnet', 'super_admin'))\n",
    "outtable.add(TableRow(3, 'Maria', hostip='10.1.0.1', description='some description', source='localnet'))\n",
    "\n",
    "outtable.to_csv('./example.csv')"
   ]
  },
  {
   "cell_type": "code",
   "execution_count": 6,
   "metadata": {},
   "outputs": [
    {
     "data": {
      "text/plain": [
       "mappingproxy({'password': <recordclass._dataobject.dataslotgetset at 0x7f6644f4ddd0>,\n",
       "              'hostip': <recordclass._dataobject.dataslotgetset at 0x7f6644f4de10>,\n",
       "              'description': <recordclass._dataobject.dataslotgetset at 0x7f6644f4dc30>,\n",
       "              'source': <recordclass._dataobject.dataslotgetset at 0x7f6644f4de90>,\n",
       "              'admin_name': <recordclass._dataobject.dataslotgetset at 0x7f6644f4deb0>,\n",
       "              '__fields__': ('id',\n",
       "               'name',\n",
       "               'password',\n",
       "               'hostip',\n",
       "               'description',\n",
       "               'source',\n",
       "               'admin_name'),\n",
       "              '__module__': '__main__',\n",
       "              'id': <recordclass._dataobject.dataslotgetset at 0x7f6644f4dd70>,\n",
       "              'name': <recordclass._dataobject.dataslotgetset at 0x7f6644f4da10>,\n",
       "              '__dict__': <attribute '__dict__' of 'TableRow' objects>,\n",
       "              '__weakref__': <attribute '__weakref__' of 'TableRow' objects>,\n",
       "              '__doc__': 'TableRow(id, name, password=None, hostip=None, description=None, source=None, admin_name=None)\\n--\\nCreate class instance',\n",
       "              '__defaults__': {'password': None,\n",
       "               'hostip': None,\n",
       "               'description': None,\n",
       "               'source': None,\n",
       "               'admin_name': None}})"
      ]
     },
     "execution_count": 6,
     "metadata": {},
     "output_type": "execute_result"
    }
   ],
   "source": [
    "TableRow.__dict__"
   ]
  },
  {
   "cell_type": "code",
   "execution_count": null,
   "metadata": {},
   "outputs": [],
   "source": []
  },
  {
   "cell_type": "code",
   "execution_count": null,
   "metadata": {},
   "outputs": [],
   "source": []
  }
 ],
 "metadata": {
  "kernelspec": {
   "display_name": "Python 3",
   "language": "python",
   "name": "python3"
  },
  "language_info": {
   "codemirror_mode": {
    "name": "ipython",
    "version": 3
   },
   "file_extension": ".py",
   "mimetype": "text/x-python",
   "name": "python",
   "nbconvert_exporter": "python",
   "pygments_lexer": "ipython3",
   "version": "3.8.3rc1"
  }
 },
 "nbformat": 4,
 "nbformat_minor": 4
}
