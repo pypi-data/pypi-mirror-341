{
 "cells": [
  {
   "cell_type": "code",
   "execution_count": 1,
   "id": "700091d9-a65c-4b2d-90d6-f359b5be251e",
   "metadata": {},
   "outputs": [],
   "source": [
    "from recordclass import dataobject"
   ]
  },
  {
   "cell_type": "code",
   "execution_count": null,
   "id": "7da547d0-4de2-490a-a4c0-cf048831a71a",
   "metadata": {},
   "outputs": [],
   "source": [
    "class DNode(dataobject, fast_new=True):\n",
    "    __fields__ = 'attr', 'tval', 'left', 'right'\n",
    "    \n",
    "    def is_lead(self):\n",
    "        return False\n",
    "    \n",
    "class DLeaf(dataobject, fast_new=True):\n",
    "    __fields__ = 'val',\n",
    "\n",
    "    def is_leaf(self):\n",
    "        return True\n",
    "    \n",
    "class DTree:\n",
    "    \n",
    "    def __init__(self, root, max_depth=10):\n",
    "        assert isinstance(root, Node)\n",
    "        self.root = root\n",
    "        self.max_depth = \n",
    "        \n",
    "    def predict(self, X):\n",
    "        node = self.root\n",
    "        depth = 0\n",
    "        while 1:\n",
    "            if node.is_leaf:\n",
    "                return node.val\n",
    "            \n",
    "            if depth >= self.max_depth:\n",
    "                raise RuntimeError(f'{depth} >= {self.max_depth}')\n",
    "            \n",
    "            if X[node.attr] <= node.tval:\n",
    "                node = node.left\n",
    "            else:\n",
    "                node = node.right\n",
    "            depth += 1\n"
   ]
  }
 ],
 "metadata": {
  "kernelspec": {
   "display_name": "Python 3",
   "language": "python",
   "name": "python3"
  },
  "language_info": {
   "codemirror_mode": {
    "name": "ipython",
    "version": 3
   },
   "file_extension": ".py",
   "mimetype": "text/x-python",
   "name": "python",
   "nbconvert_exporter": "python",
   "pygments_lexer": "ipython3",
   "version": "3.9.7"
  }
 },
 "nbformat": 4,
 "nbformat_minor": 5
}
