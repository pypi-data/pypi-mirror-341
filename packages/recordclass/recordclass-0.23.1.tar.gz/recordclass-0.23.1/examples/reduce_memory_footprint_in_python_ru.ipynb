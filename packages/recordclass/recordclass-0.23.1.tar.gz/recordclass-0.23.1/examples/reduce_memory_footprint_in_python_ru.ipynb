{
 "cells": [
  {
   "cell_type": "markdown",
   "metadata": {
    "slideshow": {
     "slide_type": "slide"
    }
   },
   "source": [
    "# Python: Объекты занимают в памяти больше места, чем нужно\n",
    "\n",
    "### Заур Шибзухов"
   ]
  },
  {
   "cell_type": "code",
   "execution_count": 1,
   "metadata": {
    "slideshow": {
     "slide_type": "skip"
    }
   },
   "outputs": [],
   "source": [
    "import sys\n",
    "from pprint import pprint\n",
    "import collections\n",
    "import recordclass"
   ]
  },
  {
   "cell_type": "markdown",
   "metadata": {
    "slideshow": {
     "slide_type": "slide"
    }
   },
   "source": [
    "## В чем собственно проблема\n",
    "\n",
    "* Python\n",
    "* Ограниченная память\n",
    "* Большое количество объектов одновременно живущих в памяти\n",
    "\n",
    "> Как уменьшить объем памяти, занимаемой объектами?"
   ]
  },
  {
   "cell_type": "markdown",
   "metadata": {
    "slideshow": {
     "slide_type": "slide"
    }
   },
   "source": [
    "## Dict"
   ]
  },
  {
   "cell_type": "code",
   "execution_count": 2,
   "metadata": {},
   "outputs": [],
   "source": [
    "ob = {'x':1, 'y':2, 'z':3}\n",
    "a = ob['x']"
   ]
  },
  {
   "cell_type": "markdown",
   "metadata": {},
   "source": [
    "С версии 3.6: `Compact Dict` (введен под влиянием `PyPy`)"
   ]
  },
  {
   "cell_type": "markdown",
   "metadata": {
    "slideshow": {
     "slide_type": "subslide"
    }
   },
   "source": [
    "## Размер dict"
   ]
  },
  {
   "cell_type": "code",
   "execution_count": 3,
   "metadata": {
    "slideshow": {
     "slide_type": "-"
    }
   },
   "outputs": [
    {
     "name": "stdout",
     "output_type": "stream",
     "text": [
      "sizeof: 232\n"
     ]
    }
   ],
   "source": [
    "print('sizeof:', sys.getsizeof(ob))"
   ]
  },
  {
   "cell_type": "markdown",
   "metadata": {
    "slideshow": {
     "slide_type": "-"
    }
   },
   "source": [
    "### Довольно большой объем памяти\n",
    "\n",
    "* 1 000 000 экземпляров &rarr; 232 Мб\n",
    "* 10 000 000 экземпляров &rarr; 2320 Мб"
   ]
  },
  {
   "cell_type": "markdown",
   "metadata": {
    "slideshow": {
     "slide_type": "slide"
    }
   },
   "source": [
    "## Регулярный класс"
   ]
  },
  {
   "cell_type": "code",
   "execution_count": 4,
   "metadata": {},
   "outputs": [],
   "source": [
    "class Point:\n",
    "    #\n",
    "    def __init__(self, x, y, z):\n",
    "        self.x = x\n",
    "        self.y = y\n",
    "        self.z = z\n",
    "        \n",
    "ob = Point(1,2,3)\n",
    "a = ob.x"
   ]
  },
  {
   "cell_type": "code",
   "execution_count": 5,
   "metadata": {
    "slideshow": {
     "slide_type": "-"
    }
   },
   "outputs": [
    {
     "name": "stdout",
     "output_type": "stream",
     "text": [
      "Размер: 48 104\n"
     ]
    }
   ],
   "source": [
    "print('Размер:', sys.getsizeof(ob), sys.getsizeof(ob.__dict__))"
   ]
  },
  {
   "cell_type": "markdown",
   "metadata": {},
   "source": [
    "> Словарь экземпляра (\\_\\_dict__) имеет меньший размер по сравнению с обычным словарем. <br/>\n",
    "PEP 412: Key-Sharing Dictionary, Python 3.3+"
   ]
  },
  {
   "cell_type": "markdown",
   "metadata": {
    "slideshow": {
     "slide_type": "subslide"
    }
   },
   "source": [
    "## След экземпляра в памяти\n",
    "\n",
    "`------------------------` <br/>\n",
    "`PyGC_Head        16 байт` <br/>\n",
    "`------------------------` <br/>\n",
    "`PyObject_HEAD    16 байт` <br/>\n",
    "`__weakref__      8  байт` <br/>\n",
    "`__dict__         8  байт` <br/>\n",
    "`------------------------` <br/>\n",
    "**`ВСЕГО:           48 байт`**\n"
   ]
  },
  {
   "cell_type": "markdown",
   "metadata": {
    "slideshow": {
     "slide_type": "-"
    }
   },
   "source": [
    "### Тем не менее след в памяти все еще велик\n",
    "\n",
    "* 1 000 000 экземпляров &rarr; 152 Мб\n",
    "* 10 000 000 экземпляров &rarr; 1520 Мб "
   ]
  },
  {
   "cell_type": "markdown",
   "metadata": {
    "slideshow": {
     "slide_type": "slide"
    }
   },
   "source": [
    "## Регулярный класс + `__slots__`"
   ]
  },
  {
   "cell_type": "code",
   "execution_count": 6,
   "metadata": {
    "slideshow": {
     "slide_type": "-"
    }
   },
   "outputs": [],
   "source": [
    "class Point:\n",
    "    __slots__ = 'x', 'y', 'z'\n",
    "        \n",
    "    def __init__(self, x, y, z):\n",
    "        self.x = x\n",
    "        self.y = y\n",
    "        self.z = z"
   ]
  },
  {
   "cell_type": "code",
   "execution_count": 7,
   "metadata": {
    "slideshow": {
     "slide_type": "subslide"
    }
   },
   "outputs": [
    {
     "name": "stdout",
     "output_type": "stream",
     "text": [
      "Размер: 56\n",
      "Есть __dict__? False\n",
      "Есть __weakref__? False\n"
     ]
    }
   ],
   "source": [
    "ob = Point(1,2,3)\n",
    "print('Размер:', sys.getsizeof(ob))\n",
    "print('Есть __dict__?', hasattr(ob, '__dict__'))\n",
    "print('Есть __weakref__?', hasattr(ob, '__weakref__'))"
   ]
  },
  {
   "cell_type": "markdown",
   "metadata": {
    "slideshow": {
     "slide_type": "subslide"
    }
   },
   "source": [
    "## Структура экземпляра\n",
    "\n",
    "`------------------------` <br/>\n",
    "`PyGC_Head        16 байт` <br/>\n",
    "`------------------------` <br/>\n",
    "`PyObject_HEAD    16 байт` <br/>\n",
    "`x                8  байт` <br/>\n",
    "`y                8  байт` <br/>\n",
    "`z                8  байт` <br/>\n",
    "`------------------------` <br/>\n",
    "**`ВСЕГО:           56 байт`**\n"
   ]
  },
  {
   "cell_type": "markdown",
   "metadata": {},
   "source": [
    "### Компактный след в памяти\n",
    "\n",
    "* 1 000 000 экземпляров &rarr; 56 Мб\n",
    "* 10 000 000 экземпляров &rarr; 560 Мб"
   ]
  },
  {
   "cell_type": "markdown",
   "metadata": {
    "slideshow": {
     "slide_type": "subslide"
    }
   },
   "source": [
    "## За кулисами"
   ]
  },
  {
   "cell_type": "code",
   "execution_count": 8,
   "metadata": {
    "slideshow": {
     "slide_type": "-"
    }
   },
   "outputs": [
    {
     "name": "stdout",
     "output_type": "stream",
     "text": [
      "mappingproxy({'__doc__': None,\n",
      "              '__init__': <function Point.__init__ at 0x7f452d08dca0>,\n",
      "              '__module__': '__main__',\n",
      "              '__slots__': ('x', 'y', 'z'),\n",
      "              'x': <member 'x' of 'Point' objects>,\n",
      "              'y': <member 'y' of 'Point' objects>,\n",
      "              'z': <member 'z' of 'Point' objects>})\n"
     ]
    }
   ],
   "source": [
    "pprint(Point.__dict__)"
   ]
  },
  {
   "cell_type": "markdown",
   "metadata": {
    "slideshow": {
     "slide_type": "-"
    }
   },
   "source": [
    "`x`, `y`, `z` в `Point.__dict__` специальные дескрипторы"
   ]
  },
  {
   "cell_type": "markdown",
   "metadata": {
    "slideshow": {
     "slide_type": "slide"
    }
   },
   "source": [
    "## Tuple\n",
    "> По существу, это запись, но без имен полей. "
   ]
  },
  {
   "cell_type": "markdown",
   "metadata": {
    "slideshow": {
     "slide_type": "-"
    }
   },
   "source": [
    "При этом:\n",
    "\n",
    "* доступ только по индексам. \n",
    "\n",
    "* доступ только для чтения."
   ]
  },
  {
   "cell_type": "code",
   "execution_count": 9,
   "metadata": {
    "slideshow": {
     "slide_type": "-"
    }
   },
   "outputs": [],
   "source": [
    "ob = (1,2,3)\n",
    "x, y, z = ob[0], ob[1], ob[2]"
   ]
  },
  {
   "cell_type": "code",
   "execution_count": 10,
   "metadata": {
    "slideshow": {
     "slide_type": "-"
    }
   },
   "outputs": [
    {
     "name": "stdout",
     "output_type": "stream",
     "text": [
      "Размер: 64\n"
     ]
    }
   ],
   "source": [
    "print(\"Размер:\", sys.getsizeof(ob))"
   ]
  },
  {
   "cell_type": "markdown",
   "metadata": {
    "slideshow": {
     "slide_type": "subslide"
    }
   },
   "source": [
    "## Структура экземпляра\n",
    "\n",
    "`------------------------` <br/>\n",
    "`PyGC_Head        16 байт` <br/>\n",
    "`------------------------` <br/>\n",
    "`PyObject_HEAD    16 байт` <br/>\n",
    "`ob_size          8  байт` <br/>\n",
    "`[0]              8  байт` <br/>\n",
    "`[1]              8  байт` <br/>\n",
    "`[2]              8  байт` <br/>\n",
    "`------------------------` <br/>\n",
    "**`ВСЕГО:           64 байт`**\n",
    "\n",
    "### Компактный след в памяти\n",
    "\n",
    "#### Но менее компактный, чем для регулярного класса со \\_\\_slots__\n",
    "\n",
    "* 1 000 000 экземпляров &rarr; 64 Мб\n",
    "* 10 000 000 экземпляров &rarr; 640 Мб"
   ]
  },
  {
   "cell_type": "markdown",
   "metadata": {
    "slideshow": {
     "slide_type": "slide"
    }
   },
   "source": [
    "## Named Tuples\n",
    "\n",
    "> Подкласс tuple с дескрипторами для доступа к элементам по имени"
   ]
  },
  {
   "cell_type": "code",
   "execution_count": 11,
   "metadata": {
    "slideshow": {
     "slide_type": "-"
    }
   },
   "outputs": [],
   "source": [
    "Point = collections.namedtuple(\"Point\", \"x y z\")\n",
    "ob = Point(1,2,3)\n",
    "x = ob.x\n",
    "y = ob[1]"
   ]
  },
  {
   "cell_type": "markdown",
   "metadata": {
    "slideshow": {
     "slide_type": "subslide"
    }
   },
   "source": [
    "## Структура экземпляра\n",
    "\n",
    "`------------------------` <br/>\n",
    "`PyGC_Head        16 байт` <br/>\n",
    "`------------------------` <br/>\n",
    "`PyObject_HEAD    16 байт` <br/>\n",
    "`ob_size          8  байт` <br/>\n",
    "`x                8  байт` <br/>\n",
    "`y                8  байт` <br/>\n",
    "`z                8  байт` <br/>\n",
    "`------------------------` <br/>\n",
    "**`ВСЕГО:           64 байт`**\n"
   ]
  },
  {
   "cell_type": "markdown",
   "metadata": {
    "slideshow": {
     "slide_type": "subslide"
    }
   },
   "source": [
    "## За кулисами"
   ]
  },
  {
   "cell_type": "code",
   "execution_count": 12,
   "metadata": {},
   "outputs": [
    {
     "name": "stdout",
     "output_type": "stream",
     "text": [
      "mappingproxy({'__doc__': 'Point(x, y, z)',\n",
      "              '__getnewargs__': <function Point.__getnewargs__ at 0x7f452c8701f0>,\n",
      "              '__module__': '__main__',\n",
      "              '__new__': <staticmethod object at 0x7f452c873040>,\n",
      "              '__repr__': <function Point.__repr__ at 0x7f452c8700d0>,\n",
      "              '__slots__': (),\n",
      "              '_asdict': <function Point._asdict at 0x7f452c870160>,\n",
      "              '_field_defaults': {},\n",
      "              '_fields': ('x', 'y', 'z'),\n",
      "              '_fields_defaults': {},\n",
      "              '_make': <classmethod object at 0x7f452c8730d0>,\n",
      "              '_replace': <function Point._replace at 0x7f452c85cc10>,\n",
      "              'x': <_collections._tuplegetter object at 0x7f452c8730a0>,\n",
      "              'y': <_collections._tuplegetter object at 0x7f452c873070>,\n",
      "              'z': <_collections._tuplegetter object at 0x7f452c873130>})\n"
     ]
    }
   ],
   "source": [
    "pprint(Point.__dict__)"
   ]
  },
  {
   "cell_type": "markdown",
   "metadata": {
    "slideshow": {
     "slide_type": "slide"
    }
   },
   "source": [
    "## Mutable Tuple\n",
    "\n",
    "> Мутируемый вариант namedtuple"
   ]
  },
  {
   "cell_type": "markdown",
   "metadata": {},
   "source": [
    "* Естественный путь это реализовать его по примеру `namedtuple` на базе мутируемого вариант  `tuple`.\n",
    "* Однако в Python нет встроенного мутируемого варианта `tuple`.\n",
    "* В библиотеке **recordclass** создан тип `mutabletuple` &ndash; мутируемый вариант `tuple`.\n",
    "  * `mutabletuple`  идентичен по структуре `tuple`\n",
    "  * не имеет `PyGC_Head`.\n"
   ]
  },
  {
   "cell_type": "code",
   "execution_count": 13,
   "metadata": {
    "slideshow": {
     "slide_type": "subslide"
    }
   },
   "outputs": [
    {
     "name": "stdout",
     "output_type": "stream",
     "text": [
      "mutabletuple(1, 2, 3)\n",
      "1 mutabletuple(2, 3)\n",
      "Размеры: mutabletuple: 48 tuple: 64\n"
     ]
    }
   ],
   "source": [
    "mt = recordclass.mutabletuple(1,2,3)\n",
    "print(mt)\n",
    "print(mt[0], mt[1:])\n",
    "print('Размеры:', 'mutabletuple:', sys.getsizeof(mt), 'tuple:', sys.getsizeof((1,2,3)))"
   ]
  },
  {
   "cell_type": "markdown",
   "metadata": {
    "slideshow": {
     "slide_type": "subslide"
    }
   },
   "source": [
    "## След экземпляра в памяти\n",
    "\n",
    "`------------------------` <br/>\n",
    "`PyObject_HEAD    16 байт` <br/>\n",
    "`ob_size          8  байт` <br/>\n",
    "`[0]              8  байт` <br/>\n",
    "`[1]              8  байт` <br/>\n",
    "`[2]              8  байт` <br/>\n",
    "`------------------------` <br/>\n",
    "**`ВСЕГО:           40 байт`**\n"
   ]
  },
  {
   "cell_type": "markdown",
   "metadata": {
    "slideshow": {
     "slide_type": "slide"
    }
   },
   "source": [
    "## Recordclass: мутируемый аналог namedtuple \n",
    "\n",
    "* Фабричная функция recordclass генерирует подкласс `mutabletuple` со специальными дескрипторами для доступа к полям по имени.\n",
    "* `recordclass` API идентичен `namedtuple` API.\n",
    "* Экземпляры классов, сгенерированных при помощи функции `recordclass` имеют след в памяти, меньший чем  сгенерированные при помощи `namedtuple` и экземпляры классов со `__slots__`.\n",
    "  \n",
    "  * Используется только **механизм подсчета ссылок**\n",
    "  * **Циклическая сборка мусора** не поддерживается "
   ]
  },
  {
   "cell_type": "code",
   "execution_count": 14,
   "metadata": {
    "slideshow": {
     "slide_type": "subslide"
    }
   },
   "outputs": [
    {
     "name": "stdout",
     "output_type": "stream",
     "text": [
      "Point(x=1, y=2, z=3)\n",
      "Размер: 48\n"
     ]
    }
   ],
   "source": [
    "Point = recordclass.recordclass(\"Point\", \"x y z\")\n",
    "ob = Point(1,2,3)\n",
    "print(ob)\n",
    "print(\"Размер:\", sys.getsizeof(ob))"
   ]
  },
  {
   "cell_type": "markdown",
   "metadata": {
    "slideshow": {
     "slide_type": "subslide"
    }
   },
   "source": [
    "## След экземпляра в памяти\n",
    "\n",
    "`------------------------` <br/>\n",
    "`PyObject_HEAD    16 байт` <br/>\n",
    "`ob_size          8  байт` <br/>\n",
    "`x                8  байт` <br/>\n",
    "`y                8  байт` <br/>\n",
    "`z                8  байт` <br/>\n",
    "`------------------------` <br/>\n",
    "**`ВСЕГО:           48 байт`**\n"
   ]
  },
  {
   "cell_type": "markdown",
   "metadata": {},
   "source": [
    "> След в памяти уменьшается на размер `PyGC_Head`."
   ]
  },
  {
   "cell_type": "markdown",
   "metadata": {
    "slideshow": {
     "slide_type": "subslide"
    }
   },
   "source": [
    "## За кулисами"
   ]
  },
  {
   "cell_type": "code",
   "execution_count": 15,
   "metadata": {},
   "outputs": [
    {
     "name": "stdout",
     "output_type": "stream",
     "text": [
      "mappingproxy({'__dict__': <property object at 0x7f452c872d60>,\n",
      "              '__doc__': 'Point(x, y, z)',\n",
      "              '__fields__': ('x', 'y', 'z'),\n",
      "              '__getnewargs__': <function Point.__getnewargs__ at 0x7f452c870280>,\n",
      "              '__getstate__': <function Point.__getstate__ at 0x7f452c87b040>,\n",
      "              '__module__': '__main__',\n",
      "              '__new__': <staticmethod object at 0x7f452c873910>,\n",
      "              '__reduce__': <function Point.__reduce__ at 0x7f452c87b0d0>,\n",
      "              '__repr__': <function Point.__repr__ at 0x7f452c8708b0>,\n",
      "              '__slots__': (),\n",
      "              '_asdict': <function Point._asdict at 0x7f452c870ca0>,\n",
      "              '_make': <classmethod object at 0x7f452c873100>,\n",
      "              '_replace': <function Point._replace at 0x7f452c870820>,\n",
      "              'x': <recordclass.mutabletuple.mutabletuple_itemgetset object at 0x7f452d08ae30>,\n",
      "              'y': <recordclass.mutabletuple.mutabletuple_itemgetset object at 0x7f452d08ae70>,\n",
      "              'z': <recordclass.mutabletuple.mutabletuple_itemgetset object at 0x7f452d08aef0>})\n"
     ]
    }
   ],
   "source": [
    "pprint(Point.__dict__)"
   ]
  },
  {
   "cell_type": "markdown",
   "metadata": {
    "slideshow": {
     "slide_type": "subslide"
    }
   },
   "source": [
    "## Альтернативный форма"
   ]
  },
  {
   "cell_type": "code",
   "execution_count": 16,
   "metadata": {},
   "outputs": [
    {
     "name": "stdout",
     "output_type": "stream",
     "text": [
      "{'x': <class 'int'>, 'y': <class 'int'>, 'z': <class 'int'>}\n",
      "Point(x=1, y=2, z=3)\n",
      "Размер: 48\n"
     ]
    }
   ],
   "source": [
    "class Point(recordclass.RecordClass):\n",
    "    x:int\n",
    "    y:int\n",
    "    z:int\n",
    "        \n",
    "ob = Point(1,2,3)\n",
    "print(Point.__annotations__)\n",
    "print(ob)\n",
    "print(\"Размер:\", sys.getsizeof(ob))"
   ]
  },
  {
   "cell_type": "markdown",
   "metadata": {
    "slideshow": {
     "slide_type": "slide"
    }
   },
   "source": [
    "## Dataobject"
   ]
  },
  {
   "cell_type": "code",
   "execution_count": 17,
   "metadata": {},
   "outputs": [
    {
     "name": "stdout",
     "output_type": "stream",
     "text": [
      "Point(x=1, y=2, z=3)\n",
      "Размер: 40\n"
     ]
    }
   ],
   "source": [
    "class Point(recordclass.dataobject):\n",
    "    x:int\n",
    "    y:int\n",
    "    z:int\n",
    "        \n",
    "ob = Point(1,2,3)\n",
    "print(ob)\n",
    "print(\"Размер:\", sys.getsizeof(ob))"
   ]
  },
  {
   "cell_type": "markdown",
   "metadata": {
    "slideshow": {
     "slide_type": "subslide"
    }
   },
   "source": [
    "## След экземпляра в памяти\n",
    "\n",
    "`------------------------` <br/>\n",
    "`PyObject_HEAD    16 байт` <br/>\n",
    "`x                8  байт` <br/>\n",
    "`y                8  байт` <br/>\n",
    "`z                8  байт` <br/>\n",
    "`------------------------` <br/>\n",
    "**`ВСЕГО:           40 байт`**\n"
   ]
  },
  {
   "cell_type": "markdown",
   "metadata": {
    "slideshow": {
     "slide_type": "subslide"
    }
   },
   "source": [
    "## Альтернативный форма"
   ]
  },
  {
   "cell_type": "code",
   "execution_count": 18,
   "metadata": {},
   "outputs": [
    {
     "name": "stdout",
     "output_type": "stream",
     "text": [
      "{'x': <class 'int'>, 'y': <class 'int'>, 'z': <class 'int'>}\n",
      "Point(x=1, y=2, z=3)\n",
      "Размер: 40\n"
     ]
    }
   ],
   "source": [
    "Point = recordclass.make_dataclass(\"Point\", {\"x\":int, \"y\":int, \"z\":int})\n",
    "print(Point.__annotations__)\n",
    "ob = Point(1,2,3)\n",
    "print(ob)\n",
    "print(\"Размер:\", sys.getsizeof(ob))"
   ]
  },
  {
   "cell_type": "markdown",
   "metadata": {
    "slideshow": {
     "slide_type": "slide"
    }
   },
   "source": [
    "## Dataarray"
   ]
  },
  {
   "cell_type": "code",
   "execution_count": 19,
   "metadata": {},
   "outputs": [
    {
     "name": "stdout",
     "output_type": "stream",
     "text": [
      "Point(1, 2, 3)\n",
      "Размер: 40\n"
     ]
    }
   ],
   "source": [
    "Point = recordclass.make_arrayclass(\"Point\", 3)\n",
    "ob = Point(1,2,3)\n",
    "print(ob)\n",
    "print(\"Размер:\", sys.getsizeof(ob))"
   ]
  },
  {
   "cell_type": "markdown",
   "metadata": {
    "slideshow": {
     "slide_type": "slide"
    }
   },
   "source": [
    "## Классы с `Reference Counting` и без `Cyclic Garbage Collection`"
   ]
  },
  {
   "cell_type": "markdown",
   "metadata": {},
   "source": [
    "> В начале Python поддерживал только механизм `Reference Counting`\n",
    "\n",
    "> `Cyclic Garbage Collection` вместе с модулем `gc` был добавлен позже, как дополнительная возможность.\n",
    "\n",
    "> Скоро `CGC` был распространен на все пользовательские классы, определяемые при помощи `class`"
   ]
  },
  {
   "cell_type": "markdown",
   "metadata": {
    "slideshow": {
     "slide_type": "subslide"
    }
   },
   "source": [
    "> CGC как универсальный механизм позволил разрешить основные проблемы, связанные с зацикливанием ссылок:"
   ]
  },
  {
   "cell_type": "code",
   "execution_count": 20,
   "metadata": {},
   "outputs": [
    {
     "name": "stdout",
     "output_type": "stream",
     "text": [
      "[1, 2, 3, [...]]\n"
     ]
    }
   ],
   "source": [
    "lst = [1,2,3]\n",
    "lst.append(lst)\n",
    "print(lst)"
   ]
  },
  {
   "cell_type": "markdown",
   "metadata": {},
   "source": [
    "> CGC увеличил размер каждого экземпляра на величину `PyGC_Head`:\n",
    "\n",
    "* 16 байт в Python 3.8\n",
    "* 32-64 байт в Python < 3.8\n"
   ]
  },
  {
   "cell_type": "markdown",
   "metadata": {
    "slideshow": {
     "slide_type": "slide"
    }
   },
   "source": [
    "## В каких случаях можно было бы отказаться от CGC?\n",
    "\n",
    "#### Типичный пример это классы, представляющие структуры данных, в которых по контракту не предусмотрена возможность циклических ссылок"
   ]
  },
  {
   "cell_type": "code",
   "execution_count": 21,
   "metadata": {},
   "outputs": [],
   "source": [
    "class Address:\n",
    "    town: str\n",
    "    street: str\n",
    "\n",
    "class Person:\n",
    "    name: str\n",
    "    address: Address"
   ]
  },
  {
   "cell_type": "markdown",
   "metadata": {},
   "source": [
    "> Возникновение циклических ссылок в таких случаях &ndash; результат ошибки"
   ]
  },
  {
   "cell_type": "markdown",
   "metadata": {
    "slideshow": {
     "slide_type": "slide"
    }
   },
   "source": [
    "# Спасибо за внимание. \n",
    "\n",
    "# Вопросы?"
   ]
  }
 ],
 "metadata": {
  "celltoolbar": "Slideshow",
  "kernelspec": {
   "display_name": "Python 3",
   "language": "python",
   "name": "python3"
  },
  "language_info": {
   "codemirror_mode": {
    "name": "ipython",
    "version": 3
   },
   "file_extension": ".py",
   "mimetype": "text/x-python",
   "name": "python",
   "nbconvert_exporter": "python",
   "pygments_lexer": "ipython3",
   "version": "3.8.3"
  }
 },
 "nbformat": 4,
 "nbformat_minor": 4
}
