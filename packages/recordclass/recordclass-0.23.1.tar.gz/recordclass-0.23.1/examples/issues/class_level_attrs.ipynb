{
 "cells": [
  {
   "cell_type": "code",
   "execution_count": 1,
   "id": "1bc9a092-8f50-4819-a235-eca575129f37",
   "metadata": {
    "tags": []
   },
   "outputs": [],
   "source": [
    "from recordclass import dataobject\n",
    "from typing import ClassVar"
   ]
  },
  {
   "cell_type": "code",
   "execution_count": null,
   "id": "b7d1ab32-253f-4bac-8a80-bdff21c5fada",
   "metadata": {
    "tags": []
   },
   "outputs": [],
   "source": [
    "class A(dataobject):\n",
    "    x:int\n",
    "    y:int\n",
    "    c:ClassVar[int]"
   ]
  },
  {
   "cell_type": "code",
   "execution_count": null,
   "id": "2c3f3a67-ef03-451d-b759-4bb4bc2d1767",
   "metadata": {
    "tags": []
   },
   "outputs": [],
   "source": [
    "a=A(1,2)"
   ]
  },
  {
   "cell_type": "code",
   "execution_count": null,
   "id": "d387cb2b-c8f9-4c5a-833b-29136fda11c4",
   "metadata": {
    "tags": []
   },
   "outputs": [],
   "source": [
    "A.c = 1"
   ]
  },
  {
   "cell_type": "code",
   "execution_count": null,
   "id": "3571545a-8d56-46d0-8499-75663d65ab02",
   "metadata": {
    "tags": []
   },
   "outputs": [],
   "source": [
    "a.c"
   ]
  },
  {
   "cell_type": "code",
   "execution_count": null,
   "id": "b2a520a9-32f1-4c5f-b20a-f4a37db961d9",
   "metadata": {
    "tags": []
   },
   "outputs": [],
   "source": [
    "A.__dict__"
   ]
  },
  {
   "cell_type": "code",
   "execution_count": null,
   "id": "03fc0a1f-f842-4134-a12f-5115169171be",
   "metadata": {
    "tags": []
   },
   "outputs": [],
   "source": [
    "a"
   ]
  },
  {
   "cell_type": "code",
   "execution_count": null,
   "id": "fcfc49db-f78c-47c5-9168-60f5ec66619a",
   "metadata": {
    "tags": []
   },
   "outputs": [],
   "source": [
    "a.c = 3"
   ]
  },
  {
   "cell_type": "code",
   "execution_count": null,
   "id": "07708c29-055a-4ec5-94b8-09c80b507a62",
   "metadata": {
    "tags": []
   },
   "outputs": [],
   "source": [
    "A.c = 3"
   ]
  },
  {
   "cell_type": "code",
   "execution_count": null,
   "id": "7acd502c-27ce-46f5-9322-68841daa4d14",
   "metadata": {
    "tags": []
   },
   "outputs": [],
   "source": [
    "A.__dict__"
   ]
  },
  {
   "cell_type": "code",
   "execution_count": null,
   "id": "98467384-f725-4afc-9681-418721c76ec5",
   "metadata": {
    "tags": []
   },
   "outputs": [],
   "source": [
    "class B:\n",
    "    pass\n",
    "\n",
    "b=B()\n",
    "B.c=1\n",
    "b.x=1\n",
    "b.y=2\n"
   ]
  },
  {
   "cell_type": "code",
   "execution_count": null,
   "id": "e8835227-3950-4cce-a485-302b603d4c4f",
   "metadata": {
    "tags": []
   },
   "outputs": [],
   "source": [
    "b.__dict__"
   ]
  },
  {
   "cell_type": "code",
   "execution_count": null,
   "id": "94abdd61-b772-4d6f-8254-a529bd0b5208",
   "metadata": {
    "tags": []
   },
   "outputs": [],
   "source": [
    "b.c"
   ]
  },
  {
   "cell_type": "code",
   "execution_count": null,
   "id": "40cad651-8ed1-4ade-a8f8-24dc51cefa14",
   "metadata": {
    "tags": []
   },
   "outputs": [],
   "source": [
    "b.c = 3"
   ]
  },
  {
   "cell_type": "code",
   "execution_count": null,
   "id": "86201940-e0b6-49db-81f8-f8d640c59283",
   "metadata": {
    "tags": []
   },
   "outputs": [],
   "source": [
    "b.__dict__"
   ]
  },
  {
   "cell_type": "code",
   "execution_count": null,
   "id": "c9952e26-6ffc-4f5d-a467-107e97b51b54",
   "metadata": {
    "tags": []
   },
   "outputs": [],
   "source": [
    "B.__dict__"
   ]
  },
  {
   "cell_type": "code",
   "execution_count": 2,
   "id": "8b0d41fa-cac9-4f7e-ba90-8e824bfe0a00",
   "metadata": {},
   "outputs": [],
   "source": [
    "class A(dataobject):\n",
    "    x:int\n",
    "    y:int=2\n",
    "    \n",
    "class B(dataobject):\n",
    "    x:int\n",
    "    y:int=2\n",
    "    \n",
    "    def __init__(self, x, y=2):\n",
    "        pass\n",
    "\n",
    "class C(B):\n",
    "    def __init__(self, x, y=3):\n",
    "        self.x = x\n",
    "        self.y = y*y"
   ]
  },
  {
   "cell_type": "code",
   "execution_count": 3,
   "id": "2ec73607-bf06-42aa-b3e7-2511b6036085",
   "metadata": {
    "tags": []
   },
   "outputs": [
    {
     "name": "stdout",
     "output_type": "stream",
     "text": [
      "<built-in method __new__ of datatype object at 0x7f0a265af9e0> <built-in method __new__ of datatype object at 0x7f0a265af9e0>\n"
     ]
    }
   ],
   "source": [
    "print(A.__new__, dataobject.__new__)"
   ]
  },
  {
   "cell_type": "code",
   "execution_count": 4,
   "id": "637ba617-40f0-4c91-ae8e-c6597c847901",
   "metadata": {
    "tags": []
   },
   "outputs": [
    {
     "name": "stdout",
     "output_type": "stream",
     "text": [
      "<built-in method __new__ of datatype object at 0x7f0a265af9e0> <built-in method __new__ of datatype object at 0x7f0a265af9e0>\n"
     ]
    }
   ],
   "source": [
    "print(B.__new__, dataobject.__new__)"
   ]
  },
  {
   "cell_type": "code",
   "execution_count": 5,
   "id": "eab1a3d8-d352-4f61-8421-135ef6094636",
   "metadata": {
    "tags": []
   },
   "outputs": [
    {
     "name": "stdout",
     "output_type": "stream",
     "text": [
      "A(x=1, y=2)\n"
     ]
    }
   ],
   "source": [
    "a=A(1)\n",
    "print(a)"
   ]
  },
  {
   "cell_type": "code",
   "execution_count": 6,
   "id": "47f6b735-158f-416a-81bd-76ebbff9be8a",
   "metadata": {
    "tags": []
   },
   "outputs": [
    {
     "name": "stdout",
     "output_type": "stream",
     "text": [
      "B(x=None, y=2)\n"
     ]
    }
   ],
   "source": [
    "b=B(1)\n",
    "print(b)"
   ]
  },
  {
   "cell_type": "code",
   "execution_count": 7,
   "id": "0c431b14-bb03-49b2-a698-8f203161f89f",
   "metadata": {
    "tags": []
   },
   "outputs": [
    {
     "name": "stdout",
     "output_type": "stream",
     "text": [
      "C(x=1, y=9)\n"
     ]
    }
   ],
   "source": [
    "c=C(1)\n",
    "print(c)"
   ]
  },
  {
   "cell_type": "code",
   "execution_count": null,
   "id": "52605adb-dde8-4998-b5bb-60d05f2c9452",
   "metadata": {},
   "outputs": [],
   "source": []
  },
  {
   "cell_type": "code",
   "execution_count": null,
   "id": "43ae841d-bd46-4879-8cef-fc7603170360",
   "metadata": {},
   "outputs": [],
   "source": []
  }
 ],
 "metadata": {
  "kernelspec": {
   "display_name": "Python 3 (ipykernel)",
   "language": "python",
   "name": "python3"
  },
  "language_info": {
   "codemirror_mode": {
    "name": "ipython",
    "version": 3
   },
   "file_extension": ".py",
   "mimetype": "text/x-python",
   "name": "python",
   "nbconvert_exporter": "python",
   "pygments_lexer": "ipython3",
   "version": "3.11.2"
  }
 },
 "nbformat": 4,
 "nbformat_minor": 5
}
