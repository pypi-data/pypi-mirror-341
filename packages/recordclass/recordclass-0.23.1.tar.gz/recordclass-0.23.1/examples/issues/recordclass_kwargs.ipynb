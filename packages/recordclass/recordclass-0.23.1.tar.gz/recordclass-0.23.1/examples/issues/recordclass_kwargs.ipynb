{
 "cells": [
  {
   "cell_type": "code",
   "execution_count": 1,
   "id": "f370dd6c-3cec-4a77-8010-5a52cd3c7b1e",
   "metadata": {},
   "outputs": [
    {
     "name": "stdout",
     "output_type": "stream",
     "text": [
      "{}\n"
     ]
    }
   ],
   "source": [
    "from recordclass import recordclass"
   ]
  },
  {
   "cell_type": "code",
   "execution_count": 2,
   "id": "232a5453-42d7-4098-9c97-e4ceb7d816d7",
   "metadata": {},
   "outputs": [
    {
     "name": "stdout",
     "output_type": "stream",
     "text": [
      "{'institution': {}, 'title': {}, 'award': {}, 'hegis': {}, 'first_registration_date': {}, 'last_registration_action': {}, 'tap': {}, 'apts': {}, 'vvta': {}, 'certificate_license': {}, 'accreditation': {}}\n"
     ]
    }
   ],
   "source": [
    "_items = ['institution',\n",
    "          'title',\n",
    "          'award',\n",
    "          'hegis',\n",
    "          'first_registration_date',\n",
    "          'last_registration_action',\n",
    "          'tap', 'apts', 'vvta',\n",
    "          'certificate_license',\n",
    "          'accreditation']\n",
    "_variant_info = recordclass('Variant_Info', _items)"
   ]
  },
  {
   "cell_type": "code",
   "execution_count": 3,
   "id": "b41ff1d0-89b2-4c20-a7b9-7e3c7bb59792",
   "metadata": {},
   "outputs": [],
   "source": [
    "inst = _variant_info._make([None] * len(_items))\n",
    "inst.title = 'Accountancy'\n",
    "# setattr(inst, 'title', 'Accountancy')"
   ]
  },
  {
   "cell_type": "code",
   "execution_count": 4,
   "id": "2aabb98c-0b3d-4cf4-aa1d-0da261d2a891",
   "metadata": {},
   "outputs": [
    {
     "data": {
      "text/plain": [
       "Variant_Info(institution=None, title='Accountancy', award=None, hegis=None, first_registration_date=None, last_registration_action=None, tap=None, apts=None, vvta=None, certificate_license=None, accreditation=None)"
      ]
     },
     "execution_count": 4,
     "metadata": {},
     "output_type": "execute_result"
    }
   ],
   "source": [
    "inst"
   ]
  },
  {
   "cell_type": "code",
   "execution_count": null,
   "id": "f1eb5452-a658-496e-a9a8-ef830a881988",
   "metadata": {},
   "outputs": [],
   "source": []
  }
 ],
 "metadata": {
  "kernelspec": {
   "display_name": "Python 3 (ipykernel)",
   "language": "python",
   "name": "python3"
  },
  "language_info": {
   "codemirror_mode": {
    "name": "ipython",
    "version": 3
   },
   "file_extension": ".py",
   "mimetype": "text/x-python",
   "name": "python",
   "nbconvert_exporter": "python",
   "pygments_lexer": "ipython3",
   "version": "3.11.2"
  }
 },
 "nbformat": 4,
 "nbformat_minor": 5
}
