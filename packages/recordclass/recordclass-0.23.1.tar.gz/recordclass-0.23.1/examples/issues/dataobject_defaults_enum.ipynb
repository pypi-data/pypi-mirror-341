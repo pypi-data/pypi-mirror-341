{
 "cells": [
  {
   "cell_type": "code",
   "execution_count": 1,
   "id": "8c5b8149-8f5e-4b1e-bb8b-352de14f709b",
   "metadata": {},
   "outputs": [],
   "source": [
    "from recordclass import dataobject\n",
    "from enum import Enum, auto"
   ]
  },
  {
   "cell_type": "code",
   "execution_count": 14,
   "id": "05f9f386-9484-4118-aec6-3900b4110c59",
   "metadata": {},
   "outputs": [],
   "source": [
    "class Color(Enum):\n",
    "    RED = auto()\n",
    "\n",
    "class Point(dataobject):\n",
    "    x: float\n",
    "    y: float\n",
    "    color: Color = Color.RED\n"
   ]
  },
  {
   "cell_type": "code",
   "execution_count": 15,
   "id": "ff7f45af-a32e-470e-94e2-10a77d3e9e44",
   "metadata": {},
   "outputs": [],
   "source": [
    "pt = Point(1,2)"
   ]
  },
  {
   "cell_type": "code",
   "execution_count": 16,
   "id": "aebd673d-bb9a-41b1-b816-a4d93b42050c",
   "metadata": {},
   "outputs": [
    {
     "data": {
      "text/plain": [
       "Point(x=1, y=2, color=<Color.RED: 1>)"
      ]
     },
     "execution_count": 16,
     "metadata": {},
     "output_type": "execute_result"
    }
   ],
   "source": [
    "pt"
   ]
  },
  {
   "cell_type": "code",
   "execution_count": 17,
   "id": "144ba683-6aa0-497b-a7b4-dec48ecdb391",
   "metadata": {},
   "outputs": [
    {
     "data": {
      "text/plain": [
       "<Color.RED: 1>"
      ]
     },
     "execution_count": 17,
     "metadata": {},
     "output_type": "execute_result"
    }
   ],
   "source": [
    "pt.color"
   ]
  },
  {
   "cell_type": "code",
   "execution_count": 18,
   "id": "f371996d-4d60-4b10-91e5-ba0dc38e1aa4",
   "metadata": {},
   "outputs": [
    {
     "data": {
      "text/plain": [
       "<enum 'Color'>"
      ]
     },
     "execution_count": 18,
     "metadata": {},
     "output_type": "execute_result"
    }
   ],
   "source": [
    "type(pt.color)"
   ]
  },
  {
   "cell_type": "code",
   "execution_count": 13,
   "id": "7d117720-4d76-41ae-bdcd-4c7245b80b2f",
   "metadata": {},
   "outputs": [
    {
     "data": {
      "text/plain": [
       "(<Color.RED: 1>,)"
      ]
     },
     "execution_count": 13,
     "metadata": {},
     "output_type": "execute_result"
    }
   ],
   "source": [
    "Point.__new__.__defaults__"
   ]
  },
  {
   "cell_type": "code",
   "execution_count": null,
   "id": "b3ce94be-e14b-4216-b1eb-83912e6637f1",
   "metadata": {},
   "outputs": [],
   "source": [
    "Point.__doc__"
   ]
  },
  {
   "cell_type": "code",
   "execution_count": null,
   "id": "6e1db0b4-9df3-4564-96a9-f845c6553b5e",
   "metadata": {},
   "outputs": [],
   "source": [
    "from typing import ClassVar"
   ]
  },
  {
   "cell_type": "code",
   "execution_count": null,
   "id": "a6e394f3-f37f-409d-a730-9670ac023884",
   "metadata": {},
   "outputs": [],
   "source": [
    "class A(dataobject):\n",
    "    x:ClassVar[int]"
   ]
  },
  {
   "cell_type": "code",
   "execution_count": null,
   "id": "698e8444-29b4-435f-9497-5f6b885fc2fa",
   "metadata": {},
   "outputs": [],
   "source": [
    "a=A(1)"
   ]
  },
  {
   "cell_type": "code",
   "execution_count": null,
   "id": "5c66b497-4a56-495a-b966-8bd9a67b0b6d",
   "metadata": {},
   "outputs": [],
   "source": [
    "a"
   ]
  },
  {
   "cell_type": "code",
   "execution_count": null,
   "id": "7fb34128-f2df-4d33-941d-240c24f396a6",
   "metadata": {},
   "outputs": [],
   "source": []
  },
  {
   "cell_type": "code",
   "execution_count": null,
   "id": "fbbe1bd3-5a8c-45e2-a358-6c54667c44bc",
   "metadata": {},
   "outputs": [],
   "source": []
  }
 ],
 "metadata": {
  "kernelspec": {
   "display_name": "Python 3 (ipykernel)",
   "language": "python",
   "name": "python3"
  },
  "language_info": {
   "codemirror_mode": {
    "name": "ipython",
    "version": 3
   },
   "file_extension": ".py",
   "mimetype": "text/x-python",
   "name": "python",
   "nbconvert_exporter": "python",
   "pygments_lexer": "ipython3",
   "version": "3.11.2"
  }
 },
 "nbformat": 4,
 "nbformat_minor": 5
}
