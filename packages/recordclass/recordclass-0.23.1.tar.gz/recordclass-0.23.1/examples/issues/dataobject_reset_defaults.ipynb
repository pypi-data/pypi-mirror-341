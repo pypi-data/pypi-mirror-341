{
 "cells": [
  {
   "cell_type": "code",
   "execution_count": null,
   "id": "7dc7ac70-f2f9-4a22-95ff-cf3b574c2d1f",
   "metadata": {},
   "outputs": [],
   "source": [
    "def reset(o, name):\n",
    "    from recordclass._dataobject import Factory\n",
    "\n",
    "    copy_default = o.__options__['copy_default']\n",
    "    val = o.__defaults__[name]\n",
    "    if val is not None:\n",
    "        if type(val) is Factory:\n",
    "            val = Factory(val)\n",
    "        elif copy_default:\n",
    "            if isinstance(val, list):\n",
    "                val = val[:]\n",
    "            elif isinstance(val, (dict, set)):\n",
    "                val = val.copy()\n",
    "            elif hasattr(o, '__copy__'):\n",
    "                val = val.__copy__():\n",
    "            \n",
    "    setattr(o, name, val)\n"
   ]
  },
  {
   "cell_type": "code",
   "execution_count": 1,
   "id": "85f47110-a1e2-4b3b-99db-04253a3ae44d",
   "metadata": {
    "execution": {
     "iopub.execute_input": "2023-12-27T09:35:40.753031Z",
     "iopub.status.busy": "2023-12-27T09:35:40.752725Z",
     "iopub.status.idle": "2023-12-27T09:35:40.776556Z",
     "shell.execute_reply": "2023-12-27T09:35:40.775832Z",
     "shell.execute_reply.started": "2023-12-27T09:35:40.753001Z"
    }
   },
   "outputs": [],
   "source": [
    "from recordclass import dataobject, asdict, update"
   ]
  },
  {
   "cell_type": "code",
   "execution_count": null,
   "id": "0f226e77-9b59-4e2e-9c94-870dda08e245",
   "metadata": {},
   "outputs": [],
   "source": [
    "from recordclass import datatype\n",
    "\n",
    "class datatype_with_state(datatype):\n",
    "    def __new__(metatype, typename, bases, ns, *,\n",
    "                gc=False, fast_new=True, readonly=False, iterable=False,\n",
    "                deep_dealloc=False, sequence=False, mapping=False,\n",
    "                use_dict=False, use_weakref=False, hashable=False, \n",
    "                immutable_type=False, copy_default=False, match=None):\n",
    "        \n",
    "        cls = datatype(typename, bases, ns, \n",
    "                gc=gc, fast_new=fast_new, readonly=readonly, iterable=iterable,\n",
    "                deep_dealloc=deep_dealloc, sequence=sequence, mapping=mapping,\n",
    "                use_dict=use_dict, use_weakref=use_weakref, hashable=hashable, \n",
    "                immutable_type=immutable_type, copy_default=copy_default, match=match)\n",
    "        \n",
    "        type.__setattr__(cls, '__fields__', cls.__fields__ + ('__state__',))\n",
    "        cls.__defaults__['__state__'] = None\n",
    "        cls.__default_vals__ += (None,) \n",
    "        cls.__annotations__['__state__'] = dict\n",
    "        fields_dict = cls.__options__['fields_dict']\n",
    "        fields_dict['__state__'] = {'type':dict, 'default':None}\n",
    "        return cls\n",
    "        \n",
    "\n",
    "class dataobject_with_state(metaclass=datatype_with_state):\n",
    "\n",
    "    def save_state(self):\n",
    "        self.__state__ =  {nm:getattr(self, nm) for nm in self.__fields__ if nm != '__state__'}\n",
    "\n",
    "    def restore_state(self, state):\n",
    "        for nm,val in self.__state__.items():\n",
    "            setattr(self, nm, val)\n",
    "\n",
    "class Point(dataobject_with_state):\n",
    "    x:int\n",
    "    y:int\n",
    "\n",
    "\n",
    "a = Point(1,2)\n",
    "state = a.save_state()\n",
    "print(a)\n",
    "a.x = 100\n",
    "a.y = 200\n",
    "print(a)\n",
    "a.restore_state(state)\n",
    "print(a)\n"
   ]
  },
  {
   "cell_type": "code",
   "execution_count": 6,
   "id": "2fc9bf0c-2ad3-4d1a-bff4-48c7094af842",
   "metadata": {
    "execution": {
     "iopub.execute_input": "2023-12-27T09:51:37.730072Z",
     "iopub.status.busy": "2023-12-27T09:51:37.729679Z",
     "iopub.status.idle": "2023-12-27T09:51:37.742440Z",
     "shell.execute_reply": "2023-12-27T09:51:37.741675Z",
     "shell.execute_reply.started": "2023-12-27T09:51:37.730035Z"
    }
   },
   "outputs": [
    {
     "name": "stdout",
     "output_type": "stream",
     "text": [
      "Point(x=1, y=2)\n",
      "{140413035868368: (1, 2)}\n",
      "Point(x=1, y=2)\n",
      "Point(x=100, y=200)\n",
      "Point(x=1, y=2)\n",
      "{}\n"
     ]
    }
   ],
   "source": [
    "from typing import ClassVar\n",
    "\n",
    "class State:\n",
    "\n",
    "    __instance_states__: ClassVar[dict] = {}\n",
    "\n",
    "    @classmethod\n",
    "    def clear_states(cls):\n",
    "        cls.__instance_states__ = {}\n",
    "    \n",
    "    def del_state(self):\n",
    "        if id(self) in self.__instance_states__:\n",
    "            del self.__instance_states__[id(self)]\n",
    "    \n",
    "    def save_state(self):\n",
    "        self.__instance_states__[id(self)] =  tuple(getattr(self, nm) for nm in self.__fields__)\n",
    "\n",
    "    def restore_state(self):\n",
    "        _state = self.__instance_states__.get(id(self), ())\n",
    "        for nm, val in zip(self.__fields__, _state):\n",
    "            setattr(self, nm, val)\n",
    "\n",
    "    def __del__(self):\n",
    "        if id(self) in self.__instance_states__:\n",
    "            del self.__instance_states__[id(self)]\n",
    "        \n",
    "\n",
    "class Point(dataobject, State):\n",
    "    x:int\n",
    "    y:int\n",
    "\n",
    "a = Point(1,2)\n",
    "print(a)\n",
    "a.save_state()\n",
    "print(State.__instance_states__)\n",
    "print(a)\n",
    "a.x = 100\n",
    "a.y = 200\n",
    "print(a)\n",
    "a.restore_state()\n",
    "print(a)\n",
    "del a\n",
    "print(State.__instance_states__)\n"
   ]
  },
  {
   "cell_type": "code",
   "execution_count": null,
   "id": "e71a780c-5521-4e45-865f-6b3fe021cd0f",
   "metadata": {},
   "outputs": [],
   "source": []
  }
 ],
 "metadata": {
  "kernelspec": {
   "display_name": "Python 3 (ipykernel)",
   "language": "python",
   "name": "python3"
  },
  "language_info": {
   "codemirror_mode": {
    "name": "ipython",
    "version": 3
   },
   "file_extension": ".py",
   "mimetype": "text/x-python",
   "name": "python",
   "nbconvert_exporter": "python",
   "pygments_lexer": "ipython3",
   "version": "3.11.2"
  }
 },
 "nbformat": 4,
 "nbformat_minor": 5
}
