{
 "cells": [
  {
   "cell_type": "code",
   "execution_count": 1,
   "id": "79059d92-b367-4ca5-9a68-f966cd45a236",
   "metadata": {
    "tags": []
   },
   "outputs": [],
   "source": [
    "from recordclass import dataobject"
   ]
  },
  {
   "cell_type": "code",
   "execution_count": 2,
   "id": "7e95d663-90fd-4934-b5f6-07321a2c8717",
   "metadata": {
    "tags": []
   },
   "outputs": [],
   "source": [
    "class extended_dataobject(dataobject):\n",
    "    def __init__(self, *args, **kwargs): \n",
    "        super().__init__(*args, **kwargs)\n",
    "        \n",
    "class Param(extended_dataobject):\n",
    "    x:dict = {'a':1}\n",
    "    y:tuple = (0,0)\n",
    "    \n",
    "    # def __init__(self, x=-1, y=-2):\n",
    "    #     self.x = x\n",
    "    #     self.y = y        "
   ]
  },
  {
   "cell_type": "code",
   "execution_count": 3,
   "id": "940f964c-2462-46d6-9181-a7a4981de4aa",
   "metadata": {
    "tags": []
   },
   "outputs": [
    {
     "name": "stdout",
     "output_type": "stream",
     "text": [
      "<function extended_dataobject.__init__ at 0x7f0e72f0c400>\n",
      "<built-in method __new__ of datatype object at 0x7f0e9686b9e0>\n",
      "__main__ Param Param\n",
      "<class 'recordclass.datatype.datatype'>\n",
      "<class 'recordclass._dataobject.dataobject'>\n"
     ]
    }
   ],
   "source": [
    "print(Param.__init__)\n",
    "print(Param.__new__)\n",
    "print(Param.__module__, Param.__name__, Param.__qualname__)\n",
    "print(type(Param))\n",
    "print(Param.__base__.__base__)"
   ]
  },
  {
   "cell_type": "code",
   "execution_count": 4,
   "id": "e3f81514-d965-4b13-bd7c-1e25a9e43693",
   "metadata": {
    "tags": []
   },
   "outputs": [
    {
     "name": "stdout",
     "output_type": "stream",
     "text": [
      "Param(x=None, y=None)\n",
      "Param(x=1, y=2)\n"
     ]
    }
   ],
   "source": [
    "p = Param.__new__(Param, 1, 2)\n",
    "print(p)\n",
    "p.__init__(1, 2)\n",
    "print(p)"
   ]
  },
  {
   "cell_type": "code",
   "execution_count": 5,
   "id": "4fbf8d76-b34d-4e21-87ce-a66ea8fb80d4",
   "metadata": {
    "tags": []
   },
   "outputs": [
    {
     "name": "stdout",
     "output_type": "stream",
     "text": [
      "Param(x=1, y=2)\n"
     ]
    }
   ],
   "source": [
    "p = Param(x=1, y=2)\n",
    "print(p)"
   ]
  },
  {
   "cell_type": "code",
   "execution_count": 6,
   "id": "b194db24-b954-43e7-9b05-71ff23c35f86",
   "metadata": {
    "tags": []
   },
   "outputs": [],
   "source": [
    "from pickle import dumps, loads, Pickler, Unpickler"
   ]
  },
  {
   "cell_type": "code",
   "execution_count": 7,
   "id": "893ac3eb-ddb1-445e-8dfc-6d74c4e7aa3d",
   "metadata": {
    "tags": []
   },
   "outputs": [
    {
     "name": "stdout",
     "output_type": "stream",
     "text": [
      "Param(x=1, y=2)\n",
      "(<class '__main__.Param'>, (1, 2))\n",
      "<class 'int'>\n",
      "Param(x=1, y=2)\n"
     ]
    }
   ],
   "source": [
    "print(p)\n",
    "print(p.__reduce__())\n",
    "s = dumps(p)\n",
    "p1 = loads(s)\n",
    "print(type(p1.x))\n",
    "print(p1)"
   ]
  },
  {
   "cell_type": "code",
   "execution_count": 8,
   "id": "2304d604-fb8e-4136-95ae-6da4e1f1806c",
   "metadata": {
    "tags": []
   },
   "outputs": [
    {
     "name": "stdout",
     "output_type": "stream",
     "text": [
      "<class '__main__.Param'> <class '__main__.Param'>\n"
     ]
    },
    {
     "data": {
      "text/plain": [
       "'datatype'"
      ]
     },
     "execution_count": 8,
     "metadata": {},
     "output_type": "execute_result"
    }
   ],
   "source": [
    "print(type(p), p.__class__)\n",
    "P = type(p)\n",
    "type(P).__qualname__"
   ]
  },
  {
   "cell_type": "code",
   "execution_count": 9,
   "id": "36d00fe0-81be-4483-b2e2-8fe71bcb4d38",
   "metadata": {
    "tags": []
   },
   "outputs": [],
   "source": [
    "import dill"
   ]
  },
  {
   "cell_type": "code",
   "execution_count": 10,
   "id": "9dc91659-2d37-4fa3-9319-6a2127cd9731",
   "metadata": {
    "tags": []
   },
   "outputs": [
    {
     "name": "stderr",
     "output_type": "stream",
     "text": [
      "/usr/lib/python3/dist-packages/dill/_dill.py:1705: PicklingWarning: Cannot locate reference to <class '__main__.Param'>.\n",
      "  warnings.warn('Cannot locate reference to %r.' % (obj,), PicklingWarning)\n"
     ]
    },
    {
     "data": {
      "text/plain": [
       "Param(x=1, y=2)"
      ]
     },
     "execution_count": 10,
     "metadata": {},
     "output_type": "execute_result"
    }
   ],
   "source": [
    "dill.loads(dill.dumps(p, byref=True))"
   ]
  },
  {
   "cell_type": "code",
   "execution_count": 11,
   "id": "59cc6364-da2c-4f03-a680-68fa141bdb48",
   "metadata": {},
   "outputs": [
    {
     "name": "stdout",
     "output_type": "stream",
     "text": [
      "(0, 0)\n"
     ]
    }
   ],
   "source": [
    "print(repr((0,0)))"
   ]
  },
  {
   "cell_type": "code",
   "execution_count": 12,
   "id": "deb3f5dc-4a7c-4887-a6e9-48a7d13d7a46",
   "metadata": {
    "tags": []
   },
   "outputs": [
    {
     "name": "stdout",
     "output_type": "stream",
     "text": [
      "{'a': 1}\n"
     ]
    }
   ],
   "source": [
    "print(repr({\"a\":1}))"
   ]
  },
  {
   "cell_type": "code",
   "execution_count": null,
   "id": "40f349c7-f5f3-440f-a72c-e5034370934e",
   "metadata": {},
   "outputs": [],
   "source": []
  }
 ],
 "metadata": {
  "kernelspec": {
   "display_name": "Python 3 (ipykernel)",
   "language": "python",
   "name": "python3"
  },
  "language_info": {
   "codemirror_mode": {
    "name": "ipython",
    "version": 3
   },
   "file_extension": ".py",
   "mimetype": "text/x-python",
   "name": "python",
   "nbconvert_exporter": "python",
   "pygments_lexer": "ipython3",
   "version": "3.11.2"
  }
 },
 "nbformat": 4,
 "nbformat_minor": 5
}
