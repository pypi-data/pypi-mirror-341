{
 "cells": [
  {
   "cell_type": "code",
   "execution_count": 1,
   "metadata": {},
   "outputs": [],
   "source": [
    "import os\n",
    "import psutil\n",
    "import gc\n",
    "from recordclass import dataobject, litelist"
   ]
  },
  {
   "cell_type": "code",
   "execution_count": 2,
   "metadata": {},
   "outputs": [],
   "source": [
    "def get_memsize():\n",
    "    pid = os.getpid()\n",
    "    ps = psutil.Process(pid)\n",
    "    meminfo = ps.memory_info()\n",
    "    return meminfo.rss"
   ]
  },
  {
   "cell_type": "code",
   "execution_count": 3,
   "metadata": {},
   "outputs": [],
   "source": [
    "def my_func():\n",
    "    gc.collect()\n",
    "    del gc.garbage[:]\n",
    "    lst = []\n",
    "    for i in range(1000000):\n",
    "        lst.append(i)\n",
    "    del lst\n",
    "    gc.collect()\n",
    "    del gc.garbage[:]"
   ]
  },
  {
   "cell_type": "code",
   "execution_count": 4,
   "metadata": {},
   "outputs": [
    {
     "name": "stdout",
     "output_type": "stream",
     "text": [
      "46469120\n",
      "47386624\n"
     ]
    }
   ],
   "source": [
    "print(get_memsize())\n",
    "my_func()\n",
    "print(get_memsize())"
   ]
  },
  {
   "cell_type": "code",
   "execution_count": 5,
   "metadata": {},
   "outputs": [],
   "source": [
    "class IntDO(dataobject):\n",
    "    val:int\n",
    "    def __iadd__(self, o):\n",
    "        self.val += o.val\n",
    "        return self\n",
    "    def __repr__(self):\n",
    "        return \"Int(%s)\" % self.val"
   ]
  },
  {
   "cell_type": "code",
   "execution_count": 6,
   "metadata": {},
   "outputs": [],
   "source": [
    "def my_func2():\n",
    "    gc.collect()\n",
    "    del gc.garbage[:]\n",
    "    lst = []\n",
    "    for i in range(1000000):\n",
    "        lst.append(IntDO(i))\n",
    "    del lst\n",
    "    gc.collect()\n",
    "    del gc.garbage[:]"
   ]
  },
  {
   "cell_type": "code",
   "execution_count": 7,
   "metadata": {},
   "outputs": [
    {
     "name": "stdout",
     "output_type": "stream",
     "text": [
      "47386624\n",
      "62988288\n"
     ]
    }
   ],
   "source": [
    "print(get_memsize())\n",
    "my_func2()\n",
    "print(get_memsize())"
   ]
  },
  {
   "cell_type": "code",
   "execution_count": 8,
   "metadata": {},
   "outputs": [],
   "source": [
    "class Int:\n",
    "    __slots__ = ('val',)\n",
    "    def __init__(self, val):\n",
    "        self.val = val\n",
    "    def __iadd__(self, o):\n",
    "        self.val += o.val\n",
    "        return self\n",
    "    def __repr__(self):\n",
    "        return \"Int(%s)\" % self.val"
   ]
  },
  {
   "cell_type": "code",
   "execution_count": 9,
   "metadata": {},
   "outputs": [],
   "source": [
    "def my_func3():\n",
    "    gc.collect()\n",
    "    del gc.garbage[:]\n",
    "    lst = []\n",
    "    for i in range(1000000):\n",
    "        lst.append(Int(i))\n",
    "    del lst\n",
    "    gc.collect()\n",
    "    del gc.garbage[:]"
   ]
  },
  {
   "cell_type": "code",
   "execution_count": 10,
   "metadata": {},
   "outputs": [
    {
     "name": "stdout",
     "output_type": "stream",
     "text": [
      "62988288\n",
      "63635456\n"
     ]
    }
   ],
   "source": [
    "print(get_memsize())\n",
    "my_func3()\n",
    "print(get_memsize())"
   ]
  },
  {
   "cell_type": "code",
   "execution_count": null,
   "metadata": {},
   "outputs": [],
   "source": []
  }
 ],
 "metadata": {
  "kernelspec": {
   "display_name": "Python 3",
   "language": "python",
   "name": "python3"
  },
  "language_info": {
   "codemirror_mode": {
    "name": "ipython",
    "version": 3
   },
   "file_extension": ".py",
   "mimetype": "text/x-python",
   "name": "python",
   "nbconvert_exporter": "python",
   "pygments_lexer": "ipython3",
   "version": "3.7.4"
  }
 },
 "nbformat": 4,
 "nbformat_minor": 2
}
