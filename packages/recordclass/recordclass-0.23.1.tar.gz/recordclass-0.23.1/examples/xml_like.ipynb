{
 "cells": [
  {
   "cell_type": "code",
   "execution_count": 1,
   "metadata": {},
   "outputs": [],
   "source": [
    "from recordclass import dataobject, make_dataclass\n",
    "from copy import deepcopy"
   ]
  },
  {
   "cell_type": "code",
   "execution_count": 2,
   "metadata": {},
   "outputs": [],
   "source": [
    "mcufields = ('xmlns', 'xmlname', 'ui_value', 'value_lang', 'datatype')\n",
    "title = ('http://phaidra.univie.ac.at/XML/metadata/lom/V1.0', 'title', '', '', 'LangString')\n",
    "mcufields_defaults = 5 * ['']"
   ]
  },
  {
   "cell_type": "code",
   "execution_count": 3,
   "metadata": {},
   "outputs": [],
   "source": [
    "class MCU(dataobject):\n",
    "    xmlns: str = ''\n",
    "    xmlname: str = ''\n",
    "    ui_value: str = ''\n",
    "    value_lang: str = ''\n",
    "    datatype: str = ''\n",
    "\n",
    "class Children(MCU):\n",
    "    children: list = []\n",
    "\n",
    "    def __init__(self, *args, **kwargs):\n",
    "        self.children = []\n"
   ]
  },
  {
   "cell_type": "code",
   "execution_count": 4,
   "metadata": {},
   "outputs": [],
   "source": [
    "def element(etype, value=None, lang=None): \n",
    "    \"\"\" return an element from the type \"\"\"\n",
    "    e = title\n",
    "    r = Children(*e)\n",
    "    if value is not None:\n",
    "        r.ui_value = value\n",
    "    if lang is not None:\n",
    "        r.value_lang = lang\n",
    "    return r"
   ]
  },
  {
   "cell_type": "code",
   "execution_count": 5,
   "metadata": {},
   "outputs": [
    {
     "name": "stdout",
     "output_type": "stream",
     "text": [
      "Children(xmlns='http://phaidra.univie.ac.at/XML/metadata/lom/V1.0', xmlname='title', ui_value='Titolo', value_lang='it', datatype='LangString', children=[])\n"
     ]
    }
   ],
   "source": [
    "a = element('title', 'Titolo', 'it')\n",
    "print(a)"
   ]
  },
  {
   "cell_type": "code",
   "execution_count": null,
   "metadata": {},
   "outputs": [],
   "source": []
  },
  {
   "cell_type": "code",
   "execution_count": 6,
   "metadata": {},
   "outputs": [
    {
     "name": "stdout",
     "output_type": "stream",
     "text": [
      "[]\n"
     ]
    }
   ],
   "source": [
    "print(a.children)"
   ]
  },
  {
   "cell_type": "code",
   "execution_count": null,
   "metadata": {},
   "outputs": [],
   "source": []
  },
  {
   "cell_type": "code",
   "execution_count": 7,
   "metadata": {},
   "outputs": [],
   "source": [
    "P=make_dataclass(\"P\", \"x y\", fast_new=True, sequence=True)"
   ]
  },
  {
   "cell_type": "code",
   "execution_count": 8,
   "metadata": {},
   "outputs": [],
   "source": [
    "p=P(1,2)"
   ]
  },
  {
   "cell_type": "code",
   "execution_count": 9,
   "metadata": {},
   "outputs": [
    {
     "data": {
      "text/plain": [
       "2"
      ]
     },
     "execution_count": 9,
     "metadata": {},
     "output_type": "execute_result"
    }
   ],
   "source": [
    "p.y"
   ]
  },
  {
   "cell_type": "code",
   "execution_count": 10,
   "metadata": {},
   "outputs": [
    {
     "data": {
      "text/plain": [
       "1"
      ]
     },
     "execution_count": 10,
     "metadata": {},
     "output_type": "execute_result"
    }
   ],
   "source": [
    "p[0]"
   ]
  },
  {
   "cell_type": "code",
   "execution_count": null,
   "metadata": {},
   "outputs": [],
   "source": []
  }
 ],
 "metadata": {
  "kernelspec": {
   "display_name": "Python 3",
   "language": "python",
   "name": "python3"
  },
  "language_info": {
   "codemirror_mode": {
    "name": "ipython",
    "version": 3
   },
   "file_extension": ".py",
   "mimetype": "text/x-python",
   "name": "python",
   "nbconvert_exporter": "python",
   "pygments_lexer": "ipython3",
   "version": "3.9.7"
  }
 },
 "nbformat": 4,
 "nbformat_minor": 4
}
