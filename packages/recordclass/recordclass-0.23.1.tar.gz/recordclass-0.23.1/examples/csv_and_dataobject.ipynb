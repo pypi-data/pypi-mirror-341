{
 "cells": [
  {
   "cell_type": "code",
   "execution_count": 1,
   "metadata": {},
   "outputs": [],
   "source": [
    "import csv\n",
    "from random import random, randint\n",
    "from ast import literal_eval\n",
    "\n",
    "N = 1000000"
   ]
  },
  {
   "cell_type": "code",
   "execution_count": 2,
   "metadata": {},
   "outputs": [],
   "source": [
    "# !rm large_example.csv\n",
    "\n",
    "# h = open(\"large_example.csv\", \"wt\")\n",
    "# for i in range(N):\n",
    "#     h.write(\"%s,%.3f,%.3f,%s,%s\\n\" % (i, random(), random(), randint(0,N), randint(0,N)))\n",
    "# h.close()"
   ]
  },
  {
   "cell_type": "code",
   "execution_count": 3,
   "metadata": {},
   "outputs": [],
   "source": [
    "csv.register_dialect('mycsv', delimiter=',', quoting=csv.QUOTE_NONE)"
   ]
  },
  {
   "cell_type": "code",
   "execution_count": 4,
   "metadata": {},
   "outputs": [],
   "source": [
    "def conv(id, x, y, p, q):\n",
    "    return (int(id), float(x), float(y), int(p), int(q))"
   ]
  },
  {
   "cell_type": "code",
   "execution_count": 9,
   "metadata": {},
   "outputs": [
    {
     "name": "stdout",
     "output_type": "stream",
     "text": [
      "(999999, 0.205, 0.022, 386312, 321874)\n",
      "CPU times: user 1.25 s, sys: 96.7 ms, total: 1.35 s\n",
      "Wall time: 1.34 s\n"
     ]
    }
   ],
   "source": [
    "def test_raw():\n",
    "    f = open('large_example.csv', 'rt')\n",
    "    reader = csv.reader(f, 'mycsv')\n",
    "    data = [conv(*row) for row in reader]\n",
    "    print(data[-1])\n",
    "    f.close()\n",
    "\n",
    "%time test_raw()"
   ]
  },
  {
   "cell_type": "code",
   "execution_count": 10,
   "metadata": {},
   "outputs": [
    {
     "name": "stdout",
     "output_type": "stream",
     "text": [
      "RowNT(id=999999, x=0.205, y=0.022, p=386312, q=321874)\n",
      "CPU times: user 2.23 s, sys: 116 ms, total: 2.34 s\n",
      "Wall time: 2.32 s\n"
     ]
    }
   ],
   "source": [
    "from collections import namedtuple\n",
    "RowNT = namedtuple('RowNT', 'id x y p q')\n",
    "def test_nt():\n",
    "    f = open('large_example.csv', 'rt')\n",
    "    reader = csv.reader(f, 'mycsv')\n",
    "    data = [RowNT(*conv(*row)) for row in reader]\n",
    "    print(data[-1])\n",
    "    f.close()\n",
    "        \n",
    "%time test_nt()"
   ]
  },
  {
   "cell_type": "code",
   "execution_count": 11,
   "metadata": {},
   "outputs": [
    {
     "name": "stdout",
     "output_type": "stream",
     "text": [
      "<__main__.RowSlots object at 0x7f81582ab680>\n",
      "CPU times: user 2.28 s, sys: 99.1 ms, total: 2.38 s\n",
      "Wall time: 2.36 s\n"
     ]
    }
   ],
   "source": [
    "class RowSlots:\n",
    "    __slots__ = 'id', 'x', 'y', 'p', 'q'\n",
    "    def __init__(self, id, x, y, p, q):\n",
    "        self.id = id\n",
    "        self.x = x\n",
    "        self.y = y\n",
    "        self.p = p\n",
    "        self.q = q\n",
    "\n",
    "def test_slots():\n",
    "    f = open('large_example.csv', 'rt')\n",
    "    reader = csv.reader(f, 'mycsv')\n",
    "    data = [RowSlots(*conv(*row)) for row in reader]\n",
    "    print(data[-1])\n",
    "    f.close()\n",
    "        \n",
    "%time test_slots()"
   ]
  },
  {
   "cell_type": "code",
   "execution_count": 12,
   "metadata": {},
   "outputs": [
    {
     "name": "stdout",
     "output_type": "stream",
     "text": [
      "RowDO(id=999999, x=0.205, y=0.022, p=386312, q=321874)\n",
      "CPU times: user 1.3 s, sys: 60.2 ms, total: 1.36 s\n",
      "Wall time: 1.35 s\n"
     ]
    }
   ],
   "source": [
    "from recordclass import make_dataclass\n",
    "\n",
    "RowDO = make_dataclass(\"RowDO\", \"id x y p q\", fast_new=True)\n",
    "def test_do():\n",
    "    f = open('large_example.csv', 'rt')\n",
    "    reader = csv.reader(f, 'mycsv')\n",
    "    data = [RowDO(*conv(*row)) for row in reader]\n",
    "    print(data[-1])\n",
    "    f.close()\n",
    "        \n",
    "%time test_do()"
   ]
  },
  {
   "cell_type": "code",
   "execution_count": null,
   "metadata": {},
   "outputs": [],
   "source": []
  }
 ],
 "metadata": {
  "kernelspec": {
   "display_name": "Python 3",
   "language": "python",
   "name": "python3"
  },
  "language_info": {
   "codemirror_mode": {
    "name": "ipython",
    "version": 3
   },
   "file_extension": ".py",
   "mimetype": "text/x-python",
   "name": "python",
   "nbconvert_exporter": "python",
   "pygments_lexer": "ipython3",
   "version": "3.9.2"
  }
 },
 "nbformat": 4,
 "nbformat_minor": 4
}
