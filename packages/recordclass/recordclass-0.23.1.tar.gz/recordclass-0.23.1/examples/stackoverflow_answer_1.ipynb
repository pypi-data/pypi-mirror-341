{
 "cells": [
  {
   "cell_type": "code",
   "execution_count": 1,
   "id": "617cb8ca-5c07-4bd0-b70f-1544e763e2c4",
   "metadata": {},
   "outputs": [],
   "source": [
    "import os, psutil, time, collections, typing\n",
    "import recordclass\n",
    "\n",
    "Tri = collections.namedtuple('Tri', 'id,name,isvalid')\n",
    "Tri2 = typing.NamedTuple(\"Tri2\", [('id', int), ('name', str), ('isvalid', bool)])\n",
    "TriDO = recordclass.make_dataclass(\"TriDO\", [('id', int), ('name', str), ('isvalid', bool)], fast_new=True)\n"
   ]
  },
  {
   "cell_type": "code",
   "execution_count": 9,
   "id": "8d385b47-6051-4433-b838-d83cd92981a2",
   "metadata": {},
   "outputs": [
    {
     "name": "stdout",
     "output_type": "stream",
     "text": [
      "0.235 s  259.1 MB\n"
     ]
    }
   ],
   "source": [
    "t0 = time.time()\n",
    "d = {i: (i+1, 'hello', True) for i in range(1000000)}                                 # tuple\n",
    "print('%.3f s  %.1f MB' % (time.time()-t0, psutil.Process(os.getpid()).memory_info().rss / 1024 ** 2))"
   ]
  },
  {
   "cell_type": "code",
   "execution_count": 10,
   "id": "c4341b05-f46e-4e69-afc7-c10cbe8357d1",
   "metadata": {},
   "outputs": [
    {
     "name": "stdout",
     "output_type": "stream",
     "text": [
      "0.332 s  428.6 MB\n"
     ]
    }
   ],
   "source": [
    "t0 = time.time()\n",
    "d = {i: {'id': i+1, 'name': 'hello', 'isvalid': True} for i in range(1000000)}      # dict\n",
    "print('%.3f s  %.1f MB' % (time.time()-t0, psutil.Process(os.getpid()).memory_info().rss / 1024 ** 2))"
   ]
  },
  {
   "cell_type": "code",
   "execution_count": 11,
   "id": "f345f51b-9b4e-476c-988b-530b97ca2955",
   "metadata": {},
   "outputs": [
    {
     "name": "stdout",
     "output_type": "stream",
     "text": [
      "1.195 s  275.6 MB\n"
     ]
    }
   ],
   "source": [
    "t0 = time.time()\n",
    "d = {i: Tri(i+1, 'hello', True) for i in range(1000000)}            # namedtuple\n",
    "print('%.3f s  %.1f MB' % (time.time()-t0, psutil.Process(os.getpid()).memory_info().rss / 1024 ** 2))"
   ]
  },
  {
   "cell_type": "code",
   "execution_count": 12,
   "id": "b7956a3c-9959-4198-a65d-ac6abbcc5a52",
   "metadata": {},
   "outputs": [
    {
     "name": "stdout",
     "output_type": "stream",
     "text": [
      "1.059 s  275.2 MB\n"
     ]
    }
   ],
   "source": [
    "t0 = time.time()\n",
    "d = {i: Tri2(i+1, 'hello', True) for i in range(1000000)}            # NamedTuple\n",
    "print('%.3f s  %.1f MB' % (time.time()-t0, psutil.Process(os.getpid()).memory_info().rss / 1024 ** 2))"
   ]
  },
  {
   "cell_type": "code",
   "execution_count": 14,
   "id": "fc420d89-ab61-4807-911c-0ea7602b5c45",
   "metadata": {},
   "outputs": [
    {
     "name": "stdout",
     "output_type": "stream",
     "text": [
      "0.256 s  244.2 MB\n"
     ]
    }
   ],
   "source": [
    "t0 = time.time()\n",
    "d = {i: TriDO(i+1, 'hello', True) for i in range(1000000)}            # dataobject\n",
    "print('%.3f s  %.1f MB' % (time.time()-t0, psutil.Process(os.getpid()).memory_info().rss / 1024 ** 2))"
   ]
  },
  {
   "cell_type": "code",
   "execution_count": 7,
   "id": "dd16f8c5-ef8d-4a6d-9149-8a7a29aadf78",
   "metadata": {},
   "outputs": [
    {
     "name": "stdout",
     "output_type": "stream",
     "text": [
      "164 ms ± 5.72 ms per loop (mean ± std. dev. of 7 runs, 10 loops each)\n",
      "250 ms ± 15.9 ms per loop (mean ± std. dev. of 7 runs, 1 loop each)\n",
      "322 ms ± 704 µs per loop (mean ± std. dev. of 7 runs, 1 loop each)\n",
      "327 ms ± 784 µs per loop (mean ± std. dev. of 7 runs, 1 loop each)\n",
      "188 ms ± 823 µs per loop (mean ± std. dev. of 7 runs, 10 loops each)\n"
     ]
    }
   ],
   "source": [
    "%timeit d = {i: (i+1, 'hello', True) for i in range(1000000)} # tuple\n",
    "%timeit d = {i: {'id':i+1, 'name':'hello', 'isvalid':True} for i in range(1000000)} # dict\n",
    "%timeit d = {i: Tri(i+1, 'hello', True) for i in range(1000000)} # namedtuple\n",
    "%timeit d = {i: Tri2(i+1, 'hello', True) for i in range(1000000)} # NamedTuple\n",
    "%timeit d = {i: TriDO(i+1, 'hello', True) for i in range(1000000)} # dataobject"
   ]
  },
  {
   "cell_type": "code",
   "execution_count": null,
   "id": "5effcba1-7bf5-453b-a583-e4dee97391fe",
   "metadata": {},
   "outputs": [],
   "source": []
  }
 ],
 "metadata": {
  "kernelspec": {
   "display_name": "Python 3",
   "language": "python",
   "name": "python3"
  },
  "language_info": {
   "codemirror_mode": {
    "name": "ipython",
    "version": 3
   },
   "file_extension": ".py",
   "mimetype": "text/x-python",
   "name": "python",
   "nbconvert_exporter": "python",
   "pygments_lexer": "ipython3",
   "version": "3.9.7"
  }
 },
 "nbformat": 4,
 "nbformat_minor": 5
}
