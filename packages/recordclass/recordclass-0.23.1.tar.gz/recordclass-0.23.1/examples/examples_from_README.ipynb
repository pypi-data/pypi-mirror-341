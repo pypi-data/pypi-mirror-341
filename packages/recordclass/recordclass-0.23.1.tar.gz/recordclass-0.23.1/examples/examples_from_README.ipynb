{
 "cells": [
  {
   "cell_type": "code",
   "execution_count": 5,
   "metadata": {},
   "outputs": [],
   "source": [
    "from recordclass import recordclass, RecordClass, make_dataclass\n",
    "import sys"
   ]
  },
  {
   "cell_type": "code",
   "execution_count": 2,
   "metadata": {},
   "outputs": [
    {
     "name": "stdout",
     "output_type": "stream",
     "text": [
      "Point(x=1, y=2)\n",
      "1 2\n",
      "Point(x=10, y=20)\n",
      "40\n"
     ]
    }
   ],
   "source": [
    "Point = recordclass('Point', 'x y')\n",
    "p = Point(1,2)\n",
    "print(p)\n",
    "print(p.x, p.y)\n",
    "p.x, p.y = 10, 20\n",
    "print(p)\n",
    "print(sys.getsizeof(p))"
   ]
  },
  {
   "cell_type": "code",
   "execution_count": 3,
   "metadata": {},
   "outputs": [
    {
     "name": "stdout",
     "output_type": "stream",
     "text": [
      "{'x': <class 'int'>, 'y': <class 'int'>}\n",
      "Point(x=1, y=2)\n",
      "1 2\n",
      "Point(x=10, y=20)\n",
      "40\n"
     ]
    }
   ],
   "source": [
    "class Point(RecordClass):\n",
    "       x: int\n",
    "       y: int\n",
    "        \n",
    "print(Point.__annotations__)\n",
    "p = Point(1,2)\n",
    "print(p)\n",
    "print(p.x, p.y)\n",
    "p.x, p.y = 10, 20\n",
    "print(p)\n",
    "print(sys.getsizeof(p))"
   ]
  },
  {
   "cell_type": "code",
   "execution_count": 7,
   "metadata": {},
   "outputs": [
    {
     "name": "stdout",
     "output_type": "stream",
     "text": [
      "56 64 48 40 \n"
     ]
    }
   ],
   "source": [
    "class S:\n",
    "        __slots__ = ('a','b','c')\n",
    "        def __init__(self, a, b, c):\n",
    "            self.a = a\n",
    "            self.b = b\n",
    "            self.c = c\n",
    "\n",
    "R_gc = recordclass('R_gc', 'a b c', gc=True)\n",
    "R_nogc = recordclass('R_nogc', 'a b c')\n",
    "DO = make_dataclass('R_do', 'a b c')\n",
    "\n",
    "s = S(1,2,3)\n",
    "r_gc = R_gc(1,2,3)\n",
    "r_nogc = R_nogc(1,2,3)\n",
    "do = DO(1,2,3)\n",
    "for o in (s, r_gc, r_nogc, do):\n",
    "    print(sys.getsizeof(o), end=' ')\n",
    "print()"
   ]
  },
  {
   "cell_type": "code",
   "execution_count": null,
   "metadata": {},
   "outputs": [],
   "source": []
  }
 ],
 "metadata": {
  "kernelspec": {
   "display_name": "Python 3 (ipykernel)",
   "language": "python",
   "name": "python3"
  },
  "language_info": {
   "codemirror_mode": {
    "name": "ipython",
    "version": 3
   },
   "file_extension": ".py",
   "mimetype": "text/x-python",
   "name": "python",
   "nbconvert_exporter": "python",
   "pygments_lexer": "ipython3",
   "version": "3.10.9"
  }
 },
 "nbformat": 4,
 "nbformat_minor": 4
}
