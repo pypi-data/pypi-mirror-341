{
 "cells": [
  {
   "cell_type": "code",
   "execution_count": 1,
   "id": "9054c760-67fa-4d77-8386-5aaa25473dfa",
   "metadata": {},
   "outputs": [],
   "source": [
    "from recordclass import make_dataclass"
   ]
  },
  {
   "cell_type": "code",
   "execution_count": 2,
   "id": "b424fa3c-ad91-4b96-9d42-ea043bc07667",
   "metadata": {},
   "outputs": [],
   "source": [
    "MyFixedDict = make_dataclass(\"MyFixedDict\", \"A B C D\", mapping=True, api='dict')"
   ]
  },
  {
   "cell_type": "code",
   "execution_count": 3,
   "id": "5b62a9fb-0d7a-4881-b746-996b0599e48a",
   "metadata": {},
   "outputs": [],
   "source": [
    "d = MyFixedDict(1,2,3,4)"
   ]
  },
  {
   "cell_type": "code",
   "execution_count": 4,
   "id": "ec15c047-26f7-4b7c-ac87-0e49d116f9a1",
   "metadata": {},
   "outputs": [
    {
     "name": "stdout",
     "output_type": "stream",
     "text": [
      "MyFixedDict(A=1, B=2, C=3, D=4)\n"
     ]
    }
   ],
   "source": [
    "print(d)"
   ]
  },
  {
   "cell_type": "code",
   "execution_count": 6,
   "id": "c130b23c-edea-4bd9-9d01-cd1c325aa3bc",
   "metadata": {},
   "outputs": [
    {
     "name": "stdout",
     "output_type": "stream",
     "text": [
      "['A', 'B', 'C', 'D']\n"
     ]
    }
   ],
   "source": [
    "print(list(d.keys()))"
   ]
  },
  {
   "cell_type": "code",
   "execution_count": 7,
   "id": "3df927a1-a001-4922-aaf1-92d25c5aacbd",
   "metadata": {},
   "outputs": [
    {
     "name": "stdout",
     "output_type": "stream",
     "text": [
      "[1, 2, 3, 4]\n"
     ]
    }
   ],
   "source": [
    "print(list(d.values()))"
   ]
  },
  {
   "cell_type": "code",
   "execution_count": null,
   "id": "d825216f-e49d-41aa-afb1-b796eb0bb4cf",
   "metadata": {},
   "outputs": [],
   "source": []
  }
 ],
 "metadata": {
  "kernelspec": {
   "display_name": "Python 3",
   "language": "python",
   "name": "python3"
  },
  "language_info": {
   "codemirror_mode": {
    "name": "ipython",
    "version": 3
   },
   "file_extension": ".py",
   "mimetype": "text/x-python",
   "name": "python",
   "nbconvert_exporter": "python",
   "pygments_lexer": "ipython3",
   "version": "3.9.7"
  }
 },
 "nbformat": 4,
 "nbformat_minor": 5
}
