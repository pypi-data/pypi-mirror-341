{
 "cells": [
  {
   "cell_type": "markdown",
   "metadata": {},
   "source": [
    "# Dataobjects without cyclic GC support"
   ]
  },
  {
   "cell_type": "markdown",
   "metadata": {},
   "source": [
    "It would seem, why we need classes in Python without garbage collection support: isn't it safe? To clarify: we are talking about classes that do not have support for cyclic garbage collection, intended for the disposal of container objects, which may contain circular references. Normal object disposing when the reference count goes to zero is supported as usual in Python."
   ]
  },
  {
   "cell_type": "markdown",
   "metadata": {},
   "source": [
    "When is it resonable? For example, when the object represents a record/struct with the fields whose values represent simple data types - numbers, strings, date / time, etc."
   ]
  },
  {
   "cell_type": "markdown",
   "metadata": {},
   "source": [
    "There is a more general class of objects that do not have reference cycles by construction. Yes, theoretically reference cycles are possible, but specific instances of classes are initialized and processed in such a way that, in fact, they are not. Due to this, it is not necessary to allocate additional `3*8=24` bytes (for 64-bit platforms) of memory for them (since Python 3.8 only `2*8=16`). If you have limited memory or you create millions of tiny or small objects, then this additional memory can make a difference. Another side effect is the fact that Python needs less time for GC."
   ]
  },
  {
   "cell_type": "markdown",
   "metadata": {},
   "source": [
    "Nowadays, there is a well-known for defining classes with `__slots__`, whose instances don’t have `__dict__` and `__weakref__` and therefore requires less memory. Let's demonstrate this by example."
   ]
  },
  {
   "cell_type": "code",
   "execution_count": 1,
   "metadata": {},
   "outputs": [
    {
     "name": "stdout",
     "output_type": "stream",
     "text": [
      "Own size: 32 bytes\n",
      "Own size + gc header: 48 bytes\n"
     ]
    }
   ],
   "source": [
    "import sys\n",
    "\n",
    "class PointSlots:\n",
    "    __slots__ = 'x', 'y'\n",
    "\n",
    "    def __init__(self, x, y):\n",
    "        self.x = x\n",
    "        self.y = y\n",
    "        \n",
    "p = PointSlots(1,2)\n",
    "\n",
    "print(\"Own size:\", p.__sizeof__(), \"bytes\")\n",
    "print(\"Own size + gc header:\", sys.getsizeof(p), \"bytes\")"
   ]
  },
  {
   "cell_type": "markdown",
   "metadata": {},
   "source": [
    "Additional 24 bytes are for GC. But, strictly speaking, cyclic garbage collection is not needed for our class"
   ]
  },
  {
   "cell_type": "markdown",
   "metadata": {},
   "source": [
    "New release `0.10` of [recordclass](https://pypi.org/project/recordclass/) library introduce inventories for creation of such classes without GC support by default."
   ]
  },
  {
   "cell_type": "code",
   "execution_count": 2,
   "metadata": {},
   "outputs": [
    {
     "name": "stdout",
     "output_type": "stream",
     "text": [
      "Own size: 32 bytes\n",
      "Own size + gc header: 32 bytes\n"
     ]
    }
   ],
   "source": [
    "from recordclass import dataobject\n",
    "\n",
    "class PointDO(dataobject):\n",
    "    x:int\n",
    "    y:int\n",
    "    __options__ = {'fast_new':True}\n",
    "        \n",
    "p2 = PointDO(1,2)\n",
    "print(\"Own size:\", p2.__sizeof__(), \"bytes\")\n",
    "print(\"Own size + gc header:\", sys.getsizeof(p2), \"bytes\")"
   ]
  },
  {
   "cell_type": "markdown",
   "metadata": {},
   "source": [
    "As for class with `__slots__` only attributes with given names 'x' and 'y' are allowed.\n",
    "There is no `__dict__`.\n",
    "There is no `weakref` support.\n",
    "But they all can be enabled explicitly as in a case with `__slots__`.\n",
    "It's also subclassable.\n",
    "Any field of the instances can be made readonly, default values are also possible. At the end compare the performance in order to indicate that there is no regression:"
   ]
  },
  {
   "cell_type": "code",
   "execution_count": 3,
   "metadata": {},
   "outputs": [],
   "source": [
    "def test_PointSlots():\n",
    "    for i in range(1000000):\n",
    "        p = PointSlots(1, 2)\n",
    "        p.x = 5; p.y = 6\n",
    "        a = p.x; b = p.y\n",
    "\n",
    "def test_PointDO():\n",
    "    for i in range(1000000):\n",
    "        p = PointDO(1, 2)\n",
    "        p.x = 5; p.y = 6\n",
    "        a = p.x; b = p.y        "
   ]
  },
  {
   "cell_type": "code",
   "execution_count": 4,
   "metadata": {},
   "outputs": [
    {
     "name": "stdout",
     "output_type": "stream",
     "text": [
      "Point (__slots__):\n",
      "255 ms ± 2.22 ms per loop (mean ± std. dev. of 7 runs, 1 loop each)\n",
      "Point (dataobject):\n",
      "155 ms ± 8.16 ms per loop (mean ± std. dev. of 7 runs, 10 loops each)\n"
     ]
    }
   ],
   "source": [
    "print(\"Point (__slots__):\")\n",
    "%timeit test_PointSlots()\n",
    "print(\"Point (dataobject):\")\n",
    "%timeit test_PointDO()"
   ]
  },
  {
   "cell_type": "code",
   "execution_count": 5,
   "metadata": {},
   "outputs": [],
   "source": [
    "import psutil\n",
    "import os\n",
    "import gc\n",
    "\n",
    "def memory_usage_psutil():\n",
    "    # return the memory usage in percentage like top\n",
    "    process = psutil.Process(os.getpid())\n",
    "    mem = process.memory_percent()\n",
    "    return mem\n"
   ]
  },
  {
   "cell_type": "code",
   "execution_count": 6,
   "metadata": {},
   "outputs": [],
   "source": [
    "class NodeDO(dataobject):\n",
    "    left: 'NodeDO'\n",
    "    right: 'NodeDO'\n",
    "    __options__ = {'fast_new':True}\n",
    "        \n",
    "class TreeDO(dataobject):\n",
    "    root: NodeDO\n",
    "\n",
    "def add_nodes_do(depth):\n",
    "    if depth == 0:\n",
    "        return None\n",
    "    return NodeDO(add_nodes_do(depth-1), add_nodes_do(depth-1))\n",
    "\n",
    "def test_do():\n",
    "    root = add_nodes_do(22)\n",
    "    tree = TreeDO(root)\n",
    "#     return c\n"
   ]
  },
  {
   "cell_type": "code",
   "execution_count": 7,
   "metadata": {},
   "outputs": [],
   "source": [
    "class NodeSlots:\n",
    "    __slots__ = 'left', 'right'\n",
    "    \n",
    "    def __init__(self, left, right):\n",
    "        self.left = left\n",
    "        self.right = right\n",
    "        \n",
    "class TreeSlots:\n",
    "    __slots__ = 'root',\n",
    "    \n",
    "    def __init__(self, root):\n",
    "        self.root = root\n",
    "\n",
    "def add_nodes_slots(depth):\n",
    "    if depth == 0:\n",
    "        return None\n",
    "    return NodeSlots(add_nodes_slots(depth-1), add_nodes_slots(depth-1))\n",
    "\n",
    "def test_slots():\n",
    "    root = add_nodes_slots(22)\n",
    "    tree = TreeSlots(root)\n",
    "#     return c\n"
   ]
  },
  {
   "cell_type": "code",
   "execution_count": 8,
   "metadata": {},
   "outputs": [
    {
     "name": "stdout",
     "output_type": "stream",
     "text": [
      "962 ms ± 6.33 ms per loop (mean ± std. dev. of 7 runs, 1 loop each)\n"
     ]
    }
   ],
   "source": [
    "%timeit test_do()"
   ]
  },
  {
   "cell_type": "code",
   "execution_count": 9,
   "metadata": {},
   "outputs": [
    {
     "name": "stdout",
     "output_type": "stream",
     "text": [
      "1.36 s ± 6.56 ms per loop (mean ± std. dev. of 7 runs, 1 loop each)\n"
     ]
    }
   ],
   "source": [
    "%timeit test_slots()"
   ]
  },
  {
   "cell_type": "code",
   "execution_count": null,
   "metadata": {},
   "outputs": [],
   "source": []
  }
 ],
 "metadata": {
  "kernelspec": {
   "display_name": "Python 3",
   "language": "python",
   "name": "python3"
  },
  "language_info": {
   "codemirror_mode": {
    "name": "ipython",
    "version": 3
   },
   "file_extension": ".py",
   "mimetype": "text/x-python",
   "name": "python",
   "nbconvert_exporter": "python",
   "pygments_lexer": "ipython3",
   "version": "3.9.7"
  }
 },
 "nbformat": 4,
 "nbformat_minor": 4
}
