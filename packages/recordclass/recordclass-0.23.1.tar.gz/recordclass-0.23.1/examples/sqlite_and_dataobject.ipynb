{
 "cells": [
  {
   "cell_type": "code",
   "execution_count": 1,
   "metadata": {},
   "outputs": [],
   "source": [
    "import sqlite3\n",
    "from random import random, randint\n",
    "import sys\n",
    "\n",
    "N = 1000000"
   ]
  },
  {
   "cell_type": "code",
   "execution_count": 2,
   "metadata": {},
   "outputs": [],
   "source": [
    "# !rm example.db\n",
    "\n",
    "# conn = sqlite3.connect('example.db')\n",
    "# c = conn.cursor()\n",
    "# c.execute('''CREATE TABLE test\n",
    "#              (id int, x real, y real, p int, q int)''')\n",
    "# gen = ((i, random(), random(), randint(0,N), randint(0,N)) for i in range(N))\n",
    "# c.executemany(\"INSERT INTO test VALUES (?,?,?,?,?)\", gen)\n",
    "\n",
    "# conn.commit()\n",
    "# conn.close()"
   ]
  },
  {
   "cell_type": "code",
   "execution_count": 3,
   "metadata": {},
   "outputs": [],
   "source": [
    "def make_row_factory(cls_factory, **kw):\n",
    "    def row_factory(cursor, row, cls=[None]):\n",
    "        rf = cls[0]\n",
    "        if rf is None:\n",
    "            fields = [col[0] for col in cursor.description]\n",
    "            cls[0] = cls_factory(\"Row\", fields, **kw)\n",
    "            return cls[0](*row)\n",
    "        return rf(*row)\n",
    "    return row_factory"
   ]
  },
  {
   "cell_type": "code",
   "execution_count": 4,
   "metadata": {},
   "outputs": [
    {
     "name": "stdout",
     "output_type": "stream",
     "text": [
      "CPU times: user 971 ms, sys: 92.1 ms, total: 1.06 s\n",
      "Wall time: 1.06 s\n",
      "80 Mb\n"
     ]
    }
   ],
   "source": [
    "conn = sqlite3.connect('example.db')\n",
    "c = conn.cursor()\n",
    "%time res = [row for row in c.execute(\"SELECT id,x,y,p,q FROM test\")]\n",
    "conn.close()\n",
    "print(N * sys.getsizeof(res[0]) // 1000000, 'Mb')\n",
    "del res"
   ]
  },
  {
   "cell_type": "code",
   "execution_count": 5,
   "metadata": {},
   "outputs": [
    {
     "name": "stdout",
     "output_type": "stream",
     "text": [
      "CPU times: user 1.11 s, sys: 80.1 ms, total: 1.19 s\n",
      "Wall time: 1.19 s\n",
      "32 Mb\n"
     ]
    }
   ],
   "source": [
    "conn = sqlite3.connect('example.db')\n",
    "conn.row_factory = sqlite3.Row\n",
    "c = conn.cursor()\n",
    "%time res = [row for row in c.execute(\"SELECT id,x,y,p,q FROM test\")]\n",
    "conn.close()\n",
    "# print(N * sys.getsizeof(res[0]) // 1000000, 'Mb')\n",
    "del res"
   ]
  },
  {
   "cell_type": "code",
   "execution_count": 6,
   "metadata": {},
   "outputs": [
    {
     "name": "stdout",
     "output_type": "stream",
     "text": [
      "CPU times: user 1.87 s, sys: 120 ms, total: 1.99 s\n",
      "Wall time: 1.99 s\n",
      "72 Mb\n"
     ]
    }
   ],
   "source": [
    "class RowSlot:\n",
    "    __slots__ = 'id', 'x', 'y', 'p', 'q'\n",
    "    def __init__(self, id, x, y, p, q):\n",
    "        self.id = id\n",
    "        self.x = x\n",
    "        self.y = y\n",
    "        self.p = p\n",
    "        self.q = q\n",
    "\n",
    "conn = sqlite3.connect('example.db')\n",
    "c = conn.cursor()\n",
    "%time res = [RowSlot(*row) for row in c.execute(\"SELECT id,x,y,p,q FROM test\")]\n",
    "conn.close()\n",
    "print(N * sys.getsizeof(res[0]) // 1000000, 'Mb')\n",
    "del res"
   ]
  },
  {
   "cell_type": "code",
   "execution_count": 11,
   "metadata": {},
   "outputs": [
    {
     "name": "stdout",
     "output_type": "stream",
     "text": [
      "CPU times: user 1.89 s, sys: 71.8 ms, total: 1.96 s\n",
      "Wall time: 1.96 s\n",
      "80 Mb\n"
     ]
    }
   ],
   "source": [
    "from collections import namedtuple\n",
    "\n",
    "Row = namedtuple(\"Row\", \"id x y p q\")\n",
    "conn = sqlite3.connect('example.db')\n",
    "c = conn.cursor()\n",
    "%time res = [Row(*row) for row in c.execute(\"SELECT id,x,y,p,q FROM test\")]\n",
    "conn.close()\n",
    "print(N * sys.getsizeof(res[0]) // 1000000, 'Mb')\n",
    "del res"
   ]
  },
  {
   "cell_type": "code",
   "execution_count": 12,
   "metadata": {},
   "outputs": [
    {
     "name": "stdout",
     "output_type": "stream",
     "text": [
      "CPU times: user 1.93 s, sys: 116 ms, total: 2.05 s\n",
      "Wall time: 2.05 s\n",
      "80 Mb\n"
     ]
    }
   ],
   "source": [
    "conn = sqlite3.connect('example.db')\n",
    "conn.row_factory = make_row_factory(namedtuple)\n",
    "c = conn.cursor()\n",
    "%time res = [row for row in c.execute(\"SELECT id,x,y,p,q FROM test\")]\n",
    "conn.close()\n",
    "print(N * sys.getsizeof(res[0]) // 1000000, 'Mb')\n",
    "del res"
   ]
  },
  {
   "cell_type": "code",
   "execution_count": 14,
   "metadata": {},
   "outputs": [
    {
     "name": "stdout",
     "output_type": "stream",
     "text": [
      "CPU times: user 1 s, sys: 72.2 ms, total: 1.08 s\n",
      "Wall time: 1.07 s\n",
      "56 Mb\n"
     ]
    }
   ],
   "source": [
    "from recordclass import make_dataclass\n",
    "\n",
    "Row = make_dataclass(\"Row\", \"id x y p q\", fast_new=True)\n",
    "conn = sqlite3.connect('example.db')\n",
    "c = conn.cursor()\n",
    "%time res = [Row(*row) for row in c.execute(\"SELECT id,x,y,p,q FROM test\")]\n",
    "conn.close()\n",
    "print(N * sys.getsizeof(res[0]) // 1000000, 'Mb')\n",
    "del res"
   ]
  },
  {
   "cell_type": "code",
   "execution_count": 16,
   "metadata": {},
   "outputs": [
    {
     "name": "stdout",
     "output_type": "stream",
     "text": [
      "CPU times: user 1.11 s, sys: 76.2 ms, total: 1.19 s\n",
      "Wall time: 1.19 s\n",
      "56 Mb\n"
     ]
    }
   ],
   "source": [
    "conn = sqlite3.connect('example.db')\n",
    "conn.row_factory = make_row_factory(make_dataclass, fast_new=True)\n",
    "c = conn.cursor()\n",
    "%time res = [row for row in c.execute(\"SELECT id,x,y,p,q FROM test\")]\n",
    "conn.close()\n",
    "print(N * sys.getsizeof(res[0]) // 1000000, 'Mb')\n",
    "del res"
   ]
  },
  {
   "cell_type": "code",
   "execution_count": null,
   "metadata": {},
   "outputs": [],
   "source": []
  }
 ],
 "metadata": {
  "kernelspec": {
   "display_name": "Python 3",
   "language": "python",
   "name": "python3"
  },
  "language_info": {
   "codemirror_mode": {
    "name": "ipython",
    "version": 3
   },
   "file_extension": ".py",
   "mimetype": "text/x-python",
   "name": "python",
   "nbconvert_exporter": "python",
   "pygments_lexer": "ipython3",
   "version": "3.9.2"
  }
 },
 "nbformat": 4,
 "nbformat_minor": 4
}
