{
 "cells": [
  {
   "cell_type": "markdown",
   "metadata": {
    "slideshow": {
     "slide_type": "slide"
    }
   },
   "source": [
    "# Reducing Memory Footprint for Python Objects\n",
    "\n",
    "### Zaur Shibzukhov"
   ]
  },
  {
   "cell_type": "code",
   "execution_count": 1,
   "metadata": {
    "slideshow": {
     "slide_type": "skip"
    }
   },
   "outputs": [],
   "source": [
    "import sys\n",
    "from pprint import pprint\n",
    "from collections import namedtuple\n",
    "from recordclass import recordclass, mutabletuple"
   ]
  },
  {
   "cell_type": "markdown",
   "metadata": {
    "slideshow": {
     "slide_type": "slide"
    }
   },
   "source": [
    "## What is the problem\n",
    "\n",
    "* Python\n",
    "* Limited memory\n",
    "* Large number of running objects\n",
    "\n",
    "> How to reduce memory footprint of the objects?"
   ]
  },
  {
   "cell_type": "markdown",
   "metadata": {
    "slideshow": {
     "slide_type": "slide"
    }
   },
   "source": [
    "## Dictionary"
   ]
  },
  {
   "cell_type": "code",
   "execution_count": 2,
   "metadata": {},
   "outputs": [],
   "source": [
    "ob = {'x':1, 'y':2, 'z':3}\n",
    "a = ob['x']"
   ]
  },
  {
   "cell_type": "markdown",
   "metadata": {},
   "source": [
    "* Universal\n",
    "* Powerful\n",
    "* Intuitive\n",
    "\n",
    "Since 3.6: `Compact Dict` (inspired by `PyPy`)"
   ]
  },
  {
   "cell_type": "markdown",
   "metadata": {
    "slideshow": {
     "slide_type": "subslide"
    }
   },
   "source": [
    "## Dictionary size"
   ]
  },
  {
   "cell_type": "code",
   "execution_count": 3,
   "metadata": {},
   "outputs": [
    {
     "name": "stdout",
     "output_type": "stream",
     "text": [
      "sizeof: 232\n"
     ]
    }
   ],
   "source": [
    "print('sizeof:', sys.getsizeof(ob))"
   ]
  },
  {
   "cell_type": "markdown",
   "metadata": {
    "slideshow": {
     "slide_type": "-"
    }
   },
   "source": [
    "\n",
    "### Large memory footprint\n",
    "\n",
    "* 1 000 000 instances &rarr; 240 Mb\n",
    "* 10 000 000 instances &rarr; 2.4 Gb"
   ]
  },
  {
   "cell_type": "markdown",
   "metadata": {
    "slideshow": {
     "slide_type": "slide"
    }
   },
   "source": [
    "## Regular Class"
   ]
  },
  {
   "cell_type": "code",
   "execution_count": 4,
   "metadata": {},
   "outputs": [],
   "source": [
    "class Point:\n",
    "    #\n",
    "    def __init__(self, x, y, z):\n",
    "        self.x = x\n",
    "        self.y = y\n",
    "        self.z = z\n",
    "        \n",
    "ob = Point(1,2,3)\n",
    "a = ob.x"
   ]
  },
  {
   "cell_type": "markdown",
   "metadata": {
    "slideshow": {
     "slide_type": "subslide"
    }
   },
   "source": [
    "## Instance structure\n",
    "\n",
    "`-------------------------` <br/>\n",
    "`PyGC_Head        24 bytes` <br/>\n",
    "`-------------------------` <br/>\n",
    "`PyObject_HEAD    16 bytes` <br/>\n",
    "`__weakref__      8  bytes` <br/>\n",
    "`__dict__         8  bytes` <br/>\n",
    "`-------------------------` <br/>\n",
    "**`TOTAL:           56 bytes`**\n"
   ]
  },
  {
   "cell_type": "markdown",
   "metadata": {
    "slideshow": {
     "slide_type": "subslide"
    }
   },
   "source": [
    "## Regular Class: Memory Footprint"
   ]
  },
  {
   "cell_type": "code",
   "execution_count": 5,
   "metadata": {
    "slideshow": {
     "slide_type": "-"
    }
   },
   "outputs": [
    {
     "name": "stdout",
     "output_type": "stream",
     "text": [
      "sizeof: 48 104\n"
     ]
    }
   ],
   "source": [
    "print('sizeof:', sys.getsizeof(ob), sys.getsizeof(ob.__dict__))"
   ]
  },
  {
   "cell_type": "markdown",
   "metadata": {
    "slideshow": {
     "slide_type": "-"
    }
   },
   "source": [
    "> Instance dict has a better memory footprint than regular dict. <br/>\n",
    "PEP 412: Key-Sharing Dictionary, Python 3.3+\n",
    "\n",
    "### Still large memory footprint\n",
    "\n",
    "* 1 000 000 instances &rarr; 168 Mb\n",
    "* 10 000 000 instances &rarr; 1.68 Gb"
   ]
  },
  {
   "cell_type": "markdown",
   "metadata": {
    "slideshow": {
     "slide_type": "slide"
    }
   },
   "source": [
    "## Regular Class + `__slots__`"
   ]
  },
  {
   "cell_type": "code",
   "execution_count": 6,
   "metadata": {},
   "outputs": [],
   "source": [
    "class Point:\n",
    "    __slots__ = 'x', 'y', 'z'\n",
    "        \n",
    "    def __init__(self, x, y, z):\n",
    "        self.x = x\n",
    "        self.y = y\n",
    "        self.z = z"
   ]
  },
  {
   "cell_type": "code",
   "execution_count": 7,
   "metadata": {
    "slideshow": {
     "slide_type": "-"
    }
   },
   "outputs": [
    {
     "name": "stdout",
     "output_type": "stream",
     "text": [
      "sizeof: 56\n",
      "has __dict__? False\n",
      "has __weakref__? False\n"
     ]
    }
   ],
   "source": [
    "ob = Point(1,2,3)\n",
    "print('sizeof:', sys.getsizeof(ob))\n",
    "print('has __dict__?', hasattr(ob, '__dict__'))\n",
    "print('has __weakref__?', hasattr(ob, '__weakref__'))"
   ]
  },
  {
   "cell_type": "markdown",
   "metadata": {
    "slideshow": {
     "slide_type": "subslide"
    }
   },
   "source": [
    "## Instance structure\n",
    "\n",
    "`-------------------------` <br/>\n",
    "`PyGC_Head        24 bytes` <br/>\n",
    "`-------------------------` <br/>\n",
    "`PyObject_HEAD    16 bytes` <br/>\n",
    "`x                8  bytes` <br/>\n",
    "`y                8  bytes` <br/>\n",
    "`z                8  bytes` <br/>\n",
    "`-------------------------` <br/>\n",
    "**`TOTAL:           64 bytes`**\n"
   ]
  },
  {
   "cell_type": "markdown",
   "metadata": {
    "slideshow": {
     "slide_type": "subslide"
    }
   },
   "source": [
    "## Behind the scene"
   ]
  },
  {
   "cell_type": "code",
   "execution_count": 8,
   "metadata": {
    "slideshow": {
     "slide_type": "-"
    }
   },
   "outputs": [
    {
     "name": "stdout",
     "output_type": "stream",
     "text": [
      "mappingproxy({'__doc__': None,\n",
      "              '__init__': <function Point.__init__ at 0x7f4c40293160>,\n",
      "              '__module__': '__main__',\n",
      "              '__slots__': ('x', 'y', 'z'),\n",
      "              'x': <member 'x' of 'Point' objects>,\n",
      "              'y': <member 'y' of 'Point' objects>,\n",
      "              'z': <member 'z' of 'Point' objects>})\n"
     ]
    }
   ],
   "source": [
    "pprint(Point.__dict__)"
   ]
  },
  {
   "cell_type": "markdown",
   "metadata": {},
   "source": [
    "`x`, `y`, `z` in the `Point.__dict__` are special descriptors"
   ]
  },
  {
   "cell_type": "markdown",
   "metadata": {
    "slideshow": {
     "slide_type": "slide"
    }
   },
   "source": [
    "## Tuples"
   ]
  },
  {
   "cell_type": "markdown",
   "metadata": {},
   "source": [
    "> Tuples are like records, but without field names"
   ]
  },
  {
   "cell_type": "code",
   "execution_count": 9,
   "metadata": {},
   "outputs": [],
   "source": [
    "ob = (1,2,3)\n",
    "x = ob[0]"
   ]
  },
  {
   "cell_type": "markdown",
   "metadata": {},
   "source": [
    "> They are compact"
   ]
  },
  {
   "cell_type": "code",
   "execution_count": 10,
   "metadata": {},
   "outputs": [
    {
     "name": "stdout",
     "output_type": "stream",
     "text": [
      "sizeof: 64\n"
     ]
    }
   ],
   "source": [
    "print(\"sizeof:\", sys.getsizeof(ob))"
   ]
  },
  {
   "cell_type": "markdown",
   "metadata": {
    "slideshow": {
     "slide_type": "subslide"
    }
   },
   "source": [
    "## Named tuple\n",
    "\n",
    "> A subclass of tuple with descriptors for access to each item by its name"
   ]
  },
  {
   "cell_type": "code",
   "execution_count": 11,
   "metadata": {},
   "outputs": [],
   "source": [
    "Point = namedtuple(\"Point\", \"x y z\")\n",
    "ob = Point(1,2,3)\n",
    "x = ob.x\n",
    "y = ob[1]"
   ]
  },
  {
   "cell_type": "markdown",
   "metadata": {},
   "source": [
    "> Named tuple &mdash; **immutable** record-like object"
   ]
  },
  {
   "cell_type": "markdown",
   "metadata": {
    "slideshow": {
     "slide_type": "subslide"
    }
   },
   "source": [
    "## Instance structure\n",
    "\n",
    "`-------------------------` <br/>\n",
    "`PyGC_Head        24 bytes` <br/>\n",
    "`-------------------------` <br/>\n",
    "`PyObject_HEAD    16 bytes` <br/>\n",
    "`ob_size          8  bytes` <br/>\n",
    "`x                8  bytes` <br/>\n",
    "`y                8  bytes` <br/>\n",
    "`z                8  bytes` <br/>\n",
    "`-------------------------` <br/>\n",
    "**`TOTAL:           72 bytes`**\n"
   ]
  },
  {
   "cell_type": "markdown",
   "metadata": {
    "slideshow": {
     "slide_type": "slide"
    }
   },
   "source": [
    "## Mutable tuple"
   ]
  },
  {
   "cell_type": "markdown",
   "metadata": {},
   "source": [
    "* It's natural to implement mutable named tuple on the base of ***mutable tuple***.\n",
    "* Python hasn't builtin mutable tuple type.\n",
    "* ***Recordclass*** library introduce `memoryslots` type.\n",
    "  * `mutabletuple` and `tuple` have identical memory structure and size\n"
   ]
  },
  {
   "cell_type": "markdown",
   "metadata": {
    "slideshow": {
     "slide_type": "subslide"
    }
   },
   "source": [
    "## Instance structure\n",
    "\n",
    "`-------------------------` <br/>\n",
    "`PyGC_Head        24 bytes` <br/>\n",
    "`-------------------------` <br/>\n",
    "`PyObject_HEAD    16 bytes` <br/>\n",
    "`ob_size          8  bytes` <br/>\n",
    "`[0]              8  bytes` <br/>\n",
    "`[1]              8  bytes` <br/>\n",
    "`[2]              8  bytes` <br/>\n",
    "`-------------------------` <br/>\n",
    "**`TOTAL:           72 bytes`**\n"
   ]
  },
  {
   "cell_type": "code",
   "execution_count": 12,
   "metadata": {
    "slideshow": {
     "slide_type": "subslide"
    }
   },
   "outputs": [
    {
     "name": "stdout",
     "output_type": "stream",
     "text": [
      "1 mutabletuple(2, 3)\n",
      "Sizeof> mutabletuple: 48 tuple: 64\n"
     ]
    }
   ],
   "source": [
    "mt = mutabletuple(1,2,3)\n",
    "print(mt[0], mt[1:])\n",
    "print('Sizeof>', 'mutabletuple:', sys.getsizeof(mt), 'tuple:', sys.getsizeof((1,2,3)))"
   ]
  },
  {
   "cell_type": "code",
   "execution_count": 13,
   "metadata": {},
   "outputs": [
    {
     "data": {
      "text/plain": [
       "mutabletuple(100, 2, 200)"
      ]
     },
     "execution_count": 13,
     "metadata": {},
     "output_type": "execute_result"
    }
   ],
   "source": [
    "mt[0] = 100\n",
    "mt[-1] = 200\n",
    "mt"
   ]
  },
  {
   "cell_type": "markdown",
   "metadata": {
    "slideshow": {
     "slide_type": "subslide"
    }
   },
   "source": [
    "## Recordclass factory function\n",
    "\n",
    "* Recordclass factory function generate subclass of the `mutabletuple` with descriptors for accessing fields.\n",
    "* It has almost identical API with named tuple.\n",
    "* By default, a `recordclass`-based instance takes up less memory than a `namedtuple`-based instance or a class instance with `__slots__`.\n",
    "  \n",
    "  * By default it, only **reference counting** mechanism is supported. **Cyclic garbage collection** isn't supported, but may be enabled. "
   ]
  },
  {
   "cell_type": "code",
   "execution_count": 14,
   "metadata": {
    "slideshow": {
     "slide_type": "subslide"
    }
   },
   "outputs": [
    {
     "name": "stdout",
     "output_type": "stream",
     "text": [
      "Point(x=1, y=2, z=3)\n",
      "size: 48\n"
     ]
    }
   ],
   "source": [
    "Point = recordclass(\"Point\", \"x y z\")\n",
    "ob = Point(1,2,3)\n",
    "print(ob)\n",
    "print(\"size:\", sys.getsizeof(ob))"
   ]
  },
  {
   "cell_type": "markdown",
   "metadata": {},
   "source": [
    "> Memory footprint is decreased in size of `PyGC_Head`."
   ]
  },
  {
   "cell_type": "markdown",
   "metadata": {
    "slideshow": {
     "slide_type": "subslide"
    }
   },
   "source": [
    "## Instance structure\n",
    "\n",
    "`-------------------------` <br/>\n",
    "`PyObject_HEAD    16 bytes` <br/>\n",
    "`ob_size          8  bytes` <br/>\n",
    "`x                8  bytes` <br/>\n",
    "`y                8  bytes` <br/>\n",
    "`z                8  bytes` <br/>\n",
    "`-------------------------` <br/>\n",
    "**`TOTAL:           48 bytes`**\n"
   ]
  },
  {
   "cell_type": "markdown",
   "metadata": {
    "slideshow": {
     "slide_type": "slide"
    }
   },
   "source": []
  }
 ],
 "metadata": {
  "celltoolbar": "Slideshow",
  "kernelspec": {
   "display_name": "Python 3",
   "language": "python",
   "name": "python3"
  },
  "language_info": {
   "codemirror_mode": {
    "name": "ipython",
    "version": 3
   },
   "file_extension": ".py",
   "mimetype": "text/x-python",
   "name": "python",
   "nbconvert_exporter": "python",
   "pygments_lexer": "ipython3",
   "version": "3.9.2"
  }
 },
 "nbformat": 4,
 "nbformat_minor": 4
}
