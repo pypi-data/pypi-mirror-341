{
 "cells": [
  {
   "cell_type": "code",
   "execution_count": 1,
   "metadata": {},
   "outputs": [
    {
     "name": "stdout",
     "output_type": "stream",
     "text": [
      "2 <class '__main__.dataobject_class'>\n",
      "(1.0) (1.0) (1.0)\n",
      "standard class:\n",
      "The slowest run took 12.58 times longer than the fastest. This could mean that an intermediate result is being cached.\n",
      "10000000 loops, best of 5: 168 ns per loop\n",
      "slot class:\n",
      "The slowest run took 11.98 times longer than the fastest. This could mean that an intermediate result is being cached.\n",
      "10000000 loops, best of 5: 143 ns per loop\n",
      "new_dataclass:\n",
      "The slowest run took 8.16 times longer than the fastest. This could mean that an intermediate result is being cached.\n",
      "10000000 loops, best of 5: 168 ns per loop\n",
      "dataobject_class:\n",
      "The slowest run took 22.45 times longer than the fastest. This could mean that an intermediate result is being cached.\n",
      "10000000 loops, best of 5: 64.3 ns per loop\n"
     ]
    }
   ],
   "source": [
    "from dataclasses import dataclass\n",
    "from recordclass import dataobject\n",
    "from timeit import timeit\n",
    "\n",
    "def  _str(n): return f'({n.x})'\n",
    "\n",
    "class standard_class:\n",
    "    def __init__(self, x=0.0):\n",
    "        self.x = x\n",
    "    def __str__(self): return _str(self)\n",
    "\n",
    "class slot_class:\n",
    "    __slots__ = 'x',\n",
    "    def __init__(self, x=0):\n",
    "        self.x =x\n",
    "    def __str__(self): return _str(self)\n",
    "\n",
    "@dataclass\n",
    "class new_dataclass:\n",
    "    x: float = 0.0\n",
    "    def __str__(self): return _str(self)\n",
    "\n",
    "class dataobject_class(dataobject):\n",
    "    x: float\n",
    "    __options__ = {'argsonly':True}\n",
    "    def __str__(self): return _str(self)\n",
    "\n",
    "sc = standard_class(1.0)\n",
    "sl = slot_class(1.0)\n",
    "dc = new_dataclass(1.0)\n",
    "print(sc,sl,dc)\n",
    "\n",
    "print('standard class:')\n",
    "%timeit standard_class(1.0)\n",
    "print('slot class:')\n",
    "%timeit slot_class(1.0)\n",
    "print('new_dataclass:')\n",
    "%timeit new_dataclass(1.0)\n",
    "print('dataobject_class:')\n",
    "%timeit dataobject_class(1.0)\n"
   ]
  },
  {
   "cell_type": "code",
   "execution_count": null,
   "metadata": {},
   "outputs": [],
   "source": []
  }
 ],
 "metadata": {
  "kernelspec": {
   "display_name": "Python 3 (ipykernel)",
   "language": "python",
   "name": "python3"
  },
  "language_info": {
   "codemirror_mode": {
    "name": "ipython",
    "version": 3
   },
   "file_extension": ".py",
   "mimetype": "text/x-python",
   "name": "python",
   "nbconvert_exporter": "python",
   "pygments_lexer": "ipython3",
   "version": "3.11.2"
  }
 },
 "nbformat": 4,
 "nbformat_minor": 4
}
