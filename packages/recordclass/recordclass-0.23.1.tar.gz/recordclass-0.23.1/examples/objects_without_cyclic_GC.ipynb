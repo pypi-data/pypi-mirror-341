{
 "cells": [
  {
   "cell_type": "markdown",
   "metadata": {},
   "source": [
    "# recordclass: компактные и быстрые объекты"
   ]
  },
  {
   "cell_type": "code",
   "execution_count": 1,
   "metadata": {},
   "outputs": [
    {
     "name": "stdout",
     "output_type": "stream",
     "text": [
      "3.9.7 (default, Sep 24 2021, 09:43:00) \n",
      "[GCC 10.3.0]\n"
     ]
    }
   ],
   "source": [
    "from recordclass import dataobject\n",
    "from recordclass import litelist, litetuple, litelist_fromargs\n",
    "import matplotlib.pyplot as plt\n",
    "import sys\n",
    "print(sys.version)"
   ]
  },
  {
   "cell_type": "markdown",
   "metadata": {},
   "source": [
    "В CPython начиная с версии 2.2 модуль `gc` был интегрирован в ядро. До этого единственным механизмом для сборки мусора был механизм подсчета ссылок.\n",
    "\n",
    "Он работает следующим образом: как только счетчик числа ссылок становится равным нулю происходит удаление объекта из памяти:\n",
    "\n",
    "    if (ob->ob_refcnt == 0)\n",
    "        Py_TYPE(ob)->tp_dealloc(ob);\n",
    "\n",
    "После интеграции `gc` с ядром CPython все пользовательские классы, порожденные при помощи оператора `class`, стали автоматически включаться в механизм поиска циклов. Но, по-прежнему, как только счетчик числа ссылок в экземпляре становится равным нулю, объект сразу удаляется из памяти.\n",
    "\n",
    "Интеграция `gc` привела к тому, что к каждому экземпляру стал прибавляться в оперативной памяти префикс `PyGC_Head`, который в настоящее время имеет размер 16 байт (для 64-битных систем), до CPython 3.8 он занимал в памяти 24 байта. Кроме этого переодические запускается механизм обнаружения циклов. Подавляющее большинство программ ничего *\"не почувствуют\"*.  Однако, если в памяти находится очень большое число объектов, то для некоторых высоко нагруженных систем с ограничениями на объем используемой памяти это может создавать трудности. С многими из них можно успешно бороться, используя современный функционал модуля `gc`."
   ]
  },
  {
   "cell_type": "markdown",
   "metadata": {},
   "source": [
    "Все же для большого класса объектов этот механизм скорее избыточен. Рассмотрим в качестве примера простой конкретный класс для представления точки на плоскости:"
   ]
  },
  {
   "cell_type": "code",
   "execution_count": 2,
   "metadata": {},
   "outputs": [],
   "source": [
    "class Point:\n",
    "    x: int\n",
    "    y: int\n",
    "    def __init__(self, x, y):\n",
    "        self.x = x\n",
    "        self.y = y"
   ]
  },
  {
   "cell_type": "markdown",
   "metadata": {},
   "source": [
    "Адекватное использование экземпляров этого классе в программах и скриптах на CPython не может привести к образованию ссылочных циклов. Если какой-нибудь экземпляр этого класса участвует в ссылочным цикле, в котором он опосредованно ссылается на самого себя, то это означает **ошибку** в программе, так как его атрибуты должны иметь **только** простой тип. Впрочем, ничто в Python не мешает *\"выстрелить себе в ногу\"*."
   ]
  },
  {
   "cell_type": "markdown",
   "metadata": {},
   "source": [
    "В то же время размер экземпляра оставляет желать лучшего:"
   ]
  },
  {
   "cell_type": "markdown",
   "metadata": {},
   "source": [
    "Использование модуля `dataclass` из стандартной библиотеки существенно облегчает создание таких классов:"
   ]
  },
  {
   "cell_type": "code",
   "execution_count": 3,
   "metadata": {},
   "outputs": [],
   "source": [
    "from dataclasses import dataclass\n",
    "\n",
    "@dataclass\n",
    "class Point:\n",
    "    x: int\n",
    "    y: int"
   ]
  },
  {
   "cell_type": "code",
   "execution_count": 4,
   "metadata": {},
   "outputs": [
    {
     "name": "stdout",
     "output_type": "stream",
     "text": [
      "Point(x=1.0, y=2.0)\n",
      "152\n"
     ]
    }
   ],
   "source": [
    "p = Point(1.,2.)\n",
    "print(p)\n",
    "print(sys.getsizeof(p) + sys.getsizeof(p.__dict__))"
   ]
  },
  {
   "cell_type": "markdown",
   "metadata": {},
   "source": [
    "Для уменьшения размера экземпляра существует \"прием\" со `__slots__` (уже работает с `dataclass` в CPython 3.10):"
   ]
  },
  {
   "cell_type": "code",
   "execution_count": 5,
   "metadata": {},
   "outputs": [],
   "source": [
    "class PointSlots:\n",
    "    __slots__ = 'x', 'y'\n",
    "    x: int\n",
    "    y: int\n",
    "    def __init__(self, x, y):\n",
    "        self.x = x\n",
    "        self.y = y"
   ]
  },
  {
   "cell_type": "code",
   "execution_count": 6,
   "metadata": {},
   "outputs": [
    {
     "name": "stdout",
     "output_type": "stream",
     "text": [
      "48\n"
     ]
    }
   ],
   "source": [
    "p = PointSlots(1.,2.)\n",
    "print(sys.getsizeof(p))"
   ]
  },
  {
   "cell_type": "markdown",
   "metadata": {},
   "source": [
    "В экземплярах таких классов отсутствует словарь `__dict__`, нет `__weakref__`, значения атрибутов (ссылки на объекты) хранятся статически в самом экземпляре:\n",
    "\n",
    "|  поле  | размер |\n",
    "|:---------------|--:|\n",
    "| `PyGC_Head` | 16 |\n",
    "| `PyObject_HEAD` | 16 |\n",
    "| `PyObject* x` | 8 |\n",
    "| `PyObject* y` | 8 |\n",
    "\n",
    "**P.S.** *В CPython < 3.8 размер `PyGC_Head` равен 24 байтам.*\n"
   ]
  },
  {
   "cell_type": "markdown",
   "metadata": {},
   "source": [
    "Использование таких классов позволяет существенно уменьшить след экземпляров в оперативной памяти. Но классы со `__slots__` по-прежнему участвуют в механизме поиска ссылочных циклов и имеют префикс `PyGC_Head`. Начиная с CPython 3.10 `dataclass` имеет аргумент `slots`, которые позволяет создавать классы со `__slots__`."
   ]
  },
  {
   "cell_type": "markdown",
   "metadata": {},
   "source": [
    "В библиотеке [recordclass](https://pypi.org/project/recordclass/) реализован механизм создания классов, которые поддерживают **только** механизм подсчета ссылок для утилизации экземпляра и, соответственно, не имеют префикса `PyGC_Head`. Достигается это путем наследования от специального базового класса `dataobject`:"
   ]
  },
  {
   "cell_type": "code",
   "execution_count": 7,
   "metadata": {},
   "outputs": [],
   "source": [
    "class PointDO(dataobject):\n",
    "    x: int\n",
    "    y: int"
   ]
  },
  {
   "cell_type": "code",
   "execution_count": 8,
   "metadata": {},
   "outputs": [
    {
     "name": "stdout",
     "output_type": "stream",
     "text": [
      "PointDO(x=1.0, y=2.0)\n",
      "32\n"
     ]
    }
   ],
   "source": [
    "p = PointDO(1.,2.)\n",
    "print(p)\n",
    "print(sys.getsizeof(p))"
   ]
  },
  {
   "cell_type": "markdown",
   "metadata": {},
   "source": [
    "Экземпляры классов, основанные на `dataobject`, имеют такую же структуру в оперативной памяти, за исключением отсутствия `PyGC_Head`:\n",
    "\n",
    "|  поле  | размер |\n",
    "|:---------------|--:|\n",
    "| `PyObject_HEAD` | 16 |\n",
    "| `PyObject* x` | 8 |\n",
    "| `PyObject* y` | 8 |\n",
    "\n",
    "Другое отличие состоит в том, что дескрипторы для доступа к полям экземпляра, в отличие от классов со `__slots__`, находятся в словаре класса."
   ]
  },
  {
   "cell_type": "markdown",
   "metadata": {},
   "source": [
    "Есть возможность ускорить создание экземпляра взамен на ослабление возможностей по интроспекции аргументов у `__new__`:"
   ]
  },
  {
   "cell_type": "code",
   "execution_count": 9,
   "metadata": {},
   "outputs": [
    {
     "name": "stdout",
     "output_type": "stream",
     "text": [
      "263 ms ± 2.87 ms per loop (mean ± std. dev. of 7 runs, 1 loop each)\n",
      "209 ms ± 439 µs per loop (mean ± std. dev. of 7 runs, 10 loops each)\n",
      "109 ms ± 5.01 ms per loop (mean ± std. dev. of 7 runs, 10 loops each)\n"
     ]
    }
   ],
   "source": [
    "class PointDO(dataobject, fast_new=True):\n",
    "    x: int\n",
    "    y: int\n",
    "\n",
    "%timeit l=[Point(i, i) for i in range(1_000_000)] \n",
    "%timeit l=[PointSlots(i, i) for i in range(1_000_000)] \n",
    "%timeit l=[PointDO(i, i) for i in range(1_000_000)] "
   ]
  },
  {
   "cell_type": "markdown",
   "metadata": {},
   "source": [
    "В библиотеке `recordclass` также есть аналоги списка и кортежа, которые также не участвуют в механизме обнаружения ссылочных циклов и не имеют префикса `PyGC_Head`. С их помощью можно создавать классы для представления терминальных структур данных, экземпляры которых являются более компактными по размеру в оперативной памяти. Например:"
   ]
  },
  {
   "cell_type": "code",
   "execution_count": 10,
   "metadata": {},
   "outputs": [],
   "source": [
    "class PolygonDO(dataobject, fast_new=True):\n",
    "    nodes: litelist"
   ]
  },
  {
   "cell_type": "markdown",
   "metadata": {},
   "source": [
    "Для сравнения приведем аналогичный класс со `__slots__`:"
   ]
  },
  {
   "cell_type": "code",
   "execution_count": 11,
   "metadata": {},
   "outputs": [],
   "source": [
    "class PolygonSlots:\n",
    "    __slots__ = 'nodes'\n",
    "    def __init__(self, nodes):\n",
    "        self.nodes = nodes"
   ]
  },
  {
   "cell_type": "markdown",
   "metadata": {},
   "source": [
    "Созданим одинаковые по содержанию экземпляры классов и сравним их размеры:"
   ]
  },
  {
   "cell_type": "code",
   "execution_count": 12,
   "metadata": {},
   "outputs": [
    {
     "name": "stdout",
     "output_type": "stream",
     "text": [
      "Размер структуры: 40 80 144 всего: 264\n"
     ]
    }
   ],
   "source": [
    "p = PolygonSlots([PointSlots(0,1), PointSlots(1,2), PointSlots(2,0)])\n",
    "print('Размер структуры:', \n",
    "      sys.getsizeof(p), sys.getsizeof(p.nodes), 3*sys.getsizeof(p.nodes[0]),\n",
    "      \"всего:\", sys.getsizeof(p)+sys.getsizeof(p.nodes)+3*sys.getsizeof(p.nodes[0]))"
   ]
  },
  {
   "cell_type": "code",
   "execution_count": 13,
   "metadata": {},
   "outputs": [
    {
     "name": "stdout",
     "output_type": "stream",
     "text": [
      "Размер структуры: 24 64 96 всего: 184\n"
     ]
    }
   ],
   "source": [
    "p = PolygonDO(litelist_fromargs(PointDO(0,1), PointDO(1,2), PointDO(2,0)))\n",
    "print('Размер структуры:', \n",
    "      sys.getsizeof(p), sys.getsizeof(p.nodes), 3*sys.getsizeof(p.nodes[0]),\n",
    "      \"всего:\", sys.getsizeof(p)+sys.getsizeof(p.nodes)+3*sys.getsizeof(p.nodes[0]))"
   ]
  },
  {
   "cell_type": "markdown",
   "metadata": {},
   "source": [
    "На создание экземпляров `PolygonDO` уходит почти в два раза меньше времени, чем на создание `PolygonSlots`:"
   ]
  },
  {
   "cell_type": "code",
   "execution_count": 14,
   "metadata": {},
   "outputs": [
    {
     "name": "stdout",
     "output_type": "stream",
     "text": [
      "755 ms ± 2.79 ms per loop (mean ± std. dev. of 7 runs, 1 loop each)\n",
      "385 ms ± 5.29 ms per loop (mean ± std. dev. of 7 runs, 1 loop each)\n"
     ]
    }
   ],
   "source": [
    "def test_do():\n",
    "    for i in range(1_000_000):\n",
    "        p = PolygonDO(litelist_fromargs(PointDO(i,i+1), PointDO(i+1,i+2), PointDO(i+2,i)))\n",
    "        p_prev = p\n",
    "\n",
    "def test_slots():\n",
    "    for i in range(1_000_000):\n",
    "        p = PolygonSlots([PointSlots(i,i+1), PointSlots(i+1,i+2), PointSlots(i+2,i)])\n",
    "        p_prev = p\n",
    "\n",
    "%timeit l=test_slots()\n",
    "%timeit l=test_do()"
   ]
  },
  {
   "cell_type": "code",
   "execution_count": 15,
   "metadata": {},
   "outputs": [],
   "source": [
    "class Point(dataobject, fast_new=True):\n",
    "    x:int\n",
    "    y:int\n",
    "    z:int\n",
    "\n",
    "class PointGC(dataobject, gc=True, fast_new=True):\n",
    "    x:int\n",
    "    y:int\n",
    "    z:int\n",
    "\n",
    "class PointSlots:\n",
    "    __slots__ = 'x', 'y','z'\n",
    "    \n",
    "    def __init__(self, x, y, z):\n",
    "        self.x = x\n",
    "        self.y = y\n",
    "        self.z = z\n"
   ]
  },
  {
   "cell_type": "code",
   "execution_count": 56,
   "metadata": {},
   "outputs": [],
   "source": [
    "import gc\n",
    "import time\n",
    "\n",
    "def test_with_slots(N=10_000_000):\n",
    "    # gc.collect(2)\n",
    "    t0 = time.perf_counter()\n",
    "    for i in range(N):\n",
    "        p = PointSlots(i, i, i)\n",
    "#     gc.collect()\n",
    "    return time.perf_counter() - t0\n",
    "\n",
    "def test_with_gc(N=10_000_000):\n",
    "    # gc.collect(2)\n",
    "    t0 = time.perf_counter()\n",
    "    for i in range(N):\n",
    "        p = PointGC(i, i, i)\n",
    "#     gc.collect()\n",
    "    return time.perf_counter() - t0\n",
    "        \n",
    "def test_without_gc(N=10_000_000):\n",
    "    # gc.collect(2)\n",
    "    t0 = time.perf_counter()\n",
    "    for i in range(N):\n",
    "        p = Point(i, i, i)\n",
    "#     gc.collect()\n",
    "    return time.perf_counter() - t0\n",
    "\n",
    "        "
   ]
  },
  {
   "cell_type": "code",
   "execution_count": 59,
   "metadata": {},
   "outputs": [
    {
     "data": {
      "image/png": "[encoded data removed]",
      "text/plain": [
       "<Figure size 720x432 with 1 Axes>"
      ]
     },
     "metadata": {
      "needs_background": "light"
     },
     "output_type": "display_data"
    }
   ],
   "source": [
    "import numpy as np\n",
    "import gc\n",
    "Ns = 20*[2**20]\n",
    "gc.collect()\n",
    "gc.collect(2)\n",
    "timings2 = np.array([test_with_gc(N) for N in Ns], 'd')\n",
    "gc.collect()\n",
    "gc.collect(2)\n",
    "timings3 = np.array([test_with_slots(N) for N in Ns], 'd')\n",
    "gc.collect()\n",
    "gc.collect(2)\n",
    "timings1 = np.array([test_without_gc(N) for N in Ns], 'd')\n",
    "plt.figure(figsize=(10,6))\n",
    "plt.plot(timings1, label=\"dataobject\")\n",
    "plt.plot(timings2, label=\"dataobject+GC\")\n",
    "plt.plot(timings3, label=\"slots\")\n",
    "plt.legend()\n",
    "plt.xlabel('N')\n",
    "plt.ylabel('time')\n",
    "plt.minorticks_on()\n",
    "plt.grid(1)\n",
    "plt.savefig(\"objects_without_cyclic_GC1.jpg\")\n",
    "plt.show()"
   ]
  },
  {
   "cell_type": "code",
   "execution_count": 54,
   "metadata": {},
   "outputs": [
    {
     "data": {
      "image/png": "[encoded data removed]",
      "text/plain": [
       "<Figure size 720x432 with 1 Axes>"
      ]
     },
     "metadata": {
      "needs_background": "light"
     },
     "output_type": "display_data"
    }
   ],
   "source": [
    "import numpy as np\n",
    "import gc\n",
    "Ns = [2**n for n in range(12,22)]\n",
    "Ms = list(range(12,22))\n",
    "gc.collect(2)\n",
    "timings2 = np.array([test_with_gc(N) for N in Ns], 'd')\n",
    "gc.collect(2)\n",
    "timings3 = np.array([test_with_slots(N) for N in Ns], 'd')\n",
    "gc.collect(2)\n",
    "timings1 = np.array([test_without_gc(N) for N in Ns], 'd')\n",
    "plt.figure(figsize=(10,6))\n",
    "plt.plot(Ns, timings1, label=\"dataobject\")\n",
    "plt.plot(Ns, timings2, label=\"dataobject+GC\")\n",
    "plt.plot(Ns, timings3, label=\"slots\")\n",
    "plt.legend()\n",
    "plt.xlabel('N')\n",
    "plt.ylabel('time')\n",
    "plt.minorticks_on()\n",
    "plt.grid(1)\n",
    "plt.savefig(\"objects_without_cyclic_GC1.jpg\")\n",
    "plt.show()"
   ]
  },
  {
   "cell_type": "code",
   "execution_count": 40,
   "metadata": {},
   "outputs": [],
   "source": [
    "def test_with_gc(N=1000000):\n",
    "    gc.collect(2)\n",
    "    gc.disable()\n",
    "    t0 = time.time()\n",
    "    for i in range(N):\n",
    "        p = PointGC(i, i+1)\n",
    "    dt = time.time() - t0\n",
    "    gc.enable()\n",
    "    return dt\n",
    "        \n",
    "def test_without_gc(N=1000000):\n",
    "    gc.collect(2)\n",
    "    gc.disable()\n",
    "    t0 = time.time()\n",
    "    for i in range(N):\n",
    "        p = Point(i, i+1)\n",
    "    dt = time.time() - t0\n",
    "    gc.enable()\n",
    "    return dt\n",
    "\n",
    "def test_with_slots(N=1000000):\n",
    "    gc.collect(2)\n",
    "    gc.disable()\n",
    "    t0 = time.time()\n",
    "    for i in range(N):\n",
    "        p = PointSlots(i, i+1)\n",
    "    dt = time.time() - t0\n",
    "    gc.enable()\n",
    "    return dt\n"
   ]
  },
  {
   "cell_type": "code",
   "execution_count": 33,
   "metadata": {},
   "outputs": [
    {
     "data": {
      "image/png": "[encoded data removed]",
      "text/plain": [
       "<Figure size 720x432 with 1 Axes>"
      ]
     },
     "metadata": {
      "needs_background": "light"
     },
     "output_type": "display_data"
    }
   ],
   "source": [
    "Ns = [2**n for n in range(12,22)]\n",
    "Ms = list(range(12,22))\n",
    "timings1 = np.array([test_without_gc(N) for N in Ns], 'd')\n",
    "timings2 = np.array([test_with_gc(N) for N in Ns], 'd')\n",
    "timings3 = np.array([test_with_slots(N) for N in Ns], 'd')\n",
    "plt.figure(figsize=(10,6))\n",
    "plt.plot(Ns, timings1, label=\"dataobject\")\n",
    "plt.plot(Ns, timings2, label=\"dataobject+GC\")\n",
    "plt.plot(Ns, timings3, label=\"slots\")\n",
    "plt.legend()\n",
    "plt.xlabel('N')\n",
    "plt.ylabel('time')\n",
    "plt.minorticks_on()\n",
    "plt.grid(1)\n",
    "plt.savefig(\"objects_without_cyclic_GC3.jpg\")\n",
    "plt.show()"
   ]
  },
  {
   "cell_type": "code",
   "execution_count": 10,
   "metadata": {},
   "outputs": [],
   "source": [
    "import tracemalloc\n",
    "class Tracer:\n",
    "    def __enter__(self):\n",
    "        if tracemalloc.is_tracing():\n",
    "            raise ValueError('nesting tracemalloc is not allowed')\n",
    "        self.allocated = None\n",
    "        tracemalloc.start()\n",
    "        return self\n",
    "    def __exit__(self, exc_type, exc_value, exc_traceback):\n",
    "        current, peak = tracemalloc.get_traced_memory()\n",
    "        tracemalloc.stop()\n",
    "        self.allocated = current"
   ]
  },
  {
   "cell_type": "code",
   "execution_count": 11,
   "metadata": {},
   "outputs": [],
   "source": [
    "def test_with_gc(N=1000000):\n",
    "    for i in range(N):\n",
    "        p = PointGC(i, i+1)\n",
    "        \n",
    "def test_without_gc(N=1000000):\n",
    "    for i in range(N):\n",
    "        p = Point(i, i+1)\n",
    "\n",
    "def test_with_slots(N=1000000):\n",
    "    for i in range(N):\n",
    "        p = PointSlots(i, i+1)\n"
   ]
  },
  {
   "cell_type": "code",
   "execution_count": 12,
   "metadata": {},
   "outputs": [],
   "source": [
    "def mtrace(Ns, func):\n",
    "    gc.enable()\n",
    "    gc.collect()\n",
    "    gc.collect()\n",
    "    gc.collect()\n",
    "    Ds = []\n",
    "    for N in Ns:\n",
    "        with Tracer() as t:\n",
    "            func(N)\n",
    "        Ds.append(t.allocated)\n",
    "    return Ds"
   ]
  },
  {
   "cell_type": "code",
   "execution_count": 13,
   "metadata": {},
   "outputs": [
    {
     "name": "stdout",
     "output_type": "stream",
     "text": [
      "[896, 731, 0, 0, 0, 0, 0, 0, 0, 0]\n",
      "[504, 0, 0, 0, 0, 0, 0, 0, 0, 0]\n",
      "[504, 0, 0, 0, 0, 0, 0, 0, 0, 0]\n"
     ]
    },
    {
     "data": {
      "image/png": "[encoded data removed]",
      "text/plain": [
       "<Figure size 720x432 with 1 Axes>"
      ]
     },
     "metadata": {
      "needs_background": "light"
     },
     "output_type": "display_data"
    }
   ],
   "source": [
    "Ns = [2**n for n in range(12,22)]\n",
    "Ds1 = mtrace(Ns, test_without_gc)\n",
    "Ds2 = mtrace(Ns, test_with_gc)\n",
    "Ds3 = mtrace(Ns, test_with_slots)\n",
    "print(Ds1)\n",
    "print(Ds2)\n",
    "print(Ds3)\n",
    "\n",
    "plt.figure(figsize=(10,6))\n",
    "plt.loglog(Ns, Ds1, label=\"dataobject\")\n",
    "plt.loglog(Ns, Ds2, label=\"dataobject+GC\")\n",
    "plt.loglog(Ns, Ds3, label=\"slots\")\n",
    "plt.legend()\n",
    "plt.xlabel('N')\n",
    "plt.ylabel('Memory size, Mb')\n",
    "plt.minorticks_on()\n",
    "plt.grid(1)\n",
    "y1, y2 = plt.ylim()\n",
    "plt.ylim(1, y2)\n",
    "plt.savefig(\"objects_without_cyclic_GC4.jpg\")\n",
    "plt.show()"
   ]
  }
 ],
 "metadata": {
  "kernelspec": {
   "display_name": "Python 3 (ipykernel)",
   "language": "python",
   "name": "python3"
  },
  "language_info": {
   "codemirror_mode": {
    "name": "ipython",
    "version": 3
   },
   "file_extension": ".py",
   "mimetype": "text/x-python",
   "name": "python",
   "nbconvert_exporter": "python",
   "pygments_lexer": "ipython3",
   "version": "3.9.7"
  }
 },
 "nbformat": 4,
 "nbformat_minor": 4
}
