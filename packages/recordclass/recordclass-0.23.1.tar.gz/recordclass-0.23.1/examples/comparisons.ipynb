{
 "cells": [
  {
   "cell_type": "code",
   "execution_count": null,
   "metadata": {},
   "outputs": [],
   "source": [
    "from recordclass import recordclass, make_dataclass, dataobject\n",
    "from recordclass import asdict\n",
    "from namedlist import namedlist\n",
    "from sys import getsizeof as sizeof\n",
    "import pickle"
   ]
  },
  {
   "cell_type": "code",
   "execution_count": null,
   "metadata": {},
   "outputs": [],
   "source": [
    "Point1 = namedlist('Point1', ('x', 'y'))\n",
    "Point2 = recordclass('Point2', 'x y')\n",
    "Point3 = make_dataclass('Point3', 'x y', sequence=True)"
   ]
  },
  {
   "cell_type": "code",
   "execution_count": 3,
   "metadata": {},
   "outputs": [],
   "source": [
    "def test_instance(p):\n",
    "    # sys.getsizeof\n",
    "    print(\"sizeof:\", sizeof(p))\n",
    "    # access by name\n",
    "    print(\"x=\", p.x, \"y=\", p.x)\n",
    "    # access by index\n",
    "    print(\"0:\", p[0], \"1:\", p[1])\n",
    "    # iterative unpacking\n",
    "    x, y = p\n",
    "    # iteration\n",
    "    print([v for v in p])\n",
    "    # inplace mutability\n",
    "    p.x = -1\n",
    "    # repr\n",
    "    print(p)\n",
    "    # pickle/unpickle\n",
    "    d = pickle.dumps(p)\n",
    "    p2 = pickle.loads(d)\n",
    "    print(\"pickle/unpickle:\", p == p2)\n",
    "    "
   ]
  },
  {
   "cell_type": "code",
   "execution_count": 4,
   "metadata": {},
   "outputs": [
    {
     "name": "stdout",
     "output_type": "stream",
     "text": [
      "2 <class '__main__.CmpInfo'>\n",
      "<class '__main__.CmpInfo'>\n"
     ]
    }
   ],
   "source": [
    "Info = make_dataclass(\"CmpInfo\", \n",
    "               \"id mutable repr sizeof name_access index_access key_access asdict iteration unpacking pickle cyclic_GC\")\n",
    "info = Info([], [], [], [], [], [], [], [], [], [], [], [])"
   ]
  },
  {
   "cell_type": "code",
   "execution_count": 5,
   "metadata": {},
   "outputs": [
    {
     "name": "stdout",
     "output_type": "stream",
     "text": [
      "sizeof: 64\n",
      "x= 1 y= 1\n",
      "0: 1 1: 2\n",
      "[1, 2]\n",
      "Point1(x=-1, y=2)\n",
      "pickle/unpickle: True\n",
      "OrderedDict([('x', -1), ('y', 2)])\n"
     ]
    }
   ],
   "source": [
    "p1 = Point1(x=1, y=2)\n",
    "test_instance(p1)\n",
    "info.id.append('namedlist')\n",
    "info.mutable.append('+')\n",
    "info.repr.append('+')\n",
    "info.sizeof.append(sizeof(p1))\n",
    "info.name_access.append('+')\n",
    "info.index_access.append('+')\n",
    "info.key_access.append('-')\n",
    "info.asdict.append('+')\n",
    "print(p1._asdict())\n",
    "info.iteration.append('+')\n",
    "info.unpacking.append('+')\n",
    "info.pickle.append('+')\n",
    "info.cyclic_GC.append('+')"
   ]
  },
  {
   "cell_type": "code",
   "execution_count": 6,
   "metadata": {},
   "outputs": [
    {
     "name": "stdout",
     "output_type": "stream",
     "text": [
      "sizeof: 40\n",
      "x= 1 y= 1\n",
      "0: 1 1: 2\n",
      "[1, 2]\n",
      "Point2(x=-1, y=2)\n",
      "pickle/unpickle: True\n",
      "OrderedDict([('x', -1), ('y', 2)])\n"
     ]
    }
   ],
   "source": [
    "p2 = Point2(x=1, y=2)\n",
    "test_instance(p2)\n",
    "info.id.append('recordclass')\n",
    "info.mutable.append('+')\n",
    "info.repr.append('+')\n",
    "info.sizeof.append(sizeof(p2))\n",
    "info.name_access.append('+')\n",
    "info.index_access.append('+')\n",
    "info.key_access.append('-')\n",
    "info.asdict.append('+')\n",
    "print(p2._asdict())\n",
    "info.iteration.append('+')\n",
    "info.unpacking.append('+')\n",
    "info.pickle.append('+')\n",
    "info.cyclic_GC.append('∓')"
   ]
  },
  {
   "cell_type": "code",
   "execution_count": 7,
   "metadata": {},
   "outputs": [
    {
     "name": "stdout",
     "output_type": "stream",
     "text": [
      "sizeof: 32\n",
      "x= 1 y= 1\n",
      "0: 1 1: 2\n",
      "[1, 2]\n",
      "Point3(x=-1, y=2)\n",
      "pickle/unpickle: True\n"
     ]
    }
   ],
   "source": [
    "p3 = Point3(x=1, y=2)\n",
    "test_instance(p3)\n",
    "info.id.append('dataobject')\n",
    "info.mutable.append('+')\n",
    "info.repr.append('+')\n",
    "info.sizeof.append(sizeof(p3))\n",
    "info.name_access.append('+')\n",
    "info.index_access.append('∓')\n",
    "info.key_access.append('∓')\n",
    "info.asdict.append('+')\n",
    "asdict(p3)\n",
    "info.iteration.append('+')\n",
    "info.unpacking.append('+')\n",
    "info.pickle.append('+')\n",
    "info.cyclic_GC.append('∓') # ±"
   ]
  },
  {
   "cell_type": "code",
   "execution_count": 8,
   "metadata": {},
   "outputs": [
    {
     "data": {
      "text/html": [
       "<div>\n",
       "<style scoped>\n",
       "    .dataframe tbody tr th:only-of-type {\n",
       "        vertical-align: middle;\n",
       "    }\n",
       "\n",
       "    .dataframe tbody tr th {\n",
       "        vertical-align: top;\n",
       "    }\n",
       "\n",
       "    .dataframe thead th {\n",
       "        text-align: right;\n",
       "    }\n",
       "</style>\n",
       "<table border=\"1\" class=\"dataframe\">\n",
       "  <thead>\n",
       "    <tr style=\"text-align: right;\">\n",
       "      <th></th>\n",
       "      <th>mutable</th>\n",
       "      <th>repr</th>\n",
       "      <th>sizeof</th>\n",
       "      <th>name_access</th>\n",
       "      <th>index_access</th>\n",
       "      <th>key_access</th>\n",
       "      <th>asdict</th>\n",
       "      <th>iteration</th>\n",
       "      <th>unpacking</th>\n",
       "      <th>pickle</th>\n",
       "      <th>cyclic_GC</th>\n",
       "    </tr>\n",
       "    <tr>\n",
       "      <th>id</th>\n",
       "      <th></th>\n",
       "      <th></th>\n",
       "      <th></th>\n",
       "      <th></th>\n",
       "      <th></th>\n",
       "      <th></th>\n",
       "      <th></th>\n",
       "      <th></th>\n",
       "      <th></th>\n",
       "      <th></th>\n",
       "      <th></th>\n",
       "    </tr>\n",
       "  </thead>\n",
       "  <tbody>\n",
       "    <tr>\n",
       "      <th>namedlist</th>\n",
       "      <td>+</td>\n",
       "      <td>+</td>\n",
       "      <td>64</td>\n",
       "      <td>+</td>\n",
       "      <td>+</td>\n",
       "      <td>-</td>\n",
       "      <td>+</td>\n",
       "      <td>+</td>\n",
       "      <td>+</td>\n",
       "      <td>+</td>\n",
       "      <td>+</td>\n",
       "    </tr>\n",
       "    <tr>\n",
       "      <th>recordclass</th>\n",
       "      <td>+</td>\n",
       "      <td>+</td>\n",
       "      <td>40</td>\n",
       "      <td>+</td>\n",
       "      <td>+</td>\n",
       "      <td>-</td>\n",
       "      <td>+</td>\n",
       "      <td>+</td>\n",
       "      <td>+</td>\n",
       "      <td>+</td>\n",
       "      <td>∓</td>\n",
       "    </tr>\n",
       "    <tr>\n",
       "      <th>dataobject</th>\n",
       "      <td>+</td>\n",
       "      <td>+</td>\n",
       "      <td>32</td>\n",
       "      <td>+</td>\n",
       "      <td>∓</td>\n",
       "      <td>∓</td>\n",
       "      <td>+</td>\n",
       "      <td>+</td>\n",
       "      <td>+</td>\n",
       "      <td>+</td>\n",
       "      <td>∓</td>\n",
       "    </tr>\n",
       "  </tbody>\n",
       "</table>\n",
       "</div>"
      ],
      "text/plain": [
       "            mutable repr  sizeof name_access index_access key_access asdict  \\\n",
       "id                                                                            \n",
       "namedlist         +    +      64           +            +          -      +   \n",
       "recordclass       +    +      40           +            +          -      +   \n",
       "dataobject        +    +      32           +            ∓          ∓      +   \n",
       "\n",
       "            iteration unpacking pickle cyclic_GC  \n",
       "id                                                \n",
       "namedlist           +         +      +         +  \n",
       "recordclass         +         +      +         ∓  \n",
       "dataobject          +         +      +         ∓  "
      ]
     },
     "execution_count": 8,
     "metadata": {},
     "output_type": "execute_result"
    }
   ],
   "source": [
    "import pandas as pd\n",
    "df = pd.DataFrame(asdict(info))\n",
    "df.set_index('id', inplace=True)\n",
    "df"
   ]
  },
  {
   "cell_type": "markdown",
   "metadata": {},
   "source": [
    "> Notes:\n",
    "  \n",
    "> __+__ = feature is enabled\n",
    "\n",
    ">  __±__ = feature is enabled by default, but may be disabled\n",
    "\n",
    ">  __∓__ = feature is disabled by default, but may be enabled"
   ]
  },
  {
   "cell_type": "code",
   "execution_count": null,
   "metadata": {},
   "outputs": [],
   "source": []
  }
 ],
 "metadata": {
  "kernelspec": {
   "display_name": "Python 3 (ipykernel)",
   "language": "python",
   "name": "python3"
  },
  "language_info": {
   "codemirror_mode": {
    "name": "ipython",
    "version": 3
   },
   "file_extension": ".py",
   "mimetype": "text/x-python",
   "name": "python",
   "nbconvert_exporter": "python",
   "pygments_lexer": "ipython3",
   "version": "3.11.2"
  }
 },
 "nbformat": 4,
 "nbformat_minor": 4
}
