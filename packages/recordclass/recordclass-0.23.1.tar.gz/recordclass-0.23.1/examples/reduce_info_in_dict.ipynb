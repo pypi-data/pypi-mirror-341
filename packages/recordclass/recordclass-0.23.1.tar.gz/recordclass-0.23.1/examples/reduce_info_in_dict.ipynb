{
 "cells": [
  {
   "cell_type": "code",
   "execution_count": 1,
   "metadata": {},
   "outputs": [],
   "source": [
    "from recordclass import make_arrayclass, litelist\n",
    "from random import randint"
   ]
  },
  {
   "cell_type": "code",
   "execution_count": 2,
   "metadata": {},
   "outputs": [],
   "source": [
    "import tracemalloc\n",
    "class Tracer:\n",
    "    def __enter__(self):\n",
    "        if tracemalloc.is_tracing():\n",
    "            raise ValueError('nesting tracemalloc is not allowed')\n",
    "        self.allocated = None\n",
    "        tracemalloc.start()\n",
    "        return self\n",
    "    def __exit__(self, exc_type, exc_value, exc_traceback):\n",
    "        current, peak = tracemalloc.get_traced_memory()\n",
    "        tracemalloc.stop()\n",
    "        self.allocated = current"
   ]
  },
  {
   "cell_type": "code",
   "execution_count": 5,
   "metadata": {},
   "outputs": [
    {
     "name": "stdout",
     "output_type": "stream",
     "text": [
      "dict: 307 Mb\n"
     ]
    }
   ],
   "source": [
    "with Tracer() as t0:\n",
    "   d0 = {i:None for i in range(5_000_000)}\n",
    "print(\"dict:\", t0.allocated // 1_000_000, 'Mb')\n",
    "del d0, t0"
   ]
  },
  {
   "cell_type": "code",
   "execution_count": 6,
   "metadata": {},
   "outputs": [
    {
     "name": "stdout",
     "output_type": "stream",
     "text": [
      "regular: 3387 Mb\n"
     ]
    }
   ],
   "source": [
    "with Tracer() as t1:\n",
    "    d1 = {}\n",
    "    for i in range(N):\n",
    "        key = (randint(0,N), randint(0,N), randint(0,N))\n",
    "        val = [randint(0,N) for i in range(10)]\n",
    "        d1[key] = val\n",
    "print(\"regular:\", t1.allocated // 1_000_000, 'Mb')\n",
    "del d1, t1"
   ]
  },
  {
   "cell_type": "code",
   "execution_count": 7,
   "metadata": {},
   "outputs": [
    {
     "name": "stdout",
     "output_type": "stream",
     "text": [
      "recordclass: 2107 Mb\n"
     ]
    }
   ],
   "source": [
    "Triple = make_arrayclass(\"Triple\", 3, hashable=True)\n",
    "\n",
    "with Tracer() as t2:\n",
    "    d2 = {}\n",
    "    for i in range(N):\n",
    "        key = Triple(randint(0,N), randint(0,N), randint(0,N))\n",
    "        val = litelist([randint(0,N) for i in range(6)])\n",
    "        d2[key] = val\n",
    "print(\"recordclass:\", t2.allocated // 1_000_000, 'Mb')\n",
    "del d2, t2"
   ]
  },
  {
   "cell_type": "code",
   "execution_count": 8,
   "metadata": {},
   "outputs": [
    {
     "name": "stdout",
     "output_type": "stream",
     "text": [
      "80\n",
      "40\n",
      "96\n",
      "72\n"
     ]
    }
   ],
   "source": [
    "import sys\n",
    "print(sys.getsizeof((1,2,3)))\n",
    "print(sys.getsizeof(Triple(1,2,3)))\n",
    "print(sys.getsizeof([1,2,3]))\n",
    "print(sys.getsizeof(litelist([1,2,3])))\n"
   ]
  },
  {
   "cell_type": "code",
   "execution_count": null,
   "metadata": {},
   "outputs": [],
   "source": []
  }
 ],
 "metadata": {
  "kernelspec": {
   "display_name": "Python 3",
   "language": "python",
   "name": "python3"
  },
  "language_info": {
   "codemirror_mode": {
    "name": "ipython",
    "version": 3
   },
   "file_extension": ".py",
   "mimetype": "text/x-python",
   "name": "python",
   "nbconvert_exporter": "python",
   "pygments_lexer": "ipython3",
   "version": "3.7.6"
  }
 },
 "nbformat": 4,
 "nbformat_minor": 4
}
