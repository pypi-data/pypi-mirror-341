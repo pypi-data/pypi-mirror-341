{
 "cells": [
  {
   "cell_type": "code",
   "execution_count": 1,
   "metadata": {},
   "outputs": [],
   "source": [
    "import random\n",
    "import sys\n",
    "from collections import deque\n",
    "from recordclass import dataobject\n",
    "import time\n",
    "import matplotlib.pyplot as plt\n",
    "import math\n",
    "import gc\n",
    "import numpy as np"
   ]
  },
  {
   "cell_type": "code",
   "execution_count": 2,
   "metadata": {},
   "outputs": [],
   "source": [
    "def random_strings(num_strings):\n",
    "    random.seed(2)\n",
    "    symbols = \"abcdefghijklmnopqrstuvwxyz\"\n",
    "\n",
    "    for i in range(num_strings):\n",
    "        length = random.randint(5, 15)\n",
    "        yield \"\".join(random.choices(symbols, k=length))"
   ]
  },
  {
   "cell_type": "code",
   "execution_count": 3,
   "metadata": {},
   "outputs": [],
   "source": [
    "class Node:\n",
    "    #__slots__ = (\"char\", \"count\", \"lo\", \"eq\", \"hi\")\n",
    "    __slots__ = (\"char\", \"lo\", \"eq\", \"hi\")\n",
    "\n",
    "    def __init__(self, char):\n",
    "        self.char = char\n",
    "#         self.count = 0\n",
    "\n",
    "        self.lo = None\n",
    "        self.eq = None\n",
    "        self.hi = None\n",
    "\n",
    "class TernarySearchTree():\n",
    "    \"\"\"Ternary search tree that stores counts for n-grams\n",
    "    and their subsequences.\n",
    "    \"\"\"\n",
    "\n",
    "    def __init__(self, splitchar=None):\n",
    "        self.root = None\n",
    "        self.splitchar = splitchar\n",
    "\n",
    "    def insert(self, string):\n",
    "        self.root = self._insert(string, self.root)\n",
    "\n",
    "    def _insert(self, string, node):\n",
    "        \"\"\"Insert string at a given node.\n",
    "        \"\"\"\n",
    "        if not string:\n",
    "            return node\n",
    "\n",
    "        char, *rest = string\n",
    "\n",
    "        if node is None:\n",
    "            node = Node(char)\n",
    "\n",
    "        if char == node.char:\n",
    "            if not rest:\n",
    "#                 node.count += 1\n",
    "                return node\n",
    "            else:\n",
    "#                 if rest[0] == self.splitchar:\n",
    "#                     node.count += 1\n",
    "                node.eq = self._insert(rest, node.eq)\n",
    "        elif char < node.char:\n",
    "            node.lo = self._insert(string, node.lo)\n",
    "        else:\n",
    "            node.hi = self._insert(string, node.hi)\n",
    "\n",
    "        return node\n",
    "\n",
    "def train(N):\n",
    "    tree = TernarySearchTree(\"#\")\n",
    "    grams = deque(maxlen=4)\n",
    "\n",
    "    for token in random_strings(N):\n",
    "        grams.append(token)\n",
    "        tree.insert(\"#\".join(grams))\n",
    "    return tree"
   ]
  },
  {
   "cell_type": "code",
   "execution_count": 4,
   "metadata": {},
   "outputs": [],
   "source": [
    "class Node2(dataobject):\n",
    "#     __fields__ = (\"char\", \"count\", \"lo\", \"eq\", \"hi\")\n",
    "    __fields__ = (\"char\", \"lo\", \"eq\", \"hi\")\n",
    "    __options__ = {'fast_new':True}\n",
    "#     lo = None\n",
    "#     eq = None\n",
    "#     hi = None\n",
    "\n",
    "class TernarySearchTree2():\n",
    "    \"\"\"Ternary search tree that stores counts for n-grams\n",
    "    and their subsequences.\n",
    "    \"\"\"\n",
    "\n",
    "    def __init__(self, splitchar=None):\n",
    "        self.root = None\n",
    "        self.splitchar = splitchar\n",
    "\n",
    "    def insert(self, string):\n",
    "        self.root = self._insert(string, self.root)\n",
    "\n",
    "    def _insert(self, string, node):\n",
    "        \"\"\"Insert string at a given node.\n",
    "        \"\"\"\n",
    "        if not string:\n",
    "            return node\n",
    "\n",
    "        char, *rest = string\n",
    "\n",
    "        if node is None:\n",
    "            node = Node2(char)\n",
    "\n",
    "        if char == node.char:\n",
    "            if not rest:\n",
    "#                 node.count += 1\n",
    "                return node\n",
    "            else:\n",
    "#                 if rest[0] == self.splitchar:\n",
    "#                     node.count += 1\n",
    "                node.eq = self._insert(rest, node.eq)\n",
    "\n",
    "        elif char < node.char:\n",
    "            node.lo = self._insert(string, node.lo)\n",
    "\n",
    "        else:\n",
    "            node.hi = self._insert(string, node.hi)\n",
    "\n",
    "        return node\n",
    "\n",
    "def train2(N):\n",
    "    tree = TernarySearchTree2(\"#\")\n",
    "    grams = deque(maxlen=4)\n",
    "\n",
    "    for token in random_strings(N):\n",
    "        grams.append(token)\n",
    "        tree.insert(\"#\".join(grams))\n",
    "    return tree"
   ]
  },
  {
   "cell_type": "code",
   "execution_count": 5,
   "metadata": {},
   "outputs": [],
   "source": [
    "q2 = math.sqrt(2)"
   ]
  },
  {
   "cell_type": "code",
   "execution_count": 6,
   "metadata": {},
   "outputs": [
    {
     "data": {
      "text/plain": [
       "51"
      ]
     },
     "execution_count": 6,
     "metadata": {},
     "output_type": "execute_result"
    }
   ],
   "source": [
    "import gc\n",
    "gc.collect()"
   ]
  },
  {
   "cell_type": "code",
   "execution_count": 7,
   "metadata": {},
   "outputs": [
    {
     "name": "stdout",
     "output_type": "stream",
     "text": [
      "32768 2.33\n",
      "46340 3.01\n",
      "65534 3.80\n",
      "92679 5.19\n",
      "131067 7.57\n",
      "185356 10.64\n",
      "262132 14.85\n",
      "370710 20.55\n",
      "524263 29.63\n",
      "741419 43.40\n",
      "1048524 61.17\n",
      "1482836 83.44\n",
      "2097046 118.81\n"
     ]
    }
   ],
   "source": [
    "gc.collect()\n",
    "ns = []\n",
    "times = []\n",
    "n = 1024 * 32\n",
    "n2 = 1024 * 1024 * 2\n",
    "while n < n2 + 1:\n",
    "    t0 = time.time()\n",
    "    tree = train(n)\n",
    "    del tree\n",
    "    dt = time.time() - t0\n",
    "    ns.append(n)\n",
    "    times.append(dt)\n",
    "    print(n, \"%.2f\" % (dt,))\n",
    "    n = int(n * q2)"
   ]
  },
  {
   "cell_type": "code",
   "execution_count": 8,
   "metadata": {},
   "outputs": [
    {
     "name": "stdout",
     "output_type": "stream",
     "text": [
      "32768 1.18\n",
      "46340 1.65\n",
      "65534 2.37\n",
      "92679 3.59\n",
      "131067 5.13\n",
      "185356 7.07\n",
      "262132 10.16\n",
      "370710 14.23\n",
      "524263 20.22\n",
      "741419 28.77\n",
      "1048524 40.73\n",
      "1482836 57.28\n",
      "2097046 82.13\n"
     ]
    }
   ],
   "source": [
    "gc.collect()\n",
    "ns2 = []\n",
    "times2 = []\n",
    "# times2_del = []\n",
    "n = 1024 * 32\n",
    "n2 = 1024 * 1024 * 2\n",
    "while n < n2+1:\n",
    "    t0 = time.time()\n",
    "    tree2 = train2(n)\n",
    "    del tree2\n",
    "    dt = time.time() - t0\n",
    "    ns2.append(n)\n",
    "    times2.append(dt)\n",
    "    print(n, \"%.2f\" % (dt,))\n",
    "    n = int(n * q2)"
   ]
  },
  {
   "cell_type": "code",
   "execution_count": 9,
   "metadata": {},
   "outputs": [
    {
     "name": "stderr",
     "output_type": "stream",
     "text": [
      "/usr/lib/python3/dist-packages/seaborn/_decorators.py:36: FutureWarning: Pass the following variables as keyword args: x, y. From version 0.12, the only valid positional argument will be `data`, and passing other arguments without an explicit keyword will result in an error or misinterpretation.\n",
      "  warnings.warn(\n"
     ]
    },
    {
     "name": "stdout",
     "output_type": "stream",
     "text": [
      "3.2959606694088937 3.8122794477562874\n",
      "0.8645642887875723\n"
     ]
    },
    {
     "data": {
      "image/png": "[encoded data removed]",
      "text/plain": [
       "<Figure size 432x288 with 1 Axes>"
      ]
     },
     "metadata": {
      "needs_background": "light"
     },
     "output_type": "display_data"
    }
   ],
   "source": [
    "import seaborn as sb\n",
    "import statsmodels\n",
    "x = np.log(ns)\n",
    "y = np.log(np.array(times) - np.array(times2))\n",
    "sb.regplot(x, y, robust=True, fit_reg=True)\n",
    "dy = y[-1] - y[1]\n",
    "dx = x[-1] - x[1]\n",
    "print(dy, dx)\n",
    "print(dy/dx)"
   ]
  },
  {
   "cell_type": "code",
   "execution_count": 11,
   "metadata": {},
   "outputs": [
    {
     "data": {
      "image/png": "[encoded data removed]",
      "text/plain": [
       "<Figure size 720x288 with 2 Axes>"
      ]
     },
     "metadata": {
      "needs_background": "light"
     },
     "output_type": "display_data"
    }
   ],
   "source": [
    "plt.figure(figsize=(10, 4))\n",
    "plt.subplot(1,2,1)\n",
    "plt.title('Create tree')\n",
    "plt.loglog(ns, times, marker='o', label='slots')\n",
    "plt.loglog(ns2, times2, marker='o', label='dataobject')\n",
    "plt.xlabel(\"N\")\n",
    "plt.ylabel(\"time\")\n",
    "plt.legend()\n",
    "plt.subplot(1,2,2)\n",
    "plt.title('Ratio')\n",
    "plt.plot(np.log2(ns), [x/y for x,y in zip(times, times2)], marker='o')\n",
    "plt.xlabel(\"N\")\n",
    "plt.ylabel(\"ratio\")\n",
    "plt.show()"
   ]
  },
  {
   "cell_type": "code",
   "execution_count": null,
   "metadata": {},
   "outputs": [],
   "source": []
  }
 ],
 "metadata": {
  "kernelspec": {
   "display_name": "Python 3",
   "language": "python",
   "name": "python3"
  },
  "language_info": {
   "codemirror_mode": {
    "name": "ipython",
    "version": 3
   },
   "file_extension": ".py",
   "mimetype": "text/x-python",
   "name": "python",
   "nbconvert_exporter": "python",
   "pygments_lexer": "ipython3",
   "version": "3.9.7"
  }
 },
 "nbformat": 4,
 "nbformat_minor": 4
}
