{
 "cells": [
  {
   "cell_type": "code",
   "execution_count": null,
   "metadata": {},
   "outputs": [],
   "source": [
    "from random import randint\n",
    "import tracemalloc\n",
    "class Tracer:\n",
    "    def __enter__(self):\n",
    "        if tracemalloc.is_tracing():\n",
    "            raise ValueError('nesting tracemalloc is not allowed')\n",
    "        self.allocated = None\n",
    "        tracemalloc.start()\n",
    "        return self\n",
    "    def __exit__(self, exc_type, exc_value, exc_traceback):\n",
    "        current, peak = tracemalloc.get_traced_memory()\n",
    "        tracemalloc.stop()\n",
    "        self.allocated = current"
   ]
  },
  {
   "cell_type": "code",
   "execution_count": null,
   "metadata": {},
   "outputs": [
    {
     "name": "stdout",
     "output_type": "stream",
     "text": [
      "4.194304 млн.\n"
     ]
    }
   ],
   "source": [
    "N = 22\n",
    "print(2**N/1_000_000, \"млн.\")"
   ]
  },
  {
   "cell_type": "code",
   "execution_count": 5,
   "metadata": {},
   "outputs": [],
   "source": [
    "from recordclass import dataobject"
   ]
  },
  {
   "cell_type": "markdown",
   "metadata": {},
   "source": [
    "### Binary Tree"
   ]
  },
  {
   "cell_type": "code",
   "execution_count": 6,
   "metadata": {},
   "outputs": [],
   "source": [
    "class Tree(dataobject):\n",
    "    root: 'Node'\n",
    "\n",
    "class Node(dataobject): \n",
    "    left: 'Node'\n",
    "    right: 'Node'\n",
    "\n",
    "class Leaf(dataobject):\n",
    "    value: object"
   ]
  },
  {
   "cell_type": "code",
   "execution_count": 7,
   "metadata": {},
   "outputs": [],
   "source": [
    "def add_nodes(depth):\n",
    "    if depth == 0:\n",
    "        return Leaf(randint(0,10))\n",
    "    return Node(add_nodes(depth-1), add_nodes(depth-1))"
   ]
  },
  {
   "cell_type": "code",
   "execution_count": 19,
   "metadata": {},
   "outputs": [],
   "source": [
    "class TreeGC(dataobject, gc=True):\n",
    "   __fields__ = 'root',\n",
    "\n",
    "class NodeGC(dataobject, gc=True): \n",
    "    __fields__ = 'left', 'right'\n",
    "\n",
    "class LeafGC(dataobject, gc=True):\n",
    "    __fields__ = 'value',"
   ]
  },
  {
   "cell_type": "code",
   "execution_count": 20,
   "metadata": {},
   "outputs": [],
   "source": [
    "def add_nodes_gc(depth):\n",
    "    if depth == 0:\n",
    "        return LeafGC(randint(0,10))\n",
    "    return NodeGC(add_nodes_gc(depth-1), add_nodes_gc(depth-1))"
   ]
  },
  {
   "cell_type": "code",
   "execution_count": 10,
   "metadata": {},
   "outputs": [],
   "source": [
    "class TreeSlots:\n",
    "    __slots__ = 'root',\n",
    "    def __init__(self, root):\n",
    "        self.root = root\n",
    "\n",
    "class NodeSlots:\n",
    "    __slots__ = 'left', 'right'\n",
    "    def __init__(self, left, right):\n",
    "        self.left = left\n",
    "        self.right = right\n",
    "    \n",
    "class LeafSlots:\n",
    "    __slots__ = 'value',\n",
    "    def __init__(self, value):\n",
    "        self.value = value"
   ]
  },
  {
   "cell_type": "code",
   "execution_count": 11,
   "metadata": {},
   "outputs": [],
   "source": [
    "def add_nodes_slots(depth):\n",
    "    if depth == 0:\n",
    "        return LeafSlots(randint(0,10))\n",
    "    return NodeSlots(add_nodes_slots(depth-1), add_nodes_slots(depth-1))"
   ]
  },
  {
   "cell_type": "code",
   "execution_count": 12,
   "metadata": {},
   "outputs": [
    {
     "name": "stdout",
     "output_type": "stream",
     "text": [
      "dataobject: 234 Mb\n"
     ]
    }
   ],
   "source": [
    "with Tracer() as t1:\n",
    "   tree = Tree(add_nodes(N))\n",
    "print(\"dataobject:\", t1.allocated // 1_000_000, 'Mb')\n",
    "del tree, t1"
   ]
  },
  {
   "cell_type": "code",
   "execution_count": 13,
   "metadata": {},
   "outputs": [
    {
     "name": "stdout",
     "output_type": "stream",
     "text": [
      "CPU times: user 4.64 s, sys: 72 ms, total: 4.71 s\n",
      "Wall time: 4.71 s\n",
      "CPU times: user 149 ms, sys: 20 ms, total: 169 ms\n",
      "Wall time: 168 ms\n"
     ]
    }
   ],
   "source": [
    "%time tree = Tree(add_nodes(N))\n",
    "%time del tree"
   ]
  },
  {
   "cell_type": "code",
   "execution_count": 14,
   "metadata": {},
   "outputs": [
    {
     "name": "stdout",
     "output_type": "stream",
     "text": [
      "__slots__: 369 Mb\n"
     ]
    }
   ],
   "source": [
    "with Tracer() as t2:\n",
    "   tree_slots = TreeSlots(add_nodes_slots(N))\n",
    "print(\"__slots__:\", t2.allocated // 1_000_000, 'Mb')\n",
    "del tree_slots, t2"
   ]
  },
  {
   "cell_type": "code",
   "execution_count": 15,
   "metadata": {},
   "outputs": [
    {
     "name": "stdout",
     "output_type": "stream",
     "text": [
      "CPU times: user 15.2 s, sys: 136 ms, total: 15.3 s\n",
      "Wall time: 15.3 s\n",
      "CPU times: user 330 ms, sys: 24 ms, total: 354 ms\n",
      "Wall time: 353 ms\n"
     ]
    }
   ],
   "source": [
    "%time tree_slots = TreeSlots(add_nodes_slots(N))\n",
    "%time del tree_slots"
   ]
  },
  {
   "cell_type": "code",
   "execution_count": 16,
   "metadata": {},
   "outputs": [
    {
     "name": "stdout",
     "output_type": "stream",
     "text": [
      "dataobject+gc: 369 Mb\n"
     ]
    }
   ],
   "source": [
    "with Tracer() as t3:\n",
    "   tree_gc = TreeGC(add_nodes_gc(N))\n",
    "print(\"dataobject+gc:\", t3.allocated // 1000000, 'Mb')\n",
    "del tree_gc, t3"
   ]
  },
  {
   "cell_type": "code",
   "execution_count": 15,
   "metadata": {},
   "outputs": [
    {
     "name": "stdout",
     "output_type": "stream",
     "text": [
      "CPU times: user 13.6 s, sys: 164 ms, total: 13.8 s\n",
      "Wall time: 13.9 s\n",
      "CPU times: user 252 ms, sys: 32 ms, total: 284 ms\n",
      "Wall time: 283 ms\n"
     ]
    }
   ],
   "source": [
    "%time tree_gc = TreeGC(add_nodes_gc(N))\n",
    "%time del tree_gc"
   ]
  },
  {
   "cell_type": "code",
   "execution_count": 16,
   "metadata": {},
   "outputs": [
    {
     "name": "stdout",
     "output_type": "stream",
     "text": [
      "Size per instance:\n",
      "   node: 32 48 48\n",
      "   leaf: 24 40 40\n"
     ]
    }
   ],
   "source": [
    "import sys\n",
    "print('Size per instance:')\n",
    "print('   node:', sys.getsizeof(Node(None,None)),\n",
    "                  sys.getsizeof(NodeSlots(None,None)), \n",
    "                  sys.getsizeof(NodeGC(None,None)))\n",
    "print('   leaf:', sys.getsizeof(Leaf(None)),\n",
    "                  sys.getsizeof(LeafSlots(None)),\n",
    "                  sys.getsizeof(LeafGC(None)))"
   ]
  },
  {
   "cell_type": "markdown",
   "metadata": {},
   "source": [
    "### General Tree"
   ]
  },
  {
   "cell_type": "code",
   "execution_count": 17,
   "metadata": {},
   "outputs": [],
   "source": [
    "class GTree(dataobject, fast_new=True):\n",
    "   __fields__ = 'root',\n",
    "\n",
    "class GNode(dataobject, fast_new=True): \n",
    "    __fields__ = 'children',\n",
    "\n",
    "class GLeaf(dataobject, fast_new=True):\n",
    "    __fields__ = 'value',"
   ]
  },
  {
   "cell_type": "code",
   "execution_count": 18,
   "metadata": {},
   "outputs": [],
   "source": [
    "def add_gnodes(depth):\n",
    "    if depth == 0:\n",
    "        return GLeaf(randint(0,10))\n",
    "    children = litelist([])\n",
    "    gnode = GNode(children)\n",
    "    children.append(add_gnodes(depth-1))\n",
    "    children.append(add_gnodes(depth-1))\n",
    "    children.trim()\n",
    "    return gnode"
   ]
  },
  {
   "cell_type": "code",
   "execution_count": 19,
   "metadata": {},
   "outputs": [
    {
     "name": "stdout",
     "output_type": "stream",
     "text": [
      "dataobject: 117 Mb\n"
     ]
    }
   ],
   "source": [
    "with Tracer() as gt1:\n",
    "   gtree = GTree(add_gnodes(20))\n",
    "print(\"dataobject:\", gt1.allocated // 1000000, 'Mb')\n",
    "del gtree, gt1"
   ]
  },
  {
   "cell_type": "code",
   "execution_count": 20,
   "metadata": {},
   "outputs": [
    {
     "name": "stdout",
     "output_type": "stream",
     "text": [
      "CPU times: user 1.1 s, sys: 28 ms, total: 1.13 s\n",
      "Wall time: 1.13 s\n",
      "CPU times: user 54.7 ms, sys: 4.04 ms, total: 58.7 ms\n",
      "Wall time: 58.6 ms\n"
     ]
    }
   ],
   "source": [
    "%time gtree = GTree(add_gnodes(20))\n",
    "%time del gtree"
   ]
  },
  {
   "cell_type": "code",
   "execution_count": 21,
   "metadata": {},
   "outputs": [],
   "source": [
    "class GTreeSlots:\n",
    "    __slots__ = 'root',\n",
    "    def __init__(self, root):\n",
    "        self.root = root\n",
    "\n",
    "class GNodeSlots:\n",
    "    __slots__ = 'children', \n",
    "    def __init__(self, children):\n",
    "        self.children = children\n",
    "    \n",
    "class GLeafSlots:\n",
    "    __slots__ = 'value',\n",
    "    def __init__(self, value):\n",
    "        self.value = value"
   ]
  },
  {
   "cell_type": "code",
   "execution_count": 22,
   "metadata": {},
   "outputs": [],
   "source": [
    "def add_gnodes_slots(depth):\n",
    "    if depth == 0:\n",
    "        return GLeafSlots(randint(0,10))\n",
    "    children = []\n",
    "    gnode = GNodeSlots(children)\n",
    "    children.append(add_gnodes_slots(depth-1))\n",
    "    children.append(add_gnodes_slots(depth-1))\n",
    "    return gnode"
   ]
  },
  {
   "cell_type": "code",
   "execution_count": 23,
   "metadata": {},
   "outputs": [
    {
     "name": "stdout",
     "output_type": "stream",
     "text": [
      "__slots__: 176 Mb\n"
     ]
    }
   ],
   "source": [
    "with Tracer() as gt2:\n",
    "   gtree_slots = GTreeSlots(add_gnodes_slots(20))\n",
    "print(\"__slots__:\", gt2.allocated // 1000000, 'Mb')\n",
    "del gtree_slots, gt2"
   ]
  },
  {
   "cell_type": "code",
   "execution_count": 24,
   "metadata": {},
   "outputs": [
    {
     "name": "stdout",
     "output_type": "stream",
     "text": [
      "CPU times: user 5.43 s, sys: 44.1 ms, total: 5.47 s\n",
      "Wall time: 5.47 s\n",
      "CPU times: user 144 ms, sys: 20 ms, total: 164 ms\n",
      "Wall time: 163 ms\n"
     ]
    }
   ],
   "source": [
    "%time gtree_slots = GTreeSlots(add_gnodes_slots(20))\n",
    "%time del gtree_slots"
   ]
  },
  {
   "cell_type": "code",
   "execution_count": null,
   "metadata": {},
   "outputs": [],
   "source": []
  }
 ],
 "metadata": {
  "kernelspec": {
   "display_name": "Python 3 (ipykernel)",
   "language": "python",
   "name": "python3"
  },
  "language_info": {
   "codemirror_mode": {
    "name": "ipython",
    "version": 3
   },
   "file_extension": ".py",
   "mimetype": "text/x-python",
   "name": "python",
   "nbconvert_exporter": "python",
   "pygments_lexer": "ipython3",
   "version": "3.9.7"
  }
 },
 "nbformat": 4,
 "nbformat_minor": 4
}
