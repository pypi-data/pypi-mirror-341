{
 "cells": [
  {
   "cell_type": "code",
   "execution_count": 1,
   "metadata": {},
   "outputs": [],
   "source": [
    "from recordclass import dataobject"
   ]
  },
  {
   "cell_type": "code",
   "execution_count": 1,
   "metadata": {},
   "outputs": [],
   "source": [
    "import tracemalloc\n",
    "class Tracer:\n",
    "    def __enter__(self):\n",
    "        if tracemalloc.is_tracing():\n",
    "            raise ValueError('nesting tracemalloc is not allowed')\n",
    "        self.allocated = None\n",
    "        tracemalloc.start()\n",
    "        return self\n",
    "    def __exit__(self, exc_type, exc_value, exc_traceback):\n",
    "        current, peak = tracemalloc.get_traced_memory()\n",
    "        tracemalloc.stop()\n",
    "        self.allocated = current"
   ]
  },
  {
   "cell_type": "code",
   "execution_count": 3,
   "metadata": {},
   "outputs": [
    {
     "name": "stdout",
     "output_type": "stream",
     "text": [
      "2 <class '__main__.Person'>\n",
      "With dataobject: 681 Mb\n"
     ]
    }
   ],
   "source": [
    "class Person(dataobject):\n",
    "    __fields__ = 'first', 'second'\n",
    "\n",
    "with Tracer() as t1:\n",
    "   lst = [Person(i, i) for i in range(10000000)]\n",
    "print(\"With dataobject:\", t1.allocated // 1_000_000, 'Mb')\n",
    "del lst, t1"
   ]
  },
  {
   "cell_type": "code",
   "execution_count": 4,
   "metadata": {},
   "outputs": [
    {
     "name": "stdout",
     "output_type": "stream",
     "text": [
      "With dataobject: 1001 Mb\n"
     ]
    }
   ],
   "source": [
    "class Person:\n",
    "    __slots__ = ['first', 'last']\n",
    "    def __init__(self, first, last):\n",
    "        self.first = first\n",
    "        self.last = last\n",
    "        \n",
    "with Tracer() as t2:\n",
    "   lst = [Person(i, i) for i in range(10000000)]\n",
    "print(\"With dataobject:\", t2.allocated // 1_000_000, 'Mb')\n",
    "del lst, t2        "
   ]
  },
  {
   "cell_type": "code",
   "execution_count": null,
   "metadata": {},
   "outputs": [],
   "source": []
  }
 ],
 "metadata": {
  "kernelspec": {
   "display_name": "Python 3",
   "language": "python",
   "name": "python3"
  },
  "language_info": {
   "codemirror_mode": {
    "name": "ipython",
    "version": 3
   },
   "file_extension": ".py",
   "mimetype": "text/x-python",
   "name": "python",
   "nbconvert_exporter": "python",
   "pygments_lexer": "ipython3",
   "version": "3.9.2"
  }
 },
 "nbformat": 4,
 "nbformat_minor": 4
}
