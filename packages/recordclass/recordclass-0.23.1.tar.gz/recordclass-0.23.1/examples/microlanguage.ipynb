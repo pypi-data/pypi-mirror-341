{
 "cells": [
  {
   "cell_type": "code",
   "execution_count": 1,
   "metadata": {},
   "outputs": [],
   "source": [
    "from recordclass import dataobject"
   ]
  },
  {
   "cell_type": "code",
   "execution_count": null,
   "metadata": {},
   "outputs": [],
   "source": [
    "class HGeo(dataobject):\n",
    "    latitude:double\n",
    "    longitude:double\n",
    "        \n",
    "    def name(self):\n",
    "        return \"{0}, {1}\".format(self.latitude, self.longitude)\n",
    "\n",
    "class HAddr(dataobject):\n",
    "    street_address:str\n",
    "    locality:str\n",
    "    region:str\n",
    "    country_name:str\n",
    "    postal_code:str\n",
    "    geo:HGeo\n",
    "        \n",
    "    def name(self):\n",
    "        values = (getattr(self, fname, None) for fname in self.__fields__)\n",
    "        return \" \".join(v for v in values if v is not None)\n",
    "    \n",
    "class HEntry(dataobject):\n",
    "    entry_title:str\n",
    "    author:str\n",
    "    updated:object\n",
    "    entry_content:str\n",
    "    entry_summary:str\n",
    "    published:object\n",
    "    bookmark:str\n",
    "    tags:list\n",
    "    "
   ]
  }
 ],
 "metadata": {
  "kernelspec": {
   "display_name": "Python 3 (ipykernel)",
   "language": "python",
   "name": "python3"
  },
  "language_info": {
   "codemirror_mode": {
    "name": "ipython",
    "version": 3
   },
   "file_extension": ".py",
   "mimetype": "text/x-python",
   "name": "python",
   "nbconvert_exporter": "python",
   "pygments_lexer": "ipython3",
   "version": "3.10.9"
  }
 },
 "nbformat": 4,
 "nbformat_minor": 4
}
