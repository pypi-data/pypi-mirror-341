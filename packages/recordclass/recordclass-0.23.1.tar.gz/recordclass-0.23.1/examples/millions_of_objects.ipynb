{
 "cells": [
  {
   "cell_type": "code",
   "execution_count": 3,
   "metadata": {},
   "outputs": [],
   "source": [
    "from recordclass import dataobject"
   ]
  },
  {
   "cell_type": "code",
   "execution_count": 3,
   "metadata": {},
   "outputs": [
    {
     "name": "stdout",
     "output_type": "stream",
     "text": [
      "dataobject timinig:\n",
      "CPU times: user 685 ms, sys: 60 ms, total: 745 ms\n",
      "Wall time: 744 ms\n",
      "__slots__ timinig:\n",
      "CPU times: user 6.7 s, sys: 140 ms, total: 6.84 s\n",
      "Wall time: 6.83 s\n",
      "size (dataobject): 400000000\n",
      "size (__slots__):  560000000\n",
      "71.42857142857143 %\n"
     ]
    }
   ],
   "source": [
    "from random import randrange\n",
    "import sys\n",
    "ijw = [(randrange(100), randrange(100), randrange(1000)) for _ in range(10 ** 7)]\n",
    "\n",
    "class EdgeDO(dataobject, fast_new=True):\n",
    "    __fields__ = 'node1', 'node2', 'weight'\n",
    "\n",
    "class EdgeSlots:\n",
    "    __slots__ = 'node1', 'node2', 'weight'\n",
    "\n",
    "    def __init__(self, node1, node2, weight):\n",
    "         self.node1 = node1\n",
    "         self.node2 = node2\n",
    "         self.weight = weight\n",
    "            \n",
    "def list_size(lst):\n",
    "    return sum(sys.getsizeof(o) for o in lst)\n",
    "\n",
    "print('dataobject timinig:')\n",
    "%time list_do = [EdgeDO(*args) for args in ijw]\n",
    "print('__slots__ timinig:')\n",
    "%time list_slots = [EdgeSlots(*args) for args in ijw]\n",
    "\n",
    "print('size (dataobject):', list_size(list_do))\n",
    "print('size (__slots__): ', list_size(list_slots))\n",
    "print(list_size(list_do)/list_size(list_slots)*100, \"%\")\n"
   ]
  },
  {
   "cell_type": "code",
   "execution_count": null,
   "metadata": {},
   "outputs": [],
   "source": []
  }
 ],
 "metadata": {
  "kernelspec": {
   "display_name": "Python 3",
   "language": "python",
   "name": "python3"
  },
  "language_info": {
   "codemirror_mode": {
    "name": "ipython",
    "version": 3
   },
   "file_extension": ".py",
   "mimetype": "text/x-python",
   "name": "python",
   "nbconvert_exporter": "python",
   "pygments_lexer": "ipython3",
   "version": "3.9.7"
  }
 },
 "nbformat": 4,
 "nbformat_minor": 4
}
