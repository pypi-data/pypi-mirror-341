{
 "cells": [
  {
   "cell_type": "markdown",
   "metadata": {},
   "source": [
    "# Reducing memory usage with recordclass library"
   ]
  },
  {
   "cell_type": "markdown",
   "metadata": {},
   "source": [
    "The simplest and perhaps the only way to reduce the amount of memory required to store an instance of user-defined classes is to use `__slots__`. In this case, there is no `__dict__` and support of `weakref`. As a consequence, the attribute values of the class instances are not stored in the dictionary, but in an additional fixed memory area. It's allow to reduce memory footprint significantly and get faster access to attributes. It also makes impossible to use attributes, except for those that are listed in `__slots__`."
   ]
  },
  {
   "cell_type": "markdown",
   "metadata": {},
   "source": [
    "Let's consider a class for representation a simple data structure with `__slots__`:"
   ]
  },
  {
   "cell_type": "code",
   "execution_count": 1,
   "metadata": {},
   "outputs": [],
   "source": [
    "class DataItem:\n",
    "    __slots__ = ('name', 'age', 'address')\n",
    "    def __init__(self, name, age, address):\n",
    "        self.name = name\n",
    "        self.age = age\n",
    "        self.address = address"
   ]
  },
  {
   "cell_type": "markdown",
   "metadata": {},
   "source": [
    "Here the size of the its instance:"
   ]
  },
  {
   "cell_type": "code",
   "execution_count": 2,
   "metadata": {},
   "outputs": [
    {
     "name": "stdout",
     "output_type": "stream",
     "text": [
      "3.7.2 (v3.7.2:9a3ffc0492, Dec 24 2018, 02:44:43) \n",
      "[Clang 6.0 (clang-600.0.57)]\n",
      "The size of DataItem instance is 64 bytes\n"
     ]
    }
   ],
   "source": [
    "from sys import getsizeof as sizeof, version\n",
    "print(version)\n",
    "inst = DataItem('Mike', 10, 'Cherry Street 15')\n",
    "print('The size of DataItem instance is %s bytes' % sizeof(inst))"
   ]
  },
  {
   "cell_type": "markdown",
   "metadata": {},
   "source": [
    "It includes 16 bytes for object's header (`PyObject_HEAD`), 8*3=24 bytes for three data slots (references of the objects -- values of attributes) and 8*3=24 bytes of additional data (`PyGC_Head`) for cyclic garbage collection support."
   ]
  },
  {
   "cell_type": "markdown",
   "metadata": {},
   "source": [
    "It is easy to see that for the representation of data structures that contain only the values of simple types (for example, `bool`, `int`, `float`, `str`/`unicode`, `datetime/date/time` and etc.), support for cyclic garbage collection is redundant.\n",
    "\n",
    "For such cases, disabling support for cyclic garbage collection will reduce the amount of memory required to store an instance of the class by 8*3=24 bytes. Note that for simple/atomic data types in python, support for cyclic garbage collection is disabled: only the usual garbage collection mechanism is enabled."
   ]
  },
  {
   "cell_type": "markdown",
   "metadata": {},
   "source": [
    "[Recordclass library](https://pypi.org/intellimath/recordclass) allows to create classes in which, by default, there is no `__dict__`,  `__weakref__`, and support for circular garbage collection is disabled. \n",
    "For small data structures, this can lead to significant memory savings, which can be essential for using Python in conditions of limited memory (for example, in context of cloud services and Rasberry Pi).\n",
    "\n",
    "For this purpose, the library has a factory function `recordclass.structclass`.\n",
    "In order to explain let's first install `recordclass` library:\n",
    "\n",
    "`>>> pip install recordclass`"
   ]
  },
  {
   "cell_type": "code",
   "execution_count": 3,
   "metadata": {},
   "outputs": [
    {
     "name": "stdout",
     "output_type": "stream",
     "text": [
      "DataItem(name='Mike', age=10, address='Cherry Street 15')\n",
      "The size of DataItem2 instance is 40 bytes\n"
     ]
    }
   ],
   "source": [
    "from recordclass import structclass\n",
    "from sys import getsizeof as sizeof\n",
    "\n",
    "DataItem2 = structclass('DataItem', 'name age address')\n",
    "inst2 = DataItem2('Mike', 10, 'Cherry Street 15')\n",
    "print(inst2)\n",
    "print('The size of DataItem2 instance is %s bytes' % sizeof(inst2))"
   ]
  },
  {
   "cell_type": "markdown",
   "metadata": {},
   "source": [
    "There is also one advantage over `__slots__`-based class: you are able to add extra attributes when it is necessary:"
   ]
  },
  {
   "cell_type": "code",
   "execution_count": 4,
   "metadata": {},
   "outputs": [
    {
     "name": "stdout",
     "output_type": "stream",
     "text": [
      "DataItem(name='Mike', age=10, address='Cherry Street 15', **{'hobby': ['drawing', 'singing']})\n",
      "sizeof: 48 has dict: True\n"
     ]
    }
   ],
   "source": [
    "DataItem3 = structclass('DataItem', 'name age address', usedict=True)\n",
    "inst3 = DataItem3('Mike', 10, 'Cherry Street 15')\n",
    "inst3.hobby = ['drawing', 'singing']\n",
    "print(inst3)\n",
    "print('sizeof:', sizeof(inst3), 'has dict:',  bool(inst3.__dict__))"
   ]
  },
  {
   "cell_type": "markdown",
   "metadata": {},
   "source": [
    "If it is important it can be turned on support of cyclic garbage collection. In that case it will have same memory size as `__slots__`-based one."
   ]
  },
  {
   "cell_type": "code",
   "execution_count": 5,
   "metadata": {},
   "outputs": [
    {
     "name": "stdout",
     "output_type": "stream",
     "text": [
      "DataItem(name='Mike', age=10, address='Cherry Street 15')\n",
      "64\n"
     ]
    }
   ],
   "source": [
    "from recordclass import structclass\n",
    "DataItem4 = structclass('DataItem', 'name age address', gc=True)\n",
    "inst4 = DataItem4('Mike', 10, 'Cherry Street 15')\n",
    "print(inst4)\n",
    "print(sizeof(inst4))"
   ]
  },
  {
   "cell_type": "markdown",
   "metadata": {},
   "source": [
    "Last the example below explains reducing memory footprint for small data structures."
   ]
  },
  {
   "cell_type": "code",
   "execution_count": 6,
   "metadata": {},
   "outputs": [
    {
     "name": "stdout",
     "output_type": "stream",
     "text": [
      "__slots__: 640048 = 100% structclass: 400048 = 63%\n"
     ]
    }
   ],
   "source": [
    "class Point1:\n",
    "    __slots__ = ('x', 'y')\n",
    "    def __init__(self, x, y):\n",
    "        self.x = x\n",
    "        self.y = y\n",
    "\n",
    "Point2 = structclass('Point2', 'x y')\n",
    "\n",
    "lst1 = tuple(Point1(i, i) for i in range(10000))\n",
    "lst2 = tuple(Point2(i, i) for i in range(10000))\n",
    "\n",
    "def calculate_size(lst):\n",
    "    size1 = sizeof(lst)\n",
    "    size2 = sum(sizeof(ob) for ob in lst)\n",
    "    size = size1 + size2\n",
    "    return size\n",
    "\n",
    "size1 = calculate_size(lst1)\n",
    "size2 = calculate_size(lst2)\n",
    "\n",
    "print('__slots__: %s = 100%%' % size1, 'structclass: %s = %.0f%%' % (size2, 100*size2/size1))"
   ]
  },
  {
   "cell_type": "code",
   "execution_count": null,
   "metadata": {},
   "outputs": [],
   "source": []
  }
 ],
 "metadata": {
  "kernelspec": {
   "display_name": "Python 3",
   "language": "python",
   "name": "python3"
  },
  "language_info": {
   "codemirror_mode": {
    "name": "ipython",
    "version": 3
   },
   "file_extension": ".py",
   "mimetype": "text/x-python",
   "name": "python",
   "nbconvert_exporter": "python",
   "pygments_lexer": "ipython3",
   "version": "3.9.2"
  }
 },
 "nbformat": 4,
 "nbformat_minor": 4
}
