{
 "cells": [
  {
   "cell_type": "markdown",
   "id": "0",
   "metadata": {},
   "source": [
    "# Using xrft"
   ]
  },
  {
   "cell_type": "markdown",
   "id": "1",
   "metadata": {},
   "source": [
    "`xrft` is a package to do Fourier transforms of `xarray` data easily. One can use the `numpy`-like functions, which are not exact (phase and amplitude shifts), but deliver the same results as a `numpy`-FT would do. There is also the possibility to correct these shifts with `xrft`. Another handy advantage of `xrft` is that the visualization of the results can be done with `HoloViews` in a very simple manner.\n",
    "\n",
    "(Note the generation of each plot takes about 5 secs., you can add the `dynamic=True` parameter, if you want to load the plots faster. This is thoroughly explained in the [holoviews tutorial](holoviews_with_postopus.ipynb))"
   ]
  },
  {
   "cell_type": "code",
   "execution_count": null,
   "id": "2",
   "metadata": {},
   "outputs": [],
   "source": [
    "import xrft\n",
    "\n",
    "%config InlineBackend.figure_formats = ['svg']\n",
    "\n",
    "\n",
    "import holoviews as hv\n",
    "\n",
    "from postopus.octopus_run import Run\n",
    "\n",
    "hv.extension(\"bokeh\", \"matplotlib\")  # Allow for interactive plots"
   ]
  },
  {
   "cell_type": "markdown",
   "id": "3",
   "metadata": {},
   "source": [
    "input file is already defined in the folder (s. GitLab repo), otherwise we recommend defining it in the notebook"
   ]
  },
  {
   "cell_type": "code",
   "execution_count": null,
   "id": "4",
   "metadata": {},
   "outputs": [],
   "source": [
    "cd ../octopus_data/interference/"
   ]
  },
  {
   "cell_type": "markdown",
   "id": "5",
   "metadata": {},
   "source": [
    "Assuming you have octopus in your PATH:"
   ]
  },
  {
   "cell_type": "code",
   "execution_count": null,
   "id": "6",
   "metadata": {},
   "outputs": [],
   "source": [
    "!octopus > out_gs.log 2>&1"
   ]
  },
  {
   "cell_type": "code",
   "execution_count": null,
   "id": "7",
   "metadata": {},
   "outputs": [],
   "source": [
    "run = Run(\".\")"
   ]
  },
  {
   "cell_type": "markdown",
   "id": "8",
   "metadata": {},
   "source": [
    "## Original Data"
   ]
  },
  {
   "cell_type": "code",
   "execution_count": null,
   "id": "9",
   "metadata": {},
   "outputs": [],
   "source": [
    "xa = run.Maxwell.td.b_field(source=\"z=0\").vx"
   ]
  },
  {
   "cell_type": "code",
   "execution_count": null,
   "id": "10",
   "metadata": {},
   "outputs": [],
   "source": [
    "xa"
   ]
  },
  {
   "cell_type": "markdown",
   "id": "11",
   "metadata": {},
   "source": [
    "### Visualization with `HoloViews`"
   ]
  },
  {
   "cell_type": "code",
   "execution_count": null,
   "id": "12",
   "metadata": {},
   "outputs": [],
   "source": [
    "hv_dst_orig = hv.Dataset(xa)\n",
    "hv_imt_orig = hv_dst_orig.to(hv.Image, [\"x\", \"y\"])\n",
    "hv.output(max_frames=3000)\n",
    "hv_imt_orig.opts(\n",
    "    colorbar=True, width=500, height=400, cmap=\"seismic\", clim=(-(10**-3), 10**-3)\n",
    ")"
   ]
  },
  {
   "cell_type": "markdown",
   "id": "13",
   "metadata": {},
   "source": [
    "## Numpy-like fft"
   ]
  },
  {
   "cell_type": "code",
   "execution_count": null,
   "id": "14",
   "metadata": {},
   "outputs": [],
   "source": [
    "# `xa.drop_vars(\"step\")` is needed here as \"step\" and \"t\" represent the same dimension.\n",
    "# Fxa = xrft.fft(xa.drop_vars(\"step\"), dim=\"t\") # numpy.fft-like behaviour\n",
    "Fxa = xrft.fft(xa.drop_vars(\"step\"), dim=\"t\", real_dim=\"t\")  # numpy.rfft-like behaviour"
   ]
  },
  {
   "cell_type": "code",
   "execution_count": null,
   "id": "15",
   "metadata": {},
   "outputs": [],
   "source": [
    "Fxa"
   ]
  },
  {
   "cell_type": "markdown",
   "id": "16",
   "metadata": {},
   "source": [
    "### Visualization with `HoloViews`"
   ]
  },
  {
   "cell_type": "code",
   "execution_count": null,
   "id": "17",
   "metadata": {},
   "outputs": [],
   "source": [
    "Fxa.name = \"testFT\"  # needed to use holoviews\n",
    "hv_dst = hv.Dataset(Fxa.real)\n",
    "hv_imt = hv_dst.to(hv.Image, [\"x\", \"y\"])"
   ]
  },
  {
   "cell_type": "code",
   "execution_count": null,
   "id": "18",
   "metadata": {},
   "outputs": [],
   "source": [
    "hv_imt.opts(\n",
    "    colorbar=True, width=500, height=400, cmap=\"seismic\", clim=(-(10**-3), 10**-3)\n",
    ")"
   ]
  },
  {
   "cell_type": "markdown",
   "id": "19",
   "metadata": {},
   "source": [
    "## Inverse transform"
   ]
  },
  {
   "cell_type": "markdown",
   "id": "20",
   "metadata": {},
   "source": [
    "There is a shift when inverse transforming."
   ]
  },
  {
   "cell_type": "code",
   "execution_count": null,
   "id": "21",
   "metadata": {},
   "outputs": [],
   "source": [
    "# iFxa = xrft.ifft(Fxa, dim=\"freq_t\") # Inverse of np.fft\n",
    "iFxa = xrft.ifft(Fxa, dim=\"freq_t\", real_dim=\"freq_t\")  # Inverse of np.rfft"
   ]
  },
  {
   "cell_type": "markdown",
   "id": "22",
   "metadata": {},
   "source": [
    "### Visualization with `HoloViews`"
   ]
  },
  {
   "cell_type": "code",
   "execution_count": null,
   "id": "23",
   "metadata": {},
   "outputs": [],
   "source": [
    "iFxa.name = \"iFtest\"\n",
    "hv_dst_ift = hv.Dataset(iFxa.real)\n",
    "hv_imt_ift = hv_dst_ift.to(hv.Image, [\"x\", \"y\"])\n",
    "hv.output(max_frames=3000)\n",
    "hv_imt_ift.opts(\n",
    "    colorbar=True, width=500, height=400, cmap=\"seismic\", clim=(-(10**-3), 10**-3)\n",
    ")"
   ]
  },
  {
   "cell_type": "markdown",
   "id": "24",
   "metadata": {},
   "source": [
    "## FFT with true amplitude and true phase"
   ]
  },
  {
   "cell_type": "markdown",
   "id": "25",
   "metadata": {},
   "source": [
    "This is good for the cases in which the data is not centered at 0, see https://xrft.readthedocs.io/en/latest/DFT-iDFT_example.html. As one can see we go back to the original data after the inverse transform. There is no shift."
   ]
  },
  {
   "cell_type": "code",
   "execution_count": null,
   "id": "26",
   "metadata": {},
   "outputs": [],
   "source": [
    "Fxa2 = xrft.fft(xa.drop_vars(\"step\"), dim=\"t\", true_amplitude=True, true_phase=True)"
   ]
  },
  {
   "cell_type": "markdown",
   "id": "27",
   "metadata": {},
   "source": [
    "### Visualization with `HoloViews`"
   ]
  },
  {
   "cell_type": "code",
   "execution_count": null,
   "id": "28",
   "metadata": {},
   "outputs": [],
   "source": [
    "Fxa2.name = \"testFT2\"\n",
    "hv_dst2 = hv.Dataset(Fxa2.real)\n",
    "hv_imt_2 = hv_dst2.to(hv.Image, [\"x\", \"y\"])\n",
    "hv_imt_2.opts(\n",
    "    colorbar=True, width=500, height=400, cmap=\"seismic\", clim=(-(10**-3), 10**-3)\n",
    ")"
   ]
  },
  {
   "cell_type": "markdown",
   "id": "29",
   "metadata": {},
   "source": [
    "## Inverse Transform"
   ]
  },
  {
   "cell_type": "code",
   "execution_count": null,
   "id": "30",
   "metadata": {},
   "outputs": [],
   "source": [
    "iFxa2 = xrft.ifft(Fxa2, dim=\"freq_t\", true_amplitude=True, true_phase=True)"
   ]
  },
  {
   "cell_type": "markdown",
   "id": "31",
   "metadata": {},
   "source": [
    "### Visualization with `HoloViews`"
   ]
  },
  {
   "cell_type": "code",
   "execution_count": null,
   "id": "32",
   "metadata": {},
   "outputs": [],
   "source": [
    "iFxa2.name = \"iFtest2\"\n",
    "hv_dst_ift2 = hv.Dataset(iFxa2.real)\n",
    "hv_imt_ift2 = hv_dst_ift2.to(hv.Image, [\"x\", \"y\"])\n",
    "hv_imt_ift2.opts(\n",
    "    colorbar=True, width=500, height=400, cmap=\"seismic\", clim=(-(10**-3), 10**-3)\n",
    ")"
   ]
  },
  {
   "cell_type": "markdown",
   "id": "33",
   "metadata": {},
   "source": [
    "## Spectral density"
   ]
  },
  {
   "cell_type": "code",
   "execution_count": null,
   "id": "34",
   "metadata": {},
   "outputs": [],
   "source": [
    "sd = xrft.power_spectrum(xa.drop_vars(\"step\"), dim=\"t\", real_dim=\"t\", scaling=\"density\")"
   ]
  },
  {
   "cell_type": "markdown",
   "id": "35",
   "metadata": {},
   "source": [
    "### Visualization with `HoloViews`"
   ]
  },
  {
   "cell_type": "code",
   "execution_count": null,
   "id": "36",
   "metadata": {},
   "outputs": [],
   "source": [
    "sd.name = \"Spectral_density\"\n",
    "hv_dst_sd = hv.Dataset(sd)\n",
    "hv_imt_sd = hv_dst_sd.to(hv.Image, [\"x\", \"y\"])\n",
    "hv_imt_sd.opts(colorbar=True, width=500, height=400, cmap=\"seismic\")"
   ]
  }
 ],
 "metadata": {
  "kernelspec": {
   "display_name": "Python 3 (ipykernel)",
   "language": "python",
   "name": "python3"
  },
  "language_info": {
   "codemirror_mode": {
    "name": "ipython",
    "version": 3
   },
   "file_extension": ".py",
   "mimetype": "text/x-python",
   "name": "python",
   "nbconvert_exporter": "python",
   "pygments_lexer": "ipython3",
   "version": "3.11.9"
  }
 },
 "nbformat": 4,
 "nbformat_minor": 5
}
