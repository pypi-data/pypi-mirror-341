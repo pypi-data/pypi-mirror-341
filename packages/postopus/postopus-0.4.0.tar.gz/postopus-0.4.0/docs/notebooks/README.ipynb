{
 "cells": [
  {
   "cell_type": "markdown",
   "metadata": {},
   "source": [
    "# Running the documentation interactivly\n",
    "\n",
    "Most of the documentation is based on notebooks. These notebooks can be run interactivly here:\n",
    "\n",
    "- [Quick start](./Quick_Start.ipynb)\n",
    "- [Detailed overview](./Detailed_Overview.ipynb)\n",
    "- [Plotting with xarray](./xarray-plots1.ipynb)\n",
    "- [Holoviews usage](./holoviews_with_postopus.ipynb)\n",
    "- [Using xrft](./xrft.ipynb)\n",
    "- [Units](./units.ipynb)\n",
    "- [Nested Runs](./nested_Runs.ipynb)\n"
   ]
  }
 ],
 "metadata": {
  "kernelspec": {
   "display_name": "",
   "name": ""
  },
  "language_info": {
   "name": "python"
  },
  "nbsphinx": {
   "orphan": true
  }
 },
 "nbformat": 4,
 "nbformat_minor": 4
}
