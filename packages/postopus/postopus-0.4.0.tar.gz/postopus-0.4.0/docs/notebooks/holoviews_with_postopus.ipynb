{
 "cells": [
  {
   "cell_type": "markdown",
   "id": "0",
   "metadata": {
    "tags": []
   },
   "source": [
    "# Holoviews usage"
   ]
  },
  {
   "cell_type": "markdown",
   "id": "1",
   "metadata": {},
   "source": [
    "Good resource: [https://holoviews.org/getting_started/Gridded_Datasets.html](https://holoviews.org/getting_started/Gridded_Datasets.html)"
   ]
  },
  {
   "cell_type": "markdown",
   "id": "2",
   "metadata": {},
   "source": [
    "Doing n-dimensional plots with traditional plotting libraries can be tedious. `Holoviews` is a library designed for creating multidimensional (especially useful for > 2) plots easily. It is very well suited if you want to explore your data interactively. As we will see, converting `xarray` objects (the most common type of output in postopus) to `holoviews` objects is trivial. The customization level of a `holoviews` plot is very high, because it supports multiple backends, here we will cover `matplotlib` and `bokeh` (the default backend)."
   ]
  },
  {
   "cell_type": "code",
   "execution_count": null,
   "id": "3",
   "metadata": {
    "tags": []
   },
   "outputs": [],
   "source": [
    "import numpy as np\n",
    "\n",
    "from postopus.octopus_run import Run\n",
    "\n",
    "%config InlineBackend.figure_formats = ['svg']"
   ]
  },
  {
   "cell_type": "markdown",
   "id": "4",
   "metadata": {},
   "source": [
    "input file is already defined in the folder (s. GitLab repo), otherwise we recommend defining it in the notebook"
   ]
  },
  {
   "cell_type": "code",
   "execution_count": null,
   "id": "5",
   "metadata": {},
   "outputs": [],
   "source": [
    "cd ../octopus_data/benzene/  "
   ]
  },
  {
   "cell_type": "markdown",
   "id": "6",
   "metadata": {},
   "source": [
    "Assuming you have octopus in your PATH:"
   ]
  },
  {
   "cell_type": "code",
   "execution_count": null,
   "id": "7",
   "metadata": {},
   "outputs": [],
   "source": [
    "!octopus > out_gs.log 2>&1"
   ]
  },
  {
   "cell_type": "code",
   "execution_count": null,
   "id": "8",
   "metadata": {},
   "outputs": [],
   "source": [
    "run = Run(\".\")"
   ]
  },
  {
   "cell_type": "code",
   "execution_count": null,
   "id": "9",
   "metadata": {},
   "outputs": [],
   "source": [
    "xa = run.default.scf.density(source=\"cube\").isel(step=-1)  # postopus XArray\n",
    "xa"
   ]
  },
  {
   "cell_type": "markdown",
   "id": "10",
   "metadata": {},
   "source": [
    "## Importing holoviews"
   ]
  },
  {
   "cell_type": "code",
   "execution_count": null,
   "id": "11",
   "metadata": {},
   "outputs": [],
   "source": [
    "import holoviews as hv\n",
    "from holoviews import opts  # For setting defaults\n",
    "\n",
    "hv.extension(\"bokeh\", \"matplotlib\")  # Allow for interactive plots"
   ]
  },
  {
   "cell_type": "markdown",
   "id": "12",
   "metadata": {},
   "source": [
    "In the following, we are going to convert an `xarray` to a `holoviews Dataset` and then to a `holoviews Image`. Actually, `holoviews Images` are used for 2D plots. Since we have 3D data, it will be converted to a `Holomap` of `Images`. (If we would want to plot for example 1D data, instead of `holoviews Images`, we would use `holoviews Curve`s. The code would be analogous.) This image allows you to slide across time and space and visualize the resulting structure. (If you want to move step-by-step, just select a dimension and use the left and right arrows to navigate). We can use the `kdims` argument to specify which coordinates will serve as the visible axes on the plots (in this example we will choose `x` and `y`). The ones that are left will be controlled by a slider (in this example `t` and `step` will get a slider and a dropdown). When building the image, the default behavior of `holoviews` is to preload the whole data at once with javascript. The loading of the image can be very slow, especially if the amount of data is high. Don't worry, we'll learn how to make it faster!"
   ]
  },
  {
   "cell_type": "markdown",
   "id": "13",
   "metadata": {},
   "source": [
    "## Generating a holoviews Dataset"
   ]
  },
  {
   "cell_type": "code",
   "execution_count": null,
   "id": "14",
   "metadata": {},
   "outputs": [],
   "source": [
    "hv_ds = hv.Dataset(xa)"
   ]
  },
  {
   "cell_type": "markdown",
   "id": "15",
   "metadata": {},
   "source": [
    "## Generating a holoviews Image"
   ]
  },
  {
   "cell_type": "code",
   "execution_count": null,
   "id": "16",
   "metadata": {},
   "outputs": [],
   "source": [
    "hv_im = hv_ds.to(hv.Image, kdims=[\"x\", \"y\"])"
   ]
  },
  {
   "cell_type": "markdown",
   "id": "17",
   "metadata": {},
   "source": [
    "The following two plots will be slowish. "
   ]
  },
  {
   "cell_type": "code",
   "execution_count": null,
   "id": "18",
   "metadata": {
    "tags": []
   },
   "outputs": [],
   "source": [
    "hv_im"
   ]
  },
  {
   "cell_type": "code",
   "execution_count": null,
   "id": "19",
   "metadata": {},
   "outputs": [],
   "source": [
    "type(hv_im)"
   ]
  },
  {
   "cell_type": "code",
   "execution_count": null,
   "id": "20",
   "metadata": {},
   "outputs": [],
   "source": [
    "hv_im.data  # one can see here that each of the samples within the Holomap is an Image"
   ]
  },
  {
   "cell_type": "markdown",
   "id": "21",
   "metadata": {},
   "source": [
    "## Customizing plot parameters  with `opts`"
   ]
  },
  {
   "cell_type": "code",
   "execution_count": null,
   "id": "22",
   "metadata": {
    "tags": []
   },
   "outputs": [],
   "source": [
    "# Sets defaults for all the interactive images in this notebook\n",
    "# Warning: Currently, there is no way to reset the default settings:\n",
    "# https://stackoverflow.com/questions/68748393/how-do-i-clear-all-custom-opts-that-ive-set-for-holoviews.\n",
    "# The only method that works is restarting the kernel, so think about setting anything to default.\n",
    "opts.defaults(\n",
    "    opts.Image(cmap=\"viridis\", width=400, height=400),\n",
    ")\n",
    "# <hv object>.opts.clear() / <hv object>.opts(clone=False)  to rollback to default settings if desired,\n",
    "# from https://holoviews.org/user_guide/Applying_Customizations.html."
   ]
  },
  {
   "cell_type": "code",
   "execution_count": null,
   "id": "23",
   "metadata": {},
   "outputs": [],
   "source": [
    "hv_im.opts(opts.Image(title=\"title\"))  # Sets specific opts for a single plot"
   ]
  },
  {
   "cell_type": "code",
   "execution_count": null,
   "id": "24",
   "metadata": {},
   "outputs": [],
   "source": [
    "# hv.help(hv.Image)  # Lists all the tunable parameters, for the active backend\n",
    "# hv.help(hv_im)  # Lists the actual configuration of  a specific object"
   ]
  },
  {
   "cell_type": "markdown",
   "id": "25",
   "metadata": {},
   "source": [
    "## Time dependent plots"
   ]
  },
  {
   "cell_type": "markdown",
   "id": "26",
   "metadata": {},
   "source": [
    "### Methane example"
   ]
  },
  {
   "cell_type": "markdown",
   "id": "27",
   "metadata": {},
   "source": [
    "To fasten up the loading process we can make use of the parameter `dynamic=True`. When this parameter is set as `True`, the frames will be loaded one by one, on-demand. (This means that in the background the `Dataset` will be converted into a `DynamicMap` instead of a `Holomap`). Note: if the style of the plotting is not the one that you expected, rerun the cell. The dynamic plots will always take the last used plotting settings, independently of what was declared in the cell. Second note: The dynamic plots cannot be rendered in HTML. If you are viewing this from your webbrowser, you will just see GIFs that should emulate the real plot. If you happen to be in an active notebook session, you can play with them interactively!"
   ]
  },
  {
   "cell_type": "code",
   "execution_count": null,
   "id": "28",
   "metadata": {},
   "outputs": [],
   "source": [
    "cd ../methane"
   ]
  },
  {
   "cell_type": "code",
   "execution_count": null,
   "id": "29",
   "metadata": {},
   "outputs": [],
   "source": [
    "!octopus > out_gs.log 2>&1"
   ]
  },
  {
   "cell_type": "code",
   "execution_count": null,
   "id": "30",
   "metadata": {},
   "outputs": [],
   "source": [
    "run = Run(\".\")"
   ]
  },
  {
   "cell_type": "code",
   "execution_count": null,
   "id": "31",
   "metadata": {},
   "outputs": [],
   "source": [
    "xat = run.default.scf.density(source=\"vtk\")  # XArray Time-dependent"
   ]
  },
  {
   "cell_type": "code",
   "execution_count": null,
   "id": "32",
   "metadata": {},
   "outputs": [],
   "source": [
    "hv_dst = hv.Dataset(xat)  # convert to holoviews Dataset\n",
    "hv_imt = hv_dst.to(hv.Image)  # convert to holoviews Image\n",
    "hv.output(\n",
    "    max_frames=10000\n",
    ")  # sets the max number of frames that we can have in a slider-plot"
   ]
  },
  {
   "cell_type": "code",
   "execution_count": null,
   "id": "33",
   "metadata": {},
   "outputs": [],
   "source": [
    "# hv_imt # Would be very slow! Minutes long!"
   ]
  },
  {
   "cell_type": "code",
   "execution_count": null,
   "id": "34",
   "metadata": {},
   "outputs": [],
   "source": [
    "hv_dst = hv.Dataset(xat)\n",
    "hv_imt = hv_dst.to(hv.Image, kdims=[\"x\", \"y\"], dynamic=True)\n",
    "hv.output(max_frames=10000)"
   ]
  },
  {
   "cell_type": "code",
   "execution_count": null,
   "id": "35",
   "metadata": {},
   "outputs": [],
   "source": [
    "# Note for web users: You should have an active notebook session to interact with the plot\n",
    "hv_imt  # fast!"
   ]
  },
  {
   "cell_type": "code",
   "execution_count": null,
   "id": "36",
   "metadata": {},
   "outputs": [],
   "source": [
    "type(hv_imt)"
   ]
  },
  {
   "cell_type": "code",
   "execution_count": null,
   "id": "37",
   "metadata": {},
   "outputs": [],
   "source": [
    "hv_imt.data  #  the number of images saved in cache will update if you scroll the plot. The default cache_size is 500"
   ]
  },
  {
   "cell_type": "code",
   "execution_count": null,
   "id": "38",
   "metadata": {},
   "outputs": [],
   "source": [
    "hv_imt.cache_size"
   ]
  },
  {
   "cell_type": "markdown",
   "id": "39",
   "metadata": {
    "tags": []
   },
   "source": [
    "#### Histogram of the data"
   ]
  },
  {
   "cell_type": "code",
   "execution_count": null,
   "id": "40",
   "metadata": {},
   "outputs": [],
   "source": [
    "# Note for web users: You should have an active notebook session to interact with the plot\n",
    "hv_imt.hist(num_bins=100, log=True).opts(\n",
    "    opts.Image(\n",
    "        colorbar=True,  # we set the opts for each hv object independently\n",
    "        clabel=f\"{xat.name} ({xat.units})\",\n",
    "    ),  # holoviews doesn't support the labeling of the cmap out of the box\n",
    "    opts.Histogram(xlim=(0, 0.5), ylim=(0, 50)),\n",
    ")  # use base 10 logarithmic samples for the bin edges (width)"
   ]
  },
  {
   "cell_type": "code",
   "execution_count": null,
   "id": "41",
   "metadata": {},
   "outputs": [],
   "source": [
    "# Note for web users: You should have an active notebook session to interact with the plot\n",
    "hv_imt.hist(num_bins=100).opts(\n",
    "    opts.Image(colorbar=True, clabel=f\"{xat.name} ({xat.units})\"),\n",
    "    opts.Histogram(xlim=(0, 0.5), ylim=(0, 50)),\n",
    ")  # comparison without log"
   ]
  },
  {
   "cell_type": "markdown",
   "id": "42",
   "metadata": {
    "tags": []
   },
   "source": [
    "#### Swapping kdims"
   ]
  },
  {
   "cell_type": "code",
   "execution_count": null,
   "id": "43",
   "metadata": {},
   "outputs": [],
   "source": [
    "hv_imt_step_z = hv_dst.to(hv.Image, kdims=[\"step\", \"z\"], dynamic=True)"
   ]
  },
  {
   "cell_type": "code",
   "execution_count": null,
   "id": "44",
   "metadata": {},
   "outputs": [],
   "source": [
    "# Note for web users: You should have an active notebook session to interact with the plot\n",
    "hv_imt_step_z"
   ]
  },
  {
   "cell_type": "markdown",
   "id": "45",
   "metadata": {},
   "source": [
    "### Interference z=0 (slice)"
   ]
  },
  {
   "cell_type": "markdown",
   "id": "46",
   "metadata": {},
   "source": [
    "https://holoviews.org/user_guide/Styling_Plots.html\n",
    "https://holoviews.org/user_guide/Colormaps.html\n",
    "might come handy for customizing plots"
   ]
  },
  {
   "cell_type": "code",
   "execution_count": null,
   "id": "47",
   "metadata": {},
   "outputs": [],
   "source": [
    "cd ../interference/"
   ]
  },
  {
   "cell_type": "code",
   "execution_count": null,
   "id": "48",
   "metadata": {},
   "outputs": [],
   "source": [
    "!octopus > out_td.log 2>&1"
   ]
  },
  {
   "cell_type": "code",
   "execution_count": null,
   "id": "49",
   "metadata": {},
   "outputs": [],
   "source": [
    "run = Run(\".\")"
   ]
  },
  {
   "cell_type": "code",
   "execution_count": null,
   "id": "50",
   "metadata": {},
   "outputs": [],
   "source": [
    "xa = run.Maxwell.td.b_field(source=\"z=0\")"
   ]
  },
  {
   "cell_type": "code",
   "execution_count": null,
   "id": "51",
   "metadata": {},
   "outputs": [],
   "source": [
    "hv_dst = hv.Dataset(xa.vx)\n",
    "hv_imt = hv_dst.to(hv.Image, [\"x\", \"y\"])  # needed for generating output files\n",
    "hv_imt_dynamic = hv_dst.to(hv.Image, [\"x\", \"y\"], dynamic=True)\n",
    "hv.output(max_frames=3000)"
   ]
  },
  {
   "cell_type": "markdown",
   "id": "52",
   "metadata": {},
   "source": [
    "#### Custom plotting options"
   ]
  },
  {
   "cell_type": "code",
   "execution_count": null,
   "id": "53",
   "metadata": {},
   "outputs": [],
   "source": [
    "xa"
   ]
  },
  {
   "cell_type": "code",
   "execution_count": null,
   "id": "54",
   "metadata": {},
   "outputs": [],
   "source": [
    "# cmap: Which colors should be used\n",
    "# If cmap is not specified, and dynamic=True, it will change while we scroll. If dynamic=False, it will be fix.\n",
    "# color_levels: in which ranges should these colors be used\n",
    "# clim: what is the absolute scale of the colorbar\n",
    "# Note for web users: You should have an active notebook session to interact with the plot\n",
    "hv_imt_dynamic.opts(\n",
    "    colorbar=True,\n",
    "    width=500,\n",
    "    height=400,\n",
    "    # cmap=['#0000ff', '#89cff0', '#f75e25', '#ff0000'],\n",
    "    # color_levels=[-10**-3, -10**-4, 0, 10**-4, 10**-3],\n",
    "    cmap=\"seismic\",\n",
    "    clim=(-(10**-3), 10**-3),\n",
    "    clabel=f\"{xa.vx.name} ({xa.vx.units})\",\n",
    ")"
   ]
  },
  {
   "cell_type": "markdown",
   "id": "55",
   "metadata": {
    "tags": []
   },
   "source": [
    "The middle of the colormap will be in the middle of the min and max values of clim, so e.g. if you want the color map to be symmetric around 0, you should `climmin == -climmax`."
   ]
  },
  {
   "cell_type": "markdown",
   "id": "56",
   "metadata": {
    "tags": []
   },
   "source": [
    "## Saving gifs, htmls, images and videos of plots"
   ]
  },
  {
   "cell_type": "markdown",
   "id": "57",
   "metadata": {},
   "source": [
    "### Bokeh for (gifs and) htmls"
   ]
  },
  {
   "cell_type": "markdown",
   "id": "58",
   "metadata": {},
   "source": [
    "The recommended output format for interactive plots is `html`. If needed, one can also generate gifs and mp4s with holoviews."
   ]
  },
  {
   "cell_type": "markdown",
   "id": "59",
   "metadata": {},
   "source": [
    "One needs `sudo apt install geckodriver` (or `conda install -c conda-forge geckodriver`) for generating the `bokeh gif`, although one can generate `matplotlib gif`s without it.  \n",
    "One also needs `sudo apt install ffmpeg` (or `conda install -c conda-forge ffmpeg`)  for generating `matplotlib mp4`s. It is also possible to generate them in RAVEN (s. Advanced section)"
   ]
  },
  {
   "cell_type": "markdown",
   "id": "60",
   "metadata": {},
   "source": [
    "The gif and the mp4 generations were commented out because the CI would need geckodriver and ffmpeg. If you have them, just uncomment the code bits!\n",
    "\n",
    "Note that **we are using hv_imt and NOT hv_imt_dynamic!**"
   ]
  },
  {
   "cell_type": "code",
   "execution_count": null,
   "id": "61",
   "metadata": {},
   "outputs": [],
   "source": [
    "hv.save(\n",
    "    hv_imt.opts(\n",
    "        colorbar=True,\n",
    "        width=500,\n",
    "        height=400,\n",
    "        cmap=\"seismic\",\n",
    "        clim=(-(10**-3), 10**-3),  # hv.Image args\n",
    "    ),\n",
    "    fmt=\"html\",\n",
    "    backend=\"bokeh\",\n",
    "    filename=\"test2\",  # hv.save args\n",
    ")\n",
    "\n",
    "# uncomment if you have `geckodriver`\n",
    "\"\"\"\n",
    "hv.save(\n",
    "    hv_imt.opts(\n",
    "        colorbar=True, width=500, height=400, cmap='seismic', clim=(-10**-3, 10**-3)\n",
    "    ),\n",
    "    fmt=\"gif\", backend=\"bokeh\", filename=\"test3\", fps=1\n",
    ")\n",
    "\"\"\"\n",
    "\n",
    "\n",
    "hv.save(\n",
    "    hv_imt.opts(\n",
    "        colorbar=True,\n",
    "        width=500,\n",
    "        height=400,\n",
    "        cmap=\"seismic\",\n",
    "        clim=(-(10**-3), 10**-3),\n",
    "    ),\n",
    "    fmt=\"scrubber\",\n",
    "    backend=\"bokeh\",\n",
    "    filename=\"test20\",\n",
    "    fps=1,\n",
    ")"
   ]
  },
  {
   "cell_type": "markdown",
   "id": "62",
   "metadata": {},
   "source": [
    "Look into the `notebooks` folder, you should see new files in it!"
   ]
  },
  {
   "cell_type": "markdown",
   "id": "63",
   "metadata": {
    "tags": []
   },
   "source": [
    "### Matplotlib for gifs and mp4"
   ]
  },
  {
   "cell_type": "markdown",
   "id": "64",
   "metadata": {},
   "source": [
    "Bokeh is the default backend when working with holowiews. Although, bokeh doesn't currently support the output of mp4s (Also: the gif generation in bokeh can be slower than with matplotlib). So that the `holoviews` object should be ported to a matploib backend. This shouldn't be complicated. Probably, the only thing one needs to change is`fig_size` instead of `height` and `width`. Recall: `hv.help(hv.Image)` lists all the tunable parameters, for the active backend."
   ]
  },
  {
   "cell_type": "code",
   "execution_count": null,
   "id": "65",
   "metadata": {},
   "outputs": [],
   "source": [
    "hv.extension(\"matplotlib\")"
   ]
  },
  {
   "cell_type": "markdown",
   "id": "66",
   "metadata": {},
   "source": [
    "For Linux users: VLC player may needed for opening the mp4."
   ]
  },
  {
   "cell_type": "code",
   "execution_count": null,
   "id": "67",
   "metadata": {},
   "outputs": [],
   "source": [
    "# uncomment if you have `ffmpeg`\n",
    "\"\"\"\n",
    "hv.save(\n",
    "    hv_imt.opts(colorbar=True, fig_inches=10, cmap='seismic', clim=(-10**-3, 10**-3)\n",
    "               ),\n",
    "    fmt=\"mp4\", backend=\"matplotlib\", filename=\"test4\", fps=1)\n",
    "\"\"\""
   ]
  },
  {
   "cell_type": "code",
   "execution_count": null,
   "id": "68",
   "metadata": {},
   "outputs": [],
   "source": [
    "hv.save(\n",
    "    hv_imt.opts(colorbar=True, cmap=\"seismic\", fig_inches=10, clim=(-(10**-3), 10**-3)),\n",
    "    fmt=\"gif\",\n",
    "    backend=\"matplotlib\",\n",
    "    filename=\"test5\",\n",
    "    fps=1,\n",
    ")"
   ]
  },
  {
   "cell_type": "code",
   "execution_count": null,
   "id": "69",
   "metadata": {},
   "outputs": [],
   "source": [
    "hv.extension(\"bokeh\")  # go back to bokeh as default"
   ]
  },
  {
   "cell_type": "markdown",
   "id": "70",
   "metadata": {},
   "source": [
    "### Export individual images"
   ]
  },
  {
   "cell_type": "markdown",
   "id": "71",
   "metadata": {},
   "source": [
    "For exporting individual png's the easiest way, is while interacting with a dynamic plot: go to the frame that you are interested in, and click on the save button in the right-hand-bokeh-menu. That's it:"
   ]
  },
  {
   "cell_type": "code",
   "execution_count": null,
   "id": "72",
   "metadata": {},
   "outputs": [],
   "source": [
    "# Note for web users: You should have an active notebook session to interact with the plot\n",
    "hv_imt_dynamic"
   ]
  },
  {
   "cell_type": "markdown",
   "id": "73",
   "metadata": {},
   "source": [
    "In case you need an `svg`, you will need to use matplotlib. Just slice the original xarray at the point where you are interested in:"
   ]
  },
  {
   "cell_type": "code",
   "execution_count": null,
   "id": "74",
   "metadata": {},
   "outputs": [],
   "source": [
    "xa00 = xa.sel(\n",
    "    t=0.0\n",
    ")  # from the plot above look at which step interests you most, let's say t=0.0.\n",
    "hv_dst00 = hv.Dataset(xa00)\n",
    "hv_imt00 = hv_dst00.to(hv.Image, [\"x\", \"y\"])"
   ]
  },
  {
   "cell_type": "code",
   "execution_count": null,
   "id": "75",
   "metadata": {},
   "outputs": [],
   "source": [
    "hv.extension(\"matplotlib\")"
   ]
  },
  {
   "cell_type": "markdown",
   "id": "76",
   "metadata": {},
   "source": [
    "For some reason, the following cell causes trouble in the CI pipeline, although when executing it in a notebook there is no problem (problem started end of august). We are going to comment it and maybe address this in the future:"
   ]
  },
  {
   "cell_type": "code",
   "execution_count": null,
   "id": "77",
   "metadata": {},
   "outputs": [],
   "source": [
    "\"\"\"\n",
    "hv.save(\n",
    "    hv_imt00.opts(\n",
    "        colorbar=True, title=\"step300\", fig_size=500, cmap='seismic', clim=(-10**-3, 10**-3), xticks=\"auto\", yticks=\"auto\",\n",
    "    ),\n",
    "    fmt=\"svg\", backend=\"matplotlib\", filename=\"test6\", fps=1\n",
    ")\n",
    "\"\"\""
   ]
  },
  {
   "cell_type": "code",
   "execution_count": null,
   "id": "78",
   "metadata": {},
   "outputs": [],
   "source": [
    "hv.help(hv_imt00.opts())"
   ]
  },
  {
   "cell_type": "code",
   "execution_count": null,
   "id": "79",
   "metadata": {},
   "outputs": [],
   "source": [
    "hv.extension(\"bokeh\", \"matplotlib\")  # go back to bokeh as default"
   ]
  },
  {
   "cell_type": "markdown",
   "id": "80",
   "metadata": {},
   "source": [
    "## Vectorfields"
   ]
  },
  {
   "cell_type": "markdown",
   "id": "81",
   "metadata": {},
   "source": [
    "### Colormap plot"
   ]
  },
  {
   "cell_type": "code",
   "execution_count": null,
   "id": "82",
   "metadata": {},
   "outputs": [],
   "source": [
    "xav = run.Maxwell.td.b_field(source=\"z=0\")  # XArray Vector"
   ]
  },
  {
   "cell_type": "code",
   "execution_count": null,
   "id": "83",
   "metadata": {},
   "outputs": [],
   "source": [
    "hv_dst = hv.Dataset(xav)\n",
    "hv_imt = hv_dst.to(hv.Image, [\"x\", \"y\"])  # needed for generating outputs\n",
    "hv_imt_dynamic = hv_dst.to(hv.Image, [\"x\", \"y\"], dynamic=True)\n",
    "hv.output(max_frames=3000)\n",
    "hv_imt_dynamic"
   ]
  },
  {
   "cell_type": "code",
   "execution_count": null,
   "id": "84",
   "metadata": {},
   "outputs": [],
   "source": [
    "# Note for web users: You should have an active notebook session to interact with the plot\n",
    "hv_imt_dynamic.opts(\n",
    "    colorbar=True,\n",
    "    width=500,\n",
    "    height=400,\n",
    "    cmap=\"seismic\",\n",
    "    clabel=f\"{xav.vx.name} ({xav.units})\",\n",
    "    clim=(-(10**-3), 10**-3),\n",
    ")"
   ]
  },
  {
   "cell_type": "markdown",
   "id": "85",
   "metadata": {},
   "source": [
    "### Arrow plot"
   ]
  },
  {
   "cell_type": "code",
   "execution_count": null,
   "id": "86",
   "metadata": {},
   "outputs": [],
   "source": [
    "import xarray as xr"
   ]
  },
  {
   "cell_type": "code",
   "execution_count": null,
   "id": "87",
   "metadata": {},
   "outputs": [],
   "source": [
    "ds = xr.Dataset(\n",
    "    {\n",
    "        \"Angle\": np.arctan2(\n",
    "            xav.sel(x=slice(-10, 10), y=slice(-10, 10)).vy,\n",
    "            xav.sel(x=slice(-10, 10), y=slice(-10, 10)).vx,\n",
    "        ),\n",
    "        \"Magnitude\": np.sqrt(\n",
    "            xav.sel(x=slice(-10, 10), y=slice(-10, 10)).vx ** 2\n",
    "            + xav.sel(x=slice(-10, 10), y=slice(-10, 10)).vy ** 2\n",
    "        ),\n",
    "    }\n",
    ")  # polar coordinates required for plotting arrows"
   ]
  },
  {
   "cell_type": "code",
   "execution_count": null,
   "id": "88",
   "metadata": {},
   "outputs": [],
   "source": [
    "xav.vx.attrs"
   ]
  },
  {
   "cell_type": "code",
   "execution_count": null,
   "id": "89",
   "metadata": {},
   "outputs": [],
   "source": [
    "def _vectorplot(val):\n",
    "    plot = hv.VectorField(\n",
    "        data=ds.sel(t=val, method=\"nearest\"),\n",
    "        kdims=[\"x\", \"y\"],\n",
    "        vdims=[\"Angle\", \"Magnitude\"],\n",
    "    )\n",
    "    for dim in plot.kdims:  # keep the units\n",
    "        dim.unit = xav[f\"v{dim}\"].units\n",
    "    return plot"
   ]
  },
  {
   "cell_type": "code",
   "execution_count": null,
   "id": "90",
   "metadata": {},
   "outputs": [],
   "source": [
    "# Note for web users: You should have an active notebook session to interact with the plot\n",
    "arrow_plot = (\n",
    "    hv.DynamicMap(_vectorplot, kdims=\"t\")\n",
    "    .redim.values(t=xav.t.values)\n",
    "    .opts(color=\"blue\", width=500, height=400)\n",
    ")  # Zoom-in for seeing the  arrows!\n",
    "arrow_plot.kdims[0].unit = xav.t.units\n",
    "arrow_plot"
   ]
  },
  {
   "cell_type": "markdown",
   "id": "91",
   "metadata": {},
   "source": [
    "## Advanced "
   ]
  },
  {
   "cell_type": "markdown",
   "id": "92",
   "metadata": {},
   "source": [
    "### Advanced plotting"
   ]
  },
  {
   "cell_type": "markdown",
   "id": "93",
   "metadata": {},
   "source": [
    "If the holoviews default plotting does not offer enough customization to your needs, one has two possibilites:\n",
    "- Use the [holoviews hooks](https://holoviews.org/user_guide/Customizing_Plots.html#plot-hooks). These hooks will offer the underlying `plot` object from the backend to you. In the case of matplotlib e.g. in the function that you hook to, you could use `fig = plot.handles[\"fig\"]` and `ax = plot.handles[\"axis\"]`. These `fig` and `axes` objects are the ones that you probably know from matplotlib already. You can customize them as you are used to within the function. An example for this can be found in the `case_study_all_final` example, which is referenced under `Application examples`. We recommend exploiting this possibily first, before going to the second one, for still being able of having interactive plots. \n",
    "- [Render](https://holoviews.org/user_guide/Plotting_with_Matplotlib.html) the holoviews object into a backend object, e.g. matplotlib, to directly use the classic matplotlib functionalities: `fig = hv.render(hv_object, backend=\"matplotlib\")`, where `ax = fig.axes`. An example for this can be found in the `case_study_all_in_one_exploration` example, which is referenced under `Application examples`."
   ]
  },
  {
   "cell_type": "markdown",
   "id": "94",
   "metadata": {},
   "source": [
    "### Using conda-forge packages on RAVEN."
   ]
  },
  {
   "cell_type": "markdown",
   "id": "95",
   "metadata": {},
   "source": [
    "As said above, for generating `bokeh` `gif`s and `matplotlib` `mp4`s, one needs `geckodriver` and `ffmpeg`, respectively. The latter two are not `Python` packages. Therefore, one cannot install them via `pip`, so they are not installed by default along with `postopus`. Nonetheless, they can be installed via `conda-forge`. The problem is that the standard [MPCDF-RVS-Service](https://docs.mpcdf.mpg.de/doc/visualization/index.html#remote-visualization-and-jupyter-notebook-services) for visualizing notebooks doesn't allow to use custom `anaconda` environments. But there is a rather simple way to overcome this:\n",
    "1) Login to your raven-account via `ssh` in a terminal  \n",
    "2) create a conda yaml suited to your needs e.g.:\n",
    "```yaml\n",
    "name: holoviews-env\n",
    "channels:\n",
    "    - conda-forge\n",
    "    - defaults\n",
    "dependencies:\n",
    "    - python=3.9\n",
    "    - matplotlib\n",
    "    - numpy=1.21.5\n",
    "    - netCDF4\n",
    "    - pandas\n",
    "    - prettytable\n",
    "    - pyvista\n",
    "    - xarray\n",
    "    - psutil\n",
    "    - holoviews\n",
    "    - datashader\n",
    "    - selenium\n",
    "    - pytest\n",
    "    - Jinja2==3.0.1\n",
    "    - pip\n",
    "    - ipykernel\n",
    "    - geckodriver\n",
    "    - ffmpeg\n",
    "    - pip:\n",
    "       - ase @ git+https://gitlab.com/dremerb/ase.git@xsf_and_cube_merge\n",
    "       - postopus @ git+https://gitlab.com/octopus-code/postopus.git\n",
    "```\n",
    "3)  Create a conda environment with the requirements of the yaml: `conda env create -p /u/user_name/name_of_conda_environment --file=path_to_conf_yml.yml`  \n",
    "4) `conda deactivate` and `conda activate path_to_conda_env`  \n",
    "5) `conda install -c conda-forge jupyterlab`  \n",
    "6) `jupyter-lab`  \n",
    "7) After a few seconds, a new browser window will pop-up with a jupyter notebook hosted on raven that has all the packages that you need.  \n"
   ]
  },
  {
   "cell_type": "markdown",
   "id": "96",
   "metadata": {
    "tags": []
   },
   "source": [
    "## Final notes"
   ]
  },
  {
   "cell_type": "markdown",
   "id": "97",
   "metadata": {},
   "source": [
    "This tutorial is intended to be an introduction to holoviews. We didn't cover everything here. For example, there is another notebook under `/dev` that handles reduction methods in order to plot very dense data. If you need something more sophisticated for large datasets we could think about exploring the dask functionalities, which are also supported by holoviews. Just contact us if you have any questions!"
   ]
  }
 ],
 "metadata": {
  "kernelspec": {
   "display_name": "Python 3 (ipykernel)",
   "language": "python",
   "name": "python3"
  },
  "language_info": {
   "codemirror_mode": {
    "name": "ipython",
    "version": 3
   },
   "file_extension": ".py",
   "mimetype": "text/x-python",
   "name": "python",
   "nbconvert_exporter": "python",
   "pygments_lexer": "ipython3",
   "version": "3.11.9"
  }
 },
 "nbformat": 4,
 "nbformat_minor": 5
}
