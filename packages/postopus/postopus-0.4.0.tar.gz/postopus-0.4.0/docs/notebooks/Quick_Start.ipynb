{
 "cells": [
  {
   "cell_type": "markdown",
   "id": "0",
   "metadata": {},
   "source": [
    "# Quick start: ground state calculation for benzene\n",
    "\n",
    "Postopus (the POST-processing of Octopus data) is an environment that can help with the analysis of data that was computed using the Octopus TDDFT package.\n",
    "\n",
    "In this notebook we give some quick examples how easy you can access data of Octopus using Postopus.\n",
    "The notebook assumes that you have Octopus installed and is in your (bash) path.\n"
   ]
  },
  {
   "cell_type": "markdown",
   "id": "1",
   "metadata": {},
   "source": [
    "## Running the simulation\n",
    "Octopus takes an input file describing the systems and the simulation parameters.\n",
    "The input file is called `inp` and is a text file with no extension.\n",
    "\n",
    "(The `!command` IPython Magic lets us execute bash commands in the notebook.)\n",
    "\n",
    "Create the directory in which we run octopus:"
   ]
  },
  {
   "cell_type": "code",
   "execution_count": null,
   "id": "2",
   "metadata": {},
   "outputs": [],
   "source": [
    "!mkdir -p \"examples/benzene\""
   ]
  },
  {
   "cell_type": "code",
   "execution_count": null,
   "id": "3",
   "metadata": {},
   "outputs": [],
   "source": [
    "cd \"examples/benzene\""
   ]
  },
  {
   "cell_type": "markdown",
   "id": "4",
   "metadata": {},
   "source": [
    "Now create the `inp` file. This is achieved with the [`%%writefile`](https://ipython.readthedocs.io/en/stable/interactive/magics.html#cellmagic-writefile) magic command:"
   ]
  },
  {
   "cell_type": "code",
   "execution_count": null,
   "id": "5",
   "metadata": {},
   "outputs": [],
   "source": [
    "%%writefile inp\n",
    "\n",
    "stdout = \"gs_stdout.txt\"\n",
    "stderr = \"gs_stderr.txt\"\n",
    "\n",
    "CalculationMode = gs\n",
    "UnitsOutput = eV_Angstrom\n",
    "\n",
    "Radius = 5*angstrom\n",
    "Spacing = 0.15*angstrom\n",
    "\n",
    "%Output \n",
    "  wfs \n",
    "  density \n",
    "  elf \n",
    "  potential\n",
    "%\n",
    "\n",
    "OutputFormat = cube\n",
    "OutputDuringSCF = yes\n",
    "OutputInterval = 5\n",
    "\n",
    "XYZCoordinates = \"benzene.xyz\"\n",
    "FromScratch = true\n"
   ]
  },
  {
   "cell_type": "markdown",
   "id": "6",
   "metadata": {},
   "source": [
    "Similarly we define the geometry file (benzene.xyz):"
   ]
  },
  {
   "cell_type": "code",
   "execution_count": null,
   "id": "7",
   "metadata": {},
   "outputs": [],
   "source": [
    "%%writefile benzene.xyz\n",
    "12\n",
    "Geometry of benzene (in Angstrom)\n",
    "   C  0.000  1.396  0.000\n",
    "   C  1.209  0.698  0.000\n",
    "   C  1.209 -0.698  0.000\n",
    "   C  0.000 -1.396  0.000\n",
    "   C -1.209 -0.698  0.000\n",
    "   C -1.209  0.698  0.000\n",
    "   H  0.000  2.479  0.000\n",
    "   H  2.147  1.240  0.000\n",
    "   H  2.147 -1.240  0.000\n",
    "   H  0.000 -2.479  0.000\n",
    "   H -2.147 -1.240  0.000\n",
    "   H -2.147  1.240  0.000\n"
   ]
  },
  {
   "cell_type": "markdown",
   "id": "8",
   "metadata": {},
   "source": [
    "Now we can invoke octopus:"
   ]
  },
  {
   "cell_type": "code",
   "execution_count": null,
   "id": "9",
   "metadata": {},
   "outputs": [],
   "source": [
    "!octopus"
   ]
  },
  {
   "cell_type": "markdown",
   "id": "10",
   "metadata": {},
   "source": [
    "Octopus stores the calculation results in the project directory.\n",
    "If you were to take a look at the `benzene` project folder, you would see something like:\n",
    "\n",
    "    ├── benzene.xyz                     # Geometry of the molecules (input)\n",
    "    ├── exec                            # Runtime information\n",
    "    │   ├── initial_coordinates.xyz\n",
    "    │   ├── messages\n",
    "    │   ├── oct-status-finished\n",
    "    │   └── parser.log                  # Full set of variables used for the run\n",
    "    ├── inp                             # Our input file \n",
    "    ├── out_gs.log                      # Log file\n",
    "    ├── output_iter                     # Output for each iteration in scf/td calculation\n",
    "    │   ├── scf.0005\n",
    "    │   │   ├── density.cube\n",
    "    │   │   └── ...\n",
    "    │   └── scf.0010\n",
    "    │       ├── density.cube\n",
    "    │       └── ...\n",
    "    ├── restart\n",
    "    │   └── gs                          # Ground state calculations\n",
    "    │       ├── 0000000001.obf          # Checkpoint file to restart calculation in case of job abortion\n",
    "    │       ├── 0000000002.obf\n",
    "    │       ├── ...\n",
    "    │       └── wfns\n",
    "    └── static                          # Ground state observables\n",
    "        ├── info                        # Result of ground state calculation (like energy eigenvalues and forces)\n",
    "        ├── convergence\n",
    "        ├── density.cube\n",
    "        ├── ...\n",
    "        └── wf-st0015.z=0\n",
    "\n",
    "These new files are the results of the simulation.\n",
    "We will now analyse the output files to examine the simulation results. The Postopus package helps in this part."
   ]
  },
  {
   "cell_type": "markdown",
   "id": "11",
   "metadata": {},
   "source": [
    "## Postopus"
   ]
  },
  {
   "cell_type": "markdown",
   "id": "12",
   "metadata": {},
   "source": [
    "First, we have to import the Octopus run using Postopus:"
   ]
  },
  {
   "cell_type": "code",
   "execution_count": null,
   "id": "13",
   "metadata": {},
   "outputs": [],
   "source": [
    "from postopus import Run\n",
    "\n",
    "run = Run(\".\")  # or equivalent run = Run()"
   ]
  },
  {
   "cell_type": "markdown",
   "id": "14",
   "metadata": {},
   "source": [
    "### System selection"
   ]
  },
  {
   "cell_type": "markdown",
   "id": "15",
   "metadata": {},
   "source": [
    "Now we have to select the system. To list available systems we print the run object. If the [multisystem](https://octopus-code.org/documentation/13/tutorial/multisystem/introduction/) feature of Octopus is not used, Postopus uses the name \"default\"."
   ]
  },
  {
   "cell_type": "code",
   "execution_count": null,
   "id": "16",
   "metadata": {},
   "outputs": [],
   "source": [
    "run"
   ]
  },
  {
   "cell_type": "markdown",
   "id": "17",
   "metadata": {},
   "source": [
    "### Calculation modes"
   ]
  },
  {
   "cell_type": "markdown",
   "id": "18",
   "metadata": {},
   "source": [
    "We can take a look at the different types of calculations done in this system by running:"
   ]
  },
  {
   "cell_type": "code",
   "execution_count": null,
   "id": "19",
   "metadata": {},
   "outputs": [],
   "source": [
    "run.default"
   ]
  },
  {
   "cell_type": "markdown",
   "id": "20",
   "metadata": {},
   "source": [
    "This tells us that this project had only a self-consistent field simulation (`scf`)."
   ]
  },
  {
   "cell_type": "markdown",
   "id": "21",
   "metadata": {},
   "source": [
    "### Outputs\n",
    "\n",
    "Printing the calculation mode gives us a list of available outputs:"
   ]
  },
  {
   "cell_type": "code",
   "execution_count": null,
   "id": "22",
   "metadata": {},
   "outputs": [],
   "source": [
    "run.default.scf"
   ]
  },
  {
   "cell_type": "markdown",
   "id": "23",
   "metadata": {},
   "source": [
    "### Autocompletion"
   ]
  },
  {
   "cell_type": "markdown",
   "id": "24",
   "metadata": {},
   "source": [
    "The tab completion feature available in Jupyter notebooks and IPython supports navigating the systems, calculation modes and outputs.\n",
    "Here is an example image of how the tab completion feature works:\n",
    "\n",
    "![images/tab_completion_eg.png](images/tab_completion_eg.png)\n"
   ]
  },
  {
   "cell_type": "markdown",
   "id": "25",
   "metadata": {
    "tags": []
   },
   "source": [
    "## Output files"
   ]
  },
  {
   "cell_type": "markdown",
   "id": "26",
   "metadata": {},
   "source": [
    "Postopus makes all the files of the Octopus simulation easily accesible. The data is provided mostly as [pandas](https://pandas.pydata.org/) DataFrame or [xarray](https://docs.xarray.dev/en/stable/) DataArray/Dataset:"
   ]
  },
  {
   "cell_type": "markdown",
   "id": "27",
   "metadata": {},
   "source": [
    "### Table-like structured files\n",
    "We can take a look at the convergence of the systems energy after each scf iteration through:"
   ]
  },
  {
   "cell_type": "code",
   "execution_count": null,
   "id": "28",
   "metadata": {},
   "outputs": [],
   "source": [
    "run.default.scf.convergence()"
   ]
  },
  {
   "cell_type": "markdown",
   "id": "29",
   "metadata": {},
   "source": [
    "If we wanted to visualize the convergence of the energy, we can run the following:"
   ]
  },
  {
   "cell_type": "code",
   "execution_count": null,
   "id": "30",
   "metadata": {},
   "outputs": [],
   "source": [
    "# Plot of energy at each interaction showing its convergence\n",
    "fig = run.default.scf.convergence()[\"energy\"].plot(\n",
    "    title=\"Energy convergence\",\n",
    "    marker=\".\",\n",
    "    markersize=10,\n",
    ")\n",
    "fig.set(xlabel=\"Iteration\", ylabel=\"Energy (eV)\");"
   ]
  },
  {
   "cell_type": "markdown",
   "id": "31",
   "metadata": {},
   "source": [
    "### Fields"
   ]
  },
  {
   "cell_type": "markdown",
   "id": "32",
   "metadata": {},
   "source": [
    "We can simply load the data of the output accross all iterations (including the output in static/):"
   ]
  },
  {
   "cell_type": "code",
   "execution_count": null,
   "id": "33",
   "metadata": {},
   "outputs": [],
   "source": [
    "density_data = run.default.scf.density(\"cube\")\n",
    "density_data"
   ]
  },
  {
   "cell_type": "markdown",
   "id": "34",
   "metadata": {},
   "source": [
    "The data object is an `xarray` object containing not only the data values, but also the coordinates for which these values are defined:"
   ]
  },
  {
   "cell_type": "code",
   "execution_count": null,
   "id": "35",
   "metadata": {},
   "outputs": [],
   "source": [
    "density_data.coords"
   ]
  },
  {
   "cell_type": "markdown",
   "id": "36",
   "metadata": {},
   "source": [
    "For more information on the units take a look at the [units tutorial](units.ipynb)."
   ]
  },
  {
   "cell_type": "markdown",
   "id": "37",
   "metadata": {
    "tags": []
   },
   "source": [
    "## Working with the data: Xarray\n",
    "\n",
    "First, let us access the data from the last iteration only:"
   ]
  },
  {
   "cell_type": "code",
   "execution_count": null,
   "id": "38",
   "metadata": {},
   "outputs": [],
   "source": [
    "xa = density_data.isel(step=-1)\n",
    "xa"
   ]
  },
  {
   "cell_type": "markdown",
   "id": "39",
   "metadata": {},
   "source": [
    "In the first line of output of the previous cell, we can see an overview of the Xarray data inside the `density` field.\n",
    "The first line tells us the number of sampling points in each direction:\n",
    "\n",
    "    xarray.DataArray ‘density’ (x: 95, y: 99, z: 67)\n",
    "\n",
    "So there are 95 sampling points in the x-direction and similarly 67 for the z-direction.\n",
    "Suppose we want to have a view of density of benzene in the x-y plane (i.e. at $z=0$), \n",
    "we can do so by selecting the slice at z=0. One way to do this for this particular simulation is by asking Xarray for selecting the slice at the index $i_z=67/2~\\approx~33$:\n"
   ]
  },
  {
   "cell_type": "code",
   "execution_count": null,
   "id": "40",
   "metadata": {},
   "outputs": [],
   "source": [
    "s0 = xa.isel(z=33)  # Viewing the slice at 33rd index of z-axis\n",
    "s0"
   ]
  },
  {
   "cell_type": "markdown",
   "id": "41",
   "metadata": {},
   "source": [
    "This slice returns another Xarray object. Note here that the coordinate value for `z` is `3e-06`, which is the value of `z` coordinate for the 33rd sampling point in the z-direction.\n",
    "We can now plot this slice using the `plot()` method of the Xarray object:\n",
    "\n",
    "(The `;` after `s0.plot()` is a trick used to prevent IPython from printing the result of `s0.plot()` which would show something like `<matplotlib.collections.QuadMesh at 0x7f181bbf8a10>` above the actual plot.)"
   ]
  },
  {
   "cell_type": "code",
   "execution_count": null,
   "id": "42",
   "metadata": {},
   "outputs": [],
   "source": [
    "s0.plot();"
   ]
  },
  {
   "cell_type": "markdown",
   "id": "43",
   "metadata": {},
   "source": [
    "Note that the plot has the x and the y axis inverted, one can change this by passing the `x='x'` argument to the `plot()` method."
   ]
  },
  {
   "cell_type": "code",
   "execution_count": null,
   "id": "44",
   "metadata": {},
   "outputs": [],
   "source": [
    "s0.plot(x=\"x\");"
   ]
  },
  {
   "cell_type": "markdown",
   "id": "45",
   "metadata": {},
   "source": [
    "Another way to slice the data is by using the `sel()` method of the Xarray object, where you can pass the *coordinate value* instead of the *index*.\n",
    "\n",
    "For example, to get the same slice as above, we can use:"
   ]
  },
  {
   "cell_type": "code",
   "execution_count": null,
   "id": "46",
   "metadata": {},
   "outputs": [],
   "source": [
    "s1 = xa.sel(z=0, method=\"nearest\")\n",
    "s1.plot(x=\"x\");"
   ]
  },
  {
   "cell_type": "markdown",
   "id": "47",
   "metadata": {},
   "source": [
    "Note that plots automatically display the value of the position of the slice in the z-direction as well as the step number. \n",
    "This is possible because Xarray maintains the metadata of the coordinates even after slicing."
   ]
  },
  {
   "cell_type": "markdown",
   "id": "48",
   "metadata": {},
   "source": [
    "One can have a side view of the molecule by slicing the data in the y-z plane (e.g. at $x=0$) in a similar fashion:\n",
    "\n",
    "    xa.sel(x=0, method='nearest')\n",
    "\n",
    "Using a `for` loop and some commands from the `matplotlib` plotting library, we can plot 6 different slices of the data in a 3x2 grid at different values of x."
   ]
  },
  {
   "cell_type": "code",
   "execution_count": null,
   "id": "49",
   "metadata": {},
   "outputs": [],
   "source": [
    "import matplotlib.pyplot as plt\n",
    "import numpy as np\n",
    "\n",
    "# create a subplot with 2 rows, 3 columns\n",
    "fig, axs = plt.subplots(2, 3, figsize=(10, 5))\n",
    "\n",
    "# x positions from -7.5 to 5 in 6 steps\n",
    "x_positions = np.linspace(-7.5, 5, 6)\n",
    "\n",
    "for ax, x in zip(axs.flat, x_positions):\n",
    "    # plot the slice nearest to x position\n",
    "    xa.sel(x=x, method=\"nearest\").plot(ax=ax, x=\"y\")\n",
    "\n",
    "fig.tight_layout()  # avoid overlap of labels"
   ]
  },
  {
   "cell_type": "markdown",
   "id": "50",
   "metadata": {},
   "source": [
    "The `sel` method can also be used to select a multiple coordinates at once, for example to select the slice at $x=0$ and $z=0$ we can do:\n",
    "\n",
    "    xa.sel(x=0, z=0, method='nearest')\n",
    "\n",
    "We can then plot the variation of density along the y axis. Because we have restricted two (`x` and `z`) of the three spatial dimensions, we obtain a 'line plot' of the density along the remaining coordinate dimension `y`."
   ]
  },
  {
   "cell_type": "code",
   "execution_count": null,
   "id": "51",
   "metadata": {},
   "outputs": [],
   "source": [
    "xa.sel(x=0, z=0, method=\"nearest\").plot()"
   ]
  },
  {
   "cell_type": "markdown",
   "id": "52",
   "metadata": {},
   "source": [
    "A more detailed exploration of plotting with Xarray is available in the [postopus plotting tutorial](https://octopus-code.gitlab.io/postopus/notebooks/xarray-plots1.html#)."
   ]
  },
  {
   "cell_type": "markdown",
   "id": "53",
   "metadata": {
    "tags": []
   },
   "source": [
    "## Plotting with holoviews"
   ]
  },
  {
   "cell_type": "markdown",
   "id": "54",
   "metadata": {},
   "source": [
    "A plotting library that is built for interactive/multidimensional plots is [holoviews](https://holoviews.org/).\n",
    "Converting xarray objects (the most common output type in postopus) to holoviews objects is simple, as we will see. Holoviews supports many backends for plotting. In this tutorial we will use bokeh (the default plotting backend for holoviews).\n",
    "\n",
    "The holoviews approach to plotting may seem unconventional (and perhaps confusing) at first — it is, however, very powerful. In particular, holoviews allows the selective and/or interactive visualization of data that is defined in more dimensions that we can easily visualize. To be able to use that power, we need to provide some additional information to the plotting commands: for example which of the many dimensions we want to plot, and for which we would like to have an interactive slider to select it.\n",
    "\n",
    "We provide a few examples that can be used as templates to cover typical use cases below. \n"
   ]
  },
  {
   "cell_type": "markdown",
   "id": "55",
   "metadata": {},
   "source": [
    "First, let us import the holoviews library as well as the plotting backends we will use:"
   ]
  },
  {
   "cell_type": "code",
   "execution_count": null,
   "id": "56",
   "metadata": {},
   "outputs": [],
   "source": [
    "import holoviews as hv\n",
    "from holoviews import opts  # For setting defaults\n",
    "\n",
    "hv.extension(\"bokeh\")  # Allow for interactive plots"
   ]
  },
  {
   "cell_type": "markdown",
   "id": "57",
   "metadata": {},
   "source": [
    "We then choose the color map we want to use for the plots. We use `viridis`."
   ]
  },
  {
   "cell_type": "code",
   "execution_count": null,
   "id": "58",
   "metadata": {},
   "outputs": [],
   "source": [
    "# Choose color scheme similar to matplotlib\n",
    "opts.defaults(\n",
    "    opts.Image(cmap=\"viridis\", width=400, height=400),\n",
    ")"
   ]
  },
  {
   "cell_type": "markdown",
   "id": "59",
   "metadata": {},
   "source": [
    "Now we can plot our density data including sliders to easily explore the data:"
   ]
  },
  {
   "cell_type": "code",
   "execution_count": null,
   "id": "60",
   "metadata": {},
   "outputs": [],
   "source": [
    "ds = hv.Dataset(density_data.isel(step=-1))\n",
    "im = ds.to(hv.Image, kdims=[\"x\", \"y\"]).opts(colorbar=True, width=500)\n",
    "im"
   ]
  },
  {
   "cell_type": "markdown",
   "id": "61",
   "metadata": {},
   "source": [
    "Specifying the argument `dynamic=True` in the `to` method allows us to select the data one by one instead of precomputing for the entire range. This may be necessary for larger data points.\n",
    "\n",
    "Here is a similar plot for the y-z plane (with a slider for x and the iteration step):"
   ]
  },
  {
   "cell_type": "code",
   "execution_count": null,
   "id": "62",
   "metadata": {},
   "outputs": [],
   "source": [
    "# Note for web users: You should have an active notebook session to interact with the plot\n",
    "hv.Dataset(density_data).to(hv.Image, kdims=[\"y\", \"z\"], dynamic=True).opts(\n",
    "    colorbar=True, width=500\n",
    ")"
   ]
  },
  {
   "cell_type": "markdown",
   "id": "63",
   "metadata": {},
   "source": [
    "A more detailed exploration of plotting with holoviews is available in the [postopus plotting tutorial](https://octopus-code.gitlab.io/postopus/notebooks/holoviews_with_postopus.html), or in the [holoviews documentation](https://holoviews.org/getting_started/Gridded_Datasets.html)."
   ]
  }
 ],
 "metadata": {
  "kernelspec": {
   "display_name": "Python 3 (ipykernel)",
   "language": "python",
   "name": "python3"
  },
  "language_info": {
   "codemirror_mode": {
    "name": "ipython",
    "version": 3
   },
   "file_extension": ".py",
   "mimetype": "text/x-python",
   "name": "python",
   "nbconvert_exporter": "python",
   "pygments_lexer": "ipython3",
   "version": "3.11.9"
  },
  "vscode": {
   "interpreter": {
    "hash": "916dbcbb3f70747c44a77c7bcd40155683ae19c65e1c03b4aa3499c5328201f1"
   }
  }
 },
 "nbformat": 4,
 "nbformat_minor": 5
}
