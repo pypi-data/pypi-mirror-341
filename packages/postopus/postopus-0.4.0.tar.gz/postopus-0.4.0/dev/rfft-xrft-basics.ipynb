{
 "cells": [
  {
   "cell_type": "code",
   "execution_count": null,
   "id": "0",
   "metadata": {},
   "outputs": [],
   "source": [
    "import matplotlib.pyplot as plt\n",
    "import numpy as np\n",
    "\n",
    "%config InlineBackend.figure_format='retina'"
   ]
  },
  {
   "cell_type": "markdown",
   "id": "1",
   "metadata": {},
   "source": [
    "# 1d - discrete Fourier transform with numpy\n",
    "\n",
    "- uses FFT\n",
    "- assumes regular grid\n",
    "- demonstrates use of `np.fft.fftfreq` to retrieve appropriate frequencies conveniently"
   ]
  },
  {
   "cell_type": "code",
   "execution_count": null,
   "id": "2",
   "metadata": {},
   "outputs": [],
   "source": [
    "n = 1000  # number of time steps\n",
    "T = 5  # Time interval\n",
    "f = 2  # frequency\n",
    "omega = f * 2 * np.pi  # angular frequeny\n",
    "\n",
    "dt = T / n  # time step size\n",
    "t = np.arange(0, T, dt)  # time\n",
    "y = np.sin(omega * t)  # our signal y\n",
    "\n",
    "print(f\"{dt=}\")"
   ]
  },
  {
   "cell_type": "markdown",
   "id": "3",
   "metadata": {},
   "source": [
    "## Compute Fourier transform (`fft`)"
   ]
  },
  {
   "cell_type": "code",
   "execution_count": null,
   "id": "4",
   "metadata": {},
   "outputs": [],
   "source": [
    "fy = np.fft.fft(y)  # Fourier transform of y\n",
    "print(\n",
    "    f\"Size of Fourier transform data {fy.nbytes // n} bytes / data point. ({fy.dtype=})\"\n",
    ")"
   ]
  },
  {
   "cell_type": "markdown",
   "id": "5",
   "metadata": {},
   "source": [
    "## What frequencies do we expect?"
   ]
  },
  {
   "cell_type": "code",
   "execution_count": null,
   "id": "6",
   "metadata": {},
   "outputs": [],
   "source": [
    "fs = np.fft.fftfreq(n, d=dt)  # FrequencieS\n",
    "fs[0:15]"
   ]
  },
  {
   "cell_type": "code",
   "execution_count": null,
   "id": "7",
   "metadata": {},
   "outputs": [],
   "source": [
    "fs.shape"
   ]
  },
  {
   "cell_type": "markdown",
   "id": "8",
   "metadata": {},
   "source": [
    "The spacing in frequency space is given by $df = 1 / T$:\n"
   ]
  },
  {
   "cell_type": "code",
   "execution_count": null,
   "id": "9",
   "metadata": {},
   "outputs": [],
   "source": [
    "1 / T"
   ]
  },
  {
   "cell_type": "code",
   "execution_count": null,
   "id": "10",
   "metadata": {},
   "outputs": [],
   "source": [
    "fig, axes = plt.subplots(1, 2, figsize=(12, 4))\n",
    "ax0, ax1 = axes\n",
    "ax0.plot(t, y, label=\"y(t)\")\n",
    "ax0.set_xlabel(\"t\")\n",
    "ax0.legend()\n",
    "\n",
    "# Plot Fourier transform\n",
    "ax1.plot(fs, np.abs(fy), \"o-\", label=r\"$\\mathcal{F}(y)$\")\n",
    "ax1.set_xlabel(\"frequency\")\n",
    "ax1.legend()\n",
    "ax1.set_xlim([-5, 5]);  # Focus on peaks"
   ]
  },
  {
   "cell_type": "code",
   "execution_count": null,
   "id": "11",
   "metadata": {},
   "outputs": [],
   "source": [
    "ind_max = np.argmax(np.abs(fy))\n",
    "print(f\"Maximum index is {ind_max}. Corresponding frequency is {fs[ind_max]}.\")"
   ]
  },
  {
   "cell_type": "markdown",
   "id": "12",
   "metadata": {},
   "source": [
    "Negative and positive frequencies are symmetric due to the realness of the data."
   ]
  },
  {
   "cell_type": "code",
   "execution_count": null,
   "id": "13",
   "metadata": {},
   "outputs": [],
   "source": [
    "fs[ind_max - 1 : ind_max + 2]"
   ]
  },
  {
   "cell_type": "code",
   "execution_count": null,
   "id": "14",
   "metadata": {},
   "outputs": [],
   "source": [
    "print(f\"Size of Fourier transform data {fy.nbytes // n} bytes / data point.\")"
   ]
  },
  {
   "cell_type": "markdown",
   "id": "15",
   "metadata": {},
   "source": [
    "## Compute Fourier transform of real data (`rfft`)"
   ]
  },
  {
   "cell_type": "code",
   "execution_count": null,
   "id": "16",
   "metadata": {},
   "outputs": [],
   "source": [
    "rfy = np.fft.rfft(y)\n",
    "print(\n",
    "    f\"Size of Fourier transform of real data {rfy.nbytes // n} bytes / data point. ({rfy.dtype=}, {rfy.shape=})\"\n",
    ")"
   ]
  },
  {
   "cell_type": "code",
   "execution_count": null,
   "id": "17",
   "metadata": {},
   "outputs": [],
   "source": [
    "rfs = np.fft.rfftfreq(n, dt)\n",
    "rfs[0:15]"
   ]
  },
  {
   "cell_type": "code",
   "execution_count": null,
   "id": "18",
   "metadata": {},
   "outputs": [],
   "source": [
    "fig, axes = plt.subplots(1, 2, figsize=(12, 4))\n",
    "ax0, ax1 = axes\n",
    "ax0.plot(t, y, label=\"y(t)\")\n",
    "ax0.set_xlabel(\"t\")\n",
    "\n",
    "ax1.plot(rfs, np.abs(rfy), \"o-\", label=r\"$\\mathcal{F}(y)$\")\n",
    "ax1.set_xlabel(\"frequency\")\n",
    "\n",
    "ax0.legend()\n",
    "ax1.legend()\n",
    "ax1.set_xlim([-5, 5]);"
   ]
  },
  {
   "cell_type": "code",
   "execution_count": null,
   "id": "19",
   "metadata": {},
   "outputs": [],
   "source": [
    "ind_max = np.argmax(np.abs(rfy))\n",
    "print(f\"Maximum index is {ind_max}. Corresponding frequency is {rfs[ind_max]}.\")"
   ]
  },
  {
   "cell_type": "markdown",
   "id": "20",
   "metadata": {},
   "source": [
    "# xrft Approach"
   ]
  },
  {
   "cell_type": "markdown",
   "id": "21",
   "metadata": {},
   "source": [
    "`xrft` has the advantage that the dimensions are also transformed and labeled during the FFT. This advantage may not seem to huge for this 1D example. But for multidimensional examples, it reduces the technical difficulties a lot. Moreover, one can take advantage of `holoviews` as well for multidimensional data when using `xrft` (s. holoviews + xrft tutorial)"
   ]
  },
  {
   "cell_type": "code",
   "execution_count": null,
   "id": "22",
   "metadata": {},
   "outputs": [],
   "source": [
    "import xarray as xr\n",
    "import xrft"
   ]
  },
  {
   "cell_type": "code",
   "execution_count": null,
   "id": "23",
   "metadata": {},
   "outputs": [],
   "source": [
    "xa = xr.DataArray(y, coords={\"t\": t}, dims=(\"t\"))"
   ]
  },
  {
   "cell_type": "code",
   "execution_count": null,
   "id": "24",
   "metadata": {},
   "outputs": [],
   "source": [
    "xa.name = \"test\"  # This will not be necessary in postopus."
   ]
  },
  {
   "cell_type": "code",
   "execution_count": null,
   "id": "25",
   "metadata": {},
   "outputs": [],
   "source": [
    "Fxa = xrft.fft(xa, dim=\"t\")  # numpy.fft-like behaviour"
   ]
  },
  {
   "cell_type": "code",
   "execution_count": null,
   "id": "26",
   "metadata": {},
   "outputs": [],
   "source": [
    "# plot\n",
    "fig, axes = plt.subplots(1, 2, figsize=(12, 4))\n",
    "ax0, ax1 = axes\n",
    "\n",
    "xa.plot.line(ax=ax0, label=\"y(t)\")\n",
    "ax0.set_xlabel(\"t\")\n",
    "\n",
    "abs(Fxa).real.plot.line(\"o-\", ax=ax1, label=r\"$\\mathcal{F}(y)$\")\n",
    "ax1.set_xlabel(\"frequency\")\n",
    "\n",
    "ax0.legend()\n",
    "ax1.legend()\n",
    "ax1.set_xlim([-5, 5])"
   ]
  },
  {
   "cell_type": "code",
   "execution_count": null,
   "id": "27",
   "metadata": {},
   "outputs": [],
   "source": [
    "Fxar = xrft.fft(xa, dim=\"t\", real_dim=\"t\")  # numpy.rfft-like behaviour"
   ]
  },
  {
   "cell_type": "code",
   "execution_count": null,
   "id": "28",
   "metadata": {},
   "outputs": [],
   "source": [
    "# plot\n",
    "fig, axes = plt.subplots(1, 2, figsize=(12, 4))\n",
    "ax0, ax1 = axes\n",
    "\n",
    "xa.plot.line(ax=ax0, label=\"y(t)\")\n",
    "ax0.set_xlabel(\"t\")\n",
    "\n",
    "abs(Fxar).plot.line(\"o-\", ax=ax1, label=r\"$\\mathcal{F}(y)$\")\n",
    "ax1.set_xlabel(\"frequency\")\n",
    "\n",
    "ax0.legend()\n",
    "ax1.legend()\n",
    "ax1.set_xlim([-5, 5])"
   ]
  },
  {
   "cell_type": "markdown",
   "id": "29",
   "metadata": {},
   "source": [
    "# Extra: xrft with corrections in amplitude and phase (numpy does not estrictly respect the theoretical phase and amplitude)"
   ]
  },
  {
   "cell_type": "code",
   "execution_count": null,
   "id": "30",
   "metadata": {},
   "outputs": [],
   "source": [
    "Fxat = xrft.fft(xa, dim=\"t\", true_amplitude=True, true_phase=True)"
   ]
  },
  {
   "cell_type": "code",
   "execution_count": null,
   "id": "31",
   "metadata": {},
   "outputs": [],
   "source": [
    "fig, axes = plt.subplots(1, 2, figsize=(12, 4))\n",
    "ax0, ax1 = axes\n",
    "\n",
    "xa.plot.line(ax=ax0, label=\"y(t)\")\n",
    "ax0.set_xlabel(\"t\")\n",
    "\n",
    "abs(Fxat).plot.line(\"o-\", ax=ax1, label=r\"$\\mathcal{F}(y)$\")\n",
    "ax1.set_xlabel(\"frequency\")\n",
    "\n",
    "ax0.legend()\n",
    "ax1.legend()\n",
    "ax1.set_xlim([-5, 5]);"
   ]
  },
  {
   "cell_type": "code",
   "execution_count": null,
   "id": "32",
   "metadata": {},
   "outputs": [],
   "source": [
    "iFxat = xrft.ifft(Fxat, dim=\"freq_t\")\n",
    "iFxat.real.plot()  # This would be shifted if one uses np.fft."
   ]
  },
  {
   "cell_type": "markdown",
   "id": "33",
   "metadata": {},
   "source": [
    "# Spectral density"
   ]
  },
  {
   "cell_type": "code",
   "execution_count": null,
   "id": "34",
   "metadata": {},
   "outputs": [],
   "source": [
    "sd = xrft.power_spectrum(xa, dim=\"t\", real_dim=\"t\", scaling=\"density\")"
   ]
  },
  {
   "cell_type": "code",
   "execution_count": null,
   "id": "35",
   "metadata": {},
   "outputs": [],
   "source": [
    "fig, axes = plt.subplots(1, 1, figsize=(12, 4))\n",
    "ax0 = axes\n",
    "\n",
    "sd.plot.line(ax=ax0, label=\"Spectral density\")\n",
    "ax0.set_xlabel(\"freq_t\")\n",
    "ax0.set_xlim([0, 5]);"
   ]
  },
  {
   "cell_type": "code",
   "execution_count": null,
   "id": "36",
   "metadata": {},
   "outputs": [],
   "source": []
  }
 ],
 "metadata": {
  "kernelspec": {
   "display_name": "Python 3 (ipykernel)",
   "language": "python",
   "name": "python3"
  },
  "language_info": {
   "codemirror_mode": {
    "name": "ipython",
    "version": 3
   },
   "file_extension": ".py",
   "mimetype": "text/x-python",
   "name": "python",
   "nbconvert_exporter": "python",
   "pygments_lexer": "ipython3",
   "version": "3.8.10"
  }
 },
 "nbformat": 4,
 "nbformat_minor": 5
}
