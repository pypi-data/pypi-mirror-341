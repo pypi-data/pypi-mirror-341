{
 "cells": [
  {
   "cell_type": "markdown",
   "id": "0",
   "metadata": {},
   "source": [
    "# Increase the speed by reducing the amount of data"
   ]
  },
  {
   "cell_type": "code",
   "execution_count": null,
   "id": "1",
   "metadata": {},
   "outputs": [],
   "source": [
    "import holoviews as hv\n",
    "\n",
    "from postopus.octopus_run import Run\n",
    "\n",
    "hv.extension(\"bokeh\", \"matplotlib\")"
   ]
  },
  {
   "cell_type": "code",
   "execution_count": null,
   "id": "2",
   "metadata": {},
   "outputs": [],
   "source": [
    "path_methane = \"../tests/data/methane/\"\n",
    "run = Run(path_methane)"
   ]
  },
  {
   "cell_type": "code",
   "execution_count": null,
   "id": "3",
   "metadata": {},
   "outputs": [],
   "source": [
    "xat = run.default.scf.density.get_all(source=\"vtk\")"
   ]
  },
  {
   "cell_type": "code",
   "execution_count": null,
   "id": "4",
   "metadata": {},
   "outputs": [],
   "source": [
    "hv_dst = hv.Dataset(xat)\n",
    "hv_imt = hv_dst.to(hv.Image, dynamic=True)\n",
    "hv.output(max_frames=10000)"
   ]
  },
  {
   "cell_type": "code",
   "execution_count": null,
   "id": "5",
   "metadata": {},
   "outputs": [],
   "source": [
    "hv_imt"
   ]
  },
  {
   "cell_type": "markdown",
   "id": "6",
   "metadata": {},
   "source": [
    "We've never encountered such a situation but it is possible that even when setting `dynamic=True` the data points per frame is too large, i.e. too dense to be loaded quickly. In these cases, one can try to use the following methods to speed things up:"
   ]
  },
  {
   "cell_type": "code",
   "execution_count": null,
   "id": "7",
   "metadata": {},
   "outputs": [],
   "source": [
    "# https://holoviews.org/user_guide/Large_Data.html"
   ]
  },
  {
   "cell_type": "code",
   "execution_count": null,
   "id": "8",
   "metadata": {},
   "outputs": [],
   "source": [
    "# for hv.HeatMap\n",
    "from holoviews.operation import decimate\n",
    "\n",
    "# for hv.Image\n",
    "# shade, dynspread, spread\n",
    "# datashade is the same as shade(rasterize(img))\n",
    "from holoviews.operation.datashader import rasterize"
   ]
  },
  {
   "cell_type": "code",
   "execution_count": null,
   "id": "9",
   "metadata": {
    "tags": []
   },
   "outputs": [],
   "source": [
    "rasterize(hv_imt)  # Not a really curated plot, just to play around with sliders"
   ]
  },
  {
   "cell_type": "markdown",
   "id": "10",
   "metadata": {},
   "source": [
    "All of these \"reduction\" methods have their own parameters, try to play around with them.\n",
    "A good example is `decimate` and its `max_samples`. Try to change `max_samples` to 1000 and see what happens.\n",
    "Remember that you can use `hv.help(<name_of_method>)` to see which parameters are available."
   ]
  },
  {
   "cell_type": "code",
   "execution_count": null,
   "id": "11",
   "metadata": {},
   "outputs": [],
   "source": [
    "# HeatMap\n",
    "hv_dst = hv.Dataset(xat)\n",
    "hv_hmt = hv_dst.to(hv.HeatMap)\n",
    "decimate(hv_hmt, max_samples=10000)"
   ]
  },
  {
   "cell_type": "markdown",
   "id": "12",
   "metadata": {
    "tags": []
   },
   "source": [
    "# Extra: Comparison between decimate and full data"
   ]
  },
  {
   "cell_type": "markdown",
   "id": "13",
   "metadata": {},
   "source": [
    "As one can see in this section, one can achieve arbitrary high precision with `decimate`, if the `max_samples` parameter is high enough.\n",
    "One can create composed plots like in this example. More info in: http://holoviews.org/user_guide/Composing_Elements.html"
   ]
  },
  {
   "cell_type": "code",
   "execution_count": null,
   "id": "14",
   "metadata": {},
   "outputs": [],
   "source": [
    "path_interference = \"../tests/data/interference/\"\n",
    "run = Run(path_interference)"
   ]
  },
  {
   "cell_type": "code",
   "execution_count": null,
   "id": "15",
   "metadata": {},
   "outputs": [],
   "source": [
    "xa = run.Maxwell.td.b_field.x.get_all(source=\"z=0\")"
   ]
  },
  {
   "cell_type": "code",
   "execution_count": null,
   "id": "16",
   "metadata": {},
   "outputs": [],
   "source": [
    "hv_dst = hv.Dataset(xa)\n",
    "hv_imt = hv_dst.to(hv.Image, [\"x\", \"y\"])  # needed for generating outputs\n",
    "hv_imt_dynamic = hv_dst.to(hv.Image, [\"x\", \"y\"], dynamic=True)\n",
    "hv.output(max_frames=3000)\n",
    "hv.output(widget_location=\"bottom\")"
   ]
  },
  {
   "cell_type": "code",
   "execution_count": null,
   "id": "17",
   "metadata": {
    "tags": []
   },
   "outputs": [],
   "source": [
    "hv_dst = hv.Dataset(xa)\n",
    "hv_hmt = hv_dst.to(hv.HeatMap, dynamic=True)\n",
    "deci = decimate(hv_hmt, max_samples=500000000000).opts(\n",
    "    colorbar=True, width=500, height=350, cmap=\"seismic\", clim=(-(10**-3), 10**-3)\n",
    ")  # in theory one can approach the exact image\n",
    "# approximation (left) vs. exact image (right)\n",
    "deci + hv_hmt.opts(\n",
    "    colorbar=True, width=500, height=350, cmap=\"seismic\", clim=(-(10**-3), 10**-3)\n",
    ")"
   ]
  },
  {
   "cell_type": "markdown",
   "id": "18",
   "metadata": {},
   "source": [
    "In the example above, we used a `max_samples` higher than the amount of data points in an image, so that the approximation is exact. Beneath we will show an example where the amount of data points is smaller than in the original image"
   ]
  },
  {
   "cell_type": "code",
   "execution_count": null,
   "id": "19",
   "metadata": {},
   "outputs": [],
   "source": [
    "# Actual approximation\n",
    "hv_dst = hv.Dataset(xa)\n",
    "hv_hmt = hv_dst.to(hv.HeatMap, dynamic=True)\n",
    "deci = decimate(hv_hmt, max_samples=100000).opts(\n",
    "    colorbar=True, width=500, height=350, cmap=\"seismic\", clim=(-(10**-3), 10**-3)\n",
    ")\n",
    "# approximation (left) vs. exact image (right)\n",
    "deci + hv_hmt.opts(\n",
    "    colorbar=True, width=500, height=350, cmap=\"seismic\", clim=(-(10**-3), 10**-3)\n",
    ")"
   ]
  },
  {
   "cell_type": "code",
   "execution_count": null,
   "id": "20",
   "metadata": {},
   "outputs": [],
   "source": []
  }
 ],
 "metadata": {
  "kernelspec": {
   "display_name": "Python 3",
   "language": "python",
   "name": "python3"
  },
  "language_info": {
   "codemirror_mode": {
    "name": "ipython",
    "version": 3
   },
   "file_extension": ".py",
   "mimetype": "text/x-python",
   "name": "python",
   "nbconvert_exporter": "python",
   "pygments_lexer": "ipython3",
   "version": "3.8.10"
  }
 },
 "nbformat": 4,
 "nbformat_minor": 5
}
