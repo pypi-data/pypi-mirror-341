{
 "cells": [
  {
   "cell_type": "markdown",
   "id": "0",
   "metadata": {},
   "source": [
    "# Kronig-Penney Model\n",
    "[Link to tutorial](https://www.octopus-code.org/documentation/13/tutorial/model/kronig-penney_model/)\n",
    "\n",
    "The Kronig-Penney model is a 1D system that demonstrates band gaps, which relate to the allowed energies for electrons in a material. In this tutorial we calculate the bandstructure for Kronig-Penney Model. The Kronig-Penney Model has a periodic potential of\n",
    "\n",
    "$$\n",
    "V(x) =\n",
    "\\begin{cases}\n",
    "      V_0 & -b < x < 0 \\cr\n",
    "      0 & 0 < x < a\n",
    "\\end{cases}\n",
    "$$\n",
    "Where b is the width of each barrier, and a is the spacing between them."
   ]
  },
  {
   "cell_type": "code",
   "execution_count": null,
   "id": "1",
   "metadata": {},
   "outputs": [],
   "source": [
    "import matplotlib.pyplot as plt\n",
    "import numpy as np\n",
    "\n",
    "from postopus import Run"
   ]
  },
  {
   "cell_type": "code",
   "execution_count": null,
   "id": "2",
   "metadata": {},
   "outputs": [],
   "source": [
    "!mkdir 5-Kronig-Penney-Model"
   ]
  },
  {
   "cell_type": "code",
   "execution_count": null,
   "id": "3",
   "metadata": {},
   "outputs": [],
   "source": [
    "cd 5-Kronig-Penney-Model "
   ]
  },
  {
   "cell_type": "markdown",
   "id": "4",
   "metadata": {},
   "source": [
    "## Input\n",
    "The following input file will be used for the ground state calculation:"
   ]
  },
  {
   "cell_type": "code",
   "execution_count": null,
   "id": "5",
   "metadata": {},
   "outputs": [],
   "source": [
    "%%writefile inp\n",
    "\n",
    "stdout = 'stdout.txt'\n",
    "stderr = 'stderr.txt'\n",
    "\n",
    "CalculationMode = gs\n",
    "ExtraStates = 4\n",
    "PeriodicDimensions = 1\n",
    "Dimensions = 1\n",
    "TheoryLevel = independent_particles\n",
    "\n",
    "a = 5\n",
    "b = 1\n",
    "V = 3\n",
    "\n",
    "Lsize = (a + b)/2\n",
    "\n",
    "%LatticeParameters\n",
    "  a + b\n",
    "%\n",
    "\n",
    "Spacing = .0075\n",
    "\n",
    "%Species\n",
    " \"A\" | species_user_defined | potential_formula | \"(x>-b)*V*(x<0)\" | valence | 1\n",
    "%\n",
    "\n",
    "%Coordinates\n",
    " \"A\" | 0 |\n",
    "%\n",
    "\n",
    "%KPointsGrid\n",
    " 11 |\n",
    "%\n",
    "\n",
    "%KPointsPath\n",
    "  11 |\n",
    " 0.0 |\n",
    " 0.5 |\n",
    "%\n",
    "\n",
    "ConvEigenError = true\n",
    "\n",
    "%Output\n",
    " potential\n",
    " wfs\n",
    "%\n",
    "OutputFormat = axis_x\n",
    "OutputWfsNumber = \"1,2\""
   ]
  },
  {
   "cell_type": "code",
   "execution_count": null,
   "id": "6",
   "metadata": {},
   "outputs": [],
   "source": [
    "!octopus"
   ]
  },
  {
   "cell_type": "code",
   "execution_count": null,
   "id": "7",
   "metadata": {},
   "outputs": [],
   "source": [
    "run = Run(\".\")"
   ]
  },
  {
   "cell_type": "code",
   "execution_count": null,
   "id": "8",
   "metadata": {},
   "outputs": [],
   "source": [
    "wf = run.default.scf.wf().isel(step=-1)\n",
    "wf.sel(st=1, k=1).plot(label=\"1st state\", color=\"green\")\n",
    "wf.sel(st=2, k=1).plot(label=\"2nd state\", color=\"blue\")\n",
    "x = np.linspace(-3, 3, 1000)\n",
    "plt.plot(\n",
    "    x,\n",
    "    np.where((x >= -1) & (x <= 0), 3, 0),\n",
    "    label=\"potential\",\n",
    "    color=\"purple\",\n",
    "    linewidth=1,\n",
    ")\n",
    "plt.title(\"The first two wavefunctions plotted alongside the potential. \\n\")\n",
    "plt.ylabel(\"\")\n",
    "plt.ylim(-1, 4)\n",
    "plt.xlim(-3, 3)\n",
    "plt.grid(True)\n",
    "plt.legend()\n",
    "plt.show()"
   ]
  },
  {
   "cell_type": "markdown",
   "id": "9",
   "metadata": {},
   "source": [
    "## Bandstructure\n",
    "\n",
    "To calculate the bandstructure simply change the [CalculationMode](https://www.octopus-code.org/documentation//13/variables/calculation_modes/calculationmode) to unocc."
   ]
  },
  {
   "cell_type": "code",
   "execution_count": null,
   "id": "10",
   "metadata": {},
   "outputs": [],
   "source": [
    "%%writefile inp\n",
    "\n",
    "stdout = 'stdout.txt'\n",
    "stderr = 'stderr.txt'\n",
    "\n",
    "CalculationMode = unocc\n",
    "ExtraStates = 4\n",
    "PeriodicDimensions = 1\n",
    "Dimensions = 1\n",
    "TheoryLevel = independent_particles\n",
    "\n",
    "a = 5\n",
    "b = 1\n",
    "V = 3\n",
    "\n",
    "Lsize = (a + b)/2\n",
    "\n",
    "%LatticeParameters\n",
    " a + b\n",
    "%\n",
    "\n",
    "Spacing = .0075\n",
    "\n",
    "%Species\n",
    " \"A\" | species_user_defined | potential_formula | \"(x>-b)*V*(x<0)\" | valence | 1\n",
    "%\n",
    "\n",
    "%Coordinates\n",
    " \"A\" | 0 |\n",
    "%\n",
    "\n",
    "%KPointsGrid\n",
    " 11 |\n",
    "%\n",
    "\n",
    "%KPointsPath\n",
    " 11 |\n",
    " 0.0 |\n",
    " 0.5 |\n",
    "%\n",
    "\n",
    "ConvEigenError = true"
   ]
  },
  {
   "cell_type": "code",
   "execution_count": null,
   "id": "11",
   "metadata": {},
   "outputs": [],
   "source": [
    "!octopus"
   ]
  },
  {
   "cell_type": "markdown",
   "id": "12",
   "metadata": {},
   "source": [
    "To plot the bandstructure, we will use postopus."
   ]
  },
  {
   "cell_type": "code",
   "execution_count": null,
   "id": "13",
   "metadata": {},
   "outputs": [],
   "source": [
    "run.default.scf.bandstructure().iloc[:, 3:6].plot(\n",
    "    color=\"purple\", linewidth=1, legend=False\n",
    ")\n",
    "plt.xlim(0, 1)\n",
    "plt.ylim(1, 4)\n",
    "plt.xlabel(r\"$k \\left(\\frac{a+b}{\\pi}\\right)$\")\n",
    "plt.ylabel(\"Energy [Hartree]\")\n",
    "plt.title(\"The band structure for Kronig-Penney Model.\")\n",
    "plt.show()"
   ]
  },
  {
   "cell_type": "markdown",
   "id": "14",
   "metadata": {},
   "source": [
    "[Back to main tutorial series](../Readme.ipynb)"
   ]
  },
  {
   "cell_type": "markdown",
   "id": "15",
   "metadata": {},
   "source": [
    "## References"
   ]
  },
  {
   "cell_type": "markdown",
   "id": "16",
   "metadata": {},
   "source": [
    "1. Sidebottom DL. Fundamentals of condensed matter and crystalline physics: an introduction for students of physics and materials science. New York: Cambridge University Press; 2012."
   ]
  }
 ],
 "metadata": {
  "kernelspec": {
   "display_name": "Python 3 (ipykernel)",
   "language": "python",
   "name": "python3"
  },
  "language_info": {
   "codemirror_mode": {
    "name": "ipython",
    "version": 3
   },
   "file_extension": ".py",
   "mimetype": "text/x-python",
   "name": "python",
   "nbconvert_exporter": "python",
   "pygments_lexer": "ipython3",
   "version": "3.11.9"
  }
 },
 "nbformat": 4,
 "nbformat_minor": 5
}
