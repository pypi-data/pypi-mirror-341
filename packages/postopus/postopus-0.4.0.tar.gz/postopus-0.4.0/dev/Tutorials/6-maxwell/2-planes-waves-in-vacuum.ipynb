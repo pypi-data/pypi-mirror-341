{
 "cells": [
  {
   "cell_type": "markdown",
   "id": "0",
   "metadata": {},
   "source": [
    "# Getting started with periodic systems\n",
    "[Link to tutorial](https://octopus-code.org/documentation/13/tutorial/maxwell/run01/)"
   ]
  },
  {
   "cell_type": "markdown",
   "id": "1",
   "metadata": {},
   "source": [
    "## Cosinoidal plane wave in vacuum\n",
    "\n",
    "In this tutorial, we will describe the propagation of waves in vacuum. Let's\n",
    "start with one wave with a cosinoidal envelope.\n"
   ]
  },
  {
   "cell_type": "code",
   "execution_count": null,
   "id": "2",
   "metadata": {},
   "outputs": [],
   "source": [
    "import holoviews as hv\n",
    "import matplotlib.cm as cm\n",
    "\n",
    "from postopus import Run\n",
    "\n",
    "hv.extension(\"bokeh\")  # Allow for interactive plots"
   ]
  },
  {
   "cell_type": "code",
   "execution_count": null,
   "id": "3",
   "metadata": {},
   "outputs": [],
   "source": [
    "!mkdir -p ./2-plane-waves-in-vacuum"
   ]
  },
  {
   "cell_type": "code",
   "execution_count": null,
   "id": "4",
   "metadata": {},
   "outputs": [],
   "source": [
    "cd 2-plane-waves-in-vacuum"
   ]
  },
  {
   "cell_type": "code",
   "execution_count": null,
   "id": "5",
   "metadata": {},
   "outputs": [],
   "source": [
    "%%writefile inp\n",
    "\n",
    "stdout = 'stdout.txt'\n",
    "stderr = 'stderr.txt'\n",
    "\n",
    "\n",
    "\n",
    "# ----- Calculation mode and parallelization ------------------------------------------------------\n",
    "\n",
    " CalculationMode   = td\n",
    " RestartWrite = no\n",
    " ExperimentalFeatures = yes\n",
    " FromScratch = yes\n",
    "\n",
    "%Systems\n",
    "  'Maxwell' | maxwell\n",
    "%\n",
    "\n",
    " Maxwell.ParDomains = auto\n",
    " Maxwell.ParStates  = no\n",
    "\n",
    "# ----- Maxwell box variables ---------------------------------------------------------------------\n",
    "\n",
    " # free maxwell box limit of 10.0 plus 2.0 for the incident wave boundaries with\n",
    " # der_order = 4 times dx_mx\n",
    "\n",
    " lsize_mx = 12.0\n",
    " dx_mx         = 0.5 0.85\n",
    "\n",
    " Maxwell.BoxShape   = parallelepiped\n",
    "\n",
    " %Maxwell.Lsize\n",
    "  lsize_mx | lsize_mx | lsize_mx\n",
    " %\n",
    "\n",
    " %Maxwell.Spacing\n",
    "  dx_mx | dx_mx | dx_mx\n",
    " %\n",
    "\n",
    "\n",
    "# ----- Maxwell calculation variables -------------------------------------------------------------\n",
    "\n",
    " MaxwellHamiltonianOperator = faraday_ampere\n",
    "\n",
    " %MaxwellBoundaryConditions\n",
    "  plane_waves | plane_waves | plane_waves\n",
    " %\n",
    "\n",
    " %MaxwellAbsorbingBoundaries\n",
    "  not_absorbing | not_absorbing | not_absorbing\n",
    " %\n",
    "\n",
    "# ----- Output variables --------------------------------------------------------------------------\n",
    "\n",
    " OutputFormat = plane_x + plane_y + plane_z + vtk + axis_x\n",
    "\n",
    "# ----- Maxwell output variables ------------------------------------------------------------------\n",
    "\n",
    " %MaxwellOutput\n",
    "  electric_field\n",
    "  magnetic_field\n",
    "  maxwell_energy_density\n",
    "  poynting_vector | plane_z\n",
    "  orbital_angular_momentum | plane_z\n",
    " %\n",
    "\n",
    " %MaxwellFieldsCoordinate\n",
    "   0.00 | 0.00 | 0.00\n",
    "   0.00 | 0.00 | -5.00\n",
    "   0.00 | 0.00 | 5.00\n",
    " %\n",
    "\n",
    " MaxwellOutputInterval = 50\n",
    " MaxwellTDOutput       = maxwell_energy + maxwell_total_e_field + maxwell_total_b_field + maxwell_transverse_e_field + maxwell_transverse_b_field\n",
    "\n",
    "\n",
    "\n",
    "# ----- Time step variables -----------------------------------------------------------------------\n",
    "\n",
    " TDSystemPropagator = prop_expmid\n",
    " TDTimeStep                        = 0.002\n",
    " TDPropagationTime                 = 0.35\n",
    "\n",
    "# ----- Maxwell field variables -------------------------------------------------------------------\n",
    "\n",
    " lambda = 10.0\n",
    " omega  = 2 * pi * c / lambda\n",
    " kx     = omega / c\n",
    " Ez     = 0.05\n",
    " pw     = 10.0\n",
    " p_s     = - 5 * 5.0\n",
    "\n",
    " %MaxwellIncidentWaves\n",
    "   plane_wave_mx_function | electric_field | 0 | 0 | Ez | \"plane_waves_function\"\n",
    " %\n",
    "\n",
    " %MaxwellFunctions\n",
    "   \"plane_waves_function\" | mxf_cosinoidal_wave | kx | 0 | 0 | p_s | 0 | 0 | pw\n",
    " %"
   ]
  },
  {
   "cell_type": "markdown",
   "id": "6",
   "metadata": {},
   "source": [
    "The total size of the (physical) simulation box is 20.0 x 20.0 x 20.0 Bohr (10\n",
    "Bohr half length in each direction) with a spacing of 0.5 Bohr in each\n",
    "direction. As discussed in the input overview, also the boundary points have to\n",
    "be accounted for when defining the box size in the input file. In other words,\n",
    "the user has to know how much space these points will add, which is given by\n",
    "the derivatives order (in this case, 4) times the spacing. This is 4 * 0.5 bohr\n",
    "= 2 bohr.  Hence the total size of the simulation box is chosen to be 12.0 bohr\n",
    "in each direction.\n"
   ]
  },
  {
   "cell_type": "raw",
   "id": "7",
   "metadata": {},
   "source": [
    "# ----- Maxwell box variables ---------------------------------------------------------------------\n",
    "\n",
    " # free maxwell box limit of 10.0 plus 2.0 for the incident wave boundaries with\n",
    " # der_order = 4 times dx_mx\n",
    "\n",
    " lsize_mx = 12.0\n",
    " dx_mx    = 0.5\n",
    "\n",
    " Maxwell.BoxShape   = parallelepiped\n",
    "\n",
    " %Maxwell.Lsize\n",
    "  lsize_mx | lsize_mx | lsize_mx\n",
    " %\n",
    "\n",
    " %Maxwell.Spacing\n",
    "  dx_mx | dx_mx | dx_mx\n",
    " %"
   ]
  },
  {
   "cell_type": "markdown",
   "id": "8",
   "metadata": {},
   "source": [
    "The boundary conditions are chosen as plane waves to simulate the incoming wave\n",
    "without any absorption at the boundaries.\n"
   ]
  },
  {
   "cell_type": "raw",
   "id": "9",
   "metadata": {},
   "source": [
    " %MaxwellBoundaryConditions\n",
    "  plane_waves | plane_waves | plane_waves\n",
    " %\n",
    "\n",
    " %MaxwellAbsorbingBoundaries\n",
    "  not_absorbing | not_absorbing | not_absorbing\n",
    " %"
   ]
  },
  {
   "cell_type": "markdown",
   "id": "10",
   "metadata": {},
   "source": [
    "The simulation time step is set to the value given by the Courant condition.\n",
    "For equal spacing in the three dimensions, this is equal to `dt = spacing /\n",
    "(sqrt(3)*c) = 0.002106` atomic units of time, in this case,\n",
    "c being the speed of light in atomic units (137.03599).\n",
    "The system propagates 150 time steps = 0.316 atomic units.\n"
   ]
  },
  {
   "cell_type": "raw",
   "id": "11",
   "metadata": {},
   "source": [
    "# ----- Time step variables -----------------------------------------------------------------------\n",
    "\n",
    " TDSystemPropagator = prop_expmid\n",
    " TDTimeStep                        = 0.002\n",
    " TDPropagationTime                 = 0.35"
   ]
  },
  {
   "cell_type": "markdown",
   "id": "12",
   "metadata": {},
   "source": [
    "The incident cosinoidal plane is evaluated at the boundaries to be fed into the\n",
    "simulation box. The pulse has a width of 10.0 bohr, a spatial shift of 25.0\n",
    "Bohr in the negative x-direction, an amplitude of 0.05 a.u., and a wavelength\n",
    "of 10.0 bohr.\n"
   ]
  },
  {
   "cell_type": "raw",
   "id": "13",
   "metadata": {},
   "source": [
    "# ----- Maxwell field variables -------------------------------------------------------------------\n",
    "\n",
    " lambda = 10.0\n",
    " omega  = 2 * pi * c / lambda\n",
    " kx     = omega / c\n",
    " Ez     = 0.05\n",
    " pw     = 10.0\n",
    " p_s     = - 5 * 5.0\n",
    "\n",
    " %MaxwellIncidentWaves\n",
    "   plane_wave_mx_function | electric_field | 0 | 0 | Ez | \"plane_waves_function\"\n",
    " %\n",
    "\n",
    " %MaxwellFunctions\n",
    "   \"plane_waves_function\" | mxf_cosinoidal_wave | kx | 0 | 0 | p_s | 0 | 0 | pw\n",
    " %"
   ]
  },
  {
   "cell_type": "markdown",
   "id": "14",
   "metadata": {},
   "source": [
    "Finally, the output options are set:"
   ]
  },
  {
   "cell_type": "raw",
   "id": "15",
   "metadata": {},
   "source": [
    "# ----- Output variables --------------------------------------------------------------------------\n",
    "\n",
    " OutputFormat = plane_x + plane_y + plane_z + vtk + axis_x\n",
    "\n",
    "# ----- Maxwell output variables ------------------------------------------------------------------\n",
    "\n",
    " %MaxwellOutput\n",
    "  electric_field\n",
    "  magnetic_field\n",
    "  maxwell_energy_density\n",
    "  poynting_vector | plane_z\n",
    "  orbital_angular_momentum | plane_z\n",
    " %\n",
    "\n",
    " %MaxwellFieldsCoordinate\n",
    "   0.00 | 0.00 | 0.00\n",
    " %\n",
    "\n",
    " MaxwellOutputInterval = 50\n",
    " MaxwellTDOutput       = maxwell_energy + maxwell_total_e_field + maxwell_total_b_field + maxwell_transverse_e_field + maxwell_transverse_b_field\n"
   ]
  },
  {
   "cell_type": "code",
   "execution_count": null,
   "id": "16",
   "metadata": {},
   "outputs": [],
   "source": [
    "!octopus"
   ]
  },
  {
   "cell_type": "code",
   "execution_count": null,
   "id": "17",
   "metadata": {},
   "outputs": [],
   "source": [
    "# Get the run object\n",
    "run = Run(\".\")"
   ]
  },
  {
   "cell_type": "code",
   "execution_count": null,
   "id": "18",
   "metadata": {},
   "outputs": [],
   "source": [
    "# Plot the waves using matplotlib\n",
    "E_z = run.Maxwell.td.e_field(\"z=0\").vz\n",
    "E_z.plot(x=\"x\", y=\"y\", cmap=cm.coolwarm, col=\"t\", col_wrap=3);"
   ]
  },
  {
   "cell_type": "code",
   "execution_count": null,
   "id": "19",
   "metadata": {},
   "outputs": [],
   "source": [
    "# Using holoviews instead\n",
    "e_field_over_time = run.Maxwell.td.e_field(\"z=0\").vz\n",
    "hv_ds = hv.Dataset(e_field_over_time)\n",
    "hv_im = hv_ds.to(hv.Image, kdims=[\"x\", \"y\"], dynamic=True)\n",
    "hv_im.options(\n",
    "    cmap=\"seismic\",\n",
    "    clim=(e_field_over_time.min().item(), e_field_over_time.max().item()),\n",
    ")"
   ]
  },
  {
   "cell_type": "code",
   "execution_count": null,
   "id": "20",
   "metadata": {},
   "outputs": [],
   "source": [
    "energy = run.Maxwell.td.maxwell_energy()\n",
    "energy.plot(x=\"t\", y=\"Total\", title=\"Maxwell Energy\");"
   ]
  },
  {
   "cell_type": "markdown",
   "id": "21",
   "metadata": {},
   "source": [
    "## Interference of two cosinoidal plane waves\n",
    "\n",
    "Instead of only one plane wave, we simulate in this example two different plane\n",
    "waves with different wave-vectors entering the simulation box, interfering and\n",
    "leaving the box again. In addition to the wave from the last tutorial, we add a\n",
    "second wave with different wave length, and entering the box at an angle, and\n",
    "shifted by 28 bohr along the corresponding direction of propagation.  Both\n",
    "electric fields are polarized only in z-direction, and the magnetic field only\n",
    "in y-direction.\n"
   ]
  },
  {
   "cell_type": "code",
   "execution_count": null,
   "id": "22",
   "metadata": {},
   "outputs": [],
   "source": [
    "# Create a second clean directory\n",
    "!mkdir -p ../2-plane-waves-interference"
   ]
  },
  {
   "cell_type": "code",
   "execution_count": null,
   "id": "23",
   "metadata": {},
   "outputs": [],
   "source": [
    "cd ../2-plane-waves-interference"
   ]
  },
  {
   "cell_type": "code",
   "execution_count": null,
   "id": "24",
   "metadata": {},
   "outputs": [],
   "source": [
    "%%writefile inp\n",
    "\n",
    "stdout = 'stdout.txt'\n",
    "stderr = 'stderr.txt'\n",
    "\n",
    "\n",
    "\n",
    "CalculationMode                   = td\n",
    "ExperimentalFeatures = yes\n",
    "FromScratch = yes\n",
    "\n",
    "%Systems\n",
    "  'Maxwell' | maxwell\n",
    "%\n",
    "\n",
    "Maxwell.ParStates                 = no\n",
    "\n",
    "# Maxwell box variables\n",
    "lsize_mx = 10.0\n",
    "\n",
    "Maxwell.BoxShape                   = parallelepiped\n",
    "\n",
    "%Maxwell.Lsize\n",
    " lsize_mx | lsize_mx | lsize_mx\n",
    "%\n",
    "\n",
    "dx_mx         = 0.5 0.85\n",
    "\n",
    "%Maxwell.Spacing\n",
    " dx_mx | dx_mx | dx_mx\n",
    "%\n",
    "\n",
    "# Maxwell calculation variables\n",
    "%MaxwellBoundaryConditions\n",
    " plane_waves | plane_waves | plane_waves\n",
    "%\n",
    "\n",
    "%MaxwellAbsorbingBoundaries\n",
    " not_absorbing | not_absorbing | not_absorbing\n",
    "%\n",
    "\n",
    "# Output variables\n",
    "OutputFormat                      = axis_x + axis_y + axis_z + plane_z\n",
    "\n",
    "# Maxwell output variables\n",
    "%MaxwellOutput\n",
    " electric_field\n",
    " magnetic_field\n",
    " maxwell_energy_density\n",
    " trans_electric_field\n",
    "%\n",
    "MaxwellOutputInterval             = 10\n",
    "MaxwellTDOutput                   = maxwell_energy\n",
    "\n",
    "# Time step variables\n",
    "TDSystemPropagator = prop_expmid\n",
    "td = 1 / ( sqrt(c^2/dx_mx^2 + c^2/dx_mx^2 + c^2/dx_mx^2) )\n",
    "TDTimeStep                        = td\n",
    "TDPropagationTime                 = 0.35\n",
    "\n",
    "# laser propagates in x direction\n",
    "k_1_x       =  0.707107\n",
    "k_1_y       = -0.707107\n",
    "k_2_x       = -0.447214\n",
    "k_2_y       = -0.223607\n",
    "E_1_z       =  0.5\n",
    "E_2_z       =  0.5\n",
    "pw_1        =  5.0\n",
    "pw_2        =  7.5\n",
    "ps_1_x      = -sqrt(1/2) * 20.0\n",
    "ps_1_y      =  sqrt(1/2) * 20.0\n",
    "ps_2_x      =  sqrt(2/3) * 20.0\n",
    "ps_2_y      =  sqrt(1/3) * 20.0\n",
    "\n",
    "%MaxwellIncidentWaves\n",
    "  plane_wave_mx_function | electric_field | 0 | 0 | E_1_z | \"plane_waves_function_1\"\n",
    "  plane_wave_mx_function | electric_field | 0 | 0 | E_2_z | \"plane_waves_function_2\"\n",
    "%\n",
    "\n",
    "%MaxwellFunctions\n",
    "  \"plane_waves_function_1\" | mxf_cosinoidal_wave | k_1_x | k_1_y | 0 | ps_1_x | ps_1_y | 0 | pw_1\n",
    "  \"plane_waves_function_2\" | mxf_cosinoidal_wave | k_2_x | k_2_y | 0 | ps_2_x | ps_2_y | 0 | pw_2\n",
    "%"
   ]
  },
  {
   "cell_type": "code",
   "execution_count": null,
   "id": "25",
   "metadata": {},
   "outputs": [],
   "source": [
    "!octopus"
   ]
  },
  {
   "cell_type": "code",
   "execution_count": null,
   "id": "26",
   "metadata": {},
   "outputs": [],
   "source": [
    "run = Run(\".\")"
   ]
  },
  {
   "cell_type": "code",
   "execution_count": null,
   "id": "27",
   "metadata": {},
   "outputs": [],
   "source": [
    "e_field_over_time = run.Maxwell.td.e_field(\"z=0\").vz\n",
    "hv_ds = hv.Dataset(e_field_over_time)\n",
    "hv_im = hv_ds.to(hv.Image, kdims=[\"x\", \"y\"], dynamic=True)\n",
    "hv_im.options(\n",
    "    cmap=\"seismic\",\n",
    "    clim=(e_field_over_time.min().item(), e_field_over_time.max().item()),\n",
    ")"
   ]
  },
  {
   "cell_type": "code",
   "execution_count": null,
   "id": "28",
   "metadata": {},
   "outputs": [],
   "source": [
    "energy = run.Maxwell.td.maxwell_energy()\n",
    "energy.plot(x=\"t\", y=\"Total\", label=\"Maxwell energy\");"
   ]
  },
  {
   "cell_type": "markdown",
   "id": "29",
   "metadata": {},
   "source": [
    "[Go to *3-external-currents-and-pml.ipynb*](3-external-currents-and-pml.ipynb)"
   ]
  }
 ],
 "metadata": {
  "kernelspec": {
   "display_name": "Python 3 (ipykernel)",
   "language": "python",
   "name": "python3"
  },
  "language_info": {
   "codemirror_mode": {
    "name": "ipython",
    "version": 3
   },
   "file_extension": ".py",
   "mimetype": "text/x-python",
   "name": "python",
   "nbconvert_exporter": "python",
   "pygments_lexer": "ipython3",
   "version": "3.11.2"
  }
 },
 "nbformat": 4,
 "nbformat_minor": 5
}
