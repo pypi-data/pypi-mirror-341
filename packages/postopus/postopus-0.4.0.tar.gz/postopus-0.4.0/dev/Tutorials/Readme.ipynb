{
 "cells": [
  {
   "cell_type": "markdown",
   "metadata": {},
   "source": [
    "# Running Octopus Tutorials with Jupyter Notebooks\n",
    "\n",
    "This folder contains jupyter notebooks that are written to demonstrate a reproducible workflow of octopus users.\n",
    "\n",
    "The notebooks are re writes of the octopus tutorials found [here](https://www.octopus-code.org/documentation/12/tutorial/).\n",
    "\n",
    "The notebooks are written assuming that:\n",
    "\n",
    "- The user has octopus installed and is in PATH (follow instructions [here](https://octopus-code.org/wiki/Manual:Installation) otherwise),\n",
    "- Postopus (recommended variant) is installed as mentioned  [here](https://gitlab.com/octopus-code/postopus/-/blob/main/README.md#setup) and can be imported,\n",
    "\n",
    "Just select the tutorial you would want to follow and run each cell (`SHIFT` + `ENTER`) to interactively run through the tutorial.\n"
   ]
  },
  {
   "cell_type": "markdown",
   "metadata": {},
   "source": [
    "# Main tutorial series \n",
    "- [Octopus Basics - getting started with Octopus](1-basics/1-Getting_started.ipynb).\n",
    "- [Optical Response - how to calculate several types of optical response with different methods](2-Optical-Response/1_Optical_spectra_from_time_propagation.ipynb).\n",
    "- [Periodic systems - periodic boundary conditions, band structures, etc.](3-periodic-systems/1-getting-started.ipynb)\n",
    "- [Model systems - working with model systems, like quantum dots or quantum wells.](4-models/1-1d-harmonic-oscilator.ipynb)\n",
    "- High Performance Computing - periodic boundary conditions, band structures, etc.\n",
    "- [Maxwell Propagation - numerical electrodynamics.](6-maxwell/2-planes-waves-in-vacuum.ipynb)"
   ]
  }
 ],
 "metadata": {
  "language_info": {
   "name": "python"
  }
 },
 "nbformat": 4,
 "nbformat_minor": 2
}
