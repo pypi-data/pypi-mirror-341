{
 "cells": [
  {
   "cell_type": "markdown",
   "id": "0",
   "metadata": {},
   "source": [
    "# Reading and writing xarrays on Raven using netcdf\n",
    "\n",
    "## Performance data\n",
    "\n",
    "\n",
    "### 10 GB of random data: Writing\n",
    "\n",
    "- 10 GB of random data, uncompressed -> 3 seconds -> 10.3 GB (about 3GB / sec) - cache effect?\n",
    "- 10 GB of random data, zlib level 1 ->  6.2 minutes -> 8.76 GB (1.61 GB / min)\n",
    "- 10 GB of random data, zlib level 9 ->  8.3 minutes -> 8.71 GB (1.2 GB / min)\n",
    "- 10 GB of random data, gzip level 1 ->  7.8 minutes -> 9.79 GB (1.28 GB / min)\n",
    "- 10 GB of random data, gzip level 9 -> 9.15 minutes -> 9.72 GB (1.09 GB / min)\n",
    "\n",
    "### 10 GB of random data: Reading\n",
    "(We may see cache effects here.\n",
    "Update: probably no cache effects.)\n",
    "\n",
    "- 10 GB of random data, uncompressed -> 3 seconds -> about 3GB / sec -> 26 Gbit/sec \n",
    "- 10 GB of random data, zlib level 1: 43.5 seconds -> 13.7 GB / minute\n",
    "- 10 GB of random data, zlib level 9: 56.7 seconds -> 10.6 GB / minute\n",
    "\n",
    "### A 25 GB data set (random numbers)\n",
    "- Write 25 GB of random data using zlib-level 1 ->  15.5minutes, 22 GB -> 1.4 GB / minute [compression takes the time]\n",
    "\n",
    "### 1 GB of zeros\n",
    "- Write 1GB of zeros using zlib-level 1 -> 4seconds -> 0.005GB (5MB)\n",
    "\n",
    "### 1 GB of random data\n",
    "- Write 1GB of random data using gzip level 1 -> 44.0 seconds -> 0.936 GB\n",
    "- Write 1GB of random data using gzip level 9 -> 52.8 seconds -> 0.930 GB\n",
    "- Write 1GB of random data using zlib level 1 -> 38.8 seconds -> 0.839 GB\n",
    "\n",
    "### 75 GB of random data\n",
    "On Raven `/home`\n",
    "\n",
    "- Write to disk uncompressed: 21 seconds -> 28.6 Gbit/sec\n",
    "- Read from disk uncompressed: 21.5 seconds -> 28 Gbit/sec\n",
    "\n",
    "On Raven `/ptmp`\n",
    "- Write to disk uncompressed: 14.5 seconds -> 41 Gbit/sec\n",
    "- Read from disk uncompressed: 21.5 seconds -> 28 Gbit/sec\n",
    "\n",
    "\n",
    "\n"
   ]
  },
  {
   "cell_type": "code",
   "execution_count": null,
   "id": "1",
   "metadata": {},
   "outputs": [],
   "source": [
    "import sys"
   ]
  },
  {
   "cell_type": "code",
   "execution_count": null,
   "id": "2",
   "metadata": {},
   "outputs": [],
   "source": [
    "pwd"
   ]
  },
  {
   "cell_type": "code",
   "execution_count": null,
   "id": "3",
   "metadata": {},
   "outputs": [],
   "source": [
    "cd / ptmp / hafan / ilke"
   ]
  },
  {
   "cell_type": "code",
   "execution_count": null,
   "id": "4",
   "metadata": {},
   "outputs": [],
   "source": [
    "pwd"
   ]
  },
  {
   "cell_type": "code",
   "execution_count": null,
   "id": "5",
   "metadata": {},
   "outputs": [],
   "source": [
    "sys.version"
   ]
  },
  {
   "cell_type": "code",
   "execution_count": null,
   "id": "6",
   "metadata": {},
   "outputs": [],
   "source": [
    "# !pip list"
   ]
  },
  {
   "cell_type": "code",
   "execution_count": null,
   "id": "7",
   "metadata": {},
   "outputs": [],
   "source": [
    "!pip install h5netcdf xarray"
   ]
  },
  {
   "cell_type": "code",
   "execution_count": null,
   "id": "8",
   "metadata": {},
   "outputs": [],
   "source": [
    "import xarray"
   ]
  },
  {
   "cell_type": "code",
   "execution_count": null,
   "id": "9",
   "metadata": {},
   "outputs": [],
   "source": [
    "import numpy as np"
   ]
  },
  {
   "cell_type": "code",
   "execution_count": null,
   "id": "10",
   "metadata": {},
   "outputs": [],
   "source": [
    "%%time\n",
    "n = 75  # number of gigabytes in test data set\n",
    "r = np.random.uniform(size=(n, 401, 401, 801))\n",
    "r.nbytes / 1e9"
   ]
  },
  {
   "cell_type": "code",
   "execution_count": null,
   "id": "11",
   "metadata": {},
   "outputs": [],
   "source": [
    "%%time\n",
    "zeros = np.zeros(shape=(n, 401, 401, 801))\n",
    "zeros.nbytes / 1e9"
   ]
  },
  {
   "cell_type": "markdown",
   "id": "12",
   "metadata": {},
   "source": [
    "Convert numpy array to xarray with name"
   ]
  },
  {
   "cell_type": "code",
   "execution_count": null,
   "id": "13",
   "metadata": {},
   "outputs": [],
   "source": [
    "%%time\n",
    "xr = xarray.DataArray(r, name=\"field\")"
   ]
  },
  {
   "cell_type": "code",
   "execution_count": null,
   "id": "14",
   "metadata": {},
   "outputs": [],
   "source": [
    "%%time\n",
    "xr_zeros = xarray.DataArray(zeros, name=\"field\")"
   ]
  },
  {
   "cell_type": "code",
   "execution_count": null,
   "id": "15",
   "metadata": {},
   "outputs": [],
   "source": [
    "xr_zeros.shape"
   ]
  },
  {
   "cell_type": "code",
   "execution_count": null,
   "id": "16",
   "metadata": {},
   "outputs": [],
   "source": [
    "!rm *nc"
   ]
  },
  {
   "cell_type": "code",
   "execution_count": null,
   "id": "17",
   "metadata": {},
   "outputs": [],
   "source": [
    "!ls -l"
   ]
  },
  {
   "cell_type": "code",
   "execution_count": null,
   "id": "18",
   "metadata": {},
   "outputs": [],
   "source": [
    "xr.nbytes / 1e9"
   ]
  },
  {
   "cell_type": "markdown",
   "id": "19",
   "metadata": {},
   "source": [
    "Write data uncompressed"
   ]
  },
  {
   "cell_type": "code",
   "execution_count": null,
   "id": "20",
   "metadata": {},
   "outputs": [],
   "source": [
    "%%time\n",
    "xr.to_netcdf(\"test-default.nc\")"
   ]
  },
  {
   "cell_type": "code",
   "execution_count": null,
   "id": "21",
   "metadata": {},
   "outputs": [],
   "source": [
    "!ls -lh test-default.nc"
   ]
  },
  {
   "cell_type": "markdown",
   "id": "22",
   "metadata": {},
   "source": [
    "Write compressed data (zlib level 1)"
   ]
  },
  {
   "cell_type": "code",
   "execution_count": null,
   "id": "23",
   "metadata": {},
   "outputs": [],
   "source": [
    "%%time\n",
    "encode_field = {\"zlib\": True, \"complevel\": 1}\n",
    "xr.to_netcdf(\"test-zlib-level1.nc\", engine=\"netcdf4\", encoding={\"field\": encode_field})"
   ]
  },
  {
   "cell_type": "markdown",
   "id": "24",
   "metadata": {},
   "source": [
    "Write compressed data (zlib level 9)"
   ]
  },
  {
   "cell_type": "code",
   "execution_count": null,
   "id": "25",
   "metadata": {},
   "outputs": [],
   "source": [
    "%%time\n",
    "encode_field = {\"zlib\": True, \"complevel\": 9}\n",
    "xr.to_netcdf(\"test-zlib-level9.nc\", engine=\"netcdf4\", encoding={\"field\": encode_field})"
   ]
  },
  {
   "cell_type": "markdown",
   "id": "26",
   "metadata": {},
   "source": []
  },
  {
   "cell_type": "code",
   "execution_count": null,
   "id": "27",
   "metadata": {},
   "outputs": [],
   "source": [
    "!ls -l *.nc"
   ]
  },
  {
   "cell_type": "markdown",
   "id": "28",
   "metadata": {},
   "source": [
    "# Writing compressed uniform data\n"
   ]
  },
  {
   "cell_type": "code",
   "execution_count": null,
   "id": "29",
   "metadata": {},
   "outputs": [],
   "source": [
    "%%time\n",
    "encode_field = {\"zlib\": True, \"complevel\": 1}\n",
    "xr_zeros.to_netcdf(\n",
    "    \"zeros-zlib-level1.nc\", engine=\"netcdf4\", encoding={\"field\": encode_field}\n",
    ")"
   ]
  },
  {
   "cell_type": "markdown",
   "id": "30",
   "metadata": {},
   "source": [
    "# Reading"
   ]
  },
  {
   "cell_type": "code",
   "execution_count": null,
   "id": "31",
   "metadata": {},
   "outputs": [],
   "source": [
    "pwd"
   ]
  },
  {
   "cell_type": "code",
   "execution_count": null,
   "id": "32",
   "metadata": {},
   "outputs": [],
   "source": [
    "%%time\n",
    "tmp = xarray.open_dataarray(\"test-default.nc\")\n",
    "tmp.data.shape"
   ]
  },
  {
   "cell_type": "code",
   "execution_count": null,
   "id": "33",
   "metadata": {},
   "outputs": [],
   "source": [
    "%%time\n",
    "tmp = xarray.open_dataarray(\"test-default.nc\")\n",
    "tmp.data.shape"
   ]
  },
  {
   "cell_type": "code",
   "execution_count": null,
   "id": "34",
   "metadata": {},
   "outputs": [],
   "source": [
    "%%time\n",
    "tmp = xarray.open_dataarray(\"test-zlib-level1.nc\")\n",
    "tmp.data.shape"
   ]
  },
  {
   "cell_type": "code",
   "execution_count": null,
   "id": "35",
   "metadata": {},
   "outputs": [],
   "source": [
    "np.abs((tmp - xr).data).max()  # should be zero"
   ]
  },
  {
   "cell_type": "markdown",
   "id": "36",
   "metadata": {},
   "source": [
    "%%time\n",
    "tmp = xarray.open_dataarray('test-zlib-level9.nc')\n",
    "tmp.data.shape"
   ]
  },
  {
   "cell_type": "markdown",
   "id": "37",
   "metadata": {},
   "source": [
    "# Compression with gzip \n",
    "\n",
    "Needs installation of `h5netcdf` module via pip."
   ]
  },
  {
   "cell_type": "markdown",
   "id": "38",
   "metadata": {},
   "source": [
    "%%time\n",
    "encode_field = {'compression': 'gzip', \"compression_opts\": 9}\n",
    "xr.to_netcdf('test-gzip-level9.nc', \n",
    "                   engine='h5netcdf', \n",
    "                   encoding={'field': encode_field})"
   ]
  },
  {
   "cell_type": "markdown",
   "id": "39",
   "metadata": {},
   "source": [
    "%%time\n",
    "encode_field = {'compression': 'gzip', \"compression_opts\": 1}\n",
    "xr.to_netcdf('test-gzip-level1.nc', \n",
    "                   engine='h5netcdf', \n",
    "                   encoding={'field': encode_field})"
   ]
  },
  {
   "cell_type": "code",
   "execution_count": null,
   "id": "40",
   "metadata": {},
   "outputs": [],
   "source": [
    "!ls -l"
   ]
  },
  {
   "cell_type": "code",
   "execution_count": null,
   "id": "41",
   "metadata": {},
   "outputs": [],
   "source": [
    "!ls  -lh"
   ]
  },
  {
   "cell_type": "code",
   "execution_count": null,
   "id": "42",
   "metadata": {},
   "outputs": [],
   "source": [
    "!rm *.nc"
   ]
  },
  {
   "cell_type": "code",
   "execution_count": null,
   "id": "43",
   "metadata": {},
   "outputs": [],
   "source": []
  },
  {
   "cell_type": "code",
   "execution_count": null,
   "id": "44",
   "metadata": {},
   "outputs": [],
   "source": []
  },
  {
   "cell_type": "code",
   "execution_count": null,
   "id": "45",
   "metadata": {},
   "outputs": [],
   "source": []
  }
 ],
 "metadata": {
  "kernelspec": {
   "display_name": "Python 3 (ipykernel)",
   "language": "python",
   "name": "python3"
  },
  "language_info": {
   "codemirror_mode": {
    "name": "ipython",
    "version": 3
   },
   "file_extension": ".py",
   "mimetype": "text/x-python",
   "name": "python",
   "nbconvert_exporter": "python",
   "pygments_lexer": "ipython3",
   "version": "3.9.7"
  }
 },
 "nbformat": 4,
 "nbformat_minor": 5
}
