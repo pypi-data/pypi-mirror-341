{
 "cells": [
  {
   "cell_type": "code",
   "execution_count": 2,
   "metadata": {},
   "outputs": [
    {
     "name": "stdout",
     "output_type": "stream",
     "text": [
      "|    |   Model | Split   |   Step |   reward |   max_value |   board_value |\n",
      "|---:|--------:|:--------|-------:|---------:|------------:|--------------:|\n",
      "|  0 |     007 | train   |   0000 | 0.500402 |          32 |            58 |\n",
      "|  1 |     007 | train   |   0001 | 2.00032  |          32 |            54 |\n",
      "|  2 |     007 | train   |   0002 | 2.00038  |          32 |            64 |\n",
      "|  3 |     007 | train   |   0003 | 0.500034 |          32 |            68 |\n",
      "|  4 |     007 | train   |   0004 | 0.500139 |          32 |            54 |\n",
      "|  5 |     007 | train   |   0005 | 0.500105 |          32 |            68 |\n",
      "|  6 |     007 | train   |   0006 | 2.00028  |          32 |            58 |\n",
      "|  7 |     008 | train   |   0053 | 2.0007   |          32 |            53 |\n",
      "|  8 |     009 | train   |   0000 | 0.500467 |         128 |           202 |\n",
      "|  9 |     009 | train   |   0376 | 0.967989 |          64 |           213 |\n",
      "| 10 |     009 | train   |   0377 | 1.48512  |          96 |           230 |\n"
     ]
    }
   ],
   "source": [
    "from art.utils.benchmarking.generate_comparison_table import generate_comparison_table\n",
    "from art.utils.benchmarking.types import BenchmarkedModelKey\n",
    "\n",
    "table = generate_comparison_table(\n",
    "    project=\"2048-multi-turn\",\n",
    "    benchmark_keys=[\n",
    "        BenchmarkedModelKey(\"007\", \"train\"),\n",
    "        BenchmarkedModelKey(\"008\", \"train\", [53]),\n",
    "        BenchmarkedModelKey(\"009\", \"train\", [0, -2, -1])\n",
    "    ],\n",
    "    metrics=[\"reward\", \"max_value\", \"board_value\"]\n",
    ")\n",
    "\n",
    "print(table.to_markdown())"
   ]
  }
 ],
 "metadata": {
  "kernelspec": {
   "display_name": ".venv",
   "language": "python",
   "name": "python3"
  },
  "language_info": {
   "codemirror_mode": {
    "name": "ipython",
    "version": 3
   },
   "file_extension": ".py",
   "mimetype": "text/x-python",
   "name": "python",
   "nbconvert_exporter": "python",
   "pygments_lexer": "ipython3",
   "version": "3.10.13"
  }
 },
 "nbformat": 4,
 "nbformat_minor": 2
}
