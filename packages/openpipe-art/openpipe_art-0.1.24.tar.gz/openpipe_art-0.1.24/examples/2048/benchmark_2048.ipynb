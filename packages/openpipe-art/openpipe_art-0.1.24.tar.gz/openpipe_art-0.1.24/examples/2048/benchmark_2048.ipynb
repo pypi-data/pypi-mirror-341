{
 "cells": [
  {
   "cell_type": "code",
   "execution_count": 2,
   "metadata": {},
   "outputs": [
    {
     "name": "stdout",
     "output_type": "stream",
     "text": [
      "|    | Model       | Split   |   Step |     reward |   max_value |   board_value |\n",
      "|---:|:------------|:--------|-------:|-----------:|------------:|--------------:|\n",
      "|  0 | 009         | train   |   0000 |  0.773351  |     88.6154 |       185.538 |\n",
      "|  1 | 009         | train   |   0002 | -0.0199348 |     64      |       162     |\n",
      "|  2 | 009         | train   |   0003 |  0.500415  |    128      |       202     |\n",
      "|  3 | gpt-4o-mini | val     |   0000 |  0.78398   |     40      |       125     |\n"
     ]
    }
   ],
   "source": [
    "from art.utils.benchmarking.generate_comparison_table import generate_comparison_table\n",
    "from art.utils.benchmarking.types import BenchmarkedModelKey\n",
    "\n",
    "table = generate_comparison_table(\n",
    "    project=\"2048-dev\",\n",
    "    benchmark_keys=[\n",
    "        BenchmarkedModelKey(\"009\", \"train\", [0, -2, -1]),\n",
    "        BenchmarkedModelKey(\"gpt-4o-mini\", \"val\")\n",
    "    ],\n",
    "    metrics=[\"reward\", \"max_value\", \"board_value\"]\n",
    ")\n",
    "\n",
    "print(table.to_markdown())"
   ]
  }
 ],
 "metadata": {
  "kernelspec": {
   "display_name": ".venv",
   "language": "python",
   "name": "python3"
  },
  "language_info": {
   "codemirror_mode": {
    "name": "ipython",
    "version": 3
   },
   "file_extension": ".py",
   "mimetype": "text/x-python",
   "name": "python",
   "nbconvert_exporter": "python",
   "pygments_lexer": "ipython3",
   "version": "3.10.13"
  }
 },
 "nbformat": 4,
 "nbformat_minor": 2
}
