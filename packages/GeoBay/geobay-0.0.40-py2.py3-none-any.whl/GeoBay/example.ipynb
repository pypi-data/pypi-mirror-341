{
 "cells": [
  {
   "cell_type": "markdown",
   "metadata": {},
   "source": [
    "# GeoBay Example Notebook\n",
    "\n",
    "[![Open in Colab](https://colab.research.google.com/assets/colab-badge.svg)](https://colab.research.google.com/github/Caseyshea96/GeoBay/blob/d76bd4f7fd5e264a40615ecf0328a9288307eb7f/GeoBay/example.ipynb)\n",
    "\n"
   ]
  },
  {
   "cell_type": "code",
   "execution_count": 7,
   "metadata": {},
   "outputs": [
    {
     "ename": "AttributeError",
     "evalue": "'CustomIpyleafletMap' object has no attribute 'add_basemap_dropdown'",
     "output_type": "error",
     "traceback": [
      "\u001b[31m---------------------------------------------------------------------------\u001b[39m",
      "\u001b[31mAttributeError\u001b[39m                            Traceback (most recent call last)",
      "\u001b[36mCell\u001b[39m\u001b[36m \u001b[39m\u001b[32mIn[7]\u001b[39m\u001b[32m, line 9\u001b[39m\n\u001b[32m      6\u001b[39m \u001b[38;5;66;03m# Add basemap\u001b[39;00m\n\u001b[32m      7\u001b[39m map_ipyleaflet.add_basemap(\u001b[33m\"\u001b[39m\u001b[33mOpenStreetMap\u001b[39m\u001b[33m\"\u001b[39m)\n\u001b[32m----> \u001b[39m\u001b[32m9\u001b[39m \u001b[43mmap_ipyleaflet\u001b[49m\u001b[43m.\u001b[49m\u001b[43madd_basemap_dropdown\u001b[49m()\n\u001b[32m     10\u001b[39m \u001b[38;5;66;03m# Add vector data (GeoJSON URL)\u001b[39;00m\n\u001b[32m     11\u001b[39m Geodata = \u001b[33m\"\u001b[39m\u001b[33mhttps://raw.githubusercontent.com/opengeos/data/bb132f1b4f8b9219c0d159216bfc33d05fca915c/vector/cables.geojson\u001b[39m\u001b[33m\"\u001b[39m\n",
      "\u001b[31mAttributeError\u001b[39m: 'CustomIpyleafletMap' object has no attribute 'add_basemap_dropdown'"
     ]
    }
   ],
   "source": [
    "from GeoBay import CustomIpyleafletMap as ipyleaflet_Map\n",
    "\n",
    "# Create an ipyleaflet map instance\n",
    "map_ipyleaflet = ipyleaflet_Map(center=[37.7749, -122.4194], zoom=4)\n",
    "\n",
    "# Add basemap\n",
    "map_ipyleaflet.add_basemap(\"OpenStreetMap\")\n",
    "\n",
    "map_ipyleaflet.add_basemap_dropdown()\n",
    "# Add vector data (GeoJSON URL)\n",
    "Geodata = \"https://raw.githubusercontent.com/opengeos/data/bb132f1b4f8b9219c0d159216bfc33d05fca915c/vector/cables.geojson\"\n",
    "map_ipyleaflet.add_vector(Geodata)\n",
    "\n",
    "# Show the map\n",
    "map_ipyleaflet.show_map()\n"
   ]
  },
  {
   "cell_type": "code",
   "execution_count": 5,
   "metadata": {},
   "outputs": [
    {
     "ename": "ImportError",
     "evalue": "cannot import name 'FoliumMap' from 'GeoBay' (c:\\Users\\shea9\\Documents\\github\\GeoBay\\GeoBay\\GeoBay.py)",
     "output_type": "error",
     "traceback": [
      "\u001b[31m---------------------------------------------------------------------------\u001b[39m",
      "\u001b[31mImportError\u001b[39m                               Traceback (most recent call last)",
      "\u001b[36mCell\u001b[39m\u001b[36m \u001b[39m\u001b[32mIn[5]\u001b[39m\u001b[32m, line 2\u001b[39m\n\u001b[32m      1\u001b[39m \u001b[38;5;66;03m# Example usage of Map class with folium\u001b[39;00m\n\u001b[32m----> \u001b[39m\u001b[32m2\u001b[39m \u001b[38;5;28;01mfrom\u001b[39;00m\u001b[38;5;250m \u001b[39m\u001b[34;01mGeoBay\u001b[39;00m\u001b[38;5;250m \u001b[39m\u001b[38;5;28;01mimport\u001b[39;00m FoliumMap \u001b[38;5;28;01mas\u001b[39;00m folium_Map\n\u001b[32m      4\u001b[39m \u001b[38;5;66;03m# Create a folium map instance\u001b[39;00m\n\u001b[32m      5\u001b[39m map_folium = folium_Map(location=[\u001b[32m37.7749\u001b[39m, -\u001b[32m122.4194\u001b[39m], zoom_start=\u001b[32m4\u001b[39m)\n",
      "\u001b[31mImportError\u001b[39m: cannot import name 'FoliumMap' from 'GeoBay' (c:\\Users\\shea9\\Documents\\github\\GeoBay\\GeoBay\\GeoBay.py)"
     ]
    }
   ],
   "source": [
    "# Example usage of Map class with folium\n",
    "from GeoBay import FoliumMap as folium_Map\n",
    "\n",
    "# Create a folium map instance\n",
    "map_folium = folium_Map(location=[37.7749, -122.4194], zoom_start=4)\n",
    "\n",
    "# Add basemap\n",
    "map_folium.add_basemap(\"OpenStreetMap\")\n",
    "\n",
    "# Add vector data (GeoJSON)\n",
    "Geodata = \"https://raw.githubusercontent.com/opengeos/data/bb132f1b4f8b9219c0d159216bfc33d05fca915c/vector/cables.geojson\"\n",
    "map_folium.add_vector(Geodata)\n",
    "\n",
    "# Show the map\n",
    "map_folium.show_map()\n"
   ]
  },
  {
   "cell_type": "code",
   "execution_count": null,
   "metadata": {},
   "outputs": [],
   "source": []
  }
 ],
 "metadata": {
  "kernelspec": {
   "display_name": "Python 3",
   "language": "python",
   "name": "python3"
  },
  "language_info": {
   "codemirror_mode": {
    "name": "ipython",
    "version": 3
   },
   "file_extension": ".py",
   "mimetype": "text/x-python",
   "name": "python",
   "nbconvert_exporter": "python",
   "pygments_lexer": "ipython3",
   "version": "3.13.0"
  }
 },
 "nbformat": 4,
 "nbformat_minor": 2
}
