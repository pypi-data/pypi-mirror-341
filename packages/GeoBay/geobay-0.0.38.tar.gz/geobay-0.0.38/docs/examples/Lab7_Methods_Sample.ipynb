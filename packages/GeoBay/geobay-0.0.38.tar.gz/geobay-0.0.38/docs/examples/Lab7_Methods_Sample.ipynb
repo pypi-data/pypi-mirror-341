{
  "cells": [
    {
      "cell_type": "markdown",
      "id": "3102c7b4",
      "metadata": {
        "id": "3102c7b4"
      },
      "source": [
        "[![Open In Colab](https://colab.research.google.com/assets/colab-badge.svg)](https://colab.research.google.com/github/Caseyshea96/GeoBay/blob/main/docs/examples/Lab7_Methods_Sample.ipynb)\n"
      ]
    },
    {
      "cell_type": "code",
      "execution_count": 7,
      "id": "bf51a994",
      "metadata": {
        "id": "bf51a994"
      },
      "outputs": [],
      "source": [
        "from GeoBay import CustomIpyleafletMap\n",
        "from ipyleaflet import DrawControl"
      ]
    },
    {
      "cell_type": "code",
      "execution_count": 10,
      "id": "5cff74fd",
      "metadata": {
        "colab": {
          "referenced_widgets": [
            "91812bb78e084d6abd38ef9cafdc9d21"
          ]
        },
        "id": "5cff74fd",
        "outputId": "e62f6d9e-62c9-45b3-a450-b5797fc1834d"
      },
      "outputs": [
        {
          "ename": "AttributeError",
          "evalue": "'CustomIpyleafletMap' object has no attribute 'add_image'",
          "output_type": "error",
          "traceback": [
            "\u001b[31m---------------------------------------------------------------------------\u001b[39m",
            "\u001b[31mAttributeError\u001b[39m                            Traceback (most recent call last)",
            "\u001b[36mCell\u001b[39m\u001b[36m \u001b[39m\u001b[32mIn[10]\u001b[39m\u001b[32m, line 17\u001b[39m\n\u001b[32m     15\u001b[39m image_url = \u001b[33m\"\u001b[39m\u001b[33mhttps://encrypted-tbn0.gstatic.com/images?q=tbn:ANd9GcSUXq-znfyXENLtD64Ijh3gB-psZGO7WlY3vg&s\u001b[39m\u001b[33m\"\u001b[39m\n\u001b[32m     16\u001b[39m bounds = [(\u001b[32m41.1485466\u001b[39m,-\u001b[32m73.1655751\u001b[39m), (\u001b[32m40.8967207\u001b[39m,-\u001b[32m73.5636963\u001b[39m)]\n\u001b[32m---> \u001b[39m\u001b[32m17\u001b[39m \u001b[43mmymap\u001b[49m\u001b[43m.\u001b[49m\u001b[43madd_image\u001b[49m(image_url, bounds, opacity=\u001b[32m1\u001b[39m)\n\u001b[32m     19\u001b[39m video_url = \u001b[33m\"\u001b[39m\u001b[33mhttps://www.mapbox.com/bites/00188/patricia_nasa.webm\u001b[39m\u001b[33m\"\u001b[39m\n\u001b[32m     20\u001b[39m bounds = [(\u001b[32m41.0165271\u001b[39m, -\u001b[32m74.1999349\u001b[39m), (\u001b[32m40.7450505\u001b[39m, -\u001b[32m74.6063112\u001b[39m)]\n",
            "\u001b[31mAttributeError\u001b[39m: 'CustomIpyleafletMap' object has no attribute 'add_image'"
          ]
        }
      ],
      "source": [
        "# Create the map centered on a location (NYC)\n",
        "mymap = CustomIpyleafletMap(center=[40.6892, -74.0445], zoom=9)\n",
        "mymap.add_basemap(\"Esri.WorldImagery\")\n",
        "mymap.add_layer_control()\n",
        "\n",
        "#Loading a GeoJSON vector layer\n",
        "import geopandas as gpd\n",
        "vector_url = \"https://github.com/opengeos/datasets/releases/download/places/nyc_roads.geojson\"\n",
        "gdf = gpd.read_file(vector_url)\n",
        "gdf = gdf.to_crs(epsg=4326)  # Ensure the CRS is WGS84 for web mapping\n",
        "mymap.add_vector(gdf)\n",
        "\n",
        "\n",
        "# Sample image URL and bounds\n",
        "image_url = \"https://encrypted-tbn0.gstatic.com/images?q=tbn:ANd9GcSUXq-znfyXENLtD64Ijh3gB-psZGO7WlY3vg&s\"\n",
        "bounds = [(41.1485466,-73.1655751), (40.8967207,-73.5636963)]\n",
        "mymap.add_image(image_url, bounds, opacity=1)\n",
        "\n",
        "video_url = \"https://www.mapbox.com/bites/00188/patricia_nasa.webm\"\n",
        "bounds = [(41.0165271, -74.1999349), (40.7450505, -74.6063112)]\n",
        "mymap.add_video(video_url, bounds, opacity=1)\n",
        "\n",
        "mymap.show_map()"
      ]
    },
    {
      "cell_type": "code",
      "execution_count": null,
      "id": "8d280fb4",
      "metadata": {
        "id": "8d280fb4"
      },
      "outputs": [],
      "source": []
    }
  ],
  "metadata": {
    "colab": {
      "provenance": []
    },
    "kernelspec": {
      "display_name": "Python 3",
      "language": "python",
      "name": "python3"
    },
    "language_info": {
      "codemirror_mode": {
        "name": "ipython",
        "version": 3
      },
      "file_extension": ".py",
      "mimetype": "text/x-python",
      "name": "python",
      "nbconvert_exporter": "python",
      "pygments_lexer": "ipython3",
      "version": "3.13.0"
    }
  },
  "nbformat": 4,
  "nbformat_minor": 5
}
