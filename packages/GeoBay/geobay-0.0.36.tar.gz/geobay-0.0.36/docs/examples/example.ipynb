{
 "cells": [
  {
   "cell_type": "markdown",
   "metadata": {},
   "source": [
    "Example Notebook\n",
    "\n",
    "[![Open in Colab](https://colab.research.google.com/assets/colab-badge.svg)](https://colab.research.google.com/github/Caseyshea96/GeoBay/blob/68ad6652e02808f709c6adafba99969a1ae91fb1/example.ipynb)\n",
    "\n"
   ]
  },
  {
   "cell_type": "code",
   "execution_count": 6,
   "metadata": {},
   "outputs": [
    {
     "name": "stdout",
     "output_type": "stream",
     "text": [
      "Collecting geobay\n",
      "  Using cached geobay-0.0.15-py2.py3-none-any.whl.metadata (1.4 kB)\n",
      "Collecting numpy (from geobay)\n",
      "  Downloading numpy-2.2.4-cp313-cp313-win_amd64.whl.metadata (60 kB)\n",
      "Collecting ipyleaflet>=0.17.0 (from geobay)\n",
      "  Using cached ipyleaflet-0.19.2-py3-none-any.whl.metadata (5.3 kB)\n",
      "Collecting geopandas>=0.10.0 (from geobay)\n",
      "  Downloading geopandas-1.0.1-py3-none-any.whl.metadata (2.2 kB)\n",
      "Collecting pyogrio>=0.7.2 (from geopandas>=0.10.0->geobay)\n",
      "  Downloading pyogrio-0.10.0-cp313-cp313-win_amd64.whl.metadata (5.6 kB)\n",
      "Requirement already satisfied: packaging in c:\\users\\shea9\\appdata\\roaming\\python\\python313\\site-packages (from geopandas>=0.10.0->geobay) (24.2)\n",
      "Collecting pandas>=1.4.0 (from geopandas>=0.10.0->geobay)\n",
      "  Downloading pandas-2.2.3-cp313-cp313-win_amd64.whl.metadata (19 kB)\n",
      "Collecting pyproj>=3.3.0 (from geopandas>=0.10.0->geobay)\n",
      "  Downloading pyproj-3.7.1-cp313-cp313-win_amd64.whl.metadata (31 kB)\n",
      "Collecting shapely>=2.0.0 (from geopandas>=0.10.0->geobay)\n",
      "  Downloading shapely-2.1.0-cp313-cp313-win_amd64.whl.metadata (7.0 kB)\n",
      "Collecting branca>=0.5.0 (from ipyleaflet>=0.17.0->geobay)\n",
      "  Downloading branca-0.8.1-py3-none-any.whl.metadata (1.5 kB)\n",
      "Collecting ipywidgets<9,>=7.6.0 (from ipyleaflet>=0.17.0->geobay)\n",
      "  Using cached ipywidgets-8.1.5-py3-none-any.whl.metadata (2.3 kB)\n",
      "Collecting jupyter-leaflet<0.20,>=0.19 (from ipyleaflet>=0.17.0->geobay)\n",
      "  Using cached jupyter_leaflet-0.19.2-py3-none-any.whl.metadata (2.4 kB)\n",
      "Collecting traittypes<3,>=0.2.1 (from ipyleaflet>=0.17.0->geobay)\n",
      "  Using cached traittypes-0.2.1-py2.py3-none-any.whl.metadata (1.0 kB)\n",
      "Collecting xyzservices>=2021.8.1 (from ipyleaflet>=0.17.0->geobay)\n",
      "  Downloading xyzservices-2025.1.0-py3-none-any.whl.metadata (4.3 kB)\n",
      "Collecting jinja2>=3 (from branca>=0.5.0->ipyleaflet>=0.17.0->geobay)\n",
      "  Downloading jinja2-3.1.6-py3-none-any.whl.metadata (2.9 kB)\n",
      "Requirement already satisfied: comm>=0.1.3 in c:\\users\\shea9\\appdata\\roaming\\python\\python313\\site-packages (from ipywidgets<9,>=7.6.0->ipyleaflet>=0.17.0->geobay) (0.2.2)\n",
      "Requirement already satisfied: ipython>=6.1.0 in c:\\users\\shea9\\appdata\\roaming\\python\\python313\\site-packages (from ipywidgets<9,>=7.6.0->ipyleaflet>=0.17.0->geobay) (9.0.1)\n",
      "Requirement already satisfied: traitlets>=4.3.1 in c:\\users\\shea9\\appdata\\roaming\\python\\python313\\site-packages (from ipywidgets<9,>=7.6.0->ipyleaflet>=0.17.0->geobay) (5.14.3)\n",
      "Collecting widgetsnbextension~=4.0.12 (from ipywidgets<9,>=7.6.0->ipyleaflet>=0.17.0->geobay)\n",
      "  Using cached widgetsnbextension-4.0.13-py3-none-any.whl.metadata (1.6 kB)\n",
      "Collecting jupyterlab-widgets~=3.0.12 (from ipywidgets<9,>=7.6.0->ipyleaflet>=0.17.0->geobay)\n",
      "  Using cached jupyterlab_widgets-3.0.13-py3-none-any.whl.metadata (4.1 kB)\n",
      "Requirement already satisfied: python-dateutil>=2.8.2 in c:\\users\\shea9\\appdata\\roaming\\python\\python313\\site-packages (from pandas>=1.4.0->geopandas>=0.10.0->geobay) (2.9.0.post0)\n",
      "Collecting pytz>=2020.1 (from pandas>=1.4.0->geopandas>=0.10.0->geobay)\n",
      "  Using cached pytz-2025.2-py2.py3-none-any.whl.metadata (22 kB)\n",
      "Collecting tzdata>=2022.7 (from pandas>=1.4.0->geopandas>=0.10.0->geobay)\n",
      "  Downloading tzdata-2025.2-py2.py3-none-any.whl.metadata (1.4 kB)\n",
      "Collecting certifi (from pyogrio>=0.7.2->geopandas>=0.10.0->geobay)\n",
      "  Downloading certifi-2025.1.31-py3-none-any.whl.metadata (2.5 kB)\n",
      "Requirement already satisfied: colorama in c:\\users\\shea9\\appdata\\roaming\\python\\python313\\site-packages (from ipython>=6.1.0->ipywidgets<9,>=7.6.0->ipyleaflet>=0.17.0->geobay) (0.4.6)\n",
      "Requirement already satisfied: decorator in c:\\users\\shea9\\appdata\\roaming\\python\\python313\\site-packages (from ipython>=6.1.0->ipywidgets<9,>=7.6.0->ipyleaflet>=0.17.0->geobay) (5.2.1)\n",
      "Requirement already satisfied: ipython-pygments-lexers in c:\\users\\shea9\\appdata\\roaming\\python\\python313\\site-packages (from ipython>=6.1.0->ipywidgets<9,>=7.6.0->ipyleaflet>=0.17.0->geobay) (1.1.1)\n",
      "Requirement already satisfied: jedi>=0.16 in c:\\users\\shea9\\appdata\\roaming\\python\\python313\\site-packages (from ipython>=6.1.0->ipywidgets<9,>=7.6.0->ipyleaflet>=0.17.0->geobay) (0.19.2)\n",
      "Requirement already satisfied: matplotlib-inline in c:\\users\\shea9\\appdata\\roaming\\python\\python313\\site-packages (from ipython>=6.1.0->ipywidgets<9,>=7.6.0->ipyleaflet>=0.17.0->geobay) (0.1.7)\n",
      "Requirement already satisfied: prompt_toolkit<3.1.0,>=3.0.41 in c:\\users\\shea9\\appdata\\roaming\\python\\python313\\site-packages (from ipython>=6.1.0->ipywidgets<9,>=7.6.0->ipyleaflet>=0.17.0->geobay) (3.0.50)\n",
      "Requirement already satisfied: pygments>=2.4.0 in c:\\users\\shea9\\appdata\\roaming\\python\\python313\\site-packages (from ipython>=6.1.0->ipywidgets<9,>=7.6.0->ipyleaflet>=0.17.0->geobay) (2.19.1)\n",
      "Requirement already satisfied: stack_data in c:\\users\\shea9\\appdata\\roaming\\python\\python313\\site-packages (from ipython>=6.1.0->ipywidgets<9,>=7.6.0->ipyleaflet>=0.17.0->geobay) (0.6.3)\n",
      "Collecting MarkupSafe>=2.0 (from jinja2>=3->branca>=0.5.0->ipyleaflet>=0.17.0->geobay)\n",
      "  Downloading MarkupSafe-3.0.2-cp313-cp313-win_amd64.whl.metadata (4.1 kB)\n",
      "Requirement already satisfied: six>=1.5 in c:\\users\\shea9\\appdata\\roaming\\python\\python313\\site-packages (from python-dateutil>=2.8.2->pandas>=1.4.0->geopandas>=0.10.0->geobay) (1.17.0)\n",
      "Requirement already satisfied: parso<0.9.0,>=0.8.4 in c:\\users\\shea9\\appdata\\roaming\\python\\python313\\site-packages (from jedi>=0.16->ipython>=6.1.0->ipywidgets<9,>=7.6.0->ipyleaflet>=0.17.0->geobay) (0.8.4)\n",
      "Requirement already satisfied: wcwidth in c:\\users\\shea9\\appdata\\roaming\\python\\python313\\site-packages (from prompt_toolkit<3.1.0,>=3.0.41->ipython>=6.1.0->ipywidgets<9,>=7.6.0->ipyleaflet>=0.17.0->geobay) (0.2.13)\n",
      "Requirement already satisfied: executing>=1.2.0 in c:\\users\\shea9\\appdata\\roaming\\python\\python313\\site-packages (from stack_data->ipython>=6.1.0->ipywidgets<9,>=7.6.0->ipyleaflet>=0.17.0->geobay) (2.2.0)\n",
      "Requirement already satisfied: asttokens>=2.1.0 in c:\\users\\shea9\\appdata\\roaming\\python\\python313\\site-packages (from stack_data->ipython>=6.1.0->ipywidgets<9,>=7.6.0->ipyleaflet>=0.17.0->geobay) (3.0.0)\n",
      "Requirement already satisfied: pure-eval in c:\\users\\shea9\\appdata\\roaming\\python\\python313\\site-packages (from stack_data->ipython>=6.1.0->ipywidgets<9,>=7.6.0->ipyleaflet>=0.17.0->geobay) (0.2.3)\n",
      "Using cached geobay-0.0.15-py2.py3-none-any.whl (5.1 kB)\n",
      "Downloading geopandas-1.0.1-py3-none-any.whl (323 kB)\n",
      "Using cached ipyleaflet-0.19.2-py3-none-any.whl (31 kB)\n",
      "Downloading numpy-2.2.4-cp313-cp313-win_amd64.whl (12.6 MB)\n",
      "   ---------------------------------------- 0.0/12.6 MB ? eta -:--:--\n",
      "   ---------------------------------------- 0.0/12.6 MB ? eta -:--:--\n",
      "   - -------------------------------------- 0.5/12.6 MB 1.7 MB/s eta 0:00:08\n",
      "   -- ------------------------------------- 0.8/12.6 MB 1.7 MB/s eta 0:00:07\n",
      "   ---- ----------------------------------- 1.3/12.6 MB 1.9 MB/s eta 0:00:06\n",
      "   ----- ---------------------------------- 1.8/12.6 MB 2.0 MB/s eta 0:00:06\n",
      "   -------- ------------------------------- 2.6/12.6 MB 2.2 MB/s eta 0:00:05\n",
      "   --------- ------------------------------ 3.1/12.6 MB 2.3 MB/s eta 0:00:05\n",
      "   ------------ --------------------------- 3.9/12.6 MB 2.5 MB/s eta 0:00:04\n",
      "   -------------- ------------------------- 4.5/12.6 MB 2.5 MB/s eta 0:00:04\n",
      "   ----------------- ---------------------- 5.5/12.6 MB 2.7 MB/s eta 0:00:03\n",
      "   ------------------- -------------------- 6.3/12.6 MB 2.8 MB/s eta 0:00:03\n",
      "   --------------------- ------------------ 6.8/12.6 MB 2.9 MB/s eta 0:00:03\n",
      "   ------------------------ --------------- 7.9/12.6 MB 3.0 MB/s eta 0:00:02\n",
      "   ---------------------------- ----------- 8.9/12.6 MB 3.1 MB/s eta 0:00:02\n",
      "   ------------------------------- -------- 10.0/12.6 MB 3.3 MB/s eta 0:00:01\n",
      "   ---------------------------------- ----- 11.0/12.6 MB 3.4 MB/s eta 0:00:01\n",
      "   -------------------------------------- - 12.1/12.6 MB 3.5 MB/s eta 0:00:01\n",
      "   ---------------------------------------- 12.6/12.6 MB 3.5 MB/s eta 0:00:00\n",
      "Downloading branca-0.8.1-py3-none-any.whl (26 kB)\n",
      "Using cached ipywidgets-8.1.5-py3-none-any.whl (139 kB)\n",
      "Using cached jupyter_leaflet-0.19.2-py3-none-any.whl (1.1 MB)\n",
      "Downloading pandas-2.2.3-cp313-cp313-win_amd64.whl (11.5 MB)\n",
      "   ---------------------------------------- 0.0/11.5 MB ? eta -:--:--\n",
      "   --- ------------------------------------ 1.0/11.5 MB 5.2 MB/s eta 0:00:03\n",
      "   -------- ------------------------------- 2.4/11.5 MB 5.6 MB/s eta 0:00:02\n",
      "   ------------ --------------------------- 3.7/11.5 MB 5.9 MB/s eta 0:00:02\n",
      "   ----------------- ---------------------- 5.0/11.5 MB 6.1 MB/s eta 0:00:02\n",
      "   ---------------------- ----------------- 6.6/11.5 MB 6.2 MB/s eta 0:00:01\n",
      "   ---------------------------- ----------- 8.1/11.5 MB 6.4 MB/s eta 0:00:01\n",
      "   -------------------------------- ------- 9.4/11.5 MB 6.5 MB/s eta 0:00:01\n",
      "   ---------------------------------------  11.3/11.5 MB 6.7 MB/s eta 0:00:01\n",
      "   ---------------------------------------- 11.5/11.5 MB 6.5 MB/s eta 0:00:00\n",
      "Downloading pyogrio-0.10.0-cp313-cp313-win_amd64.whl (16.2 MB)\n",
      "   ---------------------------------------- 0.0/16.2 MB ? eta -:--:--\n",
      "   --- ------------------------------------ 1.6/16.2 MB 7.7 MB/s eta 0:00:02\n",
      "   ------- -------------------------------- 3.1/16.2 MB 7.5 MB/s eta 0:00:02\n",
      "   ----------- ---------------------------- 4.7/16.2 MB 7.4 MB/s eta 0:00:02\n",
      "   ------------- -------------------------- 5.5/16.2 MB 6.7 MB/s eta 0:00:02\n",
      "   ---------------- ----------------------- 6.6/16.2 MB 6.2 MB/s eta 0:00:02\n",
      "   ------------------ --------------------- 7.6/16.2 MB 6.0 MB/s eta 0:00:02\n",
      "   --------------------- ------------------ 8.7/16.2 MB 5.8 MB/s eta 0:00:02\n",
      "   ------------------------ --------------- 9.7/16.2 MB 5.8 MB/s eta 0:00:02\n",
      "   -------------------------- ------------- 10.7/16.2 MB 5.7 MB/s eta 0:00:01\n",
      "   ----------------------------- ---------- 12.1/16.2 MB 5.7 MB/s eta 0:00:01\n",
      "   --------------------------------- ------ 13.4/16.2 MB 5.8 MB/s eta 0:00:01\n",
      "   ------------------------------------ --- 14.9/16.2 MB 5.9 MB/s eta 0:00:01\n",
      "   ---------------------------------------- 16.2/16.2 MB 5.8 MB/s eta 0:00:00\n",
      "Downloading pyproj-3.7.1-cp313-cp313-win_amd64.whl (6.3 MB)\n",
      "   ---------------------------------------- 0.0/6.3 MB ? eta -:--:--\n",
      "   -------- ------------------------------- 1.3/6.3 MB 6.2 MB/s eta 0:00:01\n",
      "   ------------------ --------------------- 2.9/6.3 MB 7.1 MB/s eta 0:00:01\n",
      "   ---------------------------- ----------- 4.5/6.3 MB 7.3 MB/s eta 0:00:01\n",
      "   ---------------------------------------- 6.3/6.3 MB 7.3 MB/s eta 0:00:00\n",
      "Downloading shapely-2.1.0-cp313-cp313-win_amd64.whl (1.7 MB)\n",
      "   ---------------------------------------- 0.0/1.7 MB ? eta -:--:--\n",
      "   ------------------------------------ --- 1.6/1.7 MB 8.7 MB/s eta 0:00:01\n",
      "   ---------------------------------------- 1.7/1.7 MB 8.0 MB/s eta 0:00:00\n",
      "Using cached traittypes-0.2.1-py2.py3-none-any.whl (8.6 kB)\n",
      "Downloading xyzservices-2025.1.0-py3-none-any.whl (88 kB)\n",
      "Downloading jinja2-3.1.6-py3-none-any.whl (134 kB)\n",
      "Using cached jupyterlab_widgets-3.0.13-py3-none-any.whl (214 kB)\n",
      "Using cached pytz-2025.2-py2.py3-none-any.whl (509 kB)\n",
      "Downloading tzdata-2025.2-py2.py3-none-any.whl (347 kB)\n",
      "Using cached widgetsnbextension-4.0.13-py3-none-any.whl (2.3 MB)\n",
      "Downloading certifi-2025.1.31-py3-none-any.whl (166 kB)\n",
      "Downloading MarkupSafe-3.0.2-cp313-cp313-win_amd64.whl (15 kB)\n",
      "Installing collected packages: pytz, xyzservices, widgetsnbextension, tzdata, traittypes, numpy, MarkupSafe, jupyterlab-widgets, jupyter-leaflet, certifi, shapely, pyproj, pyogrio, pandas, jinja2, ipywidgets, geopandas, branca, ipyleaflet, geobay\n",
      "Successfully installed MarkupSafe-3.0.2 branca-0.8.1 certifi-2025.1.31 geobay-0.0.15 geopandas-1.0.1 ipyleaflet-0.19.2 ipywidgets-8.1.5 jinja2-3.1.6 jupyter-leaflet-0.19.2 jupyterlab-widgets-3.0.13 numpy-2.2.4 pandas-2.2.3 pyogrio-0.10.0 pyproj-3.7.1 pytz-2025.2 shapely-2.1.0 traittypes-0.2.1 tzdata-2025.2 widgetsnbextension-4.0.13 xyzservices-2025.1.0\n",
      "Note: you may need to restart the kernel to use updated packages.\n"
     ]
    },
    {
     "name": "stderr",
     "output_type": "stream",
     "text": [
      "  WARNING: The scripts f2py.exe and numpy-config.exe are installed in 'c:\\Users\\shea9\\AppData\\Local\\Programs\\Python\\Python313\\Scripts' which is not on PATH.\n",
      "  Consider adding this directory to PATH or, if you prefer to suppress this warning, use --no-warn-script-location.\n",
      "  WARNING: The script pyproj.exe is installed in 'c:\\Users\\shea9\\AppData\\Local\\Programs\\Python\\Python313\\Scripts' which is not on PATH.\n",
      "  Consider adding this directory to PATH or, if you prefer to suppress this warning, use --no-warn-script-location.\n",
      "  WARNING: The script GeoBay.exe is installed in 'c:\\Users\\shea9\\AppData\\Local\\Programs\\Python\\Python313\\Scripts' which is not on PATH.\n",
      "  Consider adding this directory to PATH or, if you prefer to suppress this warning, use --no-warn-script-location.\n",
      "\n",
      "[notice] A new release of pip is available: 24.2 -> 25.0.1\n",
      "[notice] To update, run: python.exe -m pip install --upgrade pip\n"
     ]
    }
   ],
   "source": [
    "pip install geobay"
   ]
  },
  {
   "cell_type": "code",
   "execution_count": 3,
   "metadata": {},
   "outputs": [
    {
     "name": "stderr",
     "output_type": "stream",
     "text": [
      "Skipping field coordinates: unsupported OGR type: 3\n"
     ]
    },
    {
     "data": {
      "application/vnd.jupyter.widget-view+json": {
       "model_id": "7b9382e0ac084d2798953d5c7dad043a",
       "version_major": 2,
       "version_minor": 0
      },
      "text/plain": [
       "CustomIpyleafletMap(center=[37.7749, -122.4194], controls=(ZoomControl(options=['position', 'zoom_in_text', 'z…"
      ]
     },
     "execution_count": 3,
     "metadata": {},
     "output_type": "execute_result"
    }
   ],
   "source": [
    "from GeoBay.GeoBay import CustomIpyleafletMap as ipyleaflet_Map\n",
    "\n",
    "# Create an ipyleaflet map instance\n",
    "map_ipyleaflet = ipyleaflet_Map(center=[37.7749, -122.4194], zoom=4)\n",
    "\n",
    "# Add basemap\n",
    "map_ipyleaflet.add_basemap(\"OpenStreetMap\")\n",
    "\n",
    "# Add vector data (GeoJSON URL)\n",
    "Geodata = \"https://raw.githubusercontent.com/opengeos/data/bb132f1b4f8b9219c0d159216bfc33d05fca915c/vector/cables.geojson\"\n",
    "map_ipyleaflet.add_vector(Geodata)\n",
    "\n",
    "# Show the map\n",
    "map_ipyleaflet.show_map()"
   ]
  },
  {
   "cell_type": "code",
   "execution_count": null,
   "metadata": {},
   "outputs": [],
   "source": []
  }
 ],
 "metadata": {
  "kernelspec": {
   "display_name": "Python 3",
   "language": "python",
   "name": "python3"
  },
  "language_info": {
   "codemirror_mode": {
    "name": "ipython",
    "version": 3
   },
   "file_extension": ".py",
   "mimetype": "text/x-python",
   "name": "python",
   "nbconvert_exporter": "python",
   "pygments_lexer": "ipython3",
   "version": "3.13.0"
  }
 },
 "nbformat": 4,
 "nbformat_minor": 2
}
