{
 "cells": [
  {
   "cell_type": "code",
   "execution_count": 48,
   "id": "initial_id",
   "metadata": {
    "ExecuteTime": {
     "end_time": "2024-11-14T03:31:24.369562Z",
     "start_time": "2024-11-14T03:31:21.833949Z"
    }
   },
   "outputs": [],
   "source": [
    "from pathlib import Path\n",
    "import duckdb\n",
    "import polars as pl\n",
    "from datetime import datetime\n",
    "from transformers import (\n",
    "    AutoTokenizer, \n",
    ")\n",
    "from core_pro.ultilities import update_df\n",
    "import sys\n",
    "sys.path.extend([str(Path.home() / 'PycharmProjects/model_train')])\n",
    "\n",
    "from src.model_train.func import MultiLabels, export_to_md\n",
    "from src.model_train.data_loading import TrainDistribution\n",
    "from src.model_train.pipeline_train import Pipeline"
   ]
  },
  {
   "cell_type": "code",
   "execution_count": 2,
   "id": "87b39766b4f1e376",
   "metadata": {
    "ExecuteTime": {
     "end_time": "2024-11-14T03:31:24.511225Z",
     "start_time": "2024-11-14T03:31:24.374538Z"
    }
   },
   "outputs": [
    {
     "name": "stdout",
     "output_type": "stream",
     "text": [
      "(117193, 20) 117193\n"
     ]
    }
   ],
   "source": [
    "path = Path('/media/kevin/data_4t/cx_product_review/training_data')\n",
    "save_path = path / 'dataset/all_topic'\n",
    "\n",
    "file = path / 'train_2024_11_12.parquet'\n",
    "l1 = ['product_quality', 'pricing', 'delivery_service', 'packaging', 'seller_service', 'listing_accuracy', 'order_accuracy', 'irrelevant']\n",
    "labels = [f'category_{i}' for i in l1] + [f'issue_{i}' for i in l1]\n",
    "\n",
    "query = f\"\"\"\n",
    "select distinct \n",
    "item_id\n",
    ", item_name\n",
    ", comment_id\n",
    ", comment\n",
    ", comment_clean\n",
    ", {'\\n, '.join(f'coalesce({i}, 0) {i}' for i in labels)}\n",
    "from read_parquet('{file}')\n",
    "\"\"\"\n",
    "df = duckdb.sql(query).pl()\n",
    "print(df.shape, df['comment_id'].n_unique())"
   ]
  },
  {
   "cell_type": "code",
   "execution_count": 3,
   "id": "8bb284e90c0225a5",
   "metadata": {
    "ExecuteTime": {
     "end_time": "2024-11-14T03:31:24.649925Z",
     "start_time": "2024-11-14T03:31:24.646494Z"
    }
   },
   "outputs": [
    {
     "data": {
      "text/html": [
       "<div><style>\n",
       ".dataframe > thead > tr,\n",
       ".dataframe > tbody > tr {\n",
       "  text-align: right;\n",
       "  white-space: pre-wrap;\n",
       "}\n",
       "</style>\n",
       "<small>shape: (5, 20)</small><table border=\"1\" class=\"dataframe\"><thead><tr><th>item_id</th><th>item_name</th><th>comment_id</th><th>comment</th><th>category_product_quality</th><th>category_pricing</th><th>category_delivery_service</th><th>category_packaging</th><th>category_seller_service</th><th>category_listing_accuracy</th><th>category_order_accuracy</th><th>category_irrelevant</th><th>issue_product_quality</th><th>issue_pricing</th><th>issue_delivery_service</th><th>issue_packaging</th><th>issue_seller_service</th><th>issue_listing_accuracy</th><th>issue_order_accuracy</th><th>issue_irrelevant</th></tr><tr><td>i64</td><td>str</td><td>u64</td><td>str</td><td>i64</td><td>i64</td><td>i64</td><td>i64</td><td>i64</td><td>i64</td><td>i64</td><td>i32</td><td>i64</td><td>i64</td><td>i64</td><td>i64</td><td>i64</td><td>i64</td><td>i64</td><td>i32</td></tr></thead><tbody><tr><td>13313658151</td><td>&quot;Áo gió nam nữ vải tráng chống …</td><td>6603730773</td><td>&quot;Sản phâm may rất cẩu thả may t…</td><td>0</td><td>0</td><td>0</td><td>0</td><td>1</td><td>0</td><td>1</td><td>0</td><td>0</td><td>0</td><td>0</td><td>0</td><td>1</td><td>0</td><td>1</td><td>0</td></tr><tr><td>115543274</td><td>&quot;MÁY LÀM TÓC 3 TRONG 1 SONAR 71…</td><td>438432450</td><td>&quot; Rất không đáng tiền&quot;</td><td>0</td><td>1</td><td>0</td><td>0</td><td>0</td><td>0</td><td>0</td><td>0</td><td>0</td><td>1</td><td>0</td><td>0</td><td>0</td><td>0</td><td>0</td><td>0</td></tr><tr><td>8820961536</td><td>&quot;Bột đậu đỏ hữu cơ UMIHOME 40G …</td><td>15024510021</td><td>&quot;Bột đậu đỏ nguyên chất UMIHOME…</td><td>1</td><td>0</td><td>0</td><td>0</td><td>0</td><td>1</td><td>0</td><td>0</td><td>0</td><td>0</td><td>0</td><td>0</td><td>0</td><td>0</td><td>0</td><td>1</td></tr><tr><td>8587034871</td><td>&quot;[DIỆN MẠO MỚI] Sữa Rửa Mặt Sim…</td><td>8832835146</td><td>&quot;Giao hàng nhanh, đóng gói cẩn …</td><td>0</td><td>0</td><td>1</td><td>1</td><td>0</td><td>0</td><td>0</td><td>0</td><td>0</td><td>0</td><td>0</td><td>0</td><td>0</td><td>0</td><td>0</td><td>1</td></tr><tr><td>7327824581</td><td>&quot;Râu mực xào cay Tứ Xuyên&quot;</td><td>14227710047</td><td>&quot;Mùi quá, ăn ko hợp vị mik lm&quot;</td><td>1</td><td>0</td><td>0</td><td>0</td><td>0</td><td>0</td><td>0</td><td>0</td><td>1</td><td>0</td><td>0</td><td>0</td><td>0</td><td>0</td><td>0</td><td>0</td></tr></tbody></table></div>"
      ],
      "text/plain": [
       "shape: (5, 20)\n",
       "┌───────────┬───────────┬───────────┬───────────┬───┬───────────┬───────────┬───────────┬──────────┐\n",
       "│ item_id   ┆ item_name ┆ comment_i ┆ comment   ┆ … ┆ issue_sel ┆ issue_lis ┆ issue_ord ┆ issue_ir │\n",
       "│ ---       ┆ ---       ┆ d         ┆ ---       ┆   ┆ ler_servi ┆ ting_accu ┆ er_accura ┆ relevant │\n",
       "│ i64       ┆ str       ┆ ---       ┆ str       ┆   ┆ ce        ┆ racy      ┆ cy        ┆ ---      │\n",
       "│           ┆           ┆ u64       ┆           ┆   ┆ ---       ┆ ---       ┆ ---       ┆ i32      │\n",
       "│           ┆           ┆           ┆           ┆   ┆ i64       ┆ i64       ┆ i64       ┆          │\n",
       "╞═══════════╪═══════════╪═══════════╪═══════════╪═══╪═══════════╪═══════════╪═══════════╪══════════╡\n",
       "│ 133136581 ┆ Áo gió    ┆ 660373077 ┆ Sản phâm  ┆ … ┆ 1         ┆ 0         ┆ 1         ┆ 0        │\n",
       "│ 51        ┆ nam nữ    ┆ 3         ┆ may rất   ┆   ┆           ┆           ┆           ┆          │\n",
       "│           ┆ vải tráng ┆           ┆ cẩu thả   ┆   ┆           ┆           ┆           ┆          │\n",
       "│           ┆ chống …   ┆           ┆ may t…    ┆   ┆           ┆           ┆           ┆          │\n",
       "│ 115543274 ┆ MÁY LÀM   ┆ 438432450 ┆ Rất không ┆ … ┆ 0         ┆ 0         ┆ 0         ┆ 0        │\n",
       "│           ┆ TÓC 3     ┆           ┆ đáng tiền ┆   ┆           ┆           ┆           ┆          │\n",
       "│           ┆ TRONG 1   ┆           ┆           ┆   ┆           ┆           ┆           ┆          │\n",
       "│           ┆ SONAR 71… ┆           ┆           ┆   ┆           ┆           ┆           ┆          │\n",
       "│ 882096153 ┆ Bột đậu   ┆ 150245100 ┆ Bột đậu   ┆ … ┆ 0         ┆ 0         ┆ 0         ┆ 1        │\n",
       "│ 6         ┆ đỏ hữu cơ ┆ 21        ┆ đỏ nguyên ┆   ┆           ┆           ┆           ┆          │\n",
       "│           ┆ UMIHOME   ┆           ┆ chất      ┆   ┆           ┆           ┆           ┆          │\n",
       "│           ┆ 40G …     ┆           ┆ UMIHOME…  ┆   ┆           ┆           ┆           ┆          │\n",
       "│ 858703487 ┆ [DIỆN MẠO ┆ 883283514 ┆ Giao hàng ┆ … ┆ 0         ┆ 0         ┆ 0         ┆ 1        │\n",
       "│ 1         ┆ MỚI] Sữa  ┆ 6         ┆ nhanh,    ┆   ┆           ┆           ┆           ┆          │\n",
       "│           ┆ Rửa Mặt   ┆           ┆ đóng gói  ┆   ┆           ┆           ┆           ┆          │\n",
       "│           ┆ Sim…      ┆           ┆ cẩn …     ┆   ┆           ┆           ┆           ┆          │\n",
       "│ 732782458 ┆ Râu mực   ┆ 142277100 ┆ Mùi quá,  ┆ … ┆ 0         ┆ 0         ┆ 0         ┆ 0        │\n",
       "│ 1         ┆ xào cay   ┆ 47        ┆ ăn ko hợp ┆   ┆           ┆           ┆           ┆          │\n",
       "│           ┆ Tứ Xuyên  ┆           ┆ vị mik lm ┆   ┆           ┆           ┆           ┆          │\n",
       "└───────────┴───────────┴───────────┴───────────┴───┴───────────┴───────────┴───────────┴──────────┘"
      ]
     },
     "execution_count": 3,
     "metadata": {},
     "output_type": "execute_result"
    }
   ],
   "source": [
    "df.head()"
   ]
  },
  {
   "cell_type": "code",
   "execution_count": 4,
   "id": "3141a0fe4f969ffb",
   "metadata": {
    "ExecuteTime": {
     "end_time": "2024-11-14T03:31:24.864507Z",
     "start_time": "2024-11-14T03:31:24.719892Z"
    }
   },
   "outputs": [
    {
     "name": "stdout",
     "output_type": "stream",
     "text": [
      "\u001b[1mINFO\u001b[0m | \u001b[36m__init__\u001b[0m | \u001b[1m[Data Loading]\u001b[0m\n",
      "\u001b[1mINFO\u001b[0m | \u001b[36msplit_train_valid_test\u001b[0m | \u001b[1m-> Shape Train: (75003, 20), Valid: (18751, 20), Test: (23439, 20)\u001b[0m\n"
     ]
    },
    {
     "data": {
      "image/png": "[encoded data removed]",
      "text/plain": [
       "<Figure size 800x400 with 1 Axes>"
      ]
     },
     "metadata": {},
     "output_type": "display_data"
    }
   ],
   "source": [
    "dist_check = TrainDistribution(df, labels)\n",
    "train, val, test = dist_check.split_train_valid_test(test_size=.2)\n",
    "dist_check.check()"
   ]
  },
  {
   "cell_type": "code",
   "execution_count": 5,
   "id": "caea919a0d113dad",
   "metadata": {
    "ExecuteTime": {
     "end_time": "2024-11-14T03:31:25.183181Z",
     "start_time": "2024-11-14T03:31:24.924441Z"
    }
   },
   "outputs": [
    {
     "name": "stdout",
     "output_type": "stream",
     "text": [
      "\u001b[1mINFO\u001b[0m | \u001b[36mdf_to_dataset\u001b[0m | \u001b[1m-> Show data example: 3\n",
      "        Train: {'comment_id': 15201669157, 'comment': 'kẹo ko giống với mô tả', 'category_product_quality': 0, 'category_pricing': 0, 'category_delivery_service': 0, 'category_packaging': 0, 'category_seller_service': 0, 'category_listing_accuracy': 1, 'category_order_accuracy': 0, 'category_irrelevant': 0, 'issue_product_quality': 0, 'issue_pricing': 0, 'issue_delivery_service': 0, 'issue_packaging': 0, 'issue_seller_service': 0, 'issue_listing_accuracy': 1, 'issue_order_accuracy': 0, 'issue_irrelevant': 0}\n",
      "        Test: {'comment_id': 15795193121, 'comment': 'dép mới đi đã bị mờ hết hình', 'category_product_quality': 1, 'category_pricing': 0, 'category_delivery_service': 0, 'category_packaging': 0, 'category_seller_service': 0, 'category_listing_accuracy': 0, 'category_order_accuracy': 0, 'category_irrelevant': 0, 'issue_product_quality': 1, 'issue_pricing': 0, 'issue_delivery_service': 0, 'issue_packaging': 0, 'issue_seller_service': 0, 'issue_listing_accuracy': 0, 'issue_order_accuracy': 0, 'issue_irrelevant': 0}\n",
      "        Val: {'comment_id': 7821903189, 'comment': 'Cần rất chất lượng rất khoẻ  mỗi tội giao hàng hơi lâu', 'category_product_quality': 1, 'category_pricing': 0, 'category_delivery_service': 1, 'category_packaging': 0, 'category_seller_service': 0, 'category_listing_accuracy': 0, 'category_order_accuracy': 0, 'category_irrelevant': 0, 'issue_product_quality': 0, 'issue_pricing': 0, 'issue_delivery_service': 1, 'issue_packaging': 0, 'issue_seller_service': 0, 'issue_listing_accuracy': 0, 'issue_order_accuracy': 0, 'issue_irrelevant': 0}\n",
      "\u001b[0m\n"
     ]
    },
    {
     "data": {
      "application/vnd.jupyter.widget-view+json": {
       "model_id": "4616be867afd4d798cd5f02a2d62afc8",
       "version_major": 2,
       "version_minor": 0
      },
      "text/plain": [
       "Saving the dataset (0/1 shards):   0%|          | 0/75003 [00:00<?, ? examples/s]"
      ]
     },
     "metadata": {},
     "output_type": "display_data"
    },
    {
     "data": {
      "application/vnd.jupyter.widget-view+json": {
       "model_id": "4fdcfddbb6ed4a6889fb71cc5ab4de1c",
       "version_major": 2,
       "version_minor": 0
      },
      "text/plain": [
       "Saving the dataset (0/1 shards):   0%|          | 0/23439 [00:00<?, ? examples/s]"
      ]
     },
     "metadata": {},
     "output_type": "display_data"
    },
    {
     "data": {
      "application/vnd.jupyter.widget-view+json": {
       "model_id": "46e182ff9dfb4c35b1b95ce11aa06320",
       "version_major": 2,
       "version_minor": 0
      },
      "text/plain": [
       "Saving the dataset (0/1 shards):   0%|          | 0/18751 [00:00<?, ? examples/s]"
      ]
     },
     "metadata": {},
     "output_type": "display_data"
    }
   ],
   "source": [
    "# col = ['comment_id', 'comment'] + labels\n",
    "col = ['comment_id', 'comment_clean'] + labels\n",
    "ds_train, ds_test, ds_val = dist_check.df_to_dataset(col, show_index=3, save_path=save_path)"
   ]
  },
  {
   "cell_type": "code",
   "execution_count": 6,
   "id": "b2eac46ceb101c5d",
   "metadata": {
    "ExecuteTime": {
     "end_time": "2024-11-14T03:31:25.781888Z",
     "start_time": "2024-11-14T03:31:25.245940Z"
    }
   },
   "outputs": [],
   "source": [
    "pretrain_name = 'bkai-foundation-models/vietnamese-bi-encoder'\n",
    "tokenizer = AutoTokenizer.from_pretrained(pretrain_name)"
   ]
  },
  {
   "cell_type": "code",
   "execution_count": 7,
   "id": "81fa6f61dd77779f",
   "metadata": {
    "ExecuteTime": {
     "end_time": "2024-11-14T03:31:30.872521Z",
     "start_time": "2024-11-14T03:31:25.786538Z"
    }
   },
   "outputs": [
    {
     "data": {
      "application/vnd.jupyter.widget-view+json": {
       "model_id": "8a290271e4844f30ae0533321054435d",
       "version_major": 2,
       "version_minor": 0
      },
      "text/plain": [
       "Map:   0%|          | 0/75003 [00:00<?, ? examples/s]"
      ]
     },
     "metadata": {},
     "output_type": "display_data"
    },
    {
     "data": {
      "application/vnd.jupyter.widget-view+json": {
       "model_id": "e4d66a0a706548fb9349689c4e40a09c",
       "version_major": 2,
       "version_minor": 0
      },
      "text/plain": [
       "Map:   0%|          | 0/18751 [00:00<?, ? examples/s]"
      ]
     },
     "metadata": {},
     "output_type": "display_data"
    },
    {
     "data": {
      "application/vnd.jupyter.widget-view+json": {
       "model_id": "881f6e3ca72041078705c8bea11a8778",
       "version_major": 2,
       "version_minor": 0
      },
      "text/plain": [
       "Map:   0%|          | 0/23439 [00:00<?, ? examples/s]"
      ]
     },
     "metadata": {},
     "output_type": "display_data"
    },
    {
     "name": "stdout",
     "output_type": "stream",
     "text": [
      "\u001b[1mINFO\u001b[0m | \u001b[36mdataset_to_train\u001b[0m | \u001b[1m-> Show token example: 0\n",
      "        Keys: dict_keys(['input_ids', 'token_type_ids', 'attention_mask', 'labels'])\n",
      "        Token: <s> Rất khó chịu khi mà ship giao hàng không lấy một cuộc gọi nào. Lỡ giao nhầm, giao sai thì mất công, rất phiền. Đơn thứ 2 rồi mà vẫn vậy. </s> <pad> <pad> <pad> <pad> <pad> <pad> <pad> <pad>\n",
      "        Labels: ['category_delivery_service', 'issue_delivery_service']\n",
      "\u001b[0m\n"
     ]
    }
   ],
   "source": [
    "train_encoded_dataset, test_encoded_dataset, val_encoded_dataset = dist_check.dataset_to_train(tokenizer)"
   ]
  },
  {
   "cell_type": "code",
   "execution_count": 8,
   "id": "d28e5f55ac36a705",
   "metadata": {
    "ExecuteTime": {
     "end_time": "2024-11-14T03:34:04.800201Z",
     "start_time": "2024-11-14T03:31:30.940376Z"
    }
   },
   "outputs": [
    {
     "name": "stdout",
     "output_type": "stream",
     "text": [
      "\u001b[1mINFO\u001b[0m | \u001b[36m_load_model\u001b[0m | \u001b[1mPretrain: bkai-foundation-models/vietnamese-bi-encoder\u001b[0m\n"
     ]
    },
    {
     "name": "stderr",
     "output_type": "stream",
     "text": [
      "Some weights of RobertaForSequenceClassification were not initialized from the model checkpoint at bkai-foundation-models/vietnamese-bi-encoder and are newly initialized: ['classifier.dense.bias', 'classifier.dense.weight', 'classifier.out_proj.bias', 'classifier.out_proj.weight']\n",
      "You should probably TRAIN this model on a down-stream task to be able to use it for predictions and inference.\n"
     ]
    },
    {
     "data": {
      "text/html": [
       "\n",
       "    <div>\n",
       "      \n",
       "      <progress value='735' max='735' style='width:300px; height:20px; vertical-align: middle;'></progress>\n",
       "      [735/735 02:54, Epoch 5/5]\n",
       "    </div>\n",
       "    <table border=\"1\" class=\"dataframe\">\n",
       "  <thead>\n",
       " <tr style=\"text-align: left;\">\n",
       "      <th>Step</th>\n",
       "      <th>Training Loss</th>\n",
       "      <th>Validation Loss</th>\n",
       "      <th>F1</th>\n",
       "      <th>Roc Auc</th>\n",
       "      <th>Accuracy</th>\n",
       "    </tr>\n",
       "  </thead>\n",
       "  <tbody>\n",
       "    <tr>\n",
       "      <td>100</td>\n",
       "      <td>0.450300</td>\n",
       "      <td>0.292557</td>\n",
       "      <td>0.674493</td>\n",
       "      <td>0.780436</td>\n",
       "      <td>0.209056</td>\n",
       "    </tr>\n",
       "    <tr>\n",
       "      <td>200</td>\n",
       "      <td>0.237100</td>\n",
       "      <td>0.191585</td>\n",
       "      <td>0.822158</td>\n",
       "      <td>0.885732</td>\n",
       "      <td>0.460455</td>\n",
       "    </tr>\n",
       "    <tr>\n",
       "      <td>300</td>\n",
       "      <td>0.176600</td>\n",
       "      <td>0.160077</td>\n",
       "      <td>0.846943</td>\n",
       "      <td>0.901716</td>\n",
       "      <td>0.524932</td>\n",
       "    </tr>\n",
       "    <tr>\n",
       "      <td>400</td>\n",
       "      <td>0.146300</td>\n",
       "      <td>0.148285</td>\n",
       "      <td>0.855094</td>\n",
       "      <td>0.907395</td>\n",
       "      <td>0.545144</td>\n",
       "    </tr>\n",
       "    <tr>\n",
       "      <td>500</td>\n",
       "      <td>0.130100</td>\n",
       "      <td>0.142953</td>\n",
       "      <td>0.859872</td>\n",
       "      <td>0.909009</td>\n",
       "      <td>0.564343</td>\n",
       "    </tr>\n",
       "    <tr>\n",
       "      <td>600</td>\n",
       "      <td>0.120300</td>\n",
       "      <td>0.141290</td>\n",
       "      <td>0.861063</td>\n",
       "      <td>0.911076</td>\n",
       "      <td>0.564663</td>\n",
       "    </tr>\n",
       "    <tr>\n",
       "      <td>700</td>\n",
       "      <td>0.112600</td>\n",
       "      <td>0.141042</td>\n",
       "      <td>0.861522</td>\n",
       "      <td>0.911720</td>\n",
       "      <td>0.567543</td>\n",
       "    </tr>\n",
       "  </tbody>\n",
       "</table><p>"
      ],
      "text/plain": [
       "<IPython.core.display.HTML object>"
      ]
     },
     "metadata": {},
     "output_type": "display_data"
    },
    {
     "name": "stdout",
     "output_type": "stream",
     "text": [
      "***** train metrics *****\n",
      "  epoch                    =        5.0\n",
      "  total_flos               =  8975166GF\n",
      "  train_loss               =     0.1921\n",
      "  train_runtime            = 0:02:54.94\n",
      "  train_samples_per_second =   2143.632\n",
      "  train_steps_per_second   =      4.201\n"
     ]
    }
   ],
   "source": [
    "pipe = Pipeline(pretrain_name=pretrain_name, id2label=dist_check.id2label, label2id=dist_check.label2id)\n",
    "\n",
    "time_now = datetime.now().strftime('%Y-%m-%d %H:%M:%S')\n",
    "folder = path / f'model_multi_labels_all/{pretrain_name.split('/')[-1]}/{time_now}'\n",
    "config = dict(    \n",
    "    log_step=100,\n",
    "    num_train_epochs=5,\n",
    "    learning_rate=1e-4,\n",
    ")\n",
    "trainer = pipe.train(\n",
    "    folder=folder, \n",
    "    train=train_encoded_dataset,\n",
    "    val=val_encoded_dataset,\n",
    "    **config\n",
    ")"
   ]
  },
  {
   "cell_type": "code",
   "execution_count": 9,
   "id": "4bbddaead96ca20c",
   "metadata": {
    "ExecuteTime": {
     "end_time": "2024-11-14T03:36:41.624811Z",
     "start_time": "2024-11-14T03:36:39.590274Z"
    }
   },
   "outputs": [
    {
     "data": {
      "text/html": [],
      "text/plain": [
       "<IPython.core.display.HTML object>"
      ]
     },
     "metadata": {},
     "output_type": "display_data"
    },
    {
     "name": "stdout",
     "output_type": "stream",
     "text": [
      "                           precision    recall  f1-score   support\n",
      "\n",
      " category_product_quality       0.89      0.93      0.91     11787\n",
      "         category_pricing       0.86      0.74      0.79      4673\n",
      "category_delivery_service       0.92      0.92      0.92      4004\n",
      "       category_packaging       0.84      0.86      0.85      2726\n",
      "  category_seller_service       0.79      0.77      0.78      3006\n",
      "category_listing_accuracy       0.83      0.83      0.83      4149\n",
      "  category_order_accuracy       0.84      0.80      0.82      2798\n",
      "      category_irrelevant       0.85      0.77      0.80      1626\n",
      "    issue_product_quality       0.86      0.87      0.87      5604\n",
      "            issue_pricing       0.63      0.22      0.33       206\n",
      "   issue_delivery_service       0.82      0.79      0.80       817\n",
      "          issue_packaging       0.72      0.68      0.70       568\n",
      "     issue_seller_service       0.80      0.77      0.79      1054\n",
      "   issue_listing_accuracy       0.78      0.73      0.75      2236\n",
      "     issue_order_accuracy       0.85      0.82      0.84      2621\n",
      "         issue_irrelevant       0.93      0.92      0.93     10211\n",
      "\n",
      "                micro avg       0.87      0.85      0.86     58086\n",
      "                macro avg       0.83      0.78      0.79     58086\n",
      "             weighted avg       0.87      0.85      0.86     58086\n",
      "              samples avg       0.88      0.87      0.86     58086\n",
      "\n",
      "{'test_loss': 0.14104154706001282, 'test_f1': 0.861522171207374, 'test_roc_auc': 0.9117196328201187, 'test_accuracy': 0.5675430643699003, 'test_runtime': 2.8692, 'test_samples_per_second': 6535.321, 'test_steps_per_second': 102.12}\n"
     ]
    },
    {
     "name": "stderr",
     "output_type": "stream",
     "text": [
      "/home/kevin/miniforge3/envs/llm/lib/python3.12/site-packages/sklearn/metrics/_classification.py:1531: UndefinedMetricWarning: Precision is ill-defined and being set to 0.0 in samples with no predicted labels. Use `zero_division` parameter to control this behavior.\n",
      "  _warn_prf(average, modifier, f\"{metric.capitalize()} is\", len(result))\n",
      "/home/kevin/miniforge3/envs/llm/lib/python3.12/site-packages/sklearn/metrics/_classification.py:1531: UndefinedMetricWarning: Recall is ill-defined and being set to 0.0 in samples with no true labels. Use `zero_division` parameter to control this behavior.\n",
      "  _warn_prf(average, modifier, f\"{metric.capitalize()} is\", len(result))\n"
     ]
    }
   ],
   "source": [
    "valid_result = trainer.predict(val_encoded_dataset)\n",
    "valid_report = MultiLabels().classification_report_html(\n",
    "    result=valid_result.predictions, \n",
    "    labels=valid_result.label_ids, \n",
    "    target_names=labels, \n",
    "    show=True\n",
    ")"
   ]
  },
  {
   "cell_type": "code",
   "execution_count": 12,
   "id": "69eabe2c255972",
   "metadata": {
    "ExecuteTime": {
     "end_time": "2024-11-14T03:36:43.754741Z",
     "start_time": "2024-11-14T03:36:41.738517Z"
    }
   },
   "outputs": [
    {
     "data": {
      "text/html": [],
      "text/plain": [
       "<IPython.core.display.HTML object>"
      ]
     },
     "metadata": {},
     "output_type": "display_data"
    },
    {
     "name": "stdout",
     "output_type": "stream",
     "text": [
      "                           precision    recall  f1-score   support\n",
      "\n",
      " category_product_quality       0.89      0.93      0.91     14648\n",
      "         category_pricing       0.85      0.73      0.79      5820\n",
      "category_delivery_service       0.91      0.92      0.92      4928\n",
      "       category_packaging       0.85      0.86      0.86      3381\n",
      "  category_seller_service       0.79      0.76      0.77      3729\n",
      "category_listing_accuracy       0.83      0.82      0.83      5205\n",
      "  category_order_accuracy       0.83      0.80      0.81      3600\n",
      "      category_irrelevant       0.83      0.74      0.79      2071\n",
      "    issue_product_quality       0.84      0.86      0.85      6769\n",
      "            issue_pricing       0.74      0.23      0.35       314\n",
      "   issue_delivery_service       0.82      0.74      0.78      1044\n",
      "          issue_packaging       0.73      0.69      0.71       718\n",
      "     issue_seller_service       0.79      0.77      0.78      1242\n",
      "   issue_listing_accuracy       0.79      0.72      0.76      2833\n",
      "     issue_order_accuracy       0.85      0.82      0.83      3367\n",
      "         issue_irrelevant       0.93      0.92      0.92     12914\n",
      "\n",
      "                micro avg       0.87      0.85      0.86     72583\n",
      "                macro avg       0.83      0.77      0.79     72583\n",
      "             weighted avg       0.86      0.85      0.85     72583\n",
      "              samples avg       0.88      0.86      0.86     72583\n",
      "\n",
      "{'test_loss': 0.1450926512479782, 'test_f1': 0.8566956521739131, 'test_roc_auc': 0.9083119330379416, 'test_accuracy': 0.5559964162293614, 'test_runtime': 3.6169, 'test_samples_per_second': 6480.452, 'test_steps_per_second': 101.469}\n"
     ]
    },
    {
     "name": "stderr",
     "output_type": "stream",
     "text": [
      "/home/kevin/miniforge3/envs/llm/lib/python3.12/site-packages/sklearn/metrics/_classification.py:1531: UndefinedMetricWarning: Precision is ill-defined and being set to 0.0 in samples with no predicted labels. Use `zero_division` parameter to control this behavior.\n",
      "  _warn_prf(average, modifier, f\"{metric.capitalize()} is\", len(result))\n",
      "/home/kevin/miniforge3/envs/llm/lib/python3.12/site-packages/sklearn/metrics/_classification.py:1531: UndefinedMetricWarning: Recall is ill-defined and being set to 0.0 in samples with no true labels. Use `zero_division` parameter to control this behavior.\n",
      "  _warn_prf(average, modifier, f\"{metric.capitalize()} is\", len(result))\n"
     ]
    }
   ],
   "source": [
    "test_result = trainer.predict(test_encoded_dataset)\n",
    "test_report = MultiLabels().classification_report_html(\n",
    "    result=test_result.predictions, \n",
    "    labels=test_result.label_ids, \n",
    "    target_names=labels, \n",
    "    show=True\n",
    ")"
   ]
  },
  {
   "cell_type": "code",
   "execution_count": null,
   "id": "1e43d3df-3bf1-41c6-be1b-de2bbf0afc2f",
   "metadata": {},
   "outputs": [],
   "source": []
  },
  {
   "cell_type": "code",
   "execution_count": 11,
   "id": "1564161bfa479ba7",
   "metadata": {
    "ExecuteTime": {
     "end_time": "2024-11-14T03:34:08.524161Z",
     "start_time": "2024-11-14T03:34:08.522385Z"
    }
   },
   "outputs": [],
   "source": [
    "path_md = str(path / f'model_multi_labels_all/{pretrain_name.split('/')[-1]}/result_{time_now}.md')\n",
    "export_to_md(path_md, config, valid_report, test_report)"
   ]
  },
  {
   "cell_type": "code",
   "execution_count": 18,
   "id": "40e666a1-cef6-46b5-aa1b-5dfa931a9dd1",
   "metadata": {},
   "outputs": [
    {
     "data": {
      "text/plain": [
       "array([[0., 1., 1., ..., 0., 0., 1.],\n",
       "       [1., 0., 0., ..., 0., 0., 0.],\n",
       "       [0., 0., 0., ..., 0., 1., 1.],\n",
       "       ...,\n",
       "       [1., 0., 0., ..., 0., 0., 0.],\n",
       "       [1., 0., 1., ..., 1., 0., 0.],\n",
       "       [1., 0., 0., ..., 0., 0., 0.]])"
      ]
     },
     "execution_count": 18,
     "metadata": {},
     "output_type": "execute_result"
    }
   ],
   "source": [
    "output_test = MultiLabels().post_process(test_result.predictions)\n",
    "output_test"
   ]
  },
  {
   "cell_type": "code",
   "execution_count": 17,
   "id": "5202bbf4-01d5-491a-a26d-f0e0251828b8",
   "metadata": {},
   "outputs": [
    {
     "data": {
      "text/plain": [
       "array([[1., 1., 0., ..., 1., 0., 0.],\n",
       "       [1., 0., 0., ..., 0., 0., 0.],\n",
       "       [1., 0., 0., ..., 1., 0., 0.],\n",
       "       ...,\n",
       "       [1., 0., 0., ..., 0., 0., 0.],\n",
       "       [1., 0., 0., ..., 1., 0., 0.],\n",
       "       [1., 0., 0., ..., 0., 0., 0.]], dtype=float32)"
      ]
     },
     "execution_count": 17,
     "metadata": {},
     "output_type": "execute_result"
    }
   ],
   "source": [
    "test_result.label_ids"
   ]
  },
  {
   "cell_type": "code",
   "execution_count": 40,
   "id": "df25028a-2e3f-4c5f-912b-9ad56e300249",
   "metadata": {},
   "outputs": [
    {
     "data": {
      "text/plain": [
       "array([False,  True, False, ...,  True, False,  True])"
      ]
     },
     "execution_count": 40,
     "metadata": {},
     "output_type": "execute_result"
    }
   ],
   "source": [
    "import numpy as np\n",
    "allcheck = np.all(output_test == test_result.label_ids, axis=1)\n",
    "allcheck"
   ]
  },
  {
   "cell_type": "code",
   "execution_count": 51,
   "id": "7bdfcc29-074a-4f03-a009-0cdb0c5c8b67",
   "metadata": {},
   "outputs": [],
   "source": [
    "def post_process_report_view(data: pl.DataFrame, labels_name: list, columns_name: str):\n",
    "    return (\n",
    "        data.with_columns(\n",
    "            pl.when(pl.col(i) == 1).then(pl.lit(i)).otherwise(None).alias(i)\n",
    "            for i in labels\n",
    "        )\n",
    "        .with_columns(\n",
    "            pl.concat_list(labels).list.join('\\n').alias(columns_name)\n",
    "        )\n",
    "    )"
   ]
  },
  {
   "cell_type": "code",
   "execution_count": 52,
   "id": "b0f15284-5941-4992-bd0b-3457bf0209f2",
   "metadata": {},
   "outputs": [],
   "source": [
    "report_test_pred = (\n",
    "    pl.DataFrame(output_test, schema=labels)\n",
    "    .pipe(post_process_report_view, labels_name=labels, columns_name='pred_labels')\n",
    "    .with_columns(pl.Series('all_labels', allcheck))\n",
    "    .drop(labels)\n",
    ")"
   ]
  },
  {
   "cell_type": "code",
   "execution_count": 53,
   "id": "937faa8c4fe74ef0",
   "metadata": {
    "ExecuteTime": {
     "end_time": "2024-11-14T03:34:08.563887Z",
     "start_time": "2024-11-14T03:34:08.562850Z"
    }
   },
   "outputs": [],
   "source": [
    "report_test_truth = (\n",
    "    test\n",
    "    .pipe(post_process_report_view, labels_name=labels, columns_name='ground_truth')\n",
    ")\n",
    "report = pl.concat([report_test_truth, report_test_pred], how='horizontal')"
   ]
  },
  {
   "cell_type": "code",
   "execution_count": 54,
   "id": "47849c97-45a1-43a4-9bac-0eab5db4999a",
   "metadata": {},
   "outputs": [
    {
     "data": {
      "text/html": [
       "<div><style>\n",
       ".dataframe > thead > tr,\n",
       ".dataframe > tbody > tr {\n",
       "  text-align: right;\n",
       "  white-space: pre-wrap;\n",
       "}\n",
       "</style>\n",
       "<small>shape: (23_439, 23)</small><table border=\"1\" class=\"dataframe\"><thead><tr><th>item_id</th><th>item_name</th><th>comment_id</th><th>comment</th><th>category_product_quality</th><th>category_pricing</th><th>category_delivery_service</th><th>category_packaging</th><th>category_seller_service</th><th>category_listing_accuracy</th><th>category_order_accuracy</th><th>category_irrelevant</th><th>issue_product_quality</th><th>issue_pricing</th><th>issue_delivery_service</th><th>issue_packaging</th><th>issue_seller_service</th><th>issue_listing_accuracy</th><th>issue_order_accuracy</th><th>issue_irrelevant</th><th>ground_truth</th><th>pred_labels</th><th>all_labels</th></tr><tr><td>i64</td><td>str</td><td>u64</td><td>str</td><td>str</td><td>str</td><td>str</td><td>str</td><td>str</td><td>str</td><td>str</td><td>str</td><td>str</td><td>str</td><td>str</td><td>str</td><td>str</td><td>str</td><td>str</td><td>str</td><td>str</td><td>str</td><td>bool</td></tr></thead><tbody><tr><td>23786333770</td><td>&quot;ĐẦM DAI DÂY FOM XOÈ NHẸ NHÀNG …</td><td>15183300447</td><td>&quot;Màu sắc:dden\n",
       "Chất liệu:vair co…</td><td>&quot;category_product_quality&quot;</td><td>&quot;category_pricing&quot;</td><td>null</td><td>null</td><td>null</td><td>&quot;category_listing_accuracy&quot;</td><td>null</td><td>null</td><td>null</td><td>null</td><td>null</td><td>null</td><td>null</td><td>&quot;issue_listing_accuracy&quot;</td><td>null</td><td>null</td><td>&quot;category_product_quality\n",
       "categ…</td><td>&quot;category_pricing\n",
       "category_deli…</td><td>false</td></tr><tr><td>25204390241</td><td>&quot;Mascara Màu Đen Chuốt Dài Mi C…</td><td>15907207474</td><td>&quot;Độ bền màu:mãi không khô được …</td><td>&quot;category_product_quality&quot;</td><td>null</td><td>null</td><td>null</td><td>null</td><td>null</td><td>null</td><td>null</td><td>&quot;issue_product_quality&quot;</td><td>null</td><td>null</td><td>null</td><td>null</td><td>null</td><td>null</td><td>null</td><td>&quot;category_product_quality\n",
       "issue…</td><td>&quot;category_product_quality\n",
       "issue…</td><td>true</td></tr><tr><td>5142949381</td><td>&quot;Cốm dẹp xanh làm chả, chiên tô…</td><td>12956349018</td><td>&quot;Chỉ toàn là màu&quot;</td><td>&quot;category_product_quality&quot;</td><td>null</td><td>null</td><td>null</td><td>null</td><td>&quot;category_listing_accuracy&quot;</td><td>null</td><td>null</td><td>null</td><td>null</td><td>null</td><td>null</td><td>null</td><td>&quot;issue_listing_accuracy&quot;</td><td>null</td><td>null</td><td>&quot;category_product_quality\n",
       "categ…</td><td>&quot;category_order_accuracy\n",
       "issue_…</td><td>false</td></tr><tr><td>25812730276</td><td>&quot;Dép Nam Mùa Hè Chống Trơn Trượ…</td><td>15795193121</td><td>&quot;dép mới đi đã bị mờ hết hình&quot;</td><td>&quot;category_product_quality&quot;</td><td>null</td><td>null</td><td>null</td><td>null</td><td>null</td><td>null</td><td>null</td><td>&quot;issue_product_quality&quot;</td><td>null</td><td>null</td><td>null</td><td>null</td><td>null</td><td>null</td><td>null</td><td>&quot;category_product_quality\n",
       "issue…</td><td>&quot;category_product_quality\n",
       "categ…</td><td>false</td></tr><tr><td>7816164195</td><td>&quot;Toàn Quốc [E-Voucher] NOW Giảm…</td><td>2136096275</td><td>&quot;Giá rẻ giá rẻ Giá rẻ giá rẻ Gi…</td><td>null</td><td>&quot;category_pricing&quot;</td><td>null</td><td>null</td><td>null</td><td>null</td><td>null</td><td>null</td><td>null</td><td>null</td><td>null</td><td>null</td><td>null</td><td>null</td><td>null</td><td>&quot;issue_irrelevant&quot;</td><td>&quot;category_pricing\n",
       "issue_irrelev…</td><td>&quot;category_pricing\n",
       "issue_irrelev…</td><td>true</td></tr><tr><td>&hellip;</td><td>&hellip;</td><td>&hellip;</td><td>&hellip;</td><td>&hellip;</td><td>&hellip;</td><td>&hellip;</td><td>&hellip;</td><td>&hellip;</td><td>&hellip;</td><td>&hellip;</td><td>&hellip;</td><td>&hellip;</td><td>&hellip;</td><td>&hellip;</td><td>&hellip;</td><td>&hellip;</td><td>&hellip;</td><td>&hellip;</td><td>&hellip;</td><td>&hellip;</td><td>&hellip;</td><td>&hellip;</td></tr><tr><td>4780786068</td><td>&quot;[CÓ SẴN] Vòng Tay Cuff CK Nam …</td><td>5274985979</td><td>&quot;Xinhh lắm nha mn nên muaaa \n",
       "Gi…</td><td>null</td><td>&quot;category_pricing&quot;</td><td>&quot;category_delivery_service&quot;</td><td>null</td><td>null</td><td>null</td><td>null</td><td>null</td><td>null</td><td>null</td><td>null</td><td>null</td><td>null</td><td>null</td><td>null</td><td>&quot;issue_irrelevant&quot;</td><td>&quot;category_pricing\n",
       "category_deli…</td><td>&quot;category_delivery_service\n",
       "issu…</td><td>false</td></tr><tr><td>23545649197</td><td>&quot;Derf Cọ Tô Son Môi Cán Ngắn Có…</td><td>14721904548</td><td>&quot;Bao bì/Mẫu mã:màu hồng và trắn…</td><td>&quot;category_product_quality&quot;</td><td>null</td><td>null</td><td>&quot;category_packaging&quot;</td><td>null</td><td>null</td><td>null</td><td>null</td><td>&quot;issue_product_quality&quot;</td><td>null</td><td>null</td><td>null</td><td>null</td><td>null</td><td>null</td><td>null</td><td>&quot;category_product_quality\n",
       "categ…</td><td>&quot;category_product_quality\n",
       "categ…</td><td>false</td></tr><tr><td>6629562971</td><td>&quot;BALO ULZZANG BASIC ( chống nướ…</td><td>8912371264</td><td>&quot;Chất lượng sản phẩm khá ổn mà …</td><td>&quot;category_product_quality&quot;</td><td>null</td><td>null</td><td>null</td><td>&quot;category_seller_service&quot;</td><td>null</td><td>null</td><td>null</td><td>null</td><td>null</td><td>null</td><td>null</td><td>&quot;issue_seller_service&quot;</td><td>null</td><td>null</td><td>null</td><td>&quot;category_product_quality\n",
       "categ…</td><td>&quot;category_product_quality\n",
       "categ…</td><td>true</td></tr><tr><td>5712420542</td><td>&quot;TÚI XÁCH MINI DÂY XÍCH ĐẸP - C…</td><td>2913063457</td><td>&quot;Túi to k bé như ảnh\n",
       "Chất k bón…</td><td>&quot;category_product_quality&quot;</td><td>null</td><td>null</td><td>&quot;category_packaging&quot;</td><td>null</td><td>&quot;category_listing_accuracy&quot;</td><td>null</td><td>null</td><td>&quot;issue_product_quality&quot;</td><td>null</td><td>null</td><td>null</td><td>null</td><td>&quot;issue_listing_accuracy&quot;</td><td>null</td><td>null</td><td>&quot;category_product_quality\n",
       "categ…</td><td>&quot;category_product_quality\n",
       "categ…</td><td>false</td></tr><tr><td>14980768992</td><td>&quot;[SÁP 1K] Hộp sáp thơm phòng hư…</td><td>13368045619</td><td>&quot;Sáp thơm mà hôi vl.. mùi dị vc&quot;</td><td>&quot;category_product_quality&quot;</td><td>null</td><td>null</td><td>null</td><td>null</td><td>null</td><td>null</td><td>null</td><td>&quot;issue_product_quality&quot;</td><td>null</td><td>null</td><td>null</td><td>null</td><td>null</td><td>null</td><td>null</td><td>&quot;category_product_quality\n",
       "issue…</td><td>&quot;category_product_quality\n",
       "issue…</td><td>true</td></tr></tbody></table></div>"
      ],
      "text/plain": [
       "shape: (23_439, 23)\n",
       "┌───────────┬───────────┬───────────┬───────────┬───┬───────────┬───────────┬───────────┬──────────┐\n",
       "│ item_id   ┆ item_name ┆ comment_i ┆ comment   ┆ … ┆ issue_irr ┆ ground_tr ┆ pred_labe ┆ all_labe │\n",
       "│ ---       ┆ ---       ┆ d         ┆ ---       ┆   ┆ elevant   ┆ uth       ┆ ls        ┆ ls       │\n",
       "│ i64       ┆ str       ┆ ---       ┆ str       ┆   ┆ ---       ┆ ---       ┆ ---       ┆ ---      │\n",
       "│           ┆           ┆ u64       ┆           ┆   ┆ str       ┆ str       ┆ str       ┆ bool     │\n",
       "╞═══════════╪═══════════╪═══════════╪═══════════╪═══╪═══════════╪═══════════╪═══════════╪══════════╡\n",
       "│ 237863337 ┆ ĐẦM DAI   ┆ 151833004 ┆ Màu       ┆ … ┆ null      ┆ category_ ┆ category_ ┆ false    │\n",
       "│ 70        ┆ DÂY FOM   ┆ 47        ┆ sắc:dden  ┆   ┆           ┆ product_q ┆ pricing   ┆          │\n",
       "│           ┆ XOÈ NHẸ   ┆           ┆ Chất      ┆   ┆           ┆ uality    ┆ category_ ┆          │\n",
       "│           ┆ NHÀNG …   ┆           ┆ liệu:vair ┆   ┆           ┆ categ…    ┆ deli…     ┆          │\n",
       "│           ┆           ┆           ┆ co…       ┆   ┆           ┆           ┆           ┆          │\n",
       "│ 252043902 ┆ Mascara   ┆ 159072074 ┆ Độ bền    ┆ … ┆ null      ┆ category_ ┆ category_ ┆ true     │\n",
       "│ 41        ┆ Màu Đen   ┆ 74        ┆ màu:mãi   ┆   ┆           ┆ product_q ┆ product_q ┆          │\n",
       "│           ┆ Chuốt Dài ┆           ┆ không khô ┆   ┆           ┆ uality    ┆ uality    ┆          │\n",
       "│           ┆ Mi C…     ┆           ┆ được …    ┆   ┆           ┆ issue…    ┆ issue…    ┆          │\n",
       "│ 514294938 ┆ Cốm dẹp   ┆ 129563490 ┆ Chỉ toàn  ┆ … ┆ null      ┆ category_ ┆ category_ ┆ false    │\n",
       "│ 1         ┆ xanh làm  ┆ 18        ┆ là màu    ┆   ┆           ┆ product_q ┆ order_acc ┆          │\n",
       "│           ┆ chả,      ┆           ┆           ┆   ┆           ┆ uality    ┆ uracy     ┆          │\n",
       "│           ┆ chiên tô… ┆           ┆           ┆   ┆           ┆ categ…    ┆ issue_…   ┆          │\n",
       "│ 258127302 ┆ Dép Nam   ┆ 157951931 ┆ dép mới   ┆ … ┆ null      ┆ category_ ┆ category_ ┆ false    │\n",
       "│ 76        ┆ Mùa Hè    ┆ 21        ┆ đi đã bị  ┆   ┆           ┆ product_q ┆ product_q ┆          │\n",
       "│           ┆ Chống     ┆           ┆ mờ hết    ┆   ┆           ┆ uality    ┆ uality    ┆          │\n",
       "│           ┆ Trơn      ┆           ┆ hình      ┆   ┆           ┆ issue…    ┆ categ…    ┆          │\n",
       "│           ┆ Trượ…     ┆           ┆           ┆   ┆           ┆           ┆           ┆          │\n",
       "│ 781616419 ┆ Toàn Quốc ┆ 213609627 ┆ Giá rẻ    ┆ … ┆ issue_irr ┆ category_ ┆ category_ ┆ true     │\n",
       "│ 5         ┆ [E-Vouche ┆ 5         ┆ giá rẻ    ┆   ┆ elevant   ┆ pricing   ┆ pricing   ┆          │\n",
       "│           ┆ r] NOW    ┆           ┆ Giá rẻ    ┆   ┆           ┆ issue_irr ┆ issue_irr ┆          │\n",
       "│           ┆ Giảm…     ┆           ┆ giá rẻ    ┆   ┆           ┆ elev…     ┆ elev…     ┆          │\n",
       "│           ┆           ┆           ┆ Gi…       ┆   ┆           ┆           ┆           ┆          │\n",
       "│ …         ┆ …         ┆ …         ┆ …         ┆ … ┆ …         ┆ …         ┆ …         ┆ …        │\n",
       "│ 478078606 ┆ [CÓ SẴN]  ┆ 527498597 ┆ Xinhh lắm ┆ … ┆ issue_irr ┆ category_ ┆ category_ ┆ false    │\n",
       "│ 8         ┆ Vòng Tay  ┆ 9         ┆ nha mn    ┆   ┆ elevant   ┆ pricing   ┆ delivery_ ┆          │\n",
       "│           ┆ Cuff CK   ┆           ┆ nên muaaa ┆   ┆           ┆ category_ ┆ service   ┆          │\n",
       "│           ┆ Nam …     ┆           ┆ Gi…       ┆   ┆           ┆ deli…     ┆ issu…     ┆          │\n",
       "│ 235456491 ┆ Derf Cọ   ┆ 147219045 ┆ Bao       ┆ … ┆ null      ┆ category_ ┆ category_ ┆ false    │\n",
       "│ 97        ┆ Tô Son    ┆ 48        ┆ bì/Mẫu    ┆   ┆           ┆ product_q ┆ product_q ┆          │\n",
       "│           ┆ Môi Cán   ┆           ┆ mã:màu    ┆   ┆           ┆ uality    ┆ uality    ┆          │\n",
       "│           ┆ Ngắn Có…  ┆           ┆ hồng và   ┆   ┆           ┆ categ…    ┆ categ…    ┆          │\n",
       "│           ┆           ┆           ┆ trắn…     ┆   ┆           ┆           ┆           ┆          │\n",
       "│ 662956297 ┆ BALO      ┆ 891237126 ┆ Chất      ┆ … ┆ null      ┆ category_ ┆ category_ ┆ true     │\n",
       "│ 1         ┆ ULZZANG   ┆ 4         ┆ lượng sản ┆   ┆           ┆ product_q ┆ product_q ┆          │\n",
       "│           ┆ BASIC (   ┆           ┆ phẩm khá  ┆   ┆           ┆ uality    ┆ uality    ┆          │\n",
       "│           ┆ chống     ┆           ┆ ổn mà …   ┆   ┆           ┆ categ…    ┆ categ…    ┆          │\n",
       "│           ┆ nướ…      ┆           ┆           ┆   ┆           ┆           ┆           ┆          │\n",
       "│ 571242054 ┆ TÚI XÁCH  ┆ 291306345 ┆ Túi to k  ┆ … ┆ null      ┆ category_ ┆ category_ ┆ false    │\n",
       "│ 2         ┆ MINI DÂY  ┆ 7         ┆ bé như    ┆   ┆           ┆ product_q ┆ product_q ┆          │\n",
       "│           ┆ XÍCH ĐẸP  ┆           ┆ ảnh       ┆   ┆           ┆ uality    ┆ uality    ┆          │\n",
       "│           ┆ - C…      ┆           ┆ Chất k    ┆   ┆           ┆ categ…    ┆ categ…    ┆          │\n",
       "│           ┆           ┆           ┆ bón…      ┆   ┆           ┆           ┆           ┆          │\n",
       "│ 149807689 ┆ [SÁP 1K]  ┆ 133680456 ┆ Sáp thơm  ┆ … ┆ null      ┆ category_ ┆ category_ ┆ true     │\n",
       "│ 92        ┆ Hộp sáp   ┆ 19        ┆ mà hôi    ┆   ┆           ┆ product_q ┆ product_q ┆          │\n",
       "│           ┆ thơm      ┆           ┆ vl.. mùi  ┆   ┆           ┆ uality    ┆ uality    ┆          │\n",
       "│           ┆ phòng hư… ┆           ┆ dị vc     ┆   ┆           ┆ issue…    ┆ issue…    ┆          │\n",
       "└───────────┴───────────┴───────────┴───────────┴───┴───────────┴───────────┴───────────┴──────────┘"
      ]
     },
     "execution_count": 54,
     "metadata": {},
     "output_type": "execute_result"
    }
   ],
   "source": [
    "report"
   ]
  },
  {
   "cell_type": "code",
   "execution_count": 59,
   "id": "bf0ca8a1-0d3b-4cad-b257-4b0fa1e32ae8",
   "metadata": {},
   "outputs": [
    {
     "name": "stdout",
     "output_type": "stream",
     "text": [
      "\u001b[32m13:58:11\u001b[0m | \u001b[1m\u001b[92m🐶 Sheet:\u001b[39m Update values at: test!A1:W\u001b[0m\n"
     ]
    }
   ],
   "source": [
    "sh = '1ZEPo6kkI1zc_H-WTA5CoEYsbOjsXicrRAACaCjM6D2U'\n",
    "update_df(report, 'test', sh)"
   ]
  },
  {
   "cell_type": "code",
   "execution_count": 57,
   "id": "aa8c19c8-e188-4526-850e-6a23120836a5",
   "metadata": {},
   "outputs": [
    {
     "data": {
      "text/html": [
       "<div><style>\n",
       ".dataframe > thead > tr,\n",
       ".dataframe > tbody > tr {\n",
       "  text-align: right;\n",
       "  white-space: pre-wrap;\n",
       "}\n",
       "</style>\n",
       "<small>shape: (314, 23)</small><table border=\"1\" class=\"dataframe\"><thead><tr><th>item_id</th><th>item_name</th><th>comment_id</th><th>comment</th><th>category_product_quality</th><th>category_pricing</th><th>category_delivery_service</th><th>category_packaging</th><th>category_seller_service</th><th>category_listing_accuracy</th><th>category_order_accuracy</th><th>category_irrelevant</th><th>issue_product_quality</th><th>issue_pricing</th><th>issue_delivery_service</th><th>issue_packaging</th><th>issue_seller_service</th><th>issue_listing_accuracy</th><th>issue_order_accuracy</th><th>issue_irrelevant</th><th>ground_truth</th><th>pred_labels</th><th>all_labels</th></tr><tr><td>i64</td><td>str</td><td>u64</td><td>str</td><td>str</td><td>str</td><td>str</td><td>str</td><td>str</td><td>str</td><td>str</td><td>str</td><td>str</td><td>str</td><td>str</td><td>str</td><td>str</td><td>str</td><td>str</td><td>str</td><td>str</td><td>str</td><td>bool</td></tr></thead><tbody><tr><td>2900397939</td><td>&quot;Kệ để dao thớt đũa Inox&quot;</td><td>11141586461</td><td>&quot;Giao hàng siêu nhanh. Mẫu mã đ…</td><td>&quot;category_product_quality&quot;</td><td>&quot;category_pricing&quot;</td><td>&quot;category_delivery_service&quot;</td><td>null</td><td>null</td><td>null</td><td>null</td><td>null</td><td>&quot;issue_product_quality&quot;</td><td>&quot;issue_pricing&quot;</td><td>null</td><td>null</td><td>null</td><td>null</td><td>null</td><td>null</td><td>&quot;category_product_quality\n",
       "categ…</td><td>&quot;category_product_quality\n",
       "categ…</td><td>false</td></tr><tr><td>18302113824</td><td>&quot;[CHẤT LƯỢNG CAO] Kệ góc tường,…</td><td>10065004490</td><td>&quot;KỆ LỎNG LẺO CHÂN KỆ YẾU ỚT PHẢ…</td><td>&quot;category_product_quality&quot;</td><td>&quot;category_pricing&quot;</td><td>null</td><td>null</td><td>null</td><td>null</td><td>null</td><td>null</td><td>&quot;issue_product_quality&quot;</td><td>&quot;issue_pricing&quot;</td><td>null</td><td>null</td><td>null</td><td>null</td><td>null</td><td>null</td><td>&quot;category_product_quality\n",
       "categ…</td><td>&quot;category_product_quality\n",
       "categ…</td><td>false</td></tr><tr><td>6706694489</td><td>&quot;Đầm Sơ Mi Sọc Nữ Thu Đông Dài …</td><td>2847238283</td><td>&quot;Chất liệu rất xấu, pha nilon n…</td><td>&quot;category_product_quality&quot;</td><td>&quot;category_pricing&quot;</td><td>&quot;category_delivery_service&quot;</td><td>null</td><td>null</td><td>null</td><td>null</td><td>null</td><td>&quot;issue_product_quality&quot;</td><td>&quot;issue_pricing&quot;</td><td>null</td><td>null</td><td>null</td><td>null</td><td>null</td><td>null</td><td>&quot;category_product_quality\n",
       "categ…</td><td>&quot;category_product_quality\n",
       "categ…</td><td>false</td></tr><tr><td>22358045396</td><td>&quot;BỘ NHUNG CHA.NEL Hàng Hót đủ m…</td><td>14416457225</td><td>&quot;May ẩu, chỉ thừa quá nhiều. Kh…</td><td>null</td><td>&quot;category_pricing&quot;</td><td>null</td><td>null</td><td>null</td><td>null</td><td>&quot;category_order_accuracy&quot;</td><td>null</td><td>null</td><td>&quot;issue_pricing&quot;</td><td>null</td><td>null</td><td>null</td><td>null</td><td>&quot;issue_order_accuracy&quot;</td><td>null</td><td>&quot;category_pricing\n",
       "category_orde…</td><td>&quot;category_pricing\n",
       "issue_pricing&quot;</td><td>false</td></tr><tr><td>8554614088</td><td>&quot;Mắt Kính Gọng Vuông Cực Đẹp 2 …</td><td>7428070969</td><td>&quot;Sản phẩm rất chất,  rất như đầ…</td><td>&quot;category_product_quality&quot;</td><td>&quot;category_pricing&quot;</td><td>null</td><td>null</td><td>null</td><td>null</td><td>null</td><td>null</td><td>&quot;issue_product_quality&quot;</td><td>&quot;issue_pricing&quot;</td><td>null</td><td>null</td><td>null</td><td>null</td><td>null</td><td>null</td><td>&quot;category_product_quality\n",
       "categ…</td><td>&quot;category_product_quality\n",
       "categ…</td><td>false</td></tr><tr><td>&hellip;</td><td>&hellip;</td><td>&hellip;</td><td>&hellip;</td><td>&hellip;</td><td>&hellip;</td><td>&hellip;</td><td>&hellip;</td><td>&hellip;</td><td>&hellip;</td><td>&hellip;</td><td>&hellip;</td><td>&hellip;</td><td>&hellip;</td><td>&hellip;</td><td>&hellip;</td><td>&hellip;</td><td>&hellip;</td><td>&hellip;</td><td>&hellip;</td><td>&hellip;</td><td>&hellip;</td><td>&hellip;</td></tr><tr><td>25155678186</td><td>&quot;Áo Khoác Hoodie DAPPERANDMORE …</td><td>15664046796</td><td>&quot;kh xứng đáng với giá tiền mấy,…</td><td>&quot;category_product_quality&quot;</td><td>&quot;category_pricing&quot;</td><td>null</td><td>null</td><td>null</td><td>null</td><td>null</td><td>null</td><td>&quot;issue_product_quality&quot;</td><td>&quot;issue_pricing&quot;</td><td>null</td><td>null</td><td>null</td><td>null</td><td>null</td><td>null</td><td>&quot;category_product_quality\n",
       "categ…</td><td>&quot;category_product_quality\n",
       "categ…</td><td>false</td></tr><tr><td>10765879726</td><td>&quot;[Chính hãng]Toner miếng không …</td><td>14731009801</td><td>&quot;Đăng ký gói ST5K không thành c…</td><td>null</td><td>&quot;category_pricing&quot;</td><td>null</td><td>null</td><td>null</td><td>null</td><td>null</td><td>null</td><td>null</td><td>&quot;issue_pricing&quot;</td><td>null</td><td>null</td><td>null</td><td>null</td><td>null</td><td>null</td><td>&quot;category_pricing\n",
       "issue_pricing&quot;</td><td>&quot;category_pricing&quot;</td><td>false</td></tr><tr><td>1718293372</td><td>&quot;Áo Lót Nhật Viền Cực Trẻ Trung&quot;</td><td>988432870</td><td>&quot;Ko mặc dc,,,ko dang tiền &quot;</td><td>&quot;category_product_quality&quot;</td><td>&quot;category_pricing&quot;</td><td>null</td><td>null</td><td>null</td><td>null</td><td>null</td><td>null</td><td>&quot;issue_product_quality&quot;</td><td>&quot;issue_pricing&quot;</td><td>null</td><td>null</td><td>null</td><td>null</td><td>null</td><td>null</td><td>&quot;category_product_quality\n",
       "categ…</td><td>&quot;category_pricing\n",
       "issue_pricing&quot;</td><td>false</td></tr><tr><td>5872534556</td><td>&quot;Vòng cổ mặt hình phi hành gia …</td><td>6725154943</td><td>&quot;Quá thất vọng luôn ạ :((( sản …</td><td>null</td><td>&quot;category_pricing&quot;</td><td>null</td><td>null</td><td>null</td><td>&quot;category_listing_accuracy&quot;</td><td>null</td><td>null</td><td>null</td><td>&quot;issue_pricing&quot;</td><td>null</td><td>null</td><td>null</td><td>&quot;issue_listing_accuracy&quot;</td><td>null</td><td>null</td><td>&quot;category_pricing\n",
       "category_list…</td><td>&quot;category_pricing\n",
       "category_list…</td><td>false</td></tr><tr><td>4748634372</td><td>&quot;Áo thun tay lỡ Unisex NEKOSG, …</td><td>4029613927</td><td>&quot;Giao thiếu hàng còn trả tiền t…</td><td>null</td><td>&quot;category_pricing&quot;</td><td>null</td><td>null</td><td>null</td><td>null</td><td>&quot;category_order_accuracy&quot;</td><td>null</td><td>null</td><td>&quot;issue_pricing&quot;</td><td>null</td><td>null</td><td>null</td><td>null</td><td>&quot;issue_order_accuracy&quot;</td><td>null</td><td>&quot;category_pricing\n",
       "category_orde…</td><td>&quot;category_order_accuracy\n",
       "issue_…</td><td>false</td></tr></tbody></table></div>"
      ],
      "text/plain": [
       "shape: (314, 23)\n",
       "┌───────────┬───────────┬───────────┬───────────┬───┬───────────┬───────────┬───────────┬──────────┐\n",
       "│ item_id   ┆ item_name ┆ comment_i ┆ comment   ┆ … ┆ issue_irr ┆ ground_tr ┆ pred_labe ┆ all_labe │\n",
       "│ ---       ┆ ---       ┆ d         ┆ ---       ┆   ┆ elevant   ┆ uth       ┆ ls        ┆ ls       │\n",
       "│ i64       ┆ str       ┆ ---       ┆ str       ┆   ┆ ---       ┆ ---       ┆ ---       ┆ ---      │\n",
       "│           ┆           ┆ u64       ┆           ┆   ┆ str       ┆ str       ┆ str       ┆ bool     │\n",
       "╞═══════════╪═══════════╪═══════════╪═══════════╪═══╪═══════════╪═══════════╪═══════════╪══════════╡\n",
       "│ 290039793 ┆ Kệ để dao ┆ 111415864 ┆ Giao hàng ┆ … ┆ null      ┆ category_ ┆ category_ ┆ false    │\n",
       "│ 9         ┆ thớt đũa  ┆ 61        ┆ siêu      ┆   ┆           ┆ product_q ┆ product_q ┆          │\n",
       "│           ┆ Inox      ┆           ┆ nhanh.    ┆   ┆           ┆ uality    ┆ uality    ┆          │\n",
       "│           ┆           ┆           ┆ Mẫu mã đ… ┆   ┆           ┆ categ…    ┆ categ…    ┆          │\n",
       "│ 183021138 ┆ [CHẤT     ┆ 100650044 ┆ KỆ LỎNG   ┆ … ┆ null      ┆ category_ ┆ category_ ┆ false    │\n",
       "│ 24        ┆ LƯỢNG     ┆ 90        ┆ LẺO CHÂN  ┆   ┆           ┆ product_q ┆ product_q ┆          │\n",
       "│           ┆ CAO] Kệ   ┆           ┆ KỆ YẾU ỚT ┆   ┆           ┆ uality    ┆ uality    ┆          │\n",
       "│           ┆ góc       ┆           ┆ PHẢ…      ┆   ┆           ┆ categ…    ┆ categ…    ┆          │\n",
       "│           ┆ tường,…   ┆           ┆           ┆   ┆           ┆           ┆           ┆          │\n",
       "│ 670669448 ┆ Đầm Sơ Mi ┆ 284723828 ┆ Chất liệu ┆ … ┆ null      ┆ category_ ┆ category_ ┆ false    │\n",
       "│ 9         ┆ Sọc Nữ    ┆ 3         ┆ rất xấu,  ┆   ┆           ┆ product_q ┆ product_q ┆          │\n",
       "│           ┆ Thu Đông  ┆           ┆ pha nilon ┆   ┆           ┆ uality    ┆ uality    ┆          │\n",
       "│           ┆ Dài …     ┆           ┆ n…        ┆   ┆           ┆ categ…    ┆ categ…    ┆          │\n",
       "│ 223580453 ┆ BỘ NHUNG  ┆ 144164572 ┆ May ẩu,   ┆ … ┆ null      ┆ category_ ┆ category_ ┆ false    │\n",
       "│ 96        ┆ CHA.NEL   ┆ 25        ┆ chỉ thừa  ┆   ┆           ┆ pricing   ┆ pricing   ┆          │\n",
       "│           ┆ Hàng Hót  ┆           ┆ quá       ┆   ┆           ┆ category_ ┆ issue_pri ┆          │\n",
       "│           ┆ đủ m…     ┆           ┆ nhiều.    ┆   ┆           ┆ orde…     ┆ cing      ┆          │\n",
       "│           ┆           ┆           ┆ Kh…       ┆   ┆           ┆           ┆           ┆          │\n",
       "│ 855461408 ┆ Mắt Kính  ┆ 742807096 ┆ Sản phẩm  ┆ … ┆ null      ┆ category_ ┆ category_ ┆ false    │\n",
       "│ 8         ┆ Gọng      ┆ 9         ┆ rất chất, ┆   ┆           ┆ product_q ┆ product_q ┆          │\n",
       "│           ┆ Vuông Cực ┆           ┆ rất như   ┆   ┆           ┆ uality    ┆ uality    ┆          │\n",
       "│           ┆ Đẹp 2 …   ┆           ┆ đầ…       ┆   ┆           ┆ categ…    ┆ categ…    ┆          │\n",
       "│ …         ┆ …         ┆ …         ┆ …         ┆ … ┆ …         ┆ …         ┆ …         ┆ …        │\n",
       "│ 251556781 ┆ Áo Khoác  ┆ 156640467 ┆ kh xứng   ┆ … ┆ null      ┆ category_ ┆ category_ ┆ false    │\n",
       "│ 86        ┆ Hoodie    ┆ 96        ┆ đáng với  ┆   ┆           ┆ product_q ┆ product_q ┆          │\n",
       "│           ┆ DAPPERAND ┆           ┆ giá tiền  ┆   ┆           ┆ uality    ┆ uality    ┆          │\n",
       "│           ┆ MORE …    ┆           ┆ mấy,…     ┆   ┆           ┆ categ…    ┆ categ…    ┆          │\n",
       "│ 107658797 ┆ [Chính    ┆ 147310098 ┆ Đăng ký   ┆ … ┆ null      ┆ category_ ┆ category_ ┆ false    │\n",
       "│ 26        ┆ hãng]Tone ┆ 01        ┆ gói ST5K  ┆   ┆           ┆ pricing   ┆ pricing   ┆          │\n",
       "│           ┆ r miếng   ┆           ┆ không     ┆   ┆           ┆ issue_pri ┆           ┆          │\n",
       "│           ┆ không …   ┆           ┆ thành c…  ┆   ┆           ┆ cing      ┆           ┆          │\n",
       "│ 171829337 ┆ Áo Lót    ┆ 988432870 ┆ Ko mặc    ┆ … ┆ null      ┆ category_ ┆ category_ ┆ false    │\n",
       "│ 2         ┆ Nhật Viền ┆           ┆ dc,,,ko   ┆   ┆           ┆ product_q ┆ pricing   ┆          │\n",
       "│           ┆ Cực Trẻ   ┆           ┆ dang tiền ┆   ┆           ┆ uality    ┆ issue_pri ┆          │\n",
       "│           ┆ Trung     ┆           ┆           ┆   ┆           ┆ categ…    ┆ cing      ┆          │\n",
       "│ 587253455 ┆ Vòng cổ   ┆ 672515494 ┆ Quá thất  ┆ … ┆ null      ┆ category_ ┆ category_ ┆ false    │\n",
       "│ 6         ┆ mặt hình  ┆ 3         ┆ vọng luôn ┆   ┆           ┆ pricing   ┆ pricing   ┆          │\n",
       "│           ┆ phi hành  ┆           ┆ ạ :(((    ┆   ┆           ┆ category_ ┆ category_ ┆          │\n",
       "│           ┆ gia …     ┆           ┆ sản …     ┆   ┆           ┆ list…     ┆ list…     ┆          │\n",
       "│ 474863437 ┆ Áo thun   ┆ 402961392 ┆ Giao      ┆ … ┆ null      ┆ category_ ┆ category_ ┆ false    │\n",
       "│ 2         ┆ tay lỡ    ┆ 7         ┆ thiếu     ┆   ┆           ┆ pricing   ┆ order_acc ┆          │\n",
       "│           ┆ Unisex    ┆           ┆ hàng còn  ┆   ┆           ┆ category_ ┆ uracy     ┆          │\n",
       "│           ┆ NEKOSG, … ┆           ┆ trả tiền  ┆   ┆           ┆ orde…     ┆ issue_…   ┆          │\n",
       "│           ┆           ┆           ┆ t…        ┆   ┆           ┆           ┆           ┆          │\n",
       "└───────────┴───────────┴───────────┴───────────┴───┴───────────┴───────────┴───────────┴──────────┘"
      ]
     },
     "execution_count": 57,
     "metadata": {},
     "output_type": "execute_result"
    }
   ],
   "source": [
    "report.filter(issue_pricing='issue_pricing')"
   ]
  },
  {
   "cell_type": "code",
   "execution_count": 58,
   "id": "1366ddee-a60a-40a3-8f72-a596e811dc87",
   "metadata": {},
   "outputs": [
    {
     "data": {
      "text/plain": [
       "(23439, 23)"
      ]
     },
     "execution_count": 58,
     "metadata": {},
     "output_type": "execute_result"
    }
   ],
   "source": [
    "report.shape"
   ]
  },
  {
   "cell_type": "code",
   "execution_count": null,
   "id": "739943a9-c791-40fe-81ee-c9d05da46f78",
   "metadata": {},
   "outputs": [],
   "source": []
  }
 ],
 "metadata": {
  "kernelspec": {
   "display_name": "Python 3 (ipykernel)",
   "language": "python",
   "name": "python3"
  },
  "language_info": {
   "codemirror_mode": {
    "name": "ipython",
    "version": 3
   },
   "file_extension": ".py",
   "mimetype": "text/x-python",
   "name": "python",
   "nbconvert_exporter": "python",
   "pygments_lexer": "ipython3",
   "version": "3.12.7"
  }
 },
 "nbformat": 4,
 "nbformat_minor": 5
}
