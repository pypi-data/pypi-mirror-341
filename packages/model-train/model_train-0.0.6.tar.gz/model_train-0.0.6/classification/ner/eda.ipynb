{
 "cells": [
  {
   "cell_type": "code",
   "id": "initial_id",
   "metadata": {
    "collapsed": true,
    "ExecuteTime": {
     "end_time": "2024-12-10T04:05:33.675893Z",
     "start_time": "2024-12-10T04:05:32.843168Z"
    }
   },
   "source": [
    "import polars as pl\n",
    "from core_pro.ultilities import make_sync_folder, update_df\n",
    "from core_eda import TextEDA\n",
    "from rich import print\n",
    "from tqdm.auto import tqdm\n",
    "from func import find_keyword_pipeline\n",
    "from pattern import pattern\n",
    "\n",
    "sh = '1P29Ql-SqjokycVjwXlj_2H9L1g0wOZApPfff3bl8muM'\n",
    "path = make_sync_folder('nlp/ner')"
   ],
   "outputs": [],
   "execution_count": 1
  },
  {
   "metadata": {
    "ExecuteTime": {
     "end_time": "2024-12-10T04:05:34.759593Z",
     "start_time": "2024-12-10T04:05:33.681058Z"
    }
   },
   "cell_type": "code",
   "source": [
    "df = (\n",
    "    pl.read_parquet(path / 'tag_ner.parquet')\n",
    "    .with_columns(pl.col('brand_name').fill_null('No brand'))\n",
    ")\n",
    "print(f'Data shape: {df.shape}, Total items: {df['item_id'].n_unique():,.0f}')\n",
    "df.head()"
   ],
   "id": "92a499fd956ece36",
   "outputs": [
    {
     "data": {
      "text/plain": [
       "Data shape: \u001B[1m(\u001B[0m\u001B[1;36m10000000\u001B[0m, \u001B[1;36m10\u001B[0m\u001B[1m)\u001B[0m, Total items: \u001B[1;36m4\u001B[0m,\u001B[1;36m467\u001B[0m,\u001B[1;36m822\u001B[0m\n"
      ],
      "text/html": [
       "<pre style=\"white-space:pre;overflow-x:auto;line-height:normal;font-family:Menlo,'DejaVu Sans Mono',consolas,'Courier New',monospace\">Data shape: <span style=\"font-weight: bold\">(</span><span style=\"color: #008080; text-decoration-color: #008080; font-weight: bold\">10000000</span>, <span style=\"color: #008080; text-decoration-color: #008080; font-weight: bold\">10</span><span style=\"font-weight: bold\">)</span>, Total items: <span style=\"color: #008080; text-decoration-color: #008080; font-weight: bold\">4</span>,<span style=\"color: #008080; text-decoration-color: #008080; font-weight: bold\">467</span>,<span style=\"color: #008080; text-decoration-color: #008080; font-weight: bold\">822</span>\n",
       "</pre>\n"
      ]
     },
     "metadata": {},
     "output_type": "display_data"
    },
    {
     "data": {
      "text/plain": [
       "shape: (5, 10)\n",
       "┌─────────┬────────────┬───────────┬───────────┬───┬───────────┬───────────┬───────────┬───────────┐\n",
       "│ item_id ┆ item_name  ┆ level1_gl ┆ level2_gl ┆ … ┆ level5_gl ┆ brand_nam ┆ attribute ┆ attribute │\n",
       "│ ---     ┆ ---        ┆ obal_be_c ┆ obal_be_c ┆   ┆ obal_be_c ┆ e         ┆ _name     ┆ _value    │\n",
       "│ i64     ┆ str        ┆ ategory   ┆ ategory   ┆   ┆ ategory   ┆ ---       ┆ ---       ┆ ---       │\n",
       "│         ┆            ┆ ---       ┆ ---       ┆   ┆ ---       ┆ str       ┆ str       ┆ str       │\n",
       "│         ┆            ┆ str       ┆ str       ┆   ┆ str       ┆           ┆           ┆           │\n",
       "╞═════════╪════════════╪═══════════╪═══════════╪═══╪═══════════╪═══════════╪═══════════╪═══════════╡\n",
       "│ 149946  ┆ Áo sơ mi   ┆ Women     ┆ Tops      ┆ … ┆ null      ┆ No brand  ┆ Neckline  ┆ Cổ sơ mi  │\n",
       "│         ┆ cổ trụ     ┆ Clothes   ┆           ┆   ┆           ┆           ┆           ┆           │\n",
       "│ 606151  ┆ Quần       ┆ Women     ┆ Pants &   ┆ … ┆ null      ┆ No brand  ┆ Pattern   ┆ Trơn      │\n",
       "│         ┆ legging    ┆ Clothes   ┆ Leggings  ┆   ┆           ┆           ┆           ┆           │\n",
       "│         ┆ Nhật       ┆           ┆           ┆   ┆           ┆           ┆           ┆           │\n",
       "│ 675528  ┆ Chân váy   ┆ Women     ┆ Skirts    ┆ … ┆ null      ┆ No brand  ┆ Dress/Ski ┆ Váy bút   │\n",
       "│         ┆ bút chì    ┆ Clothes   ┆           ┆   ┆           ┆           ┆ rt Style  ┆ chì       │\n",
       "│         ┆ cho cô     ┆           ┆           ┆   ┆           ┆           ┆           ┆           │\n",
       "│         ┆ nàng c…    ┆           ┆           ┆   ┆           ┆           ┆           ┆           │\n",
       "│ 675528  ┆ Chân váy   ┆ Women     ┆ Skirts    ┆ … ┆ null      ┆ No brand  ┆ Occasion  ┆ Công việc │\n",
       "│         ┆ bút chì    ┆ Clothes   ┆           ┆   ┆           ┆           ┆           ┆           │\n",
       "│         ┆ cho cô     ┆           ┆           ┆   ┆           ┆           ┆           ┆           │\n",
       "│         ┆ nàng c…    ┆           ┆           ┆   ┆           ┆           ┆           ┆           │\n",
       "│ 675528  ┆ Chân váy   ┆ Women     ┆ Skirts    ┆ … ┆ null      ┆ No brand  ┆ Pattern   ┆ Trơn      │\n",
       "│         ┆ bút chì    ┆ Clothes   ┆           ┆   ┆           ┆           ┆           ┆           │\n",
       "│         ┆ cho cô     ┆           ┆           ┆   ┆           ┆           ┆           ┆           │\n",
       "│         ┆ nàng c…    ┆           ┆           ┆   ┆           ┆           ┆           ┆           │\n",
       "└─────────┴────────────┴───────────┴───────────┴───┴───────────┴───────────┴───────────┴───────────┘"
      ],
      "text/html": [
       "<div><style>\n",
       ".dataframe > thead > tr,\n",
       ".dataframe > tbody > tr {\n",
       "  text-align: right;\n",
       "  white-space: pre-wrap;\n",
       "}\n",
       "</style>\n",
       "<small>shape: (5, 10)</small><table border=\"1\" class=\"dataframe\"><thead><tr><th>item_id</th><th>item_name</th><th>level1_global_be_category</th><th>level2_global_be_category</th><th>level3_global_be_category</th><th>level4_global_be_category</th><th>level5_global_be_category</th><th>brand_name</th><th>attribute_name</th><th>attribute_value</th></tr><tr><td>i64</td><td>str</td><td>str</td><td>str</td><td>str</td><td>str</td><td>str</td><td>str</td><td>str</td><td>str</td></tr></thead><tbody><tr><td>149946</td><td>&quot;Áo sơ mi cổ trụ&quot;</td><td>&quot;Women Clothes&quot;</td><td>&quot;Tops&quot;</td><td>&quot;Shirts &amp; Blouses&quot;</td><td>null</td><td>null</td><td>&quot;No brand&quot;</td><td>&quot;Neckline&quot;</td><td>&quot;Cổ sơ mi&quot;</td></tr><tr><td>606151</td><td>&quot;Quần legging Nhật&quot;</td><td>&quot;Women Clothes&quot;</td><td>&quot;Pants &amp; Leggings&quot;</td><td>&quot;Leggings &amp; Treggings&quot;</td><td>null</td><td>null</td><td>&quot;No brand&quot;</td><td>&quot;Pattern&quot;</td><td>&quot;Trơn&quot;</td></tr><tr><td>675528</td><td>&quot;Chân váy bút chì cho cô nàng c…</td><td>&quot;Women Clothes&quot;</td><td>&quot;Skirts&quot;</td><td>null</td><td>null</td><td>null</td><td>&quot;No brand&quot;</td><td>&quot;Dress/Skirt Style&quot;</td><td>&quot;Váy bút chì&quot;</td></tr><tr><td>675528</td><td>&quot;Chân váy bút chì cho cô nàng c…</td><td>&quot;Women Clothes&quot;</td><td>&quot;Skirts&quot;</td><td>null</td><td>null</td><td>null</td><td>&quot;No brand&quot;</td><td>&quot;Occasion&quot;</td><td>&quot;Công việc&quot;</td></tr><tr><td>675528</td><td>&quot;Chân váy bút chì cho cô nàng c…</td><td>&quot;Women Clothes&quot;</td><td>&quot;Skirts&quot;</td><td>null</td><td>null</td><td>null</td><td>&quot;No brand&quot;</td><td>&quot;Pattern&quot;</td><td>&quot;Trơn&quot;</td></tr></tbody></table></div>"
      ]
     },
     "execution_count": 2,
     "metadata": {},
     "output_type": "execute_result"
    }
   ],
   "execution_count": 2
  },
  {
   "metadata": {
    "ExecuteTime": {
     "end_time": "2024-12-10T04:06:31.725976Z",
     "start_time": "2024-12-10T04:05:34.893908Z"
    }
   },
   "cell_type": "code",
   "source": [
    "item = df['item_name'].str.to_lowercase()\n",
    "keyword = df['attribute_value'].fill_null('None').str.to_lowercase()\n",
    "lst_position = find_keyword_pipeline(item, keyword)\n",
    "\n",
    "item = df['item_name'].str.to_lowercase()\n",
    "keyword = df['brand_name'].str.to_lowercase()\n",
    "lst_brand= find_keyword_pipeline(item, keyword)"
   ],
   "id": "73fdca01c128c389",
   "outputs": [
    {
     "data": {
      "text/plain": [
       "  0%|          | 0/10000000 [00:00<?, ?it/s]"
      ],
      "application/vnd.jupyter.widget-view+json": {
       "version_major": 2,
       "version_minor": 0,
       "model_id": "941c0943dc594f95bb92c002469008b7"
      }
     },
     "metadata": {},
     "output_type": "display_data"
    },
    {
     "data": {
      "text/plain": [
       "  0%|          | 0/10000000 [00:00<?, ?it/s]"
      ],
      "application/vnd.jupyter.widget-view+json": {
       "version_major": 2,
       "version_minor": 0,
       "model_id": "a09bf84185054ebba97f54f2a4f96cd8"
      }
     },
     "metadata": {},
     "output_type": "display_data"
    }
   ],
   "execution_count": 3
  },
  {
   "metadata": {
    "ExecuteTime": {
     "end_time": "2024-12-10T04:07:03.163487Z",
     "start_time": "2024-12-10T04:06:31.730303Z"
    }
   },
   "cell_type": "code",
   "source": [
    "df = df.with_columns(\n",
    "    pl.Series('position_value', lst_position),\n",
    "    pl.Series('position_brand', lst_brand),\n",
    ")\n",
    "df.head()"
   ],
   "id": "91899a086613f7c0",
   "outputs": [
    {
     "data": {
      "text/plain": [
       "shape: (5, 12)\n",
       "┌─────────┬────────────┬───────────┬───────────┬───┬───────────┬───────────┬───────────┬───────────┐\n",
       "│ item_id ┆ item_name  ┆ level1_gl ┆ level2_gl ┆ … ┆ attribute ┆ attribute ┆ position_ ┆ position_ │\n",
       "│ ---     ┆ ---        ┆ obal_be_c ┆ obal_be_c ┆   ┆ _name     ┆ _value    ┆ value     ┆ brand     │\n",
       "│ i64     ┆ str        ┆ ategory   ┆ ategory   ┆   ┆ ---       ┆ ---       ┆ ---       ┆ ---       │\n",
       "│         ┆            ┆ ---       ┆ ---       ┆   ┆ str       ┆ str       ┆ list[list ┆ list[list │\n",
       "│         ┆            ┆ str       ┆ str       ┆   ┆           ┆           ┆ [i64]]    ┆ [i64]]    │\n",
       "╞═════════╪════════════╪═══════════╪═══════════╪═══╪═══════════╪═══════════╪═══════════╪═══════════╡\n",
       "│ 149946  ┆ Áo sơ mi   ┆ Women     ┆ Tops      ┆ … ┆ Neckline  ┆ Cổ sơ mi  ┆ null      ┆ null      │\n",
       "│         ┆ cổ trụ     ┆ Clothes   ┆           ┆   ┆           ┆           ┆           ┆           │\n",
       "│ 606151  ┆ Quần       ┆ Women     ┆ Pants &   ┆ … ┆ Pattern   ┆ Trơn      ┆ null      ┆ null      │\n",
       "│         ┆ legging    ┆ Clothes   ┆ Leggings  ┆   ┆           ┆           ┆           ┆           │\n",
       "│         ┆ Nhật       ┆           ┆           ┆   ┆           ┆           ┆           ┆           │\n",
       "│ 675528  ┆ Chân váy   ┆ Women     ┆ Skirts    ┆ … ┆ Dress/Ski ┆ Váy bút   ┆ [[5, 16]] ┆ null      │\n",
       "│         ┆ bút chì    ┆ Clothes   ┆           ┆   ┆ rt Style  ┆ chì       ┆           ┆           │\n",
       "│         ┆ cho cô     ┆           ┆           ┆   ┆           ┆           ┆           ┆           │\n",
       "│         ┆ nàng c…    ┆           ┆           ┆   ┆           ┆           ┆           ┆           │\n",
       "│ 675528  ┆ Chân váy   ┆ Women     ┆ Skirts    ┆ … ┆ Occasion  ┆ Công việc ┆ null      ┆ null      │\n",
       "│         ┆ bút chì    ┆ Clothes   ┆           ┆   ┆           ┆           ┆           ┆           │\n",
       "│         ┆ cho cô     ┆           ┆           ┆   ┆           ┆           ┆           ┆           │\n",
       "│         ┆ nàng c…    ┆           ┆           ┆   ┆           ┆           ┆           ┆           │\n",
       "│ 675528  ┆ Chân váy   ┆ Women     ┆ Skirts    ┆ … ┆ Pattern   ┆ Trơn      ┆ null      ┆ null      │\n",
       "│         ┆ bút chì    ┆ Clothes   ┆           ┆   ┆           ┆           ┆           ┆           │\n",
       "│         ┆ cho cô     ┆           ┆           ┆   ┆           ┆           ┆           ┆           │\n",
       "│         ┆ nàng c…    ┆           ┆           ┆   ┆           ┆           ┆           ┆           │\n",
       "└─────────┴────────────┴───────────┴───────────┴───┴───────────┴───────────┴───────────┴───────────┘"
      ],
      "text/html": [
       "<div><style>\n",
       ".dataframe > thead > tr,\n",
       ".dataframe > tbody > tr {\n",
       "  text-align: right;\n",
       "  white-space: pre-wrap;\n",
       "}\n",
       "</style>\n",
       "<small>shape: (5, 12)</small><table border=\"1\" class=\"dataframe\"><thead><tr><th>item_id</th><th>item_name</th><th>level1_global_be_category</th><th>level2_global_be_category</th><th>level3_global_be_category</th><th>level4_global_be_category</th><th>level5_global_be_category</th><th>brand_name</th><th>attribute_name</th><th>attribute_value</th><th>position_value</th><th>position_brand</th></tr><tr><td>i64</td><td>str</td><td>str</td><td>str</td><td>str</td><td>str</td><td>str</td><td>str</td><td>str</td><td>str</td><td>list[list[i64]]</td><td>list[list[i64]]</td></tr></thead><tbody><tr><td>149946</td><td>&quot;Áo sơ mi cổ trụ&quot;</td><td>&quot;Women Clothes&quot;</td><td>&quot;Tops&quot;</td><td>&quot;Shirts &amp; Blouses&quot;</td><td>null</td><td>null</td><td>&quot;No brand&quot;</td><td>&quot;Neckline&quot;</td><td>&quot;Cổ sơ mi&quot;</td><td>null</td><td>null</td></tr><tr><td>606151</td><td>&quot;Quần legging Nhật&quot;</td><td>&quot;Women Clothes&quot;</td><td>&quot;Pants &amp; Leggings&quot;</td><td>&quot;Leggings &amp; Treggings&quot;</td><td>null</td><td>null</td><td>&quot;No brand&quot;</td><td>&quot;Pattern&quot;</td><td>&quot;Trơn&quot;</td><td>null</td><td>null</td></tr><tr><td>675528</td><td>&quot;Chân váy bút chì cho cô nàng c…</td><td>&quot;Women Clothes&quot;</td><td>&quot;Skirts&quot;</td><td>null</td><td>null</td><td>null</td><td>&quot;No brand&quot;</td><td>&quot;Dress/Skirt Style&quot;</td><td>&quot;Váy bút chì&quot;</td><td>[[5, 16]]</td><td>null</td></tr><tr><td>675528</td><td>&quot;Chân váy bút chì cho cô nàng c…</td><td>&quot;Women Clothes&quot;</td><td>&quot;Skirts&quot;</td><td>null</td><td>null</td><td>null</td><td>&quot;No brand&quot;</td><td>&quot;Occasion&quot;</td><td>&quot;Công việc&quot;</td><td>null</td><td>null</td></tr><tr><td>675528</td><td>&quot;Chân váy bút chì cho cô nàng c…</td><td>&quot;Women Clothes&quot;</td><td>&quot;Skirts&quot;</td><td>null</td><td>null</td><td>null</td><td>&quot;No brand&quot;</td><td>&quot;Pattern&quot;</td><td>&quot;Trơn&quot;</td><td>null</td><td>null</td></tr></tbody></table></div>"
      ]
     },
     "execution_count": 4,
     "metadata": {},
     "output_type": "execute_result"
    }
   ],
   "execution_count": 4
  },
  {
   "metadata": {
    "ExecuteTime": {
     "end_time": "2024-12-10T04:07:03.771900Z",
     "start_time": "2024-12-10T04:07:03.183428Z"
    }
   },
   "cell_type": "code",
   "source": [
    "df_ner = df.filter(~pl.col('position_value').is_null())\n",
    "df_ner"
   ],
   "id": "aec1306966f110c8",
   "outputs": [
    {
     "data": {
      "text/plain": [
       "shape: (1_966_427, 12)\n",
       "┌───────────┬───────────┬───────────┬───────────┬───┬───────────┬───────────┬───────────┬──────────┐\n",
       "│ item_id   ┆ item_name ┆ level1_gl ┆ level2_gl ┆ … ┆ attribute ┆ attribute ┆ position_ ┆ position │\n",
       "│ ---       ┆ ---       ┆ obal_be_c ┆ obal_be_c ┆   ┆ _name     ┆ _value    ┆ value     ┆ _brand   │\n",
       "│ i64       ┆ str       ┆ ategory   ┆ ategory   ┆   ┆ ---       ┆ ---       ┆ ---       ┆ ---      │\n",
       "│           ┆           ┆ ---       ┆ ---       ┆   ┆ str       ┆ str       ┆ list[list ┆ list[lis │\n",
       "│           ┆           ┆ str       ┆ str       ┆   ┆           ┆           ┆ [i64]]    ┆ t[i64]]  │\n",
       "╞═══════════╪═══════════╪═══════════╪═══════════╪═══╪═══════════╪═══════════╪═══════════╪══════════╡\n",
       "│ 675528    ┆ Chân váy  ┆ Women     ┆ Skirts    ┆ … ┆ Dress/Ski ┆ Váy bút   ┆ [[5, 16]] ┆ null     │\n",
       "│           ┆ bút chì   ┆ Clothes   ┆           ┆   ┆ rt Style  ┆ chì       ┆           ┆          │\n",
       "│           ┆ cho cô    ┆           ┆           ┆   ┆           ┆           ┆           ┆          │\n",
       "│           ┆ nàng c…   ┆           ┆           ┆   ┆           ┆           ┆           ┆          │\n",
       "│ 1026939   ┆ Bộ 3 hộp  ┆ Home &    ┆ Home Orga ┆ … ┆ Storage   ┆ Hộp       ┆ [[5, 8]]  ┆ null     │\n",
       "│           ┆ đựng đồ   ┆ Living    ┆ nizers    ┆   ┆ Type      ┆           ┆           ┆          │\n",
       "│           ┆ cá nhân   ┆           ┆           ┆   ┆           ┆           ┆           ┆          │\n",
       "│           ┆ cỡ lớ…    ┆           ┆           ┆   ┆           ┆           ┆           ┆          │\n",
       "│ 2085510   ┆ Áo kiểu   ┆ Women     ┆ Tops      ┆ … ┆ Material  ┆ Cotton    ┆ [[8, 14]] ┆ null     │\n",
       "│           ┆ cotton    ┆ Clothes   ┆           ┆   ┆           ┆           ┆           ┆          │\n",
       "│           ┆ Hàn Quốc  ┆           ┆           ┆   ┆           ┆           ┆           ┆          │\n",
       "│ 3258375   ┆ Đầm xòe   ┆ Women     ┆ Dresses   ┆ … ┆ Pattern   ┆ Hoa       ┆ [[11,     ┆ null     │\n",
       "│           ┆ in hoa    ┆ Clothes   ┆           ┆   ┆           ┆           ┆ 14]]      ┆          │\n",
       "│           ┆ đào       ┆           ┆           ┆   ┆           ┆           ┆           ┆          │\n",
       "│ 4698018   ┆ Combo Bàn ┆ Computers ┆ Keyboards ┆ … ┆ Connectio ┆ Không dây ┆ [[24,     ┆ [[34,    │\n",
       "│           ┆ phím và   ┆ & Accesso ┆ & Mice    ┆   ┆ n Type    ┆           ┆ 33]]      ┆ 43]]     │\n",
       "│           ┆ chuột     ┆ ries      ┆           ┆   ┆           ┆           ┆           ┆          │\n",
       "│           ┆ không …   ┆           ┆           ┆   ┆           ┆           ┆           ┆          │\n",
       "│ …         ┆ …         ┆ …         ┆ …         ┆ … ┆ …         ┆ …         ┆ …         ┆ …        │\n",
       "│ 118999629 ┆ Áo Thun   ┆ Women     ┆ Tops      ┆ … ┆ Pattern   ┆ In        ┆ [[59,     ┆ null     │\n",
       "│ 57        ┆ Tay Lỡ    ┆ Clothes   ┆           ┆   ┆           ┆           ┆ 61]]      ┆          │\n",
       "│           ┆ Unisex    ┆           ┆           ┆   ┆           ┆           ┆           ┆          │\n",
       "│           ┆ Nam Nữ, … ┆           ┆           ┆   ┆           ┆           ┆           ┆          │\n",
       "│ 119024278 ┆ Set       ┆ Fashion   ┆ Hair Acce ┆ … ┆ Gender    ┆ Nữ        ┆ [[67,     ┆ null     │\n",
       "│ 13        ┆ 28/50/100 ┆ Accessori ┆ ssories   ┆   ┆           ┆           ┆ 69]]      ┆          │\n",
       "│           ┆ Dây Buộc  ┆ es        ┆           ┆   ┆           ┆           ┆           ┆          │\n",
       "│           ┆ Tóc His…  ┆           ┆           ┆   ┆           ┆           ┆           ┆          │\n",
       "│ 119031470 ┆ ✷™✣Giày   ┆ Sports &  ┆ Sports    ┆ … ┆ Gender    ┆ Nữ        ┆ [[8, 10]] ┆ null     │\n",
       "│ 14        ┆ nữ cỡ lớn ┆ Outdoors  ┆ Footwear  ┆   ┆           ┆           ┆           ┆          │\n",
       "│           ┆ 41-43 Các ┆           ┆           ┆   ┆           ┆           ┆           ┆          │\n",
       "│           ┆ mẫ…       ┆           ┆           ┆   ┆           ┆           ┆           ┆          │\n",
       "│ 119042061 ┆ Áo Thun   ┆ Sports &  ┆ Sports &  ┆ … ┆ Sports    ┆ Bóng rổ   ┆ [[35,     ┆ null     │\n",
       "│ 24        ┆ Tay Ngắn  ┆ Outdoors  ┆ Outdoor   ┆   ┆ Type      ┆           ┆ 42]]      ┆          │\n",
       "│           ┆ Dáng Rộng ┆           ┆ Apparels  ┆   ┆           ┆           ┆           ┆          │\n",
       "│           ┆ In …      ┆           ┆           ┆   ┆           ┆           ┆           ┆          │\n",
       "│ 119045558 ┆ Dây Thun  ┆ Fashion   ┆ Hair Acce ┆ … ┆ Gender    ┆ Nữ        ┆ [[51,     ┆ null     │\n",
       "│ 49        ┆ Buộc Tóc  ┆ Accessori ┆ ssories   ┆   ┆           ┆           ┆ 53]]      ┆          │\n",
       "│           ┆ Hình Quả  ┆ es        ┆           ┆   ┆           ┆           ┆           ┆          │\n",
       "│           ┆ Trứ…      ┆           ┆           ┆   ┆           ┆           ┆           ┆          │\n",
       "└───────────┴───────────┴───────────┴───────────┴───┴───────────┴───────────┴───────────┴──────────┘"
      ],
      "text/html": [
       "<div><style>\n",
       ".dataframe > thead > tr,\n",
       ".dataframe > tbody > tr {\n",
       "  text-align: right;\n",
       "  white-space: pre-wrap;\n",
       "}\n",
       "</style>\n",
       "<small>shape: (1_966_427, 12)</small><table border=\"1\" class=\"dataframe\"><thead><tr><th>item_id</th><th>item_name</th><th>level1_global_be_category</th><th>level2_global_be_category</th><th>level3_global_be_category</th><th>level4_global_be_category</th><th>level5_global_be_category</th><th>brand_name</th><th>attribute_name</th><th>attribute_value</th><th>position_value</th><th>position_brand</th></tr><tr><td>i64</td><td>str</td><td>str</td><td>str</td><td>str</td><td>str</td><td>str</td><td>str</td><td>str</td><td>str</td><td>list[list[i64]]</td><td>list[list[i64]]</td></tr></thead><tbody><tr><td>675528</td><td>&quot;Chân váy bút chì cho cô nàng c…</td><td>&quot;Women Clothes&quot;</td><td>&quot;Skirts&quot;</td><td>null</td><td>null</td><td>null</td><td>&quot;No brand&quot;</td><td>&quot;Dress/Skirt Style&quot;</td><td>&quot;Váy bút chì&quot;</td><td>[[5, 16]]</td><td>null</td></tr><tr><td>1026939</td><td>&quot;Bộ 3 hộp đựng đồ cá nhân cỡ lớ…</td><td>&quot;Home &amp; Living&quot;</td><td>&quot;Home Organizers&quot;</td><td>&quot;Storage Boxes, Bags &amp; Baskets&quot;</td><td>null</td><td>null</td><td>&quot;No brand&quot;</td><td>&quot;Storage Type&quot;</td><td>&quot;Hộp&quot;</td><td>[[5, 8]]</td><td>null</td></tr><tr><td>2085510</td><td>&quot;Áo kiểu cotton Hàn Quốc&quot;</td><td>&quot;Women Clothes&quot;</td><td>&quot;Tops&quot;</td><td>&quot;Shirts &amp; Blouses&quot;</td><td>null</td><td>null</td><td>&quot;No brand&quot;</td><td>&quot;Material&quot;</td><td>&quot;Cotton&quot;</td><td>[[8, 14]]</td><td>null</td></tr><tr><td>3258375</td><td>&quot;Đầm xòe in hoa đào&quot;</td><td>&quot;Women Clothes&quot;</td><td>&quot;Dresses&quot;</td><td>null</td><td>null</td><td>null</td><td>&quot;No brand&quot;</td><td>&quot;Pattern&quot;</td><td>&quot;Hoa&quot;</td><td>[[11, 14]]</td><td>null</td></tr><tr><td>4698018</td><td>&quot;Combo Bàn phím và chuột không …</td><td>&quot;Computers &amp; Accessories&quot;</td><td>&quot;Keyboards &amp; Mice&quot;</td><td>&quot;Keyboards&quot;</td><td>null</td><td>null</td><td>&quot;Motospeed&quot;</td><td>&quot;Connection Type&quot;</td><td>&quot;Không dây&quot;</td><td>[[24, 33]]</td><td>[[34, 43]]</td></tr><tr><td>&hellip;</td><td>&hellip;</td><td>&hellip;</td><td>&hellip;</td><td>&hellip;</td><td>&hellip;</td><td>&hellip;</td><td>&hellip;</td><td>&hellip;</td><td>&hellip;</td><td>&hellip;</td><td>&hellip;</td></tr><tr><td>11899962957</td><td>&quot;Áo Thun Tay Lỡ Unisex Nam Nữ, …</td><td>&quot;Women Clothes&quot;</td><td>&quot;Tops&quot;</td><td>&quot;T-shirts&quot;</td><td>null</td><td>null</td><td>&quot;No brand&quot;</td><td>&quot;Pattern&quot;</td><td>&quot;In&quot;</td><td>[[59, 61]]</td><td>null</td></tr><tr><td>11902427813</td><td>&quot;Set 28/50/100 Dây Buộc Tóc His…</td><td>&quot;Fashion Accessories&quot;</td><td>&quot;Hair Accessories&quot;</td><td>&quot;Hair Ties, Ribbons &amp; Scrunchie…</td><td>null</td><td>null</td><td>&quot;No brand&quot;</td><td>&quot;Gender&quot;</td><td>&quot;Nữ&quot;</td><td>[[67, 69]]</td><td>null</td></tr><tr><td>11903147014</td><td>&quot;✷™✣Giày nữ cỡ lớn 41-43 Các mẫ…</td><td>&quot;Sports &amp; Outdoors&quot;</td><td>&quot;Sports Footwear&quot;</td><td>&quot;Running Shoes&quot;</td><td>null</td><td>null</td><td>&quot;No brand&quot;</td><td>&quot;Gender&quot;</td><td>&quot;Nữ&quot;</td><td>[[8, 10]]</td><td>null</td></tr><tr><td>11904206124</td><td>&quot;Áo Thun Tay Ngắn Dáng Rộng In …</td><td>&quot;Sports &amp; Outdoors&quot;</td><td>&quot;Sports &amp; Outdoor Apparels&quot;</td><td>&quot;T-shirts&quot;</td><td>null</td><td>null</td><td>&quot;No brand&quot;</td><td>&quot;Sports Type&quot;</td><td>&quot;Bóng rổ&quot;</td><td>[[35, 42]]</td><td>null</td></tr><tr><td>11904555849</td><td>&quot;Dây Thun Buộc Tóc Hình Quả Trứ…</td><td>&quot;Fashion Accessories&quot;</td><td>&quot;Hair Accessories&quot;</td><td>&quot;Hair Ties, Ribbons &amp; Scrunchie…</td><td>null</td><td>null</td><td>&quot;No brand&quot;</td><td>&quot;Gender&quot;</td><td>&quot;Nữ&quot;</td><td>[[51, 53]]</td><td>null</td></tr></tbody></table></div>"
      ]
     },
     "execution_count": 5,
     "metadata": {},
     "output_type": "execute_result"
    }
   ],
   "execution_count": 5
  },
  {
   "metadata": {
    "ExecuteTime": {
     "end_time": "2024-12-10T04:07:16.933747Z",
     "start_time": "2024-12-10T04:07:03.790426Z"
    }
   },
   "cell_type": "code",
   "source": [
    "import re\n",
    "\n",
    "lst = ['SKU' if re.findall(r'\\d+', text) else None for text in df_ner['attribute_value']]\n",
    "lst = ['SKU' if l else n for l, n in zip(lst, df_ner['attribute_name'])]\n",
    "for p in tqdm(pattern):\n",
    "    k, v = list(p.items())[0]\n",
    "    for token in k.split():\n",
    "        set_token = {token}\n",
    "        lst = [v if set_token.intersection(text.split()) else text for text in lst]\n",
    "df_ner = df_ner.with_columns(pl.Series('attribute_name_patterns', lst))"
   ],
   "id": "c2ed349143e8a6b5",
   "outputs": [
    {
     "data": {
      "text/plain": [
       "  0%|          | 0/55 [00:00<?, ?it/s]"
      ],
      "application/vnd.jupyter.widget-view+json": {
       "version_major": 2,
       "version_minor": 0,
       "model_id": "dacd72b62a0f4042afef85a4e74b7ca8"
      }
     },
     "metadata": {},
     "output_type": "display_data"
    }
   ],
   "execution_count": 6
  },
  {
   "metadata": {
    "ExecuteTime": {
     "end_time": "2024-12-10T04:07:18.970937Z",
     "start_time": "2024-12-10T04:07:16.936856Z"
    }
   },
   "cell_type": "code",
   "source": [
    "# check if ner tag is duplicated\n",
    "tmp = (\n",
    "    df_ner.group_by(['attribute_name', 'attribute_name_patterns']).agg(pl.col('attribute_value').unique())\n",
    "    .with_columns(\n",
    "        pl.col('attribute_value').list.join(', ').alias('all_name'),\n",
    "        pl.col('attribute_value').list.len().alias('len')\n",
    "    )\n",
    "    .drop(['attribute_value'])\n",
    "    .sort('len', descending=True)\n",
    ")\n",
    "update_df(tmp, 'ner_value', sh, start='A1')\n",
    "tmp"
   ],
   "id": "ef329b3db3edbe97",
   "outputs": [
    {
     "data": {
      "text/plain": [
       "\u001B[38;5;40m🐶 Sheet\u001B[0m There are \u001B[1;36m3\u001B[0m sheets\n"
      ],
      "text/html": [
       "<pre style=\"white-space:pre;overflow-x:auto;line-height:normal;font-family:Menlo,'DejaVu Sans Mono',consolas,'Courier New',monospace\"><span style=\"color: #00d700; text-decoration-color: #00d700\">🐶 Sheet</span> There are <span style=\"color: #008080; text-decoration-color: #008080; font-weight: bold\">3</span> sheets\n",
       "</pre>\n"
      ]
     },
     "metadata": {},
     "output_type": "display_data"
    },
    {
     "data": {
      "text/plain": [
       "\u001B[1m[\u001B[0m\u001B[32m'ner_l1'\u001B[0m, \u001B[32m'ner_l1_value'\u001B[0m, \u001B[32m'ner_value'\u001B[0m\u001B[1m]\u001B[0m\n"
      ],
      "text/html": [
       "<pre style=\"white-space:pre;overflow-x:auto;line-height:normal;font-family:Menlo,'DejaVu Sans Mono',consolas,'Courier New',monospace\"><span style=\"font-weight: bold\">[</span><span style=\"color: #008000; text-decoration-color: #008000\">'ner_l1'</span>, <span style=\"color: #008000; text-decoration-color: #008000\">'ner_l1_value'</span>, <span style=\"color: #008000; text-decoration-color: #008000\">'ner_value'</span><span style=\"font-weight: bold\">]</span>\n",
       "</pre>\n"
      ]
     },
     "metadata": {},
     "output_type": "display_data"
    },
    {
     "data": {
      "text/plain": [
       "\u001B[38;5;40m🐶 Sheet\u001B[0m Update values at: ner_value!\u001B[1;92mA1:D\u001B[0m\n"
      ],
      "text/html": [
       "<pre style=\"white-space:pre;overflow-x:auto;line-height:normal;font-family:Menlo,'DejaVu Sans Mono',consolas,'Courier New',monospace\"><span style=\"color: #00d700; text-decoration-color: #00d700\">🐶 Sheet</span> Update values at: ner_value!<span style=\"color: #00ff00; text-decoration-color: #00ff00; font-weight: bold\">A1:D</span>\n",
       "</pre>\n"
      ]
     },
     "metadata": {},
     "output_type": "display_data"
    },
    {
     "data": {
      "text/plain": [
       "shape: (581, 4)\n",
       "┌──────────────────┬─────────────────────────┬─────────────────────────────────┬─────┐\n",
       "│ attribute_name   ┆ attribute_name_patterns ┆ all_name                        ┆ len │\n",
       "│ ---              ┆ ---                     ┆ ---                             ┆ --- │\n",
       "│ str              ┆ str                     ┆ str                             ┆ u32 │\n",
       "╞══════════════════╪═════════════════════════╪═════════════════════════════════╪═════╡\n",
       "│ Material         ┆ Material                ┆ Lụa, Carton, Sợi dệt, Len, Dệt… ┆ 83  │\n",
       "│ Flavour          ┆ Flavour                 ┆ Thịt bò, Cola, Trái cây, Phô m… ┆ 82  │\n",
       "│ Nutrient Type    ┆ Type                    ┆ Selenium, Nghệ, vitamin E, vit… ┆ 26  │\n",
       "│ Region of Origin ┆ Region                  ┆ Hàn Quốc, Malaysia, Úc, Đài Lo… ┆ 25  │\n",
       "│ Lighting Type    ┆ Type                    ┆ Đèn năng lượng mặt trời, Đèn n… ┆ 17  │\n",
       "│ …                ┆ …                       ┆ …                               ┆ …   │\n",
       "│ Antenna Type     ┆ Type                    ┆ Trong nhà                       ┆ 1   │\n",
       "│ TV Mount Feature ┆ Feature                 ┆ Giá treo tường                  ┆ 1   │\n",
       "│ Pan Type         ┆ Type                    ┆ Chảo xào                        ┆ 1   │\n",
       "│ Socks Type       ┆ Type                    ┆ Vớ thể thao                     ┆ 1   │\n",
       "│ Dryer Type       ┆ Type                    ┆ Bơm nhiệt                       ┆ 1   │\n",
       "└──────────────────┴─────────────────────────┴─────────────────────────────────┴─────┘"
      ],
      "text/html": [
       "<div><style>\n",
       ".dataframe > thead > tr,\n",
       ".dataframe > tbody > tr {\n",
       "  text-align: right;\n",
       "  white-space: pre-wrap;\n",
       "}\n",
       "</style>\n",
       "<small>shape: (581, 4)</small><table border=\"1\" class=\"dataframe\"><thead><tr><th>attribute_name</th><th>attribute_name_patterns</th><th>all_name</th><th>len</th></tr><tr><td>str</td><td>str</td><td>str</td><td>u32</td></tr></thead><tbody><tr><td>&quot;Material&quot;</td><td>&quot;Material&quot;</td><td>&quot;Lụa, Carton, Sợi dệt, Len, Dệt…</td><td>83</td></tr><tr><td>&quot;Flavour&quot;</td><td>&quot;Flavour&quot;</td><td>&quot;Thịt bò, Cola, Trái cây, Phô m…</td><td>82</td></tr><tr><td>&quot;Nutrient Type&quot;</td><td>&quot;Type&quot;</td><td>&quot;Selenium, Nghệ, vitamin E, vit…</td><td>26</td></tr><tr><td>&quot;Region of Origin&quot;</td><td>&quot;Region&quot;</td><td>&quot;Hàn Quốc, Malaysia, Úc, Đài Lo…</td><td>25</td></tr><tr><td>&quot;Lighting Type&quot;</td><td>&quot;Type&quot;</td><td>&quot;Đèn năng lượng mặt trời, Đèn n…</td><td>17</td></tr><tr><td>&hellip;</td><td>&hellip;</td><td>&hellip;</td><td>&hellip;</td></tr><tr><td>&quot;Antenna Type&quot;</td><td>&quot;Type&quot;</td><td>&quot;Trong nhà&quot;</td><td>1</td></tr><tr><td>&quot;TV Mount Feature&quot;</td><td>&quot;Feature&quot;</td><td>&quot;Giá treo tường&quot;</td><td>1</td></tr><tr><td>&quot;Pan Type&quot;</td><td>&quot;Type&quot;</td><td>&quot;Chảo xào&quot;</td><td>1</td></tr><tr><td>&quot;Socks Type&quot;</td><td>&quot;Type&quot;</td><td>&quot;Vớ thể thao&quot;</td><td>1</td></tr><tr><td>&quot;Dryer Type&quot;</td><td>&quot;Type&quot;</td><td>&quot;Bơm nhiệt&quot;</td><td>1</td></tr></tbody></table></div>"
      ]
     },
     "execution_count": 7,
     "metadata": {},
     "output_type": "execute_result"
    }
   ],
   "execution_count": 7
  },
  {
   "metadata": {
    "ExecuteTime": {
     "end_time": "2024-12-10T04:07:20.104653Z",
     "start_time": "2024-12-10T04:07:18.991594Z"
    }
   },
   "cell_type": "code",
   "source": [
    "# check if ner is duplicated\n",
    "tmp = (\n",
    "    df_ner.group_by(['attribute_value']).agg([\n",
    "        pl.col('attribute_name_patterns').unique(),\n",
    "        pl.col('item_id').n_unique()\n",
    "    ])\n",
    "    .with_columns(\n",
    "        pl.col('attribute_name_patterns').list.join(', ').alias('all_name'),\n",
    "        pl.col('attribute_name_patterns').list.len().alias('len'),\n",
    "    )\n",
    "    .drop(['attribute_name_patterns'])\n",
    "    .filter(pl.col('len') > 1)\n",
    "    .sort('len', descending=True)\n",
    ")\n",
    "update_df(tmp, 'ner_value', sh, start='G1')\n",
    "tmp"
   ],
   "id": "4f7960dcd64caa64",
   "outputs": [
    {
     "data": {
      "text/plain": [
       "\u001B[38;5;40m🐶 Sheet\u001B[0m There are \u001B[1;36m3\u001B[0m sheets\n"
      ],
      "text/html": [
       "<pre style=\"white-space:pre;overflow-x:auto;line-height:normal;font-family:Menlo,'DejaVu Sans Mono',consolas,'Courier New',monospace\"><span style=\"color: #00d700; text-decoration-color: #00d700\">🐶 Sheet</span> There are <span style=\"color: #008080; text-decoration-color: #008080; font-weight: bold\">3</span> sheets\n",
       "</pre>\n"
      ]
     },
     "metadata": {},
     "output_type": "display_data"
    },
    {
     "data": {
      "text/plain": [
       "\u001B[1m[\u001B[0m\u001B[32m'ner_l1'\u001B[0m, \u001B[32m'ner_l1_value'\u001B[0m, \u001B[32m'ner_value'\u001B[0m\u001B[1m]\u001B[0m\n"
      ],
      "text/html": [
       "<pre style=\"white-space:pre;overflow-x:auto;line-height:normal;font-family:Menlo,'DejaVu Sans Mono',consolas,'Courier New',monospace\"><span style=\"font-weight: bold\">[</span><span style=\"color: #008000; text-decoration-color: #008000\">'ner_l1'</span>, <span style=\"color: #008000; text-decoration-color: #008000\">'ner_l1_value'</span>, <span style=\"color: #008000; text-decoration-color: #008000\">'ner_value'</span><span style=\"font-weight: bold\">]</span>\n",
       "</pre>\n"
      ]
     },
     "metadata": {},
     "output_type": "display_data"
    },
    {
     "data": {
      "text/plain": [
       "\u001B[38;5;40m🐶 Sheet\u001B[0m Update values at: ner_value!G1:J\n"
      ],
      "text/html": [
       "<pre style=\"white-space:pre;overflow-x:auto;line-height:normal;font-family:Menlo,'DejaVu Sans Mono',consolas,'Courier New',monospace\"><span style=\"color: #00d700; text-decoration-color: #00d700\">🐶 Sheet</span> Update values at: ner_value!G1:J\n",
       "</pre>\n"
      ]
     },
     "metadata": {},
     "output_type": "display_data"
    },
    {
     "data": {
      "text/plain": [
       "shape: (106, 4)\n",
       "┌─────────────────┬─────────┬─────────────────────────────────┬─────┐\n",
       "│ attribute_value ┆ item_id ┆ all_name                        ┆ len │\n",
       "│ ---             ┆ ---     ┆ ---                             ┆ --- │\n",
       "│ str             ┆ u32     ┆ str                             ┆ u32 │\n",
       "╞═════════════════╪═════════╪═════════════════════════════════╪═════╡\n",
       "│ Cam             ┆ 127     ┆ Flavour, Type, Colour           ┆ 3   │\n",
       "│ Đen             ┆ 37      ┆ Style, Colour, Material         ┆ 3   │\n",
       "│ USB             ┆ 231     ┆ Feature, Type, SKU              ┆ 3   │\n",
       "│ Sáp             ┆ 38      ┆ Type, SKU, Material             ┆ 3   │\n",
       "│ Khóa Zip        ┆ 10      ┆ Bag Closure, Type, Wallet Clos… ┆ 3   │\n",
       "│ …               ┆ …       ┆ …                               ┆ …   │\n",
       "│ Chân            ┆ 40      ┆ Table Base, Application Area    ┆ 2   │\n",
       "│ Bạc             ┆ 30504   ┆ Material, Colour                ┆ 2   │\n",
       "│ C               ┆ 62      ┆ Size, Type                      ┆ 2   │\n",
       "│ Không gọng      ┆ 1866    ┆ Style, Type                     ┆ 2   │\n",
       "│ Hạt dẻ          ┆ 47      ┆ Type, Flavour                   ┆ 2   │\n",
       "└─────────────────┴─────────┴─────────────────────────────────┴─────┘"
      ],
      "text/html": [
       "<div><style>\n",
       ".dataframe > thead > tr,\n",
       ".dataframe > tbody > tr {\n",
       "  text-align: right;\n",
       "  white-space: pre-wrap;\n",
       "}\n",
       "</style>\n",
       "<small>shape: (106, 4)</small><table border=\"1\" class=\"dataframe\"><thead><tr><th>attribute_value</th><th>item_id</th><th>all_name</th><th>len</th></tr><tr><td>str</td><td>u32</td><td>str</td><td>u32</td></tr></thead><tbody><tr><td>&quot;Cam&quot;</td><td>127</td><td>&quot;Flavour, Type, Colour&quot;</td><td>3</td></tr><tr><td>&quot;Đen&quot;</td><td>37</td><td>&quot;Style, Colour, Material&quot;</td><td>3</td></tr><tr><td>&quot;USB&quot;</td><td>231</td><td>&quot;Feature, Type, SKU&quot;</td><td>3</td></tr><tr><td>&quot;Sáp&quot;</td><td>38</td><td>&quot;Type, SKU, Material&quot;</td><td>3</td></tr><tr><td>&quot;Khóa Zip&quot;</td><td>10</td><td>&quot;Bag Closure, Type, Wallet Clos…</td><td>3</td></tr><tr><td>&hellip;</td><td>&hellip;</td><td>&hellip;</td><td>&hellip;</td></tr><tr><td>&quot;Chân&quot;</td><td>40</td><td>&quot;Table Base, Application Area&quot;</td><td>2</td></tr><tr><td>&quot;Bạc&quot;</td><td>30504</td><td>&quot;Material, Colour&quot;</td><td>2</td></tr><tr><td>&quot;C&quot;</td><td>62</td><td>&quot;Size, Type&quot;</td><td>2</td></tr><tr><td>&quot;Không gọng&quot;</td><td>1866</td><td>&quot;Style, Type&quot;</td><td>2</td></tr><tr><td>&quot;Hạt dẻ&quot;</td><td>47</td><td>&quot;Type, Flavour&quot;</td><td>2</td></tr></tbody></table></div>"
      ]
     },
     "execution_count": 8,
     "metadata": {},
     "output_type": "execute_result"
    }
   ],
   "execution_count": 8
  },
  {
   "metadata": {
    "ExecuteTime": {
     "end_time": "2024-12-10T04:07:22.654952Z",
     "start_time": "2024-12-10T04:07:20.121845Z"
    }
   },
   "cell_type": "code",
   "source": [
    "# check attribute_name words\n",
    "tmp = (\n",
    "    df_ner\n",
    "    .group_by(['level1_global_be_category', 'attribute_name'])\n",
    "    .agg([\n",
    "        pl.col('attribute_value').unique(),\n",
    "        pl.col('item_id').count()\n",
    "    ])\n",
    "    .with_columns(pl.col('attribute_value').list.join(', '))\n",
    "    # .with_columns((pl.col('count') / pl.col('item_id')).alias('pct'))\n",
    ")\n",
    "update_df(tmp, 'ner_l1_value', sh, start='A1')\n",
    "tmp"
   ],
   "id": "257ea69450a2eab8",
   "outputs": [
    {
     "data": {
      "text/plain": [
       "\u001B[38;5;40m🐶 Sheet\u001B[0m There are \u001B[1;36m3\u001B[0m sheets\n"
      ],
      "text/html": [
       "<pre style=\"white-space:pre;overflow-x:auto;line-height:normal;font-family:Menlo,'DejaVu Sans Mono',consolas,'Courier New',monospace\"><span style=\"color: #00d700; text-decoration-color: #00d700\">🐶 Sheet</span> There are <span style=\"color: #008080; text-decoration-color: #008080; font-weight: bold\">3</span> sheets\n",
       "</pre>\n"
      ]
     },
     "metadata": {},
     "output_type": "display_data"
    },
    {
     "data": {
      "text/plain": [
       "\u001B[1m[\u001B[0m\u001B[32m'ner_l1'\u001B[0m, \u001B[32m'ner_l1_value'\u001B[0m, \u001B[32m'ner_value'\u001B[0m\u001B[1m]\u001B[0m\n"
      ],
      "text/html": [
       "<pre style=\"white-space:pre;overflow-x:auto;line-height:normal;font-family:Menlo,'DejaVu Sans Mono',consolas,'Courier New',monospace\"><span style=\"font-weight: bold\">[</span><span style=\"color: #008000; text-decoration-color: #008000\">'ner_l1'</span>, <span style=\"color: #008000; text-decoration-color: #008000\">'ner_l1_value'</span>, <span style=\"color: #008000; text-decoration-color: #008000\">'ner_value'</span><span style=\"font-weight: bold\">]</span>\n",
       "</pre>\n"
      ]
     },
     "metadata": {},
     "output_type": "display_data"
    },
    {
     "data": {
      "text/plain": [
       "\u001B[38;5;40m🐶 Sheet\u001B[0m Update values at: ner_l1_value!\u001B[1;92mA1:D\u001B[0m\n"
      ],
      "text/html": [
       "<pre style=\"white-space:pre;overflow-x:auto;line-height:normal;font-family:Menlo,'DejaVu Sans Mono',consolas,'Courier New',monospace\"><span style=\"color: #00d700; text-decoration-color: #00d700\">🐶 Sheet</span> Update values at: ner_l1_value!<span style=\"color: #00ff00; text-decoration-color: #00ff00; font-weight: bold\">A1:D</span>\n",
       "</pre>\n"
      ]
     },
     "metadata": {},
     "output_type": "display_data"
    },
    {
     "data": {
      "text/plain": [
       "shape: (848, 4)\n",
       "┌───────────────────────────┬───────────────────┬─────────────────────────────────┬─────────┐\n",
       "│ level1_global_be_category ┆ attribute_name    ┆ attribute_value                 ┆ item_id │\n",
       "│ ---                       ┆ ---               ┆ ---                             ┆ ---     │\n",
       "│ str                       ┆ str               ┆ str                             ┆ u32     │\n",
       "╞═══════════════════════════╪═══════════════════╪═════════════════════════════════╪═════════╡\n",
       "│ Home & Living             ┆ Table Type        ┆ Bàn văn phòng, Bàn trang điểm,… ┆ 1994    │\n",
       "│ Mobile & Gadgets          ┆ Distance          ┆ 3KM, 5KM, 8KM                   ┆ 9       │\n",
       "│ Home & Living             ┆ Formulation       ┆ Dạng Kem, Dạng xịt, Lỏng, Bột,… ┆ 258     │\n",
       "│ Men Clothes               ┆ Socks Type        ┆ Vớ thể thao                     ┆ 125     │\n",
       "│ Baby & Kids Fashion       ┆ Region of Origin  ┆ Nhật Bản, Hàn Quốc, Mỹ, Đài Lo… ┆ 485     │\n",
       "│ …                         ┆ …                 ┆ …                               ┆ …       │\n",
       "│ Home Appliances           ┆ Fan Speed         ┆ Tốc độ 3                        ┆ 1       │\n",
       "│ Men Clothes               ┆ Top Fit Type      ┆ Rộng, Cổ điển, Cơ bắp, Oversiz… ┆ 1732    │\n",
       "│ Food & Beverages          ┆ Noodle Type       ┆ Ramen, Bún tàu, Mì ăn liền, Bú… ┆ 109     │\n",
       "│ Home & Living             ┆ Caulking Function ┆ Chuyên dụng, Đa năng            ┆ 3       │\n",
       "│ Stationery                ┆ Board Type        ┆ Bảng ghim, Bảng trắng, Giá vẽ,… ┆ 23      │\n",
       "└───────────────────────────┴───────────────────┴─────────────────────────────────┴─────────┘"
      ],
      "text/html": [
       "<div><style>\n",
       ".dataframe > thead > tr,\n",
       ".dataframe > tbody > tr {\n",
       "  text-align: right;\n",
       "  white-space: pre-wrap;\n",
       "}\n",
       "</style>\n",
       "<small>shape: (848, 4)</small><table border=\"1\" class=\"dataframe\"><thead><tr><th>level1_global_be_category</th><th>attribute_name</th><th>attribute_value</th><th>item_id</th></tr><tr><td>str</td><td>str</td><td>str</td><td>u32</td></tr></thead><tbody><tr><td>&quot;Home &amp; Living&quot;</td><td>&quot;Table Type&quot;</td><td>&quot;Bàn văn phòng, Bàn trang điểm,…</td><td>1994</td></tr><tr><td>&quot;Mobile &amp; Gadgets&quot;</td><td>&quot;Distance&quot;</td><td>&quot;3KM, 5KM, 8KM&quot;</td><td>9</td></tr><tr><td>&quot;Home &amp; Living&quot;</td><td>&quot;Formulation&quot;</td><td>&quot;Dạng Kem, Dạng xịt, Lỏng, Bột,…</td><td>258</td></tr><tr><td>&quot;Men Clothes&quot;</td><td>&quot;Socks Type&quot;</td><td>&quot;Vớ thể thao&quot;</td><td>125</td></tr><tr><td>&quot;Baby &amp; Kids Fashion&quot;</td><td>&quot;Region of Origin&quot;</td><td>&quot;Nhật Bản, Hàn Quốc, Mỹ, Đài Lo…</td><td>485</td></tr><tr><td>&hellip;</td><td>&hellip;</td><td>&hellip;</td><td>&hellip;</td></tr><tr><td>&quot;Home Appliances&quot;</td><td>&quot;Fan Speed&quot;</td><td>&quot;Tốc độ 3&quot;</td><td>1</td></tr><tr><td>&quot;Men Clothes&quot;</td><td>&quot;Top Fit Type&quot;</td><td>&quot;Rộng, Cổ điển, Cơ bắp, Oversiz…</td><td>1732</td></tr><tr><td>&quot;Food &amp; Beverages&quot;</td><td>&quot;Noodle Type&quot;</td><td>&quot;Ramen, Bún tàu, Mì ăn liền, Bú…</td><td>109</td></tr><tr><td>&quot;Home &amp; Living&quot;</td><td>&quot;Caulking Function&quot;</td><td>&quot;Chuyên dụng, Đa năng&quot;</td><td>3</td></tr><tr><td>&quot;Stationery&quot;</td><td>&quot;Board Type&quot;</td><td>&quot;Bảng ghim, Bảng trắng, Giá vẽ,…</td><td>23</td></tr></tbody></table></div>"
      ]
     },
     "execution_count": 9,
     "metadata": {},
     "output_type": "execute_result"
    }
   ],
   "execution_count": 9
  },
  {
   "metadata": {
    "ExecuteTime": {
     "end_time": "2024-12-10T04:07:23.951827Z",
     "start_time": "2024-12-10T04:07:22.672957Z"
    }
   },
   "cell_type": "code",
   "source": [
    "# check attribute_name scale\n",
    "tmp = (\n",
    "    df_ner\n",
    "    .group_by('level1_global_be_category')\n",
    "    .agg([\n",
    "        pl.col('attribute_name').value_counts(),\n",
    "        pl.col('item_id').count()\n",
    "    ])\n",
    "    .explode(['attribute_name'])\n",
    "    .unnest('attribute_name')\n",
    "    .with_columns((pl.col('count') / pl.col('item_id')).alias('pct'))\n",
    "    .filter(pl.col('pct') > 0.05)\n",
    ")\n",
    "update_df(tmp, 'ner_l1', sh, start='A1')\n",
    "tmp"
   ],
   "id": "42e80c6372c5c919",
   "outputs": [
    {
     "data": {
      "text/plain": [
       "\u001B[38;5;40m🐶 Sheet\u001B[0m There are \u001B[1;36m3\u001B[0m sheets\n"
      ],
      "text/html": [
       "<pre style=\"white-space:pre;overflow-x:auto;line-height:normal;font-family:Menlo,'DejaVu Sans Mono',consolas,'Courier New',monospace\"><span style=\"color: #00d700; text-decoration-color: #00d700\">🐶 Sheet</span> There are <span style=\"color: #008080; text-decoration-color: #008080; font-weight: bold\">3</span> sheets\n",
       "</pre>\n"
      ]
     },
     "metadata": {},
     "output_type": "display_data"
    },
    {
     "data": {
      "text/plain": [
       "\u001B[1m[\u001B[0m\u001B[32m'ner_l1'\u001B[0m, \u001B[32m'ner_l1_value'\u001B[0m, \u001B[32m'ner_value'\u001B[0m\u001B[1m]\u001B[0m\n"
      ],
      "text/html": [
       "<pre style=\"white-space:pre;overflow-x:auto;line-height:normal;font-family:Menlo,'DejaVu Sans Mono',consolas,'Courier New',monospace\"><span style=\"font-weight: bold\">[</span><span style=\"color: #008000; text-decoration-color: #008000\">'ner_l1'</span>, <span style=\"color: #008000; text-decoration-color: #008000\">'ner_l1_value'</span>, <span style=\"color: #008000; text-decoration-color: #008000\">'ner_value'</span><span style=\"font-weight: bold\">]</span>\n",
       "</pre>\n"
      ]
     },
     "metadata": {},
     "output_type": "display_data"
    },
    {
     "data": {
      "text/plain": [
       "\u001B[38;5;40m🐶 Sheet\u001B[0m Update values at: ner_l1!\u001B[1;92mA1:E\u001B[0m\n"
      ],
      "text/html": [
       "<pre style=\"white-space:pre;overflow-x:auto;line-height:normal;font-family:Menlo,'DejaVu Sans Mono',consolas,'Courier New',monospace\"><span style=\"color: #00d700; text-decoration-color: #00d700\">🐶 Sheet</span> Update values at: ner_l1!<span style=\"color: #00ff00; text-decoration-color: #00ff00; font-weight: bold\">A1:E</span>\n",
       "</pre>\n"
      ]
     },
     "metadata": {},
     "output_type": "display_data"
    },
    {
     "data": {
      "text/plain": [
       "shape: (98, 5)\n",
       "┌──────────────────────────────┬──────────────────┬────────┬─────────┬──────────┐\n",
       "│ level1_global_be_category    ┆ attribute_name   ┆ count  ┆ item_id ┆ pct      │\n",
       "│ ---                          ┆ ---              ┆ ---    ┆ ---     ┆ ---      │\n",
       "│ str                          ┆ str              ┆ u32    ┆ u32     ┆ f64      │\n",
       "╞══════════════════════════════╪══════════════════╪════════╪═════════╪══════════╡\n",
       "│ Books & Magazines            ┆ Language         ┆ 1010   ┆ 1546    ┆ 0.653299 │\n",
       "│ Books & Magazines            ┆ Cover Type       ┆ 517    ┆ 1546    ┆ 0.334411 │\n",
       "│ Tickets, Vouchers & Services ┆ Region           ┆ 3      ┆ 6       ┆ 0.5      │\n",
       "│ Tickets, Vouchers & Services ┆ Number of Nights ┆ 1      ┆ 6       ┆ 0.166667 │\n",
       "│ Tickets, Vouchers & Services ┆ Voucher Form     ┆ 1      ┆ 6       ┆ 0.166667 │\n",
       "│ …                            ┆ …                ┆ …      ┆ …       ┆ …        │\n",
       "│ Fashion Accessories          ┆ Material         ┆ 55486  ┆ 155464  ┆ 0.356906 │\n",
       "│ Fashion Accessories          ┆ Hat Style        ┆ 11527  ┆ 155464  ┆ 0.074146 │\n",
       "│ Women Clothes                ┆ Material         ┆ 298740 ┆ 599039  ┆ 0.498699 │\n",
       "│ Women Clothes                ┆ Sleeve Length    ┆ 38757  ┆ 599039  ┆ 0.064699 │\n",
       "│ Women Clothes                ┆ Pattern          ┆ 168397 ┆ 599039  ┆ 0.281112 │\n",
       "└──────────────────────────────┴──────────────────┴────────┴─────────┴──────────┘"
      ],
      "text/html": [
       "<div><style>\n",
       ".dataframe > thead > tr,\n",
       ".dataframe > tbody > tr {\n",
       "  text-align: right;\n",
       "  white-space: pre-wrap;\n",
       "}\n",
       "</style>\n",
       "<small>shape: (98, 5)</small><table border=\"1\" class=\"dataframe\"><thead><tr><th>level1_global_be_category</th><th>attribute_name</th><th>count</th><th>item_id</th><th>pct</th></tr><tr><td>str</td><td>str</td><td>u32</td><td>u32</td><td>f64</td></tr></thead><tbody><tr><td>&quot;Books &amp; Magazines&quot;</td><td>&quot;Language&quot;</td><td>1010</td><td>1546</td><td>0.653299</td></tr><tr><td>&quot;Books &amp; Magazines&quot;</td><td>&quot;Cover Type&quot;</td><td>517</td><td>1546</td><td>0.334411</td></tr><tr><td>&quot;Tickets, Vouchers &amp; Services&quot;</td><td>&quot;Region&quot;</td><td>3</td><td>6</td><td>0.5</td></tr><tr><td>&quot;Tickets, Vouchers &amp; Services&quot;</td><td>&quot;Number of Nights&quot;</td><td>1</td><td>6</td><td>0.166667</td></tr><tr><td>&quot;Tickets, Vouchers &amp; Services&quot;</td><td>&quot;Voucher Form&quot;</td><td>1</td><td>6</td><td>0.166667</td></tr><tr><td>&hellip;</td><td>&hellip;</td><td>&hellip;</td><td>&hellip;</td><td>&hellip;</td></tr><tr><td>&quot;Fashion Accessories&quot;</td><td>&quot;Material&quot;</td><td>55486</td><td>155464</td><td>0.356906</td></tr><tr><td>&quot;Fashion Accessories&quot;</td><td>&quot;Hat Style&quot;</td><td>11527</td><td>155464</td><td>0.074146</td></tr><tr><td>&quot;Women Clothes&quot;</td><td>&quot;Material&quot;</td><td>298740</td><td>599039</td><td>0.498699</td></tr><tr><td>&quot;Women Clothes&quot;</td><td>&quot;Sleeve Length&quot;</td><td>38757</td><td>599039</td><td>0.064699</td></tr><tr><td>&quot;Women Clothes&quot;</td><td>&quot;Pattern&quot;</td><td>168397</td><td>599039</td><td>0.281112</td></tr></tbody></table></div>"
      ]
     },
     "execution_count": 10,
     "metadata": {},
     "output_type": "execute_result"
    }
   ],
   "execution_count": 10
  },
  {
   "metadata": {
    "ExecuteTime": {
     "end_time": "2024-12-10T04:07:23.974567Z",
     "start_time": "2024-12-10T04:07:23.973468Z"
    }
   },
   "cell_type": "code",
   "source": "",
   "id": "fdbe8bd242373f56",
   "outputs": [],
   "execution_count": null
  }
 ],
 "metadata": {
  "kernelspec": {
   "display_name": "Python 3",
   "language": "python",
   "name": "python3"
  },
  "language_info": {
   "codemirror_mode": {
    "name": "ipython",
    "version": 2
   },
   "file_extension": ".py",
   "mimetype": "text/x-python",
   "name": "python",
   "nbconvert_exporter": "python",
   "pygments_lexer": "ipython2",
   "version": "2.7.6"
  }
 },
 "nbformat": 4,
 "nbformat_minor": 5
}
