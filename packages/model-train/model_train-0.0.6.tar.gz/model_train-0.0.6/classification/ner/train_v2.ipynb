{
 "cells": [
  {
   "cell_type": "code",
   "id": "initial_id",
   "metadata": {
    "collapsed": true,
    "ExecuteTime": {
     "end_time": "2024-12-12T10:30:16.104657Z",
     "start_time": "2024-12-12T10:30:14.090627Z"
    }
   },
   "source": [
    "from core_pro.ultilities import make_sync_folder\n",
    "from datasets import Dataset, DatasetDict\n",
    "import polars as pl\n",
    "from sklearn.model_selection import train_test_split\n",
    "from rich import print\n",
    "from pattern import pattern, label_list\n",
    "from tqdm.auto import tqdm\n",
    "from transformers import Trainer\n",
    "from seqeval.metrics import classification_report, f1_score, precision_score, recall_score\n",
    "from transformers import (\n",
    "    AutoTokenizer,\n",
    "    DataCollatorForTokenClassification,\n",
    "    Trainer,\n",
    "    TrainingArguments,\n",
    "    AutoModelForTokenClassification,\n",
    "    pipeline\n",
    ")\n",
    "from transformers import EvalPrediction\n",
    "from pattern import label2id, label_list, id2label\n",
    "import numpy as np\n",
    "import evaluate\n",
    "\n",
    "path = make_sync_folder('nlp/ner')"
   ],
   "outputs": [],
   "execution_count": 1
  },
  {
   "metadata": {
    "ExecuteTime": {
     "end_time": "2024-12-12T10:30:16.804795Z",
     "start_time": "2024-12-12T10:30:16.111731Z"
    }
   },
   "cell_type": "code",
   "source": [
    "file = path / 'raw/tag_ner_bio.parquet'\n",
    "df = pl.read_parquet(file)\n",
    "df.head()"
   ],
   "id": "55b48096cc6f0a4",
   "outputs": [
    {
     "data": {
      "text/plain": [
       "shape: (5, 6)\n",
       "┌─────────────┬─────────────────┬─────────────────┬────────────────┬────────────────┬──────────────┐\n",
       "│ item_id     ┆ item_name       ┆ attribute       ┆ tokens         ┆ ner_tag        ┆ ner_id       │\n",
       "│ ---         ┆ ---             ┆ ---             ┆ ---            ┆ ---            ┆ ---          │\n",
       "│ i64         ┆ str             ┆ list[struct[2]] ┆ list[str]      ┆ list[str]      ┆ list[i64]    │\n",
       "╞═════════════╪═════════════════╪═════════════════╪════════════════╪════════════════╪══════════════╡\n",
       "│ 10204199660 ┆ Ốp lưng kính    ┆ [{\"Huawei\",\"Bra ┆ [\"Ốp\", \"lưng\", ┆ [\"O\", \"O\", …   ┆ [0, 0, … 0]  │\n",
       "│             ┆ cường lực       ┆ nd\"}]           ┆ … \"mê\"]        ┆ \"O\"]           ┆              │\n",
       "│             ┆ Huawei …        ┆                 ┆                ┆                ┆              │\n",
       "│ 25069093651 ┆ Hộp Quà Sữa Tắm ┆ [{\"300g\",\"SKU\"} ┆ [\"Hộp\", \"Quà\", ┆ [\"O\", \"O\", …   ┆ [0, 0, … 2]  │\n",
       "│             ┆ & Dưỡng Thể …   ┆ ]               ┆ … \"300gr\"]     ┆ \"B-SKU\"]       ┆              │\n",
       "│ 17955923825 ┆ Bình giữ nhiệt  ┆ [{\"Bình giữ     ┆ [\"Bình\",       ┆ [\"B-SKU\",      ┆ [2, 12, … 0] │\n",
       "│             ┆ cao cấp 880ml   ┆ nhiệt\",\"SKU\"}]  ┆ \"giữ\", …       ┆ \"I-SKU\", …     ┆              │\n",
       "│             ┆ S…              ┆                 ┆ \"Trắng\"]       ┆ \"O\"]           ┆              │\n",
       "│ 18350256452 ┆ Hạt Giống Hoa   ┆ [{\"Đơn\",\"Type\"} ┆ [\"Hạt\",        ┆ [\"O\", \"O\", …   ┆ [0, 0, … 0]  │\n",
       "│             ┆ Mãn Đình Hồng   ┆ ]               ┆ \"Giống\", …     ┆ \"O\"]           ┆              │\n",
       "│             ┆ Đơ…             ┆                 ┆ \"Gam)\"]        ┆                ┆              │\n",
       "│ 5551471172  ┆ Bàn phím cơ     ┆ [{\"Bàn phím     ┆ [\"Bàn\",        ┆ [\"B-Type\",     ┆ [8, 18, … 0] │\n",
       "│             ┆ Ajazz chính     ┆ cơ\",\"Type\"}]    ┆ \"phím\", …      ┆ \"I-Type\", …    ┆              │\n",
       "│             ┆ hãng ♥…         ┆                 ┆ \"Rainbow\"]     ┆ \"O\"]           ┆              │\n",
       "└─────────────┴─────────────────┴─────────────────┴────────────────┴────────────────┴──────────────┘"
      ],
      "text/html": [
       "<div><style>\n",
       ".dataframe > thead > tr,\n",
       ".dataframe > tbody > tr {\n",
       "  text-align: right;\n",
       "  white-space: pre-wrap;\n",
       "}\n",
       "</style>\n",
       "<small>shape: (5, 6)</small><table border=\"1\" class=\"dataframe\"><thead><tr><th>item_id</th><th>item_name</th><th>attribute</th><th>tokens</th><th>ner_tag</th><th>ner_id</th></tr><tr><td>i64</td><td>str</td><td>list[struct[2]]</td><td>list[str]</td><td>list[str]</td><td>list[i64]</td></tr></thead><tbody><tr><td>10204199660</td><td>&quot;Ốp lưng kính cường lực Huawei …</td><td>[{&quot;Huawei&quot;,&quot;Brand&quot;}]</td><td>[&quot;Ốp&quot;, &quot;lưng&quot;, … &quot;mê&quot;]</td><td>[&quot;O&quot;, &quot;O&quot;, … &quot;O&quot;]</td><td>[0, 0, … 0]</td></tr><tr><td>25069093651</td><td>&quot;Hộp Quà Sữa Tắm &amp; Dưỡng Thể …</td><td>[{&quot;300g&quot;,&quot;SKU&quot;}]</td><td>[&quot;Hộp&quot;, &quot;Quà&quot;, … &quot;300gr&quot;]</td><td>[&quot;O&quot;, &quot;O&quot;, … &quot;B-SKU&quot;]</td><td>[0, 0, … 2]</td></tr><tr><td>17955923825</td><td>&quot;Bình giữ nhiệt cao cấp 880ml S…</td><td>[{&quot;Bình giữ nhiệt&quot;,&quot;SKU&quot;}]</td><td>[&quot;Bình&quot;, &quot;giữ&quot;, … &quot;Trắng&quot;]</td><td>[&quot;B-SKU&quot;, &quot;I-SKU&quot;, … &quot;O&quot;]</td><td>[2, 12, … 0]</td></tr><tr><td>18350256452</td><td>&quot;Hạt Giống Hoa Mãn Đình Hồng Đơ…</td><td>[{&quot;Đơn&quot;,&quot;Type&quot;}]</td><td>[&quot;Hạt&quot;, &quot;Giống&quot;, … &quot;Gam)&quot;]</td><td>[&quot;O&quot;, &quot;O&quot;, … &quot;O&quot;]</td><td>[0, 0, … 0]</td></tr><tr><td>5551471172</td><td>&quot;Bàn phím cơ Ajazz chính hãng ♥…</td><td>[{&quot;Bàn phím cơ&quot;,&quot;Type&quot;}]</td><td>[&quot;Bàn&quot;, &quot;phím&quot;, … &quot;Rainbow&quot;]</td><td>[&quot;B-Type&quot;, &quot;I-Type&quot;, … &quot;O&quot;]</td><td>[8, 18, … 0]</td></tr></tbody></table></div>"
      ]
     },
     "execution_count": 2,
     "metadata": {},
     "output_type": "execute_result"
    }
   ],
   "execution_count": 2
  },
  {
   "metadata": {
    "ExecuteTime": {
     "end_time": "2024-12-12T10:30:19.304556Z",
     "start_time": "2024-12-12T10:30:16.901197Z"
    }
   },
   "cell_type": "code",
   "source": [
    "ds = Dataset.from_polars(df)\n",
    "train = ds.train_test_split(test_size=0.3, seed=42)\n",
    "test_valid = train['test'].train_test_split(test_size=0.5, seed=42)\n",
    "dataset = DatasetDict({\n",
    "    'train': train['train'],\n",
    "    'test': test_valid['test'],\n",
    "    'valid': test_valid['train']}\n",
    ")\n",
    "dataset"
   ],
   "id": "93d32e9775b32c13",
   "outputs": [
    {
     "data": {
      "text/plain": [
       "DatasetDict({\n",
       "    train: Dataset({\n",
       "        features: ['item_id', 'item_name', 'attribute', 'tokens', 'ner_tag', 'ner_id'],\n",
       "        num_rows: 1224507\n",
       "    })\n",
       "    test: Dataset({\n",
       "        features: ['item_id', 'item_name', 'attribute', 'tokens', 'ner_tag', 'ner_id'],\n",
       "        num_rows: 262395\n",
       "    })\n",
       "    valid: Dataset({\n",
       "        features: ['item_id', 'item_name', 'attribute', 'tokens', 'ner_tag', 'ner_id'],\n",
       "        num_rows: 262394\n",
       "    })\n",
       "})"
      ]
     },
     "execution_count": 3,
     "metadata": {},
     "output_type": "execute_result"
    }
   ],
   "execution_count": 3
  },
  {
   "metadata": {
    "ExecuteTime": {
     "end_time": "2024-12-12T10:30:19.312347Z",
     "start_time": "2024-12-12T10:30:19.309080Z"
    }
   },
   "cell_type": "code",
   "source": "print(dataset['train'][0])",
   "id": "3517f1a862961c4c",
   "outputs": [
    {
     "data": {
      "text/plain": [
       "\u001B[1m{\u001B[0m\n",
       "    \u001B[32m'item_id'\u001B[0m: \u001B[1;36m10365314432\u001B[0m,\n",
       "    \u001B[32m'item_name'\u001B[0m: \u001B[32m'Áo thun loang màu tay lỡ dáng rộng - Hoa cúc loang màu'\u001B[0m,\n",
       "    \u001B[32m'attribute'\u001B[0m: \u001B[1m[\u001B[0m\u001B[1m{\u001B[0m\u001B[32m'attribute_value'\u001B[0m: \u001B[32m'Hoa'\u001B[0m, \u001B[32m'attribute_name_patterns'\u001B[0m: \u001B[32m'Style'\u001B[0m\u001B[1m}\u001B[0m\u001B[1m]\u001B[0m,\n",
       "    \u001B[32m'tokens'\u001B[0m: \u001B[1m[\u001B[0m\u001B[32m'Áo'\u001B[0m, \u001B[32m'thun'\u001B[0m, \u001B[32m'loang'\u001B[0m, \u001B[32m'màu'\u001B[0m, \u001B[32m'tay'\u001B[0m, \u001B[32m'lỡ'\u001B[0m, \u001B[32m'dáng'\u001B[0m, \u001B[32m'rộng'\u001B[0m, \u001B[32m'-'\u001B[0m, \u001B[32m'Hoa'\u001B[0m, \u001B[32m'cúc'\u001B[0m, \u001B[32m'loang'\u001B[0m, \u001B[32m'màu'\u001B[0m\u001B[1m]\u001B[0m,\n",
       "    \u001B[32m'ner_tag'\u001B[0m: \u001B[1m[\u001B[0m\u001B[32m'O'\u001B[0m, \u001B[32m'O'\u001B[0m, \u001B[32m'O'\u001B[0m, \u001B[32m'O'\u001B[0m, \u001B[32m'O'\u001B[0m, \u001B[32m'O'\u001B[0m, \u001B[32m'O'\u001B[0m, \u001B[32m'O'\u001B[0m, \u001B[32m'O'\u001B[0m, \u001B[32m'B-Style'\u001B[0m, \u001B[32m'O'\u001B[0m, \u001B[32m'O'\u001B[0m, \u001B[32m'O'\u001B[0m\u001B[1m]\u001B[0m,\n",
       "    \u001B[32m'ner_id'\u001B[0m: \u001B[1m[\u001B[0m\u001B[1;36m0\u001B[0m, \u001B[1;36m0\u001B[0m, \u001B[1;36m0\u001B[0m, \u001B[1;36m0\u001B[0m, \u001B[1;36m0\u001B[0m, \u001B[1;36m0\u001B[0m, \u001B[1;36m0\u001B[0m, \u001B[1;36m0\u001B[0m, \u001B[1;36m0\u001B[0m, \u001B[1;36m7\u001B[0m, \u001B[1;36m0\u001B[0m, \u001B[1;36m0\u001B[0m, \u001B[1;36m0\u001B[0m\u001B[1m]\u001B[0m\n",
       "\u001B[1m}\u001B[0m\n"
      ],
      "text/html": [
       "<pre style=\"white-space:pre;overflow-x:auto;line-height:normal;font-family:Menlo,'DejaVu Sans Mono',consolas,'Courier New',monospace\"><span style=\"font-weight: bold\">{</span>\n",
       "    <span style=\"color: #008000; text-decoration-color: #008000\">'item_id'</span>: <span style=\"color: #008080; text-decoration-color: #008080; font-weight: bold\">10365314432</span>,\n",
       "    <span style=\"color: #008000; text-decoration-color: #008000\">'item_name'</span>: <span style=\"color: #008000; text-decoration-color: #008000\">'Áo thun loang màu tay lỡ dáng rộng - Hoa cúc loang màu'</span>,\n",
       "    <span style=\"color: #008000; text-decoration-color: #008000\">'attribute'</span>: <span style=\"font-weight: bold\">[{</span><span style=\"color: #008000; text-decoration-color: #008000\">'attribute_value'</span>: <span style=\"color: #008000; text-decoration-color: #008000\">'Hoa'</span>, <span style=\"color: #008000; text-decoration-color: #008000\">'attribute_name_patterns'</span>: <span style=\"color: #008000; text-decoration-color: #008000\">'Style'</span><span style=\"font-weight: bold\">}]</span>,\n",
       "    <span style=\"color: #008000; text-decoration-color: #008000\">'tokens'</span>: <span style=\"font-weight: bold\">[</span><span style=\"color: #008000; text-decoration-color: #008000\">'Áo'</span>, <span style=\"color: #008000; text-decoration-color: #008000\">'thun'</span>, <span style=\"color: #008000; text-decoration-color: #008000\">'loang'</span>, <span style=\"color: #008000; text-decoration-color: #008000\">'màu'</span>, <span style=\"color: #008000; text-decoration-color: #008000\">'tay'</span>, <span style=\"color: #008000; text-decoration-color: #008000\">'lỡ'</span>, <span style=\"color: #008000; text-decoration-color: #008000\">'dáng'</span>, <span style=\"color: #008000; text-decoration-color: #008000\">'rộng'</span>, <span style=\"color: #008000; text-decoration-color: #008000\">'-'</span>, <span style=\"color: #008000; text-decoration-color: #008000\">'Hoa'</span>, <span style=\"color: #008000; text-decoration-color: #008000\">'cúc'</span>, <span style=\"color: #008000; text-decoration-color: #008000\">'loang'</span>, <span style=\"color: #008000; text-decoration-color: #008000\">'màu'</span><span style=\"font-weight: bold\">]</span>,\n",
       "    <span style=\"color: #008000; text-decoration-color: #008000\">'ner_tag'</span>: <span style=\"font-weight: bold\">[</span><span style=\"color: #008000; text-decoration-color: #008000\">'O'</span>, <span style=\"color: #008000; text-decoration-color: #008000\">'O'</span>, <span style=\"color: #008000; text-decoration-color: #008000\">'O'</span>, <span style=\"color: #008000; text-decoration-color: #008000\">'O'</span>, <span style=\"color: #008000; text-decoration-color: #008000\">'O'</span>, <span style=\"color: #008000; text-decoration-color: #008000\">'O'</span>, <span style=\"color: #008000; text-decoration-color: #008000\">'O'</span>, <span style=\"color: #008000; text-decoration-color: #008000\">'O'</span>, <span style=\"color: #008000; text-decoration-color: #008000\">'O'</span>, <span style=\"color: #008000; text-decoration-color: #008000\">'B-Style'</span>, <span style=\"color: #008000; text-decoration-color: #008000\">'O'</span>, <span style=\"color: #008000; text-decoration-color: #008000\">'O'</span>, <span style=\"color: #008000; text-decoration-color: #008000\">'O'</span><span style=\"font-weight: bold\">]</span>,\n",
       "    <span style=\"color: #008000; text-decoration-color: #008000\">'ner_id'</span>: <span style=\"font-weight: bold\">[</span><span style=\"color: #008080; text-decoration-color: #008080; font-weight: bold\">0</span>, <span style=\"color: #008080; text-decoration-color: #008080; font-weight: bold\">0</span>, <span style=\"color: #008080; text-decoration-color: #008080; font-weight: bold\">0</span>, <span style=\"color: #008080; text-decoration-color: #008080; font-weight: bold\">0</span>, <span style=\"color: #008080; text-decoration-color: #008080; font-weight: bold\">0</span>, <span style=\"color: #008080; text-decoration-color: #008080; font-weight: bold\">0</span>, <span style=\"color: #008080; text-decoration-color: #008080; font-weight: bold\">0</span>, <span style=\"color: #008080; text-decoration-color: #008080; font-weight: bold\">0</span>, <span style=\"color: #008080; text-decoration-color: #008080; font-weight: bold\">0</span>, <span style=\"color: #008080; text-decoration-color: #008080; font-weight: bold\">7</span>, <span style=\"color: #008080; text-decoration-color: #008080; font-weight: bold\">0</span>, <span style=\"color: #008080; text-decoration-color: #008080; font-weight: bold\">0</span>, <span style=\"color: #008080; text-decoration-color: #008080; font-weight: bold\">0</span><span style=\"font-weight: bold\">]</span>\n",
       "<span style=\"font-weight: bold\">}</span>\n",
       "</pre>\n"
      ]
     },
     "metadata": {},
     "output_type": "display_data"
    }
   ],
   "execution_count": 4
  },
  {
   "metadata": {
    "ExecuteTime": {
     "end_time": "2024-12-12T10:30:19.746287Z",
     "start_time": "2024-12-12T10:30:19.353800Z"
    }
   },
   "cell_type": "code",
   "source": [
    "pretrain = \"distilbert/distilbert-base-uncased\"\n",
    "tokenizer = AutoTokenizer.from_pretrained(pretrain)"
   ],
   "id": "1f06f5c74944b931",
   "outputs": [],
   "execution_count": 5
  },
  {
   "metadata": {
    "ExecuteTime": {
     "end_time": "2024-12-12T10:30:19.756821Z",
     "start_time": "2024-12-12T10:30:19.750638Z"
    }
   },
   "cell_type": "code",
   "source": [
    "example = dataset[\"train\"][0]\n",
    "tokenized_input = tokenizer(example[\"tokens\"], is_split_into_words=True, max_length=50, truncation=True, padding='max_length')\n",
    "tokens = tokenizer.convert_ids_to_tokens(tokenized_input[\"input_ids\"])\n",
    "print(example)\n",
    "print(tokens)"
   ],
   "id": "48809a02a2b81a47",
   "outputs": [
    {
     "data": {
      "text/plain": [
       "\u001B[1m{\u001B[0m\n",
       "    \u001B[32m'item_id'\u001B[0m: \u001B[1;36m10365314432\u001B[0m,\n",
       "    \u001B[32m'item_name'\u001B[0m: \u001B[32m'Áo thun loang màu tay lỡ dáng rộng - Hoa cúc loang màu'\u001B[0m,\n",
       "    \u001B[32m'attribute'\u001B[0m: \u001B[1m[\u001B[0m\u001B[1m{\u001B[0m\u001B[32m'attribute_value'\u001B[0m: \u001B[32m'Hoa'\u001B[0m, \u001B[32m'attribute_name_patterns'\u001B[0m: \u001B[32m'Style'\u001B[0m\u001B[1m}\u001B[0m\u001B[1m]\u001B[0m,\n",
       "    \u001B[32m'tokens'\u001B[0m: \u001B[1m[\u001B[0m\u001B[32m'Áo'\u001B[0m, \u001B[32m'thun'\u001B[0m, \u001B[32m'loang'\u001B[0m, \u001B[32m'màu'\u001B[0m, \u001B[32m'tay'\u001B[0m, \u001B[32m'lỡ'\u001B[0m, \u001B[32m'dáng'\u001B[0m, \u001B[32m'rộng'\u001B[0m, \u001B[32m'-'\u001B[0m, \u001B[32m'Hoa'\u001B[0m, \u001B[32m'cúc'\u001B[0m, \u001B[32m'loang'\u001B[0m, \u001B[32m'màu'\u001B[0m\u001B[1m]\u001B[0m,\n",
       "    \u001B[32m'ner_tag'\u001B[0m: \u001B[1m[\u001B[0m\u001B[32m'O'\u001B[0m, \u001B[32m'O'\u001B[0m, \u001B[32m'O'\u001B[0m, \u001B[32m'O'\u001B[0m, \u001B[32m'O'\u001B[0m, \u001B[32m'O'\u001B[0m, \u001B[32m'O'\u001B[0m, \u001B[32m'O'\u001B[0m, \u001B[32m'O'\u001B[0m, \u001B[32m'B-Style'\u001B[0m, \u001B[32m'O'\u001B[0m, \u001B[32m'O'\u001B[0m, \u001B[32m'O'\u001B[0m\u001B[1m]\u001B[0m,\n",
       "    \u001B[32m'ner_id'\u001B[0m: \u001B[1m[\u001B[0m\u001B[1;36m0\u001B[0m, \u001B[1;36m0\u001B[0m, \u001B[1;36m0\u001B[0m, \u001B[1;36m0\u001B[0m, \u001B[1;36m0\u001B[0m, \u001B[1;36m0\u001B[0m, \u001B[1;36m0\u001B[0m, \u001B[1;36m0\u001B[0m, \u001B[1;36m0\u001B[0m, \u001B[1;36m7\u001B[0m, \u001B[1;36m0\u001B[0m, \u001B[1;36m0\u001B[0m, \u001B[1;36m0\u001B[0m\u001B[1m]\u001B[0m\n",
       "\u001B[1m}\u001B[0m\n"
      ],
      "text/html": [
       "<pre style=\"white-space:pre;overflow-x:auto;line-height:normal;font-family:Menlo,'DejaVu Sans Mono',consolas,'Courier New',monospace\"><span style=\"font-weight: bold\">{</span>\n",
       "    <span style=\"color: #008000; text-decoration-color: #008000\">'item_id'</span>: <span style=\"color: #008080; text-decoration-color: #008080; font-weight: bold\">10365314432</span>,\n",
       "    <span style=\"color: #008000; text-decoration-color: #008000\">'item_name'</span>: <span style=\"color: #008000; text-decoration-color: #008000\">'Áo thun loang màu tay lỡ dáng rộng - Hoa cúc loang màu'</span>,\n",
       "    <span style=\"color: #008000; text-decoration-color: #008000\">'attribute'</span>: <span style=\"font-weight: bold\">[{</span><span style=\"color: #008000; text-decoration-color: #008000\">'attribute_value'</span>: <span style=\"color: #008000; text-decoration-color: #008000\">'Hoa'</span>, <span style=\"color: #008000; text-decoration-color: #008000\">'attribute_name_patterns'</span>: <span style=\"color: #008000; text-decoration-color: #008000\">'Style'</span><span style=\"font-weight: bold\">}]</span>,\n",
       "    <span style=\"color: #008000; text-decoration-color: #008000\">'tokens'</span>: <span style=\"font-weight: bold\">[</span><span style=\"color: #008000; text-decoration-color: #008000\">'Áo'</span>, <span style=\"color: #008000; text-decoration-color: #008000\">'thun'</span>, <span style=\"color: #008000; text-decoration-color: #008000\">'loang'</span>, <span style=\"color: #008000; text-decoration-color: #008000\">'màu'</span>, <span style=\"color: #008000; text-decoration-color: #008000\">'tay'</span>, <span style=\"color: #008000; text-decoration-color: #008000\">'lỡ'</span>, <span style=\"color: #008000; text-decoration-color: #008000\">'dáng'</span>, <span style=\"color: #008000; text-decoration-color: #008000\">'rộng'</span>, <span style=\"color: #008000; text-decoration-color: #008000\">'-'</span>, <span style=\"color: #008000; text-decoration-color: #008000\">'Hoa'</span>, <span style=\"color: #008000; text-decoration-color: #008000\">'cúc'</span>, <span style=\"color: #008000; text-decoration-color: #008000\">'loang'</span>, <span style=\"color: #008000; text-decoration-color: #008000\">'màu'</span><span style=\"font-weight: bold\">]</span>,\n",
       "    <span style=\"color: #008000; text-decoration-color: #008000\">'ner_tag'</span>: <span style=\"font-weight: bold\">[</span><span style=\"color: #008000; text-decoration-color: #008000\">'O'</span>, <span style=\"color: #008000; text-decoration-color: #008000\">'O'</span>, <span style=\"color: #008000; text-decoration-color: #008000\">'O'</span>, <span style=\"color: #008000; text-decoration-color: #008000\">'O'</span>, <span style=\"color: #008000; text-decoration-color: #008000\">'O'</span>, <span style=\"color: #008000; text-decoration-color: #008000\">'O'</span>, <span style=\"color: #008000; text-decoration-color: #008000\">'O'</span>, <span style=\"color: #008000; text-decoration-color: #008000\">'O'</span>, <span style=\"color: #008000; text-decoration-color: #008000\">'O'</span>, <span style=\"color: #008000; text-decoration-color: #008000\">'B-Style'</span>, <span style=\"color: #008000; text-decoration-color: #008000\">'O'</span>, <span style=\"color: #008000; text-decoration-color: #008000\">'O'</span>, <span style=\"color: #008000; text-decoration-color: #008000\">'O'</span><span style=\"font-weight: bold\">]</span>,\n",
       "    <span style=\"color: #008000; text-decoration-color: #008000\">'ner_id'</span>: <span style=\"font-weight: bold\">[</span><span style=\"color: #008080; text-decoration-color: #008080; font-weight: bold\">0</span>, <span style=\"color: #008080; text-decoration-color: #008080; font-weight: bold\">0</span>, <span style=\"color: #008080; text-decoration-color: #008080; font-weight: bold\">0</span>, <span style=\"color: #008080; text-decoration-color: #008080; font-weight: bold\">0</span>, <span style=\"color: #008080; text-decoration-color: #008080; font-weight: bold\">0</span>, <span style=\"color: #008080; text-decoration-color: #008080; font-weight: bold\">0</span>, <span style=\"color: #008080; text-decoration-color: #008080; font-weight: bold\">0</span>, <span style=\"color: #008080; text-decoration-color: #008080; font-weight: bold\">0</span>, <span style=\"color: #008080; text-decoration-color: #008080; font-weight: bold\">0</span>, <span style=\"color: #008080; text-decoration-color: #008080; font-weight: bold\">7</span>, <span style=\"color: #008080; text-decoration-color: #008080; font-weight: bold\">0</span>, <span style=\"color: #008080; text-decoration-color: #008080; font-weight: bold\">0</span>, <span style=\"color: #008080; text-decoration-color: #008080; font-weight: bold\">0</span><span style=\"font-weight: bold\">]</span>\n",
       "<span style=\"font-weight: bold\">}</span>\n",
       "</pre>\n"
      ]
     },
     "metadata": {},
     "output_type": "display_data"
    },
    {
     "data": {
      "text/plain": [
       "\u001B[1m[\u001B[0m\n",
       "    \u001B[32m'\u001B[0m\u001B[32m[\u001B[0m\u001B[32mCLS\u001B[0m\u001B[32m]\u001B[0m\u001B[32m'\u001B[0m,\n",
       "    \u001B[32m'ao'\u001B[0m,\n",
       "    \u001B[32m'th'\u001B[0m,\n",
       "    \u001B[32m'##un'\u001B[0m,\n",
       "    \u001B[32m'loan'\u001B[0m,\n",
       "    \u001B[32m'##g'\u001B[0m,\n",
       "    \u001B[32m'ma'\u001B[0m,\n",
       "    \u001B[32m'##u'\u001B[0m,\n",
       "    \u001B[32m'tay'\u001B[0m,\n",
       "    \u001B[32m'lo'\u001B[0m,\n",
       "    \u001B[32m'dan'\u001B[0m,\n",
       "    \u001B[32m'##g'\u001B[0m,\n",
       "    \u001B[32m'ron'\u001B[0m,\n",
       "    \u001B[32m'##g'\u001B[0m,\n",
       "    \u001B[32m'-'\u001B[0m,\n",
       "    \u001B[32m'ho'\u001B[0m,\n",
       "    \u001B[32m'##a'\u001B[0m,\n",
       "    \u001B[32m'cu'\u001B[0m,\n",
       "    \u001B[32m'##c'\u001B[0m,\n",
       "    \u001B[32m'loan'\u001B[0m,\n",
       "    \u001B[32m'##g'\u001B[0m,\n",
       "    \u001B[32m'ma'\u001B[0m,\n",
       "    \u001B[32m'##u'\u001B[0m,\n",
       "    \u001B[32m'\u001B[0m\u001B[32m[\u001B[0m\u001B[32mSEP\u001B[0m\u001B[32m]\u001B[0m\u001B[32m'\u001B[0m,\n",
       "    \u001B[32m'\u001B[0m\u001B[32m[\u001B[0m\u001B[32mPAD\u001B[0m\u001B[32m]\u001B[0m\u001B[32m'\u001B[0m,\n",
       "    \u001B[32m'\u001B[0m\u001B[32m[\u001B[0m\u001B[32mPAD\u001B[0m\u001B[32m]\u001B[0m\u001B[32m'\u001B[0m,\n",
       "    \u001B[32m'\u001B[0m\u001B[32m[\u001B[0m\u001B[32mPAD\u001B[0m\u001B[32m]\u001B[0m\u001B[32m'\u001B[0m,\n",
       "    \u001B[32m'\u001B[0m\u001B[32m[\u001B[0m\u001B[32mPAD\u001B[0m\u001B[32m]\u001B[0m\u001B[32m'\u001B[0m,\n",
       "    \u001B[32m'\u001B[0m\u001B[32m[\u001B[0m\u001B[32mPAD\u001B[0m\u001B[32m]\u001B[0m\u001B[32m'\u001B[0m,\n",
       "    \u001B[32m'\u001B[0m\u001B[32m[\u001B[0m\u001B[32mPAD\u001B[0m\u001B[32m]\u001B[0m\u001B[32m'\u001B[0m,\n",
       "    \u001B[32m'\u001B[0m\u001B[32m[\u001B[0m\u001B[32mPAD\u001B[0m\u001B[32m]\u001B[0m\u001B[32m'\u001B[0m,\n",
       "    \u001B[32m'\u001B[0m\u001B[32m[\u001B[0m\u001B[32mPAD\u001B[0m\u001B[32m]\u001B[0m\u001B[32m'\u001B[0m,\n",
       "    \u001B[32m'\u001B[0m\u001B[32m[\u001B[0m\u001B[32mPAD\u001B[0m\u001B[32m]\u001B[0m\u001B[32m'\u001B[0m,\n",
       "    \u001B[32m'\u001B[0m\u001B[32m[\u001B[0m\u001B[32mPAD\u001B[0m\u001B[32m]\u001B[0m\u001B[32m'\u001B[0m,\n",
       "    \u001B[32m'\u001B[0m\u001B[32m[\u001B[0m\u001B[32mPAD\u001B[0m\u001B[32m]\u001B[0m\u001B[32m'\u001B[0m,\n",
       "    \u001B[32m'\u001B[0m\u001B[32m[\u001B[0m\u001B[32mPAD\u001B[0m\u001B[32m]\u001B[0m\u001B[32m'\u001B[0m,\n",
       "    \u001B[32m'\u001B[0m\u001B[32m[\u001B[0m\u001B[32mPAD\u001B[0m\u001B[32m]\u001B[0m\u001B[32m'\u001B[0m,\n",
       "    \u001B[32m'\u001B[0m\u001B[32m[\u001B[0m\u001B[32mPAD\u001B[0m\u001B[32m]\u001B[0m\u001B[32m'\u001B[0m,\n",
       "    \u001B[32m'\u001B[0m\u001B[32m[\u001B[0m\u001B[32mPAD\u001B[0m\u001B[32m]\u001B[0m\u001B[32m'\u001B[0m,\n",
       "    \u001B[32m'\u001B[0m\u001B[32m[\u001B[0m\u001B[32mPAD\u001B[0m\u001B[32m]\u001B[0m\u001B[32m'\u001B[0m,\n",
       "    \u001B[32m'\u001B[0m\u001B[32m[\u001B[0m\u001B[32mPAD\u001B[0m\u001B[32m]\u001B[0m\u001B[32m'\u001B[0m,\n",
       "    \u001B[32m'\u001B[0m\u001B[32m[\u001B[0m\u001B[32mPAD\u001B[0m\u001B[32m]\u001B[0m\u001B[32m'\u001B[0m,\n",
       "    \u001B[32m'\u001B[0m\u001B[32m[\u001B[0m\u001B[32mPAD\u001B[0m\u001B[32m]\u001B[0m\u001B[32m'\u001B[0m,\n",
       "    \u001B[32m'\u001B[0m\u001B[32m[\u001B[0m\u001B[32mPAD\u001B[0m\u001B[32m]\u001B[0m\u001B[32m'\u001B[0m,\n",
       "    \u001B[32m'\u001B[0m\u001B[32m[\u001B[0m\u001B[32mPAD\u001B[0m\u001B[32m]\u001B[0m\u001B[32m'\u001B[0m,\n",
       "    \u001B[32m'\u001B[0m\u001B[32m[\u001B[0m\u001B[32mPAD\u001B[0m\u001B[32m]\u001B[0m\u001B[32m'\u001B[0m,\n",
       "    \u001B[32m'\u001B[0m\u001B[32m[\u001B[0m\u001B[32mPAD\u001B[0m\u001B[32m]\u001B[0m\u001B[32m'\u001B[0m,\n",
       "    \u001B[32m'\u001B[0m\u001B[32m[\u001B[0m\u001B[32mPAD\u001B[0m\u001B[32m]\u001B[0m\u001B[32m'\u001B[0m,\n",
       "    \u001B[32m'\u001B[0m\u001B[32m[\u001B[0m\u001B[32mPAD\u001B[0m\u001B[32m]\u001B[0m\u001B[32m'\u001B[0m,\n",
       "    \u001B[32m'\u001B[0m\u001B[32m[\u001B[0m\u001B[32mPAD\u001B[0m\u001B[32m]\u001B[0m\u001B[32m'\u001B[0m\n",
       "\u001B[1m]\u001B[0m\n"
      ],
      "text/html": [
       "<pre style=\"white-space:pre;overflow-x:auto;line-height:normal;font-family:Menlo,'DejaVu Sans Mono',consolas,'Courier New',monospace\"><span style=\"font-weight: bold\">[</span>\n",
       "    <span style=\"color: #008000; text-decoration-color: #008000\">'[CLS]'</span>,\n",
       "    <span style=\"color: #008000; text-decoration-color: #008000\">'ao'</span>,\n",
       "    <span style=\"color: #008000; text-decoration-color: #008000\">'th'</span>,\n",
       "    <span style=\"color: #008000; text-decoration-color: #008000\">'##un'</span>,\n",
       "    <span style=\"color: #008000; text-decoration-color: #008000\">'loan'</span>,\n",
       "    <span style=\"color: #008000; text-decoration-color: #008000\">'##g'</span>,\n",
       "    <span style=\"color: #008000; text-decoration-color: #008000\">'ma'</span>,\n",
       "    <span style=\"color: #008000; text-decoration-color: #008000\">'##u'</span>,\n",
       "    <span style=\"color: #008000; text-decoration-color: #008000\">'tay'</span>,\n",
       "    <span style=\"color: #008000; text-decoration-color: #008000\">'lo'</span>,\n",
       "    <span style=\"color: #008000; text-decoration-color: #008000\">'dan'</span>,\n",
       "    <span style=\"color: #008000; text-decoration-color: #008000\">'##g'</span>,\n",
       "    <span style=\"color: #008000; text-decoration-color: #008000\">'ron'</span>,\n",
       "    <span style=\"color: #008000; text-decoration-color: #008000\">'##g'</span>,\n",
       "    <span style=\"color: #008000; text-decoration-color: #008000\">'-'</span>,\n",
       "    <span style=\"color: #008000; text-decoration-color: #008000\">'ho'</span>,\n",
       "    <span style=\"color: #008000; text-decoration-color: #008000\">'##a'</span>,\n",
       "    <span style=\"color: #008000; text-decoration-color: #008000\">'cu'</span>,\n",
       "    <span style=\"color: #008000; text-decoration-color: #008000\">'##c'</span>,\n",
       "    <span style=\"color: #008000; text-decoration-color: #008000\">'loan'</span>,\n",
       "    <span style=\"color: #008000; text-decoration-color: #008000\">'##g'</span>,\n",
       "    <span style=\"color: #008000; text-decoration-color: #008000\">'ma'</span>,\n",
       "    <span style=\"color: #008000; text-decoration-color: #008000\">'##u'</span>,\n",
       "    <span style=\"color: #008000; text-decoration-color: #008000\">'[SEP]'</span>,\n",
       "    <span style=\"color: #008000; text-decoration-color: #008000\">'[PAD]'</span>,\n",
       "    <span style=\"color: #008000; text-decoration-color: #008000\">'[PAD]'</span>,\n",
       "    <span style=\"color: #008000; text-decoration-color: #008000\">'[PAD]'</span>,\n",
       "    <span style=\"color: #008000; text-decoration-color: #008000\">'[PAD]'</span>,\n",
       "    <span style=\"color: #008000; text-decoration-color: #008000\">'[PAD]'</span>,\n",
       "    <span style=\"color: #008000; text-decoration-color: #008000\">'[PAD]'</span>,\n",
       "    <span style=\"color: #008000; text-decoration-color: #008000\">'[PAD]'</span>,\n",
       "    <span style=\"color: #008000; text-decoration-color: #008000\">'[PAD]'</span>,\n",
       "    <span style=\"color: #008000; text-decoration-color: #008000\">'[PAD]'</span>,\n",
       "    <span style=\"color: #008000; text-decoration-color: #008000\">'[PAD]'</span>,\n",
       "    <span style=\"color: #008000; text-decoration-color: #008000\">'[PAD]'</span>,\n",
       "    <span style=\"color: #008000; text-decoration-color: #008000\">'[PAD]'</span>,\n",
       "    <span style=\"color: #008000; text-decoration-color: #008000\">'[PAD]'</span>,\n",
       "    <span style=\"color: #008000; text-decoration-color: #008000\">'[PAD]'</span>,\n",
       "    <span style=\"color: #008000; text-decoration-color: #008000\">'[PAD]'</span>,\n",
       "    <span style=\"color: #008000; text-decoration-color: #008000\">'[PAD]'</span>,\n",
       "    <span style=\"color: #008000; text-decoration-color: #008000\">'[PAD]'</span>,\n",
       "    <span style=\"color: #008000; text-decoration-color: #008000\">'[PAD]'</span>,\n",
       "    <span style=\"color: #008000; text-decoration-color: #008000\">'[PAD]'</span>,\n",
       "    <span style=\"color: #008000; text-decoration-color: #008000\">'[PAD]'</span>,\n",
       "    <span style=\"color: #008000; text-decoration-color: #008000\">'[PAD]'</span>,\n",
       "    <span style=\"color: #008000; text-decoration-color: #008000\">'[PAD]'</span>,\n",
       "    <span style=\"color: #008000; text-decoration-color: #008000\">'[PAD]'</span>,\n",
       "    <span style=\"color: #008000; text-decoration-color: #008000\">'[PAD]'</span>,\n",
       "    <span style=\"color: #008000; text-decoration-color: #008000\">'[PAD]'</span>,\n",
       "    <span style=\"color: #008000; text-decoration-color: #008000\">'[PAD]'</span>\n",
       "<span style=\"font-weight: bold\">]</span>\n",
       "</pre>\n"
      ]
     },
     "metadata": {},
     "output_type": "display_data"
    }
   ],
   "execution_count": 6
  },
  {
   "metadata": {
    "ExecuteTime": {
     "end_time": "2024-12-12T11:20:36.774649Z",
     "start_time": "2024-12-12T10:30:19.767656Z"
    }
   },
   "cell_type": "code",
   "source": [
    "def tokenize_and_align_labels(examples):\n",
    "    tokenized_inputs = tokenizer(examples[\"tokens\"], is_split_into_words=True, max_length=50, truncation=True, padding='max_length')\n",
    "\n",
    "    labels = []\n",
    "    for i, label in enumerate(examples[f\"ner_id\"]):\n",
    "        word_ids = tokenized_inputs.word_ids(batch_index=i)  # Map tokens to their respective word.\n",
    "        previous_word_idx = None\n",
    "        label_ids = []\n",
    "        for word_idx in word_ids:  # Set the special tokens to -100.\n",
    "            if word_idx is None:\n",
    "                label_ids.append(-100)\n",
    "            elif word_idx != previous_word_idx:  # Only label the first token of a given word.\n",
    "                label_ids.append(label[word_idx])\n",
    "            else:\n",
    "                label_ids.append(-100)\n",
    "            previous_word_idx = word_idx\n",
    "        labels.append(label_ids)\n",
    "\n",
    "    tokenized_inputs[\"labels\"] = labels\n",
    "    return tokenized_inputs\n",
    "\n",
    "\n",
    "tokenized_ds = dataset.map(tokenize_and_align_labels, batched=True)"
   ],
   "id": "78dd6ac54daa4f15",
   "outputs": [
    {
     "data": {
      "text/plain": [
       "Map:   0%|          | 0/1224507 [00:00<?, ? examples/s]"
      ],
      "application/vnd.jupyter.widget-view+json": {
       "version_major": 2,
       "version_minor": 0,
       "model_id": "073ef8f26a25495aaf44d4ecd34bd2fb"
      }
     },
     "metadata": {},
     "output_type": "display_data"
    },
    {
     "data": {
      "text/plain": [
       "Map:   0%|          | 0/262395 [00:00<?, ? examples/s]"
      ],
      "application/vnd.jupyter.widget-view+json": {
       "version_major": 2,
       "version_minor": 0,
       "model_id": "c40733275bf7419fa61ae0219e791150"
      }
     },
     "metadata": {},
     "output_type": "display_data"
    },
    {
     "data": {
      "text/plain": [
       "Map:   0%|          | 0/262394 [00:00<?, ? examples/s]"
      ],
      "application/vnd.jupyter.widget-view+json": {
       "version_major": 2,
       "version_minor": 0,
       "model_id": "ee36da55e6e0414b8d442172c6fa1ea8"
      }
     },
     "metadata": {},
     "output_type": "display_data"
    }
   ],
   "execution_count": 7
  },
  {
   "metadata": {
    "ExecuteTime": {
     "end_time": "2024-12-12T11:20:38.415294Z",
     "start_time": "2024-12-12T11:20:36.780432Z"
    }
   },
   "cell_type": "code",
   "source": [
    "seqeval = evaluate.load(\"seqeval\")\n",
    "\n",
    "def compute_metrics(p):\n",
    "    predictions, labels = p\n",
    "    predictions = np.argmax(predictions, axis=2)\n",
    "\n",
    "    true_predictions = [\n",
    "        [label_list[p] for (p, l) in zip(prediction, label) if l != -100]\n",
    "        for prediction, label in zip(predictions, labels)\n",
    "    ]\n",
    "    true_labels = [\n",
    "        [label_list[l] for (p, l) in zip(prediction, label) if l != -100]\n",
    "        for prediction, label in zip(predictions, labels)\n",
    "    ]\n",
    "\n",
    "    results = seqeval.compute(predictions=true_predictions, references=true_labels)\n",
    "    return {\n",
    "        \"precision\": results[\"overall_precision\"],\n",
    "        \"recall\": results[\"overall_recall\"],\n",
    "        \"f1\": results[\"overall_f1\"],\n",
    "        \"accuracy\": results[\"overall_accuracy\"],\n",
    "    }"
   ],
   "id": "616c64dee272dd45",
   "outputs": [],
   "execution_count": 8
  },
  {
   "metadata": {
    "ExecuteTime": {
     "end_time": "2024-12-12T11:44:41.694222Z",
     "start_time": "2024-12-12T11:20:38.421931Z"
    }
   },
   "cell_type": "code",
   "source": [
    "data_collator = DataCollatorForTokenClassification(tokenizer=tokenizer, return_tensors=\"pt\")\n",
    "\n",
    "model = AutoModelForTokenClassification.from_pretrained(\n",
    "    pretrain, \n",
    "    num_labels=len(id2label), \n",
    "    id2label=id2label, \n",
    "    label2id=label2id\n",
    ")\n",
    "log_step = 5000\n",
    "folder = str(path / f'model/{pretrain}')\n",
    "training_args = TrainingArguments(\n",
    "    output_dir=folder,\n",
    "    warmup_ratio=0.1,\n",
    "    lr_scheduler_type='cosine',\n",
    "    weight_decay=0.001,\n",
    "    learning_rate=1e-4,\n",
    "    per_device_train_batch_size=128,\n",
    "    per_device_eval_batch_size=16,\n",
    "    fp16=True,\n",
    "    logging_strategy='steps',\n",
    "    save_strategy='steps',\n",
    "    eval_strategy='steps',\n",
    "    save_steps=log_step,\n",
    "    eval_steps=log_step,\n",
    "    logging_steps=log_step,\n",
    "    save_total_limit=2,\n",
    "    load_best_model_at_end=True,\n",
    "    metric_for_best_model='f1',\n",
    "    report_to=\"none\",\n",
    "    num_train_epochs=3,\n",
    "    optim='adafactor',\n",
    ")\n",
    "\n",
    "trainer = Trainer(\n",
    "    model=model,\n",
    "    args=training_args,\n",
    "    train_dataset=tokenized_ds[\"train\"],\n",
    "    eval_dataset=tokenized_ds[\"test\"],\n",
    "    processing_class=tokenizer,\n",
    "    data_collator=data_collator,\n",
    "    compute_metrics=compute_metrics,\n",
    ")\n",
    "\n",
    "train_results = trainer.train()\n",
    "trainer.save_model()\n",
    "trainer.log_metrics(\"train\", train_results.metrics)\n",
    "trainer.save_metrics(\"train\", train_results.metrics)\n",
    "trainer.save_state()"
   ],
   "id": "56b0410a35475ff1",
   "outputs": [
    {
     "name": "stderr",
     "output_type": "stream",
     "text": [
      "Some weights of DistilBertForTokenClassification were not initialized from the model checkpoint at distilbert/distilbert-base-uncased and are newly initialized: ['classifier.bias', 'classifier.weight']\n",
      "You should probably TRAIN this model on a down-stream task to be able to use it for predictions and inference.\n"
     ]
    },
    {
     "data": {
      "text/plain": [
       "<IPython.core.display.HTML object>"
      ],
      "text/html": [
       "\n",
       "    <div>\n",
       "      \n",
       "      <progress value='28701' max='28701' style='width:300px; height:20px; vertical-align: middle;'></progress>\n",
       "      [28701/28701 24:01, Epoch 3/3]\n",
       "    </div>\n",
       "    <table border=\"1\" class=\"dataframe\">\n",
       "  <thead>\n",
       " <tr style=\"text-align: left;\">\n",
       "      <th>Step</th>\n",
       "      <th>Training Loss</th>\n",
       "      <th>Validation Loss</th>\n",
       "      <th>Precision</th>\n",
       "      <th>Recall</th>\n",
       "      <th>F1</th>\n",
       "      <th>Accuracy</th>\n",
       "    </tr>\n",
       "  </thead>\n",
       "  <tbody>\n",
       "    <tr>\n",
       "      <td>5000</td>\n",
       "      <td>0.137300</td>\n",
       "      <td>0.048575</td>\n",
       "      <td>0.872767</td>\n",
       "      <td>0.899925</td>\n",
       "      <td>0.886138</td>\n",
       "      <td>0.981873</td>\n",
       "    </tr>\n",
       "    <tr>\n",
       "      <td>10000</td>\n",
       "      <td>0.046100</td>\n",
       "      <td>0.040670</td>\n",
       "      <td>0.899558</td>\n",
       "      <td>0.904225</td>\n",
       "      <td>0.901885</td>\n",
       "      <td>0.984639</td>\n",
       "    </tr>\n",
       "    <tr>\n",
       "      <td>15000</td>\n",
       "      <td>0.038300</td>\n",
       "      <td>0.036951</td>\n",
       "      <td>0.904720</td>\n",
       "      <td>0.918522</td>\n",
       "      <td>0.911569</td>\n",
       "      <td>0.985900</td>\n",
       "    </tr>\n",
       "    <tr>\n",
       "      <td>20000</td>\n",
       "      <td>0.033900</td>\n",
       "      <td>0.034930</td>\n",
       "      <td>0.909666</td>\n",
       "      <td>0.926583</td>\n",
       "      <td>0.918047</td>\n",
       "      <td>0.986820</td>\n",
       "    </tr>\n",
       "    <tr>\n",
       "      <td>25000</td>\n",
       "      <td>0.027900</td>\n",
       "      <td>0.033410</td>\n",
       "      <td>0.918580</td>\n",
       "      <td>0.924437</td>\n",
       "      <td>0.921499</td>\n",
       "      <td>0.987410</td>\n",
       "    </tr>\n",
       "  </tbody>\n",
       "</table><p>"
      ]
     },
     "metadata": {},
     "output_type": "display_data"
    },
    {
     "name": "stdout",
     "output_type": "stream",
     "text": [
      "***** train metrics *****\n",
      "  epoch                    =        3.0\n",
      "  total_flos               = 43666822GF\n",
      "  train_loss               =     0.0529\n",
      "  train_runtime            = 0:24:01.96\n",
      "  train_samples_per_second =   2547.589\n",
      "  train_steps_per_second   =     19.904\n"
     ]
    }
   ],
   "execution_count": 9
  },
  {
   "metadata": {
    "ExecuteTime": {
     "end_time": "2024-12-12T11:44:41.702136Z",
     "start_time": "2024-12-12T11:44:41.701019Z"
    }
   },
   "cell_type": "code",
   "source": "",
   "id": "5a79c40690714ab",
   "outputs": [],
   "execution_count": null
  }
 ],
 "metadata": {
  "kernelspec": {
   "display_name": "Python 3",
   "language": "python",
   "name": "python3"
  },
  "language_info": {
   "codemirror_mode": {
    "name": "ipython",
    "version": 2
   },
   "file_extension": ".py",
   "mimetype": "text/x-python",
   "name": "python",
   "nbconvert_exporter": "python",
   "pygments_lexer": "ipython2",
   "version": "2.7.6"
  }
 },
 "nbformat": 4,
 "nbformat_minor": 5
}
