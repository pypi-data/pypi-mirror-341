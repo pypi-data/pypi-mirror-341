{
 "cells": [
  {
   "cell_type": "code",
   "id": "46761aade11bb5fc",
   "metadata": {
    "ExecuteTime": {
     "end_time": "2025-03-18T02:31:09.686954Z",
     "start_time": "2025-03-18T02:31:09.684746Z"
    }
   },
   "source": [
    "from pathlib import Path\n",
    "import duckdb\n",
    "from datetime import datetime\n",
    "from transformers import (\n",
    "    AutoTokenizer,\n",
    ")\n",
    "from core_pro.ultilities import make_sync_folder, update_df\n",
    "import sys\n",
    "sys.path.extend([str(Path.home() / 'PycharmProjects/model_train')])\n",
    "\n",
    "from src.model_train.data_loading import TrainDistribution\n",
    "from src.model_train.pipeline_train import Pipeline\n",
    "from src.model_train.func import training_report"
   ],
   "outputs": [],
   "execution_count": 12
  },
  {
   "cell_type": "code",
   "id": "8cd5229a21d0d98b",
   "metadata": {
    "ExecuteTime": {
     "end_time": "2025-03-17T10:19:56.397146Z",
     "start_time": "2025-03-17T10:19:55.918444Z"
    }
   },
   "source": [
    "path = make_sync_folder('dataset/category_tag')\n",
    "\n",
    "query = f\"\"\"\n",
    "select *\n",
    "from read_parquet('{path / 'clean.parquet'}')\n",
    "\"\"\"\n",
    "label = 'label'\n",
    "df = duckdb.sql(query).pl()\n",
    "df.head()"
   ],
   "outputs": [
    {
     "data": {
      "text/plain": [
       "shape: (5, 8)\n",
       "┌────────────┬────────────┬────────────┬───────────┬───────────┬───────────┬───────────┬───────────┐\n",
       "│ item_id    ┆ item_name  ┆ level1_glo ┆ level2_gl ┆ total_ite ┆ total_sho ┆ label     ┆ word      │\n",
       "│ ---        ┆ ---        ┆ bal_be_cat ┆ obal_be_c ┆ m         ┆ p         ┆ ---       ┆ ---       │\n",
       "│ i64        ┆ str        ┆ egory      ┆ ategory   ┆ ---       ┆ ---       ┆ str       ┆ str       │\n",
       "│            ┆            ┆ ---        ┆ ---       ┆ i64       ┆ i64       ┆           ┆           │\n",
       "│            ┆            ┆ str        ┆ str       ┆           ┆           ┆           ┆           │\n",
       "╞════════════╪════════════╪════════════╪═══════════╪═══════════╪═══════════╪═══════════╪═══════════╡\n",
       "│ 2568156030 ┆ túi xách   ┆ Women Bags ┆ Top-handl ┆ 1         ┆ 1         ┆ Women     ┆ túi_xách  │\n",
       "│ 2          ┆ hình bánh  ┆            ┆ e Bags    ┆           ┆           ┆ Bags >>   ┆ hình bánh │\n",
       "│            ┆ cute, túi  ┆            ┆           ┆           ┆           ┆ Top-handl ┆ cute ,    │\n",
       "│            ┆ t…         ┆            ┆           ┆           ┆           ┆ e Bags    ┆ túi …     │\n",
       "│ 2341308889 ┆ Set nước   ┆ Beauty     ┆ Perfumes  ┆ 1         ┆ 1         ┆ Beauty >> ┆ Set       │\n",
       "│ 0          ┆ hoa        ┆            ┆ & Fragran ┆           ┆           ┆ Perfumes  ┆ nước_hoa  │\n",
       "│            ┆ Juliette   ┆            ┆ ces       ┆           ┆           ┆ & Fragran ┆ Juliette  │\n",
       "│            ┆ Not A Pe…  ┆            ┆           ┆           ┆           ┆ ce…       ┆ Not A_Pe… │\n",
       "│ 2926895864 ┆ Tất dài    ┆ Women      ┆ Socks &   ┆ 1         ┆ 1         ┆ Women     ┆ Tất_dài   │\n",
       "│ 4          ┆ qua đầu    ┆ Clothes    ┆ Stockings ┆           ┆           ┆ Clothes   ┆ qua       │\n",
       "│            ┆ gối, tất   ┆            ┆           ┆           ┆           ┆ >> Socks  ┆ đầu_gối , │\n",
       "│            ┆ cotto…     ┆            ┆           ┆           ┆           ┆ & Stock…  ┆ tất cott… │\n",
       "│ 2860870329 ┆ 1kg tim gà ┆ Food &     ┆ Fresh &   ┆ 1         ┆ 1         ┆ Food &    ┆ 1kg tim   │\n",
       "│ 7          ┆ CP         ┆ Beverages  ┆ Frozen    ┆           ┆           ┆ Beverages ┆ gà CP     │\n",
       "│            ┆            ┆            ┆ Food      ┆           ┆           ┆ >> Fresh  ┆           │\n",
       "│            ┆            ┆            ┆           ┆           ┆           ┆ & Fr…     ┆           │\n",
       "│ 1312377872 ┆ Set nguyên ┆ Food &     ┆ Baking    ┆ 1         ┆ 1         ┆ Food &    ┆ Set nguyê │\n",
       "│            ┆ liệu làm   ┆ Beverages  ┆ Needs     ┆           ┆           ┆ Beverages ┆ n_liệu    │\n",
       "│            ┆ Vỏ bánh    ┆            ┆           ┆           ┆           ┆ >> Baking ┆ làm Vỏ    │\n",
       "│            ┆ dẻ…        ┆            ┆           ┆           ┆           ┆ Nee…      ┆ bánh_dẻ…  │\n",
       "└────────────┴────────────┴────────────┴───────────┴───────────┴───────────┴───────────┴───────────┘"
      ],
      "text/html": [
       "<div><style>\n",
       ".dataframe > thead > tr,\n",
       ".dataframe > tbody > tr {\n",
       "  text-align: right;\n",
       "  white-space: pre-wrap;\n",
       "}\n",
       "</style>\n",
       "<small>shape: (5, 8)</small><table border=\"1\" class=\"dataframe\"><thead><tr><th>item_id</th><th>item_name</th><th>level1_global_be_category</th><th>level2_global_be_category</th><th>total_item</th><th>total_shop</th><th>label</th><th>word</th></tr><tr><td>i64</td><td>str</td><td>str</td><td>str</td><td>i64</td><td>i64</td><td>str</td><td>str</td></tr></thead><tbody><tr><td>25681560302</td><td>&quot;túi xách hình bánh cute, túi t…</td><td>&quot;Women Bags&quot;</td><td>&quot;Top-handle Bags&quot;</td><td>1</td><td>1</td><td>&quot;Women Bags &gt;&gt; Top-handle Bags&quot;</td><td>&quot;túi_xách hình bánh cute , túi …</td></tr><tr><td>23413088890</td><td>&quot;Set nước hoa Juliette Not A Pe…</td><td>&quot;Beauty&quot;</td><td>&quot;Perfumes &amp; Fragrances&quot;</td><td>1</td><td>1</td><td>&quot;Beauty &gt;&gt; Perfumes &amp; Fragrance…</td><td>&quot;Set nước_hoa Juliette Not A_Pe…</td></tr><tr><td>29268958644</td><td>&quot;Tất dài qua đầu gối, tất cotto…</td><td>&quot;Women Clothes&quot;</td><td>&quot;Socks &amp; Stockings&quot;</td><td>1</td><td>1</td><td>&quot;Women Clothes &gt;&gt; Socks &amp; Stock…</td><td>&quot;Tất_dài qua đầu_gối , tất cott…</td></tr><tr><td>28608703297</td><td>&quot;1kg tim gà CP&quot;</td><td>&quot;Food &amp; Beverages&quot;</td><td>&quot;Fresh &amp; Frozen Food&quot;</td><td>1</td><td>1</td><td>&quot;Food &amp; Beverages &gt;&gt; Fresh &amp; Fr…</td><td>&quot;1kg tim gà CP&quot;</td></tr><tr><td>1312377872</td><td>&quot;Set nguyên liệu làm Vỏ bánh dẻ…</td><td>&quot;Food &amp; Beverages&quot;</td><td>&quot;Baking Needs&quot;</td><td>1</td><td>1</td><td>&quot;Food &amp; Beverages &gt;&gt; Baking Nee…</td><td>&quot;Set nguyên_liệu làm Vỏ bánh_dẻ…</td></tr></tbody></table></div>"
      ]
     },
     "execution_count": 2,
     "metadata": {},
     "output_type": "execute_result"
    }
   ],
   "execution_count": 2
  },
  {
   "cell_type": "code",
   "id": "6a9bc604f62ca073",
   "metadata": {
    "ExecuteTime": {
     "end_time": "2025-03-17T10:19:57.162918Z",
     "start_time": "2025-03-17T10:19:56.464847Z"
    }
   },
   "source": [
    "label_list = df[label].unique().to_list()\n",
    "dist_check = TrainDistribution(df, col_label=label, col_item='word', label_list=label_list)\n",
    "train, val, test = dist_check.split_train_valid_test(test_size=.2)\n",
    "# dist_check.check_distribution()"
   ],
   "outputs": [
    {
     "data": {
      "text/plain": [
       "\u001B[1m[\u001B[0mData Loading\u001B[1m]\u001B[0m\n"
      ],
      "text/html": [
       "<pre style=\"white-space:pre;overflow-x:auto;line-height:normal;font-family:Menlo,'DejaVu Sans Mono',consolas,'Courier New',monospace\"><span style=\"font-weight: bold\">[</span>Data Loading<span style=\"font-weight: bold\">]</span>\n",
       "</pre>\n"
      ]
     },
     "metadata": {},
     "output_type": "display_data"
    },
    {
     "data": {
      "text/plain": [
       "-> Train/Test/Validation Split\n",
       "-> Shape train: \u001B[1m(\u001B[0m\u001B[1;36m3187420\u001B[0m, \u001B[1;36m8\u001B[0m\u001B[1m)\u001B[0m, valid: \u001B[1m(\u001B[0m\u001B[1;36m796856\u001B[0m, \u001B[1;36m8\u001B[0m\u001B[1m)\u001B[0m, test: \u001B[1m(\u001B[0m\u001B[1;36m996069\u001B[0m, \u001B[1;36m8\u001B[0m\u001B[1m)\u001B[0m\n"
      ],
      "text/html": [
       "<pre style=\"white-space:pre;overflow-x:auto;line-height:normal;font-family:Menlo,'DejaVu Sans Mono',consolas,'Courier New',monospace\">-&gt; Train/Test/Validation Split\n",
       "-&gt; Shape train: <span style=\"font-weight: bold\">(</span><span style=\"color: #008080; text-decoration-color: #008080; font-weight: bold\">3187420</span>, <span style=\"color: #008080; text-decoration-color: #008080; font-weight: bold\">8</span><span style=\"font-weight: bold\">)</span>, valid: <span style=\"font-weight: bold\">(</span><span style=\"color: #008080; text-decoration-color: #008080; font-weight: bold\">796856</span>, <span style=\"color: #008080; text-decoration-color: #008080; font-weight: bold\">8</span><span style=\"font-weight: bold\">)</span>, test: <span style=\"font-weight: bold\">(</span><span style=\"color: #008080; text-decoration-color: #008080; font-weight: bold\">996069</span>, <span style=\"color: #008080; text-decoration-color: #008080; font-weight: bold\">8</span><span style=\"font-weight: bold\">)</span>\n",
       "</pre>\n"
      ]
     },
     "metadata": {},
     "output_type": "display_data"
    }
   ],
   "execution_count": 3
  },
  {
   "cell_type": "code",
   "id": "509a2f434307b972",
   "metadata": {
    "ExecuteTime": {
     "end_time": "2025-03-17T10:20:08.069368Z",
     "start_time": "2025-03-17T10:19:57.166152Z"
    }
   },
   "source": [
    "col = ['item_id', 'word', label]\n",
    "_ = dist_check.df_to_dataset(col, show_index=3)"
   ],
   "outputs": [
    {
     "data": {
      "text/plain": [
       "-> Show data example: \u001B[1;36m3\u001B[0m\n",
       "train: \u001B[1m{\u001B[0m\u001B[32m'item_id'\u001B[0m: \u001B[1;36m25222943267\u001B[0m, \u001B[32m'word'\u001B[0m: \u001B[32m'Quần Ống Rộng Gập Gấu_Chất Gold Hàn Dày_Dặn_Đứng Form_Dáng Suông_V111'\u001B[0m, \n",
       "\u001B[32m'label'\u001B[0m: \u001B[32m'Women Clothes >> Pants & Leggings'\u001B[0m\u001B[1m}\u001B[0m\n",
       "valid: \u001B[1m{\u001B[0m\u001B[32m'item_id'\u001B[0m: \u001B[1;36m24650140140\u001B[0m, \u001B[32m'word'\u001B[0m: \u001B[32m'Đồ Tập_Gym - Yoga - Aerobic , Chân Váy_Áo bra Phối_Màu Nữ Chất Polyeste \u001B[0m\n",
       "\u001B[32mPha Sợi_Spandex Co_giãn Mềm_Mịn'\u001B[0m, \u001B[32m'label'\u001B[0m: \u001B[32m'Sports & Outdoors >> Sports & Outdoor Apparels'\u001B[0m\u001B[1m}\u001B[0m\n",
       "test: \u001B[1m{\u001B[0m\u001B[32m'item_id'\u001B[0m: \u001B[1;36m28202090432\u001B[0m, \u001B[32m'word'\u001B[0m: \u001B[32m'Sốt cà_chua hữu_cơ organic IL Nutrimento 700g nhập_khẩu Ý , sốt cà_chua \u001B[0m\n",
       "\u001B[32mpizza , sốt cà_chua mì ý , nui'\u001B[0m, \u001B[32m'label'\u001B[0m: \u001B[32m'Food & Beverages >> Cooking Essentials'\u001B[0m\u001B[1m}\u001B[0m\n"
      ],
      "text/html": [
       "<pre style=\"white-space:pre;overflow-x:auto;line-height:normal;font-family:Menlo,'DejaVu Sans Mono',consolas,'Courier New',monospace\">-&gt; Show data example: <span style=\"color: #008080; text-decoration-color: #008080; font-weight: bold\">3</span>\n",
       "train: <span style=\"font-weight: bold\">{</span><span style=\"color: #008000; text-decoration-color: #008000\">'item_id'</span>: <span style=\"color: #008080; text-decoration-color: #008080; font-weight: bold\">25222943267</span>, <span style=\"color: #008000; text-decoration-color: #008000\">'word'</span>: <span style=\"color: #008000; text-decoration-color: #008000\">'Quần Ống Rộng Gập Gấu_Chất Gold Hàn Dày_Dặn_Đứng Form_Dáng Suông_V111'</span>, \n",
       "<span style=\"color: #008000; text-decoration-color: #008000\">'label'</span>: <span style=\"color: #008000; text-decoration-color: #008000\">'Women Clothes &gt;&gt; Pants &amp; Leggings'</span><span style=\"font-weight: bold\">}</span>\n",
       "valid: <span style=\"font-weight: bold\">{</span><span style=\"color: #008000; text-decoration-color: #008000\">'item_id'</span>: <span style=\"color: #008080; text-decoration-color: #008080; font-weight: bold\">24650140140</span>, <span style=\"color: #008000; text-decoration-color: #008000\">'word'</span>: <span style=\"color: #008000; text-decoration-color: #008000\">'Đồ Tập_Gym - Yoga - Aerobic , Chân Váy_Áo bra Phối_Màu Nữ Chất Polyeste </span>\n",
       "<span style=\"color: #008000; text-decoration-color: #008000\">Pha Sợi_Spandex Co_giãn Mềm_Mịn'</span>, <span style=\"color: #008000; text-decoration-color: #008000\">'label'</span>: <span style=\"color: #008000; text-decoration-color: #008000\">'Sports &amp; Outdoors &gt;&gt; Sports &amp; Outdoor Apparels'</span><span style=\"font-weight: bold\">}</span>\n",
       "test: <span style=\"font-weight: bold\">{</span><span style=\"color: #008000; text-decoration-color: #008000\">'item_id'</span>: <span style=\"color: #008080; text-decoration-color: #008080; font-weight: bold\">28202090432</span>, <span style=\"color: #008000; text-decoration-color: #008000\">'word'</span>: <span style=\"color: #008000; text-decoration-color: #008000\">'Sốt cà_chua hữu_cơ organic IL Nutrimento 700g nhập_khẩu Ý , sốt cà_chua </span>\n",
       "<span style=\"color: #008000; text-decoration-color: #008000\">pizza , sốt cà_chua mì ý , nui'</span>, <span style=\"color: #008000; text-decoration-color: #008000\">'label'</span>: <span style=\"color: #008000; text-decoration-color: #008000\">'Food &amp; Beverages &gt;&gt; Cooking Essentials'</span><span style=\"font-weight: bold\">}</span>\n",
       "</pre>\n"
      ]
     },
     "metadata": {},
     "output_type": "display_data"
    }
   ],
   "execution_count": 4
  },
  {
   "cell_type": "code",
   "id": "bd3360a64aa516b7",
   "metadata": {
    "ExecuteTime": {
     "end_time": "2025-03-17T10:20:08.512350Z",
     "start_time": "2025-03-17T10:20:08.073233Z"
    }
   },
   "source": [
    "pretrain_name = 'bkai-foundation-models/vietnamese-bi-encoder'\n",
    "tokenizer = AutoTokenizer.from_pretrained(pretrain_name)"
   ],
   "outputs": [],
   "execution_count": 5
  },
  {
   "cell_type": "code",
   "id": "b4367edbff6c079c",
   "metadata": {
    "ExecuteTime": {
     "end_time": "2025-03-17T10:27:01.897417Z",
     "start_time": "2025-03-17T10:20:08.516718Z"
    }
   },
   "source": [
    "dict_train = dist_check.ds_tokenize(tokenizer, show_index=1)"
   ],
   "outputs": [
    {
     "data": {
      "text/plain": [
       "Map:   0%|          | 0/3187420 [00:00<?, ? examples/s]"
      ],
      "application/vnd.jupyter.widget-view+json": {
       "version_major": 2,
       "version_minor": 0,
       "model_id": "0f9d2fb79afe435ca5affff969e09cc2"
      }
     },
     "metadata": {},
     "output_type": "display_data"
    },
    {
     "data": {
      "text/plain": [
       "Map:   0%|          | 0/796856 [00:00<?, ? examples/s]"
      ],
      "application/vnd.jupyter.widget-view+json": {
       "version_major": 2,
       "version_minor": 0,
       "model_id": "9a7d48a404a244d78e5c3cfd0804f29a"
      }
     },
     "metadata": {},
     "output_type": "display_data"
    },
    {
     "data": {
      "text/plain": [
       "Map:   0%|          | 0/996069 [00:00<?, ? examples/s]"
      ],
      "application/vnd.jupyter.widget-view+json": {
       "version_major": 2,
       "version_minor": 0,
       "model_id": "f3522fa67c43479da40ad31738b47e9a"
      }
     },
     "metadata": {},
     "output_type": "display_data"
    },
    {
     "data": {
      "text/plain": [
       "-> Show token example: \u001B[1;36m1\u001B[0m\n",
       "-> Keys: \u001B[1;35mdict_keys\u001B[0m\u001B[1m(\u001B[0m\u001B[1m[\u001B[0m\u001B[32m'input_ids'\u001B[0m, \u001B[32m'token_type_ids'\u001B[0m, \u001B[32m'attention_mask'\u001B[0m, \u001B[32m'labels'\u001B[0m\u001B[1m]\u001B[0m\u001B[1m)\u001B[0m\n",
       "-> Token: \u001B[1m<\u001B[0m\u001B[1;95ms\u001B[0m\u001B[39m> Links tổng_hợp các mẫu lắc tay chuẩn bạc ta dày_dặn <\u001B[0m\u001B[35m/\u001B[0m\u001B[95ms\u001B[0m\u001B[39m> <pad> <pad> <pad> <pad> <pad> <pad> <pad> \u001B[0m\n",
       "\u001B[39m<pad> <pad> <pad> <pad> <pad> <pad> <pad> <pad> <pad> <pad> <pad> <pad> <pad> <pad> <pad> <pad> <pad> <pad> <pad> \u001B[0m\n",
       "\u001B[39m<pad> <pad> <pad> <pad> <pad> <pad> <pad> <pad> <pad> <pad> <pad>\u001B[0m\n",
       "\u001B[39m-\u001B[0m\u001B[1m>\u001B[0m Labels: \u001B[1;36m150\u001B[0m\n",
       "\n"
      ],
      "text/html": [
       "<pre style=\"white-space:pre;overflow-x:auto;line-height:normal;font-family:Menlo,'DejaVu Sans Mono',consolas,'Courier New',monospace\">-&gt; Show token example: <span style=\"color: #008080; text-decoration-color: #008080; font-weight: bold\">1</span>\n",
       "-&gt; Keys: <span style=\"color: #800080; text-decoration-color: #800080; font-weight: bold\">dict_keys</span><span style=\"font-weight: bold\">([</span><span style=\"color: #008000; text-decoration-color: #008000\">'input_ids'</span>, <span style=\"color: #008000; text-decoration-color: #008000\">'token_type_ids'</span>, <span style=\"color: #008000; text-decoration-color: #008000\">'attention_mask'</span>, <span style=\"color: #008000; text-decoration-color: #008000\">'labels'</span><span style=\"font-weight: bold\">])</span>\n",
       "-&gt; Token: <span style=\"font-weight: bold\">&lt;</span><span style=\"color: #ff00ff; text-decoration-color: #ff00ff; font-weight: bold\">s</span><span style=\"color: #000000; text-decoration-color: #000000\">&gt; Links tổng_hợp các mẫu lắc tay chuẩn bạc ta dày_dặn &lt;</span><span style=\"color: #800080; text-decoration-color: #800080\">/</span><span style=\"color: #ff00ff; text-decoration-color: #ff00ff\">s</span><span style=\"color: #000000; text-decoration-color: #000000\">&gt; &lt;pad&gt; &lt;pad&gt; &lt;pad&gt; &lt;pad&gt; &lt;pad&gt; &lt;pad&gt; &lt;pad&gt; </span>\n",
       "<span style=\"color: #000000; text-decoration-color: #000000\">&lt;pad&gt; &lt;pad&gt; &lt;pad&gt; &lt;pad&gt; &lt;pad&gt; &lt;pad&gt; &lt;pad&gt; &lt;pad&gt; &lt;pad&gt; &lt;pad&gt; &lt;pad&gt; &lt;pad&gt; &lt;pad&gt; &lt;pad&gt; &lt;pad&gt; &lt;pad&gt; &lt;pad&gt; &lt;pad&gt; &lt;pad&gt; </span>\n",
       "<span style=\"color: #000000; text-decoration-color: #000000\">&lt;pad&gt; &lt;pad&gt; &lt;pad&gt; &lt;pad&gt; &lt;pad&gt; &lt;pad&gt; &lt;pad&gt; &lt;pad&gt; &lt;pad&gt; &lt;pad&gt; &lt;pad&gt;</span>\n",
       "<span style=\"color: #000000; text-decoration-color: #000000\">-</span><span style=\"font-weight: bold\">&gt;</span> Labels: <span style=\"color: #008080; text-decoration-color: #008080; font-weight: bold\">150</span>\n",
       "\n",
       "</pre>\n"
      ]
     },
     "metadata": {},
     "output_type": "display_data"
    }
   ],
   "execution_count": 6
  },
  {
   "cell_type": "code",
   "id": "c798dade0ddd6efc",
   "metadata": {
    "ExecuteTime": {
     "end_time": "2025-03-17T12:18:30.769291Z",
     "start_time": "2025-03-17T10:27:01.907171Z"
    }
   },
   "source": [
    "pipe = Pipeline(\n",
    "    pretrain_name=pretrain_name,\n",
    "    id2label=dist_check.id2label,\n",
    "    label2id=dist_check.label2id,\n",
    "    bf16=True,\n",
    "    flash_attention_2=False,\n",
    "    hub_model_id=\"kevinkhang2909/l2_category\"\n",
    ")\n",
    "\n",
    "time_now = datetime.now().strftime(\"%Y%m%d%H%M%S\")\n",
    "folder = path / f'model_multi_classes/{pretrain_name.split('/')[-1]}/{time_now}'\n",
    "config = dict(    \n",
    "    log_step=5000,\n",
    "    num_train_epochs=5,\n",
    "    learning_rate=1e-4,\n",
    ")\n",
    "trainer = pipe.train(\n",
    "    folder=folder, \n",
    "    train=dict_train['train'],\n",
    "    val=dict_train['valid'],\n",
    "    **config\n",
    ")"
   ],
   "outputs": [
    {
     "data": {
      "text/plain": [
       "Pretrain: bkai-foundation-models/vietnamese-bi-encoder\n"
      ],
      "text/html": [
       "<pre style=\"white-space:pre;overflow-x:auto;line-height:normal;font-family:Menlo,'DejaVu Sans Mono',consolas,'Courier New',monospace\">Pretrain: bkai-foundation-models/vietnamese-bi-encoder\n",
       "</pre>\n"
      ]
     },
     "metadata": {},
     "output_type": "display_data"
    },
    {
     "name": "stderr",
     "output_type": "stream",
     "text": [
      "Some weights of RobertaForSequenceClassification were not initialized from the model checkpoint at bkai-foundation-models/vietnamese-bi-encoder and are newly initialized: ['classifier.dense.bias', 'classifier.dense.weight', 'classifier.out_proj.bias', 'classifier.out_proj.weight']\n",
      "You should probably TRAIN this model on a down-stream task to be able to use it for predictions and inference.\n"
     ]
    },
    {
     "data": {
      "text/plain": [
       "<IPython.core.display.HTML object>"
      ],
      "text/html": [
       "\n",
       "    <div>\n",
       "      \n",
       "      <progress value='31130' max='31130' style='width:300px; height:20px; vertical-align: middle;'></progress>\n",
       "      [31130/31130 1:51:07, Epoch 5/5]\n",
       "    </div>\n",
       "    <table border=\"1\" class=\"dataframe\">\n",
       "  <thead>\n",
       " <tr style=\"text-align: left;\">\n",
       "      <th>Step</th>\n",
       "      <th>Training Loss</th>\n",
       "      <th>Validation Loss</th>\n",
       "      <th>F1</th>\n",
       "      <th>Accuracy</th>\n",
       "    </tr>\n",
       "  </thead>\n",
       "  <tbody>\n",
       "    <tr>\n",
       "      <td>5000</td>\n",
       "      <td>2.951000</td>\n",
       "      <td>1.459079</td>\n",
       "      <td>0.733395</td>\n",
       "      <td>0.733395</td>\n",
       "    </tr>\n",
       "    <tr>\n",
       "      <td>10000</td>\n",
       "      <td>1.428600</td>\n",
       "      <td>1.283615</td>\n",
       "      <td>0.765118</td>\n",
       "      <td>0.765118</td>\n",
       "    </tr>\n",
       "    <tr>\n",
       "      <td>15000</td>\n",
       "      <td>1.338100</td>\n",
       "      <td>1.255377</td>\n",
       "      <td>0.772217</td>\n",
       "      <td>0.772217</td>\n",
       "    </tr>\n",
       "    <tr>\n",
       "      <td>20000</td>\n",
       "      <td>1.311500</td>\n",
       "      <td>1.248705</td>\n",
       "      <td>0.774367</td>\n",
       "      <td>0.774367</td>\n",
       "    </tr>\n",
       "    <tr>\n",
       "      <td>25000</td>\n",
       "      <td>1.303400</td>\n",
       "      <td>1.246454</td>\n",
       "      <td>0.774855</td>\n",
       "      <td>0.774855</td>\n",
       "    </tr>\n",
       "    <tr>\n",
       "      <td>30000</td>\n",
       "      <td>1.301500</td>\n",
       "      <td>1.246419</td>\n",
       "      <td>0.774865</td>\n",
       "      <td>0.774865</td>\n",
       "    </tr>\n",
       "  </tbody>\n",
       "</table><p>"
      ]
     },
     "metadata": {},
     "output_type": "display_data"
    },
    {
     "name": "stdout",
     "output_type": "stream",
     "text": [
      "***** train metrics *****\n",
      "  epoch                    =         5.0\n",
      "  total_flos               = 382282625GF\n",
      "  train_loss               =      1.5945\n",
      "  train_runtime            =  1:51:07.64\n",
      "  train_samples_per_second =    2390.214\n",
      "  train_steps_per_second   =       4.669\n"
     ]
    }
   ],
   "execution_count": 7
  },
  {
   "cell_type": "code",
   "id": "2a775f1096bf725b",
   "metadata": {
    "ExecuteTime": {
     "end_time": "2025-03-18T02:31:02.059536Z",
     "start_time": "2025-03-18T02:28:29.089377Z"
    }
   },
   "source": [
    "valid_result = trainer.predict(dict_train['test'])\n",
    "y_pred = valid_result.predictions.argmax(-1)\n",
    "y_true = valid_result.label_ids\n",
    "\n",
    "df_report = training_report(y_true=y_true, y_pred=y_pred, id2label=dist_check.id2label)"
   ],
   "outputs": [
    {
     "data": {
      "text/plain": [
       "<IPython.core.display.HTML object>"
      ],
      "text/html": []
     },
     "metadata": {},
     "output_type": "display_data"
    },
    {
     "name": "stdout",
     "output_type": "stream",
     "text": [
      "                                                             precision    recall  f1-score   support\n",
      "\n",
      "                         Fashion Accessories >> Hats & Caps       0.89      0.93      0.91      5668\n",
      "                                        Men Clothes >> Sets       0.85      0.92      0.89      4818\n",
      "                                       Stationery >> Others       0.31      0.12      0.18      4966\n",
      "                         Home Appliances >> Remote Controls       0.85      0.91      0.88      5221\n",
      "                                    Women Clothes >> Shorts       0.85      0.80      0.82      5630\n",
      "                          Women Clothes >> Traditional Wear       0.87      0.84      0.85      5788\n",
      "          Fashion Accessories >> Investment Precious Metals       1.00      0.00      0.00       124\n",
      "                                     Audio >> Media Players       0.84      0.70      0.76      1747\n",
      "                                 Beauty >> Bath & Body Care       0.78      0.84      0.81      5684\n",
      "                            Beauty >> Perfumes & Fragrances       0.94      0.95      0.95      5923\n",
      "                                       Mom & Baby >> Others       1.00      0.00      0.00      1331\n",
      "                  Tickets, Vouchers & Services >> Transport       1.00      0.00      0.00         1\n",
      "                            Cameras & Drones >> Camera Care       0.88      0.28      0.42       552\n",
      "                              Food & Beverages >> Beverages       0.71      0.78      0.74      5945\n",
      "                      Motorcycles >> Motorcycle Spare Parts       0.73      0.76      0.74      5865\n",
      "                    Fashion Accessories >> Scarves & Shawls       0.91      0.95      0.93      3827\n",
      "                      Cameras & Drones >> Drone Accessories       1.00      0.00      0.00       484\n",
      "                                     Watches >> Men Watches       0.90      0.94      0.92      4661\n",
      "                                Home & Living >> Dinnerware       0.77      0.85      0.81      5894\n",
      "                                      Women Shoes >> Others       1.00      0.00      0.00       485\n",
      "                           Food & Beverages >> Dairy & Eggs       0.82      0.76      0.79      5690\n",
      "                            Mom & Baby >> Diapering & Potty       0.95      0.97      0.96      5715\n",
      "                                         Beauty >> Skincare       0.76      0.87      0.81      5653\n",
      "                                         Men Shoes >> Boots       0.85      0.78      0.81      1333\n",
      "                                 Home & Living >> Gardening       0.81      0.86      0.83      5946\n",
      "                                     Women Clothes >> Jeans       0.90      0.89      0.89      5723\n",
      "                            Mobile & Gadgets >> Accessories       0.83      0.80      0.81      5787\n",
      "                                  Home Appliances >> Others       0.23      0.00      0.01      4471\n",
      "                                  Mom & Baby >> Baby Safety       0.75      0.64      0.69      2898\n",
      "                         Computers & Accessories >> Laptops       0.66      0.93      0.77      1080\n",
      "                      Automobiles >> Automobile Spare Parts       0.63      0.75      0.68      5786\n",
      "                     Tickets, Vouchers & Services >> Travel       1.00      0.00      0.00         1\n",
      "                    Computers & Accessories >> Data Storage       0.84      0.88      0.85      3547\n",
      "                           Beauty >> Hand, Foot & Nail Care       0.79      0.88      0.83      5763\n",
      "                                    Women Shoes >> Sneakers       0.76      0.58      0.66      5407\n",
      "                                             Pets >> Others       1.00      0.00      0.00      1468\n",
      "                             Mom & Baby >> Bath & Body Care       0.84      0.87      0.86      5640\n",
      "                 Hobbies & Collections >> Collectible Items       0.59      0.76      0.66      5987\n",
      "                                   Home & Living >> Bedding       0.89      0.88      0.89      5832\n",
      "                 Books & Magazines >> Magazines & Newspaper       1.00      0.00      0.00        93\n",
      "                       Men Clothes >> Hoodies & Sweatshirts       0.67      0.74      0.71      5299\n",
      "                         Baby & Kids Fashion >> Boy Clothes       0.75      0.74      0.74      5878\n",
      "                                 Home & Living >> Furniture       0.77      0.83      0.80      5783\n",
      "                     Cameras & Drones >> Camera Accessories       0.68      0.84      0.75      5732\n",
      "                      Men Clothes >> Jackets, Coats & Vests       0.79      0.82      0.81      5448\n",
      "                               Home & Living >> Kitchenware       0.63      0.71      0.67      5751\n",
      "                       Mobile & Gadgets >> Wearable Devices       0.91      0.86      0.89      2523\n",
      "                   Women Shoes >> Flat Sandals & Flip Flops       0.75      0.73      0.74      5746\n",
      "                            Fashion Accessories >> Earrings       0.94      0.97      0.96      5899\n",
      "                                       Men Clothes >> Jeans       0.91      0.86      0.88      5549\n",
      "                       Men Clothes >> Innerwear & Underwear       0.96      0.95      0.95      5762\n",
      "                 Audio >> Audio & Video Cables & Converters       0.73      0.90      0.80      4897\n",
      "                     Women Shoes >> Shoe Care & Accessories       0.78      0.63      0.70      3225\n",
      "                         Men Clothes >> Occupational Attire       0.77      0.81      0.79      1299\n",
      "                          Women Clothes >> Pants & Leggings       0.81      0.82      0.81      5706\n",
      "                        Baby & Kids Fashion >> Baby Clothes       0.63      0.63      0.63      5925\n",
      "                                      Men Shoes >> Sneakers       0.64      0.81      0.71      5404\n",
      "                                       Men Clothes >> Suits       0.80      0.82      0.81      2659\n",
      "       Computers & Accessories >> Peripherals & Accessories       0.80      0.80      0.80      5583\n",
      "                      Hobbies & Collections >> Toys & Games       0.82      0.80      0.81      5902\n",
      "                                       Audio >> Microphones       0.84      0.90      0.87      2783\n",
      "                     Food & Beverages >> Gift Set & Hampers       0.81      0.48      0.60      1463\n",
      "                   Tickets, Vouchers & Services >> Services       1.00      0.00      0.00        97\n",
      "           Women Clothes >> Jumpsuits, Playsuits & Overalls       0.86      0.84      0.85      4360\n",
      "                                 Food & Beverages >> Others       1.00      0.00      0.00      1514\n",
      "                   Tickets, Vouchers & Services >> Shopping       1.00      0.00      0.00         1\n",
      "                             Audio >> Home Audio & Speakers       0.75      0.85      0.79      5364\n",
      "             Sports & Outdoors >> Sports & Outdoor Apparels       0.84      0.82      0.83      5928\n",
      "                                 Mobile & Gadgets >> Others       0.76      0.81      0.79      5731\n",
      "                       Mom & Baby >> Baby Travel Essentials       0.89      0.85      0.87      3126\n",
      "                                 Health >> Medical Supplies       0.57      0.77      0.65      5774\n",
      "                Home Appliances >> Projectors & Accessories       0.92      0.75      0.83       921\n",
      "                                    Women Clothes >> Others       0.19      0.00      0.00      1993\n",
      "                                      Women Shoes >> Wedges       0.88      0.77      0.82      2051\n",
      "                             Fashion Accessories >> Eyewear       0.94      0.96      0.95      5890\n",
      "                                Travel & Luggage >> Luggage       0.93      0.92      0.92      1538\n",
      "                                 Cameras & Drones >> Lenses       1.00      0.00      0.00       307\n",
      "                  Audio >> Earphones, Headphones & Headsets       0.95      0.95      0.95      5212\n",
      "                             Automobiles >> Automotive Care       0.71      0.83      0.76      5620\n",
      "                                 Automobiles >> Automobiles       1.00      0.00      0.00         7\n",
      "                             Fashion Accessories >> Anklets       0.99      0.90      0.94       791\n",
      "             Food & Beverages >> Convenience / Ready-to-eat       0.75      0.73      0.74      5642\n",
      "                  Home & Living >> Tools & Home Improvement       0.43      0.55      0.48      5919\n",
      "                         Mom & Baby >> Gift Sets & Packages       1.00      0.02      0.04       709\n",
      "              Home Appliances >> Small Household Appliances       0.85      0.80      0.82      5549\n",
      "                              Fashion Accessories >> Gloves       0.89      0.94      0.91      3240\n",
      "                         Pets >> Pet Clothing & Accessories       0.92      0.89      0.90      3299\n",
      "                                 Stationery >> Art Supplies       0.81      0.85      0.83      5673\n",
      "                      Women Bags >> Waist Bags & Chest Bags       1.00      0.00      0.00       374\n",
      "                        Computers & Accessories >> Monitors       0.95      0.91      0.93      1360\n",
      "              Fashion Accessories >> Additional Accessories       0.53      0.73      0.62      6006\n",
      "             Automobiles >> Automobile Interior Accessories       0.80      0.81      0.80      5760\n",
      "                                     Beauty >> Beauty Tools       0.71      0.78      0.74      5851\n",
      "                     Automobiles >> Automotive Oils & Lubes       0.84      0.82      0.83      5422\n",
      "                                           Health >> Others       0.08      0.00      0.00      2948\n",
      "                                    Pets >> Litter & Toilet       0.90      0.88      0.89      5322\n",
      "                        Hobbies & Collections >> Needlework       0.59      0.77      0.67      5633\n",
      "                                      Women Clothes >> Tops       0.75      0.74      0.75      5946\n",
      "                                    Men Bags >> Laptop Bags       0.55      0.74      0.63      1706\n",
      "                                  Health >> Food Supplement       0.67      0.79      0.72      5866\n",
      "                                       Women Bags >> Others       1.00      0.00      0.00       437\n",
      "                                 Travel & Luggage >> Others       1.00      0.00      0.00       226\n",
      "                                        Men Shoes >> Others       1.00      0.00      0.00       326\n",
      "                                       Women Shoes >> Flats       0.73      0.84      0.78      5694\n",
      "                               Home Appliances >> Batteries       0.75      0.86      0.80      5539\n",
      "                              Baby & Kids Fashion >> Others       1.00      0.00      0.00       382\n",
      "                    Fashion Accessories >> Hair Accessories       0.88      0.89      0.88      5901\n",
      "                                Home & Living >> Decoration       0.64      0.70      0.67      5829\n",
      "                           Fashion Accessories >> Necklaces       0.88      0.93      0.91      5931\n",
      "                                            Audio >> Others       0.40      0.41      0.40      5263\n",
      "                          Men Shoes >> Loafers & Boat Shoes       0.51      0.94      0.66      2279\n",
      "                                       Pets >> Pet Grooming       0.86      0.86      0.86      4773\n",
      "                                   Men Clothes >> Sleepwear       1.00      0.00      0.00       427\n",
      "                     Tickets, Vouchers & Services >> Shopee       1.00      0.00      0.00        87\n",
      "                                 Home & Living >> Bathrooms       0.82      0.83      0.82      5532\n",
      "             Baby & Kids Fashion >> Baby Mittens & Footwear       0.93      0.47      0.63      1472\n",
      "                       Women Clothes >> Sleepwear & Pajamas       0.84      0.91      0.88      5812\n",
      "             Computers & Accessories >> Printers & Scanners       0.88      0.92      0.90      5661\n",
      "                        Tickets, Vouchers & Services >> F&B       1.00      0.00      0.00        32\n",
      "                                Cameras & Drones >> Cameras       0.80      0.89      0.84      1825\n",
      "                          Mobile & Gadgets >> Mobile Phones       0.90      0.89      0.90      5099\n",
      "                        Baby & Kids Fashion >> Girl Clothes       0.77      0.77      0.77      5859\n",
      "                                    Women Clothes >> Fabric       0.82      0.89      0.85      5553\n",
      "                          Baby & Kids Fashion >> Girl Shoes       0.85      0.69      0.76      5708\n",
      "                                      Automobiles >> Others       1.00      0.00      0.00         1\n",
      "                              Women Bags >> Bag Accessories       0.61      0.56      0.58      3199\n",
      "                                        Men Bags >> Wallets       0.80      0.84      0.82      3114\n",
      "                            Hobbies & Collections >> Others       0.28      0.00      0.00      2664\n",
      "                         Home & Living >> Safety & Security       0.81      0.85      0.83      4367\n",
      "            Motorcycles >> Motorcycle Helmets & Accessories       0.94      0.94      0.94      5614\n",
      "                            Automobiles >> Automotive Tools       0.81      0.06      0.10      2418\n",
      "             Home & Living >> Home Fragrance & Aromatherapy       0.83      0.82      0.82      5565\n",
      "                            Travel & Luggage >> Travel Bags       0.67      0.70      0.69      2505\n",
      "                           Gaming & Consoles >> Video Games       0.69      0.96      0.80      1539\n",
      "                      Home Appliances >> Kitchen Appliances       0.82      0.89      0.86      5748\n",
      "                                    Pets >> Pet Accessories       0.73      0.83      0.77      5875\n",
      "                Computers & Accessories >> Keyboards & Mice       0.93      0.96      0.95      5575\n",
      "                       Cameras & Drones >> Lens Accessories       0.83      0.01      0.01       662\n",
      "                     Travel & Luggage >> Travel Accessories       0.79      0.88      0.83      5689\n",
      "          Sports & Outdoors >> Sports & Outdoor Accessories       0.76      0.74      0.75      5510\n",
      "                           Home & Living >> Home Organizers       0.71      0.75      0.73      5684\n",
      "                     Hobbies & Collections >> Vinyl Records       1.00      0.00      0.00       261\n",
      "                                       Men Clothes >> Socks       0.83      0.81      0.82      4598\n",
      "                       Men Shoes >> Shoe Care & Accessories       0.72      0.84      0.77      3836\n",
      "                                   Watches >> Women Watches       0.91      0.94      0.92      4162\n",
      "                                  Home & Living >> Lighting       0.82      0.90      0.86      5744\n",
      "Sports & Outdoors >> Sports & Outdoor Recreation Equipments       0.69      0.79      0.74      5774\n",
      "                                    Women Clothes >> Skirts       0.82      0.69      0.75      5937\n",
      "                 Fashion Accessories >> Bracelets & Bangles       0.89      0.92      0.91      5865\n",
      "                          Computers & Accessories >> Others       1.00      0.00      0.00      2618\n",
      "                         Stationery >> Writing & Correction       0.90      0.92      0.91      5794\n",
      "                      Motorcycles >> Motorcycle Accessories       0.74      0.70      0.72      5839\n",
      "              Computers & Accessories >> Network Components       0.88      0.88      0.88      5032\n",
      "                        Men Bags >> Waist Bags & Chest Bags       1.00      0.00      0.00       894\n",
      "                                     Men Bags >> Briefcases       1.00      0.00      0.00       316\n",
      "                            Watches >> Set & Couple Watches       1.00      0.00      0.00       273\n",
      "        Fashion Accessories >> Neckties, Bow Ties & Cravats       0.95      0.81      0.87       970\n",
      "                                      Men Bags >> Backpacks       0.66      0.28      0.40      2498\n",
      "                                      Men Clothes >> Shorts       0.85      0.90      0.88      5581\n",
      "                         Women Clothes >> Socks & Stockings       0.82      0.87      0.85      5698\n",
      "                               Fashion Accessories >> Rings       0.98      0.98      0.98      5852\n",
      "            Home Appliances >> Electrical Circuitry & Parts       0.43      0.65      0.52      5776\n",
      "                                      Women Bags >> Wallets       0.67      0.84      0.74      3390\n",
      "                     Mom & Baby >> Milk Formula & Baby Food       0.82      0.87      0.85      5774\n",
      "                                      Men Clothes >> Others       1.00      0.00      0.00       481\n",
      "                               Books & Magazines >> E-Books       1.00      0.00      0.00         8\n",
      "                         Mom & Baby >> Maternity Healthcare       0.80      0.79      0.80      4337\n",
      "                              Fashion Accessories >> Others       0.32      0.05      0.08      4672\n",
      "                      Gaming & Consoles >> Console Machines       0.00      0.00      0.00       757\n",
      "                                        Beauty >> Hair Care       0.94      0.94      0.94      5710\n",
      "                      Tickets, Vouchers & Services >> Telco       1.00      0.00      0.00        24\n",
      "                          Men Shoes >> Sandals & Flip Flops       0.79      0.88      0.83      5395\n",
      "                                 Cameras & Drones >> Others       1.00      0.00      0.00       287\n",
      "                           Baby & Kids Fashion >> Boy Shoes       0.71      0.88      0.78      5560\n",
      "                                       Women Shoes >> Heels       0.84      0.90      0.87      5795\n",
      "                                       Men Clothes >> Pants       0.80      0.78      0.79      5647\n",
      "                      Hobbies & Collections >> Photo Albums       0.62      0.70      0.66      2230\n",
      "                            Home & Living >> Party Supplies       0.73      0.78      0.76      5826\n",
      "                               Fashion Accessories >> Belts       0.95      0.96      0.95      5207\n",
      "                             Watches >> Watches Accessories       0.86      0.85      0.85      3874\n",
      "                           Women Clothes >> Wedding Dresses       0.50      0.00      0.00       605\n",
      "                                     Pets >> Pet Healthcare       0.72      0.85      0.78      5583\n",
      "                           Food & Beverages >> Baking Needs       0.79      0.78      0.79      5626\n",
      "                           Food & Beverages >> Food Staples       0.61      0.66      0.63      5775\n",
      "                                      Women Clothes >> Sets       0.63      0.80      0.70      5930\n",
      "             Food & Beverages >> Breakfast Cereals & Spread       0.80      0.86      0.83      5670\n",
      "                           Stationery >> Notebooks & Papers       0.70      0.80      0.75      5653\n",
      "                                 Food & Beverages >> Snacks       0.67      0.70      0.68      5817\n",
      "                         Mobile & Gadgets >> Walkie Talkies       0.99      0.55      0.71       385\n",
      "          Tickets, Vouchers & Services >> Beauty & Wellness       1.00      0.00      0.00        16\n",
      "                          Stationery >> Letters & Envelopes       0.87      0.87      0.87      5622\n",
      "                     Women Clothes >> Hoodies & Sweatshirts       0.70      0.64      0.67      5280\n",
      "                                    Home & Living >> Others       0.24      0.03      0.05      5706\n",
      "                    Stationery >> School & Office Equipment       0.61      0.82      0.70      5719\n",
      "                      Women Clothes >> Lingerie & Underwear       0.88      0.90      0.89      5881\n",
      "                           Mom & Baby >> Feeding Essentials       0.87      0.92      0.89      5682\n",
      "                                    Women Bags >> Backpacks       0.69      0.92      0.79      5473\n",
      "                       Home Appliances >> TVs & Accessories       0.89      0.80      0.84      2939\n",
      "                                      Mom & Baby >> Nursery       0.85      0.86      0.86      5631\n",
      "              Home Appliances >> Large Household Appliances       0.75      0.88      0.81      5665\n",
      "                              Women Bags >> Top-handle Bags       0.59      0.68      0.63      5440\n",
      "             Automobiles >> Automobile Exterior Accessories       0.82      0.78      0.80      5598\n",
      "                                          Watches >> Others       1.00      0.00      0.00       139\n",
      "                    Women Bags >> Crossbody & Shoulder Bags       0.67      0.63      0.64      5830\n",
      "                        Mom & Baby >> Maternity Accessories       0.98      0.07      0.13       624\n",
      "                              Stationery >> Gift & Wrapping       0.68      0.81      0.74      5632\n",
      "                        Men Clothes >> Sweaters & Cardigans       0.85      0.77      0.81      1867\n",
      "                                   Women Clothes >> Dresses       0.68      0.90      0.78      5873\n",
      "                    Women Clothes >> Jackets, Coats & Vests       0.81      0.71      0.76      5894\n",
      "                           Beauty >> Beauty Sets & Packages       0.76      0.71      0.73      5218\n",
      "                                         Mom & Baby >> Toys       0.69      0.74      0.72      5984\n",
      "                     Food & Beverages >> Cooking Essentials       0.79      0.82      0.80      5842\n",
      "                            Women Clothes >> Maternity Wear       0.94      0.95      0.95      5712\n",
      "             Cameras & Drones >> Security Cameras & Systems       0.88      0.94      0.91      3956\n",
      "                            Men Clothes >> Traditional Wear       0.95      0.60      0.74       848\n",
      "             Baby & Kids Fashion >> Baby & Kids Accessories       0.70      0.83      0.76      5813\n",
      "   Home & Living >> Hand Warmers, Hot Water Bags & Ice Bags       0.86      0.85      0.85       983\n",
      "                                  Women Bags >> Laptop Bags       1.00      0.00      0.00       809\n",
      "                                 Books & Magazines >> Books       0.83      0.97      0.89      5795\n",
      "                               Audio >> Amplifiers & Mixers       0.82      0.42      0.55      2581\n",
      "                              Mobile & Gadgets >> Sim Cards       0.87      0.97      0.92      1895\n",
      "               Computers & Accessories >> Desktop Computers       1.00      0.00      0.00       562\n",
      "                              Men Shoes >> Slip Ons & Mules       0.71      0.02      0.04      1427\n",
      "                                Mobile & Gadgets >> Tablets       0.90      0.85      0.87      1053\n",
      "                     Tickets, Vouchers & Services >> Others       1.00      0.00      0.00        46\n",
      "                  Hobbies & Collections >> CD, DVD & Bluray       0.65      0.79      0.72      1092\n",
      "                      Men Bags >> Crossbody & Shoulder Bags       0.62      0.88      0.73      3574\n",
      "                                    Men Clothes >> Costumes       1.00      0.00      0.00       328\n",
      "                       Sports & Outdoors >> Sports Footwear       0.90      0.86      0.88      5634\n",
      "       Tickets, Vouchers & Services >> Events & Attractions       1.00      0.00      0.00        28\n",
      "                    Food & Beverages >> Fresh & Frozen Food       0.73      0.79      0.76      5830\n",
      "                        Home & Living >> Home Care Supplies       0.74      0.78      0.76      5888\n",
      "                                 Food & Beverages >> Bakery       0.79      0.81      0.80      5796\n",
      "                                       Women Shoes >> Boots       0.91      0.92      0.92      3012\n",
      "                                      Motorcycles >> Others       1.00      0.00      0.00         1\n",
      "                                    Women Bags >> Tote Bags       0.78      0.83      0.81      3839\n",
      "                                 Cameras & Drones >> Drones       0.98      0.74      0.85       512\n",
      "                    Food & Beverages >> Alcoholic Beverages       0.93      0.85      0.89      2029\n",
      "                       Computers & Accessories >> Softwares       1.00      0.00      0.00       171\n",
      "                   Gaming & Consoles >> Console Accessories       0.81      0.89      0.84      2260\n",
      "                      Women Clothes >> Sweaters & Cardigans       0.82      0.91      0.86      5834\n",
      "                                        Men Clothes >> Tops       0.77      0.85      0.81      5663\n",
      "                                  Health >> Sexual Wellness       0.93      0.94      0.94      5215\n",
      "                              Mom & Baby >> Baby Healthcare       0.74      0.82      0.78      5721\n",
      "                                           Pets >> Pet Food       0.92      0.89      0.90      6008\n",
      "           Automobiles >> Automotive Keychains & Key Covers       0.89      0.92      0.91      2761\n",
      "                                       Men Bags >> Clutches       1.00      0.00      0.00       492\n",
      "                                  Women Clothes >> Costumes       0.75      0.77      0.76      1575\n",
      "                                    Health >> Personal Care       0.72      0.74      0.73      5806\n",
      "                                           Beauty >> Others       0.76      0.09      0.16      2894\n",
      "     Computers & Accessories >> Desktop & Laptop Components       0.61      0.80      0.69      5697\n",
      "                                         Men Bags >> Others       1.00      0.00      0.00       124\n",
      "                                           Beauty >> Makeup       0.92      0.93      0.92      5850\n",
      " Hobbies & Collections >> Musical Instruments & Accessories       0.90      0.90      0.90      4148\n",
      "                            Men Shoes >> Oxfords & Lace-Ups       1.00      0.00      0.00      1011\n",
      "                                Gaming & Consoles >> Others       1.00      0.00      0.00       453\n",
      "         Fashion Accessories >> Accessories Sets & Packages       0.94      0.12      0.22      1658\n",
      "                                      Men Bags >> Tote Bags       1.00      0.00      0.00       263\n",
      "                                Sports & Outdoors >> Others       1.00      0.00      0.00       814\n",
      "                Computers & Accessories >> Office Equipment       1.00      0.00      0.00       284\n",
      "        Tickets, Vouchers & Services >> Lessons & Workshops       1.00      0.00      0.00        62\n",
      "                                 Motorcycles >> Motorcycles       1.00      0.00      0.00        64\n",
      "                         Hobbies & Collections >> Souvenirs       0.73      0.82      0.77      5893\n",
      "                         Women Bags >> Clutches & Wristlets       1.00      0.00      0.00       984\n",
      "             Home & Living >> Fengshui & Religious Supplies       0.76      0.84      0.80      5868\n",
      "                                Books & Magazines >> Others       1.00      0.00      0.00        86\n",
      "\n",
      "                                                   accuracy                           0.77    996069\n",
      "                                                  macro avg       0.82      0.61      0.60    996069\n",
      "                                               weighted avg       0.77      0.77      0.76    996069\n",
      "\n"
     ]
    }
   ],
   "execution_count": 11
  },
  {
   "cell_type": "code",
   "id": "fcb610f28c693fff",
   "metadata": {
    "ExecuteTime": {
     "end_time": "2025-03-18T02:31:17.275305Z",
     "start_time": "2025-03-18T02:31:14.144371Z"
    }
   },
   "source": [
    "sh = '1L-4z-SrAWXee-ScQ9dZCEVcPrUGaJUv5U4hw_jiDeOI'\n",
    "update_df(df_report, pretrain_name.split('/')[1], sh)"
   ],
   "outputs": [
    {
     "data": {
      "text/plain": [
       "\u001B[38;5;40m🐶 Sheet\u001B[0m Create New Sheet: vietnamese-bi-encoder\n"
      ],
      "text/html": [
       "<pre style=\"white-space:pre;overflow-x:auto;line-height:normal;font-family:Menlo,'DejaVu Sans Mono',consolas,'Courier New',monospace\"><span style=\"color: #00d700; text-decoration-color: #00d700\">🐶 Sheet</span> Create New Sheet: vietnamese-bi-encoder\n",
       "</pre>\n"
      ]
     },
     "metadata": {},
     "output_type": "display_data"
    },
    {
     "data": {
      "text/plain": [
       "\u001B[38;5;40m🐶 Sheet\u001B[0m Update values at: vietnamese-bi-encoder!\u001B[1;92mA1:E\u001B[0m\n"
      ],
      "text/html": [
       "<pre style=\"white-space:pre;overflow-x:auto;line-height:normal;font-family:Menlo,'DejaVu Sans Mono',consolas,'Courier New',monospace\"><span style=\"color: #00d700; text-decoration-color: #00d700\">🐶 Sheet</span> Update values at: vietnamese-bi-encoder!<span style=\"color: #00ff00; text-decoration-color: #00ff00; font-weight: bold\">A1:E</span>\n",
       "</pre>\n"
      ]
     },
     "metadata": {},
     "output_type": "display_data"
    }
   ],
   "execution_count": 13
  },
  {
   "metadata": {},
   "cell_type": "code",
   "outputs": [],
   "execution_count": null,
   "source": "",
   "id": "e1b421f6c1fc3337"
  }
 ],
 "metadata": {
  "kernelspec": {
   "display_name": "Python 3 (ipykernel)",
   "language": "python",
   "name": "python3"
  },
  "language_info": {
   "codemirror_mode": {
    "name": "ipython",
    "version": 3
   },
   "file_extension": ".py",
   "mimetype": "text/x-python",
   "name": "python",
   "nbconvert_exporter": "python",
   "pygments_lexer": "ipython3",
   "version": "3.12.8"
  }
 },
 "nbformat": 4,
 "nbformat_minor": 5
}
