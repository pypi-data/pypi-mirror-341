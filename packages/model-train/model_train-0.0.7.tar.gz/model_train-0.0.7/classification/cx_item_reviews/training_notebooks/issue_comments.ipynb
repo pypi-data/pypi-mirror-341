{
 "cells": [
  {
   "cell_type": "code",
   "id": "initial_id",
   "metadata": {
    "collapsed": true,
    "ExecuteTime": {
     "end_time": "2024-11-12T08:56:16.405680Z",
     "start_time": "2024-11-12T08:56:16.403854Z"
    }
   },
   "source": [
    "from pathlib import Path\n",
    "import duckdb\n",
    "from textwrap import dedent\n",
    "from datetime import datetime\n",
    "from transformers import (\n",
    "    AutoTokenizer, \n",
    ")\n",
    "from sklearn.metrics import classification_report\n",
    "from src.model_train.func import MultiLabels, TrainDistribution, preprocess_data\n",
    "from src.model_train.pipeline_train import Pipeline"
   ],
   "outputs": [],
   "execution_count": 14
  },
  {
   "metadata": {
    "ExecuteTime": {
     "end_time": "2024-11-12T08:51:30.550193Z",
     "start_time": "2024-11-12T08:51:30.475893Z"
    }
   },
   "cell_type": "code",
   "source": [
    "path = Path('/media/kevin/data_4t/cx_product_review/training_data')\n",
    "\n",
    "file = path / 'eda_issue.parquet'\n",
    "l1 = ['product_quality', 'pricing', 'delivery_service', 'packaging', 'seller_service', 'listing_accuracy', 'irrelevant']\n",
    "labels = [f'issue_{i}' for i in l1]\n",
    "\n",
    "query = f\"\"\"\n",
    "select distinct \n",
    "item_id\n",
    ", item_name\n",
    ", comment_id\n",
    ", comment\n",
    ", {'\\n, '.join(f'coalesce(issue_{i}, 0) issue_{i}' for i in l1)}\n",
    "from read_parquet('{file}')\n",
    "\"\"\"\n",
    "df = duckdb.sql(query).pl()\n",
    "\n",
    "print(df.shape, df['comment_id'].n_unique())\n",
    "print(df.null_count().to_dict(as_series=False))\n",
    "df.head()"
   ],
   "id": "87b39766b4f1e376",
   "outputs": [
    {
     "name": "stdout",
     "output_type": "stream",
     "text": [
      "(74013, 11) 73994\n",
      "{'item_id': [0], 'item_name': [0], 'comment_id': [0], 'comment': [0], 'issue_product_quality': [0], 'issue_pricing': [0], 'issue_delivery_service': [0], 'issue_packaging': [0], 'issue_seller_service': [0], 'issue_listing_accuracy': [0], 'issue_irrelevant': [0]}\n"
     ]
    },
    {
     "data": {
      "text/plain": [
       "shape: (5, 11)\n",
       "┌───────────┬───────────┬───────────┬───────────┬───┬───────────┬───────────┬───────────┬──────────┐\n",
       "│ item_id   ┆ item_name ┆ comment_i ┆ comment   ┆ … ┆ issue_pac ┆ issue_sel ┆ issue_lis ┆ issue_ir │\n",
       "│ ---       ┆ ---       ┆ d         ┆ ---       ┆   ┆ kaging    ┆ ler_servi ┆ ting_accu ┆ relevant │\n",
       "│ i64       ┆ str       ┆ ---       ┆ str       ┆   ┆ ---       ┆ ce        ┆ racy      ┆ ---      │\n",
       "│           ┆           ┆ i64       ┆           ┆   ┆ i64       ┆ ---       ┆ ---       ┆ i32      │\n",
       "│           ┆           ┆           ┆           ┆   ┆           ┆ i64       ┆ i64       ┆          │\n",
       "╞═══════════╪═══════════╪═══════════╪═══════════╪═══╪═══════════╪═══════════╪═══════════╪══════════╡\n",
       "│ 213948582 ┆ SANRIO    ┆ 140316017 ┆ Chất      ┆ … ┆ 0         ┆ 0         ┆ 0         ┆ 1        │\n",
       "│ 99        ┆ Bút Mực   ┆ 93        ┆ lượng sản ┆   ┆           ┆           ┆           ┆          │\n",
       "│           ┆ gel Ngòi  ┆           ┆ phẩm:cute ┆   ┆           ┆           ┆           ┆          │\n",
       "│           ┆ 0.5mm …   ┆           ┆ nắm       ┆   ┆           ┆           ┆           ┆          │\n",
       "│           ┆           ┆           ┆ Đ…        ┆   ┆           ┆           ┆           ┆          │\n",
       "│ 202733033 ┆ [Chaang ] ┆ 137327258 ┆ Mịn rất   ┆ … ┆ 0         ┆ 0         ┆ 0         ┆ 1        │\n",
       "│ 6         ┆ Bộ cài    ┆ 7         ┆ đẹp đáng  ┆   ┆           ┆           ┆           ┆          │\n",
       "│           ┆ vai dài   ┆           ┆ tiền      ┆   ┆           ┆           ┆           ┆          │\n",
       "│           ┆ tay C…    ┆           ┆           ┆   ┆           ┆           ┆           ┆          │\n",
       "│ 243635794 ┆ Vớ cổ     ┆ 142227527 ┆ Siêu đẹp. ┆ … ┆ 0         ┆ 0         ┆ 0         ┆ 1        │\n",
       "│ 86        ┆ thấp dành ┆ 09        ┆ Chất siêu ┆   ┆           ┆           ┆           ┆          │\n",
       "│           ┆ cho nam   ┆           ┆ thích .   ┆   ┆           ┆           ┆           ┆          │\n",
       "│           ┆ nữ        ┆           ┆ Cỡ…       ┆   ┆           ┆           ┆           ┆          │\n",
       "│ 630784444 ┆ [E-vouche ┆ 183891317 ┆ Sản phẩm  ┆ … ┆ 0         ┆ 0         ┆ 0         ┆ 1        │\n",
       "│ 4         ┆ r] Mã Quà ┆ 0         ┆ tốt. Chúc ┆   ┆           ┆           ┆           ┆          │\n",
       "│           ┆ Tặng      ┆           ┆ shop bán  ┆   ┆           ┆           ┆           ┆          │\n",
       "│           ┆ Shopee…   ┆           ┆ đắ…       ┆   ┆           ┆           ┆           ┆          │\n",
       "│ 630784444 ┆ [E-vouche ┆ 183820113 ┆ Chất      ┆ … ┆ 0         ┆ 0         ┆ 0         ┆ 1        │\n",
       "│ 4         ┆ r] Mã Quà ┆ 5         ┆ lượng sản ┆   ┆           ┆           ┆           ┆          │\n",
       "│           ┆ Tặng      ┆           ┆ phảm      ┆   ┆           ┆           ┆           ┆          │\n",
       "│           ┆ Shopee…   ┆           ┆ tuyêtj    ┆   ┆           ┆           ┆           ┆          │\n",
       "│           ┆           ┆           ┆ vời…      ┆   ┆           ┆           ┆           ┆          │\n",
       "└───────────┴───────────┴───────────┴───────────┴───┴───────────┴───────────┴───────────┴──────────┘"
      ],
      "text/html": [
       "<div><style>\n",
       ".dataframe > thead > tr,\n",
       ".dataframe > tbody > tr {\n",
       "  text-align: right;\n",
       "  white-space: pre-wrap;\n",
       "}\n",
       "</style>\n",
       "<small>shape: (5, 11)</small><table border=\"1\" class=\"dataframe\"><thead><tr><th>item_id</th><th>item_name</th><th>comment_id</th><th>comment</th><th>issue_product_quality</th><th>issue_pricing</th><th>issue_delivery_service</th><th>issue_packaging</th><th>issue_seller_service</th><th>issue_listing_accuracy</th><th>issue_irrelevant</th></tr><tr><td>i64</td><td>str</td><td>i64</td><td>str</td><td>i64</td><td>i64</td><td>i64</td><td>i64</td><td>i64</td><td>i64</td><td>i32</td></tr></thead><tbody><tr><td>21394858299</td><td>&quot;SANRIO Bút Mực gel Ngòi 0.5mm …</td><td>14031601793</td><td>&quot;Chất lượng sản phẩm:cute nắm\n",
       "Đ…</td><td>0</td><td>0</td><td>0</td><td>0</td><td>0</td><td>0</td><td>1</td></tr><tr><td>2027330336</td><td>&quot;[Chaang ] Bộ cài vai dài tay C…</td><td>1373272587</td><td>&quot;Mịn rất đẹp đáng tiền&quot;</td><td>0</td><td>0</td><td>0</td><td>0</td><td>0</td><td>0</td><td>1</td></tr><tr><td>24363579486</td><td>&quot;Vớ cổ thấp dành cho nam nữ&quot;</td><td>14222752709</td><td>&quot;Siêu đẹp. Chất siêu thích . Cỡ…</td><td>0</td><td>0</td><td>0</td><td>0</td><td>0</td><td>0</td><td>1</td></tr><tr><td>6307844444</td><td>&quot;[E-voucher] Mã Quà Tặng Shopee…</td><td>1838913170</td><td>&quot;Sản phẩm tốt. Chúc shop bán đắ…</td><td>0</td><td>0</td><td>0</td><td>0</td><td>0</td><td>0</td><td>1</td></tr><tr><td>6307844444</td><td>&quot;[E-voucher] Mã Quà Tặng Shopee…</td><td>1838201135</td><td>&quot;Chất lượng sản phảm tuyêtj vời…</td><td>0</td><td>0</td><td>0</td><td>0</td><td>0</td><td>0</td><td>1</td></tr></tbody></table></div>"
      ]
     },
     "execution_count": 2,
     "metadata": {},
     "output_type": "execute_result"
    }
   ],
   "execution_count": 2
  },
  {
   "metadata": {
    "ExecuteTime": {
     "end_time": "2024-11-12T08:51:30.614098Z",
     "start_time": "2024-11-12T08:51:30.608423Z"
    }
   },
   "cell_type": "code",
   "source": "TrainDistribution.label_stats(df, 'all', labels)",
   "id": "8edc834a2e8ed664",
   "outputs": [
    {
     "data": {
      "text/plain": [
       "shape: (7, 4)\n",
       "┌────────────────────────┬───────┬──────────┬──────┐\n",
       "│ name                   ┆ val   ┆ pct      ┆ data │\n",
       "│ ---                    ┆ ---   ┆ ---      ┆ ---  │\n",
       "│ str                    ┆ i64   ┆ f64      ┆ str  │\n",
       "╞════════════════════════╪═══════╪══════════╪══════╡\n",
       "│ issue_product_quality  ┆ 26187 ┆ 0.353816 ┆ all  │\n",
       "│ issue_pricing          ┆ 1892  ┆ 0.025563 ┆ all  │\n",
       "│ issue_delivery_service ┆ 6951  ┆ 0.093916 ┆ all  │\n",
       "│ issue_packaging        ┆ 3154  ┆ 0.042614 ┆ all  │\n",
       "│ issue_seller_service   ┆ 6936  ┆ 0.093713 ┆ all  │\n",
       "│ issue_listing_accuracy ┆ 15679 ┆ 0.211841 ┆ all  │\n",
       "│ issue_irrelevant       ┆ 29605 ┆ 0.399997 ┆ all  │\n",
       "└────────────────────────┴───────┴──────────┴──────┘"
      ],
      "text/html": [
       "<div><style>\n",
       ".dataframe > thead > tr,\n",
       ".dataframe > tbody > tr {\n",
       "  text-align: right;\n",
       "  white-space: pre-wrap;\n",
       "}\n",
       "</style>\n",
       "<small>shape: (7, 4)</small><table border=\"1\" class=\"dataframe\"><thead><tr><th>name</th><th>val</th><th>pct</th><th>data</th></tr><tr><td>str</td><td>i64</td><td>f64</td><td>str</td></tr></thead><tbody><tr><td>&quot;issue_product_quality&quot;</td><td>26187</td><td>0.353816</td><td>&quot;all&quot;</td></tr><tr><td>&quot;issue_pricing&quot;</td><td>1892</td><td>0.025563</td><td>&quot;all&quot;</td></tr><tr><td>&quot;issue_delivery_service&quot;</td><td>6951</td><td>0.093916</td><td>&quot;all&quot;</td></tr><tr><td>&quot;issue_packaging&quot;</td><td>3154</td><td>0.042614</td><td>&quot;all&quot;</td></tr><tr><td>&quot;issue_seller_service&quot;</td><td>6936</td><td>0.093713</td><td>&quot;all&quot;</td></tr><tr><td>&quot;issue_listing_accuracy&quot;</td><td>15679</td><td>0.211841</td><td>&quot;all&quot;</td></tr><tr><td>&quot;issue_irrelevant&quot;</td><td>29605</td><td>0.399997</td><td>&quot;all&quot;</td></tr></tbody></table></div>"
      ]
     },
     "execution_count": 3,
     "metadata": {},
     "output_type": "execute_result"
    }
   ],
   "execution_count": 3
  },
  {
   "metadata": {
    "ExecuteTime": {
     "end_time": "2024-11-12T08:51:30.760566Z",
     "start_time": "2024-11-12T08:51:30.645482Z"
    }
   },
   "cell_type": "code",
   "source": [
    "dist_check = TrainDistribution(df)\n",
    "train, val, test = dist_check.split_train_valid_test(test_size=.2)\n",
    "dist_check.check(labels)"
   ],
   "id": "3141a0fe4f969ffb",
   "outputs": [
    {
     "name": "stdout",
     "output_type": "stream",
     "text": [
      "Shape Train: (47368, 11), Valid: (11842, 11), Test: (14803, 11)\n"
     ]
    },
    {
     "data": {
      "text/plain": [
       "<Figure size 800x400 with 1 Axes>"
      ],
      "image/png": "[encoded data removed]"
     },
     "metadata": {},
     "output_type": "display_data"
    }
   ],
   "execution_count": 4
  },
  {
   "metadata": {
    "ExecuteTime": {
     "end_time": "2024-11-12T08:51:30.949083Z",
     "start_time": "2024-11-12T08:51:30.769245Z"
    }
   },
   "cell_type": "code",
   "source": [
    "col = ['comment_id', 'comment'] + labels\n",
    "id2label = {idx:label for idx, label in enumerate(labels)}\n",
    "label2id = {label:idx for idx, label in enumerate(labels)}\n",
    "\n",
    "ds_train, ds_test, ds_val = dist_check.split_to_dataset(col, show_index=3)"
   ],
   "id": "caea919a0d113dad",
   "outputs": [
    {
     "name": "stdout",
     "output_type": "stream",
     "text": [
      "Show example: 3\n",
      "        Train: {'comment_id': 624928204, 'comment': ' Chất lượng sản phẩm tuyệt vời Shop phục vụ rất tốt Rất đáng tiền Thời gian giao hàng rất nhanh', 'issue_product_quality': 0, 'issue_pricing': 0, 'issue_delivery_service': 0, 'issue_packaging': 0, 'issue_seller_service': 0, 'issue_listing_accuracy': 0, 'issue_irrelevant': 1}\n",
      "        Test: {'comment_id': 14510755336, 'comment': 'Chất lượng sản phẩm:tạm ổn\\nĐúng với mô tả:90%\\n\\nNhận hàng về thì thấy khung bị vỡ 1 góc nên phải mua keo 502 về dán lại cho chắc. Nma thh dùng cx đc 🥲', 'issue_product_quality': 1, 'issue_pricing': 0, 'issue_delivery_service': 0, 'issue_packaging': 0, 'issue_seller_service': 0, 'issue_listing_accuracy': 0, 'issue_irrelevant': 0}\n",
      "        Val: {'comment_id': 11372688855, 'comment': 'Giao hàng như cái đb ngta đặt full đen giao trắng\\nCụ m bán hàng thế à\\nĐã thế còn in lỗi chứ\\nQuao thì mỏng', 'issue_product_quality': 1, 'issue_pricing': 0, 'issue_delivery_service': 1, 'issue_packaging': 0, 'issue_seller_service': 0, 'issue_listing_accuracy': 0, 'issue_irrelevant': 0}\n",
      "\n"
     ]
    }
   ],
   "execution_count": 5
  },
  {
   "metadata": {
    "ExecuteTime": {
     "end_time": "2024-11-12T08:51:31.321297Z",
     "start_time": "2024-11-12T08:51:30.961006Z"
    }
   },
   "cell_type": "code",
   "source": [
    "pretrain_name = 'bkai-foundation-models/vietnamese-bi-encoder'\n",
    "tokenizer = AutoTokenizer.from_pretrained(pretrain_name)"
   ],
   "id": "b2eac46ceb101c5d",
   "outputs": [],
   "execution_count": 6
  },
  {
   "metadata": {
    "ExecuteTime": {
     "end_time": "2024-11-12T08:51:36.357422Z",
     "start_time": "2024-11-12T08:51:31.330952Z"
    }
   },
   "cell_type": "code",
   "source": [
    "train_encoded_dataset = ds_train.map(\n",
    "    preprocess_data, \n",
    "    batched=True, \n",
    "    remove_columns=ds_train.column_names, \n",
    "    fn_kwargs={'labels': labels, 'tokenizer': tokenizer}\n",
    ")\n",
    "val_encoded_dataset = ds_val.map(\n",
    "    preprocess_data, \n",
    "    batched=True, \n",
    "    remove_columns=ds_train.column_names, \n",
    "    fn_kwargs={'labels': labels, 'tokenizer': tokenizer}\n",
    ")\n",
    "test_encoded_dataset = ds_test.map(\n",
    "    preprocess_data, \n",
    "    batched=True, \n",
    "    remove_columns=ds_train.column_names, \n",
    "    fn_kwargs={'labels': labels, 'tokenizer': tokenizer}\n",
    ")\n",
    "\n",
    "train_encoded_dataset.set_format('torch')\n",
    "val_encoded_dataset.set_format('torch')\n",
    "test_encoded_dataset.set_format('torch')"
   ],
   "id": "1e9b57c2567b587d",
   "outputs": [
    {
     "data": {
      "text/plain": [
       "Map:   0%|          | 0/47368 [00:00<?, ? examples/s]"
      ],
      "application/vnd.jupyter.widget-view+json": {
       "version_major": 2,
       "version_minor": 0,
       "model_id": "0d57b62c114e496aaa18597d88d182a4"
      }
     },
     "metadata": {},
     "output_type": "display_data"
    },
    {
     "data": {
      "text/plain": [
       "Map:   0%|          | 0/11842 [00:00<?, ? examples/s]"
      ],
      "application/vnd.jupyter.widget-view+json": {
       "version_major": 2,
       "version_minor": 0,
       "model_id": "228c27e5431f4519980ff2bcccbe962c"
      }
     },
     "metadata": {},
     "output_type": "display_data"
    },
    {
     "data": {
      "text/plain": [
       "Map:   0%|          | 0/14803 [00:00<?, ? examples/s]"
      ],
      "application/vnd.jupyter.widget-view+json": {
       "version_major": 2,
       "version_minor": 0,
       "model_id": "d0b8d1996df9438e97b1ae66612f0c6e"
      }
     },
     "metadata": {},
     "output_type": "display_data"
    }
   ],
   "execution_count": 7
  },
  {
   "metadata": {
    "ExecuteTime": {
     "end_time": "2024-11-12T08:51:36.363150Z",
     "start_time": "2024-11-12T08:51:36.360195Z"
    }
   },
   "cell_type": "code",
   "source": [
    "example = train_encoded_dataset[0]\n",
    "print(example.keys())\n",
    "print(tokenizer.decode(example['input_ids']))\n",
    "print([id2label[idx] for idx, label in enumerate(example['labels']) if label == 1.0])"
   ],
   "id": "993a3478743e6d18",
   "outputs": [
    {
     "name": "stdout",
     "output_type": "stream",
     "text": [
      "dict_keys(['input_ids', 'token_type_ids', 'attention_mask', 'labels'])\n",
      "<s> Không đánh giá đến mì, đánh giá cái cách shop đóng gói hàng mà hàng nát hết cả ra. Giao thùng mì mà kh có tí chống sốc nào, mì giao về bể nát, không biết nấu ăn mì trộn kiểu </s>\n",
      "['issue_delivery_service', 'issue_packaging']\n"
     ]
    }
   ],
   "execution_count": 8
  },
  {
   "metadata": {
    "ExecuteTime": {
     "end_time": "2024-11-12T08:54:05.626301Z",
     "start_time": "2024-11-12T08:51:36.406236Z"
    }
   },
   "cell_type": "code",
   "source": [
    "pretrain_name = 'bkai-foundation-models/vietnamese-bi-encoder'\n",
    "pipe = Pipeline(pretrain_name=pretrain_name, id2label=id2label, label2id=label2id)\n",
    "\n",
    "time_now = datetime.now().strftime('%Y-%m-%d %H:%M:%S')\n",
    "folder = path / f'model_multi_labels_issue/{pretrain_name.split('/')[-1]}/{time_now}'\n",
    "config = dict(    \n",
    "    log_step=100,\n",
    "    num_train_epochs=7,\n",
    "    learning_rate=1e-4,\n",
    ")\n",
    "trainer = pipe.train(\n",
    "    folder=folder, \n",
    "    train=train_encoded_dataset,\n",
    "    val=val_encoded_dataset,\n",
    "    **config\n",
    ")"
   ],
   "id": "d28e5f55ac36a705",
   "outputs": [
    {
     "name": "stdout",
     "output_type": "stream",
     "text": [
      "Pretrain: bkai-foundation-models/vietnamese-bi-encoder\n"
     ]
    },
    {
     "name": "stderr",
     "output_type": "stream",
     "text": [
      "Some weights of RobertaForSequenceClassification were not initialized from the model checkpoint at bkai-foundation-models/vietnamese-bi-encoder and are newly initialized: ['classifier.dense.bias', 'classifier.dense.weight', 'classifier.out_proj.bias', 'classifier.out_proj.weight']\n",
      "You should probably TRAIN this model on a down-stream task to be able to use it for predictions and inference.\n"
     ]
    },
    {
     "data": {
      "text/plain": [
       "<IPython.core.display.HTML object>"
      ],
      "text/html": [
       "\n",
       "    <div>\n",
       "      \n",
       "      <progress value='651' max='651' style='width:300px; height:20px; vertical-align: middle;'></progress>\n",
       "      [651/651 02:26, Epoch 7/7]\n",
       "    </div>\n",
       "    <table border=\"1\" class=\"dataframe\">\n",
       "  <thead>\n",
       " <tr style=\"text-align: left;\">\n",
       "      <th>Step</th>\n",
       "      <th>Training Loss</th>\n",
       "      <th>Validation Loss</th>\n",
       "      <th>F1</th>\n",
       "      <th>Roc Auc</th>\n",
       "      <th>Accuracy</th>\n",
       "    </tr>\n",
       "  </thead>\n",
       "  <tbody>\n",
       "    <tr>\n",
       "      <td>100</td>\n",
       "      <td>0.377700</td>\n",
       "      <td>0.198485</td>\n",
       "      <td>0.765659</td>\n",
       "      <td>0.832524</td>\n",
       "      <td>0.659770</td>\n",
       "    </tr>\n",
       "    <tr>\n",
       "      <td>200</td>\n",
       "      <td>0.169000</td>\n",
       "      <td>0.151847</td>\n",
       "      <td>0.825864</td>\n",
       "      <td>0.884907</td>\n",
       "      <td>0.720824</td>\n",
       "    </tr>\n",
       "    <tr>\n",
       "      <td>300</td>\n",
       "      <td>0.122500</td>\n",
       "      <td>0.133079</td>\n",
       "      <td>0.855612</td>\n",
       "      <td>0.913959</td>\n",
       "      <td>0.756207</td>\n",
       "    </tr>\n",
       "    <tr>\n",
       "      <td>400</td>\n",
       "      <td>0.094700</td>\n",
       "      <td>0.136108</td>\n",
       "      <td>0.855626</td>\n",
       "      <td>0.908795</td>\n",
       "      <td>0.764736</td>\n",
       "    </tr>\n",
       "    <tr>\n",
       "      <td>500</td>\n",
       "      <td>0.075000</td>\n",
       "      <td>0.136961</td>\n",
       "      <td>0.859829</td>\n",
       "      <td>0.913316</td>\n",
       "      <td>0.768958</td>\n",
       "    </tr>\n",
       "    <tr>\n",
       "      <td>600</td>\n",
       "      <td>0.064100</td>\n",
       "      <td>0.139818</td>\n",
       "      <td>0.859090</td>\n",
       "      <td>0.913829</td>\n",
       "      <td>0.768113</td>\n",
       "    </tr>\n",
       "  </tbody>\n",
       "</table><p>"
      ]
     },
     "metadata": {},
     "output_type": "display_data"
    },
    {
     "name": "stdout",
     "output_type": "stream",
     "text": [
      "***** train metrics *****\n",
      "  epoch                    =        7.0\n",
      "  total_flos               =  7934907GF\n",
      "  train_loss               =     0.1434\n",
      "  train_runtime            = 0:02:27.46\n",
      "  train_samples_per_second =    2248.53\n",
      "  train_steps_per_second   =      4.415\n"
     ]
    }
   ],
   "execution_count": 9
  },
  {
   "metadata": {
    "ExecuteTime": {
     "end_time": "2024-11-12T08:54:07.525750Z",
     "start_time": "2024-11-12T08:54:05.686303Z"
    }
   },
   "cell_type": "code",
   "source": [
    "valid_result = trainer.predict(val_encoded_dataset)\n",
    "print(valid_result.metrics)\n",
    "\n",
    "valid_y_pred = MultiLabels().post_process(valid_result.predictions)\n",
    "valid_report = classification_report(valid_result.label_ids, valid_y_pred, target_names=labels)\n",
    "print(valid_report)"
   ],
   "id": "4bbddaead96ca20c",
   "outputs": [
    {
     "data": {
      "text/plain": [
       "<IPython.core.display.HTML object>"
      ],
      "text/html": []
     },
     "metadata": {},
     "output_type": "display_data"
    },
    {
     "name": "stdout",
     "output_type": "stream",
     "text": [
      "{'test_loss': 0.13696089386940002, 'test_f1': 0.8598292970647422, 'test_roc_auc': 0.9133157732473575, 'test_accuracy': 0.768957946292856, 'test_runtime': 1.8296, 'test_samples_per_second': 6472.411, 'test_steps_per_second': 101.661}\n",
      "                        precision    recall  f1-score   support\n",
      "\n",
      " issue_product_quality       0.87      0.87      0.87      4271\n",
      "         issue_pricing       0.67      0.47      0.56       315\n",
      "issue_delivery_service       0.81      0.81      0.81      1105\n",
      "       issue_packaging       0.76      0.74      0.75       509\n",
      "  issue_seller_service       0.80      0.81      0.80      1118\n",
      "issue_listing_accuracy       0.81      0.81      0.81      2547\n",
      "      issue_irrelevant       0.94      0.93      0.93      4628\n",
      "\n",
      "             micro avg       0.86      0.85      0.86     14493\n",
      "             macro avg       0.81      0.78      0.79     14493\n",
      "          weighted avg       0.86      0.85      0.86     14493\n",
      "           samples avg       0.88      0.88      0.87     14493\n",
      "\n"
     ]
    },
    {
     "name": "stderr",
     "output_type": "stream",
     "text": [
      "/home/kevin/miniforge3/envs/llm/lib/python3.12/site-packages/sklearn/metrics/_classification.py:1531: UndefinedMetricWarning: Precision is ill-defined and being set to 0.0 in samples with no predicted labels. Use `zero_division` parameter to control this behavior.\n",
      "  _warn_prf(average, modifier, f\"{metric.capitalize()} is\", len(result))\n"
     ]
    }
   ],
   "execution_count": 10
  },
  {
   "metadata": {
    "ExecuteTime": {
     "end_time": "2024-11-12T08:54:09.833517Z",
     "start_time": "2024-11-12T08:54:07.582588Z"
    }
   },
   "cell_type": "code",
   "source": [
    "test_result = trainer.predict(test_encoded_dataset)\n",
    "print(test_result.metrics)\n",
    "\n",
    "test_y_pred = MultiLabels().post_process(test_result.predictions)\n",
    "test_report = classification_report(test_result.label_ids, test_y_pred, target_names=labels)\n",
    "print(test_report)"
   ],
   "id": "d5a137fa6e8a1f07",
   "outputs": [
    {
     "data": {
      "text/plain": [
       "<IPython.core.display.HTML object>"
      ],
      "text/html": []
     },
     "metadata": {},
     "output_type": "display_data"
    },
    {
     "name": "stdout",
     "output_type": "stream",
     "text": [
      "{'test_loss': 0.13392189145088196, 'test_f1': 0.859320898023009, 'test_roc_auc': 0.9126605818326229, 'test_accuracy': 0.769438627305276, 'test_runtime': 2.2408, 'test_samples_per_second': 6606.133, 'test_steps_per_second': 103.535}\n",
      "                        precision    recall  f1-score   support\n",
      "\n",
      " issue_product_quality       0.87      0.87      0.87      5222\n",
      "         issue_pricing       0.64      0.44      0.52       377\n",
      "issue_delivery_service       0.80      0.80      0.80      1376\n",
      "       issue_packaging       0.76      0.75      0.76       611\n",
      "  issue_seller_service       0.79      0.81      0.80      1353\n",
      "issue_listing_accuracy       0.81      0.80      0.80      3094\n",
      "      issue_irrelevant       0.95      0.92      0.93      6000\n",
      "\n",
      "             micro avg       0.87      0.85      0.86     18033\n",
      "             macro avg       0.80      0.77      0.78     18033\n",
      "          weighted avg       0.86      0.85      0.86     18033\n",
      "           samples avg       0.88      0.88      0.87     18033\n",
      "\n"
     ]
    },
    {
     "name": "stderr",
     "output_type": "stream",
     "text": [
      "/home/kevin/miniforge3/envs/llm/lib/python3.12/site-packages/sklearn/metrics/_classification.py:1531: UndefinedMetricWarning: Precision is ill-defined and being set to 0.0 in samples with no predicted labels. Use `zero_division` parameter to control this behavior.\n",
      "  _warn_prf(average, modifier, f\"{metric.capitalize()} is\", len(result))\n"
     ]
    }
   ],
   "execution_count": 11
  },
  {
   "metadata": {
    "ExecuteTime": {
     "end_time": "2024-11-12T08:57:06.412739Z",
     "start_time": "2024-11-12T08:57:06.410678Z"
    }
   },
   "cell_type": "code",
   "source": [
    "path_md = str(path / f'model_multi_labels_issue/{pretrain_name.split('/')[-1]}/result_{time_now}.md')\n",
    "with open(path_md, 'w', encoding=\"utf-8\") as md:\n",
    "    text = dedent(f\"\"\"\n",
    "    Config:\n",
    "    {config}\n",
    "    \n",
    "    Valid Classification Report:\n",
    "    {valid_report}\n",
    "    \n",
    "    Test Classification Report:\n",
    "    {test_report}\n",
    "    \"\"\")\n",
    "    md.write(text)"
   ],
   "id": "1564161bfa479ba7",
   "outputs": [],
   "execution_count": 19
  },
  {
   "metadata": {},
   "cell_type": "code",
   "outputs": [],
   "execution_count": null,
   "source": "",
   "id": "937faa8c4fe74ef0"
  }
 ],
 "metadata": {
  "kernelspec": {
   "display_name": "Python 3",
   "language": "python",
   "name": "python3"
  },
  "language_info": {
   "codemirror_mode": {
    "name": "ipython",
    "version": 2
   },
   "file_extension": ".py",
   "mimetype": "text/x-python",
   "name": "python",
   "nbconvert_exporter": "python",
   "pygments_lexer": "ipython2",
   "version": "2.7.6"
  }
 },
 "nbformat": 4,
 "nbformat_minor": 5
}
