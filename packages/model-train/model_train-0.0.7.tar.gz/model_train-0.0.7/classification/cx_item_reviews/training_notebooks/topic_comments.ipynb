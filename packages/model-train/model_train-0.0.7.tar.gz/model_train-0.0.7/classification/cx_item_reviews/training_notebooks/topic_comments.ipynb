{
 "cells": [
  {
   "cell_type": "code",
   "id": "initial_id",
   "metadata": {
    "collapsed": true,
    "ExecuteTime": {
     "end_time": "2024-11-12T09:02:09.480977Z",
     "start_time": "2024-11-12T09:02:06.865192Z"
    }
   },
   "source": [
    "from pathlib import Path\n",
    "import duckdb\n",
    "from textwrap import dedent\n",
    "from datetime import datetime\n",
    "from transformers import (\n",
    "    AutoTokenizer, \n",
    ")\n",
    "from sklearn.metrics import classification_report\n",
    "from src.model_train.func import MultiLabels, TrainDistribution, preprocess_data\n",
    "from src.model_train.pipeline_train import Pipeline"
   ],
   "outputs": [],
   "execution_count": 1
  },
  {
   "metadata": {
    "ExecuteTime": {
     "end_time": "2024-11-12T09:02:23.513025Z",
     "start_time": "2024-11-12T09:02:23.433222Z"
    }
   },
   "cell_type": "code",
   "source": [
    "path = Path('/media/kevin/data_4t/cx_product_review/training_data')\n",
    "\n",
    "file = path / 'eda_topic.parquet'\n",
    "l1 = ['product_quality', 'pricing', 'delivery_service', 'packaging', 'seller_service', 'listing_accuracy', 'irrelevant']\n",
    "labels = [f'topic_{i}' for i in l1]\n",
    "\n",
    "query = f\"\"\"\n",
    "select distinct \n",
    "item_id\n",
    ", item_name\n",
    ", comment_id\n",
    ", comment\n",
    ", {'\\n, '.join(f'coalesce(topic_{i}, 0) topic_{i}' for i in l1)}\n",
    "from read_parquet('{file}')\n",
    "\"\"\"\n",
    "df = duckdb.sql(query).pl()\n",
    "\n",
    "print(df.shape, df['comment_id'].n_unique())\n",
    "print(df.null_count().to_dict(as_series=False))\n",
    "df.head()"
   ],
   "id": "87b39766b4f1e376",
   "outputs": [
    {
     "name": "stdout",
     "output_type": "stream",
     "text": [
      "(73966, 11) 73947\n",
      "{'item_id': [0], 'item_name': [0], 'comment_id': [0], 'comment': [0], 'topic_product_quality': [0], 'topic_pricing': [0], 'topic_delivery_service': [0], 'topic_packaging': [0], 'topic_seller_service': [0], 'topic_listing_accuracy': [0], 'topic_irrelevant': [0]}\n"
     ]
    },
    {
     "data": {
      "text/plain": [
       "shape: (5, 11)\n",
       "┌───────────┬───────────┬───────────┬───────────┬───┬───────────┬───────────┬───────────┬──────────┐\n",
       "│ item_id   ┆ item_name ┆ comment_i ┆ comment   ┆ … ┆ topic_pac ┆ topic_sel ┆ topic_lis ┆ topic_ir │\n",
       "│ ---       ┆ ---       ┆ d         ┆ ---       ┆   ┆ kaging    ┆ ler_servi ┆ ting_accu ┆ relevant │\n",
       "│ i64       ┆ str       ┆ ---       ┆ str       ┆   ┆ ---       ┆ ce        ┆ racy      ┆ ---      │\n",
       "│           ┆           ┆ i64       ┆           ┆   ┆ i64       ┆ ---       ┆ ---       ┆ i32      │\n",
       "│           ┆           ┆           ┆           ┆   ┆           ┆ i64       ┆ i64       ┆          │\n",
       "╞═══════════╪═══════════╪═══════════╪═══════════╪═══╪═══════════╪═══════════╪═══════════╪══════════╡\n",
       "│ 182700688 ┆ Chai xịt  ┆ 137708868 ┆ Độ bền    ┆ … ┆ 0         ┆ 0         ┆ 0         ┆ 0        │\n",
       "│ 68        ┆ khóa cố   ┆ 49        ┆ màu:ổn    ┆   ┆           ┆           ┆           ┆          │\n",
       "│           ┆ định lớp  ┆           ┆ Công      ┆   ┆           ┆           ┆           ┆          │\n",
       "│           ┆ tran…     ┆           ┆ dụng:xịt  ┆   ┆           ┆           ┆           ┆          │\n",
       "│           ┆           ┆           ┆ kh…       ┆   ┆           ┆           ┆           ┆          │\n",
       "│ 147964776 ┆ Giấy ăn   ┆ 138350341 ┆ Chất      ┆ … ┆ 0         ┆ 0         ┆ 0         ┆ 0        │\n",
       "│ 59        ┆ YCOOL     ┆ 52        ┆ lượng sản ┆   ┆           ┆           ┆           ┆          │\n",
       "│           ┆ thùng 30  ┆           ┆ phẩm:ok   ┆   ┆           ┆           ┆           ┆          │\n",
       "│           ┆ gói 300…  ┆           ┆           ┆   ┆           ┆           ┆           ┆          │\n",
       "│           ┆           ┆           ┆ giấy k…   ┆   ┆           ┆           ┆           ┆          │\n",
       "│ 630784444 ┆ [E-vouche ┆ 184195222 ┆ Sản phẩm  ┆ … ┆ 1         ┆ 0         ┆ 0         ┆ 0        │\n",
       "│ 4         ┆ r] Mã Quà ┆ 3         ┆ tuyệt     ┆   ┆           ┆           ┆           ┆          │\n",
       "│           ┆ Tặng      ┆           ┆ vời. Giao ┆   ┆           ┆           ┆           ┆          │\n",
       "│           ┆ Shopee…   ┆           ┆ hàng …    ┆   ┆           ┆           ┆           ┆          │\n",
       "│ 630784444 ┆ [E-vouche ┆ 185994172 ┆ Nén skd   ┆ … ┆ 0         ┆ 0         ┆ 0         ┆ 1        │\n",
       "│ 4         ┆ r] Mã Quà ┆ 4         ┆ ks djs    ┆   ┆           ┆           ┆           ┆          │\n",
       "│           ┆ Tặng      ┆           ┆ dnnsndmdm ┆   ┆           ┆           ┆           ┆          │\n",
       "│           ┆ Shopee…   ┆           ┆ dnd. …    ┆   ┆           ┆           ┆           ┆          │\n",
       "│ 630784444 ┆ [E-vouche ┆ 186362483 ┆ - Mã quà  ┆ … ┆ 0         ┆ 0         ┆ 0         ┆ 0        │\n",
       "│ 4         ┆ r] Mã Quà ┆ 2         ┆ tặng được ┆   ┆           ┆           ┆           ┆          │\n",
       "│           ┆ Tặng      ┆           ┆ sử dụng   ┆   ┆           ┆           ┆           ┆          │\n",
       "│           ┆ Shopee…   ┆           ┆ để …      ┆   ┆           ┆           ┆           ┆          │\n",
       "└───────────┴───────────┴───────────┴───────────┴───┴───────────┴───────────┴───────────┴──────────┘"
      ],
      "text/html": [
       "<div><style>\n",
       ".dataframe > thead > tr,\n",
       ".dataframe > tbody > tr {\n",
       "  text-align: right;\n",
       "  white-space: pre-wrap;\n",
       "}\n",
       "</style>\n",
       "<small>shape: (5, 11)</small><table border=\"1\" class=\"dataframe\"><thead><tr><th>item_id</th><th>item_name</th><th>comment_id</th><th>comment</th><th>topic_product_quality</th><th>topic_pricing</th><th>topic_delivery_service</th><th>topic_packaging</th><th>topic_seller_service</th><th>topic_listing_accuracy</th><th>topic_irrelevant</th></tr><tr><td>i64</td><td>str</td><td>i64</td><td>str</td><td>i64</td><td>i64</td><td>i64</td><td>i64</td><td>i64</td><td>i64</td><td>i32</td></tr></thead><tbody><tr><td>18270068868</td><td>&quot;Chai xịt khóa cố định lớp tran…</td><td>13770886849</td><td>&quot;Độ bền màu:ổn\n",
       "Công dụng:xịt kh…</td><td>1</td><td>1</td><td>0</td><td>0</td><td>0</td><td>0</td><td>0</td></tr><tr><td>14796477659</td><td>&quot;Giấy ăn YCOOL thùng 30 gói 300…</td><td>13835034152</td><td>&quot;Chất lượng sản phẩm:ok\n",
       "\n",
       "giấy k…</td><td>1</td><td>1</td><td>0</td><td>0</td><td>0</td><td>0</td><td>0</td></tr><tr><td>6307844444</td><td>&quot;[E-voucher] Mã Quà Tặng Shopee…</td><td>1841952223</td><td>&quot;Sản phẩm tuyệt vời. Giao hàng …</td><td>1</td><td>0</td><td>1</td><td>1</td><td>0</td><td>0</td><td>0</td></tr><tr><td>6307844444</td><td>&quot;[E-voucher] Mã Quà Tặng Shopee…</td><td>1859941724</td><td>&quot;Nén skd ks djs dnnsndmdm dnd. …</td><td>0</td><td>0</td><td>0</td><td>0</td><td>0</td><td>0</td><td>1</td></tr><tr><td>6307844444</td><td>&quot;[E-voucher] Mã Quà Tặng Shopee…</td><td>1863624832</td><td>&quot;- Mã quà tặng được sử dụng để …</td><td>0</td><td>1</td><td>0</td><td>0</td><td>0</td><td>0</td><td>0</td></tr></tbody></table></div>"
      ]
     },
     "execution_count": 2,
     "metadata": {},
     "output_type": "execute_result"
    }
   ],
   "execution_count": 2
  },
  {
   "metadata": {
    "ExecuteTime": {
     "end_time": "2024-11-12T09:02:43.200804Z",
     "start_time": "2024-11-12T09:02:43.194073Z"
    }
   },
   "cell_type": "code",
   "source": "TrainDistribution.label_stats(df, 'all', labels)",
   "id": "8edc834a2e8ed664",
   "outputs": [
    {
     "data": {
      "text/plain": [
       "shape: (7, 4)\n",
       "┌────────────────────────┬───────┬──────────┬──────┐\n",
       "│ name                   ┆ val   ┆ pct      ┆ data │\n",
       "│ ---                    ┆ ---   ┆ ---      ┆ ---  │\n",
       "│ str                    ┆ i64   ┆ f64      ┆ str  │\n",
       "╞════════════════════════╪═══════╪══════════╪══════╡\n",
       "│ topic_product_quality  ┆ 47428 ┆ 0.641214 ┆ all  │\n",
       "│ topic_pricing          ┆ 16243 ┆ 0.219601 ┆ all  │\n",
       "│ topic_delivery_service ┆ 17602 ┆ 0.237974 ┆ all  │\n",
       "│ topic_packaging        ┆ 10127 ┆ 0.136914 ┆ all  │\n",
       "│ topic_seller_service   ┆ 12109 ┆ 0.16371  ┆ all  │\n",
       "│ topic_listing_accuracy ┆ 22029 ┆ 0.297826 ┆ all  │\n",
       "│ topic_irrelevant       ┆ 3327  ┆ 0.04498  ┆ all  │\n",
       "└────────────────────────┴───────┴──────────┴──────┘"
      ],
      "text/html": [
       "<div><style>\n",
       ".dataframe > thead > tr,\n",
       ".dataframe > tbody > tr {\n",
       "  text-align: right;\n",
       "  white-space: pre-wrap;\n",
       "}\n",
       "</style>\n",
       "<small>shape: (7, 4)</small><table border=\"1\" class=\"dataframe\"><thead><tr><th>name</th><th>val</th><th>pct</th><th>data</th></tr><tr><td>str</td><td>i64</td><td>f64</td><td>str</td></tr></thead><tbody><tr><td>&quot;topic_product_quality&quot;</td><td>47428</td><td>0.641214</td><td>&quot;all&quot;</td></tr><tr><td>&quot;topic_pricing&quot;</td><td>16243</td><td>0.219601</td><td>&quot;all&quot;</td></tr><tr><td>&quot;topic_delivery_service&quot;</td><td>17602</td><td>0.237974</td><td>&quot;all&quot;</td></tr><tr><td>&quot;topic_packaging&quot;</td><td>10127</td><td>0.136914</td><td>&quot;all&quot;</td></tr><tr><td>&quot;topic_seller_service&quot;</td><td>12109</td><td>0.16371</td><td>&quot;all&quot;</td></tr><tr><td>&quot;topic_listing_accuracy&quot;</td><td>22029</td><td>0.297826</td><td>&quot;all&quot;</td></tr><tr><td>&quot;topic_irrelevant&quot;</td><td>3327</td><td>0.04498</td><td>&quot;all&quot;</td></tr></tbody></table></div>"
      ]
     },
     "execution_count": 3,
     "metadata": {},
     "output_type": "execute_result"
    }
   ],
   "execution_count": 3
  },
  {
   "metadata": {
    "ExecuteTime": {
     "end_time": "2024-11-12T09:02:45.848793Z",
     "start_time": "2024-11-12T09:02:45.721778Z"
    }
   },
   "cell_type": "code",
   "source": [
    "dist_check = TrainDistribution(df)\n",
    "train, val, test = dist_check.split_train_valid_test(test_size=.2)\n",
    "dist_check.check(labels)"
   ],
   "id": "3141a0fe4f969ffb",
   "outputs": [
    {
     "name": "stdout",
     "output_type": "stream",
     "text": [
      "Shape Train: (47337, 11), Valid: (11835, 11), Test: (14794, 11)\n"
     ]
    },
    {
     "data": {
      "text/plain": [
       "<Figure size 800x400 with 1 Axes>"
      ],
      "image/png": "[encoded data removed]"
     },
     "metadata": {},
     "output_type": "display_data"
    }
   ],
   "execution_count": 4
  },
  {
   "metadata": {
    "ExecuteTime": {
     "end_time": "2024-11-12T09:02:47.521476Z",
     "start_time": "2024-11-12T09:02:47.327057Z"
    }
   },
   "cell_type": "code",
   "source": [
    "col = ['comment_id', 'comment'] + labels\n",
    "id2label = {idx:label for idx, label in enumerate(labels)}\n",
    "label2id = {label:idx for idx, label in enumerate(labels)}\n",
    "\n",
    "ds_train, ds_test, ds_val = dist_check.split_to_dataset(col, show_index=3)"
   ],
   "id": "caea919a0d113dad",
   "outputs": [
    {
     "name": "stdout",
     "output_type": "stream",
     "text": [
      "Show example: 3\n",
      "        Train: {'comment_id': 13591669642, 'comment': 'Thảm mỏng', 'topic_product_quality': 1, 'topic_pricing': 0, 'topic_delivery_service': 0, 'topic_packaging': 0, 'topic_seller_service': 0, 'topic_listing_accuracy': 0, 'topic_irrelevant': 0}\n",
      "        Test: {'comment_id': 6384280595, 'comment': 'Ghi là 48 cái mà có 19 cái ?', 'topic_product_quality': 0, 'topic_pricing': 0, 'topic_delivery_service': 0, 'topic_packaging': 0, 'topic_seller_service': 0, 'topic_listing_accuracy': 1, 'topic_irrelevant': 0}\n",
      "        Val: {'comment_id': 678448503, 'comment': 'Hàng giả kém chất lượng', 'topic_product_quality': 1, 'topic_pricing': 0, 'topic_delivery_service': 0, 'topic_packaging': 0, 'topic_seller_service': 0, 'topic_listing_accuracy': 0, 'topic_irrelevant': 0}\n",
      "\n"
     ]
    }
   ],
   "execution_count": 5
  },
  {
   "metadata": {
    "ExecuteTime": {
     "end_time": "2024-11-12T09:02:51.957670Z",
     "start_time": "2024-11-12T09:02:51.534Z"
    }
   },
   "cell_type": "code",
   "source": [
    "pretrain_name = 'bkai-foundation-models/vietnamese-bi-encoder'\n",
    "tokenizer = AutoTokenizer.from_pretrained(pretrain_name)"
   ],
   "id": "b2eac46ceb101c5d",
   "outputs": [],
   "execution_count": 6
  },
  {
   "metadata": {
    "ExecuteTime": {
     "end_time": "2024-11-12T09:02:58.310012Z",
     "start_time": "2024-11-12T09:02:53.319459Z"
    }
   },
   "cell_type": "code",
   "source": [
    "train_encoded_dataset = ds_train.map(\n",
    "    preprocess_data, \n",
    "    batched=True, \n",
    "    remove_columns=ds_train.column_names, \n",
    "    fn_kwargs={'labels': labels, 'tokenizer': tokenizer}\n",
    ")\n",
    "val_encoded_dataset = ds_val.map(\n",
    "    preprocess_data, \n",
    "    batched=True, \n",
    "    remove_columns=ds_train.column_names, \n",
    "    fn_kwargs={'labels': labels, 'tokenizer': tokenizer}\n",
    ")\n",
    "test_encoded_dataset = ds_test.map(\n",
    "    preprocess_data, \n",
    "    batched=True, \n",
    "    remove_columns=ds_train.column_names, \n",
    "    fn_kwargs={'labels': labels, 'tokenizer': tokenizer}\n",
    ")\n",
    "\n",
    "train_encoded_dataset.set_format('torch')\n",
    "val_encoded_dataset.set_format('torch')\n",
    "test_encoded_dataset.set_format('torch')"
   ],
   "id": "1e9b57c2567b587d",
   "outputs": [
    {
     "data": {
      "text/plain": [
       "Map:   0%|          | 0/47337 [00:00<?, ? examples/s]"
      ],
      "application/vnd.jupyter.widget-view+json": {
       "version_major": 2,
       "version_minor": 0,
       "model_id": "2d7e448d53dd4532821553a41102839a"
      }
     },
     "metadata": {},
     "output_type": "display_data"
    },
    {
     "data": {
      "text/plain": [
       "Map:   0%|          | 0/11835 [00:00<?, ? examples/s]"
      ],
      "application/vnd.jupyter.widget-view+json": {
       "version_major": 2,
       "version_minor": 0,
       "model_id": "53b3fc22becd45549971bfedb7c89cd0"
      }
     },
     "metadata": {},
     "output_type": "display_data"
    },
    {
     "data": {
      "text/plain": [
       "Map:   0%|          | 0/14794 [00:00<?, ? examples/s]"
      ],
      "application/vnd.jupyter.widget-view+json": {
       "version_major": 2,
       "version_minor": 0,
       "model_id": "88baff9797d7426aa2d6d9272fae1428"
      }
     },
     "metadata": {},
     "output_type": "display_data"
    }
   ],
   "execution_count": 7
  },
  {
   "metadata": {
    "ExecuteTime": {
     "end_time": "2024-11-12T09:03:09.983433Z",
     "start_time": "2024-11-12T09:03:09.980323Z"
    }
   },
   "cell_type": "code",
   "source": [
    "example = train_encoded_dataset[0]\n",
    "print(example.keys())\n",
    "print(tokenizer.decode(example['input_ids']))\n",
    "print([id2label[idx] for idx, label in enumerate(example['labels']) if label == 1.0])"
   ],
   "id": "993a3478743e6d18",
   "outputs": [
    {
     "name": "stdout",
     "output_type": "stream",
     "text": [
      "dict_keys(['input_ids', 'token_type_ids', 'attention_mask', 'labels'])\n",
      "<s> Thời gian giao hàng tạm được Đóng gói sản phẩm tạm được Chất lượng sản phẩm tạm được </s> <pad> <pad> <pad> <pad> <pad> <pad> <pad> <pad> <pad> <pad> <pad> <pad> <pad> <pad> <pad> <pad> <pad> <pad> <pad> <pad> <pad> <pad> <pad> <pad> <pad> <pad> <pad> <pad> <pad> <pad>\n",
      "['topic_product_quality', 'topic_delivery_service', 'topic_packaging']\n"
     ]
    }
   ],
   "execution_count": 8
  },
  {
   "metadata": {
    "ExecuteTime": {
     "end_time": "2024-11-12T09:05:53.241785Z",
     "start_time": "2024-11-12T09:03:22.061705Z"
    }
   },
   "cell_type": "code",
   "source": [
    "pretrain_name = 'bkai-foundation-models/vietnamese-bi-encoder'\n",
    "pipe = Pipeline(pretrain_name=pretrain_name, id2label=id2label, label2id=label2id)\n",
    "\n",
    "time_now = datetime.now().strftime('%Y-%m-%d %H:%M:%S')\n",
    "folder = path / f'model_multi_labels_topic/{pretrain_name.split('/')[-1]}/{time_now}'\n",
    "config = dict(    \n",
    "    log_step=100,\n",
    "    num_train_epochs=7,\n",
    "    learning_rate=1e-4,\n",
    ")\n",
    "trainer = pipe.train(\n",
    "    folder=folder, \n",
    "    train=train_encoded_dataset,\n",
    "    val=val_encoded_dataset,\n",
    "    **config\n",
    ")"
   ],
   "id": "d28e5f55ac36a705",
   "outputs": [
    {
     "name": "stdout",
     "output_type": "stream",
     "text": [
      "Pretrain: bkai-foundation-models/vietnamese-bi-encoder\n"
     ]
    },
    {
     "name": "stderr",
     "output_type": "stream",
     "text": [
      "Some weights of RobertaForSequenceClassification were not initialized from the model checkpoint at bkai-foundation-models/vietnamese-bi-encoder and are newly initialized: ['classifier.dense.bias', 'classifier.dense.weight', 'classifier.out_proj.bias', 'classifier.out_proj.weight']\n",
      "You should probably TRAIN this model on a down-stream task to be able to use it for predictions and inference.\n"
     ]
    },
    {
     "data": {
      "text/plain": [
       "<IPython.core.display.HTML object>"
      ],
      "text/html": [
       "\n",
       "    <div>\n",
       "      \n",
       "      <progress value='651' max='651' style='width:300px; height:20px; vertical-align: middle;'></progress>\n",
       "      [651/651 02:28, Epoch 7/7]\n",
       "    </div>\n",
       "    <table border=\"1\" class=\"dataframe\">\n",
       "  <thead>\n",
       " <tr style=\"text-align: left;\">\n",
       "      <th>Step</th>\n",
       "      <th>Training Loss</th>\n",
       "      <th>Validation Loss</th>\n",
       "      <th>F1</th>\n",
       "      <th>Roc Auc</th>\n",
       "      <th>Accuracy</th>\n",
       "    </tr>\n",
       "  </thead>\n",
       "  <tbody>\n",
       "    <tr>\n",
       "      <td>100</td>\n",
       "      <td>0.417700</td>\n",
       "      <td>0.246223</td>\n",
       "      <td>0.813998</td>\n",
       "      <td>0.868622</td>\n",
       "      <td>0.561132</td>\n",
       "    </tr>\n",
       "    <tr>\n",
       "      <td>200</td>\n",
       "      <td>0.211700</td>\n",
       "      <td>0.194510</td>\n",
       "      <td>0.852052</td>\n",
       "      <td>0.899066</td>\n",
       "      <td>0.634052</td>\n",
       "    </tr>\n",
       "    <tr>\n",
       "      <td>300</td>\n",
       "      <td>0.163800</td>\n",
       "      <td>0.179175</td>\n",
       "      <td>0.866307</td>\n",
       "      <td>0.909280</td>\n",
       "      <td>0.668188</td>\n",
       "    </tr>\n",
       "    <tr>\n",
       "      <td>400</td>\n",
       "      <td>0.133500</td>\n",
       "      <td>0.173704</td>\n",
       "      <td>0.870656</td>\n",
       "      <td>0.913424</td>\n",
       "      <td>0.675116</td>\n",
       "    </tr>\n",
       "    <tr>\n",
       "      <td>500</td>\n",
       "      <td>0.109500</td>\n",
       "      <td>0.177421</td>\n",
       "      <td>0.869411</td>\n",
       "      <td>0.913087</td>\n",
       "      <td>0.675032</td>\n",
       "    </tr>\n",
       "    <tr>\n",
       "      <td>600</td>\n",
       "      <td>0.096100</td>\n",
       "      <td>0.177213</td>\n",
       "      <td>0.870640</td>\n",
       "      <td>0.913197</td>\n",
       "      <td>0.679003</td>\n",
       "    </tr>\n",
       "  </tbody>\n",
       "</table><p>"
      ]
     },
     "metadata": {},
     "output_type": "display_data"
    },
    {
     "name": "stdout",
     "output_type": "stream",
     "text": [
      "***** train metrics *****\n",
      "  epoch                    =        7.0\n",
      "  total_flos               =  7929714GF\n",
      "  train_loss               =     0.1811\n",
      "  train_runtime            = 0:02:29.37\n",
      "  train_samples_per_second =   2218.271\n",
      "  train_steps_per_second   =      4.358\n"
     ]
    }
   ],
   "execution_count": 9
  },
  {
   "metadata": {
    "ExecuteTime": {
     "end_time": "2024-11-12T09:05:55.148014Z",
     "start_time": "2024-11-12T09:05:53.298612Z"
    }
   },
   "cell_type": "code",
   "source": [
    "valid_result = trainer.predict(val_encoded_dataset)\n",
    "print(valid_result.metrics)\n",
    "\n",
    "valid_y_pred = MultiLabels().post_process(valid_result.predictions)\n",
    "valid_report = classification_report(valid_result.label_ids, valid_y_pred, target_names=labels)\n",
    "print(valid_report)"
   ],
   "id": "4bbddaead96ca20c",
   "outputs": [
    {
     "data": {
      "text/plain": [
       "<IPython.core.display.HTML object>"
      ],
      "text/html": []
     },
     "metadata": {},
     "output_type": "display_data"
    },
    {
     "name": "stdout",
     "output_type": "stream",
     "text": [
      "{'test_loss': 0.17370419204235077, 'test_f1': 0.8706561832653854, 'test_roc_auc': 0.9134237013099339, 'test_accuracy': 0.6751161808196029, 'test_runtime': 1.8377, 'test_samples_per_second': 6440.035, 'test_steps_per_second': 100.668}\n",
      "                        precision    recall  f1-score   support\n",
      "\n",
      " topic_product_quality       0.90      0.93      0.91      7571\n",
      "         topic_pricing       0.88      0.72      0.80      2561\n",
      "topic_delivery_service       0.88      0.92      0.90      2825\n",
      "       topic_packaging       0.84      0.90      0.87      1640\n",
      "  topic_seller_service       0.80      0.81      0.81      1884\n",
      "topic_listing_accuracy       0.85      0.85      0.85      3584\n",
      "      topic_irrelevant       0.86      0.70      0.77       576\n",
      "\n",
      "             micro avg       0.87      0.87      0.87     20641\n",
      "             macro avg       0.86      0.83      0.84     20641\n",
      "          weighted avg       0.87      0.87      0.87     20641\n",
      "           samples avg       0.88      0.88      0.87     20641\n",
      "\n"
     ]
    },
    {
     "name": "stderr",
     "output_type": "stream",
     "text": [
      "/home/kevin/miniforge3/envs/llm/lib/python3.12/site-packages/sklearn/metrics/_classification.py:1531: UndefinedMetricWarning: Precision is ill-defined and being set to 0.0 in samples with no predicted labels. Use `zero_division` parameter to control this behavior.\n",
      "  _warn_prf(average, modifier, f\"{metric.capitalize()} is\", len(result))\n"
     ]
    }
   ],
   "execution_count": 10
  },
  {
   "metadata": {
    "ExecuteTime": {
     "end_time": "2024-11-12T09:05:57.771896Z",
     "start_time": "2024-11-12T09:05:55.259268Z"
    }
   },
   "cell_type": "code",
   "source": [
    "test_result = trainer.predict(test_encoded_dataset)\n",
    "print(test_result.metrics)\n",
    "\n",
    "test_y_pred = MultiLabels().post_process(test_result.predictions)\n",
    "test_report = classification_report(test_result.label_ids, test_y_pred, target_names=labels)\n",
    "print(test_report)"
   ],
   "id": "d5a137fa6e8a1f07",
   "outputs": [
    {
     "data": {
      "text/plain": [
       "<IPython.core.display.HTML object>"
      ],
      "text/html": []
     },
     "metadata": {},
     "output_type": "display_data"
    },
    {
     "name": "stdout",
     "output_type": "stream",
     "text": [
      "{'test_loss': 0.17352846264839172, 'test_f1': 0.8706987256926854, 'test_roc_auc': 0.9137172965749104, 'test_accuracy': 0.6785183182371232, 'test_runtime': 2.5004, 'test_samples_per_second': 5916.563, 'test_steps_per_second': 92.784}\n",
      "                        precision    recall  f1-score   support\n",
      "\n",
      " topic_product_quality       0.91      0.93      0.92      9507\n",
      "         topic_pricing       0.87      0.73      0.79      3271\n",
      "topic_delivery_service       0.88      0.93      0.90      3492\n",
      "       topic_packaging       0.82      0.89      0.85      1942\n",
      "  topic_seller_service       0.81      0.81      0.81      2404\n",
      "topic_listing_accuracy       0.85      0.84      0.85      4448\n",
      "      topic_irrelevant       0.83      0.73      0.77       628\n",
      "\n",
      "             micro avg       0.87      0.87      0.87     25692\n",
      "             macro avg       0.85      0.84      0.84     25692\n",
      "          weighted avg       0.87      0.87      0.87     25692\n",
      "           samples avg       0.88      0.88      0.87     25692\n",
      "\n"
     ]
    },
    {
     "name": "stderr",
     "output_type": "stream",
     "text": [
      "/home/kevin/miniforge3/envs/llm/lib/python3.12/site-packages/sklearn/metrics/_classification.py:1531: UndefinedMetricWarning: Precision is ill-defined and being set to 0.0 in samples with no predicted labels. Use `zero_division` parameter to control this behavior.\n",
      "  _warn_prf(average, modifier, f\"{metric.capitalize()} is\", len(result))\n"
     ]
    }
   ],
   "execution_count": 11
  },
  {
   "metadata": {
    "ExecuteTime": {
     "end_time": "2024-11-12T09:05:57.778951Z",
     "start_time": "2024-11-12T09:05:57.777339Z"
    }
   },
   "cell_type": "code",
   "source": [
    "path_md = str(path / f'model_multi_labels_topic/{pretrain_name.split('/')[-1]}/result_{time_now}.md')\n",
    "with open(path_md, 'w', encoding=\"utf-8\") as md:\n",
    "    text = dedent(f\"\"\"\n",
    "    Config:\n",
    "    {config}\n",
    "    \n",
    "    Valid Classification Report:\n",
    "    {valid_report}\n",
    "    \n",
    "    Test Classification Report:\n",
    "    {test_report}\n",
    "    \"\"\")\n",
    "    md.write(text)"
   ],
   "id": "1564161bfa479ba7",
   "outputs": [],
   "execution_count": 12
  },
  {
   "metadata": {},
   "cell_type": "code",
   "outputs": [],
   "execution_count": null,
   "source": "",
   "id": "937faa8c4fe74ef0"
  }
 ],
 "metadata": {
  "kernelspec": {
   "display_name": "Python 3",
   "language": "python",
   "name": "python3"
  },
  "language_info": {
   "codemirror_mode": {
    "name": "ipython",
    "version": 2
   },
   "file_extension": ".py",
   "mimetype": "text/x-python",
   "name": "python",
   "nbconvert_exporter": "python",
   "pygments_lexer": "ipython2",
   "version": "2.7.6"
  }
 },
 "nbformat": 4,
 "nbformat_minor": 5
}
