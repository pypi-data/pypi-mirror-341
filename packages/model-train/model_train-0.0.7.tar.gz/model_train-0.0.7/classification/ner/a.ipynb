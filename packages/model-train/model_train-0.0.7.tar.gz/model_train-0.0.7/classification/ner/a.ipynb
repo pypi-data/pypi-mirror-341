{
 "cells": [
  {
   "cell_type": "code",
   "id": "initial_id",
   "metadata": {
    "collapsed": true,
    "ExecuteTime": {
     "end_time": "2024-12-12T04:13:30.998913Z",
     "start_time": "2024-12-12T04:13:29.322917Z"
    }
   },
   "source": [
    "from rich import print\n",
    "from datasets import load_dataset\n",
    "from transformers import (\n",
    "    AutoTokenizer,\n",
    "    DataCollatorForTokenClassification,\n",
    "    Trainer,\n",
    "    TrainingArguments,\n",
    "    AutoModelForTokenClassification\n",
    ")\n",
    "import numpy as np\n",
    "import evaluate"
   ],
   "outputs": [],
   "execution_count": 1
  },
  {
   "metadata": {
    "ExecuteTime": {
     "end_time": "2024-12-12T04:13:34.471961Z",
     "start_time": "2024-12-12T04:13:31.004205Z"
    }
   },
   "cell_type": "code",
   "source": [
    "dataset = load_dataset('conll2003')\n",
    "dataset"
   ],
   "id": "6a94bb5c2a5b797",
   "outputs": [
    {
     "data": {
      "text/plain": [
       "DatasetDict({\n",
       "    train: Dataset({\n",
       "        features: ['id', 'tokens', 'pos_tags', 'chunk_tags', 'ner_tags'],\n",
       "        num_rows: 14041\n",
       "    })\n",
       "    validation: Dataset({\n",
       "        features: ['id', 'tokens', 'pos_tags', 'chunk_tags', 'ner_tags'],\n",
       "        num_rows: 3250\n",
       "    })\n",
       "    test: Dataset({\n",
       "        features: ['id', 'tokens', 'pos_tags', 'chunk_tags', 'ner_tags'],\n",
       "        num_rows: 3453\n",
       "    })\n",
       "})"
      ]
     },
     "execution_count": 2,
     "metadata": {},
     "output_type": "execute_result"
    }
   ],
   "execution_count": 2
  },
  {
   "metadata": {
    "ExecuteTime": {
     "end_time": "2024-12-12T04:13:34.537767Z",
     "start_time": "2024-12-12T04:13:34.535689Z"
    }
   },
   "cell_type": "code",
   "source": "dataset['train'][0]",
   "id": "68fe1236d212505",
   "outputs": [
    {
     "data": {
      "text/plain": [
       "{'id': '0',\n",
       " 'tokens': ['EU',\n",
       "  'rejects',\n",
       "  'German',\n",
       "  'call',\n",
       "  'to',\n",
       "  'boycott',\n",
       "  'British',\n",
       "  'lamb',\n",
       "  '.'],\n",
       " 'pos_tags': [22, 42, 16, 21, 35, 37, 16, 21, 7],\n",
       " 'chunk_tags': [11, 21, 11, 12, 21, 22, 11, 12, 0],\n",
       " 'ner_tags': [3, 0, 7, 0, 0, 0, 7, 0, 0]}"
      ]
     },
     "execution_count": 3,
     "metadata": {},
     "output_type": "execute_result"
    }
   ],
   "execution_count": 3
  },
  {
   "metadata": {
    "ExecuteTime": {
     "end_time": "2024-12-12T04:13:34.582209Z",
     "start_time": "2024-12-12T04:13:34.580372Z"
    }
   },
   "cell_type": "code",
   "source": [
    "label_names = dataset['train'].features['ner_tags'].feature.names\n",
    "label_names"
   ],
   "id": "7f4d0715bdc47f19",
   "outputs": [
    {
     "data": {
      "text/plain": [
       "['O', 'B-PER', 'I-PER', 'B-ORG', 'I-ORG', 'B-LOC', 'I-LOC', 'B-MISC', 'I-MISC']"
      ]
     },
     "execution_count": 4,
     "metadata": {},
     "output_type": "execute_result"
    }
   ],
   "execution_count": 4
  },
  {
   "metadata": {
    "ExecuteTime": {
     "end_time": "2024-12-12T04:13:34.891513Z",
     "start_time": "2024-12-12T04:13:34.625370Z"
    }
   },
   "cell_type": "code",
   "source": [
    "checkpoint = 'distilbert-base-cased'\n",
    "tokenizer = AutoTokenizer.from_pretrained(checkpoint)"
   ],
   "id": "c75d932e172c3528",
   "outputs": [],
   "execution_count": 5
  },
  {
   "metadata": {
    "ExecuteTime": {
     "end_time": "2024-12-12T04:13:34.915410Z",
     "start_time": "2024-12-12T04:13:34.896299Z"
    }
   },
   "cell_type": "code",
   "source": [
    "token = tokenizer(dataset['train'][0]['tokens'], is_split_into_words=True)\n",
    "print(\n",
    "    token, '\\n--------------------------------------------------------------------------------------\\n', \n",
    "    token.tokens(),'\\n--------------------------------------------------------------------------------------\\n',\n",
    "    token.word_ids()\n",
    ")"
   ],
   "id": "ff3547c018546cd8",
   "outputs": [
    {
     "data": {
      "text/plain": [
       "\u001B[1m{\u001B[0m\n",
       "    \u001B[32m'input_ids'\u001B[0m: \u001B[1m[\u001B[0m\u001B[1;36m101\u001B[0m, \u001B[1;36m7270\u001B[0m, \u001B[1;36m22961\u001B[0m, \u001B[1;36m1528\u001B[0m, \u001B[1;36m1840\u001B[0m, \u001B[1;36m1106\u001B[0m, \u001B[1;36m21423\u001B[0m, \u001B[1;36m1418\u001B[0m, \u001B[1;36m2495\u001B[0m, \u001B[1;36m12913\u001B[0m, \u001B[1;36m119\u001B[0m, \u001B[1;36m102\u001B[0m\u001B[1m]\u001B[0m,\n",
       "    \u001B[32m'attention_mask'\u001B[0m: \u001B[1m[\u001B[0m\u001B[1;36m1\u001B[0m, \u001B[1;36m1\u001B[0m, \u001B[1;36m1\u001B[0m, \u001B[1;36m1\u001B[0m, \u001B[1;36m1\u001B[0m, \u001B[1;36m1\u001B[0m, \u001B[1;36m1\u001B[0m, \u001B[1;36m1\u001B[0m, \u001B[1;36m1\u001B[0m, \u001B[1;36m1\u001B[0m, \u001B[1;36m1\u001B[0m, \u001B[1;36m1\u001B[0m\u001B[1m]\u001B[0m\n",
       "\u001B[1m}\u001B[0m\n",
       "\n",
       "--------------------------------------------------------------------------------------\n",
       "\n",
       "\u001B[1m[\u001B[0m\u001B[32m'\u001B[0m\u001B[32m[\u001B[0m\u001B[32mCLS\u001B[0m\u001B[32m]\u001B[0m\u001B[32m'\u001B[0m, \u001B[32m'EU'\u001B[0m, \u001B[32m'rejects'\u001B[0m, \u001B[32m'German'\u001B[0m, \u001B[32m'call'\u001B[0m, \u001B[32m'to'\u001B[0m, \u001B[32m'boycott'\u001B[0m, \u001B[32m'British'\u001B[0m, \u001B[32m'la'\u001B[0m, \u001B[32m'##mb'\u001B[0m, \u001B[32m'.'\u001B[0m, \u001B[32m'\u001B[0m\u001B[32m[\u001B[0m\u001B[32mSEP\u001B[0m\u001B[32m]\u001B[0m\u001B[32m'\u001B[0m\u001B[1m]\u001B[0m\n",
       "\n",
       "--------------------------------------------------------------------------------------\n",
       "\n",
       "\u001B[1m[\u001B[0m\u001B[3;35mNone\u001B[0m, \u001B[1;36m0\u001B[0m, \u001B[1;36m1\u001B[0m, \u001B[1;36m2\u001B[0m, \u001B[1;36m3\u001B[0m, \u001B[1;36m4\u001B[0m, \u001B[1;36m5\u001B[0m, \u001B[1;36m6\u001B[0m, \u001B[1;36m7\u001B[0m, \u001B[1;36m7\u001B[0m, \u001B[1;36m8\u001B[0m, \u001B[3;35mNone\u001B[0m\u001B[1m]\u001B[0m\n"
      ],
      "text/html": [
       "<pre style=\"white-space:pre;overflow-x:auto;line-height:normal;font-family:Menlo,'DejaVu Sans Mono',consolas,'Courier New',monospace\"><span style=\"font-weight: bold\">{</span>\n",
       "    <span style=\"color: #008000; text-decoration-color: #008000\">'input_ids'</span>: <span style=\"font-weight: bold\">[</span><span style=\"color: #008080; text-decoration-color: #008080; font-weight: bold\">101</span>, <span style=\"color: #008080; text-decoration-color: #008080; font-weight: bold\">7270</span>, <span style=\"color: #008080; text-decoration-color: #008080; font-weight: bold\">22961</span>, <span style=\"color: #008080; text-decoration-color: #008080; font-weight: bold\">1528</span>, <span style=\"color: #008080; text-decoration-color: #008080; font-weight: bold\">1840</span>, <span style=\"color: #008080; text-decoration-color: #008080; font-weight: bold\">1106</span>, <span style=\"color: #008080; text-decoration-color: #008080; font-weight: bold\">21423</span>, <span style=\"color: #008080; text-decoration-color: #008080; font-weight: bold\">1418</span>, <span style=\"color: #008080; text-decoration-color: #008080; font-weight: bold\">2495</span>, <span style=\"color: #008080; text-decoration-color: #008080; font-weight: bold\">12913</span>, <span style=\"color: #008080; text-decoration-color: #008080; font-weight: bold\">119</span>, <span style=\"color: #008080; text-decoration-color: #008080; font-weight: bold\">102</span><span style=\"font-weight: bold\">]</span>,\n",
       "    <span style=\"color: #008000; text-decoration-color: #008000\">'attention_mask'</span>: <span style=\"font-weight: bold\">[</span><span style=\"color: #008080; text-decoration-color: #008080; font-weight: bold\">1</span>, <span style=\"color: #008080; text-decoration-color: #008080; font-weight: bold\">1</span>, <span style=\"color: #008080; text-decoration-color: #008080; font-weight: bold\">1</span>, <span style=\"color: #008080; text-decoration-color: #008080; font-weight: bold\">1</span>, <span style=\"color: #008080; text-decoration-color: #008080; font-weight: bold\">1</span>, <span style=\"color: #008080; text-decoration-color: #008080; font-weight: bold\">1</span>, <span style=\"color: #008080; text-decoration-color: #008080; font-weight: bold\">1</span>, <span style=\"color: #008080; text-decoration-color: #008080; font-weight: bold\">1</span>, <span style=\"color: #008080; text-decoration-color: #008080; font-weight: bold\">1</span>, <span style=\"color: #008080; text-decoration-color: #008080; font-weight: bold\">1</span>, <span style=\"color: #008080; text-decoration-color: #008080; font-weight: bold\">1</span>, <span style=\"color: #008080; text-decoration-color: #008080; font-weight: bold\">1</span><span style=\"font-weight: bold\">]</span>\n",
       "<span style=\"font-weight: bold\">}</span>\n",
       "\n",
       "--------------------------------------------------------------------------------------\n",
       "\n",
       "<span style=\"font-weight: bold\">[</span><span style=\"color: #008000; text-decoration-color: #008000\">'[CLS]'</span>, <span style=\"color: #008000; text-decoration-color: #008000\">'EU'</span>, <span style=\"color: #008000; text-decoration-color: #008000\">'rejects'</span>, <span style=\"color: #008000; text-decoration-color: #008000\">'German'</span>, <span style=\"color: #008000; text-decoration-color: #008000\">'call'</span>, <span style=\"color: #008000; text-decoration-color: #008000\">'to'</span>, <span style=\"color: #008000; text-decoration-color: #008000\">'boycott'</span>, <span style=\"color: #008000; text-decoration-color: #008000\">'British'</span>, <span style=\"color: #008000; text-decoration-color: #008000\">'la'</span>, <span style=\"color: #008000; text-decoration-color: #008000\">'##mb'</span>, <span style=\"color: #008000; text-decoration-color: #008000\">'.'</span>, <span style=\"color: #008000; text-decoration-color: #008000\">'[SEP]'</span><span style=\"font-weight: bold\">]</span>\n",
       "\n",
       "--------------------------------------------------------------------------------------\n",
       "\n",
       "<span style=\"font-weight: bold\">[</span><span style=\"color: #800080; text-decoration-color: #800080; font-style: italic\">None</span>, <span style=\"color: #008080; text-decoration-color: #008080; font-weight: bold\">0</span>, <span style=\"color: #008080; text-decoration-color: #008080; font-weight: bold\">1</span>, <span style=\"color: #008080; text-decoration-color: #008080; font-weight: bold\">2</span>, <span style=\"color: #008080; text-decoration-color: #008080; font-weight: bold\">3</span>, <span style=\"color: #008080; text-decoration-color: #008080; font-weight: bold\">4</span>, <span style=\"color: #008080; text-decoration-color: #008080; font-weight: bold\">5</span>, <span style=\"color: #008080; text-decoration-color: #008080; font-weight: bold\">6</span>, <span style=\"color: #008080; text-decoration-color: #008080; font-weight: bold\">7</span>, <span style=\"color: #008080; text-decoration-color: #008080; font-weight: bold\">7</span>, <span style=\"color: #008080; text-decoration-color: #008080; font-weight: bold\">8</span>, <span style=\"color: #800080; text-decoration-color: #800080; font-style: italic\">None</span><span style=\"font-weight: bold\">]</span>\n",
       "</pre>\n"
      ]
     },
     "metadata": {},
     "output_type": "display_data"
    }
   ],
   "execution_count": 6
  },
  {
   "metadata": {
    "ExecuteTime": {
     "end_time": "2024-12-12T04:13:34.943204Z",
     "start_time": "2024-12-12T04:13:34.941415Z"
    }
   },
   "cell_type": "code",
   "source": [
    "def align_target(labels, word_ids):\n",
    "    # Define a mapping from beginning (B-) labels to inside (I-) labels\n",
    "    begin2inside = {\n",
    "        1: 2,  # B-LOC -> I-LOC\n",
    "        3: 4,  # B-MISC -> I-MISC\n",
    "        5: 6,  # B-ORG -> I-ORG\n",
    "        7: 8    # B-PER -> I-PER\n",
    "    }\n",
    "\n",
    "    # Initialize an empty list to store aligned labels and a variable to track the last word\n",
    "    align_labels = []\n",
    "    last_word = None\n",
    "\n",
    "    # Iterate through the word_ids\n",
    "    for word in word_ids:\n",
    "        if word is None:\n",
    "            label = -100  # Set label to -100 for None word_ids\n",
    "        elif word != last_word:\n",
    "            label = labels[word]  # Use the label corresponding to the current word_id\n",
    "        else:\n",
    "            label = labels[word]\n",
    "            # Change B- to I- if the previous word is the same\n",
    "            if label in begin2inside:\n",
    "                label = begin2inside[label]  # Map B- to I-\n",
    "\n",
    "        # Append the label to the align_labels list and update last_word\n",
    "        align_labels.append(label)\n",
    "        last_word = word\n",
    "\n",
    "    return align_labels"
   ],
   "id": "76ff065224c5c4a1",
   "outputs": [],
   "execution_count": 7
  },
  {
   "metadata": {
    "ExecuteTime": {
     "end_time": "2024-12-12T04:13:34.989922Z",
     "start_time": "2024-12-12T04:13:34.986758Z"
    }
   },
   "cell_type": "code",
   "source": [
    "# Extract labels and word_ids\n",
    "labels = dataset['train'][0]['ner_tags']\n",
    "word_ids = token.word_ids()\n",
    "\n",
    "# Use the align_target function to align labels\n",
    "aligned_target = align_target(labels, word_ids)\n",
    "\n",
    "# Print tokenized tokens, original labels, and aligned labels\n",
    "print(\n",
    "    token.tokens(), '\\n--------------------------------------------------------------------------------------\\n',\n",
    "    labels, '\\n--------------------------------------------------------------------------------------\\n',\n",
    "    aligned_target\n",
    ")"
   ],
   "id": "aaa4a6edb22c2a54",
   "outputs": [
    {
     "data": {
      "text/plain": [
       "\u001B[1m[\u001B[0m\u001B[32m'\u001B[0m\u001B[32m[\u001B[0m\u001B[32mCLS\u001B[0m\u001B[32m]\u001B[0m\u001B[32m'\u001B[0m, \u001B[32m'EU'\u001B[0m, \u001B[32m'rejects'\u001B[0m, \u001B[32m'German'\u001B[0m, \u001B[32m'call'\u001B[0m, \u001B[32m'to'\u001B[0m, \u001B[32m'boycott'\u001B[0m, \u001B[32m'British'\u001B[0m, \u001B[32m'la'\u001B[0m, \u001B[32m'##mb'\u001B[0m, \u001B[32m'.'\u001B[0m, \u001B[32m'\u001B[0m\u001B[32m[\u001B[0m\u001B[32mSEP\u001B[0m\u001B[32m]\u001B[0m\u001B[32m'\u001B[0m\u001B[1m]\u001B[0m\n",
       "\n",
       "--------------------------------------------------------------------------------------\n",
       "\n",
       "\u001B[1m[\u001B[0m\u001B[1;36m3\u001B[0m, \u001B[1;36m0\u001B[0m, \u001B[1;36m7\u001B[0m, \u001B[1;36m0\u001B[0m, \u001B[1;36m0\u001B[0m, \u001B[1;36m0\u001B[0m, \u001B[1;36m7\u001B[0m, \u001B[1;36m0\u001B[0m, \u001B[1;36m0\u001B[0m\u001B[1m]\u001B[0m\n",
       "\n",
       "--------------------------------------------------------------------------------------\n",
       "\n",
       "\u001B[1m[\u001B[0m\u001B[1;36m-100\u001B[0m, \u001B[1;36m3\u001B[0m, \u001B[1;36m0\u001B[0m, \u001B[1;36m7\u001B[0m, \u001B[1;36m0\u001B[0m, \u001B[1;36m0\u001B[0m, \u001B[1;36m0\u001B[0m, \u001B[1;36m7\u001B[0m, \u001B[1;36m0\u001B[0m, \u001B[1;36m0\u001B[0m, \u001B[1;36m0\u001B[0m, \u001B[1;36m-100\u001B[0m\u001B[1m]\u001B[0m\n"
      ],
      "text/html": [
       "<pre style=\"white-space:pre;overflow-x:auto;line-height:normal;font-family:Menlo,'DejaVu Sans Mono',consolas,'Courier New',monospace\"><span style=\"font-weight: bold\">[</span><span style=\"color: #008000; text-decoration-color: #008000\">'[CLS]'</span>, <span style=\"color: #008000; text-decoration-color: #008000\">'EU'</span>, <span style=\"color: #008000; text-decoration-color: #008000\">'rejects'</span>, <span style=\"color: #008000; text-decoration-color: #008000\">'German'</span>, <span style=\"color: #008000; text-decoration-color: #008000\">'call'</span>, <span style=\"color: #008000; text-decoration-color: #008000\">'to'</span>, <span style=\"color: #008000; text-decoration-color: #008000\">'boycott'</span>, <span style=\"color: #008000; text-decoration-color: #008000\">'British'</span>, <span style=\"color: #008000; text-decoration-color: #008000\">'la'</span>, <span style=\"color: #008000; text-decoration-color: #008000\">'##mb'</span>, <span style=\"color: #008000; text-decoration-color: #008000\">'.'</span>, <span style=\"color: #008000; text-decoration-color: #008000\">'[SEP]'</span><span style=\"font-weight: bold\">]</span>\n",
       "\n",
       "--------------------------------------------------------------------------------------\n",
       "\n",
       "<span style=\"font-weight: bold\">[</span><span style=\"color: #008080; text-decoration-color: #008080; font-weight: bold\">3</span>, <span style=\"color: #008080; text-decoration-color: #008080; font-weight: bold\">0</span>, <span style=\"color: #008080; text-decoration-color: #008080; font-weight: bold\">7</span>, <span style=\"color: #008080; text-decoration-color: #008080; font-weight: bold\">0</span>, <span style=\"color: #008080; text-decoration-color: #008080; font-weight: bold\">0</span>, <span style=\"color: #008080; text-decoration-color: #008080; font-weight: bold\">0</span>, <span style=\"color: #008080; text-decoration-color: #008080; font-weight: bold\">7</span>, <span style=\"color: #008080; text-decoration-color: #008080; font-weight: bold\">0</span>, <span style=\"color: #008080; text-decoration-color: #008080; font-weight: bold\">0</span><span style=\"font-weight: bold\">]</span>\n",
       "\n",
       "--------------------------------------------------------------------------------------\n",
       "\n",
       "<span style=\"font-weight: bold\">[</span><span style=\"color: #008080; text-decoration-color: #008080; font-weight: bold\">-100</span>, <span style=\"color: #008080; text-decoration-color: #008080; font-weight: bold\">3</span>, <span style=\"color: #008080; text-decoration-color: #008080; font-weight: bold\">0</span>, <span style=\"color: #008080; text-decoration-color: #008080; font-weight: bold\">7</span>, <span style=\"color: #008080; text-decoration-color: #008080; font-weight: bold\">0</span>, <span style=\"color: #008080; text-decoration-color: #008080; font-weight: bold\">0</span>, <span style=\"color: #008080; text-decoration-color: #008080; font-weight: bold\">0</span>, <span style=\"color: #008080; text-decoration-color: #008080; font-weight: bold\">7</span>, <span style=\"color: #008080; text-decoration-color: #008080; font-weight: bold\">0</span>, <span style=\"color: #008080; text-decoration-color: #008080; font-weight: bold\">0</span>, <span style=\"color: #008080; text-decoration-color: #008080; font-weight: bold\">0</span>, <span style=\"color: #008080; text-decoration-color: #008080; font-weight: bold\">-100</span><span style=\"font-weight: bold\">]</span>\n",
       "</pre>\n"
      ]
     },
     "metadata": {},
     "output_type": "display_data"
    }
   ],
   "execution_count": 8
  },
  {
   "metadata": {
    "ExecuteTime": {
     "end_time": "2024-12-12T04:13:35.040961Z",
     "start_time": "2024-12-12T04:13:35.035472Z"
    }
   },
   "cell_type": "code",
   "source": [
    "aligned_labels = [label_names[t] if t >= 0 else None for t in aligned_target]\n",
    "\n",
    "# Loop through tokens and aligned labels and print them\n",
    "for x, y in zip(token.tokens(), aligned_labels):\n",
    "    print(f\"{x}\\t{y}\")"
   ],
   "id": "b0c67b2a14aacd11",
   "outputs": [
    {
     "data": {
      "text/plain": [
       "\u001B[1m[\u001B[0mCLS\u001B[1m]\u001B[0m   \u001B[3;35mNone\u001B[0m\n"
      ],
      "text/html": [
       "<pre style=\"white-space:pre;overflow-x:auto;line-height:normal;font-family:Menlo,'DejaVu Sans Mono',consolas,'Courier New',monospace\"><span style=\"font-weight: bold\">[</span>CLS<span style=\"font-weight: bold\">]</span>   <span style=\"color: #800080; text-decoration-color: #800080; font-style: italic\">None</span>\n",
       "</pre>\n"
      ]
     },
     "metadata": {},
     "output_type": "display_data"
    },
    {
     "data": {
      "text/plain": [
       "EU      B-ORG\n"
      ],
      "text/html": [
       "<pre style=\"white-space:pre;overflow-x:auto;line-height:normal;font-family:Menlo,'DejaVu Sans Mono',consolas,'Courier New',monospace\">EU      B-ORG\n",
       "</pre>\n"
      ]
     },
     "metadata": {},
     "output_type": "display_data"
    },
    {
     "data": {
      "text/plain": [
       "rejects O\n"
      ],
      "text/html": [
       "<pre style=\"white-space:pre;overflow-x:auto;line-height:normal;font-family:Menlo,'DejaVu Sans Mono',consolas,'Courier New',monospace\">rejects O\n",
       "</pre>\n"
      ]
     },
     "metadata": {},
     "output_type": "display_data"
    },
    {
     "data": {
      "text/plain": [
       "German  B-MISC\n"
      ],
      "text/html": [
       "<pre style=\"white-space:pre;overflow-x:auto;line-height:normal;font-family:Menlo,'DejaVu Sans Mono',consolas,'Courier New',monospace\">German  B-MISC\n",
       "</pre>\n"
      ]
     },
     "metadata": {},
     "output_type": "display_data"
    },
    {
     "data": {
      "text/plain": [
       "call    O\n"
      ],
      "text/html": [
       "<pre style=\"white-space:pre;overflow-x:auto;line-height:normal;font-family:Menlo,'DejaVu Sans Mono',consolas,'Courier New',monospace\">call    O\n",
       "</pre>\n"
      ]
     },
     "metadata": {},
     "output_type": "display_data"
    },
    {
     "data": {
      "text/plain": [
       "to      O\n"
      ],
      "text/html": [
       "<pre style=\"white-space:pre;overflow-x:auto;line-height:normal;font-family:Menlo,'DejaVu Sans Mono',consolas,'Courier New',monospace\">to      O\n",
       "</pre>\n"
      ]
     },
     "metadata": {},
     "output_type": "display_data"
    },
    {
     "data": {
      "text/plain": [
       "boycott O\n"
      ],
      "text/html": [
       "<pre style=\"white-space:pre;overflow-x:auto;line-height:normal;font-family:Menlo,'DejaVu Sans Mono',consolas,'Courier New',monospace\">boycott O\n",
       "</pre>\n"
      ]
     },
     "metadata": {},
     "output_type": "display_data"
    },
    {
     "data": {
      "text/plain": [
       "British B-MISC\n"
      ],
      "text/html": [
       "<pre style=\"white-space:pre;overflow-x:auto;line-height:normal;font-family:Menlo,'DejaVu Sans Mono',consolas,'Courier New',monospace\">British B-MISC\n",
       "</pre>\n"
      ]
     },
     "metadata": {},
     "output_type": "display_data"
    },
    {
     "data": {
      "text/plain": [
       "la      O\n"
      ],
      "text/html": [
       "<pre style=\"white-space:pre;overflow-x:auto;line-height:normal;font-family:Menlo,'DejaVu Sans Mono',consolas,'Courier New',monospace\">la      O\n",
       "</pre>\n"
      ]
     },
     "metadata": {},
     "output_type": "display_data"
    },
    {
     "data": {
      "text/plain": [
       "##mb    O\n"
      ],
      "text/html": [
       "<pre style=\"white-space:pre;overflow-x:auto;line-height:normal;font-family:Menlo,'DejaVu Sans Mono',consolas,'Courier New',monospace\">##mb    O\n",
       "</pre>\n"
      ]
     },
     "metadata": {},
     "output_type": "display_data"
    },
    {
     "data": {
      "text/plain": [
       ".       O\n"
      ],
      "text/html": [
       "<pre style=\"white-space:pre;overflow-x:auto;line-height:normal;font-family:Menlo,'DejaVu Sans Mono',consolas,'Courier New',monospace\">.       O\n",
       "</pre>\n"
      ]
     },
     "metadata": {},
     "output_type": "display_data"
    },
    {
     "data": {
      "text/plain": [
       "\u001B[1m[\u001B[0mSEP\u001B[1m]\u001B[0m   \u001B[3;35mNone\u001B[0m\n"
      ],
      "text/html": [
       "<pre style=\"white-space:pre;overflow-x:auto;line-height:normal;font-family:Menlo,'DejaVu Sans Mono',consolas,'Courier New',monospace\"><span style=\"font-weight: bold\">[</span>SEP<span style=\"font-weight: bold\">]</span>   <span style=\"color: #800080; text-decoration-color: #800080; font-style: italic\">None</span>\n",
       "</pre>\n"
      ]
     },
     "metadata": {},
     "output_type": "display_data"
    }
   ],
   "execution_count": 9
  },
  {
   "metadata": {
    "ExecuteTime": {
     "end_time": "2024-12-12T04:13:35.095159Z",
     "start_time": "2024-12-12T04:13:35.090456Z"
    }
   },
   "cell_type": "code",
   "source": [
    "# Define fake input data\n",
    "words = ['[CLS]', 'Ger', '##man', 'call', 'to', 'Micro', '##so', '##ft', '[SEP]']\n",
    "word_ids = [None, 0, 0, 1, 2, 3, 3, 3, None]\n",
    "labels = [7, 0, 0, 3, 4]\n",
    "\n",
    "# Use the align_target function to align labels\n",
    "aligned_target = align_target(labels, word_ids)\n",
    "\n",
    "# Create a list of aligned labels using label names\n",
    "aligned_labels = [label_names[t] if t >= 0 else None for t in aligned_target]\n",
    "\n",
    "# Loop through words and aligned labels and print them\n",
    "for x, y in zip(words, aligned_labels):\n",
    "    print(f\"{x}\\t{y}\")"
   ],
   "id": "bbda34bf2c19b0d8",
   "outputs": [
    {
     "data": {
      "text/plain": [
       "\u001B[1m[\u001B[0mCLS\u001B[1m]\u001B[0m   \u001B[3;35mNone\u001B[0m\n"
      ],
      "text/html": [
       "<pre style=\"white-space:pre;overflow-x:auto;line-height:normal;font-family:Menlo,'DejaVu Sans Mono',consolas,'Courier New',monospace\"><span style=\"font-weight: bold\">[</span>CLS<span style=\"font-weight: bold\">]</span>   <span style=\"color: #800080; text-decoration-color: #800080; font-style: italic\">None</span>\n",
       "</pre>\n"
      ]
     },
     "metadata": {},
     "output_type": "display_data"
    },
    {
     "data": {
      "text/plain": [
       "Ger     B-MISC\n"
      ],
      "text/html": [
       "<pre style=\"white-space:pre;overflow-x:auto;line-height:normal;font-family:Menlo,'DejaVu Sans Mono',consolas,'Courier New',monospace\">Ger     B-MISC\n",
       "</pre>\n"
      ]
     },
     "metadata": {},
     "output_type": "display_data"
    },
    {
     "data": {
      "text/plain": [
       "##man   I-MISC\n"
      ],
      "text/html": [
       "<pre style=\"white-space:pre;overflow-x:auto;line-height:normal;font-family:Menlo,'DejaVu Sans Mono',consolas,'Courier New',monospace\">##man   I-MISC\n",
       "</pre>\n"
      ]
     },
     "metadata": {},
     "output_type": "display_data"
    },
    {
     "data": {
      "text/plain": [
       "call    O\n"
      ],
      "text/html": [
       "<pre style=\"white-space:pre;overflow-x:auto;line-height:normal;font-family:Menlo,'DejaVu Sans Mono',consolas,'Courier New',monospace\">call    O\n",
       "</pre>\n"
      ]
     },
     "metadata": {},
     "output_type": "display_data"
    },
    {
     "data": {
      "text/plain": [
       "to      O\n"
      ],
      "text/html": [
       "<pre style=\"white-space:pre;overflow-x:auto;line-height:normal;font-family:Menlo,'DejaVu Sans Mono',consolas,'Courier New',monospace\">to      O\n",
       "</pre>\n"
      ]
     },
     "metadata": {},
     "output_type": "display_data"
    },
    {
     "data": {
      "text/plain": [
       "Micro   B-ORG\n"
      ],
      "text/html": [
       "<pre style=\"white-space:pre;overflow-x:auto;line-height:normal;font-family:Menlo,'DejaVu Sans Mono',consolas,'Courier New',monospace\">Micro   B-ORG\n",
       "</pre>\n"
      ]
     },
     "metadata": {},
     "output_type": "display_data"
    },
    {
     "data": {
      "text/plain": [
       "##so    I-ORG\n"
      ],
      "text/html": [
       "<pre style=\"white-space:pre;overflow-x:auto;line-height:normal;font-family:Menlo,'DejaVu Sans Mono',consolas,'Courier New',monospace\">##so    I-ORG\n",
       "</pre>\n"
      ]
     },
     "metadata": {},
     "output_type": "display_data"
    },
    {
     "data": {
      "text/plain": [
       "##ft    I-ORG\n"
      ],
      "text/html": [
       "<pre style=\"white-space:pre;overflow-x:auto;line-height:normal;font-family:Menlo,'DejaVu Sans Mono',consolas,'Courier New',monospace\">##ft    I-ORG\n",
       "</pre>\n"
      ]
     },
     "metadata": {},
     "output_type": "display_data"
    },
    {
     "data": {
      "text/plain": [
       "\u001B[1m[\u001B[0mSEP\u001B[1m]\u001B[0m   \u001B[3;35mNone\u001B[0m\n"
      ],
      "text/html": [
       "<pre style=\"white-space:pre;overflow-x:auto;line-height:normal;font-family:Menlo,'DejaVu Sans Mono',consolas,'Courier New',monospace\"><span style=\"font-weight: bold\">[</span>SEP<span style=\"font-weight: bold\">]</span>   <span style=\"color: #800080; text-decoration-color: #800080; font-style: italic\">None</span>\n",
       "</pre>\n"
      ]
     },
     "metadata": {},
     "output_type": "display_data"
    }
   ],
   "execution_count": 10
  },
  {
   "metadata": {
    "ExecuteTime": {
     "end_time": "2024-12-12T04:13:35.142469Z",
     "start_time": "2024-12-12T04:13:35.140759Z"
    }
   },
   "cell_type": "code",
   "source": [
    "def tokenize_fn(batch):\n",
    "    # Tokenize the input batch\n",
    "    tokenized_inputs = tokenizer(batch['tokens'], truncation=True, is_split_into_words=True)\n",
    "\n",
    "    # Extract the labels batch from the input batch\n",
    "    labels_batch = batch['ner_tags']\n",
    "\n",
    "    # Initialize a list to store aligned targets for each example in the batch\n",
    "    aligned_targets_batch = []\n",
    "\n",
    "    # Iterate through each example and align the labels\n",
    "    for i, labels in enumerate(labels_batch):\n",
    "        # Extract the word_ids for the current example\n",
    "        word_ids = tokenized_inputs.word_ids(i)\n",
    "\n",
    "        # Use the align_target function to align the labels\n",
    "        aligned_targets_batch.append(align_target(labels, word_ids))\n",
    "\n",
    "    # Add the aligned labels to the tokenized inputs under the key \"labels\"\n",
    "    tokenized_inputs[\"labels\"] = aligned_targets_batch\n",
    "\n",
    "    # Return the tokenized inputs, including aligned labels\n",
    "    return tokenized_inputs"
   ],
   "id": "b5e7e00c8682609e",
   "outputs": [],
   "execution_count": 11
  },
  {
   "metadata": {
    "ExecuteTime": {
     "end_time": "2024-12-12T04:13:35.194283Z",
     "start_time": "2024-12-12T04:13:35.183508Z"
    }
   },
   "cell_type": "code",
   "source": "tokenized_dataset = dataset.map(tokenize_fn, batched=True, remove_columns=dataset['train'].column_names)",
   "id": "6eb06d20a6e6d44b",
   "outputs": [],
   "execution_count": 12
  },
  {
   "metadata": {
    "ExecuteTime": {
     "end_time": "2024-12-12T04:13:35.234340Z",
     "start_time": "2024-12-12T04:13:35.231220Z"
    }
   },
   "cell_type": "code",
   "source": [
    "data_collator = DataCollatorForTokenClassification(tokenizer=tokenizer)\n",
    "batch = data_collator([tokenized_dataset['train'][i] for i in range(2)])\n",
    "batch"
   ],
   "id": "fd878338145c6333",
   "outputs": [
    {
     "data": {
      "text/plain": [
       "{'input_ids': tensor([[  101,  7270, 22961,  1528,  1840,  1106, 21423,  1418,  2495, 12913,\n",
       "           119,   102],\n",
       "        [  101,  1943, 14428,   102,     0,     0,     0,     0,     0,     0,\n",
       "             0,     0]]), 'attention_mask': tensor([[1, 1, 1, 1, 1, 1, 1, 1, 1, 1, 1, 1],\n",
       "        [1, 1, 1, 1, 0, 0, 0, 0, 0, 0, 0, 0]]), 'labels': tensor([[-100,    3,    0,    7,    0,    0,    0,    7,    0,    0,    0, -100],\n",
       "        [-100,    1,    2, -100, -100, -100, -100, -100, -100, -100, -100, -100]])}"
      ]
     },
     "execution_count": 13,
     "metadata": {},
     "output_type": "execute_result"
    }
   ],
   "execution_count": 13
  },
  {
   "metadata": {
    "ExecuteTime": {
     "end_time": "2024-12-12T04:13:36.936432Z",
     "start_time": "2024-12-12T04:13:35.279668Z"
    }
   },
   "cell_type": "code",
   "source": [
    "metric = evaluate.load(\"seqeval\")\n",
    "\n",
    "def compute_metrics(logits_and_labels):\n",
    "    # Unpack the logits and labels\n",
    "    logits, labels = logits_and_labels \n",
    "    \n",
    "    # Get predictions from the logits\n",
    "    predictions = np.argmax(logits, axis=-1)\n",
    "    \n",
    "    # Remove ignored index (special tokens)\n",
    "    str_labels = [\n",
    "    [label_names[t] for t in label if t!=-100] for label in labels\n",
    "    ]\n",
    "    \n",
    "    str_preds = [\n",
    "    [label_names[p] for (p, t) in zip(prediction, label) if t != -100]\n",
    "    for prediction, label in zip(predictions, labels)\n",
    "    ]\n",
    "    \n",
    "    # Compute metrics\n",
    "    results = metric.compute(predictions=str_preds, references=str_labels)\n",
    "    \n",
    "    # Extract key metrics\n",
    "    return {\n",
    "        \"precision\": results[\"overall_precision\"],\n",
    "        \"recall\": results[\"overall_recall\"], \n",
    "        \"f1\": results[\"overall_f1\"],\n",
    "        \"accuracy\": results[\"overall_accuracy\"]  \n",
    "    }"
   ],
   "id": "d026681e8057cd3b",
   "outputs": [],
   "execution_count": 14
  },
  {
   "metadata": {
    "ExecuteTime": {
     "end_time": "2024-12-12T04:13:36.944481Z",
     "start_time": "2024-12-12T04:13:36.941840Z"
    }
   },
   "cell_type": "code",
   "source": [
    "id2label = {k: v for k, v in enumerate(label_names)} \n",
    "label2id = {v: k for k, v in enumerate(label_names)}\n",
    "print(id2label , '\\n--------------------\\n' , label2id)"
   ],
   "id": "b619b6416dc10f60",
   "outputs": [
    {
     "data": {
      "text/plain": [
       "\u001B[1m{\u001B[0m\u001B[1;36m0\u001B[0m: \u001B[32m'O'\u001B[0m, \u001B[1;36m1\u001B[0m: \u001B[32m'B-PER'\u001B[0m, \u001B[1;36m2\u001B[0m: \u001B[32m'I-PER'\u001B[0m, \u001B[1;36m3\u001B[0m: \u001B[32m'B-ORG'\u001B[0m, \u001B[1;36m4\u001B[0m: \u001B[32m'I-ORG'\u001B[0m, \u001B[1;36m5\u001B[0m: \u001B[32m'B-LOC'\u001B[0m, \u001B[1;36m6\u001B[0m: \u001B[32m'I-LOC'\u001B[0m, \u001B[1;36m7\u001B[0m: \u001B[32m'B-MISC'\u001B[0m, \u001B[1;36m8\u001B[0m: \u001B[32m'I-MISC'\u001B[0m\u001B[1m}\u001B[0m\n",
       "\n",
       "--------------------\n",
       "\n",
       "\u001B[1m{\u001B[0m\u001B[32m'O'\u001B[0m: \u001B[1;36m0\u001B[0m, \u001B[32m'B-PER'\u001B[0m: \u001B[1;36m1\u001B[0m, \u001B[32m'I-PER'\u001B[0m: \u001B[1;36m2\u001B[0m, \u001B[32m'B-ORG'\u001B[0m: \u001B[1;36m3\u001B[0m, \u001B[32m'I-ORG'\u001B[0m: \u001B[1;36m4\u001B[0m, \u001B[32m'B-LOC'\u001B[0m: \u001B[1;36m5\u001B[0m, \u001B[32m'I-LOC'\u001B[0m: \u001B[1;36m6\u001B[0m, \u001B[32m'B-MISC'\u001B[0m: \u001B[1;36m7\u001B[0m, \u001B[32m'I-MISC'\u001B[0m: \u001B[1;36m8\u001B[0m\u001B[1m}\u001B[0m\n"
      ],
      "text/html": [
       "<pre style=\"white-space:pre;overflow-x:auto;line-height:normal;font-family:Menlo,'DejaVu Sans Mono',consolas,'Courier New',monospace\"><span style=\"font-weight: bold\">{</span><span style=\"color: #008080; text-decoration-color: #008080; font-weight: bold\">0</span>: <span style=\"color: #008000; text-decoration-color: #008000\">'O'</span>, <span style=\"color: #008080; text-decoration-color: #008080; font-weight: bold\">1</span>: <span style=\"color: #008000; text-decoration-color: #008000\">'B-PER'</span>, <span style=\"color: #008080; text-decoration-color: #008080; font-weight: bold\">2</span>: <span style=\"color: #008000; text-decoration-color: #008000\">'I-PER'</span>, <span style=\"color: #008080; text-decoration-color: #008080; font-weight: bold\">3</span>: <span style=\"color: #008000; text-decoration-color: #008000\">'B-ORG'</span>, <span style=\"color: #008080; text-decoration-color: #008080; font-weight: bold\">4</span>: <span style=\"color: #008000; text-decoration-color: #008000\">'I-ORG'</span>, <span style=\"color: #008080; text-decoration-color: #008080; font-weight: bold\">5</span>: <span style=\"color: #008000; text-decoration-color: #008000\">'B-LOC'</span>, <span style=\"color: #008080; text-decoration-color: #008080; font-weight: bold\">6</span>: <span style=\"color: #008000; text-decoration-color: #008000\">'I-LOC'</span>, <span style=\"color: #008080; text-decoration-color: #008080; font-weight: bold\">7</span>: <span style=\"color: #008000; text-decoration-color: #008000\">'B-MISC'</span>, <span style=\"color: #008080; text-decoration-color: #008080; font-weight: bold\">8</span>: <span style=\"color: #008000; text-decoration-color: #008000\">'I-MISC'</span><span style=\"font-weight: bold\">}</span>\n",
       "\n",
       "--------------------\n",
       "\n",
       "<span style=\"font-weight: bold\">{</span><span style=\"color: #008000; text-decoration-color: #008000\">'O'</span>: <span style=\"color: #008080; text-decoration-color: #008080; font-weight: bold\">0</span>, <span style=\"color: #008000; text-decoration-color: #008000\">'B-PER'</span>: <span style=\"color: #008080; text-decoration-color: #008080; font-weight: bold\">1</span>, <span style=\"color: #008000; text-decoration-color: #008000\">'I-PER'</span>: <span style=\"color: #008080; text-decoration-color: #008080; font-weight: bold\">2</span>, <span style=\"color: #008000; text-decoration-color: #008000\">'B-ORG'</span>: <span style=\"color: #008080; text-decoration-color: #008080; font-weight: bold\">3</span>, <span style=\"color: #008000; text-decoration-color: #008000\">'I-ORG'</span>: <span style=\"color: #008080; text-decoration-color: #008080; font-weight: bold\">4</span>, <span style=\"color: #008000; text-decoration-color: #008000\">'B-LOC'</span>: <span style=\"color: #008080; text-decoration-color: #008080; font-weight: bold\">5</span>, <span style=\"color: #008000; text-decoration-color: #008000\">'I-LOC'</span>: <span style=\"color: #008080; text-decoration-color: #008080; font-weight: bold\">6</span>, <span style=\"color: #008000; text-decoration-color: #008000\">'B-MISC'</span>: <span style=\"color: #008080; text-decoration-color: #008080; font-weight: bold\">7</span>, <span style=\"color: #008000; text-decoration-color: #008000\">'I-MISC'</span>: <span style=\"color: #008080; text-decoration-color: #008080; font-weight: bold\">8</span><span style=\"font-weight: bold\">}</span>\n",
       "</pre>\n"
      ]
     },
     "metadata": {},
     "output_type": "display_data"
    }
   ],
   "execution_count": 15
  },
  {
   "metadata": {
    "ExecuteTime": {
     "end_time": "2024-12-12T04:13:37.762700Z",
     "start_time": "2024-12-12T04:13:36.987510Z"
    }
   },
   "cell_type": "code",
   "source": [
    "model = AutoModelForTokenClassification.from_pretrained(\n",
    "  checkpoint,\n",
    "  id2label=id2label,  \n",
    "  label2id=label2id\n",
    ")\n",
    "\n",
    "training_args = TrainingArguments(\n",
    "    output_dir = \"fine_tuned_model\",\n",
    "    eval_strategy = \"epoch\",\n",
    "    learning_rate = 2e-5, \n",
    "    per_device_train_batch_size = 16,\n",
    "    per_device_eval_batch_size = 16,\n",
    "    num_train_epochs = 3,\n",
    "    weight_decay = 0.01\n",
    ")\n",
    "\n",
    "trainer = Trainer(\n",
    "    model=model, \n",
    "    args=training_args,\n",
    "    train_dataset=tokenized_dataset[\"train\"],\n",
    "    eval_dataset=tokenized_dataset['validation'],\n",
    "    tokenizer=tokenizer,\n",
    "    compute_metrics=compute_metrics,\n",
    "    data_collator=data_collator \n",
    ")"
   ],
   "id": "89fe606d60800bde",
   "outputs": [
    {
     "name": "stderr",
     "output_type": "stream",
     "text": [
      "Some weights of DistilBertForTokenClassification were not initialized from the model checkpoint at distilbert-base-cased and are newly initialized: ['classifier.bias', 'classifier.weight']\n",
      "You should probably TRAIN this model on a down-stream task to be able to use it for predictions and inference.\n",
      "/tmp/ipykernel_2066934/2795545226.py:17: FutureWarning: `tokenizer` is deprecated and will be removed in version 5.0.0 for `Trainer.__init__`. Use `processing_class` instead.\n",
      "  trainer = Trainer(\n"
     ]
    }
   ],
   "execution_count": 16
  },
  {
   "metadata": {
    "ExecuteTime": {
     "end_time": "2024-12-12T04:14:33.172007Z",
     "start_time": "2024-12-12T04:13:37.770378Z"
    }
   },
   "cell_type": "code",
   "source": [
    "train_results = trainer.train()\n",
    "trainer.save_model()\n",
    "trainer.log_metrics(\"train\", train_results.metrics)\n",
    "trainer.save_metrics(\"train\", train_results.metrics)\n",
    "trainer.save_state()"
   ],
   "id": "f24c952cc48c21f6",
   "outputs": [
    {
     "data": {
      "text/plain": [
       "<IPython.core.display.HTML object>"
      ],
      "text/html": [
       "\n",
       "    <div>\n",
       "      \n",
       "      <progress value='2634' max='2634' style='width:300px; height:20px; vertical-align: middle;'></progress>\n",
       "      [2634/2634 00:54, Epoch 3/3]\n",
       "    </div>\n",
       "    <table border=\"1\" class=\"dataframe\">\n",
       "  <thead>\n",
       " <tr style=\"text-align: left;\">\n",
       "      <th>Epoch</th>\n",
       "      <th>Training Loss</th>\n",
       "      <th>Validation Loss</th>\n",
       "      <th>Precision</th>\n",
       "      <th>Recall</th>\n",
       "      <th>F1</th>\n",
       "      <th>Accuracy</th>\n",
       "    </tr>\n",
       "  </thead>\n",
       "  <tbody>\n",
       "    <tr>\n",
       "      <td>1</td>\n",
       "      <td>0.251900</td>\n",
       "      <td>0.090953</td>\n",
       "      <td>0.857280</td>\n",
       "      <td>0.903736</td>\n",
       "      <td>0.879895</td>\n",
       "      <td>0.973082</td>\n",
       "    </tr>\n",
       "    <tr>\n",
       "      <td>2</td>\n",
       "      <td>0.062900</td>\n",
       "      <td>0.070373</td>\n",
       "      <td>0.897042</td>\n",
       "      <td>0.923763</td>\n",
       "      <td>0.910206</td>\n",
       "      <td>0.980529</td>\n",
       "    </tr>\n",
       "    <tr>\n",
       "      <td>3</td>\n",
       "      <td>0.034900</td>\n",
       "      <td>0.068708</td>\n",
       "      <td>0.905580</td>\n",
       "      <td>0.931336</td>\n",
       "      <td>0.918278</td>\n",
       "      <td>0.982060</td>\n",
       "    </tr>\n",
       "  </tbody>\n",
       "</table><p>"
      ]
     },
     "metadata": {},
     "output_type": "display_data"
    },
    {
     "name": "stdout",
     "output_type": "stream",
     "text": [
      "***** train metrics *****\n",
      "  epoch                    =        3.0\n",
      "  total_flos               =   489241GF\n",
      "  train_loss               =     0.0943\n",
      "  train_runtime            = 0:00:55.00\n",
      "  train_samples_per_second =    765.806\n",
      "  train_steps_per_second   =     47.887\n"
     ]
    }
   ],
   "execution_count": 17
  },
  {
   "metadata": {
    "ExecuteTime": {
     "end_time": "2024-12-12T04:15:02.678128Z",
     "start_time": "2024-12-12T04:15:02.675557Z"
    }
   },
   "cell_type": "code",
   "source": "dataset['test'][0]",
   "id": "ac26bad853fcbdf7",
   "outputs": [
    {
     "data": {
      "text/plain": [
       "{'id': '0',\n",
       " 'tokens': ['SOCCER',\n",
       "  '-',\n",
       "  'JAPAN',\n",
       "  'GET',\n",
       "  'LUCKY',\n",
       "  'WIN',\n",
       "  ',',\n",
       "  'CHINA',\n",
       "  'IN',\n",
       "  'SURPRISE',\n",
       "  'DEFEAT',\n",
       "  '.'],\n",
       " 'pos_tags': [21, 8, 22, 37, 22, 22, 6, 22, 15, 12, 21, 7],\n",
       " 'chunk_tags': [11, 0, 11, 21, 11, 12, 0, 11, 13, 11, 12, 0],\n",
       " 'ner_tags': [0, 0, 5, 0, 0, 0, 0, 1, 0, 0, 0, 0]}"
      ]
     },
     "execution_count": 19,
     "metadata": {},
     "output_type": "execute_result"
    }
   ],
   "execution_count": 19
  },
  {
   "metadata": {
    "ExecuteTime": {
     "end_time": "2024-12-12T04:17:42.687072Z",
     "start_time": "2024-12-12T04:17:42.640568Z"
    }
   },
   "cell_type": "code",
   "source": [
    "from transformers import pipeline\n",
    "\n",
    "\n",
    "folder = '/home/kevin/PycharmProjects/model_train/classification/ner/fine_tuned_model'\n",
    "classify = pipeline(\n",
    "    task=\"ner\",\n",
    "    model=folder,\n",
    "    batch_size=100,\n",
    "    aggregation_strategy=\"max\"\n",
    ")\n",
    "\n",
    "sample = dataset['test'][0]['tokens']\n",
    "result = classify(sample)\n",
    "print(result)"
   ],
   "id": "875b10f79ab9ba6b",
   "outputs": [
    {
     "name": "stderr",
     "output_type": "stream",
     "text": [
      "Hardware accelerator e.g. GPU is available in the environment, but no `device` argument is passed to the `Pipeline` object. Model will be on CPU.\n"
     ]
    },
    {
     "data": {
      "text/plain": [
       "\u001B[1m[\u001B[0m\n",
       "    \u001B[1m[\u001B[0m\u001B[1m{\u001B[0m\u001B[32m'entity_group'\u001B[0m: \u001B[32m'ORG'\u001B[0m, \u001B[32m'score'\u001B[0m: \u001B[1;35mnp.float32\u001B[0m\u001B[1m(\u001B[0m\u001B[1;36m0.80921054\u001B[0m\u001B[1m)\u001B[0m, \u001B[32m'word'\u001B[0m: \u001B[32m'SOCCER'\u001B[0m, \u001B[32m'start'\u001B[0m: \u001B[1;36m0\u001B[0m, \u001B[32m'end'\u001B[0m: \u001B[1;36m6\u001B[0m\u001B[1m}\u001B[0m\u001B[1m]\u001B[0m,\n",
       "    \u001B[1m[\u001B[0m\u001B[1m]\u001B[0m,\n",
       "    \u001B[1m[\u001B[0m\u001B[1m{\u001B[0m\u001B[32m'entity_group'\u001B[0m: \u001B[32m'ORG'\u001B[0m, \u001B[32m'score'\u001B[0m: \u001B[1;35mnp.float32\u001B[0m\u001B[1m(\u001B[0m\u001B[1;36m0.9981286\u001B[0m\u001B[1m)\u001B[0m, \u001B[32m'word'\u001B[0m: \u001B[32m'JAPAN'\u001B[0m, \u001B[32m'start'\u001B[0m: \u001B[1;36m0\u001B[0m, \u001B[32m'end'\u001B[0m: \u001B[1;36m5\u001B[0m\u001B[1m}\u001B[0m\u001B[1m]\u001B[0m,\n",
       "    \u001B[1m[\u001B[0m\u001B[1m]\u001B[0m,\n",
       "    \u001B[1m[\u001B[0m\u001B[1m{\u001B[0m\u001B[32m'entity_group'\u001B[0m: \u001B[32m'ORG'\u001B[0m, \u001B[32m'score'\u001B[0m: \u001B[1;35mnp.float32\u001B[0m\u001B[1m(\u001B[0m\u001B[1;36m0.98550874\u001B[0m\u001B[1m)\u001B[0m, \u001B[32m'word'\u001B[0m: \u001B[32m'LUCKY'\u001B[0m, \u001B[32m'start'\u001B[0m: \u001B[1;36m0\u001B[0m, \u001B[32m'end'\u001B[0m: \u001B[1;36m5\u001B[0m\u001B[1m}\u001B[0m\u001B[1m]\u001B[0m,\n",
       "    \u001B[1m[\u001B[0m\u001B[1m]\u001B[0m,\n",
       "    \u001B[1m[\u001B[0m\u001B[1m]\u001B[0m,\n",
       "    \u001B[1m[\u001B[0m\u001B[1m{\u001B[0m\u001B[32m'entity_group'\u001B[0m: \u001B[32m'ORG'\u001B[0m, \u001B[32m'score'\u001B[0m: \u001B[1;35mnp.float32\u001B[0m\u001B[1m(\u001B[0m\u001B[1;36m0.99603444\u001B[0m\u001B[1m)\u001B[0m, \u001B[32m'word'\u001B[0m: \u001B[32m'CHINA'\u001B[0m, \u001B[32m'start'\u001B[0m: \u001B[1;36m0\u001B[0m, \u001B[32m'end'\u001B[0m: \u001B[1;36m5\u001B[0m\u001B[1m}\u001B[0m\u001B[1m]\u001B[0m,\n",
       "    \u001B[1m[\u001B[0m\u001B[1m{\u001B[0m\u001B[32m'entity_group'\u001B[0m: \u001B[32m'LOC'\u001B[0m, \u001B[32m'score'\u001B[0m: \u001B[1;35mnp.float32\u001B[0m\u001B[1m(\u001B[0m\u001B[1;36m0.7747106\u001B[0m\u001B[1m)\u001B[0m, \u001B[32m'word'\u001B[0m: \u001B[32m'IN'\u001B[0m, \u001B[32m'start'\u001B[0m: \u001B[1;36m0\u001B[0m, \u001B[32m'end'\u001B[0m: \u001B[1;36m2\u001B[0m\u001B[1m}\u001B[0m\u001B[1m]\u001B[0m,\n",
       "    \u001B[1m[\u001B[0m\u001B[1m{\u001B[0m\u001B[32m'entity_group'\u001B[0m: \u001B[32m'ORG'\u001B[0m, \u001B[32m'score'\u001B[0m: \u001B[1;35mnp.float32\u001B[0m\u001B[1m(\u001B[0m\u001B[1;36m0.9956424\u001B[0m\u001B[1m)\u001B[0m, \u001B[32m'word'\u001B[0m: \u001B[32m'SURPRISE'\u001B[0m, \u001B[32m'start'\u001B[0m: \u001B[1;36m0\u001B[0m, \u001B[32m'end'\u001B[0m: \u001B[1;36m8\u001B[0m\u001B[1m}\u001B[0m\u001B[1m]\u001B[0m,\n",
       "    \u001B[1m[\u001B[0m\u001B[1m]\u001B[0m,\n",
       "    \u001B[1m[\u001B[0m\u001B[1m]\u001B[0m\n",
       "\u001B[1m]\u001B[0m\n"
      ],
      "text/html": [
       "<pre style=\"white-space:pre;overflow-x:auto;line-height:normal;font-family:Menlo,'DejaVu Sans Mono',consolas,'Courier New',monospace\"><span style=\"font-weight: bold\">[</span>\n",
       "    <span style=\"font-weight: bold\">[{</span><span style=\"color: #008000; text-decoration-color: #008000\">'entity_group'</span>: <span style=\"color: #008000; text-decoration-color: #008000\">'ORG'</span>, <span style=\"color: #008000; text-decoration-color: #008000\">'score'</span>: <span style=\"color: #800080; text-decoration-color: #800080; font-weight: bold\">np.float32</span><span style=\"font-weight: bold\">(</span><span style=\"color: #008080; text-decoration-color: #008080; font-weight: bold\">0.80921054</span><span style=\"font-weight: bold\">)</span>, <span style=\"color: #008000; text-decoration-color: #008000\">'word'</span>: <span style=\"color: #008000; text-decoration-color: #008000\">'SOCCER'</span>, <span style=\"color: #008000; text-decoration-color: #008000\">'start'</span>: <span style=\"color: #008080; text-decoration-color: #008080; font-weight: bold\">0</span>, <span style=\"color: #008000; text-decoration-color: #008000\">'end'</span>: <span style=\"color: #008080; text-decoration-color: #008080; font-weight: bold\">6</span><span style=\"font-weight: bold\">}]</span>,\n",
       "    <span style=\"font-weight: bold\">[]</span>,\n",
       "    <span style=\"font-weight: bold\">[{</span><span style=\"color: #008000; text-decoration-color: #008000\">'entity_group'</span>: <span style=\"color: #008000; text-decoration-color: #008000\">'ORG'</span>, <span style=\"color: #008000; text-decoration-color: #008000\">'score'</span>: <span style=\"color: #800080; text-decoration-color: #800080; font-weight: bold\">np.float32</span><span style=\"font-weight: bold\">(</span><span style=\"color: #008080; text-decoration-color: #008080; font-weight: bold\">0.9981286</span><span style=\"font-weight: bold\">)</span>, <span style=\"color: #008000; text-decoration-color: #008000\">'word'</span>: <span style=\"color: #008000; text-decoration-color: #008000\">'JAPAN'</span>, <span style=\"color: #008000; text-decoration-color: #008000\">'start'</span>: <span style=\"color: #008080; text-decoration-color: #008080; font-weight: bold\">0</span>, <span style=\"color: #008000; text-decoration-color: #008000\">'end'</span>: <span style=\"color: #008080; text-decoration-color: #008080; font-weight: bold\">5</span><span style=\"font-weight: bold\">}]</span>,\n",
       "    <span style=\"font-weight: bold\">[]</span>,\n",
       "    <span style=\"font-weight: bold\">[{</span><span style=\"color: #008000; text-decoration-color: #008000\">'entity_group'</span>: <span style=\"color: #008000; text-decoration-color: #008000\">'ORG'</span>, <span style=\"color: #008000; text-decoration-color: #008000\">'score'</span>: <span style=\"color: #800080; text-decoration-color: #800080; font-weight: bold\">np.float32</span><span style=\"font-weight: bold\">(</span><span style=\"color: #008080; text-decoration-color: #008080; font-weight: bold\">0.98550874</span><span style=\"font-weight: bold\">)</span>, <span style=\"color: #008000; text-decoration-color: #008000\">'word'</span>: <span style=\"color: #008000; text-decoration-color: #008000\">'LUCKY'</span>, <span style=\"color: #008000; text-decoration-color: #008000\">'start'</span>: <span style=\"color: #008080; text-decoration-color: #008080; font-weight: bold\">0</span>, <span style=\"color: #008000; text-decoration-color: #008000\">'end'</span>: <span style=\"color: #008080; text-decoration-color: #008080; font-weight: bold\">5</span><span style=\"font-weight: bold\">}]</span>,\n",
       "    <span style=\"font-weight: bold\">[]</span>,\n",
       "    <span style=\"font-weight: bold\">[]</span>,\n",
       "    <span style=\"font-weight: bold\">[{</span><span style=\"color: #008000; text-decoration-color: #008000\">'entity_group'</span>: <span style=\"color: #008000; text-decoration-color: #008000\">'ORG'</span>, <span style=\"color: #008000; text-decoration-color: #008000\">'score'</span>: <span style=\"color: #800080; text-decoration-color: #800080; font-weight: bold\">np.float32</span><span style=\"font-weight: bold\">(</span><span style=\"color: #008080; text-decoration-color: #008080; font-weight: bold\">0.99603444</span><span style=\"font-weight: bold\">)</span>, <span style=\"color: #008000; text-decoration-color: #008000\">'word'</span>: <span style=\"color: #008000; text-decoration-color: #008000\">'CHINA'</span>, <span style=\"color: #008000; text-decoration-color: #008000\">'start'</span>: <span style=\"color: #008080; text-decoration-color: #008080; font-weight: bold\">0</span>, <span style=\"color: #008000; text-decoration-color: #008000\">'end'</span>: <span style=\"color: #008080; text-decoration-color: #008080; font-weight: bold\">5</span><span style=\"font-weight: bold\">}]</span>,\n",
       "    <span style=\"font-weight: bold\">[{</span><span style=\"color: #008000; text-decoration-color: #008000\">'entity_group'</span>: <span style=\"color: #008000; text-decoration-color: #008000\">'LOC'</span>, <span style=\"color: #008000; text-decoration-color: #008000\">'score'</span>: <span style=\"color: #800080; text-decoration-color: #800080; font-weight: bold\">np.float32</span><span style=\"font-weight: bold\">(</span><span style=\"color: #008080; text-decoration-color: #008080; font-weight: bold\">0.7747106</span><span style=\"font-weight: bold\">)</span>, <span style=\"color: #008000; text-decoration-color: #008000\">'word'</span>: <span style=\"color: #008000; text-decoration-color: #008000\">'IN'</span>, <span style=\"color: #008000; text-decoration-color: #008000\">'start'</span>: <span style=\"color: #008080; text-decoration-color: #008080; font-weight: bold\">0</span>, <span style=\"color: #008000; text-decoration-color: #008000\">'end'</span>: <span style=\"color: #008080; text-decoration-color: #008080; font-weight: bold\">2</span><span style=\"font-weight: bold\">}]</span>,\n",
       "    <span style=\"font-weight: bold\">[{</span><span style=\"color: #008000; text-decoration-color: #008000\">'entity_group'</span>: <span style=\"color: #008000; text-decoration-color: #008000\">'ORG'</span>, <span style=\"color: #008000; text-decoration-color: #008000\">'score'</span>: <span style=\"color: #800080; text-decoration-color: #800080; font-weight: bold\">np.float32</span><span style=\"font-weight: bold\">(</span><span style=\"color: #008080; text-decoration-color: #008080; font-weight: bold\">0.9956424</span><span style=\"font-weight: bold\">)</span>, <span style=\"color: #008000; text-decoration-color: #008000\">'word'</span>: <span style=\"color: #008000; text-decoration-color: #008000\">'SURPRISE'</span>, <span style=\"color: #008000; text-decoration-color: #008000\">'start'</span>: <span style=\"color: #008080; text-decoration-color: #008080; font-weight: bold\">0</span>, <span style=\"color: #008000; text-decoration-color: #008000\">'end'</span>: <span style=\"color: #008080; text-decoration-color: #008080; font-weight: bold\">8</span><span style=\"font-weight: bold\">}]</span>,\n",
       "    <span style=\"font-weight: bold\">[]</span>,\n",
       "    <span style=\"font-weight: bold\">[]</span>\n",
       "<span style=\"font-weight: bold\">]</span>\n",
       "</pre>\n"
      ]
     },
     "metadata": {},
     "output_type": "display_data"
    }
   ],
   "execution_count": 25
  },
  {
   "metadata": {
    "ExecuteTime": {
     "end_time": "2024-12-12T04:17:18.962541Z",
     "start_time": "2024-12-12T04:17:18.960087Z"
    }
   },
   "cell_type": "code",
   "source": "tokenized_dataset['test'][0]",
   "id": "6ed513e6401f249",
   "outputs": [
    {
     "data": {
      "text/plain": [
       "{'input_ids': [101,\n",
       "  156,\n",
       "  9244,\n",
       "  10954,\n",
       "  2069,\n",
       "  118,\n",
       "  147,\n",
       "  12240,\n",
       "  14962,\n",
       "  25075,\n",
       "  1942,\n",
       "  149,\n",
       "  21986,\n",
       "  2428,\n",
       "  3663,\n",
       "  160,\n",
       "  11607,\n",
       "  117,\n",
       "  24890,\n",
       "  11607,\n",
       "  1592,\n",
       "  15969,\n",
       "  156,\n",
       "  19556,\n",
       "  22861,\n",
       "  6258,\n",
       "  2036,\n",
       "  18581,\n",
       "  2271,\n",
       "  12420,\n",
       "  1942,\n",
       "  119,\n",
       "  102],\n",
       " 'attention_mask': [1,\n",
       "  1,\n",
       "  1,\n",
       "  1,\n",
       "  1,\n",
       "  1,\n",
       "  1,\n",
       "  1,\n",
       "  1,\n",
       "  1,\n",
       "  1,\n",
       "  1,\n",
       "  1,\n",
       "  1,\n",
       "  1,\n",
       "  1,\n",
       "  1,\n",
       "  1,\n",
       "  1,\n",
       "  1,\n",
       "  1,\n",
       "  1,\n",
       "  1,\n",
       "  1,\n",
       "  1,\n",
       "  1,\n",
       "  1,\n",
       "  1,\n",
       "  1,\n",
       "  1,\n",
       "  1,\n",
       "  1,\n",
       "  1],\n",
       " 'labels': [-100,\n",
       "  0,\n",
       "  0,\n",
       "  0,\n",
       "  0,\n",
       "  0,\n",
       "  5,\n",
       "  6,\n",
       "  6,\n",
       "  0,\n",
       "  0,\n",
       "  0,\n",
       "  0,\n",
       "  0,\n",
       "  0,\n",
       "  0,\n",
       "  0,\n",
       "  0,\n",
       "  1,\n",
       "  2,\n",
       "  2,\n",
       "  0,\n",
       "  0,\n",
       "  0,\n",
       "  0,\n",
       "  0,\n",
       "  0,\n",
       "  0,\n",
       "  0,\n",
       "  0,\n",
       "  0,\n",
       "  0,\n",
       "  -100]}"
      ]
     },
     "execution_count": 23,
     "metadata": {},
     "output_type": "execute_result"
    }
   ],
   "execution_count": 23
  },
  {
   "metadata": {},
   "cell_type": "code",
   "outputs": [],
   "execution_count": null,
   "source": "",
   "id": "88f27f2ae3775f99"
  }
 ],
 "metadata": {
  "kernelspec": {
   "display_name": "Python 3",
   "language": "python",
   "name": "python3"
  },
  "language_info": {
   "codemirror_mode": {
    "name": "ipython",
    "version": 2
   },
   "file_extension": ".py",
   "mimetype": "text/x-python",
   "name": "python",
   "nbconvert_exporter": "python",
   "pygments_lexer": "ipython2",
   "version": "2.7.6"
  }
 },
 "nbformat": 4,
 "nbformat_minor": 5
}
