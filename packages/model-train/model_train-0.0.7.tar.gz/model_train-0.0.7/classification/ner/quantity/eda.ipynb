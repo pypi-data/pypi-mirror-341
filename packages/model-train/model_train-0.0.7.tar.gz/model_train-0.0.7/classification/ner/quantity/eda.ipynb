{
 "cells": [
  {
   "cell_type": "code",
   "id": "initial_id",
   "metadata": {
    "collapsed": true,
    "ExecuteTime": {
     "end_time": "2024-12-13T07:15:02.284837Z",
     "start_time": "2024-12-13T07:15:01.227250Z"
    }
   },
   "source": [
    "from core_pro.ultilities import make_sync_folder\n",
    "import polars as pl\n",
    "\n",
    "path = make_sync_folder('nlp/ner')"
   ],
   "outputs": [],
   "execution_count": 1
  },
  {
   "metadata": {
    "ExecuteTime": {
     "end_time": "2024-12-13T07:15:47.767888Z",
     "start_time": "2024-12-13T07:15:47.750881Z"
    }
   },
   "cell_type": "code",
   "source": [
    "df = (\n",
    "    pl.read_parquet(path / 'ner_quantity.parquet')\n",
    "    .with_columns(pl.col('model_name').list.len().alias('num_model'))\n",
    ")\n",
    "\n",
    "df.head()"
   ],
   "id": "17622e9f92a6230",
   "outputs": [
    {
     "data": {
      "text/plain": [
       "shape: (5, 5)\n",
       "┌─────────────┬──────────────────────────────┬───────────┬─────────────────────────────┬───────────┐\n",
       "│ item_id     ┆ item_name                    ┆ shop_id   ┆ model_name                  ┆ num_model │\n",
       "│ ---         ┆ ---                          ┆ ---       ┆ ---                         ┆ ---       │\n",
       "│ i64         ┆ str                          ┆ i64       ┆ list[str]                   ┆ u32       │\n",
       "╞═════════════╪══════════════════════════════╪═══════════╪═════════════════════════════╪═══════════╡\n",
       "│ 27702321124 ┆ Áo polo nữ Choice HT34 Cổ    ┆ 851157471 ┆ [\"Xanh than,S\", \"Đen,L\", …  ┆ 12        │\n",
       "│             ┆ Trơn…                        ┆           ┆ \"Xa…                        ┆           │\n",
       "│ 26417678868 ┆ Kính Nam Nữ Choice D38 Thời  ┆ 851157471 ┆ [\"Kính Trẻ Em Màu Kem\",     ┆ 15        │\n",
       "│             ┆ tr…                          ┆           ┆ \"Màu K…                     ┆           │\n",
       "│ 25270432639 ┆ Son Bóng Choice YNA131 Cao   ┆ 851157471 ┆ [\"Màu 3\", \"Màu 1\", … \"Màu   ┆ 6         │\n",
       "│             ┆ Cấp…                         ┆           ┆ 5\"]                         ┆           │\n",
       "│ 27618939561 ┆ Kem đánh răng nuốt được      ┆ 851157471 ┆ [\"Nho\", \"Dưa Gang\", …       ┆ 4         │\n",
       "│             ┆ Choice…                      ┆           ┆ \"Dâu\"]                      ┆           │\n",
       "│ 25622501754 ┆ Giỏ đựng đồ đa năng Choice   ┆ 851157471 ┆ [\"Trắng\", \"Hồng\", \"Xanh\"]   ┆ 3         │\n",
       "│             ┆ NH1…                         ┆           ┆                             ┆           │\n",
       "└─────────────┴──────────────────────────────┴───────────┴─────────────────────────────┴───────────┘"
      ],
      "text/html": [
       "<div><style>\n",
       ".dataframe > thead > tr,\n",
       ".dataframe > tbody > tr {\n",
       "  text-align: right;\n",
       "  white-space: pre-wrap;\n",
       "}\n",
       "</style>\n",
       "<small>shape: (5, 5)</small><table border=\"1\" class=\"dataframe\"><thead><tr><th>item_id</th><th>item_name</th><th>shop_id</th><th>model_name</th><th>num_model</th></tr><tr><td>i64</td><td>str</td><td>i64</td><td>list[str]</td><td>u32</td></tr></thead><tbody><tr><td>27702321124</td><td>&quot;Áo polo nữ Choice HT34 Cổ Trơn…</td><td>851157471</td><td>[&quot;Xanh than,S&quot;, &quot;Đen,L&quot;, … &quot;Xanh than,M&quot;]</td><td>12</td></tr><tr><td>26417678868</td><td>&quot;Kính Nam Nữ Choice D38 Thời tr…</td><td>851157471</td><td>[&quot;Kính Trẻ Em Màu Kem&quot;, &quot;Màu Kem v1&quot;, … &quot;Màu Kem STAR&quot;]</td><td>15</td></tr><tr><td>25270432639</td><td>&quot;Son Bóng Choice YNA131 Cao Cấp…</td><td>851157471</td><td>[&quot;Màu 3&quot;, &quot;Màu 1&quot;, … &quot;Màu 5&quot;]</td><td>6</td></tr><tr><td>27618939561</td><td>&quot;Kem đánh răng nuốt được Choice…</td><td>851157471</td><td>[&quot;Nho&quot;, &quot;Dưa Gang&quot;, … &quot;Dâu&quot;]</td><td>4</td></tr><tr><td>25622501754</td><td>&quot;Giỏ đựng đồ đa năng Choice NH1…</td><td>851157471</td><td>[&quot;Trắng&quot;, &quot;Hồng&quot;, &quot;Xanh&quot;]</td><td>3</td></tr></tbody></table></div>"
      ]
     },
     "execution_count": 3,
     "metadata": {},
     "output_type": "execute_result"
    }
   ],
   "execution_count": 3
  },
  {
   "metadata": {
    "ExecuteTime": {
     "end_time": "2024-12-13T07:17:09.174584Z",
     "start_time": "2024-12-13T07:17:09.161218Z"
    }
   },
   "cell_type": "code",
   "source": "df",
   "id": "1a137cffe2daf37a",
   "outputs": [
    {
     "data": {
      "text/plain": [
       "shape: (18_847, 5)\n",
       "┌─────────────┬──────────────────────────────┬───────────┬─────────────────────────────┬───────────┐\n",
       "│ item_id     ┆ item_name                    ┆ shop_id   ┆ model_name                  ┆ num_model │\n",
       "│ ---         ┆ ---                          ┆ ---       ┆ ---                         ┆ ---       │\n",
       "│ i64         ┆ str                          ┆ i64       ┆ list[str]                   ┆ u32       │\n",
       "╞═════════════╪══════════════════════════════╪═══════════╪═════════════════════════════╪═══════════╡\n",
       "│ 27702321124 ┆ Áo polo nữ Choice HT34 Cổ    ┆ 851157471 ┆ [\"Xanh than,S\", \"Đen,L\", …  ┆ 12        │\n",
       "│             ┆ Trơn…                        ┆           ┆ \"Xa…                        ┆           │\n",
       "│ 26417678868 ┆ Kính Nam Nữ Choice D38 Thời  ┆ 851157471 ┆ [\"Kính Trẻ Em Màu Kem\",     ┆ 15        │\n",
       "│             ┆ tr…                          ┆           ┆ \"Màu K…                     ┆           │\n",
       "│ 25270432639 ┆ Son Bóng Choice YNA131 Cao   ┆ 851157471 ┆ [\"Màu 3\", \"Màu 1\", … \"Màu   ┆ 6         │\n",
       "│             ┆ Cấp…                         ┆           ┆ 5\"]                         ┆           │\n",
       "│ 27618939561 ┆ Kem đánh răng nuốt được      ┆ 851157471 ┆ [\"Nho\", \"Dưa Gang\", …       ┆ 4         │\n",
       "│             ┆ Choice…                      ┆           ┆ \"Dâu\"]                      ┆           │\n",
       "│ 25622501754 ┆ Giỏ đựng đồ đa năng Choice   ┆ 851157471 ┆ [\"Trắng\", \"Hồng\", \"Xanh\"]   ┆ 3         │\n",
       "│             ┆ NH1…                         ┆           ┆                             ┆           │\n",
       "│ …           ┆ …                            ┆ …         ┆ …                           ┆ …         │\n",
       "│ 27620220590 ┆ Nhựa thông Choice            ┆ 851157471 ┆ [\"Nhựa thông\"]              ┆ 1         │\n",
       "│             ┆ LS1-1121-954…                ┆           ┆                             ┆           │\n",
       "│ 29255273300 ┆ [Choice] Dây chuyền bông tai ┆ 851157471 ┆ [\"Dây chuyền SP007341\",     ┆ 2         │\n",
       "│             ┆ n…                           ┆           ┆ \"Bông …                     ┆           │\n",
       "│ 25021593125 ┆ Kệ nhựa dán góc tường nhà    ┆ 851157471 ┆ [\"Default\"]                 ┆ 1         │\n",
       "│             ┆ tắm …                        ┆           ┆                             ┆           │\n",
       "│ 26368191965 ┆ [Choice] Khẩu Trang KF94 UNI ┆ 851157471 ┆ [\"50 chiếc\"]                ┆ 1         │\n",
       "│             ┆ M…                           ┆           ┆                             ┆           │\n",
       "│ 27317528670 ┆ Móc treo quần áo Choice      ┆ 851157471 ┆ [\"32Kẹp Màu Ngẫu Nhiên\"]    ┆ 1         │\n",
       "│             ┆ LS1-08…                      ┆           ┆                             ┆           │\n",
       "└─────────────┴──────────────────────────────┴───────────┴─────────────────────────────┴───────────┘"
      ],
      "text/html": [
       "<div><style>\n",
       ".dataframe > thead > tr,\n",
       ".dataframe > tbody > tr {\n",
       "  text-align: right;\n",
       "  white-space: pre-wrap;\n",
       "}\n",
       "</style>\n",
       "<small>shape: (18_847, 5)</small><table border=\"1\" class=\"dataframe\"><thead><tr><th>item_id</th><th>item_name</th><th>shop_id</th><th>model_name</th><th>num_model</th></tr><tr><td>i64</td><td>str</td><td>i64</td><td>list[str]</td><td>u32</td></tr></thead><tbody><tr><td>27702321124</td><td>&quot;Áo polo nữ Choice HT34 Cổ Trơn…</td><td>851157471</td><td>[&quot;Xanh than,S&quot;, &quot;Đen,L&quot;, … &quot;Xanh than,M&quot;]</td><td>12</td></tr><tr><td>26417678868</td><td>&quot;Kính Nam Nữ Choice D38 Thời tr…</td><td>851157471</td><td>[&quot;Kính Trẻ Em Màu Kem&quot;, &quot;Màu Kem v1&quot;, … &quot;Màu Kem STAR&quot;]</td><td>15</td></tr><tr><td>25270432639</td><td>&quot;Son Bóng Choice YNA131 Cao Cấp…</td><td>851157471</td><td>[&quot;Màu 3&quot;, &quot;Màu 1&quot;, … &quot;Màu 5&quot;]</td><td>6</td></tr><tr><td>27618939561</td><td>&quot;Kem đánh răng nuốt được Choice…</td><td>851157471</td><td>[&quot;Nho&quot;, &quot;Dưa Gang&quot;, … &quot;Dâu&quot;]</td><td>4</td></tr><tr><td>25622501754</td><td>&quot;Giỏ đựng đồ đa năng Choice NH1…</td><td>851157471</td><td>[&quot;Trắng&quot;, &quot;Hồng&quot;, &quot;Xanh&quot;]</td><td>3</td></tr><tr><td>&hellip;</td><td>&hellip;</td><td>&hellip;</td><td>&hellip;</td><td>&hellip;</td></tr><tr><td>27620220590</td><td>&quot;Nhựa thông Choice LS1-1121-954…</td><td>851157471</td><td>[&quot;Nhựa thông&quot;]</td><td>1</td></tr><tr><td>29255273300</td><td>&quot;[Choice] Dây chuyền bông tai n…</td><td>851157471</td><td>[&quot;Dây chuyền SP007341&quot;, &quot;Bông tai SP007340&quot;]</td><td>2</td></tr><tr><td>25021593125</td><td>&quot;Kệ nhựa dán góc tường nhà tắm …</td><td>851157471</td><td>[&quot;Default&quot;]</td><td>1</td></tr><tr><td>26368191965</td><td>&quot;[Choice] Khẩu Trang KF94 UNI M…</td><td>851157471</td><td>[&quot;50 chiếc&quot;]</td><td>1</td></tr><tr><td>27317528670</td><td>&quot;Móc treo quần áo Choice LS1-08…</td><td>851157471</td><td>[&quot;32Kẹp Màu Ngẫu Nhiên&quot;]</td><td>1</td></tr></tbody></table></div>"
      ]
     },
     "execution_count": 6,
     "metadata": {},
     "output_type": "execute_result"
    }
   ],
   "execution_count": 6
  },
  {
   "metadata": {
    "ExecuteTime": {
     "end_time": "2024-12-13T07:40:54.332923Z",
     "start_time": "2024-12-13T07:40:53.887838Z"
    }
   },
   "cell_type": "code",
   "source": [
    "path = '/Users/kevinkhang/Downloads/SCS EDA CSPU Price.xlsx'\n",
    "df_excel = (\n",
    "    pl.read_excel(path, sheet_name='raw_1', engine='openpyxl')\n",
    "    .select(['item_id', 'model_id', 'item_name', 'model_name'])\n",
    ")\n",
    "\n",
    "df_excel.head()"
   ],
   "id": "7a0d5f81e67c9844",
   "outputs": [
    {
     "data": {
      "text/plain": [
       "shape: (5, 4)\n",
       "┌───────────┬───────────┬─────────────────────────────────┬────────────────────────┐\n",
       "│ item_id   ┆ model_id  ┆ item_name                       ┆ model_name             │\n",
       "│ ---       ┆ ---       ┆ ---                             ┆ ---                    │\n",
       "│ f64       ┆ f64       ┆ str                             ┆ str                    │\n",
       "╞═══════════╪═══════════╪═════════════════════════════════╪════════════════════════╡\n",
       "│ 2.6154e10 ┆ 9.8948e10 ┆ khẩu trang 5 lớp                ┆ khẩu trang 5 lớp       │\n",
       "│ 2.2236e10 ┆ 1.3752e11 ┆ (Gói 10 cái) Khẩu trang Thịnh … ┆ Trắng,1 Gói (10 chiếc) │\n",
       "│ 2.2151e10 ┆ 1.7780e11 ┆ KHẨU TRANG 5D THỊNH PHÁT KHÁNG… ┆ Trắng                  │\n",
       "│ 2.2866e10 ┆ 2.2154e11 ┆ [1 Gói] Khẩu trang 5D Thịnh Ph… ┆ Trắng,1 GÓI (10 cái)   │\n",
       "│ 2.4824e10 ┆ 2.3269e11 ┆ KHẨU TRANG 5D THỊNH PHÁT 10 CÁ… ┆ Trắng                  │\n",
       "└───────────┴───────────┴─────────────────────────────────┴────────────────────────┘"
      ],
      "text/html": [
       "<div><style>\n",
       ".dataframe > thead > tr,\n",
       ".dataframe > tbody > tr {\n",
       "  text-align: right;\n",
       "  white-space: pre-wrap;\n",
       "}\n",
       "</style>\n",
       "<small>shape: (5, 4)</small><table border=\"1\" class=\"dataframe\"><thead><tr><th>item_id</th><th>model_id</th><th>item_name</th><th>model_name</th></tr><tr><td>f64</td><td>f64</td><td>str</td><td>str</td></tr></thead><tbody><tr><td>2.6154e10</td><td>9.8948e10</td><td>&quot;khẩu trang 5 lớp&quot;</td><td>&quot;khẩu trang 5 lớp&quot;</td></tr><tr><td>2.2236e10</td><td>1.3752e11</td><td>&quot;(Gói 10 cái) Khẩu trang Thịnh …</td><td>&quot;Trắng,1 Gói (10 chiếc)&quot;</td></tr><tr><td>2.2151e10</td><td>1.7780e11</td><td>&quot;KHẨU TRANG 5D THỊNH PHÁT KHÁNG…</td><td>&quot;Trắng&quot;</td></tr><tr><td>2.2866e10</td><td>2.2154e11</td><td>&quot;[1 Gói] Khẩu trang 5D Thịnh Ph…</td><td>&quot;Trắng,1 GÓI (10 cái)&quot;</td></tr><tr><td>2.4824e10</td><td>2.3269e11</td><td>&quot;KHẨU TRANG 5D THỊNH PHÁT 10 CÁ…</td><td>&quot;Trắng&quot;</td></tr></tbody></table></div>"
      ]
     },
     "execution_count": 29,
     "metadata": {},
     "output_type": "execute_result"
    }
   ],
   "execution_count": 29
  },
  {
   "metadata": {
    "ExecuteTime": {
     "end_time": "2024-12-13T08:01:58.847085Z",
     "start_time": "2024-12-13T08:01:58.836550Z"
    }
   },
   "cell_type": "code",
   "source": [
    "import re\n",
    "import json\n",
    "import unicodedata\n",
    "\n",
    "def extract_quantity(item_name):\n",
    "    \"\"\"\n",
    "    Extract quantity from Vietnamese item names.\n",
    "\n",
    "    Args:\n",
    "        item_name (str): The input item name string\n",
    "\n",
    "    Returns:\n",
    "        list: A list of detected quantity strings\n",
    "    \"\"\"\n",
    "    # Regex patterns to match different quantity formats\n",
    "    number_first = 'cái|chiếc|miếng|tờ|quyển|hộp|set|bộ|gói|túi|kẹp|thùng|chai|lọ|túi|kg|g|gram|ml|lít|viên|cây|bao|lon|gam|gram|miếng|dây|lớp'\n",
    "    patterns = [\n",
    "        # Matches patterns like \"70 kẹp\", \"250 giấy\", etc.\n",
    "        fr'\\b(\\d+\\s*(?:{number_first}))\\b',\n",
    "\n",
    "        # Matches patterns with optional space between number and unit\n",
    "        fr'\\b(\\d+\\s*[-\\s]\\s*(?:{number_first}))\\b',\n",
    "    ]\n",
    "\n",
    "    # Collect all matches\n",
    "    quantities = []\n",
    "    for pattern in patterns:\n",
    "        matches = re.findall(pattern, item_name, re.UNICODE | re.IGNORECASE)\n",
    "        quantities.extend(matches)\n",
    "\n",
    "    # Remove duplicates while preserving order\n",
    "    unique_quantities = list(dict.fromkeys(quantities))\n",
    "\n",
    "    return unique_quantities\n",
    "\n",
    "# Test the function\n",
    "test_cases = [\n",
    "    \"Set 70 kẹp giấy tài liệu Choice LS1-0776-250 bằng kim loại nhiều màu sắc\",\n",
    "    \"Bộ 5 cái áo thun nam\",\n",
    "    \"Hộp 12 viên thuốc\",\n",
    "    \"Túi 500g gạo\",\n",
    "    \"Không có số lượng\",\n",
    "    \"set 100 dây chun buộc tóc trơn\",\n",
    "    \"1 thùng nước khoáng quang hanh có g\",\n",
    "    \"Hộp 20 Bút bi Thiên Long TL-093 ngòi 0.6mm mực xanh đen (có giá sỉ)\",\n",
    "    \"khẩu trang 5 lớp\",\n",
    "    \"23k 100 chiếc khẩu trang 5d kháng khuẩn chính hãng chống nắng , chống tia uv\",\n",
    "    \"3 hộp 100 cái 5 lớp\",\n",
    "    \"combo 8 gói băng vệ sinh laurier safety night\"\n",
    "]\n",
    "\n",
    "for item in test_cases:\n",
    "    print(f\"Input: {item}\")\n",
    "    print(f\"Output: {extract_quantity(item)}\\n\")"
   ],
   "id": "d58ed4cc928e9bd7",
   "outputs": [
    {
     "name": "stdout",
     "output_type": "stream",
     "text": [
      "Input: Set 70 kẹp giấy tài liệu Choice LS1-0776-250 bằng kim loại nhiều màu sắc\n",
      "Output: ['70 kẹp']\n",
      "\n",
      "Input: Bộ 5 cái áo thun nam\n",
      "Output: ['5 cái']\n",
      "\n",
      "Input: Hộp 12 viên thuốc\n",
      "Output: ['12 viên']\n",
      "\n",
      "Input: Túi 500g gạo\n",
      "Output: ['500g']\n",
      "\n",
      "Input: Không có số lượng\n",
      "Output: []\n",
      "\n",
      "Input: set 100 dây chun buộc tóc trơn\n",
      "Output: ['100 dây']\n",
      "\n",
      "Input: 1 thùng nước khoáng quang hanh có g\n",
      "Output: ['1 thùng']\n",
      "\n",
      "Input: Hộp 20 Bút bi Thiên Long TL-093 ngòi 0.6mm mực xanh đen (có giá sỉ)\n",
      "Output: []\n",
      "\n",
      "Input: khẩu trang 5 lớp\n",
      "Output: ['5 lớp']\n",
      "\n",
      "Input: 23k 100 chiếc khẩu trang 5d kháng khuẩn chính hãng chống nắng , chống tia uv\n",
      "Output: ['100 chiếc']\n",
      "\n",
      "Input: 3 hộp 100 cái 5 lớp\n",
      "Output: ['3 hộp', '100 cái', '5 lớp']\n",
      "\n",
      "Input: combo 8 gói băng vệ sinh laurier safety night\n",
      "Output: ['8 gói']\n",
      "\n"
     ]
    }
   ],
   "execution_count": 46
  },
  {
   "metadata": {
    "ExecuteTime": {
     "end_time": "2024-12-13T07:48:11.521593Z",
     "start_time": "2024-12-13T07:48:11.505458Z"
    }
   },
   "cell_type": "code",
   "source": [
    "lst = [extract_quantity(item) for item in df_excel['item_name']]\n",
    "df_excel = (\n",
    "    df_excel\n",
    "    .with_columns(pl.Series('quantity', lst))\n",
    "    .with_columns(pl.col('quantity').list.join(', '))\n",
    ")\n",
    "df_excel"
   ],
   "id": "7deb897faf89e534",
   "outputs": [
    {
     "data": {
      "text/plain": [
       "shape: (725, 5)\n",
       "┌───────────┬───────────┬───────────────────────────┬──────────────────────────┬───────────────────┐\n",
       "│ item_id   ┆ model_id  ┆ item_name                 ┆ model_name               ┆ quantity          │\n",
       "│ ---       ┆ ---       ┆ ---                       ┆ ---                      ┆ ---               │\n",
       "│ f64       ┆ f64       ┆ str                       ┆ str                      ┆ str               │\n",
       "╞═══════════╪═══════════╪═══════════════════════════╪══════════════════════════╪═══════════════════╡\n",
       "│ 2.6154e10 ┆ 9.8948e10 ┆ khẩu trang 5 lớp          ┆ khẩu trang 5 lớp         ┆ 5 lớp             │\n",
       "│ 2.2236e10 ┆ 1.3752e11 ┆ (Gói 10 cái) Khẩu trang   ┆ Trắng,1 Gói (10 chiếc)   ┆ 10 cái, 3 lớp     │\n",
       "│           ┆           ┆ Thịnh …                   ┆                          ┆                   │\n",
       "│ 2.2151e10 ┆ 1.7780e11 ┆ KHẨU TRANG 5D THỊNH PHÁT  ┆ Trắng                    ┆ 10 cái            │\n",
       "│           ┆           ┆ KHÁNG…                    ┆                          ┆                   │\n",
       "│ 2.2866e10 ┆ 2.2154e11 ┆ [1 Gói] Khẩu trang 5D     ┆ Trắng,1 GÓI (10 cái)     ┆ 1 Gói, 3 lớp      │\n",
       "│           ┆           ┆ Thịnh Ph…                 ┆                          ┆                   │\n",
       "│ 2.4824e10 ┆ 2.3269e11 ┆ KHẨU TRANG 5D THỊNH PHÁT  ┆ Trắng                    ┆ 10 CÁI, 3 LỚP     │\n",
       "│           ┆           ┆ 10 CÁ…                    ┆                          ┆                   │\n",
       "│ …         ┆ …         ┆ …                         ┆ …                        ┆ …                 │\n",
       "│ 1.9773e10 ┆ 1.3738e11 ┆ Thùng 100 Chiếc Khẩu      ┆ 10 Túi [100 Cái]         ┆ 100 Chiếc, 10 Gói │\n",
       "│           ┆           ┆ Trang 5D …                ┆                          ┆                   │\n",
       "│ 2.7762e10 ┆ 2.5167e11 ┆ 9tig Hộp 100 Chiếc Khẩu   ┆ 5D THỊNH PHÁT            ┆ 100 Chiếc, 3 Lớp  │\n",
       "│           ┆           ┆ Trang …                   ┆ TRẮNG,THÙNG 100C…        ┆                   │\n",
       "│ 2.7612e10 ┆ 1.2908e11 ┆ 9tig Hộp 100 Chiếc Khẩu   ┆ 5D THỊNH PHÁT            ┆ 100 Chiếc, 3 Lớp  │\n",
       "│           ┆           ┆ Trang …                   ┆ TRẮNG,THÙNG 100C…        ┆                   │\n",
       "│ 2.7262e10 ┆ 1.6844e11 ┆ 9tig Hộp 100 Chiếc Khẩu   ┆ 5D THỊNH PHÁT            ┆ 100 Chiếc, 3 Lớp  │\n",
       "│           ┆           ┆ Trang …                   ┆ TRẮNG,THÙNG 100C…        ┆                   │\n",
       "│ 2.3881e10 ┆ 2.2206e11 ┆ [Thùng 500 Cái] Khẩu      ┆ THỊNH PHÁT TRẮNG         ┆ 500 Cái, 3 Lớp    │\n",
       "│           ┆           ┆ Trang 5D …                ┆                          ┆                   │\n",
       "└───────────┴───────────┴───────────────────────────┴──────────────────────────┴───────────────────┘"
      ],
      "text/html": [
       "<div><style>\n",
       ".dataframe > thead > tr,\n",
       ".dataframe > tbody > tr {\n",
       "  text-align: right;\n",
       "  white-space: pre-wrap;\n",
       "}\n",
       "</style>\n",
       "<small>shape: (725, 5)</small><table border=\"1\" class=\"dataframe\"><thead><tr><th>item_id</th><th>model_id</th><th>item_name</th><th>model_name</th><th>quantity</th></tr><tr><td>f64</td><td>f64</td><td>str</td><td>str</td><td>str</td></tr></thead><tbody><tr><td>2.6154e10</td><td>9.8948e10</td><td>&quot;khẩu trang 5 lớp&quot;</td><td>&quot;khẩu trang 5 lớp&quot;</td><td>&quot;5 lớp&quot;</td></tr><tr><td>2.2236e10</td><td>1.3752e11</td><td>&quot;(Gói 10 cái) Khẩu trang Thịnh …</td><td>&quot;Trắng,1 Gói (10 chiếc)&quot;</td><td>&quot;10 cái, 3 lớp&quot;</td></tr><tr><td>2.2151e10</td><td>1.7780e11</td><td>&quot;KHẨU TRANG 5D THỊNH PHÁT KHÁNG…</td><td>&quot;Trắng&quot;</td><td>&quot;10 cái&quot;</td></tr><tr><td>2.2866e10</td><td>2.2154e11</td><td>&quot;[1 Gói] Khẩu trang 5D Thịnh Ph…</td><td>&quot;Trắng,1 GÓI (10 cái)&quot;</td><td>&quot;1 Gói, 3 lớp&quot;</td></tr><tr><td>2.4824e10</td><td>2.3269e11</td><td>&quot;KHẨU TRANG 5D THỊNH PHÁT 10 CÁ…</td><td>&quot;Trắng&quot;</td><td>&quot;10 CÁI, 3 LỚP&quot;</td></tr><tr><td>&hellip;</td><td>&hellip;</td><td>&hellip;</td><td>&hellip;</td><td>&hellip;</td></tr><tr><td>1.9773e10</td><td>1.3738e11</td><td>&quot;Thùng 100 Chiếc Khẩu Trang 5D …</td><td>&quot;10 Túi [100 Cái]&quot;</td><td>&quot;100 Chiếc, 10 Gói&quot;</td></tr><tr><td>2.7762e10</td><td>2.5167e11</td><td>&quot;9tig Hộp 100 Chiếc Khẩu Trang …</td><td>&quot;5D THỊNH PHÁT TRẮNG,THÙNG 100C…</td><td>&quot;100 Chiếc, 3 Lớp&quot;</td></tr><tr><td>2.7612e10</td><td>1.2908e11</td><td>&quot;9tig Hộp 100 Chiếc Khẩu Trang …</td><td>&quot;5D THỊNH PHÁT TRẮNG,THÙNG 100C…</td><td>&quot;100 Chiếc, 3 Lớp&quot;</td></tr><tr><td>2.7262e10</td><td>1.6844e11</td><td>&quot;9tig Hộp 100 Chiếc Khẩu Trang …</td><td>&quot;5D THỊNH PHÁT TRẮNG,THÙNG 100C…</td><td>&quot;100 Chiếc, 3 Lớp&quot;</td></tr><tr><td>2.3881e10</td><td>2.2206e11</td><td>&quot;[Thùng 500 Cái] Khẩu Trang 5D …</td><td>&quot;THỊNH PHÁT TRẮNG&quot;</td><td>&quot;500 Cái, 3 Lớp&quot;</td></tr></tbody></table></div>"
      ]
     },
     "execution_count": 41,
     "metadata": {},
     "output_type": "execute_result"
    }
   ],
   "execution_count": 41
  },
  {
   "metadata": {
    "ExecuteTime": {
     "end_time": "2024-12-13T07:48:12.910668Z",
     "start_time": "2024-12-13T07:48:12.906691Z"
    }
   },
   "cell_type": "code",
   "source": "df_excel.write_csv('/Users/kevinkhang/Downloads/SCS_quantity.csv')",
   "id": "7d0a5a2adf09a816",
   "outputs": [],
   "execution_count": 42
  },
  {
   "metadata": {
    "ExecuteTime": {
     "end_time": "2024-12-13T07:48:13.307970Z",
     "start_time": "2024-12-13T07:48:13.304598Z"
    }
   },
   "cell_type": "code",
   "source": "df_excel['quantity'].value_counts()",
   "id": "236a55b14ec58691",
   "outputs": [
    {
     "data": {
      "text/plain": [
       "shape: (128, 2)\n",
       "┌──────────────────────────┬───────┐\n",
       "│ quantity                 ┆ count │\n",
       "│ ---                      ┆ ---   │\n",
       "│ str                      ┆ u32   │\n",
       "╞══════════════════════════╪═══════╡\n",
       "│ 500 chiếc, 4 lớp         ┆ 1     │\n",
       "│ 100 Cái                  ┆ 25    │\n",
       "│ 2 Hộp, 200 Chiếc, 4 Lớp  ┆ 1     │\n",
       "│ 100 cái                  ┆ 17    │\n",
       "│ 20 Túi, 200 Chiếc, 3 Lớp ┆ 3     │\n",
       "│ …                        ┆ …     │\n",
       "│ 100 chiếc, 3 Lớp         ┆ 5     │\n",
       "│ 3 lớp, 100 chiếc         ┆ 4     │\n",
       "│ 50 cái                   ┆ 1     │\n",
       "│ 50 Túi, 500 Cái, 3 Lớp   ┆ 3     │\n",
       "│ 500 cái                  ┆ 1     │\n",
       "└──────────────────────────┴───────┘"
      ],
      "text/html": [
       "<div><style>\n",
       ".dataframe > thead > tr,\n",
       ".dataframe > tbody > tr {\n",
       "  text-align: right;\n",
       "  white-space: pre-wrap;\n",
       "}\n",
       "</style>\n",
       "<small>shape: (128, 2)</small><table border=\"1\" class=\"dataframe\"><thead><tr><th>quantity</th><th>count</th></tr><tr><td>str</td><td>u32</td></tr></thead><tbody><tr><td>&quot;500 chiếc, 4 lớp&quot;</td><td>1</td></tr><tr><td>&quot;100 Cái&quot;</td><td>25</td></tr><tr><td>&quot;2 Hộp, 200 Chiếc, 4 Lớp&quot;</td><td>1</td></tr><tr><td>&quot;100 cái&quot;</td><td>17</td></tr><tr><td>&quot;20 Túi, 200 Chiếc, 3 Lớp&quot;</td><td>3</td></tr><tr><td>&hellip;</td><td>&hellip;</td></tr><tr><td>&quot;100 chiếc, 3 Lớp&quot;</td><td>5</td></tr><tr><td>&quot;3 lớp, 100 chiếc&quot;</td><td>4</td></tr><tr><td>&quot;50 cái&quot;</td><td>1</td></tr><tr><td>&quot;50 Túi, 500 Cái, 3 Lớp&quot;</td><td>3</td></tr><tr><td>&quot;500 cái&quot;</td><td>1</td></tr></tbody></table></div>"
      ]
     },
     "execution_count": 43,
     "metadata": {},
     "output_type": "execute_result"
    }
   ],
   "execution_count": 43
  },
  {
   "metadata": {
    "ExecuteTime": {
     "end_time": "2024-12-13T07:48:19.865465Z",
     "start_time": "2024-12-13T07:48:19.863034Z"
    }
   },
   "cell_type": "code",
   "source": "83/725",
   "id": "1a4fce1c72c99430",
   "outputs": [
    {
     "data": {
      "text/plain": [
       "0.11448275862068966"
      ]
     },
     "execution_count": 44,
     "metadata": {},
     "output_type": "execute_result"
    }
   ],
   "execution_count": 44
  },
  {
   "metadata": {},
   "cell_type": "code",
   "outputs": [],
   "execution_count": null,
   "source": "",
   "id": "5d8fb7bf5af6f8a5"
  }
 ],
 "metadata": {
  "kernelspec": {
   "display_name": "Python 3",
   "language": "python",
   "name": "python3"
  },
  "language_info": {
   "codemirror_mode": {
    "name": "ipython",
    "version": 2
   },
   "file_extension": ".py",
   "mimetype": "text/x-python",
   "name": "python",
   "nbconvert_exporter": "python",
   "pygments_lexer": "ipython2",
   "version": "2.7.6"
  }
 },
 "nbformat": 4,
 "nbformat_minor": 5
}
