{
 "cells": [
  {
   "cell_type": "code",
   "execution_count": 5,
   "id": "7acd422c-63c9-4ade-9812-81f7c1a61c2a",
   "metadata": {},
   "outputs": [
    {
     "name": "stdout",
     "output_type": "stream",
     "text": [
      "Option Type: Put\n",
      "Price at t=0: 5.0896\n",
      "Risk-neutral p: 0.6282\n",
      "Discount factor: 0.9512\n"
     ]
    },
    {
     "data": {
      "text/plain": [
       "np.float64(5.089632474198373)"
      ]
     },
     "execution_count": 5,
     "metadata": {},
     "output_type": "execute_result"
    }
   ],
   "source": [
    "from wqu.dp import BinomialTree\n",
    "\n",
    "\n",
    "bt_put_am = BinomialTree(S0=50, K=52, T=2, r=0.05, u=1.2, d=0.8, N=2, option_type='put', option_style='american')\n",
    "bt_put_am.build_stock_tree()\n",
    "bt_put_am.build_option_tree()\n",
    "bt_put_am.summary()\n",
    "\n",
    "bt_put_am.price()"
   ]
  },
  {
   "cell_type": "code",
   "execution_count": 6,
   "id": "ec9a2454-4a65-4aa9-88ba-17ee4ee02789",
   "metadata": {},
   "outputs": [
    {
     "name": "stdout",
     "output_type": "stream",
     "text": [
      "Option Type: Call\n",
      "Price at t=0: 7.1411\n",
      "Risk-neutral p: 0.6282\n",
      "Discount factor: 0.9512\n"
     ]
    },
    {
     "data": {
      "text/plain": [
       "np.float64(7.141108542733969)"
      ]
     },
     "execution_count": 6,
     "metadata": {},
     "output_type": "execute_result"
    }
   ],
   "source": [
    "bt_call_am = BinomialTree(S0=50, K=52, T=2, r=0.05, u=1.2, d=0.8, N=2, option_type='call', option_style='american')\n",
    "bt_call_am.summary()\n",
    "\n",
    "bt_call_am.price()"
   ]
  },
  {
   "cell_type": "code",
   "execution_count": 8,
   "id": "dc191e5c-e23f-4c32-9251-de5bedf86fd5",
   "metadata": {},
   "outputs": [
    {
     "name": "stdout",
     "output_type": "stream",
     "text": [
      "Put-Call Parity Check:\n",
      "P0 = 4.1927\n",
      "C0 = 7.1411\n",
      "PV of K = K*e^(-rT) = 47.0515\n",
      "Call + K*e^(-rT) = 54.1927\n",
      "Put + S0        = 54.1927\n",
      "Difference       = 0.000000\n"
     ]
    },
    {
     "data": {
      "text/plain": [
       "True"
      ]
     },
     "execution_count": 8,
     "metadata": {},
     "output_type": "execute_result"
    }
   ],
   "source": [
    "bt_call_am.check_put_call_parity(verbose=True)"
   ]
  },
  {
   "cell_type": "code",
   "execution_count": null,
   "id": "9d949a12-8c49-46ef-984f-7de062d4502f",
   "metadata": {},
   "outputs": [],
   "source": []
  }
 ],
 "metadata": {
  "kernelspec": {
   "display_name": "Python 3 (ipykernel)",
   "language": "python",
   "name": "python3"
  },
  "language_info": {
   "codemirror_mode": {
    "name": "ipython",
    "version": 3
   },
   "file_extension": ".py",
   "mimetype": "text/x-python",
   "name": "python",
   "nbconvert_exporter": "python",
   "pygments_lexer": "ipython3",
   "version": "3.13.3"
  }
 },
 "nbformat": 4,
 "nbformat_minor": 5
}
