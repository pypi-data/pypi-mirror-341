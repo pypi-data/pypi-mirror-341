{
 "cells": [
  {
   "cell_type": "code",
   "execution_count": 1,
   "id": "e6fe12d5-3e43-4540-964c-60b16e898d89",
   "metadata": {},
   "outputs": [
    {
     "name": "stdout",
     "output_type": "stream",
     "text": [
      "Heston Fourier Call Price (Lewis method): 5.757807\n"
     ]
    }
   ],
   "source": [
    "from wqu.sm import HestonFourier\n",
    "\n",
    "# Option Parameters\n",
    "S0 = 100.0     # Initial stock price\n",
    "K = 100.0      # Strike price\n",
    "T = 1.0        # Time to maturity (in years)\n",
    "r = 0.02       # Risk-free interest rate\n",
    "\n",
    "# Heston Parameters\n",
    "kappa_v = 1.5  # Speed of mean reversion\n",
    "theta_v = 0.02 # Long-run variance\n",
    "sigma_v = 0.15 # Volatility of volatility\n",
    "rho = 0.1      # Correlation between asset and variance\n",
    "v0 = 0.01      # Initial variance\n",
    "\n",
    "# Instantiate the HestonFourier class using the Lewis method\n",
    "heston_lewis = HestonFourier(\n",
    "    S0=S0,\n",
    "    K=K,\n",
    "    T=T,\n",
    "    r=r,\n",
    "    v0=v0,\n",
    "    theta=theta_v,\n",
    "    kappa=kappa_v,\n",
    "    sigma=sigma_v,\n",
    "    rho=rho,\n",
    "    method=\"lewis\",\n",
    "    option_type=\"call\"\n",
    ")\n",
    "\n",
    "# Price the option\n",
    "price = heston_lewis.price()\n",
    "print(f\"Heston Fourier Call Price (Lewis method): {price:.6f}\")"
   ]
  },
  {
   "cell_type": "code",
   "execution_count": 1,
   "id": "f9036b94-fd00-416b-98e2-3803395c63d0",
   "metadata": {},
   "outputs": [
    {
     "name": "stdout",
     "output_type": "stream",
     "text": [
      ">>> Starting brute-force search...\n",
      "   0 | [ 2.5   0.01  0.05 -0.75  0.01] | MSE: 820.892168 | Min MSE: 820.892168\n",
      "  25 | [ 2.5   0.02  0.05 -0.75  0.02] | MSE: 23.863624 | Min MSE: 21.567743\n",
      "  50 | [ 2.5   0.02  0.25 -0.75  0.03] | MSE: 89.654952 | Min MSE: 21.567743\n",
      "  75 | [ 2.5   0.03  0.15 -0.5   0.01] | MSE: 193.282610 | Min MSE: 21.567743\n",
      " 100 | [ 2.5   0.04  0.05 -0.5   0.02] | MSE: 176.339739 | Min MSE: 21.567743\n",
      " 125 | [ 2.5   0.04  0.25 -0.5   0.03] | MSE: 486.964581 | Min MSE: 21.567743\n",
      " 150 | [ 7.5   0.01  0.15 -0.25  0.01] | MSE: 840.337090 | Min MSE: 21.567743\n",
      " 175 | [ 7.5   0.02  0.05 -0.25  0.02] | MSE: 24.810371 | Min MSE: 21.567743\n",
      " 200 | [ 7.5   0.02  0.25 -0.25  0.03] | MSE: 24.834228 | Min MSE: 21.567743\n",
      " 225 | [7.5  0.03 0.15 0.   0.01] | MSE: 110.936421 | Min MSE: 21.567743\n",
      " 250 | [7.5  0.04 0.05 0.   0.02] | MSE: 540.182792 | Min MSE: 21.567743\n",
      " 275 | [7.5  0.04 0.25 0.   0.03] | MSE: 783.221740 | Min MSE: 21.567743\n",
      ">>> Refining with local search...\n",
      " 300 | [ 2.61379559  0.00992657  0.15610448 -0.76361614  0.02778356] | MSE: 8.045766 | Min MSE: 7.795453\n",
      " 325 | [ 1.9152359   0.01257942  0.16036675 -0.91693167  0.0248233 ] | MSE: 6.300806 | Min MSE: 6.146318\n",
      " 350 | [ 2.04831069  0.01215428  0.15832201 -0.89057611  0.02532865] | MSE: 6.150503 | Min MSE: 6.144623\n",
      " 375 | [ 2.0376908   0.01207312  0.16816435 -0.86785979  0.02553311] | MSE: 6.097042 | Min MSE: 6.075189\n",
      " 400 | [ 1.97316132  0.01247835  0.2032535  -0.83478704  0.0254568 ] | MSE: 6.001525 | Min MSE: 5.996115\n",
      " 425 | [ 2.07617861  0.01268556  0.21375606 -0.83213139  0.02575716] | MSE: 5.947748 | Min MSE: 5.947748\n",
      " 450 | [ 2.66904762  0.0147503   0.22891593 -0.87575667  0.02607257] | MSE: 5.683904 | Min MSE: 5.683904\n",
      " 475 | [ 3.14901508  0.01554998  0.22701309 -0.86349685  0.02615741] | MSE: 5.357630 | Min MSE: 5.357630\n",
      " 500 | [ 3.75301757  0.0179153   0.33579328 -0.72953664  0.02611118] | MSE: 4.602526 | Min MSE: 4.498631\n",
      " 525 | [ 5.15416061  0.01857864  0.40457683 -0.45664742  0.0270172 ] | MSE: 3.894461 | Min MSE: 3.824773\n",
      " 550 | [ 5.14078039  0.01861684  0.42859861 -0.43432012  0.02728158] | MSE: 3.769001 | Min MSE: 3.749195\n",
      " 575 | [ 5.0507416   0.01868091  0.43385652 -0.44775932  0.02732562] | MSE: 3.718624 | Min MSE: 3.716546\n",
      " 600 | [ 5.05235394  0.01871275  0.43473462 -0.44693948  0.02730235] | MSE: 3.716004 | Min MSE: 3.715792\n",
      " 625 | [ 5.05371685  0.01872767  0.43504931 -0.44691718  0.0272971 ] | MSE: 3.715524 | Min MSE: 3.715392\n",
      " 650 | [ 5.04446488  0.01872907  0.43469053 -0.44848558  0.02728228] | MSE: 3.715380 | Min MSE: 3.715376\n",
      " 675 | [ 5.04382644  0.0187266   0.43463479 -0.44869357  0.02728557] | MSE: 3.715374 | Min MSE: 3.715374\n",
      " 700 | [ 5.04426287  0.01872709  0.4346593  -0.44857764  0.02728496] | MSE: 3.715373 | Min MSE: 3.715373\n",
      " 725 | [ 5.04476043  0.01872427  0.43464808 -0.44841756  0.02728689] | MSE: 3.715371 | Min MSE: 3.715371\n",
      " 750 | [ 5.04505376  0.01872602  0.43468094 -0.44837446  0.02728584] | MSE: 3.715370 | Min MSE: 3.715370\n",
      " 775 | [ 5.04707738  0.01872566  0.434764   -0.44801571  0.02728898] | MSE: 3.715367 | Min MSE: 3.715367\n",
      " 800 | [ 5.04731712  0.01872561  0.43477373 -0.44796137  0.02728913] | MSE: 3.715367 | Min MSE: 3.715367\n",
      " 825 | [ 5.04735223  0.01872569  0.43477611 -0.44795766  0.02728916] | MSE: 3.715367 | Min MSE: 3.715367\n",
      " 850 | [ 5.04735429  0.0187257   0.43477637 -0.44795746  0.02728915] | MSE: 3.715367 | Min MSE: 3.715367\n",
      " 875 | [ 5.04735384  0.01872571  0.43477645 -0.44795738  0.02728914] | MSE: 3.715367 | Min MSE: 3.715367\n",
      " 900 | [ 5.04736306  0.01872573  0.43477709 -0.44795509  0.02728912] | MSE: 3.715367 | Min MSE: 3.715367\n",
      " 925 | [ 5.04735787  0.01872573  0.43477684 -0.44795621  0.02728912] | MSE: 3.715367 | Min MSE: 3.715367\n",
      "Optimization terminated successfully.\n",
      "         Current function value: 3.715367\n",
      "         Iterations: 479\n",
      "         Function evaluations: 798\n",
      "Optimal Parameters: [ 5.04735844  0.01872573  0.43477689 -0.44795617  0.02728912]\n"
     ]
    }
   ],
   "source": [
    "import pandas as pd\n",
    "from datetime import datetime\n",
    "from wqu.sm import HestonCalibrator\n",
    "\n",
    "# Load from CSV\n",
    "data_path = \"option_data.csv\"\n",
    "data = pd.read_csv(data_path)\n",
    "\n",
    "# Set index level and tolerance\n",
    "S0 = 3225.93\n",
    "tol = 0.02\n",
    "\n",
    "# Filter near-the-money European call options\n",
    "options = data[(abs(data[\"Strike\"] - S0) / S0) < tol].copy()\n",
    "options[\"Date\"] = pd.to_datetime(options[\"Date\"])\n",
    "options[\"Maturity\"] = pd.to_datetime(options[\"Maturity\"])\n",
    "options[\"T\"] = (options[\"Maturity\"] - options[\"Date\"]).dt.days / 365\n",
    "options[\"r\"] = 0.02  # constant short rate\n",
    "\n",
    "# Initialize and run calibration\n",
    "calibrator = HestonCalibrator(S0=S0, options_df=options)\n",
    "optimal_params = calibrator.calibrate()\n",
    "\n",
    "# Display results\n",
    "print(\"Optimal Parameters:\", optimal_params)"
   ]
  },
  {
   "cell_type": "code",
   "execution_count": null,
   "id": "2bd658ee-b557-481e-b122-a27f0e03ff55",
   "metadata": {},
   "outputs": [],
   "source": []
  }
 ],
 "metadata": {
  "kernelspec": {
   "display_name": "Python 3 (ipykernel)",
   "language": "python",
   "name": "python3"
  },
  "language_info": {
   "codemirror_mode": {
    "name": "ipython",
    "version": 3
   },
   "file_extension": ".py",
   "mimetype": "text/x-python",
   "name": "python",
   "nbconvert_exporter": "python",
   "pygments_lexer": "ipython3",
   "version": "3.13.3"
  }
 },
 "nbformat": 4,
 "nbformat_minor": 5
}
