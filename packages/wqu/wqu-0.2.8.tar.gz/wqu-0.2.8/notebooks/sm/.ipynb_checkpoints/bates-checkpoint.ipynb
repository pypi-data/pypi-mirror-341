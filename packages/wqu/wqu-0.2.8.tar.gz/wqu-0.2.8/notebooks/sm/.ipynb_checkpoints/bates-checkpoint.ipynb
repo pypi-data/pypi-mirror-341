{
 "cells": [
  {
   "cell_type": "code",
   "execution_count": 1,
   "id": "d94eba5e-e751-4344-86bf-afc2b7defd6b",
   "metadata": {},
   "outputs": [],
   "source": [
    "from wqu.sm import BatesFourier"
   ]
  },
  {
   "cell_type": "code",
   "execution_count": 2,
   "id": "a9c37862-f3f9-480b-a142-e368b0bd4ede",
   "metadata": {},
   "outputs": [
    {
     "name": "stdout",
     "output_type": "stream",
     "text": [
      "Bates Call Price (Lewis method): 8.904718864\n"
     ]
    }
   ],
   "source": [
    "bates = BatesFourier(\n",
    "    S0=100, K=100, T=1, r=0.05,\n",
    "    sigma=0.15,          # sigma_v\n",
    "    kappa=1.5,\n",
    "    theta=0.02,\n",
    "    v0=0.01,\n",
    "    rho=0.1,\n",
    "    lam=0.25,            # lambda\n",
    "    mu=-0.2,\n",
    "    delta=0.1,\n",
    "    method=\"lewis\",\n",
    "    option_type=\"call\"\n",
    ")\n",
    "\n",
    "print(f\"Bates Call Price (Lewis method): {bates.price():.9f}\")"
   ]
  },
  {
   "cell_type": "code",
   "execution_count": 3,
   "id": "fdcf178f-9b55-42e3-95eb-f00746e485f1",
   "metadata": {},
   "outputs": [
    {
     "name": "stdout",
     "output_type": "stream",
     "text": [
      "Bates Call Price (Carr-Madan method): 8.904718821\n"
     ]
    }
   ],
   "source": [
    "bates2 = BatesFourier(\n",
    "    S0=100, K=100, T=1, r=0.05,\n",
    "    sigma=0.15,          # sigma_v\n",
    "    kappa=1.5,\n",
    "    theta=0.02,\n",
    "    v0=0.01,\n",
    "    rho=0.1,\n",
    "    lam=0.25,            # lambda\n",
    "    mu=-0.2,\n",
    "    delta=0.1,\n",
    "    method=\"carr-madan\",\n",
    "    option_type=\"call\"\n",
    ")\n",
    "\n",
    "print(f\"Bates Call Price (Carr-Madan method): {bates2.price():.9f}\")"
   ]
  },
  {
   "cell_type": "code",
   "execution_count": 4,
   "id": "d3db1f5a-d2fd-4c3c-9860-4c738b61fb57",
   "metadata": {},
   "outputs": [],
   "source": [
    "import pandas as pd\n",
    "\n",
    "# Load the CSV (converted from Eurex h5 file)\n",
    "options = pd.read_csv(\"option_data_M2.csv\")\n",
    "\n",
    "# Add time-to-maturity and risk-free rate\n",
    "S0 = 3225.93\n",
    "tol = 0.02\n",
    "\n",
    "# Filter for ATM-ish options\n",
    "options = options[(abs(options[\"Strike\"] - S0) / S0) < tol].copy()\n",
    "options[\"Date\"] = pd.to_datetime(options[\"Date\"])\n",
    "options[\"Maturity\"] = pd.to_datetime(options[\"Maturity\"])\n",
    "options[\"T\"] = (options[\"Maturity\"] - options[\"Date\"]).dt.days / 365\n",
    "options[\"r\"] = 0.005  # ECB base rate"
   ]
  },
  {
   "cell_type": "code",
   "execution_count": null,
   "id": "2eb84979-eab8-412b-9072-0cbbb8166df9",
   "metadata": {},
   "outputs": [],
   "source": []
  },
  {
   "cell_type": "markdown",
   "id": "1a50d12b-d47e-4fe9-8b04-a714e8ee37b1",
   "metadata": {},
   "source": [
    "from wqu.sm import BatesCalibrator\n",
    "\n",
    "calibrator = BatesCalibrator(S0=S0, options_df=options)\n",
    "\n",
    "# Calibrate (this will take some time!)\n",
    "optimal_params = calibrator.calibrate()\n",
    "\n",
    "print(\"Optimal Bates Parameters:\")\n",
    "print(optimal_params)"
   ]
  },
  {
   "cell_type": "code",
   "execution_count": null,
   "id": "5cd5d0bc-bdc9-41b7-a2ff-83f0d406eada",
   "metadata": {},
   "outputs": [],
   "source": [
    "calibrator.plot(optimal_params)"
   ]
  },
  {
   "cell_type": "code",
   "execution_count": null,
   "id": "b826321c-db8d-433e-9e4f-e669e1b198be",
   "metadata": {},
   "outputs": [],
   "source": []
  }
 ],
 "metadata": {
  "kernelspec": {
   "display_name": "Python 3 (ipykernel)",
   "language": "python",
   "name": "python3"
  },
  "language_info": {
   "codemirror_mode": {
    "name": "ipython",
    "version": 3
   },
   "file_extension": ".py",
   "mimetype": "text/x-python",
   "name": "python",
   "nbconvert_exporter": "python",
   "pygments_lexer": "ipython3",
   "version": "3.13.3"
  }
 },
 "nbformat": 4,
 "nbformat_minor": 5
}
