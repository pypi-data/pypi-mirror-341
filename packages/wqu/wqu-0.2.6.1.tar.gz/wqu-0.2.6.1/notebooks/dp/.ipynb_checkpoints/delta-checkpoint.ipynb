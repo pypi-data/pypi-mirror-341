{
 "cells": [
  {
   "cell_type": "code",
   "execution_count": 2,
   "id": "d20cf79f-192d-4407-85ee-48ba75d2d2e9",
   "metadata": {},
   "outputs": [
    {
     "name": "stdout",
     "output_type": "stream",
     "text": [
      "Delta (Call): 0.7500\n",
      "Delta (Put): -0.2500\n"
     ]
    }
   ],
   "source": [
    "from wqu.dp.binomial import calculate_delta\n",
    "\n",
    "# Inputs\n",
    "S0 = 100\n",
    "K = 90\n",
    "u = 1.2\n",
    "d = 0.8\n",
    "\n",
    "# Calculate delta for call\n",
    "delta_call = calculate_delta(S0, K, u, d, option_type='call')\n",
    "print(f\"Delta (Call): {delta_call:.4f}\")\n",
    "\n",
    "# Calculate delta for put\n",
    "delta_put = calculate_delta(S0, K, u, d, option_type='put')\n",
    "print(f\"Delta (Put): {delta_put:.4f}\")"
   ]
  },
  {
   "cell_type": "code",
   "execution_count": null,
   "id": "73c4a448-a98b-43ca-a13f-d9c99dff6655",
   "metadata": {},
   "outputs": [],
   "source": []
  }
 ],
 "metadata": {
  "kernelspec": {
   "display_name": "Python 3 (ipykernel)",
   "language": "python",
   "name": "python3"
  },
  "language_info": {
   "codemirror_mode": {
    "name": "ipython",
    "version": 3
   },
   "file_extension": ".py",
   "mimetype": "text/x-python",
   "name": "python",
   "nbconvert_exporter": "python",
   "pygments_lexer": "ipython3",
   "version": "3.13.3"
  }
 },
 "nbformat": 4,
 "nbformat_minor": 5
}
