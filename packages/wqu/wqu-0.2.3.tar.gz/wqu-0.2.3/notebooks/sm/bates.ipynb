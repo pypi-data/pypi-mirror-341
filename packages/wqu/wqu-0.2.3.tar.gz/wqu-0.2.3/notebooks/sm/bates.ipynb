{
 "cells": [
  {
   "cell_type": "code",
   "execution_count": 8,
   "id": "a9c37862-f3f9-480b-a142-e368b0bd4ede",
   "metadata": {},
   "outputs": [
    {
     "name": "stdout",
     "output_type": "stream",
     "text": [
      "Bates Call Price (Lewis method): 8.904718864\n"
     ]
    }
   ],
   "source": [
    "bates = BatesFourier(\n",
    "    S0=100, K=100, T=1, r=0.05,\n",
    "    sigma=0.15,          # sigma_v\n",
    "    kappa=1.5,\n",
    "    theta=0.02,\n",
    "    v0=0.01,\n",
    "    rho=0.1,\n",
    "    lam=0.25,            # lambda\n",
    "    mu=-0.2,\n",
    "    delta=0.1,\n",
    "    method=\"lewis\",\n",
    "    option_type=\"call\"\n",
    ")\n",
    "\n",
    "print(f\"Bates Call Price (Lewis method): {bates.price():.9f}\")"
   ]
  },
  {
   "cell_type": "code",
   "execution_count": 9,
   "id": "fdcf178f-9b55-42e3-95eb-f00746e485f1",
   "metadata": {},
   "outputs": [
    {
     "name": "stdout",
     "output_type": "stream",
     "text": [
      "Bates Call Price (Carr-Madan method): 8.904718821\n"
     ]
    }
   ],
   "source": [
    "bates2 = BatesFourier(\n",
    "    S0=100, K=100, T=1, r=0.05,\n",
    "    sigma=0.15,          # sigma_v\n",
    "    kappa=1.5,\n",
    "    theta=0.02,\n",
    "    v0=0.01,\n",
    "    rho=0.1,\n",
    "    lam=0.25,            # lambda\n",
    "    mu=-0.2,\n",
    "    delta=0.1,\n",
    "    method=\"carr-madan\",\n",
    "    option_type=\"call\"\n",
    ")\n",
    "\n",
    "print(f\"Bates Call Price (Carr-Madan method): {bates2.price():.9f}\")"
   ]
  },
  {
   "cell_type": "code",
   "execution_count": null,
   "id": "d3db1f5a-d2fd-4c3c-9860-4c738b61fb57",
   "metadata": {},
   "outputs": [],
   "source": []
  }
 ],
 "metadata": {
  "kernelspec": {
   "display_name": "Python 3 (ipykernel)",
   "language": "python",
   "name": "python3"
  },
  "language_info": {
   "codemirror_mode": {
    "name": "ipython",
    "version": 3
   },
   "file_extension": ".py",
   "mimetype": "text/x-python",
   "name": "python",
   "nbconvert_exporter": "python",
   "pygments_lexer": "ipython3",
   "version": "3.13.3"
  }
 },
 "nbformat": 4,
 "nbformat_minor": 5
}
