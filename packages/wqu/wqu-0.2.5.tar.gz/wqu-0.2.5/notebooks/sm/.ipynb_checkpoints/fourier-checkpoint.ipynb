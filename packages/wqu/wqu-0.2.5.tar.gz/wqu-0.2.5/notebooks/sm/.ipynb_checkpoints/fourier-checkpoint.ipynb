{
 "cells": [
  {
   "cell_type": "code",
   "execution_count": 1,
   "id": "29422300-0de6-4efe-b590-0f063241d2ca",
   "metadata": {},
   "outputs": [
    {
     "name": "stdout",
     "output_type": "stream",
     "text": [
      "Option Price: 10.450583572185565\n",
      "Delta: 0.6368306511756191\n",
      "Gamma: 0.018762017345846895\n",
      "Vega: 37.52403469169379\n",
      "Theta: -6.414027546438197\n",
      "Rho: 53.232481545376345\n"
     ]
    }
   ],
   "source": [
    "# Black-Scholes Analytical \n",
    "\n",
    "from wqu.dp import BlackScholes\n",
    "\n",
    "# Example: A call option\n",
    "\n",
    "# S0 = 100\n",
    "# K = 100\n",
    "# T = 1\n",
    "# r = 0.05\n",
    "# sigma = 0.2\n",
    "\n",
    "bs = BlackScholes(S0=100, K=100, T=1, r=0.05, sigma=0.2, option_type=\"call\")\n",
    "\n",
    "print(\"Option Price:\", bs.price())\n",
    "print(\"Delta:\", bs.delta())\n",
    "print(\"Gamma:\", bs.gamma())\n",
    "print(\"Vega:\", bs.vega())\n",
    "print(\"Theta:\", bs.theta())\n",
    "print(\"Rho:\", bs.rho())"
   ]
  },
  {
   "cell_type": "code",
   "execution_count": 1,
   "id": "86650f4c-3424-40cc-b87d-fd492360ab12",
   "metadata": {},
   "outputs": [
    {
     "name": "stdout",
     "output_type": "stream",
     "text": [
      "Carr-Madan FFT Call Price: 10.450583529672013\n",
      "Lewis Method Call Price: 10.450583572184783\n"
     ]
    }
   ],
   "source": [
    "from wqu.sm import BlackScholesFourier\n",
    "\n",
    "S0 = 100\n",
    "K = 100\n",
    "T = 1\n",
    "r = 0.05\n",
    "sigma = 0.2\n",
    "\n",
    "bs_fft = BlackScholesFourier(S0, K, T, r, sigma, method=\"carr-madan\", option_type=\"call\")\n",
    "print(\"Carr-Madan FFT Call Price:\", bs_fft.price())\n",
    "\n",
    "bs_lewis = BlackScholesFourier(S0, K, T, r, sigma, method=\"lewis\", option_type=\"call\")\n",
    "print(\"Lewis Method Call Price:\", bs_lewis.price())"
   ]
  },
  {
   "cell_type": "code",
   "execution_count": null,
   "id": "9482b7b3-de26-4298-9603-e36d18adda93",
   "metadata": {},
   "outputs": [],
   "source": []
  }
 ],
 "metadata": {
  "kernelspec": {
   "display_name": "Python 3 (ipykernel)",
   "language": "python",
   "name": "python3"
  },
  "language_info": {
   "codemirror_mode": {
    "name": "ipython",
    "version": 3
   },
   "file_extension": ".py",
   "mimetype": "text/x-python",
   "name": "python",
   "nbconvert_exporter": "python",
   "pygments_lexer": "ipython3",
   "version": "3.13.3"
  }
 },
 "nbformat": 4,
 "nbformat_minor": 5
}
