{
 "cells": [
  {
   "cell_type": "code",
   "execution_count": 1,
   "id": "b0fe9f11-cad9-4d53-8643-a6800fdebe28",
   "metadata": {},
   "outputs": [
    {
     "name": "stdout",
     "output_type": "stream",
     "text": [
      "Asian Call Price: 8.322910580226322\n"
     ]
    }
   ],
   "source": [
    "from wqu.dp import BinomialTree\n",
    "\n",
    "\n",
    "bt_asian = BinomialTree(\n",
    "    S0=100, K=95, T=1, r=0.05,\n",
    "    u=1.1, d=0.9, N=3,\n",
    "    option_type='call',\n",
    "    option_style='asian'\n",
    ")\n",
    "\n",
    "bt_asian.build_stock_tree()\n",
    "bt_asian.build_option_tree()\n",
    "print(\"Asian Call Price:\", bt_asian.price())"
   ]
  },
  {
   "cell_type": "code",
   "execution_count": 2,
   "id": "7f58b040-8275-4820-bd43-0687ab914c22",
   "metadata": {},
   "outputs": [
    {
     "name": "stdout",
     "output_type": "stream",
     "text": [
      "Option Style: Asian\n",
      "Option Type: Call\n",
      "Price at t=0: 8.3229\n",
      "Risk-neutral p: 0.5840\n",
      "Discount factor: 0.9835\n"
     ]
    }
   ],
   "source": [
    "bt_asian.summary()"
   ]
  },
  {
   "cell_type": "code",
   "execution_count": null,
   "id": "28966597-0f16-4086-8522-fc8af8273873",
   "metadata": {},
   "outputs": [],
   "source": []
  }
 ],
 "metadata": {
  "kernelspec": {
   "display_name": "Python 3 (ipykernel)",
   "language": "python",
   "name": "python3"
  },
  "language_info": {
   "codemirror_mode": {
    "name": "ipython",
    "version": 3
   },
   "file_extension": ".py",
   "mimetype": "text/x-python",
   "name": "python",
   "nbconvert_exporter": "python",
   "pygments_lexer": "ipython3",
   "version": "3.13.3"
  }
 },
 "nbformat": 4,
 "nbformat_minor": 5
}
