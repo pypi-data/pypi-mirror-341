{
 "cells": [
  {
   "cell_type": "code",
   "execution_count": 1,
   "id": "7acd422c-63c9-4ade-9812-81f7c1a61c2a",
   "metadata": {},
   "outputs": [
    {
     "name": "stdout",
     "output_type": "stream",
     "text": [
      "Option Type: Put\n",
      "Price at t=0: 5.0896\n",
      "Risk-neutral p: 0.6282\n",
      "Discount factor: 0.9512\n"
     ]
    },
    {
     "data": {
      "text/plain": [
       "np.float64(5.089632474198373)"
      ]
     },
     "execution_count": 1,
     "metadata": {},
     "output_type": "execute_result"
    }
   ],
   "source": [
    "from wqu.dp import BinomialTree\n",
    "\n",
    "\n",
    "bt_put_am = BinomialTree(S0=50, K=52, T=2, r=0.05, u=1.2, d=0.8, N=2, option_type='put', option_style='american')\n",
    "bt_put_am.build_stock_tree()\n",
    "bt_put_am.build_option_tree()\n",
    "bt_put_am.summary()\n",
    "\n",
    "bt_put_am.price()"
   ]
  },
  {
   "cell_type": "code",
   "execution_count": 2,
   "id": "ec9a2454-4a65-4aa9-88ba-17ee4ee02789",
   "metadata": {},
   "outputs": [
    {
     "name": "stdout",
     "output_type": "stream",
     "text": [
      "Option Type: Call\n",
      "Price at t=0: 7.1411\n",
      "Risk-neutral p: 0.6282\n",
      "Discount factor: 0.9512\n"
     ]
    },
    {
     "data": {
      "text/plain": [
       "np.float64(7.141108542733969)"
      ]
     },
     "execution_count": 2,
     "metadata": {},
     "output_type": "execute_result"
    }
   ],
   "source": [
    "bt_call_am = BinomialTree(S0=50, K=52, T=2, r=0.05, u=1.2, d=0.8, N=2, option_type='call', option_style='american')\n",
    "bt_call_am.summary()\n",
    "\n",
    "bt_call_am.price()"
   ]
  },
  {
   "cell_type": "code",
   "execution_count": 3,
   "id": "dc191e5c-e23f-4c32-9251-de5bedf86fd5",
   "metadata": {},
   "outputs": [
    {
     "name": "stdout",
     "output_type": "stream",
     "text": [
      "Put-Call Parity Check:\n",
      "P0 = 4.1927\n",
      "C0 = 7.1411\n",
      "PV of K = K*e^(-rT) = 47.0515\n",
      "Call + K*e^(-rT) = 54.1927\n",
      "Put + S0        = 54.1927\n",
      "Difference       = 0.000000\n"
     ]
    },
    {
     "data": {
      "text/plain": [
       "True"
      ]
     },
     "execution_count": 3,
     "metadata": {},
     "output_type": "execute_result"
    }
   ],
   "source": [
    "bt_call_am.check_put_call_parity(verbose=True)"
   ]
  },
  {
   "cell_type": "code",
   "execution_count": 4,
   "id": "487dbd84-c216-409b-b285-62e5f7a4c172",
   "metadata": {},
   "outputs": [],
   "source": [
    "# american_option(45, 100, 5, 0, 1.5, 1 / 1.5, 5, \"C\")\n",
    "bt_call_am2 = BinomialTree(S0=45, K=100, T=5, r=0, u=1.5, d=1/1.5, N=5, option_type='call', option_style='american')"
   ]
  },
  {
   "cell_type": "code",
   "execution_count": 5,
   "id": "b9693313-c0a8-4f9d-ba64-2f50cb479d0d",
   "metadata": {},
   "outputs": [
    {
     "name": "stdout",
     "output_type": "stream",
     "text": [
      "Option Type: Call\n",
      "Price at t=0: 6.4592\n",
      "Risk-neutral p: 0.4000\n",
      "Discount factor: 1.0000\n"
     ]
    }
   ],
   "source": [
    "bt_call_am2.price()\n",
    "bt_call_am2.summary()"
   ]
  },
  {
   "cell_type": "code",
   "execution_count": 6,
   "id": "05b97297-d594-4b38-8f7b-bc376a5b8439",
   "metadata": {},
   "outputs": [
    {
     "data": {
      "text/plain": [
       "array([[0.34208   , 0.        , 0.        , 0.        , 0.        ,\n",
       "        0.        ],\n",
       "       [0.1328    , 0.4816    , 0.        , 0.        , 0.        ,\n",
       "        0.        ],\n",
       "       [0.        , 0.22133333, 0.65511111, 0.        , 0.        ,\n",
       "        0.        ],\n",
       "       [0.        , 0.        , 0.36888889, 0.84592593, 0.        ,\n",
       "        0.        ],\n",
       "       [0.        , 0.        , 0.        , 0.61481481, 1.        ,\n",
       "        0.        ],\n",
       "       [0.        , 0.        , 0.        , 0.        , 0.        ,\n",
       "        0.        ]])"
      ]
     },
     "execution_count": 6,
     "metadata": {},
     "output_type": "execute_result"
    }
   ],
   "source": [
    "bt_call_am2.build_delta_tree()"
   ]
  },
  {
   "cell_type": "code",
   "execution_count": 7,
   "id": "574b4ad5-5569-4589-9200-d0852d455320",
   "metadata": {},
   "outputs": [
    {
     "data": {
      "image/png": "[encoded data removed]",
      "text/plain": [
       "<Figure size 1000x600 with 1 Axes>"
      ]
     },
     "metadata": {},
     "output_type": "display_data"
    }
   ],
   "source": [
    "bt_call_am2.plot_tree(tree=bt_call_am2.build_delta_tree(),title=\"The Delta\")"
   ]
  },
  {
   "cell_type": "code",
   "execution_count": 8,
   "id": "86ddef3b-95f2-44c7-a7c6-08450cbca30f",
   "metadata": {},
   "outputs": [
    {
     "name": "stdout",
     "output_type": "stream",
     "text": [
      "Initial Hedge:\n",
      "Stock: 50.00, Delta: -0.53, Shares: -0.53, Cash: 26.46, Total: 0.00\n",
      "\n",
      "Step | Stock  | Delta  | Shares Δ | Stock Value | Cash | Total\n",
      " 1    | 60.00   | -0.17  | 0.36     | -10.00      | 8.33   | -1.67\n",
      " 2    | 48.00   | 0.00   | 0.17     | 0.00        | -1.67  | -1.67\n",
      "\n",
      "Final Results:\n",
      "  Hedged Portfolio Value : -1.6667\n",
      "  Option Payoff          : 4.0000\n",
      "  Hedging Error          : -5.6667\n"
     ]
    },
    {
     "data": {
      "text/plain": [
       "(np.float64(-1.6666666666666679),\n",
       " np.float64(4.0),\n",
       " np.float64(-5.666666666666668))"
      ]
     },
     "execution_count": 8,
     "metadata": {},
     "output_type": "execute_result"
    }
   ],
   "source": [
    "bt_am_put = BinomialTree(S0=50, K=52, T=2, r=0.05, u=1.2, d=0.8, N=2, option_type='put', option_style='american')\n",
    "bt_am_put.build_stock_tree()\n",
    "bt_am_put.build_option_tree()\n",
    "bt_am_put.build_delta_tree()\n",
    "\n",
    "# Simulate dynamic hedge for path: up then down\n",
    "bt_am_put.simulate_delta_hedge(path='ud')"
   ]
  },
  {
   "cell_type": "code",
   "execution_count": 12,
   "id": "27ae6f20-4699-4440-87f8-0ad439539be1",
   "metadata": {},
   "outputs": [
    {
     "name": "stdout",
     "output_type": "stream",
     "text": [
      "Initial Hedge:\n",
      "Stock: 50.00, Delta: -0.49, Shares: -0.49, Cash: 24.52, Total: 0.00\n",
      "\n",
      "Step | Stock  | Delta  | Shares Δ | Stock Value | Cash | Total\n",
      " 1    | 60.00   | -0.23  | 0.26     | -13.66      | 11.38  | -2.28\n",
      " 2    | 48.00   | -0.71  | -0.48    | -34.00      | 40.22  | 6.22\n",
      " 3    | 57.60   | 0.00   | 0.71     | 0.00        | 6.22   | 6.22\n",
      "\n",
      "Final Results:\n",
      "  Hedged Portfolio Value : 6.2240\n",
      "  Option Payoff          : 0.0000\n",
      "  Hedging Error          : 6.2240\n"
     ]
    },
    {
     "data": {
      "text/plain": [
       "(np.float64(6.223992958472564), 0, np.float64(6.223992958472564))"
      ]
     },
     "execution_count": 12,
     "metadata": {},
     "output_type": "execute_result"
    }
   ],
   "source": [
    "# european_option(\n",
    "    50, 52, 5, 0.05, 1.2, 0.8, 5, \"C\"\n",
    ")"
   ]
  },
  {
   "cell_type": "code",
   "execution_count": 16,
   "id": "6803d13e-3138-492e-9f20-99c0b3fe267f",
   "metadata": {},
   "outputs": [
    {
     "data": {
      "image/png": "[encoded data removed]",
      "text/plain": [
       "<Figure size 1000x600 with 1 Axes>"
      ]
     },
     "metadata": {},
     "output_type": "display_data"
    }
   ],
   "source": [
    "bt_eu_call = BinomialTree(\n",
    "    S0=50,\n",
    "    K=52,\n",
    "    T=5,\n",
    "    r=0.05,\n",
    "    u=1.2,\n",
    "    d=0.8,\n",
    "    N=5\n",
    ")\n",
    "bt_eu_call.price()\n",
    "\n",
    "dtree = bt_eu_call.build_delta_tree()\n",
    "\n",
    "bt_eu_call.plot_tree(tree=dtree, title=\"Delta\")"
   ]
  },
  {
   "cell_type": "code",
   "execution_count": null,
   "id": "611b14d1-444f-4e52-a1ce-1c44733fd0e2",
   "metadata": {},
   "outputs": [],
   "source": []
  }
 ],
 "metadata": {
  "kernelspec": {
   "display_name": "Python 3 (ipykernel)",
   "language": "python",
   "name": "python3"
  },
  "language_info": {
   "codemirror_mode": {
    "name": "ipython",
    "version": 3
   },
   "file_extension": ".py",
   "mimetype": "text/x-python",
   "name": "python",
   "nbconvert_exporter": "python",
   "pygments_lexer": "ipython3",
   "version": "3.13.3"
  }
 },
 "nbformat": 4,
 "nbformat_minor": 5
}
