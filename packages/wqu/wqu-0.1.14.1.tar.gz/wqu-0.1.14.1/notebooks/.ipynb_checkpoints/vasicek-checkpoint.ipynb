{
 "cells": [
  {
   "cell_type": "code",
   "execution_count": null,
   "id": "47abcdfd-dcc5-441e-87fa-1c64a48828bd",
   "metadata": {},
   "outputs": [],
   "source": [
    "from wqu.dp import Vasicek"
   ]
  }
 ],
 "metadata": {
  "kernelspec": {
   "display_name": "Python 3 (ipykernel)",
   "language": "python",
   "name": "python3"
  },
  "language_info": {
   "codemirror_mode": {
    "name": "ipython",
    "version": 3
   },
   "file_extension": ".py",
   "mimetype": "text/x-python",
   "name": "python",
   "nbconvert_exporter": "python",
   "pygments_lexer": "ipython3",
   "version": "3.13.3"
  }
 },
 "nbformat": 4,
 "nbformat_minor": 5
}
