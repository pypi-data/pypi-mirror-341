{
 "cells": [
  {
   "cell_type": "markdown",
   "id": "b7e2255151321350",
   "metadata": {},
   "source": [
    "# Autoflow\n",
    "\n",
    "Autoflow is a RAG framework supported:\n",
    "\n",
    "- Vector Search Based RAG\n",
    "- Knowledge Graph Based RAG (aka. GraphRAG)\n",
    "- Knowledge Base and Document Management"
   ]
  },
  {
   "cell_type": "markdown",
   "id": "f4c3f49f",
   "metadata": {},
   "source": [
    "## Installation"
   ]
  },
  {
   "cell_type": "code",
   "execution_count": 2,
   "id": "fa2fbb3fefbebf0f",
   "metadata": {},
   "outputs": [
    {
     "name": "stdout",
     "output_type": "stream",
     "text": [
      "Collecting uv\n",
      "  Downloading uv-0.6.14-py3-none-macosx_11_0_arm64.whl.metadata (11 kB)\n",
      "Downloading uv-0.6.14-py3-none-macosx_11_0_arm64.whl (15.1 MB)\n",
      "\u001B[2K   \u001B[90m━━━━━━━━━━━━━━━━━━━━━━━━━━━━━━━━━━━━━━━━\u001B[0m \u001B[32m15.1/15.1 MB\u001B[0m \u001B[31m40.2 MB/s\u001B[0m eta \u001B[36m0:00:00\u001B[0m \u001B[36m0:00:01\u001B[0m\n",
      "\u001B[?25hInstalling collected packages: uv\n",
      "Successfully installed uv-0.6.14\n",
      "Note: you may need to restart the kernel to use updated packages.\n"
     ]
    }
   ],
   "source": [
    "%pip install uv"
   ]
  },
  {
   "cell_type": "code",
   "execution_count": 4,
   "id": "7bbed79850462cfe",
   "metadata": {
    "ExecuteTime": {
     "end_time": "2025-03-25T17:17:53.746139Z",
     "start_time": "2025-03-25T17:17:49.877520Z"
    }
   },
   "outputs": [
    {
     "name": "stdout",
     "output_type": "stream",
     "text": [
      "Collecting autoflow-ai==0.0.1.dev33\r\n",
      "  Downloading autoflow_ai-0.0.1.dev33-py3-none-any.whl.metadata (885 bytes)\r\n",
      "Requirement already satisfied: deepdiff>=8.2.0 in /Users/liangzhiyuan/Projects/autoflow.ai/core/.venv/lib/python3.12/site-packages (from autoflow-ai==0.0.1.dev33) (8.3.0)\r\n",
      "Requirement already satisfied: litellm>=1.61.11 in /Users/liangzhiyuan/Projects/autoflow.ai/core/.venv/lib/python3.12/site-packages (from autoflow-ai==0.0.1.dev33) (1.63.7)\r\n",
      "Requirement already satisfied: llama-index-core>=0.12.23.post2 in /Users/liangzhiyuan/Projects/autoflow.ai/core/.venv/lib/python3.12/site-packages (from autoflow-ai==0.0.1.dev33) (0.12.24)\r\n",
      "Requirement already satisfied: llama-index-llms-litellm>=0.3.0 in /Users/liangzhiyuan/Projects/autoflow.ai/core/.venv/lib/python3.12/site-packages (from autoflow-ai==0.0.1.dev33) (0.3.0)\r\n",
      "Requirement already satisfied: pytidb-experimental==0.0.1.dev5 in /Users/liangzhiyuan/Projects/autoflow.ai/core/.venv/lib/python3.12/site-packages (from autoflow-ai==0.0.1.dev33) (0.0.1.dev5)\r\n",
      "Requirement already satisfied: pymysql>=1.1.1 in /Users/liangzhiyuan/Projects/autoflow.ai/core/.venv/lib/python3.12/site-packages (from pytidb-experimental==0.0.1.dev5->autoflow-ai==0.0.1.dev33) (1.1.1)\r\n",
      "Requirement already satisfied: sqlmodel==0.0.22 in /Users/liangzhiyuan/Projects/autoflow.ai/core/.venv/lib/python3.12/site-packages (from pytidb-experimental==0.0.1.dev5->autoflow-ai==0.0.1.dev33) (0.0.22)\r\n",
      "Requirement already satisfied: tidb-vector>=0.0.14 in /Users/liangzhiyuan/Projects/autoflow.ai/core/.venv/lib/python3.12/site-packages (from pytidb-experimental==0.0.1.dev5->autoflow-ai==0.0.1.dev33) (0.0.14)\r\n",
      "Requirement already satisfied: SQLAlchemy<2.1.0,>=2.0.14 in /Users/liangzhiyuan/Projects/autoflow.ai/core/.venv/lib/python3.12/site-packages (from sqlmodel==0.0.22->pytidb-experimental==0.0.1.dev5->autoflow-ai==0.0.1.dev33) (2.0.39)\r\n",
      "Requirement already satisfied: pydantic<3.0.0,>=1.10.13 in /Users/liangzhiyuan/Projects/autoflow.ai/core/.venv/lib/python3.12/site-packages (from sqlmodel==0.0.22->pytidb-experimental==0.0.1.dev5->autoflow-ai==0.0.1.dev33) (2.10.6)\r\n",
      "Requirement already satisfied: orderly-set<6,>=5.3.0 in /Users/liangzhiyuan/Projects/autoflow.ai/core/.venv/lib/python3.12/site-packages (from deepdiff>=8.2.0->autoflow-ai==0.0.1.dev33) (5.3.0)\r\n",
      "Requirement already satisfied: aiohttp in /Users/liangzhiyuan/Projects/autoflow.ai/core/.venv/lib/python3.12/site-packages (from litellm>=1.61.11->autoflow-ai==0.0.1.dev33) (3.11.13)\r\n",
      "Requirement already satisfied: click in /Users/liangzhiyuan/Projects/autoflow.ai/core/.venv/lib/python3.12/site-packages (from litellm>=1.61.11->autoflow-ai==0.0.1.dev33) (8.1.8)\r\n",
      "Requirement already satisfied: httpx>=0.23.0 in /Users/liangzhiyuan/Projects/autoflow.ai/core/.venv/lib/python3.12/site-packages (from litellm>=1.61.11->autoflow-ai==0.0.1.dev33) (0.28.1)\r\n",
      "Requirement already satisfied: importlib-metadata>=6.8.0 in /Users/liangzhiyuan/Projects/autoflow.ai/core/.venv/lib/python3.12/site-packages (from litellm>=1.61.11->autoflow-ai==0.0.1.dev33) (8.6.1)\r\n",
      "Requirement already satisfied: jinja2<4.0.0,>=3.1.2 in /Users/liangzhiyuan/Projects/autoflow.ai/core/.venv/lib/python3.12/site-packages (from litellm>=1.61.11->autoflow-ai==0.0.1.dev33) (3.1.6)\r\n",
      "Requirement already satisfied: jsonschema<5.0.0,>=4.22.0 in /Users/liangzhiyuan/Projects/autoflow.ai/core/.venv/lib/python3.12/site-packages (from litellm>=1.61.11->autoflow-ai==0.0.1.dev33) (4.23.0)\r\n",
      "Requirement already satisfied: openai>=1.61.0 in /Users/liangzhiyuan/Projects/autoflow.ai/core/.venv/lib/python3.12/site-packages (from litellm>=1.61.11->autoflow-ai==0.0.1.dev33) (1.66.3)\r\n",
      "Requirement already satisfied: python-dotenv>=0.2.0 in /Users/liangzhiyuan/Projects/autoflow.ai/core/.venv/lib/python3.12/site-packages (from litellm>=1.61.11->autoflow-ai==0.0.1.dev33) (1.0.1)\r\n",
      "Requirement already satisfied: tiktoken>=0.7.0 in /Users/liangzhiyuan/Projects/autoflow.ai/core/.venv/lib/python3.12/site-packages (from litellm>=1.61.11->autoflow-ai==0.0.1.dev33) (0.9.0)\r\n",
      "Requirement already satisfied: tokenizers in /Users/liangzhiyuan/Projects/autoflow.ai/core/.venv/lib/python3.12/site-packages (from litellm>=1.61.11->autoflow-ai==0.0.1.dev33) (0.21.0)\r\n",
      "Requirement already satisfied: PyYAML>=6.0.1 in /Users/liangzhiyuan/Projects/autoflow.ai/core/.venv/lib/python3.12/site-packages (from llama-index-core>=0.12.23.post2->autoflow-ai==0.0.1.dev33) (6.0.2)\r\n",
      "Requirement already satisfied: dataclasses-json in /Users/liangzhiyuan/Projects/autoflow.ai/core/.venv/lib/python3.12/site-packages (from llama-index-core>=0.12.23.post2->autoflow-ai==0.0.1.dev33) (0.6.7)\r\n",
      "Requirement already satisfied: deprecated>=1.2.9.3 in /Users/liangzhiyuan/Projects/autoflow.ai/core/.venv/lib/python3.12/site-packages (from llama-index-core>=0.12.23.post2->autoflow-ai==0.0.1.dev33) (1.2.18)\r\n",
      "Requirement already satisfied: dirtyjson<2.0.0,>=1.0.8 in /Users/liangzhiyuan/Projects/autoflow.ai/core/.venv/lib/python3.12/site-packages (from llama-index-core>=0.12.23.post2->autoflow-ai==0.0.1.dev33) (1.0.8)\r\n",
      "Requirement already satisfied: filetype<2.0.0,>=1.2.0 in /Users/liangzhiyuan/Projects/autoflow.ai/core/.venv/lib/python3.12/site-packages (from llama-index-core>=0.12.23.post2->autoflow-ai==0.0.1.dev33) (1.2.0)\r\n",
      "Requirement already satisfied: fsspec>=2023.5.0 in /Users/liangzhiyuan/Projects/autoflow.ai/core/.venv/lib/python3.12/site-packages (from llama-index-core>=0.12.23.post2->autoflow-ai==0.0.1.dev33) (2024.6.1)\r\n",
      "Requirement already satisfied: nest-asyncio<2.0.0,>=1.5.8 in /Users/liangzhiyuan/Projects/autoflow.ai/core/.venv/lib/python3.12/site-packages (from llama-index-core>=0.12.23.post2->autoflow-ai==0.0.1.dev33) (1.6.0)\r\n",
      "Requirement already satisfied: networkx>=3.0 in /Users/liangzhiyuan/Projects/autoflow.ai/core/.venv/lib/python3.12/site-packages (from llama-index-core>=0.12.23.post2->autoflow-ai==0.0.1.dev33) (3.4.2)\r\n",
      "Requirement already satisfied: nltk>3.8.1 in /Users/liangzhiyuan/Projects/autoflow.ai/core/.venv/lib/python3.12/site-packages (from llama-index-core>=0.12.23.post2->autoflow-ai==0.0.1.dev33) (3.9.1)\r\n",
      "Requirement already satisfied: numpy in /Users/liangzhiyuan/Projects/autoflow.ai/core/.venv/lib/python3.12/site-packages (from llama-index-core>=0.12.23.post2->autoflow-ai==0.0.1.dev33) (1.26.4)\r\n",
      "Requirement already satisfied: pillow>=9.0.0 in /Users/liangzhiyuan/Projects/autoflow.ai/core/.venv/lib/python3.12/site-packages (from llama-index-core>=0.12.23.post2->autoflow-ai==0.0.1.dev33) (11.1.0)\r\n",
      "Requirement already satisfied: requests>=2.31.0 in /Users/liangzhiyuan/Projects/autoflow.ai/core/.venv/lib/python3.12/site-packages (from llama-index-core>=0.12.23.post2->autoflow-ai==0.0.1.dev33) (2.32.3)\r\n",
      "Requirement already satisfied: tenacity!=8.4.0,<10.0.0,>=8.2.0 in /Users/liangzhiyuan/Projects/autoflow.ai/core/.venv/lib/python3.12/site-packages (from llama-index-core>=0.12.23.post2->autoflow-ai==0.0.1.dev33) (9.0.0)\r\n",
      "Requirement already satisfied: tqdm<5.0.0,>=4.66.1 in /Users/liangzhiyuan/Projects/autoflow.ai/core/.venv/lib/python3.12/site-packages (from llama-index-core>=0.12.23.post2->autoflow-ai==0.0.1.dev33) (4.67.1)\r\n",
      "Requirement already satisfied: typing-extensions>=4.5.0 in /Users/liangzhiyuan/Projects/autoflow.ai/core/.venv/lib/python3.12/site-packages (from llama-index-core>=0.12.23.post2->autoflow-ai==0.0.1.dev33) (4.12.2)\r\n",
      "Requirement already satisfied: typing-inspect>=0.8.0 in /Users/liangzhiyuan/Projects/autoflow.ai/core/.venv/lib/python3.12/site-packages (from llama-index-core>=0.12.23.post2->autoflow-ai==0.0.1.dev33) (0.9.0)\r\n",
      "Requirement already satisfied: wrapt in /Users/liangzhiyuan/Projects/autoflow.ai/core/.venv/lib/python3.12/site-packages (from llama-index-core>=0.12.23.post2->autoflow-ai==0.0.1.dev33) (1.17.2)\r\n",
      "Requirement already satisfied: aiohappyeyeballs>=2.3.0 in /Users/liangzhiyuan/Projects/autoflow.ai/core/.venv/lib/python3.12/site-packages (from aiohttp->litellm>=1.61.11->autoflow-ai==0.0.1.dev33) (2.6.1)\r\n",
      "Requirement already satisfied: aiosignal>=1.1.2 in /Users/liangzhiyuan/Projects/autoflow.ai/core/.venv/lib/python3.12/site-packages (from aiohttp->litellm>=1.61.11->autoflow-ai==0.0.1.dev33) (1.3.2)\r\n",
      "Requirement already satisfied: attrs>=17.3.0 in /Users/liangzhiyuan/Projects/autoflow.ai/core/.venv/lib/python3.12/site-packages (from aiohttp->litellm>=1.61.11->autoflow-ai==0.0.1.dev33) (25.2.0)\r\n",
      "Requirement already satisfied: frozenlist>=1.1.1 in /Users/liangzhiyuan/Projects/autoflow.ai/core/.venv/lib/python3.12/site-packages (from aiohttp->litellm>=1.61.11->autoflow-ai==0.0.1.dev33) (1.5.0)\r\n",
      "Requirement already satisfied: multidict<7.0,>=4.5 in /Users/liangzhiyuan/Projects/autoflow.ai/core/.venv/lib/python3.12/site-packages (from aiohttp->litellm>=1.61.11->autoflow-ai==0.0.1.dev33) (6.1.0)\r\n",
      "Requirement already satisfied: propcache>=0.2.0 in /Users/liangzhiyuan/Projects/autoflow.ai/core/.venv/lib/python3.12/site-packages (from aiohttp->litellm>=1.61.11->autoflow-ai==0.0.1.dev33) (0.3.0)\r\n",
      "Requirement already satisfied: yarl<2.0,>=1.17.0 in /Users/liangzhiyuan/Projects/autoflow.ai/core/.venv/lib/python3.12/site-packages (from aiohttp->litellm>=1.61.11->autoflow-ai==0.0.1.dev33) (1.18.3)\r\n",
      "Requirement already satisfied: anyio in /Users/liangzhiyuan/Projects/autoflow.ai/core/.venv/lib/python3.12/site-packages (from httpx>=0.23.0->litellm>=1.61.11->autoflow-ai==0.0.1.dev33) (4.8.0)\r\n",
      "Requirement already satisfied: certifi in /Users/liangzhiyuan/Projects/autoflow.ai/core/.venv/lib/python3.12/site-packages (from httpx>=0.23.0->litellm>=1.61.11->autoflow-ai==0.0.1.dev33) (2025.1.31)\r\n",
      "Requirement already satisfied: httpcore==1.* in /Users/liangzhiyuan/Projects/autoflow.ai/core/.venv/lib/python3.12/site-packages (from httpx>=0.23.0->litellm>=1.61.11->autoflow-ai==0.0.1.dev33) (1.0.7)\r\n",
      "Requirement already satisfied: idna in /Users/liangzhiyuan/Projects/autoflow.ai/core/.venv/lib/python3.12/site-packages (from httpx>=0.23.0->litellm>=1.61.11->autoflow-ai==0.0.1.dev33) (3.10)\r\n",
      "Requirement already satisfied: h11<0.15,>=0.13 in /Users/liangzhiyuan/Projects/autoflow.ai/core/.venv/lib/python3.12/site-packages (from httpcore==1.*->httpx>=0.23.0->litellm>=1.61.11->autoflow-ai==0.0.1.dev33) (0.14.0)\r\n",
      "Requirement already satisfied: zipp>=3.20 in /Users/liangzhiyuan/Projects/autoflow.ai/core/.venv/lib/python3.12/site-packages (from importlib-metadata>=6.8.0->litellm>=1.61.11->autoflow-ai==0.0.1.dev33) (3.21.0)\r\n",
      "Requirement already satisfied: MarkupSafe>=2.0 in /Users/liangzhiyuan/Projects/autoflow.ai/core/.venv/lib/python3.12/site-packages (from jinja2<4.0.0,>=3.1.2->litellm>=1.61.11->autoflow-ai==0.0.1.dev33) (3.0.2)\r\n",
      "Requirement already satisfied: jsonschema-specifications>=2023.03.6 in /Users/liangzhiyuan/Projects/autoflow.ai/core/.venv/lib/python3.12/site-packages (from jsonschema<5.0.0,>=4.22.0->litellm>=1.61.11->autoflow-ai==0.0.1.dev33) (2024.10.1)\r\n",
      "Requirement already satisfied: referencing>=0.28.4 in /Users/liangzhiyuan/Projects/autoflow.ai/core/.venv/lib/python3.12/site-packages (from jsonschema<5.0.0,>=4.22.0->litellm>=1.61.11->autoflow-ai==0.0.1.dev33) (0.36.2)\r\n",
      "Requirement already satisfied: rpds-py>=0.7.1 in /Users/liangzhiyuan/Projects/autoflow.ai/core/.venv/lib/python3.12/site-packages (from jsonschema<5.0.0,>=4.22.0->litellm>=1.61.11->autoflow-ai==0.0.1.dev33) (0.23.1)\r\n",
      "Requirement already satisfied: joblib in /Users/liangzhiyuan/Projects/autoflow.ai/core/.venv/lib/python3.12/site-packages (from nltk>3.8.1->llama-index-core>=0.12.23.post2->autoflow-ai==0.0.1.dev33) (1.4.2)\r\n",
      "Requirement already satisfied: regex>=2021.8.3 in /Users/liangzhiyuan/Projects/autoflow.ai/core/.venv/lib/python3.12/site-packages (from nltk>3.8.1->llama-index-core>=0.12.23.post2->autoflow-ai==0.0.1.dev33) (2024.11.6)\r\n",
      "Requirement already satisfied: distro<2,>=1.7.0 in /Users/liangzhiyuan/Projects/autoflow.ai/core/.venv/lib/python3.12/site-packages (from openai>=1.61.0->litellm>=1.61.11->autoflow-ai==0.0.1.dev33) (1.9.0)\r\n",
      "Requirement already satisfied: jiter<1,>=0.4.0 in /Users/liangzhiyuan/Projects/autoflow.ai/core/.venv/lib/python3.12/site-packages (from openai>=1.61.0->litellm>=1.61.11->autoflow-ai==0.0.1.dev33) (0.9.0)\r\n",
      "Requirement already satisfied: sniffio in /Users/liangzhiyuan/Projects/autoflow.ai/core/.venv/lib/python3.12/site-packages (from openai>=1.61.0->litellm>=1.61.11->autoflow-ai==0.0.1.dev33) (1.3.1)\r\n",
      "Requirement already satisfied: annotated-types>=0.6.0 in /Users/liangzhiyuan/Projects/autoflow.ai/core/.venv/lib/python3.12/site-packages (from pydantic<3.0.0,>=1.10.13->sqlmodel==0.0.22->pytidb-experimental==0.0.1.dev5->autoflow-ai==0.0.1.dev33) (0.7.0)\r\n",
      "Requirement already satisfied: pydantic-core==2.27.2 in /Users/liangzhiyuan/Projects/autoflow.ai/core/.venv/lib/python3.12/site-packages (from pydantic<3.0.0,>=1.10.13->sqlmodel==0.0.22->pytidb-experimental==0.0.1.dev5->autoflow-ai==0.0.1.dev33) (2.27.2)\r\n",
      "Requirement already satisfied: charset-normalizer<4,>=2 in /Users/liangzhiyuan/Projects/autoflow.ai/core/.venv/lib/python3.12/site-packages (from requests>=2.31.0->llama-index-core>=0.12.23.post2->autoflow-ai==0.0.1.dev33) (3.4.1)\r\n",
      "Requirement already satisfied: urllib3<3,>=1.21.1 in /Users/liangzhiyuan/Projects/autoflow.ai/core/.venv/lib/python3.12/site-packages (from requests>=2.31.0->llama-index-core>=0.12.23.post2->autoflow-ai==0.0.1.dev33) (2.3.0)\r\n",
      "Requirement already satisfied: greenlet!=0.4.17 in /Users/liangzhiyuan/Projects/autoflow.ai/core/.venv/lib/python3.12/site-packages (from SQLAlchemy[asyncio]>=1.4.49->llama-index-core>=0.12.23.post2->autoflow-ai==0.0.1.dev33) (3.1.1)\r\n",
      "Requirement already satisfied: mypy-extensions>=0.3.0 in /Users/liangzhiyuan/Projects/autoflow.ai/core/.venv/lib/python3.12/site-packages (from typing-inspect>=0.8.0->llama-index-core>=0.12.23.post2->autoflow-ai==0.0.1.dev33) (1.0.0)\r\n",
      "Requirement already satisfied: marshmallow<4.0.0,>=3.18.0 in /Users/liangzhiyuan/Projects/autoflow.ai/core/.venv/lib/python3.12/site-packages (from dataclasses-json->llama-index-core>=0.12.23.post2->autoflow-ai==0.0.1.dev33) (3.26.1)\r\n",
      "Requirement already satisfied: huggingface-hub<1.0,>=0.16.4 in /Users/liangzhiyuan/Projects/autoflow.ai/core/.venv/lib/python3.12/site-packages (from tokenizers->litellm>=1.61.11->autoflow-ai==0.0.1.dev33) (0.29.3)\r\n",
      "Requirement already satisfied: filelock in /Users/liangzhiyuan/Projects/autoflow.ai/core/.venv/lib/python3.12/site-packages (from huggingface-hub<1.0,>=0.16.4->tokenizers->litellm>=1.61.11->autoflow-ai==0.0.1.dev33) (3.17.0)\r\n",
      "Requirement already satisfied: packaging>=20.9 in /Users/liangzhiyuan/Projects/autoflow.ai/core/.venv/lib/python3.12/site-packages (from huggingface-hub<1.0,>=0.16.4->tokenizers->litellm>=1.61.11->autoflow-ai==0.0.1.dev33) (24.2)\r\n",
      "Downloading autoflow_ai-0.0.1.dev33-py3-none-any.whl (62 kB)\r\n",
      "Installing collected packages: autoflow-ai\r\n",
      "  Attempting uninstall: autoflow-ai\r\n",
      "    Found existing installation: autoflow-ai 0.0.1.dev32\r\n",
      "    Uninstalling autoflow-ai-0.0.1.dev32:\r\n",
      "      Successfully uninstalled autoflow-ai-0.0.1.dev32\r\n",
      "Successfully installed autoflow-ai-0.0.1.dev33\r\n",
      "Note: you may need to restart the kernel to use updated packages.\n",
      "zsh:1: no matches found: autoflow-ai[experiment]==0.0.1.dev33\r\n",
      "Note: you may need to restart the kernel to use updated packages.\n",
      "Collecting ipywidgets\r\n",
      "  Using cached ipywidgets-8.1.5-py3-none-any.whl.metadata (2.3 kB)\r\n",
      "Requirement already satisfied: comm>=0.1.3 in /Users/liangzhiyuan/Projects/autoflow.ai/core/.venv/lib/python3.12/site-packages (from ipywidgets) (0.2.2)\r\n",
      "Requirement already satisfied: ipython>=6.1.0 in /Users/liangzhiyuan/Projects/autoflow.ai/core/.venv/lib/python3.12/site-packages (from ipywidgets) (9.0.2)\r\n",
      "Requirement already satisfied: traitlets>=4.3.1 in /Users/liangzhiyuan/Projects/autoflow.ai/core/.venv/lib/python3.12/site-packages (from ipywidgets) (5.14.3)\r\n",
      "Collecting widgetsnbextension~=4.0.12 (from ipywidgets)\r\n",
      "  Using cached widgetsnbextension-4.0.13-py3-none-any.whl.metadata (1.6 kB)\r\n",
      "Collecting jupyterlab-widgets~=3.0.12 (from ipywidgets)\r\n",
      "  Using cached jupyterlab_widgets-3.0.13-py3-none-any.whl.metadata (4.1 kB)\r\n",
      "Requirement already satisfied: decorator in /Users/liangzhiyuan/Projects/autoflow.ai/core/.venv/lib/python3.12/site-packages (from ipython>=6.1.0->ipywidgets) (5.2.1)\r\n",
      "Requirement already satisfied: ipython-pygments-lexers in /Users/liangzhiyuan/Projects/autoflow.ai/core/.venv/lib/python3.12/site-packages (from ipython>=6.1.0->ipywidgets) (1.1.1)\r\n",
      "Requirement already satisfied: jedi>=0.16 in /Users/liangzhiyuan/Projects/autoflow.ai/core/.venv/lib/python3.12/site-packages (from ipython>=6.1.0->ipywidgets) (0.19.2)\r\n",
      "Requirement already satisfied: matplotlib-inline in /Users/liangzhiyuan/Projects/autoflow.ai/core/.venv/lib/python3.12/site-packages (from ipython>=6.1.0->ipywidgets) (0.1.7)\r\n",
      "Requirement already satisfied: pexpect>4.3 in /Users/liangzhiyuan/Projects/autoflow.ai/core/.venv/lib/python3.12/site-packages (from ipython>=6.1.0->ipywidgets) (4.9.0)\r\n",
      "Requirement already satisfied: prompt_toolkit<3.1.0,>=3.0.41 in /Users/liangzhiyuan/Projects/autoflow.ai/core/.venv/lib/python3.12/site-packages (from ipython>=6.1.0->ipywidgets) (3.0.50)\r\n",
      "Requirement already satisfied: pygments>=2.4.0 in /Users/liangzhiyuan/Projects/autoflow.ai/core/.venv/lib/python3.12/site-packages (from ipython>=6.1.0->ipywidgets) (2.19.1)\r\n",
      "Requirement already satisfied: stack_data in /Users/liangzhiyuan/Projects/autoflow.ai/core/.venv/lib/python3.12/site-packages (from ipython>=6.1.0->ipywidgets) (0.6.3)\r\n",
      "Requirement already satisfied: parso<0.9.0,>=0.8.4 in /Users/liangzhiyuan/Projects/autoflow.ai/core/.venv/lib/python3.12/site-packages (from jedi>=0.16->ipython>=6.1.0->ipywidgets) (0.8.4)\r\n",
      "Requirement already satisfied: ptyprocess>=0.5 in /Users/liangzhiyuan/Projects/autoflow.ai/core/.venv/lib/python3.12/site-packages (from pexpect>4.3->ipython>=6.1.0->ipywidgets) (0.7.0)\r\n",
      "Requirement already satisfied: wcwidth in /Users/liangzhiyuan/Projects/autoflow.ai/core/.venv/lib/python3.12/site-packages (from prompt_toolkit<3.1.0,>=3.0.41->ipython>=6.1.0->ipywidgets) (0.2.13)\r\n",
      "Requirement already satisfied: executing>=1.2.0 in /Users/liangzhiyuan/Projects/autoflow.ai/core/.venv/lib/python3.12/site-packages (from stack_data->ipython>=6.1.0->ipywidgets) (2.2.0)\r\n",
      "Requirement already satisfied: asttokens>=2.1.0 in /Users/liangzhiyuan/Projects/autoflow.ai/core/.venv/lib/python3.12/site-packages (from stack_data->ipython>=6.1.0->ipywidgets) (3.0.0)\r\n",
      "Requirement already satisfied: pure-eval in /Users/liangzhiyuan/Projects/autoflow.ai/core/.venv/lib/python3.12/site-packages (from stack_data->ipython>=6.1.0->ipywidgets) (0.2.3)\r\n",
      "Using cached ipywidgets-8.1.5-py3-none-any.whl (139 kB)\r\n",
      "Using cached jupyterlab_widgets-3.0.13-py3-none-any.whl (214 kB)\r\n",
      "Using cached widgetsnbextension-4.0.13-py3-none-any.whl (2.3 MB)\r\n",
      "Installing collected packages: widgetsnbextension, jupyterlab-widgets, ipywidgets\r\n",
      "Successfully installed ipywidgets-8.1.5 jupyterlab-widgets-3.0.13 widgetsnbextension-4.0.13\r\n",
      "Note: you may need to restart the kernel to use updated packages.\n"
     ]
    }
   ],
   "source": [
    "%pip install autoflow-ai==0.0.1.dev33\n",
    "%pip install autoflow-ai[experiment]==0.0.1.dev33\n",
    "%pip install ipywidgets"
   ]
  },
  {
   "cell_type": "markdown",
   "id": "0b6d5be6",
   "metadata": {},
   "source": [
    "## Prerequisites\n",
    "\n",
    "- Go [tidbcloud.com](https://tidbcloud.com/) or using [tiup playground](https://docs.pingcap.com/tidb/stable/tiup-playground/) to create a free TiDB database cluster.\n",
    "- Go [OpenAI platform](https://platform.openai.com/api-keys) to create your API key."
   ]
  },
  {
   "cell_type": "markdown",
   "id": "66ea056f213efcae",
   "metadata": {},
   "source": [
    "#### For Jupyter Notebook\n",
    "\n",
    "Configuration can be provided through environment variables, or using `.env`:"
   ]
  },
  {
   "cell_type": "code",
   "execution_count": null,
   "id": "7de9ab2c65f1880e",
   "metadata": {},
   "outputs": [],
   "source": [
    "# Create .env file, then edit your .env, for example:\n",
    "# $ cat .env\n",
    "# TIDB_HOST=localhost\n",
    "# TIDB_PORT=4000\n",
    "# TIDB_USERNAME=root\n",
    "# TIDB_PASSWORD=\n",
    "# OPENAI_API_KEY='your_openai_api_key'\n",
    "%cp .env.example .env"
   ]
  },
  {
   "cell_type": "code",
   "id": "b6cdb4d5",
   "metadata": {
    "ExecuteTime": {
     "end_time": "2025-04-14T15:22:57.694002Z",
     "start_time": "2025-04-14T15:22:57.685355Z"
    }
   },
   "source": [
    "import os\n",
    "import dotenv\n",
    "\n",
    "dotenv.load_dotenv()"
   ],
   "outputs": [
    {
     "data": {
      "text/plain": [
       "True"
      ]
     },
     "execution_count": 1,
     "metadata": {},
     "output_type": "execute_result"
    }
   ],
   "execution_count": 1
  },
  {
   "cell_type": "markdown",
   "id": "ae015b5d518734b",
   "metadata": {},
   "source": [
    "#### For Google Colab"
   ]
  },
  {
   "cell_type": "code",
   "execution_count": null,
   "id": "813b85ae694284a5",
   "metadata": {},
   "outputs": [],
   "source": [
    "from google.colab import userdata\n",
    "\n",
    "os.environ[\"TIDB_HOST\"] = userdata.get(\"TIDB_HOST\")\n",
    "os.environ[\"TIDB_PORT\"] = userdata.get(\"TIDB_PORT\")\n",
    "os.environ[\"TIDB_USERNAME\"] = userdata.get(\"TIDB_USERNAME\")\n",
    "os.environ[\"TIDB_PASSWORD\"] = userdata.get(\"TIDB_PASSWORD\")\n",
    "os.environ[\"OPENAI_API_KEY\"] = userdata.get(\"OPENAI_API_KEY\")"
   ]
  },
  {
   "cell_type": "markdown",
   "id": "f8897854c897bf17",
   "metadata": {},
   "source": [
    "## Quickstart"
   ]
  },
  {
   "cell_type": "markdown",
   "id": "a38fde21",
   "metadata": {},
   "source": [
    "### Init Autoflow"
   ]
  },
  {
   "cell_type": "code",
   "id": "84f43a00",
   "metadata": {
    "ExecuteTime": {
     "end_time": "2025-04-14T15:23:01.918804Z",
     "start_time": "2025-04-14T15:22:59.526619Z"
    }
   },
   "source": [
    "import os\n",
    "from autoflow import Autoflow\n",
    "from autoflow.configs.db import DatabaseConfig\n",
    "from autoflow.configs.main import Config\n",
    "\n",
    "af = Autoflow.from_config(\n",
    "    config=Config(\n",
    "        db=DatabaseConfig(\n",
    "            host=os.getenv(\"TIDB_HOST\"),\n",
    "            port=int(os.getenv(\"TIDB_PORT\")),\n",
    "            username=os.getenv(\"TIDB_USERNAME\"),\n",
    "            password=os.getenv(\"TIDB_PASSWORD\"),\n",
    "            database=os.getenv(\"TIDB_DATABASE\"),\n",
    "            enable_ssl=False,\n",
    "        )\n",
    "    )\n",
    ")"
   ],
   "outputs": [],
   "execution_count": 2
  },
  {
   "cell_type": "markdown",
   "id": "5afea9b7",
   "metadata": {},
   "source": [
    "### Create knowledge base"
   ]
  },
  {
   "cell_type": "code",
   "id": "9e1ff63c",
   "metadata": {
    "ExecuteTime": {
     "end_time": "2025-04-14T15:23:03.426394Z",
     "start_time": "2025-04-14T15:23:03.322585Z"
    }
   },
   "source": [
    "from autoflow.configs.knowledge_base import IndexMethod\n",
    "from autoflow.models import llms\n",
    "from autoflow.models.llms import LLM\n",
    "from autoflow.models.embedding_models import EmbeddingModel\n",
    "\n",
    "llm = LLM(\"gpt-4o-mini\")\n",
    "embed_model = EmbeddingModel(\"text-embedding-3-small\")\n",
    "\n",
    "kb = af.create_knowledge_base(\n",
    "    namespace=\"quickstart\",\n",
    "    name=\"New KB\",\n",
    "    description=\"This is a knowledge base for testing\",\n",
    "    index_methods=[IndexMethod.VECTOR_SEARCH, IndexMethod.KNOWLEDGE_GRAPH],\n",
    "    llm=llm,\n",
    "    embedding_model=embed_model,\n",
    ")\n",
    "kb.model_dump_json()"
   ],
   "outputs": [
    {
     "data": {
      "text/plain": [
       "'{\"namespace\":\"quickstart\",\"name\":\"New KB\",\"description\":\"This is a knowledge base for testing\",\"index_methods\":[\"VECTOR_SEARCH\",\"KNOWLEDGE_GRAPH\"],\"class_name\":\"KnowledgeBase\"}'"
      ]
     },
     "execution_count": 3,
     "metadata": {},
     "output_type": "execute_result"
    }
   ],
   "execution_count": 3
  },
  {
   "cell_type": "markdown",
   "id": "4cfc2d80",
   "metadata": {},
   "source": [
    "### Import documents from files"
   ]
  },
  {
   "cell_type": "code",
   "id": "31cb8a5e",
   "metadata": {
    "ExecuteTime": {
     "end_time": "2025-04-14T15:23:05.560332Z",
     "start_time": "2025-04-14T15:23:05.556139Z"
    }
   },
   "source": [
    "from autoflow.chunkers.text import TextChunker\n",
    "from autoflow.configs.chunkers.text import TextChunkerConfig\n",
    "\n",
    "text_chunker = TextChunker(config=TextChunkerConfig(chunk_size=512, chunk_overlap=20))"
   ],
   "outputs": [],
   "execution_count": 4
  },
  {
   "metadata": {
    "ExecuteTime": {
     "end_time": "2025-04-14T15:32:10.475417Z",
     "start_time": "2025-04-14T15:32:10.105769Z"
    }
   },
   "cell_type": "code",
   "source": [
    "from pandas import DataFrame\n",
    "from pandas import set_option\n",
    "\n",
    "set_option(\"display.max_colwidth\", None)"
   ],
   "id": "7a9ffce365d587c1",
   "outputs": [],
   "execution_count": 7
  },
  {
   "cell_type": "code",
   "id": "f729326f",
   "metadata": {
    "ExecuteTime": {
     "end_time": "2025-04-14T15:32:39.248807Z",
     "start_time": "2025-04-14T15:32:12.140463Z"
    }
   },
   "source": [
    "docs = kb.add(\"./fixtures/tidb-overview.md\", chunker=text_chunker)\n",
    "\n",
    "DataFrame(\n",
    "    [(c.id, c.text) for c in docs[0].chunks],\n",
    "    columns=[\"id\", \"text\"],\n",
    ")"
   ],
   "outputs": [
    {
     "name": "stderr",
     "output_type": "stream",
     "text": [
      "/Users/liangzhiyuan/Projects/autoflow.ai/core/.venv/lib/python3.12/site-packages/pydantic/main.py:426: UserWarning: Pydantic serializer warnings:\n",
      "  Expected `list[float]` but got `ndarray` with value `array([-0.04310741, -0.02...2691607], dtype=float32)` - serialized value may not be as expected\n",
      "  return self.__pydantic_serializer__.to_python(\n"
     ]
    },
    {
     "data": {
      "text/plain": [
       "                                     id  \\\n",
       "0  019634ed-f4f3-7a72-ac12-60988c00cf1c   \n",
       "1  019634ed-f4f3-7aed-a440-118a911905db   \n",
       "2  019634ed-f4f3-7b02-8321-ea37b59f666b   \n",
       "\n",
       "                                                                                                                                                                                                                                                                                                                                                                                                                                                                                                                                                                                                                                                                                                                                                                                                                                                                                                                                                                                                                                                                                                                                                                                                                                                                                                                                                                                                                                                                                                                                                                                                                                                                                                                                                                                                                                                                                                                                                                                                                                                                                                                                                                                                                                                                                                                                                                                                          text  \n",
       "0  ---\\ntitle: What is TiDB Self-Managed\\nsummary: Learn about the key features and usage scenarios of TiDB.\\naliases: ['/docs/dev/key-features/','/tidb/dev/key-features','/docs/dev/overview/']\\n---\\n\\n# What is TiDB Self-Managed\\n\\n<!-- Localization note for TiDB:\\n\\n- English: use distributed SQL, and start to emphasize HTAP\\n- Chinese: can keep \"NewSQL\" and emphasize one-stop real-time HTAP (\"一栈式实时 HTAP\")\\n- Japanese: use NewSQL because it is well-recognized\\n\\n-->\\n\\n[TiDB](https://github.com/pingcap/tidb) (/'taɪdiːbi:/, \"Ti\" stands for Titanium) is an open-source distributed SQL database that supports Hybrid Transactional and Analytical Processing (HTAP) workloads. It is MySQL compatible and features horizontal scalability, strong consistency, and high availability. The goal of TiDB is to provide users with a one-stop database solution that covers OLTP (Online Transactional Processing), OLAP (Online Analytical Processing), and HTAP services. TiDB is suitable for various use cases that require high availability and strong consistency with large-scale data.\\n\\nTiDB Self-Managed is a product option of TiDB, where users or organizations can deploy and manage TiDB on their own infrastructure with complete flexibility. With TiDB Self-Managed, you can enjoy the power of open source, distributed SQL while retaining full control over your environment.\\n\\nThe following video introduces key features of TiDB.\\n\\n<iframe width=\"600\" height=\"450\" src=\"https://www.youtube.com/embed/aWBNNPm21zg?enablejsapi=1\" title=\"Why TiDB?\" frameborder=\"0\" allow=\"accelerometer; autoplay; clipboard-write; encrypted-media; gyroscope; picture-in-picture\" allowfullscreen></iframe>\\n\\n## Key features\\n\\n- **Easy horizontal scaling**\\n\\n  The TiDB architecture design separates computing from storage, letting you scale out or scale in the computing or storage capacity online as needed. The scaling process is transparent to application operations and maintenance staff.\\n\\n- **Financial-grade high availability**\\n\\n  Data is stored in multiple replicas, and the Multi-Raft protocol is used to obtain the transaction log. A transaction can only be committed when data has been successfully written into the majority of replicas. This guarantees strong consistency and availability when a minority of replicas go down.  \n",
       "1                                                                                                                                                                            This guarantees strong consistency and availability when a minority of replicas go down. You can configure the geographic location and number of replicas as needed to meet different disaster tolerance levels.\\n\\n- **Real-time HTAP**\\n\\n  TiDB provides two storage engines: [TiKV](/tikv-overview.md), a row-based storage engine, and [TiFlash](/tiflash/tiflash-overview.md), a columnar storage engine. \\n\\n  TiFlash uses the Multi-Raft Learner protocol to replicate data from TiKV in real time, ensuring consistent data between the TiKV row-based storage engine and the TiFlash columnar storage engine. TiKV and TiFlash can be deployed on different machines as needed to solve the problem of HTAP resource isolation.\\n\\n- **Cloud-native distributed database**\\n\\n  TiDB is a distributed database designed for the cloud, providing flexible scalability, reliability, and security on the cloud platform. Users can elastically scale TiDB to meet the requirements of their changing workloads. In TiDB, each piece of data has at least 3 replicas, which can be scheduled in different cloud availability zones to tolerate the outage of a whole data center. [TiDB Operator](https://docs.pingcap.com/tidb-in-kubernetes/stable/tidb-operator-overview) helps manage TiDB on Kubernetes and automates tasks related to operating the TiDB cluster, making TiDB easier to deploy on any cloud that provides managed Kubernetes. [TiDB Cloud](https://pingcap.com/tidb-cloud/), the fully-managed TiDB service, is the easiest, most economical, and most resilient way to unlock the full power of [TiDB in the cloud](https://docs.pingcap.com/tidbcloud/), allowing you to deploy and run TiDB clusters with just a few clicks.\\n\\n- **Compatible with the MySQL protocol and MySQL ecosystem**\\n\\n  TiDB is compatible with the MySQL protocol, common features of MySQL, and the MySQL ecosystem. To migrate applications to TiDB, you do not need to change a single line of code in many cases, or only need to modify a small amount of code. In addition, TiDB provides a series of [data migration tools](/ecosystem-tool-user-guide.md) to help easily migrate application data into TiDB.  \n",
       "2                                                                                                                                                                                                                                                                                                                                                                                                                                                                                                                                                                                                                                                                                                                                                                                                                                                                                                                                                                                                                                                                                                                                                                                                                                                                                                                                                                                                                                                                                                                                                                                                                                                                                                                                                                                                                                                                                                                                                                                                                                                                                                                                                                                                                            ## See also\\n\\n- [TiDB Architecture](/tidb-architecture.md)\\n- [TiDB Storage](/tidb-storage.md)\\n- [TiDB Computing](/tidb-computing.md)\\n- [TiDB Scheduling](/tidb-scheduling.md)  "
      ],
      "text/html": [
       "<div>\n",
       "<style scoped>\n",
       "    .dataframe tbody tr th:only-of-type {\n",
       "        vertical-align: middle;\n",
       "    }\n",
       "\n",
       "    .dataframe tbody tr th {\n",
       "        vertical-align: top;\n",
       "    }\n",
       "\n",
       "    .dataframe thead th {\n",
       "        text-align: right;\n",
       "    }\n",
       "</style>\n",
       "<table border=\"1\" class=\"dataframe\">\n",
       "  <thead>\n",
       "    <tr style=\"text-align: right;\">\n",
       "      <th></th>\n",
       "      <th>id</th>\n",
       "      <th>text</th>\n",
       "    </tr>\n",
       "  </thead>\n",
       "  <tbody>\n",
       "    <tr>\n",
       "      <th>0</th>\n",
       "      <td>019634ed-f4f3-7a72-ac12-60988c00cf1c</td>\n",
       "      <td>---\\ntitle: What is TiDB Self-Managed\\nsummary: Learn about the key features and usage scenarios of TiDB.\\naliases: ['/docs/dev/key-features/','/tidb/dev/key-features','/docs/dev/overview/']\\n---\\n\\n# What is TiDB Self-Managed\\n\\n&lt;!-- Localization note for TiDB:\\n\\n- English: use distributed SQL, and start to emphasize HTAP\\n- Chinese: can keep \"NewSQL\" and emphasize one-stop real-time HTAP (\"一栈式实时 HTAP\")\\n- Japanese: use NewSQL because it is well-recognized\\n\\n--&gt;\\n\\n[TiDB](https://github.com/pingcap/tidb) (/'taɪdiːbi:/, \"Ti\" stands for Titanium) is an open-source distributed SQL database that supports Hybrid Transactional and Analytical Processing (HTAP) workloads. It is MySQL compatible and features horizontal scalability, strong consistency, and high availability. The goal of TiDB is to provide users with a one-stop database solution that covers OLTP (Online Transactional Processing), OLAP (Online Analytical Processing), and HTAP services. TiDB is suitable for various use cases that require high availability and strong consistency with large-scale data.\\n\\nTiDB Self-Managed is a product option of TiDB, where users or organizations can deploy and manage TiDB on their own infrastructure with complete flexibility. With TiDB Self-Managed, you can enjoy the power of open source, distributed SQL while retaining full control over your environment.\\n\\nThe following video introduces key features of TiDB.\\n\\n&lt;iframe width=\"600\" height=\"450\" src=\"https://www.youtube.com/embed/aWBNNPm21zg?enablejsapi=1\" title=\"Why TiDB?\" frameborder=\"0\" allow=\"accelerometer; autoplay; clipboard-write; encrypted-media; gyroscope; picture-in-picture\" allowfullscreen&gt;&lt;/iframe&gt;\\n\\n## Key features\\n\\n- **Easy horizontal scaling**\\n\\n  The TiDB architecture design separates computing from storage, letting you scale out or scale in the computing or storage capacity online as needed. The scaling process is transparent to application operations and maintenance staff.\\n\\n- **Financial-grade high availability**\\n\\n  Data is stored in multiple replicas, and the Multi-Raft protocol is used to obtain the transaction log. A transaction can only be committed when data has been successfully written into the majority of replicas. This guarantees strong consistency and availability when a minority of replicas go down.</td>\n",
       "    </tr>\n",
       "    <tr>\n",
       "      <th>1</th>\n",
       "      <td>019634ed-f4f3-7aed-a440-118a911905db</td>\n",
       "      <td>This guarantees strong consistency and availability when a minority of replicas go down. You can configure the geographic location and number of replicas as needed to meet different disaster tolerance levels.\\n\\n- **Real-time HTAP**\\n\\n  TiDB provides two storage engines: [TiKV](/tikv-overview.md), a row-based storage engine, and [TiFlash](/tiflash/tiflash-overview.md), a columnar storage engine. \\n\\n  TiFlash uses the Multi-Raft Learner protocol to replicate data from TiKV in real time, ensuring consistent data between the TiKV row-based storage engine and the TiFlash columnar storage engine. TiKV and TiFlash can be deployed on different machines as needed to solve the problem of HTAP resource isolation.\\n\\n- **Cloud-native distributed database**\\n\\n  TiDB is a distributed database designed for the cloud, providing flexible scalability, reliability, and security on the cloud platform. Users can elastically scale TiDB to meet the requirements of their changing workloads. In TiDB, each piece of data has at least 3 replicas, which can be scheduled in different cloud availability zones to tolerate the outage of a whole data center. [TiDB Operator](https://docs.pingcap.com/tidb-in-kubernetes/stable/tidb-operator-overview) helps manage TiDB on Kubernetes and automates tasks related to operating the TiDB cluster, making TiDB easier to deploy on any cloud that provides managed Kubernetes. [TiDB Cloud](https://pingcap.com/tidb-cloud/), the fully-managed TiDB service, is the easiest, most economical, and most resilient way to unlock the full power of [TiDB in the cloud](https://docs.pingcap.com/tidbcloud/), allowing you to deploy and run TiDB clusters with just a few clicks.\\n\\n- **Compatible with the MySQL protocol and MySQL ecosystem**\\n\\n  TiDB is compatible with the MySQL protocol, common features of MySQL, and the MySQL ecosystem. To migrate applications to TiDB, you do not need to change a single line of code in many cases, or only need to modify a small amount of code. In addition, TiDB provides a series of [data migration tools](/ecosystem-tool-user-guide.md) to help easily migrate application data into TiDB.</td>\n",
       "    </tr>\n",
       "    <tr>\n",
       "      <th>2</th>\n",
       "      <td>019634ed-f4f3-7b02-8321-ea37b59f666b</td>\n",
       "      <td>## See also\\n\\n- [TiDB Architecture](/tidb-architecture.md)\\n- [TiDB Storage](/tidb-storage.md)\\n- [TiDB Computing](/tidb-computing.md)\\n- [TiDB Scheduling](/tidb-scheduling.md)</td>\n",
       "    </tr>\n",
       "  </tbody>\n",
       "</table>\n",
       "</div>"
      ]
     },
     "execution_count": 8,
     "metadata": {},
     "output_type": "execute_result"
    }
   ],
   "execution_count": 8
  },
  {
   "cell_type": "markdown",
   "id": "84fd9b606e6a11a5",
   "metadata": {},
   "source": [
    "### Search Documents"
   ]
  },
  {
   "cell_type": "code",
   "id": "259ad7a9",
   "metadata": {
    "ExecuteTime": {
     "end_time": "2025-04-14T15:32:47.574327Z",
     "start_time": "2025-04-14T15:32:47.557180Z"
    }
   },
   "source": [
    "result = kb.search_documents(\n",
    "    query=\"What is TiDB?\",\n",
    "    top_k=2,\n",
    ")\n",
    "\n",
    "DataFrame(\n",
    "    [(c.score, c.text) for c in result.chunks],\n",
    "    columns=[\"score\", \"text\"],\n",
    ")"
   ],
   "outputs": [
    {
     "data": {
      "text/plain": [
       "      score  \\\n",
       "0  0.687499   \n",
       "1  0.687499   \n",
       "\n",
       "                                                                                                                                                                                text  \n",
       "0  ## See also\\n\\n- [TiDB Architecture](/tidb-architecture.md)\\n- [TiDB Storage](/tidb-storage.md)\\n- [TiDB Computing](/tidb-computing.md)\\n- [TiDB Scheduling](/tidb-scheduling.md)  \n",
       "1  ## See also\\n\\n- [TiDB Architecture](/tidb-architecture.md)\\n- [TiDB Storage](/tidb-storage.md)\\n- [TiDB Computing](/tidb-computing.md)\\n- [TiDB Scheduling](/tidb-scheduling.md)  "
      ],
      "text/html": [
       "<div>\n",
       "<style scoped>\n",
       "    .dataframe tbody tr th:only-of-type {\n",
       "        vertical-align: middle;\n",
       "    }\n",
       "\n",
       "    .dataframe tbody tr th {\n",
       "        vertical-align: top;\n",
       "    }\n",
       "\n",
       "    .dataframe thead th {\n",
       "        text-align: right;\n",
       "    }\n",
       "</style>\n",
       "<table border=\"1\" class=\"dataframe\">\n",
       "  <thead>\n",
       "    <tr style=\"text-align: right;\">\n",
       "      <th></th>\n",
       "      <th>score</th>\n",
       "      <th>text</th>\n",
       "    </tr>\n",
       "  </thead>\n",
       "  <tbody>\n",
       "    <tr>\n",
       "      <th>0</th>\n",
       "      <td>0.687499</td>\n",
       "      <td>## See also\\n\\n- [TiDB Architecture](/tidb-architecture.md)\\n- [TiDB Storage](/tidb-storage.md)\\n- [TiDB Computing](/tidb-computing.md)\\n- [TiDB Scheduling](/tidb-scheduling.md)</td>\n",
       "    </tr>\n",
       "    <tr>\n",
       "      <th>1</th>\n",
       "      <td>0.687499</td>\n",
       "      <td>## See also\\n\\n- [TiDB Architecture](/tidb-architecture.md)\\n- [TiDB Storage](/tidb-storage.md)\\n- [TiDB Computing](/tidb-computing.md)\\n- [TiDB Scheduling](/tidb-scheduling.md)</td>\n",
       "    </tr>\n",
       "  </tbody>\n",
       "</table>\n",
       "</div>"
      ]
     },
     "execution_count": 9,
     "metadata": {},
     "output_type": "execute_result"
    }
   ],
   "execution_count": 9
  },
  {
   "cell_type": "markdown",
   "id": "f2a0de8057cdf16b",
   "metadata": {},
   "source": [
    "### Search Knowledge Graph"
   ]
  },
  {
   "cell_type": "code",
   "id": "6fc5bc93",
   "metadata": {
    "ExecuteTime": {
     "end_time": "2025-04-14T15:36:28.929003Z",
     "start_time": "2025-04-14T15:36:28.890975Z"
    }
   },
   "source": [
    "kg = kb.search_knowledge_graph(\n",
    "    query=\"What is TiDB?\",\n",
    ")\n",
    "\n",
    "DataFrame(\n",
    "    [(r.description, r.score) for r in kg.relationships],\n",
    "    columns=[\"relation\", \"score\"],\n",
    ")"
   ],
   "outputs": [
    {
     "name": "stderr",
     "output_type": "stream",
     "text": [
      "/Users/liangzhiyuan/Projects/autoflow.ai/core/.venv/lib/python3.12/site-packages/pydantic/main.py:426: UserWarning: Pydantic serializer warnings:\n",
      "  Expected `list[float]` but got `ndarray` with value `array([-0.05912   , -0.01...0282664], dtype=float32)` - serialized value may not be as expected\n",
      "  return self.__pydantic_serializer__.to_python(\n",
      "/Users/liangzhiyuan/Projects/autoflow.ai/core/.venv/lib/python3.12/site-packages/pydantic/main.py:426: UserWarning: Pydantic serializer warnings:\n",
      "  Expected `list[float]` but got `ndarray` with value `array([0.03591861, 0.0189...104106 ], dtype=float32)` - serialized value may not be as expected\n",
      "  return self.__pydantic_serializer__.to_python(\n",
      "/Users/liangzhiyuan/Projects/autoflow.ai/core/.venv/lib/python3.12/site-packages/pydantic/main.py:426: UserWarning: Pydantic serializer warnings:\n",
      "  Expected `list[float]` but got `ndarray` with value `array([-0.00068632, -0.05...2822509], dtype=float32)` - serialized value may not be as expected\n",
      "  return self.__pydantic_serializer__.to_python(\n",
      "/Users/liangzhiyuan/Projects/autoflow.ai/core/.venv/lib/python3.12/site-packages/pydantic/main.py:426: UserWarning: Pydantic serializer warnings:\n",
      "  Expected `list[float]` but got `ndarray` with value `array([-0.04539546,  0.00...1088327], dtype=float32)` - serialized value may not be as expected\n",
      "  return self.__pydantic_serializer__.to_python(\n",
      "/Users/liangzhiyuan/Projects/autoflow.ai/core/.venv/lib/python3.12/site-packages/pydantic/main.py:426: UserWarning: Pydantic serializer warnings:\n",
      "  Expected `list[float]` but got `ndarray` with value `array([-0.0378481 , -0.02...2477005], dtype=float32)` - serialized value may not be as expected\n",
      "  return self.__pydantic_serializer__.to_python(\n",
      "/Users/liangzhiyuan/Projects/autoflow.ai/core/.venv/lib/python3.12/site-packages/pydantic/main.py:426: UserWarning: Pydantic serializer warnings:\n",
      "  Expected `list[float]` but got `ndarray` with value `array([-0.02177911, -0.03...1757676], dtype=float32)` - serialized value may not be as expected\n",
      "  return self.__pydantic_serializer__.to_python(\n",
      "/Users/liangzhiyuan/Projects/autoflow.ai/core/.venv/lib/python3.12/site-packages/pydantic/main.py:426: UserWarning: Pydantic serializer warnings:\n",
      "  Expected `list[float]` but got `ndarray` with value `array([-0.04465897, -0.02...3735751], dtype=float32)` - serialized value may not be as expected\n",
      "  return self.__pydantic_serializer__.to_python(\n",
      "/Users/liangzhiyuan/Projects/autoflow.ai/core/.venv/lib/python3.12/site-packages/pydantic/main.py:426: UserWarning: Pydantic serializer warnings:\n",
      "  Expected `list[float]` but got `ndarray` with value `array([-0.00976748, -0.02...2455574], dtype=float32)` - serialized value may not be as expected\n",
      "  return self.__pydantic_serializer__.to_python(\n",
      "/Users/liangzhiyuan/Projects/autoflow.ai/core/.venv/lib/python3.12/site-packages/pydantic/main.py:426: UserWarning: Pydantic serializer warnings:\n",
      "  Expected `list[float]` but got `ndarray` with value `array([-0.04310741, -0.02...2691607], dtype=float32)` - serialized value may not be as expected\n",
      "  return self.__pydantic_serializer__.to_python(\n"
     ]
    },
    {
     "data": {
      "text/plain": [
       "                                                                                                        relation  \\\n",
       "0                TiDB provides TiKV as a row-based storage engine to ensure strong consistency and availability.   \n",
       "1         TiDB also supports Online Analytical Processing (OLAP) as part of its comprehensive database services.   \n",
       "2                                                              TiDB uses TiFlash as its columnar storage engine.   \n",
       "3                                                              TiDB uses TiFlash as its columnar storage engine.   \n",
       "4                                                    TiDB provides Online Analytical Processing (OLAP) services.   \n",
       "5                                                  TiDB provides OLTP services as part of its database solution.   \n",
       "6              TiDB supports HTAP workloads, allowing it to handle both transactional and analytical processing.   \n",
       "7                                                TiDB provides services for Online Analytical Processing (OLAP).   \n",
       "8   TiDB uses the Multi-Raft protocol to ensure strong consistency and availability through transaction logging.   \n",
       "9                       TiDB provides the TiFlash columnar storage engine to complement the TiKV storage engine.   \n",
       "10                                                               TiDB uses TiKV as its row-based storage engine.   \n",
       "11                                                             TiDB uses TiFlash as its columnar storage engine.   \n",
       "12                                                 TiDB provides OLAP services as part of its database solution.   \n",
       "13                      TiDB uses the Multi-Raft protocol to ensure strong consistency and availability of data.   \n",
       "14                                                               TiDB uses TiKV as its row-based storage engine.   \n",
       "15        TiDB also supports Online Analytical Processing (OLAP) as part of its comprehensive database services.   \n",
       "16                                                               TiDB uses TiKV as its row-based storage engine.   \n",
       "17                                  TiDB provides the TiKV row-based storage engine as part of its architecture.   \n",
       "18  TiDB provides two storage engines: TiKV, a row-based storage engine, and TiFlash, a columnar storage engine.   \n",
       "19                                               TiDB provides services for Online Analytical Processing (OLAP).   \n",
       "\n",
       "       score  \n",
       "0   6.084352  \n",
       "1   5.229995  \n",
       "2   5.122960  \n",
       "3   5.122960  \n",
       "4   5.369752  \n",
       "5   5.263002  \n",
       "6   5.057260  \n",
       "7   5.380857  \n",
       "8   4.997670  \n",
       "9   5.156526  \n",
       "10  6.173755  \n",
       "11  5.122960  \n",
       "12  5.505500  \n",
       "13  5.050053  \n",
       "14  6.173755  \n",
       "15  5.229995  \n",
       "16  6.173755  \n",
       "17  6.065937  \n",
       "18  5.405501  \n",
       "19  5.380857  "
      ],
      "text/html": [
       "<div>\n",
       "<style scoped>\n",
       "    .dataframe tbody tr th:only-of-type {\n",
       "        vertical-align: middle;\n",
       "    }\n",
       "\n",
       "    .dataframe tbody tr th {\n",
       "        vertical-align: top;\n",
       "    }\n",
       "\n",
       "    .dataframe thead th {\n",
       "        text-align: right;\n",
       "    }\n",
       "</style>\n",
       "<table border=\"1\" class=\"dataframe\">\n",
       "  <thead>\n",
       "    <tr style=\"text-align: right;\">\n",
       "      <th></th>\n",
       "      <th>relation</th>\n",
       "      <th>score</th>\n",
       "    </tr>\n",
       "  </thead>\n",
       "  <tbody>\n",
       "    <tr>\n",
       "      <th>0</th>\n",
       "      <td>TiDB provides TiKV as a row-based storage engine to ensure strong consistency and availability.</td>\n",
       "      <td>6.084352</td>\n",
       "    </tr>\n",
       "    <tr>\n",
       "      <th>1</th>\n",
       "      <td>TiDB also supports Online Analytical Processing (OLAP) as part of its comprehensive database services.</td>\n",
       "      <td>5.229995</td>\n",
       "    </tr>\n",
       "    <tr>\n",
       "      <th>2</th>\n",
       "      <td>TiDB uses TiFlash as its columnar storage engine.</td>\n",
       "      <td>5.122960</td>\n",
       "    </tr>\n",
       "    <tr>\n",
       "      <th>3</th>\n",
       "      <td>TiDB uses TiFlash as its columnar storage engine.</td>\n",
       "      <td>5.122960</td>\n",
       "    </tr>\n",
       "    <tr>\n",
       "      <th>4</th>\n",
       "      <td>TiDB provides Online Analytical Processing (OLAP) services.</td>\n",
       "      <td>5.369752</td>\n",
       "    </tr>\n",
       "    <tr>\n",
       "      <th>5</th>\n",
       "      <td>TiDB provides OLTP services as part of its database solution.</td>\n",
       "      <td>5.263002</td>\n",
       "    </tr>\n",
       "    <tr>\n",
       "      <th>6</th>\n",
       "      <td>TiDB supports HTAP workloads, allowing it to handle both transactional and analytical processing.</td>\n",
       "      <td>5.057260</td>\n",
       "    </tr>\n",
       "    <tr>\n",
       "      <th>7</th>\n",
       "      <td>TiDB provides services for Online Analytical Processing (OLAP).</td>\n",
       "      <td>5.380857</td>\n",
       "    </tr>\n",
       "    <tr>\n",
       "      <th>8</th>\n",
       "      <td>TiDB uses the Multi-Raft protocol to ensure strong consistency and availability through transaction logging.</td>\n",
       "      <td>4.997670</td>\n",
       "    </tr>\n",
       "    <tr>\n",
       "      <th>9</th>\n",
       "      <td>TiDB provides the TiFlash columnar storage engine to complement the TiKV storage engine.</td>\n",
       "      <td>5.156526</td>\n",
       "    </tr>\n",
       "    <tr>\n",
       "      <th>10</th>\n",
       "      <td>TiDB uses TiKV as its row-based storage engine.</td>\n",
       "      <td>6.173755</td>\n",
       "    </tr>\n",
       "    <tr>\n",
       "      <th>11</th>\n",
       "      <td>TiDB uses TiFlash as its columnar storage engine.</td>\n",
       "      <td>5.122960</td>\n",
       "    </tr>\n",
       "    <tr>\n",
       "      <th>12</th>\n",
       "      <td>TiDB provides OLAP services as part of its database solution.</td>\n",
       "      <td>5.505500</td>\n",
       "    </tr>\n",
       "    <tr>\n",
       "      <th>13</th>\n",
       "      <td>TiDB uses the Multi-Raft protocol to ensure strong consistency and availability of data.</td>\n",
       "      <td>5.050053</td>\n",
       "    </tr>\n",
       "    <tr>\n",
       "      <th>14</th>\n",
       "      <td>TiDB uses TiKV as its row-based storage engine.</td>\n",
       "      <td>6.173755</td>\n",
       "    </tr>\n",
       "    <tr>\n",
       "      <th>15</th>\n",
       "      <td>TiDB also supports Online Analytical Processing (OLAP) as part of its comprehensive database services.</td>\n",
       "      <td>5.229995</td>\n",
       "    </tr>\n",
       "    <tr>\n",
       "      <th>16</th>\n",
       "      <td>TiDB uses TiKV as its row-based storage engine.</td>\n",
       "      <td>6.173755</td>\n",
       "    </tr>\n",
       "    <tr>\n",
       "      <th>17</th>\n",
       "      <td>TiDB provides the TiKV row-based storage engine as part of its architecture.</td>\n",
       "      <td>6.065937</td>\n",
       "    </tr>\n",
       "    <tr>\n",
       "      <th>18</th>\n",
       "      <td>TiDB provides two storage engines: TiKV, a row-based storage engine, and TiFlash, a columnar storage engine.</td>\n",
       "      <td>5.405501</td>\n",
       "    </tr>\n",
       "    <tr>\n",
       "      <th>19</th>\n",
       "      <td>TiDB provides services for Online Analytical Processing (OLAP).</td>\n",
       "      <td>5.380857</td>\n",
       "    </tr>\n",
       "  </tbody>\n",
       "</table>\n",
       "</div>"
      ]
     },
     "execution_count": 16,
     "metadata": {},
     "output_type": "execute_result"
    }
   ],
   "execution_count": 16
  }
 ],
 "metadata": {
  "kernelspec": {
   "display_name": ".venv",
   "language": "python",
   "name": "python3"
  },
  "language_info": {
   "codemirror_mode": {
    "name": "ipython",
    "version": 3
   },
   "file_extension": ".py",
   "mimetype": "text/x-python",
   "name": "python",
   "nbconvert_exporter": "python",
   "pygments_lexer": "ipython3",
   "version": "3.12.4"
  }
 },
 "nbformat": 4,
 "nbformat_minor": 5
}
