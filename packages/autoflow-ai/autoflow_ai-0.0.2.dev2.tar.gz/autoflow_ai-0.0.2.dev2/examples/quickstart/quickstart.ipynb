{
 "cells": [
  {
   "cell_type": "markdown",
   "id": "b7e2255151321350",
   "metadata": {},
   "source": [
    "# Autoflow\n",
    "\n",
    "Autoflow is a RAG framework supported:\n",
    "\n",
    "- Vector Search Based RAG\n",
    "- Knowledge Graph Based RAG (aka. GraphRAG)\n",
    "- Knowledge Base and Document Management"
   ]
  },
  {
   "cell_type": "markdown",
   "id": "f4c3f49f",
   "metadata": {},
   "source": [
    "## Installation"
   ]
  },
  {
   "cell_type": "code",
   "id": "7bbed79850462cfe",
   "metadata": {
    "ExecuteTime": {
     "end_time": "2025-04-14T15:57:22.646545Z",
     "start_time": "2025-04-14T15:57:21.797702Z"
    }
   },
   "source": "%pip install -q autoflow-ai==0.0.2.dev1 ipywidgets",
   "outputs": [
    {
     "name": "stdout",
     "output_type": "stream",
     "text": [
      "Note: you may need to restart the kernel to use updated packages.\n"
     ]
    }
   ],
   "execution_count": 1
  },
  {
   "cell_type": "markdown",
   "id": "0b6d5be6",
   "metadata": {},
   "source": [
    "## Prerequisites\n",
    "\n",
    "- Go [tidbcloud.com](https://tidbcloud.com/) or using [tiup playground](https://docs.pingcap.com/tidb/stable/tiup-playground/) to create a free TiDB database cluster.\n",
    "- Go [OpenAI platform](https://platform.openai.com/api-keys) to create your API key."
   ]
  },
  {
   "cell_type": "markdown",
   "id": "66ea056f213efcae",
   "metadata": {},
   "source": [
    "#### For Jupyter Notebook\n",
    "\n",
    "Configuration can be provided through environment variables, or using `.env`:"
   ]
  },
  {
   "cell_type": "code",
   "id": "7de9ab2c65f1880e",
   "metadata": {
    "ExecuteTime": {
     "end_time": "2025-04-14T15:57:22.661559Z",
     "start_time": "2025-04-14T15:57:22.650772Z"
    }
   },
   "source": [
    "%%bash\n",
    "\n",
    "# Check if the .env file is existing.\n",
    "if [ -f .env ]; then\n",
    "    exit 0\n",
    "fi\n",
    "\n",
    "# Create .env file with your configuration.\n",
    "cat > .env <<EOF\n",
    "TIDB_HOST=localhost\n",
    "TIDB_PORT=4000\n",
    "TIDB_USERNAME=root\n",
    "TIDB_PASSWORD=\n",
    "TIDB_DATABASE=test\n",
    "OPENAI_API_KEY='your_openai_api_key'\n",
    "EOF"
   ],
   "outputs": [],
   "execution_count": 2
  },
  {
   "cell_type": "code",
   "id": "b6cdb4d5",
   "metadata": {
    "ExecuteTime": {
     "end_time": "2025-04-14T15:57:22.750034Z",
     "start_time": "2025-04-14T15:57:22.743915Z"
    }
   },
   "source": [
    "import os\n",
    "import dotenv\n",
    "\n",
    "dotenv.load_dotenv()"
   ],
   "outputs": [
    {
     "data": {
      "text/plain": [
       "True"
      ]
     },
     "execution_count": 3,
     "metadata": {},
     "output_type": "execute_result"
    }
   ],
   "execution_count": 3
  },
  {
   "cell_type": "markdown",
   "id": "f8897854c897bf17",
   "metadata": {},
   "source": [
    "## Quickstart"
   ]
  },
  {
   "cell_type": "markdown",
   "id": "a38fde21",
   "metadata": {},
   "source": [
    "### Init Autoflow"
   ]
  },
  {
   "cell_type": "code",
   "id": "84f43a00",
   "metadata": {
    "ExecuteTime": {
     "end_time": "2025-04-14T15:57:25.185026Z",
     "start_time": "2025-04-14T15:57:22.754212Z"
    }
   },
   "source": [
    "import os\n",
    "from autoflow import Autoflow\n",
    "from autoflow.configs.db import DatabaseConfig\n",
    "from autoflow.configs.main import Config\n",
    "\n",
    "af = Autoflow.from_config(\n",
    "    config=Config(\n",
    "        db=DatabaseConfig(\n",
    "            host=os.getenv(\"TIDB_HOST\"),\n",
    "            port=int(os.getenv(\"TIDB_PORT\")),\n",
    "            username=os.getenv(\"TIDB_USERNAME\"),\n",
    "            password=os.getenv(\"TIDB_PASSWORD\"),\n",
    "            database=os.getenv(\"TIDB_DATABASE\"),\n",
    "            enable_ssl=False,\n",
    "        )\n",
    "    )\n",
    ")"
   ],
   "outputs": [],
   "execution_count": 4
  },
  {
   "cell_type": "markdown",
   "id": "5afea9b7",
   "metadata": {},
   "source": [
    "### Create knowledge base"
   ]
  },
  {
   "cell_type": "code",
   "id": "9e1ff63c",
   "metadata": {
    "ExecuteTime": {
     "end_time": "2025-04-14T15:57:25.244040Z",
     "start_time": "2025-04-14T15:57:25.193969Z"
    }
   },
   "source": [
    "from autoflow.configs.knowledge_base import IndexMethod\n",
    "from autoflow.models import llms\n",
    "from autoflow.models.llms import LLM\n",
    "from autoflow.models.embedding_models import EmbeddingModel\n",
    "\n",
    "llm = LLM(\"gpt-4o-mini\")\n",
    "embed_model = EmbeddingModel(\"text-embedding-3-small\")\n",
    "\n",
    "kb = af.create_knowledge_base(\n",
    "    namespace=\"quickstart\",\n",
    "    name=\"New KB\",\n",
    "    description=\"This is a knowledge base for testing\",\n",
    "    index_methods=[IndexMethod.VECTOR_SEARCH, IndexMethod.KNOWLEDGE_GRAPH],\n",
    "    llm=llm,\n",
    "    embedding_model=embed_model,\n",
    ")\n",
    "kb.model_dump_json()"
   ],
   "outputs": [
    {
     "data": {
      "text/plain": [
       "'{\"namespace\":\"quickstart\",\"name\":\"New KB\",\"description\":\"This is a knowledge base for testing\",\"index_methods\":[\"VECTOR_SEARCH\",\"KNOWLEDGE_GRAPH\"],\"class_name\":\"KnowledgeBase\"}'"
      ]
     },
     "execution_count": 5,
     "metadata": {},
     "output_type": "execute_result"
    }
   ],
   "execution_count": 5
  },
  {
   "metadata": {},
   "cell_type": "markdown",
   "source": "### Custom Chunker",
   "id": "d4ac8a82485d4232"
  },
  {
   "metadata": {
    "ExecuteTime": {
     "end_time": "2025-04-14T15:57:25.251046Z",
     "start_time": "2025-04-14T15:57:25.247124Z"
    }
   },
   "cell_type": "code",
   "source": [
    "from autoflow.chunkers.text import TextChunker\n",
    "from autoflow.configs.chunkers.text import TextChunkerConfig\n",
    "\n",
    "text_chunker = TextChunker(config=TextChunkerConfig(chunk_size=512, chunk_overlap=20))"
   ],
   "id": "cddfe61c16ee934e",
   "outputs": [],
   "execution_count": 6
  },
  {
   "cell_type": "markdown",
   "id": "4cfc2d80",
   "metadata": {},
   "source": [
    "### Import documents from files"
   ]
  },
  {
   "metadata": {
    "ExecuteTime": {
     "end_time": "2025-04-14T15:57:25.539036Z",
     "start_time": "2025-04-14T15:57:25.261940Z"
    }
   },
   "cell_type": "code",
   "source": [
    "from pandas import DataFrame\n",
    "from pandas import set_option\n",
    "\n",
    "set_option(\"display.max_colwidth\", None)"
   ],
   "id": "7a9ffce365d587c1",
   "outputs": [],
   "execution_count": 7
  },
  {
   "cell_type": "code",
   "id": "f729326f",
   "metadata": {
    "ExecuteTime": {
     "end_time": "2025-04-14T15:58:13.092839Z",
     "start_time": "2025-04-14T15:57:25.544018Z"
    }
   },
   "source": [
    "docs = kb.add(\"./fixtures/tidb-overview.md\", chunker=text_chunker)\n",
    "\n",
    "DataFrame(\n",
    "    [(c.id, c.text) for c in docs[0].chunks],\n",
    "    columns=[\"id\", \"text\"],\n",
    ")"
   ],
   "outputs": [
    {
     "data": {
      "text/plain": [
       "                                     id  \\\n",
       "0  01963505-0caf-727e-be5b-35d25ce01246   \n",
       "1  01963505-0caf-72cc-b315-bb36fe2bf7f6   \n",
       "2  01963505-0caf-72e1-91d7-d2ff083c8570   \n",
       "\n",
       "                                                                                                                                                                                                                                                                                                                                                                                                                                                                                                                                                                                                                                                                                                                                                                                                                                                                                                                                                                                                                                                                                                                                                                                                                                                                                                                                                                                                                                                                                                                                                                                                                                                                                                                                                                                                                                                                                                                                                                                                                                                                                                                                                                                                                                                                                                                                                                                                          text  \n",
       "0  ---\\ntitle: What is TiDB Self-Managed\\nsummary: Learn about the key features and usage scenarios of TiDB.\\naliases: ['/docs/dev/key-features/','/tidb/dev/key-features','/docs/dev/overview/']\\n---\\n\\n# What is TiDB Self-Managed\\n\\n<!-- Localization note for TiDB:\\n\\n- English: use distributed SQL, and start to emphasize HTAP\\n- Chinese: can keep \"NewSQL\" and emphasize one-stop real-time HTAP (\"一栈式实时 HTAP\")\\n- Japanese: use NewSQL because it is well-recognized\\n\\n-->\\n\\n[TiDB](https://github.com/pingcap/tidb) (/'taɪdiːbi:/, \"Ti\" stands for Titanium) is an open-source distributed SQL database that supports Hybrid Transactional and Analytical Processing (HTAP) workloads. It is MySQL compatible and features horizontal scalability, strong consistency, and high availability. The goal of TiDB is to provide users with a one-stop database solution that covers OLTP (Online Transactional Processing), OLAP (Online Analytical Processing), and HTAP services. TiDB is suitable for various use cases that require high availability and strong consistency with large-scale data.\\n\\nTiDB Self-Managed is a product option of TiDB, where users or organizations can deploy and manage TiDB on their own infrastructure with complete flexibility. With TiDB Self-Managed, you can enjoy the power of open source, distributed SQL while retaining full control over your environment.\\n\\nThe following video introduces key features of TiDB.\\n\\n<iframe width=\"600\" height=\"450\" src=\"https://www.youtube.com/embed/aWBNNPm21zg?enablejsapi=1\" title=\"Why TiDB?\" frameborder=\"0\" allow=\"accelerometer; autoplay; clipboard-write; encrypted-media; gyroscope; picture-in-picture\" allowfullscreen></iframe>\\n\\n## Key features\\n\\n- **Easy horizontal scaling**\\n\\n  The TiDB architecture design separates computing from storage, letting you scale out or scale in the computing or storage capacity online as needed. The scaling process is transparent to application operations and maintenance staff.\\n\\n- **Financial-grade high availability**\\n\\n  Data is stored in multiple replicas, and the Multi-Raft protocol is used to obtain the transaction log. A transaction can only be committed when data has been successfully written into the majority of replicas. This guarantees strong consistency and availability when a minority of replicas go down.  \n",
       "1                                                                                                                                                                            This guarantees strong consistency and availability when a minority of replicas go down. You can configure the geographic location and number of replicas as needed to meet different disaster tolerance levels.\\n\\n- **Real-time HTAP**\\n\\n  TiDB provides two storage engines: [TiKV](/tikv-overview.md), a row-based storage engine, and [TiFlash](/tiflash/tiflash-overview.md), a columnar storage engine. \\n\\n  TiFlash uses the Multi-Raft Learner protocol to replicate data from TiKV in real time, ensuring consistent data between the TiKV row-based storage engine and the TiFlash columnar storage engine. TiKV and TiFlash can be deployed on different machines as needed to solve the problem of HTAP resource isolation.\\n\\n- **Cloud-native distributed database**\\n\\n  TiDB is a distributed database designed for the cloud, providing flexible scalability, reliability, and security on the cloud platform. Users can elastically scale TiDB to meet the requirements of their changing workloads. In TiDB, each piece of data has at least 3 replicas, which can be scheduled in different cloud availability zones to tolerate the outage of a whole data center. [TiDB Operator](https://docs.pingcap.com/tidb-in-kubernetes/stable/tidb-operator-overview) helps manage TiDB on Kubernetes and automates tasks related to operating the TiDB cluster, making TiDB easier to deploy on any cloud that provides managed Kubernetes. [TiDB Cloud](https://pingcap.com/tidb-cloud/), the fully-managed TiDB service, is the easiest, most economical, and most resilient way to unlock the full power of [TiDB in the cloud](https://docs.pingcap.com/tidbcloud/), allowing you to deploy and run TiDB clusters with just a few clicks.\\n\\n- **Compatible with the MySQL protocol and MySQL ecosystem**\\n\\n  TiDB is compatible with the MySQL protocol, common features of MySQL, and the MySQL ecosystem. To migrate applications to TiDB, you do not need to change a single line of code in many cases, or only need to modify a small amount of code. In addition, TiDB provides a series of [data migration tools](/ecosystem-tool-user-guide.md) to help easily migrate application data into TiDB.  \n",
       "2                                                                                                                                                                                                                                                                                                                                                                                                                                                                                                                                                                                                                                                                                                                                                                                                                                                                                                                                                                                                                                                                                                                                                                                                                                                                                                                                                                                                                                                                                                                                                                                                                                                                                                                                                                                                                                                                                                                                                                                                                                                                                                                                                                                                                            ## See also\\n\\n- [TiDB Architecture](/tidb-architecture.md)\\n- [TiDB Storage](/tidb-storage.md)\\n- [TiDB Computing](/tidb-computing.md)\\n- [TiDB Scheduling](/tidb-scheduling.md)  "
      ],
      "text/html": [
       "<div>\n",
       "<style scoped>\n",
       "    .dataframe tbody tr th:only-of-type {\n",
       "        vertical-align: middle;\n",
       "    }\n",
       "\n",
       "    .dataframe tbody tr th {\n",
       "        vertical-align: top;\n",
       "    }\n",
       "\n",
       "    .dataframe thead th {\n",
       "        text-align: right;\n",
       "    }\n",
       "</style>\n",
       "<table border=\"1\" class=\"dataframe\">\n",
       "  <thead>\n",
       "    <tr style=\"text-align: right;\">\n",
       "      <th></th>\n",
       "      <th>id</th>\n",
       "      <th>text</th>\n",
       "    </tr>\n",
       "  </thead>\n",
       "  <tbody>\n",
       "    <tr>\n",
       "      <th>0</th>\n",
       "      <td>01963505-0caf-727e-be5b-35d25ce01246</td>\n",
       "      <td>---\\ntitle: What is TiDB Self-Managed\\nsummary: Learn about the key features and usage scenarios of TiDB.\\naliases: ['/docs/dev/key-features/','/tidb/dev/key-features','/docs/dev/overview/']\\n---\\n\\n# What is TiDB Self-Managed\\n\\n&lt;!-- Localization note for TiDB:\\n\\n- English: use distributed SQL, and start to emphasize HTAP\\n- Chinese: can keep \"NewSQL\" and emphasize one-stop real-time HTAP (\"一栈式实时 HTAP\")\\n- Japanese: use NewSQL because it is well-recognized\\n\\n--&gt;\\n\\n[TiDB](https://github.com/pingcap/tidb) (/'taɪdiːbi:/, \"Ti\" stands for Titanium) is an open-source distributed SQL database that supports Hybrid Transactional and Analytical Processing (HTAP) workloads. It is MySQL compatible and features horizontal scalability, strong consistency, and high availability. The goal of TiDB is to provide users with a one-stop database solution that covers OLTP (Online Transactional Processing), OLAP (Online Analytical Processing), and HTAP services. TiDB is suitable for various use cases that require high availability and strong consistency with large-scale data.\\n\\nTiDB Self-Managed is a product option of TiDB, where users or organizations can deploy and manage TiDB on their own infrastructure with complete flexibility. With TiDB Self-Managed, you can enjoy the power of open source, distributed SQL while retaining full control over your environment.\\n\\nThe following video introduces key features of TiDB.\\n\\n&lt;iframe width=\"600\" height=\"450\" src=\"https://www.youtube.com/embed/aWBNNPm21zg?enablejsapi=1\" title=\"Why TiDB?\" frameborder=\"0\" allow=\"accelerometer; autoplay; clipboard-write; encrypted-media; gyroscope; picture-in-picture\" allowfullscreen&gt;&lt;/iframe&gt;\\n\\n## Key features\\n\\n- **Easy horizontal scaling**\\n\\n  The TiDB architecture design separates computing from storage, letting you scale out or scale in the computing or storage capacity online as needed. The scaling process is transparent to application operations and maintenance staff.\\n\\n- **Financial-grade high availability**\\n\\n  Data is stored in multiple replicas, and the Multi-Raft protocol is used to obtain the transaction log. A transaction can only be committed when data has been successfully written into the majority of replicas. This guarantees strong consistency and availability when a minority of replicas go down.</td>\n",
       "    </tr>\n",
       "    <tr>\n",
       "      <th>1</th>\n",
       "      <td>01963505-0caf-72cc-b315-bb36fe2bf7f6</td>\n",
       "      <td>This guarantees strong consistency and availability when a minority of replicas go down. You can configure the geographic location and number of replicas as needed to meet different disaster tolerance levels.\\n\\n- **Real-time HTAP**\\n\\n  TiDB provides two storage engines: [TiKV](/tikv-overview.md), a row-based storage engine, and [TiFlash](/tiflash/tiflash-overview.md), a columnar storage engine. \\n\\n  TiFlash uses the Multi-Raft Learner protocol to replicate data from TiKV in real time, ensuring consistent data between the TiKV row-based storage engine and the TiFlash columnar storage engine. TiKV and TiFlash can be deployed on different machines as needed to solve the problem of HTAP resource isolation.\\n\\n- **Cloud-native distributed database**\\n\\n  TiDB is a distributed database designed for the cloud, providing flexible scalability, reliability, and security on the cloud platform. Users can elastically scale TiDB to meet the requirements of their changing workloads. In TiDB, each piece of data has at least 3 replicas, which can be scheduled in different cloud availability zones to tolerate the outage of a whole data center. [TiDB Operator](https://docs.pingcap.com/tidb-in-kubernetes/stable/tidb-operator-overview) helps manage TiDB on Kubernetes and automates tasks related to operating the TiDB cluster, making TiDB easier to deploy on any cloud that provides managed Kubernetes. [TiDB Cloud](https://pingcap.com/tidb-cloud/), the fully-managed TiDB service, is the easiest, most economical, and most resilient way to unlock the full power of [TiDB in the cloud](https://docs.pingcap.com/tidbcloud/), allowing you to deploy and run TiDB clusters with just a few clicks.\\n\\n- **Compatible with the MySQL protocol and MySQL ecosystem**\\n\\n  TiDB is compatible with the MySQL protocol, common features of MySQL, and the MySQL ecosystem. To migrate applications to TiDB, you do not need to change a single line of code in many cases, or only need to modify a small amount of code. In addition, TiDB provides a series of [data migration tools](/ecosystem-tool-user-guide.md) to help easily migrate application data into TiDB.</td>\n",
       "    </tr>\n",
       "    <tr>\n",
       "      <th>2</th>\n",
       "      <td>01963505-0caf-72e1-91d7-d2ff083c8570</td>\n",
       "      <td>## See also\\n\\n- [TiDB Architecture](/tidb-architecture.md)\\n- [TiDB Storage](/tidb-storage.md)\\n- [TiDB Computing](/tidb-computing.md)\\n- [TiDB Scheduling](/tidb-scheduling.md)</td>\n",
       "    </tr>\n",
       "  </tbody>\n",
       "</table>\n",
       "</div>"
      ]
     },
     "execution_count": 8,
     "metadata": {},
     "output_type": "execute_result"
    }
   ],
   "execution_count": 8
  },
  {
   "cell_type": "markdown",
   "id": "84fd9b606e6a11a5",
   "metadata": {},
   "source": [
    "### Search Documents"
   ]
  },
  {
   "cell_type": "code",
   "id": "259ad7a9",
   "metadata": {
    "ExecuteTime": {
     "end_time": "2025-04-14T15:58:24.120061Z",
     "start_time": "2025-04-14T15:58:24.100860Z"
    }
   },
   "source": [
    "result = kb.search_documents(\n",
    "    query=\"What is TiDB?\",\n",
    "    top_k=2,\n",
    ")\n",
    "\n",
    "DataFrame(\n",
    "    [(c.score, c.text) for c in result.chunks],\n",
    "    columns=[\"score\", \"text\"],\n",
    ")"
   ],
   "outputs": [
    {
     "data": {
      "text/plain": [
       "      score  \\\n",
       "0  0.687499   \n",
       "1  0.687499   \n",
       "\n",
       "                                                                                                                                                                                text  \n",
       "0  ## See also\\n\\n- [TiDB Architecture](/tidb-architecture.md)\\n- [TiDB Storage](/tidb-storage.md)\\n- [TiDB Computing](/tidb-computing.md)\\n- [TiDB Scheduling](/tidb-scheduling.md)  \n",
       "1  ## See also\\n\\n- [TiDB Architecture](/tidb-architecture.md)\\n- [TiDB Storage](/tidb-storage.md)\\n- [TiDB Computing](/tidb-computing.md)\\n- [TiDB Scheduling](/tidb-scheduling.md)  "
      ],
      "text/html": [
       "<div>\n",
       "<style scoped>\n",
       "    .dataframe tbody tr th:only-of-type {\n",
       "        vertical-align: middle;\n",
       "    }\n",
       "\n",
       "    .dataframe tbody tr th {\n",
       "        vertical-align: top;\n",
       "    }\n",
       "\n",
       "    .dataframe thead th {\n",
       "        text-align: right;\n",
       "    }\n",
       "</style>\n",
       "<table border=\"1\" class=\"dataframe\">\n",
       "  <thead>\n",
       "    <tr style=\"text-align: right;\">\n",
       "      <th></th>\n",
       "      <th>score</th>\n",
       "      <th>text</th>\n",
       "    </tr>\n",
       "  </thead>\n",
       "  <tbody>\n",
       "    <tr>\n",
       "      <th>0</th>\n",
       "      <td>0.687499</td>\n",
       "      <td>## See also\\n\\n- [TiDB Architecture](/tidb-architecture.md)\\n- [TiDB Storage](/tidb-storage.md)\\n- [TiDB Computing](/tidb-computing.md)\\n- [TiDB Scheduling](/tidb-scheduling.md)</td>\n",
       "    </tr>\n",
       "    <tr>\n",
       "      <th>1</th>\n",
       "      <td>0.687499</td>\n",
       "      <td>## See also\\n\\n- [TiDB Architecture](/tidb-architecture.md)\\n- [TiDB Storage](/tidb-storage.md)\\n- [TiDB Computing](/tidb-computing.md)\\n- [TiDB Scheduling](/tidb-scheduling.md)</td>\n",
       "    </tr>\n",
       "  </tbody>\n",
       "</table>\n",
       "</div>"
      ]
     },
     "execution_count": 12,
     "metadata": {},
     "output_type": "execute_result"
    }
   ],
   "execution_count": 12
  },
  {
   "cell_type": "markdown",
   "id": "f2a0de8057cdf16b",
   "metadata": {},
   "source": [
    "### Search Knowledge Graph"
   ]
  },
  {
   "cell_type": "code",
   "id": "6fc5bc93",
   "metadata": {
    "ExecuteTime": {
     "end_time": "2025-04-14T15:58:28.011993Z",
     "start_time": "2025-04-14T15:58:27.972944Z"
    }
   },
   "source": [
    "kg = kb.search_knowledge_graph(\n",
    "    query=\"What is TiDB?\",\n",
    ")\n",
    "\n",
    "DataFrame(\n",
    "    [(r.description, r.score) for r in kg.relationships],\n",
    "    columns=[\"relation\", \"score\"],\n",
    ")"
   ],
   "outputs": [
    {
     "data": {
      "text/plain": [
       "                                                                                                                                         relation  \\\n",
       "0   TiDB supports Hybrid Transactional and Analytical Processing (HTAP) workloads, enabling it to handle both transactional and analytical tasks.   \n",
       "1                                         TiDB provides a series of data migration tools to help users easily migrate application data into TiDB.   \n",
       "2                                                                          TiDB provides OLTP services as part of its one-stop database solution.   \n",
       "3                           TiDB uses the Multi-Raft protocol to ensure strong consistency and availability by storing data in multiple replicas.   \n",
       "4                                                                                               TiDB uses TiFlash as its columnar storage engine.   \n",
       "5                                                                          TiDB provides OLAP services as part of its one-stop database solution.   \n",
       "6                                                                         TiDB supports HTAP by providing real-time data processing capabilities.   \n",
       "7         TiDB is compatible with the MySQL protocol and ecosystem, allowing for easy migration of applications without significant code changes.   \n",
       "8                                          TiDB is compatible with the MySQL protocol and ecosystem, allowing for easy migration of applications.   \n",
       "9                                                                          TiDB provides OLTP services as part of its one-stop database solution.   \n",
       "10                                                TiDB uses TiFlash as its columnar storage engine, which replicates data from TiKV in real time.   \n",
       "11  TiDB supports Hybrid Transactional and Analytical Processing (HTAP) workloads, enabling it to handle both transactional and analytical tasks.   \n",
       "12                             TiDB Cloud is the fully-managed service that provides an economical and resilient way to deploy TiDB in the cloud.   \n",
       "13                 TiDB Self-Managed is a product option of TiDB that allows users to deploy and manage the database on their own infrastructure.   \n",
       "14                                                                                                TiDB uses TiKV as its row-based storage engine.   \n",
       "15    TiDB uses the Multi-Raft protocol to ensure strong consistency and high availability by managing transaction logs across multiple replicas.   \n",
       "16                                                  TiDB uses TiKV as its row-based storage engine to ensure strong consistency and availability.   \n",
       "17                                              TiDB Cloud is the fully-managed service that allows users to deploy and run TiDB clusters easily.   \n",
       "18                 TiDB Self-Managed is a product option of TiDB that allows users to deploy and manage the database on their own infrastructure.   \n",
       "19                                                                         TiDB provides OLAP services as part of its one-stop database solution.   \n",
       "\n",
       "       score  \n",
       "0   4.848678  \n",
       "1   4.535383  \n",
       "2   4.884895  \n",
       "3   4.960137  \n",
       "4   5.353336  \n",
       "5   5.506543  \n",
       "6   4.852816  \n",
       "7   4.365768  \n",
       "8   4.259811  \n",
       "9   4.884895  \n",
       "10  5.161038  \n",
       "11  4.848678  \n",
       "12  4.143954  \n",
       "13  4.915652  \n",
       "14  6.173755  \n",
       "15  4.938080  \n",
       "16  6.069966  \n",
       "17  4.205739  \n",
       "18  4.915652  \n",
       "19  5.506543  "
      ],
      "text/html": [
       "<div>\n",
       "<style scoped>\n",
       "    .dataframe tbody tr th:only-of-type {\n",
       "        vertical-align: middle;\n",
       "    }\n",
       "\n",
       "    .dataframe tbody tr th {\n",
       "        vertical-align: top;\n",
       "    }\n",
       "\n",
       "    .dataframe thead th {\n",
       "        text-align: right;\n",
       "    }\n",
       "</style>\n",
       "<table border=\"1\" class=\"dataframe\">\n",
       "  <thead>\n",
       "    <tr style=\"text-align: right;\">\n",
       "      <th></th>\n",
       "      <th>relation</th>\n",
       "      <th>score</th>\n",
       "    </tr>\n",
       "  </thead>\n",
       "  <tbody>\n",
       "    <tr>\n",
       "      <th>0</th>\n",
       "      <td>TiDB supports Hybrid Transactional and Analytical Processing (HTAP) workloads, enabling it to handle both transactional and analytical tasks.</td>\n",
       "      <td>4.848678</td>\n",
       "    </tr>\n",
       "    <tr>\n",
       "      <th>1</th>\n",
       "      <td>TiDB provides a series of data migration tools to help users easily migrate application data into TiDB.</td>\n",
       "      <td>4.535383</td>\n",
       "    </tr>\n",
       "    <tr>\n",
       "      <th>2</th>\n",
       "      <td>TiDB provides OLTP services as part of its one-stop database solution.</td>\n",
       "      <td>4.884895</td>\n",
       "    </tr>\n",
       "    <tr>\n",
       "      <th>3</th>\n",
       "      <td>TiDB uses the Multi-Raft protocol to ensure strong consistency and availability by storing data in multiple replicas.</td>\n",
       "      <td>4.960137</td>\n",
       "    </tr>\n",
       "    <tr>\n",
       "      <th>4</th>\n",
       "      <td>TiDB uses TiFlash as its columnar storage engine.</td>\n",
       "      <td>5.353336</td>\n",
       "    </tr>\n",
       "    <tr>\n",
       "      <th>5</th>\n",
       "      <td>TiDB provides OLAP services as part of its one-stop database solution.</td>\n",
       "      <td>5.506543</td>\n",
       "    </tr>\n",
       "    <tr>\n",
       "      <th>6</th>\n",
       "      <td>TiDB supports HTAP by providing real-time data processing capabilities.</td>\n",
       "      <td>4.852816</td>\n",
       "    </tr>\n",
       "    <tr>\n",
       "      <th>7</th>\n",
       "      <td>TiDB is compatible with the MySQL protocol and ecosystem, allowing for easy migration of applications without significant code changes.</td>\n",
       "      <td>4.365768</td>\n",
       "    </tr>\n",
       "    <tr>\n",
       "      <th>8</th>\n",
       "      <td>TiDB is compatible with the MySQL protocol and ecosystem, allowing for easy migration of applications.</td>\n",
       "      <td>4.259811</td>\n",
       "    </tr>\n",
       "    <tr>\n",
       "      <th>9</th>\n",
       "      <td>TiDB provides OLTP services as part of its one-stop database solution.</td>\n",
       "      <td>4.884895</td>\n",
       "    </tr>\n",
       "    <tr>\n",
       "      <th>10</th>\n",
       "      <td>TiDB uses TiFlash as its columnar storage engine, which replicates data from TiKV in real time.</td>\n",
       "      <td>5.161038</td>\n",
       "    </tr>\n",
       "    <tr>\n",
       "      <th>11</th>\n",
       "      <td>TiDB supports Hybrid Transactional and Analytical Processing (HTAP) workloads, enabling it to handle both transactional and analytical tasks.</td>\n",
       "      <td>4.848678</td>\n",
       "    </tr>\n",
       "    <tr>\n",
       "      <th>12</th>\n",
       "      <td>TiDB Cloud is the fully-managed service that provides an economical and resilient way to deploy TiDB in the cloud.</td>\n",
       "      <td>4.143954</td>\n",
       "    </tr>\n",
       "    <tr>\n",
       "      <th>13</th>\n",
       "      <td>TiDB Self-Managed is a product option of TiDB that allows users to deploy and manage the database on their own infrastructure.</td>\n",
       "      <td>4.915652</td>\n",
       "    </tr>\n",
       "    <tr>\n",
       "      <th>14</th>\n",
       "      <td>TiDB uses TiKV as its row-based storage engine.</td>\n",
       "      <td>6.173755</td>\n",
       "    </tr>\n",
       "    <tr>\n",
       "      <th>15</th>\n",
       "      <td>TiDB uses the Multi-Raft protocol to ensure strong consistency and high availability by managing transaction logs across multiple replicas.</td>\n",
       "      <td>4.938080</td>\n",
       "    </tr>\n",
       "    <tr>\n",
       "      <th>16</th>\n",
       "      <td>TiDB uses TiKV as its row-based storage engine to ensure strong consistency and availability.</td>\n",
       "      <td>6.069966</td>\n",
       "    </tr>\n",
       "    <tr>\n",
       "      <th>17</th>\n",
       "      <td>TiDB Cloud is the fully-managed service that allows users to deploy and run TiDB clusters easily.</td>\n",
       "      <td>4.205739</td>\n",
       "    </tr>\n",
       "    <tr>\n",
       "      <th>18</th>\n",
       "      <td>TiDB Self-Managed is a product option of TiDB that allows users to deploy and manage the database on their own infrastructure.</td>\n",
       "      <td>4.915652</td>\n",
       "    </tr>\n",
       "    <tr>\n",
       "      <th>19</th>\n",
       "      <td>TiDB provides OLAP services as part of its one-stop database solution.</td>\n",
       "      <td>5.506543</td>\n",
       "    </tr>\n",
       "  </tbody>\n",
       "</table>\n",
       "</div>"
      ]
     },
     "execution_count": 13,
     "metadata": {},
     "output_type": "execute_result"
    }
   ],
   "execution_count": 13
  },
  {
   "metadata": {},
   "cell_type": "markdown",
   "source": "### Reset the KnowledgeBase",
   "id": "3ed0149fb5a9e1cb"
  },
  {
   "metadata": {
    "ExecuteTime": {
     "end_time": "2025-04-14T15:58:42.476450Z",
     "start_time": "2025-04-14T15:58:42.453330Z"
    }
   },
   "cell_type": "code",
   "source": "kb.reset()",
   "id": "4303dc61b3f073f1",
   "outputs": [
    {
     "ename": "AttributeError",
     "evalue": "'TiDBDocumentStore' object has no attribute '_db'",
     "output_type": "error",
     "traceback": [
      "\u001B[31m---------------------------------------------------------------------------\u001B[39m",
      "\u001B[31mAttributeError\u001B[39m                            Traceback (most recent call last)",
      "\u001B[36mCell\u001B[39m\u001B[36m \u001B[39m\u001B[32mIn[14]\u001B[39m\u001B[32m, line 1\u001B[39m\n\u001B[32m----> \u001B[39m\u001B[32m1\u001B[39m \u001B[43mkb\u001B[49m\u001B[43m.\u001B[49m\u001B[43mreset\u001B[49m\u001B[43m(\u001B[49m\u001B[43m)\u001B[49m\n",
      "\u001B[36mFile \u001B[39m\u001B[32m~/Projects/autoflow.ai/core/autoflow/knowledge_base/base.py:208\u001B[39m, in \u001B[36mKnowledgeBase.reset\u001B[39m\u001B[34m(self)\u001B[39m\n\u001B[32m    207\u001B[39m \u001B[38;5;28;01mdef\u001B[39;00m\u001B[38;5;250m \u001B[39m\u001B[34mreset\u001B[39m(\u001B[38;5;28mself\u001B[39m):\n\u001B[32m--> \u001B[39m\u001B[32m208\u001B[39m    \u001B[38;5;28;43mself\u001B[39;49m\u001B[43m.\u001B[49m\u001B[43m_doc_store\u001B[49m\u001B[43m.\u001B[49m\u001B[43mreset\u001B[49m\u001B[43m(\u001B[49m\u001B[43m)\u001B[49m\n\u001B[32m    209\u001B[39m    \u001B[38;5;28mself\u001B[39m._kg_store.reset()\n",
      "\u001B[36mFile \u001B[39m\u001B[32m~/Projects/autoflow.ai/core/autoflow/storage/doc_store/tidb_doc_store.py:305\u001B[39m, in \u001B[36mTiDBDocumentStore.reset\u001B[39m\u001B[34m(self)\u001B[39m\n\u001B[32m    304\u001B[39m \u001B[38;5;28;01mdef\u001B[39;00m\u001B[38;5;250m \u001B[39m\u001B[34mreset\u001B[39m(\u001B[38;5;28mself\u001B[39m) -> \u001B[38;5;28;01mNone\u001B[39;00m:\n\u001B[32m--> \u001B[39m\u001B[32m305\u001B[39m     \u001B[38;5;28;01mwith\u001B[39;00m \u001B[38;5;28;43mself\u001B[39;49m\u001B[43m.\u001B[49m\u001B[43m_db\u001B[49m.session():\n\u001B[32m    306\u001B[39m         \u001B[38;5;28mself\u001B[39m._db.execute(\u001B[33m\"\u001B[39m\u001B[33mSET FOREIGN_KEY_CHECKS = 0\u001B[39m\u001B[33m\"\u001B[39m)\n\u001B[32m    307\u001B[39m         \u001B[38;5;28mself\u001B[39m._relationship_table.truncate()\n",
      "\u001B[31mAttributeError\u001B[39m: 'TiDBDocumentStore' object has no attribute '_db'"
     ]
    }
   ],
   "execution_count": 14
  }
 ],
 "metadata": {
  "kernelspec": {
   "display_name": ".venv",
   "language": "python",
   "name": "python3"
  },
  "language_info": {
   "codemirror_mode": {
    "name": "ipython",
    "version": 3
   },
   "file_extension": ".py",
   "mimetype": "text/x-python",
   "name": "python",
   "nbconvert_exporter": "python",
   "pygments_lexer": "ipython3",
   "version": "3.12.4"
  }
 },
 "nbformat": 4,
 "nbformat_minor": 5
}
