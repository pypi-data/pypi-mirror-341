{
 "cells": [
  {
   "cell_type": "code",
   "execution_count": 1,
   "id": "361e577b-598d-4063-8065-532720882aca",
   "metadata": {},
   "outputs": [],
   "source": [
    "import pandas as pd\n",
    "from pathlib import Path\n",
    "import matplotlib.pyplot as plt\n",
    "from filo import create_bins_centered_on, resample_dataframe\n",
    "%matplotlib inline"
   ]
  },
  {
   "cell_type": "code",
   "execution_count": 2,
   "id": "48cc85f2",
   "metadata": {},
   "outputs": [
    {
     "data": {
      "text/plain": [
       "True"
      ]
     },
     "execution_count": 2,
     "metadata": {},
     "output_type": "execute_result"
    }
   ],
   "source": [
    "data_folder = Path('data/isotherm/')\n",
    "pressure_file = data_folder / 'ValvePID_Pressure_resampled.tsv'\n",
    "analysis_file = data_folder / 'Spectro_WLI.tsv'\n",
    "pressure_file.exists()"
   ]
  },
  {
   "cell_type": "code",
   "execution_count": 3,
   "id": "ae45141b-427b-4435-a78a-6ac13bca5282",
   "metadata": {},
   "outputs": [
    {
     "data": {
      "text/html": [
       "<div>\n",
       "<style scoped>\n",
       "    .dataframe tbody tr th:only-of-type {\n",
       "        vertical-align: middle;\n",
       "    }\n",
       "\n",
       "    .dataframe tbody tr th {\n",
       "        vertical-align: top;\n",
       "    }\n",
       "\n",
       "    .dataframe thead th {\n",
       "        text-align: right;\n",
       "    }\n",
       "</style>\n",
       "<table border=\"1\" class=\"dataframe\">\n",
       "  <thead>\n",
       "    <tr style=\"text-align: right;\">\n",
       "      <th></th>\n",
       "      <th>num</th>\n",
       "      <th>folder</th>\n",
       "      <th>filename</th>\n",
       "      <th>opl</th>\n",
       "      <th>contrast</th>\n",
       "    </tr>\n",
       "    <tr>\n",
       "      <th>time (unix)</th>\n",
       "      <th></th>\n",
       "      <th></th>\n",
       "      <th></th>\n",
       "      <th></th>\n",
       "      <th></th>\n",
       "    </tr>\n",
       "  </thead>\n",
       "  <tbody>\n",
       "    <tr>\n",
       "      <th>1.659009e+09</th>\n",
       "      <td>22</td>\n",
       "      <td>WLI_Spectra</td>\n",
       "      <td>2106297U1_0007.Raw8.txt</td>\n",
       "      <td>13.929712</td>\n",
       "      <td>42.667708</td>\n",
       "    </tr>\n",
       "    <tr>\n",
       "      <th>1.659009e+09</th>\n",
       "      <td>24</td>\n",
       "      <td>WLI_Spectra</td>\n",
       "      <td>2106297U1_0008.Raw8.txt</td>\n",
       "      <td>13.928008</td>\n",
       "      <td>42.686275</td>\n",
       "    </tr>\n",
       "    <tr>\n",
       "      <th>1.659009e+09</th>\n",
       "      <td>26</td>\n",
       "      <td>WLI_Spectra</td>\n",
       "      <td>2106297U1_0009.Raw8.txt</td>\n",
       "      <td>13.929712</td>\n",
       "      <td>42.700220</td>\n",
       "    </tr>\n",
       "    <tr>\n",
       "      <th>1.659009e+09</th>\n",
       "      <td>28</td>\n",
       "      <td>WLI_Spectra</td>\n",
       "      <td>2106297U1_0010.Raw8.txt</td>\n",
       "      <td>13.928008</td>\n",
       "      <td>42.693740</td>\n",
       "    </tr>\n",
       "    <tr>\n",
       "      <th>1.659009e+09</th>\n",
       "      <td>30</td>\n",
       "      <td>WLI_Spectra</td>\n",
       "      <td>2106297U1_0011.Raw8.txt</td>\n",
       "      <td>13.928008</td>\n",
       "      <td>42.736708</td>\n",
       "    </tr>\n",
       "  </tbody>\n",
       "</table>\n",
       "</div>"
      ],
      "text/plain": [
       "              num       folder                 filename        opl   contrast\n",
       "time (unix)                                                                  \n",
       "1.659009e+09   22  WLI_Spectra  2106297U1_0007.Raw8.txt  13.929712  42.667708\n",
       "1.659009e+09   24  WLI_Spectra  2106297U1_0008.Raw8.txt  13.928008  42.686275\n",
       "1.659009e+09   26  WLI_Spectra  2106297U1_0009.Raw8.txt  13.929712  42.700220\n",
       "1.659009e+09   28  WLI_Spectra  2106297U1_0010.Raw8.txt  13.928008  42.693740\n",
       "1.659009e+09   30  WLI_Spectra  2106297U1_0011.Raw8.txt  13.928008  42.736708"
      ]
     },
     "execution_count": 3,
     "metadata": {},
     "output_type": "execute_result"
    }
   ],
   "source": [
    "pressure_data = pd.read_csv(pressure_file, sep='\\t').set_index('time (unix)')\n",
    "analysis_data = pd.read_csv(analysis_file, sep='\\t').set_index('time (unix)')\n",
    "analysis_data.tail()"
   ]
  },
  {
   "cell_type": "code",
   "execution_count": 4,
   "id": "eae7a49b",
   "metadata": {},
   "outputs": [
    {
     "data": {
      "text/plain": [
       "[(1659007970.0, 1659008030.0),\n",
       " (1659008030.0, 1659008090.0),\n",
       " (1659008090.0, 1659008150.0),\n",
       " (1659008150.0, 1659008210.0),\n",
       " (1659008210.0, 1659008270.0),\n",
       " (1659008270.0, 1659008330.0),\n",
       " (1659008570.0, 1659008630.0),\n",
       " (1659008630.0, 1659008690.0),\n",
       " (1659008690.0, 1659008750.0),\n",
       " (1659008750.0, 1659008810.0),\n",
       " (1659008810.0, 1659008870.0)]"
      ]
     },
     "execution_count": 4,
     "metadata": {},
     "output_type": "execute_result"
    }
   ],
   "source": [
    "create_bins_centered_on(analysis_data.index)"
   ]
  },
  {
   "cell_type": "code",
   "execution_count": 21,
   "id": "f482aa05",
   "metadata": {},
   "outputs": [
    {
     "data": {
      "text/html": [
       "<div>\n",
       "<style scoped>\n",
       "    .dataframe tbody tr th:only-of-type {\n",
       "        vertical-align: middle;\n",
       "    }\n",
       "\n",
       "    .dataframe tbody tr th {\n",
       "        vertical-align: top;\n",
       "    }\n",
       "\n",
       "    .dataframe thead tr th {\n",
       "        text-align: left;\n",
       "    }\n",
       "\n",
       "    .dataframe thead tr:last-of-type th {\n",
       "        text-align: right;\n",
       "    }\n",
       "</style>\n",
       "<table border=\"1\" class=\"dataframe\">\n",
       "  <thead>\n",
       "    <tr>\n",
       "      <th></th>\n",
       "      <th colspan=\"2\" halign=\"left\">setpt (Pa)</th>\n",
       "      <th colspan=\"2\" halign=\"left\">p (Pa)</th>\n",
       "      <th colspan=\"2\" halign=\"left\">valve</th>\n",
       "    </tr>\n",
       "    <tr>\n",
       "      <th></th>\n",
       "      <th>mean</th>\n",
       "      <th>std</th>\n",
       "      <th>mean</th>\n",
       "      <th>std</th>\n",
       "      <th>mean</th>\n",
       "      <th>std</th>\n",
       "    </tr>\n",
       "    <tr>\n",
       "      <th>time (unix)</th>\n",
       "      <th></th>\n",
       "      <th></th>\n",
       "      <th></th>\n",
       "      <th></th>\n",
       "      <th></th>\n",
       "      <th></th>\n",
       "    </tr>\n",
       "  </thead>\n",
       "  <tbody>\n",
       "    <tr>\n",
       "      <th>1.659008e+09</th>\n",
       "      <td>350.000</td>\n",
       "      <td>0.000000</td>\n",
       "      <td>349.290</td>\n",
       "      <td>0.721249</td>\n",
       "      <td>3458.0</td>\n",
       "      <td>0.000000</td>\n",
       "    </tr>\n",
       "    <tr>\n",
       "      <th>1.659008e+09</th>\n",
       "      <td>350.000</td>\n",
       "      <td>0.000000</td>\n",
       "      <td>350.205</td>\n",
       "      <td>0.021213</td>\n",
       "      <td>3458.0</td>\n",
       "      <td>0.000000</td>\n",
       "    </tr>\n",
       "    <tr>\n",
       "      <th>1.659008e+09</th>\n",
       "      <td>413.335</td>\n",
       "      <td>47.142809</td>\n",
       "      <td>379.265</td>\n",
       "      <td>33.142095</td>\n",
       "      <td>3495.0</td>\n",
       "      <td>26.870058</td>\n",
       "    </tr>\n",
       "    <tr>\n",
       "      <th>1.659008e+09</th>\n",
       "      <td>613.335</td>\n",
       "      <td>47.142809</td>\n",
       "      <td>569.975</td>\n",
       "      <td>48.033764</td>\n",
       "      <td>3590.0</td>\n",
       "      <td>19.798990</td>\n",
       "    </tr>\n",
       "    <tr>\n",
       "      <th>1.659008e+09</th>\n",
       "      <td>813.335</td>\n",
       "      <td>47.142809</td>\n",
       "      <td>772.860</td>\n",
       "      <td>47.871129</td>\n",
       "      <td>3673.0</td>\n",
       "      <td>18.384776</td>\n",
       "    </tr>\n",
       "    <tr>\n",
       "      <th>1.659008e+09</th>\n",
       "      <td>1013.335</td>\n",
       "      <td>47.142809</td>\n",
       "      <td>974.270</td>\n",
       "      <td>46.697332</td>\n",
       "      <td>3750.0</td>\n",
       "      <td>18.384776</td>\n",
       "    </tr>\n",
       "    <tr>\n",
       "      <th>1.659009e+09</th>\n",
       "      <td>2013.360</td>\n",
       "      <td>47.135738</td>\n",
       "      <td>1929.300</td>\n",
       "      <td>42.426407</td>\n",
       "      <td>4321.5</td>\n",
       "      <td>47.376154</td>\n",
       "    </tr>\n",
       "    <tr>\n",
       "      <th>1.659009e+09</th>\n",
       "      <td>2210.365</td>\n",
       "      <td>42.900168</td>\n",
       "      <td>2083.510</td>\n",
       "      <td>32.512770</td>\n",
       "      <td>4586.0</td>\n",
       "      <td>79.195959</td>\n",
       "    </tr>\n",
       "    <tr>\n",
       "      <th>1.659009e+09</th>\n",
       "      <td>2251.700</td>\n",
       "      <td>0.000000</td>\n",
       "      <td>2176.030</td>\n",
       "      <td>11.554125</td>\n",
       "      <td>4806.0</td>\n",
       "      <td>33.941125</td>\n",
       "    </tr>\n",
       "    <tr>\n",
       "      <th>1.659009e+09</th>\n",
       "      <td>2251.700</td>\n",
       "      <td>0.000000</td>\n",
       "      <td>2208.990</td>\n",
       "      <td>5.190164</td>\n",
       "      <td>4917.5</td>\n",
       "      <td>20.506097</td>\n",
       "    </tr>\n",
       "    <tr>\n",
       "      <th>1.659009e+09</th>\n",
       "      <td>2251.700</td>\n",
       "      <td>0.000000</td>\n",
       "      <td>2225.635</td>\n",
       "      <td>2.566798</td>\n",
       "      <td>4985.0</td>\n",
       "      <td>12.727922</td>\n",
       "    </tr>\n",
       "  </tbody>\n",
       "</table>\n",
       "</div>"
      ],
      "text/plain": [
       "             setpt (Pa)               p (Pa)              valve           \n",
       "                   mean        std      mean        std    mean        std\n",
       "time (unix)                                                               \n",
       "1.659008e+09    350.000   0.000000   349.290   0.721249  3458.0   0.000000\n",
       "1.659008e+09    350.000   0.000000   350.205   0.021213  3458.0   0.000000\n",
       "1.659008e+09    413.335  47.142809   379.265  33.142095  3495.0  26.870058\n",
       "1.659008e+09    613.335  47.142809   569.975  48.033764  3590.0  19.798990\n",
       "1.659008e+09    813.335  47.142809   772.860  47.871129  3673.0  18.384776\n",
       "1.659008e+09   1013.335  47.142809   974.270  46.697332  3750.0  18.384776\n",
       "1.659009e+09   2013.360  47.135738  1929.300  42.426407  4321.5  47.376154\n",
       "1.659009e+09   2210.365  42.900168  2083.510  32.512770  4586.0  79.195959\n",
       "1.659009e+09   2251.700   0.000000  2176.030  11.554125  4806.0  33.941125\n",
       "1.659009e+09   2251.700   0.000000  2208.990   5.190164  4917.5  20.506097\n",
       "1.659009e+09   2251.700   0.000000  2225.635   2.566798  4985.0  12.727922"
      ]
     },
     "execution_count": 21,
     "metadata": {},
     "output_type": "execute_result"
    }
   ],
   "source": [
    "df = resample_dataframe(\n",
    "    dataframe=pressure_data.drop('dt (s)', axis=1),\n",
    "    new_index=analysis_data.index,\n",
    "    max_interval=30,\n",
    "    agg=['mean', 'std']\n",
    ")\n",
    "df"
   ]
  },
  {
   "cell_type": "code",
   "execution_count": 27,
   "id": "6830af98",
   "metadata": {},
   "outputs": [
    {
     "data": {
      "text/plain": [
       "2208.99"
      ]
     },
     "execution_count": 27,
     "metadata": {},
     "output_type": "execute_result"
    }
   ],
   "source": [
    "df['p (Pa)']['mean'].iloc[-2]"
   ]
  },
  {
   "cell_type": "code",
   "execution_count": 15,
   "id": "3785ca89-6a5c-470e-a3be-5c15d2f2b5be",
   "metadata": {},
   "outputs": [],
   "source": [
    "def check_bins_graphically(max_interval=None):\n",
    "\n",
    "    ts = analysis_data.index\n",
    "    bins = create_bins_centered_on(ts, max_interval=max_interval)\n",
    "\n",
    "    fig, ax = plt.subplots()\n",
    "    for ti in ts:\n",
    "        ax.plot(ti, 0, 'ok')\n",
    "\n",
    "    for tj in pressure_data.index:\n",
    "        ax.plot(tj, 1, '.b')\n",
    "\n",
    "    for (ta, tb) in bins:\n",
    "        ax.axvline(ta, linestyle=':', c='r')\n",
    "        ax.axvline(tb, linestyle=':', c='r')\n",
    "\n",
    "    return ax"
   ]
  },
  {
   "cell_type": "code",
   "execution_count": 16,
   "id": "69f606a1",
   "metadata": {},
   "outputs": [
    {
     "data": {
      "text/plain": [
       "<Axes: >"
      ]
     },
     "execution_count": 16,
     "metadata": {},
     "output_type": "execute_result"
    },
    {
     "data": {
      "image/png": "[encoded data removed]",
      "text/plain": [
       "<Figure size 640x480 with 1 Axes>"
      ]
     },
     "metadata": {},
     "output_type": "display_data"
    },
    {
     "data": {
      "image/png": "[encoded data removed]",
      "text/plain": [
       "<Figure size 640x480 with 1 Axes>"
      ]
     },
     "metadata": {},
     "output_type": "display_data"
    },
    {
     "data": {
      "image/png": "[encoded data removed]",
      "text/plain": [
       "<Figure size 640x480 with 1 Axes>"
      ]
     },
     "metadata": {},
     "output_type": "display_data"
    }
   ],
   "source": [
    "check_bins_graphically()\n",
    "check_bins_graphically(max_interval=10)\n",
    "check_bins_graphically(max_interval=20)"
   ]
  },
  {
   "cell_type": "code",
   "execution_count": null,
   "id": "fec87b8e",
   "metadata": {},
   "outputs": [],
   "source": []
  }
 ],
 "metadata": {
  "kernelspec": {
   "display_name": "base",
   "language": "python",
   "name": "python3"
  },
  "language_info": {
   "codemirror_mode": {
    "name": "ipython",
    "version": 3
   },
   "file_extension": ".py",
   "mimetype": "text/x-python",
   "name": "python",
   "nbconvert_exporter": "python",
   "pygments_lexer": "ipython3",
   "version": "3.10.16"
  }
 },
 "nbformat": 4,
 "nbformat_minor": 5
}
