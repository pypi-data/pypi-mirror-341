{
 "cells": [
  {
   "cell_type": "markdown",
   "metadata": {},
   "source": [
    "# Cognyx client debug notebook\n",
    "\n",
    "This notebook is used to debug the Cognyx client used in cognyx automations.\n",
    "you will need a .env file with a JWT token to run this notebook. You can get this after logging into the cognyx app.\n",
    "\n",
    "In the cell below, define the bom_id and view_id you want to use (view_id will default to default view if not provided)"
   ]
  },
  {
   "cell_type": "code",
   "execution_count": 1,
   "metadata": {},
   "outputs": [],
   "source": [
    "import os\n",
    "\n",
    "jwt = os.getenv(\"COGNYX_TOKEN\")\n",
    "\n",
    "bom_id = \"5a012f0d-3215-429b-bef9-dd1be54d9da2\"\n",
    "view_id = None\n",
    "base_url = \"http://cognyx-backend.test\"\n",
    "\n",
    "if not bom_id:\n",
    "    raise ValueError(\"bom_id is required\")"
   ]
  },
  {
   "cell_type": "markdown",
   "metadata": {},
   "source": [
    "It will load the bom data and return it."
   ]
  },
  {
   "cell_type": "code",
   "execution_count": 2,
   "metadata": {},
   "outputs": [],
   "source": [
    "from cognyx_bom_sdk.cognyx import CognyxClient\n",
    "\n",
    "cognyx = CognyxClient(base_url=base_url, jwt_token=jwt)\n",
    "\n",
    "bom_data = await cognyx.load_bom_data(bom_id, view_id)"
   ]
  },
  {
   "cell_type": "markdown",
   "metadata": {},
   "source": [
    "When the bom is loaded it will then initialize the BomClient"
   ]
  },
  {
   "cell_type": "code",
   "execution_count": 3,
   "metadata": {},
   "outputs": [],
   "source": [
    "from cognyx_bom_sdk.client import BomClient\n",
    "\n",
    "\n",
    "def update_callback(update: dict) -> None:\n",
    "    \"\"\"Callback function to handle updates to the BOM.\"\"\"\n",
    "    print(\"Update:\", update)\n",
    "\n",
    "\n",
    "client = BomClient(bom_data=bom_data, update_callback=update_callback)"
   ]
  },
  {
   "cell_type": "markdown",
   "metadata": {},
   "source": [
    "You can now use the client to interact with the BOM."
   ]
  },
  {
   "cell_type": "code",
   "execution_count": 4,
   "metadata": {},
   "outputs": [
    {
     "data": {
      "text/plain": [
       "0"
      ]
     },
     "execution_count": 4,
     "metadata": {},
     "output_type": "execute_result"
    }
   ],
   "source": [
    "from functools import reduce\n",
    "\n",
    "from cognyx_bom_sdk.models import BomInstance\n",
    "\n",
    "mass_attribute = \"added mass g\"\n",
    "\n",
    "\n",
    "def get_instance_mass(instance: BomInstance) -> int:\n",
    "    \"\"\"Get the mass of a BOM instance.\n",
    "\n",
    "    Args:\n",
    "        instance: BOM instance\n",
    "\n",
    "    Returns:\n",
    "        The mass of the instance\n",
    "    \"\"\"\n",
    "    instance_mass = client.get_instance_attribute(instance.id, mass_attribute)\n",
    "\n",
    "    if instance_mass is None:\n",
    "        return 0\n",
    "\n",
    "    print(f\"instance {instance.name} weighs {instance_mass}g\")\n",
    "    return instance.quantity * instance_mass\n",
    "\n",
    "\n",
    "reduce(lambda total, instance: total + get_instance_mass(instance), client.list_bom_instances(), 0)"
   ]
  },
  {
   "cell_type": "code",
   "execution_count": null,
   "metadata": {},
   "outputs": [
    {
     "name": "stdout",
     "output_type": "stream",
     "text": [
      "id='1a954d6c-994e-4bf2-8bb0-47cedfd82cab' name='branch A' description='' bom_id='5a012f0d-3215-429b-bef9-dd1be54d9da2' view_id='e5409126-65e5-4b11-adf0-ecc8e1812684' reference='' status='not_started' custom_attributes=[Attribute(id='726a8dea-230e-40bb-8858-c7e32e5e50e2', name='Country', description='', slug='country', value='France', options=[], attribute_id='c782de11-0d87-4f07-91f3-9461edbbf3d2', type='STRING')] entity_type=ObjectType(id='788da1ba-104e-455b-8412-8b4aea467be0', name='child test', description='child object type', slug='child_test', base_unit='pc', bom_attributes=[], catalog_attributes=[], parent_id='07b230ce-ac49-4fbd-a5b1-652228c0dce2', parent=ObjectType(id='07b230ce-ac49-4fbd-a5b1-652228c0dce2', name='Parent', description='parent type', slug='parent', base_unit='pc', bom_attributes=[], catalog_attributes=[], parent_id=None, parent=None, display_name='Parent'), display_name='Parent > child test') entity_type_id='788da1ba-104e-455b-8412-8b4aea467be0' quantity=3 variability_configurations=[] system_attributes=BomInstanceSystemAttributes(statuses=['has_warning_no_entity', 'is_standard'])\n",
      "id='1a954d6c-994e-4bf2-8bb0-47cedfd82cab' name='branch A' description='' bom_id='5a012f0d-3215-429b-bef9-dd1be54d9da2' view_id='e5409126-65e5-4b11-adf0-ecc8e1812684' reference='' status='not_started' custom_attributes=[Attribute(id='726a8dea-230e-40bb-8858-c7e32e5e50e2', name='Country', description='', slug='country', value='India', options=[], attribute_id='c782de11-0d87-4f07-91f3-9461edbbf3d2', type='STRING')] entity_type=ObjectType(id='788da1ba-104e-455b-8412-8b4aea467be0', name='child test', description='child object type', slug='child_test', base_unit='pc', bom_attributes=[], catalog_attributes=[], parent_id='07b230ce-ac49-4fbd-a5b1-652228c0dce2', parent=ObjectType(id='07b230ce-ac49-4fbd-a5b1-652228c0dce2', name='Parent', description='parent type', slug='parent', base_unit='pc', bom_attributes=[], catalog_attributes=[], parent_id=None, parent=None, display_name='Parent'), display_name='Parent > child test') entity_type_id='788da1ba-104e-455b-8412-8b4aea467be0' quantity=3 variability_configurations=[] system_attributes=BomInstanceSystemAttributes(statuses=['has_warning_no_entity', 'is_standard'])\n"
     ]
    },
    {
     "data": {
      "text/plain": [
       "'India'"
      ]
     },
     "execution_count": 7,
     "metadata": {},
     "output_type": "execute_result"
    }
   ],
   "source": [
    "instance = client.get_bom_instance(\"branch a\")\n",
    "attribute = client.get_instance_attribute(instance.id, \"country\")\n",
    "\n",
    "result = await cognyx.update_instance(instance.id, {\"quantity\": 3})\n",
    "\n",
    "\n",
    "attribute_change = await cognyx.update_instance_attribute(\n",
    "    instance.id, \"c782de11-0d87-4f07-91f3-9461edbbf3d2\", \"India\"\n",
    ")\n",
    "\n",
    "attribute_value = None\n",
    "for attr in attribute_change.custom_attributes:\n",
    "    if attr.name.lower() == \"country\":\n",
    "        attribute_value = attr.value\n",
    "        break\n",
    "\n",
    "attribute_value"
   ]
  }
 ],
 "metadata": {
  "kernelspec": {
   "display_name": ".venv",
   "language": "python",
   "name": "python3"
  },
  "language_info": {
   "codemirror_mode": {
    "name": "ipython",
    "version": 3
   },
   "file_extension": ".py",
   "mimetype": "text/x-python",
   "name": "python",
   "nbconvert_exporter": "python",
   "pygments_lexer": "ipython3",
   "version": "3.11.11"
  }
 },
 "nbformat": 4,
 "nbformat_minor": 2
}
