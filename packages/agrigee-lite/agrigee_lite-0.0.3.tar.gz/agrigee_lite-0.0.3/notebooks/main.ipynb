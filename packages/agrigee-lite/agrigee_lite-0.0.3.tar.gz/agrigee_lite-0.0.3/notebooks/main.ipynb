{
 "cells": [
  {
   "cell_type": "code",
   "execution_count": 1,
   "metadata": {},
   "outputs": [],
   "source": [
    "import ee\n",
    "import geopandas as gpd\n",
    "import matplotlib.pyplot as plt\n",
    "import numpy as np\n",
    "import pandas as pd\n",
    "\n",
    "import agrigee_lite as agl\n",
    "\n",
    "np.set_printoptions(suppress=True)\n",
    "np.set_printoptions(precision=2)\n",
    "pd.set_option('display.float_format', '{:.2f}'.format)"
   ]
  },
  {
   "cell_type": "code",
   "execution_count": 2,
   "metadata": {},
   "outputs": [],
   "source": [
    "ee.Initialize(opt_url=\"https://earthengine-highvolume.googleapis.com\", project=\"ee-paulagibrim\")"
   ]
  },
  {
   "cell_type": "code",
   "execution_count": 3,
   "metadata": {},
   "outputs": [],
   "source": [
    "df = agl.get_all_tasks()"
   ]
  },
  {
   "cell_type": "code",
   "execution_count": null,
   "metadata": {},
   "outputs": [],
   "source": [
    "set(df.description.apply(lambda x: x.split(\"_\", 1)[0] + \"_\" + x.split(\"_\", 2)[2]).tolist())"
   ]
  },
  {
   "cell_type": "code",
   "execution_count": 4,
   "metadata": {},
   "outputs": [],
   "source": [
    "gdf = gpd.read_parquet(\"tests/data/gdf.parquet\")"
   ]
  },
  {
   "cell_type": "code",
   "execution_count": 5,
   "metadata": {},
   "outputs": [],
   "source": [
    "satellite = agl.sat.Sentinel2()"
   ]
  },
  {
   "cell_type": "code",
   "execution_count": 6,
   "metadata": {},
   "outputs": [
    {
     "name": "stdout",
     "output_type": "stream",
     "text": [
      "{'agl_multiple_sits_d380c64a17a6d917e4fc9a186b5b776a0bf78ac1_5', 'agl_multiple_sits_d380c64a17a6d917e4fc9a186b5b776a0bf78ac1_4', 'download_samples', 'agl_multiple_sits_d380c64a17a6d917e4fc9a186b5b776a0bf78ac1_3', 'agl_multiple_sits_d380c64a17a6d917e4fc9a186b5b776a0bf78ac1_6', 'agl_multiple_sits_d380c64a17a6d917e4fc9a186b5b776a0bf78ac1_0', 'agl_multiple_sits_d380c64a17a6d917e4fc9a186b5b776a0bf78ac1_2', 'agl_multiple_sits_d380c64a17a6d917e4fc9a186b5b776a0bf78ac1_1'}\n"
     ]
    },
    {
     "name": "stderr",
     "output_type": "stream",
     "text": [
      "100%|██████████| 256/256 [00:00<00:00, 230862.57it/s]"
     ]
    },
    {
     "name": "stdout",
     "output_type": "stream",
     "text": [
      "agl_multiple_sits_s2_d380c64a17a6d917e4fc9a186b5b776a0bf78ac1_0\n",
      "agl_multiple_sits_s2_d380c64a17a6d917e4fc9a186b5b776a0bf78ac1_1\n",
      "agl_multiple_sits_s2_d380c64a17a6d917e4fc9a186b5b776a0bf78ac1_2\n",
      "agl_multiple_sits_s2_d380c64a17a6d917e4fc9a186b5b776a0bf78ac1_3\n",
      "agl_multiple_sits_s2_d380c64a17a6d917e4fc9a186b5b776a0bf78ac1_4\n",
      "agl_multiple_sits_s2_d380c64a17a6d917e4fc9a186b5b776a0bf78ac1_5\n",
      "agl_multiple_sits_s2_d380c64a17a6d917e4fc9a186b5b776a0bf78ac1_6\n",
      "agl_multiple_sits_s2_d380c64a17a6d917e4fc9a186b5b776a0bf78ac1_7\n",
      "agl_multiple_sits_s2_d380c64a17a6d917e4fc9a186b5b776a0bf78ac1_8\n",
      "agl_multiple_sits_s2_d380c64a17a6d917e4fc9a186b5b776a0bf78ac1_9\n",
      "agl_multiple_sits_s2_d380c64a17a6d917e4fc9a186b5b776a0bf78ac1_10\n",
      "agl_multiple_sits_s2_d380c64a17a6d917e4fc9a186b5b776a0bf78ac1_11\n",
      "agl_multiple_sits_s2_d380c64a17a6d917e4fc9a186b5b776a0bf78ac1_12\n",
      "agl_multiple_sits_s2_d380c64a17a6d917e4fc9a186b5b776a0bf78ac1_13\n",
      "agl_multiple_sits_s2_d380c64a17a6d917e4fc9a186b5b776a0bf78ac1_14\n",
      "agl_multiple_sits_s2_d380c64a17a6d917e4fc9a186b5b776a0bf78ac1_15\n",
      "agl_multiple_sits_s2_d380c64a17a6d917e4fc9a186b5b776a0bf78ac1_16\n",
      "agl_multiple_sits_s2_d380c64a17a6d917e4fc9a186b5b776a0bf78ac1_17\n",
      "agl_multiple_sits_s2_d380c64a17a6d917e4fc9a186b5b776a0bf78ac1_18\n",
      "agl_multiple_sits_s2_d380c64a17a6d917e4fc9a186b5b776a0bf78ac1_19\n",
      "agl_multiple_sits_s2_d380c64a17a6d917e4fc9a186b5b776a0bf78ac1_20\n",
      "agl_multiple_sits_s2_d380c64a17a6d917e4fc9a186b5b776a0bf78ac1_21\n",
      "agl_multiple_sits_s2_d380c64a17a6d917e4fc9a186b5b776a0bf78ac1_22\n",
      "agl_multiple_sits_s2_d380c64a17a6d917e4fc9a186b5b776a0bf78ac1_23\n",
      "agl_multiple_sits_s2_d380c64a17a6d917e4fc9a186b5b776a0bf78ac1_24\n",
      "agl_multiple_sits_s2_d380c64a17a6d917e4fc9a186b5b776a0bf78ac1_25\n",
      "agl_multiple_sits_s2_d380c64a17a6d917e4fc9a186b5b776a0bf78ac1_26\n",
      "agl_multiple_sits_s2_d380c64a17a6d917e4fc9a186b5b776a0bf78ac1_27\n",
      "agl_multiple_sits_s2_d380c64a17a6d917e4fc9a186b5b776a0bf78ac1_28\n",
      "agl_multiple_sits_s2_d380c64a17a6d917e4fc9a186b5b776a0bf78ac1_29\n",
      "agl_multiple_sits_s2_d380c64a17a6d917e4fc9a186b5b776a0bf78ac1_30\n",
      "agl_multiple_sits_s2_d380c64a17a6d917e4fc9a186b5b776a0bf78ac1_31\n",
      "agl_multiple_sits_s2_d380c64a17a6d917e4fc9a186b5b776a0bf78ac1_32\n",
      "agl_multiple_sits_s2_d380c64a17a6d917e4fc9a186b5b776a0bf78ac1_33\n",
      "agl_multiple_sits_s2_d380c64a17a6d917e4fc9a186b5b776a0bf78ac1_34\n",
      "agl_multiple_sits_s2_d380c64a17a6d917e4fc9a186b5b776a0bf78ac1_35\n",
      "agl_multiple_sits_s2_d380c64a17a6d917e4fc9a186b5b776a0bf78ac1_36\n",
      "agl_multiple_sits_s2_d380c64a17a6d917e4fc9a186b5b776a0bf78ac1_37\n",
      "agl_multiple_sits_s2_d380c64a17a6d917e4fc9a186b5b776a0bf78ac1_38\n",
      "agl_multiple_sits_s2_d380c64a17a6d917e4fc9a186b5b776a0bf78ac1_39\n",
      "agl_multiple_sits_s2_d380c64a17a6d917e4fc9a186b5b776a0bf78ac1_40\n",
      "agl_multiple_sits_s2_d380c64a17a6d917e4fc9a186b5b776a0bf78ac1_41\n",
      "agl_multiple_sits_s2_d380c64a17a6d917e4fc9a186b5b776a0bf78ac1_42\n",
      "agl_multiple_sits_s2_d380c64a17a6d917e4fc9a186b5b776a0bf78ac1_43\n",
      "agl_multiple_sits_s2_d380c64a17a6d917e4fc9a186b5b776a0bf78ac1_44\n",
      "agl_multiple_sits_s2_d380c64a17a6d917e4fc9a186b5b776a0bf78ac1_45\n",
      "agl_multiple_sits_s2_d380c64a17a6d917e4fc9a186b5b776a0bf78ac1_46\n",
      "agl_multiple_sits_s2_d380c64a17a6d917e4fc9a186b5b776a0bf78ac1_47\n",
      "agl_multiple_sits_s2_d380c64a17a6d917e4fc9a186b5b776a0bf78ac1_48\n",
      "agl_multiple_sits_s2_d380c64a17a6d917e4fc9a186b5b776a0bf78ac1_49\n",
      "agl_multiple_sits_s2_d380c64a17a6d917e4fc9a186b5b776a0bf78ac1_50\n",
      "agl_multiple_sits_s2_d380c64a17a6d917e4fc9a186b5b776a0bf78ac1_51\n",
      "agl_multiple_sits_s2_d380c64a17a6d917e4fc9a186b5b776a0bf78ac1_52\n",
      "agl_multiple_sits_s2_d380c64a17a6d917e4fc9a186b5b776a0bf78ac1_53\n",
      "agl_multiple_sits_s2_d380c64a17a6d917e4fc9a186b5b776a0bf78ac1_54\n",
      "agl_multiple_sits_s2_d380c64a17a6d917e4fc9a186b5b776a0bf78ac1_55\n",
      "agl_multiple_sits_s2_d380c64a17a6d917e4fc9a186b5b776a0bf78ac1_56\n",
      "agl_multiple_sits_s2_d380c64a17a6d917e4fc9a186b5b776a0bf78ac1_57\n",
      "agl_multiple_sits_s2_d380c64a17a6d917e4fc9a186b5b776a0bf78ac1_58\n",
      "agl_multiple_sits_s2_d380c64a17a6d917e4fc9a186b5b776a0bf78ac1_59\n",
      "agl_multiple_sits_s2_d380c64a17a6d917e4fc9a186b5b776a0bf78ac1_60\n",
      "agl_multiple_sits_s2_d380c64a17a6d917e4fc9a186b5b776a0bf78ac1_61\n",
      "agl_multiple_sits_s2_d380c64a17a6d917e4fc9a186b5b776a0bf78ac1_62\n",
      "agl_multiple_sits_s2_d380c64a17a6d917e4fc9a186b5b776a0bf78ac1_63\n",
      "agl_multiple_sits_s2_d380c64a17a6d917e4fc9a186b5b776a0bf78ac1_64\n",
      "agl_multiple_sits_s2_d380c64a17a6d917e4fc9a186b5b776a0bf78ac1_65\n",
      "agl_multiple_sits_s2_d380c64a17a6d917e4fc9a186b5b776a0bf78ac1_66\n",
      "agl_multiple_sits_s2_d380c64a17a6d917e4fc9a186b5b776a0bf78ac1_67\n",
      "agl_multiple_sits_s2_d380c64a17a6d917e4fc9a186b5b776a0bf78ac1_68\n",
      "agl_multiple_sits_s2_d380c64a17a6d917e4fc9a186b5b776a0bf78ac1_69\n",
      "agl_multiple_sits_s2_d380c64a17a6d917e4fc9a186b5b776a0bf78ac1_70\n",
      "agl_multiple_sits_s2_d380c64a17a6d917e4fc9a186b5b776a0bf78ac1_71\n",
      "agl_multiple_sits_s2_d380c64a17a6d917e4fc9a186b5b776a0bf78ac1_72\n",
      "agl_multiple_sits_s2_d380c64a17a6d917e4fc9a186b5b776a0bf78ac1_73\n",
      "agl_multiple_sits_s2_d380c64a17a6d917e4fc9a186b5b776a0bf78ac1_74\n",
      "agl_multiple_sits_s2_d380c64a17a6d917e4fc9a186b5b776a0bf78ac1_75\n",
      "agl_multiple_sits_s2_d380c64a17a6d917e4fc9a186b5b776a0bf78ac1_76\n",
      "agl_multiple_sits_s2_d380c64a17a6d917e4fc9a186b5b776a0bf78ac1_77\n",
      "agl_multiple_sits_s2_d380c64a17a6d917e4fc9a186b5b776a0bf78ac1_78\n",
      "agl_multiple_sits_s2_d380c64a17a6d917e4fc9a186b5b776a0bf78ac1_79\n",
      "agl_multiple_sits_s2_d380c64a17a6d917e4fc9a186b5b776a0bf78ac1_80\n",
      "agl_multiple_sits_s2_d380c64a17a6d917e4fc9a186b5b776a0bf78ac1_81\n",
      "agl_multiple_sits_s2_d380c64a17a6d917e4fc9a186b5b776a0bf78ac1_82\n",
      "agl_multiple_sits_s2_d380c64a17a6d917e4fc9a186b5b776a0bf78ac1_83\n",
      "agl_multiple_sits_s2_d380c64a17a6d917e4fc9a186b5b776a0bf78ac1_84\n",
      "agl_multiple_sits_s2_d380c64a17a6d917e4fc9a186b5b776a0bf78ac1_85\n",
      "agl_multiple_sits_s2_d380c64a17a6d917e4fc9a186b5b776a0bf78ac1_86\n",
      "agl_multiple_sits_s2_d380c64a17a6d917e4fc9a186b5b776a0bf78ac1_87\n",
      "agl_multiple_sits_s2_d380c64a17a6d917e4fc9a186b5b776a0bf78ac1_88\n",
      "agl_multiple_sits_s2_d380c64a17a6d917e4fc9a186b5b776a0bf78ac1_89\n",
      "agl_multiple_sits_s2_d380c64a17a6d917e4fc9a186b5b776a0bf78ac1_90\n",
      "agl_multiple_sits_s2_d380c64a17a6d917e4fc9a186b5b776a0bf78ac1_91\n",
      "agl_multiple_sits_s2_d380c64a17a6d917e4fc9a186b5b776a0bf78ac1_92\n",
      "agl_multiple_sits_s2_d380c64a17a6d917e4fc9a186b5b776a0bf78ac1_93\n",
      "agl_multiple_sits_s2_d380c64a17a6d917e4fc9a186b5b776a0bf78ac1_94\n",
      "agl_multiple_sits_s2_d380c64a17a6d917e4fc9a186b5b776a0bf78ac1_95\n",
      "agl_multiple_sits_s2_d380c64a17a6d917e4fc9a186b5b776a0bf78ac1_96\n",
      "agl_multiple_sits_s2_d380c64a17a6d917e4fc9a186b5b776a0bf78ac1_97\n",
      "agl_multiple_sits_s2_d380c64a17a6d917e4fc9a186b5b776a0bf78ac1_98\n",
      "agl_multiple_sits_s2_d380c64a17a6d917e4fc9a186b5b776a0bf78ac1_99\n",
      "agl_multiple_sits_s2_d380c64a17a6d917e4fc9a186b5b776a0bf78ac1_100\n",
      "agl_multiple_sits_s2_d380c64a17a6d917e4fc9a186b5b776a0bf78ac1_101\n",
      "agl_multiple_sits_s2_d380c64a17a6d917e4fc9a186b5b776a0bf78ac1_102\n",
      "agl_multiple_sits_s2_d380c64a17a6d917e4fc9a186b5b776a0bf78ac1_103\n",
      "agl_multiple_sits_s2_d380c64a17a6d917e4fc9a186b5b776a0bf78ac1_104\n",
      "agl_multiple_sits_s2_d380c64a17a6d917e4fc9a186b5b776a0bf78ac1_105\n",
      "agl_multiple_sits_s2_d380c64a17a6d917e4fc9a186b5b776a0bf78ac1_106\n",
      "agl_multiple_sits_s2_d380c64a17a6d917e4fc9a186b5b776a0bf78ac1_107\n",
      "agl_multiple_sits_s2_d380c64a17a6d917e4fc9a186b5b776a0bf78ac1_108\n",
      "agl_multiple_sits_s2_d380c64a17a6d917e4fc9a186b5b776a0bf78ac1_109\n",
      "agl_multiple_sits_s2_d380c64a17a6d917e4fc9a186b5b776a0bf78ac1_110\n",
      "agl_multiple_sits_s2_d380c64a17a6d917e4fc9a186b5b776a0bf78ac1_111\n",
      "agl_multiple_sits_s2_d380c64a17a6d917e4fc9a186b5b776a0bf78ac1_112\n",
      "agl_multiple_sits_s2_d380c64a17a6d917e4fc9a186b5b776a0bf78ac1_113\n",
      "agl_multiple_sits_s2_d380c64a17a6d917e4fc9a186b5b776a0bf78ac1_114\n",
      "agl_multiple_sits_s2_d380c64a17a6d917e4fc9a186b5b776a0bf78ac1_115\n",
      "agl_multiple_sits_s2_d380c64a17a6d917e4fc9a186b5b776a0bf78ac1_116\n",
      "agl_multiple_sits_s2_d380c64a17a6d917e4fc9a186b5b776a0bf78ac1_117\n",
      "agl_multiple_sits_s2_d380c64a17a6d917e4fc9a186b5b776a0bf78ac1_118\n",
      "agl_multiple_sits_s2_d380c64a17a6d917e4fc9a186b5b776a0bf78ac1_119\n",
      "agl_multiple_sits_s2_d380c64a17a6d917e4fc9a186b5b776a0bf78ac1_120\n",
      "agl_multiple_sits_s2_d380c64a17a6d917e4fc9a186b5b776a0bf78ac1_121\n",
      "agl_multiple_sits_s2_d380c64a17a6d917e4fc9a186b5b776a0bf78ac1_122\n",
      "agl_multiple_sits_s2_d380c64a17a6d917e4fc9a186b5b776a0bf78ac1_123\n",
      "agl_multiple_sits_s2_d380c64a17a6d917e4fc9a186b5b776a0bf78ac1_124\n",
      "agl_multiple_sits_s2_d380c64a17a6d917e4fc9a186b5b776a0bf78ac1_125\n",
      "agl_multiple_sits_s2_d380c64a17a6d917e4fc9a186b5b776a0bf78ac1_126\n",
      "agl_multiple_sits_s2_d380c64a17a6d917e4fc9a186b5b776a0bf78ac1_127\n",
      "agl_multiple_sits_s2_d380c64a17a6d917e4fc9a186b5b776a0bf78ac1_128\n",
      "agl_multiple_sits_s2_d380c64a17a6d917e4fc9a186b5b776a0bf78ac1_129\n",
      "agl_multiple_sits_s2_d380c64a17a6d917e4fc9a186b5b776a0bf78ac1_130\n",
      "agl_multiple_sits_s2_d380c64a17a6d917e4fc9a186b5b776a0bf78ac1_131\n",
      "agl_multiple_sits_s2_d380c64a17a6d917e4fc9a186b5b776a0bf78ac1_132\n",
      "agl_multiple_sits_s2_d380c64a17a6d917e4fc9a186b5b776a0bf78ac1_133\n",
      "agl_multiple_sits_s2_d380c64a17a6d917e4fc9a186b5b776a0bf78ac1_134\n",
      "agl_multiple_sits_s2_d380c64a17a6d917e4fc9a186b5b776a0bf78ac1_135\n",
      "agl_multiple_sits_s2_d380c64a17a6d917e4fc9a186b5b776a0bf78ac1_136\n",
      "agl_multiple_sits_s2_d380c64a17a6d917e4fc9a186b5b776a0bf78ac1_137\n",
      "agl_multiple_sits_s2_d380c64a17a6d917e4fc9a186b5b776a0bf78ac1_138\n",
      "agl_multiple_sits_s2_d380c64a17a6d917e4fc9a186b5b776a0bf78ac1_139\n",
      "agl_multiple_sits_s2_d380c64a17a6d917e4fc9a186b5b776a0bf78ac1_140\n",
      "agl_multiple_sits_s2_d380c64a17a6d917e4fc9a186b5b776a0bf78ac1_141\n",
      "agl_multiple_sits_s2_d380c64a17a6d917e4fc9a186b5b776a0bf78ac1_142\n",
      "agl_multiple_sits_s2_d380c64a17a6d917e4fc9a186b5b776a0bf78ac1_143\n",
      "agl_multiple_sits_s2_d380c64a17a6d917e4fc9a186b5b776a0bf78ac1_144\n",
      "agl_multiple_sits_s2_d380c64a17a6d917e4fc9a186b5b776a0bf78ac1_145\n",
      "agl_multiple_sits_s2_d380c64a17a6d917e4fc9a186b5b776a0bf78ac1_146\n",
      "agl_multiple_sits_s2_d380c64a17a6d917e4fc9a186b5b776a0bf78ac1_147\n",
      "agl_multiple_sits_s2_d380c64a17a6d917e4fc9a186b5b776a0bf78ac1_148\n",
      "agl_multiple_sits_s2_d380c64a17a6d917e4fc9a186b5b776a0bf78ac1_149\n",
      "agl_multiple_sits_s2_d380c64a17a6d917e4fc9a186b5b776a0bf78ac1_150\n",
      "agl_multiple_sits_s2_d380c64a17a6d917e4fc9a186b5b776a0bf78ac1_151\n",
      "agl_multiple_sits_s2_d380c64a17a6d917e4fc9a186b5b776a0bf78ac1_152\n",
      "agl_multiple_sits_s2_d380c64a17a6d917e4fc9a186b5b776a0bf78ac1_153\n",
      "agl_multiple_sits_s2_d380c64a17a6d917e4fc9a186b5b776a0bf78ac1_154\n",
      "agl_multiple_sits_s2_d380c64a17a6d917e4fc9a186b5b776a0bf78ac1_155\n",
      "agl_multiple_sits_s2_d380c64a17a6d917e4fc9a186b5b776a0bf78ac1_156\n",
      "agl_multiple_sits_s2_d380c64a17a6d917e4fc9a186b5b776a0bf78ac1_157\n",
      "agl_multiple_sits_s2_d380c64a17a6d917e4fc9a186b5b776a0bf78ac1_158\n",
      "agl_multiple_sits_s2_d380c64a17a6d917e4fc9a186b5b776a0bf78ac1_159\n",
      "agl_multiple_sits_s2_d380c64a17a6d917e4fc9a186b5b776a0bf78ac1_160\n",
      "agl_multiple_sits_s2_d380c64a17a6d917e4fc9a186b5b776a0bf78ac1_161\n",
      "agl_multiple_sits_s2_d380c64a17a6d917e4fc9a186b5b776a0bf78ac1_162\n",
      "agl_multiple_sits_s2_d380c64a17a6d917e4fc9a186b5b776a0bf78ac1_163\n",
      "agl_multiple_sits_s2_d380c64a17a6d917e4fc9a186b5b776a0bf78ac1_164\n",
      "agl_multiple_sits_s2_d380c64a17a6d917e4fc9a186b5b776a0bf78ac1_165\n",
      "agl_multiple_sits_s2_d380c64a17a6d917e4fc9a186b5b776a0bf78ac1_166\n",
      "agl_multiple_sits_s2_d380c64a17a6d917e4fc9a186b5b776a0bf78ac1_167\n",
      "agl_multiple_sits_s2_d380c64a17a6d917e4fc9a186b5b776a0bf78ac1_168\n",
      "agl_multiple_sits_s2_d380c64a17a6d917e4fc9a186b5b776a0bf78ac1_169\n",
      "agl_multiple_sits_s2_d380c64a17a6d917e4fc9a186b5b776a0bf78ac1_170\n",
      "agl_multiple_sits_s2_d380c64a17a6d917e4fc9a186b5b776a0bf78ac1_171\n",
      "agl_multiple_sits_s2_d380c64a17a6d917e4fc9a186b5b776a0bf78ac1_172\n",
      "agl_multiple_sits_s2_d380c64a17a6d917e4fc9a186b5b776a0bf78ac1_173\n",
      "agl_multiple_sits_s2_d380c64a17a6d917e4fc9a186b5b776a0bf78ac1_174\n",
      "agl_multiple_sits_s2_d380c64a17a6d917e4fc9a186b5b776a0bf78ac1_175\n",
      "agl_multiple_sits_s2_d380c64a17a6d917e4fc9a186b5b776a0bf78ac1_176\n",
      "agl_multiple_sits_s2_d380c64a17a6d917e4fc9a186b5b776a0bf78ac1_177\n",
      "agl_multiple_sits_s2_d380c64a17a6d917e4fc9a186b5b776a0bf78ac1_178\n",
      "agl_multiple_sits_s2_d380c64a17a6d917e4fc9a186b5b776a0bf78ac1_179\n",
      "agl_multiple_sits_s2_d380c64a17a6d917e4fc9a186b5b776a0bf78ac1_180\n",
      "agl_multiple_sits_s2_d380c64a17a6d917e4fc9a186b5b776a0bf78ac1_181\n",
      "agl_multiple_sits_s2_d380c64a17a6d917e4fc9a186b5b776a0bf78ac1_182\n",
      "agl_multiple_sits_s2_d380c64a17a6d917e4fc9a186b5b776a0bf78ac1_183\n",
      "agl_multiple_sits_s2_d380c64a17a6d917e4fc9a186b5b776a0bf78ac1_184\n",
      "agl_multiple_sits_s2_d380c64a17a6d917e4fc9a186b5b776a0bf78ac1_185\n",
      "agl_multiple_sits_s2_d380c64a17a6d917e4fc9a186b5b776a0bf78ac1_186\n",
      "agl_multiple_sits_s2_d380c64a17a6d917e4fc9a186b5b776a0bf78ac1_187\n",
      "agl_multiple_sits_s2_d380c64a17a6d917e4fc9a186b5b776a0bf78ac1_188\n",
      "agl_multiple_sits_s2_d380c64a17a6d917e4fc9a186b5b776a0bf78ac1_189\n",
      "agl_multiple_sits_s2_d380c64a17a6d917e4fc9a186b5b776a0bf78ac1_190\n",
      "agl_multiple_sits_s2_d380c64a17a6d917e4fc9a186b5b776a0bf78ac1_191\n",
      "agl_multiple_sits_s2_d380c64a17a6d917e4fc9a186b5b776a0bf78ac1_192\n",
      "agl_multiple_sits_s2_d380c64a17a6d917e4fc9a186b5b776a0bf78ac1_193\n",
      "agl_multiple_sits_s2_d380c64a17a6d917e4fc9a186b5b776a0bf78ac1_194\n",
      "agl_multiple_sits_s2_d380c64a17a6d917e4fc9a186b5b776a0bf78ac1_195\n",
      "agl_multiple_sits_s2_d380c64a17a6d917e4fc9a186b5b776a0bf78ac1_196\n",
      "agl_multiple_sits_s2_d380c64a17a6d917e4fc9a186b5b776a0bf78ac1_197\n",
      "agl_multiple_sits_s2_d380c64a17a6d917e4fc9a186b5b776a0bf78ac1_198\n",
      "agl_multiple_sits_s2_d380c64a17a6d917e4fc9a186b5b776a0bf78ac1_199\n",
      "agl_multiple_sits_s2_d380c64a17a6d917e4fc9a186b5b776a0bf78ac1_200\n",
      "agl_multiple_sits_s2_d380c64a17a6d917e4fc9a186b5b776a0bf78ac1_201\n",
      "agl_multiple_sits_s2_d380c64a17a6d917e4fc9a186b5b776a0bf78ac1_202\n",
      "agl_multiple_sits_s2_d380c64a17a6d917e4fc9a186b5b776a0bf78ac1_203\n",
      "agl_multiple_sits_s2_d380c64a17a6d917e4fc9a186b5b776a0bf78ac1_204\n",
      "agl_multiple_sits_s2_d380c64a17a6d917e4fc9a186b5b776a0bf78ac1_205\n",
      "agl_multiple_sits_s2_d380c64a17a6d917e4fc9a186b5b776a0bf78ac1_206\n",
      "agl_multiple_sits_s2_d380c64a17a6d917e4fc9a186b5b776a0bf78ac1_207\n",
      "agl_multiple_sits_s2_d380c64a17a6d917e4fc9a186b5b776a0bf78ac1_208\n",
      "agl_multiple_sits_s2_d380c64a17a6d917e4fc9a186b5b776a0bf78ac1_209\n",
      "agl_multiple_sits_s2_d380c64a17a6d917e4fc9a186b5b776a0bf78ac1_210\n",
      "agl_multiple_sits_s2_d380c64a17a6d917e4fc9a186b5b776a0bf78ac1_211\n",
      "agl_multiple_sits_s2_d380c64a17a6d917e4fc9a186b5b776a0bf78ac1_212\n",
      "agl_multiple_sits_s2_d380c64a17a6d917e4fc9a186b5b776a0bf78ac1_213\n",
      "agl_multiple_sits_s2_d380c64a17a6d917e4fc9a186b5b776a0bf78ac1_214\n",
      "agl_multiple_sits_s2_d380c64a17a6d917e4fc9a186b5b776a0bf78ac1_215\n",
      "agl_multiple_sits_s2_d380c64a17a6d917e4fc9a186b5b776a0bf78ac1_216\n",
      "agl_multiple_sits_s2_d380c64a17a6d917e4fc9a186b5b776a0bf78ac1_217\n",
      "agl_multiple_sits_s2_d380c64a17a6d917e4fc9a186b5b776a0bf78ac1_218\n",
      "agl_multiple_sits_s2_d380c64a17a6d917e4fc9a186b5b776a0bf78ac1_219\n",
      "agl_multiple_sits_s2_d380c64a17a6d917e4fc9a186b5b776a0bf78ac1_220\n",
      "agl_multiple_sits_s2_d380c64a17a6d917e4fc9a186b5b776a0bf78ac1_221\n",
      "agl_multiple_sits_s2_d380c64a17a6d917e4fc9a186b5b776a0bf78ac1_222\n",
      "agl_multiple_sits_s2_d380c64a17a6d917e4fc9a186b5b776a0bf78ac1_223\n",
      "agl_multiple_sits_s2_d380c64a17a6d917e4fc9a186b5b776a0bf78ac1_224\n",
      "agl_multiple_sits_s2_d380c64a17a6d917e4fc9a186b5b776a0bf78ac1_225\n",
      "agl_multiple_sits_s2_d380c64a17a6d917e4fc9a186b5b776a0bf78ac1_226\n",
      "agl_multiple_sits_s2_d380c64a17a6d917e4fc9a186b5b776a0bf78ac1_227\n",
      "agl_multiple_sits_s2_d380c64a17a6d917e4fc9a186b5b776a0bf78ac1_228\n",
      "agl_multiple_sits_s2_d380c64a17a6d917e4fc9a186b5b776a0bf78ac1_229\n",
      "agl_multiple_sits_s2_d380c64a17a6d917e4fc9a186b5b776a0bf78ac1_230\n",
      "agl_multiple_sits_s2_d380c64a17a6d917e4fc9a186b5b776a0bf78ac1_231\n",
      "agl_multiple_sits_s2_d380c64a17a6d917e4fc9a186b5b776a0bf78ac1_232\n",
      "agl_multiple_sits_s2_d380c64a17a6d917e4fc9a186b5b776a0bf78ac1_233\n",
      "agl_multiple_sits_s2_d380c64a17a6d917e4fc9a186b5b776a0bf78ac1_234\n",
      "agl_multiple_sits_s2_d380c64a17a6d917e4fc9a186b5b776a0bf78ac1_235\n",
      "agl_multiple_sits_s2_d380c64a17a6d917e4fc9a186b5b776a0bf78ac1_236\n",
      "agl_multiple_sits_s2_d380c64a17a6d917e4fc9a186b5b776a0bf78ac1_237\n",
      "agl_multiple_sits_s2_d380c64a17a6d917e4fc9a186b5b776a0bf78ac1_238\n",
      "agl_multiple_sits_s2_d380c64a17a6d917e4fc9a186b5b776a0bf78ac1_239\n",
      "agl_multiple_sits_s2_d380c64a17a6d917e4fc9a186b5b776a0bf78ac1_240\n",
      "agl_multiple_sits_s2_d380c64a17a6d917e4fc9a186b5b776a0bf78ac1_241\n",
      "agl_multiple_sits_s2_d380c64a17a6d917e4fc9a186b5b776a0bf78ac1_242\n",
      "agl_multiple_sits_s2_d380c64a17a6d917e4fc9a186b5b776a0bf78ac1_243\n",
      "agl_multiple_sits_s2_d380c64a17a6d917e4fc9a186b5b776a0bf78ac1_244\n",
      "agl_multiple_sits_s2_d380c64a17a6d917e4fc9a186b5b776a0bf78ac1_245\n",
      "agl_multiple_sits_s2_d380c64a17a6d917e4fc9a186b5b776a0bf78ac1_246\n",
      "agl_multiple_sits_s2_d380c64a17a6d917e4fc9a186b5b776a0bf78ac1_247\n",
      "agl_multiple_sits_s2_d380c64a17a6d917e4fc9a186b5b776a0bf78ac1_248\n",
      "agl_multiple_sits_s2_d380c64a17a6d917e4fc9a186b5b776a0bf78ac1_249\n",
      "agl_multiple_sits_s2_d380c64a17a6d917e4fc9a186b5b776a0bf78ac1_250\n",
      "agl_multiple_sits_s2_d380c64a17a6d917e4fc9a186b5b776a0bf78ac1_251\n",
      "agl_multiple_sits_s2_d380c64a17a6d917e4fc9a186b5b776a0bf78ac1_252\n",
      "agl_multiple_sits_s2_d380c64a17a6d917e4fc9a186b5b776a0bf78ac1_253\n",
      "agl_multiple_sits_s2_d380c64a17a6d917e4fc9a186b5b776a0bf78ac1_254\n",
      "agl_multiple_sits_s2_d380c64a17a6d917e4fc9a186b5b776a0bf78ac1_255\n"
     ]
    },
    {
     "name": "stderr",
     "output_type": "stream",
     "text": [
      "\n"
     ]
    }
   ],
   "source": [
    "agl.get.multiple_sits_chunks_gdrive(gdf, satellite)"
   ]
  },
  {
   "cell_type": "code",
   "execution_count": null,
   "metadata": {},
   "outputs": [],
   "source": [
    "from agrigee_lite.misc import create_gdf_hash"
   ]
  },
  {
   "cell_type": "code",
   "execution_count": null,
   "metadata": {},
   "outputs": [],
   "source": [
    "hashname = create_gdf_hash(gdf)"
   ]
  },
  {
   "cell_type": "code",
   "execution_count": null,
   "metadata": {},
   "outputs": [],
   "source": [
    "satellite = agl.sat.Sentinel2(use_sr=True, selected_bands=[\"red\", \"green\", \"blue\"])"
   ]
  },
  {
   "cell_type": "code",
   "execution_count": null,
   "metadata": {},
   "outputs": [],
   "source": [
    "for cluster_id in sorted(gdf.cluster_id.unique()):\n",
    "    cluster_id = int(cluster_id)\n",
    "    agl.get.multiple_sits_task_gdrive(gdf[gdf.cluster_id == cluster_id], satellite, f\"{hashname}_{cluster_id}\", f\"agl_mateus_multiple_sits_{hashname}_{cluster_id}\")\n",
    "\n",
    "    if cluster_id > 5:\n",
    "        break"
   ]
  },
  {
   "cell_type": "code",
   "execution_count": null,
   "metadata": {},
   "outputs": [],
   "source": []
  },
  {
   "cell_type": "code",
   "execution_count": null,
   "metadata": {},
   "outputs": [],
   "source": [
    "row = gdf.iloc[0]"
   ]
  },
  {
   "cell_type": "code",
   "execution_count": null,
   "metadata": {},
   "outputs": [],
   "source": [
    "sits = agl.get.sits(row.geometry, row.start_date, row.end_date, satellite)"
   ]
  },
  {
   "cell_type": "code",
   "execution_count": null,
   "metadata": {},
   "outputs": [],
   "source": [
    "sits"
   ]
  },
  {
   "cell_type": "code",
   "execution_count": null,
   "metadata": {},
   "outputs": [],
   "source": [
    "sits_2"
   ]
  },
  {
   "cell_type": "code",
   "execution_count": null,
   "metadata": {},
   "outputs": [],
   "source": [
    "df_wide = pd.DataFrame(sits_2.values.flatten().reshape(1, -1))\n",
    "df_wide.columns = [f\"{col}_{i}\" for i in range(len(sits_2)) for col in sits_2.columns]"
   ]
  },
  {
   "cell_type": "code",
   "execution_count": null,
   "metadata": {},
   "outputs": [],
   "source": [
    "sits = agl.get.multiple_sits(gdf.iloc[0:2], satellite)"
   ]
  },
  {
   "cell_type": "code",
   "execution_count": null,
   "metadata": {},
   "outputs": [],
   "source": [
    "def flatten_by_indexnum(df: pd.DataFrame, prefix: str = \"\") -> pd.DataFrame:\n",
    "    if \"indexnum\" not in df.columns:\n",
    "        raise ValueError(\"A coluna 'indexnum' não existe no DataFrame.\")\n",
    "\n",
    "    df = df.copy()\n",
    "    df[\"seq\"] = df.groupby(\"indexnum\").cumcount()\n",
    "    df_wide = df.pivot(index=\"indexnum\", columns=\"seq\").drop(columns=\"indexnum\")\n",
    "    df_wide.columns = [f\"{prefix}{col}_{i}\" for col, i in df_wide.columns]\n",
    "    return df_wide.reset_index()"
   ]
  },
  {
   "cell_type": "code",
   "execution_count": null,
   "metadata": {},
   "outputs": [],
   "source": [
    "sits"
   ]
  },
  {
   "cell_type": "code",
   "execution_count": null,
   "metadata": {},
   "outputs": [],
   "source": [
    "flatten_by_indexnum(sits)"
   ]
  },
  {
   "cell_type": "code",
   "execution_count": null,
   "metadata": {},
   "outputs": [],
   "source": [
    "flatten_by_indexnum(sits, \"a\")"
   ]
  },
  {
   "cell_type": "code",
   "execution_count": null,
   "metadata": {},
   "outputs": [],
   "source": [
    "row = gdf.iloc[0]\n",
    "\n",
    "imgs = agl.get.images(row.geometry, row.start_date, row.end_date, satellite)"
   ]
  },
  {
   "cell_type": "code",
   "execution_count": null,
   "metadata": {},
   "outputs": [],
   "source": [
    "np.savez_compressed(\"tests/data/imgs/0_s2sr.npz\", data=imgs)"
   ]
  },
  {
   "cell_type": "code",
   "execution_count": null,
   "metadata": {},
   "outputs": [],
   "source": [
    "np.load(\"tests/data/imgs/0_s2sr.npz\")"
   ]
  },
  {
   "cell_type": "code",
   "execution_count": null,
   "metadata": {},
   "outputs": [],
   "source": [
    "np.array_equal(imgs, imgs)"
   ]
  },
  {
   "cell_type": "code",
   "execution_count": null,
   "metadata": {},
   "outputs": [],
   "source": [
    "imgs_copy = imgs.copy()"
   ]
  },
  {
   "cell_type": "code",
   "execution_count": null,
   "metadata": {},
   "outputs": [],
   "source": [
    "plt.imshow((imgs[3]/10000) * np.pi)"
   ]
  },
  {
   "cell_type": "code",
   "execution_count": null,
   "metadata": {},
   "outputs": [],
   "source": [
    "sits = agl.get.sits(row.geometry, row.start_date, row.end_date, satellite)"
   ]
  },
  {
   "cell_type": "code",
   "execution_count": null,
   "metadata": {},
   "outputs": [],
   "source": [
    "sits.columns = [column.split(\"_\", 1)[1] for column in sits.columns.tolist()]"
   ]
  },
  {
   "cell_type": "code",
   "execution_count": null,
   "metadata": {},
   "outputs": [],
   "source": [
    "def remove_underscore_in_df(df):\n",
    "    df.columns = [column.split(\"_\", 1)[1] for column in df.columns.tolist()]"
   ]
  },
  {
   "cell_type": "code",
   "execution_count": null,
   "metadata": {},
   "outputs": [],
   "source": [
    "sits.head(5)"
   ]
  }
 ],
 "metadata": {
  "kernelspec": {
   "display_name": ".venv",
   "language": "python",
   "name": "python3"
  },
  "language_info": {
   "codemirror_mode": {
    "name": "ipython",
    "version": 3
   },
   "file_extension": ".py",
   "mimetype": "text/x-python",
   "name": "python",
   "nbconvert_exporter": "python",
   "pygments_lexer": "ipython3",
   "version": "3.11.10"
  }
 },
 "nbformat": 4,
 "nbformat_minor": 2
}
