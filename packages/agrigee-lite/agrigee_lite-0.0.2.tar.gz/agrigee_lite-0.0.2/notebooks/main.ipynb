{
 "cells": [
  {
   "cell_type": "code",
   "execution_count": 1,
   "metadata": {},
   "outputs": [],
   "source": [
    "import ee\n",
    "import geopandas as gpd\n",
    "import matplotlib.pyplot as plt\n",
    "import numpy as np\n",
    "import pandas as pd\n",
    "\n",
    "import agrigee_lite as agl\n",
    "\n",
    "np.set_printoptions(suppress=True)\n",
    "np.set_printoptions(precision=2)\n",
    "pd.set_option('display.float_format', '{:.2f}'.format)"
   ]
  },
  {
   "cell_type": "code",
   "execution_count": 2,
   "metadata": {},
   "outputs": [],
   "source": [
    "ee.Initialize(opt_url=\"https://earthengine-highvolume.googleapis.com\", project=\"ee-paulagibrim\")"
   ]
  },
  {
   "cell_type": "code",
   "execution_count": 4,
   "metadata": {},
   "outputs": [],
   "source": [
    "df = agl.get_all_tasks()"
   ]
  },
  {
   "cell_type": "code",
   "execution_count": 13,
   "metadata": {},
   "outputs": [
    {
     "data": {
      "text/plain": [
       "{'agl_multiple_sits_d380c64a17a6d917e4fc9a186b5b776a0bf78ac1_0',\n",
       " 'agl_multiple_sits_d380c64a17a6d917e4fc9a186b5b776a0bf78ac1_1',\n",
       " 'agl_multiple_sits_d380c64a17a6d917e4fc9a186b5b776a0bf78ac1_2',\n",
       " 'agl_multiple_sits_d380c64a17a6d917e4fc9a186b5b776a0bf78ac1_3',\n",
       " 'agl_multiple_sits_d380c64a17a6d917e4fc9a186b5b776a0bf78ac1_4',\n",
       " 'agl_multiple_sits_d380c64a17a6d917e4fc9a186b5b776a0bf78ac1_5',\n",
       " 'agl_multiple_sits_d380c64a17a6d917e4fc9a186b5b776a0bf78ac1_6',\n",
       " 'download_samples'}"
      ]
     },
     "execution_count": 13,
     "metadata": {},
     "output_type": "execute_result"
    }
   ],
   "source": [
    "set(df.description.apply(lambda x: x.split(\"_\", 1)[0] + \"_\" + x.split(\"_\", 2)[2]).tolist())"
   ]
  },
  {
   "cell_type": "code",
   "execution_count": 16,
   "metadata": {},
   "outputs": [],
   "source": [
    "gdf = gpd.read_parquet(\"tests/data/gdf.parquet\")"
   ]
  },
  {
   "cell_type": "code",
   "execution_count": 17,
   "metadata": {},
   "outputs": [
    {
     "data": {
      "text/html": [
       "<div>\n",
       "<style scoped>\n",
       "    .dataframe tbody tr th:only-of-type {\n",
       "        vertical-align: middle;\n",
       "    }\n",
       "\n",
       "    .dataframe tbody tr th {\n",
       "        vertical-align: top;\n",
       "    }\n",
       "\n",
       "    .dataframe thead th {\n",
       "        text-align: right;\n",
       "    }\n",
       "</style>\n",
       "<table border=\"1\" class=\"dataframe\">\n",
       "  <thead>\n",
       "    <tr style=\"text-align: right;\">\n",
       "      <th></th>\n",
       "      <th>geometry</th>\n",
       "      <th>start_date</th>\n",
       "      <th>end_date</th>\n",
       "    </tr>\n",
       "  </thead>\n",
       "  <tbody>\n",
       "    <tr>\n",
       "      <th>0</th>\n",
       "      <td>POLYGON ((-120.45276 35.72507, -120.45344 35.7...</td>\n",
       "      <td>2023-01-01</td>\n",
       "      <td>2024-01-01</td>\n",
       "    </tr>\n",
       "    <tr>\n",
       "      <th>1</th>\n",
       "      <td>POLYGON ((-120.58784 35.61832, -120.5876 35.61...</td>\n",
       "      <td>2023-01-01</td>\n",
       "      <td>2024-01-01</td>\n",
       "    </tr>\n",
       "    <tr>\n",
       "      <th>2</th>\n",
       "      <td>POLYGON ((-119.66351 36.14519, -119.66347 36.1...</td>\n",
       "      <td>2023-01-01</td>\n",
       "      <td>2024-01-01</td>\n",
       "    </tr>\n",
       "    <tr>\n",
       "      <th>3</th>\n",
       "      <td>POLYGON ((-120.6177 36.87609, -120.61779 36.86...</td>\n",
       "      <td>2023-01-01</td>\n",
       "      <td>2024-01-01</td>\n",
       "    </tr>\n",
       "    <tr>\n",
       "      <th>4</th>\n",
       "      <td>POLYGON ((-120.67999 37.74592, -120.68003 37.7...</td>\n",
       "      <td>2023-01-01</td>\n",
       "      <td>2024-01-01</td>\n",
       "    </tr>\n",
       "    <tr>\n",
       "      <th>...</th>\n",
       "      <td>...</td>\n",
       "      <td>...</td>\n",
       "      <td>...</td>\n",
       "    </tr>\n",
       "    <tr>\n",
       "      <th>69801</th>\n",
       "      <td>POLYGON ((-121.04369 38.43856, -121.04439 38.4...</td>\n",
       "      <td>2023-01-01</td>\n",
       "      <td>2024-01-01</td>\n",
       "    </tr>\n",
       "    <tr>\n",
       "      <th>69802</th>\n",
       "      <td>POLYGON ((-119.84432 36.72782, -119.84435 36.7...</td>\n",
       "      <td>2023-01-01</td>\n",
       "      <td>2024-01-01</td>\n",
       "    </tr>\n",
       "    <tr>\n",
       "      <th>69803</th>\n",
       "      <td>POLYGON ((-119.25738 36.44657, -119.25743 36.4...</td>\n",
       "      <td>2023-01-01</td>\n",
       "      <td>2024-01-01</td>\n",
       "    </tr>\n",
       "    <tr>\n",
       "      <th>69804</th>\n",
       "      <td>POLYGON ((-120.89781 37.64557, -120.89787 37.6...</td>\n",
       "      <td>2023-01-01</td>\n",
       "      <td>2024-01-01</td>\n",
       "    </tr>\n",
       "    <tr>\n",
       "      <th>69805</th>\n",
       "      <td>POLYGON ((-119.83952 36.97074, -119.83957 36.9...</td>\n",
       "      <td>2023-01-01</td>\n",
       "      <td>2024-01-01</td>\n",
       "    </tr>\n",
       "  </tbody>\n",
       "</table>\n",
       "<p>69806 rows × 3 columns</p>\n",
       "</div>"
      ],
      "text/plain": [
       "                                                geometry start_date   end_date\n",
       "0      POLYGON ((-120.45276 35.72507, -120.45344 35.7... 2023-01-01 2024-01-01\n",
       "1      POLYGON ((-120.58784 35.61832, -120.5876 35.61... 2023-01-01 2024-01-01\n",
       "2      POLYGON ((-119.66351 36.14519, -119.66347 36.1... 2023-01-01 2024-01-01\n",
       "3      POLYGON ((-120.6177 36.87609, -120.61779 36.86... 2023-01-01 2024-01-01\n",
       "4      POLYGON ((-120.67999 37.74592, -120.68003 37.7... 2023-01-01 2024-01-01\n",
       "...                                                  ...        ...        ...\n",
       "69801  POLYGON ((-121.04369 38.43856, -121.04439 38.4... 2023-01-01 2024-01-01\n",
       "69802  POLYGON ((-119.84432 36.72782, -119.84435 36.7... 2023-01-01 2024-01-01\n",
       "69803  POLYGON ((-119.25738 36.44657, -119.25743 36.4... 2023-01-01 2024-01-01\n",
       "69804  POLYGON ((-120.89781 37.64557, -120.89787 37.6... 2023-01-01 2024-01-01\n",
       "69805  POLYGON ((-119.83952 36.97074, -119.83957 36.9... 2023-01-01 2024-01-01\n",
       "\n",
       "[69806 rows x 3 columns]"
      ]
     },
     "execution_count": 17,
     "metadata": {},
     "output_type": "execute_result"
    }
   ],
   "source": [
    "gdf"
   ]
  },
  {
   "cell_type": "code",
   "execution_count": null,
   "metadata": {},
   "outputs": [],
   "source": [
    "gdf = agl.quadtree_clustering(gdf)"
   ]
  },
  {
   "cell_type": "code",
   "execution_count": null,
   "metadata": {},
   "outputs": [
    {
     "name": "stdout",
     "output_type": "stream",
     "text": [
      "mateus\n"
     ]
    }
   ],
   "source": [
    "\n",
    "\n",
    "username = getpass.getuser()\n",
    "print(username)"
   ]
  },
  {
   "cell_type": "code",
   "execution_count": 20,
   "metadata": {},
   "outputs": [],
   "source": [
    "from agrigee_lite.misc import create_gdf_hash"
   ]
  },
  {
   "cell_type": "code",
   "execution_count": 24,
   "metadata": {},
   "outputs": [],
   "source": [
    "hashname = create_gdf_hash(gdf)"
   ]
  },
  {
   "cell_type": "code",
   "execution_count": null,
   "metadata": {},
   "outputs": [],
   "source": [
    "satellite = agl.sat.Sentinel2(use_sr=True, selected_bands=[\"red\", \"green\", \"blue\"])"
   ]
  },
  {
   "cell_type": "code",
   "execution_count": 32,
   "metadata": {},
   "outputs": [],
   "source": [
    "for cluster_id in sorted(gdf.cluster_id.unique()):\n",
    "    cluster_id = int(cluster_id)\n",
    "    agl.get.multiple_sits_task_gdrive(gdf[gdf.cluster_id == cluster_id], satellite, f\"{hashname}_{cluster_id}\", f\"agl_mateus_multiple_sits_{hashname}_{cluster_id}\")\n",
    "\n",
    "    if cluster_id > 5:\n",
    "        break"
   ]
  },
  {
   "cell_type": "code",
   "execution_count": null,
   "metadata": {},
   "outputs": [],
   "source": []
  },
  {
   "cell_type": "code",
   "execution_count": 6,
   "metadata": {},
   "outputs": [],
   "source": [
    "row = gdf.iloc[0]"
   ]
  },
  {
   "cell_type": "code",
   "execution_count": 7,
   "metadata": {},
   "outputs": [],
   "source": [
    "sits = agl.get.sits(row.geometry, row.start_date, row.end_date, satellite)"
   ]
  },
  {
   "cell_type": "code",
   "execution_count": 8,
   "metadata": {},
   "outputs": [
    {
     "data": {
      "text/html": [
       "<div>\n",
       "<style scoped>\n",
       "    .dataframe tbody tr th:only-of-type {\n",
       "        vertical-align: middle;\n",
       "    }\n",
       "\n",
       "    .dataframe tbody tr th {\n",
       "        vertical-align: top;\n",
       "    }\n",
       "\n",
       "    .dataframe thead th {\n",
       "        text-align: right;\n",
       "    }\n",
       "</style>\n",
       "<table border=\"1\" class=\"dataframe\">\n",
       "  <thead>\n",
       "    <tr style=\"text-align: right;\">\n",
       "      <th></th>\n",
       "      <th>indexnum</th>\n",
       "      <th>s2sr_doy_0</th>\n",
       "      <th>s2sr_doy_1</th>\n",
       "      <th>s2sr_doy_2</th>\n",
       "      <th>s2sr_doy_3</th>\n",
       "      <th>s2sr_doy_4</th>\n",
       "      <th>s2sr_doy_5</th>\n",
       "      <th>s2sr_doy_6</th>\n",
       "      <th>s2sr_doy_7</th>\n",
       "      <th>s2sr_doy_8</th>\n",
       "      <th>...</th>\n",
       "      <th>s2sr_blue_45</th>\n",
       "      <th>s2sr_blue_46</th>\n",
       "      <th>s2sr_blue_47</th>\n",
       "      <th>s2sr_blue_48</th>\n",
       "      <th>s2sr_blue_49</th>\n",
       "      <th>s2sr_blue_50</th>\n",
       "      <th>s2sr_blue_51</th>\n",
       "      <th>s2sr_blue_52</th>\n",
       "      <th>s2sr_blue_53</th>\n",
       "      <th>s2sr_blue_54</th>\n",
       "    </tr>\n",
       "  </thead>\n",
       "  <tbody>\n",
       "    <tr>\n",
       "      <th>0</th>\n",
       "      <td>0</td>\n",
       "      <td>1</td>\n",
       "      <td>6</td>\n",
       "      <td>21</td>\n",
       "      <td>26</td>\n",
       "      <td>31</td>\n",
       "      <td>36</td>\n",
       "      <td>41</td>\n",
       "      <td>46</td>\n",
       "      <td>61</td>\n",
       "      <td>...</td>\n",
       "      <td>706</td>\n",
       "      <td>657</td>\n",
       "      <td>733</td>\n",
       "      <td>650</td>\n",
       "      <td>1019</td>\n",
       "      <td>725</td>\n",
       "      <td>1385</td>\n",
       "      <td>690</td>\n",
       "      <td>745</td>\n",
       "      <td>682</td>\n",
       "    </tr>\n",
       "  </tbody>\n",
       "</table>\n",
       "<p>1 rows × 221 columns</p>\n",
       "</div>"
      ],
      "text/plain": [
       "   indexnum  s2sr_doy_0  s2sr_doy_1  s2sr_doy_2  s2sr_doy_3  s2sr_doy_4  \\\n",
       "0         0           1           6          21          26          31   \n",
       "\n",
       "   s2sr_doy_5  s2sr_doy_6  s2sr_doy_7  s2sr_doy_8  ...  s2sr_blue_45  \\\n",
       "0          36          41          46          61  ...           706   \n",
       "\n",
       "   s2sr_blue_46  s2sr_blue_47  s2sr_blue_48  s2sr_blue_49  s2sr_blue_50  \\\n",
       "0           657           733           650          1019           725   \n",
       "\n",
       "   s2sr_blue_51  s2sr_blue_52  s2sr_blue_53  s2sr_blue_54  \n",
       "0          1385           690           745           682  \n",
       "\n",
       "[1 rows x 221 columns]"
      ]
     },
     "execution_count": 8,
     "metadata": {},
     "output_type": "execute_result"
    }
   ],
   "source": [
    "sits"
   ]
  },
  {
   "cell_type": "code",
   "execution_count": null,
   "metadata": {},
   "outputs": [],
   "source": [
    "sits_2"
   ]
  },
  {
   "cell_type": "code",
   "execution_count": null,
   "metadata": {},
   "outputs": [],
   "source": [
    "df_wide = pd.DataFrame(sits_2.values.flatten().reshape(1, -1))\n",
    "df_wide.columns = [f\"{col}_{i}\" for i in range(len(sits_2)) for col in sits_2.columns]"
   ]
  },
  {
   "cell_type": "code",
   "execution_count": 9,
   "metadata": {},
   "outputs": [],
   "source": [
    "sits = agl.get.multiple_sits(gdf.iloc[0:2], satellite)"
   ]
  },
  {
   "cell_type": "code",
   "execution_count": null,
   "metadata": {},
   "outputs": [],
   "source": [
    "def flatten_by_indexnum(df: pd.DataFrame, prefix: str = \"\") -> pd.DataFrame:\n",
    "    if \"indexnum\" not in df.columns:\n",
    "        raise ValueError(\"A coluna 'indexnum' não existe no DataFrame.\")\n",
    "\n",
    "    df = df.copy()\n",
    "    df[\"seq\"] = df.groupby(\"indexnum\").cumcount()\n",
    "    df_wide = df.pivot(index=\"indexnum\", columns=\"seq\").drop(columns=\"indexnum\")\n",
    "    df_wide.columns = [f\"{prefix}{col}_{i}\" for col, i in df_wide.columns]\n",
    "    return df_wide.reset_index()"
   ]
  },
  {
   "cell_type": "code",
   "execution_count": null,
   "metadata": {},
   "outputs": [],
   "source": [
    "sits"
   ]
  },
  {
   "cell_type": "code",
   "execution_count": null,
   "metadata": {},
   "outputs": [],
   "source": [
    "flatten_by_indexnum(sits)"
   ]
  },
  {
   "cell_type": "code",
   "execution_count": null,
   "metadata": {},
   "outputs": [],
   "source": [
    "flatten_by_indexnum(sits, \"a\")"
   ]
  },
  {
   "cell_type": "code",
   "execution_count": null,
   "metadata": {},
   "outputs": [],
   "source": [
    "row = gdf.iloc[0]\n",
    "\n",
    "imgs = agl.get.images(row.geometry, row.start_date, row.end_date, satellite)"
   ]
  },
  {
   "cell_type": "code",
   "execution_count": null,
   "metadata": {},
   "outputs": [],
   "source": [
    "np.savez_compressed(\"tests/data/imgs/0_s2sr.npz\", data=imgs)"
   ]
  },
  {
   "cell_type": "code",
   "execution_count": null,
   "metadata": {},
   "outputs": [],
   "source": [
    "np.load(\"tests/data/imgs/0_s2sr.npz\")"
   ]
  },
  {
   "cell_type": "code",
   "execution_count": null,
   "metadata": {},
   "outputs": [],
   "source": [
    "np.array_equal(imgs, imgs)"
   ]
  },
  {
   "cell_type": "code",
   "execution_count": null,
   "metadata": {},
   "outputs": [],
   "source": [
    "imgs_copy = imgs.copy()"
   ]
  },
  {
   "cell_type": "code",
   "execution_count": null,
   "metadata": {},
   "outputs": [],
   "source": [
    "plt.imshow((imgs[3]/10000) * np.pi)"
   ]
  },
  {
   "cell_type": "code",
   "execution_count": null,
   "metadata": {},
   "outputs": [],
   "source": [
    "sits = agl.get.sits(row.geometry, row.start_date, row.end_date, satellite)"
   ]
  },
  {
   "cell_type": "code",
   "execution_count": null,
   "metadata": {},
   "outputs": [],
   "source": [
    "sits.columns = [column.split(\"_\", 1)[1] for column in sits.columns.tolist()]"
   ]
  },
  {
   "cell_type": "code",
   "execution_count": null,
   "metadata": {},
   "outputs": [],
   "source": [
    "def remove_underscore_in_df(df):\n",
    "    df.columns = [column.split(\"_\", 1)[1] for column in df.columns.tolist()]"
   ]
  },
  {
   "cell_type": "code",
   "execution_count": null,
   "metadata": {},
   "outputs": [],
   "source": [
    "sits.head(5)"
   ]
  }
 ],
 "metadata": {
  "kernelspec": {
   "display_name": ".venv",
   "language": "python",
   "name": "python3"
  },
  "language_info": {
   "codemirror_mode": {
    "name": "ipython",
    "version": 3
   },
   "file_extension": ".py",
   "mimetype": "text/x-python",
   "name": "python",
   "nbconvert_exporter": "python",
   "pygments_lexer": "ipython3",
   "version": "3.11.10"
  }
 },
 "nbformat": 4,
 "nbformat_minor": 2
}
