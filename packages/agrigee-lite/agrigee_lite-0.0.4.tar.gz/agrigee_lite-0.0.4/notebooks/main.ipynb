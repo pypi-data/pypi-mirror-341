{
 "cells": [
  {
   "cell_type": "code",
   "execution_count": 8,
   "metadata": {},
   "outputs": [],
   "source": [
    "import ee\n",
    "import geopandas as gpd\n",
    "import matplotlib.pyplot as plt\n",
    "import numpy as np\n",
    "import pandas as pd\n",
    "from topojson import Topology\n",
    "\n",
    "import agrigee_lite as agl\n",
    "\n",
    "np.set_printoptions(suppress=True)\n",
    "np.set_printoptions(precision=2)\n",
    "pd.set_option('display.float_format', '{:.2f}'.format)"
   ]
  },
  {
   "cell_type": "code",
   "execution_count": 2,
   "metadata": {},
   "outputs": [],
   "source": [
    "ee.Initialize(opt_url=\"https://earthengine-highvolume.googleapis.com\", project=\"ee-paulagibrim\")"
   ]
  },
  {
   "cell_type": "code",
   "execution_count": 3,
   "metadata": {},
   "outputs": [],
   "source": [
    "gdf = gpd.read_parquet(\"tests/data/gdf.parquet\")"
   ]
  },
  {
   "cell_type": "code",
   "execution_count": 4,
   "metadata": {},
   "outputs": [],
   "source": [
    "satellite = agl.sat.Sentinel2()"
   ]
  },
  {
   "cell_type": "code",
   "execution_count": 6,
   "metadata": {},
   "outputs": [
    {
     "data": {
      "text/html": [
       "<div>\n",
       "<style scoped>\n",
       "    .dataframe tbody tr th:only-of-type {\n",
       "        vertical-align: middle;\n",
       "    }\n",
       "\n",
       "    .dataframe tbody tr th {\n",
       "        vertical-align: top;\n",
       "    }\n",
       "\n",
       "    .dataframe thead th {\n",
       "        text-align: right;\n",
       "    }\n",
       "</style>\n",
       "<table border=\"1\" class=\"dataframe\">\n",
       "  <thead>\n",
       "    <tr style=\"text-align: right;\">\n",
       "      <th></th>\n",
       "      <th>indexnum</th>\n",
       "      <th>s2_doy_0</th>\n",
       "      <th>s2_doy_1</th>\n",
       "      <th>s2_doy_2</th>\n",
       "      <th>s2_doy_3</th>\n",
       "      <th>s2_doy_4</th>\n",
       "      <th>s2_doy_5</th>\n",
       "      <th>s2_doy_6</th>\n",
       "      <th>s2_doy_7</th>\n",
       "      <th>s2_doy_8</th>\n",
       "      <th>...</th>\n",
       "      <th>s2_swir2_45</th>\n",
       "      <th>s2_swir2_46</th>\n",
       "      <th>s2_swir2_47</th>\n",
       "      <th>s2_swir2_48</th>\n",
       "      <th>s2_swir2_49</th>\n",
       "      <th>s2_swir2_50</th>\n",
       "      <th>s2_swir2_51</th>\n",
       "      <th>s2_swir2_52</th>\n",
       "      <th>s2_swir2_53</th>\n",
       "      <th>s2_swir2_54</th>\n",
       "    </tr>\n",
       "  </thead>\n",
       "  <tbody>\n",
       "    <tr>\n",
       "      <th>0</th>\n",
       "      <td>0</td>\n",
       "      <td>1</td>\n",
       "      <td>6</td>\n",
       "      <td>21</td>\n",
       "      <td>26</td>\n",
       "      <td>31</td>\n",
       "      <td>36</td>\n",
       "      <td>41</td>\n",
       "      <td>46</td>\n",
       "      <td>61</td>\n",
       "      <td>...</td>\n",
       "      <td>1949</td>\n",
       "      <td>1971</td>\n",
       "      <td>1820</td>\n",
       "      <td>1931</td>\n",
       "      <td>2102</td>\n",
       "      <td>1965</td>\n",
       "      <td>2167</td>\n",
       "      <td>1795</td>\n",
       "      <td>1803</td>\n",
       "      <td>1853</td>\n",
       "    </tr>\n",
       "  </tbody>\n",
       "</table>\n",
       "<p>1 rows × 606 columns</p>\n",
       "</div>"
      ],
      "text/plain": [
       "   indexnum  s2_doy_0  s2_doy_1  s2_doy_2  s2_doy_3  s2_doy_4  s2_doy_5  \\\n",
       "0         0         1         6        21        26        31        36   \n",
       "\n",
       "   s2_doy_6  s2_doy_7  s2_doy_8  ...  s2_swir2_45  s2_swir2_46  s2_swir2_47  \\\n",
       "0        41        46        61  ...         1949         1971         1820   \n",
       "\n",
       "   s2_swir2_48  s2_swir2_49  s2_swir2_50  s2_swir2_51  s2_swir2_52  \\\n",
       "0         1931         2102         1965         2167         1795   \n",
       "\n",
       "   s2_swir2_53  s2_swir2_54  \n",
       "0         1803         1853  \n",
       "\n",
       "[1 rows x 606 columns]"
      ]
     },
     "execution_count": 6,
     "metadata": {},
     "output_type": "execute_result"
    }
   ],
   "source": [
    "row = gdf.iloc[0]\n",
    "\n",
    "agl.get.sits(row.geometry, row.start_date, row.end_date, satellite)"
   ]
  },
  {
   "cell_type": "code",
   "execution_count": null,
   "metadata": {},
   "outputs": [],
   "source": [
    "agl.get.sits()"
   ]
  },
  {
   "cell_type": "code",
   "execution_count": 7,
   "metadata": {},
   "outputs": [],
   "source": [
    "gdf = agl.quadtree_clustering(gdf)"
   ]
  },
  {
   "cell_type": "code",
   "execution_count": null,
   "metadata": {},
   "outputs": [],
   "source": [
    "gdf[gdf.cluster_id==10][0:1].plot()"
   ]
  },
  {
   "cell_type": "code",
   "execution_count": 44,
   "metadata": {},
   "outputs": [],
   "source": [
    "topo = Topology(gdf[gdf.cluster_id==100], prequantize=False)\n",
    "topo = topo.toposimplify(0.001, prevent_oversimplify=True)\n",
    "simple_gdf = topo.to_gdf()"
   ]
  },
  {
   "cell_type": "code",
   "execution_count": 45,
   "metadata": {},
   "outputs": [
    {
     "data": {
      "text/plain": [
       "<Axes: >"
      ]
     },
     "execution_count": 45,
     "metadata": {},
     "output_type": "execute_result"
    },
    {
     "data": {
      "image/png": "[encoded data removed]",
      "text/plain": [
       "<Figure size 640x480 with 2 Axes>"
      ]
     },
     "metadata": {},
     "output_type": "display_data"
    }
   ],
   "source": [
    "_, ax = plt.subplots(1,2)\n",
    "\n",
    "gdf[gdf.cluster_id==100].plot(ax=ax[0])\n",
    "simple_gdf.plot(ax=ax[1])"
   ]
  },
  {
   "cell_type": "code",
   "execution_count": 46,
   "metadata": {},
   "outputs": [
    {
     "data": {
      "text/plain": [
       "<Axes: >"
      ]
     },
     "execution_count": 46,
     "metadata": {},
     "output_type": "execute_result"
    },
    {
     "data": {
      "image/png": "[encoded data removed]",
      "text/plain": [
       "<Figure size 640x480 with 2 Axes>"
      ]
     },
     "metadata": {},
     "output_type": "display_data"
    }
   ],
   "source": [
    "_, ax = plt.subplots(1,2)\n",
    "\n",
    "gdf[gdf.cluster_id==100][0:1].plot(ax=ax[0])\n",
    "simple_gdf[0:1].plot(ax=ax[1])"
   ]
  },
  {
   "cell_type": "code",
   "execution_count": 47,
   "metadata": {},
   "outputs": [
    {
     "data": {
      "text/plain": [
       "12   138.01\n",
       "dtype: float64"
      ]
     },
     "execution_count": 47,
     "metadata": {},
     "output_type": "execute_result"
    }
   ],
   "source": [
    "gdf[gdf.cluster_id==100][0:1].to_crs(\"EPSG:3857\").area/10000"
   ]
  },
  {
   "cell_type": "code",
   "execution_count": null,
   "metadata": {},
   "outputs": [],
   "source": []
  },
  {
   "cell_type": "code",
   "execution_count": 48,
   "metadata": {},
   "outputs": [
    {
     "data": {
      "text/plain": [
       "(np.int64(97103), np.int64(83762))"
      ]
     },
     "execution_count": 48,
     "metadata": {},
     "output_type": "execute_result"
    }
   ],
   "source": [
    "gdf[gdf.cluster_id==100].geometry.astype(str).apply(len).sum(), simple_gdf.geometry.astype(str).apply(len).sum()"
   ]
  },
  {
   "cell_type": "code",
   "execution_count": null,
   "metadata": {},
   "outputs": [
    {
     "data": {
      "text/plain": [
       "np.int64(83762)"
      ]
     },
     "execution_count": 25,
     "metadata": {},
     "output_type": "execute_result"
    }
   ],
   "source": []
  },
  {
   "cell_type": "code",
   "execution_count": null,
   "metadata": {},
   "outputs": [],
   "source": [
    "simplified_gdf[0:1].plot()"
   ]
  },
  {
   "cell_type": "code",
   "execution_count": null,
   "metadata": {},
   "outputs": [],
   "source": [
    "gdf[gdf.cluster_id==10].geometry.astype(str).apply(len)"
   ]
  },
  {
   "cell_type": "code",
   "execution_count": null,
   "metadata": {},
   "outputs": [],
   "source": [
    "simplified_gdf.geometry.astype(str).apply(len)"
   ]
  },
  {
   "cell_type": "code",
   "execution_count": null,
   "metadata": {},
   "outputs": [],
   "source": [
    "satellite = agl.sat.Sentinel2()"
   ]
  },
  {
   "cell_type": "code",
   "execution_count": null,
   "metadata": {},
   "outputs": [],
   "source": [
    "agl.get.multiple_sits_chunks_gdrive(gdf, satellite)"
   ]
  },
  {
   "cell_type": "code",
   "execution_count": null,
   "metadata": {},
   "outputs": [],
   "source": [
    "from agrigee_lite.misc import create_gdf_hash"
   ]
  },
  {
   "cell_type": "code",
   "execution_count": null,
   "metadata": {},
   "outputs": [],
   "source": [
    "hashname = create_gdf_hash(gdf)"
   ]
  },
  {
   "cell_type": "code",
   "execution_count": null,
   "metadata": {},
   "outputs": [],
   "source": [
    "satellite = agl.sat.Sentinel2(use_sr=True, selected_bands=[\"red\", \"green\", \"blue\"])"
   ]
  },
  {
   "cell_type": "code",
   "execution_count": null,
   "metadata": {},
   "outputs": [],
   "source": [
    "for cluster_id in sorted(gdf.cluster_id.unique()):\n",
    "    cluster_id = int(cluster_id)\n",
    "    agl.get.multiple_sits_task_gdrive(gdf[gdf.cluster_id == cluster_id], satellite, f\"{hashname}_{cluster_id}\", f\"agl_mateus_multiple_sits_{hashname}_{cluster_id}\")\n",
    "\n",
    "    if cluster_id > 5:\n",
    "        break"
   ]
  },
  {
   "cell_type": "code",
   "execution_count": null,
   "metadata": {},
   "outputs": [],
   "source": []
  },
  {
   "cell_type": "code",
   "execution_count": null,
   "metadata": {},
   "outputs": [],
   "source": [
    "row = gdf.iloc[0]"
   ]
  },
  {
   "cell_type": "code",
   "execution_count": null,
   "metadata": {},
   "outputs": [],
   "source": [
    "sits = agl.get.sits(row.geometry, row.start_date, row.end_date, satellite)"
   ]
  },
  {
   "cell_type": "code",
   "execution_count": null,
   "metadata": {},
   "outputs": [],
   "source": [
    "sits"
   ]
  },
  {
   "cell_type": "code",
   "execution_count": null,
   "metadata": {},
   "outputs": [],
   "source": [
    "sits_2"
   ]
  },
  {
   "cell_type": "code",
   "execution_count": null,
   "metadata": {},
   "outputs": [],
   "source": [
    "df_wide = pd.DataFrame(sits_2.values.flatten().reshape(1, -1))\n",
    "df_wide.columns = [f\"{col}_{i}\" for i in range(len(sits_2)) for col in sits_2.columns]"
   ]
  },
  {
   "cell_type": "code",
   "execution_count": null,
   "metadata": {},
   "outputs": [],
   "source": [
    "sits = agl.get.multiple_sits(gdf.iloc[0:2], satellite)"
   ]
  },
  {
   "cell_type": "code",
   "execution_count": null,
   "metadata": {},
   "outputs": [],
   "source": [
    "def flatten_by_indexnum(df: pd.DataFrame, prefix: str = \"\") -> pd.DataFrame:\n",
    "    if \"indexnum\" not in df.columns:\n",
    "        raise ValueError(\"A coluna 'indexnum' não existe no DataFrame.\")\n",
    "\n",
    "    df = df.copy()\n",
    "    df[\"seq\"] = df.groupby(\"indexnum\").cumcount()\n",
    "    df_wide = df.pivot(index=\"indexnum\", columns=\"seq\").drop(columns=\"indexnum\")\n",
    "    df_wide.columns = [f\"{prefix}{col}_{i}\" for col, i in df_wide.columns]\n",
    "    return df_wide.reset_index()"
   ]
  },
  {
   "cell_type": "code",
   "execution_count": null,
   "metadata": {},
   "outputs": [],
   "source": [
    "sits"
   ]
  },
  {
   "cell_type": "code",
   "execution_count": null,
   "metadata": {},
   "outputs": [],
   "source": [
    "flatten_by_indexnum(sits)"
   ]
  },
  {
   "cell_type": "code",
   "execution_count": null,
   "metadata": {},
   "outputs": [],
   "source": [
    "flatten_by_indexnum(sits, \"a\")"
   ]
  },
  {
   "cell_type": "code",
   "execution_count": null,
   "metadata": {},
   "outputs": [],
   "source": [
    "row = gdf.iloc[0]\n",
    "\n",
    "imgs = agl.get.images(row.geometry, row.start_date, row.end_date, satellite)"
   ]
  },
  {
   "cell_type": "code",
   "execution_count": null,
   "metadata": {},
   "outputs": [],
   "source": [
    "np.savez_compressed(\"tests/data/imgs/0_s2sr.npz\", data=imgs)"
   ]
  },
  {
   "cell_type": "code",
   "execution_count": null,
   "metadata": {},
   "outputs": [],
   "source": [
    "np.load(\"tests/data/imgs/0_s2sr.npz\")"
   ]
  },
  {
   "cell_type": "code",
   "execution_count": null,
   "metadata": {},
   "outputs": [],
   "source": [
    "np.array_equal(imgs, imgs)"
   ]
  },
  {
   "cell_type": "code",
   "execution_count": null,
   "metadata": {},
   "outputs": [],
   "source": [
    "imgs_copy = imgs.copy()"
   ]
  },
  {
   "cell_type": "code",
   "execution_count": null,
   "metadata": {},
   "outputs": [],
   "source": [
    "plt.imshow((imgs[3]/10000) * np.pi)"
   ]
  },
  {
   "cell_type": "code",
   "execution_count": null,
   "metadata": {},
   "outputs": [],
   "source": [
    "sits = agl.get.sits(row.geometry, row.start_date, row.end_date, satellite)"
   ]
  },
  {
   "cell_type": "code",
   "execution_count": null,
   "metadata": {},
   "outputs": [],
   "source": [
    "sits.columns = [column.split(\"_\", 1)[1] for column in sits.columns.tolist()]"
   ]
  },
  {
   "cell_type": "code",
   "execution_count": null,
   "metadata": {},
   "outputs": [],
   "source": [
    "def remove_underscore_in_df(df):\n",
    "    df.columns = [column.split(\"_\", 1)[1] for column in df.columns.tolist()]"
   ]
  },
  {
   "cell_type": "code",
   "execution_count": null,
   "metadata": {},
   "outputs": [],
   "source": [
    "sits.head(5)"
   ]
  }
 ],
 "metadata": {
  "kernelspec": {
   "display_name": ".venv",
   "language": "python",
   "name": "python3"
  },
  "language_info": {
   "codemirror_mode": {
    "name": "ipython",
    "version": 3
   },
   "file_extension": ".py",
   "mimetype": "text/x-python",
   "name": "python",
   "nbconvert_exporter": "python",
   "pygments_lexer": "ipython3",
   "version": "3.11.10"
  }
 },
 "nbformat": 4,
 "nbformat_minor": 2
}
