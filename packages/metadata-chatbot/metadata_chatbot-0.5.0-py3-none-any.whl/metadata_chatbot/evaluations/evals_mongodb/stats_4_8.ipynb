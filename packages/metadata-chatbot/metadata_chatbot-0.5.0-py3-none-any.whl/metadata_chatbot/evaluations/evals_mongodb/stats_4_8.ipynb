{
 "cells": [
  {
   "cell_type": "code",
   "execution_count": 17,
   "id": "4094fe7f",
   "metadata": {},
   "outputs": [],
   "source": [
    "import pandas as pd\n",
    "from matplotlib import pyplot as plt\n",
    "import seaborn as sns"
   ]
  },
  {
   "cell_type": "markdown",
   "id": "f4c453ba",
   "metadata": {},
   "source": [
    "### Loading in data"
   ]
  },
  {
   "cell_type": "code",
   "execution_count": 6,
   "id": "41dfaac7",
   "metadata": {},
   "outputs": [],
   "source": [
    "anthropic_df = pd.read_csv(\"anthropic_mongodb_evals.csv\")\n",
    "bedrock_df = pd.read_csv(\"final_bedrock_mongodb_evals.csv\")"
   ]
  },
  {
   "cell_type": "code",
   "execution_count": 7,
   "id": "bf39c937",
   "metadata": {},
   "outputs": [
    {
     "data": {
      "text/html": [
       "<div>\n",
       "<style scoped>\n",
       "    .dataframe tbody tr th:only-of-type {\n",
       "        vertical-align: middle;\n",
       "    }\n",
       "\n",
       "    .dataframe tbody tr th {\n",
       "        vertical-align: top;\n",
       "    }\n",
       "\n",
       "    .dataframe thead th {\n",
       "        text-align: right;\n",
       "    }\n",
       "</style>\n",
       "<table border=\"1\" class=\"dataframe\">\n",
       "  <thead>\n",
       "    <tr style=\"text-align: right;\">\n",
       "      <th></th>\n",
       "      <th>input_question</th>\n",
       "      <th>target_mongodb_query</th>\n",
       "      <th>target_python</th>\n",
       "      <th>target_answer</th>\n",
       "      <th>predicted_answer</th>\n",
       "      <th>data_source</th>\n",
       "      <th>generation_time</th>\n",
       "      <th>response_evaluation</th>\n",
       "      <th>response_score</th>\n",
       "      <th>predicted_mongodb_query</th>\n",
       "      <th>mongodb_evaluation</th>\n",
       "      <th>mongodb_score</th>\n",
       "      <th>tool_output_size</th>\n",
       "      <th>query_type</th>\n",
       "    </tr>\n",
       "  </thead>\n",
       "  <tbody>\n",
       "    <tr>\n",
       "      <th>0</th>\n",
       "      <td>Generate code to find experiments where the an...</td>\n",
       "      <td>{\"agg_pipeline\":[{\"$match\":{\"procedures.subjec...</td>\n",
       "      <td>import json\\nfrom aind_data_access_api.documen...</td>\n",
       "      <td>I'll create a MongoDB aggregation pipeline to ...</td>\n",
       "      <td>I'll help you generate code to find experiment...</td>\n",
       "      <td>NaN</td>\n",
       "      <td>76.174700</td>\n",
       "      <td>CORRECT</td>\n",
       "      <td>1</td>\n",
       "      <td>{'agg_pipeline': [{'$match': {'procedures.subj...</td>\n",
       "      <td>CORRECT</td>\n",
       "      <td>1</td>\n",
       "      <td>22794</td>\n",
       "      <td>analysis</td>\n",
       "    </tr>\n",
       "    <tr>\n",
       "      <th>1</th>\n",
       "      <td>What are the injections for SmartSPIM_675387_2...</td>\n",
       "      <td>{\"filter\":{\"name\":\"SmartSPIM_675387_2023-05-23...</td>\n",
       "      <td>import json\\n\\nfrom aind_data_access_api.docum...</td>\n",
       "      <td>\\n                    Based on the provided co...</td>\n",
       "      <td>Based on the retrieved document for SmartSPIM_...</td>\n",
       "      <td>NaN</td>\n",
       "      <td>18.852197</td>\n",
       "      <td>CORRECT</td>\n",
       "      <td>1</td>\n",
       "      <td>{'filter': {'name': 'SmartSPIM_675387_2023-05-...</td>\n",
       "      <td>CORRECT</td>\n",
       "      <td>1</td>\n",
       "      <td>2929</td>\n",
       "      <td>anatomical_coordinates</td>\n",
       "    </tr>\n",
       "    <tr>\n",
       "      <th>2</th>\n",
       "      <td>what are the modalities of the assets for the ...</td>\n",
       "      <td>agg_pipeline = [\\n    {'$match': {'data_descri...</td>\n",
       "      <td>import json\\nfrom collections import Counter\\n...</td>\n",
       "      <td>\"Selective plane illumination microscopy\",  is...</td>\n",
       "      <td>Based on the retrieved results for the 'U19 Th...</td>\n",
       "      <td>NaN</td>\n",
       "      <td>24.567656</td>\n",
       "      <td>CORRECT</td>\n",
       "      <td>1</td>\n",
       "      <td>{'agg_pipeline': [{'$match': {'data_descriptio...</td>\n",
       "      <td>CORRECT</td>\n",
       "      <td>1</td>\n",
       "      <td>198</td>\n",
       "      <td>project</td>\n",
       "    </tr>\n",
       "    <tr>\n",
       "      <th>3</th>\n",
       "      <td>can you tell me how many sessions exist for 77...</td>\n",
       "      <td>filter = {\"subject.subject_id\": \"775745\"}\\npro...</td>\n",
       "      <td>import json\\nfrom aind_data_access_api.documen...</td>\n",
       "      <td>There are 8 sessions for subject 775745</td>\n",
       "      <td>Based on the retrieved documents, there are 8 ...</td>\n",
       "      <td>NaN</td>\n",
       "      <td>16.950946</td>\n",
       "      <td>CORRECT</td>\n",
       "      <td>1</td>\n",
       "      <td>{'filter': {'subject.subject_id': '775745'}, '...</td>\n",
       "      <td>CORRECT</td>\n",
       "      <td>1</td>\n",
       "      <td>888</td>\n",
       "      <td>experimental_details</td>\n",
       "    </tr>\n",
       "    <tr>\n",
       "      <th>4</th>\n",
       "      <td>Give me the query used to identify 5 subject I...</td>\n",
       "      <td>agg_pipeline = [\\n    {\\n        \"$match\": {\\n...</td>\n",
       "      <td>import json\\nfrom aind_data_access_api.documen...</td>\n",
       "      <td>import json\\nfrom aind_data_access_api.documen...</td>\n",
       "      <td>I'll provide a complete Python implementation ...</td>\n",
       "      <td>NaN</td>\n",
       "      <td>50.701288</td>\n",
       "      <td>CORRECT</td>\n",
       "      <td>1</td>\n",
       "      <td>{'agg_pipeline': [{'$match': {'subject.subject...</td>\n",
       "      <td>CORRECT</td>\n",
       "      <td>1</td>\n",
       "      <td>709</td>\n",
       "      <td>analysis</td>\n",
       "    </tr>\n",
       "  </tbody>\n",
       "</table>\n",
       "</div>"
      ],
      "text/plain": [
       "                                      input_question  \\\n",
       "0  Generate code to find experiments where the an...   \n",
       "1  What are the injections for SmartSPIM_675387_2...   \n",
       "2  what are the modalities of the assets for the ...   \n",
       "3  can you tell me how many sessions exist for 77...   \n",
       "4  Give me the query used to identify 5 subject I...   \n",
       "\n",
       "                                target_mongodb_query  \\\n",
       "0  {\"agg_pipeline\":[{\"$match\":{\"procedures.subjec...   \n",
       "1  {\"filter\":{\"name\":\"SmartSPIM_675387_2023-05-23...   \n",
       "2  agg_pipeline = [\\n    {'$match': {'data_descri...   \n",
       "3  filter = {\"subject.subject_id\": \"775745\"}\\npro...   \n",
       "4  agg_pipeline = [\\n    {\\n        \"$match\": {\\n...   \n",
       "\n",
       "                                       target_python  \\\n",
       "0  import json\\nfrom aind_data_access_api.documen...   \n",
       "1  import json\\n\\nfrom aind_data_access_api.docum...   \n",
       "2  import json\\nfrom collections import Counter\\n...   \n",
       "3  import json\\nfrom aind_data_access_api.documen...   \n",
       "4  import json\\nfrom aind_data_access_api.documen...   \n",
       "\n",
       "                                       target_answer  \\\n",
       "0  I'll create a MongoDB aggregation pipeline to ...   \n",
       "1  \\n                    Based on the provided co...   \n",
       "2  \"Selective plane illumination microscopy\",  is...   \n",
       "3            There are 8 sessions for subject 775745   \n",
       "4  import json\\nfrom aind_data_access_api.documen...   \n",
       "\n",
       "                                    predicted_answer  data_source  \\\n",
       "0  I'll help you generate code to find experiment...          NaN   \n",
       "1  Based on the retrieved document for SmartSPIM_...          NaN   \n",
       "2  Based on the retrieved results for the 'U19 Th...          NaN   \n",
       "3  Based on the retrieved documents, there are 8 ...          NaN   \n",
       "4  I'll provide a complete Python implementation ...          NaN   \n",
       "\n",
       "   generation_time response_evaluation  response_score  \\\n",
       "0        76.174700             CORRECT               1   \n",
       "1        18.852197             CORRECT               1   \n",
       "2        24.567656             CORRECT               1   \n",
       "3        16.950946             CORRECT               1   \n",
       "4        50.701288             CORRECT               1   \n",
       "\n",
       "                             predicted_mongodb_query mongodb_evaluation  \\\n",
       "0  {'agg_pipeline': [{'$match': {'procedures.subj...            CORRECT   \n",
       "1  {'filter': {'name': 'SmartSPIM_675387_2023-05-...            CORRECT   \n",
       "2  {'agg_pipeline': [{'$match': {'data_descriptio...            CORRECT   \n",
       "3  {'filter': {'subject.subject_id': '775745'}, '...            CORRECT   \n",
       "4  {'agg_pipeline': [{'$match': {'subject.subject...            CORRECT   \n",
       "\n",
       "   mongodb_score  tool_output_size              query_type  \n",
       "0              1             22794                analysis  \n",
       "1              1              2929  anatomical_coordinates  \n",
       "2              1               198                 project  \n",
       "3              1               888    experimental_details  \n",
       "4              1               709                analysis  "
      ]
     },
     "execution_count": 7,
     "metadata": {},
     "output_type": "execute_result"
    }
   ],
   "source": [
    "bedrock_df.head(5)"
   ]
  },
  {
   "cell_type": "code",
   "execution_count": 8,
   "id": "dc49263d",
   "metadata": {},
   "outputs": [
    {
     "data": {
      "text/plain": [
       "query_type\n",
       "analysis                  11\n",
       "anatomical_coordinates     7\n",
       "project                    7\n",
       "experimental_details       7\n",
       "database                   7\n",
       "instrument                 5\n",
       "subject                    5\n",
       "Name: count, dtype: int64"
      ]
     },
     "execution_count": 8,
     "metadata": {},
     "output_type": "execute_result"
    }
   ],
   "source": [
    "bedrock_df[\"query_type\"].value_counts()"
   ]
  },
  {
   "cell_type": "code",
   "execution_count": 22,
   "id": "bd9e89f1",
   "metadata": {},
   "outputs": [
    {
     "data": {
      "text/plain": [
       "([<matplotlib.patches.Wedge at 0x263dbe29c90>,\n",
       "  <matplotlib.patches.Wedge at 0x263dea0cad0>,\n",
       "  <matplotlib.patches.Wedge at 0x263dea25810>,\n",
       "  <matplotlib.patches.Wedge at 0x263dea26d90>,\n",
       "  <matplotlib.patches.Wedge at 0x263dea2c4d0>,\n",
       "  <matplotlib.patches.Wedge at 0x263dea2da10>,\n",
       "  <matplotlib.patches.Wedge at 0x263dea2ecd0>],\n",
       " [Text(0.8375905603371303, 0.7130512276366491, 'Analysis'),\n",
       "  Text(-0.312980348316564, 1.0545346374432858, 'Experiment details'),\n",
       "  Text(-1.0196084508273997, 0.41279366153242975, 'Database level'),\n",
       "  Text(-0.9584505296697166, -0.539789386868471, 'Project level'),\n",
       "  Text(-0.1755597507067299, -1.0858999833924812, 'Anatomical/ Coordinates'),\n",
       "  Text(0.6293284653359678, -0.9021893829556386, 'Subject level'),\n",
       "  Text(1.043961382809114, -0.3466188558103593, 'Instrument')])"
      ]
     },
     "execution_count": 22,
     "metadata": {},
     "output_type": "execute_result"
    },
    {
     "data": {
      "image/png": "[encoded data removed]",
      "text/plain": [
       "<Figure size 640x480 with 1 Axes>"
      ]
     },
     "metadata": {},
     "output_type": "display_data"
    }
   ],
   "source": [
    "import matplotlib.pyplot as plt\n",
    "\n",
    "labels = 'Analysis', \"Experiment details\",\"Database level\", \"Project level\", \"Anatomical/ Coordinates\", \"Subject level\", \"Instrument\"\n",
    "sizes = bedrock_df[\"query_type\"].value_counts().tolist()\n",
    "\n",
    "fig, ax = plt.subplots()\n",
    "ax.pie(sizes, labels=labels,\n",
    "       colors=[\n",
    "    '#FF9AA2',  # soft pink\n",
    "    '#FFB7B2',  # light salmon\n",
    "    '#FFDAC1',  # pale peach\n",
    "    '#B5EAD7',  # seafoam green\n",
    "    '#C7CEEA',  # periwinkle\n",
    "    '#9FB7E0',  # soft blue\n",
    "    '#D6A2E8',  # lavender\n",
    "    '#F8C8DC'   # rose\n",
    "])"
   ]
  },
  {
   "cell_type": "code",
   "execution_count": 10,
   "id": "aa5554ee",
   "metadata": {},
   "outputs": [
    {
     "data": {
      "text/html": [
       "<div>\n",
       "<style scoped>\n",
       "    .dataframe tbody tr th:only-of-type {\n",
       "        vertical-align: middle;\n",
       "    }\n",
       "\n",
       "    .dataframe tbody tr th {\n",
       "        vertical-align: top;\n",
       "    }\n",
       "\n",
       "    .dataframe thead th {\n",
       "        text-align: right;\n",
       "    }\n",
       "</style>\n",
       "<table border=\"1\" class=\"dataframe\">\n",
       "  <thead>\n",
       "    <tr style=\"text-align: right;\">\n",
       "      <th></th>\n",
       "      <th>response_score</th>\n",
       "      <th>generation_time</th>\n",
       "      <th>tool_output_size</th>\n",
       "    </tr>\n",
       "    <tr>\n",
       "      <th>query_type</th>\n",
       "      <th></th>\n",
       "      <th></th>\n",
       "      <th></th>\n",
       "    </tr>\n",
       "  </thead>\n",
       "  <tbody>\n",
       "    <tr>\n",
       "      <th>analysis</th>\n",
       "      <td>0.545455</td>\n",
       "      <td>40.386014</td>\n",
       "      <td>2382.363636</td>\n",
       "    </tr>\n",
       "    <tr>\n",
       "      <th>anatomical_coordinates</th>\n",
       "      <td>0.714286</td>\n",
       "      <td>21.546845</td>\n",
       "      <td>56671.285714</td>\n",
       "    </tr>\n",
       "    <tr>\n",
       "      <th>database</th>\n",
       "      <td>0.714286</td>\n",
       "      <td>23.074181</td>\n",
       "      <td>3082.000000</td>\n",
       "    </tr>\n",
       "    <tr>\n",
       "      <th>experimental_details</th>\n",
       "      <td>0.714286</td>\n",
       "      <td>13.644871</td>\n",
       "      <td>4033.571429</td>\n",
       "    </tr>\n",
       "    <tr>\n",
       "      <th>instrument</th>\n",
       "      <td>1.000000</td>\n",
       "      <td>21.034958</td>\n",
       "      <td>2621.000000</td>\n",
       "    </tr>\n",
       "    <tr>\n",
       "      <th>project</th>\n",
       "      <td>0.714286</td>\n",
       "      <td>17.494495</td>\n",
       "      <td>13719.571429</td>\n",
       "    </tr>\n",
       "    <tr>\n",
       "      <th>subject</th>\n",
       "      <td>0.800000</td>\n",
       "      <td>17.290422</td>\n",
       "      <td>1386.000000</td>\n",
       "    </tr>\n",
       "  </tbody>\n",
       "</table>\n",
       "</div>"
      ],
      "text/plain": [
       "                        response_score  generation_time  tool_output_size\n",
       "query_type                                                               \n",
       "analysis                      0.545455        40.386014       2382.363636\n",
       "anatomical_coordinates        0.714286        21.546845      56671.285714\n",
       "database                      0.714286        23.074181       3082.000000\n",
       "experimental_details          0.714286        13.644871       4033.571429\n",
       "instrument                    1.000000        21.034958       2621.000000\n",
       "project                       0.714286        17.494495      13719.571429\n",
       "subject                       0.800000        17.290422       1386.000000"
      ]
     },
     "execution_count": 10,
     "metadata": {},
     "output_type": "execute_result"
    }
   ],
   "source": [
    "bedrock_df[[\"query_type\", \"response_score\", \"generation_time\", \"tool_output_size\"]].groupby(\"query_type\").mean()"
   ]
  },
  {
   "cell_type": "code",
   "execution_count": 11,
   "id": "66c7f602",
   "metadata": {},
   "outputs": [
    {
     "data": {
      "text/plain": [
       "response_evaluation\n",
       "CORRECT      35\n",
       "ERROR         8\n",
       "INCORRECT     6\n",
       "Name: count, dtype: int64"
      ]
     },
     "execution_count": 11,
     "metadata": {},
     "output_type": "execute_result"
    }
   ],
   "source": [
    "bedrock_df['response_evaluation'].value_counts()"
   ]
  },
  {
   "cell_type": "code",
   "execution_count": 12,
   "id": "754a71ab",
   "metadata": {},
   "outputs": [
    {
     "data": {
      "text/plain": [
       "0.7142857142857143"
      ]
     },
     "execution_count": 12,
     "metadata": {},
     "output_type": "execute_result"
    }
   ],
   "source": [
    "bedrock_df['response_score'].mean()"
   ]
  },
  {
   "cell_type": "code",
   "execution_count": 14,
   "id": "7a1712bc",
   "metadata": {},
   "outputs": [
    {
     "data": {
      "text/html": [
       "<div>\n",
       "<style scoped>\n",
       "    .dataframe tbody tr th:only-of-type {\n",
       "        vertical-align: middle;\n",
       "    }\n",
       "\n",
       "    .dataframe tbody tr th {\n",
       "        vertical-align: top;\n",
       "    }\n",
       "\n",
       "    .dataframe thead th {\n",
       "        text-align: right;\n",
       "    }\n",
       "</style>\n",
       "<table border=\"1\" class=\"dataframe\">\n",
       "  <thead>\n",
       "    <tr style=\"text-align: right;\">\n",
       "      <th></th>\n",
       "      <th>response_score</th>\n",
       "      <th>generation_time</th>\n",
       "      <th>tool_output_size</th>\n",
       "      <th>ERROR</th>\n",
       "    </tr>\n",
       "    <tr>\n",
       "      <th>query_type</th>\n",
       "      <th></th>\n",
       "      <th></th>\n",
       "      <th></th>\n",
       "      <th></th>\n",
       "    </tr>\n",
       "  </thead>\n",
       "  <tbody>\n",
       "    <tr>\n",
       "      <th>analysis</th>\n",
       "      <td>0.545455</td>\n",
       "      <td>40.386014</td>\n",
       "      <td>2382.363636</td>\n",
       "      <td>0.272727</td>\n",
       "    </tr>\n",
       "    <tr>\n",
       "      <th>anatomical_coordinates</th>\n",
       "      <td>0.714286</td>\n",
       "      <td>21.546845</td>\n",
       "      <td>56671.285714</td>\n",
       "      <td>0.142857</td>\n",
       "    </tr>\n",
       "    <tr>\n",
       "      <th>database</th>\n",
       "      <td>0.714286</td>\n",
       "      <td>23.074181</td>\n",
       "      <td>3082.000000</td>\n",
       "      <td>0.000000</td>\n",
       "    </tr>\n",
       "    <tr>\n",
       "      <th>experimental_details</th>\n",
       "      <td>0.714286</td>\n",
       "      <td>13.644871</td>\n",
       "      <td>4033.571429</td>\n",
       "      <td>0.285714</td>\n",
       "    </tr>\n",
       "    <tr>\n",
       "      <th>instrument</th>\n",
       "      <td>1.000000</td>\n",
       "      <td>21.034958</td>\n",
       "      <td>2621.000000</td>\n",
       "      <td>0.000000</td>\n",
       "    </tr>\n",
       "    <tr>\n",
       "      <th>project</th>\n",
       "      <td>0.714286</td>\n",
       "      <td>17.494495</td>\n",
       "      <td>13719.571429</td>\n",
       "      <td>0.285714</td>\n",
       "    </tr>\n",
       "    <tr>\n",
       "      <th>subject</th>\n",
       "      <td>0.800000</td>\n",
       "      <td>17.290422</td>\n",
       "      <td>1386.000000</td>\n",
       "      <td>0.000000</td>\n",
       "    </tr>\n",
       "  </tbody>\n",
       "</table>\n",
       "</div>"
      ],
      "text/plain": [
       "                        response_score  generation_time  tool_output_size  \\\n",
       "query_type                                                                  \n",
       "analysis                      0.545455        40.386014       2382.363636   \n",
       "anatomical_coordinates        0.714286        21.546845      56671.285714   \n",
       "database                      0.714286        23.074181       3082.000000   \n",
       "experimental_details          0.714286        13.644871       4033.571429   \n",
       "instrument                    1.000000        21.034958       2621.000000   \n",
       "project                       0.714286        17.494495      13719.571429   \n",
       "subject                       0.800000        17.290422       1386.000000   \n",
       "\n",
       "                           ERROR  \n",
       "query_type                        \n",
       "analysis                0.272727  \n",
       "anatomical_coordinates  0.142857  \n",
       "database                0.000000  \n",
       "experimental_details    0.285714  \n",
       "instrument              0.000000  \n",
       "project                 0.285714  \n",
       "subject                 0.000000  "
      ]
     },
     "execution_count": 14,
     "metadata": {},
     "output_type": "execute_result"
    }
   ],
   "source": [
    "one_hot_df = pd.get_dummies(bedrock_df['response_evaluation'], dtype=float)\n",
    "bedrock_df = pd.concat([bedrock_df, one_hot_df], axis = 1)\n",
    "bedrock_df[[\"query_type\", \"response_score\", \"generation_time\", \"tool_output_size\", \"ERROR\"]].groupby(\"query_type\").mean()"
   ]
  },
  {
   "cell_type": "code",
   "execution_count": 25,
   "id": "fba3bf4a",
   "metadata": {},
   "outputs": [
    {
     "data": {
      "text/plain": [
       "<Axes: xlabel='tool_output_size', ylabel='generation_time'>"
      ]
     },
     "execution_count": 25,
     "metadata": {},
     "output_type": "execute_result"
    },
    {
     "data": {
      "image/png": "[encoded data removed]",
      "text/plain": [
       "<Figure size 640x480 with 1 Axes>"
      ]
     },
     "metadata": {},
     "output_type": "display_data"
    }
   ],
   "source": [
    "sns.scatterplot(data=bedrock_df.where(bedrock_df['response_evaluation']!= \"ERROR\"), x=\"tool_output_size\", y=\"generation_time\", hue = \"CORRECT\")"
   ]
  },
  {
   "cell_type": "code",
   "execution_count": 16,
   "id": "6d3a375b",
   "metadata": {},
   "outputs": [
    {
     "data": {
      "text/html": [
       "<div>\n",
       "<style scoped>\n",
       "    .dataframe tbody tr th:only-of-type {\n",
       "        vertical-align: middle;\n",
       "    }\n",
       "\n",
       "    .dataframe tbody tr th {\n",
       "        vertical-align: top;\n",
       "    }\n",
       "\n",
       "    .dataframe thead th {\n",
       "        text-align: right;\n",
       "    }\n",
       "</style>\n",
       "<table border=\"1\" class=\"dataframe\">\n",
       "  <thead>\n",
       "    <tr style=\"text-align: right;\">\n",
       "      <th></th>\n",
       "      <th>tool_output_size</th>\n",
       "    </tr>\n",
       "    <tr>\n",
       "      <th>INCORRECT</th>\n",
       "      <th></th>\n",
       "    </tr>\n",
       "  </thead>\n",
       "  <tbody>\n",
       "    <tr>\n",
       "      <th>0.0</th>\n",
       "      <td>7620.767442</td>\n",
       "    </tr>\n",
       "    <tr>\n",
       "      <th>1.0</th>\n",
       "      <td>43515.500000</td>\n",
       "    </tr>\n",
       "  </tbody>\n",
       "</table>\n",
       "</div>"
      ],
      "text/plain": [
       "           tool_output_size\n",
       "INCORRECT                  \n",
       "0.0             7620.767442\n",
       "1.0            43515.500000"
      ]
     },
     "execution_count": 16,
     "metadata": {},
     "output_type": "execute_result"
    }
   ],
   "source": [
    "bedrock_df[[\"tool_output_size\", \"INCORRECT\"]].groupby(\"INCORRECT\").mean()"
   ]
  },
  {
   "cell_type": "code",
   "execution_count": 21,
   "id": "b8f32266",
   "metadata": {},
   "outputs": [
    {
     "data": {
      "text/plain": [
       "<Axes: xlabel='tool_output_size', ylabel='response_evaluation'>"
      ]
     },
     "execution_count": 21,
     "metadata": {},
     "output_type": "execute_result"
    },
    {
     "data": {
      "image/png": "[encoded data removed]",
      "text/plain": [
       "<Figure size 640x480 with 1 Axes>"
      ]
     },
     "metadata": {},
     "output_type": "display_data"
    }
   ],
   "source": [
    "sns.violinplot(data=bedrock_df, x=\"tool_output_size\", y=\"response_evaluation\")"
   ]
  },
  {
   "cell_type": "code",
   "execution_count": 27,
   "id": "81f31cda",
   "metadata": {},
   "outputs": [
    {
     "name": "stdout",
     "output_type": "stream",
     "text": [
      "The mean answer generation time through anthropic is 28.638922000975608\n"
     ]
    },
    {
     "data": {
      "image/png": "[encoded data removed]",
      "text/plain": [
       "<Figure size 640x480 with 1 Axes>"
      ]
     },
     "metadata": {},
     "output_type": "display_data"
    }
   ],
   "source": [
    "anthropic_no_error_df = bedrock_df.where(bedrock_df['response_evaluation']!= \"ERROR\")\n",
    "print(f\"The mean answer generation time through anthropic is {anthropic_no_error_df.loc[:, 'generation_time'].mean()}\")\n",
    "plt.hist(anthropic_no_error_df['generation_time'], range = (0,60))\n",
    "plt.show()"
   ]
  },
  {
   "cell_type": "code",
   "execution_count": 33,
   "id": "d7758630",
   "metadata": {},
   "outputs": [
    {
     "data": {
      "text/plain": [
       "<Axes: xlabel='generation_time', ylabel='Count'>"
      ]
     },
     "execution_count": 33,
     "metadata": {},
     "output_type": "execute_result"
    },
    {
     "data": {
      "image/png": "[encoded data removed]",
      "text/plain": [
       "<Figure size 640x480 with 1 Axes>"
      ]
     },
     "metadata": {},
     "output_type": "display_data"
    }
   ],
   "source": [
    "sns.histplot(data=anthropic_no_error_df, x=\"generation_time\", hue=\"CORRECT\", multiple = \"stack\", palette=\"pastel\")\n"
   ]
  },
  {
   "cell_type": "markdown",
   "id": "fe0fce08",
   "metadata": {},
   "source": [
    "### Preprocessing to combine dfs"
   ]
  },
  {
   "cell_type": "code",
   "execution_count": 3,
   "id": "3b518428",
   "metadata": {},
   "outputs": [
    {
     "data": {
      "text/html": [
       "<div>\n",
       "<style scoped>\n",
       "    .dataframe tbody tr th:only-of-type {\n",
       "        vertical-align: middle;\n",
       "    }\n",
       "\n",
       "    .dataframe tbody tr th {\n",
       "        vertical-align: top;\n",
       "    }\n",
       "\n",
       "    .dataframe thead th {\n",
       "        text-align: right;\n",
       "    }\n",
       "</style>\n",
       "<table border=\"1\" class=\"dataframe\">\n",
       "  <thead>\n",
       "    <tr style=\"text-align: right;\">\n",
       "      <th></th>\n",
       "      <th>input_question</th>\n",
       "      <th>target_mongodb_query</th>\n",
       "      <th>target_answer</th>\n",
       "      <th>predicted_answer</th>\n",
       "      <th>predicted_mongodb_query</th>\n",
       "      <th>anthropic_generation_time</th>\n",
       "      <th>anthropic_mongodb_evaluation</th>\n",
       "      <th>anthropic_mongodb_score</th>\n",
       "      <th>anthropic_response_evaluation</th>\n",
       "      <th>anthropic_response_score</th>\n",
       "      <th>bedrock_generation_time</th>\n",
       "      <th>bedrock_mongodb_evaluation</th>\n",
       "      <th>bedrock_mongodb_score</th>\n",
       "      <th>bedrock_response_evaluation</th>\n",
       "      <th>bedrock_response_score</th>\n",
       "    </tr>\n",
       "  </thead>\n",
       "  <tbody>\n",
       "    <tr>\n",
       "      <th>0</th>\n",
       "      <td>for mouse 721291 can you make a table of sessi...</td>\n",
       "      <td>{\"filter\":{\"subject.subject_id\":\"721291\"},\"pro...</td>\n",
       "      <td>Sessions for Mouse 721291\\n Session, Date, Ses...</td>\n",
       "      <td>I'll create an aggregation pipeline to retriev...</td>\n",
       "      <td>{'filter': {'subject.subject_id': '721291'}, '...</td>\n",
       "      <td>45.258800</td>\n",
       "      <td>CORRECT</td>\n",
       "      <td>1.0</td>\n",
       "      <td>INCORRECT</td>\n",
       "      <td>0.0</td>\n",
       "      <td>27.374631</td>\n",
       "      <td>CORRECT</td>\n",
       "      <td>1.0</td>\n",
       "      <td>INCORRECT</td>\n",
       "      <td>0.0</td>\n",
       "    </tr>\n",
       "    <tr>\n",
       "      <th>1</th>\n",
       "      <td>Tell me about mouse 747107</td>\n",
       "      <td>{\"subject.subject_id\": \"747107\"}</td>\n",
       "      <td>Mouse 747107 is a female Mus musculus with the...</td>\n",
       "      <td>I'll help you retrieve the details for mouse 7...</td>\n",
       "      <td>{'filter': {'subject.subject_id': '747107'}, '...</td>\n",
       "      <td>11.560473</td>\n",
       "      <td>CORRECT</td>\n",
       "      <td>1.0</td>\n",
       "      <td>INCORRECT</td>\n",
       "      <td>0.0</td>\n",
       "      <td>21.749024</td>\n",
       "      <td>CORRECT</td>\n",
       "      <td>1.0</td>\n",
       "      <td>CORRECT</td>\n",
       "      <td>1.0</td>\n",
       "    </tr>\n",
       "    <tr>\n",
       "      <th>2</th>\n",
       "      <td>How many records use the session.data_streams....</td>\n",
       "      <td>{\"agg_pipeline\":[{\"$match\":{\"session.data_stre...</td>\n",
       "      <td>there are 5488 records with session.data_strea...</td>\n",
       "      <td>Here's a query to count records that have a no...</td>\n",
       "      <td>{'agg_pipeline': [{'$match': {'session.data_st...</td>\n",
       "      <td>10.611998</td>\n",
       "      <td>CORRECT</td>\n",
       "      <td>1.0</td>\n",
       "      <td>CORRECT</td>\n",
       "      <td>1.0</td>\n",
       "      <td>19.400605</td>\n",
       "      <td>CORRECT</td>\n",
       "      <td>1.0</td>\n",
       "      <td>CORRECT</td>\n",
       "      <td>1.0</td>\n",
       "    </tr>\n",
       "    <tr>\n",
       "      <th>3</th>\n",
       "      <td>can you tell me how many sessions exist for 77...</td>\n",
       "      <td>filter = {\"subject.subject_id\": \"775745\"}\\npro...</td>\n",
       "      <td>There are 50 sessions for subject 775745</td>\n",
       "      <td>I'll help you count the number of sessions for...</td>\n",
       "      <td>{'agg_pipeline': [{'$match': {'subject.subject...</td>\n",
       "      <td>10.799716</td>\n",
       "      <td>CORRECT</td>\n",
       "      <td>1.0</td>\n",
       "      <td>INCORRECT</td>\n",
       "      <td>0.0</td>\n",
       "      <td>15.529134</td>\n",
       "      <td>CORRECT</td>\n",
       "      <td>1.0</td>\n",
       "      <td>INCORRECT</td>\n",
       "      <td>0.0</td>\n",
       "    </tr>\n",
       "    <tr>\n",
       "      <th>4</th>\n",
       "      <td>Find how many experimental sessions conducted ...</td>\n",
       "      <td>{\"agg_pipeline\":[{\"$match\":{\"$or\":[{\"acquisiti...</td>\n",
       "      <td>86 sessions were conducted by Marton Rozsa</td>\n",
       "      <td>Error: Error code: 400 - {'type': 'error', 'er...</td>\n",
       "      <td>Error: Error code: 400 - {'type': 'error', 'er...</td>\n",
       "      <td>10.799716</td>\n",
       "      <td>ERROR</td>\n",
       "      <td>0.0</td>\n",
       "      <td>ERROR</td>\n",
       "      <td>0.0</td>\n",
       "      <td>15.529134</td>\n",
       "      <td>ERROR</td>\n",
       "      <td>0.0</td>\n",
       "      <td>ERROR</td>\n",
       "      <td>0.0</td>\n",
       "    </tr>\n",
       "  </tbody>\n",
       "</table>\n",
       "</div>"
      ],
      "text/plain": [
       "                                      input_question  \\\n",
       "0  for mouse 721291 can you make a table of sessi...   \n",
       "1                         Tell me about mouse 747107   \n",
       "2  How many records use the session.data_streams....   \n",
       "3  can you tell me how many sessions exist for 77...   \n",
       "4  Find how many experimental sessions conducted ...   \n",
       "\n",
       "                                target_mongodb_query  \\\n",
       "0  {\"filter\":{\"subject.subject_id\":\"721291\"},\"pro...   \n",
       "1                   {\"subject.subject_id\": \"747107\"}   \n",
       "2  {\"agg_pipeline\":[{\"$match\":{\"session.data_stre...   \n",
       "3  filter = {\"subject.subject_id\": \"775745\"}\\npro...   \n",
       "4  {\"agg_pipeline\":[{\"$match\":{\"$or\":[{\"acquisiti...   \n",
       "\n",
       "                                       target_answer  \\\n",
       "0  Sessions for Mouse 721291\\n Session, Date, Ses...   \n",
       "1  Mouse 747107 is a female Mus musculus with the...   \n",
       "2  there are 5488 records with session.data_strea...   \n",
       "3           There are 50 sessions for subject 775745   \n",
       "4         86 sessions were conducted by Marton Rozsa   \n",
       "\n",
       "                                    predicted_answer  \\\n",
       "0  I'll create an aggregation pipeline to retriev...   \n",
       "1  I'll help you retrieve the details for mouse 7...   \n",
       "2  Here's a query to count records that have a no...   \n",
       "3  I'll help you count the number of sessions for...   \n",
       "4  Error: Error code: 400 - {'type': 'error', 'er...   \n",
       "\n",
       "                             predicted_mongodb_query  \\\n",
       "0  {'filter': {'subject.subject_id': '721291'}, '...   \n",
       "1  {'filter': {'subject.subject_id': '747107'}, '...   \n",
       "2  {'agg_pipeline': [{'$match': {'session.data_st...   \n",
       "3  {'agg_pipeline': [{'$match': {'subject.subject...   \n",
       "4  Error: Error code: 400 - {'type': 'error', 'er...   \n",
       "\n",
       "   anthropic_generation_time anthropic_mongodb_evaluation  \\\n",
       "0                  45.258800                      CORRECT   \n",
       "1                  11.560473                      CORRECT   \n",
       "2                  10.611998                      CORRECT   \n",
       "3                  10.799716                      CORRECT   \n",
       "4                  10.799716                        ERROR   \n",
       "\n",
       "   anthropic_mongodb_score anthropic_response_evaluation  \\\n",
       "0                      1.0                     INCORRECT   \n",
       "1                      1.0                     INCORRECT   \n",
       "2                      1.0                       CORRECT   \n",
       "3                      1.0                     INCORRECT   \n",
       "4                      0.0                         ERROR   \n",
       "\n",
       "   anthropic_response_score  bedrock_generation_time  \\\n",
       "0                       0.0                27.374631   \n",
       "1                       0.0                21.749024   \n",
       "2                       1.0                19.400605   \n",
       "3                       0.0                15.529134   \n",
       "4                       0.0                15.529134   \n",
       "\n",
       "  bedrock_mongodb_evaluation  bedrock_mongodb_score  \\\n",
       "0                    CORRECT                    1.0   \n",
       "1                    CORRECT                    1.0   \n",
       "2                    CORRECT                    1.0   \n",
       "3                    CORRECT                    1.0   \n",
       "4                      ERROR                    0.0   \n",
       "\n",
       "  bedrock_response_evaluation  bedrock_response_score  \n",
       "0                   INCORRECT                     0.0  \n",
       "1                     CORRECT                     1.0  \n",
       "2                     CORRECT                     1.0  \n",
       "3                   INCORRECT                     0.0  \n",
       "4                       ERROR                     0.0  "
      ]
     },
     "execution_count": 3,
     "metadata": {},
     "output_type": "execute_result"
    }
   ],
   "source": [
    "combined_df = anthropic_df.rename(\n",
    "    columns={\n",
    "        \"generation_time\": \"anthropic_generation_time\",\n",
    "        \"mongodb_evaluation\": \"anthropic_mongodb_evaluation\",\n",
    "        \"mongodb_score\": \"anthropic_mongodb_score\",\n",
    "        \"response_evaluation\": \"anthropic_response_evaluation\",\n",
    "        \"response_score\": \"anthropic_response_score\",\n",
    "    }\n",
    ")\n",
    "\n",
    "bedrock_df = bedrock_df.rename(\n",
    "    columns={\n",
    "        \"generation_time\": \"bedrock_generation_time\",\n",
    "        \"mongodb_evaluation\": \"bedrock_mongodb_evaluation\",\n",
    "        \"mongodb_score\": \"bedrock_mongodb_score\",\n",
    "        \"response_evaluation\": \"bedrock_response_evaluation\",\n",
    "        \"response_score\": \"bedrock_response_score\",\n",
    "    }\n",
    ")\n",
    "\n",
    "combined_df[\"bedrock_generation_time\"] = bedrock_df[\"bedrock_generation_time\"]\n",
    "combined_df[\"bedrock_mongodb_evaluation\"] = bedrock_df[\"bedrock_mongodb_evaluation\"]\n",
    "combined_df[\"bedrock_mongodb_score\"] = bedrock_df[\"bedrock_mongodb_score\"]\n",
    "combined_df[\"bedrock_response_evaluation\"] = bedrock_df[\"bedrock_response_evaluation\"]\n",
    "combined_df[\"bedrock_response_score\"] = bedrock_df[\"bedrock_response_score\"]\n",
    "\n",
    "combined_df.head(5)"
   ]
  },
  {
   "cell_type": "code",
   "execution_count": 4,
   "id": "b7c83e89",
   "metadata": {},
   "outputs": [
    {
     "data": {
      "text/plain": [
       "(45, 15)"
      ]
     },
     "execution_count": 4,
     "metadata": {},
     "output_type": "execute_result"
    }
   ],
   "source": [
    "combined_df.shape"
   ]
  },
  {
   "cell_type": "markdown",
   "id": "bc2a4213",
   "metadata": {},
   "source": [
    "## Analysis"
   ]
  },
  {
   "cell_type": "code",
   "execution_count": 5,
   "id": "cfd281f3",
   "metadata": {},
   "outputs": [
    {
     "data": {
      "text/plain": [
       "anthropic_mongodb_evaluation\n",
       "CORRECT      22\n",
       "INCORRECT    14\n",
       "ERROR         9\n",
       "Name: count, dtype: int64"
      ]
     },
     "execution_count": 5,
     "metadata": {},
     "output_type": "execute_result"
    }
   ],
   "source": [
    "combined_df['anthropic_mongodb_evaluation'].value_counts()"
   ]
  },
  {
   "cell_type": "code",
   "execution_count": 6,
   "id": "630e3cfa",
   "metadata": {},
   "outputs": [
    {
     "data": {
      "text/plain": [
       "bedrock_mongodb_evaluation\n",
       "CORRECT      23\n",
       "INCORRECT    12\n",
       "ERROR        10\n",
       "Name: count, dtype: int64"
      ]
     },
     "execution_count": 6,
     "metadata": {},
     "output_type": "execute_result"
    }
   ],
   "source": [
    "combined_df['bedrock_mongodb_evaluation'].value_counts()"
   ]
  },
  {
   "cell_type": "code",
   "execution_count": 8,
   "id": "841e3b50",
   "metadata": {},
   "outputs": [
    {
     "data": {
      "text/plain": [
       "anthropic_response_evaluation\n",
       "INCORRECT    31\n",
       "ERROR         8\n",
       "CORRECT       6\n",
       "Name: count, dtype: int64"
      ]
     },
     "execution_count": 8,
     "metadata": {},
     "output_type": "execute_result"
    }
   ],
   "source": [
    "combined_df['anthropic_response_evaluation'].value_counts()"
   ]
  },
  {
   "cell_type": "code",
   "execution_count": 7,
   "id": "2f63a799",
   "metadata": {},
   "outputs": [
    {
     "data": {
      "text/plain": [
       "bedrock_response_evaluation\n",
       "CORRECT      24\n",
       "INCORRECT    11\n",
       "ERROR        10\n",
       "Name: count, dtype: int64"
      ]
     },
     "execution_count": 7,
     "metadata": {},
     "output_type": "execute_result"
    }
   ],
   "source": [
    "combined_df['bedrock_response_evaluation'].value_counts()"
   ]
  },
  {
   "cell_type": "code",
   "execution_count": null,
   "id": "93aad1fd",
   "metadata": {},
   "outputs": [],
   "source": []
  }
 ],
 "metadata": {
  "kernelspec": {
   "display_name": "venv",
   "language": "python",
   "name": "python3"
  },
  "language_info": {
   "codemirror_mode": {
    "name": "ipython",
    "version": 3
   },
   "file_extension": ".py",
   "mimetype": "text/x-python",
   "name": "python",
   "nbconvert_exporter": "python",
   "pygments_lexer": "ipython3",
   "version": "3.11.0"
  }
 },
 "nbformat": 4,
 "nbformat_minor": 5
}
