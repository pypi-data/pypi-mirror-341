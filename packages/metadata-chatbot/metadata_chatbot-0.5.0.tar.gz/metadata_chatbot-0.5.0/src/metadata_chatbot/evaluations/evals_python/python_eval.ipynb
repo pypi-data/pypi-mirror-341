{
 "cells": [
  {
   "cell_type": "code",
   "execution_count": 1,
   "id": "4094fe7f",
   "metadata": {},
   "outputs": [],
   "source": [
    "import pandas as pd\n",
    "from matplotlib import pyplot as plt"
   ]
  },
  {
   "cell_type": "markdown",
   "id": "f4c453ba",
   "metadata": {},
   "source": [
    "### Loading in data"
   ]
  },
  {
   "cell_type": "code",
   "execution_count": 2,
   "id": "41dfaac7",
   "metadata": {},
   "outputs": [],
   "source": [
    "anthropic_df = pd.read_csv(\"anthropic_python_evals_redo.csv\")\n",
    "df_4_12 = pd.read_csv(\"anthropic_python_evals_4_14.csv\")"
   ]
  },
  {
   "cell_type": "code",
   "execution_count": 3,
   "id": "e3415482",
   "metadata": {},
   "outputs": [
    {
     "data": {
      "text/plain": [
       "response_evaluation\n",
       "CORRECT      34\n",
       "INCORRECT    10\n",
       "ERROR         3\n",
       "Name: count, dtype: int64"
      ]
     },
     "execution_count": 3,
     "metadata": {},
     "output_type": "execute_result"
    }
   ],
   "source": [
    "df_4_12['response_evaluation'].value_counts()"
   ]
  },
  {
   "cell_type": "code",
   "execution_count": 4,
   "id": "42073095",
   "metadata": {},
   "outputs": [
    {
     "data": {
      "text/plain": [
       "0.723404255319149"
      ]
     },
     "execution_count": 4,
     "metadata": {},
     "output_type": "execute_result"
    }
   ],
   "source": [
    "df_4_12['response_score'].mean()"
   ]
  },
  {
   "cell_type": "code",
   "execution_count": 12,
   "id": "ad386411",
   "metadata": {},
   "outputs": [
    {
     "name": "stdout",
     "output_type": "stream",
     "text": [
      "The mean answer generation time through anthropic is 27.79719329954545\n"
     ]
    },
    {
     "data": {
      "image/png": "[encoded data removed]",
      "text/plain": [
       "<Figure size 640x480 with 1 Axes>"
      ]
     },
     "metadata": {},
     "output_type": "display_data"
    }
   ],
   "source": [
    "anthropic_no_error_df = df_4_12.where(df_4_12['response_evaluation'] != \"ERROR\")\n",
    "print(f\"The mean answer generation time through anthropic is {anthropic_no_error_df.loc[:, 'generation_time'].mean()}\")\n",
    "plt.hist(anthropic_no_error_df['generation_time'], range = (0,60))\n",
    "plt.show()"
   ]
  },
  {
   "cell_type": "code",
   "execution_count": 6,
   "id": "66c7f602",
   "metadata": {},
   "outputs": [
    {
     "data": {
      "text/plain": [
       "response_evaluation\n",
       "CORRECT      17\n",
       "INCORRECT     9\n",
       "ERROR         4\n",
       "Name: count, dtype: int64"
      ]
     },
     "execution_count": 6,
     "metadata": {},
     "output_type": "execute_result"
    }
   ],
   "source": [
    "anthropic_df['response_evaluation'].value_counts()"
   ]
  },
  {
   "cell_type": "code",
   "execution_count": 7,
   "id": "922ff2db",
   "metadata": {},
   "outputs": [
    {
     "name": "stdout",
     "output_type": "stream",
     "text": [
      "The mean answer generation time through anthropic is 30.313879820000004\n"
     ]
    },
    {
     "data": {
      "image/png": "[encoded data removed]",
      "text/plain": [
       "<Figure size 640x480 with 1 Axes>"
      ]
     },
     "metadata": {},
     "output_type": "display_data"
    }
   ],
   "source": [
    "anthropic_no_error_df = anthropic_df.where(anthropic_df['response_evaluation']!= \"ERROR\")\n",
    "print(f\"The mean answer generation time through anthropic is {anthropic_no_error_df.loc[:, 'generation_time'].mean()}\")\n",
    "plt.hist(anthropic_no_error_df['generation_time'], range = (0,60))\n",
    "plt.show()"
   ]
  },
  {
   "cell_type": "markdown",
   "id": "fe0fce08",
   "metadata": {},
   "source": [
    "### Preprocessing to combine dfs"
   ]
  },
  {
   "cell_type": "code",
   "execution_count": 3,
   "id": "3b518428",
   "metadata": {},
   "outputs": [
    {
     "data": {
      "text/html": [
       "<div>\n",
       "<style scoped>\n",
       "    .dataframe tbody tr th:only-of-type {\n",
       "        vertical-align: middle;\n",
       "    }\n",
       "\n",
       "    .dataframe tbody tr th {\n",
       "        vertical-align: top;\n",
       "    }\n",
       "\n",
       "    .dataframe thead th {\n",
       "        text-align: right;\n",
       "    }\n",
       "</style>\n",
       "<table border=\"1\" class=\"dataframe\">\n",
       "  <thead>\n",
       "    <tr style=\"text-align: right;\">\n",
       "      <th></th>\n",
       "      <th>input_question</th>\n",
       "      <th>target_mongodb_query</th>\n",
       "      <th>target_answer</th>\n",
       "      <th>predicted_answer</th>\n",
       "      <th>predicted_mongodb_query</th>\n",
       "      <th>anthropic_generation_time</th>\n",
       "      <th>anthropic_mongodb_evaluation</th>\n",
       "      <th>anthropic_mongodb_score</th>\n",
       "      <th>anthropic_response_evaluation</th>\n",
       "      <th>anthropic_response_score</th>\n",
       "      <th>bedrock_generation_time</th>\n",
       "      <th>bedrock_mongodb_evaluation</th>\n",
       "      <th>bedrock_mongodb_score</th>\n",
       "      <th>bedrock_response_evaluation</th>\n",
       "      <th>bedrock_response_score</th>\n",
       "    </tr>\n",
       "  </thead>\n",
       "  <tbody>\n",
       "    <tr>\n",
       "      <th>0</th>\n",
       "      <td>for mouse 721291 can you make a table of sessi...</td>\n",
       "      <td>{\"filter\":{\"subject.subject_id\":\"721291\"},\"pro...</td>\n",
       "      <td>Sessions for Mouse 721291\\n Session, Date, Ses...</td>\n",
       "      <td>I'll create an aggregation pipeline to retriev...</td>\n",
       "      <td>{'filter': {'subject.subject_id': '721291'}, '...</td>\n",
       "      <td>45.258800</td>\n",
       "      <td>CORRECT</td>\n",
       "      <td>1.0</td>\n",
       "      <td>INCORRECT</td>\n",
       "      <td>0.0</td>\n",
       "      <td>27.374631</td>\n",
       "      <td>CORRECT</td>\n",
       "      <td>1.0</td>\n",
       "      <td>INCORRECT</td>\n",
       "      <td>0.0</td>\n",
       "    </tr>\n",
       "    <tr>\n",
       "      <th>1</th>\n",
       "      <td>Tell me about mouse 747107</td>\n",
       "      <td>{\"subject.subject_id\": \"747107\"}</td>\n",
       "      <td>Mouse 747107 is a female Mus musculus with the...</td>\n",
       "      <td>I'll help you retrieve the details for mouse 7...</td>\n",
       "      <td>{'filter': {'subject.subject_id': '747107'}, '...</td>\n",
       "      <td>11.560473</td>\n",
       "      <td>CORRECT</td>\n",
       "      <td>1.0</td>\n",
       "      <td>INCORRECT</td>\n",
       "      <td>0.0</td>\n",
       "      <td>21.749024</td>\n",
       "      <td>CORRECT</td>\n",
       "      <td>1.0</td>\n",
       "      <td>CORRECT</td>\n",
       "      <td>1.0</td>\n",
       "    </tr>\n",
       "    <tr>\n",
       "      <th>2</th>\n",
       "      <td>How many records use the session.data_streams....</td>\n",
       "      <td>{\"agg_pipeline\":[{\"$match\":{\"session.data_stre...</td>\n",
       "      <td>there are 5488 records with session.data_strea...</td>\n",
       "      <td>Here's a query to count records that have a no...</td>\n",
       "      <td>{'agg_pipeline': [{'$match': {'session.data_st...</td>\n",
       "      <td>10.611998</td>\n",
       "      <td>CORRECT</td>\n",
       "      <td>1.0</td>\n",
       "      <td>CORRECT</td>\n",
       "      <td>1.0</td>\n",
       "      <td>19.400605</td>\n",
       "      <td>CORRECT</td>\n",
       "      <td>1.0</td>\n",
       "      <td>CORRECT</td>\n",
       "      <td>1.0</td>\n",
       "    </tr>\n",
       "    <tr>\n",
       "      <th>3</th>\n",
       "      <td>can you tell me how many sessions exist for 77...</td>\n",
       "      <td>filter = {\"subject.subject_id\": \"775745\"}\\npro...</td>\n",
       "      <td>There are 50 sessions for subject 775745</td>\n",
       "      <td>I'll help you count the number of sessions for...</td>\n",
       "      <td>{'agg_pipeline': [{'$match': {'subject.subject...</td>\n",
       "      <td>10.799716</td>\n",
       "      <td>CORRECT</td>\n",
       "      <td>1.0</td>\n",
       "      <td>INCORRECT</td>\n",
       "      <td>0.0</td>\n",
       "      <td>15.529134</td>\n",
       "      <td>CORRECT</td>\n",
       "      <td>1.0</td>\n",
       "      <td>INCORRECT</td>\n",
       "      <td>0.0</td>\n",
       "    </tr>\n",
       "    <tr>\n",
       "      <th>4</th>\n",
       "      <td>Find how many experimental sessions conducted ...</td>\n",
       "      <td>{\"agg_pipeline\":[{\"$match\":{\"$or\":[{\"acquisiti...</td>\n",
       "      <td>86 sessions were conducted by Marton Rozsa</td>\n",
       "      <td>Error: Error code: 400 - {'type': 'error', 'er...</td>\n",
       "      <td>Error: Error code: 400 - {'type': 'error', 'er...</td>\n",
       "      <td>10.799716</td>\n",
       "      <td>ERROR</td>\n",
       "      <td>0.0</td>\n",
       "      <td>ERROR</td>\n",
       "      <td>0.0</td>\n",
       "      <td>15.529134</td>\n",
       "      <td>ERROR</td>\n",
       "      <td>0.0</td>\n",
       "      <td>ERROR</td>\n",
       "      <td>0.0</td>\n",
       "    </tr>\n",
       "  </tbody>\n",
       "</table>\n",
       "</div>"
      ],
      "text/plain": [
       "                                      input_question  \\\n",
       "0  for mouse 721291 can you make a table of sessi...   \n",
       "1                         Tell me about mouse 747107   \n",
       "2  How many records use the session.data_streams....   \n",
       "3  can you tell me how many sessions exist for 77...   \n",
       "4  Find how many experimental sessions conducted ...   \n",
       "\n",
       "                                target_mongodb_query  \\\n",
       "0  {\"filter\":{\"subject.subject_id\":\"721291\"},\"pro...   \n",
       "1                   {\"subject.subject_id\": \"747107\"}   \n",
       "2  {\"agg_pipeline\":[{\"$match\":{\"session.data_stre...   \n",
       "3  filter = {\"subject.subject_id\": \"775745\"}\\npro...   \n",
       "4  {\"agg_pipeline\":[{\"$match\":{\"$or\":[{\"acquisiti...   \n",
       "\n",
       "                                       target_answer  \\\n",
       "0  Sessions for Mouse 721291\\n Session, Date, Ses...   \n",
       "1  Mouse 747107 is a female Mus musculus with the...   \n",
       "2  there are 5488 records with session.data_strea...   \n",
       "3           There are 50 sessions for subject 775745   \n",
       "4         86 sessions were conducted by Marton Rozsa   \n",
       "\n",
       "                                    predicted_answer  \\\n",
       "0  I'll create an aggregation pipeline to retriev...   \n",
       "1  I'll help you retrieve the details for mouse 7...   \n",
       "2  Here's a query to count records that have a no...   \n",
       "3  I'll help you count the number of sessions for...   \n",
       "4  Error: Error code: 400 - {'type': 'error', 'er...   \n",
       "\n",
       "                             predicted_mongodb_query  \\\n",
       "0  {'filter': {'subject.subject_id': '721291'}, '...   \n",
       "1  {'filter': {'subject.subject_id': '747107'}, '...   \n",
       "2  {'agg_pipeline': [{'$match': {'session.data_st...   \n",
       "3  {'agg_pipeline': [{'$match': {'subject.subject...   \n",
       "4  Error: Error code: 400 - {'type': 'error', 'er...   \n",
       "\n",
       "   anthropic_generation_time anthropic_mongodb_evaluation  \\\n",
       "0                  45.258800                      CORRECT   \n",
       "1                  11.560473                      CORRECT   \n",
       "2                  10.611998                      CORRECT   \n",
       "3                  10.799716                      CORRECT   \n",
       "4                  10.799716                        ERROR   \n",
       "\n",
       "   anthropic_mongodb_score anthropic_response_evaluation  \\\n",
       "0                      1.0                     INCORRECT   \n",
       "1                      1.0                     INCORRECT   \n",
       "2                      1.0                       CORRECT   \n",
       "3                      1.0                     INCORRECT   \n",
       "4                      0.0                         ERROR   \n",
       "\n",
       "   anthropic_response_score  bedrock_generation_time  \\\n",
       "0                       0.0                27.374631   \n",
       "1                       0.0                21.749024   \n",
       "2                       1.0                19.400605   \n",
       "3                       0.0                15.529134   \n",
       "4                       0.0                15.529134   \n",
       "\n",
       "  bedrock_mongodb_evaluation  bedrock_mongodb_score  \\\n",
       "0                    CORRECT                    1.0   \n",
       "1                    CORRECT                    1.0   \n",
       "2                    CORRECT                    1.0   \n",
       "3                    CORRECT                    1.0   \n",
       "4                      ERROR                    0.0   \n",
       "\n",
       "  bedrock_response_evaluation  bedrock_response_score  \n",
       "0                   INCORRECT                     0.0  \n",
       "1                     CORRECT                     1.0  \n",
       "2                     CORRECT                     1.0  \n",
       "3                   INCORRECT                     0.0  \n",
       "4                       ERROR                     0.0  "
      ]
     },
     "execution_count": 3,
     "metadata": {},
     "output_type": "execute_result"
    }
   ],
   "source": [
    "combined_df = anthropic_df.rename(\n",
    "    columns={\n",
    "        \"generation_time\": \"anthropic_generation_time\",\n",
    "        \"mongodb_evaluation\": \"anthropic_mongodb_evaluation\",\n",
    "        \"mongodb_score\": \"anthropic_mongodb_score\",\n",
    "        \"response_evaluation\": \"anthropic_response_evaluation\",\n",
    "        \"response_score\": \"anthropic_response_score\",\n",
    "    }\n",
    ")\n",
    "\n",
    "bedrock_df = bedrock_df.rename(\n",
    "    columns={\n",
    "        \"generation_time\": \"bedrock_generation_time\",\n",
    "        \"mongodb_evaluation\": \"bedrock_mongodb_evaluation\",\n",
    "        \"mongodb_score\": \"bedrock_mongodb_score\",\n",
    "        \"response_evaluation\": \"bedrock_response_evaluation\",\n",
    "        \"response_score\": \"bedrock_response_score\",\n",
    "    }\n",
    ")\n",
    "\n",
    "combined_df[\"bedrock_generation_time\"] = bedrock_df[\"bedrock_generation_time\"]\n",
    "combined_df[\"bedrock_mongodb_evaluation\"] = bedrock_df[\"bedrock_mongodb_evaluation\"]\n",
    "combined_df[\"bedrock_mongodb_score\"] = bedrock_df[\"bedrock_mongodb_score\"]\n",
    "combined_df[\"bedrock_response_evaluation\"] = bedrock_df[\"bedrock_response_evaluation\"]\n",
    "combined_df[\"bedrock_response_score\"] = bedrock_df[\"bedrock_response_score\"]\n",
    "\n",
    "combined_df.head(5)"
   ]
  },
  {
   "cell_type": "code",
   "execution_count": 4,
   "id": "b7c83e89",
   "metadata": {},
   "outputs": [
    {
     "data": {
      "text/plain": [
       "(45, 15)"
      ]
     },
     "execution_count": 4,
     "metadata": {},
     "output_type": "execute_result"
    }
   ],
   "source": [
    "combined_df.shape"
   ]
  },
  {
   "cell_type": "markdown",
   "id": "bc2a4213",
   "metadata": {},
   "source": [
    "## Analysis"
   ]
  },
  {
   "cell_type": "code",
   "execution_count": 5,
   "id": "cfd281f3",
   "metadata": {},
   "outputs": [
    {
     "data": {
      "text/plain": [
       "anthropic_mongodb_evaluation\n",
       "CORRECT      22\n",
       "INCORRECT    14\n",
       "ERROR         9\n",
       "Name: count, dtype: int64"
      ]
     },
     "execution_count": 5,
     "metadata": {},
     "output_type": "execute_result"
    }
   ],
   "source": [
    "combined_df['anthropic_mongodb_evaluation'].value_counts()"
   ]
  },
  {
   "cell_type": "code",
   "execution_count": 6,
   "id": "630e3cfa",
   "metadata": {},
   "outputs": [
    {
     "data": {
      "text/plain": [
       "bedrock_mongodb_evaluation\n",
       "CORRECT      23\n",
       "INCORRECT    12\n",
       "ERROR        10\n",
       "Name: count, dtype: int64"
      ]
     },
     "execution_count": 6,
     "metadata": {},
     "output_type": "execute_result"
    }
   ],
   "source": [
    "combined_df['bedrock_mongodb_evaluation'].value_counts()"
   ]
  },
  {
   "cell_type": "code",
   "execution_count": 8,
   "id": "841e3b50",
   "metadata": {},
   "outputs": [
    {
     "data": {
      "text/plain": [
       "anthropic_response_evaluation\n",
       "INCORRECT    31\n",
       "ERROR         8\n",
       "CORRECT       6\n",
       "Name: count, dtype: int64"
      ]
     },
     "execution_count": 8,
     "metadata": {},
     "output_type": "execute_result"
    }
   ],
   "source": [
    "combined_df['anthropic_response_evaluation'].value_counts()"
   ]
  },
  {
   "cell_type": "code",
   "execution_count": 7,
   "id": "2f63a799",
   "metadata": {},
   "outputs": [
    {
     "data": {
      "text/plain": [
       "bedrock_response_evaluation\n",
       "CORRECT      24\n",
       "INCORRECT    11\n",
       "ERROR        10\n",
       "Name: count, dtype: int64"
      ]
     },
     "execution_count": 7,
     "metadata": {},
     "output_type": "execute_result"
    }
   ],
   "source": [
    "combined_df['bedrock_response_evaluation'].value_counts()"
   ]
  },
  {
   "cell_type": "code",
   "execution_count": null,
   "id": "93aad1fd",
   "metadata": {},
   "outputs": [],
   "source": []
  }
 ],
 "metadata": {
  "kernelspec": {
   "display_name": "venv",
   "language": "python",
   "name": "python3"
  },
  "language_info": {
   "codemirror_mode": {
    "name": "ipython",
    "version": 3
   },
   "file_extension": ".py",
   "mimetype": "text/x-python",
   "name": "python",
   "nbconvert_exporter": "python",
   "pygments_lexer": "ipython3",
   "version": "3.11.0"
  }
 },
 "nbformat": 4,
 "nbformat_minor": 5
}
