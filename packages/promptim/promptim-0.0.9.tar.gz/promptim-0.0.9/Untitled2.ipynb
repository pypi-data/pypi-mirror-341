{
 "cells": [
  {
   "cell_type": "code",
   "execution_count": 1,
   "id": "74d3e162-0d9b-439f-88c6-379f4f939609",
   "metadata": {},
   "outputs": [],
   "source": [
    "from trustcall import create_extractor\n",
    "\n",
    "\n",
    "def save_memory(content: str, reason: str):\n",
    "    \"\"\"Save memories about the user.\"\"\"\n",
    "\n",
    "\n",
    "extractor = create_extractor(\n",
    "    \"fireworks:accounts/fireworks/models/deepseek-r1\",\n",
    "    tools=[save_memory],\n",
    "    tool_choice=\"save_memory\",\n",
    ")"
   ]
  },
  {
   "cell_type": "code",
   "execution_count": null,
   "id": "6e4a4916-7bb8-497f-81c9-1c5148583d9d",
   "metadata": {},
   "outputs": [],
   "source": []
  }
 ],
 "metadata": {
  "kernelspec": {
   "display_name": "Python 3 (ipykernel)",
   "language": "python",
   "name": "python3"
  },
  "language_info": {
   "codemirror_mode": {
    "name": "ipython",
    "version": 3
   },
   "file_extension": ".py",
   "mimetype": "text/x-python",
   "name": "python",
   "nbconvert_exporter": "python",
   "pygments_lexer": "ipython3",
   "version": "3.11.2"
  }
 },
 "nbformat": 4,
 "nbformat_minor": 5
}
