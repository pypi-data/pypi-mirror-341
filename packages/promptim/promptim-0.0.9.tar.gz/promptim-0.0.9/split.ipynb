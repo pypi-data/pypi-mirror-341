{
 "cells": [
  {
   "cell_type": "code",
   "execution_count": 2,
   "id": "88606690-802c-45f1-9381-36c7462594e8",
   "metadata": {},
   "outputs": [],
   "source": [
    "import random\n",
    "\n",
    "import langsmith as ls\n",
    "\n",
    "client = ls.Client()\n",
    "examples = list(client.list_examples(dataset_name=\"email_cs_10\"))\n",
    "random.shuffle(examples)\n",
    "splits = (0.30, 0.40, 0.30)\n",
    "\n",
    "acc = 0\n",
    "data = []\n",
    "for split in splits:\n",
    "    st = int(acc * len(examples))\n",
    "    end = int((acc + split) * len(examples))\n",
    "    data.append(examples[st:end])\n",
    "    acc += split"
   ]
  },
  {
   "cell_type": "code",
   "execution_count": 3,
   "id": "32eb68af-d210-46c6-98da-02c535d257d3",
   "metadata": {},
   "outputs": [],
   "source": []
  },
  {
   "cell_type": "code",
   "execution_count": 7,
   "id": "81b5fdc3-e65e-4ef0-95ad-d89625efa909",
   "metadata": {},
   "outputs": [],
   "source": []
  },
  {
   "cell_type": "code",
   "execution_count": 18,
   "id": "77b8b859-48bb-4458-a5bf-7f81e02d28ac",
   "metadata": {},
   "outputs": [
    {
     "data": {
      "text/plain": [
       "{'ankush',\n",
       " 'ben',\n",
       " 'harrison',\n",
       " 'jerry',\n",
       " 'julia',\n",
       " 'miles',\n",
       " 'nuno',\n",
       " 'sarah',\n",
       " 'tom',\n",
       " 'will'}"
      ]
     },
     "execution_count": 18,
     "metadata": {},
     "output_type": "execute_result"
    }
   ],
   "source": [
    "{e.outputs[\"route_to\"] for e in data[0]}"
   ]
  },
  {
   "cell_type": "code",
   "execution_count": 9,
   "id": "1d10e05d-50d1-4a5f-8d00-096d6202849b",
   "metadata": {},
   "outputs": [
    {
     "data": {
      "text/plain": [
       "[54, 72, 55]"
      ]
     },
     "execution_count": 9,
     "metadata": {},
     "output_type": "execute_result"
    }
   ],
   "source": [
    "list(map(len, data))"
   ]
  },
  {
   "cell_type": "code",
   "execution_count": 17,
   "id": "c6eb0127-bda6-40b5-bd47-b7d1a8d9350b",
   "metadata": {},
   "outputs": [],
   "source": [
    "for name, split in zip([\"train\", \"dev\", \"test\"], data):\n",
    "    for e in split:\n",
    "        client.update_example(e.id, split=name)"
   ]
  }
 ],
 "metadata": {
  "kernelspec": {
   "display_name": "Python 3 (ipykernel)",
   "language": "python",
   "name": "python3"
  },
  "language_info": {
   "codemirror_mode": {
    "name": "ipython",
    "version": 3
   },
   "file_extension": ".py",
   "mimetype": "text/x-python",
   "name": "python",
   "nbconvert_exporter": "python",
   "pygments_lexer": "ipython3",
   "version": "3.11.2"
  }
 },
 "nbformat": 4,
 "nbformat_minor": 5
}
