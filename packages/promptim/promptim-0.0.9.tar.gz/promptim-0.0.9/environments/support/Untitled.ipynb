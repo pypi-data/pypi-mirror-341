{
 "cells": [
  {
   "cell_type": "code",
   "execution_count": 7,
   "id": "46ddff0a-4dd0-4b8e-8de9-41907ad14d00",
   "metadata": {},
   "outputs": [
    {
     "name": "stdout",
     "output_type": "stream",
     "text": [
      "Found 1230 runs\n"
     ]
    }
   ],
   "source": [
    "import langsmith as ls\n",
    "\n",
    "client = ls.Client()\n",
    "experiment = \"kind-cat-98\"\n",
    "runs = list(client.list_runs(project_name=experiment, is_root=True))\n",
    "print(f\"Found {len(runs)} runs\")"
   ]
  },
  {
   "cell_type": "code",
   "execution_count": 8,
   "id": "01b15dbc-afcf-43bc-aab4-9c871e4c8f28",
   "metadata": {},
   "outputs": [],
   "source": [
    "from collections import defaultdict\n",
    "\n",
    "d = defaultdict(list)\n",
    "for r in runs:\n",
    "    d[r.reference_example_id].append(r.feedback_stats[\"quality\"][\"avg\"])"
   ]
  },
  {
   "cell_type": "code",
   "execution_count": 15,
   "id": "0fafd7ba-b931-4098-9748-45dfb84b10a3",
   "metadata": {},
   "outputs": [
    {
     "data": {
      "text/plain": [
       "UUID('9268a6ce-4ce0-4e34-8f31-b38595b4f1a0')"
      ]
     },
     "execution_count": 15,
     "metadata": {},
     "output_type": "execute_result"
    }
   ],
   "source": [
    "hardest[0][0]"
   ]
  },
  {
   "cell_type": "code",
   "execution_count": 16,
   "id": "5f9e700b-2f6b-4d5e-88ff-0d8493262ae7",
   "metadata": {},
   "outputs": [],
   "source": [
    "import statistics\n",
    "from collections import Counter\n",
    "\n",
    "nopass = list(set([k for k, v in d.items() if not any(s == 1.0 for s in v)]))\n",
    "avg = [(k, statistics.mean(v)) for k, v in d.items()]\n",
    "hardest = sorted(avg, key=lambda x: x[1])[:150]\n",
    "hardest_set = {e[0] for e in hardest}\n",
    "ex = client.read_example(hardest[0][0])\n",
    "examples = [\n",
    "    e for e in client.list_examples(dataset_id=ex.dataset_id) if e.id in hardest_set\n",
    "]\n",
    "users = list({e.metadata[\"user_id\"] for e in examples})"
   ]
  },
  {
   "cell_type": "code",
   "execution_count": 18,
   "id": "b3edfcce-7ad9-4a86-a48a-0bb2f4299aa6",
   "metadata": {},
   "outputs": [
    {
     "name": "stdout",
     "output_type": "stream",
     "text": [
      "0 6\n",
      "6 14\n",
      "14 20\n"
     ]
    }
   ],
   "source": [
    "import random\n",
    "\n",
    "users = list({e.metadata[\"user_id\"] for e in examples})\n",
    "random.shuffle(users)\n",
    "collected = []\n",
    "cum = 0\n",
    "splits = (0.3, 0.4, 0.3)\n",
    "for line in splits:\n",
    "    start, end = int(len(users) * (cum)), int(len(users) * (cum + line))\n",
    "    collected.append(users[start:end])\n",
    "    cum += line\n",
    "train, dev, test = collected\n",
    "umap = {\n",
    "    uid: split\n",
    "    for split, uids in zip([\"train\", \"dev\", \"test\"], collected)\n",
    "    for uid in uids\n",
    "}"
   ]
  },
  {
   "cell_type": "code",
   "execution_count": 19,
   "id": "4f0ca7cc-c2fb-4972-bf52-d14fba60ef84",
   "metadata": {},
   "outputs": [],
   "source": [
    "splits_examples = defaultdict(list)\n",
    "for e in examples:\n",
    "    splits_examples[umap[e.metadata[\"user_id\"]]].append(e)"
   ]
  },
  {
   "cell_type": "code",
   "execution_count": 20,
   "id": "fa4e1f65-8811-437b-b65b-133ec23304f2",
   "metadata": {},
   "outputs": [
    {
     "name": "stdout",
     "output_type": "stream",
     "text": [
      "dev Counter({'marketing': 25, 'hardware/device issues': 21, 'community management': 11, 'bug reports': 1})\n",
      "train Counter({'marketing': 23, 'hardware/device issues': 22, 'community management': 9, 'bug reports': 2})\n",
      "test Counter({'marketing': 17, 'community management': 9, 'hardware/device issues': 9, 'bug reports': 1})\n"
     ]
    }
   ],
   "source": [
    "for k, v in splits_examples.items():\n",
    "    print(k, Counter([e.metadata[\"category\"] for e in v]))"
   ]
  },
  {
   "cell_type": "code",
   "execution_count": 23,
   "id": "5703e410-f66b-48e7-85ad-b137b5d0963b",
   "metadata": {},
   "outputs": [],
   "source": [
    "new_dataset_name = \"CS Simulations\"\n",
    "if client.has_dataset(dataset_name=new_dataset_name):\n",
    "    client.delete_dataset(dataset_name=new_dataset_name)\n",
    "ds = client.create_dataset(dataset_name=new_dataset_name)\n",
    "for split_name, examples in splits_examples.items():\n",
    "    client.create_examples(\n",
    "        inputs=[{\"messages\": e.inputs[\"messages\"]} for e in examples],\n",
    "        outputs=[e.outputs for e in examples],\n",
    "        metadata=[e.metadata for e in examples],\n",
    "        splits=[split_name] * len(examples),\n",
    "        dataset_id=ds.id,\n",
    "    )"
   ]
  },
  {
   "cell_type": "code",
   "execution_count": null,
   "id": "655d2974-a94f-432d-9ae8-4e48127d5c29",
   "metadata": {},
   "outputs": [],
   "source": []
  }
 ],
 "metadata": {
  "kernelspec": {
   "display_name": "Python 3 (ipykernel)",
   "language": "python",
   "name": "python3"
  },
  "language_info": {
   "codemirror_mode": {
    "name": "ipython",
    "version": 3
   },
   "file_extension": ".py",
   "mimetype": "text/x-python",
   "name": "python",
   "nbconvert_exporter": "python",
   "pygments_lexer": "ipython3",
   "version": "3.11.2"
  }
 },
 "nbformat": 4,
 "nbformat_minor": 5
}
